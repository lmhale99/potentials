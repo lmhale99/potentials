{
 "cells": [
  {
   "cell_type": "markdown",
   "metadata": {},
   "source": [
    "# Database class\n",
    "\n",
    "This Notebook outlines the Database class, which allows for users to interact with the https://potentials.nist.gov CDCS database.\n",
    "\n",
    "Currently, the database class provides in-depth support for the following types of records\n",
    "- __citations__, which contain bibliographic information for the articles associated with interatomic potentials.\n",
    "- __potentials__, which provides the description of the different interatomic models as it appears on the NIST Interatomic Potentials Repository.\n",
    "- __lammps_potentials__, which provides metadata information for generating LAMMPS input command lines for the LAMMPS compatible potential implementations.\n",
    "- __records__, which has generic methods for exploring any type of record in the database.  This allows for searches beyond the pre-defined capabilites for the above types. \n",
    "\n"
   ]
  },
  {
   "cell_type": "markdown",
   "metadata": {},
   "source": [
    "Library imports"
   ]
  },
  {
   "cell_type": "code",
   "execution_count": 1,
   "metadata": {},
   "outputs": [],
   "source": [
    "try:\n",
    "    # Check if potentials has been installed\n",
    "    import potentials\n",
    "except:\n",
    "    # Install if need be and print message\n",
    "    !pip install potentials\n",
    "    print('!!!!! RESTART NOTEBOOK KERNEL TO USE POTENTIALS !!!!!')\n",
    "     \n",
    "else:\n",
    "    # Other imports\n",
    "    import time\n",
    "    from pathlib import Path\n",
    "    from IPython.core.display import display, HTML"
   ]
  },
  {
   "cell_type": "markdown",
   "metadata": {},
   "source": [
    "## 1. Database initialization\n",
    "\n",
    "The potentials.Database() class serves as the primary means of accessing records from the potentials database. Depending on the initialization settings, the class can access records from a CDCS instance and/or from a local directory. \n",
    "\n",
    "Parameters\n",
    "\n",
    "- __host__ (*str, optional*) CDCS site to access.  Default value is 'https://potentials.nist.gov/'.\n",
    "- __username__ (*str, optional*) User name to use to access the host site.  Default value of '' will access the site as an anonymous visitor.\n",
    "- __password__ (*str, optional*) Password associated with the given username.  Not needed for anonymous access.\n",
    "- __certification__ (*str, optional*) File path to certification file if needed for host.\n",
    "- __localpath__ (*str, optional*) Path to the local library directory to use.  If not given, will use the set library_directory setting.\n",
    "- __verbose__ (*bool, optional*) If True, info messages will be printed during operations.  Default value is False.\n",
    "- __local__ (*bool, optional*) Indicates if the load operations will check localpath for records. Default value is controlled by settings.\n",
    "- __remote__ (*bool, optional*) Indicates if the load operations will download records from the remote database.  Default value is controlled by settings.  If a local copy exists, then setting this to False is considerably faster.\n",
    "- __load__ (*bool, str or list, optional*) If True, citations, potentials and lammps_potentials will all be loaded during initialization. If False (default), none will be loaded.  Alternatively, a str or list can be given to specify which of the three record types to load.\n",
    "- __status__ (*str, list or None, optional*) Only potential_LAMMPS records with the given status(es) will be loaded.  Allowed values are 'active' (default), 'superseded', and 'retracted'.  If None is given, then all potentials will be loaded."
   ]
  },
  {
   "cell_type": "markdown",
   "metadata": {},
   "source": [
    "### Option #1: Default , no pre-loading\n",
    "\n",
    "By default, no records will be pre-loaded into memory.  This makes the initialization step fast, but all subsequent searches much slower.  Ideally, this is best for simple web-style apps where only a small number of record searches is expected.\n",
    "\n",
    "__NOTE__: the get_potential(s) and get_lammps_potential(s) will only perform remote queries and will *not* explore local records if those types of records are not pre-loaded."
   ]
  },
  {
   "cell_type": "code",
   "execution_count": 5,
   "metadata": {},
   "outputs": [
    {
     "name": "stdout",
     "output_type": "stream",
     "text": [
      "init took 0.0029921531677246094 seconds\n"
     ]
    }
   ],
   "source": [
    "s = time.time()\n",
    "\n",
    "db = potentials.Database()\n",
    "\n",
    "print(f'init took {time.time()-s} seconds')"
   ]
  },
  {
   "cell_type": "code",
   "execution_count": 10,
   "metadata": {},
   "outputs": [
    {
     "name": "stdout",
     "output_type": "stream",
     "text": [
      "init took 0.33158183097839355 seconds\n"
     ]
    }
   ],
   "source": [
    "s = time.time()\n",
    "\n",
    "with open('C:/Users/lmh1/Documents/potentials_nist_gov/password.txt') as f:\n",
    "    user, pswd = f.read().strip().split()\n",
    "db = potentials.Database(username=user, password=pswd)\n",
    "\n",
    "print(f'init took {time.time()-s} seconds')"
   ]
  },
  {
   "cell_type": "markdown",
   "metadata": {},
   "source": [
    "### Option #2: Pre-loading records\n",
    "\n",
    "Specifying load=True, or load=[styles] will build a list of loaded records first by checking the local directory path, then records from the remote database for citations, potentials and/or lammps_potentials.  For records in both locations, the local versions are given precedence to allow for user-defined changes.  \n",
    "\n",
    "The loading may take about a minute or so, but all searches after will be much faster as they will operate on records stored in memory. This is best for users who wish to combine local records with remote records, or who want to perform more involved explorations involving multiple queries to the associated records.\n",
    "\n",
    "__NOTE__: Records can also be (re)loaded after initialization by calling the load_all(), load_citations(), load_potentials() and load_lammps_potentials() methods."
   ]
  },
  {
   "cell_type": "code",
   "execution_count": 6,
   "metadata": {},
   "outputs": [
    {
     "name": "stdout",
     "output_type": "stream",
     "text": [
      "Loaded 0 local citations\n",
      "Loaded 0 remote citations\n",
      "No citations loaded\n",
      "Loaded 0 local potentials\n",
      "Loaded 0 remote potentials\n",
      "No potentials loaded\n",
      "Loaded 276 local LAMMPS potentials\n",
      "Loaded 0 remote LAMMPS potentials\n",
      " - 0 new\n",
      "init took 13.700106859207153 seconds\n"
     ]
    }
   ],
   "source": [
    "s = time.time()\n",
    "\n",
    "db_loaded = potentials.Database(load=True, verbose=True)\n",
    "\n",
    "print(f'init took {time.time()-s} seconds')"
   ]
  },
  {
   "cell_type": "code",
   "execution_count": 14,
   "metadata": {},
   "outputs": [
    {
     "name": "stdout",
     "output_type": "stream",
     "text": [
      "Loaded 333 local citations\n",
      "Loaded 333 remote citations\n",
      " - 0 new\n",
      "Loaded 294 local potentials\n",
      "Loaded 294 remote potentials\n",
      " - 0 new\n",
      "Loaded 279 local LAMMPS potentials\n",
      "Loaded 279 remote LAMMPS potentials\n",
      " - 0 new\n",
      "init took 71.06241106987 seconds\n"
     ]
    }
   ],
   "source": [
    "s = time.time()\n",
    "\n",
    "with open('C:/Users/lmh1/Documents/potentials_nist_gov/password.txt') as f:\n",
    "    user, pswd = f.read().strip().split()\n",
    "db_loaded = potentials.Database(username=user, password=pswd, load=True, verbose=True)\n",
    "\n",
    "print(f'init took {time.time()-s} seconds')"
   ]
  },
  {
   "cell_type": "markdown",
   "metadata": {},
   "source": [
    "### Option #3: Local-only\n",
    "\n",
    "Remote queries can be turned off by setting the remote parameter to False either in the default settings or during database initialization.  This allows for only a local copy of the database to be used for those who wish to run offline as much as possible.  "
   ]
  },
  {
   "cell_type": "code",
   "execution_count": 12,
   "metadata": {},
   "outputs": [
    {
     "name": "stdout",
     "output_type": "stream",
     "text": [
      "333 citations saved to localpath\n",
      " - 333 duplicate citations skipped\n",
      "294 potentials saved to localpath\n",
      " - 294 existing potentials updated\n",
      "279 LAMMPS potentials saved to localpath\n",
      " - 279 existing potentials updated\n",
      " - 279 potentials had no files to copy\n"
     ]
    }
   ],
   "source": [
    "# Use the above database to download records to the library directory\n",
    "db.download_all(indent=4, format='json', verbose=True, getfiles=False)"
   ]
  },
  {
   "cell_type": "markdown",
   "metadata": {},
   "source": [
    "With the database copied locally, turning off remote is faster and is entirely offline."
   ]
  },
  {
   "cell_type": "code",
   "execution_count": 13,
   "metadata": {},
   "outputs": [
    {
     "name": "stdout",
     "output_type": "stream",
     "text": [
      "Loaded 333 local citations\n",
      "Loaded 294 local potentials\n",
      "Loaded 279 local LAMMPS potentials\n",
      "init took 8.821527481079102 seconds\n"
     ]
    }
   ],
   "source": [
    "s = time.time()\n",
    "\n",
    "db_local = potentials.Database(load=True, remote=False, verbose=True)\n",
    "\n",
    "print(f'init took {time.time()-s} seconds')"
   ]
  },
  {
   "cell_type": "markdown",
   "metadata": {},
   "source": [
    "### Option #3: Local-only\n",
    "\n",
    "Giving a localpath allows for the database to interact with a local directory as well as https://potentials.nist.gov. This allows for\n",
    "\n",
    "- the creation of a local copy of https://potentials.nist.gov by downloading all records, and \n",
    "- user-defined/modified potentials to be integrated in with the hosted ones.\n",
    "\n",
    "NOTE: Searching the local records requires that they first be loaded. During loading, the local records are accessed before the remote ones. If the names of any records from the two locations are the same, the local versions are retained in the loaded set."
   ]
  },
  {
   "cell_type": "code",
   "execution_count": 5,
   "metadata": {},
   "outputs": [
    {
     "name": "stdout",
     "output_type": "stream",
     "text": [
      "Loaded 276 local citations\n",
      "Loaded 0 remote citations\n",
      " - 0 new\n",
      "Loaded 289 local potentials\n",
      "Loaded 0 remote potentials\n",
      " - 0 new\n",
      "Loaded 273 local LAMMPS potentials\n",
      "Loaded 0 remote LAMMPS potentials\n",
      " - 0 new\n",
      "init took 21.867387056350708 seconds\n"
     ]
    }
   ],
   "source": [
    "s = time.time()\n",
    "\n",
    "db_remote_local = potentials.Database(localpath=localpath, load=True, verbose=True)\n",
    "\n",
    "print(f'init took {time.time()-s} seconds')"
   ]
  },
  {
   "cell_type": "markdown",
   "metadata": {},
   "source": [
    "## 2. Get methods\n",
    "\n",
    "The available records can be searched through to find matches using various get methods."
   ]
  },
  {
   "cell_type": "markdown",
   "metadata": {},
   "source": [
    "### 2.1 get_citation()\n",
    "\n",
    "Allows for searching the citations. get_citation() returns a single citation for a given DOI. The function first checks the loaded citations, then checks https://potentials.nist.gov, then checks CrossRef for a match."
   ]
  },
  {
   "cell_type": "code",
   "execution_count": 17,
   "metadata": {},
   "outputs": [
    {
     "name": "stdout",
     "output_type": "stream",
     "text": [
      "C:\\Users\\lmh1\\Documents\\library\\Citation\\10.1016_j.actamat.2003.11.026.*\n",
      "Citation retrieved from local file 10.1016_j.actamat.2003.11.026.bib\n"
     ]
    }
   ],
   "source": [
    "cit = db.get_citation('10.1016/j.actamat.2003.11.026', verbose=True)"
   ]
  },
  {
   "cell_type": "code",
   "execution_count": 16,
   "metadata": {},
   "outputs": [
    {
     "name": "stdout",
     "output_type": "stream",
     "text": [
      "[<potentials.Citation.Citation object at 0x0000028CE4A246C8>]\n",
      "Citation retrieved from loaded citations\n"
     ]
    }
   ],
   "source": [
    "cit = db_loaded.get_citation('10.1016/j.actamat.2003.11.026', verbose=True)"
   ]
  },
  {
   "cell_type": "markdown",
   "metadata": {},
   "source": [
    "The returned Citation object allows for the content to be retrieved as a bibtex string, a Python dictionary, or as formatted html."
   ]
  },
  {
   "cell_type": "code",
   "execution_count": 18,
   "metadata": {},
   "outputs": [
    {
     "name": "stdout",
     "output_type": "stream",
     "text": [
      "@article{Mishin_2004,\n",
      " abstract = {A new embedded-atom potential has been developed for Ni3Al by fitting to experimental and first-principles data. The potential describes lattice properties of Ni3Al, point defects, planar faults, as well as the γ and γ′ fields on the Ni–Al phase diagram. The potential is applied to calculate the energies of coherent Ni/Ni3Al interphase boundaries with three different crystallographic orientations. Depending on the orientation, the interface energy varies between 12 and 46 mJ/m2. Coherent γ/γ′ interfaces existing at high temperatures are shown to be more diffuse and are likely to have a lower energy than Ni/Ni3Al interfaces.},\n",
      " author = {Y. Mishin},\n",
      " doi = {10.1016/j.actamat.2003.11.026},\n",
      " journal = {Acta Materialia},\n",
      " month = {apr},\n",
      " number = {6},\n",
      " pages = {1451--1467},\n",
      " publisher = {Elsevier BV},\n",
      " title = {Atomistic modeling of the γ and γ'-phases of the Ni-Al system},\n",
      " url = {https://doi.org/10.1016%2Fj.actamat.2003.11.026},\n",
      " volume = {52},\n",
      " year = {2004}\n",
      "}\n",
      "\n",
      "\n"
     ]
    }
   ],
   "source": [
    "print(cit.bibtex)"
   ]
  },
  {
   "cell_type": "code",
   "execution_count": 19,
   "metadata": {},
   "outputs": [
    {
     "data": {
      "text/plain": [
       "{'ENTRYTYPE': 'article',\n",
       " 'ID': 'Mishin_2004',\n",
       " 'abstract': 'A new embedded-atom potential has been developed for Ni3Al by fitting to experimental and first-principles data. The potential describes lattice properties of Ni3Al, point defects, planar faults, as well as the γ and γ′ fields on the Ni–Al phase diagram. The potential is applied to calculate the energies of coherent Ni/Ni3Al interphase boundaries with three different crystallographic orientations. Depending on the orientation, the interface energy varies between 12 and 46 mJ/m2. Coherent γ/γ′ interfaces existing at high temperatures are shown to be more diffuse and are likely to have a lower energy than Ni/Ni3Al interfaces.',\n",
       " 'author': 'Y. Mishin',\n",
       " 'doi': '10.1016/j.actamat.2003.11.026',\n",
       " 'journal': 'Acta Materialia',\n",
       " 'month': 'apr',\n",
       " 'number': '6',\n",
       " 'pages': '1451--1467',\n",
       " 'publisher': 'Elsevier BV',\n",
       " 'title': \"Atomistic modeling of the γ and γ'-phases of the Ni-Al system\",\n",
       " 'url': 'https://doi.org/10.1016%2Fj.actamat.2003.11.026',\n",
       " 'volume': '52',\n",
       " 'year': '2004'}"
      ]
     },
     "execution_count": 19,
     "metadata": {},
     "output_type": "execute_result"
    }
   ],
   "source": [
    "cit.asdict()"
   ]
  },
  {
   "cell_type": "code",
   "execution_count": 20,
   "metadata": {},
   "outputs": [
    {
     "data": {
      "text/html": [
       "Y. Mishin (2004), \"Atomistic modeling of the γ and γ'-phases of the Ni-Al system\", <i>Acta Materialia</i>, <b>52(6)</b>, 1451--1467. DOI: <a href=\"https://doi.org/10.1016/j.actamat.2003.11.026\">10.1016/j.actamat.2003.11.026</a><br/><b>Abstract:</b> A new embedded-atom potential has been developed for Ni3Al by fitting to experimental and first-principles data. The potential describes lattice properties of Ni3Al, point defects, planar faults, as well as the γ and γ′ fields on the Ni–Al phase diagram. The potential is applied to calculate the energies of coherent Ni/Ni3Al interphase boundaries with three different crystallographic orientations. Depending on the orientation, the interface energy varies between 12 and 46 mJ/m2. Coherent γ/γ′ interfaces existing at high temperatures are shown to be more diffuse and are likely to have a lower energy than Ni/Ni3Al interfaces."
      ],
      "text/plain": [
       "<IPython.core.display.HTML object>"
      ]
     },
     "metadata": {},
     "output_type": "display_data"
    }
   ],
   "source": [
    "display(HTML(cit.html()))"
   ]
  },
  {
   "cell_type": "markdown",
   "metadata": {},
   "source": [
    "### 2.2 get_potentials(), get_potential()\n",
    "\n",
    "Allows for searching the hosted potentials and viewing the descriptions hosted on the NIST Interatomic Potentials Repository.  get_potentials() always returns a list of matches, while get_potential() returns a single match if exactly one is found and throws an error otherwise.\n",
    "\n",
    "- __id__ (*str or list, optional*) Potential ID(s) to search for.  These are unique identifiers derived from the publication information and the elemental system being modeled.\n",
    "\n",
    "- __key__ (*str or list, optional*) UUID4 key(s) to search for.  Each entry has a unique random-generated UUID4 key.\n",
    "\n",
    "- __author__ (*str or list, optional*) Author string(s) to search for.\n",
    "\n",
    "- __year__ (*int or list, optional*) Publication year(s) to search for.\n",
    "\n",
    "- __element__ (*str or list, optional*) Element model(s) to search for.\n",
    "\n",
    "- __localpath__ (*str, optional*) Path to a local directory to check for records first.  If not given, will check localpath value set during object initialization.  If not given or set during initialization, then only the remote database will be loaded.\n",
    "\n",
    "- __verbose__ (*bool, optional*) If True, info messages will be printed during operations.  Default value is False.\n"
   ]
  },
  {
   "cell_type": "code",
   "execution_count": 21,
   "metadata": {},
   "outputs": [
    {
     "name": "stdout",
     "output_type": "stream",
     "text": [
      "2003--Mendelev-M-I-Han-S-Srolovitz-D-J-et-al--Fe-2\n",
      "2003--Mendelev-M-I-Han-S-Srolovitz-D-J-et-al--Fe-5\n",
      "2007--Mendelev-M-I-Han-S-Son-W-et-al--V-Fe\n"
     ]
    }
   ],
   "source": [
    "# Get all Mendelev Fe potentials from 2003 and 2007\n",
    "pots = db_loaded.get_potentials(author='Mendelev', element='Fe', year=[2003, 2007])\n",
    "for pot in pots:\n",
    "    print(pot.id)"
   ]
  },
  {
   "cell_type": "code",
   "execution_count": 22,
   "metadata": {},
   "outputs": [
    {
     "name": "stdout",
     "output_type": "stream",
     "text": [
      "1999--Mishin-Y-Farkas-D-Mehl-M-J-Papaconstantopoulos-D-A--Al\n"
     ]
    }
   ],
   "source": [
    "# Get the Mishin Al potential from 1999\n",
    "pot = db_loaded.get_potential(author='Mishin', element='Al', year=1999)\n",
    "print(pot.id)"
   ]
  },
  {
   "cell_type": "markdown",
   "metadata": {},
   "source": [
    "The returned Potential object(s) can be viewed as HTML"
   ]
  },
  {
   "cell_type": "code",
   "execution_count": 23,
   "metadata": {},
   "outputs": [
    {
     "data": {
      "text/html": [
       "<h3>1999--Mishin-Y-Farkas-D-Mehl-M-J-Papaconstantopoulos-D-A--Al</h3><b>Citation:</b> Y. Mishin, D. Farkas, M.J. Mehl and D.A. Papaconstantopoulos (1999), \"Interatomic potentials for monoatomic metals from experimental data and ab initio calculations\", <i>Physical Review B</i>, <b>59(5)</b>, 3393--3407. DOI: <a href=\"https://doi.org/10.1103/physrevb.59.3393\">10.1103/physrevb.59.3393</a><br/><b>Abstract:</b> We demonstrate an approach to the development of many-body interatomic potentials for monoatomic metals with improved accuracy and reliability. The functional form of the potentials is that of the embedded-atom method, but the interesting features are as follows: (1) The database used for the development of a potential includes both experimental data and a large set of energies of different alternative crystalline structures of the material generated by ab initio calculations. We introduce a rescaling of interatomic distances in an attempt to improve the compatibility between experimental and ab initio data. (2) The optimum parametrization of the potential for the given database is obtained by alternating the fitting and testing steps. The testing step includes a comparison between the ab initio structural energies and those predicted by the potential. This strategy allows us to achieve the best accuracy of fitting within the intrinsic limitations of the potential model. Using this approach we develop reliable interatomic potentials for Al and Ni. The potentials accurately reproduce basic equilibrium properties of these metals, the elastic constants, the phonon-dispersion curves, the vacancy formation and migration energies, the stacking fault energies, and the surface energies. They also predict the right relative stability of different alternative structures with coordination numbers ranging from 12 to 4. The potentials are expected to be easily transferable to different local environments encountered in atomistic simulations of lattice defects.</br>\n",
       "</br><b>EAM tabulated functions</b> (1999--Mishin-Y--Al--table--ipr1)<br/>\n",
       "<b>Notes:</b> These files were provided by Yuri Mishin.</br>\n",
       "<b>Files:</b><br/>\n",
       "F(&rho;):: <a href=\"https://www.ctcms.nist.gov/potentials/Download/1999--Mishin-Y-Farkas-D-Mehl-M-J-Papaconstantopoulos-D-A--Al/1/F_al.plt\">F_al.plt</a><br/>\n",
       "&rho;(r):: <a href=\"https://www.ctcms.nist.gov/potentials/Download/1999--Mishin-Y-Farkas-D-Mehl-M-J-Papaconstantopoulos-D-A--Al/1/fal.plt\">fal.plt</a><br/>\n",
       "&phi;(r):: <a href=\"https://www.ctcms.nist.gov/potentials/Download/1999--Mishin-Y-Farkas-D-Mehl-M-J-Papaconstantopoulos-D-A--Al/1/pal_m.plt\">pal_m.plt</a><br/>\n",
       "</br><b>LAMMPS pair_style eam/alloy</b> (1999--Mishin-Y--Al--LAMMPS--ipr1)<br/>\n",
       "<b>Notes:</b> This conversion was produced by Chandler Becker on 30 December 2008 from the plt files listed above. This version is compatible with LAMMPS. Validation and usage information can be found in Al99_releaseNotes_1.pdf. If you use this setfl file, please credit the website in addition to the original reference.</br>\n",
       "<b>Files:</b><br/>\n",
       "<a href=\"https://www.ctcms.nist.gov/potentials/Download/1999--Mishin-Y-Farkas-D-Mehl-M-J-Papaconstantopoulos-D-A--Al/2/Al99.eam.alloy\">Al99.eam.alloy</a><br/>\n",
       "<a href=\"https://www.ctcms.nist.gov/potentials/Download/1999--Mishin-Y-Farkas-D-Mehl-M-J-Papaconstantopoulos-D-A--Al/2/Al99_releaseNotes_1.pdf\">Al99_releaseNotes_1.pdf</a><br/>\n"
      ],
      "text/plain": [
       "<IPython.core.display.HTML object>"
      ]
     },
     "metadata": {},
     "output_type": "display_data"
    }
   ],
   "source": [
    "display(HTML(pot.html()))"
   ]
  },
  {
   "cell_type": "markdown",
   "metadata": {},
   "source": [
    "Individual values can also be accessed as attributes. All associated attributes can be seen using asdict()"
   ]
  },
  {
   "cell_type": "code",
   "execution_count": 24,
   "metadata": {},
   "outputs": [
    {
     "name": "stdout",
     "output_type": "stream",
     "text": [
      "{'key': '0c2ddffb-e644-4e5c-8e53-9bf722bb5dee', 'id': '1999--Mishin-Y-Farkas-D-Mehl-M-J-Papaconstantopoulos-D-A--Al', 'recorddate': datetime.date(2018, 8, 15), 'notes': None, 'fictional': False, 'elements': ['Al'], 'othername': None, 'modelname': None, 'citations': [<potentials.Citation.Citation object at 0x0000028CE2FCBE48>], 'implementations': [<potentials.Implementation.Implementation object at 0x0000028CE32ACB88>, <potentials.Implementation.Implementation object at 0x0000028CE477C208>]}\n"
     ]
    }
   ],
   "source": [
    "print(pot.asdict())"
   ]
  },
  {
   "cell_type": "code",
   "execution_count": 25,
   "metadata": {},
   "outputs": [
    {
     "name": "stdout",
     "output_type": "stream",
     "text": [
      "2018-08-15\n"
     ]
    }
   ],
   "source": [
    "print(pot.recorddate)"
   ]
  },
  {
   "cell_type": "markdown",
   "metadata": {},
   "source": [
    "### 2.3 get_lammps_potentials(), get_lammps_potential()\n",
    "\n",
    "Allows for searching the LAMMPS potential records that assist with building LAMMPS input command lines, as well as the downloading/locating of LAMMPS potential parameter files.  get_lammps_potentials() always returns a list of matches, while get_lammps_potential() returns a single match if exactly one is found and throws an error otherwise.\n",
    "\n",
    "- __id__ (*str or list, optional*) The id value(s) to limit the search by.\n",
    "        \n",
    "- __key__ (*str or list, optional*) The key value(s) to limit the search by.\n",
    "        \n",
    "- __potid__ (*str or list, optional*) The potid value(s) to limit the search by.\n",
    "        \n",
    "- __potkey__ (*str or list, optional*) The potkey value(s) to limit the search by.\n",
    "        \n",
    "- __status__ (*str or list, optional*) The status value(s) to limit the search by.\n",
    "        \n",
    "- __pair_style__ (*str or list, optional*) The pair_style value(s) to limit the search by.\n",
    "        \n",
    "- __element__ (*str or list, optional*) The included elemental model(s) to limit the search by.\n",
    "        \n",
    "- __symbol__ (*str or list, optional*) The included symbol model(s) to limit the search by.\n",
    "        \n",
    "- __verbose__ (*bool, optional*) If True, informative print statements will be used.\n",
    "        \n",
    "- __get_files__ (*bool, optional*) If True, then the parameter files for the matching potentials will also be retrieved and copied to the working directory. If False (default) and the parameter files are in the library, then the returned objects' pot_dir path will be set appropriately."
   ]
  },
  {
   "cell_type": "code",
   "execution_count": 26,
   "metadata": {},
   "outputs": [
    {
     "name": "stdout",
     "output_type": "stream",
     "text": [
      "2006--Murdick-D-A--Ga-As--LAMMPS--ipr1\n",
      "2012--Ward-D-K--Cd-Te--LAMMPS--ipr1\n",
      "2012--Ward-D-K--Cd-Te-Zn--LAMMPS--ipr1\n",
      "2013--Ward-D-K--Cd-Te-Zn--LAMMPS--ipr1\n",
      "2014--Zhou-X-W--Cd-Te-Se--LAMMPS--ipr1\n",
      "2015--Zhou-X-W--C--LAMMPS--ipr1\n",
      "2015--Zhou-X-W--C-Cu--LAMMPS--ipr1\n",
      "2015--Zhou-X-W--Cu-H--LAMMPS--ipr1\n",
      "2016--Zhou-X-W--Al-Cu--LAMMPS--ipr2\n",
      "2018--Zhou-X-W--Al-Cu-H--LAMMPS--ipr1\n"
     ]
    }
   ],
   "source": [
    "# Get all potentials with the bop pair style\n",
    "lmppots = db_loaded.get_lammps_potentials(pair_style='bop')\n",
    "for lmppot in lmppots:\n",
    "    print(lmppot.id)"
   ]
  },
  {
   "cell_type": "code",
   "execution_count": 27,
   "metadata": {},
   "outputs": [
    {
     "name": "stdout",
     "output_type": "stream",
     "text": [
      "1999--Mishin-Y--Al--LAMMPS--ipr1\n"
     ]
    }
   ],
   "source": [
    "# Get the LAMMPS potential associated with the 1999 Mishin Al potential found above\n",
    "lmppot = db_loaded.get_lammps_potential(potkey=pot.key)\n",
    "print(lmppot.id)"
   ]
  },
  {
   "cell_type": "markdown",
   "metadata": {},
   "source": [
    "The returned LAMMPSPotential object(s) can be used to generate LAMMPS command lines for the potential.  If the parameter files for the LAMMPS potential are located in the localpath directory, then the command lines will point to the correct location."
   ]
  },
  {
   "cell_type": "code",
   "execution_count": 28,
   "metadata": {},
   "outputs": [
    {
     "name": "stdout",
     "output_type": "stream",
     "text": [
      "mass 1 26.982\n",
      "\n",
      "pair_style eam/alloy\n",
      "pair_coeff * * C:\\Users\\lmh1\\Documents\\library\\potential_LAMMPS\\1999--Mishin-Y--Al--LAMMPS--ipr1\\Al99.eam.alloy Al\n",
      "\n"
     ]
    }
   ],
   "source": [
    "print(lmppot.pair_info())"
   ]
  },
  {
   "cell_type": "code",
   "execution_count": 29,
   "metadata": {},
   "outputs": [
    {
     "name": "stdout",
     "output_type": "stream",
     "text": [
      "mass 1 26.982\n",
      "mass 2 26.982\n",
      "\n",
      "pair_style eam/alloy\n",
      "pair_coeff * * C:\\Users\\lmh1\\Documents\\library\\potential_LAMMPS\\1999--Mishin-Y--Al--LAMMPS--ipr1\\Al99.eam.alloy Al Al\n",
      "\n"
     ]
    }
   ],
   "source": [
    "print(lmppot.pair_info(symbols=['Al', 'Al']))"
   ]
  },
  {
   "cell_type": "markdown",
   "metadata": {},
   "source": [
    "If the parameter files have not been downloaded, or you want to copy them to the working directory, then you can use the get_files setting."
   ]
  },
  {
   "cell_type": "code",
   "execution_count": 30,
   "metadata": {},
   "outputs": [
    {
     "name": "stdout",
     "output_type": "stream",
     "text": [
      "1 matching LAMMPS potentials found from loaded records\n",
      "Files for 1 LAMMPS potentials copied\n",
      "Files for 0 LAMMPS potentials downloaded\n",
      "mass 1 26.982\n",
      "\n",
      "pair_style eam/alloy\n",
      "pair_coeff * * 1999--Mishin-Y--Al--LAMMPS--ipr1\\Al99.eam.alloy Al\n",
      "\n"
     ]
    }
   ],
   "source": [
    "lmppot = db_loaded.get_lammps_potential(potkey=pot.key, get_files=True, verbose=True)\n",
    "print(lmppot.pair_info())"
   ]
  },
  {
   "cell_type": "markdown",
   "metadata": {},
   "source": [
    "## 3. Custom searches\n",
    "\n",
    "The Database class also provides access to the underlying tools used to perform the database searches.\n",
    "\n",
    "- __Database.citations_df, Database.potentials_df, and Database.lammps_potentials_df__ if records of the given style have been loaded, then these are pandas.DataFrame containing the dictionary representations of all the loaded record objects.\n",
    "\n",
    "- __Database.citations, Database.potentials, and Database.lammps_potentials__: if records of the given style have been loaded, then these are numpy arrays containing all the loaded record objects.  The order of the records in these arrays is the same as in the corresponding DataFrames, so any conditional searches on the DataFrame values can be directly applied to these arrays.\n",
    "\n",
    "- __Database.cdcs__ : the underlying cdcs.CDCS API client. Accessing this directly allows for custom-built queries and rest calls to be constructed."
   ]
  },
  {
   "cell_type": "code",
   "execution_count": 31,
   "metadata": {},
   "outputs": [
    {
     "data": {
      "text/html": [
       "<div>\n",
       "<style scoped>\n",
       "    .dataframe tbody tr th:only-of-type {\n",
       "        vertical-align: middle;\n",
       "    }\n",
       "\n",
       "    .dataframe tbody tr th {\n",
       "        vertical-align: top;\n",
       "    }\n",
       "\n",
       "    .dataframe thead th {\n",
       "        text-align: right;\n",
       "    }\n",
       "</style>\n",
       "<table border=\"1\" class=\"dataframe\">\n",
       "  <thead>\n",
       "    <tr style=\"text-align: right;\">\n",
       "      <th></th>\n",
       "      <th>id</th>\n",
       "      <th>key</th>\n",
       "      <th>potid</th>\n",
       "      <th>potkey</th>\n",
       "      <th>units</th>\n",
       "      <th>atom_style</th>\n",
       "      <th>allsymbols</th>\n",
       "      <th>pair_style</th>\n",
       "      <th>status</th>\n",
       "      <th>symbols</th>\n",
       "      <th>elements</th>\n",
       "      <th>masses</th>\n",
       "      <th>charges</th>\n",
       "    </tr>\n",
       "  </thead>\n",
       "  <tbody>\n",
       "    <tr>\n",
       "      <td>0</td>\n",
       "      <td>1985--Foiles-S-M--Ni-Cu--LAMMPS--ipr1</td>\n",
       "      <td>062d2ba7-3903-40ae-a772-daa471d107c6</td>\n",
       "      <td>1985--Foiles-S-M--Ni-Cu</td>\n",
       "      <td>301f04ce-9082-4542-8590-489300cd19e8</td>\n",
       "      <td>metal</td>\n",
       "      <td>atomic</td>\n",
       "      <td>False</td>\n",
       "      <td>eam</td>\n",
       "      <td>active</td>\n",
       "      <td>[Cu, Ni]</td>\n",
       "      <td>[Cu, Ni]</td>\n",
       "      <td>[63.55, 58.71]</td>\n",
       "      <td>[0.0, 0.0]</td>\n",
       "    </tr>\n",
       "    <tr>\n",
       "      <td>1</td>\n",
       "      <td>1985--Stillinger-F-H--Si--LAMMPS--ipr1</td>\n",
       "      <td>d085648c-b3ef-4be8-824b-7093fd22770a</td>\n",
       "      <td>1985--Stillinger-F-H-Weber-T-A--Si</td>\n",
       "      <td>edc31ad6-2b9a-455c-9b5f-e888a672ecbd</td>\n",
       "      <td>metal</td>\n",
       "      <td>atomic</td>\n",
       "      <td>False</td>\n",
       "      <td>sw</td>\n",
       "      <td>active</td>\n",
       "      <td>[Si]</td>\n",
       "      <td>[Si]</td>\n",
       "      <td>[28.085]</td>\n",
       "      <td>[0.0]</td>\n",
       "    </tr>\n",
       "    <tr>\n",
       "      <td>2</td>\n",
       "      <td>1986--Foiles-S-M--Ag--LAMMPS--ipr1</td>\n",
       "      <td>76a265fc-45ff-49d7-8c64-2044f12402f2</td>\n",
       "      <td>1986--Foiles-S-M-Baskes-M-I-Daw-M-S--Ag</td>\n",
       "      <td>672d54f8-9f48-4200-af56-8a7378ebbc4a</td>\n",
       "      <td>metal</td>\n",
       "      <td>atomic</td>\n",
       "      <td>False</td>\n",
       "      <td>eam</td>\n",
       "      <td>active</td>\n",
       "      <td>[Ag]</td>\n",
       "      <td>[Ag]</td>\n",
       "      <td>[107.87]</td>\n",
       "      <td>[0.0]</td>\n",
       "    </tr>\n",
       "    <tr>\n",
       "      <td>3</td>\n",
       "      <td>1986--Foiles-S-M--Ag-Au-Cu-Ni-Pd-Pt--LAMMPS--ipr1</td>\n",
       "      <td>c5afa7e8-6b3b-49cd-ad1c-ae3e4329363a</td>\n",
       "      <td>1986--Foiles-S-M-Baskes-M-I-Daw-M-S--Ag-Au-Cu-...</td>\n",
       "      <td>7a1302de-59cf-4efb-900e-cad845b68ee5</td>\n",
       "      <td>metal</td>\n",
       "      <td>atomic</td>\n",
       "      <td>False</td>\n",
       "      <td>eam</td>\n",
       "      <td>active</td>\n",
       "      <td>[Ag, Au, Cu, Ni, Pd, Pt]</td>\n",
       "      <td>[Ag, Au, Cu, Ni, Pd, Pt]</td>\n",
       "      <td>[107.87, 196.97, 63.55, 58.71, 106.4, 195.09]</td>\n",
       "      <td>[0.0, 0.0, 0.0, 0.0, 0.0, 0.0]</td>\n",
       "    </tr>\n",
       "    <tr>\n",
       "      <td>4</td>\n",
       "      <td>1986--Foiles-S-M--Au--LAMMPS--ipr1</td>\n",
       "      <td>c588810a-b96d-4871-bfe2-cff8a5a7c709</td>\n",
       "      <td>1986--Foiles-S-M-Baskes-M-I-Daw-M-S--Au</td>\n",
       "      <td>ffb66faa-319d-4556-8363-dad3959cd553</td>\n",
       "      <td>metal</td>\n",
       "      <td>atomic</td>\n",
       "      <td>False</td>\n",
       "      <td>eam</td>\n",
       "      <td>active</td>\n",
       "      <td>[Au]</td>\n",
       "      <td>[Au]</td>\n",
       "      <td>[196.97]</td>\n",
       "      <td>[0.0]</td>\n",
       "    </tr>\n",
       "    <tr>\n",
       "      <td>...</td>\n",
       "      <td>...</td>\n",
       "      <td>...</td>\n",
       "      <td>...</td>\n",
       "      <td>...</td>\n",
       "      <td>...</td>\n",
       "      <td>...</td>\n",
       "      <td>...</td>\n",
       "      <td>...</td>\n",
       "      <td>...</td>\n",
       "      <td>...</td>\n",
       "      <td>...</td>\n",
       "      <td>...</td>\n",
       "      <td>...</td>\n",
       "    </tr>\n",
       "    <tr>\n",
       "      <td>274</td>\n",
       "      <td>2019--Mendelev-M-I--Cu-Zr--LAMMPS--ipr1</td>\n",
       "      <td>73d03486-1b34-4a24-b1d2-4da253abdda0</td>\n",
       "      <td>2019--Mendelev-M-I--Cu-Zr</td>\n",
       "      <td>2e5ed18c-5fb4-46e4-ae7a-5f50d9429d95</td>\n",
       "      <td>metal</td>\n",
       "      <td>atomic</td>\n",
       "      <td>False</td>\n",
       "      <td>eam/fs</td>\n",
       "      <td>active</td>\n",
       "      <td>[Cu, Zr]</td>\n",
       "      <td>[Cu, Zr]</td>\n",
       "      <td>[63.546, 91.224]</td>\n",
       "      <td>[0.0, 0.0]</td>\n",
       "    </tr>\n",
       "    <tr>\n",
       "      <td>275</td>\n",
       "      <td>2019--Mendelev-M-I--Fe-Ni-Cr--LAMMPS--ipr1</td>\n",
       "      <td>43aa1b40-dce4-48cf-8e4f-fb0e079180b6</td>\n",
       "      <td>2019--Mendelev-M-I--Fe-Ni-Cr</td>\n",
       "      <td>6c5d342a-7e25-467f-a234-d937301f6bc4</td>\n",
       "      <td>metal</td>\n",
       "      <td>atomic</td>\n",
       "      <td>False</td>\n",
       "      <td>eam/fs</td>\n",
       "      <td>active</td>\n",
       "      <td>[Fe, Ni, Cr]</td>\n",
       "      <td>[Fe, Ni, Cr]</td>\n",
       "      <td>[55.845, 58.6934, 51.9961]</td>\n",
       "      <td>[0.0, 0.0, 0.0]</td>\n",
       "    </tr>\n",
       "    <tr>\n",
       "      <td>276</td>\n",
       "      <td>2020--Byggmastar-J--Fe--LAMMPS--ipr1</td>\n",
       "      <td>a1d123a0-eba2-4271-962c-720d9d564a9b</td>\n",
       "      <td>2020--Byggmastar-J-Granberg-F--Fe</td>\n",
       "      <td>114b0f72-8f6d-4ac1-82fb-ac15fd6b7bde</td>\n",
       "      <td>metal</td>\n",
       "      <td>atomic</td>\n",
       "      <td>False</td>\n",
       "      <td>tersoff/zbl</td>\n",
       "      <td>active</td>\n",
       "      <td>[Fe]</td>\n",
       "      <td>[Fe]</td>\n",
       "      <td>[55.845]</td>\n",
       "      <td>[0.0]</td>\n",
       "    </tr>\n",
       "    <tr>\n",
       "      <td>277</td>\n",
       "      <td>2020--Starikov-S--Si-Au-Al--LAMMPS--ipr1</td>\n",
       "      <td>6ea50417-2147-4d53-871c-0a289656f794</td>\n",
       "      <td>2020--Starikov-S-Gordeev-I-Lysogorskiy-Y-et-al...</td>\n",
       "      <td>e5d06433-937f-4deb-916a-531f6cbb9ed6</td>\n",
       "      <td>metal</td>\n",
       "      <td>atomic</td>\n",
       "      <td>False</td>\n",
       "      <td>adp</td>\n",
       "      <td>active</td>\n",
       "      <td>[Si, Au, Al]</td>\n",
       "      <td>[Si, Au, Al]</td>\n",
       "      <td>[28.084, 196.967, 26.98]</td>\n",
       "      <td>[0.0, 0.0, 0.0]</td>\n",
       "    </tr>\n",
       "    <tr>\n",
       "      <td>278</td>\n",
       "      <td>2021--Wang-G--Au-Rh--LAMMPS--ipr1</td>\n",
       "      <td>f8f52d2e-597d-435a-926a-09f38094b1da</td>\n",
       "      <td>2021--Wang-G-Xu-Y-Qian-P-Su-Y--Au-Rh</td>\n",
       "      <td>ccd7fceb-a257-40df-812b-b1326955bff1</td>\n",
       "      <td>metal</td>\n",
       "      <td>atomic</td>\n",
       "      <td>False</td>\n",
       "      <td>adp</td>\n",
       "      <td>active</td>\n",
       "      <td>[Au, Rh]</td>\n",
       "      <td>[Au, Rh]</td>\n",
       "      <td>[196.9666, 102.9055]</td>\n",
       "      <td>[0.0, 0.0]</td>\n",
       "    </tr>\n",
       "  </tbody>\n",
       "</table>\n",
       "<p>279 rows × 13 columns</p>\n",
       "</div>"
      ],
      "text/plain": [
       "                                                    id  \\\n",
       "0                1985--Foiles-S-M--Ni-Cu--LAMMPS--ipr1   \n",
       "1               1985--Stillinger-F-H--Si--LAMMPS--ipr1   \n",
       "2                   1986--Foiles-S-M--Ag--LAMMPS--ipr1   \n",
       "3    1986--Foiles-S-M--Ag-Au-Cu-Ni-Pd-Pt--LAMMPS--ipr1   \n",
       "4                   1986--Foiles-S-M--Au--LAMMPS--ipr1   \n",
       "..                                                 ...   \n",
       "274            2019--Mendelev-M-I--Cu-Zr--LAMMPS--ipr1   \n",
       "275         2019--Mendelev-M-I--Fe-Ni-Cr--LAMMPS--ipr1   \n",
       "276               2020--Byggmastar-J--Fe--LAMMPS--ipr1   \n",
       "277           2020--Starikov-S--Si-Au-Al--LAMMPS--ipr1   \n",
       "278                  2021--Wang-G--Au-Rh--LAMMPS--ipr1   \n",
       "\n",
       "                                      key  \\\n",
       "0    062d2ba7-3903-40ae-a772-daa471d107c6   \n",
       "1    d085648c-b3ef-4be8-824b-7093fd22770a   \n",
       "2    76a265fc-45ff-49d7-8c64-2044f12402f2   \n",
       "3    c5afa7e8-6b3b-49cd-ad1c-ae3e4329363a   \n",
       "4    c588810a-b96d-4871-bfe2-cff8a5a7c709   \n",
       "..                                    ...   \n",
       "274  73d03486-1b34-4a24-b1d2-4da253abdda0   \n",
       "275  43aa1b40-dce4-48cf-8e4f-fb0e079180b6   \n",
       "276  a1d123a0-eba2-4271-962c-720d9d564a9b   \n",
       "277  6ea50417-2147-4d53-871c-0a289656f794   \n",
       "278  f8f52d2e-597d-435a-926a-09f38094b1da   \n",
       "\n",
       "                                                 potid  \\\n",
       "0                              1985--Foiles-S-M--Ni-Cu   \n",
       "1                   1985--Stillinger-F-H-Weber-T-A--Si   \n",
       "2              1986--Foiles-S-M-Baskes-M-I-Daw-M-S--Ag   \n",
       "3    1986--Foiles-S-M-Baskes-M-I-Daw-M-S--Ag-Au-Cu-...   \n",
       "4              1986--Foiles-S-M-Baskes-M-I-Daw-M-S--Au   \n",
       "..                                                 ...   \n",
       "274                          2019--Mendelev-M-I--Cu-Zr   \n",
       "275                       2019--Mendelev-M-I--Fe-Ni-Cr   \n",
       "276                  2020--Byggmastar-J-Granberg-F--Fe   \n",
       "277  2020--Starikov-S-Gordeev-I-Lysogorskiy-Y-et-al...   \n",
       "278               2021--Wang-G-Xu-Y-Qian-P-Su-Y--Au-Rh   \n",
       "\n",
       "                                   potkey  units atom_style  allsymbols  \\\n",
       "0    301f04ce-9082-4542-8590-489300cd19e8  metal     atomic       False   \n",
       "1    edc31ad6-2b9a-455c-9b5f-e888a672ecbd  metal     atomic       False   \n",
       "2    672d54f8-9f48-4200-af56-8a7378ebbc4a  metal     atomic       False   \n",
       "3    7a1302de-59cf-4efb-900e-cad845b68ee5  metal     atomic       False   \n",
       "4    ffb66faa-319d-4556-8363-dad3959cd553  metal     atomic       False   \n",
       "..                                    ...    ...        ...         ...   \n",
       "274  2e5ed18c-5fb4-46e4-ae7a-5f50d9429d95  metal     atomic       False   \n",
       "275  6c5d342a-7e25-467f-a234-d937301f6bc4  metal     atomic       False   \n",
       "276  114b0f72-8f6d-4ac1-82fb-ac15fd6b7bde  metal     atomic       False   \n",
       "277  e5d06433-937f-4deb-916a-531f6cbb9ed6  metal     atomic       False   \n",
       "278  ccd7fceb-a257-40df-812b-b1326955bff1  metal     atomic       False   \n",
       "\n",
       "      pair_style  status                   symbols                  elements  \\\n",
       "0            eam  active                  [Cu, Ni]                  [Cu, Ni]   \n",
       "1             sw  active                      [Si]                      [Si]   \n",
       "2            eam  active                      [Ag]                      [Ag]   \n",
       "3            eam  active  [Ag, Au, Cu, Ni, Pd, Pt]  [Ag, Au, Cu, Ni, Pd, Pt]   \n",
       "4            eam  active                      [Au]                      [Au]   \n",
       "..           ...     ...                       ...                       ...   \n",
       "274       eam/fs  active                  [Cu, Zr]                  [Cu, Zr]   \n",
       "275       eam/fs  active              [Fe, Ni, Cr]              [Fe, Ni, Cr]   \n",
       "276  tersoff/zbl  active                      [Fe]                      [Fe]   \n",
       "277          adp  active              [Si, Au, Al]              [Si, Au, Al]   \n",
       "278          adp  active                  [Au, Rh]                  [Au, Rh]   \n",
       "\n",
       "                                            masses  \\\n",
       "0                                   [63.55, 58.71]   \n",
       "1                                         [28.085]   \n",
       "2                                         [107.87]   \n",
       "3    [107.87, 196.97, 63.55, 58.71, 106.4, 195.09]   \n",
       "4                                         [196.97]   \n",
       "..                                             ...   \n",
       "274                               [63.546, 91.224]   \n",
       "275                     [55.845, 58.6934, 51.9961]   \n",
       "276                                       [55.845]   \n",
       "277                       [28.084, 196.967, 26.98]   \n",
       "278                           [196.9666, 102.9055]   \n",
       "\n",
       "                            charges  \n",
       "0                        [0.0, 0.0]  \n",
       "1                             [0.0]  \n",
       "2                             [0.0]  \n",
       "3    [0.0, 0.0, 0.0, 0.0, 0.0, 0.0]  \n",
       "4                             [0.0]  \n",
       "..                              ...  \n",
       "274                      [0.0, 0.0]  \n",
       "275                 [0.0, 0.0, 0.0]  \n",
       "276                           [0.0]  \n",
       "277                 [0.0, 0.0, 0.0]  \n",
       "278                      [0.0, 0.0]  \n",
       "\n",
       "[279 rows x 13 columns]"
      ]
     },
     "execution_count": 31,
     "metadata": {},
     "output_type": "execute_result"
    }
   ],
   "source": [
    "db_loaded.lammps_potentials_df"
   ]
  },
  {
   "cell_type": "markdown",
   "metadata": {},
   "source": [
    "## 4. Other database records\n",
    "\n",
    "https://potentials.nist.gov contains other records than the three primary potentials-centric styles. The Database class has some basic methods supporting these other record types as well.\n",
    "\n",
    "- __download_records()__ allowing all records of a given template (style) to be downloaded to the localpath.\n",
    "\n",
    "- __get_record()__ allowing a single record of a given template to be retrieved by name either from localpath or the remote database.  The retrieved record is returned as a DataModelDict.DataModelDict object.\n",
    "\n"
   ]
  },
  {
   "cell_type": "markdown",
   "metadata": {},
   "source": [
    "  "
   ]
  }
 ],
 "metadata": {
  "kernelspec": {
   "display_name": "Python 3",
   "language": "python",
   "name": "python3"
  },
  "language_info": {
   "codemirror_mode": {
    "name": "ipython",
    "version": 3
   },
   "file_extension": ".py",
   "mimetype": "text/x-python",
   "name": "python",
   "nbconvert_exporter": "python",
   "pygments_lexer": "ipython3",
   "version": "3.7.4"
  }
 },
 "nbformat": 4,
 "nbformat_minor": 4
}
