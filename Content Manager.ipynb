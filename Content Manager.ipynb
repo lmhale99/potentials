{
 "cells": [
  {
   "cell_type": "markdown",
   "metadata": {},
   "source": [
    "# Interatomic Potential Repository Content Manager\n",
    "\n",
    "This is a working Notebook providing a single location for adding and modifying content in the potentials.nist.gov database.\n",
    "\n",
    "Notebook outline:\n",
    "\n",
    "0. Setup: Python library imports and defining global parameters.\n",
    "\n",
    "1. Citations: Load, add and modify citation information associated with potential models. Each potential should have at least one citation, with the first being the \"primary\" one for generating IDs. For unpublished potentials, use the unpublished citation option.\n",
    "\n",
    "2. Potentials: Load, add and modify potential information.  A \"potential\" should be a unique parameterization with an associated citation. Note that saving to the database is done in step #4.\n",
    "\n",
    "3. Implementations: Load, add and modify the implementations of a potential. An \"implementation\" is a specific version/representation of a potential in a specific format. Each potential can have zero, one or multiple implementations.\n",
    "\n",
    "4. Save potentials: Review the new/modified potentials and save the content to the database.\n",
    "\n",
    "5. Actions: Actions are used to list changes to the repository. If a potential is added/modified, a corresponding action should also be added.\n",
    "\n",
    "6. Requests: A request is listed on the repository whenever someone asks for a model that we do not have."
   ]
  },
  {
   "cell_type": "markdown",
   "metadata": {},
   "source": [
    "## 0. Setup"
   ]
  },
  {
   "cell_type": "markdown",
   "metadata": {},
   "source": [
    "### Library imports"
   ]
  },
  {
   "cell_type": "code",
   "execution_count": 1,
   "metadata": {},
   "outputs": [],
   "source": [
    "import uuid\n",
    "import datetime\n",
    "import shutil\n",
    "from pathlib import Path\n",
    "\n",
    "import potentials\n",
    "\n",
    "import numpy as np\n",
    "\n",
    "# Jupyter display libraries\n",
    "from IPython.core.display import display, HTML"
   ]
  },
  {
   "cell_type": "markdown",
   "metadata": {},
   "source": [
    "### Global parameters\n",
    "\n",
    "- __complete_potentials__ is a compiled list of the potentials whose addition/changes were uploaded to the database.  This is used by step #5 for reporting website changes.  This should be reset after creating an Action for meaningful sets of potentials.\n",
    "\n",
    "- __db__ is the Database object for accessing and uploading records to the database.  __Note__: you must have an account on potentials.nist.gov and sign in to be able to add or modify content.\n",
    "\n",
    "- __workspace__ is the workspace to assign to the uploaded records.  If None, then they are only accessible to the submitter until the workspace is changed."
   ]
  },
  {
   "cell_type": "code",
   "execution_count": 2,
   "metadata": {},
   "outputs": [],
   "source": [
    "complete_potentials = []"
   ]
  },
  {
   "cell_type": "code",
   "execution_count": 3,
   "metadata": {},
   "outputs": [
    {
     "name": "stdout",
     "output_type": "stream",
     "text": [
      "Enter password for lmh1 @ https://potentials.nist.gov:········\n",
      "{'detail': 'Invalid username/password.'}\n"
     ]
    },
    {
     "ename": "HTTPError",
     "evalue": "401 Client Error: Unauthorized for url: https://potentials.nist.gov/rest/data/?title=ARBITRARYNONEXISTANTTITLE",
     "output_type": "error",
     "traceback": [
      "\u001b[1;31m---------------------------------------------------------------------------\u001b[0m",
      "\u001b[1;31mHTTPError\u001b[0m                                 Traceback (most recent call last)",
      "\u001b[1;32m<ipython-input-3-5272ac748089>\u001b[0m in \u001b[0;36m<module>\u001b[1;34m\u001b[0m\n\u001b[1;32m----> 1\u001b[1;33m \u001b[0mdb\u001b[0m \u001b[1;33m=\u001b[0m \u001b[0mpotentials\u001b[0m\u001b[1;33m.\u001b[0m\u001b[0mDatabase\u001b[0m\u001b[1;33m(\u001b[0m\u001b[0musername\u001b[0m\u001b[1;33m=\u001b[0m\u001b[1;34m'lmh1'\u001b[0m\u001b[1;33m)\u001b[0m\u001b[1;33m\u001b[0m\u001b[1;33m\u001b[0m\u001b[0m\n\u001b[0m",
      "\u001b[1;32mE:\\Python-packages\\potentials\\potentials\\Database\\__init__.py\u001b[0m in \u001b[0;36m__init__\u001b[1;34m(self, host, username, password, certification, localpath, verbose, local, remote, load, status)\u001b[0m\n\u001b[0;32m     86\u001b[0m         \u001b[1;31m# Create the underlying CDCS client\u001b[0m\u001b[1;33m\u001b[0m\u001b[1;33m\u001b[0m\u001b[1;33m\u001b[0m\u001b[0m\n\u001b[0;32m     87\u001b[0m         self.__cdcs = CDCS(host=host, username=username, password=password,\n\u001b[1;32m---> 88\u001b[1;33m                            certification=certification)\n\u001b[0m\u001b[0;32m     89\u001b[0m \u001b[1;33m\u001b[0m\u001b[0m\n\u001b[0;32m     90\u001b[0m         \u001b[1;31m# Define class attributes\u001b[0m\u001b[1;33m\u001b[0m\u001b[1;33m\u001b[0m\u001b[1;33m\u001b[0m\u001b[0m\n",
      "\u001b[1;32me:\\python-packages\\pycdcs\\cdcs\\CDCS\\__init__.py\u001b[0m in \u001b[0;36m__init__\u001b[1;34m(self, host, cdcsversion, username, password, certification)\u001b[0m\n\u001b[0;32m     40\u001b[0m         \u001b[1;31m# Call RestClient's init\u001b[0m\u001b[1;33m\u001b[0m\u001b[1;33m\u001b[0m\u001b[1;33m\u001b[0m\u001b[0m\n\u001b[0;32m     41\u001b[0m         super().__init__(host, username=username, password=password,\n\u001b[1;32m---> 42\u001b[1;33m                  certification=certification)\n\u001b[0m\u001b[0;32m     43\u001b[0m \u001b[1;33m\u001b[0m\u001b[0m\n\u001b[0;32m     44\u001b[0m     \u001b[1;31m# Import defined methods\u001b[0m\u001b[1;33m\u001b[0m\u001b[1;33m\u001b[0m\u001b[1;33m\u001b[0m\u001b[0m\n",
      "\u001b[1;32me:\\python-packages\\pycdcs\\cdcs\\RestClient.py\u001b[0m in \u001b[0;36m__init__\u001b[1;34m(self, host, username, password, certification)\u001b[0m\n\u001b[0;32m     31\u001b[0m         \u001b[1;31m# Set access information\u001b[0m\u001b[1;33m\u001b[0m\u001b[1;33m\u001b[0m\u001b[1;33m\u001b[0m\u001b[0m\n\u001b[0;32m     32\u001b[0m         self.login(host, username=username, password=password,\n\u001b[1;32m---> 33\u001b[1;33m                    certification=certification)\n\u001b[0m\u001b[0;32m     34\u001b[0m \u001b[1;33m\u001b[0m\u001b[0m\n\u001b[0;32m     35\u001b[0m     \u001b[1;32mdef\u001b[0m \u001b[0m__str__\u001b[0m\u001b[1;33m(\u001b[0m\u001b[0mself\u001b[0m\u001b[1;33m)\u001b[0m\u001b[1;33m:\u001b[0m\u001b[1;33m\u001b[0m\u001b[1;33m\u001b[0m\u001b[0m\n",
      "\u001b[1;32me:\\python-packages\\pycdcs\\cdcs\\RestClient.py\u001b[0m in \u001b[0;36mlogin\u001b[1;34m(self, host, username, password, certification)\u001b[0m\n\u001b[0;32m    103\u001b[0m         \u001b[1;31m# Test login info\u001b[0m\u001b[1;33m\u001b[0m\u001b[1;33m\u001b[0m\u001b[1;33m\u001b[0m\u001b[0m\n\u001b[0;32m    104\u001b[0m         \u001b[1;32mif\u001b[0m \u001b[0mself\u001b[0m\u001b[1;33m.\u001b[0m\u001b[0m__user\u001b[0m \u001b[1;32mis\u001b[0m \u001b[1;32mnot\u001b[0m \u001b[1;32mNone\u001b[0m\u001b[1;33m:\u001b[0m\u001b[1;33m\u001b[0m\u001b[1;33m\u001b[0m\u001b[0m\n\u001b[1;32m--> 105\u001b[1;33m             \u001b[0mself\u001b[0m\u001b[1;33m.\u001b[0m\u001b[0mtestcall\u001b[0m\u001b[1;33m(\u001b[0m\u001b[1;33m)\u001b[0m\u001b[1;33m\u001b[0m\u001b[1;33m\u001b[0m\u001b[0m\n\u001b[0m\u001b[0;32m    106\u001b[0m \u001b[1;33m\u001b[0m\u001b[0m\n\u001b[0;32m    107\u001b[0m     \u001b[1;32mdef\u001b[0m \u001b[0mtestcall\u001b[0m\u001b[1;33m(\u001b[0m\u001b[0mself\u001b[0m\u001b[1;33m)\u001b[0m\u001b[1;33m:\u001b[0m\u001b[1;33m\u001b[0m\u001b[1;33m\u001b[0m\u001b[0m\n",
      "\u001b[1;32me:\\python-packages\\pycdcs\\cdcs\\CDCS\\__init__.py\u001b[0m in \u001b[0;36mtestcall\u001b[1;34m(self)\u001b[0m\n\u001b[0;32m     68\u001b[0m         \u001b[0mrest_url\u001b[0m \u001b[1;33m=\u001b[0m \u001b[1;34m'/rest/data/'\u001b[0m\u001b[1;33m\u001b[0m\u001b[1;33m\u001b[0m\u001b[0m\n\u001b[0;32m     69\u001b[0m         \u001b[0mparams\u001b[0m \u001b[1;33m=\u001b[0m \u001b[1;33m{\u001b[0m\u001b[1;34m'title'\u001b[0m\u001b[1;33m:\u001b[0m\u001b[1;34m'ARBITRARYNONEXISTANTTITLE'\u001b[0m\u001b[1;33m}\u001b[0m\u001b[1;33m\u001b[0m\u001b[1;33m\u001b[0m\u001b[0m\n\u001b[1;32m---> 70\u001b[1;33m         \u001b[0mself\u001b[0m\u001b[1;33m.\u001b[0m\u001b[0mget\u001b[0m\u001b[1;33m(\u001b[0m\u001b[0mrest_url\u001b[0m\u001b[1;33m,\u001b[0m \u001b[0mparams\u001b[0m\u001b[1;33m=\u001b[0m\u001b[0mparams\u001b[0m\u001b[1;33m)\u001b[0m\u001b[1;33m\u001b[0m\u001b[1;33m\u001b[0m\u001b[0m\n\u001b[0m",
      "\u001b[1;32me:\\python-packages\\pycdcs\\cdcs\\RestClient.py\u001b[0m in \u001b[0;36mget\u001b[1;34m(self, rest_url, **kwargs)\u001b[0m\n\u001b[0;32m    190\u001b[0m             \u001b[0mAny\u001b[0m \u001b[0mrequests\u001b[0m \u001b[0merrors\u001b[0m \u001b[1;32mif\u001b[0m \u001b[0mthe\u001b[0m \u001b[0mresponse\u001b[0m \u001b[0mcode\u001b[0m \u001b[1;32mis\u001b[0m \u001b[1;32mnot\u001b[0m \u001b[0mok\u001b[0m\u001b[1;33m.\u001b[0m\u001b[1;33m\u001b[0m\u001b[1;33m\u001b[0m\u001b[0m\n\u001b[0;32m    191\u001b[0m         \"\"\"\n\u001b[1;32m--> 192\u001b[1;33m         \u001b[1;32mreturn\u001b[0m \u001b[0mself\u001b[0m\u001b[1;33m.\u001b[0m\u001b[0mrequest\u001b[0m\u001b[1;33m(\u001b[0m\u001b[1;34m'get'\u001b[0m\u001b[1;33m,\u001b[0m \u001b[0mrest_url\u001b[0m\u001b[1;33m,\u001b[0m \u001b[1;33m**\u001b[0m\u001b[0mkwargs\u001b[0m\u001b[1;33m)\u001b[0m\u001b[1;33m\u001b[0m\u001b[1;33m\u001b[0m\u001b[0m\n\u001b[0m\u001b[0;32m    193\u001b[0m \u001b[1;33m\u001b[0m\u001b[0m\n\u001b[0;32m    194\u001b[0m     \u001b[1;32mdef\u001b[0m \u001b[0mpost\u001b[0m\u001b[1;33m(\u001b[0m\u001b[0mself\u001b[0m\u001b[1;33m,\u001b[0m \u001b[0mrest_url\u001b[0m\u001b[1;33m,\u001b[0m \u001b[0mdata\u001b[0m\u001b[1;33m=\u001b[0m\u001b[1;32mNone\u001b[0m\u001b[1;33m,\u001b[0m \u001b[1;33m**\u001b[0m\u001b[0mkwargs\u001b[0m\u001b[1;33m)\u001b[0m\u001b[1;33m:\u001b[0m\u001b[1;33m\u001b[0m\u001b[1;33m\u001b[0m\u001b[0m\n",
      "\u001b[1;32me:\\python-packages\\pycdcs\\cdcs\\RestClient.py\u001b[0m in \u001b[0;36mrequest\u001b[1;34m(self, method, rest_url, **kwargs)\u001b[0m\n\u001b[0;32m    152\u001b[0m             \u001b[1;32mexcept\u001b[0m\u001b[1;33m:\u001b[0m\u001b[1;33m\u001b[0m\u001b[1;33m\u001b[0m\u001b[0m\n\u001b[0;32m    153\u001b[0m                 \u001b[0mprint\u001b[0m\u001b[1;33m(\u001b[0m\u001b[0mresponse\u001b[0m\u001b[1;33m.\u001b[0m\u001b[0mtext\u001b[0m\u001b[1;33m)\u001b[0m\u001b[1;33m\u001b[0m\u001b[1;33m\u001b[0m\u001b[0m\n\u001b[1;32m--> 154\u001b[1;33m             \u001b[0mresponse\u001b[0m\u001b[1;33m.\u001b[0m\u001b[0mraise_for_status\u001b[0m\u001b[1;33m(\u001b[0m\u001b[1;33m)\u001b[0m\u001b[1;33m\u001b[0m\u001b[1;33m\u001b[0m\u001b[0m\n\u001b[0m\u001b[0;32m    155\u001b[0m \u001b[1;33m\u001b[0m\u001b[0m\n\u001b[0;32m    156\u001b[0m         \u001b[1;32mreturn\u001b[0m \u001b[0mresponse\u001b[0m\u001b[1;33m\u001b[0m\u001b[1;33m\u001b[0m\u001b[0m\n",
      "\u001b[1;32m~\\AppData\\Local\\Continuum\\anaconda3\\lib\\site-packages\\requests\\models.py\u001b[0m in \u001b[0;36mraise_for_status\u001b[1;34m(self)\u001b[0m\n\u001b[0;32m    938\u001b[0m \u001b[1;33m\u001b[0m\u001b[0m\n\u001b[0;32m    939\u001b[0m         \u001b[1;32mif\u001b[0m \u001b[0mhttp_error_msg\u001b[0m\u001b[1;33m:\u001b[0m\u001b[1;33m\u001b[0m\u001b[1;33m\u001b[0m\u001b[0m\n\u001b[1;32m--> 940\u001b[1;33m             \u001b[1;32mraise\u001b[0m \u001b[0mHTTPError\u001b[0m\u001b[1;33m(\u001b[0m\u001b[0mhttp_error_msg\u001b[0m\u001b[1;33m,\u001b[0m \u001b[0mresponse\u001b[0m\u001b[1;33m=\u001b[0m\u001b[0mself\u001b[0m\u001b[1;33m)\u001b[0m\u001b[1;33m\u001b[0m\u001b[1;33m\u001b[0m\u001b[0m\n\u001b[0m\u001b[0;32m    941\u001b[0m \u001b[1;33m\u001b[0m\u001b[0m\n\u001b[0;32m    942\u001b[0m     \u001b[1;32mdef\u001b[0m \u001b[0mclose\u001b[0m\u001b[1;33m(\u001b[0m\u001b[0mself\u001b[0m\u001b[1;33m)\u001b[0m\u001b[1;33m:\u001b[0m\u001b[1;33m\u001b[0m\u001b[1;33m\u001b[0m\u001b[0m\n",
      "\u001b[1;31mHTTPError\u001b[0m: 401 Client Error: Unauthorized for url: https://potentials.nist.gov/rest/data/?title=ARBITRARYNONEXISTANTTITLE"
     ]
    }
   ],
   "source": [
    "db = potentials.Database(username='lmh1')"
   ]
  },
  {
   "cell_type": "code",
   "execution_count": 4,
   "metadata": {},
   "outputs": [],
   "source": [
    "#workspace = None\n",
    "workspace = db.cdcs.global_workspace"
   ]
  },
  {
   "cell_type": "markdown",
   "metadata": {},
   "source": [
    "- - -\n",
    "\n",
    "## 1. Citations"
   ]
  },
  {
   "cell_type": "code",
   "execution_count": 5,
   "metadata": {},
   "outputs": [
    {
     "name": "stdout",
     "output_type": "stream",
     "text": [
      "Loaded 333 local citations\n",
      "Loaded 333 remote citations\n",
      " - 0 new\n"
     ]
    }
   ],
   "source": [
    "db.load_citations(verbose=True)"
   ]
  },
  {
   "cell_type": "markdown",
   "metadata": {},
   "source": [
    "### 1.1 Build or load citation"
   ]
  },
  {
   "cell_type": "markdown",
   "metadata": {},
   "source": [
    "#### Option #1: For existing citations and/or new dois"
   ]
  },
  {
   "cell_type": "code",
   "execution_count": 6,
   "metadata": {},
   "outputs": [
    {
     "name": "stdout",
     "output_type": "stream",
     "text": [
      "Citation retrieved from CrossRef\n"
     ]
    }
   ],
   "source": [
    "doi = '10.5555/12345678'\n",
    "\n",
    "citation = db.get_citation(doi, verbose=True)"
   ]
  },
  {
   "cell_type": "markdown",
   "metadata": {},
   "source": [
    "#### Option #2: For new doi-less citations"
   ]
  },
  {
   "cell_type": "code",
   "execution_count": 5,
   "metadata": {},
   "outputs": [],
   "source": [
    "author = 'Bob Test'\n",
    "year = 2099\n",
    "ID = note = f'{year}--Test-L-M'\n",
    "\n",
    "citation = potentials.Citation(ENTRYTYPE = 'unpublished',\n",
    "                               title = 'to be published',\n",
    "                               author = author,\n",
    "                               ID = ID,\n",
    "                               note = note,\n",
    "                               year = year)"
   ]
  },
  {
   "cell_type": "markdown",
   "metadata": {},
   "source": [
    "#### Option #3: From local directory"
   ]
  },
  {
   "cell_type": "code",
   "execution_count": 11,
   "metadata": {},
   "outputs": [],
   "source": [
    "libdir = Path('E:/website/LAMMPS potentials/2nn/biblib')\n",
    "\n",
    "citations = []\n",
    "for bibfile in libdir.glob('*.bib'):\n",
    "    with open(bibfile) as f:\n",
    "        citations.append(potentials.Citation(model=f.read()))"
   ]
  },
  {
   "cell_type": "code",
   "execution_count": null,
   "metadata": {},
   "outputs": [],
   "source": [
    "citation = citations[19]\n",
    "print(citation.year_authors)"
   ]
  },
  {
   "cell_type": "markdown",
   "metadata": {},
   "source": [
    "### 1.2 Investigate and modify\n",
    "\n",
    "- Add abstract\n",
    "\n",
    "- Check and replace garbled latex or other symbols in authors, title and abstract\n",
    "\n",
    "- Verify correct year and page number(s)"
   ]
  },
  {
   "cell_type": "markdown",
   "metadata": {},
   "source": [
    "#### 1.2.1 Generate html and list content fields"
   ]
  },
  {
   "cell_type": "code",
   "execution_count": 7,
   "metadata": {},
   "outputs": [
    {
     "name": "stdout",
     "output_type": "stream",
     "text": [
      "2008--Carberry-J\n",
      "\n"
     ]
    },
    {
     "data": {
      "text/html": [
       "J. Carberry (2008), \"Toward a Unified Theory of High-Energy Metaphysics: Silly String Theory\", <i>Journal of Psychoceramics</i>, <b>5(11)</b>, 1--3. DOI: <a href=\"https://doi.org/10.5555/12345678\">10.5555/12345678</a>"
      ],
      "text/plain": [
       "<IPython.core.display.HTML object>"
      ]
     },
     "metadata": {},
     "output_type": "display_data"
    },
    {
     "name": "stdout",
     "output_type": "stream",
     "text": [
      "\n",
      "ENTRYTYPE: article\n",
      "ID: Carberry_2008\n",
      "author: Josiah Carberry\n",
      "doi: 10.5555/12345678\n",
      "journal: Journal of Psychoceramics\n",
      "month: aug\n",
      "number: 11\n",
      "pages: 1--3\n",
      "publisher: Society of Psychoceramics\n",
      "title: Toward a Unified Theory of High-Energy Metaphysics: Silly String Theory\n",
      "url: https://doi.org/10.5555%2F12345678\n",
      "volume: 5\n",
      "year: 2008\n"
     ]
    }
   ],
   "source": [
    "print(citation.year_authors)\n",
    "print()\n",
    "display(HTML(citation.html()))\n",
    "print()\n",
    "for key, value in citation.asdict().items():\n",
    "    print(key+':', value)"
   ]
  },
  {
   "cell_type": "markdown",
   "metadata": {},
   "source": [
    "#### 1.2.2 Modify and update fields\n",
    "\n",
    "Any valid bibtex fields can be added, but citation rendering relies only on the primary fields. "
   ]
  },
  {
   "cell_type": "code",
   "execution_count": 8,
   "metadata": {},
   "outputs": [],
   "source": [
    "citation.abstract = ' '.join(['Testing afs'])\n",
    "#citation.author = 'I Sa and B Lee'\n",
    "#citation.volume\n",
    "#citation.number\n",
    "#citation.title = 'Applications of computational thermodynamics - the extension from phase equilibrium to phase transformations and other properties'\n",
    "#citation.year\n",
    "#citation.pages"
   ]
  },
  {
   "cell_type": "markdown",
   "metadata": {},
   "source": [
    "#### 1.2.3 Review and Save Citation"
   ]
  },
  {
   "cell_type": "code",
   "execution_count": 9,
   "metadata": {},
   "outputs": [
    {
     "data": {
      "text/html": [
       "J. Carberry (2008), \"Toward a Unified Theory of High-Energy Metaphysics: Silly String Theory\", <i>Journal of Psychoceramics</i>, <b>5(11)</b>, 1--3. DOI: <a href=\"https://doi.org/10.5555/12345678\">10.5555/12345678</a><br/><b>Abstract:</b> Testing afs"
      ],
      "text/plain": [
       "<IPython.core.display.HTML object>"
      ]
     },
     "metadata": {},
     "output_type": "display_data"
    }
   ],
   "source": [
    "display(HTML(citation.html()))"
   ]
  },
  {
   "cell_type": "code",
   "execution_count": 10,
   "metadata": {},
   "outputs": [
    {
     "name": "stdout",
     "output_type": "stream",
     "text": [
      "1 citations saved to localpath\n",
      " - 1 new citations added\n"
     ]
    }
   ],
   "source": [
    "db.save_citations(citation, overwrite=False, verbose=True)"
   ]
  },
  {
   "cell_type": "code",
   "execution_count": 11,
   "metadata": {},
   "outputs": [
    {
     "name": "stdout",
     "output_type": "stream",
     "text": [
      "record 10.5555_12345678 (5f4d10295b91e500396cd52b) successfully uploaded.\n",
      "record 5f4d10295b91e500396cd52b assigned to workspace 5de9613a75d7d40014ffb6fc\n"
     ]
    }
   ],
   "source": [
    "db.upload_citation(citation, workspace=workspace, verbose=True)"
   ]
  },
  {
   "cell_type": "code",
   "execution_count": 12,
   "metadata": {},
   "outputs": [
    {
     "name": "stdout",
     "output_type": "stream",
     "text": [
      "deleted C:\\Users\\lmh1\\Documents\\library\\Citation\\10.5555_12345678.bib\n",
      "record 10.5555_12345678 (5f4d10295b91e500396cd52b) has been deleted.\n"
     ]
    }
   ],
   "source": [
    "#db.delete_citation(citation, local=True, remote=True, verbose=True)"
   ]
  },
  {
   "cell_type": "code",
   "execution_count": 15,
   "metadata": {},
   "outputs": [
    {
     "name": "stdout",
     "output_type": "stream",
     "text": [
      "333 citations saved to localpath\n",
      " - 333 duplicate citations skipped\n"
     ]
    }
   ],
   "source": [
    "db.download_citations(overwrite=True, verbose=True)"
   ]
  },
  {
   "cell_type": "markdown",
   "metadata": {},
   "source": [
    "- - -\n",
    "\n",
    "## 2. Potentials"
   ]
  },
  {
   "cell_type": "code",
   "execution_count": 10,
   "metadata": {},
   "outputs": [
    {
     "name": "stdout",
     "output_type": "stream",
     "text": [
      "Loaded 294 local potentials\n",
      "Loaded 294 remote potentials\n",
      " - 0 new\n"
     ]
    }
   ],
   "source": [
    "db.load_potentials(verbose=True)"
   ]
  },
  {
   "cell_type": "markdown",
   "metadata": {},
   "source": [
    "### 2.1 Build or load potential"
   ]
  },
  {
   "cell_type": "markdown",
   "metadata": {},
   "source": [
    "#### Option #1: Build new potential using citation(s)\n",
    "\n",
    "- __elements__ (*list*) The element models used by the potential.\n",
    "- __citations__ (*list*) The citation(s) to associate with the potential.\n",
    "- __notes__ (*str, optional*) Notes providing more information on the potential, such as usage notes and how the potential relates to other potentials.\n",
    "- __key__ (*str, optional*) UUID4 key to assign to the potential.  If None, a new key will be generated.\n",
    "- __othername__ (*str, optional*) Specifies an alternate description of the interactions besides the list of elements.  Examples include if the model is \"universal\", designed for a specific compound, or is a coarse-grain representation.\n",
    "- __fictional__ (*bool, optional*) Flag indicating if the model is \"fictional\", i.e. purposefully fit to unrealistic properties. \n",
    "- __modelname__ (*str, optional*) Used if citation + element info is not enough to create a unique ID, e.g. a publication lists multiple parameterizations of the same element. The value should make it clear which version it is associated with, and correspond to how the authors refer to it when possible.\n",
    "- __recorddate__ (*datetime.date, optional*) Date to assign to the record.  If not given, will use today's date."
   ]
  },
  {
   "cell_type": "code",
   "execution_count": 11,
   "metadata": {},
   "outputs": [],
   "source": [
    "potential = potentials.Potential(\n",
    "    elements=['Au', 'Rh'],\n",
    "    citations=[citation],\n",
    "    #notes=None,\n",
    "    #key=None,\n",
    "    #othername='water',\n",
    "    #fictional=True,\n",
    "    #modelname='34',\n",
    "    #recorddate=datetime.date(2019, 12, 24)\n",
    "    )"
   ]
  },
  {
   "cell_type": "markdown",
   "metadata": {},
   "source": [
    "#### Option #2: Select existing potential"
   ]
  },
  {
   "cell_type": "code",
   "execution_count": 13,
   "metadata": {},
   "outputs": [],
   "source": [
    "potential = db.get_potential(id='2008--Carberry-J--Au-Rh')"
   ]
  },
  {
   "cell_type": "markdown",
   "metadata": {},
   "source": [
    "### 2.2 Investigate and modify"
   ]
  },
  {
   "cell_type": "markdown",
   "metadata": {},
   "source": [
    "#### 2.2.1 Generate html and list content fields"
   ]
  },
  {
   "cell_type": "code",
   "execution_count": 12,
   "metadata": {},
   "outputs": [
    {
     "data": {
      "text/html": [
       "<h3>2008--Carberry-J--Au-Rh</h3><b>Citation:</b> J. Carberry (2008), \"Toward a Unified Theory of High-Energy Metaphysics: Silly String Theory\", <i>Journal of Psychoceramics</i>, <b>5(11)</b>, 1--3. DOI: <a href=\"https://doi.org/10.5555/12345678\">10.5555/12345678</a><br/><b>Abstract:</b> Testing afs</br>\n"
      ],
      "text/plain": [
       "<IPython.core.display.HTML object>"
      ]
     },
     "metadata": {},
     "output_type": "display_data"
    },
    {
     "name": "stdout",
     "output_type": "stream",
     "text": [
      "\n",
      "key: 242c630d-017d-4212-a5c3-9c9f81bc1c29\n",
      "id: 2008--Carberry-J--Au-Rh\n",
      "recorddate: 2020-08-31\n",
      "notes: None\n",
      "fictional: False\n",
      "elements: ['Au', 'Rh']\n",
      "othername: None\n",
      "modelname: None\n",
      "citations: [<potentials.Citation.Citation object at 0x0000022DF7592F28>]\n",
      "implementations: []\n"
     ]
    }
   ],
   "source": [
    "display(HTML(potential.html()))\n",
    "print()\n",
    "for key, value in potential.asdict().items():\n",
    "    print(key+':', value)"
   ]
  },
  {
   "cell_type": "markdown",
   "metadata": {},
   "source": [
    "#### 2.2.2 Modify and update fields\n",
    "\n",
    "Same fields as above"
   ]
  },
  {
   "cell_type": "code",
   "execution_count": 22,
   "metadata": {},
   "outputs": [],
   "source": [
    "#potential.key = \n",
    "#potential.recorddate = datetime.date()\n",
    "#potential.elements = []\n",
    "#potential.othername = 'water'\n",
    "#potential.fictional = \n",
    "#potential.modelname = "
   ]
  },
  {
   "cell_type": "code",
   "execution_count": 8,
   "metadata": {},
   "outputs": [],
   "source": [
    "potential.notes = None"
   ]
  },
  {
   "cell_type": "code",
   "execution_count": 13,
   "metadata": {},
   "outputs": [],
   "source": [
    "potential.notes = ' '.join([\"This listing is for the MCu34 parameterization listed in the reference.\",\n",
    "                            \"Dr. M.I. Mendelev (Ames Laboratory) noted that these are new fictional potentials intended\",\n",
    "                            \"to supplement the existing potentials posted to the NIST repository\",\n",
    "                            \"(as the 2015--Borovikov-V-Mendelev-M-I-King-A-H-LeSar-R--fictional-Cu-# listings).\",\n",
    "                            'Dr. Mendelev further noted that, \"the new potentials provide the same SFE as',\n",
    "                            '<a href=\"https://www.ctcms.nist.gov/potentials/entry/2013--Mendelev-M-I-King-A-H--Cu/\">2013--Mendelev-M-I-King-A-H--Cu</a>',\n",
    "                            'but different unstable stacking fault',\n",
    "                            'energy (USFE). All these Cu fictional potentials are designed to study the effect of SFE and USFE on the',\n",
    "                            'deformation behavior in fcc metals.\"  Reference information added March 5, 2020.'])         "
   ]
  },
  {
   "cell_type": "code",
   "execution_count": null,
   "metadata": {},
   "outputs": [],
   "source": [
    "#potential.notes += "
   ]
  },
  {
   "cell_type": "markdown",
   "metadata": {},
   "source": [
    "## 3. Implementations"
   ]
  },
  {
   "cell_type": "markdown",
   "metadata": {},
   "source": [
    "### 3.1 List all current implementation types\n",
    "\n",
    "List is given to help keep type values (relatively) uniform. "
   ]
  },
  {
   "cell_type": "code",
   "execution_count": 14,
   "metadata": {},
   "outputs": [
    {
     "name": "stdout",
     "output_type": "stream",
     "text": [
      "All existing implementation types:\n",
      "    ADP tabulated functions\n",
      "    Dynamo MEAM\n",
      "    EAM setfl\n",
      "    EAM tabulated functions\n",
      "    Equations\n",
      "    FORTRAN\n",
      "    Finnis-Sinclair tables\n",
      "    GULP\n",
      "    IMD option EAM\n",
      "    LAMMPS pair_style adp\n",
      "    LAMMPS pair_style aenet (custom)\n",
      "    LAMMPS pair_style agni\n",
      "    LAMMPS pair_style bop\n",
      "    LAMMPS pair_style comb3\n",
      "    LAMMPS pair_style eam\n",
      "    LAMMPS pair_style eam/alloy\n",
      "    LAMMPS pair_style eam/cd\n",
      "    LAMMPS pair_style eam/fs\n",
      "    LAMMPS pair_style edip\n",
      "    LAMMPS pair_style edip/multi\n",
      "    LAMMPS pair_style eim\n",
      "    LAMMPS pair_style extep\n",
      "    LAMMPS pair_style hybrid table linear 1000 eam/alloy\n",
      "    LAMMPS pair_style hybrid/overlay eam/alloy eam/fs\n",
      "    LAMMPS pair_style hybrid/overlay zbl eam/alloy\n",
      "    LAMMPS pair_style hybrid/overlay zbl snap\n",
      "    LAMMPS pair_style lcbop\n",
      "    LAMMPS pair_style meam\n",
      "    LAMMPS pair_style meam (modified)\n",
      "    LAMMPS pair_style meam/spline\n",
      "    LAMMPS pair_style polymorphic\n",
      "    LAMMPS pair_style reax/c\n",
      "    LAMMPS pair_style sw\n",
      "    LAMMPS pair_style tersoff\n",
      "    LAMMPS pair_style tersoff/mod\n",
      "    LAMMPS pair_style tersoff/mod/c\n",
      "    LAMMPS pair_style tersoff/zbl\n",
      "    LAMMPS pair_style vashishta\n",
      "    MEAM parameters\n",
      "    MEAM splines\n",
      "    Moldy FS\n",
      "    MoldyPSI\n",
      "    OpenKIM\n",
      "    ReaxFF\n",
      "    SPaSM\n"
     ]
    }
   ],
   "source": [
    "imptypes = []\n",
    "for pot in db.potentials:\n",
    "    for imp in pot.implementations:\n",
    "        imptypes.append(imp.type)\n",
    "imptypes = np.unique(imptypes)\n",
    "\n",
    "print('All existing implementation types:')\n",
    "for imptypes in imptypes:\n",
    "    print('   ', imptypes)"
   ]
  },
  {
   "cell_type": "markdown",
   "metadata": {},
   "source": [
    "### 3.2 Build or load implementation"
   ]
  },
  {
   "cell_type": "markdown",
   "metadata": {},
   "source": [
    "#### 3.2.1 List ids for current potential and implementations"
   ]
  },
  {
   "cell_type": "code",
   "execution_count": 15,
   "metadata": {},
   "outputs": [
    {
     "name": "stdout",
     "output_type": "stream",
     "text": [
      "potential id: 2008--Carberry-J--Au-Rh\n",
      "implementation ids:\n"
     ]
    }
   ],
   "source": [
    "print('potential id:', potential.id)\n",
    "print('implementation ids:')\n",
    "for i, implementation in enumerate(potential.implementations):\n",
    "    print(f'{i}: {implementation.id}')"
   ]
  },
  {
   "cell_type": "markdown",
   "metadata": {},
   "source": [
    "#### 3.2.2 Build new implementation\n",
    "\n",
    "- __type__ (*str*) Describes the type of the implementation. Use one of the listed values above if possible.\n",
    "- __id__ (*str*) Unique human-readable id for the implementation. For new content, should be derived from the associated potential id:\n",
    "    - Remove all authors except for the first\n",
    "    - Add a simple format descriptor: LAMMPS, GULP, table, parameters, FORTRAN, etc.\n",
    "    - Add a version descriptor: ipr1, ipr2, etc\n",
    "- __notes__ (*str, optional*) Notes on the implementation.  This includes where the file(s) came from, who created them, testing info, how it differs from other versions, etc.\n",
    "- __key__ (*str, optional*) UUID4 key to assign to the implementation.  If None, a new key will be generated.\n",
    "- __status__ (*str, optional*) Indicates the status of the implementation. Available values are \n",
    "    - \"active\" (default) indicates a current implementation.\n",
    "    - \"superseded\" indicates an implementation that is still consistent with the potential model, but has minor issues that were fixed by a newer implementation.\n",
    "    - \"retracted\" indicates an implementation that was identified as being an invalid representation of the potential model.\n",
    "- __date__ (*datetime.date, optional*) The date that the implementation was submitted or added.  If not given, will use today's date."
   ]
  },
  {
   "cell_type": "code",
   "execution_count": 16,
   "metadata": {},
   "outputs": [],
   "source": [
    "implementation = potentials.Implementation(\n",
    "    type='LAMMPS pair_style adp',\n",
    "    id='2008--Carberry-J--Au-Rh--LAMMPS--ipr1',\n",
    "    notes=' '.join(['This file was provided by Gang Wang (Universität Stuttgart) on August 18, 2020 and posted with his permission.']),\n",
    "    #key='0cdc699f-e78a-49db-8606-7a33c98c2184',\n",
    "    #status=None,\n",
    "    #date=datetime.date(2020, 6, 18), \n",
    ")\n",
    "index = len(potential.implementations)\n",
    "potential.implementations.append(implementation)"
   ]
  },
  {
   "cell_type": "markdown",
   "metadata": {},
   "source": [
    "#### 3.2.3 Select implementation\n",
    "\n",
    "Must be done"
   ]
  },
  {
   "cell_type": "code",
   "execution_count": 17,
   "metadata": {},
   "outputs": [],
   "source": [
    "index = 0\n",
    "implementation = potential.implementations[index]"
   ]
  },
  {
   "cell_type": "markdown",
   "metadata": {},
   "source": [
    "### 3.3 Modify implementation"
   ]
  },
  {
   "cell_type": "markdown",
   "metadata": {},
   "source": [
    "#### 3.3.1 Modify implementation metadata "
   ]
  },
  {
   "cell_type": "code",
   "execution_count": 18,
   "metadata": {},
   "outputs": [
    {
     "data": {
      "text/html": [
       "<b>LAMMPS pair_style adp</b> (2008--Carberry-J--Au-Rh--LAMMPS--ipr1)<br/>\n",
       "<b>Notes:</b> This file was provided by Gang Wang (Universität Stuttgart) on August 18, 2020 and posted with his permission.</br>\n"
      ],
      "text/plain": [
       "<IPython.core.display.HTML object>"
      ]
     },
     "metadata": {},
     "output_type": "display_data"
    }
   ],
   "source": [
    "display(HTML(implementation.html()))"
   ]
  },
  {
   "cell_type": "code",
   "execution_count": 18,
   "metadata": {},
   "outputs": [],
   "source": [
    "implementation.notes = 'This file was provided by Gang Wang (University of Science and Technology Beijing) on August 18, 2020 and posted with his permission.'"
   ]
  },
  {
   "cell_type": "code",
   "execution_count": 33,
   "metadata": {},
   "outputs": [],
   "source": [
    "implementation.status='superseded'"
   ]
  },
  {
   "cell_type": "code",
   "execution_count": 17,
   "metadata": {},
   "outputs": [],
   "source": [
    "#implementation.type='LAMMPS pair_style sw',\n",
    "#implementation.key=None,\n",
    "#implementation.id='2009--Molinero-V--water--ipr-1',\n",
    "#implementation.status=None,\n",
    "#implementation.date=datetime.date(2020, 1, 10), \n",
    "implementation.notes= ' '.join(['The table files were sent by Xianbao Duan (Huazhong Univ. of Sci. and Tech) on 18 June 2020 and posted with his permission. The example.lammps.in file gives an example of the LAMMPS pair_style and pair_coeff lines that can be used. A copy of Ta_Zhou04.eam.alloy from 2004--Zhou-X-W--Ta--LAMMPS--ipr2 is included here for completeness.',\n",
    "                                ])"
   ]
  },
  {
   "cell_type": "code",
   "execution_count": 191,
   "metadata": {},
   "outputs": [],
   "source": [
    "implementation.date=datetime.date(2014, 11, 24)"
   ]
  },
  {
   "cell_type": "code",
   "execution_count": 188,
   "metadata": {},
   "outputs": [],
   "source": [
    "implementation.notes = 'This file was provided by Sergei Starikov (Ruhr-Universität Bochum, Germany) on 5 May 2019. It has been carefully tested and gives the expected property predictions. Update March 15, 2020: This version was identified to not be compatible with LAMMPS versions after 7 Aug 2019 due to more rigorous format checks.'"
   ]
  },
  {
   "cell_type": "code",
   "execution_count": 135,
   "metadata": {},
   "outputs": [],
   "source": [
    "implementation.notes += ' Update Jan 15, 2020: It was noticed that the original file hosted here was truncated and incomplete.'\n",
    "implementation.notes += ' The incomplete file will not work with LAMMPS versions after 7 Aug 2019.'\n",
    "implementation.notes += ' For earlier LAMMPS versions, both versions of the parameter file appear to behave identically.'"
   ]
  },
  {
   "cell_type": "code",
   "execution_count": 50,
   "metadata": {},
   "outputs": [],
   "source": [
    "implementation.status = 'retracted'\n",
    "implementation.notes = 'This file was sent by J. Kullgren (Uppsala University) on 19 December 2016 and posted with his permission. Update March 15, 2020: This version was identified to not be compatible with LAMMPS.'"
   ]
  },
  {
   "cell_type": "code",
   "execution_count": 53,
   "metadata": {},
   "outputs": [],
   "source": [
    "implementation.notes='These files were posted on March 15, 2020 by Lucas Hale. They modify the above version by separating the comments into a separate file, making the parameter file compatible with LAMMPS.'"
   ]
  },
  {
   "cell_type": "code",
   "execution_count": 162,
   "metadata": {},
   "outputs": [],
   "source": [
    "implementation.type = 'LAMMPS pair_style reax/c'"
   ]
  },
  {
   "cell_type": "code",
   "execution_count": 203,
   "metadata": {},
   "outputs": [],
   "source": [
    "implementation.id = '2013--Bonny-G--Fe-Cr-W--LAMMPS--ipr1'"
   ]
  },
  {
   "cell_type": "markdown",
   "metadata": {},
   "source": [
    "#### 3.3.2 Add implementation content\n",
    "\n",
    "The content for the implementation can exist in one of the following formats\n",
    "\n",
    "1. Artifacts: files that are hosted on the potentials repository.\n",
    "2. Parameters: list of the potential's parameters to show as html text on the repository.\n",
    "3. WebLinks: hyperlinks to content hosted externally."
   ]
  },
  {
   "cell_type": "markdown",
   "metadata": {},
   "source": [
    "#### Option #1: Add artifacts\n",
    "\n",
    "Each artifact has:\n",
    "\n",
    "- __filename__ (*str*) The name of the file (no path information).\n",
    "- __url__ (*str*) The absolute url where the file can be downloaded from.\n",
    "- __label__ (*str, optional*) An optional descriptive label for the file."
   ]
  },
  {
   "cell_type": "code",
   "execution_count": 19,
   "metadata": {},
   "outputs": [],
   "source": [
    "# Define paths to files\n",
    "machine = 'desktop'\n",
    "\n",
    "if machine == 'desktop':\n",
    "    newpotpath = Path('E:/website/new potentials')\n",
    "    localpath = Path('E:/website/IPR-website/potentials/')\n",
    "elif machine == 'laptop':\n",
    "    newpotpath = Path('C:/Users/lmh1/Documents/website/new potentials')\n",
    "    localpath = Path('C:/Users/lmh1/Documents/website/IPR-website/potentials/')\n",
    "    \n",
    "webpath = 'https://www.ctcms.nist.gov/potentials/'\n",
    "relpath = f'Download/{potential.id}/{index+1}/'"
   ]
  },
  {
   "cell_type": "code",
   "execution_count": 20,
   "metadata": {},
   "outputs": [],
   "source": [
    "# Specify files from newpotpath to add\n",
    "filenames = [\n",
    "    Path(newpotpath, 'AuRh.adp.txt'),\n",
    "    #Path(newpotpath, 'comments.txt'),\n",
    "    ]\n",
    "\n",
    "labels = [None for i in range(len(filenames))]"
   ]
  },
  {
   "cell_type": "code",
   "execution_count": 28,
   "metadata": {},
   "outputs": [],
   "source": [
    "# Specify files from newpotpath to add\n",
    "filenames = [\n",
    "    Path(newpotpath, 'He.Aziz.table'),\n",
    "    Path(newpotpath, 'TaHe.Juslin.table'),\n",
    "    Path(newpotpath, 'Ta_Zhou04.eam.alloy'),\n",
    "    Path(newpotpath, 'example.lammps.in'),\n",
    "    ]\n",
    "\n",
    "labels = [None for i in range(len(filenames))]"
   ]
  },
  {
   "cell_type": "code",
   "execution_count": 30,
   "metadata": {},
   "outputs": [
    {
     "name": "stdout",
     "output_type": "stream",
     "text": [
      "E:\\website\\IPR-website\\potentials\\Download\\2021--Wang-G-Xu-Y-Qian-P-Su-Y--Au-Rh\\1\\AuRh.adp.txt\n"
     ]
    }
   ],
   "source": [
    "# Make download directory in local copy of website\n",
    "downloadpath = Path(localpath, relpath)\n",
    "if not downloadpath.is_dir():\n",
    "    downloadpath.mkdir(parents=True)\n",
    "\n",
    "# Copy files and add artifact listings\n",
    "for filename, label in zip(filenames, labels):\n",
    "    # Build url\n",
    "    url = webpath + relpath + filename.name\n",
    "    # Copy files\n",
    "    shutil.copy(filename, downloadpath)\n",
    "    print(Path(downloadpath, filename.name))\n",
    "    \n",
    "    # Add artifact listing to implementation\n",
    "    implementation.add_artifact(filename=filename.name, url=url, label=label)"
   ]
  },
  {
   "cell_type": "code",
   "execution_count": 20,
   "metadata": {},
   "outputs": [
    {
     "data": {
      "text/plain": [
       "'https://www.ctcms.nist.gov/potentials/Download/1987--Ackland-G-J-Thetford-R--Mo/4/mo.fs.eam.alloy'"
      ]
     },
     "execution_count": 20,
     "metadata": {},
     "output_type": "execute_result"
    }
   ],
   "source": [
    "implementation.artifacts[0].url"
   ]
  },
  {
   "cell_type": "code",
   "execution_count": 151,
   "metadata": {},
   "outputs": [],
   "source": [
    "implementation.artifacts[0].url = 'https://www.ctcms.nist.gov/potentials/Download/2016--Wilson-S-R-Mendelev-M-I--fictional-W/1/W2.eam.fs'"
   ]
  },
  {
   "cell_type": "markdown",
   "metadata": {},
   "source": [
    "#### Option #2: Add parameters\n",
    "\n",
    "Each parameter has:\n",
    "\n",
    "- __name__ (*str, optional*) The name of the parameter or string parameter line.\n",
    "- __value__ (*float, optional*) The value of the parameter.\n",
    "- __unit__ (*str, optional*) Units associated with value.\n",
    "\n",
    "Note: if the parameters are purely text-based, you can use only the name field."
   ]
  },
  {
   "cell_type": "code",
   "execution_count": null,
   "metadata": {},
   "outputs": [],
   "source": []
  },
  {
   "cell_type": "markdown",
   "metadata": {},
   "source": [
    "#### Option #3: Add weblinks\n",
    "\n",
    "Each weblink has:\n",
    "\n",
    "- __url__ (*str*) URL for the link.\n",
    "- __label__ (*str, optional*) A short description label to proceed the link.\n",
    "- __linktext__ (*str, optional*) The text for the link, i.e. what gets clicked on."
   ]
  },
  {
   "cell_type": "code",
   "execution_count": null,
   "metadata": {},
   "outputs": [],
   "source": []
  },
  {
   "cell_type": "markdown",
   "metadata": {},
   "source": [
    "## 4. Review and save potentials"
   ]
  },
  {
   "cell_type": "code",
   "execution_count": 21,
   "metadata": {},
   "outputs": [
    {
     "data": {
      "text/html": [
       "<h3>2008--Carberry-J--Au-Rh</h3><b>Citation:</b> J. Carberry (2008), \"Toward a Unified Theory of High-Energy Metaphysics: Silly String Theory\", <i>Journal of Psychoceramics</i>, <b>5(11)</b>, 1--3. DOI: <a href=\"https://doi.org/10.5555/12345678\">10.5555/12345678</a><br/><b>Abstract:</b> Testing afs</br>\n",
       "</br><b>Notes:</b> This listing is for the MCu34 parameterization listed in the reference. Dr. M.I. Mendelev (Ames Laboratory) noted that these are new fictional potentials intended to supplement the existing potentials posted to the NIST repository (as the 2015--Borovikov-V-Mendelev-M-I-King-A-H-LeSar-R--fictional-Cu-# listings). Dr. Mendelev further noted that, \"the new potentials provide the same SFE as <a href=\"https://www.ctcms.nist.gov/potentials/entry/2013--Mendelev-M-I-King-A-H--Cu/\">2013--Mendelev-M-I-King-A-H--Cu</a> but different unstable stacking fault energy (USFE). All these Cu fictional potentials are designed to study the effect of SFE and USFE on the deformation behavior in fcc metals.\"  Reference information added March 5, 2020.</br>\n",
       "</br><b>LAMMPS pair_style adp</b> (2008--Carberry-J--Au-Rh--LAMMPS--ipr1)<br/>\n",
       "<b>Notes:</b> This file was provided by Gang Wang (Universität Stuttgart) on August 18, 2020 and posted with his permission.</br>\n"
      ],
      "text/plain": [
       "<IPython.core.display.HTML object>"
      ]
     },
     "metadata": {},
     "output_type": "display_data"
    }
   ],
   "source": [
    "display(HTML(potential.html()))"
   ]
  },
  {
   "cell_type": "code",
   "execution_count": 20,
   "metadata": {},
   "outputs": [
    {
     "name": "stdout",
     "output_type": "stream",
     "text": [
      "record potential.2008--Carberry-J--Au-Rh (5f4d132b5b91e500396cd52f) successfully uploaded.\n",
      "record 5f4d132b5b91e500396cd52f assigned to workspace 5de9613a75d7d40014ffb6fc\n"
     ]
    }
   ],
   "source": [
    "db.upload_potential(potential, workspace=workspace, verbose=True)\n",
    "complete_potentials.append(potential)"
   ]
  },
  {
   "cell_type": "code",
   "execution_count": 21,
   "metadata": {},
   "outputs": [
    {
     "name": "stdout",
     "output_type": "stream",
     "text": [
      "1 potentials saved to localpath\n",
      " - 1 new potentials added\n"
     ]
    }
   ],
   "source": [
    "db.save_potentials(potential, format='json', indent=4, verbose=True)"
   ]
  },
  {
   "cell_type": "code",
   "execution_count": 22,
   "metadata": {},
   "outputs": [
    {
     "name": "stdout",
     "output_type": "stream",
     "text": [
      "deleted C:\\Users\\lmh1\\Documents\\library\\Potential\\potential.2008--Carberry-J--Au-Rh.json\n",
      "record potential.2008--Carberry-J--Au-Rh (5f4d132b5b91e500396cd52f) has been deleted.\n"
     ]
    }
   ],
   "source": [
    "#db.delete_potential(potential, local=True, remote=True, verbose=True)"
   ]
  },
  {
   "cell_type": "code",
   "execution_count": 23,
   "metadata": {},
   "outputs": [
    {
     "name": "stdout",
     "output_type": "stream",
     "text": [
      "294 potentials saved to localpath\n",
      " - 294 duplicate potentials skipped\n"
     ]
    }
   ],
   "source": [
    "db.download_potentials(overwrite=True, format='json', indent=4, verbose=True)"
   ]
  },
  {
   "cell_type": "markdown",
   "metadata": {},
   "source": [
    "## 5. potential_LAMMPS\n",
    "\n",
    "This section generates the potential_LAMMPS metadata records for generating the LAMMPS input command lines for supported potentials."
   ]
  },
  {
   "cell_type": "markdown",
   "metadata": {},
   "source": [
    "### 5.1 Build potential_LAMMPS\n",
    "\n",
    "#### Specify parameters\n",
    "\n",
    "Common settings\n",
    "\n",
    "- __id__ (*str, optional*) implementation id. Should match with the implementation id from above.\n",
    "- __key__ (*str, optional*) implementation key. Should match with the implementation key from above.\n",
    "- __potid__ (*str, optional*) potential id. Should match with the potential id from above.\n",
    "- __potkey__ (*str, optional*) potential key. Should match with the potential key from above.\n",
    "- __elements__ (*list, optional*) The elements that the implementation simulates.  Should match with the elements from above if the implementation explicitly models each element.\n",
    "- __symbols__ (*list, optional*) The particle model symbols defined by the implementation.  Not needed if identical to elements.\n",
    "- __masses__ (*list, optional*) The masses to assign to each symbol/element.  Should be given if the implementation specifies the mass.  Required if elements is not given.\n",
    "- __units__ (*str, optional*) The LAMMPS units to use with the implementation.  Default value is 'metal'.\n",
    "- __atom_style__ (*str, optional*) The LAMMPS atom_style to use with the implementation.  Default value is 'atomic'.\n",
    "- __pair_style__ (*str*) The LAMMPS pair_style associated with the implementation.\n",
    "- __pair_style_terms__ (*list, optional*) Any additional terms that should appear on the pair_style command line."
   ]
  },
  {
   "cell_type": "code",
   "execution_count": 22,
   "metadata": {},
   "outputs": [],
   "source": [
    "kwargs = {}\n",
    "kwargs['id'] = implementation.id\n",
    "kwargs['key'] = implementation.key\n",
    "kwargs['potid'] = potential.id\n",
    "kwargs['potkey'] = potential.key\n",
    "\n",
    "kwargs['elements'] = potential.elements\n",
    "#kwargs['symbols'] = \n",
    "kwargs['masses'] = [196.9666, 102.9055]\n",
    "\n",
    "#kwargs['units'] =\n",
    "#kwargs['atom_style'] = \n",
    "\n",
    "kwargs['pair_style'] = 'adp'\n",
    "#kwargs['pair_style_terms'] = ['polar_off']"
   ]
  },
  {
   "cell_type": "markdown",
   "metadata": {},
   "source": [
    "Option #1 For pair potentials without parameter files, e.g lj/cut\n",
    "\n",
    "- __interactions__ (*list*) Lists parameters associated with each unique interaction.  Each value is a dict with\n",
    "    - __symbols__ (*list*) The two elemental model symbols to associate with the interaction.\n",
    "    - __terms__ (*list*) The terms that appear on the pair_coeff command line for that interaction."
   ]
  },
  {
   "cell_type": "code",
   "execution_count": null,
   "metadata": {},
   "outputs": [],
   "source": [
    "kwargs['interactions'] = [\n",
    "    {'symbols': ['Al', 'Al'], 'terms': [1.23, 3.412]},\n",
    "    {'symbols': ['Al', 'Cu'], 'terms': [1.23, 3.412]},\n",
    "    {'symbols': ['Cu', 'Cu'], 'terms': [1.23, 3.412]},\n",
    "]"
   ]
  },
  {
   "cell_type": "markdown",
   "metadata": {},
   "source": [
    "Option #2 For potentials with single parameter files, e.g. eam/alloy\n",
    "\n",
    "- __paramfile__ (*str*) The name (no path) of the potential's parameter file."
   ]
  },
  {
   "cell_type": "code",
   "execution_count": 23,
   "metadata": {},
   "outputs": [
    {
     "name": "stdout",
     "output_type": "stream",
     "text": [
      "AuRh.adp.txt\n"
     ]
    }
   ],
   "source": [
    "for file in filenames:\n",
    "    print(file.name)"
   ]
  },
  {
   "cell_type": "code",
   "execution_count": 24,
   "metadata": {},
   "outputs": [],
   "source": [
    "kwargs['paramfile'] = 'AuRh.adp.txt'"
   ]
  },
  {
   "cell_type": "markdown",
   "metadata": {},
   "source": [
    "Option #3 For potentials with a parameter file and a library file, e.g. meam\n",
    "\n",
    "- __libfile__ (*str*) The name (no path) of the potential's library parameter file.\n",
    "- __paramfile__ (*str, optional*) The name (no path) of the potential's parameter file, if one is used."
   ]
  },
  {
   "cell_type": "code",
   "execution_count": 24,
   "metadata": {},
   "outputs": [],
   "source": [
    "kwargs['libfile'] = 'library.meam'\n",
    "kwargs['paramfile'] = 'parameter.meam'"
   ]
  },
  {
   "cell_type": "markdown",
   "metadata": {},
   "source": [
    "Option #4 For classic EAM potentials, i.e. eam\n",
    "\n",
    "- __paramfiles__ (*list*) The names (no paths) of the parameter files for each unique element. Order should match order of elements."
   ]
  },
  {
   "cell_type": "code",
   "execution_count": null,
   "metadata": {},
   "outputs": [],
   "source": [
    "kwargs['paramfiles'] = []"
   ]
  },
  {
   "cell_type": "markdown",
   "metadata": {},
   "source": [
    "Option #5 For OpenKIM potentials\n",
    "\n",
    "- __kimid__ (*str*) The KIM model ID."
   ]
  },
  {
   "cell_type": "code",
   "execution_count": null,
   "metadata": {},
   "outputs": [],
   "source": [
    "kwargs['kimid'] = "
   ]
  },
  {
   "cell_type": "markdown",
   "metadata": {},
   "source": [
    "#### Build potential_LAMMPS"
   ]
  },
  {
   "cell_type": "code",
   "execution_count": 25,
   "metadata": {},
   "outputs": [],
   "source": [
    "lammps_potential = potentials.build_lammps_potential(**kwargs).potential()"
   ]
  },
  {
   "cell_type": "markdown",
   "metadata": {},
   "source": [
    "### 5.2 Load potential_LAMMPS from database "
   ]
  },
  {
   "cell_type": "code",
   "execution_count": 5,
   "metadata": {},
   "outputs": [],
   "source": [
    "lammps_potential = db.get_lammps_potential(id='2015--Broqvist-P--Ce-O--LAMMPS--ipr2')"
   ]
  },
  {
   "cell_type": "markdown",
   "metadata": {},
   "source": [
    "### 5.3 Load potential_LAMMPS from local file not in database "
   ]
  },
  {
   "cell_type": "code",
   "execution_count": 27,
   "metadata": {},
   "outputs": [],
   "source": [
    "fname = Path('C:/Users/lmh1/Documents/library/potential_LAMMPS/2019--Fischer-F--Cu-Ni--LAMMPS--ipr2.json')\n",
    "\n",
    "lammps_potential = potentials.PotentialLAMMPS(fname)"
   ]
  },
  {
   "cell_type": "markdown",
   "metadata": {},
   "source": [
    "### 5.4 Review and save"
   ]
  },
  {
   "cell_type": "markdown",
   "metadata": {},
   "source": [
    "#### Review model"
   ]
  },
  {
   "cell_type": "code",
   "execution_count": 26,
   "metadata": {},
   "outputs": [
    {
     "name": "stdout",
     "output_type": "stream",
     "text": [
      "{\n",
      "  \"potential-LAMMPS\": {\n",
      "    \"key\": \"607ab2d7-7f32-4556-9f12-d5c3304e7eab\", \n",
      "    \"id\": \"2008--Carberry-J--Au-Rh--LAMMPS--ipr1\", \n",
      "    \"potential\": {\n",
      "      \"key\": \"242c630d-017d-4212-a5c3-9c9f81bc1c29\", \n",
      "      \"id\": \"2008--Carberry-J--Au-Rh\"\n",
      "    }, \n",
      "    \"units\": \"metal\", \n",
      "    \"atom_style\": \"atomic\", \n",
      "    \"atom\": [\n",
      "      {\n",
      "        \"element\": \"Au\", \n",
      "        \"mass\": 196.9666\n",
      "      }, \n",
      "      {\n",
      "        \"element\": \"Rh\", \n",
      "        \"mass\": 102.9055\n",
      "      }\n",
      "    ], \n",
      "    \"pair_style\": {\n",
      "      \"type\": \"adp\"\n",
      "    }, \n",
      "    \"pair_coeff\": {\n",
      "      \"term\": [\n",
      "        {\n",
      "          \"file\": \"AuRh.adp.txt\"\n",
      "        }, \n",
      "        {\n",
      "          \"symbols\": \"True\"\n",
      "        }\n",
      "      ]\n",
      "    }\n",
      "  }\n",
      "}\n"
     ]
    }
   ],
   "source": [
    "print(lammps_potential.asmodel().json(indent=2))"
   ]
  },
  {
   "cell_type": "markdown",
   "metadata": {},
   "source": [
    "#### Save locally"
   ]
  },
  {
   "cell_type": "code",
   "execution_count": 27,
   "metadata": {},
   "outputs": [
    {
     "name": "stdout",
     "output_type": "stream",
     "text": [
      "1 LAMMPS potentials saved to localpath\n",
      " - 1 new potentials added\n",
      " - 1 potentials had files copied\n"
     ]
    }
   ],
   "source": [
    "db.save_lammps_potentials(lammps_potential, filenames=filenames, format='json',\n",
    "                          indent=4, overwrite=True, verbose=True)"
   ]
  },
  {
   "cell_type": "markdown",
   "metadata": {},
   "source": [
    "#### Upload to potentials.nist.gov"
   ]
  },
  {
   "cell_type": "code",
   "execution_count": 28,
   "metadata": {},
   "outputs": [
    {
     "name": "stdout",
     "output_type": "stream",
     "text": [
      "record 2008--Carberry-J--Au-Rh--LAMMPS--ipr1 (5f4d14e25b91e500386cd528) successfully uploaded.\n",
      "record 5f4d14e25b91e500386cd528 assigned to workspace 5de9613a75d7d40014ffb6fc\n"
     ]
    }
   ],
   "source": [
    "db.upload_lammps_potential(lammps_potential, workspace=workspace, verbose=True)"
   ]
  },
  {
   "cell_type": "code",
   "execution_count": 29,
   "metadata": {},
   "outputs": [
    {
     "name": "stdout",
     "output_type": "stream",
     "text": [
      "deleted C:\\Users\\lmh1\\Documents\\library\\potential_LAMMPS\\2008--Carberry-J--Au-Rh--LAMMPS--ipr1.json\n",
      "record 2008--Carberry-J--Au-Rh--LAMMPS--ipr1 (5f4d14e25b91e500386cd528) has been deleted.\n"
     ]
    }
   ],
   "source": [
    "db.delete_lammps_potential(lammps_potential, local=True, remote=True, verbose=True)"
   ]
  },
  {
   "cell_type": "code",
   "execution_count": 30,
   "metadata": {},
   "outputs": [
    {
     "name": "stdout",
     "output_type": "stream",
     "text": [
      "279 LAMMPS potentials saved to localpath\n",
      " - 1 existing potentials updated\n",
      " - 278 duplicate potentials skipped\n",
      "Files for 1 LAMMPS potentials downloaded\n"
     ]
    }
   ],
   "source": [
    "db.download_lammps_potentials(format='json', indent=4, getfiles=True, overwrite=True, verbose=True)"
   ]
  },
  {
   "cell_type": "markdown",
   "metadata": {},
   "source": [
    "- - -\n",
    "\n",
    "## 5. Actions\n",
    "\n",
    "Actions are used by the website to note changes in content and representation. "
   ]
  },
  {
   "cell_type": "markdown",
   "metadata": {},
   "source": [
    "### 5.1 Build action"
   ]
  },
  {
   "cell_type": "markdown",
   "metadata": {},
   "source": [
    "#### Option #1: new posting(s)"
   ]
  },
  {
   "cell_type": "code",
   "execution_count": 22,
   "metadata": {},
   "outputs": [
    {
     "name": "stdout",
     "output_type": "stream",
     "text": [
      "2021--Wang-G-Xu-Y-Qian-P-Su-Y--Au-Rh\n"
     ]
    }
   ],
   "source": [
    "for complete_potential in complete_potentials:\n",
    "    print(complete_potential.id)"
   ]
  },
  {
   "cell_type": "code",
   "execution_count": 23,
   "metadata": {},
   "outputs": [],
   "source": [
    "action = potentials.Action(\n",
    "    type = 'new posting',\n",
    "    potentials = complete_potentials,\n",
    "   # date = None,\n",
    "    comment = 'New posting for Au-Rh',\n",
    ")"
   ]
  },
  {
   "cell_type": "markdown",
   "metadata": {},
   "source": [
    "#### Option #2: updated posting(s)"
   ]
  },
  {
   "cell_type": "code",
   "execution_count": 26,
   "metadata": {},
   "outputs": [],
   "source": [
    "action = potentials.Action(\n",
    "    type = 'updated posting',\n",
    "    potentials = complete_potentials,\n",
    "    date = None,\n",
    "    comment = 'LAMMPS-compatible version added',\n",
    ")"
   ]
  },
  {
   "cell_type": "markdown",
   "metadata": {},
   "source": [
    "#### Option #3: retraction"
   ]
  },
  {
   "cell_type": "code",
   "execution_count": null,
   "metadata": {},
   "outputs": [],
   "source": [
    "action = potentials.Action(\n",
    "    type = 'retraction',\n",
    "    potentials = complete_potentials,\n",
    "    date = None,        \n",
    "    comment =,\n",
    ")"
   ]
  },
  {
   "cell_type": "markdown",
   "metadata": {},
   "source": [
    "#### Option #4: site change"
   ]
  },
  {
   "cell_type": "code",
   "execution_count": 193,
   "metadata": {},
   "outputs": [],
   "source": [
    "action = potentials.Action(\n",
    "    type = 'site change',\n",
    "    date = None,\n",
    "    comment = 'IDs added for all non-LAMMPS implementations. The handling of fictional potentials made consistent with \"real\" potentials.',\n",
    "    potentials = []\n",
    ")"
   ]
  },
  {
   "cell_type": "markdown",
   "metadata": {},
   "source": [
    "### 5.2 Look and save"
   ]
  },
  {
   "cell_type": "code",
   "execution_count": 24,
   "metadata": {},
   "outputs": [
    {
     "data": {
      "text/html": [
       "<b>new posting (2020-08-25)</b> New posting for Au-Rh\n",
       "<br/><a href=\"https://www.ctcms.nist.gov/potentials/entry/2021--Wang-G-Xu-Y-Qian-P-Su-Y--Au-Rh\">2021--Wang-G-Xu-Y-Qian-P-Su-Y--Au-Rh</a>"
      ],
      "text/plain": [
       "<IPython.core.display.HTML object>"
      ]
     },
     "metadata": {},
     "output_type": "display_data"
    }
   ],
   "source": [
    "display(HTML(action.html()))"
   ]
  },
  {
   "cell_type": "code",
   "execution_count": 25,
   "metadata": {},
   "outputs": [
    {
     "name": "stdout",
     "output_type": "stream",
     "text": [
      "record 2020-08-25 New posting for Au-Rh (5f459a29ab2f7c0033c3a350) successfully uploaded.\n"
     ]
    }
   ],
   "source": [
    "title = f\"{action.date} {action.comment[:90]}\"\n",
    "content = action.asmodel().xml()\n",
    "template = 'Action'\n",
    "db.cdcs.upload_record(content=content, template=template, title=title, workspace=workspace)"
   ]
  },
  {
   "cell_type": "markdown",
   "metadata": {},
   "source": [
    "- - -\n",
    "\n",
    "## 6. Requests\n",
    "\n",
    "Requests are used by the website to list when people are looking for specific models that we don't have."
   ]
  },
  {
   "cell_type": "markdown",
   "metadata": {},
   "source": [
    "### 6.1 Build request"
   ]
  },
  {
   "cell_type": "code",
   "execution_count": 63,
   "metadata": {},
   "outputs": [],
   "source": [
    "request = potentials.Request(\n",
    "    #comment = 'reactive potentials',\n",
    "    date = datetime.date(2020, 1, 2),\n",
    "    systems = [\n",
    "        {\n",
    "            #'formula':,\n",
    "            'elements': ['Mg', 'Cu'],\n",
    "        },\n",
    "        #{\n",
    "        #    'formula': 'Moose',\n",
    "       #     'elements': ['Ti', 'Cl'],\n",
    "       # },\n",
    "    ]\n",
    ")"
   ]
  },
  {
   "cell_type": "markdown",
   "metadata": {},
   "source": [
    "### 6.2 Look and save"
   ]
  },
  {
   "cell_type": "code",
   "execution_count": 64,
   "metadata": {},
   "outputs": [
    {
     "data": {
      "text/html": [
       "<b>Mg-Cu</b> (2020-01-02)"
      ],
      "text/plain": [
       "<IPython.core.display.HTML object>"
      ]
     },
     "metadata": {},
     "output_type": "display_data"
    }
   ],
   "source": [
    "display(HTML(request.html()))"
   ]
  },
  {
   "cell_type": "code",
   "execution_count": 65,
   "metadata": {},
   "outputs": [
    {
     "name": "stdout",
     "output_type": "stream",
     "text": [
      "record 2020-01-02 Mg Cu (5e5eb358ab2f7c0033011111) successfully uploaded.\n"
     ]
    }
   ],
   "source": [
    "model = request.asmodel()\n",
    "elements = ' '.join(model.finds('element'))\n",
    "\n",
    "title = f'{request.date} {elements}'\n",
    "content = model.xml()\n",
    "template = 'Request'\n",
    "\n",
    "db.cdcs.upload_record(content=content, template=template, title=title, workspace=workspace)"
   ]
  },
  {
   "cell_type": "markdown",
   "metadata": {},
   "source": [
    "## 7. Related models"
   ]
  },
  {
   "cell_type": "code",
   "execution_count": 61,
   "metadata": {},
   "outputs": [],
   "source": [
    "import json\n",
    "\n",
    "def add_related_models(localpath, interaction, model1, model2):\n",
    "    \n",
    "    with open(Path(localpath, 'site/related-interactions.json')) as f:\n",
    "        related_models = json.load(f)\n",
    "    \n",
    "    # If no shared models for that interaction yet\n",
    "    if interaction not in related_models:\n",
    "        print('new interaction')\n",
    "        related_models[interaction] = [[model1, model2]]\n",
    "            \n",
    "    else:\n",
    "        int_models = related_models[interaction]\n",
    "        \n",
    "        # Search for set with one of the elements\n",
    "        match = False\n",
    "        for i in range(len(int_models)):\n",
    "            modelset = int_models[i]\n",
    "            if model1 in modelset:\n",
    "                if match is False:\n",
    "                    match = i\n",
    "                else:\n",
    "                    raise ValueError('given models found in multiple sets!')\n",
    "            if model2 in modelset:\n",
    "                if match is False or match == i:\n",
    "                    match = i\n",
    "                else:\n",
    "                    raise ValueError('given models found in multiple sets!')\n",
    "                    \n",
    "        if match is False:\n",
    "            print('new set')\n",
    "            int_models.append(sorted([model1, model2]))\n",
    "        else:\n",
    "            if model1 not in int_models[match]:\n",
    "                int_models[match] = sorted(int_models[match] + [model1])\n",
    "                print('model1 added to existing set')\n",
    "            elif model2 not in int_models[match]:\n",
    "                int_models[match] = sorted(int_models[match] + [model2])\n",
    "                print('model2 added to existing set')\n",
    "            else:\n",
    "                print('both models already in existing set')\n",
    "    \n",
    "    with open(Path(localpath, 'site/related-interactions.json'), 'w') as f:\n",
    "        json.dump(related_models, fp=f)"
   ]
  },
  {
   "cell_type": "code",
   "execution_count": 63,
   "metadata": {},
   "outputs": [
    {
     "name": "stdout",
     "output_type": "stream",
     "text": [
      "model2 added to existing set\n"
     ]
    }
   ],
   "source": [
    "interaction = 'Ni'\n",
    "model1 = '2004--Mishin-Y--Ni-Al'\n",
    "model2 = '2019--Fischer-F-Schmitz-G-Eich-S-M--Cu-Ni'\n",
    "machine = 'desktop'\n",
    "\n",
    "if machine == 'desktop':\n",
    "    localpath = Path('E:/website/IPR-website/potentials/')\n",
    "elif machine == 'laptop':\n",
    "    localpath = Path('C:/Users/lmh1/Documents/website/IPR-website/potentials/')\n",
    "\n",
    "add_related_models(localpath, interaction, model1, model2)"
   ]
  },
  {
   "cell_type": "code",
   "execution_count": null,
   "metadata": {},
   "outputs": [],
   "source": []
  }
 ],
 "metadata": {
  "kernelspec": {
   "display_name": "Python 3",
   "language": "python",
   "name": "python3"
  },
  "language_info": {
   "codemirror_mode": {
    "name": "ipython",
    "version": 3
   },
   "file_extension": ".py",
   "mimetype": "text/x-python",
   "name": "python",
   "nbconvert_exporter": "python",
   "pygments_lexer": "ipython3",
   "version": "3.7.3"
  }
 },
 "nbformat": 4,
 "nbformat_minor": 2
}
