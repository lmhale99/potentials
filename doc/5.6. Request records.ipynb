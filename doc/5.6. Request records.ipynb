{
 "cells": [
  {
   "cell_type": "markdown",
   "id": "dfbf61f8-0199-42a6-a390-fa0621d95b75",
   "metadata": {},
   "source": [
    "# Request records\n",
    "\n",
    "The Request records indicate the requests for new/missing potentials that users have contacted the NIST Interatomic Potentials Repository asking for.  These are the listings that appear on the \"requests\" page. \n",
    "\n",
    "__NOTE:__ Most users will not likely interact with these records, but this Notebook is included for completeness."
   ]
  },
  {
   "cell_type": "code",
   "execution_count": 1,
   "id": "ec833057-82c4-48bb-9511-f29a79308745",
   "metadata": {},
   "outputs": [
    {
     "name": "stdout",
     "output_type": "stream",
     "text": [
      "Notebook tested for potentials version 0.3.0\n"
     ]
    }
   ],
   "source": [
    "# https://github.com/lmhale99/potentials\n",
    "import potentials\n",
    "\n",
    "print('Notebook tested for potentials version', potentials.__version__)"
   ]
  },
  {
   "cell_type": "code",
   "execution_count": 2,
   "id": "de0005b3-eb9f-47e7-8130-2dff66174ada",
   "metadata": {},
   "outputs": [],
   "source": [
    "potdb = potentials.Database(local=True, remote=True)"
   ]
  },
  {
   "cell_type": "markdown",
   "id": "d6898e6b-a2f7-4eb7-8fe2-d1d136be9267",
   "metadata": {},
   "source": [
    "## 1. Database methods\n",
    "\n",
    "### 1.1. get_requests(), get_request(), download_requests()\n",
    "\n",
    "These methods build upon the Database's corresponding generic record methods with style='Request' by defining the specific kwargs query parameters associated with the Potential record style.\n",
    "See the [4. Database class](4. Database class.ipynb) Notebook for details on the generic record methods.\n",
    "\n",
    "Query parameters\n",
    "\n",
    "- __name__ (*str or list*) The record name(s) to parse by.\n",
    "- __date__ (*str or list*) The date associated with the record.\n",
    "- __element__ (*str or list*) Element(s) to search for in the request.\n",
    "- __comment__ (*str or list*) Term(s) to search for in the request's comment field."
   ]
  },
  {
   "cell_type": "code",
   "execution_count": 3,
   "id": "296a6270-f451-4ce5-b2b7-05a9692f0524",
   "metadata": {},
   "outputs": [
    {
     "name": "stdout",
     "output_type": "stream",
     "text": [
      "Found 0 matching Request records in local library\n",
      "Found 5 matching Request records in remote library\n"
     ]
    },
    {
     "data": {
      "text/html": [
       "<div>\n",
       "<style scoped>\n",
       "    .dataframe tbody tr th:only-of-type {\n",
       "        vertical-align: middle;\n",
       "    }\n",
       "\n",
       "    .dataframe tbody tr th {\n",
       "        vertical-align: top;\n",
       "    }\n",
       "\n",
       "    .dataframe thead th {\n",
       "        text-align: right;\n",
       "    }\n",
       "</style>\n",
       "<table border=\"1\" class=\"dataframe\">\n",
       "  <thead>\n",
       "    <tr style=\"text-align: right;\">\n",
       "      <th></th>\n",
       "      <th>name</th>\n",
       "      <th>date</th>\n",
       "      <th>comment</th>\n",
       "      <th>systems</th>\n",
       "    </tr>\n",
       "  </thead>\n",
       "  <tbody>\n",
       "    <tr>\n",
       "      <th>0</th>\n",
       "      <td>2016-11-27-Fe-V-C-N</td>\n",
       "      <td>2016-11-27</td>\n",
       "      <td>2NN-MEAM-fs format</td>\n",
       "      <td>[{'formula': None, 'elements': ['Fe', 'V', 'C'...</td>\n",
       "    </tr>\n",
       "    <tr>\n",
       "      <th>1</th>\n",
       "      <td>2018-11-18-V-Ti</td>\n",
       "      <td>2018-11-18</td>\n",
       "      <td>None</td>\n",
       "      <td>[{'formula': None, 'elements': ['V', 'Ti']}]</td>\n",
       "    </tr>\n",
       "    <tr>\n",
       "      <th>2</th>\n",
       "      <td>2019-05-13-Ti-Al-V</td>\n",
       "      <td>2019-05-13</td>\n",
       "      <td>for Ti-6Al-4V</td>\n",
       "      <td>[{'formula': None, 'elements': ['Ti', 'Al', 'V...</td>\n",
       "    </tr>\n",
       "    <tr>\n",
       "      <th>3</th>\n",
       "      <td>2020-12-17 W Ta V Cr Ti</td>\n",
       "      <td>2020-12-17</td>\n",
       "      <td>for high-entropy alloys</td>\n",
       "      <td>[{'formula': None, 'elements': ['W', 'Ta', 'V'...</td>\n",
       "    </tr>\n",
       "    <tr>\n",
       "      <th>4</th>\n",
       "      <td>2021-03-10 V C</td>\n",
       "      <td>2021-03-10</td>\n",
       "      <td>for vanadium carbide</td>\n",
       "      <td>[{'formula': None, 'elements': ['V', 'C']}]</td>\n",
       "    </tr>\n",
       "  </tbody>\n",
       "</table>\n",
       "</div>"
      ],
      "text/plain": [
       "                      name        date                  comment  \\\n",
       "0      2016-11-27-Fe-V-C-N  2016-11-27       2NN-MEAM-fs format   \n",
       "1          2018-11-18-V-Ti  2018-11-18                     None   \n",
       "2       2019-05-13-Ti-Al-V  2019-05-13            for Ti-6Al-4V   \n",
       "3  2020-12-17 W Ta V Cr Ti  2020-12-17  for high-entropy alloys   \n",
       "4           2021-03-10 V C  2021-03-10     for vanadium carbide   \n",
       "\n",
       "                                             systems  \n",
       "0  [{'formula': None, 'elements': ['Fe', 'V', 'C'...  \n",
       "1       [{'formula': None, 'elements': ['V', 'Ti']}]  \n",
       "2  [{'formula': None, 'elements': ['Ti', 'Al', 'V...  \n",
       "3  [{'formula': None, 'elements': ['W', 'Ta', 'V'...  \n",
       "4        [{'formula': None, 'elements': ['V', 'C']}]  "
      ]
     },
     "execution_count": 3,
     "metadata": {},
     "output_type": "execute_result"
    }
   ],
   "source": [
    "requests, requests_df = potdb.get_requests(verbose=True, element='V', return_df=True)\n",
    "requests_df"
   ]
  },
  {
   "cell_type": "markdown",
   "id": "971097f9-402a-466b-b20d-51a1129e41c5",
   "metadata": {},
   "source": [
    "### 1.2. save_request(), upload_request(), delete_request()\n",
    "\n",
    "These methods are identical to calling the Database's corresponding generic record methods with style='Request'.  See the [4. Database class](4. Database class.ipynb) Notebook for details on the generic record methods."
   ]
  },
  {
   "cell_type": "markdown",
   "id": "4c6707a5-8962-45aa-9a88-657f385b04b4",
   "metadata": {},
   "source": [
    "## 2. Request class"
   ]
  },
  {
   "cell_type": "code",
   "execution_count": 4,
   "id": "6ec07a9b-bf02-4b5b-b7de-743838a4d8f3",
   "metadata": {},
   "outputs": [],
   "source": [
    "request = requests[0]"
   ]
  },
  {
   "cell_type": "markdown",
   "id": "60b498ee-918a-4d2c-8ba2-c6729d7aca25",
   "metadata": {},
   "source": [
    "### 2.1. Python representation\n",
    "\n",
    "Style-specific methods and attributes:\n",
    "\n",
    "- __date__ (*str*) The date associated with the update.\n",
    "- __comment__ (*str or None*) Any additional comments associated with the request.\n",
    "- __systems__ (*list or None*) A list of elemental systems that the user is requesting a model for.\n",
    "- __add_system()__ Initializes and appends a System object to systems.  The System class is a component classes that contains fields \"formula\" for chemical formulas and \"elements\" that lists elements."
   ]
  },
  {
   "cell_type": "code",
   "execution_count": 5,
   "id": "b24314a7-e71a-46b5-a3c2-adcdd0a31901",
   "metadata": {},
   "outputs": [
    {
     "data": {
      "text/plain": [
       "['Fe', 'V', 'C', 'N']"
      ]
     },
     "execution_count": 5,
     "metadata": {},
     "output_type": "execute_result"
    }
   ],
   "source": [
    "request.systems[0].elements"
   ]
  },
  {
   "cell_type": "code",
   "execution_count": 6,
   "id": "227436a7-0c28-402a-aeac-3d9eb4de94ec",
   "metadata": {},
   "outputs": [
    {
     "data": {
      "text/plain": [
       "'2NN-MEAM-fs format'"
      ]
     },
     "execution_count": 6,
     "metadata": {},
     "output_type": "execute_result"
    }
   ],
   "source": [
    "request.comment"
   ]
  },
  {
   "cell_type": "markdown",
   "id": "9ea542ae-8d1b-4ad6-aeff-c2f7a80936d7",
   "metadata": {},
   "source": [
    "### 2.2. Data Model representation\n",
    "\n",
    "Style-specific notes:\n",
    "\n",
    "- The kwargs that mongoquery and cdcsquery support are the same as the query kwargs listed above for the database methods.\n",
    "  "
   ]
  },
  {
   "cell_type": "code",
   "execution_count": 7,
   "id": "d7ec6761-5fbc-41dd-880b-d117ba30cb01",
   "metadata": {},
   "outputs": [
    {
     "data": {
      "text/html": [
       "<div xmlns=\"http://www.w3.org/TR/xhtml1/strict\"><b>Fe-V-C-N  </b>2NN-MEAM-fs format (2016-11-27)</div>"
      ],
      "text/plain": [
       "<IPython.core.display.HTML object>"
      ]
     },
     "metadata": {},
     "output_type": "display_data"
    }
   ],
   "source": [
    "request.html(render=True)"
   ]
  },
  {
   "cell_type": "markdown",
   "id": "ca2de82a-9926-49e3-9b19-5a72ec3d6ced",
   "metadata": {},
   "source": [
    "### 2.3. Metadata representation\n",
    "\n",
    "Style-specific notes:\n",
    "\n",
    "- The kwargs that pandasfilter supports are the same as the query kwargs listed above for the database methods."
   ]
  },
  {
   "cell_type": "code",
   "execution_count": 8,
   "id": "3abf4593-918d-4b72-beb2-8951a5d427c7",
   "metadata": {},
   "outputs": [
    {
     "data": {
      "text/plain": [
       "{'name': '2016-11-27-Fe-V-C-N',\n",
       " 'date': datetime.date(2016, 11, 27),\n",
       " 'comment': '2NN-MEAM-fs format',\n",
       " 'systems': [{'formula': None, 'elements': ['Fe', 'V', 'C', 'N']}]}"
      ]
     },
     "execution_count": 8,
     "metadata": {},
     "output_type": "execute_result"
    }
   ],
   "source": [
    "request.metadata()"
   ]
  }
 ],
 "metadata": {
  "kernelspec": {
   "display_name": "Python 3",
   "language": "python",
   "name": "python3"
  },
  "language_info": {
   "codemirror_mode": {
    "name": "ipython",
    "version": 3
   },
   "file_extension": ".py",
   "mimetype": "text/x-python",
   "name": "python",
   "nbconvert_exporter": "python",
   "pygments_lexer": "ipython3",
   "version": "3.7.3"
  }
 },
 "nbformat": 4,
 "nbformat_minor": 5
}
