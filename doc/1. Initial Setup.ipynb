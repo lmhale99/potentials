{
 "cells": [
  {
   "cell_type": "markdown",
   "metadata": {},
   "source": [
    "# Initial Setup\n",
    "\n",
    "This Notebook describes the various setup options for using the potentials package that users can control.  While none of these steps are required, they provide users more control over how the package works.  \n",
    "\n",
    "1. Check/set local paths\n",
    "2. Change default database settings\n",
    "3. Set default list of installed KIM models\n",
    "4. Create local copy of database\n",
    "\n",
    "Most of these features are controlled by the Settings class."
   ]
  },
  {
   "cell_type": "code",
   "execution_count": 1,
   "metadata": {},
   "outputs": [],
   "source": [
    "import potentials\n",
    "from potentials import settings"
   ]
  },
  {
   "cell_type": "markdown",
   "metadata": {},
   "source": [
    "## 1. Check/set local paths\n",
    "\n",
    "### 1.1. Check/set settings file location\n",
    "\n",
    "The potentials package handles user-defined settings by creating a settings.json file.  This file is located in the user's home directory. The current directory and the settings file in it can be viewed using the __directory__ and __filename__ attributes."
   ]
  },
  {
   "cell_type": "code",
   "execution_count": 2,
   "metadata": {},
   "outputs": [
    {
     "name": "stdout",
     "output_type": "stream",
     "text": [
      "C:\\Users\\lmh1\\.NISTpotentials\n",
      "C:\\Users\\lmh1\\.NISTpotentials\\settings.json\n"
     ]
    }
   ],
   "source": [
    "print(settings.directory)\n",
    "print(settings.filename)"
   ]
  },
  {
   "cell_type": "markdown",
   "metadata": {},
   "source": [
    "The directory can be changed using __set_directory()__, if you wish.  This can be useful if multiple environments with different home directories are to share the same settings.  __NOTE__: the directory can only be changed if no other settings have been modified!"
   ]
  },
  {
   "cell_type": "code",
   "execution_count": 3,
   "metadata": {},
   "outputs": [],
   "source": [
    "#settings.set_directory('C:/Users/lmh1/test')"
   ]
  },
  {
   "cell_type": "markdown",
   "metadata": {},
   "source": [
    "The directory and filename attributes will reflect this change.  However, the original default values are still retained in the __defaultdirectory__ and __defaultfilename__ attributes."
   ]
  },
  {
   "cell_type": "code",
   "execution_count": 3,
   "metadata": {},
   "outputs": [
    {
     "name": "stdout",
     "output_type": "stream",
     "text": [
      "C:\\Users\\lmh1\\.NISTpotentials\n",
      "C:\\Users\\lmh1\\.NISTpotentials\\settings.json\n",
      "C:\\Users\\lmh1\\.NISTpotentials\n",
      "C:\\Users\\lmh1\\.NISTpotentials\\settings.json\n"
     ]
    }
   ],
   "source": [
    "print(settings.directory)\n",
    "print(settings.filename)\n",
    "print(settings.defaultdirectory)\n",
    "print(settings.defaultfilename)"
   ]
  },
  {
   "cell_type": "markdown",
   "metadata": {},
   "source": [
    "The settings directory can be reverted back to the default by using __unset_directory()__."
   ]
  },
  {
   "cell_type": "code",
   "execution_count": 4,
   "metadata": {},
   "outputs": [
    {
     "name": "stdout",
     "output_type": "stream",
     "text": [
      "No settings directory set, still using default C:\\Users\\lmh1\\.NISTpotentials\n",
      "C:\\Users\\lmh1\\.NISTpotentials\n"
     ]
    }
   ],
   "source": [
    "settings.unset_directory()\n",
    "print(settings.directory)"
   ]
  },
  {
   "cell_type": "markdown",
   "metadata": {},
   "source": [
    "### 1.2. Check/set local library directory\n",
    "\n",
    "The location of the directory to use for the local copy of the database (i.e. the library) by default is within the settings directory.  The location be checked using the __library_directory__ attribute and changed with the __set_library_directory()__ and __unset_library_directory()__ methods.  Changing the library directory allows for the local records to be stored in a more accessible location than the default path."
   ]
  },
  {
   "cell_type": "code",
   "execution_count": 5,
   "metadata": {},
   "outputs": [
    {
     "data": {
      "text/plain": [
       "WindowsPath('C:/Users/lmh1/Documents/library')"
      ]
     },
     "execution_count": 5,
     "metadata": {},
     "output_type": "execute_result"
    }
   ],
   "source": [
    "settings.library_directory"
   ]
  },
  {
   "cell_type": "code",
   "execution_count": 6,
   "metadata": {},
   "outputs": [
    {
     "name": "stdout",
     "output_type": "stream",
     "text": [
      "Library directory already set to C:\\Users\\lmh1\\Documents\\library\n",
      "Overwrite? (yes or no): no\n"
     ]
    }
   ],
   "source": [
    "settings.set_library_directory('C:/Users/lmh1/Documents/library')"
   ]
  },
  {
   "cell_type": "code",
   "execution_count": 7,
   "metadata": {},
   "outputs": [
    {
     "data": {
      "text/plain": [
       "WindowsPath('C:/Users/lmh1/Documents/library')"
      ]
     },
     "execution_count": 7,
     "metadata": {},
     "output_type": "execute_result"
    }
   ],
   "source": [
    "settings.library_directory"
   ]
  },
  {
   "cell_type": "code",
   "execution_count": 8,
   "metadata": {},
   "outputs": [
    {
     "name": "stdout",
     "output_type": "stream",
     "text": [
      "Remove library directory C:\\Users\\lmh1\\Documents\\library and reset to C:\\Users\\lmh1\\.NISTpotentials\\library?\n",
      "Delete settings? (must type yes): no\n"
     ]
    }
   ],
   "source": [
    "settings.unset_library_directory()"
   ]
  },
  {
   "cell_type": "markdown",
   "metadata": {},
   "source": [
    "## 2. Change default database settings\n",
    "\n",
    "The default values of some optional parameters associated with how the Database class operates can also be changed.  Setting these may be useful depending on how you primarily intend to use the potentials package.\n",
    "\n",
    "- __remote__ (*bool*) indicates if the database will search for records from the remote database, i.e. potentials.nist.gov.\n",
    "- __local__ (*bool*) indicates if the database will search for records from the local path database.\n",
    "- __pot_dir_style__ (*str*) indicates where the associated parameter files for LAMMPS potentials are expected to be found when running simulations.  This setting alters where the LAMMPS commands point to and where parameter files are copied/downloaded to.\n",
    "    - \"working\" means parameter files are expected in the working directory.\n",
    "    - \"id\" means parameter files are expected in a subdirectory of the working directory matching the LAMMPS potential's id.\n",
    "    - \"local\" means parameter files are expected in the local path database.\n",
    "    \n"
   ]
  },
  {
   "cell_type": "code",
   "execution_count": 9,
   "metadata": {},
   "outputs": [
    {
     "name": "stdout",
     "output_type": "stream",
     "text": [
      "Default Database settings are:\n",
      "True\n",
      "False\n",
      "working\n"
     ]
    }
   ],
   "source": [
    "print('Default Database settings are:')\n",
    "print(settings.local)\n",
    "print(settings.remote)\n",
    "print(settings.pot_dir_style)"
   ]
  },
  {
   "cell_type": "markdown",
   "metadata": {},
   "source": [
    "Each of these values has a corresponding \"__set__\" method that allows for the default value to be changed.  Note that the default values can always be overridden when initializing and using the Database class."
   ]
  },
  {
   "cell_type": "code",
   "execution_count": 5,
   "metadata": {},
   "outputs": [
    {
     "name": "stdout",
     "output_type": "stream",
     "text": [
      "Loaded 401 local LAMMPS potentials\n",
      "Building lammps potentials for kim models\n",
      "Found 450 records in local library\n",
      "Loaded 302 installed KIM LAMMPS potentials\n",
      "\n",
      "''\n"
     ]
    }
   ],
   "source": [
    "# Local and remote change where the files are accessed from\n",
    "settings.set_local(True)\n",
    "settings.set_remote(False)\n",
    "\n",
    "# pot_dir_style changes where\n",
    "#settings.set_pot_dir_style('working')\n",
    "settings.set_pot_dir_style('id')\n",
    "#settings.set_pot_dir_style('local')\n",
    "\n",
    "# Initialize default database that uses the values set above and loads LAMMPS potentials\n",
    "db = potentials.Database(load='lammps_potentials', verbose=True)\n",
    "\n",
    "# Show pot dir for the first loaded LAMMPS potential\n",
    "print()\n",
    "print(repr(db.lammps_potentials[0].pot_dir))"
   ]
  },
  {
   "cell_type": "markdown",
   "metadata": {},
   "source": [
    "## 3. Set default list of installed KIM models\n",
    "\n",
    "*Added version 0.3.0* \n",
    "\n",
    "In order for models from openKIM to be included alongside native LAMMPS potentials, the potentials package needs to know which kim models to include.  The list can be defined during Database initialization, or default options can be saved using settings for convenience.  The two related settings options are\n",
    "\n",
    "- Explicitly saving a list of kim models using __set_kim_models()__, which by default will save the list to __kim_models_file__ located in the settings directory. The list can be deleted using __unset_kim_models()__.\n",
    "- Specifying a default __kim_api_directory__ where the kim-api-activate and kim-api-collections-management commands are located for a particular kim-api version.  This allows for potentials to extract the list of currently installed kim models whenever LAMMPS potentials are loaded.  The default value can be set using __set_kim_api_directory()__ and forgotten using __unset_kim_api_directory()__.\n",
    "\n",
    "__NOTE__ that if both settings are used, the default loading behavior will use the values in the kim_models_file over generating the values using the kim api.  If you want to building the list using the kim api, then call unset_kim_models() to delete the kim_models_file."
   ]
  },
  {
   "cell_type": "code",
   "execution_count": null,
   "metadata": {},
   "outputs": [],
   "source": []
  },
  {
   "cell_type": "markdown",
   "metadata": {},
   "source": [
    "## 4. Create local copy of database\n",
    "\n",
    "The local database gives users the options to work completely offline with their own copy of the database and/or to interact with private user-defined records in the same manner as the publicly released records managed by the Interatomic Potentials Repository project.\n",
    "\n",
    "There are two recommended methods for copying the database:\n",
    "\n",
    "1. Using a potentials.Database object, call one of the download methods.\n",
    "2. Download/clone https://github.com/lmhale99/potentials-library to the local library directory."
   ]
  },
  {
   "cell_type": "markdown",
   "metadata": {},
   "source": [
    "### 4.1. Using download methods\n",
    "\n",
    "The Database class has the following methods:\n",
    "\n",
    "- download_citations() downloads all Citation records\n",
    "- download_potentials() downloads all Potential records\n",
    "- download_lammps_potentials() downloads all potential_LAMMPS records and the associated parameter files\n",
    "- download_all() calls all three of the above methods at once.\n",
    "\n",
    "When downloading records through this method, there is the option to only save records that do not already exist.  This allows for local modifications to be made to the records, but prevents updates from being noted."
   ]
  },
  {
   "cell_type": "code",
   "execution_count": 15,
   "metadata": {},
   "outputs": [
    {
     "name": "stdout",
     "output_type": "stream",
     "text": [
      "334 citations saved to localpath\n",
      " - 334 duplicate citations skipped\n"
     ]
    }
   ],
   "source": [
    "db = potentials.Database(local=True, remote=True)\n",
    "db.download_citations(verbose=True)"
   ]
  },
  {
   "cell_type": "markdown",
   "metadata": {},
   "source": [
    "### 4.2. Copying from github\n",
    "\n",
    "The https://github.com/lmhale99/potentials-library repository hosts copies of all records stored in the potentials.nist.gov database allowing for users to get all in one bulk download, perform incremental updates, and manage their own records with version control.  Obtaining the records in this manner has many benefits, such as quicker/easier downloads, all record styles in the database besides the three handled by the potentials package, and more direct control for users, but is not yet guaranteed to be 100% up to date with the database itself."
   ]
  }
 ],
 "metadata": {
  "kernelspec": {
   "display_name": "Python 3",
   "language": "python",
   "name": "python3"
  },
  "language_info": {
   "codemirror_mode": {
    "name": "ipython",
    "version": 3
   },
   "file_extension": ".py",
   "mimetype": "text/x-python",
   "name": "python",
   "nbconvert_exporter": "python",
   "pygments_lexer": "ipython3",
   "version": "3.7.4"
  }
 },
 "nbformat": 4,
 "nbformat_minor": 2
}
