{
 "cells": [
  {
   "cell_type": "markdown",
   "metadata": {},
   "source": [
    "# Citations\n",
    "\n",
    "Citation records describe a single citation associated with a potential.  This citation can either be a published citation with full bibliographic information, or an unpublished citation giving a potential a creation year and primary author."
   ]
  },
  {
   "cell_type": "code",
   "execution_count": 1,
   "metadata": {},
   "outputs": [
    {
     "name": "stdout",
     "output_type": "stream",
     "text": [
      "Notebook tested for potentials version 0.3.b\n"
     ]
    }
   ],
   "source": [
    "# https://github.com/lmhale99/potentials\n",
    "import potentials\n",
    "\n",
    "print('Notebook tested for potentials version', potentials.__version__)"
   ]
  },
  {
   "cell_type": "code",
   "execution_count": 2,
   "metadata": {},
   "outputs": [],
   "source": [
    "potdb = potentials.Database(local=True, remote=True)"
   ]
  },
  {
   "cell_type": "markdown",
   "metadata": {},
   "source": [
    "## 1. Query citations from the database\n",
    "\n",
    "### 1.1. get_citations() and get_citation()\n",
    "\n",
    "Citation records can be queried using the get_citations() and get_citation() methods of potentials.Database.  The plural version will return all entries matching the query.  The singular version is designed to return exactly one matching record if it exists, or throw an error if none or multiple matching records are found. \n",
    "\n",
    "Method options\n",
    "\n",
    "- __local__ (*bool, optional*) Indicates if the local location is to be searched.  Default value matches the value set when the database was initialized.\n",
    "- __remote__ (*bool, optional*) Indicates if the remote location is to be searched.  Default value matches the value set when the database was initialized.\n",
    "- __verbose__ (*bool, optional*) If True, info messages will be printed during operations.  Default value is False.\n",
    "- __return_df__ (*bool, optional*) If True, then the corresponding pandas.Dataframe of metadata will also be returned.  Only available for get_citations.\n",
    "\n",
    "Query parameters\n",
    "\n",
    "- __name__ (*str or list, optional*) The name(s) of records to limit the search by.\n",
    "- __year__ (*int or list, optional*) Publication year(s) to limit the search by.\n",
    "- __volume__ (*int or list, optional*) Journal volume(s) to limit the search by.\n",
    "- __title__ (*str or list, optional*) Word(s) to search for in the article titles.\n",
    "- __journal__ (*str or list, optional*) Journal name(s) to limit the search by.\n",
    "- __doi__ (*str or list, optional*) Article DOI(s) to limit the search by. \n",
    "- __author__ (*str or list, optional*) Author name(s) to search for.  Works best for last names only.\n",
    "- __abstract__ (*str or list, optional*) Word(s) to search for in the article abstracts.\n"
   ]
  },
  {
   "cell_type": "code",
   "execution_count": 3,
   "metadata": {},
   "outputs": [
    {
     "name": "stdout",
     "output_type": "stream",
     "text": [
      "Found 17 matching Citation records in local library\n",
      "Found 17 matching Citation records in remote library\n",
      " - 0 remote records are new\n"
     ]
    }
   ],
   "source": [
    "citations, citations_df = potdb.get_citations(verbose=True, return_df=True, author='Mishin')"
   ]
  },
  {
   "cell_type": "code",
   "execution_count": 4,
   "metadata": {},
   "outputs": [
    {
     "data": {
      "text/html": [
       "<div>\n",
       "<style scoped>\n",
       "    .dataframe tbody tr th:only-of-type {\n",
       "        vertical-align: middle;\n",
       "    }\n",
       "\n",
       "    .dataframe tbody tr th {\n",
       "        vertical-align: top;\n",
       "    }\n",
       "\n",
       "    .dataframe thead th {\n",
       "        text-align: right;\n",
       "    }\n",
       "</style>\n",
       "<table border=\"1\" class=\"dataframe\">\n",
       "  <thead>\n",
       "    <tr style=\"text-align: right;\">\n",
       "      <th></th>\n",
       "      <th>name</th>\n",
       "      <th>year</th>\n",
       "      <th>volume</th>\n",
       "      <th>url</th>\n",
       "      <th>title</th>\n",
       "      <th>publisher</th>\n",
       "      <th>pages</th>\n",
       "      <th>number</th>\n",
       "      <th>month</th>\n",
       "      <th>journal</th>\n",
       "      <th>doi</th>\n",
       "      <th>author</th>\n",
       "      <th>abstract</th>\n",
       "      <th>ENTRYTYPE</th>\n",
       "      <th>ID</th>\n",
       "      <th>numpages</th>\n",
       "      <th>note</th>\n",
       "      <th>day</th>\n",
       "      <th>booktitle</th>\n",
       "      <th>address</th>\n",
       "    </tr>\n",
       "  </thead>\n",
       "  <tbody>\n",
       "    <tr>\n",
       "      <th>0</th>\n",
       "      <td>10.1016_j.actamat.2003.11.026</td>\n",
       "      <td>2004</td>\n",
       "      <td>52</td>\n",
       "      <td>https://doi.org/10.1016%2Fj.actamat.2003.11.026</td>\n",
       "      <td>Atomistic modeling of the γ and γ'-phases of t...</td>\n",
       "      <td>Elsevier BV</td>\n",
       "      <td>1451--1467</td>\n",
       "      <td>6</td>\n",
       "      <td>apr</td>\n",
       "      <td>Acta Materialia</td>\n",
       "      <td>10.1016/j.actamat.2003.11.026</td>\n",
       "      <td>Y. Mishin</td>\n",
       "      <td>A new embedded-atom potential has been develop...</td>\n",
       "      <td>article</td>\n",
       "      <td>Mishin_2004</td>\n",
       "      <td>NaN</td>\n",
       "      <td>NaN</td>\n",
       "      <td>NaN</td>\n",
       "      <td>NaN</td>\n",
       "      <td>NaN</td>\n",
       "    </tr>\n",
       "    <tr>\n",
       "      <th>1</th>\n",
       "      <td>10.1016_j.actamat.2005.05.001</td>\n",
       "      <td>2005</td>\n",
       "      <td>53</td>\n",
       "      <td>https://doi.org/10.1016%2Fj.actamat.2005.05.001</td>\n",
       "      <td>Phase stability in the Fe-Ni system: Investiga...</td>\n",
       "      <td>Elsevier BV</td>\n",
       "      <td>4029--4041</td>\n",
       "      <td>15</td>\n",
       "      <td>sep</td>\n",
       "      <td>Acta Materialia</td>\n",
       "      <td>10.1016/j.actamat.2005.05.001</td>\n",
       "      <td>Y. Mishin and M.J. Mehl and D.A. Papaconstanto...</td>\n",
       "      <td>First-principles calculations of the energy of...</td>\n",
       "      <td>article</td>\n",
       "      <td>Mishin_2005</td>\n",
       "      <td>NaN</td>\n",
       "      <td>NaN</td>\n",
       "      <td>NaN</td>\n",
       "      <td>NaN</td>\n",
       "      <td>NaN</td>\n",
       "    </tr>\n",
       "    <tr>\n",
       "      <th>2</th>\n",
       "      <td>10.1016_j.actamat.2015.08.052</td>\n",
       "      <td>2015</td>\n",
       "      <td>100</td>\n",
       "      <td>https://doi.org/10.1016%2Fj.actamat.2015.08.052</td>\n",
       "      <td>Angular-dependent interatomic potential for th...</td>\n",
       "      <td>Elsevier BV</td>\n",
       "      <td>377--391</td>\n",
       "      <td>NaN</td>\n",
       "      <td>nov</td>\n",
       "      <td>Acta Materialia</td>\n",
       "      <td>10.1016/j.actamat.2015.08.052</td>\n",
       "      <td>G.P. Purja Pun and K.A. Darling and L.J. Kecsk...</td>\n",
       "      <td>Atomistic computer simulations are capable of ...</td>\n",
       "      <td>article</td>\n",
       "      <td>Purja_Pun_2015</td>\n",
       "      <td>NaN</td>\n",
       "      <td>NaN</td>\n",
       "      <td>NaN</td>\n",
       "      <td>NaN</td>\n",
       "      <td>NaN</td>\n",
       "    </tr>\n",
       "    <tr>\n",
       "      <th>3</th>\n",
       "      <td>10.1016_j.susc.2006.02.010</td>\n",
       "      <td>2006</td>\n",
       "      <td>600</td>\n",
       "      <td>https://doi.org/10.1016%2Fj.susc.2006.02.010</td>\n",
       "      <td>Embedded-atom potential for Fe and its applica...</td>\n",
       "      <td>Elsevier BV</td>\n",
       "      <td>1793--1803</td>\n",
       "      <td>9</td>\n",
       "      <td>may</td>\n",
       "      <td>Surface Science</td>\n",
       "      <td>10.1016/j.susc.2006.02.010</td>\n",
       "      <td>H. Chamati and N.I. Papanicolaou and Y. Mishin...</td>\n",
       "      <td>We have constructed an embedded-atom potential...</td>\n",
       "      <td>article</td>\n",
       "      <td>Chamati_2006</td>\n",
       "      <td>NaN</td>\n",
       "      <td>NaN</td>\n",
       "      <td>NaN</td>\n",
       "      <td>NaN</td>\n",
       "      <td>NaN</td>\n",
       "    </tr>\n",
       "    <tr>\n",
       "      <th>4</th>\n",
       "      <td>10.1080_14786430903258184</td>\n",
       "      <td>2009</td>\n",
       "      <td>89</td>\n",
       "      <td>https://doi.org/10.1080%2F14786430903258184</td>\n",
       "      <td>Development of an interatomic potential for th...</td>\n",
       "      <td>Informa UK Limited</td>\n",
       "      <td>3245--3267</td>\n",
       "      <td>34-36</td>\n",
       "      <td>dec</td>\n",
       "      <td>Philosophical Magazine</td>\n",
       "      <td>10.1080/14786430903258184</td>\n",
       "      <td>G.P. Purja Pun and Y. Mishin</td>\n",
       "      <td>We construct an interatomic potential for the ...</td>\n",
       "      <td>article</td>\n",
       "      <td>Purja_Pun_2009</td>\n",
       "      <td>NaN</td>\n",
       "      <td>NaN</td>\n",
       "      <td>NaN</td>\n",
       "      <td>NaN</td>\n",
       "      <td>NaN</td>\n",
       "    </tr>\n",
       "    <tr>\n",
       "      <th>5</th>\n",
       "      <td>10.1088_0965-0393_14_5_002</td>\n",
       "      <td>2006</td>\n",
       "      <td>14</td>\n",
       "      <td>https://doi.org/10.1088%2F0965-0393%2F14%2F5%2...</td>\n",
       "      <td>An embedded-atom potential for the Cu-Ag system</td>\n",
       "      <td>IOP Publishing</td>\n",
       "      <td>817--833</td>\n",
       "      <td>5</td>\n",
       "      <td>may</td>\n",
       "      <td>Modelling and Simulation in Materials Science ...</td>\n",
       "      <td>10.1088/0965-0393/14/5/002</td>\n",
       "      <td>P L Williams and Y Mishin and J C Hamilton</td>\n",
       "      <td>A new embedded-atom method (EAM) potential has...</td>\n",
       "      <td>article</td>\n",
       "      <td>Williams_2006</td>\n",
       "      <td>NaN</td>\n",
       "      <td>NaN</td>\n",
       "      <td>NaN</td>\n",
       "      <td>NaN</td>\n",
       "      <td>NaN</td>\n",
       "    </tr>\n",
       "    <tr>\n",
       "      <th>6</th>\n",
       "      <td>10.1088_0965-0393_23_6_065006</td>\n",
       "      <td>2015</td>\n",
       "      <td>23</td>\n",
       "      <td>https://doi.org/10.1088%2F0965-0393%2F23%2F6%2...</td>\n",
       "      <td>Interatomic potential for the ternary Ni–Al–Co...</td>\n",
       "      <td>IOP Publishing</td>\n",
       "      <td>065006</td>\n",
       "      <td>6</td>\n",
       "      <td>jul</td>\n",
       "      <td>Modelling and Simulation in Materials Science ...</td>\n",
       "      <td>10.1088/0965-0393/23/6/065006</td>\n",
       "      <td>G. P. Purja Pun and V. Yamakov and Y. Mishin</td>\n",
       "      <td>Ni–Al–Co is a promising system for ferromagnet...</td>\n",
       "      <td>article</td>\n",
       "      <td>Purja_Pun_2015</td>\n",
       "      <td>NaN</td>\n",
       "      <td>NaN</td>\n",
       "      <td>NaN</td>\n",
       "      <td>NaN</td>\n",
       "      <td>NaN</td>\n",
       "    </tr>\n",
       "    <tr>\n",
       "      <th>7</th>\n",
       "      <td>10.1088_1361-651x_aae400</td>\n",
       "      <td>2018</td>\n",
       "      <td>26</td>\n",
       "      <td>https://doi.org/10.1088%2F1361-651x%2Faae400</td>\n",
       "      <td>Angular-dependent interatomic potential for th...</td>\n",
       "      <td>IOP Publishing</td>\n",
       "      <td>085008</td>\n",
       "      <td>8</td>\n",
       "      <td>oct</td>\n",
       "      <td>Modelling and Simulation in Materials Science ...</td>\n",
       "      <td>10.1088/1361-651x/aae400</td>\n",
       "      <td>C A Howells and Y Mishin</td>\n",
       "      <td>A new interatomic potential has been developed...</td>\n",
       "      <td>article</td>\n",
       "      <td>Howells_2018</td>\n",
       "      <td>NaN</td>\n",
       "      <td>NaN</td>\n",
       "      <td>NaN</td>\n",
       "      <td>NaN</td>\n",
       "      <td>NaN</td>\n",
       "    </tr>\n",
       "    <tr>\n",
       "      <th>8</th>\n",
       "      <td>10.1103_physrevb.59.3393</td>\n",
       "      <td>1999</td>\n",
       "      <td>59</td>\n",
       "      <td>https://doi.org/10.1103%2Fphysrevb.59.3393</td>\n",
       "      <td>Interatomic potentials for monoatomic metals f...</td>\n",
       "      <td>American Physical Society (APS)</td>\n",
       "      <td>3393--3407</td>\n",
       "      <td>5</td>\n",
       "      <td>feb</td>\n",
       "      <td>Physical Review B</td>\n",
       "      <td>10.1103/physrevb.59.3393</td>\n",
       "      <td>Y. Mishin and D. Farkas and M. J. Mehl and D. ...</td>\n",
       "      <td>We demonstrate an approach to the development ...</td>\n",
       "      <td>article</td>\n",
       "      <td>Mishin_1999</td>\n",
       "      <td>NaN</td>\n",
       "      <td>NaN</td>\n",
       "      <td>NaN</td>\n",
       "      <td>NaN</td>\n",
       "      <td>NaN</td>\n",
       "    </tr>\n",
       "    <tr>\n",
       "      <th>9</th>\n",
       "      <td>10.1103_physrevb.63.224106</td>\n",
       "      <td>2001</td>\n",
       "      <td>63</td>\n",
       "      <td>https://doi.org/10.1103%2Fphysrevb.63.224106</td>\n",
       "      <td>Structural stability and lattice defects in co...</td>\n",
       "      <td>American Physical Society (APS)</td>\n",
       "      <td>224106</td>\n",
       "      <td>22</td>\n",
       "      <td>may</td>\n",
       "      <td>Physical Review B</td>\n",
       "      <td>10.1103/physrevb.63.224106</td>\n",
       "      <td>Y. Mishin and M. J. Mehl and D. A. Papaconstan...</td>\n",
       "      <td>We evaluate the ability of the embedded-atom m...</td>\n",
       "      <td>article</td>\n",
       "      <td>Mishin_2001</td>\n",
       "      <td>16.0</td>\n",
       "      <td>NaN</td>\n",
       "      <td>NaN</td>\n",
       "      <td>NaN</td>\n",
       "      <td>NaN</td>\n",
       "    </tr>\n",
       "    <tr>\n",
       "      <th>10</th>\n",
       "      <td>10.1103_physrevb.65.224114</td>\n",
       "      <td>2002</td>\n",
       "      <td>65</td>\n",
       "      <td>https://doi.org/10.1103%2Fphysrevb.65.224114</td>\n",
       "      <td>Embedded-atom potential for B2-NiAl</td>\n",
       "      <td>American Physical Society (APS)</td>\n",
       "      <td>224114</td>\n",
       "      <td>22</td>\n",
       "      <td>jun</td>\n",
       "      <td>Physical Review B</td>\n",
       "      <td>10.1103/physrevb.65.224114</td>\n",
       "      <td>Y. Mishin and M. J. Mehl and D. A. Papaconstan...</td>\n",
       "      <td>An embedded-atom potential has been constructe...</td>\n",
       "      <td>article</td>\n",
       "      <td>Mishin_2002</td>\n",
       "      <td>14.0</td>\n",
       "      <td>NaN</td>\n",
       "      <td>NaN</td>\n",
       "      <td>NaN</td>\n",
       "      <td>NaN</td>\n",
       "    </tr>\n",
       "    <tr>\n",
       "      <th>11</th>\n",
       "      <td>10.1103_physrevb.68.024102</td>\n",
       "      <td>2003</td>\n",
       "      <td>68</td>\n",
       "      <td>https://doi.org/10.1103%2Fphysrevb.68.024102</td>\n",
       "      <td>Interatomic potentials for atomistic simulatio...</td>\n",
       "      <td>American Physical Society (APS)</td>\n",
       "      <td>024102</td>\n",
       "      <td>2</td>\n",
       "      <td>jul</td>\n",
       "      <td>Physical Review B</td>\n",
       "      <td>10.1103/physrevb.68.024102</td>\n",
       "      <td>Rajendra R. Zope and Y. Mishin</td>\n",
       "      <td>Semiempirical interatomic potentials have been...</td>\n",
       "      <td>article</td>\n",
       "      <td>Zope_2003</td>\n",
       "      <td>14.0</td>\n",
       "      <td>NaN</td>\n",
       "      <td>NaN</td>\n",
       "      <td>NaN</td>\n",
       "      <td>NaN</td>\n",
       "    </tr>\n",
       "    <tr>\n",
       "      <th>12</th>\n",
       "      <td>10.1103_physrevb.77.094131</td>\n",
       "      <td>2008</td>\n",
       "      <td>77</td>\n",
       "      <td>https://doi.org/10.1103%2Fphysrevb.77.094131</td>\n",
       "      <td>Interatomic potential for the Cu-Ta system and...</td>\n",
       "      <td>American Physical Society (APS)</td>\n",
       "      <td>094131</td>\n",
       "      <td>9</td>\n",
       "      <td>mar</td>\n",
       "      <td>Physical Review B</td>\n",
       "      <td>10.1103/physrevb.77.094131</td>\n",
       "      <td>Adham Hashibon and Alexander Y. Lozovoi and Yu...</td>\n",
       "      <td>An angle-dependent interatomic potential has b...</td>\n",
       "      <td>article</td>\n",
       "      <td>Hashibon_2008</td>\n",
       "      <td>9.0</td>\n",
       "      <td>NaN</td>\n",
       "      <td>NaN</td>\n",
       "      <td>NaN</td>\n",
       "      <td>NaN</td>\n",
       "    </tr>\n",
       "    <tr>\n",
       "      <th>13</th>\n",
       "      <td>10.1103_physrevb.82.144115</td>\n",
       "      <td>2010</td>\n",
       "      <td>82</td>\n",
       "      <td>https://doi.org/10.1103%2Fphysrevb.82.144115</td>\n",
       "      <td>Angular-dependent interatomic potential for th...</td>\n",
       "      <td>American Physical Society (APS)</td>\n",
       "      <td>144115</td>\n",
       "      <td>14</td>\n",
       "      <td>oct</td>\n",
       "      <td>Physical Review B</td>\n",
       "      <td>10.1103/physrevb.82.144115</td>\n",
       "      <td>F. Apostol and Y. Mishin</td>\n",
       "      <td>We report on the development of an angular-dep...</td>\n",
       "      <td>article</td>\n",
       "      <td>Apostol_2010</td>\n",
       "      <td>10.0</td>\n",
       "      <td>NaN</td>\n",
       "      <td>NaN</td>\n",
       "      <td>NaN</td>\n",
       "      <td>NaN</td>\n",
       "    </tr>\n",
       "    <tr>\n",
       "      <th>14</th>\n",
       "      <td>10.1103_physrevb.83.054116</td>\n",
       "      <td>2011</td>\n",
       "      <td>83</td>\n",
       "      <td>https://doi.org/10.1103%2Fphysrevb.83.054116</td>\n",
       "      <td>Interatomic potential for the Al-Cu system</td>\n",
       "      <td>American Physical Society (APS)</td>\n",
       "      <td>054116</td>\n",
       "      <td>5</td>\n",
       "      <td>feb</td>\n",
       "      <td>Physical Review B</td>\n",
       "      <td>10.1103/physrevb.83.054116</td>\n",
       "      <td>F. Apostol and Y. Mishin</td>\n",
       "      <td>An angular-dependent interatomic potential has...</td>\n",
       "      <td>article</td>\n",
       "      <td>Apostol_2011</td>\n",
       "      <td>8.0</td>\n",
       "      <td>NaN</td>\n",
       "      <td>NaN</td>\n",
       "      <td>NaN</td>\n",
       "      <td>NaN</td>\n",
       "    </tr>\n",
       "    <tr>\n",
       "      <th>15</th>\n",
       "      <td>10.1103_physrevb.86.134116</td>\n",
       "      <td>2012</td>\n",
       "      <td>86</td>\n",
       "      <td>https://doi.org/10.1103%2Fphysrevb.86.134116</td>\n",
       "      <td>Embedded-atom potential for hcp and fcc cobalt</td>\n",
       "      <td>American Physical Society (APS)</td>\n",
       "      <td>134116</td>\n",
       "      <td>13</td>\n",
       "      <td>oct</td>\n",
       "      <td>Physical Review B</td>\n",
       "      <td>10.1103/physrevb.86.134116</td>\n",
       "      <td>G. P. Purja Pun and Y. Mishin</td>\n",
       "      <td>We report on the development of an embedded-at...</td>\n",
       "      <td>article</td>\n",
       "      <td>Pun_2012</td>\n",
       "      <td>9.0</td>\n",
       "      <td>NaN</td>\n",
       "      <td>NaN</td>\n",
       "      <td>NaN</td>\n",
       "      <td>NaN</td>\n",
       "    </tr>\n",
       "    <tr>\n",
       "      <th>16</th>\n",
       "      <td>10.1103_physrevb.95.224103</td>\n",
       "      <td>2017</td>\n",
       "      <td>95</td>\n",
       "      <td>https://doi.org/10.1103%2Fphysrevb.95.224103</td>\n",
       "      <td>Optimized interatomic potential for silicon an...</td>\n",
       "      <td>American Physical Society (APS)</td>\n",
       "      <td>NaN</td>\n",
       "      <td>22</td>\n",
       "      <td>jun</td>\n",
       "      <td>Physical Review B</td>\n",
       "      <td>10.1103/physrevb.95.224103</td>\n",
       "      <td>G. P. Purja Pun and Y. Mishin</td>\n",
       "      <td>An optimized interatomic potential has been co...</td>\n",
       "      <td>article</td>\n",
       "      <td>Pun_2017</td>\n",
       "      <td>NaN</td>\n",
       "      <td>NaN</td>\n",
       "      <td>NaN</td>\n",
       "      <td>NaN</td>\n",
       "      <td>NaN</td>\n",
       "    </tr>\n",
       "  </tbody>\n",
       "</table>\n",
       "</div>"
      ],
      "text/plain": [
       "                             name  year volume  \\\n",
       "0   10.1016_j.actamat.2003.11.026  2004     52   \n",
       "1   10.1016_j.actamat.2005.05.001  2005     53   \n",
       "2   10.1016_j.actamat.2015.08.052  2015    100   \n",
       "3      10.1016_j.susc.2006.02.010  2006    600   \n",
       "4       10.1080_14786430903258184  2009     89   \n",
       "5      10.1088_0965-0393_14_5_002  2006     14   \n",
       "6   10.1088_0965-0393_23_6_065006  2015     23   \n",
       "7        10.1088_1361-651x_aae400  2018     26   \n",
       "8        10.1103_physrevb.59.3393  1999     59   \n",
       "9      10.1103_physrevb.63.224106  2001     63   \n",
       "10     10.1103_physrevb.65.224114  2002     65   \n",
       "11     10.1103_physrevb.68.024102  2003     68   \n",
       "12     10.1103_physrevb.77.094131  2008     77   \n",
       "13     10.1103_physrevb.82.144115  2010     82   \n",
       "14     10.1103_physrevb.83.054116  2011     83   \n",
       "15     10.1103_physrevb.86.134116  2012     86   \n",
       "16     10.1103_physrevb.95.224103  2017     95   \n",
       "\n",
       "                                                  url  \\\n",
       "0     https://doi.org/10.1016%2Fj.actamat.2003.11.026   \n",
       "1     https://doi.org/10.1016%2Fj.actamat.2005.05.001   \n",
       "2     https://doi.org/10.1016%2Fj.actamat.2015.08.052   \n",
       "3        https://doi.org/10.1016%2Fj.susc.2006.02.010   \n",
       "4         https://doi.org/10.1080%2F14786430903258184   \n",
       "5   https://doi.org/10.1088%2F0965-0393%2F14%2F5%2...   \n",
       "6   https://doi.org/10.1088%2F0965-0393%2F23%2F6%2...   \n",
       "7        https://doi.org/10.1088%2F1361-651x%2Faae400   \n",
       "8          https://doi.org/10.1103%2Fphysrevb.59.3393   \n",
       "9        https://doi.org/10.1103%2Fphysrevb.63.224106   \n",
       "10       https://doi.org/10.1103%2Fphysrevb.65.224114   \n",
       "11       https://doi.org/10.1103%2Fphysrevb.68.024102   \n",
       "12       https://doi.org/10.1103%2Fphysrevb.77.094131   \n",
       "13       https://doi.org/10.1103%2Fphysrevb.82.144115   \n",
       "14       https://doi.org/10.1103%2Fphysrevb.83.054116   \n",
       "15       https://doi.org/10.1103%2Fphysrevb.86.134116   \n",
       "16       https://doi.org/10.1103%2Fphysrevb.95.224103   \n",
       "\n",
       "                                                title  \\\n",
       "0   Atomistic modeling of the γ and γ'-phases of t...   \n",
       "1   Phase stability in the Fe-Ni system: Investiga...   \n",
       "2   Angular-dependent interatomic potential for th...   \n",
       "3   Embedded-atom potential for Fe and its applica...   \n",
       "4   Development of an interatomic potential for th...   \n",
       "5     An embedded-atom potential for the Cu-Ag system   \n",
       "6   Interatomic potential for the ternary Ni–Al–Co...   \n",
       "7   Angular-dependent interatomic potential for th...   \n",
       "8   Interatomic potentials for monoatomic metals f...   \n",
       "9   Structural stability and lattice defects in co...   \n",
       "10                Embedded-atom potential for B2-NiAl   \n",
       "11  Interatomic potentials for atomistic simulatio...   \n",
       "12  Interatomic potential for the Cu-Ta system and...   \n",
       "13  Angular-dependent interatomic potential for th...   \n",
       "14         Interatomic potential for the Al-Cu system   \n",
       "15     Embedded-atom potential for hcp and fcc cobalt   \n",
       "16  Optimized interatomic potential for silicon an...   \n",
       "\n",
       "                          publisher       pages number month  \\\n",
       "0                       Elsevier BV  1451--1467      6   apr   \n",
       "1                       Elsevier BV  4029--4041     15   sep   \n",
       "2                       Elsevier BV    377--391    NaN   nov   \n",
       "3                       Elsevier BV  1793--1803      9   may   \n",
       "4                Informa UK Limited  3245--3267  34-36   dec   \n",
       "5                    IOP Publishing    817--833      5   may   \n",
       "6                    IOP Publishing      065006      6   jul   \n",
       "7                    IOP Publishing      085008      8   oct   \n",
       "8   American Physical Society (APS)  3393--3407      5   feb   \n",
       "9   American Physical Society (APS)      224106     22   may   \n",
       "10  American Physical Society (APS)      224114     22   jun   \n",
       "11  American Physical Society (APS)      024102      2   jul   \n",
       "12  American Physical Society (APS)      094131      9   mar   \n",
       "13  American Physical Society (APS)      144115     14   oct   \n",
       "14  American Physical Society (APS)      054116      5   feb   \n",
       "15  American Physical Society (APS)      134116     13   oct   \n",
       "16  American Physical Society (APS)         NaN     22   jun   \n",
       "\n",
       "                                              journal  \\\n",
       "0                                     Acta Materialia   \n",
       "1                                     Acta Materialia   \n",
       "2                                     Acta Materialia   \n",
       "3                                     Surface Science   \n",
       "4                              Philosophical Magazine   \n",
       "5   Modelling and Simulation in Materials Science ...   \n",
       "6   Modelling and Simulation in Materials Science ...   \n",
       "7   Modelling and Simulation in Materials Science ...   \n",
       "8                                   Physical Review B   \n",
       "9                                   Physical Review B   \n",
       "10                                  Physical Review B   \n",
       "11                                  Physical Review B   \n",
       "12                                  Physical Review B   \n",
       "13                                  Physical Review B   \n",
       "14                                  Physical Review B   \n",
       "15                                  Physical Review B   \n",
       "16                                  Physical Review B   \n",
       "\n",
       "                              doi  \\\n",
       "0   10.1016/j.actamat.2003.11.026   \n",
       "1   10.1016/j.actamat.2005.05.001   \n",
       "2   10.1016/j.actamat.2015.08.052   \n",
       "3      10.1016/j.susc.2006.02.010   \n",
       "4       10.1080/14786430903258184   \n",
       "5      10.1088/0965-0393/14/5/002   \n",
       "6   10.1088/0965-0393/23/6/065006   \n",
       "7        10.1088/1361-651x/aae400   \n",
       "8        10.1103/physrevb.59.3393   \n",
       "9      10.1103/physrevb.63.224106   \n",
       "10     10.1103/physrevb.65.224114   \n",
       "11     10.1103/physrevb.68.024102   \n",
       "12     10.1103/physrevb.77.094131   \n",
       "13     10.1103/physrevb.82.144115   \n",
       "14     10.1103/physrevb.83.054116   \n",
       "15     10.1103/physrevb.86.134116   \n",
       "16     10.1103/physrevb.95.224103   \n",
       "\n",
       "                                               author  \\\n",
       "0                                           Y. Mishin   \n",
       "1   Y. Mishin and M.J. Mehl and D.A. Papaconstanto...   \n",
       "2   G.P. Purja Pun and K.A. Darling and L.J. Kecsk...   \n",
       "3   H. Chamati and N.I. Papanicolaou and Y. Mishin...   \n",
       "4                        G.P. Purja Pun and Y. Mishin   \n",
       "5          P L Williams and Y Mishin and J C Hamilton   \n",
       "6        G. P. Purja Pun and V. Yamakov and Y. Mishin   \n",
       "7                            C A Howells and Y Mishin   \n",
       "8   Y. Mishin and D. Farkas and M. J. Mehl and D. ...   \n",
       "9   Y. Mishin and M. J. Mehl and D. A. Papaconstan...   \n",
       "10  Y. Mishin and M. J. Mehl and D. A. Papaconstan...   \n",
       "11                     Rajendra R. Zope and Y. Mishin   \n",
       "12  Adham Hashibon and Alexander Y. Lozovoi and Yu...   \n",
       "13                           F. Apostol and Y. Mishin   \n",
       "14                           F. Apostol and Y. Mishin   \n",
       "15                      G. P. Purja Pun and Y. Mishin   \n",
       "16                      G. P. Purja Pun and Y. Mishin   \n",
       "\n",
       "                                             abstract ENTRYTYPE  \\\n",
       "0   A new embedded-atom potential has been develop...   article   \n",
       "1   First-principles calculations of the energy of...   article   \n",
       "2   Atomistic computer simulations are capable of ...   article   \n",
       "3   We have constructed an embedded-atom potential...   article   \n",
       "4   We construct an interatomic potential for the ...   article   \n",
       "5   A new embedded-atom method (EAM) potential has...   article   \n",
       "6   Ni–Al–Co is a promising system for ferromagnet...   article   \n",
       "7   A new interatomic potential has been developed...   article   \n",
       "8   We demonstrate an approach to the development ...   article   \n",
       "9   We evaluate the ability of the embedded-atom m...   article   \n",
       "10  An embedded-atom potential has been constructe...   article   \n",
       "11  Semiempirical interatomic potentials have been...   article   \n",
       "12  An angle-dependent interatomic potential has b...   article   \n",
       "13  We report on the development of an angular-dep...   article   \n",
       "14  An angular-dependent interatomic potential has...   article   \n",
       "15  We report on the development of an embedded-at...   article   \n",
       "16  An optimized interatomic potential has been co...   article   \n",
       "\n",
       "                ID  numpages note  day booktitle address  \n",
       "0      Mishin_2004       NaN  NaN  NaN       NaN     NaN  \n",
       "1      Mishin_2005       NaN  NaN  NaN       NaN     NaN  \n",
       "2   Purja_Pun_2015       NaN  NaN  NaN       NaN     NaN  \n",
       "3     Chamati_2006       NaN  NaN  NaN       NaN     NaN  \n",
       "4   Purja_Pun_2009       NaN  NaN  NaN       NaN     NaN  \n",
       "5    Williams_2006       NaN  NaN  NaN       NaN     NaN  \n",
       "6   Purja_Pun_2015       NaN  NaN  NaN       NaN     NaN  \n",
       "7     Howells_2018       NaN  NaN  NaN       NaN     NaN  \n",
       "8      Mishin_1999       NaN  NaN  NaN       NaN     NaN  \n",
       "9      Mishin_2001      16.0  NaN  NaN       NaN     NaN  \n",
       "10     Mishin_2002      14.0  NaN  NaN       NaN     NaN  \n",
       "11       Zope_2003      14.0  NaN  NaN       NaN     NaN  \n",
       "12   Hashibon_2008       9.0  NaN  NaN       NaN     NaN  \n",
       "13    Apostol_2010      10.0  NaN  NaN       NaN     NaN  \n",
       "14    Apostol_2011       8.0  NaN  NaN       NaN     NaN  \n",
       "15        Pun_2012       9.0  NaN  NaN       NaN     NaN  \n",
       "16        Pun_2017       NaN  NaN  NaN       NaN     NaN  "
      ]
     },
     "execution_count": 4,
     "metadata": {},
     "output_type": "execute_result"
    }
   ],
   "source": [
    "citations_df"
   ]
  },
  {
   "cell_type": "markdown",
   "metadata": {},
   "source": [
    "### 1.2. fetch_citation()\n",
    "\n",
    "Single citations can also be retrieved using the fetch_citation method.  This differs from get_citation() in that\n",
    "\n",
    "- The citation can only be searched for using DOI, or record name for unpublished records.\n",
    "- If no matching record is found, then CrossRef is searched using the given DOI.\n",
    "\n",
    "Parameters"
   ]
  },
  {
   "cell_type": "code",
   "execution_count": 26,
   "metadata": {},
   "outputs": [
    {
     "name": "stdout",
     "output_type": "stream",
     "text": [
      "Citation retrieved from CrossRef\n"
     ]
    }
   ],
   "source": [
    "# Fetch dummy citation from CrossRef\n",
    "citation = potdb.fetch_citation('10.5555/12345678', verbose=True)"
   ]
  },
  {
   "cell_type": "markdown",
   "metadata": {},
   "source": [
    "## 2. Citation class\n",
    "\n",
    "The Citation class primarily interacts with the data in bibtex format, but also adds other useful methods and attributes."
   ]
  },
  {
   "cell_type": "markdown",
   "metadata": {},
   "source": [
    "### 2.1. Render citation\n",
    "\n",
    "__html()__ will generate HTML for the citation as it appears on the NIST Interatomic Potentials Repository.  If render=True, then the content is automatically rendered in Jupyter Notebooks. Otherwise, the HTML code is returned as a string."
   ]
  },
  {
   "cell_type": "code",
   "execution_count": 27,
   "metadata": {},
   "outputs": [
    {
     "data": {
      "text/html": [
       "<div><div class=\"citation\"><b>Citation: </b>J. Carberry (2008), \"Toward a Unified Theory of High-Energy Metaphysics: Silly String Theory\", <i>Journal of Psychoceramics</i>, <b>5(11)</b>, 1-3. DOI: <a href=\"https://doi.org/10.5555/12345678\" class=\"external\">10.5555/12345678</a>.<br/></div></div>"
      ],
      "text/plain": [
       "<IPython.core.display.HTML object>"
      ]
     },
     "metadata": {},
     "output_type": "display_data"
    }
   ],
   "source": [
    "citation.html(render=True)"
   ]
  },
  {
   "cell_type": "markdown",
   "metadata": {},
   "source": [
    "### 2.2. bibtex fields\n",
    "\n",
    "- __bib__ is a dictionary representing bibtex fields.  The terms can be modified or added to.  \n",
    "- __build_bibtex()__ will render the bib dictionary as a bibtex formatted string."
   ]
  },
  {
   "cell_type": "code",
   "execution_count": 7,
   "metadata": {},
   "outputs": [
    {
     "data": {
      "text/plain": [
       "{'journal': 'Journal of Psychoceramics',\n",
       " 'title': 'Toward a Unified Theory of High-Energy Metaphysics: Silly String Theory',\n",
       " 'author': 'Josiah Carberry',\n",
       " 'pages': '1--3',\n",
       " 'number': '11',\n",
       " 'volume': '5',\n",
       " 'publisher': 'Society of Psychoceramics',\n",
       " 'month': 'aug',\n",
       " 'year': '2008',\n",
       " 'url': 'https://doi.org/10.5555%2F12345678',\n",
       " 'doi': '10.5555/12345678',\n",
       " 'ENTRYTYPE': 'article',\n",
       " 'ID': 'Carberry_2008'}"
      ]
     },
     "execution_count": 7,
     "metadata": {},
     "output_type": "execute_result"
    }
   ],
   "source": [
    "citation.bib"
   ]
  },
  {
   "cell_type": "code",
   "execution_count": 8,
   "metadata": {},
   "outputs": [],
   "source": [
    "citation.bib['abstract'] = ' '.join(['The characteristic theme of the works of Stone is the bridge between culture and society. Several narratives concerning the fatal flaw, and subsequent',\n",
    "                                     'dialectic, of semioticist class may be found. Thus, Debord uses the term ‘the subtextual paradigm of consensus’ to denote a cultural paradox. The subject',\n",
    "                                     'is interpolated into a neocultural discourse that includes sexuality as a totality. But Marx’s critique of prepatriarchialist nihilism states that',\n",
    "                                     'consciousness is capable of significance. The main theme of Dietrich’s[1] model of cultural discourse is not construction, but neoconstruction.',\n",
    "                                     'Thus, any number of narratives concerning the textual paradigm of narrative exist. Pretextual cultural theory suggests that context must come from the collective unconscious.'])"
   ]
  },
  {
   "cell_type": "code",
   "execution_count": 9,
   "metadata": {},
   "outputs": [
    {
     "name": "stdout",
     "output_type": "stream",
     "text": [
      "@article{Carberry_2008,\n",
      " abstract = {The characteristic theme of the works of Stone is the bridge between culture and society. Several narratives concerning the fatal flaw, and subsequent dialectic, of semioticist class may be found. Thus, Debord uses the term ‘the subtextual paradigm of consensus’ to denote a cultural paradox. The subject is interpolated into a neocultural discourse that includes sexuality as a totality. But Marx’s critique of prepatriarchialist nihilism states that consciousness is capable of significance. The main theme of Dietrich’s[1] model of cultural discourse is not construction, but neoconstruction. Thus, any number of narratives concerning the textual paradigm of narrative exist. Pretextual cultural theory suggests that context must come from the collective unconscious.},\n",
      " author = {Josiah Carberry},\n",
      " doi = {10.5555/12345678},\n",
      " journal = {Journal of Psychoceramics},\n",
      " month = {aug},\n",
      " number = {11},\n",
      " pages = {1--3},\n",
      " publisher = {Society of Psychoceramics},\n",
      " title = {Toward a Unified Theory of High-Energy Metaphysics: Silly String Theory},\n",
      " url = {https://doi.org/10.5555%2F12345678},\n",
      " volume = {5},\n",
      " year = {2008}\n",
      "}\n",
      "\n",
      "\n"
     ]
    }
   ],
   "source": [
    "print(citation.build_bibtex())"
   ]
  },
  {
   "cell_type": "markdown",
   "metadata": {},
   "source": [
    "### 2.3. Identifiers\n",
    "\n",
    "- __doifname__ is a unique file name that can be used when saving the citation.  If the citation has a DOI, then doifname is the lowercase DOI with \"/\" replaced by \"\\_\". If there is no DOI, then the bibtex \"note\" field is used.\n",
    "- __year_authors__ generates an id by combining the publication year with up to 4 author names.  This is used as the basis for the unique ids assigned to potentials records.\n",
    "- __year_first_author__ generates an id by combining the publication year with the first author name.  This is used as the basis for the unique ids assigned to LAMMPS potentials records."
   ]
  },
  {
   "cell_type": "code",
   "execution_count": 10,
   "metadata": {},
   "outputs": [
    {
     "name": "stdout",
     "output_type": "stream",
     "text": [
      "10.5555_12345678\n",
      "2008--Carberry-J\n",
      "2008--Carberry-J\n"
     ]
    }
   ],
   "source": [
    "print(citation.doifname)\n",
    "print(citation.year_authors)\n",
    "print(citation.year_first_author)"
   ]
  },
  {
   "cell_type": "markdown",
   "metadata": {},
   "source": [
    "### 2.4. Data model interactions\n",
    "\n",
    "- __load_model()__ reads in content in the data model format for the record style.\n",
    "- __build_model()__ generates a data model based on the record's attributes\n",
    "- __metadata()__ generates a dictionary of simple metadata fields associated with the record.  The fields in the metadata dictionary correspond to the fields in the DataFrame representation of the records when retrieved using the get methods. \n",
    "- __xsd_filename__ is a tuple of package path and file name associated with the XML schema that the data model adheres to.\n",
    "- __xsd()__ returns the contents of the XML schema that xsd_filename points to.\n",
    "- __valid_xml()__ tests data model contents against the XML schema to determine if it is valid.  If no data model contents are specified, then build_model is used."
   ]
  },
  {
   "cell_type": "code",
   "execution_count": 11,
   "metadata": {},
   "outputs": [
    {
     "name": "stdout",
     "output_type": "stream",
     "text": [
      "{\n",
      "    \"citation\": {\n",
      "        \"document-type\": \"journal\",\n",
      "        \"title\": \"Toward a Unified Theory of High-Energy Metaphysics: Silly String Theory\",\n",
      "        \"author\": [\n",
      "            {\n",
      "                \"given-name\": \"J.\",\n",
      "                \"surname\": \"Carberry\"\n",
      "            }\n",
      "        ],\n",
      "        \"publication-name\": \"Journal of Psychoceramics\",\n",
      "        \"publication-date\": {\n",
      "            \"year\": 2008\n",
      "        },\n",
      "        \"volume\": 5,\n",
      "        \"issue\": 11,\n",
      "        \"abstract\": \"The characteristic theme of the works of Stone is the bridge between culture and society. Several narratives concerning the fatal flaw, and subsequent dialectic, of semioticist class may be found. Thus, Debord uses the term \\u2018the subtextual paradigm of consensus\\u2019 to denote a cultural paradox. The subject is interpolated into a neocultural discourse that includes sexuality as a totality. But Marx\\u2019s critique of prepatriarchialist nihilism states that consciousness is capable of significance. The main theme of Dietrich\\u2019s[1] model of cultural discourse is not construction, but neoconstruction. Thus, any number of narratives concerning the textual paradigm of narrative exist. Pretextual cultural theory suggests that context must come from the collective unconscious.\",\n",
      "        \"pages\": \"1-3\",\n",
      "        \"DOI\": \"10.5555/12345678\",\n",
      "        \"bibtex\": \"@article{Carberry_2008,\\n abstract = {The characteristic theme of the works of Stone is the bridge between culture and society. Several narratives concerning the fatal flaw, and subsequent dialectic, of semioticist class may be found. Thus, Debord uses the term \\u2018the subtextual paradigm of consensus\\u2019 to denote a cultural paradox. The subject is interpolated into a neocultural discourse that includes sexuality as a totality. But Marx\\u2019s critique of prepatriarchialist nihilism states that consciousness is capable of significance. The main theme of Dietrich\\u2019s[1] model of cultural discourse is not construction, but neoconstruction. Thus, any number of narratives concerning the textual paradigm of narrative exist. Pretextual cultural theory suggests that context must come from the collective unconscious.},\\n author = {Josiah Carberry},\\n doi = {10.5555/12345678},\\n journal = {Journal of Psychoceramics},\\n month = {aug},\\n number = {11},\\n pages = {1--3},\\n publisher = {Society of Psychoceramics},\\n title = {Toward a Unified Theory of High-Energy Metaphysics: Silly String Theory},\\n url = {https://doi.org/10.5555%2F12345678},\\n volume = {5},\\n year = {2008}\\n}\\n\\n\"\n",
      "    }\n",
      "}\n"
     ]
    }
   ],
   "source": [
    "print(citation.build_model().json(indent=4))"
   ]
  },
  {
   "cell_type": "code",
   "execution_count": 12,
   "metadata": {},
   "outputs": [
    {
     "data": {
      "text/plain": [
       "{'name': '10.5555_12345678',\n",
       " 'journal': 'Journal of Psychoceramics',\n",
       " 'title': 'Toward a Unified Theory of High-Energy Metaphysics: Silly String Theory',\n",
       " 'author': 'Josiah Carberry',\n",
       " 'pages': '1--3',\n",
       " 'number': '11',\n",
       " 'volume': '5',\n",
       " 'publisher': 'Society of Psychoceramics',\n",
       " 'month': 'aug',\n",
       " 'year': '2008',\n",
       " 'url': 'https://doi.org/10.5555%2F12345678',\n",
       " 'doi': '10.5555/12345678',\n",
       " 'ENTRYTYPE': 'article',\n",
       " 'ID': 'Carberry_2008',\n",
       " 'abstract': 'The characteristic theme of the works of Stone is the bridge between culture and society. Several narratives concerning the fatal flaw, and subsequent dialectic, of semioticist class may be found. Thus, Debord uses the term ‘the subtextual paradigm of consensus’ to denote a cultural paradox. The subject is interpolated into a neocultural discourse that includes sexuality as a totality. But Marx’s critique of prepatriarchialist nihilism states that consciousness is capable of significance. The main theme of Dietrich’s[1] model of cultural discourse is not construction, but neoconstruction. Thus, any number of narratives concerning the textual paradigm of narrative exist. Pretextual cultural theory suggests that context must come from the collective unconscious.'}"
      ]
     },
     "execution_count": 12,
     "metadata": {},
     "output_type": "execute_result"
    }
   ],
   "source": [
    "citation.metadata()"
   ]
  },
  {
   "cell_type": "code",
   "execution_count": 13,
   "metadata": {},
   "outputs": [
    {
     "data": {
      "text/plain": [
       "True"
      ]
     },
     "execution_count": 13,
     "metadata": {},
     "output_type": "execute_result"
    }
   ],
   "source": [
    "citation.valid_xml()"
   ]
  },
  {
   "cell_type": "markdown",
   "metadata": {},
   "source": [
    "## 3. Other database operations\n",
    "\n"
   ]
  },
  {
   "cell_type": "markdown",
   "metadata": {},
   "source": [
    "### 3.1. download_citations()\n",
    "\n",
    "Download citations from the remote and save them to the local. The method takes the same query parameters as get_citations() listed above allowing for a subset of citations to be downloaded.\n",
    "\n",
    "Method parameters (besides the query parameters)\n",
    "\n",
    "- __overwrite__ (*bool, optional*) Flag indicating if any existing local records with names matching remote records are updated (True) or left unchanged (False).  Default value is False.\n",
    "- __verbose__ (*bool, optional*) If True, info messages will be printed during operations.  Default value is False."
   ]
  },
  {
   "cell_type": "code",
   "execution_count": 14,
   "metadata": {},
   "outputs": [
    {
     "name": "stdout",
     "output_type": "stream",
     "text": [
      "Found 3 matching Citation records in remote library\n",
      "0 new records added to local\n",
      "3 existing records skipped\n"
     ]
    }
   ],
   "source": [
    "potdb.download_citations(year=1999, verbose=True)"
   ]
  },
  {
   "cell_type": "markdown",
   "metadata": {},
   "source": [
    "### 3.2. save_citation()\n",
    "\n",
    "Save a citation entry to the local.\n",
    "\n",
    "- __citation__ (*Citation*) The record to save.  \n",
    "- __overwrite__ (*bool, optional*) Indicates what to do when a matching record is found in the local location.  If False (default), then the record is not updated.  If True, then the record is updated.\n",
    "- __verbose__ (*bool, optional*) If True, info messages will be printed during operations.  Default value is False."
   ]
  },
  {
   "cell_type": "code",
   "execution_count": 21,
   "metadata": {},
   "outputs": [
    {
     "name": "stdout",
     "output_type": "stream",
     "text": [
      "Citation record named 10.5555_12345678 updated in C:\\Users\\lmh1\\Documents\\library\n"
     ]
    }
   ],
   "source": [
    "# Save the dummy citation\n",
    "potdb.save_citation(citation, overwrite=True, verbose=True)"
   ]
  },
  {
   "cell_type": "code",
   "execution_count": 15,
   "metadata": {},
   "outputs": [
    {
     "name": "stdout",
     "output_type": "stream",
     "text": [
      "Matching record retrieved from local\n"
     ]
    },
    {
     "data": {
      "text/plain": [
       "{'year': '2008',\n",
       " 'volume': '5',\n",
       " 'url': 'https://doi.org/10.5555%2F12345678',\n",
       " 'title': 'Toward a Unified Theory of High-Energy Metaphysics: Silly String Theory',\n",
       " 'publisher': 'Society of Psychoceramics',\n",
       " 'pages': '1--3',\n",
       " 'number': '11',\n",
       " 'month': 'aug',\n",
       " 'journal': 'Journal of Psychoceramics',\n",
       " 'doi': '10.5555/12345678',\n",
       " 'author': 'Josiah Carberry',\n",
       " 'abstract': 'The characteristic theme of the works of Stone is the bridge between culture and society. Several narratives concerning the fatal flaw, and subsequent dialectic, of semioticist class may be found. Thus, Debord uses the term ‘the subtextual paradigm of consensus’ to denote a cultural paradox. The subject is interpolated into a neocultural discourse that includes sexuality as a totality. But Marx’s critique of prepatriarchialist nihilism states that consciousness is capable of significance. The main theme of Dietrich’s[1] model of cultural discourse is not construction, but neoconstruction. Thus, any number of narratives concerning the textual paradigm of narrative exist. Pretextual cultural theory suggests that context must come from the collective unconscious.',\n",
       " 'ENTRYTYPE': 'article',\n",
       " 'ID': 'Carberry_2008'}"
      ]
     },
     "execution_count": 15,
     "metadata": {},
     "output_type": "execute_result"
    }
   ],
   "source": [
    "# Fetching now returns the local version of the citation\n",
    "citation = potdb.fetch_citation(citation.bib['doi'], verbose=True)\n",
    "citation.bib"
   ]
  },
  {
   "cell_type": "markdown",
   "metadata": {},
   "source": [
    "### 3.3. upload_citation()\n",
    "\n",
    "Upload a citation entry to the remote.  Requires that the user is logged into the remote and has write permission.\n",
    "\n",
    "- __citation__ (*Citation*) The record to upload.\n",
    "- __workspace__ (*str, optional*) The workspace to assign the record to. If not given, no workspace will be assigned (only accessible to user who submitted it).\n",
    "- __overwrite__ (*bool, optional*) Indicates what to do when a matching record is found in the remote location.  If False (default), then the record is not updated.  If True, then the record is updated.\n",
    "- __verbose__ (*bool, optional*) If True, info messages will be printed during operations.  Default value is False."
   ]
  },
  {
   "cell_type": "code",
   "execution_count": 16,
   "metadata": {},
   "outputs": [],
   "source": [
    "# Initialize a new Database object using personal credentials saved\n",
    "# under the database settings name \"potentials\".\n",
    "potdb = potentials.Database(local=True, remote=True, remote_name='potentials')"
   ]
  },
  {
   "cell_type": "code",
   "execution_count": 23,
   "metadata": {},
   "outputs": [
    {
     "name": "stdout",
     "output_type": "stream",
     "text": [
      "Citation record named 10.5555_12345678 updated in https://potentials.nist.gov/\n",
      "Citation record named 10.5555_12345678 assigned to workspace Global Public Workspace\n"
     ]
    }
   ],
   "source": [
    "# Upload dummy citation to potentials.nist.gov\n",
    "potdb.upload_citation(citation, workspace='Global Public Workspace', overwrite=True, verbose=True)"
   ]
  },
  {
   "cell_type": "code",
   "execution_count": 18,
   "metadata": {},
   "outputs": [
    {
     "name": "stdout",
     "output_type": "stream",
     "text": [
      "Matching record retrieved from remote\n"
     ]
    },
    {
     "data": {
      "text/plain": [
       "{'year': '2008',\n",
       " 'volume': '5',\n",
       " 'url': 'https://doi.org/10.5555%2F12345678',\n",
       " 'title': 'Toward a Unified Theory of High-Energy Metaphysics: Silly String Theory',\n",
       " 'publisher': 'Society of Psychoceramics',\n",
       " 'pages': '1--3',\n",
       " 'number': '11',\n",
       " 'month': 'aug',\n",
       " 'journal': 'Journal of Psychoceramics',\n",
       " 'doi': '10.5555/12345678',\n",
       " 'author': 'Josiah Carberry',\n",
       " 'abstract': 'The characteristic theme of the works of Stone is the bridge between culture and society. Several narratives concerning the fatal flaw, and subsequent dialectic, of semioticist class may be found. Thus, Debord uses the term ‘the subtextual paradigm of consensus’ to denote a cultural paradox. The subject is interpolated into a neocultural discourse that includes sexuality as a totality. But Marx’s critique of prepatriarchialist nihilism states that consciousness is capable of significance. The main theme of Dietrich’s[1] model of cultural discourse is not construction, but neoconstruction. Thus, any number of narratives concerning the textual paradigm of narrative exist. Pretextual cultural theory suggests that context must come from the collective unconscious.',\n",
       " 'ENTRYTYPE': 'article',\n",
       " 'ID': 'Carberry_2008'}"
      ]
     },
     "execution_count": 18,
     "metadata": {},
     "output_type": "execute_result"
    }
   ],
   "source": [
    "# Fetching with local=False now finds the remote version\n",
    "citation = potdb.fetch_citation(citation.bib['doi'], local=False, verbose=True)\n",
    "citation.bib"
   ]
  },
  {
   "cell_type": "markdown",
   "metadata": {},
   "source": [
    "### 3.4. delete_citation()\n",
    "\n",
    "Deletes a citation entry from the local and/or remote.  Deleting from the remote requires that the user is logged into the remote and has write permission.\n",
    "\n",
    "- __citation__ (*Citation*) The record to delete.  If not given, then style and name are required.\n",
    "- __local__ (*bool, optional*) Indicates if the record will be deleted from the local location. Default value is True.\n",
    "- __remote__ (*bool, optional*) Indicates if the record will be deleted from the remote location. Default value is False.  If True, requires an account for the remote location with write permissions.\n",
    "- __verbose__ (*bool, optional*) If True, info messages will be printed during operations.  Default value is False."
   ]
  },
  {
   "cell_type": "code",
   "execution_count": 24,
   "metadata": {},
   "outputs": [
    {
     "name": "stdout",
     "output_type": "stream",
     "text": [
      "Citation record named 10.5555_12345678 deleted from C:\\Users\\lmh1\\Documents\\library\n",
      "Citation record named 10.5555_12345678 deleted from https://potentials.nist.gov/\n"
     ]
    }
   ],
   "source": [
    "potdb.delete_citation(citation, local=True, remote=True, verbose=True)"
   ]
  }
 ],
 "metadata": {
  "kernelspec": {
   "display_name": "Python 3",
   "language": "python",
   "name": "python3"
  },
  "language_info": {
   "codemirror_mode": {
    "name": "ipython",
    "version": 3
   },
   "file_extension": ".py",
   "mimetype": "text/x-python",
   "name": "python",
   "nbconvert_exporter": "python",
   "pygments_lexer": "ipython3",
   "version": "3.7.3"
  }
 },
 "nbformat": 4,
 "nbformat_minor": 4
}
