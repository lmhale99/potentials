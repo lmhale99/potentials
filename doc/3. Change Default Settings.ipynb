{
 "cells": [
  {
   "cell_type": "markdown",
   "metadata": {},
   "source": [
    "# Change default settings\n",
    "\n",
    "This Notebook outlines the settings for the potentials package that can be saved across sessions.  Doing so provides users a convenient means of saving useful parameter sets and to control default behaviors.   \n",
    "\n",
    "1. __Settings basics__ describes how the settings are saved and where the settings file is located. \n",
    "2. __Default options__ describes which Database class parameters default values can be set for.\n",
    "3. __Database interactions__ describes how to change the databases that the Database class interacts with.\n",
    "\n",
    "All of the settings here are controlled by using potentials.settings."
   ]
  },
  {
   "cell_type": "code",
   "execution_count": 1,
   "metadata": {},
   "outputs": [
    {
     "name": "stdout",
     "output_type": "stream",
     "text": [
      "Notebook tested for potentials version 0.4.0\n"
     ]
    }
   ],
   "source": [
    "# https://github.com/lmhale99/potentials\n",
    "import potentials\n",
    "\n",
    "print('Notebook tested for potentials version', potentials.__version__)"
   ]
  },
  {
   "cell_type": "markdown",
   "metadata": {},
   "source": [
    "## 1. Settings basics \n",
    "\n",
    "The potentials package handles user-defined settings by creating a settings.json file. The default location for this file is in a directory called \".NISTpotentials\" located in the user's home directory.\n",
    "\n",
    "This location is usually suitable for most users, but can be changed using __set_directory()__.  One example of when changing the directory could be useful is if multiple environments that each define different home directories are being used, and you wish all of the environments to access the same settings. \n",
    "\n",
    "__NOTE__: the directory can only be changed if no other settings have been modified!\n",
    "\n",
    "The settings directory can be reverted back to the default by using __unset_directory()__."
   ]
  },
  {
   "cell_type": "code",
   "execution_count": 2,
   "metadata": {},
   "outputs": [
    {
     "name": "stdout",
     "output_type": "stream",
     "text": [
      "/home/lmh1/.NISTpotentials\n",
      "/home/lmh1/.NISTpotentials/settings.json\n"
     ]
    }
   ],
   "source": [
    "print(potentials.settings.directory)\n",
    "print(potentials.settings.filename)"
   ]
  },
  {
   "cell_type": "code",
   "execution_count": 3,
   "metadata": {},
   "outputs": [
    {
     "name": "stdout",
     "output_type": "stream",
     "text": [
      "/home/lmh1/.NISTpotentials\n"
     ]
    }
   ],
   "source": [
    "#potentials.settings.set_directory('C:/Users/lmh1/test')\n",
    "print(potentials.settings.directory)"
   ]
  },
  {
   "cell_type": "code",
   "execution_count": 4,
   "metadata": {},
   "outputs": [
    {
     "name": "stdout",
     "output_type": "stream",
     "text": [
      "Settings directory is already set to \"/home/lmh1/.NISTpotentials\"\n",
      "/home/lmh1/.NISTpotentials\n"
     ]
    }
   ],
   "source": [
    "potentials.settings.unset_directory()\n",
    "print(potentials.settings.directory)"
   ]
  },
  {
   "cell_type": "markdown",
   "metadata": {},
   "source": [
    "## 2. Default options\n",
    "\n",
    "The default values of some optional parameters of the potentials.Database class can also be changed.  Setting these may be useful depending on how you primarily intend to use the potentials package.  Any of the default values set here can be overridden when using the potentials.Database class, so changing these settings is entirely optional. \n",
    "\n",
    "### 2.1. Accessing database\n",
    "\n",
    "The potentials.Database class is designed to allow for simultaneous interactions with two distinct database locations: the remote database hosted at https://potentials.nist.gov, and a local personal database.  The \"remote\" and \"local\" parameters accept boolean values allowing for interactions with either of these locations to turned on/off. The default values for these parameters can be checked with __remote__ and __local__, and changed using __set_remote()__ and __set_local()__.\n",
    "\n",
    "__NOTE__: It is recommended for most users that these default settings be left as True and to explicitly turn off an interaction when initializing a Database or querying records.  Changing the default values here should ideally only be done if potentials is being integrated into a project where remote-only or local-only interactions are done."
   ]
  },
  {
   "cell_type": "code",
   "execution_count": 5,
   "metadata": {},
   "outputs": [
    {
     "name": "stdout",
     "output_type": "stream",
     "text": [
      "local =  True\n",
      "remote = True\n"
     ]
    }
   ],
   "source": [
    "# Set default local and remote values\n",
    "potentials.settings.set_local(True)\n",
    "potentials.settings.set_remote(True)\n",
    "\n",
    "# Check their values\n",
    "print('local = ', potentials.settings.local)\n",
    "print('remote =', potentials.settings.remote)"
   ]
  },
  {
   "cell_type": "markdown",
   "metadata": {},
   "source": [
    "### 2.2. LAMMPS potential directory styles\n",
    "\n",
    "The majority of native LAMMPS potentials hosted by the NIST Interatomic Potentials Repository are defined using parameter files.  The __pot_dir_style__ parameter sets the default location(s) where the parameter files are expected to be when LAMMPS simulations are performed, and where the associated parameter files are downloaded/copied to when needed.  The default value for this option is controlled by the settings method __set_pot_dir_style()__.\n",
    "\n",
    "Three styles are allowed for this setting:\n",
    "\n",
    "- __\"working\"__ uses the working directory.  This is the simplest option for simulations where only one potential is to be used.  Any retrieved parameter files are copied to the working directory making it convenient to archive the parameter file with the other inputs and results for the simulations. \n",
    "- __\"id\"__ uses a subdirectory of the working directory matching the LAMMPS potential's id.  This also allows for the parameter files to be archived with the simulation inputs and results, but also avoids any issues if parameter files of the same name are used by different potentials.\n",
    "- __\"local\"__ uses directories within the local database location.  The advantage of this option is that only one copy of each unique parameter file is stored on your computer, and no copies/downloads need to be performed when running new simulations.  Note that this style only works if the local database is of \"local\" style."
   ]
  },
  {
   "cell_type": "code",
   "execution_count": 6,
   "metadata": {},
   "outputs": [
    {
     "name": "stdout",
     "output_type": "stream",
     "text": [
      "pot_dir_style = id\n"
     ]
    }
   ],
   "source": [
    "#potentials.settings.set_pot_dir_style('working')\n",
    "potentials.settings.set_pot_dir_style('id')\n",
    "#potentials.settings.set_pot_dir_style('local')\n",
    "\n",
    "print('pot_dir_style =', potentials.settings.pot_dir_style)"
   ]
  },
  {
   "cell_type": "markdown",
   "metadata": {},
   "source": [
    "### 2.3. KIM models\n",
    "\n",
    "In order for models from openKIM to be included alongside native LAMMPS potentials, the potentials package needs to know which kim models to include.  The list can be defined during Database initialization, or default options can be saved using settings for convenience.  The two related settings options are\n",
    "\n",
    "- __set_kim_models()__ allows for a list of kim models to be explicitly given and saved to a file __kim_models_file__ in the settings directory. \n",
    "- __set_kim_api_directory()__ allows for a default __kim_api_directory__ value to be set. This allows for potentials to use the kim-api-collections-management command in kim_api_directory to automatically determine the list of currently installed kim models.\n",
    "\n",
    "__NOTE__: If the kim_models_file exists, then it will be used even if kim_api_directory is set. Either setting can be cleared using the corresponding unset method: __unset_kim_models()__ or __unset_kim_api_directory()__."
   ]
  },
  {
   "cell_type": "code",
   "execution_count": 7,
   "metadata": {},
   "outputs": [
    {
     "name": "stdout",
     "output_type": "stream",
     "text": [
      "kim_models_file exists =  True\n",
      "kim_api_directory =       /home/lmh1/LAMMPS/2022-06-23/lib/kim/installed-2.2.1/bin\n"
     ]
    }
   ],
   "source": [
    "print('kim_models_file exists = ', potentials.settings.kim_models_file.exists())\n",
    "print('kim_api_directory =      ', potentials.settings.kim_api_directory)"
   ]
  },
  {
   "cell_type": "code",
   "execution_count": 8,
   "metadata": {},
   "outputs": [
    {
     "name": "stdout",
     "output_type": "stream",
     "text": [
      "kim api directory already set to /home/lmh1/LAMMPS/2022-06-23/lib/kim/installed-2.2.1/bin\n",
      "Overwrite? (yes or no): "
     ]
    },
    {
     "name": "stdin",
     "output_type": "stream",
     "text": [
      " no\n"
     ]
    },
    {
     "name": "stdout",
     "output_type": "stream",
     "text": [
      "Remove the list of kim models?\n",
      "Delete settings? (must type yes): "
     ]
    },
    {
     "name": "stdin",
     "output_type": "stream",
     "text": [
      " yes\n"
     ]
    },
    {
     "name": "stdout",
     "output_type": "stream",
     "text": [
      "\n",
      "kim_models_file exists =  False\n",
      "kim_api_directory =       /home/lmh1/LAMMPS/2022-06-23/lib/kim/installed-2.2.1/bin\n"
     ]
    }
   ],
   "source": [
    "# Example set api directory and delete kim models file\n",
    "dirpath = ''\n",
    "potentials.settings.set_kim_api_directory(dirpath)\n",
    "potentials.settings.unset_kim_models()\n",
    "\n",
    "print()\n",
    "print('kim_models_file exists = ', potentials.settings.kim_models_file.exists())\n",
    "print('kim_api_directory =      ', potentials.settings.kim_api_directory)"
   ]
  },
  {
   "cell_type": "code",
   "execution_count": 9,
   "metadata": {},
   "outputs": [
    {
     "name": "stdout",
     "output_type": "stream",
     "text": [
      "Remove kim api directory /home/lmh1/LAMMPS/2022-06-23/lib/kim/installed-2.2.1/bin?\n",
      "Delete settings? (must type yes): "
     ]
    },
    {
     "name": "stdin",
     "output_type": "stream",
     "text": [
      " no\n"
     ]
    },
    {
     "name": "stdout",
     "output_type": "stream",
     "text": [
      "\n",
      "kim_models_file exists =  True\n",
      "kim_api_directory =       /home/lmh1/LAMMPS/2022-06-23/lib/kim/installed-2.2.1/bin\n"
     ]
    }
   ],
   "source": [
    "# Example save kim models file and delete api directory path\n",
    "kim_models = [\"EAM_CubicNaturalSpline_AngeloMoody_1995_Ni__MO_800536961967_002\"]\n",
    "potentials.settings.set_kim_models(kim_models)\n",
    "potentials.settings.unset_kim_api_directory()\n",
    "\n",
    "print()\n",
    "print('kim_models_file exists = ', potentials.settings.kim_models_file.exists())\n",
    "print('kim_api_directory =      ', potentials.settings.kim_api_directory)"
   ]
  },
  {
   "cell_type": "markdown",
   "metadata": {},
   "source": [
    "## 3. Database interactions\n",
    "\n",
    "Settings options are also available for changing the specific databases that are being accessed. "
   ]
  },
  {
   "cell_type": "markdown",
   "metadata": {},
   "source": [
    "### 3.1. Simple local database settings\n",
    "\n",
    "For most users, the only major setting that they would likely want to change is where the local database files are located.  This, and other local settings can be changed using the __set_local_database()__ method.\n",
    "\n",
    "- __localpath__ (*path, optional*) The directory to use for the local database.  If not given, will use the default path of directory \"library\" located in the settings directory.\n",
    "- __format__ (*str, optional*) The file format that is used: \"json\" or \"xml\".  Default value is \"json\"\n",
    "- __indent__ (*int or None, optional*) The number of indentation spacings to use in the files.  If None, then the files will be compact.  Default value is 4."
   ]
  },
  {
   "cell_type": "code",
   "execution_count": 10,
   "metadata": {},
   "outputs": [
    {
     "name": "stdout",
     "output_type": "stream",
     "text": [
      "Database potentials_local already defined.\n",
      "Overwrite? (yes or no): "
     ]
    },
    {
     "name": "stdin",
     "output_type": "stream",
     "text": [
      " no\n"
     ]
    }
   ],
   "source": [
    "potentials.settings.set_local_database(localpath='C:/Users/lmh1/Documents/library')"
   ]
  },
  {
   "cell_type": "markdown",
   "metadata": {},
   "source": [
    "### 3.2. Full database setting options\n",
    "\n",
    "The settings also allow for full control in changing the databases that are being accessed.  This is handled according to\n",
    "\n",
    "1. Database interaction settings can be saved according to names.\n",
    "2. When initializing a potentials.Database object, the settings for local and remote can either be directly given or can use one of the saved named settings.\n",
    "3. Saving database interaction settings to the names \"potentials_local\" and \"potentials_remote\" will change the default interaction settings for local and remote, respectively."
   ]
  },
  {
   "cell_type": "markdown",
   "metadata": {},
   "source": [
    "#### 3.2.1. list_databases\n",
    "\n",
    "The list_databases attribute lists the names associated with all currently saved database settings."
   ]
  },
  {
   "cell_type": "code",
   "execution_count": 11,
   "metadata": {},
   "outputs": [
    {
     "data": {
      "text/plain": [
       "['master', 'potentials_local', 'iprhub', 'potentials', 'chips', 'test']"
      ]
     },
     "execution_count": 11,
     "metadata": {},
     "output_type": "execute_result"
    }
   ],
   "source": [
    "potentials.settings.list_databases"
   ]
  },
  {
   "cell_type": "markdown",
   "metadata": {},
   "source": [
    "#### 3.2.2. set_database() \n",
    "\n",
    "The set_database() methods allows for database settings to be saved according to a name.  \n",
    "\n",
    "- __name__ (*str*) is the name to assign the settings to.\n",
    "- __style__ (*str*) is the style/type of database that is being accessed.\n",
    "- __host__ (*str*) is the host location for the database.  This is usually a URL or a file path.\n",
    "- __\\*\\*kwargs__ (*any, optional*) are any other database-style-specific parameters needed to properly access the database."
   ]
  },
  {
   "cell_type": "markdown",
   "metadata": {},
   "source": [
    "##### 3.2.2.1. A __local__ style database interacts with files in a local directory.\n",
    "- __host__ (*path, optional*) The directory to use for the database.\n",
    "- __format__ (*str, optional*) The file format that is used: \"json\" or \"xml\".  Default value is \"json\"\n",
    "- __indent__ (*int or None, optional*) The number of indentation spacings to use in the files.  If None, then the files will be compact.  Default value is 4."
   ]
  },
  {
   "cell_type": "code",
   "execution_count": 12,
   "metadata": {},
   "outputs": [],
   "source": [
    "# Note that these two function calls are identical:\n",
    "# potentials.settings.set_database(name='potentials_local', style='local', host=localpath, format=format, indent=indent) \n",
    "# potentials.settings.set_local_database(localpath=localpath, format=format, indent=indent)"
   ]
  },
  {
   "cell_type": "code",
   "execution_count": 13,
   "metadata": {},
   "outputs": [
    {
     "name": "stdout",
     "output_type": "stream",
     "text": [
      "Database test already defined.\n",
      "Overwrite? (yes or no): "
     ]
    },
    {
     "name": "stdin",
     "output_type": "stream",
     "text": [
      " no\n"
     ]
    }
   ],
   "source": [
    "potentials.settings.set_database(name='test', style='local', host='E:/calculations/ipr/test')"
   ]
  },
  {
   "cell_type": "markdown",
   "metadata": {},
   "source": [
    "##### 3.2.2.2. A __cdcs__ style database interacts with a CDCS database.\n",
    "\n",
    "- __host__ (*str, optional*) The root URL for the database.\n",
    "- __username__ (*str, optional*) The username (if needed) to use for accessing the database.\n",
    "- __password__ (*str, optional*) The password associated with username to use for accessing the database. If a password is needed and not saved, then a prompt will ask for it whenever a database class is initialized.\n",
    "- __cert__ (*str, optional*) The path to a certification file if needed for accessing the database.\n",
    "- __verify__ (*bool, optional*) Indicates if verification checks for the site are used.\n",
    "\n",
    "__NOTE__: Only save passwords this way if you are sure no one else has access to your settings directory and file.  The settings files are not encrypted and password values are not hashed; the passwords can be directly seen by anyone who opens the files!"
   ]
  },
  {
   "cell_type": "code",
   "execution_count": 14,
   "metadata": {},
   "outputs": [
    {
     "name": "stdout",
     "output_type": "stream",
     "text": [
      "Database potentials already defined.\n",
      "Overwrite? (yes or no): "
     ]
    },
    {
     "name": "stdin",
     "output_type": "stream",
     "text": [
      " no\n"
     ]
    }
   ],
   "source": [
    "# Set separate \"potentials\" for logged-in remote settings\n",
    "potentials.settings.set_database(name='potentials', style='cdcs', host='https://potentials.nist.gov/',\n",
    "                                 username='YOURUSERNAME', password='YOURPASSWORD')"
   ]
  },
  {
   "cell_type": "markdown",
   "metadata": {},
   "source": [
    "##### 3.2.2.3. A __mongo__ style database interacts with a MongoDB database.\n",
    "\n",
    "- __host__ (*str*) The mongo host to connect to.\n",
    "- __port__ (*int*) The port to use in connecting to the mongo host.\n",
    "- __database__ (*str*) The name of the database in the mongo host to interact with.\n",
    "- __**kwargs__ (*dict, optional*) Any extra keyword arguments needed to initialize a pymongo.MongoClient object."
   ]
  },
  {
   "cell_type": "code",
   "execution_count": 15,
   "metadata": {},
   "outputs": [
    {
     "name": "stdout",
     "output_type": "stream",
     "text": [
      "Database master already defined.\n",
      "Overwrite? (yes or no): "
     ]
    },
    {
     "name": "stdin",
     "output_type": "stream",
     "text": [
      " no\n"
     ]
    }
   ],
   "source": [
    "# Set a local-hosted MongoDB as \"master\" which can be used as an alternate local option.\n",
    "potentials.settings.set_database(name='master', style='mongo', host='localhost', port=27017, database='iprPy')"
   ]
  },
  {
   "cell_type": "markdown",
   "metadata": {},
   "source": [
    "#### 3.2.3 unset_database()\n",
    "\n",
    "Any saved database settings can be deleted using the unset_database() method and giving the name of the database settings to delete."
   ]
  },
  {
   "cell_type": "code",
   "execution_count": 16,
   "metadata": {},
   "outputs": [
    {
     "name": "stdout",
     "output_type": "stream",
     "text": [
      "Database test found\n",
      "Delete settings? (must type yes): "
     ]
    },
    {
     "name": "stdin",
     "output_type": "stream",
     "text": [
      " no\n"
     ]
    }
   ],
   "source": [
    "potentials.settings.unset_database(name='test')"
   ]
  },
  {
   "cell_type": "code",
   "execution_count": null,
   "metadata": {},
   "outputs": [],
   "source": []
  }
 ],
 "metadata": {
  "kernelspec": {
   "display_name": "Python 311",
   "language": "python",
   "name": "py11"
  },
  "language_info": {
   "codemirror_mode": {
    "name": "ipython",
    "version": 3
   },
   "file_extension": ".py",
   "mimetype": "text/x-python",
   "name": "python",
   "nbconvert_exporter": "python",
   "pygments_lexer": "ipython3",
   "version": "3.11.5"
  }
 },
 "nbformat": 4,
 "nbformat_minor": 4
}
