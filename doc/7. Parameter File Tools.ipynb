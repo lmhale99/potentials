{
 "cells": [
  {
   "cell_type": "markdown",
   "id": "67aa88f4-d18c-4db7-ad0a-733f9e21b3f2",
   "metadata": {},
   "source": [
    "# Parameter File Tools\n",
    "\n",
    "The potentials.paramfile module collects tools designed to read and write potential parameter files."
   ]
  },
  {
   "cell_type": "code",
   "execution_count": 1,
   "id": "21796820-8fb3-497d-bca6-3a219b0bc6e3",
   "metadata": {},
   "outputs": [],
   "source": [
    "import potentials\n",
    "from matplotlib import pyplot as plt"
   ]
  },
  {
   "cell_type": "markdown",
   "id": "f85ba01c-d0e4-46f0-9f51-fd8db84e97ba",
   "metadata": {},
   "source": [
    "# LAMMPS EAM parameter file tools\n",
    "\n",
    "These tools support reading the LAMMPS-formatted funcfl and setfl EAM function tabulation files."
   ]
  },
  {
   "cell_type": "markdown",
   "id": "b55ba108-ce44-4a09-ba89-b020a92051bc",
   "metadata": {},
   "source": [
    "## 1. load_eam()\n",
    "\n",
    "Loads a LAMMPS-compatible EAM parameter file.  This will return an object associated with the file's format.\n",
    "    \n",
    "- __f__ (*path-like object or file-like object*) The parameter file to read in, either as a file path or as an open file-like object.\n",
    "- __style__ (*str, optional*) The parameter file format.  'eam' will load funcfl files for the LAMMPS eam pair_style.  'eam/alloy' or 'alloy' will load setfl files for the LAMMPS eam/alloy pair_style.  'eam/fs' or 'fs' will load setfl files for the eam/fs pair_style.  If not given, will attempt to load the file using the different styles.  \n",
    "        \n",
    "__NOTE__: For single element potentials, the eam/alloy and eam/fs formats are identical.  If a single element eam/fs file is read in and style is not explicitly stated, then it will be interpreted as eam/alloy."
   ]
  },
  {
   "cell_type": "markdown",
   "id": "ea68c677-2560-448b-a11a-a817dca42f60",
   "metadata": {},
   "source": [
    "Load classic eam file"
   ]
  },
  {
   "cell_type": "code",
   "execution_count": 2,
   "id": "518e1267-0c3a-4d89-89ca-3b597536f7da",
   "metadata": {},
   "outputs": [
    {
     "name": "stdout",
     "output_type": "stream",
     "text": [
      "<potentials.paramfile.EAM.EAM object at 0x000001C68F432D48>\n"
     ]
    }
   ],
   "source": [
    "eam = potentials.paramfile.load_eam('files/Cu_smf7.eam')\n",
    "print(eam)"
   ]
  },
  {
   "cell_type": "markdown",
   "id": "b2d8aa85-5f39-4940-93e9-4ffd9f385163",
   "metadata": {},
   "source": [
    "Load eam/alloy file"
   ]
  },
  {
   "cell_type": "code",
   "execution_count": 3,
   "id": "fb07f343-1cd7-48c2-9c18-3ac0115c8b17",
   "metadata": {},
   "outputs": [
    {
     "name": "stdout",
     "output_type": "stream",
     "text": [
      "<potentials.paramfile.EAMAlloy.EAMAlloy object at 0x000001C68F03C248>\n"
     ]
    }
   ],
   "source": [
    "alloy = potentials.paramfile.load_eam('files/Al99.eam.alloy')\n",
    "print(alloy)"
   ]
  },
  {
   "cell_type": "markdown",
   "id": "b3e0f2d5-4b00-47d5-955d-0c9384ca8b0e",
   "metadata": {},
   "source": [
    "Load eam/fs file.  Note that style is explicitly specified otherwise the single element potential would be interpreted as eam/alloy."
   ]
  },
  {
   "cell_type": "code",
   "execution_count": 4,
   "id": "0534570d-1772-4324-bd1b-50ba8a54e842",
   "metadata": {},
   "outputs": [
    {
     "name": "stdout",
     "output_type": "stream",
     "text": [
      "<potentials.paramfile.EAMFS.EAMFS object at 0x000001C68F443C08>\n"
     ]
    }
   ],
   "source": [
    "fs = potentials.paramfile.load_eam('files/Ag_v2.eam.fs', style='fs')\n",
    "print(fs)"
   ]
  },
  {
   "cell_type": "markdown",
   "id": "82f60628-2069-4ff9-8285-357d8317384c",
   "metadata": {},
   "source": [
    "## 2. EAM, EAMAlloy, EAMFS classes\n",
    "\n",
    "These classes provide a means of both reading and constructing EAM parameter files.\n",
    "\n",
    "### 2.1. Major format differences\n",
    "\n",
    "Each of the three classes are designed to interpret files of different formats.  Because of this, there are certain key differences in the classes that reflect the associated formats.  For simplicity, the parameter file formats will be simply referred to here based on their associated LAMMPS pair style. \n",
    "\n",
    "- The eam format only allows for a single header comment line, while the eam/alloy and eam/fs formats allow for up to three header comment lines.\n",
    "- The eam format can only represent a single element model, which is not assigned an identifying symbol.  All methods of the EAM class naturally refer to that specific element model and there is only one of each function tabulations allowed.  In contrast, the eam/alloy and eam/fs formats do allow for multiple element models and identify each with a short symbol.  Many methods of the EAMAlloy and EAMFS classes require that one or two symbols be specified so that the appropriate values can be retrieved or assigned to the appropriate model interactions.\n",
    "- The eam format tabulates z(r), whereas the eam/alloy and eam/fs formats tabulate r*&phi;(r).  The relationship between z and &phi; is described below in section 2.3.2.\n",
    "- In both the eam/alloy and eam/fs formats, there is one F(&rho;) function per symbol, and one r*&phi;(r) function per unique combination of symbol pairs.  For eam/alloy, only one &rho;(r) function is defined for each symbol, whereas eam/fs defines a &rho;(r) function for each permutation of symbol pairs.\n",
    "\n",
    "### 2.2. Basic Attributes\n",
    "\n",
    "- __pair_style__ (*str*) The LAMMPS pair style associated with the class and parameter file.\n",
    "- __header__ (*str*) The header content that appears at the top of the file.  This is limited to a single line for EAM and three lines for the rest.  Can be directly set.\n",
    "- __numr__ (*int*) The number of r values.\n",
    "- __cutoffr__ (*float*) The cutoff r value.\n",
    "- __deltar__ (*float*) The step size between the r values.\n",
    "- __r__ (*numpy.NDArray*) The r values associated with the tabulated functions.\n",
    "- __numrho__ (*int*) The number of rho values.\n",
    "- __cutoffrho__ (*float*) The cutoff rho value. Note this corresponds to the maximum rho value used for the tabulation and is not directly used in the parameter file.\n",
    "- __deltarho__ (*float*) The step size between the rho values.\n",
    "- __rho__ (*numpy.NDArray*) The rho values associated with the tabulated functions.\n",
    "- __hartree__ (*float*) The Hartree to eV conversion value to use.  Only available for the EAM class.\n",
    "- __bohr__ (*float*) The Bohr radius to angstrom conversion value to use.  Only available for the EAM class.\n",
    "- __symbols__ (*list*) The list of symbols that have been assigned.  Not available for the EAM class.\n"
   ]
  },
  {
   "cell_type": "code",
   "execution_count": 5,
   "id": "71fb4ecf-45a9-4dce-bd79-fa21c704905a",
   "metadata": {},
   "outputs": [
    {
     "name": "stdout",
     "output_type": "stream",
     "text": [
      "header:     Cu functions for NiCu alloy (exponential Z)\n",
      "pair_style: eam\n",
      "numr:       500\n",
      "cutoffr:    4.949999999999989\n",
      "deltar:     0.009919839679358666\n",
      "numrho:     500\n",
      "cutoffrho:  0.19999999999999915\n",
      "deltarho:   0.00040080160320641114\n",
      "hartree:    27.2\n",
      "bohr:       0.529\n"
     ]
    }
   ],
   "source": [
    "print('header:    ', eam.header)\n",
    "print('pair_style:', eam.pair_style)\n",
    "print('numr:      ', eam.numr)\n",
    "print('cutoffr:   ', eam.cutoffr)\n",
    "print('deltar:    ', eam.deltar)\n",
    "print('numrho:    ', eam.numrho)\n",
    "print('cutoffrho: ', eam.cutoffrho)\n",
    "print('deltarho:  ', eam.deltarho)\n",
    "print('hartree:   ', eam.hartree)\n",
    "print('bohr:      ', eam.bohr)"
   ]
  },
  {
   "cell_type": "code",
   "execution_count": 6,
   "id": "7536e270-aeda-4af1-8aed-a2274200dcff",
   "metadata": {},
   "outputs": [
    {
     "name": "stdout",
     "output_type": "stream",
     "text": [
      "header:    \n",
      "Al EAM from Phys. Rev. B 59, 3393 (1999) in the LAMMPS setfl format.    \n",
      " Conversion by C. A. Becker from Y. Mishin files.                        \n",
      " 30 December 2008.  http://www.ctcms.nist.gov/potentials\n",
      "pair_style: eam/alloy\n",
      "numr:       10000\n",
      "cutoffr:    6.28721\n",
      "deltar:     0.000628721\n",
      "numrho:     10000\n",
      "cutoffrho:  1.9998\n",
      "deltarho:   0.0002\n",
      "symbols:    ['Al']\n"
     ]
    }
   ],
   "source": [
    "print('header:    ')\n",
    "print(alloy.header)\n",
    "print('pair_style:', alloy.pair_style)\n",
    "print('numr:      ', alloy.numr)\n",
    "print('cutoffr:   ', alloy.cutoffr)\n",
    "print('deltar:    ', alloy.deltar)\n",
    "print('numrho:    ', alloy.numrho)\n",
    "print('cutoffrho: ', alloy.cutoffrho)\n",
    "print('deltarho:  ', alloy.deltarho)\n",
    "print('symbols:   ', alloy.symbols)"
   ]
  },
  {
   "cell_type": "code",
   "execution_count": 7,
   "id": "164d88f9-3a80-4a5c-9ad6-e84955646e7e",
   "metadata": {},
   "outputs": [
    {
     "name": "stdout",
     "output_type": "stream",
     "text": [
      "header:    \n",
      "\"Simple N-body potentials for the noble metals and nickel\" \n",
      " G.J.Ackland, G.I.Tichy, V.Vitek, and M.W.Finnis, Phil.Mag.A, 56, 735. (1987) \n",
      " Converted from MOLDY format by G.J.Ackland\n",
      "pair_style: eam/fs\n",
      "numr:       10000\n",
      "cutoffr:    5.0043076614\n",
      "deltar:     0.00050043076614\n",
      "numrho:     10000\n",
      "cutoffrho:  499.95000000000005\n",
      "deltarho:   0.05\n",
      "symbols:    ['Ag']\n"
     ]
    }
   ],
   "source": [
    "print('header:    ')\n",
    "print(fs.header)\n",
    "print('pair_style:', fs.pair_style)\n",
    "print('numr:      ', fs.numr)\n",
    "print('cutoffr:   ', fs.cutoffr)\n",
    "print('deltar:    ', fs.deltar)\n",
    "print('numrho:    ', fs.numrho)\n",
    "print('cutoffrho: ', fs.cutoffrho)\n",
    "print('deltarho:  ', fs.deltarho)\n",
    "print('symbols:   ', fs.symbols)"
   ]
  },
  {
   "cell_type": "markdown",
   "id": "1dc6b2ea-ea42-417f-a6e2-d08c7e909d79",
   "metadata": {},
   "source": [
    "### 2.3. Analysis options\n",
    "\n",
    "#### 2.3.1. Analysis Methods\n",
    "\n",
    "These are the methods that return the current parameter values.\n",
    "\n",
    "Note that the EAM class does not use any of the \"symbol\" parameters listed below as it only models a single element model which is not associated with a symbol.  For the other classes, the symbol parameter is optional if the potential only defines interactions for a single element.\n",
    "\n",
    "- __load(f)__ Reads and loads a new parameter file, f.\n",
    "- __print_overview()__ Prints a quick summary of the loaded content.\n",
    "- __symbol_info(symbol=None)__ Returns a dict containing elemental information for a given model.  \n",
    "- __F_rho(symbol=None, rho=None)__ Returns the tabulated embedding energy values. Both the EAMAlloy and EAMFS classes take only one symbol.\n",
    "- __rho_r(symbol=None, r=None)__ Returns the tabulated electron density values. The EAMAlloy class takes only one symbol, while the EAMFS class can take up to two symbols.\n",
    "- __rphi_r(symbol=None, r=None)__ Returns the tabulated r times pair energy values. Both the EAMAlloy and EAMFS classes can take up to two symbols.\n",
    "- __phi_r(symbols=None, r=None)__ Returns the tabulated pair energy values. Both the EAMAlloy and EAMFS classes can take up to two symbols.\n",
    "- __z_r(r=None)__ Returns the tabulated z values.  Only available for the EAM class."
   ]
  },
  {
   "cell_type": "code",
   "execution_count": 8,
   "id": "84c290ee-d24f-4387-bff7-5ade30da0cae",
   "metadata": {},
   "outputs": [
    {
     "data": {
      "text/plain": [
       "{'number': 29, 'mass': 63.55, 'alat': 3.615, 'lattice': 'FCC'}"
      ]
     },
     "execution_count": 8,
     "metadata": {},
     "output_type": "execute_result"
    }
   ],
   "source": [
    "eam.symbol_info()"
   ]
  },
  {
   "cell_type": "code",
   "execution_count": 9,
   "id": "bb5eb94f-b9af-4a1d-8f7f-55693fca84dc",
   "metadata": {},
   "outputs": [
    {
     "name": "stdout",
     "output_type": "stream",
     "text": [
      "sym at#  mass      alat       lat\n",
      "Al  13  26.982          4.05 fcc\n",
      "\n",
      "rho: [0.0000e+00 2.0000e-04 4.0000e-04 ... 1.9994e+00 1.9996e+00 1.9998e+00]\n",
      "r: [0.00000000e+00 6.28721000e-04 1.25744200e-03 ... 6.28532384e+00\n",
      " 6.28595256e+00 6.28658128e+00]\n",
      "\n",
      "F(rho):\n",
      "Al [ 1.04222211e-10 -2.83315393e-03 -5.66328630e-03 ... -2.07681906e+00\n",
      " -2.07642147e+00 -2.07602374e+00]\n",
      "\n",
      "rho(r):\n",
      "Al [0.27858943 0.27841032 0.27823131 ... 0.         0.         0.        ]\n",
      "\n",
      "r*phi(r):\n",
      "Al Al [ 0.00000000e+00  3.93779371e-02  7.86661557e-02 ... -9.06252748e-10\n",
      " -2.68433414e-10 -3.33765555e-11]\n"
     ]
    }
   ],
   "source": [
    "alloy.print_overview()"
   ]
  },
  {
   "cell_type": "code",
   "execution_count": 10,
   "id": "26c1b40a-b7e9-4b8b-85c8-1bebd59f90b6",
   "metadata": {},
   "outputs": [
    {
     "data": {
      "text/plain": [
       "array([0.00000000e+00, 3.16174668e+04, 3.14258813e+04, ...,\n",
       "       5.05442059e-09, 1.49775591e-09, 1.87238214e-10])"
      ]
     },
     "execution_count": 10,
     "metadata": {},
     "output_type": "execute_result"
    }
   ],
   "source": [
    "fs.rphi_r()"
   ]
  },
  {
   "cell_type": "markdown",
   "id": "e4dad31a-bfbd-451f-8517-4d5904b67746",
   "metadata": {},
   "source": [
    "#### 2.3.2. Tabulated function conversions\n",
    "\n",
    "The classes are built to handle two different types of table conversions:\n",
    "\n",
    "1. The tabulated values read in are directly stored.  If the tabulated value methods above are called without specifying r or rho, then the exact tabulated values are returned.  However, if a different set of r or rho values are given, then the returned values will be created by applying a cubic spline interpolation on the original table.\n",
    "2. The tabulated z(r) values in the eam format relate to the r*&phi;(r) values in the other formats according to\n",
    "$$ r \\phi_{\\alpha \\beta}(r_{ij}) = E_h a_0 z_{\\alpha}(r_{ij}) z_{\\beta}(r_{ij}), $$\n",
    "   where $E_h$ is the Hartree energy, $a_0$ is the Bohr radius and $\\alpha$, $\\beta$ refer to the species of atoms $i$, $j$.  &phi;(r) values can also be obtained for any format by dividing r*&phi;(r) by r.  Note that this will always result in the first &phi;(r) value being undefined. "
   ]
  },
  {
   "cell_type": "markdown",
   "id": "9589a360-ee4c-4848-a250-fc11408a4c90",
   "metadata": {},
   "source": [
    "#### 2.3.3. Plotting methods \n",
    "\n",
    "Each of the tabulation methods listed in Section 1.2.3.1. also have corresponding plot_ methods that automatically create the associated plots.  All of these methods have the same parameters\n",
    "\n",
    "- __symbols__ (*str or list, optional*) The symbol(s) associated with the specific function to plot.  Not used by the EAM class methods.  Optional if the potential is for a single element model.\n",
    "- __n__ (*int, optional*) Indicates the numerical derivative of the function to plot.  Default value is 0 (no derivative).\n",
    "- __figsize__ (*tuple, optional*) The figure size to use.  A tuple of width and height values.\n",
    "- __matplotlib_axes__ (*matplotlib.axes, optional*) An existing matplotlib axes to add the plot to.  This allows for users to construct subplots containing the different functions.\n",
    "- __xlim__ (*tuple, optional*) Tuple of the low/high x limits to include in the plot.\n",
    "- __ylim__ (*tuple, optional*) Tuple of the low/high y limits to include in the plot."
   ]
  },
  {
   "cell_type": "markdown",
   "id": "29651b0a-c77f-470b-8df6-e5a0435e8c9b",
   "metadata": {},
   "source": [
    "Plot F(rho) and the first two derivatives of it for the EAM file."
   ]
  },
  {
   "cell_type": "code",
   "execution_count": 11,
   "id": "0dccf0bd-2fb2-44ac-ba21-4edda2be65cc",
   "metadata": {},
   "outputs": [
    {
     "data": {
      "image/png": "[encoded data removed]",
      "text/plain": [
       "<Figure size 720x432 with 1 Axes>"
      ]
     },
     "metadata": {
      "needs_background": "light"
     },
     "output_type": "display_data"
    },
    {
     "data": {
      "image/png": "[encoded data removed]",
      "text/plain": [
       "<Figure size 720x432 with 1 Axes>"
      ]
     },
     "metadata": {
      "needs_background": "light"
     },
     "output_type": "display_data"
    },
    {
     "data": {
      "image/png": "[encoded data removed]",
      "text/plain": [
       "<Figure size 720x432 with 1 Axes>"
      ]
     },
     "metadata": {
      "needs_background": "light"
     },
     "output_type": "display_data"
    }
   ],
   "source": [
    "for i in range(3):\n",
    "    eam.plot_F_rho(n=i)"
   ]
  },
  {
   "cell_type": "markdown",
   "id": "6f439c14-777c-49b3-a1c2-622d9511b47b",
   "metadata": {},
   "source": [
    "Construct a subplot containing all three tabulated functions for the eam/alloy file"
   ]
  },
  {
   "cell_type": "code",
   "execution_count": 12,
   "id": "f734896f-e889-4206-8b13-28ce58f27444",
   "metadata": {},
   "outputs": [
    {
     "data": {
      "image/png": "[encoded data removed]",
      "text/plain": [
       "<Figure size 1296x360 with 3 Axes>"
      ]
     },
     "metadata": {
      "needs_background": "light"
     },
     "output_type": "display_data"
    }
   ],
   "source": [
    "fig, axs = plt.subplots(1, 3, figsize=(18,5))\n",
    "alloy.plot_F_rho(matplotlib_axes=axs[0])\n",
    "alloy.plot_rho_r(matplotlib_axes=axs[1])\n",
    "alloy.plot_rphi_r(matplotlib_axes=axs[2])"
   ]
  },
  {
   "cell_type": "markdown",
   "id": "ec87214c-74d7-437d-9a6b-71eb7b33e6cc",
   "metadata": {},
   "source": [
    "### 2.4. Parameter file construction\n",
    "\n",
    "The various classes also allow for the construction of new eam parameter files of the different formats.\n",
    "\n",
    "#### 2.4.1. Construction methods\n",
    "\n",
    "Note that the EAM class does not use any of the \"symbol\" parameters listed below as it only models a single element model which is not associated with a symbol.  For the other classes, the symbol parameter is optional if the potential only defines interactions for a single element.\n",
    "\n",
    "- __set_r(num, cutoff=None, delta=None)__ Sets the r values to use in tabulating rho(r), z(r) and r\\*&phi;(r).\n",
    "- __set_rho(num, cutoff=None, delta=None)__ Sets the rho values to use in tabulating F(&rho;).\n",
    "- __set_symbol_info(symbol, number, mass, alat, lattice)__ Assigns the metadata element information to a symbol.\n",
    "- __set_F_rho(symbol, table=None, rho=None, fxn=None, **kwargs)__ Allows for the F(&rho;) function/table to be defined.  Both EAMAlloy and EAMFS classes take a single symbol.\n",
    "- __set_rho_r(symbol, table=None, r=None, fxn=None, **kwargs)__ Allows for the &rho;(r) function/table to be defined.  The EAMAlloy class takes a single symbol, while the EAMFS class can take up to two symbols.\n",
    "- __set_rphi_r(symbol, table=None, r=None, fxn=None, **kwargs)__ Allows for the r\\*&phi;(r) function/table to be defined.   Both EAMAlloy and EAMFS classes take up to two symbols.\n",
    "- __set_phi_r(symbol, table=None, r=None, fxn=None, **kwargs)__ Allows for the &phi;(r) function/table to be defined.   Both EAMAlloy and EAMFS classes take up to two symbols.\n",
    "- __set_z_r(table=None, r=None, fxn=None, **kwargs)__ Allows for the z(r) function/table to be defined. Only available for the EAM class.\n",
    "- __build(f=None, xf='%25.16e', ncolumns=5)__ Generates a parameter file using the xf float format settings and ncolumns settings.  Giving f allows for it to be saved to a file, otherwise it is returned as a str.\n",
    "\n",
    "#### 2.4.2. Construction basics\n",
    "\n",
    "For EAMAlloy and EAMFS, new symbols are defined using set_symbol_info().  The symbol_info() for a symbol must be set before any of the potential functions can be defined for that symbol.\n",
    "\n",
    "The set_ methods for the potential functions allow for the functions to be defined in one of two ways. \n",
    "1. The \"table\" parameter allows for pre-tabulated values of the function to be given.  If r or rho is not given as well, then the table values are directly associated with the set r or rho values.  If r or rho is given and it differs from the set values, then a cubic spline interpolation will be built based on the given coordinates and values.\n",
    "2. The \"fxn\" parameter allows for a Python function to be assigned to the corresponding potential function.  The tabulated values will then be freshly generated by evaluating this function against the set r or rho coordinates.  Any extra kwargs are used as passed along as parameters for fxn, which is useful for multi-element potentials where the same functional form but different fitted parameters are used for different symbol models.\n",
    "\n",
    "For each symbol combination, only one of rphi_r, phi_r, or z_r needs to be set.  The classes will automatically convert to the alternate functions when the wanted function is called.\n",
    "\n",
    "For the eam format, the default conversion constants are set to $E_h$ = 27.2 eV and $a_0$ = 0.529 &Aring;, which correspond to the values hard-coded into LAMMPS.  If you wish to use higher precision values, when you initialize an EAM object set the \"constants\" parameter to \"precise\", or give a tuple of conversion values as (hartree, bohr).\n",
    "\n",
    "__See the Notebooks in potentials/scripts/eam parameter files/ for working examples.__"
   ]
  },
  {
   "cell_type": "markdown",
   "id": "8952f3da-3093-4381-a136-7cad10fef633",
   "metadata": {},
   "source": [
    "## 3. Format converters\n",
    "\n",
    "The potentials.paramfile module also contains tools for converting from one format to another.  Note that to avoid losing information, the conversions can only go eam->eam/alloy->eam/fs."
   ]
  },
  {
   "cell_type": "markdown",
   "id": "7d63061b-027c-4c20-936a-01eccb9adc16",
   "metadata": {},
   "source": [
    "### 3.1. eam_to_eam_alloy\n",
    "    \n",
    "Converts one or more parameter files in the eam format to the eam/alloy format.  Note that giving the r and rho parameters may be necessary if combining more than one eam file as they may not be tabulated for the same points.\n",
    "    \n",
    "- __eam__ (*path, file-like object, potentials.paramfile.EAM, or list*) One or more parameter files in the LAMMPS pair_style eam funcfl format.\n",
    "- __symbol__ (*str or list*) The model symbol(s) to associate with the parameter file(s).\n",
    "- __numr__ (*int, optional*) The number of r tabulation points to use in the alloy file.  If given, then cutoffr and/or deltar must be given.  If not given, will use the r tabulation points from the eam parameter file with the largest r cutoff.\n",
    "- __cutoffr__ (*float, optional*) The r cutoff value to use in the alloy file.  Will be used in tabulating r values if numr is given and deltar is not.\n",
    "- __deltar__ (*float, optional*) The r step size to use for the r tabulation points in the alloy file. If given, numr must also be given.\n",
    "- __numrho__ (*int, optional*) The number of rho tabulation points to use in the alloy file. If given, then cutoffrho and/or deltarho must be given.  If not given, will use the rho tabulation points from the eam parameter file with the largest rho cutoff.\n",
    "- __cutoffrho__ (*float, optional*) The rho cutoff value to use in the alloy file.  Will be used in tabulating rho values if numrho is given and deltarho is not.\n",
    "- __deltarho__ (*float, optional*) The rho step size to use for the r tabulation points in the alloy file. If given, numrho must also be given."
   ]
  },
  {
   "cell_type": "code",
   "execution_count": 13,
   "id": "452d6c90-7c4a-4ac3-99d2-55d8a39803d1",
   "metadata": {},
   "outputs": [
    {
     "name": "stdout",
     "output_type": "stream",
     "text": [
      "<potentials.paramfile.EAMAlloy.EAMAlloy object at 0x000001C69003C288>\n"
     ]
    }
   ],
   "source": [
    "eam2 = potentials.paramfile.eam_to_eam_alloy(eam, 'Cu')\n",
    "print(eam2)"
   ]
  },
  {
   "cell_type": "markdown",
   "id": "85e3e3a9-3c9e-4c83-9fb3-90eeecc0fb08",
   "metadata": {},
   "source": [
    "### 3.2. eam_alloy_to__alloy_fs\n",
    "\n",
    "Converts a parameter file in the eam/alloy format to the eam/fs format.\n",
    "    \n",
    "- __alloy__ (*path, file-like object, or potentials.paramfile.EAMAlloy*) A parameter file in the LAMMPS pair_style eam/alloy setfl format."
   ]
  },
  {
   "cell_type": "code",
   "execution_count": 14,
   "id": "d879524a-ec65-499e-a7ed-762375f662e2",
   "metadata": {},
   "outputs": [
    {
     "name": "stdout",
     "output_type": "stream",
     "text": [
      "<potentials.paramfile.EAMFS.EAMFS object at 0x000001C690040548>\n"
     ]
    }
   ],
   "source": [
    "alloy2 = potentials.paramfile.eam_alloy_to_eam_fs(alloy)\n",
    "print(alloy2)"
   ]
  }
 ],
 "metadata": {
  "kernelspec": {
   "display_name": "Python 3 (ipykernel)",
   "language": "python",
   "name": "python3"
  },
  "language_info": {
   "codemirror_mode": {
    "name": "ipython",
    "version": 3
   },
   "file_extension": ".py",
   "mimetype": "text/x-python",
   "name": "python",
   "nbconvert_exporter": "python",
   "pygments_lexer": "ipython3",
   "version": "3.7.13"
  }
 },
 "nbformat": 4,
 "nbformat_minor": 5
}
