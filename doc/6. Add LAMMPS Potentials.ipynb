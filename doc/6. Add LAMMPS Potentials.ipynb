{
 "cells": [
  {
   "cell_type": "markdown",
   "metadata": {},
   "source": [
    "# Add LAMMPS Potentials\n",
    "\n",
    "This Notebook provides details and demonstrations about how PotentialLAMMPS objects can be easily generated for potentials not currently in the database.  This allows for users to easily integrate their personal LAMMPS potentials with the database."
   ]
  },
  {
   "cell_type": "code",
   "execution_count": 1,
   "metadata": {},
   "outputs": [],
   "source": [
    "from pathlib import Path\n",
    "import potentials"
   ]
  },
  {
   "cell_type": "markdown",
   "metadata": {},
   "source": [
    "## 1. Defining new LAMMPS potentials\n",
    "\n",
    "For the majority of LAMMPS pair_styles, the build_lammps_potential function can be used to easily generate a PotentialLAMMPS object. The function is a wrapper around numerous subclasses of potentials.build.PotentialLAMMPSBuilder, each of which is designed to properly generate the pair_coeff lines for a given set of pair_styles. There are hundreds of LAMMPS pair_styles, and each pair_style is expecting pair_coeff lines specific to that style. Luckily, the majority of pair_styles have pair_coeff lines that fall into one of two basic formats, and others are known slight variations of that. Thus, a handful of classes can properly capture the vast majority of LAMMPS pair_styles.\n",
    "\n",
    "__General build_lammps_potential() parameters associated with generating LAMMPS inputs__\n",
    "\n",
    "- __pair_style__ (*str*) The LAMMPS pair_style option to use.\n",
    "\n",
    "- __pair_style_terms__ (*list, optional*) Any other terms that appear on the pair_style line (like cutoff) if needed.\n",
    "\n",
    "- __symbols__ (*list, optional*) The symbols used to identify each unique particle model. Optional if elements is given and the particle symbols are the same as the elemental symbols.\n",
    "\n",
    "- __elements__ (*list, optional*) The elemental symbols associated with each particle model if the particles represent atoms.\n",
    "\n",
    "- __masses__ (*list, optional*) The masses of each particle.  Optional if elements is given as standard values can be used.\n",
    "\n",
    "- __charges__ (*list, optional*) The static charges to assign to each particle, if the model calls for it.\n",
    "\n",
    "- __allsymbols__ (*bool, optional*) Flag indicating if the coefficient lines must be defined for every particle model in the potential even if those particles are not used.  Default value is False as most pair_styles do not require this.\n",
    "\n",
    "- __command_terms__ (*list, optional*) Allows any other LAMMPS command lines that must be set for the potential to work properly to be set.  Each command line should be given as a list of terms, and multiple command lines given as a list of lists.\n",
    "\n",
    "- __units__ (*str, optional*) The LAMMPS units setting to use with the potential, if specific units are required. \n",
    "\n",
    "- __atom_style__ (*str, optional*) The LAMMPS atom_style setting to use, if a specific atom_style is required.\n",
    "\n",
    "Any of the general parameters and pair_style-specific parameters can be directly set as object attributes any time after the object has been created."
   ]
  },
  {
   "cell_type": "markdown",
   "metadata": {},
   "source": [
    "### 1.1 Pair potentials\n",
    "\n",
    "This is the most common format. It is used by all potentials that do not require reading parameter files.\n",
    "\n",
    "    pair_coeff 1 1 <a_11> <b_11> ...\n",
    "    pair_coeff 1 2 <a_12> <b_12> ...\n",
    "    ...\n",
    "\n",
    "__Format-specific build_lammps_potential() parameters__\n",
    "\n",
    "- __interactions__ (*list or dict*) Specifies the *symbols* and *terms* associated with each unique pair_coeff interaction.\n",
    "\n",
    "The associated class also has the set_interaction() method that makes defining the interactions slightly more intuitive."
   ]
  },
  {
   "cell_type": "code",
   "execution_count": 2,
   "metadata": {},
   "outputs": [
    {
     "name": "stdout",
     "output_type": "stream",
     "text": [
      "mass 1 26.9815385\n",
      "mass 2 63.546\n",
      "\n",
      "pair_style lj/cut\n",
      "pair_coeff 1 1 1.23 3.412\n",
      "pair_coeff 1 2 1.124 2.124\n",
      "pair_coeff 2 2 5.324 3.14\n",
      "\n"
     ]
    }
   ],
   "source": [
    "# Define pair potential with elements Al and Cu\n",
    "b = potentials.build_lammps_potential(pair_style='lj/cut', elements=['Al', 'Cu'])\n",
    "\n",
    "# Specify coefficients for each unique interaction (Note: values are junk NOT REAL POTENTIALS!)\n",
    "b.set_interaction(symbols=['Al', 'Al'], terms=[1.23, 3.412])\n",
    "b.set_interaction(symbols=['Cu', 'Al'], terms=[1.124, 2.124])\n",
    "b.set_interaction(symbols=['Cu', 'Cu'], terms=[5.324, 3.14])\n",
    "\n",
    "# Have the builder return a PotentialLAMMPS object\n",
    "pot = b.potential()\n",
    "print(pot.pair_info())"
   ]
  },
  {
   "cell_type": "markdown",
   "metadata": {},
   "source": [
    "### 1.2 Parameter file potentials\n",
    "\n",
    "This is the second most common format.  It is used by nearly all potentials that read in a single parameter file and associate atom types to model symbols.\n",
    "\n",
    "    pair_coeff * * <paramfile> <list of model symbols>\n",
    "\n",
    "__Format-specific build_lammps_potential() parameters__\n",
    "\n",
    "- __paramfile__ (*str*) The name of the potential parameter file."
   ]
  },
  {
   "cell_type": "code",
   "execution_count": 3,
   "metadata": {},
   "outputs": [
    {
     "name": "stdout",
     "output_type": "stream",
     "text": [
      "mass 1 26.9815385\n",
      "\n",
      "pair_style eam/alloy\n",
      "pair_coeff * * Al.eam.alloy Al\n",
      "\n"
     ]
    }
   ],
   "source": [
    "# Define potential for Al.eam.alloy\n",
    "b = potentials.build_lammps_potential(pair_style='eam/alloy', elements='Al', paramfile='Al.eam.alloy')\n",
    "\n",
    "# Have the builder return a PotentialLAMMPS object\n",
    "pot = b.potential()\n",
    "print(pot.pair_info())"
   ]
  },
  {
   "cell_type": "markdown",
   "metadata": {},
   "source": [
    "### 1.3 Original EAM pair_style potentials\n",
    "\n",
    "The original eam pair_style uses a unique format due to it defining elemental models in parameter files and using a universal mixing function.  \n",
    "\n",
    "    pair_coeff 1 1 <paramfiles[0]>\n",
    "    pair_coeff 2 2 <paramfiles[1]>\n",
    "    ...\n",
    "\n",
    "__Format-specific build_lammps_potential() parameters__\n",
    "\n",
    "- __paramfiles__ (*list*) The names of the elemental potential parameter files."
   ]
  },
  {
   "cell_type": "code",
   "execution_count": 4,
   "metadata": {},
   "outputs": [
    {
     "name": "stdout",
     "output_type": "stream",
     "text": [
      "mass 1 26.9815385\n",
      "mass 2 63.546\n",
      "\n",
      "pair_style eam\n",
      "pair_coeff 1 1 Al.eam\n",
      "pair_coeff 2 2 Cu.eam\n",
      "\n"
     ]
    }
   ],
   "source": [
    "# Define potential using the Al.eam and Cu.eam parameter files\n",
    "b = potentials.build_lammps_potential(pair_style='eam', elements=['Al', 'Cu'], paramfiles=['Al.eam', 'Cu.eam'])\n",
    "\n",
    "# Have the builder return a PotentialLAMMPS object\n",
    "pot = b.potential()\n",
    "print(pot.pair_info())"
   ]
  },
  {
   "cell_type": "markdown",
   "metadata": {},
   "source": [
    "### 1.4 MEAM potentials\n",
    "\n",
    "MEAM potentials use two types of parameter files: a general library file and a model-specific parameter file.\n",
    "\n",
    "    pair_coeff * * <libfile> <list of libfile symbols> <paramfile> <list of model symbols>\n",
    "\n",
    "__Format-specific build_lammps_potential() parameters__\n",
    "\n",
    "- __libfile__ (*str*) The name of the potential library file.\n",
    "\n",
    "- __paramfile__ (*str, optional*) The name of the potential parameter file. Might not be used by older MEAM potentials.\n",
    "\n",
    "*Note*: The MEAM parameter files for alloy (multi-element) models need to know which particle models to associate their parameters with.  As such, the first list of symbols in the pair_coeff line must be in a specific order.  Here, the builder will use the order of symbols/elements parameters as given."
   ]
  },
  {
   "cell_type": "code",
   "execution_count": 5,
   "metadata": {},
   "outputs": [
    {
     "name": "stdout",
     "output_type": "stream",
     "text": [
      "mass 1 26.9815385\n",
      "\n",
      "pair_style meam\n",
      "pair_coeff * * lib.meam Al Al.meam Al\n",
      "\n"
     ]
    }
   ],
   "source": [
    "# Define MEAM potential using the lib.meam and Al.meam parameter file\n",
    "b = potentials.build_lammps_potential(pair_style='meam', elements='Al', libfile='lib.meam', paramfile='Al.meam')\n",
    "\n",
    "pot = b.potential()\n",
    "print(pot.pair_info())"
   ]
  },
  {
   "cell_type": "code",
   "execution_count": 6,
   "metadata": {},
   "outputs": [
    {
     "name": "stdout",
     "output_type": "stream",
     "text": [
      "mass 1 26.9815385\n",
      "\n",
      "pair_style meam\n",
      "pair_coeff * * lib.meam Al NULL Al\n",
      "\n"
     ]
    }
   ],
   "source": [
    "# Define MEAM potential using the lib.meam only\n",
    "b = potentials.build_lammps_potential(pair_style='meam', elements='Al', libfile='lib.meam')\n",
    "\n",
    "# Have the builder return a PotentialLAMMPS object\n",
    "pot = b.potential()\n",
    "print(pot.pair_info())"
   ]
  },
  {
   "cell_type": "markdown",
   "metadata": {},
   "source": [
    "### 1.5 EIM potentials\n",
    "\n",
    "The eim pair_style uses a slight variation on the parameter file and MEAM formats\n",
    "\n",
    "    pair_coeff * * <list of libfile symbols> <parameter_file> <list of model symbols>\n",
    "\n",
    "__Format-specific build_lammps_potential() parameters__\n",
    "\n",
    "- __paramfile__ (*str*) The name of the potential parameter file."
   ]
  },
  {
   "cell_type": "code",
   "execution_count": 7,
   "metadata": {},
   "outputs": [
    {
     "name": "stdout",
     "output_type": "stream",
     "text": [
      "mass 1 26.9815385\n",
      "mass 2 63.546\n",
      "\n",
      "pair_style eim\n",
      "pair_coeff * * Al Cu AlCu.eim Al Cu\n",
      "\n"
     ]
    }
   ],
   "source": [
    "b = potentials.build_lammps_potential(pair_style='eim', elements=['Al', 'Cu'], paramfile='AlCu.eim')\n",
    "\n",
    "pot = b.potential()\n",
    "print(pot.pair_info())"
   ]
  },
  {
   "cell_type": "markdown",
   "metadata": {},
   "source": [
    "### 1.6 KIM potentials\n",
    "\n",
    "This is used with the older pair_style kim not the newer kim LAMMPS commands.\n",
    "\n",
    "    pair_coeff * * <list of model symbols>\n",
    "\n",
    "__Format-specific build_lammps_potential() parameters__\n",
    "\n",
    "- __kimid__ (*str*) The unique kim ID for the potential.  Note that this is used rather than pair_style_terms."
   ]
  },
  {
   "cell_type": "code",
   "execution_count": 8,
   "metadata": {},
   "outputs": [
    {
     "name": "stdout",
     "output_type": "stream",
     "text": [
      "mass 1 26.9815385\n",
      "\n",
      "pair_style kim AKSDFO!\n",
      "pair_coeff * * Al\n",
      "\n"
     ]
    }
   ],
   "source": [
    "b = potentials.build_lammps_potential(pair_style='kim', elements='Al', kimid='AKSDFO!')\n",
    "\n",
    "pot = b.potential()\n",
    "print(pot.pair_info())"
   ]
  },
  {
   "cell_type": "markdown",
   "metadata": {},
   "source": [
    "### 1.7 Other potentials\n",
    "\n",
    "The current builders capture ~95% of all LAMMPS pair_styles. For the remaining pair_styles\n",
    "\n",
    "- If the pair_style's pair_coeffs follow one of the above formats but is not currently known to follow that format, the underlying builder can be called directly.\n",
    "\n",
    "- If the pair_style's pair_coeffs do not follow any of the above formats, a new builder can be made and/or the underlying potential_LAMMPS data model can be built by hand. Contact [potentials@nist.gov](mailto:potentials@nist.gov) for help."
   ]
  },
  {
   "cell_type": "markdown",
   "metadata": {},
   "source": [
    "## 2. Saving user-defined potentials\n",
    "\n",
    "The above section descriptions provide a simple means of generating PotentialLAMMPS objects for new potentials not in the system.  This section shows how the same builders can be used to create the underlying potential_LAMMPS data models that can be saved for use later.\n",
    "\n",
    "__Note__: At the very least id must be set in order to save as id is used as the file name.\n",
    "\n",
    "### 2.1 Additional metadata\n",
    "\n",
    "The builders also take additional parameters associated with metadata fields for identifying and classifying the LAMMPS potentials\n",
    "\n",
    "- __id__ (*str, optional*) A human-readable identifier to name the LAMMPS potential implementation.  Must be set in order to save to the database as the id is used as the potential's file name.\n",
    "\n",
    "- __key__ (*str, optional*) A UUID4 code to uniquely identify the LAMMPS potential implementation.  If not specified, a new UUID4 code is automatically generated.\n",
    "\n",
    "- __potid__ (*str, optional*) A human-readable identifier to refer to the conceptual potential model that the potential is based on.  This should be shared by alternate implementations of the same potential.\n",
    "\n",
    "- __potkey__ (*str, optional*) A UUID4 code to uniquely identify the conceptual potential model. This should be shared by alternate implementations of the same potential. If not specified, a new UUID4 code is automatically generated.\n",
    "\n",
    "- __status__ (*str, optional*) Indicates if the implementation is 'active' (valid and current), 'superceded' (valid, but better ones exist), or 'retracted' (invalid). Default value is 'active'."
   ]
  },
  {
   "cell_type": "code",
   "execution_count": 9,
   "metadata": {},
   "outputs": [
    {
     "name": "stdout",
     "output_type": "stream",
     "text": [
      "{\n",
      "    \"potential-LAMMPS\": {\n",
      "        \"key\": \"543154b0-a322-4be5-92fd-49750db56f86\", \n",
      "        \"id\": null, \n",
      "        \"potential\": {\n",
      "            \"key\": \"7dd21151-8030-48a4-a4bc-befa0c4c7439\", \n",
      "            \"id\": null\n",
      "        }, \n",
      "        \"units\": \"metal\", \n",
      "        \"atom_style\": \"atomic\", \n",
      "        \"atom\": {\n",
      "            \"element\": \"Al\"\n",
      "        }, \n",
      "        \"pair_style\": {\n",
      "            \"type\": \"eam/alloy\"\n",
      "        }, \n",
      "        \"pair_coeff\": {\n",
      "            \"term\": [\n",
      "                {\n",
      "                    \"file\": \"Al.eam.alloy\"\n",
      "                }, \n",
      "                {\n",
      "                    \"symbols\": \"True\"\n",
      "                }\n",
      "            ]\n",
      "        }\n",
      "    }\n",
      "}\n"
     ]
    }
   ],
   "source": [
    "# Start with the eam/alloy example again\n",
    "pot = potentials.build_lammps_potential(pair_style='eam/alloy', elements='Al', paramfile='Al.eam.alloy')\n",
    "\n",
    "# Show the generated data model\n",
    "print(pot.build().json(indent=4))"
   ]
  },
  {
   "cell_type": "markdown",
   "metadata": {},
   "source": [
    "Note that the two id fields have null values.  They can be set either during initialization or as attributes after initialization."
   ]
  },
  {
   "cell_type": "code",
   "execution_count": 10,
   "metadata": {},
   "outputs": [
    {
     "name": "stdout",
     "output_type": "stream",
     "text": [
      "{\n",
      "    \"potential-LAMMPS\": {\n",
      "        \"key\": \"543154b0-a322-4be5-92fd-49750db56f86\", \n",
      "        \"id\": \"Al-parameterization-round12-v2\", \n",
      "        \"potential\": {\n",
      "            \"key\": \"7dd21151-8030-48a4-a4bc-befa0c4c7439\", \n",
      "            \"id\": \"Al-parameterization-round12\"\n",
      "        }, \n",
      "        \"units\": \"metal\", \n",
      "        \"atom_style\": \"atomic\", \n",
      "        \"atom\": {\n",
      "            \"element\": \"Al\"\n",
      "        }, \n",
      "        \"pair_style\": {\n",
      "            \"type\": \"eam/alloy\"\n",
      "        }, \n",
      "        \"pair_coeff\": {\n",
      "            \"term\": [\n",
      "                {\n",
      "                    \"file\": \"Al.eam.alloy\"\n",
      "                }, \n",
      "                {\n",
      "                    \"symbols\": \"True\"\n",
      "                }\n",
      "            ]\n",
      "        }\n",
      "    }\n",
      "}\n"
     ]
    }
   ],
   "source": [
    "pot.id = 'Al-parameterization-round12-v2'\n",
    "pot.potid = 'Al-parameterization-round12'\n",
    "# Show the generated data model\n",
    "print(pot.build().json(indent=4))"
   ]
  },
  {
   "cell_type": "markdown",
   "metadata": {},
   "source": [
    "### 2.2 Save locally\n",
    "\n",
    "Any user-defined records for LAMMPS potentials can be saved locally and then later retrieved using potentials.Database."
   ]
  },
  {
   "cell_type": "code",
   "execution_count": 11,
   "metadata": {},
   "outputs": [],
   "source": [
    "# Create a dummy parameter file \"Al.eam.alloy\" \n",
    "dummyfile = Path('Al.eam.alloy')\n",
    "\n",
    "with open(dummyfile, 'w') as f:\n",
    "    f.write('Dummy parameter file Al.eam.alloy\\n')\n",
    "    f.write('This is created here to demonstrate how to associate parameter files with saved LAMMPS potentials\\n')\n",
    "    f.write('Give paths to already existing parameter files for real potentials\\n')\n",
    "    f.write('This is where parameters would appear if this was a real potential...')"
   ]
  },
  {
   "cell_type": "markdown",
   "metadata": {},
   "source": [
    "#### 2.2.1 Database.save_lammps_potentials()\n",
    "\n",
    "Saves a new LAMMPS potential to the local copy of the database\n",
    "\n",
    "- __lammps_potentials__ (*PotentialLAMMPS or list of PotentialLAMMPS*) The lammps_potential(s) to save.\n",
    "- __filenames__ (*list, optional*) The path names to any parameter files associated with each lammps_potentials.  Length of the list should be the same as the length of lammps_potentials.  Each entry can be None, a path, or a list of paths.  If the value is None for an entry then the corresponding Potential record will be searched for parameter files to download.   Note that files will only be copied/downloaded if the associated record is new/different.\n",
    "- __format__ (*str, optional*) The file format to save the record files as.  Allowed values are 'xml' (default) and 'json'.\n",
    "- __localpath__ (*path-like object, optional*) Path to a local directory where the record and files will be saved to. If not given, will use the localpath value set during object initialization.\n",
    "- __indent__ (*int, optional*) The indentation spacing size to use for the locally saved record files. If not given, the JSON/XML content will be compact.\n",
    "- __overwrite__ (*bool, optional*) If True (default) then any matching LAMMPS potentials already in the localpath will be updated if the content has changed.  If False, all existing LAMMPS potentials in the localpath will be unchanged.\n",
    "- __verbose__ (*bool, optional*) If True, info messages will be printed during operations.  Default value is False.\n",
    "- __reload__ (*bool, optional*) If True, will call load_lammps_potentials() after adding the new potential.  Default value is False: loading is slow and should only be done when you wish to retrieve the saved potentials.\n"
   ]
  },
  {
   "cell_type": "code",
   "execution_count": 12,
   "metadata": {},
   "outputs": [
    {
     "name": "stdout",
     "output_type": "stream",
     "text": [
      "1 LAMMPS potentials saved to localpath\n",
      " - 1 new potentials added\n",
      " - 1 potentials had files copied\n"
     ]
    }
   ],
   "source": [
    "# Initialize a Database with localpath testlibrary\n",
    "potdb = potentials.Database(local=True, remote=False)\n",
    "\n",
    "# Save to local\n",
    "potdb.save_lammps_potentials(pot, filenames='Al.eam.alloy', verbose=True, format='json')"
   ]
  },
  {
   "cell_type": "code",
   "execution_count": 13,
   "metadata": {},
   "outputs": [],
   "source": [
    "# Delete the dummy parameter file\n",
    "dummyfile.unlink()"
   ]
  },
  {
   "cell_type": "markdown",
   "metadata": {},
   "source": [
    "#### 2.2.2 load and get\n",
    "\n",
    "Any local potentials in the Database's localpath can then be found after loading the lammps potentials into memory."
   ]
  },
  {
   "cell_type": "code",
   "execution_count": 14,
   "metadata": {},
   "outputs": [
    {
     "name": "stdout",
     "output_type": "stream",
     "text": [
      "Loaded 280 local LAMMPS potentials\n"
     ]
    }
   ],
   "source": [
    "# Load lammps_potentials from the local directory only\n",
    "potdb.load_lammps_potentials(local=True, remote=False, verbose=True)"
   ]
  },
  {
   "cell_type": "code",
   "execution_count": 15,
   "metadata": {},
   "outputs": [
    {
     "name": "stdout",
     "output_type": "stream",
     "text": [
      "Al-parameterization-round12-v2\n"
     ]
    }
   ],
   "source": [
    "# get_lammps_potential will search through the loaded potentials\n",
    "pot = potdb.get_lammps_potential(id='Al-parameterization-round12-v2')\n",
    "print(pot)"
   ]
  },
  {
   "cell_type": "code",
   "execution_count": 16,
   "metadata": {},
   "outputs": [
    {
     "name": "stdout",
     "output_type": "stream",
     "text": [
      "mass 1 26.9815385\n",
      "\n",
      "pair_style eam/alloy\n",
      "pair_coeff * * C:\\Users\\lmh1\\Documents\\library\\potential_LAMMPS\\Al-parameterization-round12-v2\\Al.eam.alloy Al\n",
      "\n"
     ]
    }
   ],
   "source": [
    "print(pot.pair_info())"
   ]
  },
  {
   "cell_type": "markdown",
   "metadata": {},
   "source": [
    "#### 2.2.3. Delete records\n",
    "\n",
    "Any LAMMPS potentials saved can also be deleted with the delete_lammps_potential() method.\n",
    "\n",
    "Parameters\n",
    "    \n",
    "- __lammps_potential__ (*PotentialLAMMPS or str*) The LAMMPS potential to delete from the remote database.  Can either give the corresponding PotentialLAMMPS object or just the potential's id/title.\n",
    "- __local__ (*bool, optional*) If True (default) then the record will be deleted from the localpath.\n",
    "- __remote__ (*bool, optional*) If True then the record will be deleted from the remote database.   Requires write permissions to potentials.nist.gov.  Default value is False.\n",
    "- __localpath__ (*path-like object, optional*) Path to a local directory where the file to delete is located.  If not given, will use the localpath value set during object initialization.\n",
    "- __paramfiles__ (*bool, optional*) If True (default) and local is True, then any parameter files associated with the record will also be deleted from localpath.\n",
    "- __verbose__ (*bool, optional*) If True, info messages will be printed during operations.  Default value is False."
   ]
  },
  {
   "cell_type": "code",
   "execution_count": 17,
   "metadata": {},
   "outputs": [
    {
     "name": "stdout",
     "output_type": "stream",
     "text": [
      "deleted C:\\Users\\lmh1\\Documents\\library\\potential_LAMMPS\\Al-parameterization-round12-v2.json\n"
     ]
    }
   ],
   "source": [
    "potdb.delete_lammps_potential(pot, local=True, remote=False, paramfiles=True, verbose=True)"
   ]
  },
  {
   "cell_type": "markdown",
   "metadata": {},
   "source": [
    "  "
   ]
  }
 ],
 "metadata": {
  "kernelspec": {
   "display_name": "Python 3",
   "language": "python",
   "name": "python3"
  },
  "language_info": {
   "codemirror_mode": {
    "name": "ipython",
    "version": 3
   },
   "file_extension": ".py",
   "mimetype": "text/x-python",
   "name": "python",
   "nbconvert_exporter": "python",
   "pygments_lexer": "ipython3",
   "version": "3.7.4"
  }
 },
 "nbformat": 4,
 "nbformat_minor": 2
}
