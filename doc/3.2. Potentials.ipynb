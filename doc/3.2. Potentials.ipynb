{
 "cells": [
  {
   "cell_type": "markdown",
   "metadata": {},
   "source": [
    "# Potentials\n",
    "\n",
    "Potential records contain the information used to build the different listings of interatomic potentials as found on the NIST Interatomic Potentials Repository."
   ]
  },
  {
   "cell_type": "code",
   "execution_count": 1,
   "metadata": {},
   "outputs": [
    {
     "name": "stdout",
     "output_type": "stream",
     "text": [
      "Notebook tested for potentials version 0.3.b\n"
     ]
    }
   ],
   "source": [
    "# https://github.com/lmhale99/potentials\n",
    "import potentials\n",
    "\n",
    "print('Notebook tested for potentials version', potentials.__version__)"
   ]
  },
  {
   "cell_type": "code",
   "execution_count": 2,
   "metadata": {},
   "outputs": [],
   "source": [
    "potdb = potentials.Database(local=True, remote=True)"
   ]
  },
  {
   "cell_type": "markdown",
   "metadata": {},
   "source": [
    "## 1. Terms and Classes\n",
    "\n",
    "This is a list of terms used by the NIST Interatomic Potentials Repository for describing the potentials and associated parts.  The structure of the Potential records and the classes used in the potentials package are a reflection of these terms.\n",
    "\n",
    "- A potential entry is associated with the conceptual idea of an interatomic potential, i.e. a combination of functional form and function parameters.  Most potentials have at least one corresponding publication that describes their equations and reports on predicted properties.  The Potential class is designed to provide a representation for the full potential entry listing.\n",
    "- Each potential entry has at least one citation assigned to it.  The citation is either a true publication citation, or a placeholder citation that simply provides the name(s) of the primary developers and year of creation.  The unique IDs assigned to potential entries and potential implementations are derived from the publication/creation year and authors.  [See the 3.1. Citations Notebook]() for more information on the Citation class used to represent citations.\n",
    "- A potential implementation is associated with a particular version/representation of an interatomic potential.  Each implementation is typically associated with a single potential entry, and each potential entry can have any number of implementations associated with it.  Implementations are often associated with a particular simulation software and/or parameter format, but can be something as general as a list of equations or a tabulation of function values.  The Implementation class collects the descriptive data associated with each implementation.  \n",
    "- The contents associated with an implementation are divided into three categories: artifacts, parameters, and links.  An artifact is a file that can be directly downloaded, a parameter is a specific potential parameter that should appear as HTML text, and a link is a hyperlink to an alternate site.  Each implementation has at least one artifact, parameter, or link.  The classes Artifact, Parameter and Link provide representations of these concepts, respectively.  "
   ]
  },
  {
   "cell_type": "markdown",
   "metadata": {},
   "source": [
    "## 2. Query potentials from the database\n",
    "\n",
    "### 2.1. get_potentials() and get_potential()\n",
    "\n",
    "Potential records can be queried using the get_potentials() and get_potential() methods of potentials.Database.  The plural version will return all entries matching the query.  The singular version is designed to return exactly one matching record if it exists, or throw an error if none or multiple matching records are found. \n",
    "\n",
    "Method options\n",
    "\n",
    "- __local__ (*bool, optional*) Indicates if the local location is to be searched.  Default value matches the value set when the database was initialized.\n",
    "- __remote__ (*bool, optional*) Indicates if the remote location is to be searched.  Default value matches the value set when the database was initialized.\n",
    "- __verbose__ (*bool, optional*) If True, info messages will be printed during operations.  Default value is False.\n",
    "- __return_df__ (*bool, optional*) If True, then the corresponding pandas.Dataframe of metadata will also be returned.  Only available for get_citations.\n",
    "\n",
    "Query parameters\n",
    "\n",
    "- __name__ (*str or list*) The record name(s) to parse by.  For potential records, the names should correspond to the id with a prefix of \"potentials.\" added to it.\n",
    "- __key__ (*str or list*) The unique UUID4 record key(s) to parse by. \n",
    "- __id__ (*str or list*) The unique record id(s) labeling the records to parse by.\n",
    "- __notes__ (*str or list*) Term(s) to search for in the potential's notes field.\n",
    "- __fictional__ (*bool*) Limits based on if the potential is labeled as fictional or not.\n",
    "- __element__ (*str or list*) Element(s) in the model to parse by.\n",
    "- __othername__ (*str or list*) Alternate system names (often compounds or molecules) to parse by.\n",
    "- __modelname__ (*str or list*) Identifying model names to parse by.  These are used to differentiate between potentials that would otherwise have the same id based on year, primary author and elements. \n",
    "- __year__ (*int or list*) Publication year(s) to parse by.\n",
    "- __author__ (*str or list*) Author name(s) to parse by.  This works best for last names only.\n",
    "- __abstract__ (*str or list*) Term(s) to search for in the potential's citation's abstract field.\n"
   ]
  },
  {
   "cell_type": "code",
   "execution_count": 3,
   "metadata": {},
   "outputs": [
    {
     "name": "stdout",
     "output_type": "stream",
     "text": [
      "Found 25 matching Potential records in local library\n",
      "Found 25 matching Potential records in remote library\n",
      " - 0 remote records are new\n"
     ]
    }
   ],
   "source": [
    "entries, entries_df = potdb.get_potentials(verbose=True, return_df=True, author='Mishin')"
   ]
  },
  {
   "cell_type": "code",
   "execution_count": 4,
   "metadata": {},
   "outputs": [
    {
     "data": {
      "text/html": [
       "<div>\n",
       "<style scoped>\n",
       "    .dataframe tbody tr th:only-of-type {\n",
       "        vertical-align: middle;\n",
       "    }\n",
       "\n",
       "    .dataframe tbody tr th {\n",
       "        vertical-align: top;\n",
       "    }\n",
       "\n",
       "    .dataframe thead th {\n",
       "        text-align: right;\n",
       "    }\n",
       "</style>\n",
       "<table border=\"1\" class=\"dataframe\">\n",
       "  <thead>\n",
       "    <tr style=\"text-align: right;\">\n",
       "      <th></th>\n",
       "      <th>name</th>\n",
       "      <th>key</th>\n",
       "      <th>id</th>\n",
       "      <th>recorddate</th>\n",
       "      <th>notes</th>\n",
       "      <th>fictional</th>\n",
       "      <th>elements</th>\n",
       "      <th>othername</th>\n",
       "      <th>modelname</th>\n",
       "      <th>citations</th>\n",
       "      <th>implementations</th>\n",
       "    </tr>\n",
       "  </thead>\n",
       "  <tbody>\n",
       "    <tr>\n",
       "      <th>0</th>\n",
       "      <td>potential.1999--Mishin-Y-Farkas-D-Mehl-M-J-Pap...</td>\n",
       "      <td>0c2ddffb-e644-4e5c-8e53-9bf722bb5dee</td>\n",
       "      <td>1999--Mishin-Y-Farkas-D-Mehl-M-J-Papaconstanto...</td>\n",
       "      <td>2018-08-15</td>\n",
       "      <td>None</td>\n",
       "      <td>False</td>\n",
       "      <td>[Al]</td>\n",
       "      <td>None</td>\n",
       "      <td>None</td>\n",
       "      <td>[{'name': '10.1103_physrevb.59.3393', 'year': ...</td>\n",
       "      <td>[{'key': 'e107e2ce-beec-494e-b065-ff26f22eac15...</td>\n",
       "    </tr>\n",
       "    <tr>\n",
       "      <th>1</th>\n",
       "      <td>potential.1999--Mishin-Y-Farkas-D-Mehl-M-J-Pap...</td>\n",
       "      <td>81adb388-59eb-4f49-88bf-6f06a1343fae</td>\n",
       "      <td>1999--Mishin-Y-Farkas-D-Mehl-M-J-Papaconstanto...</td>\n",
       "      <td>2018-08-15</td>\n",
       "      <td>None</td>\n",
       "      <td>False</td>\n",
       "      <td>[Ni]</td>\n",
       "      <td>None</td>\n",
       "      <td>None</td>\n",
       "      <td>[{'name': '10.1103_physrevb.59.3393', 'year': ...</td>\n",
       "      <td>[{'key': '0b71eeb7-5e30-4206-bd59-6a259c57e3e4...</td>\n",
       "    </tr>\n",
       "    <tr>\n",
       "      <th>2</th>\n",
       "      <td>potential.2001--Mishin-Y-Mehl-M-J-Papaconstant...</td>\n",
       "      <td>a7910725-e80c-4a53-83e8-adfb5724dc9f</td>\n",
       "      <td>2001--Mishin-Y-Mehl-M-J-Papaconstantopoulos-D-...</td>\n",
       "      <td>2018-08-15</td>\n",
       "      <td>This listing is for the reference's EAM1 poten...</td>\n",
       "      <td>False</td>\n",
       "      <td>[Cu]</td>\n",
       "      <td>None</td>\n",
       "      <td>1</td>\n",
       "      <td>[{'name': '10.1103_physrevb.63.224106', 'year'...</td>\n",
       "      <td>[{'key': 'a063df15-8cb7-4773-8e50-79e6a889c27c...</td>\n",
       "    </tr>\n",
       "    <tr>\n",
       "      <th>3</th>\n",
       "      <td>potential.2001--Mishin-Y-Mehl-M-J-Papaconstant...</td>\n",
       "      <td>5a94a06a-22c7-41e0-8593-ee42d4728018</td>\n",
       "      <td>2001--Mishin-Y-Mehl-M-J-Papaconstantopoulos-D-...</td>\n",
       "      <td>2018-08-15</td>\n",
       "      <td>This listing is for the reference's EAM2 poten...</td>\n",
       "      <td>False</td>\n",
       "      <td>[Cu]</td>\n",
       "      <td>None</td>\n",
       "      <td>2</td>\n",
       "      <td>[{'name': '10.1103_physrevb.63.224106', 'year'...</td>\n",
       "      <td>[{'key': 'd6c12a91-1b3d-4cd5-8d90-ee0b2fcbf74b...</td>\n",
       "    </tr>\n",
       "    <tr>\n",
       "      <th>4</th>\n",
       "      <td>potential.2002--Mishin-Y-Mehl-M-J-Papaconstant...</td>\n",
       "      <td>cba1f03d-4e0b-4f08-8b52-0aff0a4224b3</td>\n",
       "      <td>2002--Mishin-Y-Mehl-M-J-Papaconstantopoulos-D-...</td>\n",
       "      <td>2018-08-15</td>\n",
       "      <td>As described in the reference, this potential ...</td>\n",
       "      <td>False</td>\n",
       "      <td>[Ni, Al]</td>\n",
       "      <td>None</td>\n",
       "      <td>None</td>\n",
       "      <td>[{'name': '10.1103_physrevb.65.224114', 'year'...</td>\n",
       "      <td>[{'key': '1bda5691-8a4f-4597-ac00-a471898d27a6...</td>\n",
       "    </tr>\n",
       "    <tr>\n",
       "      <th>5</th>\n",
       "      <td>potential.2003--Zope-R-R-Mishin-Y--Al</td>\n",
       "      <td>36dbb1ec-c7f0-46a4-a501-1c518f777d5c</td>\n",
       "      <td>2003--Zope-R-R-Mishin-Y--Al</td>\n",
       "      <td>2018-08-15</td>\n",
       "      <td>None</td>\n",
       "      <td>False</td>\n",
       "      <td>[Al]</td>\n",
       "      <td>None</td>\n",
       "      <td>None</td>\n",
       "      <td>[{'name': '10.1103_physrevb.68.024102', 'year'...</td>\n",
       "      <td>[{'key': 'a6237bcc-a4be-497d-97ed-636f3999c541...</td>\n",
       "    </tr>\n",
       "    <tr>\n",
       "      <th>6</th>\n",
       "      <td>potential.2003--Zope-R-R-Mishin-Y--Ti-Al</td>\n",
       "      <td>274cbc15-b7c1-4701-a3e8-07b0b046ad7b</td>\n",
       "      <td>2003--Zope-R-R-Mishin-Y--Ti-Al</td>\n",
       "      <td>2018-08-15</td>\n",
       "      <td>None</td>\n",
       "      <td>False</td>\n",
       "      <td>[Ti, Al]</td>\n",
       "      <td>None</td>\n",
       "      <td>None</td>\n",
       "      <td>[{'name': '10.1103_physrevb.68.024102', 'year'...</td>\n",
       "      <td>[{'key': '4a23cdcd-0370-4702-99b9-8a5ff4824149...</td>\n",
       "    </tr>\n",
       "    <tr>\n",
       "      <th>7</th>\n",
       "      <td>potential.2004--Mishin-Y--Ni-Al</td>\n",
       "      <td>13051c1b-48f7-47f5-bad7-fc627fe10376</td>\n",
       "      <td>2004--Mishin-Y--Ni-Al</td>\n",
       "      <td>2018-08-15</td>\n",
       "      <td>None</td>\n",
       "      <td>False</td>\n",
       "      <td>[Ni, Al]</td>\n",
       "      <td>None</td>\n",
       "      <td>None</td>\n",
       "      <td>[{'name': '10.1016_j.actamat.2003.11.026', 'ye...</td>\n",
       "      <td>[{'key': '239e4f9a-145d-4c93-a967-73fb3ba28fea...</td>\n",
       "    </tr>\n",
       "    <tr>\n",
       "      <th>8</th>\n",
       "      <td>potential.2005--Mishin-Y-Mehl-M-J-Papaconstant...</td>\n",
       "      <td>76452c02-4b98-4632-bce7-93fec036f745</td>\n",
       "      <td>2005--Mishin-Y-Mehl-M-J-Papaconstantopoulos-D-...</td>\n",
       "      <td>2018-08-15</td>\n",
       "      <td>None</td>\n",
       "      <td>False</td>\n",
       "      <td>[Fe, Ni]</td>\n",
       "      <td>None</td>\n",
       "      <td>None</td>\n",
       "      <td>[{'name': '10.1016_j.actamat.2005.05.001', 'ye...</td>\n",
       "      <td>[{'key': '4227d6c9-63ed-4c2e-9740-2215bdbd89b4...</td>\n",
       "    </tr>\n",
       "    <tr>\n",
       "      <th>9</th>\n",
       "      <td>potential.2006--Chamati-H-Papanicolaou-N-I-Mis...</td>\n",
       "      <td>3837b6da-05c4-4148-97cd-90b26a2092df</td>\n",
       "      <td>2006--Chamati-H-Papanicolaou-N-I-Mishin-Y-Papa...</td>\n",
       "      <td>2018-08-15</td>\n",
       "      <td>None</td>\n",
       "      <td>False</td>\n",
       "      <td>[Fe]</td>\n",
       "      <td>None</td>\n",
       "      <td>None</td>\n",
       "      <td>[{'name': '10.1016_j.susc.2006.02.010', 'year'...</td>\n",
       "      <td>[{'key': '9e16d628-87cc-49a0-8ce8-a23097f798e5...</td>\n",
       "    </tr>\n",
       "    <tr>\n",
       "      <th>10</th>\n",
       "      <td>potential.2006--Williams-P-L-Mishin-Y-Hamilton...</td>\n",
       "      <td>ce32faaf-5d57-4861-a2ec-efbfc63f07e6</td>\n",
       "      <td>2006--Williams-P-L-Mishin-Y-Hamilton-J-C--Ag</td>\n",
       "      <td>2018-08-15</td>\n",
       "      <td>None</td>\n",
       "      <td>False</td>\n",
       "      <td>[Ag]</td>\n",
       "      <td>None</td>\n",
       "      <td>None</td>\n",
       "      <td>[{'name': '10.1088_0965-0393_14_5_002', 'year'...</td>\n",
       "      <td>[{'key': 'a3ff670a-290c-4182-9a1b-fa37145c6ced...</td>\n",
       "    </tr>\n",
       "    <tr>\n",
       "      <th>11</th>\n",
       "      <td>potential.2006--Williams-P-L-Mishin-Y-Hamilton...</td>\n",
       "      <td>cfe3a54f-c3b2-4b61-8b03-165613bdd829</td>\n",
       "      <td>2006--Williams-P-L-Mishin-Y-Hamilton-J-C--Cu-Ag</td>\n",
       "      <td>2018-08-15</td>\n",
       "      <td>None</td>\n",
       "      <td>False</td>\n",
       "      <td>[Cu, Ag]</td>\n",
       "      <td>None</td>\n",
       "      <td>None</td>\n",
       "      <td>[{'name': '10.1088_0965-0393_14_5_002', 'year'...</td>\n",
       "      <td>[{'key': '6a5321bd-7c4c-4b7f-aebf-508bf3d789fc...</td>\n",
       "    </tr>\n",
       "    <tr>\n",
       "      <th>12</th>\n",
       "      <td>potential.2008--Hashibon-A-Lozovoi-A-Y-Mishin-...</td>\n",
       "      <td>40679d21-487e-4b95-b5c3-16e137083ab2</td>\n",
       "      <td>2008--Hashibon-A-Lozovoi-A-Y-Mishin-Y-et-al--C...</td>\n",
       "      <td>2018-08-15</td>\n",
       "      <td>Prof. Mishin requested the following be noted:...</td>\n",
       "      <td>False</td>\n",
       "      <td>[Cu, Ta]</td>\n",
       "      <td>None</td>\n",
       "      <td>None</td>\n",
       "      <td>[{'name': '10.1103_physrevb.77.094131', 'year'...</td>\n",
       "      <td>[{'key': '65454edc-a240-4691-83f6-8ebb078b674c...</td>\n",
       "    </tr>\n",
       "    <tr>\n",
       "      <th>13</th>\n",
       "      <td>potential.2009--Purja-Pun-G-P-Mishin-Y--Ni-Al</td>\n",
       "      <td>d71da5f1-db8a-46ad-a78d-c026768200af</td>\n",
       "      <td>2009--Purja-Pun-G-P-Mishin-Y--Ni-Al</td>\n",
       "      <td>2018-08-15</td>\n",
       "      <td>None</td>\n",
       "      <td>False</td>\n",
       "      <td>[Ni, Al]</td>\n",
       "      <td>None</td>\n",
       "      <td>None</td>\n",
       "      <td>[{'name': '10.1080_14786430903258184', 'year':...</td>\n",
       "      <td>[{'key': '1f4633df-b213-428c-bc46-9b83783af3e3...</td>\n",
       "    </tr>\n",
       "    <tr>\n",
       "      <th>14</th>\n",
       "      <td>potential.2010--Apostol-F-Mishin-Y--Al-H</td>\n",
       "      <td>82612d4c-ee29-4d1c-b5eb-64bbc9da5485</td>\n",
       "      <td>2010--Apostol-F-Mishin-Y--Al-H</td>\n",
       "      <td>2018-08-15</td>\n",
       "      <td>Prof. Mishin requested the following be noted:...</td>\n",
       "      <td>False</td>\n",
       "      <td>[Al, H]</td>\n",
       "      <td>None</td>\n",
       "      <td>None</td>\n",
       "      <td>[{'name': '10.1103_physrevb.82.144115', 'year'...</td>\n",
       "      <td>[{'key': '2da2948e-5f0f-4b79-a110-9aa7acc72080...</td>\n",
       "    </tr>\n",
       "    <tr>\n",
       "      <th>15</th>\n",
       "      <td>potential.2011--Apostol-F-Mishin-Y--Al-Cu</td>\n",
       "      <td>84180f41-771d-4098-8a97-89fa1510477b</td>\n",
       "      <td>2011--Apostol-F-Mishin-Y--Al-Cu</td>\n",
       "      <td>2018-10-12</td>\n",
       "      <td>Prof. Mishin requested the following be noted:...</td>\n",
       "      <td>False</td>\n",
       "      <td>[Al, Cu]</td>\n",
       "      <td>None</td>\n",
       "      <td>None</td>\n",
       "      <td>[{'name': '10.1103_physrevb.83.054116', 'year'...</td>\n",
       "      <td>[{'key': '1bff3fbb-3ae9-473d-9795-c84eeeb1d2dd...</td>\n",
       "    </tr>\n",
       "    <tr>\n",
       "      <th>16</th>\n",
       "      <td>potential.2012--Purja-Pun-G-P-Mishin-Y--Co</td>\n",
       "      <td>a51fd82a-2bb5-4d30-9663-5f730c6fab40</td>\n",
       "      <td>2012--Purja-Pun-G-P-Mishin-Y--Co</td>\n",
       "      <td>2018-08-15</td>\n",
       "      <td>None</td>\n",
       "      <td>False</td>\n",
       "      <td>[Co]</td>\n",
       "      <td>None</td>\n",
       "      <td>None</td>\n",
       "      <td>[{'name': '10.1103_physrevb.86.134116', 'year'...</td>\n",
       "      <td>[{'key': 'dc7b14cc-ed13-4332-94de-d91c0f839b98...</td>\n",
       "    </tr>\n",
       "    <tr>\n",
       "      <th>17</th>\n",
       "      <td>potential.2015--Purja-Pun-G-P-Darling-K-A-Kecs...</td>\n",
       "      <td>b2cdadf2-6f7a-4cfc-919b-b78904969e6b</td>\n",
       "      <td>2015--Purja-Pun-G-P-Darling-K-A-Kecskes-L-J-Mi...</td>\n",
       "      <td>2018-08-15</td>\n",
       "      <td>This potential is meant to supplant the Hahibo...</td>\n",
       "      <td>False</td>\n",
       "      <td>[Cu, Ta]</td>\n",
       "      <td>None</td>\n",
       "      <td>None</td>\n",
       "      <td>[{'name': '10.1016_j.actamat.2015.08.052', 'ye...</td>\n",
       "      <td>[{'key': '167e5dfd-c0c3-49d3-8b67-c37268f94d04...</td>\n",
       "    </tr>\n",
       "    <tr>\n",
       "      <th>18</th>\n",
       "      <td>potential.2015--Purja-Pun-G-P-Darling-K-A-Kecs...</td>\n",
       "      <td>bdec0325-b66a-456f-98f1-cb2db88fd247</td>\n",
       "      <td>2015--Purja-Pun-G-P-Darling-K-A-Kecskes-L-J-Mi...</td>\n",
       "      <td>2018-11-05</td>\n",
       "      <td>None</td>\n",
       "      <td>False</td>\n",
       "      <td>[Ta]</td>\n",
       "      <td>None</td>\n",
       "      <td>None</td>\n",
       "      <td>[{'name': '10.1016_j.actamat.2015.08.052', 'ye...</td>\n",
       "      <td>[{'key': 'd5d0fe1b-a2d4-43ca-99ea-039766dd32ad...</td>\n",
       "    </tr>\n",
       "    <tr>\n",
       "      <th>19</th>\n",
       "      <td>potential.2015--Purja-Pun-G-P-Yamakov-V-Mishin...</td>\n",
       "      <td>71b03297-b66d-4efd-9502-02cf83d9dc38</td>\n",
       "      <td>2015--Purja-Pun-G-P-Yamakov-V-Mishin-Y--Al-Co</td>\n",
       "      <td>2018-08-15</td>\n",
       "      <td>The reference information was updated on 26 Au...</td>\n",
       "      <td>False</td>\n",
       "      <td>[Al, Co]</td>\n",
       "      <td>None</td>\n",
       "      <td>None</td>\n",
       "      <td>[{'name': '10.1088_0965-0393_23_6_065006', 'ye...</td>\n",
       "      <td>[{'key': 'ef327c3b-3760-4cbd-b9a5-5a7f5c66bebe...</td>\n",
       "    </tr>\n",
       "    <tr>\n",
       "      <th>20</th>\n",
       "      <td>potential.2015--Purja-Pun-G-P-Yamakov-V-Mishin...</td>\n",
       "      <td>0f6e3cef-c588-4dcb-a0a6-66878f64ac50</td>\n",
       "      <td>2015--Purja-Pun-G-P-Yamakov-V-Mishin-Y--Ni-Al-Co</td>\n",
       "      <td>2018-08-15</td>\n",
       "      <td>The reference information was updated on 26 Au...</td>\n",
       "      <td>False</td>\n",
       "      <td>[Ni, Al, Co]</td>\n",
       "      <td>None</td>\n",
       "      <td>None</td>\n",
       "      <td>[{'name': '10.1088_0965-0393_23_6_065006', 'ye...</td>\n",
       "      <td>[{'key': 'ec7cf9ba-a69b-48b2-9142-d89debe5e3ee...</td>\n",
       "    </tr>\n",
       "    <tr>\n",
       "      <th>21</th>\n",
       "      <td>potential.2015--Purja-Pun-G-P-Yamakov-V-Mishin...</td>\n",
       "      <td>20fa46b5-6b6f-4e6e-9400-66edb643c679</td>\n",
       "      <td>2015--Purja-Pun-G-P-Yamakov-V-Mishin-Y--Ni-Co</td>\n",
       "      <td>2018-08-15</td>\n",
       "      <td>The reference information was updated on 26 Au...</td>\n",
       "      <td>False</td>\n",
       "      <td>[Ni, Co]</td>\n",
       "      <td>None</td>\n",
       "      <td>None</td>\n",
       "      <td>[{'name': '10.1088_0965-0393_23_6_065006', 'ye...</td>\n",
       "      <td>[{'key': 'beb35d7a-eb97-4c9d-b141-2b1b83879a29...</td>\n",
       "    </tr>\n",
       "    <tr>\n",
       "      <th>22</th>\n",
       "      <td>potential.2017--Purja-Pun-G-P-Mishin-Y--Si</td>\n",
       "      <td>698e838d-de9d-4912-bc4f-d78e8e0c66b5</td>\n",
       "      <td>2017--Purja-Pun-G-P-Mishin-Y--Si</td>\n",
       "      <td>2018-11-05</td>\n",
       "      <td>None</td>\n",
       "      <td>False</td>\n",
       "      <td>[Si]</td>\n",
       "      <td>None</td>\n",
       "      <td>None</td>\n",
       "      <td>[{'name': '10.1103_physrevb.95.224103', 'year'...</td>\n",
       "      <td>[{'key': '14ea91be-a501-4e1e-ac31-83849075aa47...</td>\n",
       "    </tr>\n",
       "    <tr>\n",
       "      <th>23</th>\n",
       "      <td>potential.2018--Howells-C-A-Mishin-Y--Cr</td>\n",
       "      <td>c6620af7-cfe4-4086-b9cf-8198d56e1d30</td>\n",
       "      <td>2018--Howells-C-A-Mishin-Y--Cr</td>\n",
       "      <td>2018-11-05</td>\n",
       "      <td>None</td>\n",
       "      <td>False</td>\n",
       "      <td>[Cr]</td>\n",
       "      <td>None</td>\n",
       "      <td>None</td>\n",
       "      <td>[{'name': '10.1088_1361-651x_aae400', 'year': ...</td>\n",
       "      <td>[{'key': '16c5d68c-bf58-41e2-bd1e-22ab7c7436e1...</td>\n",
       "    </tr>\n",
       "    <tr>\n",
       "      <th>24</th>\n",
       "      <td>potential.2018--Howells-C-A-Mishin-Y--Cr-Ni</td>\n",
       "      <td>ee6e7c54-fd7d-4459-96ca-5898e93053c6</td>\n",
       "      <td>2018--Howells-C-A-Mishin-Y--Cr-Ni</td>\n",
       "      <td>2018-11-05</td>\n",
       "      <td>None</td>\n",
       "      <td>False</td>\n",
       "      <td>[Cr, Ni]</td>\n",
       "      <td>None</td>\n",
       "      <td>None</td>\n",
       "      <td>[{'name': '10.1088_1361-651x_aae400', 'year': ...</td>\n",
       "      <td>[{'key': '0da50c21-0b24-4ed0-be9b-eb9f508217b1...</td>\n",
       "    </tr>\n",
       "  </tbody>\n",
       "</table>\n",
       "</div>"
      ],
      "text/plain": [
       "                                                 name  \\\n",
       "0   potential.1999--Mishin-Y-Farkas-D-Mehl-M-J-Pap...   \n",
       "1   potential.1999--Mishin-Y-Farkas-D-Mehl-M-J-Pap...   \n",
       "2   potential.2001--Mishin-Y-Mehl-M-J-Papaconstant...   \n",
       "3   potential.2001--Mishin-Y-Mehl-M-J-Papaconstant...   \n",
       "4   potential.2002--Mishin-Y-Mehl-M-J-Papaconstant...   \n",
       "5               potential.2003--Zope-R-R-Mishin-Y--Al   \n",
       "6            potential.2003--Zope-R-R-Mishin-Y--Ti-Al   \n",
       "7                     potential.2004--Mishin-Y--Ni-Al   \n",
       "8   potential.2005--Mishin-Y-Mehl-M-J-Papaconstant...   \n",
       "9   potential.2006--Chamati-H-Papanicolaou-N-I-Mis...   \n",
       "10  potential.2006--Williams-P-L-Mishin-Y-Hamilton...   \n",
       "11  potential.2006--Williams-P-L-Mishin-Y-Hamilton...   \n",
       "12  potential.2008--Hashibon-A-Lozovoi-A-Y-Mishin-...   \n",
       "13      potential.2009--Purja-Pun-G-P-Mishin-Y--Ni-Al   \n",
       "14           potential.2010--Apostol-F-Mishin-Y--Al-H   \n",
       "15          potential.2011--Apostol-F-Mishin-Y--Al-Cu   \n",
       "16         potential.2012--Purja-Pun-G-P-Mishin-Y--Co   \n",
       "17  potential.2015--Purja-Pun-G-P-Darling-K-A-Kecs...   \n",
       "18  potential.2015--Purja-Pun-G-P-Darling-K-A-Kecs...   \n",
       "19  potential.2015--Purja-Pun-G-P-Yamakov-V-Mishin...   \n",
       "20  potential.2015--Purja-Pun-G-P-Yamakov-V-Mishin...   \n",
       "21  potential.2015--Purja-Pun-G-P-Yamakov-V-Mishin...   \n",
       "22         potential.2017--Purja-Pun-G-P-Mishin-Y--Si   \n",
       "23           potential.2018--Howells-C-A-Mishin-Y--Cr   \n",
       "24        potential.2018--Howells-C-A-Mishin-Y--Cr-Ni   \n",
       "\n",
       "                                     key  \\\n",
       "0   0c2ddffb-e644-4e5c-8e53-9bf722bb5dee   \n",
       "1   81adb388-59eb-4f49-88bf-6f06a1343fae   \n",
       "2   a7910725-e80c-4a53-83e8-adfb5724dc9f   \n",
       "3   5a94a06a-22c7-41e0-8593-ee42d4728018   \n",
       "4   cba1f03d-4e0b-4f08-8b52-0aff0a4224b3   \n",
       "5   36dbb1ec-c7f0-46a4-a501-1c518f777d5c   \n",
       "6   274cbc15-b7c1-4701-a3e8-07b0b046ad7b   \n",
       "7   13051c1b-48f7-47f5-bad7-fc627fe10376   \n",
       "8   76452c02-4b98-4632-bce7-93fec036f745   \n",
       "9   3837b6da-05c4-4148-97cd-90b26a2092df   \n",
       "10  ce32faaf-5d57-4861-a2ec-efbfc63f07e6   \n",
       "11  cfe3a54f-c3b2-4b61-8b03-165613bdd829   \n",
       "12  40679d21-487e-4b95-b5c3-16e137083ab2   \n",
       "13  d71da5f1-db8a-46ad-a78d-c026768200af   \n",
       "14  82612d4c-ee29-4d1c-b5eb-64bbc9da5485   \n",
       "15  84180f41-771d-4098-8a97-89fa1510477b   \n",
       "16  a51fd82a-2bb5-4d30-9663-5f730c6fab40   \n",
       "17  b2cdadf2-6f7a-4cfc-919b-b78904969e6b   \n",
       "18  bdec0325-b66a-456f-98f1-cb2db88fd247   \n",
       "19  71b03297-b66d-4efd-9502-02cf83d9dc38   \n",
       "20  0f6e3cef-c588-4dcb-a0a6-66878f64ac50   \n",
       "21  20fa46b5-6b6f-4e6e-9400-66edb643c679   \n",
       "22  698e838d-de9d-4912-bc4f-d78e8e0c66b5   \n",
       "23  c6620af7-cfe4-4086-b9cf-8198d56e1d30   \n",
       "24  ee6e7c54-fd7d-4459-96ca-5898e93053c6   \n",
       "\n",
       "                                                   id  recorddate  \\\n",
       "0   1999--Mishin-Y-Farkas-D-Mehl-M-J-Papaconstanto...  2018-08-15   \n",
       "1   1999--Mishin-Y-Farkas-D-Mehl-M-J-Papaconstanto...  2018-08-15   \n",
       "2   2001--Mishin-Y-Mehl-M-J-Papaconstantopoulos-D-...  2018-08-15   \n",
       "3   2001--Mishin-Y-Mehl-M-J-Papaconstantopoulos-D-...  2018-08-15   \n",
       "4   2002--Mishin-Y-Mehl-M-J-Papaconstantopoulos-D-...  2018-08-15   \n",
       "5                         2003--Zope-R-R-Mishin-Y--Al  2018-08-15   \n",
       "6                      2003--Zope-R-R-Mishin-Y--Ti-Al  2018-08-15   \n",
       "7                               2004--Mishin-Y--Ni-Al  2018-08-15   \n",
       "8   2005--Mishin-Y-Mehl-M-J-Papaconstantopoulos-D-...  2018-08-15   \n",
       "9   2006--Chamati-H-Papanicolaou-N-I-Mishin-Y-Papa...  2018-08-15   \n",
       "10       2006--Williams-P-L-Mishin-Y-Hamilton-J-C--Ag  2018-08-15   \n",
       "11    2006--Williams-P-L-Mishin-Y-Hamilton-J-C--Cu-Ag  2018-08-15   \n",
       "12  2008--Hashibon-A-Lozovoi-A-Y-Mishin-Y-et-al--C...  2018-08-15   \n",
       "13                2009--Purja-Pun-G-P-Mishin-Y--Ni-Al  2018-08-15   \n",
       "14                     2010--Apostol-F-Mishin-Y--Al-H  2018-08-15   \n",
       "15                    2011--Apostol-F-Mishin-Y--Al-Cu  2018-10-12   \n",
       "16                   2012--Purja-Pun-G-P-Mishin-Y--Co  2018-08-15   \n",
       "17  2015--Purja-Pun-G-P-Darling-K-A-Kecskes-L-J-Mi...  2018-08-15   \n",
       "18  2015--Purja-Pun-G-P-Darling-K-A-Kecskes-L-J-Mi...  2018-11-05   \n",
       "19      2015--Purja-Pun-G-P-Yamakov-V-Mishin-Y--Al-Co  2018-08-15   \n",
       "20   2015--Purja-Pun-G-P-Yamakov-V-Mishin-Y--Ni-Al-Co  2018-08-15   \n",
       "21      2015--Purja-Pun-G-P-Yamakov-V-Mishin-Y--Ni-Co  2018-08-15   \n",
       "22                   2017--Purja-Pun-G-P-Mishin-Y--Si  2018-11-05   \n",
       "23                     2018--Howells-C-A-Mishin-Y--Cr  2018-11-05   \n",
       "24                  2018--Howells-C-A-Mishin-Y--Cr-Ni  2018-11-05   \n",
       "\n",
       "                                                notes fictional      elements  \\\n",
       "0                                                None     False          [Al]   \n",
       "1                                                None     False          [Ni]   \n",
       "2   This listing is for the reference's EAM1 poten...     False          [Cu]   \n",
       "3   This listing is for the reference's EAM2 poten...     False          [Cu]   \n",
       "4   As described in the reference, this potential ...     False      [Ni, Al]   \n",
       "5                                                None     False          [Al]   \n",
       "6                                                None     False      [Ti, Al]   \n",
       "7                                                None     False      [Ni, Al]   \n",
       "8                                                None     False      [Fe, Ni]   \n",
       "9                                                None     False          [Fe]   \n",
       "10                                               None     False          [Ag]   \n",
       "11                                               None     False      [Cu, Ag]   \n",
       "12  Prof. Mishin requested the following be noted:...     False      [Cu, Ta]   \n",
       "13                                               None     False      [Ni, Al]   \n",
       "14  Prof. Mishin requested the following be noted:...     False       [Al, H]   \n",
       "15  Prof. Mishin requested the following be noted:...     False      [Al, Cu]   \n",
       "16                                               None     False          [Co]   \n",
       "17  This potential is meant to supplant the Hahibo...     False      [Cu, Ta]   \n",
       "18                                               None     False          [Ta]   \n",
       "19  The reference information was updated on 26 Au...     False      [Al, Co]   \n",
       "20  The reference information was updated on 26 Au...     False  [Ni, Al, Co]   \n",
       "21  The reference information was updated on 26 Au...     False      [Ni, Co]   \n",
       "22                                               None     False          [Si]   \n",
       "23                                               None     False          [Cr]   \n",
       "24                                               None     False      [Cr, Ni]   \n",
       "\n",
       "   othername modelname                                          citations  \\\n",
       "0       None      None  [{'name': '10.1103_physrevb.59.3393', 'year': ...   \n",
       "1       None      None  [{'name': '10.1103_physrevb.59.3393', 'year': ...   \n",
       "2       None         1  [{'name': '10.1103_physrevb.63.224106', 'year'...   \n",
       "3       None         2  [{'name': '10.1103_physrevb.63.224106', 'year'...   \n",
       "4       None      None  [{'name': '10.1103_physrevb.65.224114', 'year'...   \n",
       "5       None      None  [{'name': '10.1103_physrevb.68.024102', 'year'...   \n",
       "6       None      None  [{'name': '10.1103_physrevb.68.024102', 'year'...   \n",
       "7       None      None  [{'name': '10.1016_j.actamat.2003.11.026', 'ye...   \n",
       "8       None      None  [{'name': '10.1016_j.actamat.2005.05.001', 'ye...   \n",
       "9       None      None  [{'name': '10.1016_j.susc.2006.02.010', 'year'...   \n",
       "10      None      None  [{'name': '10.1088_0965-0393_14_5_002', 'year'...   \n",
       "11      None      None  [{'name': '10.1088_0965-0393_14_5_002', 'year'...   \n",
       "12      None      None  [{'name': '10.1103_physrevb.77.094131', 'year'...   \n",
       "13      None      None  [{'name': '10.1080_14786430903258184', 'year':...   \n",
       "14      None      None  [{'name': '10.1103_physrevb.82.144115', 'year'...   \n",
       "15      None      None  [{'name': '10.1103_physrevb.83.054116', 'year'...   \n",
       "16      None      None  [{'name': '10.1103_physrevb.86.134116', 'year'...   \n",
       "17      None      None  [{'name': '10.1016_j.actamat.2015.08.052', 'ye...   \n",
       "18      None      None  [{'name': '10.1016_j.actamat.2015.08.052', 'ye...   \n",
       "19      None      None  [{'name': '10.1088_0965-0393_23_6_065006', 'ye...   \n",
       "20      None      None  [{'name': '10.1088_0965-0393_23_6_065006', 'ye...   \n",
       "21      None      None  [{'name': '10.1088_0965-0393_23_6_065006', 'ye...   \n",
       "22      None      None  [{'name': '10.1103_physrevb.95.224103', 'year'...   \n",
       "23      None      None  [{'name': '10.1088_1361-651x_aae400', 'year': ...   \n",
       "24      None      None  [{'name': '10.1088_1361-651x_aae400', 'year': ...   \n",
       "\n",
       "                                      implementations  \n",
       "0   [{'key': 'e107e2ce-beec-494e-b065-ff26f22eac15...  \n",
       "1   [{'key': '0b71eeb7-5e30-4206-bd59-6a259c57e3e4...  \n",
       "2   [{'key': 'a063df15-8cb7-4773-8e50-79e6a889c27c...  \n",
       "3   [{'key': 'd6c12a91-1b3d-4cd5-8d90-ee0b2fcbf74b...  \n",
       "4   [{'key': '1bda5691-8a4f-4597-ac00-a471898d27a6...  \n",
       "5   [{'key': 'a6237bcc-a4be-497d-97ed-636f3999c541...  \n",
       "6   [{'key': '4a23cdcd-0370-4702-99b9-8a5ff4824149...  \n",
       "7   [{'key': '239e4f9a-145d-4c93-a967-73fb3ba28fea...  \n",
       "8   [{'key': '4227d6c9-63ed-4c2e-9740-2215bdbd89b4...  \n",
       "9   [{'key': '9e16d628-87cc-49a0-8ce8-a23097f798e5...  \n",
       "10  [{'key': 'a3ff670a-290c-4182-9a1b-fa37145c6ced...  \n",
       "11  [{'key': '6a5321bd-7c4c-4b7f-aebf-508bf3d789fc...  \n",
       "12  [{'key': '65454edc-a240-4691-83f6-8ebb078b674c...  \n",
       "13  [{'key': '1f4633df-b213-428c-bc46-9b83783af3e3...  \n",
       "14  [{'key': '2da2948e-5f0f-4b79-a110-9aa7acc72080...  \n",
       "15  [{'key': '1bff3fbb-3ae9-473d-9795-c84eeeb1d2dd...  \n",
       "16  [{'key': 'dc7b14cc-ed13-4332-94de-d91c0f839b98...  \n",
       "17  [{'key': '167e5dfd-c0c3-49d3-8b67-c37268f94d04...  \n",
       "18  [{'key': 'd5d0fe1b-a2d4-43ca-99ea-039766dd32ad...  \n",
       "19  [{'key': 'ef327c3b-3760-4cbd-b9a5-5a7f5c66bebe...  \n",
       "20  [{'key': 'ec7cf9ba-a69b-48b2-9142-d89debe5e3ee...  \n",
       "21  [{'key': 'beb35d7a-eb97-4c9d-b141-2b1b83879a29...  \n",
       "22  [{'key': '14ea91be-a501-4e1e-ac31-83849075aa47...  \n",
       "23  [{'key': '16c5d68c-bf58-41e2-bd1e-22ab7c7436e1...  \n",
       "24  [{'key': '0da50c21-0b24-4ed0-be9b-eb9f508217b1...  "
      ]
     },
     "execution_count": 4,
     "metadata": {},
     "output_type": "execute_result"
    }
   ],
   "source": [
    "entries_df"
   ]
  },
  {
   "cell_type": "markdown",
   "metadata": {},
   "source": [
    "## 3. Potential class\n",
    "\n",
    "The Potential class provides the full representation of a listing for a potential entry."
   ]
  },
  {
   "cell_type": "code",
   "execution_count": 5,
   "metadata": {},
   "outputs": [],
   "source": [
    "entry = entries[0]"
   ]
  },
  {
   "cell_type": "markdown",
   "metadata": {},
   "source": [
    "### 3.1. Render listing\n",
    "\n",
    "__html()__ will generate HTML for the potential entry as it appears on the NIST Interatomic Potentials Repository.  If render=True, then the content is automatically rendered in Jupyter Notebooks. Otherwise, the HTML code is returned as a string."
   ]
  },
  {
   "cell_type": "code",
   "execution_count": 6,
   "metadata": {},
   "outputs": [
    {
     "data": {
      "text/html": [
       "<div xmlns=\"http://www.w3.org/TR/xhtml1/strict\"><div class=\"citation\"><b>Citation: </b>Y. Mishin, D. Farkas, M.J. Mehl, and D.A. Papaconstantopoulos (1999), \"Interatomic potentials for monoatomic metals from experimental data and ab initio calculations\", <i>Physical Review B</i>, <b>59(5)</b>, 3393-3407. DOI: <a href=\"https://doi.org/10.1103/physrevb.59.3393\" class=\"external\">10.1103/physrevb.59.3393</a>.<br/></div><div class=\"abstract\"><b>Abstract: </b>We demonstrate an approach to the development of many-body interatomic potentials for monoatomic metals with improved accuracy and reliability. The functional form of the potentials is that of the embedded-atom method, but the interesting features are as follows: (1) The database used for the development of a potential includes both experimental data and a large set of energies of different alternative crystalline structures of the material generated by ab initio calculations. We introduce a rescaling of interatomic distances in an attempt to improve the compatibility between experimental and ab initio data. (2) The optimum parametrization of the potential for the given database is obtained by alternating the fitting and testing steps. The testing step includes a comparison between the ab initio structural energies and those predicted by the potential. This strategy allows us to achieve the best accuracy of fitting within the intrinsic limitations of the potential model. Using this approach we develop reliable interatomic potentials for Al and Ni. The potentials accurately reproduce basic equilibrium properties of these metals, the elastic constants, the phonon-dispersion curves, the vacancy formation and migration energies, the stacking fault energies, and the surface energies. They also predict the right relative stability of different alternative structures with coordination numbers ranging from 12 to 4. The potentials are expected to be easily transferable to different local environments encountered in atomistic simulations of lattice defects.</div><br/><div class=\"format\"><b>EAM tabulated functions</b><a href=\"https://www.ctcms.nist.gov/potentials/entry/1999--Mishin-Y-Farkas-D-Mehl-M-J-Papaconstantopoulos-D-A--Al/1999--Mishin-Y--Al--table--ipr1.html\"> (1999--Mishin-Y--Al--table--ipr1)</a></div><div class=\"implementation-notes\"><a href=\"https://www.ctcms.nist.gov/potentials/entry/1999--Mishin-Y-Farkas-D-Mehl-M-J-Papaconstantopoulos-D-A--Al/1999--Mishin-Y--Al--table--ipr1.html\"><b>See Computed Properties</b></a><br/><b>Notes: </b>These files were provided by Yuri Mishin.<br/><b>File(s): </b><div id=\"e107e2ce-beec-494e-b065-ff26f22eac15\" style=\"display:block\">F(&rho;): <a href=\"https://www.ctcms.nist.gov/potentials/Download/1999--Mishin-Y-Farkas-D-Mehl-M-J-Papaconstantopoulos-D-A--Al/1/F_al.plt\">F_al.plt</a><br/>&rho;(r): <a href=\"https://www.ctcms.nist.gov/potentials/Download/1999--Mishin-Y-Farkas-D-Mehl-M-J-Papaconstantopoulos-D-A--Al/1/fal.plt\">fal.plt</a><br/>&phi;(r): <a href=\"https://www.ctcms.nist.gov/potentials/Download/1999--Mishin-Y-Farkas-D-Mehl-M-J-Papaconstantopoulos-D-A--Al/1/pal_m.plt\">pal_m.plt</a><br/></div><br/></div><div class=\"format\"><b>LAMMPS pair_style eam/alloy</b><a href=\"https://www.ctcms.nist.gov/potentials/entry/1999--Mishin-Y-Farkas-D-Mehl-M-J-Papaconstantopoulos-D-A--Al/1999--Mishin-Y--Al--LAMMPS--ipr1.html\"> (1999--Mishin-Y--Al--LAMMPS--ipr1)</a></div><div class=\"implementation-notes\"><a href=\"https://www.ctcms.nist.gov/potentials/entry/1999--Mishin-Y-Farkas-D-Mehl-M-J-Papaconstantopoulos-D-A--Al/1999--Mishin-Y--Al--LAMMPS--ipr1.html\"><b>See Computed Properties</b></a><br/><b>Notes: </b>This conversion was produced by Chandler Becker on 30 December 2008 from the plt files listed above. This version is compatible with LAMMPS. Validation and usage information can be found in Al99_releaseNotes_1.pdf. If you use this setfl file, please credit the website in addition to the original reference.<br/><b>File(s): </b><div id=\"b40b32b7-a4a2-4417-a85d-293e4c137aa8\" style=\"display:block\"><a href=\"https://www.ctcms.nist.gov/potentials/Download/1999--Mishin-Y-Farkas-D-Mehl-M-J-Papaconstantopoulos-D-A--Al/2/Al99.eam.alloy\">Al99.eam.alloy</a><br/><a href=\"https://www.ctcms.nist.gov/potentials/Download/1999--Mishin-Y-Farkas-D-Mehl-M-J-Papaconstantopoulos-D-A--Al/2/Al99_releaseNotes_1.pdf\">Al99_releaseNotes_1.pdf</a><br/></div><br/></div><div class=\"format\"><b>OpenKIM</b><a href=\"https://www.ctcms.nist.gov/potentials/entry/1999--Mishin-Y-Farkas-D-Mehl-M-J-Papaconstantopoulos-D-A--Al/MO_651801486679.html\"> (MO_651801486679)</a></div><div class=\"implementation-notes\"><a href=\"https://www.ctcms.nist.gov/potentials/entry/1999--Mishin-Y-Farkas-D-Mehl-M-J-Papaconstantopoulos-D-A--Al/MO_651801486679.html\"><b>See Computed Properties</b></a><br/><b>Notes: </b>Listing found at https://openkim.org.  This KIM potential is based on the files from 1999--Mishin-Y--Al--LAMMPS--ipr1.<br/><b>Link(s): </b><div id=\"53cf3661-471d-43df-b1ae-e6cc9b987bdd\" style=\"display:block\">KIM page <a href=\"https://openkim.org/id/EAM_Dynamo_MishinFarkasMehl_1999_Al__MO_651801486679_005\">EAM_Dynamo_MishinFarkasMehl_1999_Al__MO_651801486679_005</a><br/></div><br/></div></div>"
      ],
      "text/plain": [
       "<IPython.core.display.HTML object>"
      ]
     },
     "metadata": {},
     "output_type": "display_data"
    }
   ],
   "source": [
    "entry.html(render=True)"
   ]
  },
  {
   "cell_type": "markdown",
   "metadata": {},
   "source": [
    "### 3.2. Simple attributes of Potential\n",
    "\n",
    "- __id__ is the human-readable ID for the potential entry.  This is automatically derived from other attributes, and therefore cannot be directly set. \n",
    "- __key__ is the unique UUID4 key assigned to the potential entry.  \n",
    "- __impid_prefix__ is the suggested prefix for the human-readable IDs assigned to the entry's implementations. This is automatically derived from other attributes, and therefore cannot be directly set. \n",
    "- __recorddate__ is the date associated with the entry.\n",
    "- __elements__ is the list of elements that the potential entry is designed to represent.\n",
    "- __fictional__ is a boolean flag indicating if the potential entry is classified as a \"fictional\" potential.  While all potentials are technically fictional models, this label is used to describe models that purposefully target incorrect property values for a given element.\n",
    "- __othername__ provides a description of what the potential entry is designed to model alternative to the list of elements.  This is used either when the entry is designed specifically for a compound rather than an elemental range, or for models where the particles do not directly correspond to single elements.\n",
    "- __modelname__ is used to differentiate potential entries that otherwise would have the same id, i.e. entries that share the same year, author, and elements.  These typically come about either due to multiple parameterizations being listed in the same publication or the same author(s) publish an updated parameterization in the same year.  The modelname value should reflect how the original authors named the potentials to differentiate them.\n",
    "- __notes__ allows for comments about the potential entry to be given.  If included, this should be information associated with the use cases for the entry and should be true across all implementations."
   ]
  },
  {
   "cell_type": "code",
   "execution_count": 7,
   "metadata": {},
   "outputs": [
    {
     "name": "stdout",
     "output_type": "stream",
     "text": [
      "id           1999--Mishin-Y-Farkas-D-Mehl-M-J-Papaconstantopoulos-D-A--Al\n",
      "key          0c2ddffb-e644-4e5c-8e53-9bf722bb5dee\n",
      "impid_prefix 1999--Mishin-Y--Al\n",
      "recorddate   2018-08-15\n",
      "elements     ['Al']\n",
      "fictional    False\n",
      "othername    None\n",
      "modelname    None\n",
      "notes        None\n"
     ]
    }
   ],
   "source": [
    "print('id          ', entry.id)\n",
    "print('key         ', entry.key)\n",
    "print('impid_prefix', entry.impid_prefix)\n",
    "print('recorddate  ', entry.recorddate)\n",
    "print('elements    ', entry.elements)\n",
    "print('fictional   ', entry.fictional)\n",
    "print('othername   ', entry.othername)\n",
    "print('modelname   ', entry.modelname)\n",
    "print('notes       ', entry.notes)"
   ]
  },
  {
   "cell_type": "markdown",
   "metadata": {},
   "source": [
    "### 3.3. Component classes of Potential\n",
    "\n",
    "- __citations__ is a list of Citation objects assigned to the potential entry.  [See the 3.1. Citations Notebook]() for more information on the Citation class.\n",
    "- __implementations__ is a list of Implementation objects assigned to the potential entry.  See section 4. for more information on the Implementation class."
   ]
  },
  {
   "cell_type": "code",
   "execution_count": 8,
   "metadata": {},
   "outputs": [
    {
     "data": {
      "text/plain": [
       "[<potentials.record.Citation.Citation at 0x1bf460ae550>]"
      ]
     },
     "execution_count": 8,
     "metadata": {},
     "output_type": "execute_result"
    }
   ],
   "source": [
    "entry.citations"
   ]
  },
  {
   "cell_type": "code",
   "execution_count": 9,
   "metadata": {},
   "outputs": [
    {
     "data": {
      "text/plain": [
       "[<potentials.record.Implementation.Implementation at 0x1bf4610bbe0>,\n",
       " <potentials.record.Implementation.Implementation at 0x1bf4610ba58>,\n",
       " <potentials.record.Implementation.Implementation at 0x1bf4610b160>]"
      ]
     },
     "execution_count": 9,
     "metadata": {},
     "output_type": "execute_result"
    }
   ],
   "source": [
    "entry.implementations"
   ]
  },
  {
   "cell_type": "markdown",
   "metadata": {},
   "source": [
    "New citations and implementations can be added to the potential entry either by appending the lists above with an object of the correct type, or by using the __add_citation()__ and __add_implementation()__ methods of Potential.  The add methods take the parameters associated with initializing a new object, and then create said object and append it to the appropriate list."
   ]
  },
  {
   "cell_type": "markdown",
   "metadata": {},
   "source": [
    "### 3.4. Data model interactions\n",
    "\n",
    "- __load_model()__ reads in content in the data model format for the record style.\n",
    "- __build_model()__ generates a data model based on the record's attributes\n",
    "- __metadata()__ generates a dictionary of simple metadata fields associated with the record.  The fields in the metadata dictionary correspond to the fields in the DataFrame representation of the records when retrieved using the get methods. \n",
    "- __xsd_filename__ is a tuple of package path and file name associated with the XML schema that the data model adheres to.\n",
    "- __xsd()__ returns the contents of the XML schema that xsd_filename points to.\n",
    "- __valid_xml()__ tests data model contents against the XML schema to determine if it is valid.  If no data model contents are specified, then build_model is used."
   ]
  },
  {
   "cell_type": "code",
   "execution_count": 10,
   "metadata": {},
   "outputs": [
    {
     "name": "stdout",
     "output_type": "stream",
     "text": [
      "{\n",
      "    \"interatomic-potential\": {\n",
      "        \"key\": \"0c2ddffb-e644-4e5c-8e53-9bf722bb5dee\",\n",
      "        \"id\": \"1999--Mishin-Y-Farkas-D-Mehl-M-J-Papaconstantopoulos-D-A--Al\",\n",
      "        \"record-version\": \"2018-08-15\",\n",
      "        \"description\": {\n",
      "            \"citation\": {\n",
      "                \"document-type\": \"journal\",\n",
      "                \"title\": \"Interatomic potentials for monoatomic metals from experimental data and a ...\n"
     ]
    }
   ],
   "source": [
    "# print the first 400 characters of the JSON representation of the record's data model\n",
    "print(entry.build_model().json(indent=4)[:400], '...')"
   ]
  },
  {
   "cell_type": "code",
   "execution_count": 11,
   "metadata": {},
   "outputs": [
    {
     "data": {
      "text/plain": [
       "dict_keys(['name', 'key', 'id', 'recorddate', 'notes', 'fictional', 'elements', 'othername', 'modelname', 'citations', 'implementations'])"
      ]
     },
     "execution_count": 11,
     "metadata": {},
     "output_type": "execute_result"
    }
   ],
   "source": [
    "entry.metadata().keys()"
   ]
  },
  {
   "cell_type": "code",
   "execution_count": 12,
   "metadata": {},
   "outputs": [
    {
     "data": {
      "text/plain": [
       "True"
      ]
     },
     "execution_count": 12,
     "metadata": {},
     "output_type": "execute_result"
    }
   ],
   "source": [
    "entry.valid_xml()"
   ]
  },
  {
   "cell_type": "markdown",
   "metadata": {},
   "source": [
    "## 4. Implementation, Artifact, Parameter and Link classes\n",
    "\n",
    "The Implementation, Artifact, Parameter and Link classes provide representations/interpretations for components of the potential entry.  Despite the fact that they are not associated with full records stored in the database, they are all subclasses of the Record class giving them many of the same common methods as the Potential class:\n",
    "\n",
    "- __html()__ generates HTML content, either rendered or as HTML code based on if the render parameter of the method is True or False.  \n",
    "- __load_model()__ reads in content in the data model format for the record style.\n",
    "- __build_model()__ generates a data model based on the record's attributes\n",
    "- __metadata()__ generates a dictionary of simple metadata fields associated with the record.  The fields in the metadata dictionary correspond to the fields in the DataFrame representation of the records when retrieved using the get methods. \n",
    "- __xsd_filename__ is a tuple of package path and file name associated with the XML schema that the data model adheres to.\n",
    "- __xsd()__ returns the contents of the XML schema that xsd_filename points to.\n",
    "- __valid_xml()__ tests data model contents against the XML schema to determine if it is valid.  If no data model contents are specified, then build_model is used.\n",
    "\n",
    "### 4.1. Implementation class\n",
    "\n",
    "The Implementation class allows for implementation data to be controlled separately from the overall potential entry data.\n",
    "\n",
    "#### 4.1.1 Simple attributes of Implementation\n",
    "\n",
    "- __id__ is the human-readable ID for the implementation. \n",
    "- __key__ is the unique UUID4 key assigned to the implementation.  \n",
    "- __type__ describes the format that the implementation exists as.  For code-specific implementations, this should give both the name of the code and the file/style format. \n",
    "- __status__ indicates the implementation's status: \"active\", \"superseded\" or \"retracted\".  Superseded indicates that a newer active version exists that fixes small issues.  Retracted indicates that the implementation was revealed to be an incorrect implementation of the potential entry.\n",
    "- __date__ is the date associated with the implementation information being created/updated.\n",
    "- __notes__ allows for comments about the implementation to be given.  If included, this should be information associated with the specific implementation, e.g. information about the provenance of parameter files."
   ]
  },
  {
   "cell_type": "code",
   "execution_count": 13,
   "metadata": {},
   "outputs": [],
   "source": [
    "imp = entry.implementations[0]"
   ]
  },
  {
   "cell_type": "code",
   "execution_count": 14,
   "metadata": {},
   "outputs": [
    {
     "name": "stdout",
     "output_type": "stream",
     "text": [
      "id     1999--Mishin-Y--Al--table--ipr1\n",
      "key    e107e2ce-beec-494e-b065-ff26f22eac15\n",
      "type   EAM tabulated functions\n",
      "status active\n",
      "date   2008-01-01\n",
      "notes  These files were provided by Yuri Mishin.\n"
     ]
    }
   ],
   "source": [
    "print('id    ', imp.id)\n",
    "print('key   ', imp.key)\n",
    "print('type  ', imp.type)\n",
    "print('status', imp.status)\n",
    "print('date  ', imp.date)\n",
    "print('notes ', imp.notes)"
   ]
  },
  {
   "cell_type": "markdown",
   "metadata": {},
   "source": [
    "#### 4.1.2. Component classes of Potential\n",
    "\n",
    "- __artifacts__ is a list of Artifact objects assigned to the implementation.  \n",
    "- __parameters__ is a list of Parameter objects assigned to the implementation.\n",
    "- __links__ is a list of Link objects assigned to the implementation."
   ]
  },
  {
   "cell_type": "code",
   "execution_count": 15,
   "metadata": {},
   "outputs": [
    {
     "data": {
      "text/plain": [
       "[<potentials.record.Artifact.Artifact at 0x1bf4610be48>,\n",
       " <potentials.record.Artifact.Artifact at 0x1bf4610b7b8>,\n",
       " <potentials.record.Artifact.Artifact at 0x1bf4610b828>]"
      ]
     },
     "execution_count": 15,
     "metadata": {},
     "output_type": "execute_result"
    }
   ],
   "source": [
    "imp.artifacts"
   ]
  },
  {
   "cell_type": "code",
   "execution_count": 16,
   "metadata": {},
   "outputs": [
    {
     "data": {
      "text/plain": [
       "[]"
      ]
     },
     "execution_count": 16,
     "metadata": {},
     "output_type": "execute_result"
    }
   ],
   "source": [
    "imp.parameters"
   ]
  },
  {
   "cell_type": "code",
   "execution_count": 17,
   "metadata": {},
   "outputs": [
    {
     "data": {
      "text/plain": [
       "[]"
      ]
     },
     "execution_count": 17,
     "metadata": {},
     "output_type": "execute_result"
    }
   ],
   "source": [
    "imp.links"
   ]
  },
  {
   "cell_type": "markdown",
   "metadata": {},
   "source": [
    "New content can be added to the implementation either by directly appending objects of the correct type to these lists, or by using the __add_artifact()__, __add_parameter()__, and __add_link()__ methods of Implementation.  The add methods take the parameters associated with initializing a new object, and then create said object and append it to the appropriate list."
   ]
  },
  {
   "cell_type": "markdown",
   "metadata": {},
   "source": [
    "### 4.2. Artifact, Parameter and Link classes\n",
    "\n",
    "An Artifact object is meant to describe a file downloadable from a URL.  The class has three attributes that can either be set during initialization, or directly retrieved/set to the object:\n",
    "\n",
    "- __filename__ (*str, optional*) The name of the file without path information.\n",
    "- __label__ (*str, optional*) A short description label.\n",
    "- __url__ (*str, optional*) URL for file where downloaded, if available."
   ]
  },
  {
   "cell_type": "code",
   "execution_count": 26,
   "metadata": {},
   "outputs": [
    {
     "name": "stdout",
     "output_type": "stream",
     "text": [
      "F_al.plt\n",
      "F(&rho;):\n",
      "https://www.ctcms.nist.gov/potentials/Download/1999--Mishin-Y-Farkas-D-Mehl-M-J-Papaconstantopoulos-D-A--Al/1/F_al.plt\n"
     ]
    }
   ],
   "source": [
    "artifact = imp.artifacts[0]\n",
    "print(artifact.filename)\n",
    "print(artifact.label)\n",
    "print(artifact.url)"
   ]
  },
  {
   "cell_type": "code",
   "execution_count": 27,
   "metadata": {},
   "outputs": [
    {
     "data": {
      "text/html": [
       "<div xmlns=\"http://www.w3.org/TR/xhtml1/strict\">F(&rho;): <a href=\"https://www.ctcms.nist.gov/potentials/Download/1999--Mishin-Y-Farkas-D-Mehl-M-J-Papaconstantopoulos-D-A--Al/1/F_al.plt\">F_al.plt</a></div>"
      ],
      "text/plain": [
       "<IPython.core.display.HTML object>"
      ]
     },
     "metadata": {},
     "output_type": "display_data"
    }
   ],
   "source": [
    "artifact.html(render=True)"
   ]
  },
  {
   "cell_type": "markdown",
   "metadata": {},
   "source": [
    "### 4.3. Parameter class\n",
    "\n",
    "A Parameter object is meant to represent a parameter value that should be listed in HTML.  The class has three attributes that can either be set during initialization, or directly retrieved/set to the object:\n",
    "\n",
    "- __name__ (*str, optional*) The name of the parameter or string parameter line.\n",
    "- __value__ (*float, optional*) The value of a numerical parameter.\n",
    "- __unit__ (*str, optional*) Units associated with value."
   ]
  },
  {
   "cell_type": "code",
   "execution_count": 28,
   "metadata": {},
   "outputs": [
    {
     "data": {
      "text/html": [
       "<div xmlns=\"http://www.w3.org/TR/xhtml1/strict\">cutoff 5.5 Angstrom</div>"
      ],
      "text/plain": [
       "<IPython.core.display.HTML object>"
      ]
     },
     "metadata": {},
     "output_type": "display_data"
    }
   ],
   "source": [
    "# Example 1: parameter with name, value and unit\n",
    "param = potentials.record.Parameter(name='cutoff', value=5.5, unit='Angstrom')\n",
    "param.html(render=True)"
   ]
  },
  {
   "cell_type": "code",
   "execution_count": 29,
   "metadata": {},
   "outputs": [
    {
     "data": {
      "text/html": [
       "<div xmlns=\"http://www.w3.org/TR/xhtml1/strict\">flush True</div>"
      ],
      "text/plain": [
       "<IPython.core.display.HTML object>"
      ]
     },
     "metadata": {},
     "output_type": "display_data"
    }
   ],
   "source": [
    "# Example 2: parameter with only name for non-numeric or complex values\n",
    "param = potentials.record.Parameter(name='flush True')\n",
    "param.html(render=True)"
   ]
  },
  {
   "cell_type": "markdown",
   "metadata": {},
   "source": [
    "### 4.4. Link class\n",
    "\n",
    "A Link object is meant to represent a hyperlink to external web pages.  The class has three attributes that can either be set during initialization, or directly retrieved/set to the object:\n",
    "\n",
    "- __url__ (*str, optional*) URL for the link.\n",
    "- __label__ (*str, optional*) A short description label.\n",
    "- __linktext__ (*str, optional*) The text for the link, i.e. what gets clicked on."
   ]
  },
  {
   "cell_type": "code",
   "execution_count": 30,
   "metadata": {},
   "outputs": [
    {
     "data": {
      "text/html": [
       "<div xmlns=\"http://www.w3.org/TR/xhtml1/strict\">Go here: <a href=\"https://www.ctcms.nist.gov/potentials/\">Interatomic Potentials Repository</a></div>"
      ],
      "text/plain": [
       "<IPython.core.display.HTML object>"
      ]
     },
     "metadata": {},
     "output_type": "display_data"
    }
   ],
   "source": [
    "link = potentials.record.Link(url='https://www.ctcms.nist.gov/potentials/', label='Go here:', linktext='Interatomic Potentials Repository')\n",
    "link.html(render=True)"
   ]
  },
  {
   "cell_type": "markdown",
   "metadata": {},
   "source": [
    "## 5. Other database operations\n",
    "\n"
   ]
  },
  {
   "cell_type": "markdown",
   "metadata": {},
   "source": [
    "### 5.1. download_potentials()\n",
    "\n",
    "Download potentials from the remote and save them to the local. The method takes the same query parameters as get_potentials() listed above allowing for a subset of potentials to be downloaded.\n",
    "\n",
    "Method parameters (besides the query parameters)\n",
    "\n",
    "- __overwrite__ (*bool, optional*) Flag indicating if any existing local records with names matching remote records are updated (True) or left unchanged (False).  Default value is False.\n",
    "- __verbose__ (*bool, optional*) If True, info messages will be printed during operations.  Default value is False."
   ]
  },
  {
   "cell_type": "code",
   "execution_count": 31,
   "metadata": {},
   "outputs": [
    {
     "name": "stdout",
     "output_type": "stream",
     "text": [
      "Found 4 matching Potential records in remote library\n",
      "0 new records added to local\n",
      "4 existing records skipped\n"
     ]
    }
   ],
   "source": [
    "potdb.download_potentials(year=1999, verbose=True)"
   ]
  },
  {
   "cell_type": "markdown",
   "metadata": {},
   "source": [
    "### 5.2. save_potential()\n",
    "\n",
    "Save a potential entry to the local.\n",
    "\n",
    "- __potential__ (*Potential*) The record to save.  \n",
    "- __overwrite__ (*bool, optional*) Indicates what to do when a matching record is found in the local location.  If False (default), then the record is not updated.  If True, then the record is updated.\n",
    "- __verbose__ (*bool, optional*) If True, info messages will be printed during operations.  Default value is False."
   ]
  },
  {
   "cell_type": "code",
   "execution_count": 26,
   "metadata": {},
   "outputs": [
    {
     "name": "stdout",
     "output_type": "stream",
     "text": [
      "Potential record named potential.1999--Mishin-Y-Farkas-D-Mehl-M-J-Papaconstantopoulos-D-A--Al updated in C:\\Users\\lmh1\\Documents\\library\n"
     ]
    }
   ],
   "source": [
    "# Save a potential\n",
    "potdb.save_potential(entry, overwrite=True, verbose=True)"
   ]
  },
  {
   "cell_type": "markdown",
   "metadata": {},
   "source": [
    "### 5.3. upload_potential()\n",
    "\n",
    "Upload a potential entry to the remote.  Requires that the user is logged into the remote and has write permission.\n",
    "\n",
    "- __potential__ (*Potential*) The record to upload.\n",
    "- __workspace__ (*str, optional*) The workspace to assign the record to. If not given, no workspace will be assigned (only accessible to user who submitted it).\n",
    "- __overwrite__ (*bool, optional*) Indicates what to do when a matching record is found in the remote location.  If False (default), then the record is not updated.  If True, then the record is updated.\n",
    "- __verbose__ (*bool, optional*) If True, info messages will be printed during operations.  Default value is False."
   ]
  },
  {
   "cell_type": "code",
   "execution_count": 16,
   "metadata": {},
   "outputs": [],
   "source": [
    "# Initialize a new Database object using personal credentials saved\n",
    "# under the database settings name \"potentials\".\n",
    "potdb = potentials.Database(local=True, remote=True, remote_name='potentials')"
   ]
  },
  {
   "cell_type": "code",
   "execution_count": null,
   "metadata": {},
   "outputs": [],
   "source": [
    "# Upload potential to potentials.nist.gov\n",
    "potdb.upload_potential(entry, workspace='Global Public Workspace', overwrite=True, verbose=True)"
   ]
  },
  {
   "cell_type": "markdown",
   "metadata": {},
   "source": [
    "### 5.4. delete_potential()\n",
    "\n",
    "Deletes a potential entry from the local and/or remote.  Deleting from the remote requires that the user is logged into the remote and has write permission.\n",
    "\n",
    "- __potential__ (*Potential*) The record to delete.  If not given, then style and name are required.\n",
    "- __local__ (*bool, optional*) Indicates if the record will be deleted from the local location. Default value is True.\n",
    "- __remote__ (*bool, optional*) Indicates if the record will be deleted from the remote location. Default value is False.  If True, requires an account for the remote location with write permissions.\n",
    "- __verbose__ (*bool, optional*) If True, info messages will be printed during operations.  Default value is False."
   ]
  },
  {
   "cell_type": "code",
   "execution_count": null,
   "metadata": {},
   "outputs": [],
   "source": [
    "potdb.delete_potential(entry, local=True, remote=True, verbose=True)"
   ]
  }
 ],
 "metadata": {
  "kernelspec": {
   "display_name": "Python 3",
   "language": "python",
   "name": "python3"
  },
  "language_info": {
   "codemirror_mode": {
    "name": "ipython",
    "version": 3
   },
   "file_extension": ".py",
   "mimetype": "text/x-python",
   "name": "python",
   "nbconvert_exporter": "python",
   "pygments_lexer": "ipython3",
   "version": "3.7.3"
  }
 },
 "nbformat": 4,
 "nbformat_minor": 4
}
