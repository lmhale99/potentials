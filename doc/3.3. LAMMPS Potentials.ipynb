{
 "cells": [
  {
   "cell_type": "markdown",
   "metadata": {},
   "source": [
    "# LAMMPS Potentials\n",
    "\n",
    "The potentials package also allows for exploring the potential implementations that are compatible in LAMMPS.  The potential_LAMMPS database records are returned as PotentialLAMMPS objects that provide tools for downloading the associated parameter files from the NIST Interatomic Potentials Repository, and for generating the LAMMPS input command lines to properly use the potentials. "
   ]
  },
  {
   "cell_type": "code",
   "execution_count": 1,
   "metadata": {},
   "outputs": [
    {
     "name": "stdout",
     "output_type": "stream",
     "text": [
      "Notebook tested for potentials version 0.3.b\n"
     ]
    }
   ],
   "source": [
    "# https://github.com/lmhale99/potentials\n",
    "import potentials\n",
    "\n",
    "print('Notebook tested for potentials version', potentials.__version__)"
   ]
  },
  {
   "cell_type": "code",
   "execution_count": 2,
   "metadata": {},
   "outputs": [],
   "source": [
    "potdb = potentials.Database(local=True, remote=True)"
   ]
  },
  {
   "cell_type": "markdown",
   "metadata": {},
   "source": [
    "## 1. Query LAMMPS potentials from the database\n",
    "\n",
    "### 1.1. get_lammps_potentials() and get_lammps_potential()\n",
    "\n",
    "LAMMPS potentials can be queried using the get_lammps_potentials() and get_lammps_potential() methods of potentials.Database.  The plural version will return all entries matching the query.  The singular version is designed to return exactly one matching record if it exists.  \n",
    "\n",
    "General options\n",
    "\n",
    "- __local__ (*bool*) Indicates if the local location is to be queried.\n",
    "- __remote__ (*bool*) Indicates if the remote location is to be queried.\n",
    "- __return_df__ (*bool*) If True, then a pandas.DataFrame of the records' metadata is returned.  This parameter is only found for the plural get methods.\n",
    "- __pot_dir_style__ (*str*) Specifies the file path option for parameter files.  Affects where the generated LAMMPS code says the files should be and where the files will be downloaded to. Options are:\n",
    "    - \"working\", where files are in the current working directory.\n",
    "    - \"id\", where files are in a subdirectory of the current working directory named for the LAMMPS potential's id.  This avoids any name conflicts if multiple potentials are used.\n",
    "    - \"local\", where files are in the local database directory.  With this option, name conflicts are avoided and the parameter files are archived for use with later simulations.\n",
    "- __prompt__ (*bool*) For the singular get method, if prompt=True (default) then a screen input will ask for a selection if multiple matching potentials are found.  If prompt=False, then an error will be thrown if multiple matches are found.\n",
    "- __verbose__ (*bool*) If True, informative print statements will be generated. \n",
    "\n",
    "KIM model options (see the [3.4. openKIM models]() Notebook for more details)\n",
    "\n",
    "- __kim_models__ (*list*) A list of full KIM model ids to build LAMMPS potentials for.\n",
    "- __kim_api_directory__ (*str*) The path to the directory containing a kim-api-collections-management executable to use to identify which KIM models are installed.\n",
    "- __kim_models_file__ (*str*) The path to a file containing a list of full KIM model ids to build LAMMPS potentials for.\n",
    "\n",
    "Query parameters that can be used to limit the returned results\n",
    "\n",
    "- __name__ (*str or list*) The record name(s) to parse by.  For LAMMPS records and LAMMPS KIM records, the names correspond to the ids.\n",
    "- __key__ (*str or list*) The unique UUID4 record key(s) to parse by. \n",
    "- __id__ (*str or list*) The unique record id(s) labeling the records to parse by.\n",
    "- __potid__ (*str or list*) The unique UUID4 record key(s) for the associated potential records to parse by.\n",
    "- __potkey__ (*str or list*) The unique record id(s) labeling the associated potential records to parse by.\n",
    "- __units__ (*str or list*) LAMMPS units option(s) to parse by.\n",
    "- __atom_style__ (*str or list*) LAMMPS pair_style(s) to parse by.\n",
    "- __pair_style__ (*str or list*) LAMMPS pair_style(s) to parse by.\n",
    "- __status__ (*None, str or list*) Limits the search by the status of the LAMMPS implementations: \"active\", \"superseded\" and/or \"retracted\".  By default, only active implementations are returned.  Giving a value of None will return implementations of all statuses.\n",
    "- __symbols__ (*str or list*) Model symbol(s) to parse by.  Typically correspond to elements for atomic potential models.\n",
    "- __elements__ (*str or list*) Element(s) in the model to parse by.\n"
   ]
  },
  {
   "cell_type": "code",
   "execution_count": 3,
   "metadata": {},
   "outputs": [
    {
     "name": "stdout",
     "output_type": "stream",
     "text": [
      "Found 0 matching potential_LAMMPS records in local library\n",
      "Found 401 matching potential_LAMMPS records in remote library\n",
      "No KIM potentials added: list of models is empty\n"
     ]
    }
   ],
   "source": [
    "pots, pots_df = potdb.get_lammps_potentials(verbose=True, return_df=True)"
   ]
  },
  {
   "cell_type": "code",
   "execution_count": 4,
   "metadata": {},
   "outputs": [
    {
     "data": {
      "text/html": [
       "<div>\n",
       "<style scoped>\n",
       "    .dataframe tbody tr th:only-of-type {\n",
       "        vertical-align: middle;\n",
       "    }\n",
       "\n",
       "    .dataframe tbody tr th {\n",
       "        vertical-align: top;\n",
       "    }\n",
       "\n",
       "    .dataframe thead th {\n",
       "        text-align: right;\n",
       "    }\n",
       "</style>\n",
       "<table border=\"1\" class=\"dataframe\">\n",
       "  <thead>\n",
       "    <tr style=\"text-align: right;\">\n",
       "      <th></th>\n",
       "      <th>name</th>\n",
       "      <th>id</th>\n",
       "      <th>key</th>\n",
       "      <th>potid</th>\n",
       "      <th>potkey</th>\n",
       "      <th>units</th>\n",
       "      <th>atom_style</th>\n",
       "      <th>allsymbols</th>\n",
       "      <th>pair_style</th>\n",
       "      <th>status</th>\n",
       "      <th>symbols</th>\n",
       "      <th>elements</th>\n",
       "      <th>artifacts</th>\n",
       "      <th>comments</th>\n",
       "      <th>dois</th>\n",
       "    </tr>\n",
       "  </thead>\n",
       "  <tbody>\n",
       "    <tr>\n",
       "      <th>0</th>\n",
       "      <td>1985--Foiles-S-M--Ni-Cu--LAMMPS--ipr1</td>\n",
       "      <td>1985--Foiles-S-M--Ni-Cu--LAMMPS--ipr1</td>\n",
       "      <td>062d2ba7-3903-40ae-a772-daa471d107c6</td>\n",
       "      <td>1985--Foiles-S-M--Ni-Cu</td>\n",
       "      <td>301f04ce-9082-4542-8590-489300cd19e8</td>\n",
       "      <td>metal</td>\n",
       "      <td>atomic</td>\n",
       "      <td>False</td>\n",
       "      <td>eam</td>\n",
       "      <td>active</td>\n",
       "      <td>[Cu, Ni]</td>\n",
       "      <td>[Cu, Ni]</td>\n",
       "      <td>[{'filename': 'Cu_smf7.eam', 'label': None, 'u...</td>\n",
       "      <td>Potential 1985--Foiles-S-M--Ni-Cu--LAMMPS--ipr...</td>\n",
       "      <td>[10.1103/physrevb.32.7685]</td>\n",
       "    </tr>\n",
       "    <tr>\n",
       "      <th>1</th>\n",
       "      <td>1985--Stillinger-F-H--Si--LAMMPS--ipr1</td>\n",
       "      <td>1985--Stillinger-F-H--Si--LAMMPS--ipr1</td>\n",
       "      <td>d085648c-b3ef-4be8-824b-7093fd22770a</td>\n",
       "      <td>1985--Stillinger-F-H-Weber-T-A--Si</td>\n",
       "      <td>edc31ad6-2b9a-455c-9b5f-e888a672ecbd</td>\n",
       "      <td>metal</td>\n",
       "      <td>atomic</td>\n",
       "      <td>False</td>\n",
       "      <td>sw</td>\n",
       "      <td>active</td>\n",
       "      <td>[Si]</td>\n",
       "      <td>[Si]</td>\n",
       "      <td>[{'filename': 'Si.sw', 'label': None, 'url': '...</td>\n",
       "      <td>Potential 1985--Stillinger-F-H--Si--LAMMPS--ip...</td>\n",
       "      <td>[10.1103/physrevb.31.5262, 10.1103/physrevb.33...</td>\n",
       "    </tr>\n",
       "    <tr>\n",
       "      <th>2</th>\n",
       "      <td>1986--Foiles-S-M--Ag--LAMMPS--ipr1</td>\n",
       "      <td>1986--Foiles-S-M--Ag--LAMMPS--ipr1</td>\n",
       "      <td>76a265fc-45ff-49d7-8c64-2044f12402f2</td>\n",
       "      <td>1986--Foiles-S-M-Baskes-M-I-Daw-M-S--Ag</td>\n",
       "      <td>672d54f8-9f48-4200-af56-8a7378ebbc4a</td>\n",
       "      <td>metal</td>\n",
       "      <td>atomic</td>\n",
       "      <td>False</td>\n",
       "      <td>eam</td>\n",
       "      <td>active</td>\n",
       "      <td>[Ag]</td>\n",
       "      <td>[Ag]</td>\n",
       "      <td>[{'filename': 'Ag_u3.eam', 'label': None, 'url...</td>\n",
       "      <td>Potential 1986--Foiles-S-M--Ag--LAMMPS--ipr1 l...</td>\n",
       "      <td>[10.1103/physrevb.33.7983]</td>\n",
       "    </tr>\n",
       "    <tr>\n",
       "      <th>3</th>\n",
       "      <td>1986--Foiles-S-M--Ag-Au-Cu-Ni-Pd-Pt--LAMMPS--ipr1</td>\n",
       "      <td>1986--Foiles-S-M--Ag-Au-Cu-Ni-Pd-Pt--LAMMPS--ipr1</td>\n",
       "      <td>c5afa7e8-6b3b-49cd-ad1c-ae3e4329363a</td>\n",
       "      <td>1986--Foiles-S-M-Baskes-M-I-Daw-M-S--Ag-Au-Cu-...</td>\n",
       "      <td>7a1302de-59cf-4efb-900e-cad845b68ee5</td>\n",
       "      <td>metal</td>\n",
       "      <td>atomic</td>\n",
       "      <td>False</td>\n",
       "      <td>eam</td>\n",
       "      <td>active</td>\n",
       "      <td>[Ag, Au, Cu, Ni, Pd, Pt]</td>\n",
       "      <td>[Ag, Au, Cu, Ni, Pd, Pt]</td>\n",
       "      <td>[{'filename': 'Ag_u3.eam', 'label': None, 'url...</td>\n",
       "      <td>Potential 1986--Foiles-S-M--Ag-Au-Cu-Ni-Pd-Pt-...</td>\n",
       "      <td>[10.1103/physrevb.33.7983]</td>\n",
       "    </tr>\n",
       "    <tr>\n",
       "      <th>4</th>\n",
       "      <td>1986--Foiles-S-M--Au--LAMMPS--ipr1</td>\n",
       "      <td>1986--Foiles-S-M--Au--LAMMPS--ipr1</td>\n",
       "      <td>c588810a-b96d-4871-bfe2-cff8a5a7c709</td>\n",
       "      <td>1986--Foiles-S-M-Baskes-M-I-Daw-M-S--Au</td>\n",
       "      <td>ffb66faa-319d-4556-8363-dad3959cd553</td>\n",
       "      <td>metal</td>\n",
       "      <td>atomic</td>\n",
       "      <td>False</td>\n",
       "      <td>eam</td>\n",
       "      <td>active</td>\n",
       "      <td>[Au]</td>\n",
       "      <td>[Au]</td>\n",
       "      <td>[{'filename': 'Au_u3.eam', 'label': None, 'url...</td>\n",
       "      <td>Potential 1986--Foiles-S-M--Au--LAMMPS--ipr1 l...</td>\n",
       "      <td>[10.1103/physrevb.33.7983]</td>\n",
       "    </tr>\n",
       "    <tr>\n",
       "      <th>...</th>\n",
       "      <td>...</td>\n",
       "      <td>...</td>\n",
       "      <td>...</td>\n",
       "      <td>...</td>\n",
       "      <td>...</td>\n",
       "      <td>...</td>\n",
       "      <td>...</td>\n",
       "      <td>...</td>\n",
       "      <td>...</td>\n",
       "      <td>...</td>\n",
       "      <td>...</td>\n",
       "      <td>...</td>\n",
       "      <td>...</td>\n",
       "      <td>...</td>\n",
       "      <td>...</td>\n",
       "    </tr>\n",
       "    <tr>\n",
       "      <th>396</th>\n",
       "      <td>2020--Wang-J--Cu-Mo--LAMMPS--ipr1</td>\n",
       "      <td>2020--Wang-J--Cu-Mo--LAMMPS--ipr1</td>\n",
       "      <td>58936b1d-b9e0-4fe5-b20c-def2d8395375</td>\n",
       "      <td>2020--Wang-J-Oh-S-H-Lee-B-J--Cu-Mo</td>\n",
       "      <td>33dc09aa-7a21-4291-b572-d0c7304d6030</td>\n",
       "      <td>metal</td>\n",
       "      <td>atomic</td>\n",
       "      <td>False</td>\n",
       "      <td>meam</td>\n",
       "      <td>active</td>\n",
       "      <td>[Cu, Mo]</td>\n",
       "      <td>[Cu, Mo]</td>\n",
       "      <td>[{'filename': 'library.meam', 'label': None, '...</td>\n",
       "      <td>Potential 2020--Wang-J--Cu-Mo--LAMMPS--ipr1 li...</td>\n",
       "      <td>[10.1016/j.commatsci.2020.109627]</td>\n",
       "    </tr>\n",
       "    <tr>\n",
       "      <th>397</th>\n",
       "      <td>2020--Wang-P--meta-Ta-Hf-Zr-Ti--LAMMPS--ipr1</td>\n",
       "      <td>2020--Wang-P--meta-Ta-Hf-Zr-Ti--LAMMPS--ipr1</td>\n",
       "      <td>3ce60717-ee12-4fe0-947c-e2f2ea852a3b</td>\n",
       "      <td>2020--Wang-P-Bu-Y-Liu-J-et-al--meta-Ta-Hf-Zr-Ti</td>\n",
       "      <td>f6767938-c162-4b64-8e19-fce722a79e6c</td>\n",
       "      <td>metal</td>\n",
       "      <td>atomic</td>\n",
       "      <td>False</td>\n",
       "      <td>eam/fs</td>\n",
       "      <td>active</td>\n",
       "      <td>[meta_TaHfZrTi]</td>\n",
       "      <td>[meta_TaHfZrTi]</td>\n",
       "      <td>[{'filename': 'TaHfZrTi.eam.fs', 'label': None...</td>\n",
       "      <td>Potential 2020--Wang-P--meta-Ta-Hf-Zr-Ti--LAMM...</td>\n",
       "      <td>[10.1016/j.mattod.2020.02.017]</td>\n",
       "    </tr>\n",
       "    <tr>\n",
       "      <th>398</th>\n",
       "      <td>2021--Mendelev-M--Al-Sm--LAMMPS--ipr1</td>\n",
       "      <td>2021--Mendelev-M--Al-Sm--LAMMPS--ipr1</td>\n",
       "      <td>ca128b82-3892-48fd-a8fd-9aa360470042</td>\n",
       "      <td>2021--Mendelev-M--Al-Sm</td>\n",
       "      <td>f33fbb2c-82d8-45c1-8199-eac338de6861</td>\n",
       "      <td>metal</td>\n",
       "      <td>atomic</td>\n",
       "      <td>False</td>\n",
       "      <td>eam/fs</td>\n",
       "      <td>active</td>\n",
       "      <td>[Al, Sm]</td>\n",
       "      <td>[Al, Sm]</td>\n",
       "      <td>[{'filename': 'v2_18_Al3Sm_2016.eam.fs', 'labe...</td>\n",
       "      <td>Potential 2021--Mendelev-M--Al-Sm--LAMMPS--ipr...</td>\n",
       "      <td>[]</td>\n",
       "    </tr>\n",
       "    <tr>\n",
       "      <th>399</th>\n",
       "      <td>2021--Wang-G--Au-Rh--LAMMPS--ipr1</td>\n",
       "      <td>2021--Wang-G--Au-Rh--LAMMPS--ipr1</td>\n",
       "      <td>f8f52d2e-597d-435a-926a-09f38094b1da</td>\n",
       "      <td>2021--Wang-G-Xu-Y-Qian-P-Su-Y--Au-Rh</td>\n",
       "      <td>ccd7fceb-a257-40df-812b-b1326955bff1</td>\n",
       "      <td>metal</td>\n",
       "      <td>atomic</td>\n",
       "      <td>False</td>\n",
       "      <td>adp</td>\n",
       "      <td>active</td>\n",
       "      <td>[Au, Rh]</td>\n",
       "      <td>[Au, Rh]</td>\n",
       "      <td>[{'filename': 'AuRh.adp.txt', 'label': None, '...</td>\n",
       "      <td>Potential 2021--Wang-G--Au-Rh--LAMMPS--ipr1 li...</td>\n",
       "      <td>[10.1016/j.commatsci.2020.110002]</td>\n",
       "    </tr>\n",
       "    <tr>\n",
       "      <th>400</th>\n",
       "      <td>2021--Zhou-X-W--Pd-H-He--LAMMPS--ipr1</td>\n",
       "      <td>2021--Zhou-X-W--Pd-H-He--LAMMPS--ipr1</td>\n",
       "      <td>d220fd7a-1545-4170-9d8e-5a0da105a781</td>\n",
       "      <td>2021--Zhou-X-W-Bartelt-N-C-Sills-R-B--Pd-H-He</td>\n",
       "      <td>2541a13a-b398-485a-bf90-e4c48674c601</td>\n",
       "      <td>metal</td>\n",
       "      <td>atomic</td>\n",
       "      <td>False</td>\n",
       "      <td>eam/he</td>\n",
       "      <td>active</td>\n",
       "      <td>[Pd, H, He]</td>\n",
       "      <td>[Pd, H, He]</td>\n",
       "      <td>[{'filename': 'PdHHe.eam.fs.he.t', 'label': No...</td>\n",
       "      <td>Potential 2021--Zhou-X-W--Pd-H-He--LAMMPS--ipr...</td>\n",
       "      <td>[10.1103/physrevb.103.014108]</td>\n",
       "    </tr>\n",
       "  </tbody>\n",
       "</table>\n",
       "<p>401 rows × 15 columns</p>\n",
       "</div>"
      ],
      "text/plain": [
       "                                                  name  \\\n",
       "0                1985--Foiles-S-M--Ni-Cu--LAMMPS--ipr1   \n",
       "1               1985--Stillinger-F-H--Si--LAMMPS--ipr1   \n",
       "2                   1986--Foiles-S-M--Ag--LAMMPS--ipr1   \n",
       "3    1986--Foiles-S-M--Ag-Au-Cu-Ni-Pd-Pt--LAMMPS--ipr1   \n",
       "4                   1986--Foiles-S-M--Au--LAMMPS--ipr1   \n",
       "..                                                 ...   \n",
       "396                  2020--Wang-J--Cu-Mo--LAMMPS--ipr1   \n",
       "397       2020--Wang-P--meta-Ta-Hf-Zr-Ti--LAMMPS--ipr1   \n",
       "398              2021--Mendelev-M--Al-Sm--LAMMPS--ipr1   \n",
       "399                  2021--Wang-G--Au-Rh--LAMMPS--ipr1   \n",
       "400              2021--Zhou-X-W--Pd-H-He--LAMMPS--ipr1   \n",
       "\n",
       "                                                    id  \\\n",
       "0                1985--Foiles-S-M--Ni-Cu--LAMMPS--ipr1   \n",
       "1               1985--Stillinger-F-H--Si--LAMMPS--ipr1   \n",
       "2                   1986--Foiles-S-M--Ag--LAMMPS--ipr1   \n",
       "3    1986--Foiles-S-M--Ag-Au-Cu-Ni-Pd-Pt--LAMMPS--ipr1   \n",
       "4                   1986--Foiles-S-M--Au--LAMMPS--ipr1   \n",
       "..                                                 ...   \n",
       "396                  2020--Wang-J--Cu-Mo--LAMMPS--ipr1   \n",
       "397       2020--Wang-P--meta-Ta-Hf-Zr-Ti--LAMMPS--ipr1   \n",
       "398              2021--Mendelev-M--Al-Sm--LAMMPS--ipr1   \n",
       "399                  2021--Wang-G--Au-Rh--LAMMPS--ipr1   \n",
       "400              2021--Zhou-X-W--Pd-H-He--LAMMPS--ipr1   \n",
       "\n",
       "                                      key  \\\n",
       "0    062d2ba7-3903-40ae-a772-daa471d107c6   \n",
       "1    d085648c-b3ef-4be8-824b-7093fd22770a   \n",
       "2    76a265fc-45ff-49d7-8c64-2044f12402f2   \n",
       "3    c5afa7e8-6b3b-49cd-ad1c-ae3e4329363a   \n",
       "4    c588810a-b96d-4871-bfe2-cff8a5a7c709   \n",
       "..                                    ...   \n",
       "396  58936b1d-b9e0-4fe5-b20c-def2d8395375   \n",
       "397  3ce60717-ee12-4fe0-947c-e2f2ea852a3b   \n",
       "398  ca128b82-3892-48fd-a8fd-9aa360470042   \n",
       "399  f8f52d2e-597d-435a-926a-09f38094b1da   \n",
       "400  d220fd7a-1545-4170-9d8e-5a0da105a781   \n",
       "\n",
       "                                                 potid  \\\n",
       "0                              1985--Foiles-S-M--Ni-Cu   \n",
       "1                   1985--Stillinger-F-H-Weber-T-A--Si   \n",
       "2              1986--Foiles-S-M-Baskes-M-I-Daw-M-S--Ag   \n",
       "3    1986--Foiles-S-M-Baskes-M-I-Daw-M-S--Ag-Au-Cu-...   \n",
       "4              1986--Foiles-S-M-Baskes-M-I-Daw-M-S--Au   \n",
       "..                                                 ...   \n",
       "396                 2020--Wang-J-Oh-S-H-Lee-B-J--Cu-Mo   \n",
       "397    2020--Wang-P-Bu-Y-Liu-J-et-al--meta-Ta-Hf-Zr-Ti   \n",
       "398                            2021--Mendelev-M--Al-Sm   \n",
       "399               2021--Wang-G-Xu-Y-Qian-P-Su-Y--Au-Rh   \n",
       "400      2021--Zhou-X-W-Bartelt-N-C-Sills-R-B--Pd-H-He   \n",
       "\n",
       "                                   potkey  units atom_style allsymbols  \\\n",
       "0    301f04ce-9082-4542-8590-489300cd19e8  metal     atomic      False   \n",
       "1    edc31ad6-2b9a-455c-9b5f-e888a672ecbd  metal     atomic      False   \n",
       "2    672d54f8-9f48-4200-af56-8a7378ebbc4a  metal     atomic      False   \n",
       "3    7a1302de-59cf-4efb-900e-cad845b68ee5  metal     atomic      False   \n",
       "4    ffb66faa-319d-4556-8363-dad3959cd553  metal     atomic      False   \n",
       "..                                    ...    ...        ...        ...   \n",
       "396  33dc09aa-7a21-4291-b572-d0c7304d6030  metal     atomic      False   \n",
       "397  f6767938-c162-4b64-8e19-fce722a79e6c  metal     atomic      False   \n",
       "398  f33fbb2c-82d8-45c1-8199-eac338de6861  metal     atomic      False   \n",
       "399  ccd7fceb-a257-40df-812b-b1326955bff1  metal     atomic      False   \n",
       "400  2541a13a-b398-485a-bf90-e4c48674c601  metal     atomic      False   \n",
       "\n",
       "    pair_style  status                   symbols                  elements  \\\n",
       "0          eam  active                  [Cu, Ni]                  [Cu, Ni]   \n",
       "1           sw  active                      [Si]                      [Si]   \n",
       "2          eam  active                      [Ag]                      [Ag]   \n",
       "3          eam  active  [Ag, Au, Cu, Ni, Pd, Pt]  [Ag, Au, Cu, Ni, Pd, Pt]   \n",
       "4          eam  active                      [Au]                      [Au]   \n",
       "..         ...     ...                       ...                       ...   \n",
       "396       meam  active                  [Cu, Mo]                  [Cu, Mo]   \n",
       "397     eam/fs  active           [meta_TaHfZrTi]           [meta_TaHfZrTi]   \n",
       "398     eam/fs  active                  [Al, Sm]                  [Al, Sm]   \n",
       "399        adp  active                  [Au, Rh]                  [Au, Rh]   \n",
       "400     eam/he  active               [Pd, H, He]               [Pd, H, He]   \n",
       "\n",
       "                                             artifacts  \\\n",
       "0    [{'filename': 'Cu_smf7.eam', 'label': None, 'u...   \n",
       "1    [{'filename': 'Si.sw', 'label': None, 'url': '...   \n",
       "2    [{'filename': 'Ag_u3.eam', 'label': None, 'url...   \n",
       "3    [{'filename': 'Ag_u3.eam', 'label': None, 'url...   \n",
       "4    [{'filename': 'Au_u3.eam', 'label': None, 'url...   \n",
       "..                                                 ...   \n",
       "396  [{'filename': 'library.meam', 'label': None, '...   \n",
       "397  [{'filename': 'TaHfZrTi.eam.fs', 'label': None...   \n",
       "398  [{'filename': 'v2_18_Al3Sm_2016.eam.fs', 'labe...   \n",
       "399  [{'filename': 'AuRh.adp.txt', 'label': None, '...   \n",
       "400  [{'filename': 'PdHHe.eam.fs.he.t', 'label': No...   \n",
       "\n",
       "                                              comments  \\\n",
       "0    Potential 1985--Foiles-S-M--Ni-Cu--LAMMPS--ipr...   \n",
       "1    Potential 1985--Stillinger-F-H--Si--LAMMPS--ip...   \n",
       "2    Potential 1986--Foiles-S-M--Ag--LAMMPS--ipr1 l...   \n",
       "3    Potential 1986--Foiles-S-M--Ag-Au-Cu-Ni-Pd-Pt-...   \n",
       "4    Potential 1986--Foiles-S-M--Au--LAMMPS--ipr1 l...   \n",
       "..                                                 ...   \n",
       "396  Potential 2020--Wang-J--Cu-Mo--LAMMPS--ipr1 li...   \n",
       "397  Potential 2020--Wang-P--meta-Ta-Hf-Zr-Ti--LAMM...   \n",
       "398  Potential 2021--Mendelev-M--Al-Sm--LAMMPS--ipr...   \n",
       "399  Potential 2021--Wang-G--Au-Rh--LAMMPS--ipr1 li...   \n",
       "400  Potential 2021--Zhou-X-W--Pd-H-He--LAMMPS--ipr...   \n",
       "\n",
       "                                                  dois  \n",
       "0                           [10.1103/physrevb.32.7685]  \n",
       "1    [10.1103/physrevb.31.5262, 10.1103/physrevb.33...  \n",
       "2                           [10.1103/physrevb.33.7983]  \n",
       "3                           [10.1103/physrevb.33.7983]  \n",
       "4                           [10.1103/physrevb.33.7983]  \n",
       "..                                                 ...  \n",
       "396                  [10.1016/j.commatsci.2020.109627]  \n",
       "397                     [10.1016/j.mattod.2020.02.017]  \n",
       "398                                                 []  \n",
       "399                  [10.1016/j.commatsci.2020.110002]  \n",
       "400                      [10.1103/physrevb.103.014108]  \n",
       "\n",
       "[401 rows x 15 columns]"
      ]
     },
     "execution_count": 4,
     "metadata": {},
     "output_type": "execute_result"
    }
   ],
   "source": [
    "pots_df"
   ]
  },
  {
   "cell_type": "markdown",
   "metadata": {},
   "source": [
    "### 1.2. get_lammps_potential_files()\n",
    "\n",
    "The parameter files associated with a LAMMPS potential can be copied/downloaded from the database using the get_lammps_potential_files() method.\n",
    "\n",
    "Parameters\n",
    "\n",
    "- __lammps_potential__ (*PotentialLAMMPS*) The LAMMPS potential to retrieve parameter files for.\n",
    "- __local__ (*bool, optional*) Indicates if the parameter files are to be retrieved from the localpath if copies exist there.  If not given, will use the local value set during initialization.\n",
    "- __remote__ (*bool, optional*) Indicates if the parameter files are to be downloaded if local is False or copies are not found in the localpath.  If not given, will use the remote value set during initialization.\n",
    "- __pot_dir__ (*path-like object, optional*) The path to the directory where the files are to be saved.  If not given, will use whatever pot_dir value was previously set.  If given here, will change the pot_dir value so that the pair_info lines properly point to the copied/downloaded files.\n",
    "- __verbose__ (*bool, optional*) If True, info messages will be printed during operations.  Default value is False."
   ]
  },
  {
   "cell_type": "code",
   "execution_count": 6,
   "metadata": {},
   "outputs": [
    {
     "name": "stdout",
     "output_type": "stream",
     "text": [
      "Cu_smf7.eam already in 1985--Foiles-S-M--Ni-Cu--LAMMPS--ipr1\n",
      "Ni_smf7.eam already in 1985--Foiles-S-M--Ni-Cu--LAMMPS--ipr1\n"
     ]
    }
   ],
   "source": [
    "potdb.get_lammps_potential_files(pots[0], verbose=True)"
   ]
  },
  {
   "cell_type": "markdown",
   "metadata": {},
   "source": [
    "## 2. PotentialLAMMPS class\n",
    "\n",
    "The PotentialLAMMPS class provides metadata describing a LAMMPS implemented potential with\n",
    "\n",
    "- Information about the potential to be explored.\n",
    "- Tools for downloading parameter files.\n",
    "- Tools for generating LAMMPS input commands.\n"
   ]
  },
  {
   "cell_type": "code",
   "execution_count": 7,
   "metadata": {},
   "outputs": [],
   "source": [
    "pot = pots[0]"
   ]
  },
  {
   "cell_type": "markdown",
   "metadata": {},
   "source": [
    "### 2.1. Simple methods and attributes of PotentialLAMMPS\n",
    "\n",
    "This is a list of the simple descriptive terms associated with a PotentialLAMMPS object. \n",
    "\n",
    "__NOTE__: Unlike the Potential and Citation classes, the PotentialLAMMPS class is not meant to provide a means of generating or modifying a related record.  All of the attributes listed here cannot be changed.  See the [4. Add LAMMPS potentials]() Notebook if you wish to construct new PotentialLAMMPS objects."
   ]
  },
  {
   "cell_type": "markdown",
   "metadata": {},
   "source": [
    "#### 2.1.1. Metadata descriptors\n",
    "\n",
    "- __id__ is the human-readable ID assigned to the LAMMPS implementation. \n",
    "- __key__ is the unique UUID4 key assigned to the LAMMPS implementation.\n",
    "- __potid__ is the human-readable ID assigned to the potential entry that the LAMMPS implementation is associated with.\n",
    "- __potkey__ is the unique UUID4 key assigned to the potential entry that the LAMMPS implementation is associated with.\n",
    "- __status__ describes the current status of the implementation: \"active\", \"superseded\" or \"retracted\".  Superseded indicates that improved implementations are available, while retracted indicates that the implementation was deemed to not be a valid representation of the associated entry."
   ]
  },
  {
   "cell_type": "code",
   "execution_count": 8,
   "metadata": {},
   "outputs": [
    {
     "name": "stdout",
     "output_type": "stream",
     "text": [
      "id     1985--Foiles-S-M--Ni-Cu--LAMMPS--ipr1\n",
      "key    062d2ba7-3903-40ae-a772-daa471d107c6\n",
      "potid  1985--Foiles-S-M--Ni-Cu\n",
      "potkey 301f04ce-9082-4542-8590-489300cd19e8\n",
      "status active\n"
     ]
    }
   ],
   "source": [
    "print('id    ', pot.id)\n",
    "print('key   ', pot.key)\n",
    "print('potid ', pot.potid)\n",
    "print('potkey', pot.potkey)\n",
    "print('status', pot.status)"
   ]
  },
  {
   "cell_type": "markdown",
   "metadata": {},
   "source": [
    "#### 2.1.2. LAMMPS settings\n",
    "\n",
    "- __units__ is the LAMMPS units style to use with the potential.  \n",
    "- __atom_style__ is the LAMMPS atom_style option to use with the potential.\n",
    "- __pair_style__ is the LAMMPS pair_style option associated with the potential.\n",
    "- __allsymbols__ is a boolean flag that modifies how the LAMMPS commands are generated.  If False, then only the necessary symbols are used. If True, then extra atom types are used so that each symbol defined by the model is included in the LAMMPS commands even if no atoms of certain symbols are used.  Certain pair_styles require this setting to be True."
   ]
  },
  {
   "cell_type": "code",
   "execution_count": 9,
   "metadata": {},
   "outputs": [
    {
     "name": "stdout",
     "output_type": "stream",
     "text": [
      "units      metal\n",
      "atom_style atomic\n",
      "pair_style eam\n",
      "allsymbols False\n"
     ]
    }
   ],
   "source": [
    "print('units     ', pot.units)\n",
    "print('atom_style', pot.atom_style)\n",
    "print('pair_style', pot.pair_style)\n",
    "print('allsymbols', pot.allsymbols)"
   ]
  },
  {
   "cell_type": "markdown",
   "metadata": {},
   "source": [
    "#### 2.1.3. Atomic information\n",
    "\n",
    "- __symbols__ is the list of the model symbols used to identify the interaction models defined by the LAMMPS implementation. These often, but not always, correspond to elemental symbols. \n",
    "- __elements()__ builds a list of elemental symbols corresponding to model symbols.  If no list of model symbols is given, then the full symbols list is used.\n",
    "- __masses()__ builds a list of particle masses corresponding to model symbols.  If no list of model symbols is given, then the full symbols list is used.\n",
    "- __charges()__ builds a list of particle charges corresponding to model symbols.  If no list of model symbols is given, then the full symbols list is used."
   ]
  },
  {
   "cell_type": "code",
   "execution_count": 10,
   "metadata": {},
   "outputs": [
    {
     "name": "stdout",
     "output_type": "stream",
     "text": [
      "symbols    ['Cu', 'Ni']\n",
      "elements() ['Cu', 'Ni']\n",
      "masses()   [63.55, 58.71]\n",
      "charges()  [0.0, 0.0]\n",
      "\n",
      "elements(symbols[0]) ['Cu']\n"
     ]
    }
   ],
   "source": [
    "print('symbols   ', pot.symbols)\n",
    "print('elements()', pot.elements())\n",
    "print('masses()  ', pot.masses())\n",
    "print('charges() ', pot.charges())\n",
    "print()\n",
    "print('elements(symbols[0])', pot.elements(pot.symbols[0]))"
   ]
  },
  {
   "cell_type": "markdown",
   "metadata": {},
   "source": [
    "#### 2.1.4. Citation and file information\n",
    "\n",
    "- __dois__ is a list of publication citations associated with the potential.  \n",
    "- __artifacts__ is a list of Artifacts associated with the implementation. \n",
    "- __fileurls__ is a list of the file download URLs associated with the artifacts.\n",
    "- __comments__ provides short informational comments associated with the implementation.\n",
    "- __print_comments__ generates LAMMPS print commands that detail the potential's DOIs, the comments field, and the file URLs."
   ]
  },
  {
   "cell_type": "code",
   "execution_count": 11,
   "metadata": {},
   "outputs": [
    {
     "name": "stdout",
     "output_type": "stream",
     "text": [
      "dois      ['10.1103/physrevb.32.7685']\n",
      "artifacts [<potentials.record.Artifact.Artifact object at 0x000001307BF513C8>, <potentials.record.Artifact.Artifact object at 0x000001307F367CC0>]\n",
      "fileurls  ['https://www.ctcms.nist.gov/potentials/Download/1985--Foiles-S-M--Ni-Cu/1/Cu_smf7.eam', 'https://www.ctcms.nist.gov/potentials/Download/1985--Foiles-S-M--Ni-Cu/1/Ni_smf7.eam']\n",
      "\n",
      "comments:\n",
      "Potential 1985--Foiles-S-M--Ni-Cu--LAMMPS--ipr1 listed in the NIST Interatomic Potentials Repository:\n",
      "https://www.ctcms.nist.gov/potentials/entry/1985--Foiles-S-M--Ni-Cu/1985--Foiles-S-M--Ni-Cu--LAMMPS--ipr1.html\n",
      "\n",
      "\n",
      "print_comments:\n",
      "print \"Potential 1985--Foiles-S-M--Ni-Cu--LAMMPS--ipr1 listed in the NIST Interatomic Potentials Repository:\"\n",
      "print \"https://www.ctcms.nist.gov/potentials/entry/1985--Foiles-S-M--Ni-Cu/1985--Foiles-S-M--Ni-Cu--LAMMPS--ipr1.html\"\n",
      "print \"Publication(s) related to the potential:\"\n",
      "print \"https://doi.org/10.1103/physrevb.32.7685\"\n",
      "print \"Parameter file(s) can be downloaded at:\"\n",
      "print \"https://www.ctcms.nist.gov/potentials/Download/1985--Foiles-S-M--Ni-Cu/1/Cu_smf7.eam\"\n",
      "print \"https://www.ctcms.nist.gov/potentials/Download/1985--Foiles-S-M--Ni-Cu/1/Ni_smf7.eam\"\n",
      "\n"
     ]
    }
   ],
   "source": [
    "print('dois     ', pot.dois)\n",
    "print('artifacts', pot.artifacts)\n",
    "print('fileurls ', pot.fileurls)\n",
    "print()\n",
    "print('comments:')\n",
    "print(pot.comments)\n",
    "print()\n",
    "print('print_comments:')\n",
    "print(pot.print_comments)"
   ]
  },
  {
   "cell_type": "markdown",
   "metadata": {},
   "source": [
    "#### 2.1.5. Data model interactions\n",
    "\n",
    "- __load_model()__ reads in content in the data model format for the record style.\n",
    "- __build_model()__ returns the underlying data model for the record.\n",
    "- __metadata()__ generates a dictionary of simple metadata fields associated with the record.  The fields in the metadata dictionary correspond to the fields in the DataFrame representation of the records when retrieved using the get methods. "
   ]
  },
  {
   "cell_type": "code",
   "execution_count": 12,
   "metadata": {},
   "outputs": [
    {
     "data": {
      "text/plain": [
       "{'name': '1985--Foiles-S-M--Ni-Cu--LAMMPS--ipr1',\n",
       " 'id': '1985--Foiles-S-M--Ni-Cu--LAMMPS--ipr1',\n",
       " 'key': '062d2ba7-3903-40ae-a772-daa471d107c6',\n",
       " 'potid': '1985--Foiles-S-M--Ni-Cu',\n",
       " 'potkey': '301f04ce-9082-4542-8590-489300cd19e8',\n",
       " 'units': 'metal',\n",
       " 'atom_style': 'atomic',\n",
       " 'allsymbols': False,\n",
       " 'pair_style': 'eam',\n",
       " 'status': 'active',\n",
       " 'symbols': ['Cu', 'Ni'],\n",
       " 'elements': ['Cu', 'Ni'],\n",
       " 'artifacts': [{'filename': 'Cu_smf7.eam',\n",
       "   'label': None,\n",
       "   'url': 'https://www.ctcms.nist.gov/potentials/Download/1985--Foiles-S-M--Ni-Cu/1/Cu_smf7.eam'},\n",
       "  {'filename': 'Ni_smf7.eam',\n",
       "   'label': None,\n",
       "   'url': 'https://www.ctcms.nist.gov/potentials/Download/1985--Foiles-S-M--Ni-Cu/1/Ni_smf7.eam'}],\n",
       " 'comments': 'Potential 1985--Foiles-S-M--Ni-Cu--LAMMPS--ipr1 listed in the NIST Interatomic Potentials Repository:\\nhttps://www.ctcms.nist.gov/potentials/entry/1985--Foiles-S-M--Ni-Cu/1985--Foiles-S-M--Ni-Cu--LAMMPS--ipr1.html\\n',\n",
       " 'dois': ['10.1103/physrevb.32.7685']}"
      ]
     },
     "execution_count": 12,
     "metadata": {},
     "output_type": "execute_result"
    }
   ],
   "source": [
    "pot.metadata()"
   ]
  },
  {
   "cell_type": "markdown",
   "metadata": {},
   "source": [
    "### 2.2. Parameter files\n",
    "\n",
    "Most of the native LAMMPS potentials hosted by the NIST Interatomic Potentials Repository are associated with parameter files that define the potentials.  This section details how the PotentialLAMMPS objects handle the parameter files.\n",
    "\n",
    "#### 2.2.1. pot_dir\n",
    "\n",
    "__pot_dir__ is the local directory where the parameter files are expected.  This value determines both \n",
    "\n",
    "- where the parameter files are copied/downloaded to, and\n",
    "- the directory paths used in the generated LAMMPS commands to where the files should be found. \n",
    "\n",
    "The pot_dir value can be changed at any time.  When LAMMPS potentials are retrieved using the database get methods, the initial value of pot_dir for each potential depends on the pot_dir_style option used. "
   ]
  },
  {
   "cell_type": "code",
   "execution_count": 13,
   "metadata": {},
   "outputs": [
    {
     "data": {
      "text/plain": [
       "'1985--Foiles-S-M--Ni-Cu--LAMMPS--ipr1'"
      ]
     },
     "execution_count": 13,
     "metadata": {},
     "output_type": "execute_result"
    }
   ],
   "source": [
    "pot.pot_dir"
   ]
  },
  {
   "cell_type": "markdown",
   "metadata": {},
   "source": [
    "#### 2.2.2. download_files()\n",
    "\n",
    "Downloads all parameter files for the potential from their fileurls to the potential's pot_dir. \n",
    "\n",
    "__NOTE__: This method can only download the parameter files and will not search the local location for any already existing copies.  Use Database.get_lammps_potential_files() instead if you wish to search for the files in the local location. \n",
    "\n",
    "Parameters\n",
    "\n",
    "- __pot_dir__ (*str, optional*) The path to the directory where the files are to be saved.  If not given, will use whatever pot_dir value was previously set.  If given here, will change the pot_dir value so that the pair_info lines properly point to the downloaded files.\n",
    "- __overwrite__ (*bool, optional*) If False (default), then the files will not be downloaded if similarly named files already exist in the pot_dir.\n",
    "- __verbose__ (*bool, optional*) If True, will print the names of the files downloaded."
   ]
  },
  {
   "cell_type": "code",
   "execution_count": 14,
   "metadata": {},
   "outputs": [
    {
     "name": "stdout",
     "output_type": "stream",
     "text": [
      "Cu_smf7.eam already in 1985--Foiles-S-M--Ni-Cu--LAMMPS--ipr1\n",
      "Ni_smf7.eam already in 1985--Foiles-S-M--Ni-Cu--LAMMPS--ipr1\n"
     ]
    },
    {
     "data": {
      "text/plain": [
       "(0, 2)"
      ]
     },
     "execution_count": 14,
     "metadata": {},
     "output_type": "execute_result"
    }
   ],
   "source": [
    "pot.download_files(verbose=True)"
   ]
  },
  {
   "cell_type": "code",
   "execution_count": null,
   "metadata": {},
   "outputs": [],
   "source": []
  },
  {
   "cell_type": "code",
   "execution_count": null,
   "metadata": {},
   "outputs": [],
   "source": []
  },
  {
   "cell_type": "code",
   "execution_count": null,
   "metadata": {},
   "outputs": [],
   "source": []
  },
  {
   "cell_type": "code",
   "execution_count": null,
   "metadata": {},
   "outputs": [],
   "source": []
  },
  {
   "cell_type": "markdown",
   "metadata": {},
   "source": [
    "### 3.1. Render listing\n",
    "\n",
    "__html()__ will generate HTML for the potential entry as it appears on the NIST Interatomic Potentials Repository.  If render=True, then the content is automatically rendered in Jupyter Notebooks. Otherwise, the HTML code is returned as a string."
   ]
  },
  {
   "cell_type": "code",
   "execution_count": 15,
   "metadata": {},
   "outputs": [
    {
     "ename": "NameError",
     "evalue": "name 'entry' is not defined",
     "output_type": "error",
     "traceback": [
      "\u001b[1;31m---------------------------------------------------------------------------\u001b[0m",
      "\u001b[1;31mNameError\u001b[0m                                 Traceback (most recent call last)",
      "\u001b[1;32m<ipython-input-15-b6556c2a5c1c>\u001b[0m in \u001b[0;36m<module>\u001b[1;34m\u001b[0m\n\u001b[1;32m----> 1\u001b[1;33m \u001b[0mentry\u001b[0m\u001b[1;33m.\u001b[0m\u001b[0mhtml\u001b[0m\u001b[1;33m(\u001b[0m\u001b[0mrender\u001b[0m\u001b[1;33m=\u001b[0m\u001b[1;32mTrue\u001b[0m\u001b[1;33m)\u001b[0m\u001b[1;33m\u001b[0m\u001b[1;33m\u001b[0m\u001b[0m\n\u001b[0m",
      "\u001b[1;31mNameError\u001b[0m: name 'entry' is not defined"
     ]
    }
   ],
   "source": [
    "entry.html(render=True)"
   ]
  },
  {
   "cell_type": "markdown",
   "metadata": {},
   "source": [
    "### 3.2. Simple attributes of Potential\n",
    "\n",
    "- __id__ is the human-readable ID for the potential entry.  This is automatically derived from other attributes, and therefore cannot be directly set. \n",
    "- __key__ is the unique UUID4 key assigned to the potential entry.  \n",
    "- __impid_prefix__ is the suggested prefix for the human-readable IDs assigned to the entry's implementations. This is automatically derived from other attributes, and therefore cannot be directly set. \n",
    "- __recorddate__ is the date associated with the entry.\n",
    "- __elements__ is the list of elements that the potential entry is designed to represent.\n",
    "- __fictional__ is a boolean flag indicating if the potential entry is classified as a \"fictional\" potential.  While all potentials are technically fictional models, this label is used to describe models that purposefully target incorrect property values for a given element.\n",
    "- __othername__ provides a description of what the potential entry is designed to model alternative to the list of elements.  This is used either when the entry is designed specifically for a compound rather than an elemental range, or for models where the particles do not directly correspond to single elements.\n",
    "- __modelname__ is used to differentiate potential entries that otherwise would have the same id, i.e. entries that share the same year, author, and elements.  These typically come about either due to multiple parameterizations being listed in the same publication or the same author(s) publish an updated parameterization in the same year.  The modelname value should reflect how the original authors named the potentials to differentiate them.\n",
    "- __notes__ allows for comments about the potential entry to be given.  If included, this should be information associated with the use cases for the entry and should be true across all implementations."
   ]
  },
  {
   "cell_type": "code",
   "execution_count": 7,
   "metadata": {},
   "outputs": [
    {
     "name": "stdout",
     "output_type": "stream",
     "text": [
      "id           1999--Mishin-Y-Farkas-D-Mehl-M-J-Papaconstantopoulos-D-A--Al\n",
      "key          0c2ddffb-e644-4e5c-8e53-9bf722bb5dee\n",
      "impid_prefix 1999--Mishin-Y--Al\n",
      "recorddate   2018-08-15\n",
      "elements     ['Al']\n",
      "fictional    False\n",
      "othername    None\n",
      "modelname    None\n",
      "notes        None\n"
     ]
    }
   ],
   "source": [
    "print('id          ', entry.id)\n",
    "print('key         ', entry.key)\n",
    "print('impid_prefix', entry.impid_prefix)\n",
    "print('recorddate  ', entry.recorddate)\n",
    "print('elements    ', entry.elements)\n",
    "print('fictional   ', entry.fictional)\n",
    "print('othername   ', entry.othername)\n",
    "print('modelname   ', entry.modelname)\n",
    "print('notes       ', entry.notes)"
   ]
  },
  {
   "cell_type": "markdown",
   "metadata": {},
   "source": [
    "### 3.3. Component classes of Potential\n",
    "\n",
    "- __citations__ is a list of Citation objects assigned to the potential entry.  [See the 3.1. Citations Notebook]() for more information on the Citation class.\n",
    "- __implementations__ is a list of Implementation objects assigned to the potential entry.  See section 4. for more information on the Implementation class."
   ]
  },
  {
   "cell_type": "code",
   "execution_count": 8,
   "metadata": {},
   "outputs": [
    {
     "data": {
      "text/plain": [
       "[<potentials.record.Citation.Citation at 0x1bf460ae550>]"
      ]
     },
     "execution_count": 8,
     "metadata": {},
     "output_type": "execute_result"
    }
   ],
   "source": [
    "entry.citations"
   ]
  },
  {
   "cell_type": "code",
   "execution_count": 9,
   "metadata": {},
   "outputs": [
    {
     "data": {
      "text/plain": [
       "[<potentials.record.Implementation.Implementation at 0x1bf4610bbe0>,\n",
       " <potentials.record.Implementation.Implementation at 0x1bf4610ba58>,\n",
       " <potentials.record.Implementation.Implementation at 0x1bf4610b160>]"
      ]
     },
     "execution_count": 9,
     "metadata": {},
     "output_type": "execute_result"
    }
   ],
   "source": [
    "entry.implementations"
   ]
  },
  {
   "cell_type": "markdown",
   "metadata": {},
   "source": [
    "New citations and implementations can be added to the potential entry either by appending the lists above with an object of the correct type, or by using the __add_citation()__ and __add_implementation()__ methods of Potential.  The add methods take the parameters associated with initializing a new object, and then create said object and append it to the appropriate list."
   ]
  },
  {
   "cell_type": "markdown",
   "metadata": {},
   "source": [
    "### 3.4. Data model interactions\n",
    "\n",
    "- __load_model()__ reads in content in the data model format for the record style.\n",
    "- __build_model()__ generates a data model based on the record's attributes\n",
    "- __metadata()__ generates a dictionary of simple metadata fields associated with the record.  The fields in the metadata dictionary correspond to the fields in the DataFrame representation of the records when retrieved using the get methods. \n",
    "- __xsd_filename__ is a tuple of package path and file name associated with the XML schema that the data model adheres to.\n",
    "- __xsd()__ returns the contents of the XML schema that xsd_filename points to.\n",
    "- __valid_xml()__ tests data model contents against the XML schema to determine if it is valid.  If no data model contents are specified, then build_model is used."
   ]
  },
  {
   "cell_type": "code",
   "execution_count": 10,
   "metadata": {},
   "outputs": [
    {
     "name": "stdout",
     "output_type": "stream",
     "text": [
      "{\n",
      "    \"interatomic-potential\": {\n",
      "        \"key\": \"0c2ddffb-e644-4e5c-8e53-9bf722bb5dee\",\n",
      "        \"id\": \"1999--Mishin-Y-Farkas-D-Mehl-M-J-Papaconstantopoulos-D-A--Al\",\n",
      "        \"record-version\": \"2018-08-15\",\n",
      "        \"description\": {\n",
      "            \"citation\": {\n",
      "                \"document-type\": \"journal\",\n",
      "                \"title\": \"Interatomic potentials for monoatomic metals from experimental data and a ...\n"
     ]
    }
   ],
   "source": [
    "# print the first 400 characters of the JSON representation of the record's data model\n",
    "print(entry.build_model().json(indent=4)[:400], '...')"
   ]
  },
  {
   "cell_type": "code",
   "execution_count": 11,
   "metadata": {},
   "outputs": [
    {
     "data": {
      "text/plain": [
       "dict_keys(['name', 'key', 'id', 'recorddate', 'notes', 'fictional', 'elements', 'othername', 'modelname', 'citations', 'implementations'])"
      ]
     },
     "execution_count": 11,
     "metadata": {},
     "output_type": "execute_result"
    }
   ],
   "source": [
    "entry.metadata().keys()"
   ]
  },
  {
   "cell_type": "code",
   "execution_count": 12,
   "metadata": {},
   "outputs": [
    {
     "data": {
      "text/plain": [
       "True"
      ]
     },
     "execution_count": 12,
     "metadata": {},
     "output_type": "execute_result"
    }
   ],
   "source": [
    "entry.valid_xml()"
   ]
  },
  {
   "cell_type": "markdown",
   "metadata": {},
   "source": [
    "## 4. Implementation, Artifact, Parameter and Link classes\n",
    "\n",
    "The Implementation, Artifact, Parameter and Link classes provide representations/interpretations for components of the potential entry.  Despite the fact that they are not associated with full records stored in the database, they are all subclasses of the Record class giving them many of the same common methods as the Potential class:\n",
    "\n",
    "- __html()__ generates HTML content, either rendered or as HTML code based on if the render parameter of the method is True or False.  \n",
    "- __load_model()__ reads in content in the data model format for the record style.\n",
    "- __build_model()__ generates a data model based on the record's attributes\n",
    "- __metadata()__ generates a dictionary of simple metadata fields associated with the record.  The fields in the metadata dictionary correspond to the fields in the DataFrame representation of the records when retrieved using the get methods. \n",
    "- __xsd_filename__ is a tuple of package path and file name associated with the XML schema that the data model adheres to.\n",
    "- __xsd()__ returns the contents of the XML schema that xsd_filename points to.\n",
    "- __valid_xml()__ tests data model contents against the XML schema to determine if it is valid.  If no data model contents are specified, then build_model is used.\n",
    "\n",
    "### 4.1. Implementation class\n",
    "\n",
    "The Implementation class allows for implementation data to be controlled separately from the overall potential entry data.\n",
    "\n",
    "#### 4.1.1 Simple attributes of Implementation\n",
    "\n",
    "- __id__ is the human-readable ID for the implementation. \n",
    "- __key__ is the unique UUID4 key assigned to the implementation.  \n",
    "- __type__ describes the format that the implementation exists as.  For code-specific implementations, this should give both the name of the code and the file/style format. \n",
    "- __status__ indicates the implementation's status: \"active\", \"superseded\" or \"retracted\".  Superseded indicates that a newer active version exists that fixes small issues.  Retracted indicates that the implementation was revealed to be an incorrect implementation of the potential entry.\n",
    "- __date__ is the date associated with the implementation information being created/updated.\n",
    "- __notes__ allows for comments about the implementation to be given.  If included, this should be information associated with the specific implementation, e.g. information about the provenance of parameter files."
   ]
  },
  {
   "cell_type": "code",
   "execution_count": 13,
   "metadata": {},
   "outputs": [],
   "source": [
    "imp = entry.implementations[0]"
   ]
  },
  {
   "cell_type": "code",
   "execution_count": 14,
   "metadata": {},
   "outputs": [
    {
     "name": "stdout",
     "output_type": "stream",
     "text": [
      "id     1999--Mishin-Y--Al--table--ipr1\n",
      "key    e107e2ce-beec-494e-b065-ff26f22eac15\n",
      "type   EAM tabulated functions\n",
      "status active\n",
      "date   2008-01-01\n",
      "notes  These files were provided by Yuri Mishin.\n"
     ]
    }
   ],
   "source": [
    "print('id    ', imp.id)\n",
    "print('key   ', imp.key)\n",
    "print('type  ', imp.type)\n",
    "print('status', imp.status)\n",
    "print('date  ', imp.date)\n",
    "print('notes ', imp.notes)"
   ]
  },
  {
   "cell_type": "markdown",
   "metadata": {},
   "source": [
    "#### 4.1.2. Component classes of Potential\n",
    "\n",
    "- __artifacts__ is a list of Artifact objects assigned to the implementation.  \n",
    "- __parameters__ is a list of Parameter objects assigned to the implementation.\n",
    "- __links__ is a list of Link objects assigned to the implementation."
   ]
  },
  {
   "cell_type": "code",
   "execution_count": 15,
   "metadata": {},
   "outputs": [
    {
     "data": {
      "text/plain": [
       "[<potentials.record.Artifact.Artifact at 0x1bf4610be48>,\n",
       " <potentials.record.Artifact.Artifact at 0x1bf4610b7b8>,\n",
       " <potentials.record.Artifact.Artifact at 0x1bf4610b828>]"
      ]
     },
     "execution_count": 15,
     "metadata": {},
     "output_type": "execute_result"
    }
   ],
   "source": [
    "imp.artifacts"
   ]
  },
  {
   "cell_type": "code",
   "execution_count": 16,
   "metadata": {},
   "outputs": [
    {
     "data": {
      "text/plain": [
       "[]"
      ]
     },
     "execution_count": 16,
     "metadata": {},
     "output_type": "execute_result"
    }
   ],
   "source": [
    "imp.parameters"
   ]
  },
  {
   "cell_type": "code",
   "execution_count": 17,
   "metadata": {},
   "outputs": [
    {
     "data": {
      "text/plain": [
       "[]"
      ]
     },
     "execution_count": 17,
     "metadata": {},
     "output_type": "execute_result"
    }
   ],
   "source": [
    "imp.links"
   ]
  },
  {
   "cell_type": "markdown",
   "metadata": {},
   "source": [
    "New content can be added to the implementation either by directly appending objects of the correct type to these lists, or by using the __add_artifact()__, __add_parameter()__, and __add_link()__ methods of Implementation.  The add methods take the parameters associated with initializing a new object, and then create said object and append it to the appropriate list."
   ]
  },
  {
   "cell_type": "markdown",
   "metadata": {},
   "source": [
    "### 4.2. Artifact, Parameter and Link classes\n",
    "\n",
    "An Artifact object is meant to describe a file downloadable from a URL.  The class has three attributes that can either be set during initialization, or directly retrieved/set to the object:\n",
    "\n",
    "- __filename__ (*str, optional*) The name of the file without path information.\n",
    "- __label__ (*str, optional*) A short description label.\n",
    "- __url__ (*str, optional*) URL for file where downloaded, if available."
   ]
  },
  {
   "cell_type": "code",
   "execution_count": 26,
   "metadata": {},
   "outputs": [
    {
     "name": "stdout",
     "output_type": "stream",
     "text": [
      "F_al.plt\n",
      "F(&rho;):\n",
      "https://www.ctcms.nist.gov/potentials/Download/1999--Mishin-Y-Farkas-D-Mehl-M-J-Papaconstantopoulos-D-A--Al/1/F_al.plt\n"
     ]
    }
   ],
   "source": [
    "artifact = imp.artifacts[0]\n",
    "print(artifact.filename)\n",
    "print(artifact.label)\n",
    "print(artifact.url)"
   ]
  },
  {
   "cell_type": "code",
   "execution_count": 27,
   "metadata": {},
   "outputs": [
    {
     "data": {
      "text/html": [
       "<div xmlns=\"http://www.w3.org/TR/xhtml1/strict\">F(&rho;): <a href=\"https://www.ctcms.nist.gov/potentials/Download/1999--Mishin-Y-Farkas-D-Mehl-M-J-Papaconstantopoulos-D-A--Al/1/F_al.plt\">F_al.plt</a></div>"
      ],
      "text/plain": [
       "<IPython.core.display.HTML object>"
      ]
     },
     "metadata": {},
     "output_type": "display_data"
    }
   ],
   "source": [
    "artifact.html(render=True)"
   ]
  },
  {
   "cell_type": "markdown",
   "metadata": {},
   "source": [
    "### 4.3. Parameter class\n",
    "\n",
    "A Parameter object is meant to represent a parameter value that should be listed in HTML.  The class has three attributes that can either be set during initialization, or directly retrieved/set to the object:\n",
    "\n",
    "- __name__ (*str, optional*) The name of the parameter or string parameter line.\n",
    "- __value__ (*float, optional*) The value of a numerical parameter.\n",
    "- __unit__ (*str, optional*) Units associated with value."
   ]
  },
  {
   "cell_type": "code",
   "execution_count": 28,
   "metadata": {},
   "outputs": [
    {
     "data": {
      "text/html": [
       "<div xmlns=\"http://www.w3.org/TR/xhtml1/strict\">cutoff 5.5 Angstrom</div>"
      ],
      "text/plain": [
       "<IPython.core.display.HTML object>"
      ]
     },
     "metadata": {},
     "output_type": "display_data"
    }
   ],
   "source": [
    "# Example 1: parameter with name, value and unit\n",
    "param = potentials.record.Parameter(name='cutoff', value=5.5, unit='Angstrom')\n",
    "param.html(render=True)"
   ]
  },
  {
   "cell_type": "code",
   "execution_count": 29,
   "metadata": {},
   "outputs": [
    {
     "data": {
      "text/html": [
       "<div xmlns=\"http://www.w3.org/TR/xhtml1/strict\">flush True</div>"
      ],
      "text/plain": [
       "<IPython.core.display.HTML object>"
      ]
     },
     "metadata": {},
     "output_type": "display_data"
    }
   ],
   "source": [
    "# Example 2: parameter with only name for non-numeric or complex values\n",
    "param = potentials.record.Parameter(name='flush True')\n",
    "param.html(render=True)"
   ]
  },
  {
   "cell_type": "markdown",
   "metadata": {},
   "source": [
    "### 4.4. Link class\n",
    "\n",
    "A Link object is meant to represent a hyperlink to external web pages.  The class has three attributes that can either be set during initialization, or directly retrieved/set to the object:\n",
    "\n",
    "- __url__ (*str, optional*) URL for the link.\n",
    "- __label__ (*str, optional*) A short description label.\n",
    "- __linktext__ (*str, optional*) The text for the link, i.e. what gets clicked on."
   ]
  },
  {
   "cell_type": "code",
   "execution_count": 30,
   "metadata": {},
   "outputs": [
    {
     "data": {
      "text/html": [
       "<div xmlns=\"http://www.w3.org/TR/xhtml1/strict\">Go here: <a href=\"https://www.ctcms.nist.gov/potentials/\">Interatomic Potentials Repository</a></div>"
      ],
      "text/plain": [
       "<IPython.core.display.HTML object>"
      ]
     },
     "metadata": {},
     "output_type": "display_data"
    }
   ],
   "source": [
    "link = potentials.record.Link(url='https://www.ctcms.nist.gov/potentials/', label='Go here:', linktext='Interatomic Potentials Repository')\n",
    "link.html(render=True)"
   ]
  },
  {
   "cell_type": "markdown",
   "metadata": {},
   "source": [
    "## 5. Other database operations\n",
    "\n"
   ]
  },
  {
   "cell_type": "markdown",
   "metadata": {},
   "source": [
    "### 5.1. download_potentials()\n",
    "\n",
    "Download potentials from the remote and save them to the local. The method takes the same query parameters as get_potentials() listed above allowing for a subset of potentials to be downloaded.\n",
    "\n",
    "Method parameters (besides the query parameters)\n",
    "\n",
    "- __overwrite__ (*bool, optional*) Flag indicating if any existing local records with names matching remote records are updated (True) or left unchanged (False).  Default value is False.\n",
    "- __verbose__ (*bool, optional*) If True, info messages will be printed during operations.  Default value is False."
   ]
  },
  {
   "cell_type": "code",
   "execution_count": 3,
   "metadata": {},
   "outputs": [
    {
     "name": "stdout",
     "output_type": "stream",
     "text": [
      "Found 16 matching potential_LAMMPS records in remote library\n",
      "0 new records added to local\n",
      "16 existing records skipped\n",
      "27 existing parameter files skipped\n",
      "Found 0 matching potential_LAMMPS_KIM records in remote library\n",
      "0 new records added to local\n"
     ]
    }
   ],
   "source": [
    "potdb.download_lammps_potentials(pair_style='eam', downloadfiles=True, verbose=True)"
   ]
  },
  {
   "cell_type": "markdown",
   "metadata": {},
   "source": [
    "### 5.2. save_potential()\n",
    "\n",
    "Save a potential entry to the local.\n",
    "\n",
    "- __potential__ (*Potential*) The record to save.  \n",
    "- __overwrite__ (*bool, optional*) Indicates what to do when a matching record is found in the local location.  If False (default), then the record is not updated.  If True, then the record is updated.\n",
    "- __verbose__ (*bool, optional*) If True, info messages will be printed during operations.  Default value is False."
   ]
  },
  {
   "cell_type": "code",
   "execution_count": 26,
   "metadata": {},
   "outputs": [
    {
     "name": "stdout",
     "output_type": "stream",
     "text": [
      "Potential record named potential.1999--Mishin-Y-Farkas-D-Mehl-M-J-Papaconstantopoulos-D-A--Al updated in C:\\Users\\lmh1\\Documents\\library\n"
     ]
    }
   ],
   "source": [
    "# Save a potential\n",
    "potdb.save_potential(entry, overwrite=True, verbose=True)"
   ]
  },
  {
   "cell_type": "markdown",
   "metadata": {},
   "source": [
    "### 5.3. upload_potential()\n",
    "\n",
    "Upload a potential entry to the remote.  Requires that the user is logged into the remote and has write permission.\n",
    "\n",
    "- __potential__ (*Potential*) The record to upload.\n",
    "- __workspace__ (*str, optional*) The workspace to assign the record to. If not given, no workspace will be assigned (only accessible to user who submitted it).\n",
    "- __overwrite__ (*bool, optional*) Indicates what to do when a matching record is found in the remote location.  If False (default), then the record is not updated.  If True, then the record is updated.\n",
    "- __verbose__ (*bool, optional*) If True, info messages will be printed during operations.  Default value is False."
   ]
  },
  {
   "cell_type": "code",
   "execution_count": 16,
   "metadata": {},
   "outputs": [],
   "source": [
    "# Initialize a new Database object using personal credentials saved\n",
    "# under the database settings name \"potentials\".\n",
    "potdb = potentials.Database(local=True, remote=True, remote_name='potentials')"
   ]
  },
  {
   "cell_type": "code",
   "execution_count": null,
   "metadata": {},
   "outputs": [],
   "source": [
    "# Upload potential to potentials.nist.gov\n",
    "potdb.upload_potential(entry, workspace='Global Public Workspace', overwrite=True, verbose=True)"
   ]
  },
  {
   "cell_type": "markdown",
   "metadata": {},
   "source": [
    "### 5.4. delete_potential()\n",
    "\n",
    "Deletes a potential entry from the local and/or remote.  Deleting from the remote requires that the user is logged into the remote and has write permission.\n",
    "\n",
    "- __potential__ (*Potential*) The record to delete.  If not given, then style and name are required.\n",
    "- __local__ (*bool, optional*) Indicates if the record will be deleted from the local location. Default value is True.\n",
    "- __remote__ (*bool, optional*) Indicates if the record will be deleted from the remote location. Default value is False.  If True, requires an account for the remote location with write permissions.\n",
    "- __verbose__ (*bool, optional*) If True, info messages will be printed during operations.  Default value is False."
   ]
  },
  {
   "cell_type": "code",
   "execution_count": null,
   "metadata": {},
   "outputs": [],
   "source": [
    "potdb.delete_potential(entry, local=True, remote=True, verbose=True)"
   ]
  }
 ],
 "metadata": {
  "kernelspec": {
   "display_name": "Python 3",
   "language": "python",
   "name": "python3"
  },
  "language_info": {
   "codemirror_mode": {
    "name": "ipython",
    "version": 3
   },
   "file_extension": ".py",
   "mimetype": "text/x-python",
   "name": "python",
   "nbconvert_exporter": "python",
   "pygments_lexer": "ipython3",
   "version": "3.7.3"
  }
 },
 "nbformat": 4,
 "nbformat_minor": 4
}
