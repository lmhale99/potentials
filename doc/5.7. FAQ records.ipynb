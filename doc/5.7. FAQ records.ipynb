{
 "cells": [
  {
   "cell_type": "markdown",
   "id": "4d90654c-4eb7-49cf-8167-44dfcbb23be3",
   "metadata": {},
   "source": [
    "# FAQ records\n",
    "\n",
    "The FAQ records provide frequently asked questions and answers regarding the NIST Interatomic Potentials Repository and interatomic potentials in general.  These are the listings that appear on the \"FAQ\" page.\n",
    "\n",
    "__NOTE:__ Most users will not likely interact with these records, but this Notebook is included for completeness."
   ]
  },
  {
   "cell_type": "code",
   "execution_count": 1,
   "id": "86ae40fc-c51c-415e-87a2-f6e643b105ee",
   "metadata": {},
   "outputs": [
    {
     "name": "stdout",
     "output_type": "stream",
     "text": [
      "Notebook tested for potentials version 0.3.0\n"
     ]
    }
   ],
   "source": [
    "# https://github.com/lmhale99/potentials\n",
    "import potentials\n",
    "\n",
    "print('Notebook tested for potentials version', potentials.__version__)"
   ]
  },
  {
   "cell_type": "code",
   "execution_count": 2,
   "id": "b28aaf51-7c4e-4c1b-8e43-4fb8527d2efa",
   "metadata": {},
   "outputs": [],
   "source": [
    "potdb = potentials.Database(local=True, remote=True)"
   ]
  },
  {
   "cell_type": "markdown",
   "id": "d5b00b2f-def0-4c9e-b19b-27a89d09613b",
   "metadata": {},
   "source": [
    "## 1. Database methods\n",
    "\n",
    "### 1.1. get_faqs(), get_faq(), download_faqs()\n",
    "\n",
    "These methods build upon the Database's corresponding generic record methods with style='FAQ' by defining the specific kwargs query parameters associated with the Potential record style.\n",
    "See the [4. Database class](4. Database class.ipynb) Notebook for details on the generic record methods.\n",
    "\n",
    "Query parameters\n",
    "\n",
    "- __name__ (*str or list*) The record name(s) to parse by.\n",
    "- __question__ (*str or list*) Terms to search for in the question field.\n",
    "- __answer__ (*str or list*) Terms to search for in the answer field."
   ]
  },
  {
   "cell_type": "code",
   "execution_count": 3,
   "id": "dade023c-7194-4867-afec-94db088f3bf9",
   "metadata": {},
   "outputs": [
    {
     "name": "stdout",
     "output_type": "stream",
     "text": [
      "Found 0 matching FAQ records in local library\n",
      "Found 7 matching FAQ records in remote library\n"
     ]
    },
    {
     "data": {
      "text/html": [
       "<div>\n",
       "<style scoped>\n",
       "    .dataframe tbody tr th:only-of-type {\n",
       "        vertical-align: middle;\n",
       "    }\n",
       "\n",
       "    .dataframe tbody tr th {\n",
       "        vertical-align: top;\n",
       "    }\n",
       "\n",
       "    .dataframe thead th {\n",
       "        text-align: right;\n",
       "    }\n",
       "</style>\n",
       "<table border=\"1\" class=\"dataframe\">\n",
       "  <thead>\n",
       "    <tr style=\"text-align: right;\">\n",
       "      <th></th>\n",
       "      <th>name</th>\n",
       "      <th>question</th>\n",
       "      <th>answer</th>\n",
       "    </tr>\n",
       "  </thead>\n",
       "  <tbody>\n",
       "    <tr>\n",
       "      <th>0</th>\n",
       "      <td>faq</td>\n",
       "      <td>What is the purpose of this project?</td>\n",
       "      <td>The purpose of this project is to provide a re...</td>\n",
       "    </tr>\n",
       "    <tr>\n",
       "      <th>1</th>\n",
       "      <td>formats</td>\n",
       "      <td>What are the potential formats?</td>\n",
       "      <td>&lt;b&gt;Due to the range of formats, we are not abl...</td>\n",
       "    </tr>\n",
       "    <tr>\n",
       "      <th>2</th>\n",
       "      <td>graphs</td>\n",
       "      <td>I've downloaded a file and plotted it, but the...</td>\n",
       "      <td>There can be several reasons for this.  One is...</td>\n",
       "    </tr>\n",
       "    <tr>\n",
       "      <th>3</th>\n",
       "      <td>lammps</td>\n",
       "      <td>Where can I download the LAMMPS molecular dyna...</td>\n",
       "      <td>&lt;a href=\"http://lammps.sandia.gov\" class=\"exte...</td>\n",
       "    </tr>\n",
       "    <tr>\n",
       "      <th>4</th>\n",
       "      <td>manuscript</td>\n",
       "      <td>I have included the NIST repository website ad...</td>\n",
       "      <td>Please send an email to potentials@nist.gov wh...</td>\n",
       "    </tr>\n",
       "    <tr>\n",
       "      <th>5</th>\n",
       "      <td>ref</td>\n",
       "      <td>I have downloaded an interatomic potential and...</td>\n",
       "      <td>In addition to the citation information for th...</td>\n",
       "    </tr>\n",
       "    <tr>\n",
       "      <th>6</th>\n",
       "      <td>submit</td>\n",
       "      <td>I have developed a new interatomic potential, ...</td>\n",
       "      <td>Send the potential to potentials@nist.gov with...</td>\n",
       "    </tr>\n",
       "  </tbody>\n",
       "</table>\n",
       "</div>"
      ],
      "text/plain": [
       "         name                                           question  \\\n",
       "0         faq               What is the purpose of this project?   \n",
       "1     formats                    What are the potential formats?   \n",
       "2      graphs  I've downloaded a file and plotted it, but the...   \n",
       "3      lammps  Where can I download the LAMMPS molecular dyna...   \n",
       "4  manuscript  I have included the NIST repository website ad...   \n",
       "5         ref  I have downloaded an interatomic potential and...   \n",
       "6      submit  I have developed a new interatomic potential, ...   \n",
       "\n",
       "                                              answer  \n",
       "0  The purpose of this project is to provide a re...  \n",
       "1  <b>Due to the range of formats, we are not abl...  \n",
       "2  There can be several reasons for this.  One is...  \n",
       "3  <a href=\"http://lammps.sandia.gov\" class=\"exte...  \n",
       "4  Please send an email to potentials@nist.gov wh...  \n",
       "5  In addition to the citation information for th...  \n",
       "6  Send the potential to potentials@nist.gov with...  "
      ]
     },
     "execution_count": 3,
     "metadata": {},
     "output_type": "execute_result"
    }
   ],
   "source": [
    "faqs, faqs_df = potdb.get_faqs(verbose=True, return_df=True)\n",
    "faqs_df"
   ]
  },
  {
   "cell_type": "markdown",
   "id": "c9c532ed-2445-4f86-b2b9-6f32d507e586",
   "metadata": {},
   "source": [
    "### 1.2. save_faq(), upload_faq(), delete_faq()\n",
    "\n",
    "These methods are identical to calling the Database's corresponding generic record methods with style='FAQ'.  See the [4. Database class](4. Database class.ipynb) Notebook for details on the generic record methods."
   ]
  },
  {
   "cell_type": "markdown",
   "id": "20254da9-876a-466c-be75-c278a15b3b83",
   "metadata": {},
   "source": [
    "## 2. FAQ class"
   ]
  },
  {
   "cell_type": "code",
   "execution_count": 4,
   "id": "432b0040-d5dd-415e-a7ca-7d25e7e0929c",
   "metadata": {},
   "outputs": [],
   "source": [
    "faq = faqs[0]"
   ]
  },
  {
   "cell_type": "markdown",
   "id": "267eb2aa-02e5-4662-9541-ddf41d766a3e",
   "metadata": {},
   "source": [
    "### 2.1. Python representation\n",
    "\n",
    "Style-specific methods and attributes:\n",
    "\n",
    "- __question__ (*str*) The question.\n",
    "- __answer__ (*str*) The answer."
   ]
  },
  {
   "cell_type": "code",
   "execution_count": 5,
   "id": "3a222f85-3018-4899-b36c-bcc63d430f93",
   "metadata": {},
   "outputs": [
    {
     "data": {
      "text/plain": [
       "'What is the purpose of this project?'"
      ]
     },
     "execution_count": 5,
     "metadata": {},
     "output_type": "execute_result"
    }
   ],
   "source": [
    "faq.question"
   ]
  },
  {
   "cell_type": "code",
   "execution_count": 6,
   "id": "3ce4961a-305b-4f88-adc5-15c99673e91e",
   "metadata": {},
   "outputs": [
    {
     "data": {
      "text/plain": [
       "'The purpose of this project is to provide a repository of interatomic potentials for atomistic simulations (e.g. molecular dynamics) with comparison tools and reference experimental and ab-initio data in order to facilitate the evaluation of these potentials for particular applications. Our goal is not to judge that any particular potential is \"the best\" because the best interatomic potential may depend on the problem being considered. For example, some interatomic potentials which have been fit only to the properties of solid phases may model solid surface properties better than one fit with solid and liquid properties. However, the second potential will probably better represent properties which have a strong liquid contribution (e.g. crystal-melt interfacial properties). Additionally, we are not limiting the repository to a single class of material (e.g. metals), interatomic potential format (e.g. Embedded-Atom Method), or software package. As we obtain interatomic potentials for other materials or in other formats, we will include them with proper website modifications.'"
      ]
     },
     "execution_count": 6,
     "metadata": {},
     "output_type": "execute_result"
    }
   ],
   "source": [
    "faq.answer"
   ]
  },
  {
   "cell_type": "markdown",
   "id": "76287781-3c50-42cb-9e9b-cca6f26b0c34",
   "metadata": {},
   "source": [
    "### 2.2. Data Model representation\n",
    "\n",
    "Style-specific notes:\n",
    "\n",
    "- The kwargs that mongoquery and cdcsquery support are the same as the query kwargs listed above for the database methods.\n",
    "  "
   ]
  },
  {
   "cell_type": "code",
   "execution_count": 7,
   "id": "b4c412a1-cccd-4d82-a71d-8c76034c2834",
   "metadata": {},
   "outputs": [
    {
     "data": {
      "text/html": [
       "<div xmlns=\"http://www.w3.org/TR/xhtml1/strict\"><b>Question: What is the purpose of this project?</b><br/>Answer: The purpose of this project is to provide a repository of interatomic potentials for atomistic simulations (e.g. molecular dynamics) with comparison tools and reference experimental and ab-initio data in order to facilitate the evaluation of these potentials for particular applications. Our goal is not to judge that any particular potential is \"the best\" because the best interatomic potential may depend on the problem being considered. For example, some interatomic potentials which have been fit only to the properties of solid phases may model solid surface properties better than one fit with solid and liquid properties. However, the second potential will probably better represent properties which have a strong liquid contribution (e.g. crystal-melt interfacial properties). Additionally, we are not limiting the repository to a single class of material (e.g. metals), interatomic potential format (e.g. Embedded-Atom Method), or software package. As we obtain interatomic potentials for other materials or in other formats, we will include them with proper website modifications.</div>"
      ],
      "text/plain": [
       "<IPython.core.display.HTML object>"
      ]
     },
     "metadata": {},
     "output_type": "display_data"
    }
   ],
   "source": [
    "faq.html(render=True)"
   ]
  },
  {
   "cell_type": "markdown",
   "id": "537d9435-e428-4b74-a003-1e6234e3f0d8",
   "metadata": {},
   "source": [
    "### 2.3. Metadata representation\n",
    "\n",
    "Style-specific notes:\n",
    "\n",
    "- The kwargs that pandasfilter supports are the same as the query kwargs listed above for the database methods."
   ]
  },
  {
   "cell_type": "code",
   "execution_count": 8,
   "id": "7fb360be-7815-45fb-ba7b-7230fb5cacd2",
   "metadata": {},
   "outputs": [
    {
     "data": {
      "text/plain": [
       "{'name': 'faq',\n",
       " 'question': 'What is the purpose of this project?',\n",
       " 'answer': 'The purpose of this project is to provide a repository of interatomic potentials for atomistic simulations (e.g. molecular dynamics) with comparison tools and reference experimental and ab-initio data in order to facilitate the evaluation of these potentials for particular applications. Our goal is not to judge that any particular potential is \"the best\" because the best interatomic potential may depend on the problem being considered. For example, some interatomic potentials which have been fit only to the properties of solid phases may model solid surface properties better than one fit with solid and liquid properties. However, the second potential will probably better represent properties which have a strong liquid contribution (e.g. crystal-melt interfacial properties). Additionally, we are not limiting the repository to a single class of material (e.g. metals), interatomic potential format (e.g. Embedded-Atom Method), or software package. As we obtain interatomic potentials for other materials or in other formats, we will include them with proper website modifications.'}"
      ]
     },
     "execution_count": 8,
     "metadata": {},
     "output_type": "execute_result"
    }
   ],
   "source": [
    "faq.metadata()"
   ]
  }
 ],
 "metadata": {
  "kernelspec": {
   "display_name": "Python 3",
   "language": "python",
   "name": "python3"
  },
  "language_info": {
   "codemirror_mode": {
    "name": "ipython",
    "version": 3
   },
   "file_extension": ".py",
   "mimetype": "text/x-python",
   "name": "python",
   "nbconvert_exporter": "python",
   "pygments_lexer": "ipython3",
   "version": "3.7.3"
  }
 },
 "nbformat": 4,
 "nbformat_minor": 5
}
