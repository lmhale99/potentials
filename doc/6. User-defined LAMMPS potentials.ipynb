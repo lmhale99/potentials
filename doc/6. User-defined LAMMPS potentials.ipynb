{
 "cells": [
  {
   "cell_type": "markdown",
   "metadata": {},
   "source": [
    "# User-defined LAMMPS potentials\n",
    "\n",
    "This Notebook provides details and demonstrations about creating PotentialLAMMPS objects for potentials not currently in the database.  This allows for users to easily integrate their personal LAMMPS potentials into the potentials database or any other tools that use the potentials package.\n",
    "\n",
    "_Version 0.4 update_: Starting with version 0.4, the process of building new PotentialLAMMPS objects has been greatly streamlined by merging the building tools into the class itself and making the class attributes modifiable as well.  This Notebook has been completely updated to reflect these changes. "
   ]
  },
  {
   "cell_type": "code",
   "execution_count": 1,
   "metadata": {},
   "outputs": [
    {
     "name": "stdout",
     "output_type": "stream",
     "text": [
      "Notebook tested for potentials version 0.4.0\n"
     ]
    }
   ],
   "source": [
    "from pathlib import Path\n",
    "import potentials\n",
    "from potentials.record.PotentialLAMMPS import PotentialLAMMPS\n",
    "\n",
    "print('Notebook tested for potentials version', potentials.__version__)"
   ]
  },
  {
   "cell_type": "markdown",
   "metadata": {},
   "source": [
    "## 1. Defining a new LAMMPS potential\n",
    "\n",
    "The PotentialLAMMPS objects and the associated potential_LAMMPS records are designed to collect metadata for a LAMMPS implementation of a potential.  This metadata broadly falls into three categories:\n",
    "\n",
    "1. Information detailing how to dynamically generate the LAMMPS command lines for the potential.\n",
    "2. Metadata for storing the implementation information in a potentials Database.\n",
    "3. Additional metadata for further characterization and identification.\n",
    "\n",
    "In general, the #1 category is all that is needed for a user-defined LAMMPS potential to be integrated into most tools and to run a LAMMPS simulation with the potential.  However, at least some of the #2 category must be defined if you wish to save the information to a local database allowing full integration of the user-defined LAMMPS potential with all of the potentials package's database tools.  Finally, the #3 category is icing on the cake which mostly corresponds to releasing the record publicly.\n",
    "\n",
    "The primary challenge with the #1 category is that the LAMMPS pair_coeff lines do not have a common universal format across all of the pair_styles.  To help address this, there are PotentialLAMMPS class methods that help automatically build the correct pair_coeff content for many of the pair_styles. \n",
    "\n",
    "### 1.1. Common LAMMPS generation parameters\n",
    "\n",
    "These are the parameters for the #1 category that are common to all pair_styles and initialization methods.\n",
    "\n",
    "- __pair_style__ (*str*) The LAMMPS pair_style option.\n",
    "- __units__ (*str*) The LAMMPS option option. Default value is 'metal'.\n",
    "- __atom_style__ (*str*) The LAMMPS atom_style option. Default value is 'atomic'.\n",
    "- __symbols__ (*str or list*) The atomic model symbols defined by the potential.  Optional if the symbol tags match elemental tags and the elemental tags are given.\n",
    "- __elements__ (*str or list*) The elemental symbols associated with each symbol model, if any.\n",
    "- __masses__ (*float or list*) The atomic masses to use for each symbol model. Optional if elements are given a the masses will default to standard atomic mass values.\n",
    "- __charges__ (*float or list*) Constant atomic charges to assign to each symbol model.  Default values are zero. Note that this is only used for ionic potentials with constant charges and not for variable charge potentials. Default values are 0.0 for each symbol.  the object has been created."
   ]
  },
  {
   "cell_type": "markdown",
   "metadata": {},
   "source": [
    "### 1.2. paramfile()\n",
    "\n",
    "The PotentialLAMMPS.paramfile() method is for the most common format for potentials that rely on parameter files.  It is used by nearly all potentials that read in a single parameter file and associate atom types to model symbols.  This will work for any potential that has a single pair_coeff line of the following format\n",
    "\n",
    "    pair_coeff * * <paramfile> <list of model symbols>\n",
    "\n",
    "Method-specific parameters\n",
    "\n",
    "- __paramfile__ (*str*) The name of the potential parameter file."
   ]
  },
  {
   "cell_type": "code",
   "execution_count": 2,
   "metadata": {},
   "outputs": [
    {
     "name": "stdout",
     "output_type": "stream",
     "text": [
      "\n",
      "pair_style eam/alloy \n",
      "pair_coeff * * Al.eam.alloy Al\n",
      "\n",
      "mass 1 26.9815385\n",
      "\n",
      "\n"
     ]
    }
   ],
   "source": [
    "# Define potential for Al.eam.alloy\n",
    "potential = PotentialLAMMPS.paramfile(pair_style='eam/alloy', elements='Al', paramfile='Al.eam.alloy')\n",
    "\n",
    "print(potential.pair_info())"
   ]
  },
  {
   "cell_type": "markdown",
   "metadata": {},
   "source": [
    "### 1.3. meam()\n",
    "\n",
    "The PotentialLAMMPS.meam() method is for pair styles like meam that use two types of parameter files: a general library file and a model-specific parameter file.  This will work for any potential that has a single pair_coeff line of the following format\n",
    "\n",
    "    pair_coeff * * <libfile> <list of libfile symbols> <paramfile> <list of model symbols>\n",
    "\n",
    "Method-specific parameters\n",
    "\n",
    "- __libfile__ (*str*) The name of the potential library file.\n",
    "- __paramfile__ (*str, optional*) The name of the potential parameter file. Might not be used by older MEAM potentials.\n",
    "\n",
    "*Note*: The MEAM parameter files for alloy (multi-element) models need to know which particle models to associate their parameters with.  As such, the first list of symbols in the pair_coeff line must be in a specific order.  The builder will use the order of symbols/elements parameters as given."
   ]
  },
  {
   "cell_type": "code",
   "execution_count": 3,
   "metadata": {},
   "outputs": [
    {
     "name": "stdout",
     "output_type": "stream",
     "text": [
      "\n",
      "pair_style meam \n",
      "pair_coeff * * lib.meam Al Al.meam Al\n",
      "\n",
      "mass 1 26.9815385\n",
      "\n",
      "\n"
     ]
    }
   ],
   "source": [
    "# Define MEAM potential using the lib.meam and Al.meam parameter file\n",
    "potential = PotentialLAMMPS.meam(pair_style='meam', elements='Al', libfile='lib.meam', paramfile='Al.meam')\n",
    "\n",
    "print(potential.pair_info())"
   ]
  },
  {
   "cell_type": "code",
   "execution_count": 4,
   "metadata": {},
   "outputs": [
    {
     "name": "stdout",
     "output_type": "stream",
     "text": [
      "\n",
      "pair_style meam \n",
      "pair_coeff * * lib.meam Al NULL Al\n",
      "\n",
      "mass 1 26.9815385\n",
      "\n",
      "\n"
     ]
    }
   ],
   "source": [
    "# Define MEAM potential using the lib.meam only\n",
    "potential = PotentialLAMMPS.meam(pair_style='meam', elements='Al', libfile='lib.meam')\n",
    "\n",
    "print(potential.pair_info())"
   ]
  },
  {
   "cell_type": "markdown",
   "metadata": {},
   "source": [
    "### 1.4. eam()\n",
    "\n",
    "The PotentialLAMMPS.eam() method is for the original eam pair_style which uses a unique format due to it defining elemental models in parameter files and using a universal mixing function.  This constructs pair_coeff lines of the format\n",
    "\n",
    "    pair_coeff 1 1 <paramfiles[0]>\n",
    "    pair_coeff 2 2 <paramfiles[1]>\n",
    "    ...\n",
    "\n",
    "Method-specific parameters\n",
    "\n",
    "- __paramfiles__ (*list*) The names of the elemental potential parameter files. There should be exactly one parameter file for each symbol model."
   ]
  },
  {
   "cell_type": "code",
   "execution_count": 5,
   "metadata": {},
   "outputs": [
    {
     "name": "stdout",
     "output_type": "stream",
     "text": [
      "\n",
      "pair_style eam \n",
      "pair_coeff 1 1 Al.eam\n",
      "pair_coeff 2 2 Cu.eam\n",
      "\n",
      "mass 1 26.9815385\n",
      "mass 2 63.546\n",
      "\n",
      "\n"
     ]
    }
   ],
   "source": [
    "# Define potential using the Al.eam and Cu.eam parameter files\n",
    "potential = PotentialLAMMPS.eam(pair_style='eam', elements=['Al', 'Cu'], paramfiles=['Al.eam', 'Cu.eam'])\n",
    "\n",
    "print(potential.pair_info())"
   ]
  },
  {
   "cell_type": "markdown",
   "metadata": {},
   "source": [
    "### 1.5. eim()\n",
    "\n",
    "The PotentialLAMMPS.eim() method is for the eim pair_style, which has the following pair_coeff format\n",
    "\n",
    "    pair_coeff * * <list of paramfile symbols> <paramfile> <list of model symbols>\n",
    "\n",
    "Method-specific parameters\n",
    "\n",
    "- __paramfile__ (*str*) The name of the potential parameter file.\n",
    "\n",
    "*Note*: The EIM parameter files for alloy (multi-element) models need to know which particle models to associate their parameters with.  As such, the first list of symbols in the pair_coeff line must be in a specific order.  The builder will use the order of symbols/elements parameters as given."
   ]
  },
  {
   "cell_type": "code",
   "execution_count": 6,
   "metadata": {},
   "outputs": [
    {
     "name": "stdout",
     "output_type": "stream",
     "text": [
      "\n",
      "pair_style eim \n",
      "pair_coeff * * Al Cu AlCu.eim Al Cu\n",
      "\n",
      "mass 1 26.9815385\n",
      "mass 2 63.546\n",
      "\n",
      "\n"
     ]
    }
   ],
   "source": [
    "potential = PotentialLAMMPS.eim(pair_style='eim', elements=['Al', 'Cu'], paramfile='AlCu.eim')\n",
    "\n",
    "print(potential.pair_info())"
   ]
  },
  {
   "cell_type": "markdown",
   "metadata": {},
   "source": [
    "### 1.6. Pair potentials\n",
    "\n",
    "LAMMPS pair_styles for pair potentials tend to be of the following format, where each pair_coeff line defines the potential parameters for interactions between two atom type species \n",
    "\n",
    "    pair_coeff 1 1 <a_11> <b_11> ...\n",
    "    pair_coeff 1 2 <a_12> <b_12> ...\n",
    "    ...\n",
    "\n",
    "Defining a PotentialLAMMPS object for such potentials can be done in three steps:\n",
    "\n",
    "1. Initialize the PotentialLAMMPS object and define the common parameters listed in 1.1.\n",
    "2. Use add_pair_coeff() to create a new pair_coeff line for a given combination of symbol models.\n",
    "3. Add all necessary terms to each pair_coeff line.\n",
    "\n",
    "One thing to note with this is that each pair_coeff defines the interaction using symbol tags rather than integer atomic types.  This allows for the dynamic matching of atom types to the symbol tags when the LAMMPS command lines are built in a fashion similar to the parameter file-based variations above."
   ]
  },
  {
   "cell_type": "code",
   "execution_count": 7,
   "metadata": {},
   "outputs": [
    {
     "name": "stdout",
     "output_type": "stream",
     "text": [
      "\n",
      "pair_style lj/cut \n",
      "pair_coeff 1 1 12.14 2.9\n",
      "pair_coeff 1 2 51.7 9.9\n",
      "pair_coeff 2 2 19.4 4.2\n",
      "\n",
      "mass 1 26.9815385\n",
      "mass 2 63.546\n",
      "\n",
      "\n"
     ]
    }
   ],
   "source": [
    "# Define pair potential with elements Al and Cu\n",
    "potential = PotentialLAMMPS(pair_style='lj/cut', elements=['Al', 'Cu'])\n",
    "\n",
    "# Specify coefficients for each unique interaction (Note: values are junk NOT REAL POTENTIALS!)\n",
    "potential.add_pair_coeff(interaction=['Al', 'Al'])\n",
    "potential.pair_coeffs[0].add_term('parameter', 12.14)\n",
    "potential.pair_coeffs[0].add_term('parameter', 2.9)\n",
    "\n",
    "potential.add_pair_coeff(interaction=['Cu', 'Al'])\n",
    "potential.pair_coeffs[1].add_term('parameter', 51.7)\n",
    "potential.pair_coeffs[1].add_term('parameter', 9.9)\n",
    "\n",
    "potential.add_pair_coeff(interaction=['Cu', 'Cu'])\n",
    "potential.pair_coeffs[2].add_term('parameter', 19.4)\n",
    "potential.pair_coeffs[2].add_term('parameter', 4.2)\n",
    "\n",
    "print(potential.pair_info())"
   ]
  },
  {
   "cell_type": "markdown",
   "metadata": {},
   "source": [
    "### 1.7 Other potentials, extra options\n",
    "\n",
    "While the above descriptions capture the vast majority of pair_styles, many potentials require more custom definitions.  This section specifies how to properly build the metadata for generating the LAMMPS command lines for any arbitrary potential.\n",
    "\n",
    "#### 1.7.1. allsymbols option\n",
    "\n",
    "The allsymbols option is a boolean value that can be set during initialization or anytime after and is required by some pair_styles.\n",
    "\n",
    "- If allsymbols is False (default), then the generated LAMMPS command lines will only be for the symbol models that are actively tied to an atom type in the atomic system.\n",
    "- If allsymbols is True, then the generated LAMMPS command lines will include all symbol models defined by the potential regardless of if they are actively tied to an atom type in the atomic system. The unused symbol models will be associated with atom types beyond what is specified as being part of the system.  __Caution__: when defining your system in LAMMPS, make sure that the total atom types matches the full number being defined, not just those being used. This is done either during the create_box command, or as value in a data configuration file being read in with read_data.  "
   ]
  },
  {
   "cell_type": "code",
   "execution_count": 8,
   "metadata": {},
   "outputs": [
    {
     "name": "stdout",
     "output_type": "stream",
     "text": [
      "\n",
      "pair_style eam/alloy \n",
      "pair_coeff * * AlCuNi.eam.alloy Al\n",
      "\n",
      "mass 1 26.9815385\n",
      "\n",
      "\n"
     ]
    }
   ],
   "source": [
    "# Demonstrate the default nature of a multi-element potential applied to a system with only one element\n",
    "potential = PotentialLAMMPS.paramfile(pair_style='eam/alloy', elements=['Al', 'Cu', 'Ni'], paramfile='AlCuNi.eam.alloy')\n",
    "print(potential.pair_info('Al'))"
   ]
  },
  {
   "cell_type": "code",
   "execution_count": 9,
   "metadata": {},
   "outputs": [
    {
     "name": "stdout",
     "output_type": "stream",
     "text": [
      "\n",
      "pair_style eam/alloy \n",
      "pair_coeff * * AlCuNi.eam.alloy Al Cu Ni\n",
      "\n",
      "mass 1 26.9815385\n",
      "mass 2 63.546\n",
      "mass 3 58.6934\n",
      "\n",
      "\n"
     ]
    }
   ],
   "source": [
    "# Demonstrate how setting allsymbols will include all elements even when not used\n",
    "potential = PotentialLAMMPS.paramfile(pair_style='eam/alloy', elements=['Al', 'Cu', 'Ni'], paramfile='AlCuNi.eam.alloy', allsymbols=True)\n",
    "print(potential.pair_info('Al'))"
   ]
  },
  {
   "cell_type": "markdown",
   "metadata": {},
   "source": [
    "#### 1.7.2. Additional pair_style terms and command lines\n",
    "\n",
    "The pair_style value should be simply the primary pair_style option for the potential making the option queryable. However, some pair_styles have extra settings that are specified in the LAMMPS pair_style command line after the primary option is specified.  Additionally, some potentials require extra LAMMPS commands to modify other settings or add additional fixes. Both of these are managed by CommandLine objects that collect the command line terms and classify them all according to a set of pre-defined types.\n",
    "\n",
    "The supported command line term types are:\n",
    "- __option__ is the most general term and has a string value.\n",
    "- __parameter__ is for numerical terms allowing them to be differentiated from the more general options.\n",
    "- __file__ is for terms that point to a file or a directory.  The value here should be just the file name. When the LAMMPS commands are generated, all file terms will be converted to full paths with the pot_dir value as the parent directory. \n",
    "- __symbols__ is a boolean flag setting that when True will generate a list of the symbol models that correspond to the integer atom types. This is used by pair_coeff lines (see below).\n",
    "- __symbolsList__ is a boolean flag setting that when True will generate a list of all of the unique symbol models being used.  This type is likely obsolete and should be depreciated.\n",
    "\n",
    "__PotentialLAMMPS.pair_style_terms__ is a CommandLine object that manages the extra terms that appear on the pair_style line."
   ]
  },
  {
   "cell_type": "code",
   "execution_count": 10,
   "metadata": {},
   "outputs": [
    {
     "name": "stdout",
     "output_type": "stream",
     "text": [
      "\n",
      "pair_style lj/cut 2.5\n",
      "pair_coeff * * 1.0 1.0\n",
      "\n",
      "mass 1 196.966569\n",
      "\n",
      "\n"
     ]
    }
   ],
   "source": [
    "potential = PotentialLAMMPS(pair_style='lj/cut', elements=['Au'])\n",
    "\n",
    "# Add cutoff value to the pair_style line\n",
    "potential.pair_style_terms.add_term('parameter', 2.5)\n",
    "\n",
    "# Add a pair_coeff for all atom types\n",
    "potential.add_pair_coeff()\n",
    "potential.pair_coeffs[0].add_term('parameter', 1)\n",
    "potential.pair_coeffs[0].add_term('parameter', 1)\n",
    "\n",
    "print(potential.pair_info())"
   ]
  },
  {
   "cell_type": "markdown",
   "metadata": {},
   "source": [
    "__PotentialLAMMPS.Commands__ is a list of CommandLine objects, with each object representing an additional command line that should be used.  "
   ]
  },
  {
   "cell_type": "code",
   "execution_count": 11,
   "metadata": {},
   "outputs": [
    {
     "name": "stdout",
     "output_type": "stream",
     "text": [
      "\n",
      "pair_style lj/cut 2.5\n",
      "pair_coeff * * 1.0 1.0\n",
      "\n",
      "mass 1 196.966569\n",
      "\n",
      "pair_modify shift yes\n",
      "\n"
     ]
    }
   ],
   "source": [
    "# add_command() creates a new command line for the above potential\n",
    "potential.add_command()\n",
    "\n",
    "# Once created, terms can be added.  Here, a single \"option\" is used to represent the full command, but it could be separated into multiple terms as shown above. \n",
    "potential.commands[0].add_term('option', 'pair_modify shift yes')\n",
    "\n",
    "print(potential.pair_info())"
   ]
  },
  {
   "cell_type": "markdown",
   "metadata": {},
   "source": [
    "#### 1.7.3. pair_coeff lines\n",
    "\n",
    "The pair_coeff lines are managed by objects of the PairCoeffLine class, which is a subclass of CommandLine. In particular, PairCoeffLine allows for the defining of the command line terms and links them to an __interaction__ list of symbol models. This process largely follows what is shown above in sections 1.6. and 1.7.2.\n",
    "\n",
    "The rules for the number of symbols to include in the interaction list depend on the type of potential and the interaction it represents.\n",
    "\n",
    "- If no interaction symbols are given, the pair_coeff line is assumed to be applied to all symbols, i.e. the line will use the * * wildcards.  \n",
    "- For pair potentials, each interaction should have exactly two symbols indicating the two atom models involved.\n",
    "- For the classic eam pair_style, each interaction should be two identical symbols.\n",
    "- For hybrid styles, the interaction list should be the symbols associated with that component of the potential. The missing types will be automatically filled in with NULL values as needed."
   ]
  },
  {
   "cell_type": "code",
   "execution_count": 12,
   "metadata": {},
   "outputs": [
    {
     "name": "stdout",
     "output_type": "stream",
     "text": [
      "\n",
      "pair_style hybrid/overlay zbl 4 4.8 snap\n",
      "pair_coeff * * zbl 73.0 73.0\n",
      "pair_coeff * * snap Ta06A.snapcoeff Ta06A.snapcparam Ta\n",
      "\n",
      "mass 1 180.94788\n",
      "\n",
      "\n"
     ]
    }
   ],
   "source": [
    "# Hybrid potential example #1\n",
    "\n",
    "# Define with main pair_style option\n",
    "potential = PotentialLAMMPS(pair_style='hybrid/overlay', elements='Ta')\n",
    "\n",
    "# Add extra pair_style terms - separation into terms is arbitrary but done here for clarity\n",
    "potential.pair_style_terms.add_term('option', 'zbl 4 4.8')\n",
    "potential.pair_style_terms.add_term('option', 'snap')\n",
    "\n",
    "# Define the zbl pair_coeff line\n",
    "potential.add_pair_coeff()\n",
    "potential.pair_coeffs[0].add_term('option', 'zbl')\n",
    "potential.pair_coeffs[0].add_term('parameter', 73)\n",
    "potential.pair_coeffs[0].add_term('parameter', 73)\n",
    "\n",
    "# Define the snap pair_coeff line\n",
    "potential.add_pair_coeff()\n",
    "potential.pair_coeffs[1].add_term('option', 'snap')\n",
    "potential.pair_coeffs[1].add_term('file', 'Ta06A.snapcoeff')\n",
    "potential.pair_coeffs[1].add_term('file', 'Ta06A.snapcparam')\n",
    "potential.pair_coeffs[1].add_term('symbols', True)\n",
    "\n",
    "\n",
    "print(potential.pair_info())"
   ]
  },
  {
   "cell_type": "code",
   "execution_count": 13,
   "metadata": {},
   "outputs": [
    {
     "name": "stdout",
     "output_type": "stream",
     "text": [
      "\n",
      "pair_style hybrid lj/cut 2.5 tersoff tersoff\n",
      "pair_coeff 1 2 lj/cut 1.0 1.5\n",
      "pair_coeff * * tersoff Si.tersoff Si NULL\n",
      "pair_coeff * * tersoff C.tersoff NULL C\n",
      "\n",
      "mass 1 28.085\n",
      "mass 2 12.0106\n",
      "\n",
      "\n"
     ]
    }
   ],
   "source": [
    "# Hybrid potential example #2\n",
    "\n",
    "# Define with main pair_style option\n",
    "potential = PotentialLAMMPS(pair_style='hybrid', elements=['Si', 'C'])\n",
    "\n",
    "# Add extra pair_style terms - separation into terms is arbitrary but done here for clarity\n",
    "potential.pair_style_terms.add_term('option', 'lj/cut 2.5')\n",
    "potential.pair_style_terms.add_term('option', 'tersoff')\n",
    "potential.pair_style_terms.add_term('option', 'tersoff')\n",
    "\n",
    "# Define the lj/cut pair_coeff line\n",
    "potential.add_pair_coeff(interaction=['Si', 'C'])\n",
    "potential.pair_coeffs[0].add_term('option', 'lj/cut')\n",
    "potential.pair_coeffs[0].add_term('parameter', 1.0)\n",
    "potential.pair_coeffs[0].add_term('parameter', 1.5)\n",
    "\n",
    "# Define the first tersoff pair_coeff line\n",
    "potential.add_pair_coeff(interaction='Si')\n",
    "potential.pair_coeffs[1].add_term('option', 'tersoff')\n",
    "potential.pair_coeffs[1].add_term('file', 'Si.tersoff')\n",
    "potential.pair_coeffs[1].add_term('symbols', True)\n",
    "\n",
    "# Define the second tersoff pair_coeff line\n",
    "potential.add_pair_coeff(interaction='C')\n",
    "potential.pair_coeffs[2].add_term('option', 'tersoff')\n",
    "potential.pair_coeffs[2].add_term('file', 'C.tersoff')\n",
    "potential.pair_coeffs[2].add_term('symbols', True)\n",
    "\n",
    "print(potential.pair_info())"
   ]
  },
  {
   "cell_type": "markdown",
   "metadata": {},
   "source": [
    "### 1.8. Saving the potential parameter information\n",
    "\n",
    "After setting the content to define the potential information, you can call build_model() to generate the data model representation of the content and then save it as either JSON or XML. This content can then be read back in to instantly define the potential."
   ]
  },
  {
   "cell_type": "code",
   "execution_count": 14,
   "metadata": {},
   "outputs": [
    {
     "name": "stdout",
     "output_type": "stream",
     "text": [
      "True\n"
     ]
    }
   ],
   "source": [
    "# build_model builds the model and returns the contents. The built contents can also be accessed later using the PotentialLAMMPS.model attribute\n",
    "model = potential.build_model()\n",
    "print(model == potential.model)"
   ]
  },
  {
   "cell_type": "code",
   "execution_count": 15,
   "metadata": {},
   "outputs": [],
   "source": [
    "# Save to a json file\n",
    "with open('mypot.json', 'w') as f:\n",
    "    model.json(fp=f, indent=4)"
   ]
  },
  {
   "cell_type": "code",
   "execution_count": 16,
   "metadata": {},
   "outputs": [
    {
     "name": "stdout",
     "output_type": "stream",
     "text": [
      "\n",
      "pair_style hybrid lj/cut 2.5 tersoff tersoff\n",
      "pair_coeff 1 2 lj/cut 1.0 1.5\n",
      "pair_coeff * * tersoff Si.tersoff Si NULL\n",
      "pair_coeff * * tersoff C.tersoff NULL C\n",
      "\n",
      "mass 1 28.085\n",
      "mass 2 12.0106\n",
      "\n",
      "\n"
     ]
    }
   ],
   "source": [
    "# Initialize a new potential object from the JSON contents\n",
    "potential2 = PotentialLAMMPS(model='mypot.json')\n",
    "\n",
    "print(potential2.pair_info())"
   ]
  },
  {
   "cell_type": "markdown",
   "metadata": {},
   "source": [
    "## 2. Database metadata\n",
    "\n",
    "The above allows you to define a LAMMPS potential implementation and to save the content for later. With a few more parameters, you can set it up so that your user-defined LAMMPS potentials can be integrated into the local potentials database and then be loaded and queried alongside the potentials from NIST.\n",
    "\n",
    "Additional parameters supporting database \n",
    "\n",
    "- __id__ (*str, optional*) A human-readable identifier to name the LAMMPS potential implementation.\n",
    "- __key__ (*str, optional*) A UUID4 code to uniquely identify the LAMMPS potential implementation.\n",
    "- __name__ (*str, optional*) The name to save/refer to the LAMMPS potential implementation as when saved in a database. During initialization, this will be set to id if id is given and name is not.\n",
    "- __potid__ (*str, optional*) A human-readable identifier to refer to the conceptual potential model that the potential is based on.  This should be shared by alternate implementations of the same potential.\n",
    "- __potkey__ (*str, optional*) A UUID4 code to uniquely identify the conceptual potential model. This should be shared by alternate implementations of the same potential.\n",
    "\n",
    "__Notes__: The name value must be set before the record can be saved to a database. It is highly recommended that id, key, and name all be set and that id == name as some tools may assume these things."
   ]
  },
  {
   "cell_type": "code",
   "execution_count": 19,
   "metadata": {},
   "outputs": [],
   "source": [
    "potential = PotentialLAMMPS.paramfile(pair_style='eam/alloy', paramfile='Al.eam.alloy', elements='Al', id='My--Al--potential--test')"
   ]
  },
  {
   "cell_type": "code",
   "execution_count": 20,
   "metadata": {},
   "outputs": [
    {
     "data": {
      "text/plain": [
       "'My--Al--potential--test'"
      ]
     },
     "execution_count": 20,
     "metadata": {},
     "output_type": "execute_result"
    }
   ],
   "source": [
    "potential.name"
   ]
  },
  {
   "cell_type": "markdown",
   "metadata": {},
   "source": [
    "Note that the two id fields have null values.  They can be set either during initialization or as attributes after initialization."
   ]
  },
  {
   "cell_type": "markdown",
   "metadata": {},
   "source": [
    "### 2.2 Save locally\n",
    "\n",
    "Any user-defined records for LAMMPS potentials can be saved locally and then later retrieved using potentials.Database."
   ]
  },
  {
   "cell_type": "code",
   "execution_count": 21,
   "metadata": {},
   "outputs": [],
   "source": [
    "# Create a dummy parameter file \"Al.eam.alloy\" \n",
    "dummyfile = Path('Al.eam.alloy')\n",
    "\n",
    "with open(dummyfile, 'w') as f:\n",
    "    f.write('Dummy parameter file Al.eam.alloy\\n')\n",
    "    f.write('This is created here to demonstrate how to associate parameter files with saved LAMMPS potentials\\n')\n",
    "    f.write('Give paths to already existing parameter files for real potentials\\n')\n",
    "    f.write('This is where parameters would appear if this was a real potential...')"
   ]
  },
  {
   "cell_type": "markdown",
   "metadata": {},
   "source": [
    "#### 2.2.1 Database.save_lammps_potentials()\n",
    "\n",
    "Saves a new LAMMPS potential to the local copy of the database\n",
    "\n",
    "- __lammps_potentials__ (*PotentialLAMMPS or list of PotentialLAMMPS*) The lammps_potential(s) to save.\n",
    "- __filenames__ (*list, optional*) The path names to any parameter files associated with each lammps_potentials.  Length of the list should be the same as the length of lammps_potentials.  Each entry can be None, a path, or a list of paths.  If the value is None for an entry then the corresponding Potential record will be searched for parameter files to download.   Note that files will only be copied/downloaded if the associated record is new/different.\n",
    "- __format__ (*str, optional*) The file format to save the record files as.  Allowed values are 'xml' (default) and 'json'.\n",
    "- __localpath__ (*path-like object, optional*) Path to a local directory where the record and files will be saved to. If not given, will use the localpath value set during object initialization.\n",
    "- __indent__ (*int, optional*) The indentation spacing size to use for the locally saved record files. If not given, the JSON/XML content will be compact.\n",
    "- __overwrite__ (*bool, optional*) If True (default) then any matching LAMMPS potentials already in the localpath will be updated if the content has changed.  If False, all existing LAMMPS potentials in the localpath will be unchanged.\n",
    "- __verbose__ (*bool, optional*) If True, info messages will be printed during operations.  Default value is False.\n",
    "- __reload__ (*bool, optional*) If True, will call load_lammps_potentials() after adding the new potential.  Default value is False: loading is slow and should only be done when you wish to retrieve the saved potentials.\n"
   ]
  },
  {
   "cell_type": "code",
   "execution_count": 23,
   "metadata": {},
   "outputs": [
    {
     "name": "stdout",
     "output_type": "stream",
     "text": [
      "potential_LAMMPS record named My--Al--potential--test added to /home/lmh1/library\n",
      "files saved to local folder\n"
     ]
    }
   ],
   "source": [
    "# Initialize a Database with localpath testlibrary\n",
    "potdb = potentials.Database()\n",
    "\n",
    "# Save to local\n",
    "potdb.save_lammps_potential(potential, filenames='Al.eam.alloy', verbose=True)"
   ]
  },
  {
   "cell_type": "markdown",
   "metadata": {},
   "source": [
    "#### 2.2.2 load and get\n",
    "\n",
    "Any local potentials in the Database's localpath can then be found after loading the lammps potentials into memory."
   ]
  },
  {
   "cell_type": "code",
   "execution_count": 25,
   "metadata": {},
   "outputs": [
    {
     "name": "stdout",
     "output_type": "stream",
     "text": [
      "potential_LAMMPS record named My--Al--potential--test\n"
     ]
    }
   ],
   "source": [
    "# get_lammps_potential will search through the loaded potentials\n",
    "pot = potdb.get_lammps_potential(id='My--Al--potential--test')\n",
    "print(pot)"
   ]
  },
  {
   "cell_type": "code",
   "execution_count": 26,
   "metadata": {},
   "outputs": [
    {
     "name": "stdout",
     "output_type": "stream",
     "text": [
      "\n",
      "pair_style eam/alloy \n",
      "pair_coeff * * My--Al--potential--test/Al.eam.alloy Al\n",
      "\n",
      "mass 1 26.9815385\n",
      "\n",
      "\n"
     ]
    }
   ],
   "source": [
    "print(pot.pair_info())"
   ]
  },
  {
   "cell_type": "markdown",
   "metadata": {},
   "source": [
    "#### 2.2.3. Delete records\n",
    "\n",
    "Any LAMMPS potentials saved can also be deleted with the delete_lammps_potential() method.\n",
    "\n",
    "Parameters\n",
    "    \n",
    "- __lammps_potential__ (*PotentialLAMMPS or str*) The LAMMPS potential to delete from the remote database.  Can either give the corresponding PotentialLAMMPS object or just the potential's id/title.\n",
    "- __local__ (*bool, optional*) If True (default) then the record will be deleted from the localpath.\n",
    "- __remote__ (*bool, optional*) If True then the record will be deleted from the remote database.   Requires write permissions to potentials.nist.gov.  Default value is False.\n",
    "- __localpath__ (*path-like object, optional*) Path to a local directory where the file to delete is located.  If not given, will use the localpath value set during object initialization.\n",
    "- __verbose__ (*bool, optional*) If True, info messages will be printed during operations.  Default value is False."
   ]
  },
  {
   "cell_type": "code",
   "execution_count": 27,
   "metadata": {},
   "outputs": [
    {
     "name": "stdout",
     "output_type": "stream",
     "text": [
      "potential_LAMMPS record named My--Al--potential--test deleted from /home/lmh1/library\n"
     ]
    }
   ],
   "source": [
    "potdb.delete_lammps_potential(pot, local=True, remote=False, verbose=True)"
   ]
  },
  {
   "cell_type": "markdown",
   "metadata": {},
   "source": [
    "## 3. Additional metadata\n",
    "\n",
    "These are the additional metadata content that can be set but which are unlikely to be useful for most user-defined potentials. This content is mostly in support of potential_LAMMPS records and contents stored in public databases like potentials.nist.gov.\n",
    "\n",
    "- __url__ (*str, optional*) A web URL associated with a public database where the potential_LAMMPS record can be found.\n",
    "- __poturl__ (*str, optional*) A web URL associated with a public database where the Potential record that the LAMMPS implementation is associated with can be found.\n",
    "- __status__ (*str, optional*) Indicates the status of this particular implementation/version of the potential. Default None indicates the implementation to be active and current, 'superseded' indicates that it is a valid model, but a better implementation exists that should be used instead, and 'retracted' indicates that the implementation is a flawed invalid implementation that does not correctly represent the parent potential concept.\n",
    "- __comments__ (*str, optional*) Descriptive information about the potential.  This will be included as a LAMMPS print command when pair_info is generated.\n",
    "- __dois__ (*list, optional*) Any DOIs associated with the potential. These will be included in LAMMPS print commands when pair_info is generated.\n",
    "- __artifacts__ (*lost, optional*) Artifact objects detailing any associated parameter or data files and the URLs where they can be downloaded from.  Including this makes it possible for the PotentialLAMMPS objects to download copies of the parameter files. These can be added one at a time with add_artifact()."
   ]
  },
  {
   "cell_type": "code",
   "execution_count": 28,
   "metadata": {},
   "outputs": [],
   "source": [
    "# Delete the generated local example files\n",
    "Path('mypot.json').unlink()\n",
    "dummyfile.unlink()"
   ]
  },
  {
   "cell_type": "markdown",
   "metadata": {},
   "source": [
    "  "
   ]
  }
 ],
 "metadata": {
  "kernelspec": {
   "display_name": "Python 311",
   "language": "python",
   "name": "py11"
  },
  "language_info": {
   "codemirror_mode": {
    "name": "ipython",
    "version": 3
   },
   "file_extension": ".py",
   "mimetype": "text/x-python",
   "name": "python",
   "nbconvert_exporter": "python",
   "pygments_lexer": "ipython3",
   "version": "3.11.5"
  }
 },
 "nbformat": 4,
 "nbformat_minor": 4
}
