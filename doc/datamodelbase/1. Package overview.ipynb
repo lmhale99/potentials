{
 "cells": [
  {
   "cell_type": "markdown",
   "id": "1e1f8af3-eeb4-46e8-93e5-a3689b350f48",
   "metadata": {},
   "source": [
    "# Package overview\n",
    "\n",
    "The datamodelbase package provides a mid-level abstraction layer for interacting with databases containing JSON/XML equivalent data records.  The primary purpose of the datamodelbase package is to make it easy to design user-friendly Python packages that provide API access to database content.  \n",
    "\n",
    "- Data can be queried from multiple types of databases using the same basic commands.  This allows for the data to be federated across multiple locations.\n",
    "- Designers of the packages that use datamodelbase only have to care about interpreting the schemas of the data that they care about.\n",
    "- Users of the final packages then can easily search for and explore the already interpreted data from one or more locations.\n",
    "\n",
    "The major components of the package for handling this are\n",
    "\n",
    "1. Record classes are designed to handle JSON/XML records corresponding to a specific schema.  Each Record class should have methods that read in and interpret the data contents into meaningful attributes, and/or allow for users to build valid data records for the associated schema.\n",
    "2. Database classes define methods that interact with databases of different types, e.g. CDCS, MongoDB, directory of local files.  Each Database class shares common method names that define specific interactions, and for which are specifically implemented to provide the common behaviors despite the database differences.\n",
    "3. Query classes provide a means of constructing built-in query operations to metadata fields for the Records.  The Query classes handle this by defining optimized query method operations for the different Database classes, with each Database-specific query providing the same or very similar query results.\n",
    "4. The Settings class that allows for user-defined settings to be saved and used in later sessions.  This is particularly convenient as interaction settings for different databases can be saved.\n",
    "\n"
   ]
  },
  {
   "cell_type": "code",
   "execution_count": null,
   "id": "4d7ca4a8-a1ab-4da1-9440-70d14bb2a3f6",
   "metadata": {},
   "outputs": [],
   "source": []
  }
 ],
 "metadata": {
  "kernelspec": {
   "display_name": "Python 3",
   "language": "python",
   "name": "python3"
  },
  "language_info": {
   "codemirror_mode": {
    "name": "ipython",
    "version": 3
   },
   "file_extension": ".py",
   "mimetype": "text/x-python",
   "name": "python",
   "nbconvert_exporter": "python",
   "pygments_lexer": "ipython3",
   "version": "3.7.3"
  }
 },
 "nbformat": 4,
 "nbformat_minor": 5
}
