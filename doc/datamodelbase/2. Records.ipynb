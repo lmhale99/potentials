{
 "cells": [
  {
   "cell_type": "markdown",
   "metadata": {},
   "source": [
    "# General record handling\n",
    "\n",
    "\n",
    "\n",
    "\n"
   ]
  },
  {
   "cell_type": "code",
   "execution_count": 1,
   "metadata": {},
   "outputs": [],
   "source": [
    "import potentials\n",
    "\n",
    "print('Notebook tested for potentials version', potentials.__version__)"
   ]
  },
  {
   "cell_type": "markdown",
   "metadata": {},
   "source": [
    "## 1. Common Record methods\n",
    "\n",
    "\n",
    "\n"
   ]
  },
  {
   "cell_type": "markdown",
   "metadata": {},
   "source": [
    "## 2. Database methods for generic record interactions"
   ]
  },
  {
   "cell_type": "code",
   "execution_count": 3,
   "metadata": {},
   "outputs": [],
   "source": [
    "potdb = potentials.Database(local=True, remote=True)"
   ]
  },
  {
   "cell_type": "markdown",
   "metadata": {},
   "source": [
    "## get_records and get_record\n",
    "\n",
    "Searches for records according to the indicated parameters and returns the matching record contents as a DataModelDict.  get_records() will return a list of all matching records. get_record will return a single record if exactly one matching record is found, and will throw an error otherwise.\n",
    "\n",
    "Parameters\n",
    "\n",
    "- __template__ (*str, optional*) The template (schema/style) to search for.\n",
    "- __title__ (*str, optional*) The title (name) of the record to find.\n",
    "- __keyword__ (*str, optional*) A keyword content pattern to search for to limit which records are retrieved.\n",
    "- __mongoquery__ (*dict, optional*) A MongoDB-style filter query to limit which records are retrieved.\n",
    "- __localpath__ (*path-like object, optional*) Path to a local directory where the files are located.  If not given, will use the localpath value set during object initialization.\n",
    "- __local__ (*bool, optional*) If True (default) then the localpath will be searched.\n",
    "- __remote__ (*bool, optional*) If True then the remote potentials.nist.gov will be searched.\n",
    "- __verbose__ (*bool, optional*) If True, info messages will be printed during operations.  Default value is False."
   ]
  },
  {
   "cell_type": "code",
   "execution_count": 14,
   "metadata": {},
   "outputs": [
    {
     "name": "stdout",
     "output_type": "stream",
     "text": [
      "Found 146 records in local library\n",
      "found 146 records in remote database\n",
      "found 146 unique records between local and remote\n"
     ]
    }
   ],
   "source": [
    "# Get all free surface parameter records\n",
    "surfaces = potdb.get_records(template='free_surface', verbose=True)"
   ]
  },
  {
   "cell_type": "code",
   "execution_count": 17,
   "metadata": {},
   "outputs": [
    {
     "name": "stdout",
     "output_type": "stream",
     "text": [
      "Found 1 records in local library\n",
      "found 1 records in remote database\n",
      "found 1 unique records between local and remote\n",
      "{\n",
      "    \"free-surface\": {\n",
      "        \"key\": \"85e3c4f7-9067-4175-8dfe-df8bf5c6883f\",\n",
      "        \"id\": \"A2--W--bcc--110\",\n",
      "        \"system-family\": \"A2--W--bcc\",\n",
      "        \"calculation-parameter\": {\n",
      "            \"hkl\": \"1 1 0\",\n",
      "            \"shiftindex\": \"0\",\n",
      "            \"cutboxvector\": \"c\"\n",
      "        }\n",
      "    }\n",
      "}\n"
     ]
    }
   ],
   "source": [
    "# Get a single free surface parameter record\n",
    "surface = potdb.get_record(template='free_surface', title='A2--W--bcc--110', verbose=True)\n",
    "print(surface.json(indent=4))"
   ]
  },
  {
   "cell_type": "markdown",
   "metadata": {},
   "source": [
    "## download_records\n",
    " \n",
    "Download records associated with a given template from the remote and save to localpath.\n",
    "    \n",
    "Parameters\n",
    "    \n",
    "- __template__ (*str*) The template (schema/style) of records to download.  If given, all records with this template will be downloaded.\n",
    "- __localpath__ (*path-like object, optional*) Path to a local directory where the files will be saved to.  If not given, will use the localpath value set during object initialization.\n",
    "- __keyword__ (*str, optional*) A keyword content pattern to search for to limit which records are downloaded.\n",
    "- __mongoquery__ (*dict, optional*) A MongoDB-style filter query to limit which records are downloaded.\n",
    "- __format__ (*str, optional*) The file format to save the file as.  Allowed values are 'xml' (default) and 'json'.\n",
    "- __indent__ (*int, optional*) The indentation spacing size to use for the locally saved file.  If not given, the JSON/XML content will be compact.\n",
    "- __verbose__ (*bool, optional*) If True, info messages will be printed during operations.  Default value is False.\n",
    "  "
   ]
  },
  {
   "cell_type": "code",
   "execution_count": 18,
   "metadata": {},
   "outputs": [
    {
     "name": "stdout",
     "output_type": "stream",
     "text": [
      "Found 146 of free_surface\n",
      " - 146 existing records updated\n"
     ]
    }
   ],
   "source": [
    "# Download all free surface records\n",
    "potdb.download_records('free_surface', format='json', indent=4, verbose=True)"
   ]
  },
  {
   "cell_type": "markdown",
   "metadata": {},
   "source": [
    "## delete_record\n",
    "\n",
    "Deletes a single data record from the database.  By default, the record will only be deleted from the localpath. Deleting remote records requires providing log in information for potentials.nist.gov and that the associated account has the appropriate permissions.\n",
    "\n",
    "Parameters\n",
    "    \n",
    "- __template__ (*str*) The template (schema/style) for the record being deleted.\n",
    "- __title__ (*str*) The title (name) of the record to delete.\n",
    "- __local__ (*bool, optional*) If True (default) then the record will be deleted from the localpath.\n",
    "- __remote__ (*bool, optional*) If True then the record will be deleted from the remote database.   Requires write permissions to potentials.nist.gov.  Default value is False.\n",
    "- __localpath__ (*path-like object, optional*) Path to a local directory where the file to delete is located.  If not given, will use the localpath value set during object initialization.\n",
    "- __verbose__ (*bool, optional*) If True, info messages will be printed during operations.  Default value is False.\n",
    "    "
   ]
  },
  {
   "cell_type": "code",
   "execution_count": 19,
   "metadata": {},
   "outputs": [
    {
     "name": "stdout",
     "output_type": "stream",
     "text": [
      "deleted C:\\Users\\lmh1\\Documents\\library\\free_surface\\A1--Cu--fcc--100.json\n"
     ]
    }
   ],
   "source": [
    "potdb.delete_record('free_surface', title='A1--Cu--fcc--100', verbose=True)"
   ]
  },
  {
   "cell_type": "markdown",
   "metadata": {},
   "source": [
    "## upload_record\n",
    "    \n",
    "Saves a new record to the remote database.  Requires write permissions to potentials.nist.gov\n",
    "\n",
    "Parameters\n",
    "    \n",
    "- __template__ (*str*) The template (schema/style) for the record being uploaded.\n",
    "- __content__ (*str*) The content to upload.\n",
    "- __title__ (*str*) The title (name) to assign to the record.\n",
    "- __workspace__ (*str, optional*) The workspace to assign the record to. If not given, no workspace will be assigned (only accessible to user who submitted it).\n",
    "- __verbose__ (*bool, optional*) If True, info messages will be printed during operations.  Default value is False.\n",
    "    \n",
    "    \n",
    "\n"
   ]
  },
  {
   "cell_type": "code",
   "execution_count": 20,
   "metadata": {},
   "outputs": [],
   "source": [
    "# Database object is not logged in to demonstrate here..."
   ]
  },
  {
   "cell_type": "markdown",
   "metadata": {},
   "source": [
    "## cdcs\n",
    "\n",
    "The Database class also makes the underlying cdcs.CDCS object for interacting with the potentials.nist.gov database directly accessible.  This allows for more fundamental interactions with the remote database.  See https://github.com/usnistgov/pycdcs for more details. "
   ]
  },
  {
   "cell_type": "code",
   "execution_count": 21,
   "metadata": {},
   "outputs": [
    {
     "data": {
      "text/plain": [
       "<cdcs.CDCS.CDCS at 0x1d9ded51d08>"
      ]
     },
     "execution_count": 21,
     "metadata": {},
     "output_type": "execute_result"
    }
   ],
   "source": [
    "potdb.cdcs"
   ]
  }
 ],
 "metadata": {
  "kernelspec": {
   "display_name": "Python 3",
   "language": "python",
   "name": "python3"
  },
  "language_info": {
   "codemirror_mode": {
    "name": "ipython",
    "version": 3
   },
   "file_extension": ".py",
   "mimetype": "text/x-python",
   "name": "python",
   "nbconvert_exporter": "python",
   "pygments_lexer": "ipython3",
   "version": "3.7.3"
  }
 },
 "nbformat": 4,
 "nbformat_minor": 4
}
