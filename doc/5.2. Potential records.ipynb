{
 "cells": [
  {
   "cell_type": "markdown",
   "metadata": {},
   "source": [
    "# Potentials\n",
    "\n",
    "Potential records describe the interatomic potential listings as displayed on the NIST Interatomic Potentials Repository.  The listings combine citation information with usage/development notes and a list of all hosted implementations of each potential."
   ]
  },
  {
   "cell_type": "code",
   "execution_count": 3,
   "metadata": {},
   "outputs": [
    {
     "name": "stdout",
     "output_type": "stream",
     "text": [
      "Notebook tested for potentials version 0.3.0\n"
     ]
    }
   ],
   "source": [
    "# https://github.com/lmhale99/potentials\n",
    "import potentials\n",
    "\n",
    "print('Notebook tested for potentials version', potentials.__version__)"
   ]
  },
  {
   "cell_type": "code",
   "execution_count": 4,
   "metadata": {},
   "outputs": [],
   "source": [
    "potdb = potentials.Database(local=True, remote=True)"
   ]
  },
  {
   "cell_type": "markdown",
   "metadata": {},
   "source": [
    "## 1. Database methods\n",
    "\n",
    "### 1.1. get_potentials(), get_potential(), download_potentials()\n",
    "\n",
    "These methods build upon the Database's corresponding generic record methods with style='Potential' by defining the specific kwargs query parameters associated with the Potential record style.\n",
    "See the [4. Database class](4. Database class.ipynb) Notebook for details on the generic record methods.\n",
    "\n",
    "Query parameters\n",
    "\n",
    "- __name__ (*str or list*) The record name(s) to parse by.  For potential records, the names should correspond to the id with a prefix of \"potentials.\" added to it.\n",
    "- __key__ (*str or list*) The unique UUID4 record key(s) to parse by. \n",
    "- __id__ (*str or list*) The unique record id(s) labeling the records to parse by.\n",
    "- __notes__ (*str or list*) Term(s) to search for in the potential's notes field.\n",
    "- __fictional__ (*bool*) Limits based on if the potential is labeled as fictional or not.\n",
    "- __element__ (*str or list*) Element(s) in the model to parse by.\n",
    "- __othername__ (*str or list*) Alternate system names (often compounds or molecules) to parse by.\n",
    "- __modelname__ (*str or list*) Identifying model names to parse by.  These are used to differentiate between potentials that would otherwise have the same id based on year, primary author and elements. \n",
    "- __year__ (*int or list*) Publication year(s) to parse by.\n",
    "- __author__ (*str or list*) Author name(s) to parse by.  This works best for last names only.\n",
    "- __abstract__ (*str or list*) Term(s) to search for in the potential's citation's abstract field."
   ]
  },
  {
   "cell_type": "markdown",
   "metadata": {},
   "source": [
    "Query all citations with author Mishin from year 2015."
   ]
  },
  {
   "cell_type": "code",
   "execution_count": 5,
   "metadata": {},
   "outputs": [
    {
     "name": "stdout",
     "output_type": "stream",
     "text": [
      "Found 5 matching Potential records in local library\n",
      "Found 5 matching Potential records in remote library\n",
      " - 0 remote records are new\n"
     ]
    }
   ],
   "source": [
    "entries, entries_df = potdb.get_potentials(verbose=True, return_df=True, author='Mishin', year=2015)"
   ]
  },
  {
   "cell_type": "markdown",
   "metadata": {},
   "source": [
    "With return_df=True, a pandas DataFrame containing the metadata fields of the matching records is also returned.  This can be used for a quick overview of the returned records and to further parse the results."
   ]
  },
  {
   "cell_type": "code",
   "execution_count": 6,
   "metadata": {},
   "outputs": [
    {
     "data": {
      "text/html": [
       "<div>\n",
       "<style scoped>\n",
       "    .dataframe tbody tr th:only-of-type {\n",
       "        vertical-align: middle;\n",
       "    }\n",
       "\n",
       "    .dataframe tbody tr th {\n",
       "        vertical-align: top;\n",
       "    }\n",
       "\n",
       "    .dataframe thead th {\n",
       "        text-align: right;\n",
       "    }\n",
       "</style>\n",
       "<table border=\"1\" class=\"dataframe\">\n",
       "  <thead>\n",
       "    <tr style=\"text-align: right;\">\n",
       "      <th></th>\n",
       "      <th>name</th>\n",
       "      <th>key</th>\n",
       "      <th>id</th>\n",
       "      <th>recorddate</th>\n",
       "      <th>notes</th>\n",
       "      <th>fictional</th>\n",
       "      <th>elements</th>\n",
       "      <th>othername</th>\n",
       "      <th>modelname</th>\n",
       "      <th>citations</th>\n",
       "      <th>implementations</th>\n",
       "    </tr>\n",
       "  </thead>\n",
       "  <tbody>\n",
       "    <tr>\n",
       "      <th>0</th>\n",
       "      <td>potential.2015--Purja-Pun-G-P-Darling-K-A-Kecs...</td>\n",
       "      <td>b2cdadf2-6f7a-4cfc-919b-b78904969e6b</td>\n",
       "      <td>2015--Purja-Pun-G-P-Darling-K-A-Kecskes-L-J-Mi...</td>\n",
       "      <td>2018-08-15</td>\n",
       "      <td>This potential is meant to supplant the Hahibo...</td>\n",
       "      <td>0</td>\n",
       "      <td>[Cu, Ta]</td>\n",
       "      <td>NaN</td>\n",
       "      <td>NaN</td>\n",
       "      <td>[{'name': '10.1016_j.actamat.2015.08.052', 'ye...</td>\n",
       "      <td>[{'key': '167e5dfd-c0c3-49d3-8b67-c37268f94d04...</td>\n",
       "    </tr>\n",
       "    <tr>\n",
       "      <th>1</th>\n",
       "      <td>potential.2015--Purja-Pun-G-P-Darling-K-A-Kecs...</td>\n",
       "      <td>bdec0325-b66a-456f-98f1-cb2db88fd247</td>\n",
       "      <td>2015--Purja-Pun-G-P-Darling-K-A-Kecskes-L-J-Mi...</td>\n",
       "      <td>2018-11-05</td>\n",
       "      <td>NaN</td>\n",
       "      <td>0</td>\n",
       "      <td>[Ta]</td>\n",
       "      <td>NaN</td>\n",
       "      <td>NaN</td>\n",
       "      <td>[{'name': '10.1016_j.actamat.2015.08.052', 'ye...</td>\n",
       "      <td>[{'key': 'd5d0fe1b-a2d4-43ca-99ea-039766dd32ad...</td>\n",
       "    </tr>\n",
       "    <tr>\n",
       "      <th>2</th>\n",
       "      <td>potential.2015--Purja-Pun-G-P-Yamakov-V-Mishin...</td>\n",
       "      <td>71b03297-b66d-4efd-9502-02cf83d9dc38</td>\n",
       "      <td>2015--Purja-Pun-G-P-Yamakov-V-Mishin-Y--Al-Co</td>\n",
       "      <td>2018-08-15</td>\n",
       "      <td>The reference information was updated on 26 Au...</td>\n",
       "      <td>0</td>\n",
       "      <td>[Al, Co]</td>\n",
       "      <td>NaN</td>\n",
       "      <td>NaN</td>\n",
       "      <td>[{'name': '10.1088_0965-0393_23_6_065006', 'ye...</td>\n",
       "      <td>[{'key': 'ef327c3b-3760-4cbd-b9a5-5a7f5c66bebe...</td>\n",
       "    </tr>\n",
       "    <tr>\n",
       "      <th>3</th>\n",
       "      <td>potential.2015--Purja-Pun-G-P-Yamakov-V-Mishin...</td>\n",
       "      <td>0f6e3cef-c588-4dcb-a0a6-66878f64ac50</td>\n",
       "      <td>2015--Purja-Pun-G-P-Yamakov-V-Mishin-Y--Ni-Al-Co</td>\n",
       "      <td>2018-08-15</td>\n",
       "      <td>The reference information was updated on 26 Au...</td>\n",
       "      <td>0</td>\n",
       "      <td>[Ni, Al, Co]</td>\n",
       "      <td>NaN</td>\n",
       "      <td>NaN</td>\n",
       "      <td>[{'name': '10.1088_0965-0393_23_6_065006', 'ye...</td>\n",
       "      <td>[{'key': 'ec7cf9ba-a69b-48b2-9142-d89debe5e3ee...</td>\n",
       "    </tr>\n",
       "    <tr>\n",
       "      <th>4</th>\n",
       "      <td>potential.2015--Purja-Pun-G-P-Yamakov-V-Mishin...</td>\n",
       "      <td>20fa46b5-6b6f-4e6e-9400-66edb643c679</td>\n",
       "      <td>2015--Purja-Pun-G-P-Yamakov-V-Mishin-Y--Ni-Co</td>\n",
       "      <td>2018-08-15</td>\n",
       "      <td>The reference information was updated on 26 Au...</td>\n",
       "      <td>0</td>\n",
       "      <td>[Ni, Co]</td>\n",
       "      <td>NaN</td>\n",
       "      <td>NaN</td>\n",
       "      <td>[{'name': '10.1088_0965-0393_23_6_065006', 'ye...</td>\n",
       "      <td>[{'key': 'beb35d7a-eb97-4c9d-b141-2b1b83879a29...</td>\n",
       "    </tr>\n",
       "  </tbody>\n",
       "</table>\n",
       "</div>"
      ],
      "text/plain": [
       "                                                name  \\\n",
       "0  potential.2015--Purja-Pun-G-P-Darling-K-A-Kecs...   \n",
       "1  potential.2015--Purja-Pun-G-P-Darling-K-A-Kecs...   \n",
       "2  potential.2015--Purja-Pun-G-P-Yamakov-V-Mishin...   \n",
       "3  potential.2015--Purja-Pun-G-P-Yamakov-V-Mishin...   \n",
       "4  potential.2015--Purja-Pun-G-P-Yamakov-V-Mishin...   \n",
       "\n",
       "                                    key  \\\n",
       "0  b2cdadf2-6f7a-4cfc-919b-b78904969e6b   \n",
       "1  bdec0325-b66a-456f-98f1-cb2db88fd247   \n",
       "2  71b03297-b66d-4efd-9502-02cf83d9dc38   \n",
       "3  0f6e3cef-c588-4dcb-a0a6-66878f64ac50   \n",
       "4  20fa46b5-6b6f-4e6e-9400-66edb643c679   \n",
       "\n",
       "                                                  id  recorddate  \\\n",
       "0  2015--Purja-Pun-G-P-Darling-K-A-Kecskes-L-J-Mi...  2018-08-15   \n",
       "1  2015--Purja-Pun-G-P-Darling-K-A-Kecskes-L-J-Mi...  2018-11-05   \n",
       "2      2015--Purja-Pun-G-P-Yamakov-V-Mishin-Y--Al-Co  2018-08-15   \n",
       "3   2015--Purja-Pun-G-P-Yamakov-V-Mishin-Y--Ni-Al-Co  2018-08-15   \n",
       "4      2015--Purja-Pun-G-P-Yamakov-V-Mishin-Y--Ni-Co  2018-08-15   \n",
       "\n",
       "                                               notes  fictional      elements  \\\n",
       "0  This potential is meant to supplant the Hahibo...          0      [Cu, Ta]   \n",
       "1                                                NaN          0          [Ta]   \n",
       "2  The reference information was updated on 26 Au...          0      [Al, Co]   \n",
       "3  The reference information was updated on 26 Au...          0  [Ni, Al, Co]   \n",
       "4  The reference information was updated on 26 Au...          0      [Ni, Co]   \n",
       "\n",
       "  othername modelname                                          citations  \\\n",
       "0       NaN       NaN  [{'name': '10.1016_j.actamat.2015.08.052', 'ye...   \n",
       "1       NaN       NaN  [{'name': '10.1016_j.actamat.2015.08.052', 'ye...   \n",
       "2       NaN       NaN  [{'name': '10.1088_0965-0393_23_6_065006', 'ye...   \n",
       "3       NaN       NaN  [{'name': '10.1088_0965-0393_23_6_065006', 'ye...   \n",
       "4       NaN       NaN  [{'name': '10.1088_0965-0393_23_6_065006', 'ye...   \n",
       "\n",
       "                                     implementations  \n",
       "0  [{'key': '167e5dfd-c0c3-49d3-8b67-c37268f94d04...  \n",
       "1  [{'key': 'd5d0fe1b-a2d4-43ca-99ea-039766dd32ad...  \n",
       "2  [{'key': 'ef327c3b-3760-4cbd-b9a5-5a7f5c66bebe...  \n",
       "3  [{'key': 'ec7cf9ba-a69b-48b2-9142-d89debe5e3ee...  \n",
       "4  [{'key': 'beb35d7a-eb97-4c9d-b141-2b1b83879a29...  "
      ]
     },
     "execution_count": 6,
     "metadata": {},
     "output_type": "execute_result"
    }
   ],
   "source": [
    "entries_df"
   ]
  },
  {
   "cell_type": "markdown",
   "metadata": {},
   "source": [
    "### 1.2. save_potential(), upload_potential(), delete_potential()\n",
    "\n",
    "These methods are identical to calling the Database's corresponding generic record methods with style='Potential'.  See the [4. Database class](4. Database class.ipynb) Notebook for details on the generic record methods."
   ]
  },
  {
   "cell_type": "markdown",
   "metadata": {},
   "source": [
    "## 2. Potential class\n",
    "\n",
    "See [5. Record Classes](5. Record Classes.ipynb) for details on the common methods and attributes that Citation shares with the other Record subclasses."
   ]
  },
  {
   "cell_type": "code",
   "execution_count": 7,
   "metadata": {},
   "outputs": [],
   "source": [
    "entry = entries[0]"
   ]
  },
  {
   "cell_type": "markdown",
   "metadata": {},
   "source": [
    "### 2.1. Python representation\n",
    "\n",
    "Style-specific methods and attributes:\n",
    "\n",
    "- __key__ (*str*) A UUID4 key assigned to the record.\n",
    "- __id__ (*str*) A unique id assigned to the record based on the primary citation's year and author information and what the potential represents.\n",
    "- __impid_prefix__ (*str*) The suggested prefix to use for implementation ids based on the primary citation's year and first author and what the potential represents.\n",
    "- __recorddate__ (*datetime.date*) A date associated with the entry.\n",
    "- __elements__ (*list*) A list of the elements that the potential models.\n",
    "- __othername__ (*str or None*) Provides a description of what the model represents alternative to the list of elements.  Examples are meta-atom models, or potentials designed for specific compositions.\n",
    "- __fictional__ (*bool*) Indicates if the potential is classified as \"fictional\". Fictional potentials are variations of other interatomic potentials that purposefully fit properties to unrealistic values.\n",
    "- __modelname__ (*str or None*) A short identifier to differentiate potentials that otherwise would have the same id based on year, authors and elements.  This should reflect how the original authors differentiated their different models.\n",
    "- __notes__ (*str or None*) Any general notes about the potential model, such as usage notes for what it was designed for. \n",
    "- __citations__ (*list*) A list of Citation records associated with the Potential.\n",
    "- __implementations__ (*list*) A list of Implementations associated with the Potential.  See section 3 below for more details.\n",
    "- __add_citation()__ Creates a new Citation object and appends it to the citations list.\n",
    "- __add_implementation()__ Creates a new Implementation object and appends it to the implementations list."
   ]
  },
  {
   "cell_type": "code",
   "execution_count": 8,
   "metadata": {},
   "outputs": [
    {
     "name": "stdout",
     "output_type": "stream",
     "text": [
      "entry.style:           Potential\n",
      "entry.name:            potential.2015--Purja-Pun-G-P-Darling-K-A-Kecskes-L-J-Mishin-Y--Cu-Ta\n",
      "entry.id:              2015--Purja-Pun-G-P-Darling-K-A-Kecskes-L-J-Mishin-Y--Cu-Ta\n",
      "entry.impid_prefix:    2015--Purja-Pun-G-P--Cu-Ta\n",
      "entry.recorddate:      2018-08-15\n",
      "entry.elements:        ['Cu', 'Ta']\n",
      "entry.othername:       None\n",
      "entry.fictional:       False\n",
      "entry.modelname:       None\n",
      "entry.notes:           This potential is meant to supplant the Hahibon 2008 Cu-Ta ADP potential by providing a refit of the Ta-Ta and Cu-Ta interactions.\n",
      "entry.citations:       [<potentials.record.Citation.Citation object at 0x0000022EF3428BA8>]\n",
      "entry.implementations: [<potentials.record.Implementation.Implementation object at 0x0000022EF3878780>, <potentials.record.Implementation.Implementation object at 0x0000022EF3878550>]\n"
     ]
    }
   ],
   "source": [
    "print('entry.style:          ', entry.style)\n",
    "print('entry.name:           ', entry.name)\n",
    "print('entry.id:             ', entry.id)\n",
    "print('entry.impid_prefix:   ', entry.impid_prefix)\n",
    "print('entry.recorddate:     ', entry.recorddate)\n",
    "print('entry.elements:       ', entry.elements)\n",
    "print('entry.othername:      ', entry.othername)\n",
    "print('entry.fictional:      ', entry.fictional)\n",
    "print('entry.modelname:      ', entry.modelname)\n",
    "print('entry.notes:          ', entry.notes)\n",
    "print('entry.citations:      ', entry.citations)\n",
    "print('entry.implementations:', entry.implementations)"
   ]
  },
  {
   "cell_type": "markdown",
   "metadata": {},
   "source": [
    "### 2.2. Data Model representation\n",
    "\n",
    "Style-specific notes:\n",
    "\n",
    "- The kwargs that mongoquery and cdcsquery support are the same as the query kwargs listed above for the database methods.\n",
    "  "
   ]
  },
  {
   "cell_type": "code",
   "execution_count": 9,
   "metadata": {},
   "outputs": [
    {
     "data": {
      "text/html": [
       "<div xmlns=\"http://www.w3.org/TR/xhtml1/strict\"><script src=\"https://www.ctcms.nist.gov/potentials/site/showFiles.js\">//</script><div class=\"panel panel-default\"><div class=\"panel-heading\"><h3 class=\"panel-title\">2015--Purja-Pun-G-P-Darling-K-A-Kecskes-L-J-Mishin-Y--Cu-Ta</h3></div><div class=\"panel-body\"><div class=\"citation\"><b>Citation: </b>G.P. Purja Pun, K.A. Darling, L.J. Kecskes, and Y. Mishin (2015), \"Angular-dependent interatomic potential for the Cu-Ta system and its application to structural stability of nano-crystalline alloys\", <i>Acta Materialia</i>, <b>100</b>, 377-391. DOI: <a href=\"https://doi.org/10.1016/j.actamat.2015.08.052\" class=\"external\">10.1016/j.actamat.2015.08.052</a>.<br/></div><div class=\"abstract\"><b>Abstract: </b>Atomistic computer simulations are capable of providing insights into physical mechanisms responsible for the extraordinary structural stability and strength of immiscible Cu&#8211;Ta alloys. To enable reliable simulations of these alloys, we have developed an angular-dependent potential (ADP) for the Cu&#8211;Ta system by fitting to a large database of first-principles and experimental data. This, in turn, required the development of a new ADP potential for elemental Ta, which accurately reproduces a wide range of properties of Ta and is transferable to severely deformed states and diverse atomic environments. The new Cu&#8211;Ta potential is applied for studying the kinetics of grain growth in nano-crystalline Cu&#8211;Ta alloys with different chemical compositions. Ta atoms form nanometer-scale clusters preferentially located at grain boundaries (GBs) and triple junctions. These clusters pin some of the GBs in place and cause a drastic decrease in grain growth by the Zener pinning mechanism. The results of the simulations are well consistent with experimental observations and suggest possible mechanisms of the stabilization effect of Ta.</div><br/><div class=\"description-notes\"><b>Notes: </b>This potential is meant to supplant the Hahibon 2008 Cu-Ta ADP potential by providing a refit of the Ta-Ta and Cu-Ta interactions.</div><br/><div class=\"format\"><b>LAMMPS pair_style adp</b><a href=\"https://www.ctcms.nist.gov/potentials/entry/2015--Purja-Pun-G-P-Darling-K-A-Kecskes-L-J-Mishin-Y--Cu-Ta/2015--Purja-Pun-G-P--Cu-Ta--LAMMPS--ipr1.html\"> (2015--Purja-Pun-G-P--Cu-Ta--LAMMPS--ipr1)</a></div><div class=\"implementation-notes\"><a href=\"https://www.ctcms.nist.gov/potentials/entry/2015--Purja-Pun-G-P-Darling-K-A-Kecskes-L-J-Mishin-Y--Cu-Ta/2015--Purja-Pun-G-P--Cu-Ta--LAMMPS--ipr1.html\"><b>See Computed Properties</b></a><br/><b>Notes: </b>This file was provided by Yuri Mishin (George Mason University) on 11 Sep. 2015.<br/><b>File(s): superseded</b><div id=\"167e5dfd-c0c3-49d3-8b67-c37268f94d04\" style=\"display:none\"><a href=\"https://www.ctcms.nist.gov/potentials/Download/2015--Purja-Pun-G-P-Darling-K-A-Kecskes-L-J-Mishin-Y--Cu-Ta/1/CuTa_LJ15_2014.angdep\">CuTa_LJ15_2014.angdep</a><br/></div><br/><div id=\"button-167e5dfd-c0c3-49d3-8b67-c37268f94d04\" style=\"display:block\"><input type=\"button\" value=\"Click to show\" onclick=\"showFiles('167e5dfd-c0c3-49d3-8b67-c37268f94d04','button-167e5dfd-c0c3-49d3-8b67-c37268f94d04')\"/><br/><br/></div></div><div class=\"format\"><b>LAMMPS pair_style adp</b><a href=\"https://www.ctcms.nist.gov/potentials/entry/2015--Purja-Pun-G-P-Darling-K-A-Kecskes-L-J-Mishin-Y--Cu-Ta/2015--Purja-Pun-G-P--Cu-Ta--LAMMPS--ipr2.html\"> (2015--Purja-Pun-G-P--Cu-Ta--LAMMPS--ipr2)</a></div><div class=\"implementation-notes\"><a href=\"https://www.ctcms.nist.gov/potentials/entry/2015--Purja-Pun-G-P-Darling-K-A-Kecskes-L-J-Mishin-Y--Cu-Ta/2015--Purja-Pun-G-P--Cu-Ta--LAMMPS--ipr2.html\"><b>See Computed Properties</b></a><br/><b>Notes: </b>This file was provided by Yuri Mishin (George Mason University) on 2 Nov. 2018. Ganga Purja Pun noted that the tabulated values are identical to the version above except that the short range behaviors (r < 0.5 Angstroms) for some functions have been fixed so that they now follow the correct trends.<br/><b>File(s): </b><div id=\"46586f9c-95ec-4ce2-81d5-91416a009d60\" style=\"display:block\"><a href=\"https://www.ctcms.nist.gov/potentials/Download/2015--Purja-Pun-G-P-Darling-K-A-Kecskes-L-J-Mishin-Y--Cu-Ta/2/CuTa_LJ15_2014.adp.txt\">CuTa_LJ15_2014.adp.txt</a><br/></div><br/></div></div></div></div>"
      ],
      "text/plain": [
       "<IPython.core.display.HTML object>"
      ]
     },
     "metadata": {},
     "output_type": "display_data"
    }
   ],
   "source": [
    "entry.html(render=True)"
   ]
  },
  {
   "cell_type": "code",
   "execution_count": 11,
   "metadata": {},
   "outputs": [
    {
     "name": "stdout",
     "output_type": "stream",
     "text": [
      "{\n",
      "    \"interatomic-potential\": {\n",
      "        \"key\": \"b2cdadf2-6f7a-4cfc-919b-b78904969e6b\",\n",
      "        \"id\": \"2015--Purja-Pun-G-P-Darling-K-A-Kecskes-L-J-Mishin-Y--Cu-Ta\",\n",
      "        \"record-version\": \"2018-08-15\",\n",
      "        \"description\": {\n",
      "            \"citation\": {\n",
      "                \"document-type\": \"journal\",\n",
      "                \"title\": \"Angular-dependent interatomic potential for the Cu-Ta system and its application to structural stability of nano-crystalline alloys\",\n",
      "                \"author\": [\n",
      "                    {\n",
      "                        \"given-name\": \"G.P.\",\n",
      "                        \"surname\": \"Purja Pun\"\n",
      "                    },\n",
      "                    {\n",
      "                        \"given-name\": \"K.A.\",\n",
      "                        \"surname\": \"Darling\"\n",
      "                    },\n",
      "                    {\n",
      "                        \"given-name\": \"L.J.\",\n",
      "                        \"surname\": \"Kecskes\"\n",
      "                    },\n",
      "                    {\n",
      "                        \"given-name\": \"Y.\",\n",
      "                        \"surname\": \"Mishin\"\n",
      "                    }\n",
      "                ],\n",
      "                \"publication-name\": \"Acta Materialia\",\n",
      "                \"publication-date\": {\n",
      "                    \"year\": 2015\n",
      "                },\n",
      "                \"volume\": 100,\n",
      "                \"abstract\": \"Atomistic computer simulations are capable of providing insights into physical mechanisms responsible for the extraordinary structural stability and strength of immiscible Cu\\u2013Ta alloys. To enable reliable simulations of these alloys, we have developed an angular-dependent potential (ADP) for the Cu\\u2013Ta system by fitting to a large database of first-principles and experimental data. This, in turn, required the development of a new ADP potential for elemental Ta, which accurately reproduces a wide range of properties of Ta and is transferable to severely deformed states and diverse atomic environments. The new Cu\\u2013Ta potential is applied for studying the kinetics of grain growth in nano-crystalline Cu\\u2013Ta alloys with different chemical compositions. Ta atoms form nanometer-scale clusters preferentially located at grain boundaries (GBs) and triple junctions. These clusters pin some of the GBs in place and cause a drastic decrease in grain growth by the Zener pinning mechanism. The results of the simulations are well consistent with experimental observations and suggest possible mechanisms of the stabilization effect of Ta.\",\n",
      "                \"pages\": \"377-391\",\n",
      "                \"DOI\": \"10.1016/j.actamat.2015.08.052\",\n",
      "                \"bibtex\": \"@article{Purja_Pun_2015,\\n abstract = {Atomistic computer simulations are capable of providing insights into physical mechanisms responsible for the extraordinary structural stability and strength of immiscible Cu\\u2013Ta alloys. To enable reliable simulations of these alloys, we have developed an angular-dependent potential (ADP) for the Cu\\u2013Ta system by fitting to a large database of first-principles and experimental data. This, in turn, required the development of a new ADP potential for elemental Ta, which accurately reproduces a wide range of properties of Ta and is transferable to severely deformed states and diverse atomic environments. The new Cu\\u2013Ta potential is applied for studying the kinetics of grain growth in nano-crystalline Cu\\u2013Ta alloys with different chemical compositions. Ta atoms form nanometer-scale clusters preferentially located at grain boundaries (GBs) and triple junctions. These clusters pin some of the GBs in place and cause a drastic decrease in grain growth by the Zener pinning mechanism. The results of the simulations are well consistent with experimental observations and suggest possible mechanisms of the stabilization effect of Ta.},\\n author = {G.P. Purja Pun and K.A. Darling and L.J. Kecskes and Y. Mishin},\\n doi = {10.1016/j.actamat.2015.08.052},\\n journal = {Acta Materialia},\\n month = {nov},\\n pages = {377--391},\\n publisher = {Elsevier BV},\\n title = {Angular-dependent interatomic potential for the Cu-Ta system and its application to structural stability of nano-crystalline alloys},\\n url = {https://doi.org/10.1016%2Fj.actamat.2015.08.052},\\n volume = {100},\\n year = {2015}\\n}\\n\\n\"\n",
      "            },\n",
      "            \"notes\": {\n",
      "                \"text\": \"This potential is meant to supplant the Hahibon 2008 Cu-Ta ADP potential by providing a refit of the Ta-Ta and Cu-Ta interactions.\"\n",
      "            }\n",
      "        },\n",
      "        \"implementation\": [\n",
      "            {\n",
      "                \"key\": \"167e5dfd-c0c3-49d3-8b67-c37268f94d04\",\n",
      "                \"id\": \"2015--Purja-Pun-G-P--Cu-Ta--LAMMPS--ipr1\",\n",
      "                \"status\": \"superseded\",\n",
      "                \"date\": \"2009-06-30\",\n",
      "                \"type\": \"LAMMPS pair_style adp\",\n",
      "                \"notes\": {\n",
      "                    \"text\": \"This file was provided by Yuri Mishin (George Mason University) on 11 Sep. 2015.\"\n",
      "                },\n",
      "                \"artifact\": {\n",
      "                    \"web-link\": {\n",
      "                        \"URL\": \"https://www.ctcms.nist.gov/potentials/Download/2015--Purja-Pun-G-P-Darling-K-A-Kecskes-L-J-Mishin-Y--Cu-Ta/1/CuTa_LJ15_2014.angdep\",\n",
      "                        \"link-text\": \"CuTa_LJ15_2014.angdep\"\n",
      "                    }\n",
      "                }\n",
      "            },\n",
      "            {\n",
      "                \"key\": \"46586f9c-95ec-4ce2-81d5-91416a009d60\",\n",
      "                \"id\": \"2015--Purja-Pun-G-P--Cu-Ta--LAMMPS--ipr2\",\n",
      "                \"status\": \"active\",\n",
      "                \"date\": \"2018-11-05\",\n",
      "                \"type\": \"LAMMPS pair_style adp\",\n",
      "                \"notes\": {\n",
      "                    \"text\": \"This file was provided by Yuri Mishin (George Mason University) on 2 Nov. 2018. Ganga Purja Pun noted that the tabulated values are identical to the version above except that the short range behaviors (r < 0.5 Angstroms) for some functions have been fixed so that they now follow the correct trends.\"\n",
      "                },\n",
      "                \"artifact\": {\n",
      "                    \"web-link\": {\n",
      "                        \"URL\": \"https://www.ctcms.nist.gov/potentials/Download/2015--Purja-Pun-G-P-Darling-K-A-Kecskes-L-J-Mishin-Y--Cu-Ta/2/CuTa_LJ15_2014.adp.txt\",\n",
      "                        \"link-text\": \"CuTa_LJ15_2014.adp.txt\"\n",
      "                    }\n",
      "                }\n",
      "            }\n",
      "        ],\n",
      "        \"element\": [\n",
      "            \"Cu\",\n",
      "            \"Ta\"\n",
      "        ]\n",
      "    }\n",
      "}\n"
     ]
    }
   ],
   "source": [
    "print(entry.model.json(indent=4))"
   ]
  },
  {
   "cell_type": "markdown",
   "metadata": {},
   "source": [
    "### 2.3. Metadata representation\n",
    "\n",
    "Style-specific notes:\n",
    "\n",
    "- The kwargs that pandasfilter supports are the same as the query kwargs listed above for the database methods."
   ]
  },
  {
   "cell_type": "code",
   "execution_count": 12,
   "metadata": {},
   "outputs": [
    {
     "data": {
      "text/plain": [
       "{'name': 'potential.2015--Purja-Pun-G-P-Darling-K-A-Kecskes-L-J-Mishin-Y--Cu-Ta',\n",
       " 'key': 'b2cdadf2-6f7a-4cfc-919b-b78904969e6b',\n",
       " 'id': '2015--Purja-Pun-G-P-Darling-K-A-Kecskes-L-J-Mishin-Y--Cu-Ta',\n",
       " 'recorddate': datetime.date(2018, 8, 15),\n",
       " 'notes': 'This potential is meant to supplant the Hahibon 2008 Cu-Ta ADP potential by providing a refit of the Ta-Ta and Cu-Ta interactions.',\n",
       " 'fictional': False,\n",
       " 'elements': ['Cu', 'Ta'],\n",
       " 'othername': None,\n",
       " 'modelname': None,\n",
       " 'citations': [{'name': '10.1016_j.actamat.2015.08.052',\n",
       "   'year_authors': '2015--Purja-Pun-G-P-Darling-K-A-Kecskes-L-J-Mishin-Y',\n",
       "   'year': '2015',\n",
       "   'volume': '100',\n",
       "   'url': 'https://doi.org/10.1016%2Fj.actamat.2015.08.052',\n",
       "   'title': 'Angular-dependent interatomic potential for the Cu-Ta system and its application to structural stability of nano-crystalline alloys',\n",
       "   'publisher': 'Elsevier BV',\n",
       "   'pages': '377--391',\n",
       "   'month': 'nov',\n",
       "   'journal': 'Acta Materialia',\n",
       "   'doi': '10.1016/j.actamat.2015.08.052',\n",
       "   'author': 'G.P. Purja Pun and K.A. Darling and L.J. Kecskes and Y. Mishin',\n",
       "   'abstract': 'Atomistic computer simulations are capable of providing insights into physical mechanisms responsible for the extraordinary structural stability and strength of immiscible Cu–Ta alloys. To enable reliable simulations of these alloys, we have developed an angular-dependent potential (ADP) for the Cu–Ta system by fitting to a large database of first-principles and experimental data. This, in turn, required the development of a new ADP potential for elemental Ta, which accurately reproduces a wide range of properties of Ta and is transferable to severely deformed states and diverse atomic environments. The new Cu–Ta potential is applied for studying the kinetics of grain growth in nano-crystalline Cu–Ta alloys with different chemical compositions. Ta atoms form nanometer-scale clusters preferentially located at grain boundaries (GBs) and triple junctions. These clusters pin some of the GBs in place and cause a drastic decrease in grain growth by the Zener pinning mechanism. The results of the simulations are well consistent with experimental observations and suggest possible mechanisms of the stabilization effect of Ta.',\n",
       "   'ENTRYTYPE': 'article',\n",
       "   'ID': 'Purja_Pun_2015'}],\n",
       " 'implementations': [{'key': '167e5dfd-c0c3-49d3-8b67-c37268f94d04',\n",
       "   'id': '2015--Purja-Pun-G-P--Cu-Ta--LAMMPS--ipr1',\n",
       "   'date': '2009-06-30',\n",
       "   'status': 'superseded',\n",
       "   'notes': 'This file was provided by Yuri Mishin (George Mason University) on 11 Sep. 2015.',\n",
       "   'type': 'LAMMPS pair_style adp',\n",
       "   'artifacts': [{'filename': 'CuTa_LJ15_2014.angdep',\n",
       "     'label': None,\n",
       "     'url': 'https://www.ctcms.nist.gov/potentials/Download/2015--Purja-Pun-G-P-Darling-K-A-Kecskes-L-J-Mishin-Y--Cu-Ta/1/CuTa_LJ15_2014.angdep'}],\n",
       "   'parameters': [],\n",
       "   'links': []},\n",
       "  {'key': '46586f9c-95ec-4ce2-81d5-91416a009d60',\n",
       "   'id': '2015--Purja-Pun-G-P--Cu-Ta--LAMMPS--ipr2',\n",
       "   'date': '2018-11-05',\n",
       "   'status': 'active',\n",
       "   'notes': 'This file was provided by Yuri Mishin (George Mason University) on 2 Nov. 2018. Ganga Purja Pun noted that the tabulated values are identical to the version above except that the short range behaviors (r < 0.5 Angstroms) for some functions have been fixed so that they now follow the correct trends.',\n",
       "   'type': 'LAMMPS pair_style adp',\n",
       "   'artifacts': [{'filename': 'CuTa_LJ15_2014.adp.txt',\n",
       "     'label': None,\n",
       "     'url': 'https://www.ctcms.nist.gov/potentials/Download/2015--Purja-Pun-G-P-Darling-K-A-Kecskes-L-J-Mishin-Y--Cu-Ta/2/CuTa_LJ15_2014.adp.txt'}],\n",
       "   'parameters': [],\n",
       "   'links': []}]}"
      ]
     },
     "execution_count": 12,
     "metadata": {},
     "output_type": "execute_result"
    }
   ],
   "source": [
    "entry.metadata()"
   ]
  },
  {
   "cell_type": "markdown",
   "metadata": {},
   "source": [
    "## 3. Component classes of Potential\n",
    "\n",
    "- __Citation__ is the Citation record class.  [See the 3.1. Citation records Notebook]() for more information on the Citation class.\n",
    "- __Implementation__ represents a specific version of an interatomic potential as implemented for a specific simulation code, tabulation of values or a list of equations and parameters.\n",
    "- __Artifact__ represents a parameter file associated with a particular implementation.\n",
    "- __Link__ represents a URL weblink to a page associated with a particular implementation.\n",
    "- __Parameter__ represents a parameter value associated with a particular implementation.\n",
    "\n",
    "All of these component classes are also subclasses of Record granting them many of the same common methods, such as build_model, load_model and metadata."
   ]
  },
  {
   "cell_type": "markdown",
   "metadata": {},
   "source": [
    "### 3.1. Implementation class\n",
    "\n",
    "The Implementation class represents a version of an interatomic potential as implemented for a specific code, represented as tabulated values or a list of equations and parameters.\n",
    "\n",
    "- __id__ (*str*) The human-readable ID for the implementation. \n",
    "- __key__ (*str*) A UUID4 key assigned to the implementation.  \n",
    "- __type__ (*str*) The format that the implementation exists as.  For code-specific implementations, this should give both the name of the code and the file/style format. \n",
    "- __status__ (*str*) Indicates the implementation's status: \"active\", \"superseded\" or \"retracted\".  Superseded indicates that a newer active version exists that fixes small issues.  Retracted indicates that the implementation was revealed to be an incorrect implementation of the potential entry.\n",
    "- __date__ (*datetime.date*) The date associated with the implementation information being created/updated.\n",
    "- __notes__ (*str*) Comments about the implementation.  This differs from the Potential's notes in that it should be specific to the implementation, e.g. provenance information for the associated parameter files or differences between implementations.\n",
    "- __artifacts__ (*list*) Artifact objects assigned to the implementation.  \n",
    "- __parameters__ (*list*) Parameter objects assigned to the implementation.\n",
    "- __links__ (*list*) Link objects assigned to the implementation.\n",
    "- __add_artifact()__ Creates a new Artifact object and appends it to the artifacts list.\n",
    "- __add_parameter()__ Creates a new Parameter object and appends it to the parameters list.\n",
    "- __add_link()__ Creates a new Link object and appends it to the links list."
   ]
  },
  {
   "cell_type": "code",
   "execution_count": 13,
   "metadata": {},
   "outputs": [],
   "source": [
    "imp = entry.implementations[0]"
   ]
  },
  {
   "cell_type": "code",
   "execution_count": 15,
   "metadata": {},
   "outputs": [
    {
     "name": "stdout",
     "output_type": "stream",
     "text": [
      "imp.id:         2015--Purja-Pun-G-P--Cu-Ta--LAMMPS--ipr1\n",
      "imp.key:        167e5dfd-c0c3-49d3-8b67-c37268f94d04\n",
      "imp.type:       LAMMPS pair_style adp\n",
      "imp.status:     superseded\n",
      "imp.date:       2009-06-30\n",
      "imp.notes:      This file was provided by Yuri Mishin (George Mason University) on 11 Sep. 2015.\n",
      "imp.artifacts:  [<potentials.record.Artifact.Artifact object at 0x0000022EF3878278>]\n",
      "imp.parameters: []\n",
      "imp.links:      []\n"
     ]
    }
   ],
   "source": [
    "print('imp.id:        ', imp.id)\n",
    "print('imp.key:       ', imp.key)\n",
    "print('imp.type:      ', imp.type)\n",
    "print('imp.status:    ', imp.status)\n",
    "print('imp.date:      ', imp.date)\n",
    "print('imp.notes:     ', imp.notes)\n",
    "print('imp.artifacts: ', imp.artifacts)\n",
    "print('imp.parameters:', imp.parameters)\n",
    "print('imp.links:     ', imp.links)"
   ]
  },
  {
   "cell_type": "markdown",
   "metadata": {},
   "source": [
    "New content can be added to the implementation either by directly appending objects of the correct type to these lists, or by using the __add_artifact()__, __add_parameter()__, and __add_link()__ methods of Implementation.  The add methods take the parameters associated with initializing a new object, and then create said object and append it to the appropriate list."
   ]
  },
  {
   "cell_type": "markdown",
   "metadata": {},
   "source": [
    "### 3.2. Artifact class\n",
    "\n",
    "An Artifact object is meant to describe a file downloadable from a URL.  The class has three attributes that can either be set during initialization, or directly retrieved/set to the object:\n",
    "\n",
    "- __filename__ (*str, optional*) The name of the file without path information.\n",
    "- __label__ (*str, optional*) A short description label.\n",
    "- __url__ (*str, optional*) URL for file where downloaded, if available."
   ]
  },
  {
   "cell_type": "code",
   "execution_count": 16,
   "metadata": {},
   "outputs": [
    {
     "name": "stdout",
     "output_type": "stream",
     "text": [
      "CuTa_LJ15_2014.angdep\n",
      "None\n",
      "https://www.ctcms.nist.gov/potentials/Download/2015--Purja-Pun-G-P-Darling-K-A-Kecskes-L-J-Mishin-Y--Cu-Ta/1/CuTa_LJ15_2014.angdep\n"
     ]
    }
   ],
   "source": [
    "artifact = imp.artifacts[0]\n",
    "print(artifact.filename)\n",
    "print(artifact.label)\n",
    "print(artifact.url)"
   ]
  },
  {
   "cell_type": "markdown",
   "metadata": {},
   "source": [
    "### 3.3. Parameter class\n",
    "\n",
    "A Parameter object is meant to represent a parameter value that should be listed in HTML.  The class has three attributes that can either be set during initialization, or directly retrieved/set to the object:\n",
    "\n",
    "- __name__ (*str, optional*) The name of the parameter or string parameter line.\n",
    "- __value__ (*float, optional*) The value of a numerical parameter.\n",
    "- __unit__ (*str, optional*) Units associated with value."
   ]
  },
  {
   "cell_type": "code",
   "execution_count": 18,
   "metadata": {},
   "outputs": [
    {
     "name": "stdout",
     "output_type": "stream",
     "text": [
      "cutoff\n",
      "5.5\n",
      "Angstrom\n"
     ]
    }
   ],
   "source": [
    "# Example 1: parameter with name, value and unit\n",
    "param = potentials.record.Parameter(name='cutoff', value=5.5, unit='Angstrom')\n",
    "print(param.name)\n",
    "print(param.value)\n",
    "print(param.unit)"
   ]
  },
  {
   "cell_type": "markdown",
   "metadata": {},
   "source": [
    "### 3.4. Link class\n",
    "\n",
    "A Link object is meant to represent a hyperlink to external web pages.  The class has three attributes that can either be set during initialization, or directly retrieved/set to the object:\n",
    "\n",
    "- __url__ (*str, optional*) URL for the link.\n",
    "- __label__ (*str, optional*) A short description label.\n",
    "- __linktext__ (*str, optional*) The text for the link, i.e. what gets clicked on."
   ]
  },
  {
   "cell_type": "code",
   "execution_count": 19,
   "metadata": {},
   "outputs": [
    {
     "name": "stdout",
     "output_type": "stream",
     "text": [
      "https://www.ctcms.nist.gov/potentials/\n",
      "Go here:\n",
      "Interatomic Potentials Repository\n"
     ]
    }
   ],
   "source": [
    "link = potentials.record.Link(url='https://www.ctcms.nist.gov/potentials/', label='Go here:', linktext='Interatomic Potentials Repository')\n",
    "print(link.url)\n",
    "print(link.label)\n",
    "print(link.linktext)"
   ]
  }
 ],
 "metadata": {
  "kernelspec": {
   "display_name": "Python 3",
   "language": "python",
   "name": "python3"
  },
  "language_info": {
   "codemirror_mode": {
    "name": "ipython",
    "version": 3
   },
   "file_extension": ".py",
   "mimetype": "text/x-python",
   "name": "python",
   "nbconvert_exporter": "python",
   "pygments_lexer": "ipython3",
   "version": "3.7.3"
  }
 },
 "nbformat": 4,
 "nbformat_minor": 4
}
