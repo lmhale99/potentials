{
 "cells": [
  {
   "cell_type": "markdown",
   "id": "ceb6aec2-2e81-43ef-9e37-2f9bb17dcd45",
   "metadata": {},
   "source": [
    "# Package Design Overview\n",
    "\n",
    "This Notebook provides a general overview of the various components of the potentials package for more advanced users. "
   ]
  },
  {
   "cell_type": "markdown",
   "id": "a7cc32b6-4dd4-40e5-ad25-7e0516ca3076",
   "metadata": {},
   "source": [
    "## 1. Settings\n",
    "\n",
    "The potentials package allows for many default settings associated with how the package operates to be set and changed.  These settings are saved to a file allowing for the changes to be reflected in future sessions.\n",
    "\n",
    "See the [3. Change Default Settings](3. Change Default Settings.ipynb) Notebook for more details and examples."
   ]
  },
  {
   "cell_type": "markdown",
   "id": "fc2a9fbe-651b-4d7e-94f9-1ebfddb1d838",
   "metadata": {},
   "source": [
    "## 2. Database \n",
    "\n",
    "The potentials.Database class serves as the primary mechanism for exploring the hosted interatomic potentials and related records.  The Database class is designed to simultaneously interact with two distinct database locations referred to as \"local\" and \"remote\".\n",
    "\n",
    "- The __local__ database serves as a personal local copy of the NIST database.  This allows for user-defined additions and changes to be accessed without needing to submit/share the new files.  It also makes it possible for users to explore the NIST database without actively needing an internet connection.  By default, this is a local directory containing either JSON or XML files.\n",
    "- The __remote__ database serves as an external database that is searched after the local database to find any missing/new records.  By default, this is set to access the public NIST database at https://potentials.nist.gov.\n",
    "\n",
    "Options allow for either local or remote to not be searched, or the particular locations and settings to be changed.  Many of these options can be saved and set as the default behavior using settings.\n",
    "\n",
    "The Database object provides general methods for interacting with any of the supported record styles, as well as style-specific methods\n",
    "\n",
    "See the [4. Database class](4. Database class.ipynb) Notebook for more details and examples on the class itself and the general methods supporting record interactions.\n",
    "\n",
    "For record-specific interactions, see the corresponding 5. Notebooks for the different supported record styles."
   ]
  },
  {
   "cell_type": "markdown",
   "id": "dd3d8c64-c0b7-49c4-84f8-ddd4472a9c5d",
   "metadata": {},
   "source": [
    "## 3. Records\n",
    "\n",
    "The potentials package accesses database entries that represent different types of data.  Multiple Record classes are defined by the potentials package, with each record style corresponding to a given data entry type.  Each Record class interprets the data allowing for it to be interacted with in three distinct representations:\n",
    "\n",
    "- The \"python\" representation interprets data fields as class attributes that can be directly accessed and (for most styles) modified.  This allows for data entries to be examined and created without the user needing to know the underlying schema.  It also allows for the Record class to have built-in methods and attributes that use the data in more meaningful ways.\n",
    "- The \"data model\" representation corresponds to the database entry schema associated with that style of record, which is equivalently represented in JSON and XML.  Each Record class can load data model records, store the loaded data model internally, and (re)build the data model based on the current class attributes.\n",
    "- The \"metadata\" representation corresponds to a mostly flat dictionary of simple metadata fields extracted from the record.  This provides a quick means of viewing what the record represents and is used for the basis of building pandas.DataFrame objects.\n",
    "\n",
    "See the corresponding 5. Notebooks for more details on the different record styles and the record-style-specific methods supported by the Database class."
   ]
  },
  {
   "cell_type": "markdown",
   "id": "2f1a67e1-b081-4576-899a-63adaee9bd81",
   "metadata": {},
   "source": [
    "## 4. Record builders\n",
    "\n",
    "As stated above, most of the Record classes allow for building and loading of data model representations to/from the python representations.  The exception to this is PotentialLAMMPS class associated with interpreting entries for the LAMMPS-compatible potentials.  The data model format was designed to support the generation of LAMMPS pair_style and pair_coeff command lines.  As these vary in format across the different pair_styles, the associated data model is sufficiently complex enough that it was not practical for the same Python class to both interpret and build the data models of this schema.  This also meant that incorporating in user-defined potentials proved challenging.\n",
    "\n",
    "The potentials.build_lammps_potential() function addresses by allowing PotentialLAMMPS objects to be created for user-defined potentials and for the associated data models to be saved for later.  It supports the majority of pair_style/pair_coeff formats that are currently used.\n",
    "\n",
    "See the [6. Build LAMMPS Potentials](6. Build LAMMPS Potentials.ipynb) Notebook for more details and examples.  "
   ]
  },
  {
   "cell_type": "markdown",
   "id": "f834b9a2-62be-48e8-87ed-1435f9ee0bc8",
   "metadata": {},
   "source": [
    "## 5. Parameter file tools\n",
    "\n",
    "The potentials.paramfile submodule contains tools associated with reading and building potential parameter files.  This allows for analyzing the parameters and parameter tables in existing parameter files, and for new parameter files to be constructed.\n",
    "\n",
    "See the [7. Parameter File Tools](7. Parameter File Tools.ipynb) Notebook for more details and examples.  "
   ]
  }
 ],
 "metadata": {
  "kernelspec": {
   "display_name": "ipr",
   "language": "python",
   "name": "ipr"
  },
  "language_info": {
   "codemirror_mode": {
    "name": "ipython",
    "version": 3
   },
   "file_extension": ".py",
   "mimetype": "text/x-python",
   "name": "python",
   "nbconvert_exporter": "python",
   "pygments_lexer": "ipython3",
   "version": "3.11.11"
  }
 },
 "nbformat": 4,
 "nbformat_minor": 5
}
