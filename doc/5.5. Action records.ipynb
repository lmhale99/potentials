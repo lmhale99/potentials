{
 "cells": [
  {
   "cell_type": "markdown",
   "id": "8b81e0e6-20dd-4006-b556-4c78ace18cc7",
   "metadata": {},
   "source": [
    "# Action records\n",
    "\n",
    "The Action records provide descriptions of changes made to the NIST Interatomic Potentials Repository.  These are the listings that appear on the \"updates\" page. \n",
    "\n",
    "__NOTE:__ Most users will not likely interact with these records, but this Notebook is included for completeness."
   ]
  },
  {
   "cell_type": "code",
   "execution_count": 1,
   "id": "d18cd9fe-8d91-4fbe-bd9b-369bc7853657",
   "metadata": {},
   "outputs": [
    {
     "name": "stdout",
     "output_type": "stream",
     "text": [
      "Notebook tested for potentials version 0.3.6\n"
     ]
    }
   ],
   "source": [
    "# https://github.com/lmhale99/potentials\n",
    "import potentials\n",
    "\n",
    "print('Notebook tested for potentials version', potentials.__version__)"
   ]
  },
  {
   "cell_type": "code",
   "execution_count": 2,
   "id": "8c939890-d5e7-4429-95b7-5fffe5b11afb",
   "metadata": {},
   "outputs": [],
   "source": [
    "potdb = potentials.Database(local=True, remote=True)"
   ]
  },
  {
   "cell_type": "markdown",
   "id": "30c6e7b2-6589-4f1d-a9f3-1d6d39c8e132",
   "metadata": {},
   "source": [
    "## 1. Database methods\n",
    "\n",
    "### 1.1. get_actions(), get_action(), download_actions()\n",
    "\n",
    "These methods build upon the Database's corresponding generic record methods with style='Action' by defining the specific kwargs query parameters associated with the Potential record style.\n",
    "See the [4. Database class](4. Database class.ipynb) Notebook for details on the generic record methods.\n",
    "\n",
    "Query parameters\n",
    "\n",
    "- __name__ (*str or list*) The record name(s) to parse by.\n",
    "- __date__ (*str or list*) The date associated with the record.\n",
    "- __type__ (*str or list*) The type of action: 'new posting', 'updated posting', 'retraction', or 'site change'.\n",
    "- __potential_id__ (*str or list*) Limits results to entries related to the given potential id.\n",
    "- __potential_key__ (*str or list*) Limits results to entries related to the given potential key.\n",
    "- __element__ (*str or list*) Limits results to entries related to potentials with the given element(s).\n",
    "- __comment__ (*str or list*) Term(s) to search for in the action's comment field."
   ]
  },
  {
   "cell_type": "code",
   "execution_count": 4,
   "id": "61effe65-dd2d-480a-a0b9-76c1ee5692ce",
   "metadata": {},
   "outputs": [
    {
     "name": "stdout",
     "output_type": "stream",
     "text": [
      "Found 0 matching Action records in local library\n",
      "Found 2 matching Action records in remote library\n"
     ]
    },
    {
     "data": {
      "text/html": [
       "<div>\n",
       "<style scoped>\n",
       "    .dataframe tbody tr th:only-of-type {\n",
       "        vertical-align: middle;\n",
       "    }\n",
       "\n",
       "    .dataframe tbody tr th {\n",
       "        vertical-align: top;\n",
       "    }\n",
       "\n",
       "    .dataframe thead th {\n",
       "        text-align: right;\n",
       "    }\n",
       "</style>\n",
       "<table border=\"1\" class=\"dataframe\">\n",
       "  <thead>\n",
       "    <tr style=\"text-align: right;\">\n",
       "      <th></th>\n",
       "      <th>name</th>\n",
       "      <th>date</th>\n",
       "      <th>type</th>\n",
       "      <th>comment</th>\n",
       "      <th>potentials</th>\n",
       "    </tr>\n",
       "  </thead>\n",
       "  <tbody>\n",
       "    <tr>\n",
       "      <th>0</th>\n",
       "      <td>2018-10-10 New postings for Ga-As and Ga-N</td>\n",
       "      <td>2018-10-10</td>\n",
       "      <td>new posting</td>\n",
       "      <td>New postings for Ga-As and Ga-N</td>\n",
       "      <td>[{'id': '2002--Albe-K-Nordlund-K-Nord-J-Kurone...</td>\n",
       "    </tr>\n",
       "    <tr>\n",
       "      <th>1</th>\n",
       "      <td>2018-10-12-New-postings-for-analytical-BOP-pot...</td>\n",
       "      <td>2018-10-12</td>\n",
       "      <td>new posting</td>\n",
       "      <td>New postings for analytical BOP potentials (di...</td>\n",
       "      <td>[{'id': '2016--Zhou-X-W-Ward-D-K-Foster-M-E--A...</td>\n",
       "    </tr>\n",
       "  </tbody>\n",
       "</table>\n",
       "</div>"
      ],
      "text/plain": [
       "                                                name        date         type  \\\n",
       "0         2018-10-10 New postings for Ga-As and Ga-N  2018-10-10  new posting   \n",
       "1  2018-10-12-New-postings-for-analytical-BOP-pot...  2018-10-12  new posting   \n",
       "\n",
       "                                             comment  \\\n",
       "0                    New postings for Ga-As and Ga-N   \n",
       "1  New postings for analytical BOP potentials (di...   \n",
       "\n",
       "                                          potentials  \n",
       "0  [{'id': '2002--Albe-K-Nordlund-K-Nord-J-Kurone...  \n",
       "1  [{'id': '2016--Zhou-X-W-Ward-D-K-Foster-M-E--A...  "
      ]
     },
     "execution_count": 4,
     "metadata": {},
     "output_type": "execute_result"
    }
   ],
   "source": [
    "actions, actions_df = potdb.get_actions(verbose=True, element='As', return_df=True)\n",
    "actions_df"
   ]
  },
  {
   "cell_type": "markdown",
   "id": "d4d31095-9816-4627-b42f-0f41ad17c571",
   "metadata": {},
   "source": [
    "### 1.2. save_action(), upload_action(), delete_action()\n",
    "\n",
    "These methods are identical to calling the Database's corresponding generic record methods with style='Action'.  See the [4. Database class](4. Database class.ipynb) Notebook for details on the generic record methods."
   ]
  },
  {
   "cell_type": "markdown",
   "id": "e7f1e7dd-583b-44ff-b195-55d36324ab02",
   "metadata": {},
   "source": [
    "## 2. Action class"
   ]
  },
  {
   "cell_type": "code",
   "execution_count": 5,
   "id": "a36f03e6-8dcd-420e-ab8c-8e4ce711380b",
   "metadata": {},
   "outputs": [],
   "source": [
    "action = actions[0]"
   ]
  },
  {
   "cell_type": "markdown",
   "id": "1e7f03b4-9c73-4332-a72d-c1471ba22cbe",
   "metadata": {},
   "source": [
    "### 2.1. Python representation\n",
    "\n",
    "Style-specific methods and attributes:\n",
    "\n",
    "- __date__ (*str*) The date associated with the update.\n",
    "- __type__ (*str*) The type of action update.\n",
    "- __allowedtypes__ (*list*) The list of all allowed action types: \"new posting\", \"updated posting\", \"retraction\", and \"site change\".\n",
    "- __potentials__ (*list or None*) The list of potential entries associated with update.  This uses a PotInfo component class that takes key, id, dois, elements, othername and fictional from full Potential objects. \n",
    "- __comment__ (*str or None*) Any additional comments associated with the action."
   ]
  },
  {
   "cell_type": "code",
   "execution_count": 6,
   "id": "c310a02c-3f79-4bd2-aef5-865e47c5000c",
   "metadata": {},
   "outputs": [
    {
     "data": {
      "text/plain": [
       "'new posting'"
      ]
     },
     "execution_count": 6,
     "metadata": {},
     "output_type": "execute_result"
    }
   ],
   "source": [
    "action.type"
   ]
  },
  {
   "cell_type": "code",
   "execution_count": 7,
   "id": "a2ba6e14-75d4-4c67-9624-28fceab5fc6e",
   "metadata": {},
   "outputs": [
    {
     "data": {
      "text/plain": [
       "[<potentials.record.Action.PotInfo at 0x1969a468a88>,\n",
       " <potentials.record.Action.PotInfo at 0x1969fac7a48>]"
      ]
     },
     "execution_count": 7,
     "metadata": {},
     "output_type": "execute_result"
    }
   ],
   "source": [
    "action.potentials"
   ]
  },
  {
   "cell_type": "markdown",
   "id": "18b4c9bf-b0df-43b0-a5f4-58c2bdd8847c",
   "metadata": {},
   "source": [
    "### 2.2. Data Model representation\n",
    "\n",
    "Style-specific notes:\n",
    "\n",
    "- The kwargs that mongoquery and cdcsquery support are the same as the query kwargs listed above for the database methods.\n",
    "  "
   ]
  },
  {
   "cell_type": "code",
   "execution_count": 8,
   "id": "4995a7eb-670e-4497-90bb-fdefcdb817c5",
   "metadata": {},
   "outputs": [
    {
     "data": {
      "text/html": [
       "<div xmlns=\"http://www.w3.org/TR/xhtml1/strict\"><b>new posting (2018-10-10): </b>New postings for Ga-As and Ga-N <ul><li><a href=\"https://www.ctcms.nist.gov/potentials/entry/2002--Albe-K-Nordlund-K-Nord-J-Kuronen-A--Ga-As\">2002--Albe-K-Nordlund-K-Nord-J-Kuronen-A--Ga-As</a></li><li><a href=\"https://www.ctcms.nist.gov/potentials/entry/2003--Nord-J-Albe-K-Erhart-P-Nordlund-K--Ga-N\">2003--Nord-J-Albe-K-Erhart-P-Nordlund-K--Ga-N</a></li></ul></div>"
      ],
      "text/plain": [
       "<IPython.core.display.HTML object>"
      ]
     },
     "metadata": {},
     "output_type": "display_data"
    }
   ],
   "source": [
    "action.html(render=True)"
   ]
  },
  {
   "cell_type": "markdown",
   "id": "bccb7c86-b3e7-4ab9-be9a-efad389b968a",
   "metadata": {},
   "source": [
    "### 2.3. Metadata representation\n",
    "\n",
    "Style-specific notes:\n",
    "\n",
    "- The kwargs that pandasfilter supports are the same as the query kwargs listed above for the database methods."
   ]
  },
  {
   "cell_type": "code",
   "execution_count": 9,
   "id": "ba025cd0-df08-4f6f-8721-5cb224763b1c",
   "metadata": {},
   "outputs": [
    {
     "data": {
      "text/plain": [
       "{'name': '2018-10-10 New postings for Ga-As and Ga-N',\n",
       " 'date': datetime.date(2018, 10, 10),\n",
       " 'type': 'new posting',\n",
       " 'comment': 'New postings for Ga-As and Ga-N',\n",
       " 'potentials': [{'id': '2002--Albe-K-Nordlund-K-Nord-J-Kuronen-A--Ga-As',\n",
       "   'key': '63846fe7-c4b9-4357-86a2-185a431810ad',\n",
       "   'dois': ['10.1103/physrevb.66.035205'],\n",
       "   'elements': ['Ga', 'As'],\n",
       "   'othername': None,\n",
       "   'fictional': False},\n",
       "  {'id': '2003--Nord-J-Albe-K-Erhart-P-Nordlund-K--Ga-N',\n",
       "   'key': '21fd9cb3-626b-4c40-b049-ecccd27f4646',\n",
       "   'dois': ['10.1088/0953-8984/15/32/324'],\n",
       "   'elements': ['Ga', 'N'],\n",
       "   'othername': None,\n",
       "   'fictional': False}]}"
      ]
     },
     "execution_count": 9,
     "metadata": {},
     "output_type": "execute_result"
    }
   ],
   "source": [
    "action.metadata()"
   ]
  },
  {
   "cell_type": "code",
   "execution_count": null,
   "id": "ccc4cf1f",
   "metadata": {},
   "outputs": [],
   "source": []
  }
 ],
 "metadata": {
  "kernelspec": {
   "display_name": "Python 3 (ipykernel)",
   "language": "python",
   "name": "python3"
  },
  "language_info": {
   "codemirror_mode": {
    "name": "ipython",
    "version": 3
   },
   "file_extension": ".py",
   "mimetype": "text/x-python",
   "name": "python",
   "nbconvert_exporter": "python",
   "pygments_lexer": "ipython3",
   "version": "3.7.13"
  }
 },
 "nbformat": 4,
 "nbformat_minor": 5
}
