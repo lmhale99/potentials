{
 "cells": [
  {
   "cell_type": "markdown",
   "id": "b2261dfe-3b34-486a-b154-dd5f36e03e56",
   "metadata": {},
   "source": [
    "# Record Classes\n",
    "\n",
    "This Notebook provides a general overview of the Record subclasses and outlines the common methods and attributes that they share.\n",
    "\n",
    "The potentials package is designed to interact with different types of data, which are referred to as \"record styles\".  Each style has its own Record subclass, and is associated with a particular data model schema. As style-subclass-schema are all uniquely linked, the terms may be used interchangeably in this documentation even if they are not technically equivalent.\n",
    "\n",
    "The Record subclasses are designed to allow for users to interact with the data in three primary representations:\n",
    "\n",
    "- The \"python\" representation interprets data fields as class attributes that can be directly accessed and (for most styles) modified.  This allows for data entries to be examined and created without the user needing to know the underlying schema.  It also allows for the Record class to have built-in methods and attributes that use the data in meaningful ways.\n",
    "- The \"data model\" representation corresponds to the database entry schema associated with that style of record, which is equivalently represented in JSON and XML.  Each Record class can load data model records, store the loaded data model internally, and (re)build the data model based on the current class attributes.\n",
    "- The \"metadata\" representation corresponds to a dictionary of simple metadata fields extracted from the record.  This is meant to provide a simple overview of each record which can be used for comparing and parsing.\n"
   ]
  },
  {
   "cell_type": "code",
   "execution_count": 1,
   "id": "c95b07f0-aff4-4550-8403-2528449242ca",
   "metadata": {},
   "outputs": [
    {
     "name": "stdout",
     "output_type": "stream",
     "text": [
      "Notebook tested for potentials version 0.3.0\n"
     ]
    }
   ],
   "source": [
    "# Standard Python libraries\n",
    "from pathlib import Path\n",
    "\n",
    "import pandas as pd\n",
    "\n",
    "# https://github.com/lmhale99/potentials\n",
    "import potentials\n",
    "\n",
    "print('Notebook tested for potentials version', potentials.__version__)"
   ]
  },
  {
   "cell_type": "markdown",
   "id": "6a7b5af4-17f1-44bc-a828-037c6543a1bf",
   "metadata": {},
   "source": [
    "## 1. Loading and managing record styles\n",
    "\n",
    "The different record styles are managed in a modular way making it possible for new record styles to be easily added in the future."
   ]
  },
  {
   "cell_type": "markdown",
   "id": "babd0cd4-396d-4650-b2a5-6a7b14371292",
   "metadata": {},
   "source": [
    "### 1.1. potentials.recordmanager.check_styles()\n",
    "\n",
    "The recordmanager is an object that manages the different Record classes and allows for them to be imported, found and accessed according to their record styles.  \n",
    "\n",
    "Calling recordmanager.check_styles() will print messages about which record styles are included and if any error messages were encountered.  Typically, these error messages indicate that a particular style may require additional Python packages to be installed in order to be used."
   ]
  },
  {
   "cell_type": "code",
   "execution_count": 2,
   "id": "52c7bf14-22c4-44a0-8224-4bf6ca3b9ab5",
   "metadata": {},
   "outputs": [
    {
     "name": "stdout",
     "output_type": "stream",
     "text": [
      "Record styles that passed import:\n",
      "- Citation\n",
      "- Potential\n",
      "- potential_LAMMPS\n",
      "- potential_LAMMPS_KIM\n",
      "- Action\n",
      "- Request\n",
      "- FAQ\n",
      "Record styles that failed import:\n",
      "\n"
     ]
    }
   ],
   "source": [
    "potentials.recordmanager.check_styles()"
   ]
  },
  {
   "cell_type": "markdown",
   "id": "5e2bd33a-a74b-49a1-96e6-042856aca6f4",
   "metadata": {},
   "source": [
    "### 1.2. potentials.load_record()\n",
    "\n",
    "load_record() will create an object of a Record subclass based on a given record style.  This can be used to load a single local record or to start creating a new record.\n",
    "\n",
    "- __style__ (*str*) The record style.\n",
    "- __name__ (*str, optional*) The name to give to the specific record.\n",
    "- __model__ (*str, DataModelDict, optional*) Data model content to load for the given record style.\n",
    "- __\\*\\*kwargs__ (*any, optional*) Any extra keyword parameter supported by the record style.  Typically, these are attributes of the data that are set directly rather than loading from a model."
   ]
  },
  {
   "cell_type": "code",
   "execution_count": 3,
   "id": "0739e56b-f0dc-48ec-a9b2-f2466b98f7d3",
   "metadata": {},
   "outputs": [],
   "source": [
    "# Create a new FAQ record\n",
    "record = potentials.load_record('FAQ', name='test')"
   ]
  },
  {
   "cell_type": "markdown",
   "id": "a594ce6d-3b9a-4014-ad70-4f3e2e1fc9b6",
   "metadata": {},
   "source": [
    "## 2. Python representation\n",
    "\n",
    "Most of the methods and attributes of the various record styles are designed to access and use the particular data that the record entry represents.  As such, the different record styles only share a few common properties.\n",
    "\n",
    "- __style__ (*str*) The record style.  \n",
    "- __name__ (*str*) The name assigned to the record.  This is used to save the record, so it should be unique at least for all records of the same style.\n",
    "- __set_values(name=None, \\*\\*kwargs)__ Allows for the values of multiple attributes to be set at the same time.  The allowed kwargs depends on the style."
   ]
  },
  {
   "cell_type": "code",
   "execution_count": 4,
   "id": "2ef3cef8-4893-4468-98d2-cc38314d410e",
   "metadata": {},
   "outputs": [
    {
     "name": "stdout",
     "output_type": "stream",
     "text": [
      "record.style: FAQ\n",
      "record.name:  test\n"
     ]
    }
   ],
   "source": [
    "print('record.style:', record.style)\n",
    "print('record.name: ', record.name)"
   ]
  },
  {
   "cell_type": "markdown",
   "id": "07064538-4430-4e9b-afc9-4fd0230c1b51",
   "metadata": {},
   "source": [
    "FAQ records only have question and answer values.  These can be set directly to the record.question and record.answer attributes, or both at the same time using record.set_values()"
   ]
  },
  {
   "cell_type": "code",
   "execution_count": 5,
   "id": "c0f6bf30-1c84-4f6c-866a-6af2744a0df1",
   "metadata": {},
   "outputs": [],
   "source": [
    "question = \"How much wood would a woodchuck chuck if a woodchuck could chuck wood?\"\n",
    "answer = \"Sixty six sycamore sticks\"\n",
    "\n",
    "record.set_values(question=question, answer=answer)"
   ]
  },
  {
   "cell_type": "markdown",
   "id": "488a84f3-b627-40a9-850b-10f5f1438feb",
   "metadata": {},
   "source": [
    "## 3. Data model representation\n",
    "\n",
    "### 3.1 Model operations\n",
    "\n",
    "- __model__ (*DataModelDict*) The data model contents that were loaded/built.\n",
    "- __modelroot__ (*str*) The name of the root element in the data model.\n",
    "- __load_model(model, name=None)__ Loads in new data model contents and updates the Python attributes accordingly.\n",
    "- __build_model()__ Builds data model content based on the current values of the Python attributes.  Any existing model will be replaced by the newly built contents.\n",
    "- __reload_model()__ Loads the current value of model and updates the Python attributes accordingly.  Allows for direct changes to be made to the model representation."
   ]
  },
  {
   "cell_type": "code",
   "execution_count": 6,
   "id": "cc44b422-026e-447c-a8d0-9e17e92d989c",
   "metadata": {},
   "outputs": [
    {
     "name": "stdout",
     "output_type": "stream",
     "text": [
      "record.modelroot: faq\n"
     ]
    }
   ],
   "source": [
    "print('record.modelroot:', record.modelroot)"
   ]
  },
  {
   "cell_type": "markdown",
   "id": "a277ec8f-8372-4b66-8da4-7b6e1892115e",
   "metadata": {},
   "source": [
    "__NOTE__: As the model values were set to the object and not loaded from a data model, no model exists yet!"
   ]
  },
  {
   "cell_type": "code",
   "execution_count": 7,
   "id": "c06700ad-c2e1-4136-9ca7-6eadb9794744",
   "metadata": {},
   "outputs": [
    {
     "name": "stdout",
     "output_type": "stream",
     "text": [
      "AttributeError: model content has not been loaded or built\n"
     ]
    }
   ],
   "source": [
    "# Model is not set yet as values were directly set above\n",
    "try:\n",
    "    record.model\n",
    "except Exception as e:\n",
    "    errortype = str(type(e)).split(\"'\")[1]\n",
    "    print(f'{errortype}: {e}')"
   ]
  },
  {
   "cell_type": "markdown",
   "id": "70c62713-a599-4031-b61e-e4e5aab96c91",
   "metadata": {},
   "source": [
    "However, model does exist after building.  Model can then be accessed as a DataModelDict, or transformed into JSON or XML."
   ]
  },
  {
   "cell_type": "code",
   "execution_count": 8,
   "id": "e8fec686-9249-4274-b6a9-e240c45f9ef4",
   "metadata": {},
   "outputs": [
    {
     "name": "stdout",
     "output_type": "stream",
     "text": [
      "Python DataModelDict of the data model:\n",
      "DataModelDict([('faq', DataModelDict([('question', 'How much wood would a woodchuck chuck if a woodchuck could chuck wood?'), ('answer', 'Six sycamore sticks')]))])\n",
      "\n",
      "JSON of the data model:\n",
      "{\n",
      "    \"faq\": {\n",
      "        \"question\": \"How much wood would a woodchuck chuck if a woodchuck could chuck wood?\",\n",
      "        \"answer\": \"Six sycamore sticks\"\n",
      "    }\n",
      "}\n",
      "\n",
      "XML of the data model:\n",
      "<?xml version=\"1.0\" encoding=\"utf-8\"?>\n",
      "<faq>\n",
      "  <question>How much wood would a woodchuck chuck if a woodchuck could chuck wood?</question>\n",
      "  <answer>Six sycamore sticks</answer>\n",
      "</faq>\n"
     ]
    }
   ],
   "source": [
    "record.build_model()\n",
    "\n",
    "print('Python DataModelDict of the data model:')\n",
    "print(record.model)\n",
    "print()\n",
    "\n",
    "print('JSON of the data model:')\n",
    "print(record.model.json(indent=4))\n",
    "print()\n",
    "\n",
    "print('XML of the data model:')\n",
    "print(record.model.xml(indent=2))"
   ]
  },
  {
   "cell_type": "markdown",
   "id": "736688dc-73e3-498b-b64c-ad7971cb08ab",
   "metadata": {},
   "source": [
    "The values can be updated by changing the record attributes, after which build_model() would need to be called again for model to reflect this.\n",
    "\n",
    "Alternatively, the values can be changed directly to the model, then call reload_model() for the attributes to be updated."
   ]
  },
  {
   "cell_type": "code",
   "execution_count": 9,
   "id": "2bc878e5-1978-4a8f-9d4e-092bcec4d0ca",
   "metadata": {},
   "outputs": [
    {
     "name": "stdout",
     "output_type": "stream",
     "text": [
      "record.answer: Six sycamore sticks\n",
      "record.answer: Six sycamore sticks\n",
      "record.answer: A woodchuck would chuck as much wood as a woodchuck could chuck if a woodchuck could chuck wood.\n"
     ]
    }
   ],
   "source": [
    "print('record.answer:', record.answer)\n",
    "\n",
    "# Correct the answer directly to the model\n",
    "record.model['faq']['answer'] = 'A woodchuck would chuck as much wood as a woodchuck could chuck if a woodchuck could chuck wood.'\n",
    "\n",
    "# Note that record.answer is currently unchanged\n",
    "print('record.answer:', record.answer)\n",
    "\n",
    "# But, after calling reload_model() it is\n",
    "record.reload_model()\n",
    "print('record.answer:', record.answer)"
   ]
  },
  {
   "cell_type": "markdown",
   "id": "352b6fcb-5f80-4787-9264-4705ab284d7b",
   "metadata": {},
   "source": [
    "### 3.2. XSD schema\n",
    "\n",
    "The XSD shema describes the proper fields that a record can have for the style.\n",
    "\n",
    "- __xsd_filename__ (*tuple*) The module location and filename for the record style's XSD schema.\n",
    "- __xsd__ (*bytes*) The contents of the XSD schema file.\n",
    "- __valid_xml(xml_content=None)__ Returns True/False based on if model or a given XML content is valid according to the XSD schema file."
   ]
  },
  {
   "cell_type": "code",
   "execution_count": 10,
   "id": "1ddc70b3-0e19-475d-aafc-aa2b9c3e6a31",
   "metadata": {},
   "outputs": [
    {
     "name": "stdout",
     "output_type": "stream",
     "text": [
      "record.xsd_filename: ('potentials.xsd', 'FAQ.xsd')\n",
      "record.valid_xml(): True\n",
      "record.xsd:\n",
      "<?xml version=\"1.0\" encoding=\"UTF-8\" standalone=\"no\"?>\n",
      "<xsd:schema xmlns:xsd=\"http://www.w3.org/2001/XMLSchema\" attributeFormDefault=\"unqualified\" elementFormDefault=\"unqualified\">\n",
      "  <xsd:element name=\"faq\">\n",
      "    <xsd:complexType>\n",
      "      <xsd:sequence>\n",
      "        <xsd:element name=\"question\" type=\"xsd:string\"/>\n",
      "        <xsd:element name=\"answer\" type=\"xsd:string\"/>\n",
      "      </xsd:sequence>\n",
      "    </xsd:complexType>\n",
      "  </xsd:element>\n",
      "</xsd:schema>\n"
     ]
    }
   ],
   "source": [
    "print('record.xsd_filename:', record.xsd_filename)\n",
    "print('record.valid_xml():', record.valid_xml())\n",
    "print('record.xsd:')\n",
    "print(record.xsd.decode('UTF-8'))\n"
   ]
  },
  {
   "cell_type": "markdown",
   "id": "3b8151bc-af50-4176-adcd-6877a27b999a",
   "metadata": {},
   "source": [
    "### 3.3. XSL transformation to HTML\n",
    "\n",
    "The XSL transformation file converts the XML representation of the model to HTML.\n",
    "\n",
    "- __xsl_filename__ (*tuple*) The module location and filename for an XSL transformation file that transforms the XML representation of the data model to HTML.\n",
    "- __xsl__ (*bytes*) The contents of the XSL transformation file.\n",
    "- __html(render=False)__ Generates HTML content based on model and the XSL transformation file."
   ]
  },
  {
   "cell_type": "code",
   "execution_count": 11,
   "id": "2e142766-13f6-4b9a-937b-b373048c0974",
   "metadata": {},
   "outputs": [
    {
     "name": "stdout",
     "output_type": "stream",
     "text": [
      "record.xsl_filename: ('potentials.xsd', 'FAQ.xsd')\n",
      "record.xsl:\n",
      "<?xml version=\"1.0\" encoding=\"UTF-8\"?>\n",
      "<xsl:stylesheet version=\"1.0\" \n",
      "  xmlns:xsl=\"http://www.w3.org/1999/XSL/Transform\" \n",
      "  xmlns=\"http://www.w3.org/TR/xhtml1/strict\">\n",
      "  <xsl:output method=\"html\" encoding=\"utf-8\" indent=\"yes\" />\n",
      "  \n",
      "  <xsl:template match=\"faq\">\n",
      "    <div>\n",
      "      <b>\n",
      "        <xsl:text>Question: </xsl:text>\n",
      "        <xsl:value-of select=\"question\" disable-output-escaping=\"yes\"/>\n",
      "      </b>\n",
      "      <br/>\n",
      "      <xsl:text>Answer: </xsl:text>\n",
      "      <xsl:value-of select=\"answer\" disable-output-escaping=\"yes\"/>\n",
      "    </div>\n",
      "  </xsl:template>\n",
      "</xsl:stylesheet>\n"
     ]
    }
   ],
   "source": [
    "print('record.xsl_filename:', record.xsd_filename)\n",
    "print('record.xsl:')\n",
    "print(record.xsl.decode('UTF-8'))"
   ]
  },
  {
   "cell_type": "markdown",
   "id": "ecfdb9e0-a52a-43d7-b6e8-6ceb58b9823f",
   "metadata": {},
   "source": [
    "With render=False, html() returns the HTML content as a string."
   ]
  },
  {
   "cell_type": "code",
   "execution_count": 12,
   "id": "1a0ff5d2-b070-4990-b978-a916e45058c7",
   "metadata": {},
   "outputs": [
    {
     "name": "stdout",
     "output_type": "stream",
     "text": [
      "<div xmlns=\"http://www.w3.org/TR/xhtml1/strict\"><b>Question: How much wood would a woodchuck chuck if a woodchuck could chuck wood?</b><br/>Answer: A woodchuck would chuck as much wood as a woodchuck could chuck if a woodchuck could chuck wood.</div>\n"
     ]
    }
   ],
   "source": [
    "print(record.html())"
   ]
  },
  {
   "cell_type": "markdown",
   "id": "e6a53873-f8f5-4183-9e7a-8079942aa7cc",
   "metadata": {},
   "source": [
    "With render=True, html() will properly render the HTML content when called in Jupyter Notebooks"
   ]
  },
  {
   "cell_type": "code",
   "execution_count": 13,
   "id": "edc88117-3843-40bb-9b83-802038981451",
   "metadata": {},
   "outputs": [
    {
     "data": {
      "text/html": [
       "<div xmlns=\"http://www.w3.org/TR/xhtml1/strict\"><b>Question: How much wood would a woodchuck chuck if a woodchuck could chuck wood?</b><br/>Answer: A woodchuck would chuck as much wood as a woodchuck could chuck if a woodchuck could chuck wood.</div>"
      ],
      "text/plain": [
       "<IPython.core.display.HTML object>"
      ]
     },
     "metadata": {},
     "output_type": "display_data"
    }
   ],
   "source": [
    "record.html(render=True)"
   ]
  },
  {
   "cell_type": "markdown",
   "id": "a83350bc-7db9-4e53-863e-b96b59cebabc",
   "metadata": {},
   "source": [
    "### 3.4. Query methods\n",
    "\n",
    "Query methods are defined for each record that convert simple function inputs into database-specific queries.  Ideally, these query methods and the pandasfilter() method discussed below should identify the same matching records for the same kwarg inputs.\n",
    "\n",
    "- __mongoquery(\\*\\*kwargs)__ Builds a mongo-style query based on the given kwargs values for style-specific attributes.\n",
    "- __cdcsquery(\\*\\*kwargs)__ Builds a mongo-style query for CDCS databases based on the given kwargs values for style-specific attributes."
   ]
  },
  {
   "cell_type": "code",
   "execution_count": 14,
   "id": "ba767db4-6296-47f3-84a3-7dc5bafd2d7f",
   "metadata": {},
   "outputs": [
    {
     "data": {
      "text/plain": [
       "{'$and': [{'content.faq.question': {'$regex': 'woodchuck'}}]}"
      ]
     },
     "execution_count": 14,
     "metadata": {},
     "output_type": "execute_result"
    }
   ],
   "source": [
    "# For FAQs, the query built will search for question and/or answer fields containing specified strings\n",
    "record.mongoquery(question=\"woodchuck\")"
   ]
  },
  {
   "cell_type": "markdown",
   "id": "93e8d254-cd63-4ee1-88e9-e9010a98fe98",
   "metadata": {},
   "source": [
    "## 4. Metadata representation\n",
    "\n",
    "The Record classes can only generate a metadata dictionary based on the current attributes and cannot load information in this form.  This is because the metadata representation is purposefully limited to simple data types and therefore may not contain all of the record's information.  Limiting the metadata output to simple data types ensures that it can be easily parsed and compared across different records.\n",
    "\n",
    "- __metadata()__ Returns the metadata dictionary for the record.\n",
    "- __pandasfilter(dataframe, \\*\\*kwargs)__ Generates a boolean index based on a given pandas.DataFrame of metadata fields based on the given kwargs values for style-specific attributes.  Ideally, this should as the query methods discussed above do for the same kwarg inputs."
   ]
  },
  {
   "cell_type": "code",
   "execution_count": 15,
   "id": "7c6a781a-adba-4dca-9fe5-83e78ac4e64f",
   "metadata": {},
   "outputs": [
    {
     "data": {
      "text/plain": [
       "{'name': 'test',\n",
       " 'question': 'How much wood would a woodchuck chuck if a woodchuck could chuck wood?',\n",
       " 'answer': 'A woodchuck would chuck as much wood as a woodchuck could chuck if a woodchuck could chuck wood.'}"
      ]
     },
     "execution_count": 15,
     "metadata": {},
     "output_type": "execute_result"
    }
   ],
   "source": [
    "record.metadata()"
   ]
  },
  {
   "cell_type": "markdown",
   "id": "19a004f8-eadb-41c2-8d36-0d7ff6fd3a8e",
   "metadata": {},
   "source": [
    "Build a single-row DataFrame based on the record."
   ]
  },
  {
   "cell_type": "code",
   "execution_count": 16,
   "id": "8aaff1d1-a197-44ad-a270-89b475e660f9",
   "metadata": {},
   "outputs": [],
   "source": [
    "df = pd.DataFrame([record.metadata()])"
   ]
  },
  {
   "cell_type": "code",
   "execution_count": 17,
   "id": "e2b21835-9121-44a3-b208-3bed77c5d05f",
   "metadata": {},
   "outputs": [
    {
     "data": {
      "text/plain": [
       "0    True\n",
       "dtype: bool"
      ]
     },
     "execution_count": 17,
     "metadata": {},
     "output_type": "execute_result"
    }
   ],
   "source": [
    "record.pandasfilter(df, question='woodchuck')"
   ]
  },
  {
   "cell_type": "code",
   "execution_count": 18,
   "id": "0599461a-b97b-405a-a0ab-12437fabefb5",
   "metadata": {},
   "outputs": [
    {
     "data": {
      "text/plain": [
       "0    False\n",
       "dtype: bool"
      ]
     },
     "execution_count": 18,
     "metadata": {},
     "output_type": "execute_result"
    }
   ],
   "source": [
    "record.pandasfilter(df, question='bull moose')"
   ]
  }
 ],
 "metadata": {
  "kernelspec": {
   "display_name": "Python 3",
   "language": "python",
   "name": "python3"
  },
  "language_info": {
   "codemirror_mode": {
    "name": "ipython",
    "version": 3
   },
   "file_extension": ".py",
   "mimetype": "text/x-python",
   "name": "python",
   "nbconvert_exporter": "python",
   "pygments_lexer": "ipython3",
   "version": "3.7.3"
  }
 },
 "nbformat": 4,
 "nbformat_minor": 5
}
