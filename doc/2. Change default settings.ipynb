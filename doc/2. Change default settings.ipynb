{
 "cells": [
  {
   "cell_type": "markdown",
   "metadata": {},
   "source": [
    "# Change default settings\n",
    "\n",
    "This Notebook outlines the settings for the potentials package that can be saved across sessions.  Doing so provides users a convenient means of saving useful parameter sets and to control default behaviors.   \n",
    "\n",
    "1. __Settings basics__ describes how the settings are saved and where the settings file is located. \n",
    "2. __Default options__ describes which Database class parameters default values can be set for.\n",
    "3. __Database interactions__ describes how to change the databases that the Database class interacts with.\n",
    "\n",
    "All of the settings here are controlled by using potentials.settings."
   ]
  },
  {
   "cell_type": "code",
   "execution_count": 1,
   "metadata": {},
   "outputs": [],
   "source": [
    "import potentials"
   ]
  },
  {
   "cell_type": "markdown",
   "metadata": {},
   "source": [
    "## 1. Settings basics \n",
    "\n",
    "The potentials package handles user-defined settings by creating a settings.json file. The default location for this file is in a directory called \".NISTpotentials\" located in the user's home directory.\n",
    "\n",
    "This location is usually suitable for most users, but can be changed using __set_directory()__.  One example of when changing the directory could be useful is if multiple environments that each define different home directories are being used, and you wish all of the environments to access the same settings. \n",
    "\n",
    "__NOTE__: the directory can only be changed if no other settings have been modified!\n",
    "\n",
    "The settings directory can be reverted back to the default by using __unset_directory()__."
   ]
  },
  {
   "cell_type": "code",
   "execution_count": 3,
   "metadata": {},
   "outputs": [
    {
     "name": "stdout",
     "output_type": "stream",
     "text": [
      "C:\\Users\\lmh1\\.NISTpotentials\n",
      "C:\\Users\\lmh1\\.NISTpotentials\\settings.json\n"
     ]
    }
   ],
   "source": [
    "print(potentials.settings.directory)\n",
    "print(potentials.settings.filename)"
   ]
  },
  {
   "cell_type": "code",
   "execution_count": null,
   "metadata": {},
   "outputs": [],
   "source": [
    "potentials.settings.set_directory('C:/Users/lmh1/test')\n",
    "print(potential.settings.filename)"
   ]
  },
  {
   "cell_type": "code",
   "execution_count": null,
   "metadata": {},
   "outputs": [],
   "source": [
    "potential.settings.unset_directory()\n",
    "print(potential.settings.directory)"
   ]
  },
  {
   "cell_type": "markdown",
   "metadata": {},
   "source": [
    "## 2. Default options\n",
    "\n",
    "The default values of some optional parameters of the potentials.Database class can also be changed.  Setting these may be useful depending on how you primarily intend to use the potentials package.  Any of the default values set here can be overridden when using the potentials.Database class, so changing these settings is entirely optional. \n",
    "\n",
    "### 2.1. Accessing database\n",
    "\n",
    "The potentials.Database class is designed to allow for simultaneous interactions with two distinct database locations: the remote database hosted at https://potentials.nist.gov, and a local personal database.  The \"remote\" and \"local\" parameters accept boolean values allowing for interactions with either of these locations to turned on/off. The default values for these parameters can be checked with __remote__ and __local__, and changed using __set_remote()__ and __set_local()__.\n",
    "\n",
    "__NOTE__: It is recommended for most users that these default settings be left as True and to explicitly turn off an interaction when initializing a Database or querying records.  Changing the default values here should ideally only be done if potentials is being integrated into a project where remote-only or local-only interactions are done."
   ]
  },
  {
   "cell_type": "code",
   "execution_count": 8,
   "metadata": {},
   "outputs": [
    {
     "name": "stdout",
     "output_type": "stream",
     "text": [
      "local =  True\n",
      "remote = True\n"
     ]
    }
   ],
   "source": [
    "# Set default local and remote values\n",
    "potentials.settings.set_local(True)\n",
    "potentials.settings.set_remote(True)\n",
    "\n",
    "# Check their values\n",
    "print('local = ', potentials.settings.local)\n",
    "print('remote =', potentials.settings.remote)"
   ]
  },
  {
   "cell_type": "markdown",
   "metadata": {},
   "source": [
    "### 2.2. LAMMPS potential directory styles\n",
    "\n",
    "The majority of native LAMMPS potentials hosted by the NIST Interatomic Potentials Repository are defined using parameter files.  The __pot_dir_style__ parameter sets the default location(s) where the paramter files are expected to be when LAMMPS simulations are performed, and where the associated parameter files are downloaded/copied to when needed.  The default value for this option is controlled by the settings method __set_pot_dir_style()__.\n",
    "\n",
    "Three styles are allowed for this setting:\n",
    "\n",
    "- __\"working\"__ uses the working directory.  This is the simplest option for simulations where only one potential is to be used.  Any retrieved parameter files are copied to the working directory making it convenient to archive the parameter file with the other inputs and results for the simulations. \n",
    "- __\"id\"__ uses a subdirectory of the working directory matching the LAMMPS potential's id.  This also allows for the parameter files to be archived with the simulation inputs and results, but also avoids any issues if parameter files of the same name are used by different potentials.\n",
    "- __\"local\"__ uses directories within the local database location.  The advantage of this option is that only one copy of each unique parameter file is stored on your computer, and no copies/downloads need to be performed when running new simulations.  Note that this style only works if the local database is of \"local\" style."
   ]
  },
  {
   "cell_type": "code",
   "execution_count": 9,
   "metadata": {},
   "outputs": [
    {
     "name": "stdout",
     "output_type": "stream",
     "text": [
      "pot_dir_style = id\n"
     ]
    }
   ],
   "source": [
    "#potentials.settings.set_pot_dir_style('working')\n",
    "potentials.settings.set_pot_dir_style('id')\n",
    "#potentials.settings.set_pot_dir_style('local')\n",
    "\n",
    "print('pot_dir_style =', potentials.settings.pot_dir_style)"
   ]
  },
  {
   "cell_type": "markdown",
   "metadata": {},
   "source": [
    "### 2.3. KIM models\n",
    "\n",
    "In order for models from openKIM to be included alongside native LAMMPS potentials, the potentials package needs to know which kim models to include.  The list can be defined during Database initialization, or default options can be saved using settings for convenience.  The two related settings options are\n",
    "\n",
    "- __set_kim_models()__ allows for a list of kim models to be explicitly given and saved to a file __kim_models_file__ in the settings directory. \n",
    "- __set_kim_api_directory()__ allows for a default __kim_api_directory__ value to be set. This allows for potentials to use the kim-api-collections-management command in kim_api_directory to automatically determine the list of currently installed kim models.\n",
    "\n",
    "__NOTE__: If both default options are set, the explicit list of kim models in kim_models_file will be used over the kim api. Either setting can be cleared using the corresponding unset method: __unset_kim_models()__ or __unset_kim_api_directory()__."
   ]
  },
  {
   "cell_type": "code",
   "execution_count": 10,
   "metadata": {},
   "outputs": [
    {
     "name": "stdout",
     "output_type": "stream",
     "text": [
      "kim_models_file =   C:\\Users\\lmh1\\.NISTpotentials\\kim_models.txt\n",
      "kim_api_directory = None\n"
     ]
    }
   ],
   "source": [
    "print('kim_models_file =  ', potentials.settings.kim_models_file)\n",
    "print('kim_api_directory =', potentials.settings.kim_api_directory)"
   ]
  },
  {
   "cell_type": "code",
   "execution_count": null,
   "metadata": {},
   "outputs": [],
   "source": [
    "kim_models = []\n",
    "potentials.settings.set_kim_models(kim_models)\n",
    "potentials.settings.unset_kim_api_directory()"
   ]
  },
  {
   "cell_type": "code",
   "execution_count": null,
   "metadata": {},
   "outputs": [],
   "source": [
    "dirpath = ''\n",
    "potentials.settings.set_kim_api_directory(dirpath)\n",
    "potentials.settings.unset_kim_models(kim_models)"
   ]
  },
  {
   "cell_type": "markdown",
   "metadata": {},
   "source": [
    "## 3. Database interactions\n",
    "\n",
    "The specific remote and local databases that are accessed by the potentials.Database class can also be changed.  The advantages of this are that\n",
    "\n",
    "- A different local directory than the one in the user's settings directory can be used.\n",
    "- A different remote database than potentials.nist.gov can be used, if an alternate site ever exists.\n",
    "- The style of the local database can be changed, for instance a personal MongoDB can be used instead.\n",
    "\n",
    "The first point is the only one that most users would be interested in. As such, there is a simple settings option for those users, while full database control options are open for more complicated changes."
   ]
  },
  {
   "cell_type": "markdown",
   "metadata": {},
   "source": [
    "### 3.1. Simple local database settings\n",
    "\n",
    "The __set_local_database()__ method allows for the local database directory and file format options to be changed.  The parameters that the set method takes are \n",
    "\n",
    "- __localpath__ (*path, optional*) The default directory to use for the local database.  If not given, will use the default path of directory \"library\" located in the settings directory.\n",
    "- __format__ (*str, optional*) The file format that is used: \"json\" or \"xml\".  Default value is \"json\"\n",
    "- __indent__ (*int or None, optional*) The number of indentation spacings to use in the files.  If None, then the files will be compact.  Default value is 4."
   ]
  },
  {
   "cell_type": "code",
   "execution_count": null,
   "metadata": {},
   "outputs": [],
   "source": [
    "potentials.settings.set_local_database(localpath='', format='json', indent=4)"
   ]
  },
  {
   "cell_type": "markdown",
   "metadata": {},
   "source": [
    "### 3.2. Full database setting options\n",
    "\n",
    "The potentials.Database class actually interacts with two distinct databases: the local and the remote. Interaction settings for these two databases, as well as others, can be defined and saved to the settings file. \n",
    "\n",
    "The related settings attributes and parameters are\n",
    "\n",
    "- __set_database()__ allows for database interaction settings to be saved under a given name.\n",
    "- __unset_database()__ allows for the saved database interaction settings for a given name to be deleted.\n",
    "- __list_databases__ returns a list of the database interaction names.\n",
    "- __databases__ returns a dictionary with keys matching the database interaction names and values being a dictionary of all interaction parameter settings for that database.\n",
    "\n",
    "Then, the interactions used by the potentials.Database are specified according to:\n",
    "\n",
    "- Default local and remote database settings will use interaction settings saved under the names \"potentials_local\" and \"potentials_remote\", respectively, if given.  Otherwise will use the default default values of remote being an anonymous visitor to potentials.nist.gov, and local being the \"library\" directory in the settings directory.\n",
    "- Alternate saved settings can be loaded and used by giving the corresponding database interaction names to the local_name and remote_name parameters.\n",
    "- Or, all database interaction settings given manually every time a new potentials.Database is created.\n"
   ]
  },
  {
   "cell_type": "code",
   "execution_count": 11,
   "metadata": {},
   "outputs": [
    {
     "data": {
      "text/plain": [
       "['local']"
      ]
     },
     "execution_count": 11,
     "metadata": {},
     "output_type": "execute_result"
    }
   ],
   "source": [
    "potentials.settings.list_databases"
   ]
  },
  {
   "cell_type": "markdown",
   "metadata": {},
   "source": [
    "__set_database()__ takes the parameters\n",
    "\n",
    "- __name__\n",
    "- __style__\n",
    "- __host__ \n",
    "- __\\*\\*kwargs__"
   ]
  },
  {
   "cell_type": "code",
   "execution_count": null,
   "metadata": {},
   "outputs": [],
   "source": []
  }
 ],
 "metadata": {
  "kernelspec": {
   "display_name": "Python 3",
   "language": "python",
   "name": "python3"
  },
  "language_info": {
   "codemirror_mode": {
    "name": "ipython",
    "version": 3
   },
   "file_extension": ".py",
   "mimetype": "text/x-python",
   "name": "python",
   "nbconvert_exporter": "python",
   "pygments_lexer": "ipython3",
   "version": "3.7.4"
  }
 },
 "nbformat": 4,
 "nbformat_minor": 2
}
