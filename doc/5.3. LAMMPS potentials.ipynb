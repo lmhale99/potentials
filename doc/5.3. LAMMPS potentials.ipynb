{
 "cells": [
  {
   "cell_type": "markdown",
   "metadata": {},
   "source": [
    "# LAMMPS potentials\n",
    "\n",
    "Implementations of potentials in LAMMPS have their own records which provide metadata allowing for any associated parameter files to be downloaded and for the appropriate LAMMPS input command lines to be generated."
   ]
  },
  {
   "cell_type": "code",
   "execution_count": 1,
   "metadata": {},
   "outputs": [
    {
     "name": "stdout",
     "output_type": "stream",
     "text": [
      "Notebook tested for potentials version 0.4.0\n"
     ]
    }
   ],
   "source": [
    "# https://github.com/lmhale99/potentials\n",
    "import potentials\n",
    "\n",
    "print('Notebook tested for potentials version', potentials.__version__)"
   ]
  },
  {
   "cell_type": "code",
   "execution_count": 2,
   "metadata": {},
   "outputs": [],
   "source": [
    "potdb = potentials.Database(local=True, remote=True)"
   ]
  },
  {
   "cell_type": "markdown",
   "metadata": {},
   "source": [
    "## 1. Database methods\n",
    "\n",
    "__NOTE__: The associated Database methods here behave slightly differently from the other styles as the lammps_potentials methods are interacting with records of both potential_LAMMPS and potential_LAMMPS_KIM styles, which then return Record subclasses PotentialLAMMPS and PotentialLAMMPSKIM, respectively.  \n",
    "\n",
    "### 1.1. get_lammps_potentials() and get_lammps_potential()\n",
    "\n",
    "General options\n",
    "\n",
    "- __local__ (*bool*) Indicates if the local location is to be queried.\n",
    "- __remote__ (*bool*) Indicates if the remote location is to be queried.\n",
    "- __return_df__ (*bool*) If True, then a pandas.DataFrame of the records' metadata is returned.  This parameter is only found for the plural get methods.\n",
    "- __pot_dir_style__ (*str*) Specifies the file path option for parameter files.  Affects where the generated LAMMPS code says the files should be and where the files will be downloaded to. Options are:\n",
    "    - \"working\", where files are in the current working directory.\n",
    "    - \"id\", where files are in a subdirectory of the current working directory named for the LAMMPS potential's id.  This avoids any name conflicts if multiple potentials are used.\n",
    "    - \"local\", where files are in the local database directory.  With this option, name conflicts are avoided and the parameter files are archived for use with later simulations.\n",
    "- __prompt__ (*bool*) For the singular get method, if prompt=True (default) then a screen input will ask for a selection if multiple matching potentials are found.  If prompt=False, then an error will be thrown if multiple matches are found.\n",
    "- __refresh_cache__ (*bool*) If the local database is of style \"local\", indicates if the metadata cache file is to be refreshed.  If False, metadata for new records will be added but the old record metadata fields will not be updated.  If True, then the metadata for all records will be regenerated, which is needed to update the metadata for modified records.\n",
    "- __verbose__ (*bool*) If True, informative print statements will be generated. \n",
    "\n",
    "KIM model options (see the [5.4. OpenKIM models]() Notebook for more details)\n",
    "\n",
    "- __kim_models__ (*list*) A list of full KIM model ids to build LAMMPS potentials for.\n",
    "- __kim_api_directory__ (*str*) The path to the directory containing a kim-api-collections-management executable to use to identify which KIM models are installed.\n",
    "- __kim_models_file__ (*str*) The path to a file containing a list of full KIM model ids to build LAMMPS potentials for.\n",
    "\n",
    "Query parameters that can be used to limit the returned results\n",
    "\n",
    "- __name__ (*str or list*) The record name(s) to parse by.  For LAMMPS records and LAMMPS KIM records, the names correspond to the ids.\n",
    "- __key__ (*str or list*) The unique UUID4 record key(s) to parse by. \n",
    "- __id__ (*str or list*) The unique record id(s) labeling the records to parse by.\n",
    "- __potid__ (*str or list*) The unique UUID4 record key(s) for the associated potential records to parse by.\n",
    "- __potkey__ (*str or list*) The unique record id(s) labeling the associated potential records to parse by.\n",
    "- __units__ (*str or list*) LAMMPS units option(s) to parse by.\n",
    "- __atom_style__ (*str or list*) LAMMPS pair_style(s) to parse by.\n",
    "- __pair_style__ (*str or list*) LAMMPS pair_style(s) to parse by.\n",
    "- __status__ (*None, str or list*) Limits the search by the status of the LAMMPS implementations: \"active\", \"superseded\" and/or \"retracted\".  By default, only active implementations are returned.  Giving a value of None will return implementations of all statuses.\n",
    "- __symbols__ (*str or list*) Model symbol(s) to parse by.  Typically correspond to elements for atomic potential models.\n",
    "- __elements__ (*str or list*) Element(s) in the model to parse by."
   ]
  },
  {
   "cell_type": "markdown",
   "metadata": {},
   "source": [
    "Get all potentials that include Al interactions"
   ]
  },
  {
   "cell_type": "code",
   "execution_count": 3,
   "metadata": {},
   "outputs": [
    {
     "name": "stdout",
     "output_type": "stream",
     "text": [
      "Found 77 matching potential_LAMMPS records in local library\n"
     ]
    },
    {
     "name": "stderr",
     "output_type": "stream",
     "text": [
      "100%|██████████████████████████████████████████████████████████████████████████████████| 83/83 [00:00<00:00, 135.41it/s]\n"
     ]
    },
    {
     "name": "stdout",
     "output_type": "stream",
     "text": [
      "Found 83 matching potential_LAMMPS records in remote library\n",
      " - 6 remote records are new\n",
      "Found 44 matching potential_LAMMPS_KIM records in local library\n"
     ]
    },
    {
     "name": "stderr",
     "output_type": "stream",
     "text": [
      "100%|██████████████████████████████████████████████████████████████████████████████████| 44/44 [00:00<00:00, 121.45it/s]\n"
     ]
    },
    {
     "name": "stdout",
     "output_type": "stream",
     "text": [
      "Found 44 matching potential_LAMMPS_KIM records in remote library\n",
      " - 0 remote records are new\n",
      "Built 0 lammps potentials for KIM models\n"
     ]
    }
   ],
   "source": [
    "lmppots, lmppots_df = potdb.get_lammps_potentials(elements='Al', verbose=True, return_df=True)"
   ]
  },
  {
   "cell_type": "code",
   "execution_count": 4,
   "metadata": {},
   "outputs": [
    {
     "data": {
      "text/html": [
       "<div>\n",
       "<style scoped>\n",
       "    .dataframe tbody tr th:only-of-type {\n",
       "        vertical-align: middle;\n",
       "    }\n",
       "\n",
       "    .dataframe tbody tr th {\n",
       "        vertical-align: top;\n",
       "    }\n",
       "\n",
       "    .dataframe thead th {\n",
       "        text-align: right;\n",
       "    }\n",
       "</style>\n",
       "<table border=\"1\" class=\"dataframe\">\n",
       "  <thead>\n",
       "    <tr style=\"text-align: right;\">\n",
       "      <th></th>\n",
       "      <th>name</th>\n",
       "      <th>key</th>\n",
       "      <th>id</th>\n",
       "      <th>url</th>\n",
       "      <th>status</th>\n",
       "      <th>potkey</th>\n",
       "      <th>potid</th>\n",
       "      <th>poturl</th>\n",
       "      <th>dois</th>\n",
       "      <th>comments</th>\n",
       "      <th>units</th>\n",
       "      <th>atom_style</th>\n",
       "      <th>pair_style</th>\n",
       "      <th>artifacts</th>\n",
       "      <th>symbols</th>\n",
       "      <th>elements</th>\n",
       "    </tr>\n",
       "  </thead>\n",
       "  <tbody>\n",
       "    <tr>\n",
       "      <th>0</th>\n",
       "      <td>1995--Angelo-J-E--Ni-Al-H--LAMMPS--ipr1</td>\n",
       "      <td>e7649c6c-1a18-4da2-81cc-cd1bba68aa20</td>\n",
       "      <td>1995--Angelo-J-E--Ni-Al-H--LAMMPS--ipr1</td>\n",
       "      <td>https://potentials.nist.gov/pid/rest/local/pot...</td>\n",
       "      <td>NaN</td>\n",
       "      <td>0b194551-81ba-45ba-b4e1-7e035729f11c</td>\n",
       "      <td>1995--Angelo-J-E-Moody-N-R-Baskes-M-I--Ni-Al-H</td>\n",
       "      <td>https://potentials.nist.gov/pid/rest/local/pot...</td>\n",
       "      <td>[10.1088/0965-0393/3/3/001]</td>\n",
       "      <td>Potential 1995--Angelo-J-E--Ni-Al-H--LAMMPS--i...</td>\n",
       "      <td>metal</td>\n",
       "      <td>atomic</td>\n",
       "      <td>eam/alloy</td>\n",
       "      <td>[{'url': 'https://www.ctcms.nist.gov/potential...</td>\n",
       "      <td>[Ni, Al, H]</td>\n",
       "      <td>[Ni, Al, H]</td>\n",
       "    </tr>\n",
       "    <tr>\n",
       "      <th>1</th>\n",
       "      <td>1996--Farkas-D--Nb-Ti-Al--LAMMPS--ipr1</td>\n",
       "      <td>bb69cb78-f906-476f-866a-8411864e5130</td>\n",
       "      <td>1996--Farkas-D--Nb-Ti-Al--LAMMPS--ipr1</td>\n",
       "      <td>https://potentials.nist.gov/pid/rest/local/pot...</td>\n",
       "      <td>NaN</td>\n",
       "      <td>0856888b-57ec-4005-828d-d1b0c331f120</td>\n",
       "      <td>1996--Farkas-D-Jones-C--Nb-Ti-Al</td>\n",
       "      <td>https://potentials.nist.gov/pid/rest/local/pot...</td>\n",
       "      <td>[10.1088/0965-0393/4/1/004]</td>\n",
       "      <td>Potential 1996--Farkas-D--Nb-Ti-Al--LAMMPS--ip...</td>\n",
       "      <td>metal</td>\n",
       "      <td>atomic</td>\n",
       "      <td>eam/alloy</td>\n",
       "      <td>[{'url': 'https://www.ctcms.nist.gov/potential...</td>\n",
       "      <td>[Nb, Ti, Al]</td>\n",
       "      <td>[Nb, Ti, Al]</td>\n",
       "    </tr>\n",
       "    <tr>\n",
       "      <th>2</th>\n",
       "      <td>1997--Liu-X-Y--Al-Mg--LAMMPS--ipr1</td>\n",
       "      <td>50ecee50-a150-4fc6-8fb3-2e31846792bf</td>\n",
       "      <td>1997--Liu-X-Y--Al-Mg--LAMMPS--ipr1</td>\n",
       "      <td>https://potentials.nist.gov/pid/rest/local/pot...</td>\n",
       "      <td>NaN</td>\n",
       "      <td>b702ae33-5d66-40fb-84e6-f2840555459a</td>\n",
       "      <td>1997--Liu-X-Y-Ohotnicky-P-P-Adams-J-B-et-al--A...</td>\n",
       "      <td>https://potentials.nist.gov/pid/rest/local/pot...</td>\n",
       "      <td>[10.1016/s0039-6028(96)01154-5]</td>\n",
       "      <td>Potential 1997--Liu-X-Y--Al-Mg--LAMMPS--ipr1 l...</td>\n",
       "      <td>metal</td>\n",
       "      <td>atomic</td>\n",
       "      <td>eam/alloy</td>\n",
       "      <td>[{'url': 'https://www.ctcms.nist.gov/potential...</td>\n",
       "      <td>[Al, Mg]</td>\n",
       "      <td>[Al, Mg]</td>\n",
       "    </tr>\n",
       "    <tr>\n",
       "      <th>3</th>\n",
       "      <td>1998--Liu-X-Y--Al-Mg--LAMMPS--ipr1</td>\n",
       "      <td>be717c03-4f3f-4d93-a138-84cc821c46a3</td>\n",
       "      <td>1998--Liu-X-Y--Al-Mg--LAMMPS--ipr1</td>\n",
       "      <td>https://potentials.nist.gov/pid/rest/local/pot...</td>\n",
       "      <td>NaN</td>\n",
       "      <td>471c5c9d-fe61-4bbb-a088-a88be016d78d</td>\n",
       "      <td>1998--Liu-X-Y-Adams-J-B--Al-Mg</td>\n",
       "      <td>https://potentials.nist.gov/pid/rest/local/pot...</td>\n",
       "      <td>[10.1016/s1359-6454(98)00038-x]</td>\n",
       "      <td>Potential 1998--Liu-X-Y--Al-Mg--LAMMPS--ipr1 l...</td>\n",
       "      <td>metal</td>\n",
       "      <td>atomic</td>\n",
       "      <td>eam/alloy</td>\n",
       "      <td>[{'url': 'https://www.ctcms.nist.gov/potential...</td>\n",
       "      <td>[Al, Mg]</td>\n",
       "      <td>[Al, Mg]</td>\n",
       "    </tr>\n",
       "    <tr>\n",
       "      <th>4</th>\n",
       "      <td>1999--Liu-X-Y--Al-Cu--LAMMPS--ipr1</td>\n",
       "      <td>6800fe50-fc4f-43ed-950b-1f243006523b</td>\n",
       "      <td>1999--Liu-X-Y--Al-Cu--LAMMPS--ipr1</td>\n",
       "      <td>https://potentials.nist.gov/pid/rest/local/pot...</td>\n",
       "      <td>NaN</td>\n",
       "      <td>92e1a9a3-8124-4808-9fd9-fa5e4abef227</td>\n",
       "      <td>1999--Liu-X-Y-Liu-C-L-Borucki-L-J--Al-Cu</td>\n",
       "      <td>https://potentials.nist.gov/pid/rest/local/pot...</td>\n",
       "      <td>[10.1016/s1359-6454(99)00186-x]</td>\n",
       "      <td>Potential 1999--Liu-X-Y--Al-Cu--LAMMPS--ipr1 l...</td>\n",
       "      <td>metal</td>\n",
       "      <td>atomic</td>\n",
       "      <td>eam/alloy</td>\n",
       "      <td>[{'url': 'https://www.ctcms.nist.gov/potential...</td>\n",
       "      <td>[Al, Cu]</td>\n",
       "      <td>[Al, Cu]</td>\n",
       "    </tr>\n",
       "    <tr>\n",
       "      <th>...</th>\n",
       "      <td>...</td>\n",
       "      <td>...</td>\n",
       "      <td>...</td>\n",
       "      <td>...</td>\n",
       "      <td>...</td>\n",
       "      <td>...</td>\n",
       "      <td>...</td>\n",
       "      <td>...</td>\n",
       "      <td>...</td>\n",
       "      <td>...</td>\n",
       "      <td>...</td>\n",
       "      <td>...</td>\n",
       "      <td>...</td>\n",
       "      <td>...</td>\n",
       "      <td>...</td>\n",
       "      <td>...</td>\n",
       "    </tr>\n",
       "    <tr>\n",
       "      <th>78</th>\n",
       "      <td>2022--Mendelev-M-I--Ni-Al--LAMMPS--ipr1</td>\n",
       "      <td>d81c459b-52e2-4410-b348-d5e3867a82b6</td>\n",
       "      <td>2022--Mendelev-M-I--Ni-Al--LAMMPS--ipr1</td>\n",
       "      <td>NaN</td>\n",
       "      <td>NaN</td>\n",
       "      <td>823a6d81-0f2c-4a5b-b3b4-41a995576a0f</td>\n",
       "      <td>2022--Mendelev-M-I--Ni-Al</td>\n",
       "      <td>NaN</td>\n",
       "      <td>NaN</td>\n",
       "      <td>Potential 2022--Mendelev-M-I--Ni-Al--LAMMPS--i...</td>\n",
       "      <td>metal</td>\n",
       "      <td>atomic</td>\n",
       "      <td>eam/fs</td>\n",
       "      <td>[{'url': 'https://www.ctcms.nist.gov/potential...</td>\n",
       "      <td>[Ni, Al]</td>\n",
       "      <td>[Ni, Al]</td>\n",
       "    </tr>\n",
       "    <tr>\n",
       "      <th>79</th>\n",
       "      <td>2024--Huang-S--Ni-Al-Co-Ti--LAMMPS--ipr1</td>\n",
       "      <td>1a6f7fbd-561c-4b68-8667-f9a27cd6d7c1</td>\n",
       "      <td>2024--Huang-S--Ni-Al-Co-Ti--LAMMPS--ipr1</td>\n",
       "      <td>None</td>\n",
       "      <td>None</td>\n",
       "      <td>b83577e7-b2a5-46ff-9922-7032293ef9a7</td>\n",
       "      <td>2024--Huang-S-Xiong-Y-Ma-S-et-al--Ni-Al-Co-Ti</td>\n",
       "      <td>None</td>\n",
       "      <td>None</td>\n",
       "      <td>Potential 2024--Huang-S--Ni-Al-Co-Ti--LAMMPS--...</td>\n",
       "      <td>metal</td>\n",
       "      <td>atomic</td>\n",
       "      <td>meam</td>\n",
       "      <td>[{'url': 'https://www.ctcms.nist.gov/potential...</td>\n",
       "      <td>[Ni, Al, Co, Ti]</td>\n",
       "      <td>[Ni, Al, Co, Ti]</td>\n",
       "    </tr>\n",
       "    <tr>\n",
       "      <th>80</th>\n",
       "      <td>2024--Mendelev-M-I--Ni-Al-Cr--LAMMPS--ipr1</td>\n",
       "      <td>b6a99428-5fa1-46ca-9cdb-166f0a252bee</td>\n",
       "      <td>2024--Mendelev-M-I--Ni-Al-Cr--LAMMPS--ipr1</td>\n",
       "      <td>None</td>\n",
       "      <td>None</td>\n",
       "      <td>b2383bef-e0f3-45ba-a328-13a1c71b5e31</td>\n",
       "      <td>2024--Mendelev-M-I--Ni-Al-Cr</td>\n",
       "      <td>None</td>\n",
       "      <td>None</td>\n",
       "      <td>Potential 2024--Mendelev-M-I--Ni-Al-Cr--LAMMPS...</td>\n",
       "      <td>metal</td>\n",
       "      <td>atomic</td>\n",
       "      <td>eam/fs</td>\n",
       "      <td>[{'url': 'https://www.ctcms.nist.gov/potential...</td>\n",
       "      <td>[Ni, Al, Cr]</td>\n",
       "      <td>[Ni, Al, Cr]</td>\n",
       "    </tr>\n",
       "    <tr>\n",
       "      <th>81</th>\n",
       "      <td>2024--Mendelev-M-I--Ni-Al-Nb--LAMMPS--ipr1</td>\n",
       "      <td>aabb557a-0fa4-4be3-9788-af598d2f03ff</td>\n",
       "      <td>2024--Mendelev-M-I--Ni-Al-Nb--LAMMPS--ipr1</td>\n",
       "      <td>None</td>\n",
       "      <td>None</td>\n",
       "      <td>893fa69a-d9c2-4899-ade1-a907ddcf396d</td>\n",
       "      <td>2024--Mendelev-M-I--Ni-Al-Nb</td>\n",
       "      <td>None</td>\n",
       "      <td>None</td>\n",
       "      <td>Potential 2024--Mendelev-M-I--Ni-Al-Nb--LAMMPS...</td>\n",
       "      <td>metal</td>\n",
       "      <td>atomic</td>\n",
       "      <td>eam/fs</td>\n",
       "      <td>[{'url': 'https://www.ctcms.nist.gov/potential...</td>\n",
       "      <td>[Ni, Al, Nb]</td>\n",
       "      <td>[Ni, Al, Nb]</td>\n",
       "    </tr>\n",
       "    <tr>\n",
       "      <th>82</th>\n",
       "      <td>2025--Sharifi-H--Fe-Mn-Ni-Ti-Cu-Cr-Co-Al--LAMM...</td>\n",
       "      <td>b50bad1d-f70c-42c8-8205-320eb181ca84</td>\n",
       "      <td>2025--Sharifi-H--Fe-Mn-Ni-Ti-Cu-Cr-Co-Al--LAMM...</td>\n",
       "      <td>None</td>\n",
       "      <td>None</td>\n",
       "      <td>3f1437f6-f3ad-4326-a186-505cbfef79d9</td>\n",
       "      <td>2025--Sharifi-H-Wick-C-D--Fe-Mn-Ni-Ti-Cu-Cr-Co-Al</td>\n",
       "      <td>None</td>\n",
       "      <td>None</td>\n",
       "      <td>Potential 2025--Sharifi-H--Fe-Mn-Ni-Ti-Cu-Cr-C...</td>\n",
       "      <td>metal</td>\n",
       "      <td>atomic</td>\n",
       "      <td>meam</td>\n",
       "      <td>[{'url': 'https://www.ctcms.nist.gov/potential...</td>\n",
       "      <td>[Fe, Mn, Ni, Ti, Cu, Cr, Co, Al]</td>\n",
       "      <td>[Fe, Mn, Ni, Ti, Cu, Cr, Co, Al]</td>\n",
       "    </tr>\n",
       "  </tbody>\n",
       "</table>\n",
       "<p>83 rows × 16 columns</p>\n",
       "</div>"
      ],
      "text/plain": [
       "                                                 name  \\\n",
       "0             1995--Angelo-J-E--Ni-Al-H--LAMMPS--ipr1   \n",
       "1              1996--Farkas-D--Nb-Ti-Al--LAMMPS--ipr1   \n",
       "2                  1997--Liu-X-Y--Al-Mg--LAMMPS--ipr1   \n",
       "3                  1998--Liu-X-Y--Al-Mg--LAMMPS--ipr1   \n",
       "4                  1999--Liu-X-Y--Al-Cu--LAMMPS--ipr1   \n",
       "..                                                ...   \n",
       "78            2022--Mendelev-M-I--Ni-Al--LAMMPS--ipr1   \n",
       "79           2024--Huang-S--Ni-Al-Co-Ti--LAMMPS--ipr1   \n",
       "80         2024--Mendelev-M-I--Ni-Al-Cr--LAMMPS--ipr1   \n",
       "81         2024--Mendelev-M-I--Ni-Al-Nb--LAMMPS--ipr1   \n",
       "82  2025--Sharifi-H--Fe-Mn-Ni-Ti-Cu-Cr-Co-Al--LAMM...   \n",
       "\n",
       "                                     key  \\\n",
       "0   e7649c6c-1a18-4da2-81cc-cd1bba68aa20   \n",
       "1   bb69cb78-f906-476f-866a-8411864e5130   \n",
       "2   50ecee50-a150-4fc6-8fb3-2e31846792bf   \n",
       "3   be717c03-4f3f-4d93-a138-84cc821c46a3   \n",
       "4   6800fe50-fc4f-43ed-950b-1f243006523b   \n",
       "..                                   ...   \n",
       "78  d81c459b-52e2-4410-b348-d5e3867a82b6   \n",
       "79  1a6f7fbd-561c-4b68-8667-f9a27cd6d7c1   \n",
       "80  b6a99428-5fa1-46ca-9cdb-166f0a252bee   \n",
       "81  aabb557a-0fa4-4be3-9788-af598d2f03ff   \n",
       "82  b50bad1d-f70c-42c8-8205-320eb181ca84   \n",
       "\n",
       "                                                   id  \\\n",
       "0             1995--Angelo-J-E--Ni-Al-H--LAMMPS--ipr1   \n",
       "1              1996--Farkas-D--Nb-Ti-Al--LAMMPS--ipr1   \n",
       "2                  1997--Liu-X-Y--Al-Mg--LAMMPS--ipr1   \n",
       "3                  1998--Liu-X-Y--Al-Mg--LAMMPS--ipr1   \n",
       "4                  1999--Liu-X-Y--Al-Cu--LAMMPS--ipr1   \n",
       "..                                                ...   \n",
       "78            2022--Mendelev-M-I--Ni-Al--LAMMPS--ipr1   \n",
       "79           2024--Huang-S--Ni-Al-Co-Ti--LAMMPS--ipr1   \n",
       "80         2024--Mendelev-M-I--Ni-Al-Cr--LAMMPS--ipr1   \n",
       "81         2024--Mendelev-M-I--Ni-Al-Nb--LAMMPS--ipr1   \n",
       "82  2025--Sharifi-H--Fe-Mn-Ni-Ti-Cu-Cr-Co-Al--LAMM...   \n",
       "\n",
       "                                                  url status  \\\n",
       "0   https://potentials.nist.gov/pid/rest/local/pot...    NaN   \n",
       "1   https://potentials.nist.gov/pid/rest/local/pot...    NaN   \n",
       "2   https://potentials.nist.gov/pid/rest/local/pot...    NaN   \n",
       "3   https://potentials.nist.gov/pid/rest/local/pot...    NaN   \n",
       "4   https://potentials.nist.gov/pid/rest/local/pot...    NaN   \n",
       "..                                                ...    ...   \n",
       "78                                                NaN    NaN   \n",
       "79                                               None   None   \n",
       "80                                               None   None   \n",
       "81                                               None   None   \n",
       "82                                               None   None   \n",
       "\n",
       "                                  potkey  \\\n",
       "0   0b194551-81ba-45ba-b4e1-7e035729f11c   \n",
       "1   0856888b-57ec-4005-828d-d1b0c331f120   \n",
       "2   b702ae33-5d66-40fb-84e6-f2840555459a   \n",
       "3   471c5c9d-fe61-4bbb-a088-a88be016d78d   \n",
       "4   92e1a9a3-8124-4808-9fd9-fa5e4abef227   \n",
       "..                                   ...   \n",
       "78  823a6d81-0f2c-4a5b-b3b4-41a995576a0f   \n",
       "79  b83577e7-b2a5-46ff-9922-7032293ef9a7   \n",
       "80  b2383bef-e0f3-45ba-a328-13a1c71b5e31   \n",
       "81  893fa69a-d9c2-4899-ade1-a907ddcf396d   \n",
       "82  3f1437f6-f3ad-4326-a186-505cbfef79d9   \n",
       "\n",
       "                                                potid  \\\n",
       "0      1995--Angelo-J-E-Moody-N-R-Baskes-M-I--Ni-Al-H   \n",
       "1                    1996--Farkas-D-Jones-C--Nb-Ti-Al   \n",
       "2   1997--Liu-X-Y-Ohotnicky-P-P-Adams-J-B-et-al--A...   \n",
       "3                      1998--Liu-X-Y-Adams-J-B--Al-Mg   \n",
       "4            1999--Liu-X-Y-Liu-C-L-Borucki-L-J--Al-Cu   \n",
       "..                                                ...   \n",
       "78                          2022--Mendelev-M-I--Ni-Al   \n",
       "79      2024--Huang-S-Xiong-Y-Ma-S-et-al--Ni-Al-Co-Ti   \n",
       "80                       2024--Mendelev-M-I--Ni-Al-Cr   \n",
       "81                       2024--Mendelev-M-I--Ni-Al-Nb   \n",
       "82  2025--Sharifi-H-Wick-C-D--Fe-Mn-Ni-Ti-Cu-Cr-Co-Al   \n",
       "\n",
       "                                               poturl  \\\n",
       "0   https://potentials.nist.gov/pid/rest/local/pot...   \n",
       "1   https://potentials.nist.gov/pid/rest/local/pot...   \n",
       "2   https://potentials.nist.gov/pid/rest/local/pot...   \n",
       "3   https://potentials.nist.gov/pid/rest/local/pot...   \n",
       "4   https://potentials.nist.gov/pid/rest/local/pot...   \n",
       "..                                                ...   \n",
       "78                                                NaN   \n",
       "79                                               None   \n",
       "80                                               None   \n",
       "81                                               None   \n",
       "82                                               None   \n",
       "\n",
       "                               dois  \\\n",
       "0       [10.1088/0965-0393/3/3/001]   \n",
       "1       [10.1088/0965-0393/4/1/004]   \n",
       "2   [10.1016/s0039-6028(96)01154-5]   \n",
       "3   [10.1016/s1359-6454(98)00038-x]   \n",
       "4   [10.1016/s1359-6454(99)00186-x]   \n",
       "..                              ...   \n",
       "78                              NaN   \n",
       "79                             None   \n",
       "80                             None   \n",
       "81                             None   \n",
       "82                             None   \n",
       "\n",
       "                                             comments  units atom_style  \\\n",
       "0   Potential 1995--Angelo-J-E--Ni-Al-H--LAMMPS--i...  metal     atomic   \n",
       "1   Potential 1996--Farkas-D--Nb-Ti-Al--LAMMPS--ip...  metal     atomic   \n",
       "2   Potential 1997--Liu-X-Y--Al-Mg--LAMMPS--ipr1 l...  metal     atomic   \n",
       "3   Potential 1998--Liu-X-Y--Al-Mg--LAMMPS--ipr1 l...  metal     atomic   \n",
       "4   Potential 1999--Liu-X-Y--Al-Cu--LAMMPS--ipr1 l...  metal     atomic   \n",
       "..                                                ...    ...        ...   \n",
       "78  Potential 2022--Mendelev-M-I--Ni-Al--LAMMPS--i...  metal     atomic   \n",
       "79  Potential 2024--Huang-S--Ni-Al-Co-Ti--LAMMPS--...  metal     atomic   \n",
       "80  Potential 2024--Mendelev-M-I--Ni-Al-Cr--LAMMPS...  metal     atomic   \n",
       "81  Potential 2024--Mendelev-M-I--Ni-Al-Nb--LAMMPS...  metal     atomic   \n",
       "82  Potential 2025--Sharifi-H--Fe-Mn-Ni-Ti-Cu-Cr-C...  metal     atomic   \n",
       "\n",
       "   pair_style                                          artifacts  \\\n",
       "0   eam/alloy  [{'url': 'https://www.ctcms.nist.gov/potential...   \n",
       "1   eam/alloy  [{'url': 'https://www.ctcms.nist.gov/potential...   \n",
       "2   eam/alloy  [{'url': 'https://www.ctcms.nist.gov/potential...   \n",
       "3   eam/alloy  [{'url': 'https://www.ctcms.nist.gov/potential...   \n",
       "4   eam/alloy  [{'url': 'https://www.ctcms.nist.gov/potential...   \n",
       "..        ...                                                ...   \n",
       "78     eam/fs  [{'url': 'https://www.ctcms.nist.gov/potential...   \n",
       "79       meam  [{'url': 'https://www.ctcms.nist.gov/potential...   \n",
       "80     eam/fs  [{'url': 'https://www.ctcms.nist.gov/potential...   \n",
       "81     eam/fs  [{'url': 'https://www.ctcms.nist.gov/potential...   \n",
       "82       meam  [{'url': 'https://www.ctcms.nist.gov/potential...   \n",
       "\n",
       "                             symbols                          elements  \n",
       "0                        [Ni, Al, H]                       [Ni, Al, H]  \n",
       "1                       [Nb, Ti, Al]                      [Nb, Ti, Al]  \n",
       "2                           [Al, Mg]                          [Al, Mg]  \n",
       "3                           [Al, Mg]                          [Al, Mg]  \n",
       "4                           [Al, Cu]                          [Al, Cu]  \n",
       "..                               ...                               ...  \n",
       "78                          [Ni, Al]                          [Ni, Al]  \n",
       "79                  [Ni, Al, Co, Ti]                  [Ni, Al, Co, Ti]  \n",
       "80                      [Ni, Al, Cr]                      [Ni, Al, Cr]  \n",
       "81                      [Ni, Al, Nb]                      [Ni, Al, Nb]  \n",
       "82  [Fe, Mn, Ni, Ti, Cu, Cr, Co, Al]  [Fe, Mn, Ni, Ti, Cu, Cr, Co, Al]  \n",
       "\n",
       "[83 rows x 16 columns]"
      ]
     },
     "execution_count": 4,
     "metadata": {},
     "output_type": "execute_result"
    }
   ],
   "source": [
    "lmppots_df"
   ]
  },
  {
   "cell_type": "markdown",
   "metadata": {},
   "source": [
    "### 1.2. download_lammps_potentials()\n",
    "\n",
    "- __include_kim__ (*bool*) If True (default), then potential_LAMMPS_KIM records will also be downloaded.\n",
    "- __overwrite__ (*bool*) If True, then all records (and associated files) will be downloaded and will overwrite the current existing files.  If False (default), then only new/missing files will be downloaded.\n",
    "- __downloadfiles__ (*bool*) If True, then any parameter files associated with the records will also be downloaded and stored in the local database.\n",
    "- __verbose__ (*bool*) If True, informative statements will be printed.\n",
    "\n",
    "The download_lammps_potentials method also accepts the same query limiting parameters as listed above if users wish to only download a subset of the hosted potentials. "
   ]
  },
  {
   "cell_type": "markdown",
   "metadata": {},
   "source": [
    "### 1.3. get_lammps_potential_files()\n",
    "\n",
    "The parameter files associated with a LAMMPS potential can be copied/downloaded from the database using the get_lammps_potential_files() method.\n",
    "\n",
    "Parameters\n",
    "\n",
    "- __lammps_potential__ (*PotentialLAMMPS*) The LAMMPS potential to retrieve parameter files for.\n",
    "- __local__ (*bool, optional*) Indicates if the parameter files are to be retrieved from the localpath if copies exist there.  If not given, will use the local value set during initialization.\n",
    "- __remote__ (*bool, optional*) Indicates if the parameter files are to be downloaded if local is False or copies are not found in the localpath.  If not given, will use the remote value set during initialization.\n",
    "- __download__ (*bool, optional*) Indicates if the parameter files are to be downloaded from their urls if copies are not found in local or remote.  Default value is True.\n",
    "- __pot_dir__ (*path-like object, optional*) The path to the directory where the files are to be saved.  If not given, will use whatever pot_dir value was previously set.  If given here, will change the pot_dir value so that the pair_info lines properly point to the copied/downloaded files.\n",
    "- __overwrite__ (*bool, optional*) If False (default), then the files will not be copied/downloaded if similarly named files already exist in the pot_dir.\n",
    "- __verbose__ (*bool, optional*) If True, info messages will be printed during operations.  Default value is False."
   ]
  },
  {
   "cell_type": "code",
   "execution_count": 5,
   "metadata": {},
   "outputs": [
    {
     "name": "stdout",
     "output_type": "stream",
     "text": [
      "NiAlH_jea.eam.alloy copied to 1995--Angelo-J-E--Ni-Al-H--LAMMPS--ipr1\n",
      "NiAlH_properties.pdf copied to 1995--Angelo-J-E--Ni-Al-H--LAMMPS--ipr1\n"
     ]
    }
   ],
   "source": [
    "potdb.get_lammps_potential_files(lmppots[0], verbose=True)"
   ]
  },
  {
   "cell_type": "markdown",
   "metadata": {},
   "source": [
    "### 1.4. save_lammps_potential()\n",
    "\n",
    "The save_lammps_potential includes additional parameters that allow for parameter files to be saved to the local database.\n",
    "\n",
    "- __lammps_potential__ (*PotentialLAMMPS*) The LAMMPS potential to save to the local.\n",
    "- __filenames__ (*list, optional*) A list of file paths for the artifact files to be copied to the local location.  Cannot be given with downloadfiles = True.\n",
    "- __downloadfiles__ (*bool, optional*) If True, then the artifacts associated with the LAMMPS potential will be downloaded to the local.  Cannot be True if filenames is given.\n",
    "- __overwrite__ (*bool, optional*) If False (default), then any existing records/artifacts will be skipped.  If True, then the existing contents will be replaced.\n",
    "- __verbose__ (*bool, optional*) If True, informational print statements will be generated."
   ]
  },
  {
   "cell_type": "markdown",
   "metadata": {},
   "source": [
    "### 1.5 upload_lammps_potential() and delete_lammps_potential()\n",
    "\n",
    "\n",
    "These methods are identical to calling the Database's corresponding generic record methods with style='potential_LAMMPS', with the exception that delete will also delete any locally stored parameter files for the potential as well.  See the [4. Database class](4. Database class.ipynb) Notebook for details on the generic record methods."
   ]
  },
  {
   "cell_type": "markdown",
   "metadata": {},
   "source": [
    "## 2. PotentialLAMMPS class\n",
    "\n",
    "The PotentialLAMMPS class provides metadata describing a LAMMPS implemented potential with\n",
    "\n",
    "- Information about the potential to be explored.\n",
    "- Tools for downloading parameter files.\n",
    "- Tools for generating LAMMPS input commands.\n"
   ]
  },
  {
   "cell_type": "code",
   "execution_count": 6,
   "metadata": {},
   "outputs": [],
   "source": [
    "lmppot = lmppots[0]"
   ]
  },
  {
   "cell_type": "markdown",
   "metadata": {},
   "source": [
    "### 2.1. Python representation\n",
    "\n",
    "__NOTE__: Unlike the other Record subclasses, the PotentialLAMMPS class is not meant to provide a means of generating or modifying a related record.  All of the attributes listed here cannot be changed.  See the [6. Build LAMMPS potentials]() Notebook if you wish to construct new PotentialLAMMPS objects."
   ]
  },
  {
   "cell_type": "markdown",
   "metadata": {},
   "source": [
    "#### 2.1.1. Metadata descriptors\n",
    "\n",
    "- __id__ is the human-readable ID assigned to the LAMMPS implementation. \n",
    "- __key__ is the unique UUID4 key assigned to the LAMMPS implementation.\n",
    "- __potid__ is the human-readable ID assigned to the potential entry that the LAMMPS implementation is associated with.\n",
    "- __potkey__ is the unique UUID4 key assigned to the potential entry that the LAMMPS implementation is associated with.\n",
    "- __status__ describes the current status of the implementation: \"active\", \"superseded\" or \"retracted\".  Superseded indicates that improved implementations are available, while retracted indicates that the implementation was deemed to not be a valid representation of the associated entry."
   ]
  },
  {
   "cell_type": "code",
   "execution_count": 7,
   "metadata": {},
   "outputs": [
    {
     "name": "stdout",
     "output_type": "stream",
     "text": [
      "id     1995--Angelo-J-E--Ni-Al-H--LAMMPS--ipr1\n",
      "key    e7649c6c-1a18-4da2-81cc-cd1bba68aa20\n",
      "potid  1995--Angelo-J-E-Moody-N-R-Baskes-M-I--Ni-Al-H\n",
      "potkey 0b194551-81ba-45ba-b4e1-7e035729f11c\n",
      "status None\n"
     ]
    }
   ],
   "source": [
    "print('id    ', lmppot.id)\n",
    "print('key   ', lmppot.key)\n",
    "print('potid ', lmppot.potid)\n",
    "print('potkey', lmppot.potkey)\n",
    "print('status', lmppot.status)"
   ]
  },
  {
   "cell_type": "markdown",
   "metadata": {},
   "source": [
    "#### 2.1.2. LAMMPS settings\n",
    "\n",
    "- __units__ is the LAMMPS units style to use with the potential.  \n",
    "- __atom_style__ is the LAMMPS atom_style option to use with the potential.\n",
    "- __pair_style__ is the LAMMPS pair_style option associated with the potential.\n",
    "- __allsymbols__ is a boolean flag that modifies how the LAMMPS commands are generated.  If False, then only the necessary symbols are used. If True, then extra atom types are used so that each symbol defined by the model is included in the LAMMPS commands even if no atoms of certain symbols are used.  Certain pair_styles require this setting to be True."
   ]
  },
  {
   "cell_type": "code",
   "execution_count": 8,
   "metadata": {},
   "outputs": [
    {
     "name": "stdout",
     "output_type": "stream",
     "text": [
      "units      metal\n",
      "atom_style atomic\n",
      "pair_style eam/alloy\n",
      "allsymbols None\n"
     ]
    }
   ],
   "source": [
    "print('units     ', lmppot.units)\n",
    "print('atom_style', lmppot.atom_style)\n",
    "print('pair_style', lmppot.pair_style)\n",
    "print('allsymbols', lmppot.allsymbols)"
   ]
  },
  {
   "cell_type": "markdown",
   "metadata": {},
   "source": [
    "#### 2.1.3. Atomic information\n",
    "\n",
    "- __symbols__ is the list of the model symbols used to identify the interaction models defined by the LAMMPS implementation. These often, but not always, correspond to elemental symbols. \n",
    "- __elements()__ builds a list of elemental symbols corresponding to model symbols.  If no list of model symbols is given, then the full symbols list is used.\n",
    "- __masses()__ builds a list of particle masses corresponding to model symbols.  If no list of model symbols is given, then the full symbols list is used.\n",
    "- __charges()__ builds a list of particle charges corresponding to model symbols.  If no list of model symbols is given, then the full symbols list is used."
   ]
  },
  {
   "cell_type": "code",
   "execution_count": 9,
   "metadata": {},
   "outputs": [
    {
     "name": "stdout",
     "output_type": "stream",
     "text": [
      "symbols    ['Ni', 'Al', 'H']\n",
      "elements() ['Ni', 'Al', 'H']\n",
      "masses()   [58.71, 26.982, 1.008]\n",
      "charges()  [0.0, 0.0, 0.0]\n",
      "\n",
      "elements(symbols[0]) ['Ni']\n"
     ]
    }
   ],
   "source": [
    "print('symbols   ', lmppot.symbols)\n",
    "print('elements()', lmppot.elements())\n",
    "print('masses()  ', lmppot.masses())\n",
    "print('charges() ', lmppot.charges())\n",
    "print()\n",
    "print('elements(symbols[0])', lmppot.elements(lmppot.symbols[0]))"
   ]
  },
  {
   "cell_type": "markdown",
   "metadata": {},
   "source": [
    "#### 2.1.4. Citation and file information\n",
    "\n",
    "- __dois__ is a list of publication citations associated with the potential.  \n",
    "- __artifacts__ is a list of Artifacts associated with the implementation. \n",
    "- __fileurls__ is a list of the file download URLs associated with the artifacts.\n",
    "- __comments__ provides short informational comments associated with the implementation.\n",
    "- __print_comments__ generates LAMMPS print commands that detail the potential's DOIs, the comments field, and the file URLs."
   ]
  },
  {
   "cell_type": "code",
   "execution_count": 10,
   "metadata": {},
   "outputs": [
    {
     "name": "stdout",
     "output_type": "stream",
     "text": [
      "dois      ['10.1088/0965-0393/3/3/001']\n",
      "artifacts [<potentials.record.Artifact.Artifact object at 0x7f3343936c90>, <potentials.record.Artifact.Artifact object at 0x7f3343933d90>]\n",
      "fileurls  ['https://www.ctcms.nist.gov/potentials/Download/1995--Angelo-J-E-Moody-N-R-Baskes-M-I--Ni-Al-H/1/NiAlH_jea.eam.alloy', 'https://www.ctcms.nist.gov/potentials/Download/1995--Angelo-J-E-Moody-N-R-Baskes-M-I--Ni-Al-H/1/NiAlH_properties.pdf']\n",
      "\n",
      "comments:\n",
      "Potential 1995--Angelo-J-E--Ni-Al-H--LAMMPS--ipr1 listed in the NIST Interatomic Potentials Repository:\n",
      "https://www.ctcms.nist.gov/potentials/entry/1995--Angelo-J-E-Moody-N-R-Baskes-M-I--Ni-Al-H/1995--Angelo-J-E--Ni-Al-H--LAMMPS--ipr1.html\n",
      "\n",
      "\n",
      "print_comments:\n",
      "print \"Potential 1995--Angelo-J-E--Ni-Al-H--LAMMPS--ipr1 listed in the NIST Interatomic Potentials Repository:\"\n",
      "print \"https://www.ctcms.nist.gov/potentials/entry/1995--Angelo-J-E-Moody-N-R-Baskes-M-I--Ni-Al-H/1995--Angelo-J-E--Ni-Al-H--LAMMPS--ipr1.html\"\n",
      "print \"Publication(s) related to the potential:\"\n",
      "print \"https://doi.org/10.1088/0965-0393/3/3/001\"\n",
      "print \"Parameter file(s) can be downloaded at:\"\n",
      "print \"https://www.ctcms.nist.gov/potentials/Download/1995--Angelo-J-E-Moody-N-R-Baskes-M-I--Ni-Al-H/1/NiAlH_jea.eam.alloy\"\n",
      "print \"https://www.ctcms.nist.gov/potentials/Download/1995--Angelo-J-E-Moody-N-R-Baskes-M-I--Ni-Al-H/1/NiAlH_properties.pdf\"\n",
      "\n"
     ]
    }
   ],
   "source": [
    "print('dois     ', lmppot.dois)\n",
    "print('artifacts', lmppot.artifacts)\n",
    "print('fileurls ', lmppot.fileurls)\n",
    "print()\n",
    "print('comments:')\n",
    "print(lmppot.comments)\n",
    "print()\n",
    "print('print_comments:')\n",
    "print(lmppot.print_comments)"
   ]
  },
  {
   "cell_type": "markdown",
   "metadata": {},
   "source": [
    "#### 2.1.4. Parameter files\n",
    "\n",
    "- __pot_dir__ is the local directory where the parameter files are expected.  This value determines both where the parameter files are copied/downloaded to, and the directory paths used in the generated LAMMPS commands to where the files should be found. \n",
    "- __download_files()__ Downloads all parameter files for the potential from their fileurls to the potential's pot_dir.  NOTE that this method can only download the parameter files based on their URL values.  Use Database.get_lammps_potential_files() instead if you wish to search for the files in the local location first. "
   ]
  },
  {
   "cell_type": "code",
   "execution_count": 11,
   "metadata": {},
   "outputs": [
    {
     "data": {
      "text/plain": [
       "'1995--Angelo-J-E--Ni-Al-H--LAMMPS--ipr1'"
      ]
     },
     "execution_count": 11,
     "metadata": {},
     "output_type": "execute_result"
    }
   ],
   "source": [
    "lmppot.pot_dir"
   ]
  },
  {
   "cell_type": "code",
   "execution_count": 12,
   "metadata": {},
   "outputs": [
    {
     "name": "stdout",
     "output_type": "stream",
     "text": [
      "NiAlH_jea.eam.alloy already in 1995--Angelo-J-E--Ni-Al-H--LAMMPS--ipr1\n",
      "NiAlH_properties.pdf already in 1995--Angelo-J-E--Ni-Al-H--LAMMPS--ipr1\n"
     ]
    },
    {
     "data": {
      "text/plain": [
       "(0, 2)"
      ]
     },
     "execution_count": 12,
     "metadata": {},
     "output_type": "execute_result"
    }
   ],
   "source": [
    "lmppot.download_files(verbose=True)"
   ]
  },
  {
   "cell_type": "markdown",
   "metadata": {},
   "source": [
    "### 2.2. Data model interactions\n",
    "\n",
    "Style-specific notes:\n",
    "\n",
    "- As this class is not meant for editing or modifying the underlying records, build_model() simply returns model without changing or updating it. \n",
    "- There is no HTML representation.\n",
    "- The kwargs that mongoquery and cdcsquery support are the same as the query kwargs listed above for the database methods."
   ]
  },
  {
   "cell_type": "code",
   "execution_count": 13,
   "metadata": {
    "scrolled": true
   },
   "outputs": [
    {
     "name": "stdout",
     "output_type": "stream",
     "text": [
      "{\n",
      "    \"potential-LAMMPS\": {\n",
      "        \"key\": \"e7649c6c-1a18-4da2-81cc-cd1bba68aa20\",\n",
      "        \"id\": \"1995--Angelo-J-E--Ni-Al-H--LAMMPS--ipr1\",\n",
      "        \"URL\": \"https://potentials.nist.gov/pid/rest/local/potentials/1995--Angelo-J-E--Ni-Al-H--LAMMPS--ipr1\",\n",
      "        \"potential\": {\n",
      "            \"key\": \"0b194551-81ba-45ba-b4e1-7e035729f11c\",\n",
      "            \"id\": \"1995--Angelo-J-E-Moody-N-R-Baskes-M-I--Ni-Al-H\",\n",
      "            \"URL\": \"https://potentials.nist.gov/pid/rest/local/potentials/potential.1995--Angelo-J-E-Moody-N-R-Baskes-M-I--Ni-Al-H\",\n",
      "            \"doi\": \"10.1088/0965-0393/3/3/001\"\n",
      "        },\n",
      "        \"comments\": \"Potential 1995--Angelo-J-E--Ni-Al-H--LAMMPS--ipr1 listed in the NIST Interatomic Potentials Repository:\\nhttps://www.ctcms.nist.gov/potentials/entry/1995--Angelo-J-E-Moody-N-R-Baskes-M-I--Ni-Al-H/1995--Angelo-J-E--Ni-Al-H--LAMMPS--ipr1.html\\n\",\n",
      "        \"units\": \"metal\",\n",
      "        \"atom_style\": \"atomic\",\n",
      "        \"atom\": [\n",
      "            {\n",
      "                \"symbol\": \"Ni\",\n",
      "                \"element\": \"Ni\",\n",
      "                \"mass\": 58.71\n",
      "            },\n",
      "            {\n",
      "                \"symbol\": \"Al\",\n",
      "                \"element\": \"Al\",\n",
      "                \"mass\": 26.982\n",
      "            },\n",
      "            {\n",
      "                \"symbol\": \"H\",\n",
      "                \"element\": \"H\",\n",
      "                \"mass\": 1.008\n",
      "            }\n",
      "        ],\n",
      "        \"pair_style\": {\n",
      "            \"type\": \"eam/alloy\"\n",
      "        },\n",
      "        \"pair_coeff\": {\n",
      "            \"term\": [\n",
      "                {\n",
      "                    \"file\": \"NiAlH_jea.eam.alloy\"\n",
      "                },\n",
      "                {\n",
      "                    \"symbols\": true\n",
      "                }\n",
      "            ]\n",
      "        },\n",
      "        \"artifact\": [\n",
      "            {\n",
      "                \"web-link\": {\n",
      "                    \"URL\": \"https://www.ctcms.nist.gov/potentials/Download/1995--Angelo-J-E-Moody-N-R-Baskes-M-I--Ni-Al-H/1/NiAlH_jea.eam.alloy\",\n",
      "                    \"link-text\": \"NiAlH_jea.eam.alloy\"\n",
      "                }\n",
      "            },\n",
      "            {\n",
      "                \"web-link\": {\n",
      "                    \"URL\": \"https://www.ctcms.nist.gov/potentials/Download/1995--Angelo-J-E-Moody-N-R-Baskes-M-I--Ni-Al-H/1/NiAlH_properties.pdf\",\n",
      "                    \"link-text\": \"NiAlH_properties.pdf\"\n",
      "                }\n",
      "            }\n",
      "        ]\n",
      "    }\n",
      "}\n"
     ]
    }
   ],
   "source": [
    "print(lmppot.model.json(indent=4))"
   ]
  },
  {
   "cell_type": "markdown",
   "metadata": {},
   "source": [
    "### 2.3. Metadata representation\n",
    "\n",
    "Style-specific notes:\n",
    "\n",
    "- The kwargs that pandasfilter supports are the same as the query kwargs listed above for the database methods."
   ]
  },
  {
   "cell_type": "code",
   "execution_count": 14,
   "metadata": {},
   "outputs": [
    {
     "data": {
      "text/plain": [
       "{'name': '1995--Angelo-J-E--Ni-Al-H--LAMMPS--ipr1',\n",
       " 'key': 'e7649c6c-1a18-4da2-81cc-cd1bba68aa20',\n",
       " 'id': '1995--Angelo-J-E--Ni-Al-H--LAMMPS--ipr1',\n",
       " 'url': 'https://potentials.nist.gov/pid/rest/local/potentials/1995--Angelo-J-E--Ni-Al-H--LAMMPS--ipr1',\n",
       " 'status': None,\n",
       " 'potkey': '0b194551-81ba-45ba-b4e1-7e035729f11c',\n",
       " 'potid': '1995--Angelo-J-E-Moody-N-R-Baskes-M-I--Ni-Al-H',\n",
       " 'poturl': 'https://potentials.nist.gov/pid/rest/local/potentials/potential.1995--Angelo-J-E-Moody-N-R-Baskes-M-I--Ni-Al-H',\n",
       " 'dois': ['10.1088/0965-0393/3/3/001'],\n",
       " 'comments': 'Potential 1995--Angelo-J-E--Ni-Al-H--LAMMPS--ipr1 listed in the NIST Interatomic Potentials Repository:\\nhttps://www.ctcms.nist.gov/potentials/entry/1995--Angelo-J-E-Moody-N-R-Baskes-M-I--Ni-Al-H/1995--Angelo-J-E--Ni-Al-H--LAMMPS--ipr1.html\\n',\n",
       " 'units': 'metal',\n",
       " 'atom_style': 'atomic',\n",
       " 'pair_style': 'eam/alloy',\n",
       " 'artifacts': [{'url': 'https://www.ctcms.nist.gov/potentials/Download/1995--Angelo-J-E-Moody-N-R-Baskes-M-I--Ni-Al-H/1/NiAlH_jea.eam.alloy',\n",
       "   'label': None,\n",
       "   'filename': 'NiAlH_jea.eam.alloy'},\n",
       "  {'url': 'https://www.ctcms.nist.gov/potentials/Download/1995--Angelo-J-E-Moody-N-R-Baskes-M-I--Ni-Al-H/1/NiAlH_properties.pdf',\n",
       "   'label': None,\n",
       "   'filename': 'NiAlH_properties.pdf'}],\n",
       " 'symbols': ['Ni', 'Al', 'H'],\n",
       " 'elements': ['Ni', 'Al', 'H']}"
      ]
     },
     "execution_count": 14,
     "metadata": {},
     "output_type": "execute_result"
    }
   ],
   "source": [
    "lmppot.metadata()"
   ]
  }
 ],
 "metadata": {
  "kernelspec": {
   "display_name": "ipr",
   "language": "python",
   "name": "ipr"
  },
  "language_info": {
   "codemirror_mode": {
    "name": "ipython",
    "version": 3
   },
   "file_extension": ".py",
   "mimetype": "text/x-python",
   "name": "python",
   "nbconvert_exporter": "python",
   "pygments_lexer": "ipython3",
   "version": "3.11.11"
  }
 },
 "nbformat": 4,
 "nbformat_minor": 4
}
