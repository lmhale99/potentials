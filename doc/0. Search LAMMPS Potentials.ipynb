{
 "cells": [
  {
   "cell_type": "markdown",
   "metadata": {},
   "source": [
    "# Search LAMMPS Potentials\n",
    "\n",
    "This Jupyter Notebook allows for a quick search of the database to access the metadata records for LAMMPS potentials.  For a selected potential, you will be able to\n",
    "\n",
    "1. Download the associated parameter files (if available).\n",
    "2. See what LAMMPS command lines should be used."
   ]
  },
  {
   "cell_type": "markdown",
   "metadata": {},
   "source": [
    "## Import potentials package and load records"
   ]
  },
  {
   "cell_type": "markdown",
   "metadata": {},
   "source": [
    "This cell\n",
    "\n",
    "- imports potentials if it is installed\n",
    "- uses pip to install potentials if needed.\n",
    "\n",
    "__NOTE__ If the cell installs potentials using pip, the Notebook needs to be restarted and the cell executed again."
   ]
  },
  {
   "cell_type": "code",
   "execution_count": 1,
   "metadata": {},
   "outputs": [],
   "source": [
    "try:\n",
    "    # Check if potentials has been installed\n",
    "    import potentials\n",
    "except:\n",
    "    # Install if need be and print message\n",
    "    !pip install potentials\n",
    "    print('!!!!! RESTART NOTEBOOK KERNEL TO USE POTENTIALS !!!!!')"
   ]
  },
  {
   "cell_type": "markdown",
   "metadata": {},
   "source": [
    "This cell initializes a Database object and loads LAMMPS potentials\n",
    "\n",
    "Options:\n",
    "- remote - Indicates if records are searched from potentials.nist.gov\n",
    "- local - Indicates if records are searched from a local directory\n",
    "- verbose - Indicates if extra statements are printed\n",
    "- pot_dir_style - Specifies the file path option for parameter files.  Affects where the generated LAMMPS code says the files should be and where the files will be downloaded to. Options are:\n",
    "    - \"working\", where files are in the current working directory.\n",
    "    - \"id\", where files are in a subdirectory of the current working directory named for the LAMMPS potential's id.  This avoids any name conflicts if multiple potentials are used.\n",
    "    - \"local\", where files are in the local database directory.  With this option, name conflicts are avoided and the parameter files are archived for use with later simulations."
   ]
  },
  {
   "cell_type": "code",
   "execution_count": 2,
   "metadata": {},
   "outputs": [
    {
     "name": "stdout",
     "output_type": "stream",
     "text": [
      "Found 401 matching potential_LAMMPS records in local library\n",
      "Found 401 matching potential_LAMMPS records in remote library\n",
      " - 0 remote records are new\n",
      "Found 450 matching potential_LAMMPS_KIM records in local library\n",
      "Found 450 matching potential_LAMMPS_KIM records in remote library\n",
      " - 0 remote records are new\n",
      "Built 302 lammps potentials for KIM models\n"
     ]
    }
   ],
   "source": [
    "potdb = potentials.Database(local=True, remote=True)\n",
    "entries = potdb.get_lammps_potentials(pot_dir_style='id', verbose=True)"
   ]
  },
  {
   "cell_type": "markdown",
   "metadata": {},
   "source": [
    "## Widget search\n",
    "\n",
    "This cell generates a widget that allows for exploring the loaded LAMMPS potentials by element(s), pair style and id.  Passing in an empty dictionary allows for the selected potential to be accessed below.\n",
    "\n",
    "Clicking on \"Copy files\" will copy the parameter files for the currently selected potential either from the local copy of the database or by downloading the files from potentials.nist.gov as needed."
   ]
  },
  {
   "cell_type": "code",
   "execution_count": 3,
   "metadata": {
    "scrolled": false
   },
   "outputs": [
    {
     "data": {
      "application/vnd.jupyter.widget-view+json": {
       "model_id": "20aeee351dc24472aca51d173cc0e724",
       "version_major": 2,
       "version_minor": 0
      },
      "text/plain": [
       "Output()"
      ]
     },
     "metadata": {},
     "output_type": "display_data"
    },
    {
     "data": {
      "application/vnd.jupyter.widget-view+json": {
       "model_id": "df2e3440fd6c487b9427e0a039aac5c1",
       "version_major": 2,
       "version_minor": 0
      },
      "text/plain": [
       "Dropdown(description='Element1:', options=('', 'Ac', 'Ag', 'Al', 'Am', 'Ar', 'As', 'At', 'Au', 'B', 'Ba', 'Be'…"
      ]
     },
     "metadata": {},
     "output_type": "display_data"
    },
    {
     "data": {
      "application/vnd.jupyter.widget-view+json": {
       "model_id": "d6c1cd42e4a046ee82e25143db2e889a",
       "version_major": 2,
       "version_minor": 0
      },
      "text/plain": [
       "Dropdown(description='Element2:', options=('', 'Ac', 'Ag', 'Al', 'Am', 'Ar', 'As', 'At', 'Au', 'B', 'Ba', 'Be'…"
      ]
     },
     "metadata": {},
     "output_type": "display_data"
    },
    {
     "data": {
      "application/vnd.jupyter.widget-view+json": {
       "model_id": "f4932ff7e5e448b0b1e73480f4ee2a83",
       "version_major": 2,
       "version_minor": 0
      },
      "text/plain": [
       "Dropdown(description='Element3:', options=('', 'Ac', 'Ag', 'Al', 'Am', 'Ar', 'As', 'At', 'Au', 'B', 'Ba', 'Be'…"
      ]
     },
     "metadata": {},
     "output_type": "display_data"
    },
    {
     "data": {
      "application/vnd.jupyter.widget-view+json": {
       "model_id": "5fe524d10b5c44539220b1a20aa09737",
       "version_major": 2,
       "version_minor": 0
      },
      "text/plain": [
       "Dropdown(description='Pair Style:', options=('', 'adp', 'aenet', 'agni', 'bop', 'comb3', 'eam', 'eam/alloy', '…"
      ]
     },
     "metadata": {},
     "output_type": "display_data"
    },
    {
     "data": {
      "application/vnd.jupyter.widget-view+json": {
       "model_id": "3091b0605acd4cd6bda10118ae114418",
       "version_major": 2,
       "version_minor": 0
      },
      "text/plain": [
       "Dropdown(description='Potential:', options=('1985--Foiles-S-M--Ni-Cu--LAMMPS--ipr1', '1985--Stillinger-F-H--Si…"
      ]
     },
     "metadata": {},
     "output_type": "display_data"
    },
    {
     "data": {
      "application/vnd.jupyter.widget-view+json": {
       "model_id": "bf18b2172b42495586aed5d556226169",
       "version_major": 2,
       "version_minor": 0
      },
      "text/plain": [
       "Button(description='Copy Files', style=ButtonStyle())"
      ]
     },
     "metadata": {},
     "output_type": "display_data"
    },
    {
     "data": {
      "application/vnd.jupyter.widget-view+json": {
       "model_id": "58927930273c4c6182412e438fc3619d",
       "version_major": 2,
       "version_minor": 0
      },
      "text/plain": [
       "Output()"
      ]
     },
     "metadata": {},
     "output_type": "display_data"
    }
   ],
   "source": [
    "results = {}\n",
    "potdb.widget_lammps_potential(lammps_potentials=entries, results=results)"
   ]
  },
  {
   "cell_type": "markdown",
   "metadata": {},
   "source": [
    "## Get the selected PotentialLAMMPS object"
   ]
  },
  {
   "cell_type": "code",
   "execution_count": 4,
   "metadata": {},
   "outputs": [
    {
     "name": "stdout",
     "output_type": "stream",
     "text": [
      "1985--Foiles-S-M--Ni-Cu--LAMMPS--ipr1\n",
      "All symbols used by the potential:\n",
      "['Cu', 'Ni']\n"
     ]
    }
   ],
   "source": [
    "lmppot = results['lammps_potential']\n",
    "print(lmppot.id)\n",
    "print('All symbols used by the potential:')\n",
    "print(lmppot.symbols)"
   ]
  },
  {
   "cell_type": "markdown",
   "metadata": {},
   "source": [
    "Print LAMMPS command lines for all symbols with comments"
   ]
  },
  {
   "cell_type": "code",
   "execution_count": 5,
   "metadata": {},
   "outputs": [
    {
     "name": "stdout",
     "output_type": "stream",
     "text": [
      "print \"Potential 1985--Foiles-S-M--Ni-Cu--LAMMPS--ipr1 listed in the NIST Interatomic Potentials Repository:\"\n",
      "print \"https://www.ctcms.nist.gov/potentials/entry/1985--Foiles-S-M--Ni-Cu/1985--Foiles-S-M--Ni-Cu--LAMMPS--ipr1.html\"\n",
      "print \"Publication(s) related to the potential:\"\n",
      "print \"https://doi.org/10.1103/physrevb.32.7685\"\n",
      "print \"Parameter file(s) can be downloaded at:\"\n",
      "print \"https://www.ctcms.nist.gov/potentials/Download/1985--Foiles-S-M--Ni-Cu/1/Cu_smf7.eam\"\n",
      "print \"https://www.ctcms.nist.gov/potentials/Download/1985--Foiles-S-M--Ni-Cu/1/Ni_smf7.eam\"\n",
      "pair_style eam\n",
      "pair_coeff 1 1 1985--Foiles-S-M--Ni-Cu--LAMMPS--ipr1\\Cu_smf7.eam\n",
      "pair_coeff 2 2 1985--Foiles-S-M--Ni-Cu--LAMMPS--ipr1\\Ni_smf7.eam\n",
      "mass 1 63.55\n",
      "mass 2 58.71\n",
      "\n",
      "\n"
     ]
    }
   ],
   "source": [
    "print(lmppot.pair_info())"
   ]
  },
  {
   "cell_type": "markdown",
   "metadata": {},
   "source": [
    "Print LAMMPS command lines for only the first symbol and no comments"
   ]
  },
  {
   "cell_type": "code",
   "execution_count": 6,
   "metadata": {},
   "outputs": [
    {
     "name": "stdout",
     "output_type": "stream",
     "text": [
      "pair_style eam\n",
      "pair_coeff 1 1 1985--Foiles-S-M--Ni-Cu--LAMMPS--ipr1\\Cu_smf7.eam\n",
      "mass 1 63.55\n",
      "\n",
      "\n"
     ]
    }
   ],
   "source": [
    "print(lmppot.pair_info(symbols=lmppot.symbols[0], comments=False))"
   ]
  },
  {
   "cell_type": "markdown",
   "metadata": {},
   "source": [
    "  "
   ]
  }
 ],
 "metadata": {
  "kernelspec": {
   "display_name": "Python 3",
   "language": "python",
   "name": "python3"
  },
  "language_info": {
   "codemirror_mode": {
    "name": "ipython",
    "version": 3
   },
   "file_extension": ".py",
   "mimetype": "text/x-python",
   "name": "python",
   "nbconvert_exporter": "python",
   "pygments_lexer": "ipython3",
   "version": "3.7.4"
  }
 },
 "nbformat": 4,
 "nbformat_minor": 2
}
