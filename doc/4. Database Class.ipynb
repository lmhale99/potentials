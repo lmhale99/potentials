{
 "cells": [
  {
   "cell_type": "markdown",
   "metadata": {},
   "source": [
    "# Database class \n",
    "\n",
    "This Notebook outlines the core behavior and design of the potentials.Database class."
   ]
  },
  {
   "cell_type": "markdown",
   "metadata": {},
   "source": [
    "Library imports"
   ]
  },
  {
   "cell_type": "code",
   "execution_count": 1,
   "metadata": {},
   "outputs": [
    {
     "name": "stdout",
     "output_type": "stream",
     "text": [
      "Notebook tested for potentials version 0.4.0\n"
     ]
    }
   ],
   "source": [
    "# Standard Python libraries\n",
    "from pathlib import Path\n",
    "import time\n",
    "\n",
    "# https://github.com/lmhale99/potentials\n",
    "import potentials\n",
    "    \n",
    "print('Notebook tested for potentials version', potentials.__version__)"
   ]
  },
  {
   "cell_type": "markdown",
   "metadata": {},
   "source": [
    "## 1. Database initialization\n",
    "\n",
    "Initializing a potentials.Database object defines the interaction settings for two database locations\n",
    "\n",
    "- A local location, which by default is set to a directory called library within the current settings directory.\n",
    "- A remote location, which by default is the CDCS database at https://potentials.nist.gov/.\n",
    "\n",
    "The default values for most of the parameters below can be changed/set using the package's settings.  See the [2. Change default settings Notebook](2. Change default settings Notebook.ipynb) for more details.\n",
    "\n",
    "Parameters for local.  \n",
    "\n",
    "- __local__ (*bool, optional*) Indicates if the load operations will check for local records. Default value is controlled by settings.  If False, then the local interactions will not be set.\n",
    "- __localpath__ (*str, optional*) The path to a directory where a local-style directory is to be found. This is an alias for local_host, with a local_style of \"local\" and is retained for backwards compatibility.\n",
    "- __local_name__ (*str, optional*) The name assigned to a pre-defined database to use for the local interactions.  Cannot be given with local_style, local_host or local_terms.\n",
    "- __local_style__ (*str, optional*) The database style to use for the local interactions.\n",
    "- __local_host__ (*str, optional*) The URL/file path where the local database is hosted.\n",
    "- __local_terms__ (*dict, optional*) Any other keyword parameters defining necessary access/settings information for using the local database.  Allowed keywords are database style-specific.\n",
    "\n",
    "Parameters for remote.\n",
    "\n",
    "- __remote__ (*bool, optional*) Indicates if the load operations will check for remote records. Default value is controlled by settings.  If False, then the remote interactions will not be set.\n",
    "- __remote_name__ (*str, optional*) The name assigned to a pre-defined database to use for the remote interactions.  Cannot be given with remote_style, remote_host or remote_terms.\n",
    "- __remote_style__ (*str, optional*) The database style to use for the remote interactions.\n",
    "- __remote_host__ (*str, optional*) The URL/file path where the remote database is hosted.\n",
    "- __remote_terms__ (*dict, optional*) Any other keyword parameters defining necessary access/settings information for using the remote database.  Allowed keywords are database style-specific.\n",
    "            \n",
    "Parameters for identifying OpenKIM models.  See the [5.3. openKIM models Notebook](5.3. openKIM models Notebook.ipynb) for more details.\n",
    "\n",
    "- __kim_models__ (*str or list, optional*) Allows for the list of installed_kim_models to be explicitly given. Cannot be given with the other kim parameters.\n",
    "- __kim_api_directory__ (*path-like object, optional*) The directory containing the kim api to use to build the list. Cannot be given with the other kim parameters.\n",
    "- __kim_models_file__ (*path-like object, optional*) The path to a whitespace-delimited file listing full kim ids. Cannot be given with the other kim parameters.\n"
   ]
  },
  {
   "cell_type": "code",
   "execution_count": 2,
   "metadata": {},
   "outputs": [],
   "source": [
    "potdb = potentials.Database()"
   ]
  },
  {
   "cell_type": "markdown",
   "metadata": {},
   "source": [
    "## 2. Checking and changing the database interactions\n",
    "\n",
    "The interactions to the local and remote locations are handled by the local_database and remote_database attributes of the potentials.Database object.  These will depend on the settings given during the potentials.Database initialization, or the default values saved to the package settings if not given during the class initialization. "
   ]
  },
  {
   "cell_type": "code",
   "execution_count": 3,
   "metadata": {},
   "outputs": [
    {
     "name": "stdout",
     "output_type": "stream",
     "text": [
      "database style local at /home/lmh1/library\n",
      "database style cdcs at https://potentials.nist.gov/\n"
     ]
    }
   ],
   "source": [
    "print(potdb.local_database)\n",
    "print(potdb.remote_database)"
   ]
  },
  {
   "cell_type": "markdown",
   "metadata": {},
   "source": [
    "Note that if local or remote is False during initialization, then the corresponding database interaction object will be None.  \n",
    "\n",
    "If you wish to change the settings for local or remote for an already existing potentials.Database object, you can use the set_local_database() and set_remote_database() methods.  Each one of these accepts the associated parameters listed above for the given interaction (except for the boolean local and remote terms).  "
   ]
  },
  {
   "cell_type": "code",
   "execution_count": 4,
   "metadata": {},
   "outputs": [
    {
     "name": "stdout",
     "output_type": "stream",
     "text": [
      "database style mongo at localhost:27017.iprPy\n",
      "database style local at /home/lmh1/library\n"
     ]
    }
   ],
   "source": [
    "# Change local to previously saved database settings named \"master\"\n",
    "potdb.set_local_database(name='master')\n",
    "print(potdb.local_database)\n",
    "\n",
    "# Change it back to the default\n",
    "potdb.set_local_database()\n",
    "print(potdb.local_database)"
   ]
  },
  {
   "cell_type": "markdown",
   "metadata": {},
   "source": [
    "## 3. Download all\n",
    "\n",
    "All records in the NIST Interatomic Potentials Repository that the potentials package interacts with can be downloaded using the download_all() method.  This provides a simple means of copying all remote entries to the local allowing for future offline usage of the repository.\n",
    "\n",
    "- __status__ (*str, list or None, optional*) Only potential_LAMMPS records with the given status(es) will be downloaded.  Allowed values are 'active' , 'superseded', and 'retracted'. If None (default) is given, then all potentials will be downloaded.\n",
    "- __downloadfiles__ (*bool, optional*) If True, the parameter files associated with the potential_LAMMPS record will also be downloaded.\n",
    "- __overwrite__ (*bool, optional*) Flag indicating if any existing local records with names matching remote records are updated (True) or left unchanged (False).  Default value is False.\n",
    "- __verbose__ (*bool, optional*) If True, info messages will be printed during operations.  Default value is False.\n",
    "\n",
    "As an alternative, all records in the NIST database can be downloaded all at once from the https://github.com/lmhale99/potentials-library githib repository.  This provides version control handling of the records, as well as also including structure-based records used by atomman.\n"
   ]
  },
  {
   "cell_type": "code",
   "execution_count": 5,
   "metadata": {},
   "outputs": [],
   "source": [
    "# Set a different localpath to test that records are downloaded\n",
    "localpath = Path('/home/lmh1/testlibrary')\n",
    "\n",
    "potdb = potentials.Database(localpath=localpath)"
   ]
  },
  {
   "cell_type": "code",
   "execution_count": 6,
   "metadata": {},
   "outputs": [
    {
     "name": "stderr",
     "output_type": "stream",
     "text": [
      "100%|████████████████████████████████████████████████████████████████████████████████| 438/438 [00:03<00:00, 111.31it/s]\n",
      "100%|████████████████████████████████████████████████████████████████████████████████| 754/754 [00:06<00:00, 107.66it/s]\n",
      "100%|████████████████████████████████████████████████████████████████████████████████| 545/545 [00:04<00:00, 133.58it/s]\n"
     ]
    },
    {
     "name": "stdout",
     "output_type": "stream",
     "text": [
      "File URL not found: https://www.ctcms.nist.gov/potentials/Download/2025--Sharifi-H-Wick-C-D--Fe-Mn-Ni-Ti-Cu-Cr-Co-Al/1/library.meam\n",
      "File URL not found: https://www.ctcms.nist.gov/potentials/Download/2025--Sharifi-H-Wick-C-D--Fe-Mn-Ni-Ti-Cu-Cr-Co-Al/1/FeMnNiTiCuCrCoAl.meam\n"
     ]
    },
    {
     "name": "stderr",
     "output_type": "stream",
     "text": [
      "100%|████████████████████████████████████████████████████████████████████████████████| 450/450 [00:03<00:00, 137.05it/s]\n"
     ]
    },
    {
     "name": "stdout",
     "output_type": "stream",
     "text": [
      "Took 2.2970327417055767 minutes\n"
     ]
    }
   ],
   "source": [
    "s = time.time()\n",
    "potdb.download_all()\n",
    "e = time.time()\n",
    "print(f'Took {(e-s)/60} minutes')"
   ]
  },
  {
   "cell_type": "markdown",
   "metadata": {},
   "source": [
    "Note that not specifying overwrite=True will skip over any records that already exist, leading to faster subsequent calls."
   ]
  },
  {
   "cell_type": "code",
   "execution_count": 7,
   "metadata": {},
   "outputs": [
    {
     "name": "stderr",
     "output_type": "stream",
     "text": [
      "100%|████████████████████████████████████████████████████████████████████████████████| 438/438 [00:03<00:00, 132.32it/s]\n",
      "100%|████████████████████████████████████████████████████████████████████████████████| 754/754 [00:06<00:00, 120.74it/s]\n",
      "100%|████████████████████████████████████████████████████████████████████████████████| 545/545 [00:03<00:00, 135.05it/s]\n"
     ]
    },
    {
     "name": "stdout",
     "output_type": "stream",
     "text": [
      "File URL not found: https://www.ctcms.nist.gov/potentials/Download/2025--Sharifi-H-Wick-C-D--Fe-Mn-Ni-Ti-Cu-Cr-Co-Al/1/library.meam\n",
      "File URL not found: https://www.ctcms.nist.gov/potentials/Download/2025--Sharifi-H-Wick-C-D--Fe-Mn-Ni-Ti-Cu-Cr-Co-Al/1/FeMnNiTiCuCrCoAl.meam\n"
     ]
    },
    {
     "name": "stderr",
     "output_type": "stream",
     "text": [
      "100%|████████████████████████████████████████████████████████████████████████████████| 450/450 [00:03<00:00, 141.25it/s]\n"
     ]
    },
    {
     "name": "stdout",
     "output_type": "stream",
     "text": [
      "Took 0.3435415466626485 minutes\n"
     ]
    }
   ],
   "source": [
    "s = time.time()\n",
    "potdb.download_all()\n",
    "e = time.time()\n",
    "print(f'Took {(e-s)/60} minutes')"
   ]
  },
  {
   "cell_type": "markdown",
   "metadata": {},
   "source": [
    "## 4. General record interaction methods\n",
    "\n",
    "The Database class also defines common generic interactions that work with all of the supported record styles.\n",
    "\n",
    "__NOTE__: It is highly recommended for most users to use the record-specific variations of these methods rather than the generic ones.  The record-specific variations add functionality and more descriptive parameter information.\n"
   ]
  },
  {
   "cell_type": "markdown",
   "metadata": {},
   "source": [
    "### 4.1. get_records\n",
    "\n",
    "Retrieves all matching records from the local and/or remote locations.  If records with the same record name are retrieved from both locations, then the local versions of those records are given.\n",
    "\n",
    "- __style__ (*str, optional*) The record style to search. If not given, a prompt will ask for it.\n",
    "- __name__ (*str or list, optional*) The name(s) of records to limit the search by.\n",
    "- __local__ (*bool, optional*) Indicates if the local location is to be searched.  Default value matches the value set when the database was initialized.\n",
    "- __remote__ (*bool, optional*) Indicates if the remote location is to be searched.  Default value matches the value set when the database was initialized.\n",
    "- __verbose__ (*bool, optional*) If True, info messages will be printed during operations.  Default value is False.\n",
    "- __refresh_cache__ (*bool, optional*) If the local database is of style \"local\", indicates if the metadata cache file is to be refreshed.  If False, metadata for new records will be added but the old record metadata fields will not be updated.  If True, then the metadata for all records will be regenerated, which is needed to update the metadata for modified records.\n",
    "- __return_df__ (*bool, optional*) If True, then the corresponding pandas.Dataframe of metadata will also be returned.\n",
    "- __\\*\\*kwargs__ (*any, optional*) Any extra keyword arguments supported by the record style."
   ]
  },
  {
   "cell_type": "markdown",
   "metadata": {},
   "source": [
    "### 4.2. get_record\n",
    "\n",
    "Retrieves a single matching record from the local and/or remote locations. If local is True and the record is found there, then the local copy of the record is returned without searching the remote.\n",
    "\n",
    "- __style__ (*str, optional*) The record style to search. If not given, a prompt will ask for it.\n",
    "- __name__ (*str or list, optional*) The name(s) of records to limit the search by.\n",
    "- __local__ (*bool, optional*) Indicates if the local location is to be searched.  Default value matches the value set when the database was initialized.\n",
    "- __remote__ (*bool, optional*) Indicates if the remote location is to be searched.  Default value matches the value set when the database was initialized.\n",
    "- __prompt__ (*bool, optional*) If prompt=True (default) then a screen input will ask for a selection if multiple matching potentials are found.  If prompt=False, then an error will be thrown if multiple matches are found.\n",
    "- __promptfxn__ (*function, optional*) A function that generates the prompt selection list.  If not given, the prompt will be a list of \"id\" values. \n",
    "- __verbose__ (*bool, optional*) If True, info messages will be printed during operations.  Default value is False.\n",
    "- __refresh_cache__ (*bool, optional*) If the local database is of style \"local\", indicates if the metadata cache file is to be refreshed.  If False, metadata for new records will be added but the old record metadata fields will not be updated.  If True, then the metadata for all records will be regenerated, which is needed to update the metadata for modified records.\n",
    "- __\\*\\*kwargs__ (*any, optional*) Any extra keyword arguments supported by the record style."
   ]
  },
  {
   "cell_type": "markdown",
   "metadata": {},
   "source": [
    "### 4.3. remote_query\n",
    "\n",
    "Allows for custom Mongo-style or keyword search queries to be performed on records from the remote database.\n",
    "\n",
    "- __style__ (*str, optional*) The record style to search. If not given, a prompt will ask for it.\n",
    "- __name__ (*str or list, optional*) The name(s) of records to limit the search by.\n",
    "- __return_df__ (*bool, optional*) If True, then the corresponding pandas.Dataframe of metadata will also be returned.\n",
    "- __query__ (*dict, optional*) A custom-built CDCS Mongo-style query to use for the record search. Cannot be given with keyword.\n",
    "- __keyword__ (*str, optional*) Allows for a search of records whose contents contain a keyword. Cannot be given with query."
   ]
  },
  {
   "cell_type": "markdown",
   "metadata": {},
   "source": [
    "### 4.4. download_records\n",
    "\n",
    "Retrieves all matching records from the remote location and saves them to the local location.\n",
    "\n",
    "- __style__ (*str, optional*) The record style to search. If not given, a prompt will ask for it.\n",
    "- __name__ (*str or list, optional*) The name(s) of records to limit the search by.\n",
    "- __overwrite__ (*bool, optional*) Flag indicating if any existing local records with names matching remote records are updated (True) or left unchanged (False).  Default value is False.\n",
    "- __query__ (*dict, optional*) A custom-built CDCS-style query to use for the record search. Alternative to passing in the record-specific metadata kwargs. Note that name can be given with query.\n",
    "- __keyword__ (*str, optional*) Allows for a search of records whose contents contain a keyword. Alternative to giving query or kwargs.\n",
    "- __verbose__ (*bool, optional*) If True, info messages will be printed during operations.  Default value is False.\n",
    "- __return_records__ (*bool, optional*) If True, the retrieved record objects are also returned.  Default value is False.\n",
    "- __\\*\\*kwargs__ (*any, optional*) Any extra keyword arguments supported by the record style."
   ]
  },
  {
   "cell_type": "markdown",
   "metadata": {},
   "source": [
    "### 4.5. save_record\n",
    "\n",
    "Saves a record to the local database.\n",
    "    \n",
    "- __record__ (*Record, optional*) The record to save.  If not given, then style and model are required.\n",
    "- __style__ (*str, optional*) The record style to save.  Required if record is not given.\n",
    "- __model__ (*str, DataModelDict, or file-like object, optional*) The contents of the record to save.  Required if record is not given.\n",
    "- __name__ (*str, optional*) The name to assign to the record.  Required if record is not given and model is not a file name.\n",
    "- __overwrite__ (*bool, optional*) Indicates what to do when a matching record is found in the remote location.  If False (default), then the record is not updated.  If True, then the record is updated.\n",
    "- __verbose__ (*bool, optional*) If True, info messages will be printed during operations.  Default value is False."
   ]
  },
  {
   "cell_type": "markdown",
   "metadata": {},
   "source": [
    "### 4.6. upload_record\n",
    "\n",
    "Uploads a record to the remote database.  Requires an account for the remote location with write permissions.\n",
    "\n",
    "- __record__ (*Record, optional*) The record to upload.  If not given, then style and model are required.\n",
    "- __style__ (*str, optional*) The record style to upload.  Required if record is not given.\n",
    "- __model__ (*str, DataModelDict, or file-like object, optional*) The contents of the record to upload.  Required if record is not given.\n",
    "- __name__ (*str, optional*) The name to assign to the record.  Required if record is not given and model is not a file name.\n",
    "- __workspace__ (*str, optional*) The workspace to assign the record to. If not given, no workspace will be assigned (only accessible to user who submitted it).\n",
    "- __overwrite__ (*bool, optional*) Indicates what to do when a matching record is found in the remote location.  If False (default), then the record is not updated.  If True, then the record is updated.\n",
    "- __verbose__ (*bool, optional*) If True, info messages will be printed during operations.  Default value is False."
   ]
  },
  {
   "cell_type": "markdown",
   "metadata": {},
   "source": [
    "### 4.7. delete_record\n",
    "\n",
    "Deletes a record from the local and/or remote locations.  \n",
    "\n",
    "- __record__ (*Record, optional*) The record to delete.  If not given, then style and name are required.\n",
    "- __style__ (*str, optional*) The style of the record to delete.  Required if record is not given.\n",
    "- __name__ (*str, optional*) The name of the record to delete.  Required if record is not given.\n",
    "- __local__ (*bool, optional*) Indicates if the record will be deleted from the local location. Default value is True.\n",
    "- __remote__ (*bool, optional*) Indicates if the record will be deleted from the remote location. Default value is False.  If True, requires an account for the remote location with write permissions.\n",
    "- __verbose__ (*bool, optional*) If True, info messages will be printed during operations.  Default value is False."
   ]
  }
 ],
 "metadata": {
  "kernelspec": {
   "display_name": "ipr",
   "language": "python",
   "name": "ipr"
  },
  "language_info": {
   "codemirror_mode": {
    "name": "ipython",
    "version": 3
   },
   "file_extension": ".py",
   "mimetype": "text/x-python",
   "name": "python",
   "nbconvert_exporter": "python",
   "pygments_lexer": "ipython3",
   "version": "3.11.11"
  }
 },
 "nbformat": 4,
 "nbformat_minor": 4
}
