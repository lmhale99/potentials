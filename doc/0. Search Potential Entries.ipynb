{
 "cells": [
  {
   "cell_type": "markdown",
   "metadata": {},
   "source": [
    "# Search Potential Entries\n",
    "\n",
    "This Jupyter Notebook allows for a quick search of the database to display citation information and all known implementations for an interatomic potential."
   ]
  },
  {
   "cell_type": "markdown",
   "metadata": {},
   "source": [
    "## Import potentials package and load records\n",
    "\n",
    "This cell\n",
    "\n",
    "- imports potentials if it is installed\n",
    "- uses pip to install potentials if needed.\n",
    "\n",
    "__NOTE__ If the cell installs potentials using pip, the Notebook needs to be restarted and the cell executed again."
   ]
  },
  {
   "cell_type": "code",
   "execution_count": 1,
   "metadata": {},
   "outputs": [],
   "source": [
    "try:\n",
    "    # Check if potentials has been installed\n",
    "    import potentials\n",
    "except:\n",
    "    # Install if need be and print message\n",
    "    !pip install potentials\n",
    "    print('!!!!! RESTART NOTEBOOK KERNEL TO USE POTENTIALS !!!!!')"
   ]
  },
  {
   "cell_type": "markdown",
   "metadata": {},
   "source": [
    "This cell initializes a Database object and loads potential listings.\n",
    "\n",
    "Options:\n",
    "- remote - Indicates if records are searched from potentials.nist.gov\n",
    "- local - Indicates if records are searched from a local directory\n",
    "- verbose - Indicates if extra statements are printed"
   ]
  },
  {
   "cell_type": "markdown",
   "metadata": {},
   "source": [
    "## Widget search\n",
    "\n",
    "This cell generates a widget that allows for exploring the loaded potentials by element(s), year, author and id.  The selected content will be rendered as HTML below."
   ]
  },
  {
   "cell_type": "code",
   "execution_count": 2,
   "metadata": {},
   "outputs": [
    {
     "name": "stdout",
     "output_type": "stream",
     "text": [
      "Found 705 matching Potential records in local library\n"
     ]
    }
   ],
   "source": [
    "potdb = potentials.Database(local=True, remote=False)\n",
    "entries, entries_df = potdb.get_potentials(verbose=True, return_df=True, refresh_cache=True)"
   ]
  },
  {
   "cell_type": "code",
   "execution_count": 3,
   "metadata": {},
   "outputs": [
    {
     "data": {
      "text/plain": [
       "Index(['name', 'key', 'id', 'url', 'recorddate', 'citations', 'notes',\n",
       "       'implementations', 'fictionalelements', 'elements', 'othername',\n",
       "       'surnames'],\n",
       "      dtype='object')"
      ]
     },
     "execution_count": 3,
     "metadata": {},
     "output_type": "execute_result"
    }
   ],
   "source": [
    "entries_df.keys()"
   ]
  },
  {
   "cell_type": "code",
   "execution_count": 4,
   "metadata": {},
   "outputs": [
    {
     "data": {
      "application/vnd.jupyter.widget-view+json": {
       "model_id": "d93c269ea3534d92b8deb1945645f3ac",
       "version_major": 2,
       "version_minor": 0
      },
      "text/plain": [
       "Output()"
      ]
     },
     "metadata": {},
     "output_type": "display_data"
    },
    {
     "data": {
      "application/vnd.jupyter.widget-view+json": {
       "model_id": "43f962d887774ee0bb3ea01b39901228",
       "version_major": 2,
       "version_minor": 0
      },
      "text/plain": [
       "Dropdown(description='Element1:', options=('', 'Ac', 'Ag', 'Al', 'Am', 'Ar', 'As', 'At', 'Au', 'B', 'Ba', 'Be'…"
      ]
     },
     "metadata": {},
     "output_type": "display_data"
    },
    {
     "data": {
      "application/vnd.jupyter.widget-view+json": {
       "model_id": "aa00056ba63c40138c52b4b02257e12f",
       "version_major": 2,
       "version_minor": 0
      },
      "text/plain": [
       "Dropdown(description='Element2:', options=('', 'Ac', 'Ag', 'Al', 'Am', 'Ar', 'As', 'At', 'Au', 'B', 'Ba', 'Be'…"
      ]
     },
     "metadata": {},
     "output_type": "display_data"
    },
    {
     "data": {
      "application/vnd.jupyter.widget-view+json": {
       "model_id": "6bf9a2c34fd445b7b1cb554e5750f7cd",
       "version_major": 2,
       "version_minor": 0
      },
      "text/plain": [
       "Dropdown(description='Element3:', options=('', 'Ac', 'Ag', 'Al', 'Am', 'Ar', 'As', 'At', 'Au', 'B', 'Ba', 'Be'…"
      ]
     },
     "metadata": {},
     "output_type": "display_data"
    },
    {
     "data": {
      "application/vnd.jupyter.widget-view+json": {
       "model_id": "b6da590f74c044b9af2f80704b9f058e",
       "version_major": 2,
       "version_minor": 0
      },
      "text/plain": [
       "Dropdown(description='Year:', options=('', 1958, 1959, 1970, 1971, 1972, 1973, 1981, 1984, 1985, 1986, 1987, 1…"
      ]
     },
     "metadata": {},
     "output_type": "display_data"
    },
    {
     "data": {
      "application/vnd.jupyter.widget-view+json": {
       "model_id": "13b89404a97c4bfda9e5fc67a13d1bc3",
       "version_major": 2,
       "version_minor": 0
      },
      "text/plain": [
       "Text(value='', continuous_update=False, description='Author:')"
      ]
     },
     "metadata": {},
     "output_type": "display_data"
    },
    {
     "data": {
      "application/vnd.jupyter.widget-view+json": {
       "model_id": "a353a5263d5a4216bf2134edd6902c5c",
       "version_major": 2,
       "version_minor": 0
      },
      "text/plain": [
       "Dropdown(description='Potential:', options=('1958--Bernardes-N--Ar', '1958--Bernardes-N--Kr', '1958--Bernardes…"
      ]
     },
     "metadata": {},
     "output_type": "display_data"
    },
    {
     "data": {
      "application/vnd.jupyter.widget-view+json": {
       "model_id": "7ceee32ed41640fe86ac63e63bf60f2f",
       "version_major": 2,
       "version_minor": 0
      },
      "text/plain": [
       "Output()"
      ]
     },
     "metadata": {},
     "output_type": "display_data"
    }
   ],
   "source": [
    "potdb.widget_search_potentials(entries, entries_df)"
   ]
  },
  {
   "cell_type": "markdown",
   "metadata": {},
   "source": [
    "   "
   ]
  }
 ],
 "metadata": {
  "kernelspec": {
   "display_name": "Python 311",
   "language": "python",
   "name": "py11"
  },
  "language_info": {
   "codemirror_mode": {
    "name": "ipython",
    "version": 3
   },
   "file_extension": ".py",
   "mimetype": "text/x-python",
   "name": "python",
   "nbconvert_exporter": "python",
   "pygments_lexer": "ipython3",
   "version": "3.11.5"
  }
 },
 "nbformat": 4,
 "nbformat_minor": 4
}
