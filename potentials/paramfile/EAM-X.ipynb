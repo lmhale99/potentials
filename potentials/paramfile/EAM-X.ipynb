{
 "cells": [
  {
   "cell_type": "code",
   "execution_count": 1,
   "id": "d99e7933-ce34-4101-ad44-1eba899d8a3e",
   "metadata": {},
   "outputs": [],
   "source": [
    "from EAMX import EAMXElement\n",
    "import numpy as np\n",
    "from tqdm import tqdm"
   ]
  },
  {
   "cell_type": "code",
   "execution_count": 7,
   "id": "1d32f747-8325-4ec9-a862-a9db32dbfba6",
   "metadata": {},
   "outputs": [
    {
     "data": {
      "text/plain": [
       "1.0"
      ]
     },
     "execution_count": 7,
     "metadata": {},
     "output_type": "execute_result"
    }
   ],
   "source": [
    "eamx = EAMXElement.by_symbol('Cu')\n",
    "eamx.paramOK()"
   ]
  },
  {
   "cell_type": "code",
   "execution_count": 6,
   "id": "868a483f-d566-4a32-9c97-0a40af0a603e",
   "metadata": {},
   "outputs": [
    {
     "name": "stderr",
     "output_type": "stream",
     "text": [
      "  0%|                                                                                            | 0/20 [00:00<?, ?it/s]"
     ]
    },
    {
     "name": "stdout",
     "output_type": "stream",
     "text": [
      "Parameters failed criteria that F4 > 0\n",
      "Parameters failed criteria that 2*F2*F4 - F3^2 > 0 or F3 > 0\n",
      " F0 =  -5.648448034597266\n",
      " F1 =  -0.14534694261450734\n",
      " F2 =  0.02999133260435366\n",
      " F3 =  -0.0010386744448843456\n",
      " F4 =  -0.0001827571451667398\n",
      " rcutmax =  5.724334022399462\n",
      " rcut =  4.98\n"
     ]
    },
    {
     "name": "stderr",
     "output_type": "stream",
     "text": [
      "\n"
     ]
    }
   ],
   "source": [
    "for beta in tqdm(np.linspace(0.2, 5.0, 20)):\n",
    "    params = {'r1nne': 2.56, 'Ece': 3.54, 'Be': 0.86, 'beta': beta, 'phi0': 0.29, 'rcut': 4.98}\n",
    "    eamx = EAMXElement(**params)\n",
    "    if eamx.paramOK() == 0.0:\n",
    "        break"
   ]
  },
  {
   "cell_type": "code",
   "execution_count": 3,
   "id": "f3e22d06-075c-40cb-8de1-eee12274406c",
   "metadata": {},
   "outputs": [
    {
     "data": {
      "text/plain": [
       "True"
      ]
     },
     "execution_count": 3,
     "metadata": {},
     "output_type": "execute_result"
    }
   ],
   "source": [
    "hasattr([45], '__iter__')"
   ]
  },
  {
   "cell_type": "code",
   "execution_count": 4,
   "id": "b93b266c-8bc5-4407-af7d-98b0ec5dcf66",
   "metadata": {},
   "outputs": [],
   "source": [
    "# EAMX model with param checker (v2)\n",
    "# written fully in python (not translated from mathematica)\n",
    "# Daw and Chandross: 21 Apr 2023\n",
    "# see and reference these two seminal papers:\n",
    "# (1) M. S. Daw & M. E. Chandross, Acta Materialia, v248 a118771 (2023)\n",
    "#   \"Simple parameterization of embedded atom method potentials for FCC metals\"\n",
    "#    https://doi.org/10.1016/j.actamat.2023.118771\n",
    "# (2) M. S. Daw & M. E. Chandross, Acta Materialia, v248 a118771 (2023)\n",
    "#   \"Simple parameterization of embedded atom method potentials for FCC alloys\"\n",
    "#    https://doi.org/10.1016/j.actamat.2023.118772\n",
    "\n",
    "\n",
    "import numpy as np\n",
    "import math\n",
    "\n",
    "\n",
    "# FCC\n",
    "Zs = np.array([12,6,24,12])\n",
    "zetas = np.sqrt(np.array([1,2,3,4]))\n",
    "nshellmax = Zs.size\n",
    "\n",
    "\n",
    "def fz(z):\n",
    "    return np.exp(-z)-1+z\n",
    "\n",
    "def fzp(z):\n",
    "    return -np.exp(-z)+1\n",
    "\n",
    "def fzpp(z):\n",
    "    return np.exp(-z)\n",
    "\n",
    "def fzppp(z):\n",
    "    return -np.exp(-z)\n",
    "\n",
    "# rho(r) and derivatives\n",
    "# ignore derivatives of cutoff\n",
    "\n",
    "def cutoff(r,rcut):\n",
    "    return np.heaviside(rcut-r,0.5)\n",
    "\n",
    "def rho(r,rho0,beta,r1nne,rcut):\n",
    "    z = beta*(r-rcut)\n",
    "    z1 = beta*(r1nne-rcut)\n",
    "    return rho0*(fz(z)/fz(z1))*cutoff(r,rcut)\n",
    "\n",
    "def rhop(r,rho0,beta,r1nne,rcut):\n",
    "    z = beta*(r-rcut)\n",
    "    z1 = beta*(r1nne-rcut)\n",
    "    return rho0*(beta*fzp(z)/fz(z1))*cutoff(r,rcut)\n",
    "\n",
    "def rhopp(r,rho0,beta,r1nne,rcut):\n",
    "    z = beta*(r-rcut)\n",
    "    z1 = beta*(r1nne-rcut)\n",
    "    return rho0*(beta**2*fzpp(z)/fz(z1))*cutoff(r,rcut)\n",
    "\n",
    "def rhoppp(r,rho0,beta,r1nne,rcut):\n",
    "    z = beta*(r-rcut)\n",
    "    z1 = beta*(r1nne-rcut)\n",
    "    return rho0*(beta**3*fzppp(z)/fz(z1))*cutoff(r,rcut)\n",
    "\n",
    "# define rhobar and derivatives w.r.t. r1nn \n",
    "def rhobar(r1nn,rho0,beta,r1nne,rcut):\n",
    "    rs = zetas*r1nn\n",
    "#    rhos = np.array([rho(rs[irs],rho0,beta,r1nne,rcut) for irs in range(nshellmax)])\n",
    "    rhos = rho(rs,rho0,beta,r1nne,rcut)\n",
    "    return np.dot(Zs,rhos)\n",
    "\n",
    "def rhobarp(r1nn,rho0,beta,r1nne,rcut):\n",
    "    rs = zetas*r1nn\n",
    "#    rhops = np.array([rhop(rs[irs],rho0,beta,r1nne,rcut) for irs in range(nshellmax)])\n",
    "    rhops = rhop(rs,rho0,beta,r1nne,rcut)\n",
    "    return np.dot(Zs,rhops*zetas)\n",
    "\n",
    "def rhobarpp(r1nn,rho0,beta,r1nne,rcut):\n",
    "    rs = zetas*r1nn\n",
    "#    rhopps = np.array([rhopp(rs[irs],rho0,beta,r1nne,rcut) for irs in range(nshellmax)])\n",
    "    rhopps = rhopp(rs,rho0,beta,r1nne,rcut)\n",
    "    return np.dot(Zs,rhopps*zetas**2)\n",
    "\n",
    "def rhobarppp(r1nn,rho0,beta,r1nne,rcut):\n",
    "    rs = zetas*r1nn\n",
    "#    rhoppps = np.array([rhoppp(rs[irs],rho0,beta,r1nne,rcut) for irs in range(nshellmax)])\n",
    "    rhoppps = rhoppp(rs,rho0,beta,r1nne,rcut)\n",
    "    return np.dot(Zs,rhoppps*zetas**3)\n",
    "\n",
    "# define rhobare and derivatives (rhobar and derivatives evaluated at equilibrium) \n",
    "def rhobare(rho0,beta,r1nne,rcut):\n",
    "    rs = zetas*r1nne\n",
    "#    rhos = np.array([rho(rs[irs],rho0,beta,r1nne,rcut) for irs in range(nshellmax)])\n",
    "    rhos = rho(rs,rho0,beta,r1nne,rcut) \n",
    "    return np.dot(Zs,rhos)\n",
    "\n",
    "def rhobarpe(rho0,beta,r1nne,rcut):\n",
    "    rs = zetas*r1nne\n",
    "#    rhops = np.array([rhop(rs[irs],rho0,beta,r1nne,rcut) for irs in range(nshellmax)])\n",
    "    rhops = rhop(rs,rho0,beta,r1nne,rcut) \n",
    "    return np.dot(Zs,rhops*zetas)\n",
    "\n",
    "def rhobarppe(rho0,beta,r1nne,rcut):\n",
    "    rs = zetas*r1nne\n",
    "#    rhopps = np.array([rhopp(rs[irs],rho0,beta,r1nne,rcut) for irs in range(nshellmax)])\n",
    "    rhopps = rhopp(rs,rho0,beta,r1nne,rcut)\n",
    "    return np.dot(Zs,rhopps*zetas**2)\n",
    "\n",
    "def rhobarpppe(rho0,beta,r1nne,rcut):\n",
    "    rs = zetas*r1nne\n",
    "#    rhoppps = np.array([rhoppp(rs[irs],rho0,beta,r1nne,rcut) for irs in range(nshellmax)])\n",
    "    rhoppps = rhoppp(rs,rho0,beta,r1nne,rcut) \n",
    "    return np.dot(Zs,rhoppps*zetas**3)\n",
    "\n",
    "# phi(r) and derivatives\n",
    "# ignore derivatives of cutoff\n",
    "\n",
    "def phi(r,phi0,beta,r1nne,rcut):\n",
    "    gamma = 2*beta\n",
    "    z = gamma*(r-rcut)\n",
    "    z1 = gamma*(r1nne-rcut)\n",
    "    calc = phi0*(fz(z)/fz(z1))*cutoff(r,rcut)\n",
    "    return calc\n",
    "\n",
    "def phip(r,phi0,beta,r1nne,rcut):\n",
    "    gamma = 2*beta\n",
    "    z = gamma*(r-rcut)\n",
    "    z1 = gamma*(r1nne-rcut)\n",
    "    return phi0*(gamma*fzp(z)/fz(z1))*cutoff(r,rcut)\n",
    "\n",
    "def phipp(r,phi0,beta,r1nne,rcut):\n",
    "    gamma = 2*beta\n",
    "    z = gamma*(r-rcut)\n",
    "    z1 = gamma*(r1nne-rcut)\n",
    "    return phi0*(gamma**2*fzpp(z)/fz(z1))*cutoff(r,rcut)\n",
    "\n",
    "def phippp(r,phi0,beta,r1nne,rcut):\n",
    "    gamma = 2*beta\n",
    "    z = gamma*(r-rcut)\n",
    "    z1 = gamma*(r1nne-rcut)\n",
    "    return phi0*(gamma**3*fzppp(z)/fz(z1))*cutoff(r,rcut)\n",
    "\n",
    "# define phibar and derivatives w.r.t. r1nn at equilibrium\n",
    "def phibar(r1nn,phi0,beta,r1nne,rcut):\n",
    "    rs = zetas*r1nn\n",
    "    phis = phi(rs,phi0,beta,r1nne,rcut) \n",
    "    return np.dot(Zs,phis)\n",
    "\n",
    "def phibare(phi0,beta,r1nne,rcut):\n",
    "    rs = zetas*r1nne\n",
    "    phis = phi(rs,phi0,beta,r1nne,rcut) \n",
    "    return np.dot(Zs,phis)\n",
    "\n",
    "def phibarpe(phi0,beta,r1nne,rcut):\n",
    "    rs = zetas*r1nne\n",
    "    phips = phip(rs,phi0,beta,r1nne,rcut) \n",
    "    return np.dot(Zs,phips*zetas)\n",
    "\n",
    "def phibarppe(phi0,beta,r1nne,rcut):\n",
    "    rs = zetas*r1nne\n",
    "    phipps = phipp(rs,phi0,beta,r1nne,rcut) \n",
    "    return np.dot(Zs,phipps*zetas**2)\n",
    "\n",
    "def phibarpppe(phi0,beta,r1nne,rcut):\n",
    "    rs = zetas*r1nne\n",
    "    phippps = phippp(rs,phi0,beta,r1nne,rcut) \n",
    "    return np.dot(Zs,phippps*zetas**3)\n",
    "\n",
    "# define Ue=U(r1nne), Upe=U', Uppe=U'', Uppe=U'''\n",
    "def Ue(r1nne,Ece,Be):\n",
    "    return -Ece\n",
    "\n",
    "def Uppe(r1nne,Ece,Be):\n",
    "    return 9*Be*r1nne/math.sqrt(2.)\n",
    "\n",
    "def Upppe(r1nne,Ece,Be):\n",
    "    return -27*math.sqrt( math.sqrt(2.)*Be**3 * r1nne**3/Ece )\n",
    "\n",
    "# coefficients in embedding function\n",
    "def F0(r1nne,Ece,Be,phi0,rho0,beta,rcut):\n",
    "    return Ue(r1nne,Ece,Be) - phibare(phi0,beta,r1nne,rcut)/2.\n",
    "\n",
    "def F1(r1nne,Ece,Be,phi0,rho0,beta,rcut):\n",
    "    return -phibarpe(phi0,beta,r1nne,rcut)/(2.*rhobarpe(rho0,beta,r1nne,rcut))\n",
    "\n",
    "def F2(r1nne,Ece,Be,phi0,rho0,beta,rcut):\n",
    "    Fpe = F1(r1nne,Ece,Be,phi0,rho0,beta,rcut)\n",
    "    U2 = Uppe(r1nne,Ece,Be)\n",
    "    phi2 = phibarppe(phi0,beta,r1nne,rcut)\n",
    "    rho1 = rhobarpe(rho0,beta,r1nne,rcut)\n",
    "    rho2 = rhobarppe(rho0,beta,r1nne,rcut)\n",
    "    return (U2-phi2/2.-Fpe*rho2)/rho1**2\n",
    "\n",
    "def F3(r1nne,Ece,Be,phi0,rho0,beta,rcut):\n",
    "    Fpe = F1(r1nne,Ece,Be,phi0,rho0,beta,rcut)\n",
    "    Fppe = F2(r1nne,Ece,Be,phi0,rho0,beta,rcut)\n",
    "    U3 = Upppe(r1nne,Ece,Be)\n",
    "    phi3 = phibarpppe(phi0,beta,r1nne,rcut)\n",
    "    rho1 = rhobarpe(rho0,beta,r1nne,rcut)\n",
    "    rho2 = rhobarppe(rho0,beta,r1nne,rcut)\n",
    "    rho3 = rhobarpppe(rho0,beta,r1nne,rcut)\n",
    "    return (U3 - phi3/2. - Fpe*rho3 - 3.*Fppe*rho1*rho2)/rho1**3\n",
    "    \n",
    "def F4(r1nne,Ece,Be,phi0,rho0,beta,rcut):\n",
    "    Fc0 = F0(r1nne,Ece,Be,phi0,rho0,beta,rcut)\n",
    "    Fc1 = F1(r1nne,Ece,Be,phi0,rho0,beta,rcut)\n",
    "    Fc2 = F2(r1nne,Ece,Be,phi0,rho0,beta,rcut)\n",
    "    Fc3 = F3(r1nne,Ece,Be,phi0,rho0,beta,rcut)\n",
    "    rhobe = rhobare(rho0,beta,r1nne,rcut)\n",
    "    return -24.*(Fc0-Fc1*rhobe+Fc2*rhobe**2/2.-Fc3*rhobe**3/6.)/rhobe**4\n",
    "\n",
    "def F(rhobar,phi0,rho0,beta,r1nne,Be,Ece,rcut):\n",
    "    rhobe = rhobare(rho0,beta,r1nne,rcut)\n",
    "    Fd0 = F0(r1nne,Ece,Be,phi0,rho0,beta,rcut)\n",
    "    Fd1 = F1(r1nne,Ece,Be,phi0,rho0,beta,rcut)\n",
    "    Fd2 = F2(r1nne,Ece,Be,phi0,rho0,beta,rcut)\n",
    "    Fd3 = F3(r1nne,Ece,Be,phi0,rho0,beta,rcut)\n",
    "    Fd4 = F4(r1nne,Ece,Be,phi0,rho0,beta,rcut)\n",
    "    drhobar = rhobar - rhobe\n",
    "    return Fd0 + Fd1*drhobar + Fd2*drhobar**2/2. + Fd3*drhobar**3/6. + Fd4*drhobar**4/24.\n",
    "\n",
    "# define criteria for bounds on parameters\n",
    "# check params against those criteria and flag if they fail\n",
    "\n",
    "def paramOK(phi0,rho0,beta,r1nne,Be,Ece,rcut):\n",
    "    Fe0 = F0(r1nne,Ece,Be,phi0,rho0,beta,rcut)\n",
    "    Fe1 = F1(r1nne,Ece,Be,phi0,rho0,beta,rcut)\n",
    "    Fe2 = F2(r1nne,Ece,Be,phi0,rho0,beta,rcut)\n",
    "    Fe3 = F3(r1nne,Ece,Be,phi0,rho0,beta,rcut)\n",
    "    Fe4 = F4(r1nne,Ece,Be,phi0,rho0,beta,rcut)\n",
    "    \n",
    "    crit1 = np.heaviside( Fe2, 0.5 )    # F2>0\n",
    "    crit2 = np.heaviside( Fe4, 0.5 )    # F4>0\n",
    "    crit3a = np.heaviside( 2*Fe2*Fe4-Fe3**2, 0.5 ) # 2*F2*F4-F3^2>0\n",
    "    crit3b = np.heaviside( Fe3, 0.5)  #  F3>0\n",
    "    crit3 = 0\n",
    "    if crit3a==1 or crit3b==1:    #  3 = Or(3A,3B)\n",
    "        crit3 = 1\n",
    "\n",
    "    rcutmax = math.sqrt(nshellmax+1)*r1nne  # max is figured from settings at top for FCC only \n",
    "    crit4 = np.heaviside( rcutmax - rcut, 0.5 )   \n",
    "\n",
    "    crits = crit1*crit2*crit3*crit4\n",
    "\n",
    "    if crits != 1:\n",
    "        print(\" parameters failed criteria \")\n",
    "        print(\" crits = \",crit1,crit2,crit3,crit4)\n",
    "        print(\" F0 = \",F0)\n",
    "        print(\" F1 = \",F1)\n",
    "        print(\" F2 = \",F2)\n",
    "        print(\" F3 = \",F3)\n",
    "        print(\" F4 = \",F4)\n",
    "        print(\" rcutmax = \",rcutmax)\n",
    "        print(\" rcut = \",rcut)\n",
    "        \n",
    "\n",
    "    return crits\n",
    "\n"
   ]
  },
  {
   "cell_type": "code",
   "execution_count": 7,
   "id": "58992864-7098-45be-ae57-7f4d494290db",
   "metadata": {},
   "outputs": [],
   "source": [
    "r = np.linspace(0, 6.0, 50)"
   ]
  },
  {
   "cell_type": "code",
   "execution_count": 14,
   "id": "0384a8c8-7cd3-4d5c-9bf6-1ba75243ae9e",
   "metadata": {},
   "outputs": [
    {
     "data": {
      "text/plain": [
       "True"
      ]
     },
     "execution_count": 14,
     "metadata": {},
     "output_type": "execute_result"
    }
   ],
   "source": [
    "np.allclose(eamx.d3rho(r), rhoppp(r, eamx.rho0, eamx.beta, eamx.r1nne, eamx.rcut))"
   ]
  },
  {
   "cell_type": "code",
   "execution_count": 31,
   "id": "59e0933d-f00d-4ade-a5dd-652dc4055929",
   "metadata": {},
   "outputs": [
    {
     "data": {
      "text/plain": [
       "True"
      ]
     },
     "execution_count": 31,
     "metadata": {},
     "output_type": "execute_result"
    }
   ],
   "source": [
    "np.allclose(eamx.d3phi(r), phippp(r, eamx.phi0, eamx.beta, eamx.r1nne, eamx.rcut))"
   ]
  },
  {
   "cell_type": "code",
   "execution_count": 36,
   "id": "b64f8a80-1432-4460-b99f-5d67bda8a75f",
   "metadata": {},
   "outputs": [
    {
     "data": {
      "text/plain": [
       "True"
      ]
     },
     "execution_count": 36,
     "metadata": {},
     "output_type": "execute_result"
    }
   ],
   "source": [
    "eamx.d3phibare() == phibarpppe(eamx.phi0, eamx.beta, eamx.r1nne, eamx.rcut)"
   ]
  },
  {
   "cell_type": "code",
   "execution_count": 41,
   "id": "d9833388-d9b0-4496-8c6e-aa5af0d93a82",
   "metadata": {},
   "outputs": [
    {
     "data": {
      "text/plain": [
       "True"
      ]
     },
     "execution_count": 41,
     "metadata": {},
     "output_type": "execute_result"
    }
   ],
   "source": [
    "eamx.d3Ue() == Upppe(eamx.r1nne, eamx.Ece, eamx.Be)"
   ]
  },
  {
   "cell_type": "code",
   "execution_count": 42,
   "id": "79c0ee13-c7b2-49ff-aa04-98d3b53f4168",
   "metadata": {},
   "outputs": [
    {
     "data": {
      "text/plain": [
       "<bound method EAMXElement.F0 of <EAMX.EAMXElement object at 0x7fc180286610>>"
      ]
     },
     "execution_count": 42,
     "metadata": {},
     "output_type": "execute_result"
    }
   ],
   "source": [
    "eamx.F0"
   ]
  },
  {
   "cell_type": "code",
   "execution_count": 47,
   "id": "beff0aa0-9677-42d3-98e3-8850ae9941b6",
   "metadata": {},
   "outputs": [],
   "source": [
    "rhobar = np.linspace(0, 100, 500)"
   ]
  },
  {
   "cell_type": "code",
   "execution_count": 48,
   "id": "06fa1903-eff2-4bce-9150-c4337092081b",
   "metadata": {},
   "outputs": [
    {
     "data": {
      "text/plain": [
       "True"
      ]
     },
     "execution_count": 48,
     "metadata": {},
     "output_type": "execute_result"
    }
   ],
   "source": [
    "np.allclose(eamx.F(rhobar), F(rhobar, eamx.phi0, eamx.rho0, eamx.beta, eamx.r1nne, eamx.Be, eamx.Ece, eamx.rcut))"
   ]
  },
  {
   "cell_type": "code",
   "execution_count": 8,
   "id": "2555c584-e5e5-4dfd-906a-65c46601f907",
   "metadata": {},
   "outputs": [],
   "source": [
    "from uuid import uuid4\n",
    "\n",
    "def test(bob = str(uuid4())):\n",
    "    print(bob)"
   ]
  },
  {
   "cell_type": "code",
   "execution_count": 11,
   "id": "5c06f348-8a9b-4bd6-92fd-7c1264707e65",
   "metadata": {},
   "outputs": [
    {
     "name": "stdout",
     "output_type": "stream",
     "text": [
      "0017f3cf-bad9-4b83-829d-93731ee038bd\n"
     ]
    }
   ],
   "source": [
    "test()"
   ]
  },
  {
   "cell_type": "code",
   "execution_count": null,
   "id": "be536d2a-da8e-44c0-b218-5182e5490daf",
   "metadata": {},
   "outputs": [],
   "source": []
  }
 ],
 "metadata": {
  "kernelspec": {
   "display_name": "Python 311",
   "language": "python",
   "name": "py11"
  },
  "language_info": {
   "codemirror_mode": {
    "name": "ipython",
    "version": 3
   },
   "file_extension": ".py",
   "mimetype": "text/x-python",
   "name": "python",
   "nbconvert_exporter": "python",
   "pygments_lexer": "ipython3",
   "version": "3.11.5"
  }
 },
 "nbformat": 4,
 "nbformat_minor": 5
}
