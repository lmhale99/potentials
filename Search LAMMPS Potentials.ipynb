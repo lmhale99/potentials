{
 "cells": [
  {
   "cell_type": "markdown",
   "metadata": {},
   "source": [
    "# Search LAMMPS Potentials\n",
    "\n",
    "This Jupyter Notebook allows for a quick search of the database to access the metadata records for LAMMPS potentials.  For a selected potential, you will be able to\n",
    "\n",
    "1. Download the associated parameter files (if available).\n",
    "2. See what LAMMPS command lines should be used."
   ]
  },
  {
   "cell_type": "markdown",
   "metadata": {},
   "source": [
    "## Import potentials package and load records"
   ]
  },
  {
   "cell_type": "code",
   "execution_count": 1,
   "metadata": {},
   "outputs": [],
   "source": [
    "try:\n",
    "    # Check if potentials has been installed\n",
    "    import potentials\n",
    "except:\n",
    "    # Install if need be and print message\n",
    "    !pip install potentials\n",
    "    print('!!!!! RESTART NOTEBOOK KERNEL TO USE POTENTIALS !!!!!')"
   ]
  },
  {
   "cell_type": "code",
   "execution_count": 2,
   "metadata": {},
   "outputs": [
    {
     "name": "stdout",
     "output_type": "stream",
     "text": [
      "Loaded 279 local LAMMPS potentials\n",
      "Loaded 0 remote LAMMPS potentials\n",
      " - 0 new\n"
     ]
    }
   ],
   "source": [
    "potdb = potentials.Database(load=['lammps_potentials'], verbose=True)"
   ]
  },
  {
   "cell_type": "code",
   "execution_count": 3,
   "metadata": {
    "scrolled": false
   },
   "outputs": [
    {
     "data": {
      "application/vnd.jupyter.widget-view+json": {
       "model_id": "f5d38f7f69564c4ea2ae42d6be2e12a1",
       "version_major": 2,
       "version_minor": 0
      },
      "text/plain": [
       "Output()"
      ]
     },
     "metadata": {},
     "output_type": "display_data"
    },
    {
     "data": {
      "application/vnd.jupyter.widget-view+json": {
       "model_id": "387b3f3ae2b04e679862fb93ab16a2fb",
       "version_major": 2,
       "version_minor": 0
      },
      "text/plain": [
       "Dropdown(description='Element1:', options=('', 'Ag', 'Al', 'As', 'Au', 'B', 'Be', 'Br', 'C', 'Cd', 'Ce', 'Cl',…"
      ]
     },
     "metadata": {},
     "output_type": "display_data"
    },
    {
     "data": {
      "application/vnd.jupyter.widget-view+json": {
       "model_id": "8a5261baf5ec4eeaabaa640db7c2c234",
       "version_major": 2,
       "version_minor": 0
      },
      "text/plain": [
       "Dropdown(description='Element2:', options=('', 'Ag', 'Al', 'As', 'Au', 'B', 'Be', 'Br', 'C', 'Cd', 'Ce', 'Cl',…"
      ]
     },
     "metadata": {},
     "output_type": "display_data"
    },
    {
     "data": {
      "application/vnd.jupyter.widget-view+json": {
       "model_id": "f163da52261340fd875341fb684cffe2",
       "version_major": 2,
       "version_minor": 0
      },
      "text/plain": [
       "Dropdown(description='Element3:', options=('', 'Ag', 'Al', 'As', 'Au', 'B', 'Be', 'Br', 'C', 'Cd', 'Ce', 'Cl',…"
      ]
     },
     "metadata": {},
     "output_type": "display_data"
    },
    {
     "data": {
      "application/vnd.jupyter.widget-view+json": {
       "model_id": "747a9a8738b2446db38465f78229d3a4",
       "version_major": 2,
       "version_minor": 0
      },
      "text/plain": [
       "Dropdown(description='Pair Style:', options=('', 'adp', 'agni', 'bop', 'comb3', 'eam', 'eam/alloy', 'eam/cd', …"
      ]
     },
     "metadata": {},
     "output_type": "display_data"
    },
    {
     "data": {
      "application/vnd.jupyter.widget-view+json": {
       "model_id": "dacb81f2b4b041a387939659b74a70d9",
       "version_major": 2,
       "version_minor": 0
      },
      "text/plain": [
       "Dropdown(description='Potential:', options=('1985--Foiles-S-M--Ni-Cu--LAMMPS--ipr1', '1985--Stillinger-F-H--Si…"
      ]
     },
     "metadata": {},
     "output_type": "display_data"
    },
    {
     "data": {
      "application/vnd.jupyter.widget-view+json": {
       "model_id": "6d26f8dd288440169620e0395263b784",
       "version_major": 2,
       "version_minor": 0
      },
      "text/plain": [
       "Button(description='Copy Files', style=ButtonStyle())"
      ]
     },
     "metadata": {},
     "output_type": "display_data"
    },
    {
     "data": {
      "application/vnd.jupyter.widget-view+json": {
       "model_id": "fb0fcca4ae934c8dab5ccd359e48f772",
       "version_major": 2,
       "version_minor": 0
      },
      "text/plain": [
       "Output()"
      ]
     },
     "metadata": {},
     "output_type": "display_data"
    }
   ],
   "source": [
    "results = {}\n",
    "potdb.widget_lammps_potential(results)"
   ]
  },
  {
   "cell_type": "markdown",
   "metadata": {},
   "source": [
    "## Get the selected PotentialLAMMPS object"
   ]
  },
  {
   "cell_type": "code",
   "execution_count": 5,
   "metadata": {},
   "outputs": [
    {
     "name": "stdout",
     "output_type": "stream",
     "text": [
      "['Ni', 'Al', 'H']\n",
      "mass 1 58.71\n",
      "mass 2 26.982\n",
      "mass 3 1.008\n",
      "\n",
      "pair_style eam/alloy\n",
      "pair_coeff * * 1995--Angelo-J-E--Ni-Al-H--LAMMPS--ipr1\\NiAlH_jea.eam.alloy Ni Al H\n",
      "\n"
     ]
    }
   ],
   "source": [
    "lmppot = results['lammps_potential']\n",
    "\n",
    "print(lmppot.symbols)\n",
    "print(lmppot.pair_info())"
   ]
  },
  {
   "cell_type": "markdown",
   "metadata": {},
   "source": [
    "  "
   ]
  }
 ],
 "metadata": {
  "kernelspec": {
   "display_name": "Python 3",
   "language": "python",
   "name": "python3"
  },
  "language_info": {
   "codemirror_mode": {
    "name": "ipython",
    "version": 3
   },
   "file_extension": ".py",
   "mimetype": "text/x-python",
   "name": "python",
   "nbconvert_exporter": "python",
   "pygments_lexer": "ipython3",
   "version": "3.7.4"
  }
 },
 "nbformat": 4,
 "nbformat_minor": 2
}
