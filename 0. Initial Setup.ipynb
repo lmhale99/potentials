{
 "cells": [
  {
   "cell_type": "markdown",
   "metadata": {},
   "source": [
    "# Initial Setup\n",
    "\n",
    "This Notebook describes the various setup options for using the potentials package that users can control.  While none of these steps are required, they provide users more control over how the package works.  \n",
    "\n",
    "1. Check/set local paths\n",
    "2. Change default database local/remote settings\n",
    "3. Create local copy of database\n",
    "\n",
    "Most of these features are controlled by the Settings class."
   ]
  },
  {
   "cell_type": "code",
   "execution_count": 1,
   "metadata": {},
   "outputs": [],
   "source": [
    "import potentials\n",
    "\n",
    "settings = potentials.Settings()"
   ]
  },
  {
   "cell_type": "markdown",
   "metadata": {},
   "source": [
    "## 1. Check/set local paths\n",
    "\n",
    "### 1.1. Check/set settings file location\n",
    "\n",
    "The potentials package handles user-defined settings by creating a settings.json file.  This file is located in the user's home directory. "
   ]
  },
  {
   "cell_type": "code",
   "execution_count": 2,
   "metadata": {},
   "outputs": [
    {
     "name": "stdout",
     "output_type": "stream",
     "text": [
      "C:\\Users\\lmh1\\.NISTpotentials\n",
      "C:\\Users\\lmh1\\.NISTpotentials\\settings.json\n"
     ]
    }
   ],
   "source": [
    "print(settings.directory)\n",
    "print(settings.filename)"
   ]
  },
  {
   "cell_type": "markdown",
   "metadata": {},
   "source": [
    "If you wish, the directory containing the settings file can be changed.  This allows for the default settings file to point to a settings file located in a different location.  This option is useful if you have multiple environments with distinct home directories and you wish for them to share settings.\n",
    "\n",
    "NOTE: the directory can only be changed if no other settings have been modified!"
   ]
  },
  {
   "cell_type": "code",
   "execution_count": 3,
   "metadata": {},
   "outputs": [],
   "source": [
    "settings.set_directory('C:/Users/lmh1/test')"
   ]
  },
  {
   "cell_type": "markdown",
   "metadata": {},
   "source": [
    "The directory and filename attributes will reflect this change.  However, the original default values are still retained in the defaultdirectory and defaultfilename attributes."
   ]
  },
  {
   "cell_type": "code",
   "execution_count": 4,
   "metadata": {},
   "outputs": [
    {
     "name": "stdout",
     "output_type": "stream",
     "text": [
      "C:\\Users\\lmh1\\test\n",
      "C:\\Users\\lmh1\\test\\settings.json\n",
      "C:\\Users\\lmh1\\.NISTpotentials\n",
      "C:\\Users\\lmh1\\.NISTpotentials\\settings.json\n"
     ]
    }
   ],
   "source": [
    "print(settings.directory)\n",
    "print(settings.filename)\n",
    "print(settings.defaultdirectory)\n",
    "print(settings.defaultfilename)"
   ]
  },
  {
   "cell_type": "markdown",
   "metadata": {},
   "source": [
    "The settings directory can be reverted back to the default by using unset_directory"
   ]
  },
  {
   "cell_type": "code",
   "execution_count": 5,
   "metadata": {},
   "outputs": [
    {
     "name": "stdout",
     "output_type": "stream",
     "text": [
      "Remove settings directory C:\\Users\\lmh1\\test and reset to C:\\Users\\lmh1\\.NISTpotentials?\n",
      "Delete settings? (must type yes): yes\n",
      "C:\\Users\\lmh1\\.NISTpotentials\n"
     ]
    }
   ],
   "source": [
    "settings.unset_directory()\n",
    "print(settings.directory)"
   ]
  },
  {
   "cell_type": "markdown",
   "metadata": {},
   "source": [
    "### 1.2. Check/set local library directory\n",
    "\n",
    "The location of the directory to use for the local copy of the database (i.e. the library) by default is within the settings directory.  The location be checked using the library_directory attribute and changed with the set_library_directory() and unset_library_directory() methods."
   ]
  },
  {
   "cell_type": "code",
   "execution_count": 6,
   "metadata": {},
   "outputs": [
    {
     "data": {
      "text/plain": [
       "WindowsPath('C:/Users/lmh1/.NISTpotentials/library')"
      ]
     },
     "execution_count": 6,
     "metadata": {},
     "output_type": "execute_result"
    }
   ],
   "source": [
    "settings.library_directory"
   ]
  },
  {
   "cell_type": "code",
   "execution_count": 7,
   "metadata": {},
   "outputs": [],
   "source": [
    "settings.set_library_directory('C:/Users/lmh1/Documents/library')"
   ]
  },
  {
   "cell_type": "code",
   "execution_count": 8,
   "metadata": {},
   "outputs": [
    {
     "data": {
      "text/plain": [
       "WindowsPath('C:/Users/lmh1/Documents/library')"
      ]
     },
     "execution_count": 8,
     "metadata": {},
     "output_type": "execute_result"
    }
   ],
   "source": [
    "settings.library_directory"
   ]
  },
  {
   "cell_type": "code",
   "execution_count": 9,
   "metadata": {},
   "outputs": [
    {
     "name": "stdout",
     "output_type": "stream",
     "text": [
      "Remove library directory C:\\Users\\lmh1\\Documents\\library and reset to C:\\Users\\lmh1\\.NISTpotentials\\library?\n",
      "Delete settings? (must type yes): no\n"
     ]
    }
   ],
   "source": [
    "settings.unset_library_directory()"
   ]
  },
  {
   "cell_type": "markdown",
   "metadata": {},
   "source": [
    "## 2. Change default database local/remote settings\n",
    "\n",
    "Interaction with potentials-related records are handled using the Database class.  When searching for records, this class is designed to check for records from both the local library directory and the remote potentials.nist.gov database.  The Database class has \"remote\" and \"local\" options that allow for checks to either location to be disabled.  The default values for these options can be set at the global \"settings\" level using the set_remote() and set_local() methods."
   ]
  },
  {
   "cell_type": "markdown",
   "metadata": {},
   "source": [
    "If settings are not changed, then the default remote and local values are both True"
   ]
  },
  {
   "cell_type": "code",
   "execution_count": 10,
   "metadata": {},
   "outputs": [
    {
     "name": "stdout",
     "output_type": "stream",
     "text": [
      "True\n",
      "True\n",
      "\n",
      "Found 19 records in local library\n",
      "found 0 records in remote database\n"
     ]
    }
   ],
   "source": [
    "# Check settings values\n",
    "print(settings.local)\n",
    "print(settings.remote)\n",
    "print()\n",
    "\n",
    "# Initialize database and search\n",
    "db = potentials.Database()\n",
    "records = db.get_records(template='crystal_prototype', verbose=True)"
   ]
  },
  {
   "cell_type": "markdown",
   "metadata": {},
   "source": [
    "Change default settings to only remote or only local.  NOTE: at least one *must* be True when the class is initialized."
   ]
  },
  {
   "cell_type": "code",
   "execution_count": 11,
   "metadata": {},
   "outputs": [
    {
     "name": "stdout",
     "output_type": "stream",
     "text": [
      "False\n",
      "True\n",
      "\n",
      "found 0 records in remote database\n"
     ]
    }
   ],
   "source": [
    "# Change settings values\n",
    "settings.set_local(False)\n",
    "settings.set_remote(True)\n",
    "\n",
    "# Check settings values\n",
    "print(settings.local)\n",
    "print(settings.remote)\n",
    "print()\n",
    "\n",
    "# Initialize database and search\n",
    "db = potentials.Database()\n",
    "records = db.get_records(template='crystal_prototype', verbose=True)"
   ]
  },
  {
   "cell_type": "code",
   "execution_count": 12,
   "metadata": {},
   "outputs": [
    {
     "name": "stdout",
     "output_type": "stream",
     "text": [
      "True\n",
      "False\n",
      "\n",
      "Found 19 records in local library\n"
     ]
    }
   ],
   "source": [
    "# Change settings values\n",
    "settings.set_local(True)\n",
    "settings.set_remote(False)\n",
    "\n",
    "# Check settings values\n",
    "print(settings.local)\n",
    "print(settings.remote)\n",
    "print()\n",
    "\n",
    "# Initialize database and search\n",
    "db = potentials.Database()\n",
    "records = db.get_records(template='crystal_prototype', verbose=True)"
   ]
  },
  {
   "cell_type": "code",
   "execution_count": 13,
   "metadata": {},
   "outputs": [],
   "source": [
    "# Change both to True\n",
    "settings.set_local(True)\n",
    "settings.set_remote(True)"
   ]
  },
  {
   "cell_type": "markdown",
   "metadata": {},
   "source": [
    "## 3. Create local copy of database\n",
    "\n",
    "The local database gives users the options to work completely offline with their own copy of the database and/or to interact with private user-defined records in the same manner as the publicly released records managed by the Interatomic Potentials Repository project.\n",
    "\n",
    "There are two recommended methods for copying the database:\n",
    "\n",
    "1. Using a potentials.Database object, call one of the download methods.\n",
    "2. Download/clone https://github.com/lmhale99/potentials-library to the local library directory."
   ]
  },
  {
   "cell_type": "markdown",
   "metadata": {},
   "source": [
    "### 3.1. Using download methods\n",
    "\n",
    "The Database class has the following methods:\n",
    "\n",
    "- download_citations() downloads all Citation records\n",
    "- download_potentials() downloads all Potential records\n",
    "- download_lammps_potentials() downloads all potential_LAMMPS records and the associated parameter files\n",
    "- download_all() calls all three of the above methods at once.\n",
    "\n",
    "When downloading records through this method, there is the option to only save records that do not already exist.  This allows for local modifications to be made to the records, but prevents updates from being noted."
   ]
  },
  {
   "cell_type": "code",
   "execution_count": 14,
   "metadata": {},
   "outputs": [
    {
     "name": "stdout",
     "output_type": "stream",
     "text": [
      "0 citation records copied to localpath\n"
     ]
    }
   ],
   "source": [
    "db = potentials.Database(local=True, remote=True)\n",
    "db.download_citations(verbose=True)"
   ]
  },
  {
   "cell_type": "markdown",
   "metadata": {},
   "source": [
    "### 3.2. Copying from github\n",
    "\n",
    "The https://github.com/lmhale99/potentials-library repository hosts copies of all records stored in the potentials.nist.gov database allowing for users to get all in one bulk download, perform incremental updates, and manage their own records with version control.  Obtaining the records in this manner has many benefits, such as quicker/easier downloads, all record styles in the database besides the three handled by the potentials package, and more direct control for users, but is not yet guaranteed to be 100% up to date with the database itself."
   ]
  }
 ],
 "metadata": {
  "kernelspec": {
   "display_name": "Python 3",
   "language": "python",
   "name": "python3"
  },
  "language_info": {
   "codemirror_mode": {
    "name": "ipython",
    "version": 3
   },
   "file_extension": ".py",
   "mimetype": "text/x-python",
   "name": "python",
   "nbconvert_exporter": "python",
   "pygments_lexer": "ipython3",
   "version": "3.7.3"
  }
 },
 "nbformat": 4,
 "nbformat_minor": 2
}
