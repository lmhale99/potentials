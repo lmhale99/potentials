{
 "cells": [
  {
   "cell_type": "markdown",
   "metadata": {},
   "source": [
    "# Test LAMMPS potentials\n",
    "\n",
    "A quick test to see if any potentials don't work with a given version of LAMMPS. \n",
    "\n",
    "__NOTE__ This only checks if each potential will run with a version of LAMMPS and not if any predictions have changed."
   ]
  },
  {
   "cell_type": "markdown",
   "metadata": {},
   "source": [
    "## Setup"
   ]
  },
  {
   "cell_type": "markdown",
   "metadata": {},
   "source": [
    "### Python imports"
   ]
  },
  {
   "cell_type": "code",
   "execution_count": 1,
   "metadata": {},
   "outputs": [],
   "source": [
    "import potentials\n",
    "import atomman as am\n",
    "import iprPy\n",
    "from pathlib import Path"
   ]
  },
  {
   "cell_type": "markdown",
   "metadata": {},
   "source": [
    "### Define testing function"
   ]
  },
  {
   "cell_type": "code",
   "execution_count": 2,
   "metadata": {},
   "outputs": [],
   "source": [
    "def test_potentials_in_lammps(lammps_command, lammps_potentials):\n",
    "    \"\"\"\n",
    "    Tests a set of LAMMPS potentials with a specific version of LAMMPS\n",
    "    \n",
    "    Parameters\n",
    "    ----------\n",
    "    lammps_command : str\n",
    "        The path to the LAMMPS executable to use.\n",
    "    lammps_potentials : list of PotentialLAMMPS\n",
    "        The LAMMPS potentials to test.    \n",
    "    \"\"\"\n",
    "    \n",
    "    if not Path(lammps_command).is_file():\n",
    "        raise FileNotFoundError(\"LAMMPS executable not found\")\n",
    "    \n",
    "    # Load iprPy isolated_atom calculation\n",
    "    calc = iprPy.load_calculation('isolated_atom')\n",
    "    \n",
    "    for i, pot in enumerate(lammps_potentials):\n",
    "        try:\n",
    "            # Run isolated atom calculation\n",
    "            calc.calc(lammps_command, pot)\n",
    "        \n",
    "        except Exception as e:\n",
    "            # Print last useful error line\n",
    "            msg = str(e)\n",
    "            lines = msg.split('\\n')\n",
    "            for line in lines:\n",
    "                if line.strip() != '':\n",
    "                    lastline = line\n",
    "            print(i, pot.id)\n",
    "            print(lastline)\n",
    "            print()"
   ]
  },
  {
   "cell_type": "markdown",
   "metadata": {},
   "source": [
    "### Load LAMMPS potentials"
   ]
  },
  {
   "cell_type": "code",
   "execution_count": 3,
   "metadata": {},
   "outputs": [
    {
     "name": "stdout",
     "output_type": "stream",
     "text": [
      "Found 408 matching potential_LAMMPS records in local library\n",
      "Found 408 matching potential_LAMMPS records in remote library\n",
      " - 0 remote records are new\n",
      "No KIM potentials added: list of models is empty\n"
     ]
    }
   ],
   "source": [
    "# Load all native LAMMPS potentials\n",
    "potdb = potentials.Database(local=True, remote=True, kim_models=[])\n",
    "lammps_potentials = potdb.get_lammps_potentials(pot_dir_style='local', verbose=True)"
   ]
  },
  {
   "cell_type": "markdown",
   "metadata": {},
   "source": [
    "## Known troublesome potentials\n",
    "\n",
    "### SNAP potentials\n",
    "\n",
    "The SNAP parameter file format and pair_style has varied over the years.  Depending on the version of LAMMPS used, the version of the potential that works may change.\n",
    "- 2015--Thompson-A-P--Ta--LAMMPS--ipr1\n",
    "- 2015--Thompson-A-P--Ta--LAMMPS--ipr2\n",
    "- 2015--Thompson-A-P--Ta--LAMMPS--ipr3\n",
    "\n",
    "### AENET potentials\n",
    "\n",
    "The aenet pair_style is not in LAMMPS officially and requires LAMMPS to be built with the appropriate patch.\n",
    "- 2020--Mori-H--Fe--LAMMPS--ipr1\n",
    "\n",
    "### BOP potentials\n",
    "\n",
    "The format of bop parameter files was updated by the LAMMPS developers in 2020, but the original developer of the pair_style has conflicting updates\n",
    "- 2012--Ward-D-K--Cd-Te-Zn--LAMMPS--ipr1\n",
    "- 2013--Ward-D-K--Cd-Te-Zn--LAMMPS--ipr1\n",
    "- 2014--Zhou-X-W--Cd-Te-Se--LAMMPS--ipr1\n",
    "\n",
    "### eam/he potentials\n",
    "\n",
    "The eam/he pair_style was added in the Feb 10 2021 patch. No stable release since then.\n",
    "- 2021--Zhou-X-W--Pd-H-He--LAMMPS--ipr1\n",
    "\n",
    "\n",
    "### Other\n",
    "\n",
    "- 2021--Zhou-H--Bi--LAMMPS--ipr1 is a MEAM potential that uses 'sc' lattice type, which is not currently supported in LAMMPS."
   ]
  },
  {
   "cell_type": "markdown",
   "metadata": {},
   "source": [
    "## Tests"
   ]
  },
  {
   "cell_type": "markdown",
   "metadata": {},
   "source": [
    "### 27 January 2017 - Windows pre-compiled build "
   ]
  },
  {
   "cell_type": "code",
   "execution_count": 4,
   "metadata": {},
   "outputs": [
    {
     "name": "stdout",
     "output_type": "stream",
     "text": [
      "196 2012--Jiang-C--Si-C--LAMMPS--ipr1\n",
      "Last command: pair_style edip/multi\n",
      "\n",
      "277 2015--Thompson-A-P--Ta--LAMMPS--ipr2\n",
      "Last command: pair_coeff * * snap C:\\Users\\lmh1\\Documents\\library\\potential_LAMMPS\\2015--Thompson-A-P--Ta--LAMMPS--ipr2\\Ta06A.snapcoeff C:\\Users\\lmh1\\Documents\\library\\potential_LAMMPS\\2015--Thompson-A-P--Ta--LAMMPS--ipr2\\Ta06A.snapparam Ta\n",
      "\n",
      "278 2015--Thompson-A-P--Ta--LAMMPS--ipr3\n",
      "Last command: pair_coeff * * snap C:\\Users\\lmh1\\Documents\\library\\potential_LAMMPS\\2015--Thompson-A-P--Ta--LAMMPS--ipr3\\Ta06A.snapcoeff C:\\Users\\lmh1\\Documents\\library\\potential_LAMMPS\\2015--Thompson-A-P--Ta--LAMMPS--ipr3\\Ta06A.snapparam Ta\n",
      "\n",
      "308 2016--Zhang-P--Ti-O--LAMMPS--ipr1\n",
      "Last command: pair_coeff * * C:\\Users\\lmh1\\Documents\\library\\potential_LAMMPS\\2016--Zhang-P--Ti-O--LAMMPS--ipr1\\TiO.meam.spline Ti O\n",
      "\n",
      "330 2017--Los-J-H--B-N--LAMMPS--ipr1\n",
      "Last command: pair_style extep\n",
      "\n",
      "390 2020--Mori-H--Fe--LAMMPS--ipr1\n",
      "Last command: pair_style aenet\n",
      "\n",
      "406 2021--Zhou-H--Bi--LAMMPS--ipr1\n",
      "Last command: pair_coeff * * C:\\Users\\lmh1\\Documents\\library\\potential_LAMMPS\\2021--Zhou-H--Bi--LAMMPS--ipr1\\Bi.library.meam Bi C:\\Users\\lmh1\\Documents\\library\\potential_LAMMPS\\2021--Zhou-H--Bi--LAMMPS--ipr1\\Bi.parameter.meam Bi\n",
      "\n",
      "407 2021--Zhou-X-W--Pd-H-He--LAMMPS--ipr1\n",
      "Last command: pair_style eam/he\n",
      "\n"
     ]
    }
   ],
   "source": [
    "test_potentials_in_lammps('E:/LAMMPS/2017-01-27/bin/lmp_mpi.exe', lammps_potentials)"
   ]
  },
  {
   "cell_type": "markdown",
   "metadata": {},
   "source": [
    "### 5 June 2019 - Windows pre-compiled build "
   ]
  },
  {
   "cell_type": "code",
   "execution_count": 5,
   "metadata": {},
   "outputs": [
    {
     "name": "stdout",
     "output_type": "stream",
     "text": [
      "276 2015--Thompson-A-P--Ta--LAMMPS--ipr1\n",
      "Last command: pair_coeff * * snap C:\\Users\\lmh1\\Documents\\library\\potential_LAMMPS\\2015--Thompson-A-P--Ta--LAMMPS--ipr1\\Ta06A.snapcoeff Ta C:\\Users\\lmh1\\Documents\\library\\potential_LAMMPS\\2015--Thompson-A-P--Ta--LAMMPS--ipr1\\Ta06A.snapparam Ta\n",
      "\n",
      "390 2020--Mori-H--Fe--LAMMPS--ipr1\n",
      "Last command: pair_style aenet\n",
      "\n",
      "406 2021--Zhou-H--Bi--LAMMPS--ipr1\n",
      "Last command: pair_coeff * * C:\\Users\\lmh1\\Documents\\library\\potential_LAMMPS\\2021--Zhou-H--Bi--LAMMPS--ipr1\\Bi.library.meam Bi C:\\Users\\lmh1\\Documents\\library\\potential_LAMMPS\\2021--Zhou-H--Bi--LAMMPS--ipr1\\Bi.parameter.meam Bi\n",
      "\n",
      "407 2021--Zhou-X-W--Pd-H-He--LAMMPS--ipr1\n",
      "Last command: pair_style eam/he\n",
      "\n"
     ]
    }
   ],
   "source": [
    "test_potentials_in_lammps('E:/LAMMPS/2019-06-05/bin/lmp_mpi.exe', lammps_potentials)"
   ]
  },
  {
   "cell_type": "markdown",
   "metadata": {},
   "source": [
    "### 3 March 2020 - Windows pre-compiled build "
   ]
  },
  {
   "cell_type": "code",
   "execution_count": 6,
   "metadata": {},
   "outputs": [
    {
     "name": "stdout",
     "output_type": "stream",
     "text": [
      "276 2015--Thompson-A-P--Ta--LAMMPS--ipr1\n",
      "Last command: pair_coeff * * snap C:\\Users\\lmh1\\Documents\\library\\potential_LAMMPS\\2015--Thompson-A-P--Ta--LAMMPS--ipr1\\Ta06A.snapcoeff Ta C:\\Users\\lmh1\\Documents\\library\\potential_LAMMPS\\2015--Thompson-A-P--Ta--LAMMPS--ipr1\\Ta06A.snapparam Ta\n",
      "\n",
      "277 2015--Thompson-A-P--Ta--LAMMPS--ipr2\n",
      "Last command: pair_coeff * * snap C:\\Users\\lmh1\\Documents\\library\\potential_LAMMPS\\2015--Thompson-A-P--Ta--LAMMPS--ipr2\\Ta06A.snapcoeff C:\\Users\\lmh1\\Documents\\library\\potential_LAMMPS\\2015--Thompson-A-P--Ta--LAMMPS--ipr2\\Ta06A.snapparam Ta\n",
      "\n",
      "390 2020--Mori-H--Fe--LAMMPS--ipr1\n",
      "Last command: pair_style aenet\n",
      "\n",
      "406 2021--Zhou-H--Bi--LAMMPS--ipr1\n",
      "Last command: pair_coeff * * C:\\Users\\lmh1\\Documents\\library\\potential_LAMMPS\\2021--Zhou-H--Bi--LAMMPS--ipr1\\Bi.library.meam Bi C:\\Users\\lmh1\\Documents\\library\\potential_LAMMPS\\2021--Zhou-H--Bi--LAMMPS--ipr1\\Bi.parameter.meam Bi\n",
      "\n",
      "407 2021--Zhou-X-W--Pd-H-He--LAMMPS--ipr1\n",
      "Last command: pair_style eam/he\n",
      "\n"
     ]
    }
   ],
   "source": [
    "test_potentials_in_lammps('E:/LAMMPS/2020-03-03/bin/lmp_mpi.exe', lammps_potentials)"
   ]
  },
  {
   "cell_type": "markdown",
   "metadata": {},
   "source": [
    "### 29 October 2020 - Windows pre-compiled build "
   ]
  },
  {
   "cell_type": "code",
   "execution_count": 7,
   "metadata": {},
   "outputs": [
    {
     "name": "stdout",
     "output_type": "stream",
     "text": [
      "212 2012--Ward-D-K--Cd-Te-Zn--LAMMPS--ipr1\n",
      "ERROR on proc 0: Incorrect format in bop potential file! 0/2000 values (src/potential_file_reader.cpp:125)\n",
      "\n",
      "234 2013--Ward-D-K--Cd-Te-Zn--LAMMPS--ipr1\n",
      "ERROR on proc 0: Incorrect format in bop potential file! 0/2000 values (src/potential_file_reader.cpp:125)\n",
      "\n",
      "243 2014--Zhou-X-W--Cd-Te-Se--LAMMPS--ipr1\n",
      "ERROR on proc 0: Incorrect format in bop potential file! 0/2000 values (src/potential_file_reader.cpp:125)\n",
      "\n",
      "276 2015--Thompson-A-P--Ta--LAMMPS--ipr1\n",
      "ERROR on proc 0: Cannot open SNAP parameter file Ta (src/SNAP/pair_snap.cpp:669)\n",
      "\n",
      "277 2015--Thompson-A-P--Ta--LAMMPS--ipr2\n",
      "Last command: pair_coeff * * snap C:\\Users\\lmh1\\Documents\\library\\potential_LAMMPS\\2015--Thompson-A-P--Ta--LAMMPS--ipr2\\Ta06A.snapcoeff C:\\Users\\lmh1\\Documents\\library\\potential_LAMMPS\\2015--Thompson-A-P--Ta--LAMMPS--ipr2\\Ta06A.snapparam Ta\n",
      "\n",
      "390 2020--Mori-H--Fe--LAMMPS--ipr1\n",
      "Last command: pair_style aenet\n",
      "\n",
      "406 2021--Zhou-H--Bi--LAMMPS--ipr1\n",
      "ERROR on proc 0: Unrecognized lattice type in MEAM library file: sc (src/USER-MEAMC/pair_meamc.cpp:460)\n",
      "\n",
      "407 2021--Zhou-X-W--Pd-H-He--LAMMPS--ipr1\n",
      "Last command: pair_style eam/he\n",
      "\n"
     ]
    }
   ],
   "source": [
    "test_potentials_in_lammps('E:/LAMMPS/2020-10-29/bin/lmp_mpi.exe', lammps_potentials)"
   ]
  }
 ],
 "metadata": {
  "kernelspec": {
   "display_name": "Python 3",
   "language": "python",
   "name": "python3"
  },
  "language_info": {
   "codemirror_mode": {
    "name": "ipython",
    "version": 3
   },
   "file_extension": ".py",
   "mimetype": "text/x-python",
   "name": "python",
   "nbconvert_exporter": "python",
   "pygments_lexer": "ipython3",
   "version": "3.7.3"
  }
 },
 "nbformat": 4,
 "nbformat_minor": 4
}
