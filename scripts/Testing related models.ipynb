{
 "cells": [
  {
   "cell_type": "code",
   "execution_count": 1,
   "metadata": {},
   "outputs": [],
   "source": [
    "import potentials"
   ]
  },
  {
   "cell_type": "code",
   "execution_count": 2,
   "metadata": {},
   "outputs": [],
   "source": [
    "potdb = potentials.Database(local=True, remote=True)"
   ]
  },
  {
   "cell_type": "code",
   "execution_count": 11,
   "metadata": {},
   "outputs": [
    {
     "name": "stdout",
     "output_type": "stream",
     "text": [
      "related models loaded from the local location\n"
     ]
    }
   ],
   "source": [
    "potdb.load_related_models(verbose=True)"
   ]
  },
  {
   "cell_type": "code",
   "execution_count": 13,
   "metadata": {},
   "outputs": [
    {
     "data": {
      "text/plain": [
       "[['1959--Girifalco-L-A-Weizer-V-G--Ag'],\n",
       " ['1986--Foiles-S-M-Baskes-M-I-Daw-M-S--Ag',\n",
       "  '1986--Foiles-S-M-Baskes-M-I-Daw-M-S--Ag-Au-Cu-Ni-Pd-Pt'],\n",
       " ['1987--Ackland-G-J-Tichy-G-Vitek-V-Finnis-M-W--Ag'],\n",
       " ['1989--Adams-J-B-Foiles-S-M-Wolfer-W-G--Ag',\n",
       "  '1989--Adams-J-B-Foiles-S-M-Wolfer-W-G--Ag-Au-Cu-Ni-Pd-Pt'],\n",
       " ['1996--Jacobsen-K-W-Stoltze-P-Norskov-J-K--Ag',\n",
       "  '1996--Jacobsen-K-W-Stoltze-P-Norskov-J-K--Al-Ag-Au-Cu-Ni-Pd-Pt'],\n",
       " ['2003--Lee-B-J-Shim-J-H-Baskes-M-I--Ag',\n",
       "  '2009--Kang-K-H-Sa-I-Lee-J-C-et-al--Cu-Ag',\n",
       "  '2009--Kang-K-H-Sa-I-Lee-J-C-et-al--Cu-Zr-Ag',\n",
       "  '2009--Kang-K-H-Sa-I-Lee-J-C-et-al--Zr-Ag'],\n",
       " ['2004--Zhou-X-W-Johnson-R-A-Wadley-H-N-G--Ag',\n",
       "  '2004--Zhou-X-W-Johnson-R-A-Wadley-H-N-G--Cu-Ag-Au'],\n",
       " ['2006--Williams-P-L-Mishin-Y-Hamilton-J-C--Ag',\n",
       "  '2006--Williams-P-L-Mishin-Y-Hamilton-J-C--Cu-Ag',\n",
       "  '2009--Wu-H-H-Trinkle-D-R--Cu-Ag',\n",
       "  '2013--Hale-L-M-Wong-B-M-Zimmerman-J-A-Zhou-X-W--Pd-Ag-H-Hybrid',\n",
       "  '2013--Hale-L-M-Wong-B-M-Zimmerman-J-A-Zhou-X-W--Pd-Ag-H-Morse'],\n",
       " ['2013--Gao-H-Otero-de-la-Roza-A-Aouadi-S-M-et-al--AgTaO3'],\n",
       " ['2018--Pan-Z-Borovikov-V-Mendelev-M-I-Sansoz-F--Ag-Ni']]"
      ]
     },
     "execution_count": 13,
     "metadata": {},
     "output_type": "execute_result"
    }
   ],
   "source": [
    "potdb.related_models['Ag']"
   ]
  },
  {
   "cell_type": "code",
   "execution_count": 6,
   "metadata": {},
   "outputs": [
    {
     "name": "stdout",
     "output_type": "stream",
     "text": [
      "potid already in set for Ar\n"
     ]
    }
   ],
   "source": [
    "potdb.add_related_models('9999-test5', interactions='Ar', related_ids=None, verbose=True)"
   ]
  },
  {
   "cell_type": "code",
   "execution_count": 15,
   "metadata": {},
   "outputs": [
    {
     "ename": "ValueError",
     "evalue": "nothere not found in related models",
     "output_type": "error",
     "traceback": [
      "\u001b[1;31m---------------------------------------------------------------------------\u001b[0m",
      "\u001b[1;31mValueError\u001b[0m                                Traceback (most recent call last)",
      "\u001b[1;32m<ipython-input-15-00050cfa8f9f>\u001b[0m in \u001b[0;36m<module>\u001b[1;34m\u001b[0m\n\u001b[1;32m----> 1\u001b[1;33m \u001b[0mpotdb\u001b[0m\u001b[1;33m.\u001b[0m\u001b[0mget_related_models\u001b[0m\u001b[1;33m(\u001b[0m\u001b[1;34m'nothere'\u001b[0m\u001b[1;33m)\u001b[0m\u001b[1;33m\u001b[0m\u001b[1;33m\u001b[0m\u001b[0m\n\u001b[0m",
      "\u001b[1;32mc:\\users\\lmh1\\documents\\python-packages\\potentials\\potentials\\Database\\_related_models.py\u001b[0m in \u001b[0;36mget_related_models\u001b[1;34m(self, potid)\u001b[0m\n\u001b[0;32m     88\u001b[0m \u001b[1;33m\u001b[0m\u001b[0m\n\u001b[0;32m     89\u001b[0m     \u001b[1;32mif\u001b[0m \u001b[0mlen\u001b[0m\u001b[1;33m(\u001b[0m\u001b[0mrelated\u001b[0m\u001b[1;33m)\u001b[0m \u001b[1;33m==\u001b[0m \u001b[1;36m0\u001b[0m\u001b[1;33m:\u001b[0m\u001b[1;33m\u001b[0m\u001b[1;33m\u001b[0m\u001b[0m\n\u001b[1;32m---> 90\u001b[1;33m         \u001b[1;32mraise\u001b[0m \u001b[0mValueError\u001b[0m\u001b[1;33m(\u001b[0m\u001b[1;34mf'{potid} not found in related models'\u001b[0m\u001b[1;33m)\u001b[0m\u001b[1;33m\u001b[0m\u001b[1;33m\u001b[0m\u001b[0m\n\u001b[0m\u001b[0;32m     91\u001b[0m \u001b[1;33m\u001b[0m\u001b[0m\n\u001b[0;32m     92\u001b[0m     \u001b[1;32mreturn\u001b[0m \u001b[0mrelated\u001b[0m\u001b[1;33m\u001b[0m\u001b[1;33m\u001b[0m\u001b[0m\n",
      "\u001b[1;31mValueError\u001b[0m: nothere not found in related models"
     ]
    }
   ],
   "source": [
    "potdb.get_related_models('nothere')"
   ]
  },
  {
   "cell_type": "code",
   "execution_count": 14,
   "metadata": {},
   "outputs": [],
   "source": [
    "potdb.save_related_models(altpath='testing')"
   ]
  },
  {
   "cell_type": "code",
   "execution_count": 12,
   "metadata": {},
   "outputs": [],
   "source": [
    "for i in range(len(t)):\n",
    "    t[i] = sorted(t[i])"
   ]
  },
  {
   "cell_type": "code",
   "execution_count": 14,
   "metadata": {},
   "outputs": [
    {
     "data": {
      "text/plain": [
       "[['1986--Foiles-S-M-Baskes-M-I-Daw-M-S--Ag',\n",
       "  '1986--Foiles-S-M-Baskes-M-I-Daw-M-S--Ag-Au-Cu-Ni-Pd-Pt'],\n",
       " ['1989--Adams-J-B-Foiles-S-M-Wolfer-W-G--Ag',\n",
       "  '1989--Adams-J-B-Foiles-S-M-Wolfer-W-G--Ag-Au-Cu-Ni-Pd-Pt'],\n",
       " ['2003--Lee-B-J-Shim-J-H-Baskes-M-I--Ag',\n",
       "  '2009--Kang-K-H-Sa-I-Lee-J-C-et-al--Cu-Ag',\n",
       "  '2009--Kang-K-H-Sa-I-Lee-J-C-et-al--Cu-Zr-Ag',\n",
       "  '2009--Kang-K-H-Sa-I-Lee-J-C-et-al--Zr-Ag'],\n",
       " ['2004--Zhou-X-W-Johnson-R-A-Wadley-H-N-G--Ag',\n",
       "  '2004--Zhou-X-W-Johnson-R-A-Wadley-H-N-G--Cu-Ag-Au'],\n",
       " ['2006--Williams-P-L-Mishin-Y-Hamilton-J-C--Ag',\n",
       "  '2006--Williams-P-L-Mishin-Y-Hamilton-J-C--Cu-Ag',\n",
       "  '2009--Wu-H-H-Trinkle-D-R--Cu-Ag',\n",
       "  '2013--Hale-L-M-Wong-B-M-Zimmerman-J-A-Zhou-X-W--Pd-Ag-H-Hybrid',\n",
       "  '2013--Hale-L-M-Wong-B-M-Zimmerman-J-A-Zhou-X-W--Pd-Ag-H-Morse']]"
      ]
     },
     "execution_count": 14,
     "metadata": {},
     "output_type": "execute_result"
    }
   ],
   "source": [
    "def sortkey(l):\n",
    "    return l[0]\n",
    "sorted(t, key=sortkey)"
   ]
  },
  {
   "cell_type": "code",
   "execution_count": null,
   "metadata": {},
   "outputs": [],
   "source": []
  }
 ],
 "metadata": {
  "kernelspec": {
   "display_name": "Python 3",
   "language": "python",
   "name": "python3"
  },
  "language_info": {
   "codemirror_mode": {
    "name": "ipython",
    "version": 3
   },
   "file_extension": ".py",
   "mimetype": "text/x-python",
   "name": "python",
   "nbconvert_exporter": "python",
   "pygments_lexer": "ipython3",
   "version": "3.7.3"
  }
 },
 "nbformat": 4,
 "nbformat_minor": 4
}
