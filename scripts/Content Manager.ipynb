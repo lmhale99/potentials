{
 "cells": [
  {
   "cell_type": "markdown",
   "metadata": {},
   "source": [
    "# Interatomic Potential Repository Content Manager\n",
    "\n",
    "This is a working Notebook providing a single location for adding and modifying content in the potentials.nist.gov database.\n",
    "\n",
    "Notebook outline:\n",
    "\n",
    "0. Setup: Python library imports and defining global parameters.\n",
    "\n",
    "1. Citations: Load, add and modify citation information associated with potential models. Each potential should have at least one citation, with the first being the \"primary\" one for generating IDs. For unpublished potentials, use the unpublished citation option.\n",
    "\n",
    "2. Potentials: Load, add and modify potential information.  A \"potential\" should be a unique parameterization with an associated citation. Note that saving to the database is done in step #4.\n",
    "\n",
    "3. Implementations: Load, add and modify the implementations of a potential. An \"implementation\" is a specific version/representation of a potential in a specific format. Each potential can have zero, one or multiple implementations.\n",
    "\n",
    "4. Save potentials: Review the new/modified potentials and save the content to the database.\n",
    "\n",
    "5. Actions: Actions are used to list changes to the repository. If a potential is added/modified, a corresponding action should also be added.\n",
    "\n",
    "6. Requests: A request is listed on the repository whenever someone asks for a model that we do not have."
   ]
  },
  {
   "cell_type": "markdown",
   "metadata": {},
   "source": [
    "## 0. Setup"
   ]
  },
  {
   "cell_type": "markdown",
   "metadata": {},
   "source": [
    "### Library imports"
   ]
  },
  {
   "cell_type": "code",
   "execution_count": 1,
   "metadata": {
    "tags": []
   },
   "outputs": [],
   "source": [
    "import uuid\n",
    "import datetime\n",
    "import shutil\n",
    "from pathlib import Path\n",
    "import socket\n",
    "\n",
    "import potentials\n",
    "from potentials.record.PotentialLAMMPS import PotentialLAMMPS\n",
    "\n",
    "import numpy as np\n",
    "import pandas as pd\n",
    "\n",
    "# Jupyter display libraries\n",
    "from IPython.display import display, HTML"
   ]
  },
  {
   "cell_type": "markdown",
   "metadata": {},
   "source": [
    "### Global parameters\n",
    "\n",
    "- __complete_potentials__ is a compiled list of the potentials whose addition/changes were uploaded to the database.  This is used by step #5 for reporting website changes.  This should be reset after creating an Action for meaningful sets of potentials.\n",
    "\n",
    "- __db__ is the Database object for accessing and uploading records to the database.  remote_name accesses the saved \"potentials\" settings, which has sign-in info for https://potentials.nist.gov.\n",
    "\n",
    "- __workspace__ is the workspace to assign to the uploaded records.  If None, then they are only accessible to the submitter until the workspace is changed.  If 'Global Public Workspace', anyone can see the records after uploading."
   ]
  },
  {
   "cell_type": "code",
   "execution_count": 2,
   "metadata": {
    "tags": []
   },
   "outputs": [],
   "source": [
    "complete_potentials = []"
   ]
  },
  {
   "cell_type": "code",
   "execution_count": 3,
   "metadata": {
    "tags": []
   },
   "outputs": [],
   "source": [
    "db = potentials.Database(local=True, remote=True, remote_name='potentials')"
   ]
  },
  {
   "cell_type": "code",
   "execution_count": 4,
   "metadata": {
    "tags": []
   },
   "outputs": [],
   "source": [
    "workspace = 'Global Public Workspace'"
   ]
  },
  {
   "cell_type": "markdown",
   "metadata": {},
   "source": [
    "- - -\n",
    "\n",
    "## 1. Citations"
   ]
  },
  {
   "cell_type": "markdown",
   "metadata": {},
   "source": [
    "### 1.1 Build or load citation"
   ]
  },
  {
   "cell_type": "markdown",
   "metadata": {},
   "source": [
    "#### Option #1: For existing citations and/or new dois"
   ]
  },
  {
   "cell_type": "code",
   "execution_count": 5,
   "metadata": {
    "tags": []
   },
   "outputs": [
    {
     "name": "stdout",
     "output_type": "stream",
     "text": [
      "Matching record retrieved from local\n"
     ]
    }
   ],
   "source": [
    "doi = '10.1103/PhysRevMaterials.5.113606'\n",
    "\n",
    "citation = db.fetch_citation(doi, verbose=True)"
   ]
  },
  {
   "cell_type": "markdown",
   "metadata": {},
   "source": [
    "#### Option #2: For new doi-less citations"
   ]
  },
  {
   "cell_type": "code",
   "execution_count": 7,
   "metadata": {
    "tags": []
   },
   "outputs": [
    {
     "name": "stdout",
     "output_type": "stream",
     "text": [
      "{\n",
      "    \"citation\": {\n",
      "        \"document-type\": \"journal\",\n",
      "        \"title\": \"Angular-dependent interatomic potential for large-scale atomistic simulation of W-Mo-Nb ternary alloys\",\n",
      "        \"author\": [\n",
      "            {\n",
      "                \"given-name\": \"S\",\n",
      "                \"surname\": \"Starikov\"\n",
      "            },\n",
      "            {\n",
      "                \"given-name\": \"P\",\n",
      "                \"surname\": \"Grigorev\"\n",
      "            },\n",
      "            {\n",
      "                \"given-name\": \"P\",\n",
      "                \"surname\": \"Olsson\"\n",
      "            }\n",
      "        ],\n",
      "        \"publication-date\": {\n",
      "            \"year\": 2024\n",
      "        },\n",
      "        \"abstract\": \"We present a new classical interatomic potential designed for simulation of the W-Mo-Nb system. The angular-dependent format of the potential allows for reproduction of many important properties of pure metals and complex concentrated alloys with good accuracy. Special attention during the development and validation of the potential was paid to the description of vacancies, screw dislocations and planar defects, as well as thermo-mechanical properties. Here, the applicability of the developed model is demonstrated by studying the temperature dependence of the elastic moduli and average atomic displacement in pure metals and concentrated alloys up to the melting point.\",\n",
      "        \"pages\": \"accepted\",\n",
      "        \"bibtex\": \"@article{2024--Starikov-S-Grigorev-P-Olsson-P,\\n author = {Starikov, S and Grigorev, P and Olsson, P},\\n pages = {accepted},\\n title = {Angular-dependent interatomic potential for large-scale atomistic simulation of W-Mo-Nb ternary alloys},\\n year = {2024}\\n}\\n\"\n",
      "    }\n",
      "}\n"
     ]
    }
   ],
   "source": [
    "# This is the general case for a DOI-less citation\n",
    "\n",
    "citation = potentials.load_record(\n",
    "    'Citation',\n",
    "\n",
    "    # Select doctype\n",
    "    doctype = 'journal',\n",
    "    #doctype = 'book',\n",
    "    #doctype = 'report'\n",
    "    #doctype = 'thesis',\n",
    "    #doctype = 'conference proceedings',\n",
    "    #doctype = 'unspecified',\n",
    "\n",
    "    # Fill in metadata (except for authors)              \n",
    "    title = 'Angular-dependent interatomic potential for large-scale atomistic simulation of W-Mo-Nb ternary alloys',\n",
    "    author = 'S. Starikov and P. Grigorev and P. Olsson',\n",
    "    year = 2024,\n",
    "    journal = 'Computational Materials Science',\n",
    "    pages = 'accepted',\n",
    "    abstract=' '.join(['We present a new classical interatomic potential designed for simulation of',\n",
    "                       'the W-Mo-Nb system. The angular-dependent format of the potential allows',\n",
    "                       'for reproduction of many important properties of pure metals and complex',\n",
    "                       'concentrated alloys with good accuracy. Special attention during the development',\n",
    "                       'and validation of the potential was paid to the description of vacancies,',\n",
    "                       'screw dislocations and planar defects, as well as thermo-mechanical',\n",
    "                       'properties. Here, the applicability of the developed model is demonstrated',\n",
    "                       'by studying the temperature dependence of the elastic moduli and average',\n",
    "                       'atomic displacement in pure metals and concentrated alloys up to the melting point.'])\n",
    ")\n",
    "\n",
    "# Add author info\n",
    "citation.add_author(givenname = 'S',  surname = 'Starikov',  suffix = None)\n",
    "citation.add_author(givenname = 'P',  surname = 'Grigorev',  suffix = None)\n",
    "citation.add_author(givenname = 'P',  surname = 'Olsson',  suffix = None)\n",
    "\n",
    "citation.name = citation.year_authors\n",
    "citation.build_model()\n",
    "print(citation.model.json(indent=4))"
   ]
  },
  {
   "cell_type": "code",
   "execution_count": 9,
   "metadata": {
    "tags": []
   },
   "outputs": [
    {
     "data": {
      "text/plain": [
       "DataModelDict([('citation',\n",
       "                DataModelDict([('document-type', 'unspecified'),\n",
       "                               ('title', 'to be published'),\n",
       "                               ('author',\n",
       "                                DataModelDict([('given-name', 'M.I.'),\n",
       "                                               ('surname', 'Mendelev')])),\n",
       "                               ('publication-date',\n",
       "                                DataModelDict([('year', 2024)])),\n",
       "                               ('bibtex',\n",
       "                                '@unpublished{2024--Mendelev-M-I,\\n author = {Mendelev, M.I.},\\n title = {to be published},\\n year = {2024}\\n}\\n')]))])"
      ]
     },
     "execution_count": 9,
     "metadata": {},
     "output_type": "execute_result"
    }
   ],
   "source": [
    "# This is the specific case for an unpublished potential (usually from Mendelev)\n",
    "\n",
    "citation = potentials.load_record(\n",
    "    'Citation',\n",
    "    name = '2024--Mendelev-M-I--Ni-Co-Cr',\n",
    "    doctype = 'unspecified',    \n",
    "    title = 'to be published',\n",
    "    year = 2024,\n",
    ")\n",
    "\n",
    "citation.add_author(givenname = 'M.I.',  surname = 'Mendelev',  suffix = None)\n",
    "\n",
    "citation.build_model()"
   ]
  },
  {
   "cell_type": "markdown",
   "metadata": {},
   "source": [
    "#### Option #3: From local directory"
   ]
  },
  {
   "cell_type": "code",
   "execution_count": null,
   "metadata": {},
   "outputs": [],
   "source": [
    "libdir = Path('E:/website/LAMMPS potentials/2nn/biblib')\n",
    "\n",
    "citations = []\n",
    "for bibfile in libdir.glob('*.bib'):\n",
    "    with open(bibfile, encoding='UTF-8') as f:\n",
    "        citations.append(potentials.load_record('Citation', model=f.read()))"
   ]
  },
  {
   "cell_type": "markdown",
   "metadata": {},
   "source": [
    "#### Option #4: From currently loaded potentials"
   ]
  },
  {
   "cell_type": "code",
   "execution_count": null,
   "metadata": {},
   "outputs": [],
   "source": [
    "#citation = complete_potentials[0].citations[0]\n",
    "#print(citation.year_authors)"
   ]
  },
  {
   "cell_type": "markdown",
   "metadata": {},
   "source": [
    "### 1.2 Investigate and modify\n",
    "\n",
    "- Add abstract\n",
    "\n",
    "- Check and replace garbled latex or other symbols in authors, title and abstract\n",
    "\n",
    "- Verify correct year and page number(s)"
   ]
  },
  {
   "cell_type": "markdown",
   "metadata": {},
   "source": [
    "#### 1.2.1 Generate html and list content fields"
   ]
  },
  {
   "cell_type": "code",
   "execution_count": 6,
   "metadata": {
    "tags": []
   },
   "outputs": [
    {
     "name": "stdout",
     "output_type": "stream",
     "text": [
      "2021--Meng-F-S-Du-J-P-Shinzato-S-et-al\n",
      "10.1103_physrevmaterials.5.113606\n",
      "\n"
     ]
    },
    {
     "data": {
      "text/html": [
       "<div><div class=\"citation\"><b>Citation: </b>F.-S. Meng, J.-P. Du, S. Shinzato, H. Mori, P. Yu, K. Matsubara, N. Ishikawa, and S. Ogata (2021), \"General-purpose neural network interatomic potential for the &#120572;-iron and hydrogen binary system: Toward atomic-scale understanding of hydrogen embrittlement\", <i>Physical Review Materials</i>, <b>5(11)</b>, 113606. DOI: <a href=\"https://doi.org/10.1103/physrevmaterials.5.113606\" class=\"external\">10.1103/physrevmaterials.5.113606</a>.<br/></div><div class=\"abstract\"><b>Abstract: </b>To understand the physics of hydrogen embrittlement at the atomic scale, a general-purpose neural network interatomic potential (NNIP) for the &#120572;-iron and hydrogen binary system is presented. It is trained using an extensive reference database produced by density functional theory (DFT) calculations. The NNIP can properly describe the interactions of hydrogen with various defects in &#120572;-iron, such as vacancies, surfaces, grain boundaries, and dislocations; in addition to the basic properties of &#120572;-iron itself, the NNIP also handles the defect properties in &#120572;-iron, hydrogen behavior in &#120572;-iron, and hydrogen-hydrogen interactions in &#120572;-iron and in vacuum, including the hydrogen molecule formation and dissociation at the &#120572;-iron surface. These are superb challenges for the existing empirical interatomic potentials, like the embedded-atom method based potentials, for the &#120572;-iron and hydrogen binary system. In this study, the NNIP was applied to several key phenomena necessary for understanding hydrogen embrittlement, such as hydrogen charging and discharging to &#120572;-iron, hydrogen transportation in defective &#120572;-iron, hydrogen trapping and desorption at the defects, and hydrogen-assisted cracking at the grain boundary. Unlike the existing interatomic potentials, the NNIP simulations quantitatively described the atomistic details of hydrogen behavior in the defective &#120572;-iron system with DFT accuracy.</div></div>"
      ],
      "text/plain": [
       "<IPython.core.display.HTML object>"
      ]
     },
     "metadata": {},
     "output_type": "display_data"
    },
    {
     "name": "stdout",
     "output_type": "stream",
     "text": [
      "\n",
      "ID: 2021--Meng-F-S-Du-J-P-Shinzato-S-et-al\n",
      "ENTRYTYPE: article\n",
      "author: Meng, F.-S. and Du, J.-P. and Shinzato, S. and Mori, H. and Yu, P. and Matsubara, K. and Ishikawa, N. and Ogata, S.\n",
      "title: General-purpose neural network interatomic potential for the 𝛼-iron and hydrogen binary system: Toward atomic-scale understanding of hydrogen embrittlement\n",
      "journal: Physical Review Materials\n",
      "year: 2021\n",
      "volume: 5\n",
      "number: 11\n",
      "pages: 113606\n",
      "month: November\n",
      "doi: 10.1103/physrevmaterials.5.113606\n"
     ]
    }
   ],
   "source": [
    "print(citation.year_authors)\n",
    "print(citation.name)\n",
    "print()\n",
    "citation.html(render=True)\n",
    "print()\n",
    "for key, value in citation.bibdict.items():\n",
    "    print(key+':', value)"
   ]
  },
  {
   "cell_type": "markdown",
   "metadata": {},
   "source": [
    "#### 1.2.2 Modify and update fields\n",
    "\n",
    "Any valid bibtex fields can be added, but citation rendering relies only on the primary fields. "
   ]
  },
  {
   "cell_type": "code",
   "execution_count": 7,
   "metadata": {
    "tags": []
   },
   "outputs": [
    {
     "name": "stdout",
     "output_type": "stream",
     "text": [
      "2021--Meng-F-S-Du-J-P-Shinzato-S-et-al\n",
      "10.1103_physrevmaterials.5.113606\n",
      "\n"
     ]
    },
    {
     "data": {
      "text/html": [
       "<div><div class=\"citation\"><b>Citation: </b>F.-S. Meng, J.-P. Du, S. Shinzato, H. Mori, P. Yu, K. Matsubara, N. Ishikawa, and S. Ogata (2021), \"General-purpose neural network interatomic potential for the &#120572;-iron and hydrogen binary system: Toward atomic-scale understanding of hydrogen embrittlement\", <i>Physical Review Materials</i>, <b>5(11)</b>, 113606. DOI: <a href=\"https://doi.org/10.1103/physrevmaterials.5.113606\" class=\"external\">10.1103/physrevmaterials.5.113606</a>.<br/></div><div class=\"abstract\"><b>Abstract: </b>To understand the physics of hydrogen embrittlement at the atomic scale, a general-purpose neural network interatomic potential (NNIP) for the &#120572;-iron and hydrogen binary system is presented. It is trained using an extensive reference database produced by density functional theory (DFT) calculations. The NNIP can properly describe the interactions of hydrogen with various defects in &#120572;-iron, such as vacancies, surfaces, grain boundaries, and dislocations; in addition to the basic properties of &#120572;-iron itself, the NNIP also handles the defect properties in &#120572;-iron, hydrogen behavior in &#120572;-iron, and hydrogen-hydrogen interactions in &#120572;-iron and in vacuum, including the hydrogen molecule formation and dissociation at the &#120572;-iron surface. These are superb challenges for the existing empirical interatomic potentials, like the embedded-atom method based potentials, for the &#120572;-iron and hydrogen binary system. In this study, the NNIP was applied to several key phenomena necessary for understanding hydrogen embrittlement, such as hydrogen charging and discharging to &#120572;-iron, hydrogen transportation in defective &#120572;-iron, hydrogen trapping and desorption at the defects, and hydrogen-assisted cracking at the grain boundary. Unlike the existing interatomic potentials, the NNIP simulations quantitatively described the atomistic details of hydrogen behavior in the defective &#120572;-iron system with DFT accuracy.</div></div>"
      ],
      "text/plain": [
       "<IPython.core.display.HTML object>"
      ]
     },
     "metadata": {},
     "output_type": "display_data"
    }
   ],
   "source": [
    "citation.title = 'General-purpose neural network interatomic potential for the 𝛼-iron and hydrogen binary system: Toward atomic-scale understanding of hydrogen embrittlement'\n",
    "citation.abstract = ' '.join([\n",
    "    \"To understand the physics of hydrogen embrittlement at the atomic scale, a general-purpose neural network interatomic potential (NNIP) for the 𝛼-iron and hydrogen binary system is presented. It\",\n",
    "    \"is trained using an extensive reference database produced by density functional theory (DFT) calculations. The NNIP can properly describe the interactions of hydrogen with various defects in\",\n",
    "    \"𝛼-iron, such as vacancies, surfaces, grain boundaries, and dislocations; in addition to the basic properties of 𝛼-iron itself, the NNIP also handles the defect properties in 𝛼-iron, hydrogen behavior\",\n",
    "    \"in 𝛼-iron, and hydrogen-hydrogen interactions in 𝛼-iron and in vacuum, including the hydrogen molecule formation and dissociation at the 𝛼-iron surface. These are superb challenges for the existing\",\n",
    "    \"empirical interatomic potentials, like the embedded-atom method based potentials, for the 𝛼-iron and hydrogen binary system. In this study, the NNIP was applied to several key phenomena necessary for\",\n",
    "    \"understanding hydrogen embrittlement, such as hydrogen charging and discharging to 𝛼-iron, hydrogen transportation in defective 𝛼-iron, hydrogen trapping and desorption at the defects, and\",\n",
    "    \"hydrogen-assisted cracking at the grain boundary. Unlike the existing interatomic potentials, the NNIP simulations quantitatively described the atomistic details of hydrogen behavior in the defective\",\n",
    "    \"𝛼-iron system with DFT accuracy.\"])\n",
    "citation.pages = '113606'\n",
    "\n",
    "citation.build_bibtex()\n",
    "citation.build_model()\n",
    "print(citation.year_authors)\n",
    "print(citation.name)\n",
    "print()\n",
    "citation.html(render=True)"
   ]
  },
  {
   "cell_type": "markdown",
   "metadata": {},
   "source": [
    "#### 1.2.3 Review and Save Citation"
   ]
  },
  {
   "cell_type": "code",
   "execution_count": 8,
   "metadata": {
    "tags": []
   },
   "outputs": [
    {
     "name": "stdout",
     "output_type": "stream",
     "text": [
      "Citation record named 10.1103_physrevmaterials.5.113606 added to /home/lmh1/library\n",
      "Citation record named 10.1103_physrevmaterials.5.113606 added to https://potentials.nist.gov\n",
      "Citation record named 10.1103_physrevmaterials.5.113606 assigned to workspace Global Public Workspace\n"
     ]
    }
   ],
   "source": [
    "db.save_citation(citation, overwrite=True, verbose=True)\n",
    "db.upload_citation(citation, workspace=workspace, overwrite=True, verbose=True)"
   ]
  },
  {
   "cell_type": "code",
   "execution_count": 6,
   "metadata": {
    "tags": []
   },
   "outputs": [
    {
     "name": "stdout",
     "output_type": "stream",
     "text": [
      "Citation record named 10.1063_5.0139010 deleted from https://potentials.nist.gov/\n"
     ]
    }
   ],
   "source": [
    "#db.delete_citation(citation, local=True, remote=True, verbose=True)"
   ]
  },
  {
   "cell_type": "code",
   "execution_count": 7,
   "metadata": {
    "tags": []
   },
   "outputs": [],
   "source": [
    "citations = []"
   ]
  },
  {
   "cell_type": "code",
   "execution_count": 8,
   "metadata": {
    "tags": []
   },
   "outputs": [],
   "source": [
    "citations.append(citation)"
   ]
  },
  {
   "cell_type": "markdown",
   "metadata": {},
   "source": [
    "- - -\n",
    "\n",
    "## 2. Potentials"
   ]
  },
  {
   "cell_type": "markdown",
   "metadata": {},
   "source": [
    "### 2.1 Build or load potential"
   ]
  },
  {
   "cell_type": "markdown",
   "metadata": {},
   "source": [
    "#### Option #1: Build new potential using citation(s)\n",
    "\n",
    "- __elements__ (*list*) The element models used by the potential.\n",
    "- __citations__ (*list*) The citation(s) to associate with the potential.\n",
    "- __notes__ (*str, optional*) Notes providing more information on the potential, such as usage notes and how the potential relates to other potentials.\n",
    "- __key__ (*str, optional*) UUID4 key to assign to the potential.  If None, a new key will be generated.\n",
    "- __othername__ (*str, optional*) Specifies an alternate description of the interactions besides the list of elements.  Examples include if the model is \"universal\", designed for a specific compound, or is a coarse-grain representation.\n",
    "- __fictional__ (*bool, optional*) Flag indicating if the model is \"fictional\", i.e. purposefully fit to unrealistic properties. \n",
    "- __modelname__ (*str, optional*) Used if citation + element info is not enough to create a unique ID, e.g. a publication lists multiple parameterizations of the same element. The value should make it clear which version it is associated with, and correspond to how the authors refer to it when possible.\n",
    "- __recorddate__ (*datetime.date, optional*) Date to assign to the record.  If not given, will use today's date."
   ]
  },
  {
   "cell_type": "code",
   "execution_count": 11,
   "metadata": {
    "tags": []
   },
   "outputs": [],
   "source": [
    "potential = potentials.load_record(\n",
    "    'Potential',\n",
    "    \n",
    "    elements = ['Fe', 'H'],\n",
    "    #fictionalelements = ['Al'],\n",
    "    #othername = Ge60Se40',\n",
    "    #modelname='1',  DOESN'T DO ANYTHING AT THE MOMENT!!!!!\n",
    "    #recorddate=datetime.date(2019, 12, 24)\n",
    "    \n",
    "    \n",
    "    notes = ' '.join([\n",
    "        'Fan-Shun Meng notes that \"This potential was designed for the general purpose usage of the 𝛼-Fe-H binary system. Additionally, the potential also can be used for pure 𝛼-Fe. To',\n",
    "        'use the potential in LAMMPS, the pair_style of hdnnp should be adopted, and the package of ML-HDNNP should be compiled(see ML-HDNNP documentation).\"'\n",
    "    ]),\n",
    ")\n",
    "\n",
    "potential.citations.extend(citations)\n",
    "potential.name = potential.defaultname\n",
    "potential.url = f'https://potentials.nist.gov/pid/rest/local/potentials/{potential.name}'\n",
    "\n",
    "potential.build_model()\n",
    "None"
   ]
  },
  {
   "cell_type": "markdown",
   "metadata": {},
   "source": [
    "#### Option #2: Select existing potential"
   ]
  },
  {
   "cell_type": "code",
   "execution_count": 5,
   "metadata": {
    "tags": []
   },
   "outputs": [
    {
     "name": "stdout",
     "output_type": "stream",
     "text": [
      "Matching record retrieved from local\n"
     ]
    }
   ],
   "source": [
    "potential = db.get_potential(name='potential.2021--Meng-F-S-Du-J-P-Shinzato-S-et-al--Fe-H', verbose=True)"
   ]
  },
  {
   "cell_type": "code",
   "execution_count": 52,
   "metadata": {
    "tags": []
   },
   "outputs": [
    {
     "name": "stdout",
     "output_type": "stream",
     "text": [
      "Potential record named potential.2021--Arora-G-Bonny-G-Castin-N-Aidhy-D-S--Ni-Fe-Cr-Pd deleted from C:\\Users\\lmh1\\Documents\\library\n",
      "Potential record named potential.2021--Arora-G-Bonny-G-Castin-N-Aidhy-D-S--Ni-Fe-Cr-Pd deleted from https://potentials.nist.gov/\n"
     ]
    }
   ],
   "source": [
    "#db.delete_potential(potential, local=True, remote=True, verbose=True)"
   ]
  },
  {
   "cell_type": "markdown",
   "metadata": {},
   "source": [
    "#### Option #3: Get currently loaded potential"
   ]
  },
  {
   "cell_type": "code",
   "execution_count": null,
   "metadata": {},
   "outputs": [],
   "source": [
    "#potential = complete_potentials[1]\n",
    "#print(potential.name)"
   ]
  },
  {
   "cell_type": "markdown",
   "metadata": {},
   "source": [
    "### 2.2 Investigate and modify"
   ]
  },
  {
   "cell_type": "markdown",
   "metadata": {},
   "source": [
    "#### 2.2.1 Generate html and list content fields"
   ]
  },
  {
   "cell_type": "code",
   "execution_count": 6,
   "metadata": {
    "tags": []
   },
   "outputs": [
    {
     "data": {
      "text/html": [
       "<div xmlns=\"http://www.w3.org/TR/xhtml1/strict\"><script src=\"https://www.ctcms.nist.gov/potentials/site/showFiles.js\">//</script><div class=\"panel panel-default\"><div class=\"panel-heading\"><h3 class=\"panel-title\">2021--Meng-F-S-Du-J-P-Shinzato-S-et-al--Fe-H</h3></div><div class=\"panel-body\"><div class=\"citation\"><b>Citation: </b>F.-S. Meng, J.-P. Du, S. Shinzato, H. Mori, P. Yu, K. Matsubara, N. Ishikawa, and S. Ogata (2021), \"General-purpose neural network interatomic potential for the &#120572;-iron and hydrogen binary system: Toward atomic-scale understanding of hydrogen embrittlement\", <i>Physical Review Materials</i>, <b>5(11)</b>, 113606. DOI: <a href=\"https://doi.org/10.1103/physrevmaterials.5.113606\" class=\"external\">10.1103/physrevmaterials.5.113606</a>.<br/></div><div class=\"abstract\"><b>Abstract: </b>To understand the physics of hydrogen embrittlement at the atomic scale, a general-purpose neural network interatomic potential (NNIP) for the &#120572;-iron and hydrogen binary system is presented. It is trained using an extensive reference database produced by density functional theory (DFT) calculations. The NNIP can properly describe the interactions of hydrogen with various defects in &#120572;-iron, such as vacancies, surfaces, grain boundaries, and dislocations; in addition to the basic properties of &#120572;-iron itself, the NNIP also handles the defect properties in &#120572;-iron, hydrogen behavior in &#120572;-iron, and hydrogen-hydrogen interactions in &#120572;-iron and in vacuum, including the hydrogen molecule formation and dissociation at the &#120572;-iron surface. These are superb challenges for the existing empirical interatomic potentials, like the embedded-atom method based potentials, for the &#120572;-iron and hydrogen binary system. In this study, the NNIP was applied to several key phenomena necessary for understanding hydrogen embrittlement, such as hydrogen charging and discharging to &#120572;-iron, hydrogen transportation in defective &#120572;-iron, hydrogen trapping and desorption at the defects, and hydrogen-assisted cracking at the grain boundary. Unlike the existing interatomic potentials, the NNIP simulations quantitatively described the atomistic details of hydrogen behavior in the defective &#120572;-iron system with DFT accuracy.</div><br/><div class=\"description-notes\"><b>Notes: </b>Fan-Shun Meng notes that \"This potential was designed for the general purpose usage of the &#120572;-Fe-H binary system. Additionally, the potential also can be used for pure &#120572;-Fe. To use the potential in LAMMPS, the pair_style of hdnnp should be adopted, and the package of ML-HDNNP should be compiled(see ML-HDNNP documentation).\"</div><br/><div class=\"format\"><b>LAMMPS pair_style hdnnp</b><a href=\"https://www.ctcms.nist.gov/potentials/entry/2021--Meng-F-S-Du-J-P-Shinzato-S-et-al--Fe-H/2021--Meng-F-S--Fe-H--LAMMPS--ipr1.html\"> (2021--Meng-F-S--Fe-H--LAMMPS--ipr1)</a></div><div class=\"implementation-notes\"><a href=\"https://www.ctcms.nist.gov/potentials/entry/2021--Meng-F-S-Du-J-P-Shinzato-S-et-al--Fe-H/2021--Meng-F-S--Fe-H--LAMMPS--ipr1.html\"><b>See Computed Properties</b></a><br/><b>Notes: </b>These files were provided by Fan-Shun Meng on August 30, 2024.<br/><b>File(s): </b><div id=\"0c9f600d-7bf1-4771-869a-ee28aa18c0f7\" style=\"display:block\"><a href=\"https://www.ctcms.nist.gov/potentials/Download/2021--Meng-F-S-Du-J-P-Shinzato-S-et-al--Fe-H/1/NNIP-FeH.zip\">NNIP-FeH.zip</a><br/></div><b>Link(s): </b><div id=\"0c9f600d-7bf1-4771-869a-ee28aa18c0f7\" style=\"display:block\">ML-HDNNP documentation <a href=\"https://docs.lammps.org/Packages_details.html#pkg-ml-hdnnp\">https://docs.lammps.org/Packages_details.html#pkg-ml-hdnnp</a><br/></div><br/></div></div></div></div>"
      ],
      "text/plain": [
       "<IPython.core.display.HTML object>"
      ]
     },
     "metadata": {},
     "output_type": "display_data"
    }
   ],
   "source": [
    "potential.html(render=True)"
   ]
  },
  {
   "cell_type": "markdown",
   "metadata": {},
   "source": [
    "#### 2.2.2 Modify and update fields\n",
    "\n",
    "Same fields as above"
   ]
  },
  {
   "cell_type": "code",
   "execution_count": 60,
   "metadata": {
    "tags": []
   },
   "outputs": [],
   "source": [
    "#potential.key = \n",
    "#potential.recorddate = datetime.date()\n",
    "#potential.elements = []\n",
    "#potential.othername = 'water'\n",
    "#potential.fictional = \n",
    "#potential.modelname = \n",
    "potential.notes = ' '.join(['Gaurav Arora notes that \"This is one of the first types of potentials used to study radiation defects in alloys containing Pd and is a modified version of',\n",
    "                            '2018--Bonny-G-Chakraborty-D-Pandey-S-et-al--Ni-Fe-Cr-Pd. This potential was specifically developed to study defect energetics, such as vacancy formation energies, binding energies, voids, stacking fault tetrahedra (SFTs) formation, and other radiation defects in high entropy alloys.'])\n",
    "#potential.notes += ' The associated publication has a supplementary information document which includes thorough testing of library appropriateness of liquid properties, and comments and analyses on numerical stability and convergence'\n",
    "potential.notes += '\"'\n",
    "#potential.citations[0] = citation\n",
    "#potential.name = f'potential.{potential.id}'\n",
    "potential.build_model()\n",
    "None"
   ]
  },
  {
   "cell_type": "markdown",
   "metadata": {},
   "source": [
    "## 3. Implementations"
   ]
  },
  {
   "cell_type": "markdown",
   "metadata": {},
   "source": [
    "### 3.1 List all current implementation types\n",
    "\n",
    "List is given to help keep type values (relatively) uniform. Only needs to be called after new types have been added."
   ]
  },
  {
   "cell_type": "code",
   "execution_count": 19,
   "metadata": {},
   "outputs": [
    {
     "name": "stdout",
     "output_type": "stream",
     "text": [
      "All existing implementation types:\n",
      "    ADP tabulated functions\n",
      "    ASE calculator\n",
      "    Dynamo MEAM\n",
      "    EAM setfl\n",
      "    EAM tabulated functions\n",
      "    Equations\n",
      "    FORTRAN\n",
      "    Finnis-Sinclair tables\n",
      "    GAP\n",
      "    GULP\n",
      "    IMD option EAM\n",
      "    LAMMPS pair_style MEAM\n",
      "    LAMMPS pair_style adp\n",
      "    LAMMPS pair_style aenet (custom)\n",
      "    LAMMPS pair_style agni\n",
      "    LAMMPS pair_style bop\n",
      "    LAMMPS pair_style comb3\n",
      "    LAMMPS pair_style eam\n",
      "    LAMMPS pair_style eam/alloy\n",
      "    LAMMPS pair_style eam/cd\n",
      "    LAMMPS pair_style eam/fs\n",
      "    LAMMPS pair_style eam/he\n",
      "    LAMMPS pair_style edip\n",
      "    LAMMPS pair_style edip/multi\n",
      "    LAMMPS pair_style eim\n",
      "    LAMMPS pair_style extep\n",
      "    LAMMPS pair_style hybrid table linear 1000 eam/alloy\n",
      "    LAMMPS pair_style hybrid/overlay eam/alloy eam/fs\n",
      "    LAMMPS pair_style hybrid/overlay zbl eam/alloy\n",
      "    LAMMPS pair_style hybrid/overlay zbl snap\n",
      "    LAMMPS pair_style lcbop\n",
      "    LAMMPS pair_style meam\n",
      "    LAMMPS pair_style meam (modified)\n",
      "    LAMMPS pair_style meam/spline\n",
      "    LAMMPS pair_style pace\n",
      "    LAMMPS pair_style pinn\n",
      "    LAMMPS pair_style polymorphic\n",
      "    LAMMPS pair_style rann\n",
      "    LAMMPS pair_style rann (modified)\n",
      "    LAMMPS pair_style ream (custom)\n",
      "    LAMMPS pair_style reax/c\n",
      "    LAMMPS pair_style reaxff\n",
      "    LAMMPS pair_style sw\n",
      "    LAMMPS pair_style table\n",
      "    LAMMPS pair_style tersoff\n",
      "    LAMMPS pair_style tersoff/mod\n",
      "    LAMMPS pair_style tersoff/mod/c\n",
      "    LAMMPS pair_style tersoff/zbl\n",
      "    LAMMPS pair_style vashishta\n",
      "    MEAM parameters\n",
      "    MEAM splines\n",
      "    Moldy FS\n",
      "    MoldyPSI\n",
      "    OpenKIM\n",
      "    ReaxFF\n",
      "    SPaSM\n",
      "    deepmd-kit\n",
      "    hybrid/overlay coul/streitz meam\n"
     ]
    }
   ],
   "source": [
    "pots = db.get_potentials(remote=False)\n",
    "imptypes = []\n",
    "for pot in pots:\n",
    "    for imp in pot.implementations:\n",
    "        imptypes.append(imp.type)\n",
    "imptypes = np.unique(imptypes)\n",
    "\n",
    "print('All existing implementation types:')\n",
    "for imptypes in imptypes:\n",
    "    print('   ', imptypes)"
   ]
  },
  {
   "cell_type": "markdown",
   "metadata": {},
   "source": [
    "### 3.2 Build or load implementation"
   ]
  },
  {
   "cell_type": "markdown",
   "metadata": {},
   "source": [
    "#### 3.2.1 List ids for current potential and implementations"
   ]
  },
  {
   "cell_type": "code",
   "execution_count": 7,
   "metadata": {
    "tags": []
   },
   "outputs": [
    {
     "name": "stdout",
     "output_type": "stream",
     "text": [
      "suggested imp prefix: 2021--Meng-F-S--Fe-H\n",
      "implementation ids:\n",
      "0: 2021--Meng-F-S--Fe-H--LAMMPS--ipr1 LAMMPS pair_style hdnnp\n"
     ]
    }
   ],
   "source": [
    "print('suggested imp prefix:', potential.impid_prefix)\n",
    "print('implementation ids:')\n",
    "for i, implementation in enumerate(potential.implementations):\n",
    "    print(f'{i}: {implementation.id} {implementation.type}')"
   ]
  },
  {
   "cell_type": "code",
   "execution_count": 86,
   "metadata": {
    "tags": []
   },
   "outputs": [],
   "source": [
    "#del potential.implementations[0]"
   ]
  },
  {
   "cell_type": "markdown",
   "metadata": {},
   "source": [
    "#### 3.2.2 Build new implementation\n",
    "\n",
    "- __type__ (*str*) Describes the type of the implementation. Use one of the listed values above if possible.\n",
    "- __id__ (*str*) Unique human-readable id for the implementation. For new content, should be derived from the associated potential id:\n",
    "    - Remove all authors except for the first\n",
    "    - Add a simple format descriptor: LAMMPS, GULP, table, parameters, FORTRAN, etc.\n",
    "    - Add a version descriptor: ipr1, ipr2, etc\n",
    "- __notes__ (*str, optional*) Notes on the implementation.  This includes where the file(s) came from, who created them, testing info, how it differs from other versions, etc.\n",
    "- __key__ (*str, optional*) UUID4 key to assign to the implementation.  If None, a new key will be generated.\n",
    "- __status__ (*str, optional*) Indicates the status of the implementation. Available values are \n",
    "    - \"active\" (default) indicates a current implementation.\n",
    "    - \"superseded\" indicates an implementation that is still consistent with the potential model, but has minor issues that were fixed by a newer implementation.\n",
    "    - \"retracted\" indicates an implementation that was identified as being an invalid representation of the potential model.\n",
    "- __date__ (*datetime.date, optional*) The date that the implementation was submitted or added.  If not given, will use today's date."
   ]
  },
  {
   "cell_type": "code",
   "execution_count": 14,
   "metadata": {
    "tags": []
   },
   "outputs": [],
   "source": [
    "potential.add_implementation(\n",
    "    type = 'LAMMPS pair_style hdnnp (custom)',\n",
    "    id = f'{potential.impid_prefix}--LAMMPS--ipr1',\n",
    "    notes = ' '.join([\n",
    "        'These files were provided by Fan-Shun Meng on August 30, 2024.'\n",
    "    ]),\n",
    "    #key='0cdc699f-e78a-49db-8606-7a33c98c2184',\n",
    "    #status=None,\n",
    "    #date=datetime.date(2020, 6, 18), \n",
    ")\n",
    "index = len(potential.implementations) - 1"
   ]
  },
  {
   "cell_type": "code",
   "execution_count": 27,
   "metadata": {
    "tags": []
   },
   "outputs": [],
   "source": [
    "potential.add_implementation(\n",
    "    type = 'ASE calculator',\n",
    "    id = f'{potential.impid_prefix}--equations--ipr1',\n",
    "    notes = ' '.join([\n",
    "        'This file and equations were provided by Alexey Verkhovtsev on March 19, 2024.  The .pdf collects the equation and parameter values as described in the paper.  The .pot file are the parameters as used by the MBN Explorer software package.'\n",
    "    ]),\n",
    "    #key='0cdc699f-e78a-49db-8606-7a33c98c2184',\n",
    "    #status=None,\n",
    "    #date=datetime.date(2020, 6, 18), \n",
    ")\n",
    "index = len(potential.implementations) - 1"
   ]
  },
  {
   "cell_type": "code",
   "execution_count": 28,
   "metadata": {},
   "outputs": [],
   "source": [
    "kimid = 'MO_959249795837'\n",
    "implementation = potentials.Implementation(\n",
    "    type='OpenKIM',\n",
    "    id=kimid,\n",
    "    notes=' '.join(['Listing found at https://openkim.org.']),\n",
    "    #notes=' '.join(['Listing found at https://openkim.org.  This KIM potential is based on a parameter file with identical parameter values as 1989--Tersoff-J--Si-Ge--LAMMPS--ipr1.']),\n",
    "    #notes=' '.join(['Listing found at https://openkim.org. This KIM potential is implemented from the analytical expressions rather than a tabulated parameter file.'])#  The parameter file that this KIM potential is based on has slightly different values due to precision rounding than 2017--Purja-Pun-G-P--Si--LAMMPS--ipr1.']),\n",
    "    key='da76eb36-7ca1-421a-bd64-8f6bdd905b15',\n",
    "    #status=None,\n",
    "    #date=datetime.date(2020, 6, 18), \n",
    ")\n",
    "implementation.add_link(url=f\"https://openkim.org/id/{kimid}\", linktext = kimid)\n",
    "\n",
    "index = len(potential.implementations)\n",
    "potential.implementations.append(implementation)\n",
    "\n"
   ]
  },
  {
   "cell_type": "code",
   "execution_count": 15,
   "metadata": {
    "tags": []
   },
   "outputs": [
    {
     "data": {
      "text/html": [
       "<div xmlns=\"http://www.w3.org/TR/xhtml1/strict\"><script src=\"https://www.ctcms.nist.gov/potentials/site/showFiles.js\">//</script><div class=\"panel panel-default\"><div class=\"panel-heading\"><h3 class=\"panel-title\"/></div><div class=\"panel-body\"><div class=\"citation\"><b>Citation: </b>F.-S. Meng, J.-P. Du, S. Shinzato, H. Mori, P. Yu, K. Matsubara, N. Ishikawa, and S. Ogata (2021), \"General-purpose neural network interatomic potential for the &#120572;-iron and hydrogen binary system: Toward atomic-scale understanding of hydrogen embrittlement\", <i>Physical Review Materials</i>, <b>5(11)</b>, 113606. DOI: <a href=\"https://doi.org/10.1103/physrevmaterials.5.113606\" class=\"external\">10.1103/physrevmaterials.5.113606</a>.<br/></div><div class=\"abstract\"><b>Abstract: </b>To understand the physics of hydrogen embrittlement at the atomic scale, a general-purpose neural network interatomic potential (NNIP) for the &#120572;-iron and hydrogen binary system is presented. It is trained using an extensive reference database produced by density functional theory (DFT) calculations. The NNIP can properly describe the interactions of hydrogen with various defects in &#120572;-iron, such as vacancies, surfaces, grain boundaries, and dislocations; in addition to the basic properties of &#120572;-iron itself, the NNIP also handles the defect properties in &#120572;-iron, hydrogen behavior in &#120572;-iron, and hydrogen-hydrogen interactions in &#120572;-iron and in vacuum, including the hydrogen molecule formation and dissociation at the &#120572;-iron surface. These are superb challenges for the existing empirical interatomic potentials, like the embedded-atom method based potentials, for the &#120572;-iron and hydrogen binary system. In this study, the NNIP was applied to several key phenomena necessary for understanding hydrogen embrittlement, such as hydrogen charging and discharging to &#120572;-iron, hydrogen transportation in defective &#120572;-iron, hydrogen trapping and desorption at the defects, and hydrogen-assisted cracking at the grain boundary. Unlike the existing interatomic potentials, the NNIP simulations quantitatively described the atomistic details of hydrogen behavior in the defective &#120572;-iron system with DFT accuracy.</div><br/><div class=\"description-notes\"><b>Notes: </b>Fan-Shun Meng notes that \"This potential was designed for the general purpose usage of the &#120572;-Fe-H binary system. Additionally, the potential also can be used for pure &#120572;-Fe. To use the potential in LAMMPS, the pair_style of hdnnp should be adopted, and the package of ML-HDNNP should be compiled(see ML-HDNNP documentation).\"</div><br/><div class=\"format\"><b>LAMMPS pair_style hdnnp (custom)</b><a href=\"https://www.ctcms.nist.gov/potentials/entry//2021--Meng-F-S--Fe-H--LAMMPS--ipr1.html\"> (2021--Meng-F-S--Fe-H--LAMMPS--ipr1)</a></div><div class=\"implementation-notes\"><a href=\"https://www.ctcms.nist.gov/potentials/entry//2021--Meng-F-S--Fe-H--LAMMPS--ipr1.html\"><b>See Computed Properties</b></a><br/><b>Notes: </b>These files were provided by Fan-Shun Meng on August 30, 2024.<br/><br/></div></div></div></div>"
      ],
      "text/plain": [
       "<IPython.core.display.HTML object>"
      ]
     },
     "metadata": {},
     "output_type": "display_data"
    }
   ],
   "source": [
    "potential.build_model()\n",
    "potential.html(render=True)"
   ]
  },
  {
   "cell_type": "markdown",
   "metadata": {},
   "source": [
    "#### 3.2.3 Select implementation\n",
    "\n",
    "Must be done"
   ]
  },
  {
   "cell_type": "code",
   "execution_count": 8,
   "metadata": {
    "tags": []
   },
   "outputs": [],
   "source": [
    "index = 0\n",
    "implementation = potential.implementations[index]"
   ]
  },
  {
   "cell_type": "markdown",
   "metadata": {},
   "source": [
    "### 3.3 Modify implementation"
   ]
  },
  {
   "cell_type": "markdown",
   "metadata": {},
   "source": [
    "#### 3.3.1 Modify implementation metadata "
   ]
  },
  {
   "cell_type": "code",
   "execution_count": 24,
   "metadata": {},
   "outputs": [],
   "source": [
    "implementation.type = 'LAMMPS pair_style hdnnp'"
   ]
  },
  {
   "cell_type": "code",
   "execution_count": 22,
   "metadata": {
    "tags": []
   },
   "outputs": [],
   "source": [
    "implementation.type = 'deepmd-kit'\n",
    "#implementation.key=None\n",
    "#implementation.date=datetime.date(2020, 1, 10)\n",
    "#implementation.id = f'{potential.impid_prefix}--LAMMPS--ipr1'\n",
    "#implementation.notes = ' '.join(['This file was provided by Giovanni Bonny on April 3, 2024 with the agreement of all the authors.'])\n",
    "#implementation.notes += \" Update July 19 2023: This version has been superseded as it had the incorrect atomic mass for H.\"\n",
    "\n",
    "#implementation.status='superseded'"
   ]
  },
  {
   "cell_type": "markdown",
   "metadata": {},
   "source": [
    "#### 3.3.2 Add implementation content\n",
    "\n",
    "The content for the implementation can exist in one of the following formats\n",
    "\n",
    "1. Artifacts: files that are hosted on the potentials repository.\n",
    "2. Parameters: list of the potential's parameters to show as html text on the repository.\n",
    "3. WebLinks: hyperlinks to content hosted externally."
   ]
  },
  {
   "cell_type": "markdown",
   "metadata": {},
   "source": [
    "#### Option #1: Add artifacts\n",
    "\n",
    "File path parameters\n",
    "\n",
    "- __newpotpath__ is the path to the directory where the new potential files are located.\n",
    "- __localpath__ is the path to the local copy of the NIST potentials repository.\n",
    "- __webpath__ is the url path for the NIST potentials repository that coincides with the localpath on the machine.\n",
    "- __relpath__ is the relative path from localpath where the files are copied to, and the relative path from webpath where they will be found once uploaded to the website."
   ]
  },
  {
   "cell_type": "code",
   "execution_count": 17,
   "metadata": {},
   "outputs": [
    {
     "data": {
      "text/plain": [
       "'PG911113'"
      ]
     },
     "execution_count": 17,
     "metadata": {},
     "output_type": "execute_result"
    }
   ],
   "source": [
    "socket.gethostname()"
   ]
  },
  {
   "cell_type": "code",
   "execution_count": 25,
   "metadata": {
    "tags": []
   },
   "outputs": [],
   "source": [
    "# Paths to files on desktop\n",
    "machine = socket.gethostname()\n",
    "if machine == 'PG903193':\n",
    "    newpotpath = Path('F:/website/new potentials')\n",
    "    localpath = Path('F:/website/IPR-website/potentials/')\n",
    "\n",
    "# Paths to files on laptop\n",
    "elif machine == 'PG911113':\n",
    "    newpotpath = Path('/mnt/c/Users/lmh1/OneDrive - NIST/Documents/new_potentials')\n",
    "    localpath = Path('/home/lmh1/website/IPR-website/potentials/')\n",
    "\n",
    "# Web and relative paths\n",
    "webpath = 'https://www.ctcms.nist.gov/potentials/'\n",
    "relpath = f'Download/{potential.id}/{index+1}/'"
   ]
  },
  {
   "cell_type": "markdown",
   "metadata": {},
   "source": [
    "Each artifact has:\n",
    "\n",
    "- __filename__ (*str*) The name of the file (no path information).\n",
    "- __url__ (*str*) The absolute url where the file can be downloaded from.\n",
    "- __label__ (*str, optional*) An optional descriptive label for the file."
   ]
  },
  {
   "cell_type": "code",
   "execution_count": 20,
   "metadata": {
    "tags": []
   },
   "outputs": [
    {
     "name": "stdout",
     "output_type": "stream",
     "text": [
      "lmp.in\n",
      "NNIP-FeH.zip\n"
     ]
    }
   ],
   "source": [
    "for potfile in newpotpath.glob('*'):\n",
    "    if potfile.is_file():\n",
    "        print(potfile.name)"
   ]
  },
  {
   "cell_type": "code",
   "execution_count": 26,
   "metadata": {
    "tags": []
   },
   "outputs": [],
   "source": [
    "# Specify files from newpotpath to add\n",
    "filenames = [\n",
    "    Path(newpotpath, 'NNIP-FeH.zip'),\n",
    "    ]\n",
    "\n",
    "labels = [None for i in range(len(filenames))]"
   ]
  },
  {
   "cell_type": "code",
   "execution_count": 146,
   "metadata": {
    "tags": []
   },
   "outputs": [],
   "source": [
    "# Specify files from newpotpath to add\n",
    "filenames = [\n",
    "    Path(newpotpath, 'READ_ME.txt'),\n",
    "    Path(newpotpath, 'FeCCr_d.eam.alloy'),\n",
    "    Path(newpotpath, 'FeCCr_s.eam.fs'),\n",
    "]\n",
    "\n",
    "labels = [\n",
    "    'Documentation',\n",
    "    'd_band',\n",
    "    's_band'\n",
    "]"
   ]
  },
  {
   "cell_type": "code",
   "execution_count": 98,
   "metadata": {
    "tags": []
   },
   "outputs": [],
   "source": [
    "# Specify files from newpotpath to add\n",
    "filenames = [\n",
    "    Path(newpotpath, 'F_Fe.spt'),\n",
    "    Path(newpotpath, 'F_Cu.spt'),\n",
    "    Path(newpotpath, 'F_Ni.spt'),\n",
    "    Path(newpotpath, 'F_Mn.spt'),\n",
    "    Path(newpotpath, 'rhoFe.spt'),\n",
    "    Path(newpotpath, 'rhoCu.spt'),\n",
    "    Path(newpotpath, 'rhoNi.spt'),\n",
    "    Path(newpotpath, 'rhoMn.spt'),\n",
    "    Path(newpotpath, 'pFeFe.spt'),\n",
    "    Path(newpotpath, 'pCuCu.spt'),\n",
    "    Path(newpotpath, 'pNiNi.spt'),\n",
    "    Path(newpotpath, 'pMnMn.spt'),\n",
    "    Path(newpotpath, 'pFeCu.spt'),\n",
    "    Path(newpotpath, 'pFeNi.spt'),\n",
    "    Path(newpotpath, 'pFeMn.spt'),\n",
    "    Path(newpotpath, 'pCuNi.spt'),\n",
    "    Path(newpotpath, 'pCuMn.spt'),\n",
    "    Path(newpotpath, 'pNiMn.spt'),\n",
    "    ]\n",
    "\n",
    "labels = [\n",
    "    'Fe F(ρ)',\n",
    "    'Cu F(ρ)',\n",
    "    'Ni F(ρ)',\n",
    "    'Mn F(ρ)',\n",
    "    'Fe ρ(r)',\n",
    "    'Cu ρ(r)',\n",
    "    'Ni ρ(r)',\n",
    "    'Mn ρ(r)',\n",
    "    'Fe φ(r)',\n",
    "    'Cu φ(r)',\n",
    "    'Ni φ(r)',\n",
    "    'Mn φ(r)',\n",
    "    'Fe-Cu φ(r)',\n",
    "    'Fe-Ni φ(r)',\n",
    "    'Fe-Mn φ(r)',\n",
    "    'Cu-Ni φ(r)',\n",
    "    'Cu-Mn φ(r)',\n",
    "    'Ni-Mn φ(r)'\n",
    "]"
   ]
  },
  {
   "cell_type": "code",
   "execution_count": 22,
   "metadata": {
    "tags": []
   },
   "outputs": [
    {
     "name": "stdout",
     "output_type": "stream",
     "text": [
      "/home/lmh1/website/IPR-website/potentials/Download/2021--Meng-F-S-Du-J-P-Shinzato-S-et-al--Fe-H/1/NNIP-FeH.zip\n"
     ]
    }
   ],
   "source": [
    "# Make download directory in local copy of website\n",
    "downloadpath = Path(localpath, relpath)\n",
    "if not downloadpath.is_dir():\n",
    "    downloadpath.mkdir(parents=True)\n",
    "\n",
    "# Copy files and add artifact listings\n",
    "for filename, label in zip(filenames, labels):\n",
    "    # Build url\n",
    "    url = webpath + relpath + filename.name\n",
    "    # Copy files\n",
    "    shutil.copy(filename, downloadpath)\n",
    "    print(Path(downloadpath, filename.name))\n",
    "    \n",
    "    # Add artifact listing to implementation\n",
    "    implementation.add_artifact(filename=filename.name, url=url, label=label)"
   ]
  },
  {
   "cell_type": "markdown",
   "metadata": {},
   "source": [
    "#### Option #1b: Update file paths"
   ]
  },
  {
   "cell_type": "code",
   "execution_count": 43,
   "metadata": {},
   "outputs": [],
   "source": [
    "#newdir= Path(localpath, relpath)\n",
    "#if not newdir.is_dir():\n",
    "#    newdir.mkdir(parents=True)\n",
    "\n",
    "#for artifact in implementation.artifacts:\n",
    "    # Copy artifact file to new location\n",
    "#    oldpath = Path(localpath, artifact.url.replace(webpath, ''))\n",
    "    \n",
    "#    newpath = Path(newdir, artifact.filename)\n",
    "    #shutil.copy(oldpath, newpath)\n",
    "    \n",
    "    # Update the url\n",
    "#    artifact.url = webpath + relpath + artifact.filename"
   ]
  },
  {
   "cell_type": "markdown",
   "metadata": {},
   "source": [
    "#### Option #2: Add parameters\n",
    "\n",
    "Each parameter has:\n",
    "\n",
    "- __name__ (*str, optional*) The name of the parameter or string parameter line.\n",
    "- __value__ (*float, optional*) The value of the parameter.\n",
    "- __unit__ (*str, optional*) Units associated with value.\n",
    "\n",
    "Note: if the parameters are purely text-based, you can use only the name field."
   ]
  },
  {
   "cell_type": "code",
   "execution_count": null,
   "metadata": {},
   "outputs": [],
   "source": []
  },
  {
   "cell_type": "markdown",
   "metadata": {},
   "source": [
    "#### Option #3: Add weblinks\n",
    "\n",
    "Each weblink has:\n",
    "\n",
    "- __url__ (*str*) URL for the link.\n",
    "- __label__ (*str, optional*) A short description label to proceed the link.\n",
    "- __linktext__ (*str, optional*) The text for the link, i.e. what gets clicked on."
   ]
  },
  {
   "cell_type": "code",
   "execution_count": 25,
   "metadata": {
    "tags": []
   },
   "outputs": [],
   "source": [
    "url = linktext = 'https://docs.lammps.org/Packages_details.html#pkg-ml-hdnnp'\n",
    "label = 'ML-HDNNP documentation'\n",
    "\n",
    "implementation.add_link(url=url, label=label, linktext=linktext)\n",
    "\n"
   ]
  },
  {
   "cell_type": "code",
   "execution_count": null,
   "metadata": {
    "tags": []
   },
   "outputs": [],
   "source": [
    "#implementation.links.pop()"
   ]
  },
  {
   "cell_type": "code",
   "execution_count": 82,
   "metadata": {},
   "outputs": [],
   "source": [
    "#implementation.links[0].linktext=linktext"
   ]
  },
  {
   "cell_type": "markdown",
   "metadata": {},
   "source": [
    "## 4. Review and save potentials"
   ]
  },
  {
   "cell_type": "code",
   "execution_count": 26,
   "metadata": {
    "tags": []
   },
   "outputs": [
    {
     "data": {
      "text/html": [
       "<div xmlns=\"http://www.w3.org/TR/xhtml1/strict\"><script src=\"https://www.ctcms.nist.gov/potentials/site/showFiles.js\">//</script><div class=\"panel panel-default\"><div class=\"panel-heading\"><h3 class=\"panel-title\"/></div><div class=\"panel-body\"><div class=\"citation\"><b>Citation: </b>F.-S. Meng, J.-P. Du, S. Shinzato, H. Mori, P. Yu, K. Matsubara, N. Ishikawa, and S. Ogata (2021), \"General-purpose neural network interatomic potential for the &#120572;-iron and hydrogen binary system: Toward atomic-scale understanding of hydrogen embrittlement\", <i>Physical Review Materials</i>, <b>5(11)</b>, 113606. DOI: <a href=\"https://doi.org/10.1103/physrevmaterials.5.113606\" class=\"external\">10.1103/physrevmaterials.5.113606</a>.<br/></div><div class=\"abstract\"><b>Abstract: </b>To understand the physics of hydrogen embrittlement at the atomic scale, a general-purpose neural network interatomic potential (NNIP) for the &#120572;-iron and hydrogen binary system is presented. It is trained using an extensive reference database produced by density functional theory (DFT) calculations. The NNIP can properly describe the interactions of hydrogen with various defects in &#120572;-iron, such as vacancies, surfaces, grain boundaries, and dislocations; in addition to the basic properties of &#120572;-iron itself, the NNIP also handles the defect properties in &#120572;-iron, hydrogen behavior in &#120572;-iron, and hydrogen-hydrogen interactions in &#120572;-iron and in vacuum, including the hydrogen molecule formation and dissociation at the &#120572;-iron surface. These are superb challenges for the existing empirical interatomic potentials, like the embedded-atom method based potentials, for the &#120572;-iron and hydrogen binary system. In this study, the NNIP was applied to several key phenomena necessary for understanding hydrogen embrittlement, such as hydrogen charging and discharging to &#120572;-iron, hydrogen transportation in defective &#120572;-iron, hydrogen trapping and desorption at the defects, and hydrogen-assisted cracking at the grain boundary. Unlike the existing interatomic potentials, the NNIP simulations quantitatively described the atomistic details of hydrogen behavior in the defective &#120572;-iron system with DFT accuracy.</div><br/><div class=\"description-notes\"><b>Notes: </b>Fan-Shun Meng notes that \"This potential was designed for the general purpose usage of the &#120572;-Fe-H binary system. Additionally, the potential also can be used for pure &#120572;-Fe. To use the potential in LAMMPS, the pair_style of hdnnp should be adopted, and the package of ML-HDNNP should be compiled(see ML-HDNNP documentation).\"</div><br/><div class=\"format\"><b>LAMMPS pair_style hdnnp</b><a href=\"https://www.ctcms.nist.gov/potentials/entry//2021--Meng-F-S--Fe-H--LAMMPS--ipr1.html\"> (2021--Meng-F-S--Fe-H--LAMMPS--ipr1)</a></div><div class=\"implementation-notes\"><a href=\"https://www.ctcms.nist.gov/potentials/entry//2021--Meng-F-S--Fe-H--LAMMPS--ipr1.html\"><b>See Computed Properties</b></a><br/><b>Notes: </b>These files were provided by Fan-Shun Meng on August 30, 2024.<br/><b>File(s): </b><div id=\"0c9f600d-7bf1-4771-869a-ee28aa18c0f7\" style=\"display:block\"><a href=\"https://www.ctcms.nist.gov/potentials/Download/2021--Meng-F-S-Du-J-P-Shinzato-S-et-al--Fe-H/1/NNIP-FeH.zip\">NNIP-FeH.zip</a><br/></div><b>Link(s): </b><div id=\"0c9f600d-7bf1-4771-869a-ee28aa18c0f7\" style=\"display:block\">ML-HDNNP documentation <a href=\"https://docs.lammps.org/Packages_details.html#pkg-ml-hdnnp\">https://docs.lammps.org/Packages_details.html#pkg-ml-hdnnp</a><br/></div><br/></div></div></div></div>"
      ],
      "text/plain": [
       "<IPython.core.display.HTML object>"
      ]
     },
     "metadata": {},
     "output_type": "display_data"
    }
   ],
   "source": [
    "potential.build_model()\n",
    "potential.html(render=True)"
   ]
  },
  {
   "cell_type": "code",
   "execution_count": 27,
   "metadata": {},
   "outputs": [
    {
     "data": {
      "text/plain": [
       "'potential.2021--Meng-F-S-Du-J-P-Shinzato-S-et-al--Fe-H'"
      ]
     },
     "execution_count": 27,
     "metadata": {},
     "output_type": "execute_result"
    }
   ],
   "source": [
    "potential.name"
   ]
  },
  {
   "cell_type": "code",
   "execution_count": 10,
   "metadata": {
    "tags": []
   },
   "outputs": [
    {
     "name": "stdout",
     "output_type": "stream",
     "text": [
      "Potential record named potential.2021--Meng-F-S-Du-J-P-Shinzato-S-et-al--Fe-H updated in /home/lmh1/library\n",
      "Potential record named potential.2021--Meng-F-S-Du-J-P-Shinzato-S-et-al--Fe-H added to https://potentials.nist.gov\n",
      "Potential record named potential.2021--Meng-F-S-Du-J-P-Shinzato-S-et-al--Fe-H assigned to workspace Global Public Workspace\n"
     ]
    }
   ],
   "source": [
    "db.save_potential(potential, overwrite=True, verbose=True)\n",
    "with db.remote_database.cdcs.auto_set_pid_off():\n",
    "    db.upload_potential(potential, workspace=workspace, overwrite=True, verbose=True)\n",
    "complete_potentials.append(potential)"
   ]
  },
  {
   "cell_type": "code",
   "execution_count": 29,
   "metadata": {
    "tags": []
   },
   "outputs": [
    {
     "data": {
      "text/plain": [
       "['2021--Meng-F-S-Du-J-P-Shinzato-S-et-al--Fe-H']"
      ]
     },
     "execution_count": 29,
     "metadata": {},
     "output_type": "execute_result"
    }
   ],
   "source": [
    "[pot.id for pot in complete_potentials]"
   ]
  },
  {
   "cell_type": "code",
   "execution_count": null,
   "metadata": {
    "tags": []
   },
   "outputs": [],
   "source": [
    "#db.delete_potential(potential, local=True, remote=True, verbose=True)\n",
    "#complete_potentials.pop(-1)"
   ]
  },
  {
   "cell_type": "code",
   "execution_count": null,
   "metadata": {},
   "outputs": [],
   "source": [
    "#db.download_potentials(overwrite=True, format='json', indent=4, verbose=True)"
   ]
  },
  {
   "cell_type": "code",
   "execution_count": 23,
   "metadata": {},
   "outputs": [],
   "source": [
    "#complete_potentials.append(potential)"
   ]
  },
  {
   "cell_type": "markdown",
   "metadata": {},
   "source": [
    "## 5. potential_LAMMPS\n",
    "\n",
    "This section generates the potential_LAMMPS metadata records for generating the LAMMPS input command lines for supported potentials."
   ]
  },
  {
   "cell_type": "markdown",
   "metadata": {
    "tags": []
   },
   "source": [
    "### 5.1. Auto-built settings\n",
    "\n",
    "These are all settings that are universal and typically can be auto-built from the loaded potential and implementation without modification.\n",
    "\n",
    "- __id__ (*str, optional*) implementation id. Should match with the implementation id from above.\n",
    "- __key__ (*str, optional*) implementation key. Should match with the implementation key from above.\n",
    "- __url__ (*str, optional*) URL to the CDCS page for the potential_LAMMPS record being built. Should end with the implementation id.\n",
    "- __potid__ (*str, optional*) potential id. Should match with the potential id from above.\n",
    "- __potkey__ (*str, optional*) potential key. Should match with the potential key from above.\n",
    "- __poturl__ (*str, optional*) URL to the CDCS page for the Potential record generated above.\n",
    "- __pair_style__ (*str*) The LAMMPS pair_style associated with the implementation.  This is extracted from the implementation.\n",
    "- __dois__ (*list, optional*) A list of the DOIs from the potential's citations, auto-extracted.\n",
    "- __artifacts__ (*list, optional*) A list of the artifact objects from the implementation, auto-extracted.\n",
    "- __comments__ (*str, optional*) Info about where the potential is hosted, to be printed when LAMMPS commands are generated."
   ]
  },
  {
   "cell_type": "code",
   "execution_count": 13,
   "metadata": {
    "tags": []
   },
   "outputs": [],
   "source": [
    "kwargs = {}\n",
    "kwargs['id'] = implementation.id\n",
    "kwargs['key'] = implementation.key\n",
    "kwargs['url'] = f'https://potentials.nist.gov/pid/rest/local/potentials/{implementation.id}'\n",
    "\n",
    "kwargs['potid'] = potential.id\n",
    "kwargs['potkey'] = potential.key\n",
    "kwargs['poturl'] = potential.url\n",
    "\n",
    "kwargs['pair_style'] = implementation.type.replace('LAMMPS pair_style ', '')\n",
    "\n",
    "# Auto-build list of DOIs from citations\n",
    "dois = []\n",
    "for citation in potential.citations:\n",
    "    if citation.doi is not None:\n",
    "        dois.append(citation.doi)\n",
    "if len(dois) > 0:\n",
    "    kwargs['dois'] = dois\n",
    "\n",
    "if implementation.artifacts is not None:\n",
    "    kwargs['artifacts'] = implementation.artifacts\n",
    "\n",
    "kwargs['comments'] = '\\n'.join([f'Potential {implementation.id} listed in the NIST Interatomic Potentials Repository:',\n",
    "                                f'https://www.ctcms.nist.gov/potentials/entry/{potential.id}/{implementation.id}.html',\n",
    "                                f''])"
   ]
  },
  {
   "cell_type": "markdown",
   "metadata": {},
   "source": [
    "### 5.2. Specific settings\n",
    "\n",
    "These are settings that often need manual modifications based on the potential.\n",
    "\n",
    "- __symbols__ (*list, optional*) The particle model symbols defined by the implementation.  Optional if these match the element tags.\n",
    "- __elements__ (*list, optional*) The element tags associated with each model symbol, if the symbols correspond to an element.\n",
    "- __masses__ (*list, optional*) The masses to assign to each symbol.  Will default to the standard element values if elements is given and masses is not. Should be given if the implementation specifies the masses.\n",
    "- __charges__ (*list, optional*) The charges to assign to each symbol. This is only for potentials where the particle models have a constant charge.\n",
    "- __units__ (*str, optional*) The LAMMPS units to use with the implementation.  Default value is 'metal'.\n",
    "- __atom_style__ (*str, optional*) The LAMMPS atom_style to use with the implementation.  Default value is 'atomic'.\n"
   ]
  },
  {
   "cell_type": "code",
   "execution_count": 14,
   "metadata": {},
   "outputs": [],
   "source": [
    "kwargs['elements'] = potential.elements\n",
    "#kwargs['symbols'] = ['Fe', 'nmFe']\n",
    "#kwargs['masses'] = [137.34, 106.4]\n",
    "#kwargs['charges'] = [0.0, 0.0]\n",
    "\n",
    "#kwargs['units'] = 'metal'\n",
    "#kwargs['atom_style'] = 'atomic'"
   ]
  },
  {
   "cell_type": "markdown",
   "metadata": {},
   "source": [
    "### 5.3. Initialize the potential object\n",
    "\n",
    "Initialization methods:\n",
    "\n",
    "- Calling the normal init will set all of the metadata specified in the above kwargs but won't set any pair_coeff information. The pair_coeff terms can be manually built up afterwards.\n",
    "- paramfile() will auto-build the pair_coeff terms for most pair_styles that rely on a single parameter file, such as eam/alloy.\n",
    "- meam() will auto-build the pair_coeff terms for the meam pair_style, which relies on a libfile and optionally a paramfile.\n",
    "- eim() will auto-build the pair_coeff terms for the eim pair_style, which relies on a single parameter file (but differs from the paramfile format).\n",
    "- eam() will auto-build the pair_coeff terms for the eam pair_style, which relies on a parameter file for each element model."
   ]
  },
  {
   "cell_type": "code",
   "execution_count": 28,
   "metadata": {},
   "outputs": [
    {
     "name": "stdout",
     "output_type": "stream",
     "text": [
      "NNIP-FeH.zip\n"
     ]
    }
   ],
   "source": [
    "# List file names for convenience\n",
    "for file in implementation.artifacts:\n",
    "    print(file.filename)"
   ]
  },
  {
   "cell_type": "code",
   "execution_count": 15,
   "metadata": {},
   "outputs": [],
   "source": [
    "# Build potential from kwargs (and files)\n",
    "\n",
    "#lammps_potential = PotentialLAMMPS.paramfile(paramfile='', **kwargs)\n",
    "#lammps_potential = PotentialLAMMPS.meam(libfile='', paramfile='', **kwargs)\n",
    "#lammps_potential = PotentialLAMMPS.eam(paramfiles=[''], **kwargs)\n",
    "#lammps_potential = PotentialLAMMPS.eim(paramfile='', **kwargs)\n",
    "lammps_potential = PotentialLAMMPS(**kwargs)"
   ]
  },
  {
   "cell_type": "code",
   "execution_count": 19,
   "metadata": {},
   "outputs": [
    {
     "data": {
      "text/plain": [
       "DataModelDict([('potential-LAMMPS',\n",
       "                DataModelDict([('key', '0c9f600d-7bf1-4771-869a-ee28aa18c0f7'),\n",
       "                               ('id', '2021--Meng-F-S--Fe-H--LAMMPS--ipr1'),\n",
       "                               ('URL',\n",
       "                                'https://potentials.nist.gov/pid/rest/local/potentials/2021--Meng-F-S--Fe-H--LAMMPS--ipr1'),\n",
       "                               ('potential',\n",
       "                                DataModelDict([('key',\n",
       "                                                '738cb4ea-334a-40dd-b732-4c66ac59f060'),\n",
       "                                               ('id',\n",
       "                                                '2021--Meng-F-S-Du-J-P-Shinzato-S-et-al--Fe-H'),\n",
       "                                               ('URL',\n",
       "                                                'https://potentials.nist.gov/pid/rest/local/potentials/potential.2021--Meng-F-S-Du-J-P-Shinzato-S-et-al--Fe-H'),\n",
       "                                               ('doi',\n",
       "                                                '10.1103/physrevmaterials.5.113606')])),\n",
       "                               ('comments',\n",
       "                                'Potential 2021--Meng-F-S--Fe-H--LAMMPS--ipr1 listed in the NIST Interatomic Potentials Repository:\\nhttps://www.ctcms.nist.gov/potentials/entry/2021--Meng-F-S-Du-J-P-Shinzato-S-et-al--Fe-H/2021--Meng-F-S--Fe-H--LAMMPS--ipr1.html\\n'),\n",
       "                               ('units', 'metal'),\n",
       "                               ('atom_style', 'atomic'),\n",
       "                               ('atom',\n",
       "                                [DataModelDict([('symbol', 'Fe'),\n",
       "                                                ('element', 'Fe')]),\n",
       "                                 DataModelDict([('symbol', 'H'),\n",
       "                                                ('element', 'H')])]),\n",
       "                               ('pair_style',\n",
       "                                DataModelDict([('type', 'hdnnp'),\n",
       "                                               ('term',\n",
       "                                                [DataModelDict([('parameter',\n",
       "                                                                 6.5)]),\n",
       "                                                 DataModelDict([('option',\n",
       "                                                                 'dir')]),\n",
       "                                                 DataModelDict([('file',\n",
       "                                                                 '.')]),\n",
       "                                                 DataModelDict([('option',\n",
       "                                                                 'showew')]),\n",
       "                                                 DataModelDict([('option',\n",
       "                                                                 'no')]),\n",
       "                                                 DataModelDict([('option',\n",
       "                                                                 'showewsum')]),\n",
       "                                                 DataModelDict([('parameter',\n",
       "                                                                 1000.0)]),\n",
       "                                                 DataModelDict([('option',\n",
       "                                                                 'resetew')]),\n",
       "                                                 DataModelDict([('option',\n",
       "                                                                 'yes')]),\n",
       "                                                 DataModelDict([('option',\n",
       "                                                                 'maxew')]),\n",
       "                                                 DataModelDict([('parameter',\n",
       "                                                                 1000000.0)]),\n",
       "                                                 DataModelDict([('option',\n",
       "                                                                 'cflength')]),\n",
       "                                                 DataModelDict([('parameter',\n",
       "                                                                 1.8897261328)]),\n",
       "                                                 DataModelDict([('option',\n",
       "                                                                 'cfenergy')]),\n",
       "                                                 DataModelDict([('parameter',\n",
       "                                                                 0.0367493254)])])])),\n",
       "                               ('pair_coeff',\n",
       "                                DataModelDict([('term',\n",
       "                                                DataModelDict([('symbols',\n",
       "                                                                True)]))])),\n",
       "                               ('artifact',\n",
       "                                DataModelDict([('web-link',\n",
       "                                                DataModelDict([('URL',\n",
       "                                                                'https://www.ctcms.nist.gov/potentials/Download/2021--Meng-F-S-Du-J-P-Shinzato-S-et-al--Fe-H/1/NNIP-FeH.zip'),\n",
       "                                                               ('link-text',\n",
       "                                                                'NNIP-FeH.zip')]))]))]))])"
      ]
     },
     "execution_count": 19,
     "metadata": {},
     "output_type": "execute_result"
    }
   ],
   "source": [
    "lammps_potential.build_model()"
   ]
  },
  {
   "cell_type": "markdown",
   "metadata": {},
   "source": [
    "### 5.4. Manually define terms for LAMMPS commands\n",
    "\n",
    "The record is meant to capture and generate any LAMMPS commands necessary to properly use the potential.\n",
    "\n",
    "- pair_style_terms are any terms that appear on the pair_style line after the pair_style itself.\n",
    "- commands defines any additional LAMMPS command lines.  Each new line can be added with add_command().\n",
    "- pair_coeffs define the pair_coeff lines.  Each new line can be added with add_pair_coeff(), and consists of an interaction list and a terms list. The list of terms is anything in the pair_coeff line after the two interaction species/wildcard options. The interaction list specifies which symbol models are connected to the pair_coeff definition. Typical variations are\n",
    "    - no interaction defined to work with all symbols (will automatically add '* *')\n",
    "    - two symbols for pair potentials to define the particular species-species interaction, and\n",
    "    - an any-length list of symbols specifying the subset of models tied to a specific parameter file when defining a hybrid potential. \n",
    "\n",
    "The \"terms\" used for all three are specified with a term type and value.  The supported term types are:\n",
    "\n",
    "- \"option\" is the basic term type that is saved as a str.\n",
    "- \"parameter\" is for numerical terms.\n",
    "- \"file\" is for a term that points to a parameter file for the potential.\n",
    "- \"symbols\" indicates where the list of symbols models that correspond to the integer atom types is to be given.\n",
    "\n"
   ]
  },
  {
   "cell_type": "code",
   "execution_count": 18,
   "metadata": {},
   "outputs": [],
   "source": [
    "# Define additional pair_style terms\n",
    "lammps_potential.pair_style_terms.add_term('parameter', 6.5)\n",
    "lammps_potential.pair_style_terms.add_term('option', 'dir')\n",
    "lammps_potential.pair_style_terms.add_term('file', '.')\n",
    "lammps_potential.pair_style_terms.add_term('option', 'showew')\n",
    "lammps_potential.pair_style_terms.add_term('option', 'no')\n",
    "lammps_potential.pair_style_terms.add_term('option', 'showewsum')\n",
    "lammps_potential.pair_style_terms.add_term('parameter', 1000)\n",
    "lammps_potential.pair_style_terms.add_term('option', 'resetew')\n",
    "lammps_potential.pair_style_terms.add_term('option', 'yes')\n",
    "lammps_potential.pair_style_terms.add_term('option', 'maxew')\n",
    "lammps_potential.pair_style_terms.add_term('parameter', 1000000)\n",
    "lammps_potential.pair_style_terms.add_term('option', 'cflength')\n",
    "lammps_potential.pair_style_terms.add_term('parameter', 1.8897261328)\n",
    "lammps_potential.pair_style_terms.add_term('option', 'cfenergy')\n",
    "lammps_potential.pair_style_terms.add_term('parameter', 0.0367493254)\n",
    "\n"
   ]
  },
  {
   "cell_type": "code",
   "execution_count": null,
   "metadata": {},
   "outputs": [],
   "source": [
    "# Manually define pair_coeff lines (if potential is not consistent with one of the class methods above).\n",
    "lammps_potential.add_pair_coeff()\n",
    "lammps_potential.pair_coeffs[0].add_term('symbols', True)"
   ]
  },
  {
   "cell_type": "code",
   "execution_count": null,
   "metadata": {},
   "outputs": [],
   "source": [
    "# Define any additional required command lines\n",
    "#lammps_potential.add_command()\n",
    "#lammps_potential.commands[0].add_term('option', 'asfd')"
   ]
  },
  {
   "cell_type": "markdown",
   "metadata": {},
   "source": [
    "### 5.2 Load potential_LAMMPS from database "
   ]
  },
  {
   "cell_type": "code",
   "execution_count": null,
   "metadata": {},
   "outputs": [],
   "source": [
    "#lammps_potential = db.get_lammps_potential(id='2023--Jana-R--Fe--LAMMPS--ipr1', verbose=True)"
   ]
  },
  {
   "cell_type": "markdown",
   "metadata": {},
   "source": [
    "### 5.3 Load potential_LAMMPS from local file not in database "
   ]
  },
  {
   "cell_type": "code",
   "execution_count": 44,
   "metadata": {},
   "outputs": [],
   "source": [
    "#fname = Path('2020--Groger-R--Co-Cr-Fe-Mn-Ni--LAMMPS--ipr1.json')\n",
    "#lammps_potential = potentials.record.PotentialLAMMPS(fname)"
   ]
  },
  {
   "cell_type": "markdown",
   "metadata": {},
   "source": [
    "### 5.4 Review and save"
   ]
  },
  {
   "cell_type": "markdown",
   "metadata": {},
   "source": [
    "#### Review model"
   ]
  },
  {
   "cell_type": "code",
   "execution_count": 20,
   "metadata": {
    "tags": []
   },
   "outputs": [
    {
     "name": "stdout",
     "output_type": "stream",
     "text": [
      "{\n",
      "  \"potential-LAMMPS\": {\n",
      "    \"key\": \"0c9f600d-7bf1-4771-869a-ee28aa18c0f7\",\n",
      "    \"id\": \"2021--Meng-F-S--Fe-H--LAMMPS--ipr1\",\n",
      "    \"URL\": \"https://potentials.nist.gov/pid/rest/local/potentials/2021--Meng-F-S--Fe-H--LAMMPS--ipr1\",\n",
      "    \"potential\": {\n",
      "      \"key\": \"738cb4ea-334a-40dd-b732-4c66ac59f060\",\n",
      "      \"id\": \"2021--Meng-F-S-Du-J-P-Shinzato-S-et-al--Fe-H\",\n",
      "      \"URL\": \"https://potentials.nist.gov/pid/rest/local/potentials/potential.2021--Meng-F-S-Du-J-P-Shinzato-S-et-al--Fe-H\",\n",
      "      \"doi\": \"10.1103/physrevmaterials.5.113606\"\n",
      "    },\n",
      "    \"comments\": \"Potential 2021--Meng-F-S--Fe-H--LAMMPS--ipr1 listed in the NIST Interatomic Potentials Repository:\\nhttps://www.ctcms.nist.gov/potentials/entry/2021--Meng-F-S-Du-J-P-Shinzato-S-et-al--Fe-H/2021--Meng-F-S--Fe-H--LAMMPS--ipr1.html\\n\",\n",
      "    \"units\": \"metal\",\n",
      "    \"atom_style\": \"atomic\",\n",
      "    \"atom\": [\n",
      "      {\n",
      "        \"symbol\": \"Fe\",\n",
      "        \"element\": \"Fe\"\n",
      "      },\n",
      "      {\n",
      "        \"symbol\": \"H\",\n",
      "        \"element\": \"H\"\n",
      "      }\n",
      "    ],\n",
      "    \"pair_style\": {\n",
      "      \"type\": \"hdnnp\",\n",
      "      \"term\": [\n",
      "        {\n",
      "          \"parameter\": 6.5\n",
      "        },\n",
      "        {\n",
      "          \"option\": \"dir\"\n",
      "        },\n",
      "        {\n",
      "          \"file\": \".\"\n",
      "        },\n",
      "        {\n",
      "          \"option\": \"showew\"\n",
      "        },\n",
      "        {\n",
      "          \"option\": \"no\"\n",
      "        },\n",
      "        {\n",
      "          \"option\": \"showewsum\"\n",
      "        },\n",
      "        {\n",
      "          \"parameter\": 1000.0\n",
      "        },\n",
      "        {\n",
      "          \"option\": \"resetew\"\n",
      "        },\n",
      "        {\n",
      "          \"option\": \"yes\"\n",
      "        },\n",
      "        {\n",
      "          \"option\": \"maxew\"\n",
      "        },\n",
      "        {\n",
      "          \"parameter\": 1000000.0\n",
      "        },\n",
      "        {\n",
      "          \"option\": \"cflength\"\n",
      "        },\n",
      "        {\n",
      "          \"parameter\": 1.8897261328\n",
      "        },\n",
      "        {\n",
      "          \"option\": \"cfenergy\"\n",
      "        },\n",
      "        {\n",
      "          \"parameter\": 0.0367493254\n",
      "        }\n",
      "      ]\n",
      "    },\n",
      "    \"pair_coeff\": {\n",
      "      \"term\": {\n",
      "        \"symbols\": true\n",
      "      }\n",
      "    },\n",
      "    \"artifact\": {\n",
      "      \"web-link\": {\n",
      "        \"URL\": \"https://www.ctcms.nist.gov/potentials/Download/2021--Meng-F-S-Du-J-P-Shinzato-S-et-al--Fe-H/1/NNIP-FeH.zip\",\n",
      "        \"link-text\": \"NNIP-FeH.zip\"\n",
      "      }\n",
      "    }\n",
      "  }\n",
      "}\n"
     ]
    }
   ],
   "source": [
    "print(lammps_potential.model.json(indent=2))"
   ]
  },
  {
   "cell_type": "code",
   "execution_count": 22,
   "metadata": {},
   "outputs": [
    {
     "name": "stdout",
     "output_type": "stream",
     "text": [
      "print \"Potential 2021--Meng-F-S--Fe-H--LAMMPS--ipr1 listed in the NIST Interatomic Potentials Repository:\"\n",
      "print \"https://www.ctcms.nist.gov/potentials/entry/2021--Meng-F-S-Du-J-P-Shinzato-S-et-al--Fe-H/2021--Meng-F-S--Fe-H--LAMMPS--ipr1.html\"\n",
      "print \"Publication(s) related to the potential:\"\n",
      "print \"https://doi.org/10.1103/physrevmaterials.5.113606\"\n",
      "print \"Parameter file(s) can be downloaded at:\"\n",
      "print \"https://www.ctcms.nist.gov/potentials/Download/2021--Meng-F-S-Du-J-P-Shinzato-S-et-al--Fe-H/1/NNIP-FeH.zip\"\n",
      "\n",
      "pair_style hdnnp 6.5 dir . showew no showewsum 1000.0 resetew yes maxew 1000000.0 cflength 1.8897261328 cfenergy 0.0367493254\n",
      "pair_coeff * * Fe H\n",
      "\n",
      "mass 1 55.845\n",
      "mass 2 1.007975\n",
      "\n",
      "\n"
     ]
    }
   ],
   "source": [
    "print(lammps_potential.pair_info())"
   ]
  },
  {
   "cell_type": "code",
   "execution_count": 30,
   "metadata": {},
   "outputs": [],
   "source": [
    "lammps_potential.name = lammps_potential.id"
   ]
  },
  {
   "cell_type": "markdown",
   "metadata": {},
   "source": [
    "#### Save"
   ]
  },
  {
   "cell_type": "code",
   "execution_count": 31,
   "metadata": {
    "tags": []
   },
   "outputs": [
    {
     "name": "stdout",
     "output_type": "stream",
     "text": [
      "potential_LAMMPS record named 2021--Meng-F-S--Fe-H--LAMMPS--ipr1 added to /home/lmh1/library\n",
      "files saved to local folder\n",
      "potential_LAMMPS record named 2021--Meng-F-S--Fe-H--LAMMPS--ipr1 added to https://potentials.nist.gov\n",
      "potential_LAMMPS record named 2021--Meng-F-S--Fe-H--LAMMPS--ipr1 assigned to workspace Global Public Workspace\n"
     ]
    }
   ],
   "source": [
    "db.save_lammps_potential(lammps_potential, filenames=filenames,  verbose=True)\n",
    "with db.remote_database.cdcs.auto_set_pid_off():\n",
    "    db.upload_lammps_potential(lammps_potential, workspace=workspace, overwrite=True, verbose=True)"
   ]
  },
  {
   "cell_type": "code",
   "execution_count": null,
   "metadata": {},
   "outputs": [],
   "source": [
    "#db.delete_lammps_potential(lammps_potential, local=True, remote=True, verbose=True)"
   ]
  },
  {
   "cell_type": "code",
   "execution_count": null,
   "metadata": {},
   "outputs": [],
   "source": [
    "#db.download_lammps_potentials(getfiles=True, overwrite=True, verbose=True)"
   ]
  },
  {
   "cell_type": "markdown",
   "metadata": {},
   "source": [
    "- - -\n",
    "\n",
    "## 5. Actions\n",
    "\n",
    "Actions are used by the website to note changes in content and representation. "
   ]
  },
  {
   "cell_type": "markdown",
   "metadata": {},
   "source": [
    "### 5.1 Build action"
   ]
  },
  {
   "cell_type": "markdown",
   "metadata": {},
   "source": [
    "#### Option #1: new posting(s)"
   ]
  },
  {
   "cell_type": "code",
   "execution_count": 30,
   "metadata": {
    "tags": []
   },
   "outputs": [
    {
     "name": "stdout",
     "output_type": "stream",
     "text": [
      "2021--Meng-F-S-Du-J-P-Shinzato-S-et-al--Fe-H\n"
     ]
    }
   ],
   "source": [
    "for complete_potential in complete_potentials:\n",
    "    print(complete_potential.id)"
   ]
  },
  {
   "cell_type": "code",
   "execution_count": 31,
   "metadata": {
    "tags": []
   },
   "outputs": [
    {
     "ename": "KeyError",
     "evalue": "'Unknown Value style list_contains'",
     "output_type": "error",
     "traceback": [
      "\u001b[0;31m---------------------------------------------------------------------------\u001b[0m",
      "\u001b[0;31mKeyError\u001b[0m                                  Traceback (most recent call last)",
      "Cell \u001b[0;32mIn[31], line 1\u001b[0m\n\u001b[0;32m----> 1\u001b[0m action \u001b[38;5;241m=\u001b[39m \u001b[43mpotentials\u001b[49m\u001b[38;5;241;43m.\u001b[39;49m\u001b[43mload_record\u001b[49m\u001b[43m(\u001b[49m\u001b[38;5;124;43m'\u001b[39;49m\u001b[38;5;124;43mAction\u001b[39;49m\u001b[38;5;124;43m'\u001b[39;49m\u001b[43m,\u001b[49m\n\u001b[1;32m      2\u001b[0m \u001b[43m    \u001b[49m\u001b[38;5;28;43mtype\u001b[39;49m\u001b[43m \u001b[49m\u001b[38;5;241;43m=\u001b[39;49m\u001b[43m \u001b[49m\u001b[38;5;124;43m'\u001b[39;49m\u001b[38;5;124;43mnew posting\u001b[39;49m\u001b[38;5;124;43m'\u001b[39;49m\u001b[43m,\u001b[49m\n\u001b[1;32m      3\u001b[0m \u001b[43m    \u001b[49m\u001b[43mpotentials\u001b[49m\u001b[43m \u001b[49m\u001b[38;5;241;43m=\u001b[39;49m\u001b[43m \u001b[49m\u001b[43mcomplete_potentials\u001b[49m\u001b[43m,\u001b[49m\n\u001b[1;32m      4\u001b[0m \u001b[43m    \u001b[49m\u001b[38;5;66;43;03m#date = datetime.date(2021, 10, 26),\u001b[39;49;00m\n\u001b[1;32m      5\u001b[0m \u001b[43m    \u001b[49m\u001b[43mcomment\u001b[49m\u001b[43m \u001b[49m\u001b[38;5;241;43m=\u001b[39;49m\u001b[43m \u001b[49m\u001b[38;5;124;43m\"\u001b[39;49m\u001b[38;5;124;43mNew potential for Fe-H\u001b[39;49m\u001b[38;5;124;43m\"\u001b[39;49m\u001b[43m,\u001b[49m\n\u001b[1;32m      6\u001b[0m \u001b[43m)\u001b[49m\n",
      "File \u001b[0;32m~/Python-packages/yabadaba/yabadaba/record/__init__.py:44\u001b[0m, in \u001b[0;36mload_record\u001b[0;34m(style, model, name, database, **kwargs)\u001b[0m\n\u001b[1;32m     18\u001b[0m \u001b[38;5;28;01mdef\u001b[39;00m \u001b[38;5;21mload_record\u001b[39m(style: \u001b[38;5;28mstr\u001b[39m,\n\u001b[1;32m     19\u001b[0m                 model: Union[\u001b[38;5;28mstr\u001b[39m, DM, \u001b[38;5;28;01mNone\u001b[39;00m] \u001b[38;5;241m=\u001b[39m \u001b[38;5;28;01mNone\u001b[39;00m,\n\u001b[1;32m     20\u001b[0m                 name: Optional[\u001b[38;5;28mstr\u001b[39m] \u001b[38;5;241m=\u001b[39m \u001b[38;5;28;01mNone\u001b[39;00m,\n\u001b[1;32m     21\u001b[0m                 database \u001b[38;5;241m=\u001b[39m \u001b[38;5;28;01mNone\u001b[39;00m,\n\u001b[1;32m     22\u001b[0m                 \u001b[38;5;241m*\u001b[39m\u001b[38;5;241m*\u001b[39mkwargs) \u001b[38;5;241m-\u001b[39m\u001b[38;5;241m>\u001b[39m Record:\n\u001b[1;32m     23\u001b[0m \u001b[38;5;250m    \u001b[39m\u001b[38;5;124;03m\"\"\"\u001b[39;00m\n\u001b[1;32m     24\u001b[0m \u001b[38;5;124;03m    Loads a Record subclass associated with a given record style.\u001b[39;00m\n\u001b[1;32m     25\u001b[0m \n\u001b[0;32m   (...)\u001b[0m\n\u001b[1;32m     42\u001b[0m \u001b[38;5;124;03m        A Record object for the style\u001b[39;00m\n\u001b[1;32m     43\u001b[0m \u001b[38;5;124;03m    \"\"\"\u001b[39;00m\n\u001b[0;32m---> 44\u001b[0m     record \u001b[38;5;241m=\u001b[39m \u001b[43mrecordmanager\u001b[49m\u001b[38;5;241;43m.\u001b[39;49m\u001b[43minit\u001b[49m\u001b[43m(\u001b[49m\u001b[43mstyle\u001b[49m\u001b[43m,\u001b[49m\u001b[43m \u001b[49m\u001b[43mmodel\u001b[49m\u001b[38;5;241;43m=\u001b[39;49m\u001b[43mmodel\u001b[49m\u001b[43m,\u001b[49m\u001b[43m \u001b[49m\u001b[43mname\u001b[49m\u001b[38;5;241;43m=\u001b[39;49m\u001b[43mname\u001b[49m\u001b[43m,\u001b[49m\u001b[43m \u001b[49m\u001b[38;5;241;43m*\u001b[39;49m\u001b[38;5;241;43m*\u001b[39;49m\u001b[43mkwargs\u001b[49m\u001b[43m)\u001b[49m\n\u001b[1;32m     45\u001b[0m     \u001b[38;5;28;01mif\u001b[39;00m database \u001b[38;5;129;01mis\u001b[39;00m \u001b[38;5;129;01mnot\u001b[39;00m \u001b[38;5;28;01mNone\u001b[39;00m:\n\u001b[1;32m     46\u001b[0m         record\u001b[38;5;241m.\u001b[39mdatabase \u001b[38;5;241m=\u001b[39m database\n",
      "File \u001b[0;32m~/Python-packages/yabadaba/yabadaba/tools/ModuleManager.py:158\u001b[0m, in \u001b[0;36mModuleManager.init\u001b[0;34m(self, style, *args, **kwargs)\u001b[0m\n\u001b[1;32m    140\u001b[0m \u001b[38;5;250m\u001b[39m\u001b[38;5;124;03m\"\"\"\u001b[39;00m\n\u001b[1;32m    141\u001b[0m \u001b[38;5;124;03mInitializes an object of the given style.\u001b[39;00m\n\u001b[1;32m    142\u001b[0m \n\u001b[0;32m   (...)\u001b[0m\n\u001b[1;32m    155\u001b[0m \u001b[38;5;124;03m    The initialized object.\u001b[39;00m\n\u001b[1;32m    156\u001b[0m \u001b[38;5;124;03m\"\"\"\u001b[39;00m\n\u001b[1;32m    157\u001b[0m \u001b[38;5;28mself\u001b[39m\u001b[38;5;241m.\u001b[39massert_style(style)\n\u001b[0;32m--> 158\u001b[0m \u001b[38;5;28;01mreturn\u001b[39;00m \u001b[38;5;28;43mself\u001b[39;49m\u001b[38;5;241;43m.\u001b[39;49m\u001b[43mloaded_styles\u001b[49m\u001b[43m[\u001b[49m\u001b[43mstyle\u001b[49m\u001b[43m]\u001b[49m\u001b[43m(\u001b[49m\u001b[38;5;241;43m*\u001b[39;49m\u001b[43margs\u001b[49m\u001b[43m,\u001b[49m\u001b[43m \u001b[49m\u001b[38;5;241;43m*\u001b[39;49m\u001b[38;5;241;43m*\u001b[39;49m\u001b[43mkwargs\u001b[49m\u001b[43m)\u001b[49m\n",
      "File \u001b[0;32m~/Python-packages/yabadaba/yabadaba/record/Record.py:63\u001b[0m, in \u001b[0;36mRecord.__init__\u001b[0;34m(self, model, name, database, noname, value_objects, **kwargs)\u001b[0m\n\u001b[1;32m     60\u001b[0m \u001b[38;5;28mself\u001b[39m\u001b[38;5;241m.\u001b[39mnoname \u001b[38;5;241m=\u001b[39m noname\n\u001b[1;32m     62\u001b[0m \u001b[38;5;28mself\u001b[39m\u001b[38;5;241m.\u001b[39m__value_objects \u001b[38;5;241m=\u001b[39m \u001b[38;5;28;01mNone\u001b[39;00m\n\u001b[0;32m---> 63\u001b[0m \u001b[38;5;28mself\u001b[39m\u001b[38;5;241m.\u001b[39m__value_objects \u001b[38;5;241m=\u001b[39m \u001b[38;5;28mtuple\u001b[39m(\u001b[38;5;28;43mself\u001b[39;49m\u001b[38;5;241;43m.\u001b[39;49m\u001b[43m_init_value_objects\u001b[49m\u001b[43m(\u001b[49m\u001b[43m)\u001b[49m)\n\u001b[1;32m     65\u001b[0m \u001b[38;5;28;01mif\u001b[39;00m model \u001b[38;5;129;01mis\u001b[39;00m \u001b[38;5;129;01mnot\u001b[39;00m \u001b[38;5;28;01mNone\u001b[39;00m:\n\u001b[1;32m     66\u001b[0m     \u001b[38;5;28;01massert\u001b[39;00m \u001b[38;5;28mlen\u001b[39m(kwargs) \u001b[38;5;241m==\u001b[39m \u001b[38;5;241m0\u001b[39m, \u001b[38;5;124mf\u001b[39m\u001b[38;5;124m\"\u001b[39m\u001b[38;5;124mcannot specify kwargs with model: \u001b[39m\u001b[38;5;124m'\u001b[39m\u001b[38;5;132;01m{\u001b[39;00mkwargs\u001b[38;5;241m.\u001b[39mkeys()\u001b[38;5;132;01m}\u001b[39;00m\u001b[38;5;124m'\u001b[39m\u001b[38;5;124m\"\u001b[39m\n",
      "File \u001b[0;32m~/Python-packages/potentials/potentials/record/Action.py:176\u001b[0m, in \u001b[0;36mAction._init_value_objects\u001b[0;34m(self)\u001b[0m\n\u001b[1;32m    171\u001b[0m \u001b[38;5;28mself\u001b[39m\u001b[38;5;241m.\u001b[39m__date \u001b[38;5;241m=\u001b[39m load_value(\u001b[38;5;124m'\u001b[39m\u001b[38;5;124mdate\u001b[39m\u001b[38;5;124m'\u001b[39m, \u001b[38;5;124m'\u001b[39m\u001b[38;5;124mdate\u001b[39m\u001b[38;5;124m'\u001b[39m, \u001b[38;5;28mself\u001b[39m)\n\u001b[1;32m    172\u001b[0m \u001b[38;5;28mself\u001b[39m\u001b[38;5;241m.\u001b[39m__type \u001b[38;5;241m=\u001b[39m load_value(\u001b[38;5;124m'\u001b[39m\u001b[38;5;124mstr\u001b[39m\u001b[38;5;124m'\u001b[39m, \u001b[38;5;124m'\u001b[39m\u001b[38;5;124mtype\u001b[39m\u001b[38;5;124m'\u001b[39m, \u001b[38;5;28mself\u001b[39m,\n\u001b[1;32m    173\u001b[0m                          modelpath\u001b[38;5;241m=\u001b[39m\u001b[38;5;124m'\u001b[39m\u001b[38;5;124mgiven-name\u001b[39m\u001b[38;5;124m'\u001b[39m,\n\u001b[1;32m    174\u001b[0m                          allowedvalues\u001b[38;5;241m=\u001b[39m[\u001b[38;5;124m'\u001b[39m\u001b[38;5;124mnew posting\u001b[39m\u001b[38;5;124m'\u001b[39m, \u001b[38;5;124m'\u001b[39m\u001b[38;5;124mupdated posting\u001b[39m\u001b[38;5;124m'\u001b[39m,\n\u001b[1;32m    175\u001b[0m                                         \u001b[38;5;124m'\u001b[39m\u001b[38;5;124mretraction\u001b[39m\u001b[38;5;124m'\u001b[39m, \u001b[38;5;124m'\u001b[39m\u001b[38;5;124msite change\u001b[39m\u001b[38;5;124m'\u001b[39m])\n\u001b[0;32m--> 176\u001b[0m \u001b[38;5;28mself\u001b[39m\u001b[38;5;241m.\u001b[39m__potentials \u001b[38;5;241m=\u001b[39m \u001b[43mload_value\u001b[49m\u001b[43m(\u001b[49m\u001b[38;5;124;43m'\u001b[39;49m\u001b[38;5;124;43mrecord\u001b[39;49m\u001b[38;5;124;43m'\u001b[39;49m\u001b[43m,\u001b[49m\u001b[43m \u001b[49m\u001b[38;5;124;43m'\u001b[39;49m\u001b[38;5;124;43mpotentials\u001b[39;49m\u001b[38;5;124;43m'\u001b[39;49m\u001b[43m,\u001b[49m\u001b[43m \u001b[49m\u001b[38;5;28;43mself\u001b[39;49m\u001b[43m,\u001b[49m\n\u001b[1;32m    177\u001b[0m \u001b[43m                               \u001b[49m\u001b[43mrecordclass\u001b[49m\u001b[38;5;241;43m=\u001b[39;49m\u001b[43mPotInfo\u001b[49m\u001b[43m,\u001b[49m\n\u001b[1;32m    178\u001b[0m \u001b[43m                               \u001b[49m\u001b[43mmodelpath\u001b[49m\u001b[38;5;241;43m=\u001b[39;49m\u001b[38;5;124;43m'\u001b[39;49m\u001b[38;5;124;43mpotential\u001b[39;49m\u001b[38;5;124;43m'\u001b[39;49m\u001b[43m)\u001b[49m\n\u001b[1;32m    179\u001b[0m \u001b[38;5;28mself\u001b[39m\u001b[38;5;241m.\u001b[39m__comment \u001b[38;5;241m=\u001b[39m load_value(\u001b[38;5;124m'\u001b[39m\u001b[38;5;124mlongstr\u001b[39m\u001b[38;5;124m'\u001b[39m, \u001b[38;5;124m'\u001b[39m\u001b[38;5;124mcomment\u001b[39m\u001b[38;5;124m'\u001b[39m, \u001b[38;5;28mself\u001b[39m)\n\u001b[1;32m    181\u001b[0m value_objects\u001b[38;5;241m.\u001b[39mextend([\u001b[38;5;28mself\u001b[39m\u001b[38;5;241m.\u001b[39m__date, \u001b[38;5;28mself\u001b[39m\u001b[38;5;241m.\u001b[39m__type, \u001b[38;5;28mself\u001b[39m\u001b[38;5;241m.\u001b[39m__potentials,\n\u001b[1;32m    182\u001b[0m                       \u001b[38;5;28mself\u001b[39m\u001b[38;5;241m.\u001b[39m__comment])\n",
      "File \u001b[0;32m~/Python-packages/yabadaba/yabadaba/value/__init__.py:75\u001b[0m, in \u001b[0;36mload_value\u001b[0;34m(style, name, record, defaultvalue, valuerequired, allowedvalues, metadatakey, metadataparent, modelpath, **kwargs)\u001b[0m\n\u001b[1;32m     28\u001b[0m \u001b[38;5;28;01mdef\u001b[39;00m \u001b[38;5;21mload_value\u001b[39m(style: \u001b[38;5;28mstr\u001b[39m,\n\u001b[1;32m     29\u001b[0m                name: Optional[\u001b[38;5;28mstr\u001b[39m] \u001b[38;5;241m=\u001b[39m \u001b[38;5;28;01mNone\u001b[39;00m,\n\u001b[1;32m     30\u001b[0m                record: Optional[\u001b[38;5;28mstr\u001b[39m] \u001b[38;5;241m=\u001b[39m \u001b[38;5;28;01mNone\u001b[39;00m,\n\u001b[0;32m   (...)\u001b[0m\n\u001b[1;32m     36\u001b[0m                modelpath: Optional[\u001b[38;5;28mstr\u001b[39m] \u001b[38;5;241m=\u001b[39m \u001b[38;5;28;01mNone\u001b[39;00m,\n\u001b[1;32m     37\u001b[0m                \u001b[38;5;241m*\u001b[39m\u001b[38;5;241m*\u001b[39mkwargs) \u001b[38;5;241m-\u001b[39m\u001b[38;5;241m>\u001b[39m Value:\n\u001b[1;32m     38\u001b[0m \u001b[38;5;250m    \u001b[39m\u001b[38;5;124;03m\"\"\"\u001b[39;00m\n\u001b[1;32m     39\u001b[0m \u001b[38;5;124;03m    Loads a Value subclass associated with a given value style.\u001b[39;00m\n\u001b[1;32m     40\u001b[0m \n\u001b[0;32m   (...)\u001b[0m\n\u001b[1;32m     73\u001b[0m \u001b[38;5;124;03m        Any additional style-specific keyword parameters.\u001b[39;00m\n\u001b[1;32m     74\u001b[0m \u001b[38;5;124;03m    \"\"\"\u001b[39;00m\n\u001b[0;32m---> 75\u001b[0m     \u001b[38;5;28;01mreturn\u001b[39;00m \u001b[43mvaluemanager\u001b[49m\u001b[38;5;241;43m.\u001b[39;49m\u001b[43minit\u001b[49m\u001b[43m(\u001b[49m\u001b[43mstyle\u001b[49m\u001b[43m,\u001b[49m\u001b[43m \u001b[49m\u001b[43mname\u001b[49m\u001b[38;5;241;43m=\u001b[39;49m\u001b[43mname\u001b[49m\u001b[43m,\u001b[49m\u001b[43m \u001b[49m\u001b[43mrecord\u001b[49m\u001b[38;5;241;43m=\u001b[39;49m\u001b[43mrecord\u001b[49m\u001b[43m,\u001b[49m\u001b[43m \u001b[49m\n\u001b[1;32m     76\u001b[0m \u001b[43m                             \u001b[49m\u001b[43mdefaultvalue\u001b[49m\u001b[38;5;241;43m=\u001b[39;49m\u001b[43mdefaultvalue\u001b[49m\u001b[43m,\u001b[49m\n\u001b[1;32m     77\u001b[0m \u001b[43m                             \u001b[49m\u001b[43mvaluerequired\u001b[49m\u001b[38;5;241;43m=\u001b[39;49m\u001b[43mvaluerequired\u001b[49m\u001b[43m,\u001b[49m\n\u001b[1;32m     78\u001b[0m \u001b[43m                             \u001b[49m\u001b[43mallowedvalues\u001b[49m\u001b[38;5;241;43m=\u001b[39;49m\u001b[43mallowedvalues\u001b[49m\u001b[43m,\u001b[49m\n\u001b[1;32m     79\u001b[0m \u001b[43m                             \u001b[49m\u001b[43mmetadatakey\u001b[49m\u001b[38;5;241;43m=\u001b[39;49m\u001b[43mmetadatakey\u001b[49m\u001b[43m,\u001b[49m\n\u001b[1;32m     80\u001b[0m \u001b[43m                             \u001b[49m\u001b[43mmetadataparent\u001b[49m\u001b[38;5;241;43m=\u001b[39;49m\u001b[43mmetadataparent\u001b[49m\u001b[43m,\u001b[49m\n\u001b[1;32m     81\u001b[0m \u001b[43m                             \u001b[49m\u001b[43mmodelpath\u001b[49m\u001b[38;5;241;43m=\u001b[39;49m\u001b[43mmodelpath\u001b[49m\u001b[43m,\u001b[49m\u001b[43m \u001b[49m\u001b[38;5;241;43m*\u001b[39;49m\u001b[38;5;241;43m*\u001b[39;49m\u001b[43mkwargs\u001b[49m\u001b[43m)\u001b[49m\n",
      "File \u001b[0;32m~/Python-packages/yabadaba/yabadaba/tools/ModuleManager.py:158\u001b[0m, in \u001b[0;36mModuleManager.init\u001b[0;34m(self, style, *args, **kwargs)\u001b[0m\n\u001b[1;32m    140\u001b[0m \u001b[38;5;250m\u001b[39m\u001b[38;5;124;03m\"\"\"\u001b[39;00m\n\u001b[1;32m    141\u001b[0m \u001b[38;5;124;03mInitializes an object of the given style.\u001b[39;00m\n\u001b[1;32m    142\u001b[0m \n\u001b[0;32m   (...)\u001b[0m\n\u001b[1;32m    155\u001b[0m \u001b[38;5;124;03m    The initialized object.\u001b[39;00m\n\u001b[1;32m    156\u001b[0m \u001b[38;5;124;03m\"\"\"\u001b[39;00m\n\u001b[1;32m    157\u001b[0m \u001b[38;5;28mself\u001b[39m\u001b[38;5;241m.\u001b[39massert_style(style)\n\u001b[0;32m--> 158\u001b[0m \u001b[38;5;28;01mreturn\u001b[39;00m \u001b[38;5;28;43mself\u001b[39;49m\u001b[38;5;241;43m.\u001b[39;49m\u001b[43mloaded_styles\u001b[49m\u001b[43m[\u001b[49m\u001b[43mstyle\u001b[49m\u001b[43m]\u001b[49m\u001b[43m(\u001b[49m\u001b[38;5;241;43m*\u001b[39;49m\u001b[43margs\u001b[49m\u001b[43m,\u001b[49m\u001b[43m \u001b[49m\u001b[38;5;241;43m*\u001b[39;49m\u001b[38;5;241;43m*\u001b[39;49m\u001b[43mkwargs\u001b[49m\u001b[43m)\u001b[49m\n",
      "File \u001b[0;32m~/Python-packages/yabadaba/yabadaba/record/RecordValue.py:65\u001b[0m, in \u001b[0;36mRecordValue.__init__\u001b[0;34m(self, name, record, recordclass, defaultvalue, valuerequired, allowedvalues, metadatakey, metadataparent, modelpath)\u001b[0m\n\u001b[1;32m     63\u001b[0m \u001b[38;5;28;01melse\u001b[39;00m:\n\u001b[1;32m     64\u001b[0m     \u001b[38;5;28;01mraise\u001b[39;00m \u001b[38;5;167;01mTypeError\u001b[39;00m(\u001b[38;5;124m'\u001b[39m\u001b[38;5;124minvalid recordclass: should be a Record class or string record style\u001b[39m\u001b[38;5;124m'\u001b[39m)\n\u001b[0;32m---> 65\u001b[0m \u001b[38;5;28mself\u001b[39m\u001b[38;5;241m.\u001b[39m__emptyrecord \u001b[38;5;241m=\u001b[39m \u001b[38;5;28;43mself\u001b[39;49m\u001b[38;5;241;43m.\u001b[39;49m\u001b[43mrecordclass\u001b[49m\u001b[43m(\u001b[49m\u001b[43mnoname\u001b[49m\u001b[38;5;241;43m=\u001b[39;49m\u001b[38;5;28;43;01mTrue\u001b[39;49;00m\u001b[43m)\u001b[49m\n\u001b[1;32m     67\u001b[0m \u001b[38;5;28msuper\u001b[39m()\u001b[38;5;241m.\u001b[39m\u001b[38;5;21m__init__\u001b[39m(name, record, defaultvalue\u001b[38;5;241m=\u001b[39mdefaultvalue,\n\u001b[1;32m     68\u001b[0m                  valuerequired\u001b[38;5;241m=\u001b[39mvaluerequired, allowedvalues\u001b[38;5;241m=\u001b[39mallowedvalues,\n\u001b[1;32m     69\u001b[0m                  metadatakey\u001b[38;5;241m=\u001b[39mmetadatakey, metadataparent\u001b[38;5;241m=\u001b[39mmetadataparent,\n\u001b[1;32m     70\u001b[0m                  modelpath\u001b[38;5;241m=\u001b[39mmodelpath)\n",
      "File \u001b[0;32m~/Python-packages/yabadaba/yabadaba/record/Record.py:63\u001b[0m, in \u001b[0;36mRecord.__init__\u001b[0;34m(self, model, name, database, noname, value_objects, **kwargs)\u001b[0m\n\u001b[1;32m     60\u001b[0m \u001b[38;5;28mself\u001b[39m\u001b[38;5;241m.\u001b[39mnoname \u001b[38;5;241m=\u001b[39m noname\n\u001b[1;32m     62\u001b[0m \u001b[38;5;28mself\u001b[39m\u001b[38;5;241m.\u001b[39m__value_objects \u001b[38;5;241m=\u001b[39m \u001b[38;5;28;01mNone\u001b[39;00m\n\u001b[0;32m---> 63\u001b[0m \u001b[38;5;28mself\u001b[39m\u001b[38;5;241m.\u001b[39m__value_objects \u001b[38;5;241m=\u001b[39m \u001b[38;5;28mtuple\u001b[39m(\u001b[38;5;28;43mself\u001b[39;49m\u001b[38;5;241;43m.\u001b[39;49m\u001b[43m_init_value_objects\u001b[49m\u001b[43m(\u001b[49m\u001b[43m)\u001b[49m)\n\u001b[1;32m     65\u001b[0m \u001b[38;5;28;01mif\u001b[39;00m model \u001b[38;5;129;01mis\u001b[39;00m \u001b[38;5;129;01mnot\u001b[39;00m \u001b[38;5;28;01mNone\u001b[39;00m:\n\u001b[1;32m     66\u001b[0m     \u001b[38;5;28;01massert\u001b[39;00m \u001b[38;5;28mlen\u001b[39m(kwargs) \u001b[38;5;241m==\u001b[39m \u001b[38;5;241m0\u001b[39m, \u001b[38;5;124mf\u001b[39m\u001b[38;5;124m\"\u001b[39m\u001b[38;5;124mcannot specify kwargs with model: \u001b[39m\u001b[38;5;124m'\u001b[39m\u001b[38;5;132;01m{\u001b[39;00mkwargs\u001b[38;5;241m.\u001b[39mkeys()\u001b[38;5;132;01m}\u001b[39;00m\u001b[38;5;124m'\u001b[39m\u001b[38;5;124m\"\u001b[39m\n",
      "File \u001b[0;32m~/Python-packages/potentials/potentials/record/Action.py:67\u001b[0m, in \u001b[0;36mPotInfo._init_value_objects\u001b[0;34m(self)\u001b[0m\n\u001b[1;32m     64\u001b[0m \u001b[38;5;28mself\u001b[39m\u001b[38;5;241m.\u001b[39m__id \u001b[38;5;241m=\u001b[39m load_value(\u001b[38;5;124m'\u001b[39m\u001b[38;5;124mstr\u001b[39m\u001b[38;5;124m'\u001b[39m, \u001b[38;5;124m'\u001b[39m\u001b[38;5;124mpotential_id\u001b[39m\u001b[38;5;124m'\u001b[39m, \u001b[38;5;28mself\u001b[39m,\n\u001b[1;32m     65\u001b[0m                        modelpath\u001b[38;5;241m=\u001b[39m\u001b[38;5;124m'\u001b[39m\u001b[38;5;124mid\u001b[39m\u001b[38;5;124m'\u001b[39m, metadatakey\u001b[38;5;241m=\u001b[39m\u001b[38;5;124m'\u001b[39m\u001b[38;5;124mid\u001b[39m\u001b[38;5;124m'\u001b[39m)\n\u001b[1;32m     66\u001b[0m \u001b[38;5;28mself\u001b[39m\u001b[38;5;241m.\u001b[39m__dois \u001b[38;5;241m=\u001b[39m load_value(\u001b[38;5;124m'\u001b[39m\u001b[38;5;124mstrlist\u001b[39m\u001b[38;5;124m'\u001b[39m, \u001b[38;5;124m'\u001b[39m\u001b[38;5;124mdois\u001b[39m\u001b[38;5;124m'\u001b[39m, \u001b[38;5;28mself\u001b[39m)\n\u001b[0;32m---> 67\u001b[0m \u001b[38;5;28mself\u001b[39m\u001b[38;5;241m.\u001b[39m__fictional \u001b[38;5;241m=\u001b[39m \u001b[43mload_value\u001b[49m\u001b[43m(\u001b[49m\u001b[38;5;124;43m'\u001b[39;49m\u001b[38;5;124;43mlist_contains\u001b[39;49m\u001b[38;5;124;43m'\u001b[39;49m\u001b[43m,\u001b[49m\u001b[43m \u001b[49m\u001b[38;5;124;43m'\u001b[39;49m\u001b[38;5;124;43mfictional\u001b[39;49m\u001b[38;5;124;43m'\u001b[39;49m\u001b[43m,\u001b[49m\u001b[43m \u001b[49m\u001b[38;5;28;43mself\u001b[39;49m\u001b[43m,\u001b[49m\n\u001b[1;32m     68\u001b[0m \u001b[43m                              \u001b[49m\u001b[43mmodelpath\u001b[49m\u001b[38;5;241;43m=\u001b[39;49m\u001b[38;5;124;43m'\u001b[39;49m\u001b[38;5;124;43mfictional-element\u001b[39;49m\u001b[38;5;124;43m'\u001b[39;49m\u001b[43m)\u001b[49m\n\u001b[1;32m     69\u001b[0m \u001b[38;5;28mself\u001b[39m\u001b[38;5;241m.\u001b[39m__elements \u001b[38;5;241m=\u001b[39m load_value(\u001b[38;5;124m'\u001b[39m\u001b[38;5;124mlist_contains\u001b[39m\u001b[38;5;124m'\u001b[39m, \u001b[38;5;124m'\u001b[39m\u001b[38;5;124melements\u001b[39m\u001b[38;5;124m'\u001b[39m, \u001b[38;5;28mself\u001b[39m)\n\u001b[1;32m     70\u001b[0m \u001b[38;5;28mself\u001b[39m\u001b[38;5;241m.\u001b[39m__othername \u001b[38;5;241m=\u001b[39m load_value(\u001b[38;5;124m'\u001b[39m\u001b[38;5;124mstr\u001b[39m\u001b[38;5;124m'\u001b[39m, \u001b[38;5;124m'\u001b[39m\u001b[38;5;124mothername\u001b[39m\u001b[38;5;124m'\u001b[39m, \u001b[38;5;28mself\u001b[39m,\n\u001b[1;32m     71\u001b[0m                               modelpath\u001b[38;5;241m=\u001b[39m\u001b[38;5;124m'\u001b[39m\u001b[38;5;124mother-element\u001b[39m\u001b[38;5;124m'\u001b[39m)\n",
      "File \u001b[0;32m~/Python-packages/yabadaba/yabadaba/value/__init__.py:75\u001b[0m, in \u001b[0;36mload_value\u001b[0;34m(style, name, record, defaultvalue, valuerequired, allowedvalues, metadatakey, metadataparent, modelpath, **kwargs)\u001b[0m\n\u001b[1;32m     28\u001b[0m \u001b[38;5;28;01mdef\u001b[39;00m \u001b[38;5;21mload_value\u001b[39m(style: \u001b[38;5;28mstr\u001b[39m,\n\u001b[1;32m     29\u001b[0m                name: Optional[\u001b[38;5;28mstr\u001b[39m] \u001b[38;5;241m=\u001b[39m \u001b[38;5;28;01mNone\u001b[39;00m,\n\u001b[1;32m     30\u001b[0m                record: Optional[\u001b[38;5;28mstr\u001b[39m] \u001b[38;5;241m=\u001b[39m \u001b[38;5;28;01mNone\u001b[39;00m,\n\u001b[0;32m   (...)\u001b[0m\n\u001b[1;32m     36\u001b[0m                modelpath: Optional[\u001b[38;5;28mstr\u001b[39m] \u001b[38;5;241m=\u001b[39m \u001b[38;5;28;01mNone\u001b[39;00m,\n\u001b[1;32m     37\u001b[0m                \u001b[38;5;241m*\u001b[39m\u001b[38;5;241m*\u001b[39mkwargs) \u001b[38;5;241m-\u001b[39m\u001b[38;5;241m>\u001b[39m Value:\n\u001b[1;32m     38\u001b[0m \u001b[38;5;250m    \u001b[39m\u001b[38;5;124;03m\"\"\"\u001b[39;00m\n\u001b[1;32m     39\u001b[0m \u001b[38;5;124;03m    Loads a Value subclass associated with a given value style.\u001b[39;00m\n\u001b[1;32m     40\u001b[0m \n\u001b[0;32m   (...)\u001b[0m\n\u001b[1;32m     73\u001b[0m \u001b[38;5;124;03m        Any additional style-specific keyword parameters.\u001b[39;00m\n\u001b[1;32m     74\u001b[0m \u001b[38;5;124;03m    \"\"\"\u001b[39;00m\n\u001b[0;32m---> 75\u001b[0m     \u001b[38;5;28;01mreturn\u001b[39;00m \u001b[43mvaluemanager\u001b[49m\u001b[38;5;241;43m.\u001b[39;49m\u001b[43minit\u001b[49m\u001b[43m(\u001b[49m\u001b[43mstyle\u001b[49m\u001b[43m,\u001b[49m\u001b[43m \u001b[49m\u001b[43mname\u001b[49m\u001b[38;5;241;43m=\u001b[39;49m\u001b[43mname\u001b[49m\u001b[43m,\u001b[49m\u001b[43m \u001b[49m\u001b[43mrecord\u001b[49m\u001b[38;5;241;43m=\u001b[39;49m\u001b[43mrecord\u001b[49m\u001b[43m,\u001b[49m\u001b[43m \u001b[49m\n\u001b[1;32m     76\u001b[0m \u001b[43m                             \u001b[49m\u001b[43mdefaultvalue\u001b[49m\u001b[38;5;241;43m=\u001b[39;49m\u001b[43mdefaultvalue\u001b[49m\u001b[43m,\u001b[49m\n\u001b[1;32m     77\u001b[0m \u001b[43m                             \u001b[49m\u001b[43mvaluerequired\u001b[49m\u001b[38;5;241;43m=\u001b[39;49m\u001b[43mvaluerequired\u001b[49m\u001b[43m,\u001b[49m\n\u001b[1;32m     78\u001b[0m \u001b[43m                             \u001b[49m\u001b[43mallowedvalues\u001b[49m\u001b[38;5;241;43m=\u001b[39;49m\u001b[43mallowedvalues\u001b[49m\u001b[43m,\u001b[49m\n\u001b[1;32m     79\u001b[0m \u001b[43m                             \u001b[49m\u001b[43mmetadatakey\u001b[49m\u001b[38;5;241;43m=\u001b[39;49m\u001b[43mmetadatakey\u001b[49m\u001b[43m,\u001b[49m\n\u001b[1;32m     80\u001b[0m \u001b[43m                             \u001b[49m\u001b[43mmetadataparent\u001b[49m\u001b[38;5;241;43m=\u001b[39;49m\u001b[43mmetadataparent\u001b[49m\u001b[43m,\u001b[49m\n\u001b[1;32m     81\u001b[0m \u001b[43m                             \u001b[49m\u001b[43mmodelpath\u001b[49m\u001b[38;5;241;43m=\u001b[39;49m\u001b[43mmodelpath\u001b[49m\u001b[43m,\u001b[49m\u001b[43m \u001b[49m\u001b[38;5;241;43m*\u001b[39;49m\u001b[38;5;241;43m*\u001b[39;49m\u001b[43mkwargs\u001b[49m\u001b[43m)\u001b[49m\n",
      "File \u001b[0;32m~/Python-packages/yabadaba/yabadaba/tools/ModuleManager.py:157\u001b[0m, in \u001b[0;36mModuleManager.init\u001b[0;34m(self, style, *args, **kwargs)\u001b[0m\n\u001b[1;32m    136\u001b[0m \u001b[38;5;28;01mdef\u001b[39;00m \u001b[38;5;21minit\u001b[39m(\u001b[38;5;28mself\u001b[39m,\n\u001b[1;32m    137\u001b[0m          style: \u001b[38;5;28mstr\u001b[39m,\n\u001b[1;32m    138\u001b[0m          \u001b[38;5;241m*\u001b[39margs,\n\u001b[1;32m    139\u001b[0m          \u001b[38;5;241m*\u001b[39m\u001b[38;5;241m*\u001b[39mkwargs):\n\u001b[1;32m    140\u001b[0m \u001b[38;5;250m    \u001b[39m\u001b[38;5;124;03m\"\"\"\u001b[39;00m\n\u001b[1;32m    141\u001b[0m \u001b[38;5;124;03m    Initializes an object of the given style.\u001b[39;00m\n\u001b[1;32m    142\u001b[0m \n\u001b[0;32m   (...)\u001b[0m\n\u001b[1;32m    155\u001b[0m \u001b[38;5;124;03m        The initialized object.\u001b[39;00m\n\u001b[1;32m    156\u001b[0m \u001b[38;5;124;03m    \"\"\"\u001b[39;00m\n\u001b[0;32m--> 157\u001b[0m     \u001b[38;5;28;43mself\u001b[39;49m\u001b[38;5;241;43m.\u001b[39;49m\u001b[43massert_style\u001b[49m\u001b[43m(\u001b[49m\u001b[43mstyle\u001b[49m\u001b[43m)\u001b[49m\n\u001b[1;32m    158\u001b[0m     \u001b[38;5;28;01mreturn\u001b[39;00m \u001b[38;5;28mself\u001b[39m\u001b[38;5;241m.\u001b[39mloaded_styles[style](\u001b[38;5;241m*\u001b[39margs, \u001b[38;5;241m*\u001b[39m\u001b[38;5;241m*\u001b[39mkwargs)\n",
      "File \u001b[0;32m~/Python-packages/yabadaba/yabadaba/tools/ModuleManager.py:116\u001b[0m, in \u001b[0;36mModuleManager.assert_style\u001b[0;34m(self, style)\u001b[0m\n\u001b[1;32m    114\u001b[0m     \u001b[38;5;28;01mraise\u001b[39;00m \u001b[38;5;167;01mImportError\u001b[39;00m(\u001b[38;5;124mf\u001b[39m\u001b[38;5;124m'\u001b[39m\u001b[38;5;132;01m{\u001b[39;00m\u001b[38;5;28mself\u001b[39m\u001b[38;5;241m.\u001b[39mparentname\u001b[38;5;132;01m}\u001b[39;00m\u001b[38;5;124m style \u001b[39m\u001b[38;5;132;01m{\u001b[39;00mstyle\u001b[38;5;132;01m}\u001b[39;00m\u001b[38;5;124m failed import: \u001b[39m\u001b[38;5;132;01m{\u001b[39;00m\u001b[38;5;28mself\u001b[39m\u001b[38;5;241m.\u001b[39mfailed_styles[style]\u001b[38;5;132;01m}\u001b[39;00m\u001b[38;5;124m'\u001b[39m)\n\u001b[1;32m    115\u001b[0m \u001b[38;5;28;01melif\u001b[39;00m style \u001b[38;5;129;01mnot\u001b[39;00m \u001b[38;5;129;01min\u001b[39;00m \u001b[38;5;28mself\u001b[39m\u001b[38;5;241m.\u001b[39mloaded_style_names:\n\u001b[0;32m--> 116\u001b[0m     \u001b[38;5;28;01mraise\u001b[39;00m \u001b[38;5;167;01mKeyError\u001b[39;00m(\u001b[38;5;124mf\u001b[39m\u001b[38;5;124m'\u001b[39m\u001b[38;5;124mUnknown \u001b[39m\u001b[38;5;132;01m{\u001b[39;00m\u001b[38;5;28mself\u001b[39m\u001b[38;5;241m.\u001b[39mparentname\u001b[38;5;132;01m}\u001b[39;00m\u001b[38;5;124m style \u001b[39m\u001b[38;5;132;01m{\u001b[39;00mstyle\u001b[38;5;132;01m}\u001b[39;00m\u001b[38;5;124m'\u001b[39m)\n",
      "\u001b[0;31mKeyError\u001b[0m: 'Unknown Value style list_contains'"
     ]
    }
   ],
   "source": [
    "action = potentials.load_record('Action',\n",
    "    type = 'new posting',\n",
    "    potentials = complete_potentials,\n",
    "    #date = datetime.date(2021, 10, 26),\n",
    "    comment = \"New potential for Fe-H\",\n",
    ")"
   ]
  },
  {
   "cell_type": "markdown",
   "metadata": {},
   "source": [
    "#### Option #2: updated posting(s)"
   ]
  },
  {
   "cell_type": "code",
   "execution_count": 39,
   "metadata": {},
   "outputs": [],
   "source": [
    "action = potentials.load_record('Action',\n",
    "    type = 'updated posting',\n",
    "    potentials = complete_potentials,\n",
    "    date = None,\n",
    "    comment = 'New version added that fixes the atomic mass of H',\n",
    ")"
   ]
  },
  {
   "cell_type": "markdown",
   "metadata": {},
   "source": [
    "#### Option #3: retraction"
   ]
  },
  {
   "cell_type": "code",
   "execution_count": null,
   "metadata": {},
   "outputs": [],
   "source": [
    "action = potentials.load_record('Action',\n",
    "    type = 'retraction',\n",
    "    potentials = complete_potentials,\n",
    "    date = None,        \n",
    "    comment =,\n",
    ")"
   ]
  },
  {
   "cell_type": "markdown",
   "metadata": {},
   "source": [
    "#### Option #4: site change"
   ]
  },
  {
   "cell_type": "code",
   "execution_count": null,
   "metadata": {},
   "outputs": [],
   "source": [
    "action = potentials.load_record('Action',\n",
    "    type = 'site change',\n",
    "    date = None,\n",
    "    comment = 'IDs added for all non-LAMMPS implementations. The handling of fictional potentials made consistent with \"real\" potentials.',\n",
    "    potentials = []\n",
    ")"
   ]
  },
  {
   "cell_type": "markdown",
   "metadata": {},
   "source": [
    "### 5.2 Look and save"
   ]
  },
  {
   "cell_type": "code",
   "execution_count": 33,
   "metadata": {
    "tags": []
   },
   "outputs": [
    {
     "data": {
      "text/html": [
       "<div xmlns=\"http://www.w3.org/TR/xhtml1/strict\"><b>new posting (2024-08-27): </b>New pace potential for hydrocarbons <ul><li><a href=\"https://www.ctcms.nist.gov/potentials/entry/2024--Willman-J-T-Perriot-R-Ticknor-C--C-H\">2024--Willman-J-T-Perriot-R-Ticknor-C--C-H</a></li></ul></div>"
      ],
      "text/plain": [
       "<IPython.core.display.HTML object>"
      ]
     },
     "metadata": {},
     "output_type": "display_data"
    }
   ],
   "source": [
    "action.build_model()\n",
    "action.html(render=True)"
   ]
  },
  {
   "cell_type": "code",
   "execution_count": 34,
   "metadata": {
    "tags": []
   },
   "outputs": [
    {
     "name": "stdout",
     "output_type": "stream",
     "text": [
      "Action record named 2024-08-27 New pace potential for hydrocarbons added to https://potentials.nist.gov/\n",
      "Action record named 2024-08-27 New pace potential for hydrocarbons assigned to workspace Global Public Workspace\n"
     ]
    }
   ],
   "source": [
    "db.upload_action(action, workspace=workspace, overwrite=True, verbose=True)"
   ]
  },
  {
   "cell_type": "markdown",
   "metadata": {},
   "source": [
    "- - -\n",
    "\n",
    "## 6. Requests\n",
    "\n",
    "Requests are used by the website to list when people are looking for specific models that we don't have."
   ]
  },
  {
   "cell_type": "markdown",
   "metadata": {},
   "source": [
    "### 6.1 Build request"
   ]
  },
  {
   "cell_type": "code",
   "execution_count": 42,
   "metadata": {
    "tags": []
   },
   "outputs": [],
   "source": [
    "request = potentials.load_record(\n",
    "    'Request',\n",
    "    #comment = 'for WS2 films',\n",
    "    #date = datetime.date(2022, 11, 1),\n",
    "    systems = [\n",
    "        {\n",
    "        #    'formula': 'KNbO3',\n",
    "            'elements': ['W','Co', 'C'],\n",
    "        },\n",
    "        #{\n",
    "        #    'formula': 'RbNbO3',\n",
    "        #    'elements': ['Rb', 'Nb', 'O'],\n",
    "        #},\n",
    "    ]\n",
    ")\n"
   ]
  },
  {
   "cell_type": "markdown",
   "metadata": {},
   "source": [
    "### 6.2 Look and save"
   ]
  },
  {
   "cell_type": "code",
   "execution_count": 43,
   "metadata": {
    "tags": []
   },
   "outputs": [
    {
     "data": {
      "text/html": [
       "<div xmlns=\"http://www.w3.org/TR/xhtml1/strict\"><b>W-Co-C  </b> (2024-03-21)</div>"
      ],
      "text/plain": [
       "<IPython.core.display.HTML object>"
      ]
     },
     "metadata": {},
     "output_type": "display_data"
    }
   ],
   "source": [
    "request.build_model()\n",
    "display(HTML(request.html()))"
   ]
  },
  {
   "cell_type": "code",
   "execution_count": 44,
   "metadata": {
    "tags": []
   },
   "outputs": [
    {
     "name": "stdout",
     "output_type": "stream",
     "text": [
      "Request record named 2024-03-21 W Co C added to https://potentials.nist.gov/\n",
      "Request record named 2024-03-21 W Co C assigned to workspace Global Public Workspace\n"
     ]
    }
   ],
   "source": [
    "db.upload_request(request, workspace=workspace, overwrite=True, verbose=True)"
   ]
  },
  {
   "cell_type": "markdown",
   "metadata": {},
   "source": [
    "## 7. Related models"
   ]
  },
  {
   "cell_type": "code",
   "execution_count": 105,
   "metadata": {
    "tags": []
   },
   "outputs": [],
   "source": [
    "import json\n",
    "\n",
    "def add_related_models(localpath, interaction, model1, model2):\n",
    "    \n",
    "    with open(Path(localpath, 'site/related-interactions.json')) as f:\n",
    "        related_models = json.load(f)\n",
    "    \n",
    "    # If no shared models for that interaction yet\n",
    "    if interaction not in related_models:\n",
    "        print('new interaction')\n",
    "        related_models[interaction] = [[model1, model2]]\n",
    "            \n",
    "    else:\n",
    "        int_models = related_models[interaction]\n",
    "        \n",
    "        # Search for set with one of the elements\n",
    "        match = False\n",
    "        for i in range(len(int_models)):\n",
    "            modelset = int_models[i]\n",
    "            if model1 in modelset:\n",
    "                if match is False:\n",
    "                    match = i\n",
    "                else:\n",
    "                    raise ValueError('given models found in multiple sets!')\n",
    "            if model2 in modelset:\n",
    "                if match is False or match == i:\n",
    "                    match = i\n",
    "                else:\n",
    "                    raise ValueError('given models found in multiple sets!')\n",
    "                    \n",
    "        if match is False:\n",
    "            print('new set')\n",
    "            int_models.append(sorted([model1, model2]))\n",
    "        else:\n",
    "            if model1 not in int_models[match]:\n",
    "                int_models[match] = sorted(int_models[match] + [model1])\n",
    "                print('model1 added to existing set')\n",
    "            elif model2 not in int_models[match]:\n",
    "                int_models[match] = sorted(int_models[match] + [model2])\n",
    "                print('model2 added to existing set')\n",
    "            else:\n",
    "                print('both models already in existing set')\n",
    "    \n",
    "    with open(Path(localpath, 'site/related-interactions.json'), 'w') as f:\n",
    "        json.dump(related_models, fp=f)"
   ]
  },
  {
   "cell_type": "code",
   "execution_count": 111,
   "metadata": {
    "tags": []
   },
   "outputs": [
    {
     "name": "stdout",
     "output_type": "stream",
     "text": [
      "model2 added to existing set\n"
     ]
    }
   ],
   "source": [
    "interaction = 'Ni'\n",
    "model1 = '2022--Mendelev-M-I--Ni-Al'\n",
    "model2 = '2024--Mendelev-M-I--Ni-Al-Cr'\n",
    "machine = 'desktop'\n",
    "\n",
    "if machine == 'desktop':\n",
    "    localpath = Path('F:/website/IPR-website/potentials/')\n",
    "elif machine == 'laptop':\n",
    "    localpath = Path('C:/Users/lmh1/Documents/website/IPR-website/potentials/')\n",
    "\n",
    "add_related_models(localpath, interaction, model1, model2)"
   ]
  },
  {
   "cell_type": "code",
   "execution_count": null,
   "metadata": {},
   "outputs": [],
   "source": []
  }
 ],
 "metadata": {
  "kernelspec": {
   "display_name": "Python 311",
   "language": "python",
   "name": "py11"
  },
  "language_info": {
   "codemirror_mode": {
    "name": "ipython",
    "version": 3
   },
   "file_extension": ".py",
   "mimetype": "text/x-python",
   "name": "python",
   "nbconvert_exporter": "python",
   "pygments_lexer": "ipython3",
   "version": "3.11.5"
  }
 },
 "nbformat": 4,
 "nbformat_minor": 4
}
