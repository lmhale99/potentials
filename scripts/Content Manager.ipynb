{
 "cells": [
  {
   "cell_type": "markdown",
   "metadata": {},
   "source": [
    "# Interatomic Potential Repository Content Manager\n",
    "\n",
    "This is a working Notebook providing a single location for adding and modifying content in the potentials.nist.gov database.\n",
    "\n",
    "Notebook outline:\n",
    "\n",
    "0. Setup: Python library imports and defining global parameters.\n",
    "\n",
    "1. Citations: Load, add and modify citation information associated with potential models. Each potential should have at least one citation, with the first being the \"primary\" one for generating IDs. For unpublished potentials, use the unpublished citation option.\n",
    "\n",
    "2. Potentials: Load, add and modify potential information.  A \"potential\" should be a unique parameterization with an associated citation. Note that saving to the database is done in step #4.\n",
    "\n",
    "3. Implementations: Load, add and modify the implementations of a potential. An \"implementation\" is a specific version/representation of a potential in a specific format. Each potential can have zero, one or multiple implementations.\n",
    "\n",
    "4. Save potentials: Review the new/modified potentials and save the content to the database.\n",
    "\n",
    "5. Actions: Actions are used to list changes to the repository. If a potential is added/modified, a corresponding action should also be added.\n",
    "\n",
    "6. Requests: A request is listed on the repository whenever someone asks for a model that we do not have."
   ]
  },
  {
   "cell_type": "markdown",
   "metadata": {},
   "source": [
    "## 0. Setup"
   ]
  },
  {
   "cell_type": "markdown",
   "metadata": {},
   "source": [
    "### Library imports"
   ]
  },
  {
   "cell_type": "code",
   "execution_count": 1,
   "metadata": {
    "tags": []
   },
   "outputs": [],
   "source": [
    "import uuid\n",
    "import datetime\n",
    "import shutil\n",
    "from pathlib import Path\n",
    "import socket\n",
    "\n",
    "import potentials\n",
    "from potentials.record.PotentialLAMMPS import PotentialLAMMPS\n",
    "\n",
    "import numpy as np\n",
    "import pandas as pd\n",
    "\n",
    "# Jupyter display libraries\n",
    "from IPython.display import display, HTML"
   ]
  },
  {
   "cell_type": "markdown",
   "metadata": {},
   "source": [
    "### Global parameters\n",
    "\n",
    "- __complete_potentials__ is a compiled list of the potentials whose addition/changes were uploaded to the database.  This is used by step #5 for reporting website changes.  This should be reset after creating an Action for meaningful sets of potentials.\n",
    "\n",
    "- __db__ is the Database object for accessing and uploading records to the database.  remote_name accesses the saved \"potentials\" settings, which has sign-in info for https://potentials.nist.gov.\n",
    "\n",
    "- __workspace__ is the workspace to assign to the uploaded records.  If None, then they are only accessible to the submitter until the workspace is changed.  If 'Global Public Workspace', anyone can see the records after uploading."
   ]
  },
  {
   "cell_type": "code",
   "execution_count": 2,
   "metadata": {
    "tags": []
   },
   "outputs": [],
   "source": [
    "complete_potentials = []"
   ]
  },
  {
   "cell_type": "code",
   "execution_count": 3,
   "metadata": {
    "tags": []
   },
   "outputs": [],
   "source": [
    "db = potentials.Database(local=True, remote=True, remote_name='potentials')"
   ]
  },
  {
   "cell_type": "code",
   "execution_count": 4,
   "metadata": {
    "tags": []
   },
   "outputs": [],
   "source": [
    "workspace = 'Global Public Workspace'"
   ]
  },
  {
   "cell_type": "markdown",
   "metadata": {},
   "source": [
    "- - -\n",
    "\n",
    "## 1. Citations"
   ]
  },
  {
   "cell_type": "markdown",
   "metadata": {},
   "source": [
    "### 1.1 Build or load citation"
   ]
  },
  {
   "cell_type": "markdown",
   "metadata": {},
   "source": [
    "#### Option #1: For existing citations and/or new dois"
   ]
  },
  {
   "cell_type": "code",
   "execution_count": 5,
   "metadata": {
    "tags": []
   },
   "outputs": [
    {
     "name": "stdout",
     "output_type": "stream",
     "text": [
      "Citation retrieved from CrossRef\n"
     ]
    }
   ],
   "source": [
    "doi = '10.1021/acsanm.5c01892'\n",
    "\n",
    "citation = db.fetch_citation(doi, verbose=True)"
   ]
  },
  {
   "cell_type": "markdown",
   "metadata": {},
   "source": [
    "#### Option #2: For new doi-less citations"
   ]
  },
  {
   "cell_type": "code",
   "execution_count": 7,
   "metadata": {
    "tags": []
   },
   "outputs": [
    {
     "name": "stdout",
     "output_type": "stream",
     "text": [
      "{\n",
      "    \"citation\": {\n",
      "        \"document-type\": \"journal\",\n",
      "        \"title\": \"Angular-dependent interatomic potential for large-scale atomistic simulation of W-Mo-Nb ternary alloys\",\n",
      "        \"author\": [\n",
      "            {\n",
      "                \"given-name\": \"S\",\n",
      "                \"surname\": \"Starikov\"\n",
      "            },\n",
      "            {\n",
      "                \"given-name\": \"P\",\n",
      "                \"surname\": \"Grigorev\"\n",
      "            },\n",
      "            {\n",
      "                \"given-name\": \"P\",\n",
      "                \"surname\": \"Olsson\"\n",
      "            }\n",
      "        ],\n",
      "        \"publication-date\": {\n",
      "            \"year\": 2024\n",
      "        },\n",
      "        \"abstract\": \"We present a new classical interatomic potential designed for simulation of the W-Mo-Nb system. The angular-dependent format of the potential allows for reproduction of many important properties of pure metals and complex concentrated alloys with good accuracy. Special attention during the development and validation of the potential was paid to the description of vacancies, screw dislocations and planar defects, as well as thermo-mechanical properties. Here, the applicability of the developed model is demonstrated by studying the temperature dependence of the elastic moduli and average atomic displacement in pure metals and concentrated alloys up to the melting point.\",\n",
      "        \"pages\": \"accepted\",\n",
      "        \"bibtex\": \"@article{2024--Starikov-S-Grigorev-P-Olsson-P,\\n author = {Starikov, S and Grigorev, P and Olsson, P},\\n pages = {accepted},\\n title = {Angular-dependent interatomic potential for large-scale atomistic simulation of W-Mo-Nb ternary alloys},\\n year = {2024}\\n}\\n\"\n",
      "    }\n",
      "}\n"
     ]
    }
   ],
   "source": [
    "# This is the general case for a DOI-less citation\n",
    "\n",
    "citation = potentials.load_record(\n",
    "    'Citation',\n",
    "\n",
    "    # Select doctype\n",
    "    doctype = 'journal',\n",
    "    #doctype = 'book',\n",
    "    #doctype = 'report'\n",
    "    #doctype = 'thesis',\n",
    "    #doctype = 'conference proceedings',\n",
    "    #doctype = 'unspecified',\n",
    "\n",
    "    # Fill in metadata (except for authors)              \n",
    "    title = 'Angular-dependent interatomic potential for large-scale atomistic simulation of W-Mo-Nb ternary alloys',\n",
    "    author = 'S. Starikov and P. Grigorev and P. Olsson',\n",
    "    year = 2024,\n",
    "    journal = 'Computational Materials Science',\n",
    "    pages = 'accepted',\n",
    "    abstract=' '.join(['We present a new classical interatomic potential designed for simulation of',\n",
    "                       'the W-Mo-Nb system. The angular-dependent format of the potential allows',\n",
    "                       'for reproduction of many important properties of pure metals and complex',\n",
    "                       'concentrated alloys with good accuracy. Special attention during the development',\n",
    "                       'and validation of the potential was paid to the description of vacancies,',\n",
    "                       'screw dislocations and planar defects, as well as thermo-mechanical',\n",
    "                       'properties. Here, the applicability of the developed model is demonstrated',\n",
    "                       'by studying the temperature dependence of the elastic moduli and average',\n",
    "                       'atomic displacement in pure metals and concentrated alloys up to the melting point.'])\n",
    ")\n",
    "\n",
    "# Add author info\n",
    "citation.add_author(givenname = 'S',  surname = 'Starikov',  suffix = None)\n",
    "citation.add_author(givenname = 'P',  surname = 'Grigorev',  suffix = None)\n",
    "citation.add_author(givenname = 'P',  surname = 'Olsson',  suffix = None)\n",
    "\n",
    "citation.name = citation.year_authors\n",
    "citation.build_model()\n",
    "print(citation.model.json(indent=4))"
   ]
  },
  {
   "cell_type": "code",
   "execution_count": 9,
   "metadata": {
    "tags": []
   },
   "outputs": [
    {
     "data": {
      "text/plain": [
       "DataModelDict([('citation',\n",
       "                DataModelDict([('document-type', 'unspecified'),\n",
       "                               ('title', 'to be published'),\n",
       "                               ('author',\n",
       "                                DataModelDict([('given-name', 'M.I.'),\n",
       "                                               ('surname', 'Mendelev')])),\n",
       "                               ('publication-date',\n",
       "                                DataModelDict([('year', 2024)])),\n",
       "                               ('bibtex',\n",
       "                                '@unpublished{2024--Mendelev-M-I,\\n author = {Mendelev, M.I.},\\n title = {to be published},\\n year = {2024}\\n}\\n')]))])"
      ]
     },
     "execution_count": 9,
     "metadata": {},
     "output_type": "execute_result"
    }
   ],
   "source": [
    "# This is the specific case for an unpublished potential (usually from Mendelev)\n",
    "\n",
    "citation = potentials.load_record(\n",
    "    'Citation',\n",
    "    name = '2024--Mendelev-M-I--Ni-Co-Cr',\n",
    "    doctype = 'unspecified',    \n",
    "    title = 'to be published',\n",
    "    year = 2024,\n",
    ")\n",
    "\n",
    "citation.add_author(givenname = 'M.I.',  surname = 'Mendelev',  suffix = None)\n",
    "\n",
    "citation.build_model()"
   ]
  },
  {
   "cell_type": "markdown",
   "metadata": {},
   "source": [
    "#### Option #3: From local directory"
   ]
  },
  {
   "cell_type": "code",
   "execution_count": null,
   "metadata": {},
   "outputs": [],
   "source": [
    "libdir = Path('E:/website/LAMMPS potentials/2nn/biblib')\n",
    "\n",
    "citations = []\n",
    "for bibfile in libdir.glob('*.bib'):\n",
    "    with open(bibfile, encoding='UTF-8') as f:\n",
    "        citations.append(potentials.load_record('Citation', model=f.read()))"
   ]
  },
  {
   "cell_type": "markdown",
   "metadata": {},
   "source": [
    "#### Option #4: From currently loaded potentials"
   ]
  },
  {
   "cell_type": "code",
   "execution_count": null,
   "metadata": {},
   "outputs": [],
   "source": [
    "#citation = complete_potentials[0].citations[0]\n",
    "#print(citation.year_authors)"
   ]
  },
  {
   "cell_type": "markdown",
   "metadata": {},
   "source": [
    "### 1.2 Investigate and modify\n",
    "\n",
    "- Add abstract\n",
    "\n",
    "- Check and replace garbled latex or other symbols in authors, title and abstract\n",
    "\n",
    "- Verify correct year and page number(s)"
   ]
  },
  {
   "cell_type": "markdown",
   "metadata": {},
   "source": [
    "#### 1.2.1 Generate html and list content fields"
   ]
  },
  {
   "cell_type": "code",
   "execution_count": 6,
   "metadata": {
    "tags": []
   },
   "outputs": [
    {
     "name": "stdout",
     "output_type": "stream",
     "text": [
      "2025--Oliveira-D-S-Kuritza-D-P-Zavarize-M-et-al\n",
      "10.1021_acsanm.5c01892\n",
      "\n"
     ]
    },
    {
     "data": {
      "text/html": [
       "<div><div class=\"citation\"><b>Citation: </b>D.S. Oliveira, D.P. Kuritza, M. Zavarize, J.E. Padilha, and M.A. Cotta (2025), \"Atomistic Modeling of Gap Nanowire Growth and Heat Transport via Interatomic Potential: Implications for Thermoelectric Applications\", <i>ACS Applied Nano Materials</i>, . DOI: <a href=\"https://doi.org/10.1021/acsanm.5c01892\" class=\"external\">10.1021/acsanm.5c01892</a>.<br/></div></div>"
      ],
      "text/plain": [
       "<IPython.core.display.HTML object>"
      ]
     },
     "metadata": {},
     "output_type": "display_data"
    },
    {
     "name": "stdout",
     "output_type": "stream",
     "text": [
      "\n",
      "ID: 2025--Oliveira-D-S-Kuritza-D-P-Zavarize-M-et-al\n",
      "ENTRYTYPE: article\n",
      "author: Oliveira, D.S. and Kuritza, D.P. and Zavarize, M. and Padilha, J.E. and Cotta, M.A.\n",
      "title: Atomistic Modeling of Gap Nanowire Growth and Heat Transport via Interatomic Potential: Implications for Thermoelectric Applications\n",
      "journal: ACS Applied Nano Materials\n",
      "year: 2025\n",
      "month: June\n",
      "doi: 10.1021/acsanm.5c01892\n"
     ]
    }
   ],
   "source": [
    "print(citation.year_authors)\n",
    "print(citation.name)\n",
    "print()\n",
    "citation.html(render=True)\n",
    "print()\n",
    "for key, value in citation.bibdict.items():\n",
    "    print(key+':', value)"
   ]
  },
  {
   "cell_type": "markdown",
   "metadata": {},
   "source": [
    "#### 1.2.2 Modify and update fields\n",
    "\n",
    "Any valid bibtex fields can be added, but citation rendering relies only on the primary fields. "
   ]
  },
  {
   "cell_type": "code",
   "execution_count": 7,
   "metadata": {
    "tags": []
   },
   "outputs": [
    {
     "name": "stdout",
     "output_type": "stream",
     "text": [
      "2025--Oliveira-D-S-Kuritza-D-P-Zavarize-M-et-al\n",
      "10.1021_acsanm.5c01892\n",
      "\n"
     ]
    },
    {
     "data": {
      "text/html": [
       "<div><div class=\"citation\"><b>Citation: </b>D.S. Oliveira, D.P. Kuritza, M. Zavarize, J.E. Padilha, and M.A. Cotta (2025), \"Atomistic Modeling of Gap Nanowire Growth and Heat Transport via Interatomic Potential: Implications for Thermoelectric Applications\", <i>ACS Applied Nano Materials</i>, . DOI: <a href=\"https://doi.org/10.1021/acsanm.5c01892\" class=\"external\">10.1021/acsanm.5c01892</a>.<br/></div><div class=\"abstract\"><b>Abstract: </b>Atomistic simulations of gallium phosphide (GaP) nanomaterials are limited by the absence of reliable and publicly available interatomic potentials. In this work, we develop and parametrize a classical angular-dependent potential for GaP based on force-matching against density functional theory reference data, enabling accurate large-scale simulations of GaP-based nanoscale systems. The developed potential effectively reproduces essential structural, elastic, and energetic properties of bulk GaP in both zinc-blende and wurtzite phases, despite some deviations from experimental reference values. Through molecular dynamics simulations, we demonstrate the potential&#8217;s ability to describe key aspects of self-catalyzed vapor&#8211;liquid&#8211;solid growth in GaP nanowires, such as nucleation dynamics, temperature stability limits, and the influence of catalyst geometry. Furthermore, thermal transport simulations reveal that the model accurately captures qualitative trends regarding the impact of nanostructure size and surface morphology on thermal conductivity. Additionally, we investigate thermal rectification effects in telescopic GaP nanowires, observing measurable heat-flow asymmetries. These findings provide insights into phonon engineering strategies at the nanoscale, highlighting the relevance of GaP nanostructures for next-generation thermoelectric applications. The interatomic potential presented here will be made publicly available, offering a valuable computational tool for future investigations of GaP nanomaterials.</div></div>"
      ],
      "text/plain": [
       "<IPython.core.display.HTML object>"
      ]
     },
     "metadata": {},
     "output_type": "display_data"
    }
   ],
   "source": [
    "#citation.title = 'General-purpose neural network interatomic potential for the 𝛼-iron and hydrogen binary system: Toward atomic-scale understanding of hydrogen embrittlement'\n",
    "citation.abstract = ' '.join([\n",
    "    \"Atomistic simulations of gallium phosphide (GaP) nanomaterials are limited by the absence of reliable and publicly available interatomic potentials. In this work, we develop\",\n",
    "    \"and parametrize a classical angular-dependent potential for GaP based on force-matching against density functional theory reference data, enabling accurate large-scale\",\n",
    "    \"simulations of GaP-based nanoscale systems. The developed potential effectively reproduces essential structural, elastic, and energetic properties of bulk GaP in both\",\n",
    "    \"zinc-blende and wurtzite phases, despite some deviations from experimental reference values. Through molecular dynamics simulations, we demonstrate the potential’s ability\",\n",
    "    \"to describe key aspects of self-catalyzed vapor–liquid–solid growth in GaP nanowires, such as nucleation dynamics, temperature stability limits, and the influence of catalyst\",\n",
    "    \"geometry. Furthermore, thermal transport simulations reveal that the model accurately captures qualitative trends regarding the impact of nanostructure size and surface\",\n",
    "    \"morphology on thermal conductivity. Additionally, we investigate thermal rectification effects in telescopic GaP nanowires, observing measurable heat-flow asymmetries. These\",\n",
    "    \"findings provide insights into phonon engineering strategies at the nanoscale, highlighting the relevance of GaP nanostructures for next-generation thermoelectric\",\n",
    "    \"applications. The interatomic potential presented here will be made publicly available, offering a valuable computational tool for future investigations of GaP nanomaterials.\"])\n",
    "#citation.pages = '063601'\n",
    "\n",
    "citation.build_bibtex()\n",
    "citation.build_model()\n",
    "print(citation.year_authors)\n",
    "print(citation.name)\n",
    "print()\n",
    "citation.html(render=True)"
   ]
  },
  {
   "cell_type": "code",
   "execution_count": 55,
   "metadata": {
    "tags": []
   },
   "outputs": [
    {
     "name": "stdout",
     "output_type": "stream",
     "text": [
      "2025--Oliveira-D-S-Kuritza-D-P-Zavarize-M-et-al\n",
      "10.1021_acsanm.5c01892\n",
      "\n"
     ]
    },
    {
     "data": {
      "text/html": [
       "<div><div class=\"citation\"><b>Citation: </b>D.S. Oliveira, D.P. Kuritza, M. Zavarize, J.E. Padilha, and M.A. Cotta (2025), \"Atomistic Modeling of GaP Nanowire Growth and Heat Transport via Interatomic Potential: Implications for Thermoelectric Applications\", <i>ACS Applied Nano Materials</i>, <b>8</b>, 13340-13348. DOI: <a href=\"https://doi.org/10.1021/acsanm.5c01892\" class=\"external\">10.1021/acsanm.5c01892</a>.<br/></div><div class=\"abstract\"><b>Abstract: </b>Atomistic simulations of gallium phosphide (GaP) nanomaterials are limited by the absence of reliable and publicly available interatomic potentials. In this work, we develop and parametrize a classical angular-dependent potential for GaP based on force-matching against density functional theory reference data, enabling accurate large-scale simulations of GaP-based nanoscale systems. The developed potential effectively reproduces essential structural, elastic, and energetic properties of bulk GaP in both zinc-blende and wurtzite phases, despite some deviations from experimental reference values. Through molecular dynamics simulations, we demonstrate the potential&#8217;s ability to describe key aspects of self-catalyzed vapor&#8211;liquid&#8211;solid growth in GaP nanowires, such as nucleation dynamics, temperature stability limits, and the influence of catalyst geometry. Furthermore, thermal transport simulations reveal that the model accurately captures qualitative trends regarding the impact of nanostructure size and surface morphology on thermal conductivity. Additionally, we investigate thermal rectification effects in telescopic GaP nanowires, observing measurable heat-flow asymmetries. These findings provide insights into phonon engineering strategies at the nanoscale, highlighting the relevance of GaP nanostructures for next-generation thermoelectric applications. The interatomic potential presented here will be made publicly available, offering a valuable computational tool for future investigations of GaP nanomaterials.</div></div>"
      ],
      "text/plain": [
       "<IPython.core.display.HTML object>"
      ]
     },
     "metadata": {},
     "output_type": "display_data"
    }
   ],
   "source": [
    "#citation.title = 'Atomistic Modeling of GaP Nanowire Growth and Heat Transport via Interatomic Potential: Implications for Thermoelectric Applications'\n",
    "citation.pages = '13340-13348'\n",
    "citation.volume = '8'\n",
    "citation.build_bibtex()\n",
    "citation.build_model()\n",
    "print(citation.year_authors)\n",
    "print(citation.name)\n",
    "print()\n",
    "citation.html(render=True)"
   ]
  },
  {
   "cell_type": "markdown",
   "metadata": {},
   "source": [
    "#### 1.2.3 Review and Save Citation"
   ]
  },
  {
   "cell_type": "code",
   "execution_count": 56,
   "metadata": {
    "tags": []
   },
   "outputs": [
    {
     "name": "stdout",
     "output_type": "stream",
     "text": [
      "Citation record named 10.1021_acsanm.5c01892 updated in C:\\Users\\lmh1\\Documents\\library\n",
      "Citation record named 10.1021_acsanm.5c01892 updated in https://potentials.nist.gov/\n",
      "Citation record named 10.1021_acsanm.5c01892 assigned to workspace Global Public Workspace\n"
     ]
    }
   ],
   "source": [
    "db.save_citation(citation, overwrite=True, verbose=True)\n",
    "db.upload_citation(citation, workspace=workspace, overwrite=True, verbose=True)"
   ]
  },
  {
   "cell_type": "code",
   "execution_count": 6,
   "metadata": {
    "tags": []
   },
   "outputs": [
    {
     "name": "stdout",
     "output_type": "stream",
     "text": [
      "Citation record named 10.1063_5.0139010 deleted from https://potentials.nist.gov/\n"
     ]
    }
   ],
   "source": [
    "#db.delete_citation(citation, local=True, remote=True, verbose=True)"
   ]
  },
  {
   "cell_type": "code",
   "execution_count": 10,
   "metadata": {
    "tags": []
   },
   "outputs": [],
   "source": [
    "citations = []"
   ]
  },
  {
   "cell_type": "code",
   "execution_count": 11,
   "metadata": {
    "tags": []
   },
   "outputs": [],
   "source": [
    "citations.append(citation)"
   ]
  },
  {
   "cell_type": "markdown",
   "metadata": {},
   "source": [
    "- - -\n",
    "\n",
    "## 2. Potentials"
   ]
  },
  {
   "cell_type": "markdown",
   "metadata": {},
   "source": [
    "### 2.1 Build or load potential"
   ]
  },
  {
   "cell_type": "markdown",
   "metadata": {},
   "source": [
    "#### Option #1: Build new potential using citation(s)\n",
    "\n",
    "- __elements__ (*list*) The element models used by the potential.\n",
    "- __citations__ (*list*) The citation(s) to associate with the potential.\n",
    "- __notes__ (*str, optional*) Notes providing more information on the potential, such as usage notes and how the potential relates to other potentials.\n",
    "- __key__ (*str, optional*) UUID4 key to assign to the potential.  If None, a new key will be generated.\n",
    "- __othername__ (*str, optional*) Specifies an alternate description of the interactions besides the list of elements.  Examples include if the model is \"universal\", designed for a specific compound, or is a coarse-grain representation.\n",
    "- __fictional__ (*bool, optional*) Flag indicating if the model is \"fictional\", i.e. purposefully fit to unrealistic properties. \n",
    "- __modelname__ (*str, optional*) Used if citation + element info is not enough to create a unique ID, e.g. a publication lists multiple parameterizations of the same element. The value should make it clear which version it is associated with, and correspond to how the authors refer to it when possible.\n",
    "- __recorddate__ (*datetime.date, optional*) Date to assign to the record.  If not given, will use today's date."
   ]
  },
  {
   "cell_type": "code",
   "execution_count": 12,
   "metadata": {
    "tags": []
   },
   "outputs": [],
   "source": [
    "potential = potentials.load_record(\n",
    "    'Potential',\n",
    "    \n",
    "    elements = ['Ga', 'P'],\n",
    "    #fictionalelements = ['Al'],\n",
    "    #othername = Ge60Se40',\n",
    "    #modelname='1',  DOESN'T DO ANYTHING AT THE MOMENT!!!!!\n",
    "    #recorddate=datetime.date(2019, 12, 24)\n",
    "    \n",
    "    \n",
    "    #notes = ' '.join([\n",
    "    #    'Fan-Shun Meng notes that \"This potential was designed for the general purpose usage of the 𝛼-Fe-H binary system. Additionally, the potential also can be used for pure 𝛼-Fe. To',\n",
    "    #    'use the potential in LAMMPS, the pair_style of hdnnp should be adopted, and the package of ML-HDNNP should be compiled(see ML-HDNNP documentation).\"'\n",
    "    #]),\n",
    ")\n",
    "\n",
    "potential.citations.extend(citations)\n",
    "potential.name = potential.defaultname\n",
    "potential.url = f'https://potentials.nist.gov/pid/rest/local/potentials/{potential.name}'\n",
    "\n",
    "potential.build_model()\n",
    "None"
   ]
  },
  {
   "cell_type": "markdown",
   "metadata": {},
   "source": [
    "#### Option #2: Select existing potential"
   ]
  },
  {
   "cell_type": "code",
   "execution_count": 5,
   "metadata": {
    "tags": []
   },
   "outputs": [
    {
     "name": "stdout",
     "output_type": "stream",
     "text": [
      "Matching record retrieved from local\n"
     ]
    }
   ],
   "source": [
    "potential = db.get_potential(name='potential.2022--Hiremath-P-Melin-S-Bitzek-E-Olsson-P-A-T--W', verbose=True)"
   ]
  },
  {
   "cell_type": "code",
   "execution_count": 6,
   "metadata": {
    "tags": []
   },
   "outputs": [],
   "source": [
    "complete_potentials.append(potential)"
   ]
  },
  {
   "cell_type": "code",
   "execution_count": 52,
   "metadata": {
    "tags": []
   },
   "outputs": [
    {
     "name": "stdout",
     "output_type": "stream",
     "text": [
      "Potential record named potential.2021--Arora-G-Bonny-G-Castin-N-Aidhy-D-S--Ni-Fe-Cr-Pd deleted from C:\\Users\\lmh1\\Documents\\library\n",
      "Potential record named potential.2021--Arora-G-Bonny-G-Castin-N-Aidhy-D-S--Ni-Fe-Cr-Pd deleted from https://potentials.nist.gov/\n"
     ]
    }
   ],
   "source": [
    "#db.delete_potential(potential, local=True, remote=True, verbose=True)"
   ]
  },
  {
   "cell_type": "markdown",
   "metadata": {},
   "source": [
    "#### Option #3: Get currently loaded potential"
   ]
  },
  {
   "cell_type": "code",
   "execution_count": null,
   "metadata": {},
   "outputs": [],
   "source": [
    "#potential = complete_potentials[1]\n",
    "#print(potential.name)"
   ]
  },
  {
   "cell_type": "markdown",
   "metadata": {},
   "source": [
    "### 2.2 Investigate and modify"
   ]
  },
  {
   "cell_type": "markdown",
   "metadata": {},
   "source": [
    "#### 2.2.1 Generate html and list content fields"
   ]
  },
  {
   "cell_type": "code",
   "execution_count": 49,
   "metadata": {
    "tags": []
   },
   "outputs": [
    {
     "data": {
      "text/html": [
       "<div xmlns=\"http://www.w3.org/TR/xhtml1/strict\"><script src=\"https://www.ctcms.nist.gov/potentials/site/showFiles.js\">//</script><div class=\"panel panel-default\"><div class=\"panel-heading\"><h3 class=\"panel-title\">2025--Oliveira-D-S-Kuritza-D-P-Zavarize-M-et-al--Ga-P</h3></div><div class=\"panel-body\"><div class=\"citation\"><b>Citation: </b>D.S. Oliveira, D.P. Kuritza, M. Zavarize, J.E. Padilha, and M.A. Cotta (2025), \"Atomistic Modeling of Gap Nanowire Growth and Heat Transport via Interatomic Potential: Implications for Thermoelectric Applications\", <i>ACS Applied Nano Materials</i>, . DOI: <a href=\"https://doi.org/10.1021/acsanm.5c01892\" class=\"external\">10.1021/acsanm.5c01892</a>.<br/></div><div class=\"abstract\"><b>Abstract: </b>Atomistic simulations of gallium phosphide (GaP) nanomaterials are limited by the absence of reliable and publicly available interatomic potentials. In this work, we develop and parametrize a classical angular-dependent potential for GaP based on force-matching against density functional theory reference data, enabling accurate large-scale simulations of GaP-based nanoscale systems. The developed potential effectively reproduces essential structural, elastic, and energetic properties of bulk GaP in both zinc-blende and wurtzite phases, despite some deviations from experimental reference values. Through molecular dynamics simulations, we demonstrate the potential&#8217;s ability to describe key aspects of self-catalyzed vapor&#8211;liquid&#8211;solid growth in GaP nanowires, such as nucleation dynamics, temperature stability limits, and the influence of catalyst geometry. Furthermore, thermal transport simulations reveal that the model accurately captures qualitative trends regarding the impact of nanostructure size and surface morphology on thermal conductivity. Additionally, we investigate thermal rectification effects in telescopic GaP nanowires, observing measurable heat-flow asymmetries. These findings provide insights into phonon engineering strategies at the nanoscale, highlighting the relevance of GaP nanostructures for next-generation thermoelectric applications. The interatomic potential presented here will be made publicly available, offering a valuable computational tool for future investigations of GaP nanomaterials.</div><br/><div class=\"description-notes\"><b>Notes: </b>Prof. Dr. Douglas Soares Oliveira notes \"This ADP potential was developed to simulate the vapor&#8722;liquid&#8722;solid growth of self-catalyzed GaP nanowires, as well as their thermal transport properties. It performs well in zinc-blende and wurtzite phases and has been validated against DFT for energies, forces, and phonon behavior. However, it is not recommended for simulations involving highly strained configurations or extremely high temperatures, as these conditions were not extensively included in the training dataset. It should not be used for simulations involving interatomic distances below 1.8 &#197;, as the fitting was optimized for larger distances. A cutoff radius of 6 &#197; was used in the parametrization.\"</div><br/><div class=\"format\"><b>LAMMPS pair_style adp</b><a href=\"https://www.ctcms.nist.gov/potentials/entry/2025--Oliveira-D-S-Kuritza-D-P-Zavarize-M-et-al--Ga-P/2025--Oliveira-D-S--Ga-P--LAMMPS--ipr1.html\"> (2025--Oliveira-D-S--Ga-P--LAMMPS--ipr1)</a></div><div class=\"implementation-notes\"><a href=\"https://www.ctcms.nist.gov/potentials/entry/2025--Oliveira-D-S-Kuritza-D-P-Zavarize-M-et-al--Ga-P/2025--Oliveira-D-S--Ga-P--LAMMPS--ipr1.html\"><b>See Computed Properties</b></a><br/><b>Notes: </b>This file was provided by Douglas Soares Oliveira on June 25, 2025.<br/><b>File(s): </b><div id=\"0d130438-d1fb-4d1c-9b49-8e3207b84a6f\" style=\"display:block\"><a href=\"https://www.ctcms.nist.gov/potentials/Download/2025--Oliveira-D-S-Kuritza-D-P-Zavarize-M-et-al--Ga-P/1/GaP.lammps\">GaP.lammps</a><br/></div><br/></div></div></div></div>"
      ],
      "text/plain": [
       "<IPython.core.display.HTML object>"
      ]
     },
     "metadata": {},
     "output_type": "display_data"
    }
   ],
   "source": [
    "potential.html(render=True)"
   ]
  },
  {
   "cell_type": "markdown",
   "metadata": {},
   "source": [
    "#### 2.2.2 Modify and update fields\n",
    "\n",
    "Same fields as above"
   ]
  },
  {
   "cell_type": "code",
   "execution_count": 50,
   "metadata": {
    "tags": []
   },
   "outputs": [
    {
     "data": {
      "text/plain": [
       "'Atomistic Modeling of GaP Nanowire Growth and Heat Transport via Interatomic Potential: Implications for Thermoelectric Applications'"
      ]
     },
     "execution_count": 50,
     "metadata": {},
     "output_type": "execute_result"
    }
   ],
   "source": [
    "potential.citations[0].title"
   ]
  },
  {
   "cell_type": "code",
   "execution_count": 15,
   "metadata": {
    "tags": []
   },
   "outputs": [],
   "source": [
    "#potential.key = \n",
    "#potential.recorddate = datetime.date()\n",
    "#potential.elements = []\n",
    "#potential.othername = 'water'\n",
    "#potential.fictional = \n",
    "#potential.modelname = \n",
    "potential.notes = ' '.join(['Prof. Dr. Douglas Soares Oliveira notes \"This ADP potential was developed to simulate the vapor−liquid−solid growth of self-catalyzed GaP nanowires, as well as',\n",
    "                            'their thermal transport properties. It performs well in zinc-blende and wurtzite phases and has been validated against DFT for energies, forces, and phonon',\n",
    "                            'behavior. However, it is not recommended for simulations involving highly strained configurations or extremely high temperatures, as these conditions were not',\n",
    "                            'extensively included in the training dataset. It should not be used for simulations involving interatomic distances below 1.8 Å, as the fitting was optimized',\n",
    "                            'for larger distances. A cutoff radius of 6 Å was used in the parametrization.\"'])\n",
    "#potential.notes = ' '.join(['The fitting procedure for this potential involved developing all included unary, binary and ternary systems so it can be used for any alloy',\n",
    "#                            'subset. This potential focuses on the structural analysis of alloys including shear strength and elastic constants, dislocation dynamics and',\n",
    "#                            'their impact on alloy strength, and the analysis of defect effects, such as voids, on material properties. However, the potential was not optimized',\n",
    "#                            'for temperature-dependent properties and was not fit to density, thermal expansion coefficients, or thermal conductivity data. More details on the fitting',\n",
    "#                            \"and properties can be found in the paper and the paper's supplementary materials\"])\n",
    "#potential.notes += ' The associated publication has a supplementary information document which includes thorough testing of library appropriateness of liquid properties, and comments and analyses on numerical stability and convergence'\n",
    "#potential.notes += '\"'\n",
    "#potential.citations[0] = citation\n",
    "#potential.name = f'potential.{potential.id}'\n",
    "potential.build_model()\n",
    "None"
   ]
  },
  {
   "cell_type": "markdown",
   "metadata": {},
   "source": [
    "## 3. Implementations"
   ]
  },
  {
   "cell_type": "markdown",
   "metadata": {},
   "source": [
    "### 3.1 List all current implementation types\n",
    "\n",
    "List is given to help keep type values (relatively) uniform. Only needs to be called after new types have been added."
   ]
  },
  {
   "cell_type": "code",
   "execution_count": 19,
   "metadata": {},
   "outputs": [
    {
     "name": "stdout",
     "output_type": "stream",
     "text": [
      "All existing implementation types:\n",
      "    ADP tabulated functions\n",
      "    ASE calculator\n",
      "    Dynamo MEAM\n",
      "    EAM setfl\n",
      "    EAM tabulated functions\n",
      "    Equations\n",
      "    FORTRAN\n",
      "    Finnis-Sinclair tables\n",
      "    GAP\n",
      "    GULP\n",
      "    IMD option EAM\n",
      "    LAMMPS pair_style MEAM\n",
      "    LAMMPS pair_style adp\n",
      "    LAMMPS pair_style aenet (custom)\n",
      "    LAMMPS pair_style agni\n",
      "    LAMMPS pair_style bop\n",
      "    LAMMPS pair_style comb3\n",
      "    LAMMPS pair_style eam\n",
      "    LAMMPS pair_style eam/alloy\n",
      "    LAMMPS pair_style eam/cd\n",
      "    LAMMPS pair_style eam/fs\n",
      "    LAMMPS pair_style eam/he\n",
      "    LAMMPS pair_style edip\n",
      "    LAMMPS pair_style edip/multi\n",
      "    LAMMPS pair_style eim\n",
      "    LAMMPS pair_style extep\n",
      "    LAMMPS pair_style hybrid table linear 1000 eam/alloy\n",
      "    LAMMPS pair_style hybrid/overlay eam/alloy eam/fs\n",
      "    LAMMPS pair_style hybrid/overlay zbl eam/alloy\n",
      "    LAMMPS pair_style hybrid/overlay zbl snap\n",
      "    LAMMPS pair_style lcbop\n",
      "    LAMMPS pair_style meam\n",
      "    LAMMPS pair_style meam (modified)\n",
      "    LAMMPS pair_style meam/spline\n",
      "    LAMMPS pair_style pace\n",
      "    LAMMPS pair_style pinn\n",
      "    LAMMPS pair_style polymorphic\n",
      "    LAMMPS pair_style rann\n",
      "    LAMMPS pair_style rann (modified)\n",
      "    LAMMPS pair_style ream (custom)\n",
      "    LAMMPS pair_style reax/c\n",
      "    LAMMPS pair_style reaxff\n",
      "    LAMMPS pair_style sw\n",
      "    LAMMPS pair_style table\n",
      "    LAMMPS pair_style tersoff\n",
      "    LAMMPS pair_style tersoff/mod\n",
      "    LAMMPS pair_style tersoff/mod/c\n",
      "    LAMMPS pair_style tersoff/zbl\n",
      "    LAMMPS pair_style vashishta\n",
      "    MEAM parameters\n",
      "    MEAM splines\n",
      "    Moldy FS\n",
      "    MoldyPSI\n",
      "    OpenKIM\n",
      "    ReaxFF\n",
      "    SPaSM\n",
      "    deepmd-kit\n",
      "    hybrid/overlay coul/streitz meam\n"
     ]
    }
   ],
   "source": [
    "pots = db.get_potentials(remote=False)\n",
    "imptypes = []\n",
    "for pot in pots:\n",
    "    for imp in pot.implementations:\n",
    "        imptypes.append(imp.type)\n",
    "imptypes = np.unique(imptypes)\n",
    "\n",
    "print('All existing implementation types:')\n",
    "for imptypes in imptypes:\n",
    "    print('   ', imptypes)"
   ]
  },
  {
   "cell_type": "markdown",
   "metadata": {},
   "source": [
    "### 3.2 Build or load implementation"
   ]
  },
  {
   "cell_type": "markdown",
   "metadata": {},
   "source": [
    "#### 3.2.1 List ids for current potential and implementations"
   ]
  },
  {
   "cell_type": "code",
   "execution_count": 14,
   "metadata": {
    "tags": []
   },
   "outputs": [
    {
     "name": "stdout",
     "output_type": "stream",
     "text": [
      "suggested imp prefix: 2025--Oliveira-D-S--Ga-P\n",
      "implementation ids:\n"
     ]
    }
   ],
   "source": [
    "print('suggested imp prefix:', potential.impid_prefix)\n",
    "print('implementation ids:')\n",
    "for i, implementation in enumerate(potential.implementations):\n",
    "    print(f'{i}: {implementation.id} {implementation.type}')"
   ]
  },
  {
   "cell_type": "code",
   "execution_count": 86,
   "metadata": {
    "tags": []
   },
   "outputs": [],
   "source": [
    "#del potential.implementations[0]"
   ]
  },
  {
   "cell_type": "markdown",
   "metadata": {},
   "source": [
    "#### 3.2.2 Build new implementation\n",
    "\n",
    "- __type__ (*str*) Describes the type of the implementation. Use one of the listed values above if possible.\n",
    "- __id__ (*str*) Unique human-readable id for the implementation. For new content, should be derived from the associated potential id:\n",
    "    - Remove all authors except for the first\n",
    "    - Add a simple format descriptor: LAMMPS, GULP, table, parameters, FORTRAN, etc.\n",
    "    - Add a version descriptor: ipr1, ipr2, etc\n",
    "- __notes__ (*str, optional*) Notes on the implementation.  This includes where the file(s) came from, who created them, testing info, how it differs from other versions, etc.\n",
    "- __key__ (*str, optional*) UUID4 key to assign to the implementation.  If None, a new key will be generated.\n",
    "- __status__ (*str, optional*) Indicates the status of the implementation. Available values are \n",
    "    - \"active\" (default) indicates a current implementation.\n",
    "    - \"superseded\" indicates an implementation that is still consistent with the potential model, but has minor issues that were fixed by a newer implementation.\n",
    "    - \"retracted\" indicates an implementation that was identified as being an invalid representation of the potential model.\n",
    "- __date__ (*datetime.date, optional*) The date that the implementation was submitted or added.  If not given, will use today's date."
   ]
  },
  {
   "cell_type": "code",
   "execution_count": 16,
   "metadata": {
    "tags": []
   },
   "outputs": [],
   "source": [
    "potential.add_implementation(\n",
    "    type = 'LAMMPS pair_style adp',\n",
    "    id = f'{potential.impid_prefix}--LAMMPS--ipr1',\n",
    "    notes = ' '.join([\n",
    "        'This file was provided by Douglas Soares Oliveira on June 25, 2025.'\n",
    "    ]),\n",
    "    #key='0cdc699f-e78a-49db-8606-7a33c98c2184',\n",
    "    #status=None,\n",
    "    #date=datetime.date(2020, 6, 18), \n",
    ")\n",
    "index = len(potential.implementations) - 1"
   ]
  },
  {
   "cell_type": "code",
   "execution_count": 27,
   "metadata": {
    "tags": []
   },
   "outputs": [],
   "source": [
    "potential.add_implementation(\n",
    "    type = 'ASE calculator',\n",
    "    id = f'{potential.impid_prefix}--equations--ipr1',\n",
    "    notes = ' '.join([\n",
    "        'This file and equations were provided by Alexey Verkhovtsev on March 19, 2024.  The .pdf collects the equation and parameter values as described in the paper.  The .pot file are the parameters as used by the MBN Explorer software package.'\n",
    "    ]),\n",
    "    #key='0cdc699f-e78a-49db-8606-7a33c98c2184',\n",
    "    #status=None,\n",
    "    #date=datetime.date(2020, 6, 18), \n",
    ")\n",
    "index = len(potential.implementations) - 1"
   ]
  },
  {
   "cell_type": "code",
   "execution_count": 28,
   "metadata": {},
   "outputs": [],
   "source": [
    "kimid = 'MO_959249795837'\n",
    "implementation = potentials.Implementation(\n",
    "    type='OpenKIM',\n",
    "    id=kimid,\n",
    "    notes=' '.join(['Listing found at https://openkim.org.']),\n",
    "    #notes=' '.join(['Listing found at https://openkim.org.  This KIM potential is based on a parameter file with identical parameter values as 1989--Tersoff-J--Si-Ge--LAMMPS--ipr1.']),\n",
    "    #notes=' '.join(['Listing found at https://openkim.org. This KIM potential is implemented from the analytical expressions rather than a tabulated parameter file.'])#  The parameter file that this KIM potential is based on has slightly different values due to precision rounding than 2017--Purja-Pun-G-P--Si--LAMMPS--ipr1.']),\n",
    "    key='da76eb36-7ca1-421a-bd64-8f6bdd905b15',\n",
    "    #status=None,\n",
    "    #date=datetime.date(2020, 6, 18), \n",
    ")\n",
    "implementation.add_link(url=f\"https://openkim.org/id/{kimid}\", linktext = kimid)\n",
    "\n",
    "index = len(potential.implementations)\n",
    "potential.implementations.append(implementation)\n",
    "\n"
   ]
  },
  {
   "cell_type": "code",
   "execution_count": 51,
   "metadata": {
    "tags": []
   },
   "outputs": [
    {
     "data": {
      "text/html": [
       "<div xmlns=\"http://www.w3.org/TR/xhtml1/strict\"><script src=\"https://www.ctcms.nist.gov/potentials/site/showFiles.js\">//</script><div class=\"panel panel-default\"><div class=\"panel-heading\"><h3 class=\"panel-title\">2025--Oliveira-D-S-Kuritza-D-P-Zavarize-M-et-al--Ga-P</h3></div><div class=\"panel-body\"><div class=\"citation\"><b>Citation: </b>D.S. Oliveira, D.P. Kuritza, M. Zavarize, J.E. Padilha, and M.A. Cotta (2025), \"Atomistic Modeling of GaP Nanowire Growth and Heat Transport via Interatomic Potential: Implications for Thermoelectric Applications\", <i>ACS Applied Nano Materials</i>, . DOI: <a href=\"https://doi.org/10.1021/acsanm.5c01892\" class=\"external\">10.1021/acsanm.5c01892</a>.<br/></div><div class=\"abstract\"><b>Abstract: </b>Atomistic simulations of gallium phosphide (GaP) nanomaterials are limited by the absence of reliable and publicly available interatomic potentials. In this work, we develop and parametrize a classical angular-dependent potential for GaP based on force-matching against density functional theory reference data, enabling accurate large-scale simulations of GaP-based nanoscale systems. The developed potential effectively reproduces essential structural, elastic, and energetic properties of bulk GaP in both zinc-blende and wurtzite phases, despite some deviations from experimental reference values. Through molecular dynamics simulations, we demonstrate the potential&#8217;s ability to describe key aspects of self-catalyzed vapor&#8211;liquid&#8211;solid growth in GaP nanowires, such as nucleation dynamics, temperature stability limits, and the influence of catalyst geometry. Furthermore, thermal transport simulations reveal that the model accurately captures qualitative trends regarding the impact of nanostructure size and surface morphology on thermal conductivity. Additionally, we investigate thermal rectification effects in telescopic GaP nanowires, observing measurable heat-flow asymmetries. These findings provide insights into phonon engineering strategies at the nanoscale, highlighting the relevance of GaP nanostructures for next-generation thermoelectric applications. The interatomic potential presented here will be made publicly available, offering a valuable computational tool for future investigations of GaP nanomaterials.</div><br/><div class=\"description-notes\"><b>Notes: </b>Prof. Dr. Douglas Soares Oliveira notes \"This ADP potential was developed to simulate the vapor&#8722;liquid&#8722;solid growth of self-catalyzed GaP nanowires, as well as their thermal transport properties. It performs well in zinc-blende and wurtzite phases and has been validated against DFT for energies, forces, and phonon behavior. However, it is not recommended for simulations involving highly strained configurations or extremely high temperatures, as these conditions were not extensively included in the training dataset. It should not be used for simulations involving interatomic distances below 1.8 &#197;, as the fitting was optimized for larger distances. A cutoff radius of 6 &#197; was used in the parametrization.\"</div><br/><div class=\"format\"><b>LAMMPS pair_style adp</b><a href=\"https://www.ctcms.nist.gov/potentials/entry/2025--Oliveira-D-S-Kuritza-D-P-Zavarize-M-et-al--Ga-P/2025--Oliveira-D-S--Ga-P--LAMMPS--ipr1.html\"> (2025--Oliveira-D-S--Ga-P--LAMMPS--ipr1)</a></div><div class=\"implementation-notes\"><a href=\"https://www.ctcms.nist.gov/potentials/entry/2025--Oliveira-D-S-Kuritza-D-P-Zavarize-M-et-al--Ga-P/2025--Oliveira-D-S--Ga-P--LAMMPS--ipr1.html\"><b>See Computed Properties</b></a><br/><b>Notes: </b>This file was provided by Douglas Soares Oliveira on June 25, 2025.<br/><b>File(s): </b><div id=\"0d130438-d1fb-4d1c-9b49-8e3207b84a6f\" style=\"display:block\"><a href=\"https://www.ctcms.nist.gov/potentials/Download/2025--Oliveira-D-S-Kuritza-D-P-Zavarize-M-et-al--Ga-P/1/GaP.lammps\">GaP.lammps</a><br/></div><br/></div></div></div></div>"
      ],
      "text/plain": [
       "<IPython.core.display.HTML object>"
      ]
     },
     "metadata": {},
     "output_type": "display_data"
    }
   ],
   "source": [
    "potential.build_model()\n",
    "potential.html(render=True)"
   ]
  },
  {
   "cell_type": "markdown",
   "metadata": {},
   "source": [
    "#### 3.2.3 Select implementation\n",
    "\n",
    "Must be done"
   ]
  },
  {
   "cell_type": "code",
   "execution_count": 18,
   "metadata": {
    "tags": []
   },
   "outputs": [],
   "source": [
    "index = 0\n",
    "implementation = potential.implementations[index]"
   ]
  },
  {
   "cell_type": "markdown",
   "metadata": {},
   "source": [
    "### 3.3 Modify implementation"
   ]
  },
  {
   "cell_type": "markdown",
   "metadata": {},
   "source": [
    "#### 3.3.1 Modify implementation metadata "
   ]
  },
  {
   "cell_type": "code",
   "execution_count": 24,
   "metadata": {},
   "outputs": [],
   "source": [
    "implementation.type = 'LAMMPS pair_style hdnnp'"
   ]
  },
  {
   "cell_type": "code",
   "execution_count": 12,
   "metadata": {
    "tags": []
   },
   "outputs": [],
   "source": [
    "#implementation.type = 'deepmd-kit'\n",
    "#implementation.key=None\n",
    "#implementation.date=datetime.date(2020, 1, 10)\n",
    "#implementation.id = f'{potential.impid_prefix}--LAMMPS--ipr1'\n",
    "#implementation.notes = ' '.join(['This file was provided by Giovanni Bonny on April 3, 2024 with the agreement of all the authors.'])\n",
    "implementation.notes += \" Update May 22 2025: This version has been superseded as it had the incorrect alat value of 3.165 rather than the correct value of 3.16.\"\n",
    "\n",
    "implementation.status='superseded'"
   ]
  },
  {
   "cell_type": "markdown",
   "metadata": {},
   "source": [
    "#### 3.3.2 Add implementation content\n",
    "\n",
    "The content for the implementation can exist in one of the following formats\n",
    "\n",
    "1. Artifacts: files that are hosted on the potentials repository.\n",
    "2. Parameters: list of the potential's parameters to show as html text on the repository.\n",
    "3. WebLinks: hyperlinks to content hosted externally."
   ]
  },
  {
   "cell_type": "markdown",
   "metadata": {},
   "source": [
    "#### Option #1: Add artifacts\n",
    "\n",
    "File path parameters\n",
    "\n",
    "- __newpotpath__ is the path to the directory where the new potential files are located.\n",
    "- __localpath__ is the path to the local copy of the NIST potentials repository.\n",
    "- __webpath__ is the url path for the NIST potentials repository that coincides with the localpath on the machine.\n",
    "- __relpath__ is the relative path from localpath where the files are copied to, and the relative path from webpath where they will be found once uploaded to the website."
   ]
  },
  {
   "cell_type": "code",
   "execution_count": 19,
   "metadata": {
    "tags": []
   },
   "outputs": [],
   "source": [
    "# Paths to files on desktop\n",
    "machine = socket.gethostname()\n",
    "if machine == 'PG903193':\n",
    "    newpotpath = Path('F:/website/new potentials')\n",
    "    localpath = Path('F:/website/IPR-website/potentials/')\n",
    "\n",
    "# Paths to files on laptop\n",
    "elif machine == 'PG911113':\n",
    "    newpotpath = Path('/mnt/c/Users/lmh1/OneDrive - NIST/Documents/new_potentials')\n",
    "    localpath = Path('/home/lmh1/website/IPR-website/potentials/')\n",
    "\n",
    "# Web and relative paths\n",
    "webpath = 'https://www.ctcms.nist.gov/potentials/'\n",
    "relpath = f'Download/{potential.id}/{index+1}/'"
   ]
  },
  {
   "cell_type": "markdown",
   "metadata": {},
   "source": [
    "Each artifact has:\n",
    "\n",
    "- __filename__ (*str*) The name of the file (no path information).\n",
    "- __url__ (*str*) The absolute url where the file can be downloaded from.\n",
    "- __label__ (*str, optional*) An optional descriptive label for the file."
   ]
  },
  {
   "cell_type": "code",
   "execution_count": 20,
   "metadata": {
    "tags": []
   },
   "outputs": [
    {
     "name": "stdout",
     "output_type": "stream",
     "text": [
      "AlTiV.mtp\n",
      "GaP.lammps\n",
      "mlip.ini\n",
      "potential.mod\n",
      "W.library.meam\n",
      "W.parameter.meam\n"
     ]
    }
   ],
   "source": [
    "for potfile in newpotpath.glob('*'):\n",
    "    if potfile.is_file():\n",
    "        print(potfile.name)"
   ]
  },
  {
   "cell_type": "code",
   "execution_count": 23,
   "metadata": {
    "tags": []
   },
   "outputs": [],
   "source": [
    "# Specify files from newpotpath to add\n",
    "filenames = [\n",
    "    Path(newpotpath, 'mlip.ini'),\n",
    "    Path(newpotpath, 'AlTiV.mtp'),\n",
    "    Path(newpotpath, 'potential.mod'),\n",
    "    ]\n",
    "\n",
    "labels = [None for i in range(len(filenames))]"
   ]
  },
  {
   "cell_type": "code",
   "execution_count": 23,
   "metadata": {
    "tags": []
   },
   "outputs": [],
   "source": [
    "# Specify files from newpotpath to add\n",
    "filenames = [\n",
    "    Path(newpotpath, 'GaP.lammps'),\n",
    "    ]\n",
    "\n",
    "labels = [None for i in range(len(filenames))]"
   ]
  },
  {
   "cell_type": "code",
   "execution_count": 146,
   "metadata": {
    "tags": []
   },
   "outputs": [],
   "source": [
    "# Specify files from newpotpath to add\n",
    "filenames = [\n",
    "    Path(newpotpath, 'READ_ME.txt'),\n",
    "    Path(newpotpath, 'FeCCr_d.eam.alloy'),\n",
    "    Path(newpotpath, 'FeCCr_s.eam.fs'),\n",
    "]\n",
    "\n",
    "labels = [\n",
    "    'Documentation',\n",
    "    'd_band',\n",
    "    's_band'\n",
    "]"
   ]
  },
  {
   "cell_type": "code",
   "execution_count": 98,
   "metadata": {
    "tags": []
   },
   "outputs": [],
   "source": [
    "# Specify files from newpotpath to add\n",
    "filenames = [\n",
    "    Path(newpotpath, 'F_Fe.spt'),\n",
    "    Path(newpotpath, 'F_Cu.spt'),\n",
    "    Path(newpotpath, 'F_Ni.spt'),\n",
    "    Path(newpotpath, 'F_Mn.spt'),\n",
    "    Path(newpotpath, 'rhoFe.spt'),\n",
    "    Path(newpotpath, 'rhoCu.spt'),\n",
    "    Path(newpotpath, 'rhoNi.spt'),\n",
    "    Path(newpotpath, 'rhoMn.spt'),\n",
    "    Path(newpotpath, 'pFeFe.spt'),\n",
    "    Path(newpotpath, 'pCuCu.spt'),\n",
    "    Path(newpotpath, 'pNiNi.spt'),\n",
    "    Path(newpotpath, 'pMnMn.spt'),\n",
    "    Path(newpotpath, 'pFeCu.spt'),\n",
    "    Path(newpotpath, 'pFeNi.spt'),\n",
    "    Path(newpotpath, 'pFeMn.spt'),\n",
    "    Path(newpotpath, 'pCuNi.spt'),\n",
    "    Path(newpotpath, 'pCuMn.spt'),\n",
    "    Path(newpotpath, 'pNiMn.spt'),\n",
    "    ]\n",
    "\n",
    "labels = [\n",
    "    'Fe F(ρ)',\n",
    "    'Cu F(ρ)',\n",
    "    'Ni F(ρ)',\n",
    "    'Mn F(ρ)',\n",
    "    'Fe ρ(r)',\n",
    "    'Cu ρ(r)',\n",
    "    'Ni ρ(r)',\n",
    "    'Mn ρ(r)',\n",
    "    'Fe φ(r)',\n",
    "    'Cu φ(r)',\n",
    "    'Ni φ(r)',\n",
    "    'Mn φ(r)',\n",
    "    'Fe-Cu φ(r)',\n",
    "    'Fe-Ni φ(r)',\n",
    "    'Fe-Mn φ(r)',\n",
    "    'Cu-Ni φ(r)',\n",
    "    'Cu-Mn φ(r)',\n",
    "    'Ni-Mn φ(r)'\n",
    "]"
   ]
  },
  {
   "cell_type": "code",
   "execution_count": 24,
   "metadata": {
    "tags": []
   },
   "outputs": [
    {
     "name": "stdout",
     "output_type": "stream",
     "text": [
      "F:\\website\\IPR-website\\potentials\\Download\\2025--Oliveira-D-S-Kuritza-D-P-Zavarize-M-et-al--Ga-P\\1\\GaP.lammps\n"
     ]
    }
   ],
   "source": [
    "# Make download directory in local copy of website\n",
    "downloadpath = Path(localpath, relpath)\n",
    "if not downloadpath.is_dir():\n",
    "    downloadpath.mkdir(parents=True)\n",
    "\n",
    "# Copy files and add artifact listings\n",
    "for filename, label in zip(filenames, labels):\n",
    "    # Build url\n",
    "    url = webpath + relpath + filename.name\n",
    "    # Copy files\n",
    "    shutil.copy(filename, downloadpath)\n",
    "    print(Path(downloadpath, filename.name))\n",
    "    \n",
    "    # Add artifact listing to implementation\n",
    "    implementation.add_artifact(filename=filename.name, url=url, label=label)"
   ]
  },
  {
   "cell_type": "markdown",
   "metadata": {},
   "source": [
    "#### Option #1b: Update file paths"
   ]
  },
  {
   "cell_type": "code",
   "execution_count": 43,
   "metadata": {},
   "outputs": [],
   "source": [
    "#newdir= Path(localpath, relpath)\n",
    "#if not newdir.is_dir():\n",
    "#    newdir.mkdir(parents=True)\n",
    "\n",
    "#for artifact in implementation.artifacts:\n",
    "    # Copy artifact file to new location\n",
    "#    oldpath = Path(localpath, artifact.url.replace(webpath, ''))\n",
    "    \n",
    "#    newpath = Path(newdir, artifact.filename)\n",
    "    #shutil.copy(oldpath, newpath)\n",
    "    \n",
    "    # Update the url\n",
    "#    artifact.url = webpath + relpath + artifact.filename"
   ]
  },
  {
   "cell_type": "code",
   "execution_count": 90,
   "metadata": {
    "tags": []
   },
   "outputs": [
    {
     "data": {
      "text/plain": [
       "<potentials.record.Artifact.Artifact at 0x1dd2f4497d0>"
      ]
     },
     "execution_count": 90,
     "metadata": {},
     "output_type": "execute_result"
    }
   ],
   "source": [
    "#implementation.artifacts.pop(0)"
   ]
  },
  {
   "cell_type": "markdown",
   "metadata": {},
   "source": [
    "#### Option #2: Add parameters\n",
    "\n",
    "Each parameter has:\n",
    "\n",
    "- __name__ (*str, optional*) The name of the parameter or string parameter line.\n",
    "- __value__ (*float, optional*) The value of the parameter.\n",
    "- __unit__ (*str, optional*) Units associated with value.\n",
    "\n",
    "Note: if the parameters are purely text-based, you can use only the name field."
   ]
  },
  {
   "cell_type": "markdown",
   "metadata": {},
   "source": [
    "#### Option #3: Add weblinks\n",
    "\n",
    "Each weblink has:\n",
    "\n",
    "- __url__ (*str*) URL for the link.\n",
    "- __label__ (*str, optional*) A short description label to proceed the link.\n",
    "- __linktext__ (*str, optional*) The text for the link, i.e. what gets clicked on."
   ]
  },
  {
   "cell_type": "code",
   "execution_count": 25,
   "metadata": {
    "tags": []
   },
   "outputs": [],
   "source": [
    "url = linktext = 'https://gitlab.com/mtp_potentials/tialv'\n",
    "label = 'gitlab for potential'\n",
    "\n",
    "implementation.add_link(url=url, label=label, linktext=linktext)\n",
    "\n",
    "\n",
    "url = linktext = 'https://gitlab.com/ashapeev/interface-lammps-mlip-2'\n",
    "label = 'LAMMPS-MLIP interface'\n",
    "\n",
    "implementation.add_link(url=url, label=label, linktext=linktext)\n",
    "\n",
    "url = linktext = 'https://mlip.skoltech.ru/download/'\n",
    "label = 'MLIP download'\n",
    "\n",
    "implementation.add_link(url=url, label=label, linktext=linktext)\n"
   ]
  },
  {
   "cell_type": "code",
   "execution_count": null,
   "metadata": {
    "tags": []
   },
   "outputs": [],
   "source": [
    "#implementation.links.pop()"
   ]
  },
  {
   "cell_type": "code",
   "execution_count": 82,
   "metadata": {},
   "outputs": [],
   "source": [
    "#implementation.links[0].linktext=linktext"
   ]
  },
  {
   "cell_type": "code",
   "execution_count": 32,
   "metadata": {
    "tags": []
   },
   "outputs": [],
   "source": [
    "potential.model['interatomic-potential']['implementation']['artifact']['web-link']['label'] = 'LAMMPS input'"
   ]
  },
  {
   "cell_type": "code",
   "execution_count": 33,
   "metadata": {
    "tags": []
   },
   "outputs": [],
   "source": [
    "potential.reload_model()"
   ]
  },
  {
   "cell_type": "markdown",
   "metadata": {},
   "source": [
    "## 4. Review and save potentials"
   ]
  },
  {
   "cell_type": "code",
   "execution_count": 57,
   "metadata": {
    "tags": []
   },
   "outputs": [
    {
     "data": {
      "text/html": [
       "<div xmlns=\"http://www.w3.org/TR/xhtml1/strict\"><script src=\"https://www.ctcms.nist.gov/potentials/site/showFiles.js\">//</script><div class=\"panel panel-default\"><div class=\"panel-heading\"><h3 class=\"panel-title\">2025--Oliveira-D-S-Kuritza-D-P-Zavarize-M-et-al--Ga-P</h3></div><div class=\"panel-body\"><div class=\"citation\"><b>Citation: </b>D.S. Oliveira, D.P. Kuritza, M. Zavarize, J.E. Padilha, and M.A. Cotta (2025), \"Atomistic Modeling of GaP Nanowire Growth and Heat Transport via Interatomic Potential: Implications for Thermoelectric Applications\", <i>ACS Applied Nano Materials</i>, <b>8</b>, 13340-13348. DOI: <a href=\"https://doi.org/10.1021/acsanm.5c01892\" class=\"external\">10.1021/acsanm.5c01892</a>.<br/></div><div class=\"abstract\"><b>Abstract: </b>Atomistic simulations of gallium phosphide (GaP) nanomaterials are limited by the absence of reliable and publicly available interatomic potentials. In this work, we develop and parametrize a classical angular-dependent potential for GaP based on force-matching against density functional theory reference data, enabling accurate large-scale simulations of GaP-based nanoscale systems. The developed potential effectively reproduces essential structural, elastic, and energetic properties of bulk GaP in both zinc-blende and wurtzite phases, despite some deviations from experimental reference values. Through molecular dynamics simulations, we demonstrate the potential&#8217;s ability to describe key aspects of self-catalyzed vapor&#8211;liquid&#8211;solid growth in GaP nanowires, such as nucleation dynamics, temperature stability limits, and the influence of catalyst geometry. Furthermore, thermal transport simulations reveal that the model accurately captures qualitative trends regarding the impact of nanostructure size and surface morphology on thermal conductivity. Additionally, we investigate thermal rectification effects in telescopic GaP nanowires, observing measurable heat-flow asymmetries. These findings provide insights into phonon engineering strategies at the nanoscale, highlighting the relevance of GaP nanostructures for next-generation thermoelectric applications. The interatomic potential presented here will be made publicly available, offering a valuable computational tool for future investigations of GaP nanomaterials.</div><br/><div class=\"description-notes\"><b>Notes: </b>Prof. Dr. Douglas Soares Oliveira notes \"This ADP potential was developed to simulate the vapor&#8722;liquid&#8722;solid growth of self-catalyzed GaP nanowires, as well as their thermal transport properties. It performs well in zinc-blende and wurtzite phases and has been validated against DFT for energies, forces, and phonon behavior. However, it is not recommended for simulations involving highly strained configurations or extremely high temperatures, as these conditions were not extensively included in the training dataset. It should not be used for simulations involving interatomic distances below 1.8 &#197;, as the fitting was optimized for larger distances. A cutoff radius of 6 &#197; was used in the parametrization.\"</div><br/><div class=\"format\"><b>LAMMPS pair_style adp</b><a href=\"https://www.ctcms.nist.gov/potentials/entry/2025--Oliveira-D-S-Kuritza-D-P-Zavarize-M-et-al--Ga-P/2025--Oliveira-D-S--Ga-P--LAMMPS--ipr1.html\"> (2025--Oliveira-D-S--Ga-P--LAMMPS--ipr1)</a></div><div class=\"implementation-notes\"><a href=\"https://www.ctcms.nist.gov/potentials/entry/2025--Oliveira-D-S-Kuritza-D-P-Zavarize-M-et-al--Ga-P/2025--Oliveira-D-S--Ga-P--LAMMPS--ipr1.html\"><b>See Computed Properties</b></a><br/><b>Notes: </b>This file was provided by Douglas Soares Oliveira on June 25, 2025.<br/><b>File(s): </b><div id=\"0d130438-d1fb-4d1c-9b49-8e3207b84a6f\" style=\"display:block\"><a href=\"https://www.ctcms.nist.gov/potentials/Download/2025--Oliveira-D-S-Kuritza-D-P-Zavarize-M-et-al--Ga-P/1/GaP.lammps\">GaP.lammps</a><br/></div><br/></div></div></div></div>"
      ],
      "text/plain": [
       "<IPython.core.display.HTML object>"
      ]
     },
     "metadata": {},
     "output_type": "display_data"
    }
   ],
   "source": [
    "potential.build_model()\n",
    "potential.html(render=True)"
   ]
  },
  {
   "cell_type": "code",
   "execution_count": 58,
   "metadata": {
    "tags": []
   },
   "outputs": [
    {
     "name": "stdout",
     "output_type": "stream",
     "text": [
      "Potential record named potential.2025--Oliveira-D-S-Kuritza-D-P-Zavarize-M-et-al--Ga-P updated in C:\\Users\\lmh1\\Documents\\library\n",
      "Potential record named potential.2025--Oliveira-D-S-Kuritza-D-P-Zavarize-M-et-al--Ga-P updated in https://potentials.nist.gov/\n",
      "Potential record named potential.2025--Oliveira-D-S-Kuritza-D-P-Zavarize-M-et-al--Ga-P assigned to workspace Global Public Workspace\n"
     ]
    }
   ],
   "source": [
    "db.save_potential(potential, overwrite=True, verbose=True)\n",
    "with db.remote_database.cdcs.auto_set_pid_off():\n",
    "    db.upload_potential(potential, workspace=workspace, overwrite=True, verbose=True)\n",
    "\n",
    "complete_potentials.append(potential)"
   ]
  },
  {
   "cell_type": "code",
   "execution_count": 21,
   "metadata": {
    "tags": []
   },
   "outputs": [
    {
     "data": {
      "text/plain": [
       "['2022--Hiremath-P-Melin-S-Bitzek-E-Olsson-P-A-T--W']"
      ]
     },
     "execution_count": 21,
     "metadata": {},
     "output_type": "execute_result"
    }
   ],
   "source": [
    "[pot.id for pot in complete_potentials]"
   ]
  },
  {
   "cell_type": "code",
   "execution_count": null,
   "metadata": {
    "tags": []
   },
   "outputs": [],
   "source": [
    "#db.delete_potential(potential, local=True, remote=True, verbose=True)\n",
    "#complete_potentials.pop(-1)"
   ]
  },
  {
   "cell_type": "code",
   "execution_count": null,
   "metadata": {},
   "outputs": [],
   "source": [
    "#db.download_potentials(overwrite=True, format='json', indent=4, verbose=True)"
   ]
  },
  {
   "cell_type": "code",
   "execution_count": 11,
   "metadata": {
    "tags": []
   },
   "outputs": [],
   "source": [
    "complete_potentials.append(potential)\n"
   ]
  },
  {
   "cell_type": "markdown",
   "metadata": {},
   "source": [
    "## 5. potential_LAMMPS\n",
    "\n",
    "This section generates the potential_LAMMPS metadata records for generating the LAMMPS input command lines for supported potentials."
   ]
  },
  {
   "cell_type": "markdown",
   "metadata": {
    "tags": []
   },
   "source": [
    "### 5.1. Auto-built settings\n",
    "\n",
    "These are all settings that are universal and typically can be auto-built from the loaded potential and implementation without modification.\n",
    "\n",
    "- __id__ (*str, optional*) implementation id. Should match with the implementation id from above.\n",
    "- __key__ (*str, optional*) implementation key. Should match with the implementation key from above.\n",
    "- __url__ (*str, optional*) URL to the CDCS page for the potential_LAMMPS record being built. Should end with the implementation id.\n",
    "- __potid__ (*str, optional*) potential id. Should match with the potential id from above.\n",
    "- __potkey__ (*str, optional*) potential key. Should match with the potential key from above.\n",
    "- __poturl__ (*str, optional*) URL to the CDCS page for the Potential record generated above.\n",
    "- __pair_style__ (*str*) The LAMMPS pair_style associated with the implementation.  This is extracted from the implementation.\n",
    "- __dois__ (*list, optional*) A list of the DOIs from the potential's citations, auto-extracted.\n",
    "- __artifacts__ (*list, optional*) A list of the artifact objects from the implementation, auto-extracted.\n",
    "- __comments__ (*str, optional*) Info about where the potential is hosted, to be printed when LAMMPS commands are generated."
   ]
  },
  {
   "cell_type": "code",
   "execution_count": 27,
   "metadata": {
    "tags": []
   },
   "outputs": [],
   "source": [
    "kwargs = {}\n",
    "kwargs['id'] = implementation.id\n",
    "kwargs['key'] = implementation.key\n",
    "kwargs['url'] = f'https://potentials.nist.gov/pid/rest/local/potentials/{implementation.id}'\n",
    "\n",
    "kwargs['potid'] = potential.id\n",
    "kwargs['potkey'] = potential.key\n",
    "kwargs['poturl'] = potential.url\n",
    "\n",
    "kwargs['pair_style'] = implementation.type.replace('LAMMPS pair_style ', '')\n",
    "\n",
    "# Auto-build list of DOIs from citations\n",
    "dois = []\n",
    "for citation in potential.citations:\n",
    "    if citation.doi is not None:\n",
    "        dois.append(citation.doi)\n",
    "if len(dois) > 0:\n",
    "    kwargs['dois'] = dois\n",
    "\n",
    "if implementation.artifacts is not None:\n",
    "    kwargs['artifacts'] = implementation.artifacts\n",
    "\n",
    "kwargs['comments'] = '\\n'.join([f'Potential {implementation.id} listed in the NIST Interatomic Potentials Repository:',\n",
    "                                f'https://www.ctcms.nist.gov/potentials/entry/{potential.id}/{implementation.id}.html',\n",
    "                                f''])"
   ]
  },
  {
   "cell_type": "markdown",
   "metadata": {},
   "source": [
    "### 5.2. Specific settings\n",
    "\n",
    "These are settings that often need manual modifications based on the potential.\n",
    "\n",
    "- __symbols__ (*list, optional*) The particle model symbols defined by the implementation.  Optional if these match the element tags.\n",
    "- __elements__ (*list, optional*) The element tags associated with each model symbol, if the symbols correspond to an element.\n",
    "- __masses__ (*list, optional*) The masses to assign to each symbol.  Will default to the standard element values if elements is given and masses is not. Should be given if the implementation specifies the masses.\n",
    "- __charges__ (*list, optional*) The charges to assign to each symbol. This is only for potentials where the particle models have a constant charge.\n",
    "- __units__ (*str, optional*) The LAMMPS units to use with the implementation.  Default value is 'metal'.\n",
    "- __atom_style__ (*str, optional*) The LAMMPS atom_style to use with the implementation.  Default value is 'atomic'.\n"
   ]
  },
  {
   "cell_type": "code",
   "execution_count": 28,
   "metadata": {
    "tags": []
   },
   "outputs": [],
   "source": [
    "kwargs['elements'] = kwargs['symbols'] = potential.elements\n",
    "#kwargs['symbols'] = ['Fe', 'nmFe']\n",
    "kwargs['masses'] = [69.723, 30.973762]\n",
    "#kwargs['charges'] = [0.0, 0.0]\n",
    "\n",
    "#kwargs['units'] = 'metal'\n",
    "#kwargs['atom_style'] = 'atomic'"
   ]
  },
  {
   "cell_type": "markdown",
   "metadata": {},
   "source": [
    "### 5.3. Initialize the potential object\n",
    "\n",
    "Initialization methods:\n",
    "\n",
    "- Calling the normal init will set all of the metadata specified in the above kwargs but won't set any pair_coeff information. The pair_coeff terms can be manually built up afterwards.\n",
    "- paramfile() will auto-build the pair_coeff terms for most pair_styles that rely on a single parameter file, such as eam/alloy.\n",
    "- meam() will auto-build the pair_coeff terms for the meam pair_style, which relies on a libfile and optionally a paramfile.\n",
    "- eim() will auto-build the pair_coeff terms for the eim pair_style, which relies on a single parameter file (but differs from the paramfile format).\n",
    "- eam() will auto-build the pair_coeff terms for the eam pair_style, which relies on a parameter file for each element model."
   ]
  },
  {
   "cell_type": "code",
   "execution_count": 29,
   "metadata": {
    "tags": []
   },
   "outputs": [
    {
     "name": "stdout",
     "output_type": "stream",
     "text": [
      "GaP.lammps\n"
     ]
    }
   ],
   "source": [
    "# List file names for convenience\n",
    "for file in implementation.artifacts:\n",
    "    print(file.filename)"
   ]
  },
  {
   "cell_type": "code",
   "execution_count": 30,
   "metadata": {
    "tags": []
   },
   "outputs": [],
   "source": [
    "# Build potential from kwargs (and files)\n",
    "\n",
    "lammps_potential = PotentialLAMMPS.paramfile(paramfile='GaP.lammps', **kwargs)\n",
    "#lammps_potential = PotentialLAMMPS.meam(libfile='W.library.meam', paramfile='W.parameter.meam', **kwargs)\n",
    "#lammps_potential = PotentialLAMMPS.eam(paramfiles=[''], **kwargs)\n",
    "#lammps_potential = PotentialLAMMPS.eim(paramfile='', **kwargs)\n",
    "#lammps_potential = PotentialLAMMPS(**kwargs)"
   ]
  },
  {
   "cell_type": "markdown",
   "metadata": {},
   "source": [
    "### 5.4. Manually define terms for LAMMPS commands\n",
    "\n",
    "The record is meant to capture and generate any LAMMPS commands necessary to properly use the potential.\n",
    "\n",
    "- pair_style_terms are any terms that appear on the pair_style line after the pair_style itself.\n",
    "- commands defines any additional LAMMPS command lines.  Each new line can be added with add_command().\n",
    "- pair_coeffs define the pair_coeff lines.  Each new line can be added with add_pair_coeff(), and consists of an interaction list and a terms list. The list of terms is anything in the pair_coeff line after the two interaction species/wildcard options. The interaction list specifies which symbol models are connected to the pair_coeff definition. Typical variations are\n",
    "    - no interaction defined to work with all symbols (will automatically add '* *')\n",
    "    - two symbols for pair potentials to define the particular species-species interaction, and\n",
    "    - an any-length list of symbols specifying the subset of models tied to a specific parameter file when defining a hybrid potential. \n",
    "\n",
    "The \"terms\" used for all three are specified with a term type and value.  The supported term types are:\n",
    "\n",
    "- \"option\" is the basic term type that is saved as a str.\n",
    "- \"parameter\" is for numerical terms.\n",
    "- \"file\" is for a term that points to a parameter file for the potential.\n",
    "- \"symbols\" indicates where the list of symbols models that correspond to the integer atom types is to be given.\n",
    "\n"
   ]
  },
  {
   "cell_type": "code",
   "execution_count": 18,
   "metadata": {},
   "outputs": [],
   "source": [
    "# Define additional pair_style terms\n",
    "lammps_potential.pair_style_terms.add_term('parameter', 6.5)\n",
    "lammps_potential.pair_style_terms.add_term('option', 'dir')\n",
    "lammps_potential.pair_style_terms.add_term('file', '.')\n",
    "lammps_potential.pair_style_terms.add_term('option', 'showew')\n",
    "lammps_potential.pair_style_terms.add_term('option', 'no')\n",
    "lammps_potential.pair_style_terms.add_term('option', 'showewsum')\n",
    "lammps_potential.pair_style_terms.add_term('parameter', 1000)\n",
    "lammps_potential.pair_style_terms.add_term('option', 'resetew')\n",
    "lammps_potential.pair_style_terms.add_term('option', 'yes')\n",
    "lammps_potential.pair_style_terms.add_term('option', 'maxew')\n",
    "lammps_potential.pair_style_terms.add_term('parameter', 1000000)\n",
    "lammps_potential.pair_style_terms.add_term('option', 'cflength')\n",
    "lammps_potential.pair_style_terms.add_term('parameter', 1.8897261328)\n",
    "lammps_potential.pair_style_terms.add_term('option', 'cfenergy')\n",
    "lammps_potential.pair_style_terms.add_term('parameter', 0.0367493254)\n",
    "\n"
   ]
  },
  {
   "cell_type": "code",
   "execution_count": null,
   "metadata": {},
   "outputs": [],
   "source": [
    "# Manually define pair_coeff lines (if potential is not consistent with one of the class methods above).\n",
    "lammps_potential.add_pair_coeff()\n",
    "lammps_potential.pair_coeffs[0].add_term('symbols', True)"
   ]
  },
  {
   "cell_type": "code",
   "execution_count": 39,
   "metadata": {
    "tags": []
   },
   "outputs": [],
   "source": [
    "# Define additional pair_style terms\n",
    "lammps_potential.pair_style_terms.add_term('parameter', 6.3)\n"
   ]
  },
  {
   "cell_type": "code",
   "execution_count": 41,
   "metadata": {
    "tags": []
   },
   "outputs": [],
   "source": [
    "# Manually define pair_coeff lines (if potential is not consistent with one of the class methods above).\n",
    "lammps_potential.add_pair_coeff(interaction=['Co', 'Co'])\n",
    "lammps_potential.pair_coeffs[-1].add_term('parameter', 0.4349) \n",
    "lammps_potential.pair_coeffs[-1].add_term('parameter', 1.380)\n",
    "lammps_potential.pair_coeffs[-1].add_term('parameter', 2.794)\n",
    "\n",
    "lammps_potential.add_pair_coeff(interaction=['Cr', 'Cr'])\n",
    "lammps_potential.pair_coeffs[-1].add_term('parameter', 0.4271) \n",
    "lammps_potential.pair_coeffs[-1].add_term('parameter', 1.409)\n",
    "lammps_potential.pair_coeffs[-1].add_term('parameter', 2.8248)\n",
    "\n",
    "lammps_potential.add_pair_coeff(interaction=['Fe', 'Fe'])\n",
    "lammps_potential.pair_coeffs[-1].add_term('parameter', 0.4198) \n",
    "lammps_potential.pair_coeffs[-1].add_term('parameter', 1.335)\n",
    "lammps_potential.pair_coeffs[-1].add_term('parameter', 2.8544)\n",
    "\n",
    "lammps_potential.add_pair_coeff(interaction=['Ni', 'Ni'])\n",
    "lammps_potential.pair_coeffs[-1].add_term('parameter', 0.4301) \n",
    "lammps_potential.pair_coeffs[-1].add_term('parameter', 1.361)\n",
    "lammps_potential.pair_coeffs[-1].add_term('parameter', 2.7919)\n",
    "\n",
    "lammps_potential.add_pair_coeff(interaction=['Mn', 'Mn'])\n",
    "lammps_potential.pair_coeffs[-1].add_term('parameter', 0.293) \n",
    "lammps_potential.pair_coeffs[-1].add_term('parameter', 1.3708)\n",
    "lammps_potential.pair_coeffs[-1].add_term('parameter', 2.877)\n",
    "\n",
    "lammps_potential.add_pair_coeff(interaction=['Al', 'Al'])\n",
    "lammps_potential.pair_coeffs[-1].add_term('parameter', 0.3370) \n",
    "lammps_potential.pair_coeffs[-1].add_term('parameter', 1.160)\n",
    "lammps_potential.pair_coeffs[-1].add_term('parameter', 3.1823)\n",
    "\n",
    "\n",
    "\n",
    "lammps_potential.add_pair_coeff(interaction=['Co', 'Cr'])\n",
    "lammps_potential.pair_coeffs[-1].add_term('parameter', 0.431) \n",
    "lammps_potential.pair_coeffs[-1].add_term('parameter', 1.3945)\n",
    "lammps_potential.pair_coeffs[-1].add_term('parameter', 2.8093)\n",
    "\n",
    "lammps_potential.add_pair_coeff(interaction=['Co', 'Fe'])\n",
    "lammps_potential.pair_coeffs[-1].add_term('parameter', 0.4273) \n",
    "lammps_potential.pair_coeffs[-1].add_term('parameter', 1.3575)\n",
    "lammps_potential.pair_coeffs[-1].add_term('parameter', 2.824)\n",
    "\n",
    "lammps_potential.add_pair_coeff(interaction=['Co', 'Ni'])\n",
    "lammps_potential.pair_coeffs[-1].add_term('parameter', 0.4325) \n",
    "lammps_potential.pair_coeffs[-1].add_term('parameter', 1.3705)\n",
    "lammps_potential.pair_coeffs[-1].add_term('parameter', 2.7929)\n",
    "\n",
    "lammps_potential.add_pair_coeff(interaction=['Co', 'Mn'])\n",
    "lammps_potential.pair_coeffs[-1].add_term('parameter', 0.357) \n",
    "lammps_potential.pair_coeffs[-1].add_term('parameter', 1.3754)\n",
    "lammps_potential.pair_coeffs[-1].add_term('parameter', 2.8352)\n",
    "\n",
    "lammps_potential.add_pair_coeff(interaction=['Co', 'Al'])\n",
    "lammps_potential.pair_coeffs[-1].add_term('parameter', 0.3828) \n",
    "lammps_potential.pair_coeffs[-1].add_term('parameter', 1.27)\n",
    "lammps_potential.pair_coeffs[-1].add_term('parameter', 2.9793)\n",
    "\n",
    "\n",
    "\n",
    "lammps_potential.add_pair_coeff(interaction=['Cr', 'Fe'])\n",
    "lammps_potential.pair_coeffs[-1].add_term('parameter', 0.4234) \n",
    "lammps_potential.pair_coeffs[-1].add_term('parameter', 1.372)\n",
    "lammps_potential.pair_coeffs[-1].add_term('parameter', 2.8392)\n",
    "\n",
    "lammps_potential.add_pair_coeff(interaction=['Cr', 'Ni'])\n",
    "lammps_potential.pair_coeffs[-1].add_term('parameter', 0.4286) \n",
    "lammps_potential.pair_coeffs[-1].add_term('parameter', 1.385)\n",
    "lammps_potential.pair_coeffs[-1].add_term('parameter', 2.8081)\n",
    "\n",
    "lammps_potential.add_pair_coeff(interaction=['Cr', 'Mn'])\n",
    "lammps_potential.pair_coeffs[-1].add_term('parameter', 0.3538) \n",
    "lammps_potential.pair_coeffs[-1].add_term('parameter', 1.3899)\n",
    "lammps_potential.pair_coeffs[-1].add_term('parameter', 2.8507)\n",
    "\n",
    "lammps_potential.add_pair_coeff(interaction=['Cr', 'Al'])\n",
    "lammps_potential.pair_coeffs[-1].add_term('parameter', 0.3794) \n",
    "lammps_potential.pair_coeffs[-1].add_term('parameter', 1.2845)\n",
    "lammps_potential.pair_coeffs[-1].add_term('parameter', 2.9952)\n",
    "\n",
    "\n",
    "\n",
    "\n",
    "lammps_potential.add_pair_coeff(interaction=['Fe', 'Ni'])\n",
    "lammps_potential.pair_coeffs[-1].add_term('parameter', 0.4249) \n",
    "lammps_potential.pair_coeffs[-1].add_term('parameter', 1.348)\n",
    "lammps_potential.pair_coeffs[-1].add_term('parameter', 2.823)\n",
    "\n",
    "lammps_potential.add_pair_coeff(interaction=['Fe', 'Mn'])\n",
    "lammps_potential.pair_coeffs[-1].add_term('parameter', 0.3507) \n",
    "lammps_potential.pair_coeffs[-1].add_term('parameter', 1.3529)\n",
    "lammps_potential.pair_coeffs[-1].add_term('parameter', 2.8655)\n",
    "\n",
    "lammps_potential.add_pair_coeff(interaction=['Fe', 'Al'])\n",
    "lammps_potential.pair_coeffs[-1].add_term('parameter', 0.3761) \n",
    "lammps_potential.pair_coeffs[-1].add_term('parameter', 1.2475)\n",
    "lammps_potential.pair_coeffs[-1].add_term('parameter', 3.0124)\n",
    "\n",
    "\n",
    "\n",
    "lammps_potential.add_pair_coeff(interaction=['Ni', 'Mn'])\n",
    "lammps_potential.pair_coeffs[-1].add_term('parameter', 0.355) \n",
    "lammps_potential.pair_coeffs[-1].add_term('parameter', 1.3659)\n",
    "lammps_potential.pair_coeffs[-1].add_term('parameter', 2.834)\n",
    "\n",
    "lammps_potential.add_pair_coeff(interaction=['Ni', 'Al'])\n",
    "lammps_potential.pair_coeffs[-1].add_term('parameter', 0.3807) \n",
    "lammps_potential.pair_coeffs[-1].add_term('parameter', 1.2605)\n",
    "lammps_potential.pair_coeffs[-1].add_term('parameter', 3.028)\n",
    "\n",
    "\n",
    "\n",
    "lammps_potential.add_pair_coeff(interaction=['Mn', 'Al'])\n",
    "lammps_potential.pair_coeffs[-1].add_term('parameter', 0.3142) \n",
    "lammps_potential.pair_coeffs[-1].add_term('parameter', 1.2654)\n",
    "lammps_potential.pair_coeffs[-1].add_term('parameter', 3.0235)"
   ]
  },
  {
   "cell_type": "code",
   "execution_count": null,
   "metadata": {},
   "outputs": [],
   "source": [
    "# Define any additional required command lines\n",
    "#lammps_potential.add_command()\n",
    "#lammps_potential.commands[0].add_term('option', 'asfd')"
   ]
  },
  {
   "cell_type": "markdown",
   "metadata": {},
   "source": [
    "### 5.2 Load potential_LAMMPS from database "
   ]
  },
  {
   "cell_type": "code",
   "execution_count": null,
   "metadata": {},
   "outputs": [],
   "source": [
    "#lammps_potential = db.get_lammps_potential(id='2023--Jana-R--Fe--LAMMPS--ipr1', verbose=True)"
   ]
  },
  {
   "cell_type": "markdown",
   "metadata": {},
   "source": [
    "### 5.3 Load potential_LAMMPS from local file not in database "
   ]
  },
  {
   "cell_type": "code",
   "execution_count": 44,
   "metadata": {},
   "outputs": [],
   "source": [
    "#fname = Path('2020--Groger-R--Co-Cr-Fe-Mn-Ni--LAMMPS--ipr1.json')\n",
    "#lammps_potential = potentials.record.PotentialLAMMPS(fname)"
   ]
  },
  {
   "cell_type": "markdown",
   "metadata": {},
   "source": [
    "### 5.4 Review and save"
   ]
  },
  {
   "cell_type": "markdown",
   "metadata": {},
   "source": [
    "#### Review model"
   ]
  },
  {
   "cell_type": "code",
   "execution_count": 31,
   "metadata": {
    "tags": []
   },
   "outputs": [
    {
     "name": "stdout",
     "output_type": "stream",
     "text": [
      "{\n",
      "  \"potential-LAMMPS\": {\n",
      "    \"key\": \"0d130438-d1fb-4d1c-9b49-8e3207b84a6f\",\n",
      "    \"id\": \"2025--Oliveira-D-S--Ga-P--LAMMPS--ipr1\",\n",
      "    \"URL\": \"https://potentials.nist.gov/pid/rest/local/potentials/2025--Oliveira-D-S--Ga-P--LAMMPS--ipr1\",\n",
      "    \"potential\": {\n",
      "      \"key\": \"f975ac9b-c8fe-4587-acb8-27faebd80949\",\n",
      "      \"id\": \"2025--Oliveira-D-S-Kuritza-D-P-Zavarize-M-et-al--Ga-P\",\n",
      "      \"URL\": \"https://potentials.nist.gov/pid/rest/local/potentials/potential.2025--Oliveira-D-S-Kuritza-D-P-Zavarize-M-et-al--Ga-P\",\n",
      "      \"doi\": \"10.1021/acsanm.5c01892\"\n",
      "    },\n",
      "    \"comments\": \"Potential 2025--Oliveira-D-S--Ga-P--LAMMPS--ipr1 listed in the NIST Interatomic Potentials Repository:\\nhttps://www.ctcms.nist.gov/potentials/entry/2025--Oliveira-D-S-Kuritza-D-P-Zavarize-M-et-al--Ga-P/2025--Oliveira-D-S--Ga-P--LAMMPS--ipr1.html\\n\",\n",
      "    \"units\": \"metal\",\n",
      "    \"atom_style\": \"atomic\",\n",
      "    \"atom\": [\n",
      "      {\n",
      "        \"symbol\": \"Ga\",\n",
      "        \"element\": \"Ga\",\n",
      "        \"mass\": 69.723\n",
      "      },\n",
      "      {\n",
      "        \"symbol\": \"P\",\n",
      "        \"element\": \"P\",\n",
      "        \"mass\": 30.973762\n",
      "      }\n",
      "    ],\n",
      "    \"pair_style\": {\n",
      "      \"type\": \"adp\"\n",
      "    },\n",
      "    \"pair_coeff\": {\n",
      "      \"term\": [\n",
      "        {\n",
      "          \"file\": \"GaP.lammps\"\n",
      "        },\n",
      "        {\n",
      "          \"symbols\": true\n",
      "        }\n",
      "      ]\n",
      "    },\n",
      "    \"artifact\": {\n",
      "      \"web-link\": {\n",
      "        \"URL\": \"https://www.ctcms.nist.gov/potentials/Download/2025--Oliveira-D-S-Kuritza-D-P-Zavarize-M-et-al--Ga-P/1/GaP.lammps\",\n",
      "        \"link-text\": \"GaP.lammps\"\n",
      "      }\n",
      "    }\n",
      "  }\n",
      "}\n"
     ]
    }
   ],
   "source": [
    "print(lammps_potential.build_model().json(indent=2))"
   ]
  },
  {
   "cell_type": "code",
   "execution_count": 32,
   "metadata": {
    "tags": []
   },
   "outputs": [
    {
     "name": "stdout",
     "output_type": "stream",
     "text": [
      "print \"Potential 2025--Oliveira-D-S--Ga-P--LAMMPS--ipr1 listed in the NIST Interatomic Potentials Repository:\"\n",
      "print \"https://www.ctcms.nist.gov/potentials/entry/2025--Oliveira-D-S-Kuritza-D-P-Zavarize-M-et-al--Ga-P/2025--Oliveira-D-S--Ga-P--LAMMPS--ipr1.html\"\n",
      "print \"Publication(s) related to the potential:\"\n",
      "print \"https://doi.org/10.1021/acsanm.5c01892\"\n",
      "print \"Parameter file(s) can be downloaded at:\"\n",
      "print \"https://www.ctcms.nist.gov/potentials/Download/2025--Oliveira-D-S-Kuritza-D-P-Zavarize-M-et-al--Ga-P/1/GaP.lammps\"\n",
      "\n",
      "pair_style adp \n",
      "pair_coeff * * GaP.lammps Ga P\n",
      "\n",
      "mass 1 69.723\n",
      "mass 2 30.973762\n",
      "\n",
      "\n"
     ]
    }
   ],
   "source": [
    "print(lammps_potential.pair_info())"
   ]
  },
  {
   "cell_type": "code",
   "execution_count": 33,
   "metadata": {
    "tags": []
   },
   "outputs": [
    {
     "data": {
      "text/plain": [
       "'2025--Oliveira-D-S--Ga-P--LAMMPS--ipr1'"
      ]
     },
     "execution_count": 33,
     "metadata": {},
     "output_type": "execute_result"
    }
   ],
   "source": [
    "lammps_potential.name"
   ]
  },
  {
   "cell_type": "markdown",
   "metadata": {},
   "source": [
    "#### Save"
   ]
  },
  {
   "cell_type": "code",
   "execution_count": 34,
   "metadata": {
    "tags": []
   },
   "outputs": [
    {
     "name": "stdout",
     "output_type": "stream",
     "text": [
      "potential_LAMMPS record named 2025--Oliveira-D-S--Ga-P--LAMMPS--ipr1 added to C:\\Users\\lmh1\\Documents\\library\n",
      "files saved to local folder\n",
      "potential_LAMMPS record named 2025--Oliveira-D-S--Ga-P--LAMMPS--ipr1 added to https://potentials.nist.gov/\n",
      "potential_LAMMPS record named 2025--Oliveira-D-S--Ga-P--LAMMPS--ipr1 assigned to workspace Global Public Workspace\n"
     ]
    }
   ],
   "source": [
    "db.save_lammps_potential(lammps_potential, filenames=filenames,  verbose=True)\n",
    "with db.remote_database.cdcs.auto_set_pid_off():\n",
    "    db.upload_lammps_potential(lammps_potential, workspace=workspace, overwrite=True, verbose=True)"
   ]
  },
  {
   "cell_type": "code",
   "execution_count": null,
   "metadata": {},
   "outputs": [],
   "source": [
    "#db.delete_lammps_potential(lammps_potential, local=True, remote=True, verbose=True)"
   ]
  },
  {
   "cell_type": "code",
   "execution_count": null,
   "metadata": {},
   "outputs": [],
   "source": [
    "#db.download_lammps_potentials(getfiles=True, overwrite=True, verbose=True)"
   ]
  },
  {
   "cell_type": "markdown",
   "metadata": {},
   "source": [
    "- - -\n",
    "\n",
    "## 5. Actions\n",
    "\n",
    "Actions are used by the website to note changes in content and representation. "
   ]
  },
  {
   "cell_type": "markdown",
   "metadata": {},
   "source": [
    "### 5.1 Build action"
   ]
  },
  {
   "cell_type": "markdown",
   "metadata": {},
   "source": [
    "#### Option #1: new posting(s)"
   ]
  },
  {
   "cell_type": "code",
   "execution_count": 35,
   "metadata": {
    "tags": []
   },
   "outputs": [
    {
     "name": "stdout",
     "output_type": "stream",
     "text": [
      "2025--Oliveira-D-S-Kuritza-D-P-Zavarize-M-et-al--Ga-P\n"
     ]
    }
   ],
   "source": [
    "for complete_potential in complete_potentials:\n",
    "    print(complete_potential.id)"
   ]
  },
  {
   "cell_type": "code",
   "execution_count": 9,
   "metadata": {
    "tags": []
   },
   "outputs": [],
   "source": [
    "from potentials.record.Action import PotInfo\n",
    "pot_infos = []\n",
    "for complete_potential in complete_potentials:\n",
    "    pot_info = PotInfo.from_potential(complete_potential)\n",
    "    pot_infos.append(pot_info)"
   ]
  },
  {
   "cell_type": "code",
   "execution_count": 36,
   "metadata": {
    "tags": []
   },
   "outputs": [],
   "source": [
    "action = potentials.load_record('Action',\n",
    "    type = 'new posting',\n",
    "    potentials = complete_potentials,\n",
    "    #date = datetime.date(2021, 10, 26),\n",
    "    comment = \"test\",\n",
    ")"
   ]
  },
  {
   "cell_type": "code",
   "execution_count": 66,
   "metadata": {
    "tags": []
   },
   "outputs": [],
   "source": []
  },
  {
   "cell_type": "markdown",
   "metadata": {},
   "source": [
    "#### Option #2: updated posting(s)"
   ]
  },
  {
   "cell_type": "code",
   "execution_count": 7,
   "metadata": {
    "tags": []
   },
   "outputs": [],
   "source": [
    "action = potentials.load_record('Action',\n",
    "    type = 'updated posting',\n",
    "    potentials = complete_potentials,\n",
    "    date = None,\n",
    "    comment = 'New version added that fixes the lattice parameter',\n",
    ")"
   ]
  },
  {
   "cell_type": "markdown",
   "metadata": {},
   "source": [
    "#### Option #3: retraction"
   ]
  },
  {
   "cell_type": "code",
   "execution_count": null,
   "metadata": {},
   "outputs": [],
   "source": [
    "action = potentials.load_record('Action',\n",
    "    type = 'retraction',\n",
    "    potentials = complete_potentials,\n",
    "    date = None,        \n",
    "    comment =,\n",
    ")"
   ]
  },
  {
   "cell_type": "markdown",
   "metadata": {},
   "source": [
    "#### Option #4: site change"
   ]
  },
  {
   "cell_type": "code",
   "execution_count": null,
   "metadata": {},
   "outputs": [],
   "source": [
    "action = potentials.load_record('Action',\n",
    "    type = 'site change',\n",
    "    date = None,\n",
    "    comment = 'IDs added for all non-LAMMPS implementations. The handling of fictional potentials made consistent with \"real\" potentials.',\n",
    "    potentials = []\n",
    ")"
   ]
  },
  {
   "cell_type": "code",
   "execution_count": 40,
   "metadata": {
    "tags": []
   },
   "outputs": [],
   "source": [
    "action = potentials.load_record('Action',\n",
    "    type = 'site change',\n",
    "    date = None,\n",
    "    comment = 'test test.',\n",
    "    potentials = []\n",
    ")"
   ]
  },
  {
   "cell_type": "markdown",
   "metadata": {},
   "source": [
    "### 5.2 Look and save"
   ]
  },
  {
   "cell_type": "code",
   "execution_count": 189,
   "metadata": {
    "tags": []
   },
   "outputs": [
    {
     "data": {
      "text/plain": [
       "['Cr', 'Ni', 'Co', 'W']"
      ]
     },
     "execution_count": 189,
     "metadata": {},
     "output_type": "execute_result"
    }
   ],
   "source": [
    "pot.elements"
   ]
  },
  {
   "cell_type": "code",
   "execution_count": 46,
   "metadata": {
    "tags": []
   },
   "outputs": [
    {
     "data": {
      "text/plain": [
       "'<?xml version=\"1.0\" encoding=\"utf-8\"?>\\n<action><date>2025-06-27</date><type>site change</type><comment>test test.</comment></action>'"
      ]
     },
     "execution_count": 46,
     "metadata": {},
     "output_type": "execute_result"
    }
   ],
   "source": [
    "action.build_model().xml()"
   ]
  },
  {
   "cell_type": "code",
   "execution_count": 197,
   "metadata": {
    "tags": []
   },
   "outputs": [
    {
     "data": {
      "text/plain": [
       "DataModelDict([('action',\n",
       "                DataModelDict([('date', '2025-04-30'),\n",
       "                               ('type', 'new posting'),\n",
       "                               ('potential',\n",
       "                                [DataModelDict([('key',\n",
       "                                                 '5a350704-ba3e-480a-87cf-d2311f946220'),\n",
       "                                                ('id',\n",
       "                                                 '2025--Sharifi-H-Wick-C-D--Cr-Ni-Co-W'),\n",
       "                                                ('doi',\n",
       "                                                 '10.1016/j.commatsci.2025.113877'),\n",
       "                                                ('element',\n",
       "                                                 ['Cr', 'Ni', 'Co', 'W'])]),\n",
       "                                 DataModelDict([('key',\n",
       "                                                 'eae63244-f2e6-4adb-8e38-c5cb34c104cb'),\n",
       "                                                ('id',\n",
       "                                                 '2025--Sharifi-H-Wick-C-D--W'),\n",
       "                                                ('doi',\n",
       "                                                 '10.1016/j.commatsci.2025.113877'),\n",
       "                                                ('element', ['W'])]),\n",
       "                                 DataModelDict([('key',\n",
       "                                                 'bb73b76e-961e-4ddb-a66d-56007cd838ca'),\n",
       "                                                ('id',\n",
       "                                                 '2025--Sharifi-H-Wick-C-D--Co-W'),\n",
       "                                                ('doi',\n",
       "                                                 '10.1016/j.commatsci.2025.113877'),\n",
       "                                                ('element', ['Co', 'W'])]),\n",
       "                                 DataModelDict([('key',\n",
       "                                                 'ac329145-68ea-4298-995d-983555d38fe8'),\n",
       "                                                ('id',\n",
       "                                                 '2025--Sharifi-H-Wick-C-D--Cr-W'),\n",
       "                                                ('doi',\n",
       "                                                 '10.1016/j.commatsci.2025.113877'),\n",
       "                                                ('element', ['Cr', 'W'])]),\n",
       "                                 DataModelDict([('key',\n",
       "                                                 'b1a6beae-7807-4cc6-97e5-2a61f7a2cc9b'),\n",
       "                                                ('id',\n",
       "                                                 '2025--Sharifi-H-Wick-C-D--Ni-W'),\n",
       "                                                ('doi',\n",
       "                                                 '10.1016/j.commatsci.2025.113877'),\n",
       "                                                ('element', ['Ni', 'W'])]),\n",
       "                                 DataModelDict([('key',\n",
       "                                                 '971dd43f-d2ac-46b2-80ac-6fa448e9d019'),\n",
       "                                                ('id',\n",
       "                                                 '2025--Sharifi-H-Wick-C-D--W-Cr-Co'),\n",
       "                                                ('doi',\n",
       "                                                 '10.1016/j.commatsci.2025.113877'),\n",
       "                                                ('element',\n",
       "                                                 ['W', 'Cr', 'Co'])]),\n",
       "                                 DataModelDict([('key',\n",
       "                                                 'e117695d-3cf1-47a8-8bf3-5e1d5d664780'),\n",
       "                                                ('id',\n",
       "                                                 '2025--Sharifi-H-Wick-C-D--W-Cr-Ni'),\n",
       "                                                ('doi',\n",
       "                                                 '10.1016/j.commatsci.2025.113877'),\n",
       "                                                ('element',\n",
       "                                                 ['W', 'Cr', 'Ni'])]),\n",
       "                                 DataModelDict([('key',\n",
       "                                                 '40d176e1-0765-41c4-af19-8bf50304cfe9'),\n",
       "                                                ('id',\n",
       "                                                 '2025--Sharifi-H-Wick-C-D--W-Ni-Co'),\n",
       "                                                ('doi',\n",
       "                                                 '10.1016/j.commatsci.2025.113877'),\n",
       "                                                ('element',\n",
       "                                                 ['W', 'Ni', 'Co'])]),\n",
       "                                 DataModelDict([('key',\n",
       "                                                 '5a350704-ba3e-480a-87cf-d2311f946220'),\n",
       "                                                ('id',\n",
       "                                                 '2025--Sharifi-H-Wick-C-D--Cr-Ni-Co-W'),\n",
       "                                                ('doi',\n",
       "                                                 '10.1016/j.commatsci.2025.113877'),\n",
       "                                                ('element',\n",
       "                                                 ['Cr', 'Ni', 'Co', 'W'])]),\n",
       "                                 DataModelDict([('key',\n",
       "                                                 'eae63244-f2e6-4adb-8e38-c5cb34c104cb'),\n",
       "                                                ('id',\n",
       "                                                 '2025--Sharifi-H-Wick-C-D--W'),\n",
       "                                                ('doi',\n",
       "                                                 '10.1016/j.commatsci.2025.113877'),\n",
       "                                                ('element', ['W'])]),\n",
       "                                 DataModelDict([('key',\n",
       "                                                 'bb73b76e-961e-4ddb-a66d-56007cd838ca'),\n",
       "                                                ('id',\n",
       "                                                 '2025--Sharifi-H-Wick-C-D--Co-W'),\n",
       "                                                ('doi',\n",
       "                                                 '10.1016/j.commatsci.2025.113877'),\n",
       "                                                ('element', ['Co', 'W'])]),\n",
       "                                 DataModelDict([('key',\n",
       "                                                 'ac329145-68ea-4298-995d-983555d38fe8'),\n",
       "                                                ('id',\n",
       "                                                 '2025--Sharifi-H-Wick-C-D--Cr-W'),\n",
       "                                                ('doi',\n",
       "                                                 '10.1016/j.commatsci.2025.113877'),\n",
       "                                                ('element', ['Cr', 'W'])]),\n",
       "                                 DataModelDict([('key',\n",
       "                                                 'b1a6beae-7807-4cc6-97e5-2a61f7a2cc9b'),\n",
       "                                                ('id',\n",
       "                                                 '2025--Sharifi-H-Wick-C-D--Ni-W'),\n",
       "                                                ('doi',\n",
       "                                                 '10.1016/j.commatsci.2025.113877'),\n",
       "                                                ('element', ['Ni', 'W'])]),\n",
       "                                 DataModelDict([('key',\n",
       "                                                 '971dd43f-d2ac-46b2-80ac-6fa448e9d019'),\n",
       "                                                ('id',\n",
       "                                                 '2025--Sharifi-H-Wick-C-D--W-Cr-Co'),\n",
       "                                                ('doi',\n",
       "                                                 '10.1016/j.commatsci.2025.113877'),\n",
       "                                                ('element',\n",
       "                                                 ['W', 'Cr', 'Co'])]),\n",
       "                                 DataModelDict([('key',\n",
       "                                                 'e117695d-3cf1-47a8-8bf3-5e1d5d664780'),\n",
       "                                                ('id',\n",
       "                                                 '2025--Sharifi-H-Wick-C-D--W-Cr-Ni'),\n",
       "                                                ('doi',\n",
       "                                                 '10.1016/j.commatsci.2025.113877'),\n",
       "                                                ('element',\n",
       "                                                 ['W', 'Cr', 'Ni'])]),\n",
       "                                 DataModelDict([('key',\n",
       "                                                 '40d176e1-0765-41c4-af19-8bf50304cfe9'),\n",
       "                                                ('id',\n",
       "                                                 '2025--Sharifi-H-Wick-C-D--W-Ni-Co'),\n",
       "                                                ('doi',\n",
       "                                                 '10.1016/j.commatsci.2025.113877'),\n",
       "                                                ('element',\n",
       "                                                 ['W', 'Ni', 'Co'])])]),\n",
       "                               ('comment', 'New potential for CrNiCoW')]))])"
      ]
     },
     "execution_count": 197,
     "metadata": {},
     "output_type": "execute_result"
    }
   ],
   "source": [
    "from DataModelDict import DataModelDict as DM\n",
    "\n",
    "\n",
    "for i, pot in enumerate(complete_potentials):\n",
    "    pot_model = DM()\n",
    "    pot_model['key'] = pot.key\n",
    "    pot_model['id'] = pot.id\n",
    "    pot_model['doi'] = pot.citations[0].doi\n",
    "    pot_model['element'] = pot.elements\n",
    "    \n",
    "    action.model['action'].append('potential', pot_model)\n",
    "    if 'comment' in action.model['action']:\n",
    "        action.model['action']['comment'] =  action.model['action'].pop('comment')\n",
    "action.model\n"
   ]
  },
  {
   "cell_type": "code",
   "execution_count": 43,
   "metadata": {
    "tags": []
   },
   "outputs": [
    {
     "data": {
      "text/html": [
       "<div xmlns=\"http://www.w3.org/TR/xhtml1/strict\"><b>site change (2025-06-27): </b>test test. </div>"
      ],
      "text/plain": [
       "<IPython.core.display.HTML object>"
      ]
     },
     "metadata": {},
     "output_type": "display_data"
    }
   ],
   "source": [
    "#action.build_model()\n",
    "action.html(render=True)"
   ]
  },
  {
   "cell_type": "code",
   "execution_count": 44,
   "metadata": {
    "tags": []
   },
   "outputs": [
    {
     "name": "stdout",
     "output_type": "stream",
     "text": [
      "Action record named 2025-06-27 test test. added to https://potentials.nist.gov/\n",
      "Action record named 2025-06-27 test test. assigned to workspace Global Public Workspace\n"
     ]
    }
   ],
   "source": [
    "db.upload_action(action, workspace=workspace, overwrite=True, verbose=True)"
   ]
  },
  {
   "cell_type": "code",
   "execution_count": 45,
   "metadata": {
    "tags": []
   },
   "outputs": [
    {
     "data": {
      "text/plain": [
       "<potentials.record.Action.Action at 0x24c0b22de90>"
      ]
     },
     "execution_count": 45,
     "metadata": {},
     "output_type": "execute_result"
    }
   ],
   "source": [
    "db.remote_database.add_record(record=action)"
   ]
  },
  {
   "cell_type": "markdown",
   "metadata": {},
   "source": [
    "- - -\n",
    "\n",
    "## 6. Requests\n",
    "\n",
    "Requests are used by the website to list when people are looking for specific models that we don't have."
   ]
  },
  {
   "cell_type": "markdown",
   "metadata": {},
   "source": [
    "### 6.1 Build request"
   ]
  },
  {
   "cell_type": "code",
   "execution_count": 42,
   "metadata": {
    "tags": []
   },
   "outputs": [],
   "source": [
    "request = potentials.load_record(\n",
    "    'Request',\n",
    "    #comment = 'for WS2 films',\n",
    "    #date = datetime.date(2022, 11, 1),\n",
    "    systems = [\n",
    "        {\n",
    "        #    'formula': 'KNbO3',\n",
    "            'elements': ['W','Co', 'C'],\n",
    "        },\n",
    "        #{\n",
    "        #    'formula': 'RbNbO3',\n",
    "        #    'elements': ['Rb', 'Nb', 'O'],\n",
    "        #},\n",
    "    ]\n",
    ")\n"
   ]
  },
  {
   "cell_type": "markdown",
   "metadata": {},
   "source": [
    "### 6.2 Look and save"
   ]
  },
  {
   "cell_type": "code",
   "execution_count": 43,
   "metadata": {
    "tags": []
   },
   "outputs": [
    {
     "data": {
      "text/html": [
       "<div xmlns=\"http://www.w3.org/TR/xhtml1/strict\"><b>W-Co-C  </b> (2024-03-21)</div>"
      ],
      "text/plain": [
       "<IPython.core.display.HTML object>"
      ]
     },
     "metadata": {},
     "output_type": "display_data"
    }
   ],
   "source": [
    "request.build_model()\n",
    "display(HTML(request.html()))"
   ]
  },
  {
   "cell_type": "code",
   "execution_count": 44,
   "metadata": {
    "tags": []
   },
   "outputs": [
    {
     "name": "stdout",
     "output_type": "stream",
     "text": [
      "Request record named 2024-03-21 W Co C added to https://potentials.nist.gov/\n",
      "Request record named 2024-03-21 W Co C assigned to workspace Global Public Workspace\n"
     ]
    }
   ],
   "source": [
    "db.upload_request(request, workspace=workspace, overwrite=True, verbose=True)"
   ]
  },
  {
   "cell_type": "markdown",
   "metadata": {},
   "source": [
    "## 7. Related models"
   ]
  },
  {
   "cell_type": "code",
   "execution_count": 200,
   "metadata": {
    "tags": []
   },
   "outputs": [],
   "source": [
    "import json\n",
    "\n",
    "def add_related_models(localpath, interaction, model1, model2):\n",
    "    \n",
    "    with open(Path(localpath, 'site/related-interactions.json')) as f:\n",
    "        related_models = json.load(f)\n",
    "    \n",
    "    # If no shared models for that interaction yet\n",
    "    if interaction not in related_models:\n",
    "        print('new interaction')\n",
    "        related_models[interaction] = [[model1, model2]]\n",
    "            \n",
    "    else:\n",
    "        int_models = related_models[interaction]\n",
    "        \n",
    "        # Search for set with one of the elements\n",
    "        match = False\n",
    "        for i in range(len(int_models)):\n",
    "            modelset = int_models[i]\n",
    "            if model1 in modelset:\n",
    "                if match is False:\n",
    "                    match = i\n",
    "                else:\n",
    "                    raise ValueError('given models found in multiple sets!')\n",
    "            if model2 in modelset:\n",
    "                if match is False or match == i:\n",
    "                    match = i\n",
    "                else:\n",
    "                    raise ValueError('given models found in multiple sets!')\n",
    "                    \n",
    "        if match is False:\n",
    "            print('new set')\n",
    "            int_models.append(sorted([model1, model2]))\n",
    "        else:\n",
    "            if model1 not in int_models[match]:\n",
    "                int_models[match] = sorted(int_models[match] + [model1])\n",
    "                print('model1 added to existing set')\n",
    "            elif model2 not in int_models[match]:\n",
    "                int_models[match] = sorted(int_models[match] + [model2])\n",
    "                print('model2 added to existing set')\n",
    "            else:\n",
    "                print('both models already in existing set')\n",
    "    \n",
    "    with open(Path(localpath, 'site/related-interactions.json'), 'w') as f:\n",
    "        json.dump(related_models, fp=f)"
   ]
  },
  {
   "cell_type": "code",
   "execution_count": 240,
   "metadata": {
    "tags": []
   },
   "outputs": [
    {
     "name": "stdout",
     "output_type": "stream",
     "text": [
      "new interaction\n"
     ]
    }
   ],
   "source": [
    "interaction = 'Cr-Ni-W'\n",
    "#model1 = '2025--Sharifi-H-Wick-C-D--Fe-Mn-Ni-Ti-Cu-Cr-Co-Al'\n",
    "model1 = '2025--Sharifi-H-Wick-C-D--Cr-Ni-Co-W'\n",
    "\n",
    "#model2 = '2025--Sharifi-H-Wick-C-D--Cr-Ni-Co-W'\n",
    "#model2 = '2025--Sharifi-H-Wick-C-D--W'\n",
    "#model2 = '2025--Sharifi-H-Wick-C-D--Co-W'\n",
    "#model2 = '2025--Sharifi-H-Wick-C-D--Cr-W'\n",
    "#model2 = '2025--Sharifi-H-Wick-C-D--Ni-W'\n",
    "#model2 = '2025--Sharifi-H-Wick-C-D--W-Cr-Co'\n",
    "model2 = '2025--Sharifi-H-Wick-C-D--W-Cr-Ni'\n",
    "#model2 = '2025--Sharifi-H-Wick-C-D--W-Ni-Co'\n",
    "\n",
    "machine = 'desktop'\n",
    "\n",
    "if machine == 'desktop':\n",
    "    localpath = Path('F:/website/IPR-website/potentials/')\n",
    "elif machine == 'laptop':\n",
    "    localpath = Path('C:/Users/lmh1/Documents/website/IPR-website/potentials/')\n",
    "\n",
    "add_related_models(localpath, interaction, model1, model2)"
   ]
  },
  {
   "cell_type": "code",
   "execution_count": 236,
   "metadata": {
    "tags": []
   },
   "outputs": [
    {
     "name": "stdout",
     "output_type": "stream",
     "text": [
      "Co-Cr-Ni\n",
      "Co-Cr-W\n",
      "Co-Ni-W\n",
      "Cr-Ni-W\n"
     ]
    }
   ],
   "source": [
    "els = ['Co', 'Cr', 'Ni', 'W']\n",
    "for i in range(4):\n",
    "    for j in range(i+1, 4):\n",
    "        for k in range(j+1,4):\n",
    "            print(f'{els[i]}-{els[j]}-{els[k]}')"
   ]
  },
  {
   "cell_type": "code",
   "execution_count": null,
   "metadata": {},
   "outputs": [],
   "source": []
  }
 ],
 "metadata": {
  "kernelspec": {
   "display_name": "Python 3 (ipykernel)",
   "language": "python",
   "name": "python3"
  },
  "language_info": {
   "codemirror_mode": {
    "name": "ipython",
    "version": 3
   },
   "file_extension": ".py",
   "mimetype": "text/x-python",
   "name": "python",
   "nbconvert_exporter": "python",
   "pygments_lexer": "ipython3",
   "version": "3.11.3"
  }
 },
 "nbformat": 4,
 "nbformat_minor": 4
}
