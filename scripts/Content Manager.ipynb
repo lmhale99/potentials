{
 "cells": [
  {
   "cell_type": "markdown",
   "metadata": {},
   "source": [
    "# Interatomic Potential Repository Content Manager\n",
    "\n",
    "This is a working Notebook providing a single location for adding and modifying content in the potentials.nist.gov database.\n",
    "\n",
    "Notebook outline:\n",
    "\n",
    "0. Setup: Python library imports and defining global parameters.\n",
    "\n",
    "1. Citations: Load, add and modify citation information associated with potential models. Each potential should have at least one citation, with the first being the \"primary\" one for generating IDs. For unpublished potentials, use the unpublished citation option.\n",
    "\n",
    "2. Potentials: Load, add and modify potential information.  A \"potential\" should be a unique parameterization with an associated citation. Note that saving to the database is done in step #4.\n",
    "\n",
    "3. Implementations: Load, add and modify the implementations of a potential. An \"implementation\" is a specific version/representation of a potential in a specific format. Each potential can have zero, one or multiple implementations.\n",
    "\n",
    "4. Save potentials: Review the new/modified potentials and save the content to the database.\n",
    "\n",
    "5. Actions: Actions are used to list changes to the repository. If a potential is added/modified, a corresponding action should also be added.\n",
    "\n",
    "6. Requests: A request is listed on the repository whenever someone asks for a model that we do not have."
   ]
  },
  {
   "cell_type": "markdown",
   "metadata": {},
   "source": [
    "## 0. Setup"
   ]
  },
  {
   "cell_type": "markdown",
   "metadata": {},
   "source": [
    "### Library imports"
   ]
  },
  {
   "cell_type": "code",
   "execution_count": 1,
   "metadata": {},
   "outputs": [],
   "source": [
    "import uuid\n",
    "import datetime\n",
    "import shutil\n",
    "from pathlib import Path\n",
    "\n",
    "import potentials\n",
    "\n",
    "import numpy as np\n",
    "\n",
    "# Jupyter display libraries\n",
    "from IPython.core.display import display, HTML"
   ]
  },
  {
   "cell_type": "markdown",
   "metadata": {},
   "source": [
    "### Global parameters\n",
    "\n",
    "- __machine__ is the name of the machine where this script is being executed.  This is used so that local file and directory paths can be appropriately set.\n",
    "\n",
    "- __complete_potentials__ is a compiled list of the potentials whose addition/changes were uploaded to the database.  This is used by step #5 for reporting website changes.  This should be reset after creating an Action for meaningful sets of potentials.\n",
    "\n",
    "- __passwordfile__ is the path to a file containing the username and password to use to sign into potentials.nist.gov.\n",
    "\n",
    "- __db__ is the Database object for accessing and uploading records to the database.\n",
    "\n",
    "- __workspace__ is the workspace to assign to the uploaded records.  If None, then they are only accessible to the submitter until the workspace is changed."
   ]
  },
  {
   "cell_type": "code",
   "execution_count": 2,
   "metadata": {},
   "outputs": [],
   "source": [
    "machine = 'laptop'\n",
    "#machine = 'desktop'"
   ]
  },
  {
   "cell_type": "code",
   "execution_count": 3,
   "metadata": {},
   "outputs": [],
   "source": [
    "complete_potentials = []"
   ]
  },
  {
   "cell_type": "code",
   "execution_count": 4,
   "metadata": {},
   "outputs": [],
   "source": [
    "# Set passwordfile based on machine\n",
    "if machine == 'laptop':\n",
    "    passwordfile = Path('C:/Users/lmh1/Documents/potentials_nist_gov/password.txt')\n",
    "elif machine == 'desktop':\n",
    "    passwordfile = Path('E:/potentials_nist_gov/password.txt')\n",
    "else:\n",
    "    raise ValueError(f'passwordfile not set for machine {machine}')\n",
    "\n",
    "# Load database using username + password\n",
    "with open(Path(passwordfile)) as f:\n",
    "    username, password = f.read().strip().split()\n",
    "db = potentials.Database(username=username, password=password)"
   ]
  },
  {
   "cell_type": "code",
   "execution_count": 5,
   "metadata": {},
   "outputs": [],
   "source": [
    "#workspace = None\n",
    "workspace = db.cdcs.global_workspace"
   ]
  },
  {
   "cell_type": "markdown",
   "metadata": {},
   "source": [
    "- - -\n",
    "\n",
    "## 1. Citations"
   ]
  },
  {
   "cell_type": "code",
   "execution_count": 6,
   "metadata": {},
   "outputs": [
    {
     "name": "stdout",
     "output_type": "stream",
     "text": [
      "Loaded 352 local citations\n",
      "Loaded 353 remote citations\n",
      " - 0 new\n"
     ]
    }
   ],
   "source": [
    "db.load_citations(verbose=True)"
   ]
  },
  {
   "cell_type": "markdown",
   "metadata": {},
   "source": [
    "### 1.1 Build or load citation"
   ]
  },
  {
   "cell_type": "markdown",
   "metadata": {},
   "source": [
    "#### Option #1: For existing citations and/or new dois"
   ]
  },
  {
   "cell_type": "code",
   "execution_count": 7,
   "metadata": {},
   "outputs": [
    {
     "name": "stdout",
     "output_type": "stream",
     "text": [
      "Citation retrieved from CrossRef\n"
     ]
    }
   ],
   "source": [
    "doi = '10.25950/962b4967'\n",
    "\n",
    "citation = db.get_citation(doi, verbose=True)"
   ]
  },
  {
   "cell_type": "markdown",
   "metadata": {},
   "source": [
    "#### Option #2: For new doi-less citations"
   ]
  },
  {
   "cell_type": "code",
   "execution_count": null,
   "metadata": {},
   "outputs": [],
   "source": [
    "author = 'V. I. Belko and V. E. Gusakov and N. N. Dorozhkin'\n",
    "year = 2010\n",
    "ID = note = f'{year}--Belko-V-I-Gusakov-V-E-Dorozhkin-N-N'\n",
    "\n",
    "citation = potentials.Citation(ENTRYTYPE = 'inproceedings',\n",
    "                               title = 'Potential EDIP for germanium: parameterization and molecular dynamics simulation of point defects',\n",
    "                               author = author,\n",
    "                               ID = ID,\n",
    "                               note = note,\n",
    "                               year = year,\n",
    "                               booktitle = 'Proc. IV International Conference, Materials and Structures of Modern Electronics',\n",
    "                               month='Sep',\n",
    "                               address='Minsk, Belarus', \n",
    "                               pages= '15--18',\n",
    "                               day='23--24'\n",
    "                              )"
   ]
  },
  {
   "cell_type": "code",
   "execution_count": 17,
   "metadata": {},
   "outputs": [],
   "source": [
    "author = 'Ryan S. Elliott and Andrew Akerson'\n",
    "year = 2015\n",
    "ID = note = f'{year}--Elliott-R-S-Akerson-A'\n",
    "title = 'Efficient \"universal\" shifted Lennard-Jones model for all KIM API supported species'\n",
    "#title = 'to be published'\n",
    "\n",
    "citation = potentials.Citation(ENTRYTYPE = 'unpublished',\n",
    "                               title = title,\n",
    "                               author = author,\n",
    "                               ID = ID,\n",
    "                               note = note,\n",
    "                               year = year,\n",
    "                              )"
   ]
  },
  {
   "cell_type": "markdown",
   "metadata": {},
   "source": [
    "#### Option #3: From local directory"
   ]
  },
  {
   "cell_type": "code",
   "execution_count": null,
   "metadata": {},
   "outputs": [],
   "source": [
    "libdir = Path('E:/website/LAMMPS potentials/2nn/biblib')\n",
    "\n",
    "citations = []\n",
    "for bibfile in libdir.glob('*.bib'):\n",
    "    with open(bibfile) as f:\n",
    "        citations.append(potentials.Citation(model=f.read()))"
   ]
  },
  {
   "cell_type": "code",
   "execution_count": null,
   "metadata": {},
   "outputs": [],
   "source": [
    "citation = citations[19]\n",
    "print(citation.year_authors)"
   ]
  },
  {
   "cell_type": "markdown",
   "metadata": {},
   "source": [
    "### 1.2 Investigate and modify\n",
    "\n",
    "- Add abstract\n",
    "\n",
    "- Check and replace garbled latex or other symbols in authors, title and abstract\n",
    "\n",
    "- Verify correct year and page number(s)"
   ]
  },
  {
   "cell_type": "markdown",
   "metadata": {},
   "source": [
    "#### 1.2.1 Generate html and list content fields"
   ]
  },
  {
   "cell_type": "code",
   "execution_count": 18,
   "metadata": {},
   "outputs": [
    {
     "name": "stdout",
     "output_type": "stream",
     "text": [
      "2015--Elliott-R-S-Akerson-A\n",
      "\n"
     ]
    },
    {
     "data": {
      "text/html": [
       "R.S. Elliott and A. Akerson (2015), \"Efficient \"universal\" shifted Lennard-Jones model for all KIM API supported species\",. "
      ],
      "text/plain": [
       "<IPython.core.display.HTML object>"
      ]
     },
     "metadata": {},
     "output_type": "display_data"
    },
    {
     "name": "stdout",
     "output_type": "stream",
     "text": [
      "\n",
      "ENTRYTYPE: unpublished\n",
      "ID: 2015--Elliott-R-S-Akerson-A\n",
      "author: Ryan S. Elliott and Andrew Akerson\n",
      "note: 2015--Elliott-R-S-Akerson-A\n",
      "title: Efficient \"universal\" shifted Lennard-Jones model for all KIM API supported species\n",
      "year: 2015\n"
     ]
    }
   ],
   "source": [
    "print(citation.year_authors)\n",
    "print()\n",
    "display(HTML(citation.html()))\n",
    "print()\n",
    "for key, value in citation.asdict().items():\n",
    "    print(key+':', value)"
   ]
  },
  {
   "cell_type": "markdown",
   "metadata": {},
   "source": [
    "#### 1.2.2 Modify and update fields\n",
    "\n",
    "Any valid bibtex fields can be added, but citation rendering relies only on the primary fields. "
   ]
  },
  {
   "cell_type": "code",
   "execution_count": 9,
   "metadata": {},
   "outputs": [],
   "source": [
    "#citation.abstract = ' '.join([''])\n",
    "citation.author = 'Ryan S. Elliott and Andrew Akerson'\n",
    "#citation.volume\n",
    "#citation.number\n",
    "#citation.title = 'Applications of computational thermodynamics - the extension from phase equilibrium to phase transformations and other properties'\n",
    "#citation.year\n",
    "#citation.pages"
   ]
  },
  {
   "cell_type": "markdown",
   "metadata": {},
   "source": [
    "#### 1.2.3 Review and Save Citation"
   ]
  },
  {
   "cell_type": "code",
   "execution_count": 19,
   "metadata": {},
   "outputs": [
    {
     "data": {
      "text/html": [
       "R.S. Elliott and A. Akerson (2015), \"Efficient \"universal\" shifted Lennard-Jones model for all KIM API supported species\",. "
      ],
      "text/plain": [
       "<IPython.core.display.HTML object>"
      ]
     },
     "metadata": {},
     "output_type": "display_data"
    }
   ],
   "source": [
    "display(HTML(citation.html()))"
   ]
  },
  {
   "cell_type": "code",
   "execution_count": 20,
   "metadata": {},
   "outputs": [
    {
     "name": "stdout",
     "output_type": "stream",
     "text": [
      "1 citations saved to localpath\n",
      " - 1 new citations added\n"
     ]
    }
   ],
   "source": [
    "db.save_citations(citation, overwrite=False, verbose=True)"
   ]
  },
  {
   "cell_type": "code",
   "execution_count": 21,
   "metadata": {},
   "outputs": [
    {
     "name": "stdout",
     "output_type": "stream",
     "text": [
      "record 2015--elliott-r-s-akerson-a (6049131626ed1e003acff725) successfully uploaded.\n",
      "record 6049131626ed1e003acff725 assigned to workspace 5fb55e4826ed1e0015e846a9\n"
     ]
    }
   ],
   "source": [
    "db.upload_citation(citation, workspace=workspace, verbose=True)"
   ]
  },
  {
   "cell_type": "code",
   "execution_count": null,
   "metadata": {},
   "outputs": [],
   "source": [
    "#db.delete_citation(citation, local=True, remote=True, verbose=True)"
   ]
  },
  {
   "cell_type": "code",
   "execution_count": null,
   "metadata": {},
   "outputs": [],
   "source": [
    "db.download_citations(overwrite=True, verbose=True)"
   ]
  },
  {
   "cell_type": "markdown",
   "metadata": {},
   "source": [
    "- - -\n",
    "\n",
    "## 2. Potentials"
   ]
  },
  {
   "cell_type": "code",
   "execution_count": 14,
   "metadata": {},
   "outputs": [
    {
     "name": "stdout",
     "output_type": "stream",
     "text": [
      "Loaded 522 local potentials\n",
      "Loaded 522 remote potentials\n",
      " - 0 new\n"
     ]
    }
   ],
   "source": [
    "db.load_potentials(verbose=True)"
   ]
  },
  {
   "cell_type": "markdown",
   "metadata": {},
   "source": [
    "### 2.1 Build or load potential"
   ]
  },
  {
   "cell_type": "markdown",
   "metadata": {},
   "source": [
    "#### Option #1: Build new potential using citation(s)\n",
    "\n",
    "- __elements__ (*list*) The element models used by the potential.\n",
    "- __citations__ (*list*) The citation(s) to associate with the potential.\n",
    "- __notes__ (*str, optional*) Notes providing more information on the potential, such as usage notes and how the potential relates to other potentials.\n",
    "- __key__ (*str, optional*) UUID4 key to assign to the potential.  If None, a new key will be generated.\n",
    "- __othername__ (*str, optional*) Specifies an alternate description of the interactions besides the list of elements.  Examples include if the model is \"universal\", designed for a specific compound, or is a coarse-grain representation.\n",
    "- __fictional__ (*bool, optional*) Flag indicating if the model is \"fictional\", i.e. purposefully fit to unrealistic properties. \n",
    "- __modelname__ (*str, optional*) Used if citation + element info is not enough to create a unique ID, e.g. a publication lists multiple parameterizations of the same element. The value should make it clear which version it is associated with, and correspond to how the authors refer to it when possible.\n",
    "- __recorddate__ (*datetime.date, optional*) Date to assign to the record.  If not given, will use today's date."
   ]
  },
  {
   "cell_type": "code",
   "execution_count": 22,
   "metadata": {},
   "outputs": [],
   "source": [
    "potential = potentials.Potential(\n",
    "    elements=['H'],\n",
    "    citations=[citation],\n",
    "    #notes=None,\n",
    "    #key=None,\n",
    "    #othername='water',\n",
    "    #fictional=True,\n",
    "    #modelname='34',\n",
    "    #recorddate=datetime.date(2019, 12, 24)\n",
    "    )"
   ]
  },
  {
   "cell_type": "markdown",
   "metadata": {},
   "source": [
    "#### Option #2: Select existing potential"
   ]
  },
  {
   "cell_type": "code",
   "execution_count": 10,
   "metadata": {},
   "outputs": [],
   "source": [
    "potential = db.get_potential(id='2003--Lee-B-J-Shim-J-H-Baskes-M-I--Ag')"
   ]
  },
  {
   "cell_type": "markdown",
   "metadata": {},
   "source": [
    "### 2.2 Investigate and modify"
   ]
  },
  {
   "cell_type": "markdown",
   "metadata": {},
   "source": [
    "#### 2.2.1 Generate html and list content fields"
   ]
  },
  {
   "cell_type": "code",
   "execution_count": 23,
   "metadata": {},
   "outputs": [
    {
     "data": {
      "text/html": [
       "<h3>2015--Elliott-R-S-Akerson-A--H</h3><b>Citation:</b> R.S. Elliott and A. Akerson (2015), \"Efficient \"universal\" shifted Lennard-Jones model for all KIM API supported species\",. </br>\n"
      ],
      "text/plain": [
       "<IPython.core.display.HTML object>"
      ]
     },
     "metadata": {},
     "output_type": "display_data"
    },
    {
     "name": "stdout",
     "output_type": "stream",
     "text": [
      "\n",
      "key: 4baa6170-3d75-45c0-aa0d-f59b3ab547e0\n",
      "id: 2015--Elliott-R-S-Akerson-A--H\n",
      "recorddate: 2021-03-10\n",
      "notes: None\n",
      "fictional: False\n",
      "elements: ['H']\n",
      "othername: None\n",
      "modelname: None\n",
      "citations: [<potentials.Citation.Citation object at 0x0000020967707E48>]\n",
      "implementations: []\n"
     ]
    }
   ],
   "source": [
    "display(HTML(potential.html()))\n",
    "print()\n",
    "for key, value in potential.asdict().items():\n",
    "    print(key+':', value)"
   ]
  },
  {
   "cell_type": "markdown",
   "metadata": {},
   "source": [
    "#### 2.2.2 Modify and update fields\n",
    "\n",
    "Same fields as above"
   ]
  },
  {
   "cell_type": "code",
   "execution_count": null,
   "metadata": {},
   "outputs": [],
   "source": [
    "#potential.key = \n",
    "#potential.recorddate = datetime.date()\n",
    "#potential.elements = []\n",
    "#potential.othername = 'water'\n",
    "#potential.fictional = \n",
    "#potential.modelname = "
   ]
  },
  {
   "cell_type": "code",
   "execution_count": null,
   "metadata": {},
   "outputs": [],
   "source": [
    "potential.notes = 'This potential is mainly focused on the mechanical response of semi-coherent Ti/TiN and Cu/TiN metal/ceramic interfacial systems. The ternary Cu-Ti-N potential was fit to Cu/TiN metal/ceramic interfacial systems of different orientation relations. See the paper for the full list of properties that were fit.'"
   ]
  },
  {
   "cell_type": "code",
   "execution_count": 24,
   "metadata": {},
   "outputs": [],
   "source": [
    "potential.notes = ' '.join(['This is the H interaction from the \"Universal\" parameterization for the openKIM LennardJones612 model driver.'\n",
    "                            'The parameterization uses a shifted cutoff so that all interactions have a continuous',\n",
    "                            'energy function at the cutoff radius. This model was automatically fit using Lorentz-Berthelot'\n",
    "                            'mixing rules. It reproduces the dimer equilibrium separation (covalent radii) and the bond',\n",
    "                            'dissociation energies. It has not been fitted to other physical properties and its ability to',\n",
    "                            'model structures other than dimers is unknown.  See the README and params files on the KIM model',\n",
    "                            'page for more details.'])"
   ]
  },
  {
   "cell_type": "code",
   "execution_count": null,
   "metadata": {},
   "outputs": [],
   "source": [
    "potential.notes += ' Update Oct. 8, 2020: The publication information has been added and the ID has been updated from 2019--Mendelev-M-I--Cu-Zr.'"
   ]
  },
  {
   "cell_type": "code",
   "execution_count": null,
   "metadata": {},
   "outputs": [],
   "source": [
    "potential.citations[0] = citation"
   ]
  },
  {
   "cell_type": "markdown",
   "metadata": {},
   "source": [
    "## 3. Implementations"
   ]
  },
  {
   "cell_type": "markdown",
   "metadata": {},
   "source": [
    "### 3.1 List all current implementation types\n",
    "\n",
    "List is given to help keep type values (relatively) uniform. "
   ]
  },
  {
   "cell_type": "code",
   "execution_count": 25,
   "metadata": {},
   "outputs": [
    {
     "name": "stdout",
     "output_type": "stream",
     "text": [
      "All existing implementation types:\n",
      "    ADP tabulated functions\n",
      "    Dynamo MEAM\n",
      "    EAM setfl\n",
      "    EAM tabulated functions\n",
      "    Equations\n",
      "    FORTRAN\n",
      "    Finnis-Sinclair tables\n",
      "    GULP\n",
      "    IMD option EAM\n",
      "    LAMMPS pair_style adp\n",
      "    LAMMPS pair_style aenet (custom)\n",
      "    LAMMPS pair_style agni\n",
      "    LAMMPS pair_style bop\n",
      "    LAMMPS pair_style comb3\n",
      "    LAMMPS pair_style eam\n",
      "    LAMMPS pair_style eam/alloy\n",
      "    LAMMPS pair_style eam/cd\n",
      "    LAMMPS pair_style eam/fs\n",
      "    LAMMPS pair_style edip\n",
      "    LAMMPS pair_style edip/multi\n",
      "    LAMMPS pair_style eim\n",
      "    LAMMPS pair_style extep\n",
      "    LAMMPS pair_style hybrid table linear 1000 eam/alloy\n",
      "    LAMMPS pair_style hybrid/overlay eam/alloy eam/fs\n",
      "    LAMMPS pair_style hybrid/overlay zbl eam/alloy\n",
      "    LAMMPS pair_style hybrid/overlay zbl snap\n",
      "    LAMMPS pair_style lcbop\n",
      "    LAMMPS pair_style meam\n",
      "    LAMMPS pair_style meam (modified)\n",
      "    LAMMPS pair_style meam/spline\n",
      "    LAMMPS pair_style polymorphic\n",
      "    LAMMPS pair_style reax/c\n",
      "    LAMMPS pair_style sw\n",
      "    LAMMPS pair_style tersoff\n",
      "    LAMMPS pair_style tersoff/mod\n",
      "    LAMMPS pair_style tersoff/mod/c\n",
      "    LAMMPS pair_style tersoff/zbl\n",
      "    LAMMPS pair_style vashishta\n",
      "    MEAM parameters\n",
      "    MEAM splines\n",
      "    Moldy FS\n",
      "    MoldyPSI\n",
      "    OpenKIM\n",
      "    ReaxFF\n",
      "    SPaSM\n",
      "    hybrid/overlay coul/streitz meam\n"
     ]
    }
   ],
   "source": [
    "imptypes = []\n",
    "for pot in db.potentials:\n",
    "    for imp in pot.implementations:\n",
    "        imptypes.append(imp.type)\n",
    "imptypes = np.unique(imptypes)\n",
    "\n",
    "print('All existing implementation types:')\n",
    "for imptypes in imptypes:\n",
    "    print('   ', imptypes)"
   ]
  },
  {
   "cell_type": "markdown",
   "metadata": {},
   "source": [
    "### 3.2 Build or load implementation"
   ]
  },
  {
   "cell_type": "markdown",
   "metadata": {},
   "source": [
    "#### 3.2.1 List ids for current potential and implementations"
   ]
  },
  {
   "cell_type": "code",
   "execution_count": 26,
   "metadata": {},
   "outputs": [
    {
     "name": "stdout",
     "output_type": "stream",
     "text": [
      "potential id: 2015--Elliott-R-S-Akerson-A--H\n",
      "implementation ids:\n"
     ]
    }
   ],
   "source": [
    "print('potential id:', potential.id)\n",
    "print('implementation ids:')\n",
    "for i, implementation in enumerate(potential.implementations):\n",
    "    print(f'{i}: {implementation.id}')"
   ]
  },
  {
   "cell_type": "markdown",
   "metadata": {},
   "source": [
    "#### 3.2.2 Build new implementation\n",
    "\n",
    "- __type__ (*str*) Describes the type of the implementation. Use one of the listed values above if possible.\n",
    "- __id__ (*str*) Unique human-readable id for the implementation. For new content, should be derived from the associated potential id:\n",
    "    - Remove all authors except for the first\n",
    "    - Add a simple format descriptor: LAMMPS, GULP, table, parameters, FORTRAN, etc.\n",
    "    - Add a version descriptor: ipr1, ipr2, etc\n",
    "- __notes__ (*str, optional*) Notes on the implementation.  This includes where the file(s) came from, who created them, testing info, how it differs from other versions, etc.\n",
    "- __key__ (*str, optional*) UUID4 key to assign to the implementation.  If None, a new key will be generated.\n",
    "- __status__ (*str, optional*) Indicates the status of the implementation. Available values are \n",
    "    - \"active\" (default) indicates a current implementation.\n",
    "    - \"superseded\" indicates an implementation that is still consistent with the potential model, but has minor issues that were fixed by a newer implementation.\n",
    "    - \"retracted\" indicates an implementation that was identified as being an invalid representation of the potential model.\n",
    "- __date__ (*datetime.date, optional*) The date that the implementation was submitted or added.  If not given, will use today's date."
   ]
  },
  {
   "cell_type": "code",
   "execution_count": 28,
   "metadata": {},
   "outputs": [],
   "source": [
    "kimid = 'MO_959249795837'\n",
    "implementation = potentials.Implementation(\n",
    "    type='OpenKIM',\n",
    "    id=kimid,\n",
    "    notes=' '.join(['Listing found at https://openkim.org.']),\n",
    "    #notes=' '.join(['Listing found at https://openkim.org.  This KIM potential is based on a parameter file with identical parameter values as 1989--Tersoff-J--Si-Ge--LAMMPS--ipr1.']),\n",
    "    #notes=' '.join(['Listing found at https://openkim.org. This KIM potential is implemented from the analytical expressions rather than a tabulated parameter file.'])#  The parameter file that this KIM potential is based on has slightly different values due to precision rounding than 2017--Purja-Pun-G-P--Si--LAMMPS--ipr1.']),\n",
    "    key='da76eb36-7ca1-421a-bd64-8f6bdd905b15',\n",
    "    #status=None,\n",
    "    #date=datetime.date(2020, 6, 18), \n",
    ")\n",
    "implementation.add_link(url=f\"https://openkim.org/id/{kimid}\", linktext = kimid)\n",
    "\n",
    "index = len(potential.implementations)\n",
    "potential.implementations.append(implementation)\n",
    "\n"
   ]
  },
  {
   "cell_type": "code",
   "execution_count": 29,
   "metadata": {},
   "outputs": [
    {
     "data": {
      "text/html": [
       "<h3>2015--Elliott-R-S-Akerson-A--H</h3><b>Citation:</b> R.S. Elliott and A. Akerson (2015), \"Efficient \"universal\" shifted Lennard-Jones model for all KIM API supported species\",. </br>\n",
       "</br><b>Notes:</b> This is the H interaction from the \"Universal\" parameterization for the openKIM LennardJones612 model driver.The parameterization uses a shifted cutoff so that all interactions have a continuous energy function at the cutoff radius. This model was automatically fit using Lorentz-Berthelotmixing rules. It reproduces the dimer equilibrium separation (covalent radii) and the bond dissociation energies. It has not been fitted to other physical properties and its ability to model structures other than dimers is unknown.  See the README and params files on the KIM model page for more details.</br>\n",
       "</br><b>OpenKIM</b> (MO_959249795837)<br/>\n",
       "<b>Notes:</b> Listing found at https://openkim.org.</br>\n",
       "<b>Links:</b><br/>\n",
       "<a href=\"https://openkim.org/id/MO_959249795837\">MO_959249795837</a><br/>\n"
      ],
      "text/plain": [
       "<IPython.core.display.HTML object>"
      ]
     },
     "metadata": {},
     "output_type": "display_data"
    }
   ],
   "source": [
    "display(HTML(potential.html()))"
   ]
  },
  {
   "cell_type": "code",
   "execution_count": null,
   "metadata": {},
   "outputs": [],
   "source": [
    "db.save_potentials(potential, format='json', indent=4, verbose=True)"
   ]
  },
  {
   "cell_type": "code",
   "execution_count": 13,
   "metadata": {},
   "outputs": [
    {
     "name": "stdout",
     "output_type": "stream",
     "text": [
      "2003--Lee-B-J--Ag\n"
     ]
    }
   ],
   "source": [
    "print(potential.impid_prefix)"
   ]
  },
  {
   "cell_type": "code",
   "execution_count": null,
   "metadata": {},
   "outputs": [],
   "source": [
    "implementation = potentials.Implementation(\n",
    "    type='OpenKIM',\n",
    "    id=f'{potential.impid_prefix}--LAMMPS--ipr1',\n",
    "    notes=' '.join(['These files were provided by Abu Shama M Miraz (Louisiana Tech) on Sept. 18, 2020 and posted with his permission.']),\n",
    "    #key='0cdc699f-e78a-49db-8606-7a33c98c2184',\n",
    "    #status=None,\n",
    "    #date=datetime.date(2020, 6, 18), \n",
    ")\n",
    "index = len(potential.implementations)\n",
    "potential.implementations.append(implementation)"
   ]
  },
  {
   "cell_type": "markdown",
   "metadata": {},
   "source": [
    "#### 3.2.3 Select implementation\n",
    "\n",
    "Must be done"
   ]
  },
  {
   "cell_type": "code",
   "execution_count": null,
   "metadata": {},
   "outputs": [],
   "source": [
    "index = 0\n",
    "implementation = potential.implementations[index]"
   ]
  },
  {
   "cell_type": "markdown",
   "metadata": {},
   "source": [
    "### 3.3 Modify implementation"
   ]
  },
  {
   "cell_type": "markdown",
   "metadata": {},
   "source": [
    "#### 3.3.1 Modify implementation metadata "
   ]
  },
  {
   "cell_type": "code",
   "execution_count": null,
   "metadata": {},
   "outputs": [],
   "source": [
    "display(HTML(implementation.html()))"
   ]
  },
  {
   "cell_type": "code",
   "execution_count": null,
   "metadata": {},
   "outputs": [],
   "source": [
    "implementation.notes = 'These files were provided by Abu Shama M Miraz (Louisiana Tech) on Sept. 18, 2020 and posted with his permission.'"
   ]
  },
  {
   "cell_type": "code",
   "execution_count": null,
   "metadata": {},
   "outputs": [],
   "source": [
    "implementation.status='superseded'"
   ]
  },
  {
   "cell_type": "code",
   "execution_count": null,
   "metadata": {},
   "outputs": [],
   "source": [
    "#implementation.type='LAMMPS pair_style sw',\n",
    "#implementation.key=None,\n",
    "#implementation.id='2009--Molinero-V--water--ipr-1',\n",
    "#implementation.status=None,\n",
    "#implementation.date=datetime.date(2020, 1, 10), \n",
    "implementation.notes= ' '.join(['The table files were sent by Xianbao Duan (Huazhong Univ. of Sci. and Tech) on 18 June 2020 and posted with his permission. The example.lammps.in file gives an example of the LAMMPS pair_style and pair_coeff lines that can be used. A copy of Ta_Zhou04.eam.alloy from 2004--Zhou-X-W--Ta--LAMMPS--ipr2 is included here for completeness.',\n",
    "                                ])"
   ]
  },
  {
   "cell_type": "code",
   "execution_count": null,
   "metadata": {},
   "outputs": [],
   "source": [
    "implementation.date=datetime.date(2014, 11, 24)"
   ]
  },
  {
   "cell_type": "code",
   "execution_count": null,
   "metadata": {},
   "outputs": [],
   "source": [
    "implementation.notes = 'This file was provided by Sergei Starikov (Ruhr-Universität Bochum, Germany) on 5 May 2019. It has been carefully tested and gives the expected property predictions. Update March 15, 2020: This version was identified to not be compatible with LAMMPS versions after 7 Aug 2019 due to more rigorous format checks.'"
   ]
  },
  {
   "cell_type": "code",
   "execution_count": null,
   "metadata": {},
   "outputs": [],
   "source": [
    "implementation.notes += ' Update Jan 15, 2020: It was noticed that the original file hosted here was truncated and incomplete.'\n",
    "implementation.notes += ' The incomplete file will not work with LAMMPS versions after 7 Aug 2019.'\n",
    "implementation.notes += ' For earlier LAMMPS versions, both versions of the parameter file appear to behave identically.'"
   ]
  },
  {
   "cell_type": "code",
   "execution_count": null,
   "metadata": {},
   "outputs": [],
   "source": [
    "implementation.status = 'retracted'\n",
    "implementation.notes = 'This file was sent by J. Kullgren (Uppsala University) on 19 December 2016 and posted with his permission. Update March 15, 2020: This version was identified to not be compatible with LAMMPS.'"
   ]
  },
  {
   "cell_type": "code",
   "execution_count": null,
   "metadata": {},
   "outputs": [],
   "source": [
    "implementation.notes='These files were posted on March 15, 2020 by Lucas Hale. They modify the above version by separating the comments into a separate file, making the parameter file compatible with LAMMPS.'"
   ]
  },
  {
   "cell_type": "code",
   "execution_count": null,
   "metadata": {},
   "outputs": [],
   "source": [
    "implementation.type = 'LAMMPS pair_style reax/c'"
   ]
  },
  {
   "cell_type": "code",
   "execution_count": null,
   "metadata": {},
   "outputs": [],
   "source": [
    "implementation.id = '2013--Bonny-G--Fe-Cr-W--LAMMPS--ipr1'"
   ]
  },
  {
   "cell_type": "markdown",
   "metadata": {},
   "source": [
    "#### 3.3.2 Add implementation content\n",
    "\n",
    "The content for the implementation can exist in one of the following formats\n",
    "\n",
    "1. Artifacts: files that are hosted on the potentials repository.\n",
    "2. Parameters: list of the potential's parameters to show as html text on the repository.\n",
    "3. WebLinks: hyperlinks to content hosted externally."
   ]
  },
  {
   "cell_type": "markdown",
   "metadata": {},
   "source": [
    "#### Option #1: Add artifacts\n",
    "\n",
    "File path parameters\n",
    "\n",
    "- __newpotpath__ is the path to the directory where the new potential files are located.\n",
    "- __localpath__ is the path to the local copy of the NIST potentials repository.\n",
    "- __webpath__ is the url path for the NIST potentials repository that coincides with the localpath on the machine.\n",
    "- __relpath__ is the relative path from localpath where the files are copied to, and the relative path from webpath where they will be found once uploaded to the website."
   ]
  },
  {
   "cell_type": "code",
   "execution_count": null,
   "metadata": {},
   "outputs": [],
   "source": [
    "# Define paths to files\n",
    "if machine == 'desktop':\n",
    "    newpotpath = Path('E:/website/new potentials')\n",
    "    localpath = Path('E:/website/IPR-website/potentials/')\n",
    "elif machine == 'laptop':\n",
    "    newpotpath = Path('C:/Users/lmh1/Documents/website/new potentials')\n",
    "    localpath = Path('C:/Users/lmh1/Documents/website/IPR-website/potentials/')\n",
    "    \n",
    "webpath = 'https://www.ctcms.nist.gov/potentials/'\n",
    "relpath = f'Download/{potential.id}/{index+1}/'"
   ]
  },
  {
   "cell_type": "markdown",
   "metadata": {},
   "source": [
    "Each artifact has:\n",
    "\n",
    "- __filename__ (*str*) The name of the file (no path information).\n",
    "- __url__ (*str*) The absolute url where the file can be downloaded from.\n",
    "- __label__ (*str, optional*) An optional descriptive label for the file."
   ]
  },
  {
   "cell_type": "code",
   "execution_count": null,
   "metadata": {},
   "outputs": [],
   "source": [
    "# Specify files from newpotpath to add\n",
    "filenames = [\n",
    "    Path(newpotpath, 'library.meam.0'),\n",
    "    Path(newpotpath, 'CuNTi.meam.0'),\n",
    "    ]\n",
    "\n",
    "labels = [None for i in range(len(filenames))]"
   ]
  },
  {
   "cell_type": "code",
   "execution_count": null,
   "metadata": {},
   "outputs": [],
   "source": [
    "# Make download directory in local copy of website\n",
    "downloadpath = Path(localpath, relpath)\n",
    "if not downloadpath.is_dir():\n",
    "    downloadpath.mkdir(parents=True)\n",
    "\n",
    "# Copy files and add artifact listings\n",
    "for filename, label in zip(filenames, labels):\n",
    "    # Build url\n",
    "    url = webpath + relpath + filename.name\n",
    "    # Copy files\n",
    "    shutil.copy(filename, downloadpath)\n",
    "    print(Path(downloadpath, filename.name))\n",
    "    \n",
    "    # Add artifact listing to implementation\n",
    "    implementation.add_artifact(filename=filename.name, url=url, label=label)"
   ]
  },
  {
   "cell_type": "markdown",
   "metadata": {},
   "source": [
    "#### Option #2: Add parameters\n",
    "\n",
    "Each parameter has:\n",
    "\n",
    "- __name__ (*str, optional*) The name of the parameter or string parameter line.\n",
    "- __value__ (*float, optional*) The value of the parameter.\n",
    "- __unit__ (*str, optional*) Units associated with value.\n",
    "\n",
    "Note: if the parameters are purely text-based, you can use only the name field."
   ]
  },
  {
   "cell_type": "code",
   "execution_count": null,
   "metadata": {},
   "outputs": [],
   "source": []
  },
  {
   "cell_type": "markdown",
   "metadata": {},
   "source": [
    "#### Option #3: Add weblinks\n",
    "\n",
    "Each weblink has:\n",
    "\n",
    "- __url__ (*str*) URL for the link.\n",
    "- __label__ (*str, optional*) A short description label to proceed the link.\n",
    "- __linktext__ (*str, optional*) The text for the link, i.e. what gets clicked on."
   ]
  },
  {
   "cell_type": "code",
   "execution_count": null,
   "metadata": {},
   "outputs": [],
   "source": []
  },
  {
   "cell_type": "markdown",
   "metadata": {},
   "source": [
    "## 4. Review and save potentials"
   ]
  },
  {
   "cell_type": "code",
   "execution_count": 30,
   "metadata": {},
   "outputs": [
    {
     "data": {
      "text/html": [
       "<h3>2015--Elliott-R-S-Akerson-A--H</h3><b>Citation:</b> R.S. Elliott and A. Akerson (2015), \"Efficient \"universal\" shifted Lennard-Jones model for all KIM API supported species\",. </br>\n",
       "</br><b>Notes:</b> This is the H interaction from the \"Universal\" parameterization for the openKIM LennardJones612 model driver.The parameterization uses a shifted cutoff so that all interactions have a continuous energy function at the cutoff radius. This model was automatically fit using Lorentz-Berthelotmixing rules. It reproduces the dimer equilibrium separation (covalent radii) and the bond dissociation energies. It has not been fitted to other physical properties and its ability to model structures other than dimers is unknown.  See the README and params files on the KIM model page for more details.</br>\n",
       "</br><b>OpenKIM</b> (MO_959249795837)<br/>\n",
       "<b>Notes:</b> Listing found at https://openkim.org.</br>\n",
       "<b>Links:</b><br/>\n",
       "<a href=\"https://openkim.org/id/MO_959249795837\">MO_959249795837</a><br/>\n"
      ],
      "text/plain": [
       "<IPython.core.display.HTML object>"
      ]
     },
     "metadata": {},
     "output_type": "display_data"
    }
   ],
   "source": [
    "display(HTML(potential.html()))"
   ]
  },
  {
   "cell_type": "code",
   "execution_count": null,
   "metadata": {},
   "outputs": [],
   "source": [
    "db.upload_potential(potential, workspace=workspace, verbose=True)\n",
    "complete_potentials.append(potential)"
   ]
  },
  {
   "cell_type": "code",
   "execution_count": 31,
   "metadata": {},
   "outputs": [
    {
     "name": "stdout",
     "output_type": "stream",
     "text": [
      "1 potentials saved to localpath\n",
      " - 1 new potentials added\n"
     ]
    }
   ],
   "source": [
    "db.save_potentials(potential, format='json', indent=4, verbose=True)"
   ]
  },
  {
   "cell_type": "code",
   "execution_count": null,
   "metadata": {},
   "outputs": [],
   "source": [
    "#db.delete_potential(potential, local=True, remote=True, verbose=True)"
   ]
  },
  {
   "cell_type": "code",
   "execution_count": null,
   "metadata": {},
   "outputs": [],
   "source": [
    "db.download_potentials(overwrite=True, format='json', indent=4, verbose=True)"
   ]
  },
  {
   "cell_type": "markdown",
   "metadata": {},
   "source": [
    "## 5. potential_LAMMPS\n",
    "\n",
    "This section generates the potential_LAMMPS metadata records for generating the LAMMPS input command lines for supported potentials."
   ]
  },
  {
   "cell_type": "markdown",
   "metadata": {},
   "source": [
    "### 5.1 Build potential_LAMMPS\n",
    "\n",
    "#### Specify parameters\n",
    "\n",
    "Common settings\n",
    "\n",
    "- __id__ (*str, optional*) implementation id. Should match with the implementation id from above.\n",
    "- __key__ (*str, optional*) implementation key. Should match with the implementation key from above.\n",
    "- __potid__ (*str, optional*) potential id. Should match with the potential id from above.\n",
    "- __potkey__ (*str, optional*) potential key. Should match with the potential key from above.\n",
    "- __elements__ (*list, optional*) The elements that the implementation simulates.  Should match with the elements from above if the implementation explicitly models each element.\n",
    "- __symbols__ (*list, optional*) The particle model symbols defined by the implementation.  Not needed if identical to elements.\n",
    "- __masses__ (*list, optional*) The masses to assign to each symbol/element.  Should be given if the implementation specifies the mass.  Required if elements is not given.\n",
    "- __units__ (*str, optional*) The LAMMPS units to use with the implementation.  Default value is 'metal'.\n",
    "- __atom_style__ (*str, optional*) The LAMMPS atom_style to use with the implementation.  Default value is 'atomic'.\n",
    "- __pair_style__ (*str*) The LAMMPS pair_style associated with the implementation.\n",
    "- __pair_style_terms__ (*list, optional*) Any additional terms that should appear on the pair_style command line."
   ]
  },
  {
   "cell_type": "code",
   "execution_count": null,
   "metadata": {},
   "outputs": [],
   "source": [
    "kwargs = {}\n",
    "kwargs['id'] = implementation.id\n",
    "kwargs['key'] = implementation.key\n",
    "kwargs['potid'] = potential.id\n",
    "kwargs['potkey'] = potential.key\n",
    "\n",
    "kwargs['elements'] = potential.elements\n",
    "#kwargs['symbols'] = \n",
    "kwargs['masses'] = [107.8680]\n",
    "\n",
    "#kwargs['units'] =\n",
    "#kwargs['atom_style'] = \n",
    "\n",
    "kwargs['pair_style'] = 'meam'\n",
    "#kwargs['pair_style_terms'] = ['polar_off']"
   ]
  },
  {
   "cell_type": "markdown",
   "metadata": {},
   "source": [
    "Option #1 For pair potentials without parameter files, e.g lj/cut\n",
    "\n",
    "- __interactions__ (*list*) Lists parameters associated with each unique interaction.  Each value is a dict with\n",
    "    - __symbols__ (*list*) The two elemental model symbols to associate with the interaction.\n",
    "    - __terms__ (*list*) The terms that appear on the pair_coeff command line for that interaction."
   ]
  },
  {
   "cell_type": "code",
   "execution_count": null,
   "metadata": {},
   "outputs": [],
   "source": [
    "kwargs['interactions'] = [\n",
    "    {'symbols': ['Al', 'Al'], 'terms': [1.23, 3.412]},\n",
    "    {'symbols': ['Al', 'Cu'], 'terms': [1.23, 3.412]},\n",
    "    {'symbols': ['Cu', 'Cu'], 'terms': [1.23, 3.412]},\n",
    "]"
   ]
  },
  {
   "cell_type": "markdown",
   "metadata": {},
   "source": [
    "Option #2 For potentials with single parameter files, e.g. eam/alloy\n",
    "\n",
    "- __paramfile__ (*str*) The name (no path) of the potential's parameter file."
   ]
  },
  {
   "cell_type": "code",
   "execution_count": null,
   "metadata": {},
   "outputs": [],
   "source": [
    "for file in filenames:\n",
    "    print(file.name)"
   ]
  },
  {
   "cell_type": "code",
   "execution_count": null,
   "metadata": {},
   "outputs": [],
   "source": [
    "kwargs['paramfile'] = 'AuRh.adp.txt'"
   ]
  },
  {
   "cell_type": "markdown",
   "metadata": {},
   "source": [
    "Option #3 For potentials with a parameter file and a library file, e.g. meam\n",
    "\n",
    "- __libfile__ (*str*) The name (no path) of the potential's library parameter file.\n",
    "- __paramfile__ (*str, optional*) The name (no path) of the potential's parameter file, if one is used."
   ]
  },
  {
   "cell_type": "code",
   "execution_count": null,
   "metadata": {},
   "outputs": [],
   "source": [
    "kwargs['libfile'] = 'library.meam'\n",
    "kwargs['paramfile'] = 'Ag.meam'"
   ]
  },
  {
   "cell_type": "markdown",
   "metadata": {},
   "source": [
    "Option #4 For classic EAM potentials, i.e. eam\n",
    "\n",
    "- __paramfiles__ (*list*) The names (no paths) of the parameter files for each unique element. Order should match order of elements."
   ]
  },
  {
   "cell_type": "code",
   "execution_count": null,
   "metadata": {},
   "outputs": [],
   "source": [
    "kwargs['paramfiles'] = []"
   ]
  },
  {
   "cell_type": "markdown",
   "metadata": {},
   "source": [
    "Option #5 For OpenKIM potentials\n",
    "\n",
    "- __kimid__ (*str*) The KIM model ID."
   ]
  },
  {
   "cell_type": "code",
   "execution_count": null,
   "metadata": {},
   "outputs": [],
   "source": [
    "kwargs['kimid'] = "
   ]
  },
  {
   "cell_type": "markdown",
   "metadata": {},
   "source": [
    "#### Build potential_LAMMPS"
   ]
  },
  {
   "cell_type": "code",
   "execution_count": null,
   "metadata": {},
   "outputs": [],
   "source": [
    "lammps_potential = potentials.build_lammps_potential(**kwargs).potential()"
   ]
  },
  {
   "cell_type": "markdown",
   "metadata": {},
   "source": [
    "### 5.2 Load potential_LAMMPS from database "
   ]
  },
  {
   "cell_type": "code",
   "execution_count": null,
   "metadata": {},
   "outputs": [],
   "source": [
    "lammps_potential = db.get_lammps_potential(id='2015--Broqvist-P--Ce-O--LAMMPS--ipr2')"
   ]
  },
  {
   "cell_type": "markdown",
   "metadata": {},
   "source": [
    "### 5.3 Load potential_LAMMPS from local file not in database "
   ]
  },
  {
   "cell_type": "code",
   "execution_count": null,
   "metadata": {},
   "outputs": [],
   "source": [
    "fname = Path('C:/Users/lmh1/Documents/library/potential_LAMMPS/2019--Fischer-F--Cu-Ni--LAMMPS--ipr2.json')\n",
    "\n",
    "lammps_potential = potentials.PotentialLAMMPS(fname)"
   ]
  },
  {
   "cell_type": "markdown",
   "metadata": {},
   "source": [
    "### 5.4 Review and save"
   ]
  },
  {
   "cell_type": "markdown",
   "metadata": {},
   "source": [
    "#### Review model"
   ]
  },
  {
   "cell_type": "code",
   "execution_count": null,
   "metadata": {},
   "outputs": [],
   "source": [
    "print(lammps_potential.asmodel().json(indent=2))"
   ]
  },
  {
   "cell_type": "markdown",
   "metadata": {},
   "source": [
    "#### Save locally"
   ]
  },
  {
   "cell_type": "code",
   "execution_count": null,
   "metadata": {},
   "outputs": [],
   "source": [
    "db.save_lammps_potentials(lammps_potential, filenames=filenames, format='json',\n",
    "                          indent=4, overwrite=True, verbose=True)"
   ]
  },
  {
   "cell_type": "markdown",
   "metadata": {},
   "source": [
    "#### Upload to potentials.nist.gov"
   ]
  },
  {
   "cell_type": "code",
   "execution_count": null,
   "metadata": {},
   "outputs": [],
   "source": [
    "db.upload_lammps_potential(lammps_potential, workspace=workspace, verbose=True)"
   ]
  },
  {
   "cell_type": "code",
   "execution_count": null,
   "metadata": {},
   "outputs": [],
   "source": [
    "#db.delete_lammps_potential(lammps_potential, local=True, remote=True, verbose=True)"
   ]
  },
  {
   "cell_type": "code",
   "execution_count": null,
   "metadata": {},
   "outputs": [],
   "source": [
    "db.download_lammps_potentials(format='json', indent=4, getfiles=True, overwrite=True, verbose=True)"
   ]
  },
  {
   "cell_type": "markdown",
   "metadata": {},
   "source": [
    "- - -\n",
    "\n",
    "## 5. Actions\n",
    "\n",
    "Actions are used by the website to note changes in content and representation. "
   ]
  },
  {
   "cell_type": "markdown",
   "metadata": {},
   "source": [
    "### 5.1 Build action"
   ]
  },
  {
   "cell_type": "markdown",
   "metadata": {},
   "source": [
    "#### Option #1: new posting(s)"
   ]
  },
  {
   "cell_type": "code",
   "execution_count": null,
   "metadata": {},
   "outputs": [],
   "source": [
    "for complete_potential in complete_potentials:\n",
    "    print(complete_potential.id)"
   ]
  },
  {
   "cell_type": "code",
   "execution_count": null,
   "metadata": {},
   "outputs": [],
   "source": [
    "action = potentials.Action(\n",
    "    type = 'new posting',\n",
    "    potentials = complete_potentials,\n",
    "   # date = None,\n",
    "    comment = 'New posting for Cu-N-Ti',\n",
    ")"
   ]
  },
  {
   "cell_type": "markdown",
   "metadata": {},
   "source": [
    "#### Option #2: updated posting(s)"
   ]
  },
  {
   "cell_type": "code",
   "execution_count": null,
   "metadata": {},
   "outputs": [],
   "source": [
    "action = potentials.Action(\n",
    "    type = 'updated posting',\n",
    "    potentials = complete_potentials,\n",
    "    date = None,\n",
    "    comment = 'LAMMPS-compatible version added',\n",
    ")"
   ]
  },
  {
   "cell_type": "markdown",
   "metadata": {},
   "source": [
    "#### Option #3: retraction"
   ]
  },
  {
   "cell_type": "code",
   "execution_count": null,
   "metadata": {},
   "outputs": [],
   "source": [
    "action = potentials.Action(\n",
    "    type = 'retraction',\n",
    "    potentials = complete_potentials,\n",
    "    date = None,        \n",
    "    comment =,\n",
    ")"
   ]
  },
  {
   "cell_type": "markdown",
   "metadata": {},
   "source": [
    "#### Option #4: site change"
   ]
  },
  {
   "cell_type": "code",
   "execution_count": null,
   "metadata": {},
   "outputs": [],
   "source": [
    "action = potentials.Action(\n",
    "    type = 'site change',\n",
    "    date = None,\n",
    "    comment = 'IDs added for all non-LAMMPS implementations. The handling of fictional potentials made consistent with \"real\" potentials.',\n",
    "    potentials = []\n",
    ")"
   ]
  },
  {
   "cell_type": "markdown",
   "metadata": {},
   "source": [
    "### 5.2 Look and save"
   ]
  },
  {
   "cell_type": "code",
   "execution_count": null,
   "metadata": {},
   "outputs": [],
   "source": [
    "display(HTML(action.html()))"
   ]
  },
  {
   "cell_type": "code",
   "execution_count": null,
   "metadata": {},
   "outputs": [],
   "source": [
    "title = f\"{action.date} {action.comment[:90]}\"\n",
    "content = action.asmodel().xml()\n",
    "template = 'Action'\n",
    "db.upload_record(content=content, template=template, title=title, workspace=workspace, verbose=True)"
   ]
  },
  {
   "cell_type": "markdown",
   "metadata": {},
   "source": [
    "- - -\n",
    "\n",
    "## 6. Requests\n",
    "\n",
    "Requests are used by the website to list when people are looking for specific models that we don't have."
   ]
  },
  {
   "cell_type": "markdown",
   "metadata": {},
   "source": [
    "### 6.1 Build request"
   ]
  },
  {
   "cell_type": "code",
   "execution_count": null,
   "metadata": {},
   "outputs": [],
   "source": [
    "request = potentials.Request(\n",
    "    #comment = 'reactive potentials',\n",
    "    date = datetime.date(2020, 1, 2),\n",
    "    systems = [\n",
    "        {\n",
    "            #'formula':,\n",
    "            'elements': ['Mg', 'Cu'],\n",
    "        },\n",
    "        #{\n",
    "        #    'formula': 'Moose',\n",
    "       #     'elements': ['Ti', 'Cl'],\n",
    "       # },\n",
    "    ]\n",
    ")"
   ]
  },
  {
   "cell_type": "markdown",
   "metadata": {},
   "source": [
    "### 6.2 Look and save"
   ]
  },
  {
   "cell_type": "code",
   "execution_count": null,
   "metadata": {},
   "outputs": [],
   "source": [
    "display(HTML(request.html()))"
   ]
  },
  {
   "cell_type": "code",
   "execution_count": null,
   "metadata": {},
   "outputs": [],
   "source": [
    "model = request.asmodel()\n",
    "elements = ' '.join(model.finds('element'))\n",
    "\n",
    "title = f'{request.date} {elements}'\n",
    "content = model.xml()\n",
    "template = 'Request'\n",
    "\n",
    "db.cdcs.upload_record(content=content, template=template, title=title, workspace=workspace)"
   ]
  },
  {
   "cell_type": "markdown",
   "metadata": {},
   "source": [
    "## 7. Related models"
   ]
  },
  {
   "cell_type": "code",
   "execution_count": null,
   "metadata": {},
   "outputs": [],
   "source": [
    "import json\n",
    "\n",
    "def add_related_models(localpath, interaction, model1, model2):\n",
    "    \n",
    "    with open(Path(localpath, 'site/related-interactions.json')) as f:\n",
    "        related_models = json.load(f)\n",
    "    \n",
    "    # If no shared models for that interaction yet\n",
    "    if interaction not in related_models:\n",
    "        print('new interaction')\n",
    "        related_models[interaction] = [[model1, model2]]\n",
    "            \n",
    "    else:\n",
    "        int_models = related_models[interaction]\n",
    "        \n",
    "        # Search for set with one of the elements\n",
    "        match = False\n",
    "        for i in range(len(int_models)):\n",
    "            modelset = int_models[i]\n",
    "            if model1 in modelset:\n",
    "                if match is False:\n",
    "                    match = i\n",
    "                else:\n",
    "                    raise ValueError('given models found in multiple sets!')\n",
    "            if model2 in modelset:\n",
    "                if match is False or match == i:\n",
    "                    match = i\n",
    "                else:\n",
    "                    raise ValueError('given models found in multiple sets!')\n",
    "                    \n",
    "        if match is False:\n",
    "            print('new set')\n",
    "            int_models.append(sorted([model1, model2]))\n",
    "        else:\n",
    "            if model1 not in int_models[match]:\n",
    "                int_models[match] = sorted(int_models[match] + [model1])\n",
    "                print('model1 added to existing set')\n",
    "            elif model2 not in int_models[match]:\n",
    "                int_models[match] = sorted(int_models[match] + [model2])\n",
    "                print('model2 added to existing set')\n",
    "            else:\n",
    "                print('both models already in existing set')\n",
    "    \n",
    "    with open(Path(localpath, 'site/related-interactions.json'), 'w') as f:\n",
    "        json.dump(related_models, fp=f)"
   ]
  },
  {
   "cell_type": "code",
   "execution_count": null,
   "metadata": {},
   "outputs": [],
   "source": [
    "interaction = 'Ni'\n",
    "model1 = '2004--Mishin-Y--Ni-Al'\n",
    "model2 = '2019--Fischer-F-Schmitz-G-Eich-S-M--Cu-Ni'\n",
    "machine = 'desktop'\n",
    "\n",
    "if machine == 'desktop':\n",
    "    localpath = Path('E:/website/IPR-website/potentials/')\n",
    "elif machine == 'laptop':\n",
    "    localpath = Path('C:/Users/lmh1/Documents/website/IPR-website/potentials/')\n",
    "\n",
    "add_related_models(localpath, interaction, model1, model2)"
   ]
  },
  {
   "cell_type": "code",
   "execution_count": null,
   "metadata": {},
   "outputs": [],
   "source": []
  }
 ],
 "metadata": {
  "kernelspec": {
   "display_name": "Python 3",
   "language": "python",
   "name": "python3"
  },
  "language_info": {
   "codemirror_mode": {
    "name": "ipython",
    "version": 3
   },
   "file_extension": ".py",
   "mimetype": "text/x-python",
   "name": "python",
   "nbconvert_exporter": "python",
   "pygments_lexer": "ipython3",
   "version": "3.7.4"
  }
 },
 "nbformat": 4,
 "nbformat_minor": 2
}
