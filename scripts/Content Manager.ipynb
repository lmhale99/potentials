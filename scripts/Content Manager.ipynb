{
 "cells": [
  {
   "cell_type": "markdown",
   "metadata": {},
   "source": [
    "# Interatomic Potential Repository Content Manager\n",
    "\n",
    "This is a working Notebook providing a single location for adding and modifying content in the potentials.nist.gov database.\n",
    "\n",
    "Notebook outline:\n",
    "\n",
    "0. Setup: Python library imports and defining global parameters.\n",
    "\n",
    "1. Citations: Load, add and modify citation information associated with potential models. Each potential should have at least one citation, with the first being the \"primary\" one for generating IDs. For unpublished potentials, use the unpublished citation option.\n",
    "\n",
    "2. Potentials: Load, add and modify potential information.  A \"potential\" should be a unique parameterization with an associated citation. Note that saving to the database is done in step #4.\n",
    "\n",
    "3. Implementations: Load, add and modify the implementations of a potential. An \"implementation\" is a specific version/representation of a potential in a specific format. Each potential can have zero, one or multiple implementations.\n",
    "\n",
    "4. Save potentials: Review the new/modified potentials and save the content to the database.\n",
    "\n",
    "5. Actions: Actions are used to list changes to the repository. If a potential is added/modified, a corresponding action should also be added.\n",
    "\n",
    "6. Requests: A request is listed on the repository whenever someone asks for a model that we do not have."
   ]
  },
  {
   "cell_type": "markdown",
   "metadata": {},
   "source": [
    "## 0. Setup"
   ]
  },
  {
   "cell_type": "markdown",
   "metadata": {},
   "source": [
    "### Library imports"
   ]
  },
  {
   "cell_type": "code",
   "execution_count": 1,
   "metadata": {},
   "outputs": [],
   "source": [
    "import uuid\n",
    "import datetime\n",
    "import shutil\n",
    "from pathlib import Path\n",
    "import socket\n",
    "\n",
    "import potentials\n",
    "\n",
    "import numpy as np\n",
    "import pandas as pd\n",
    "\n",
    "# Jupyter display libraries\n",
    "from IPython.display import display, HTML"
   ]
  },
  {
   "cell_type": "markdown",
   "metadata": {},
   "source": [
    "### Global parameters\n",
    "\n",
    "- __complete_potentials__ is a compiled list of the potentials whose addition/changes were uploaded to the database.  This is used by step #5 for reporting website changes.  This should be reset after creating an Action for meaningful sets of potentials.\n",
    "\n",
    "- __db__ is the Database object for accessing and uploading records to the database.  remote_name accesses the saved \"potentials\" settings, which has sign-in info for https://potentials.nist.gov.\n",
    "\n",
    "- __workspace__ is the workspace to assign to the uploaded records.  If None, then they are only accessible to the submitter until the workspace is changed.  If 'Global Public Workspace', anyone can see the records after uploading."
   ]
  },
  {
   "cell_type": "code",
   "execution_count": 2,
   "metadata": {},
   "outputs": [],
   "source": [
    "complete_potentials = []"
   ]
  },
  {
   "cell_type": "code",
   "execution_count": 3,
   "metadata": {},
   "outputs": [],
   "source": [
    "db = potentials.Database(local=True, remote=True, remote_name='potentials')"
   ]
  },
  {
   "cell_type": "code",
   "execution_count": 4,
   "metadata": {},
   "outputs": [],
   "source": [
    "#workspaces = db.remote_database.cdcs.get_workspaces()\n",
    "#workspaces\n",
    "\n",
    "#workspace = None\n",
    "workspace = 'Global Public Workspace'"
   ]
  },
  {
   "cell_type": "code",
   "execution_count": 5,
   "metadata": {},
   "outputs": [
    {
     "data": {
      "text/plain": [
       "<Response [200]>"
      ]
     },
     "execution_count": 5,
     "metadata": {},
     "output_type": "execute_result"
    }
   ],
   "source": [
    "db.remote_database.cdcs.patch('/pid/rest/settings', data={'auto_set_pid': False})"
   ]
  },
  {
   "cell_type": "code",
   "execution_count": 16,
   "metadata": {},
   "outputs": [
    {
     "data": {
      "text/plain": [
       "<Response [200]>"
      ]
     },
     "execution_count": 16,
     "metadata": {},
     "output_type": "execute_result"
    }
   ],
   "source": [
    "db.remote_database.cdcs.patch('/pid/rest/settings', data={'auto_set_pid': True})"
   ]
  },
  {
   "cell_type": "markdown",
   "metadata": {},
   "source": [
    "- - -\n",
    "\n",
    "## 1. Citations"
   ]
  },
  {
   "cell_type": "markdown",
   "metadata": {},
   "source": [
    "### 1.1 Build or load citation"
   ]
  },
  {
   "cell_type": "markdown",
   "metadata": {},
   "source": [
    "#### Option #1: For existing citations and/or new dois"
   ]
  },
  {
   "cell_type": "code",
   "execution_count": 9,
   "metadata": {},
   "outputs": [
    {
     "name": "stdout",
     "output_type": "stream",
     "text": [
      "Citation retrieved from CrossRef\n"
     ]
    }
   ],
   "source": [
    "doi = '10.1103/PhysRevMaterials.7.043601'\n",
    "\n",
    "citation = db.fetch_citation(doi, verbose=True)"
   ]
  },
  {
   "cell_type": "markdown",
   "metadata": {},
   "source": [
    "#### Option #2: For new doi-less citations"
   ]
  },
  {
   "cell_type": "code",
   "execution_count": null,
   "metadata": {},
   "outputs": [],
   "source": [
    "author = 'M. I. Belko and V. E. Gusakov and N. N. Dorozhkin'\n",
    "year = 2010\n",
    "ID = note = f'{year}--Belko-V-I-Gusakov-V-E-Dorozhkin-N-N'\n",
    "\n",
    "citation = potentials.load_record('Citation',\n",
    "    ENTRYTYPE = 'inproceedings',\n",
    "    title = 'Potential EDIP for germanium: parameterization and molecular dynamics simulation of point defects',\n",
    "    author = author,\n",
    "    ID = ID,\n",
    "    note = note,\n",
    "    year = year,\n",
    "    booktitle = 'Proc. IV International Conference, Materials and Structures of Modern Electronics',\n",
    "    month='Sep',\n",
    "    address='Minsk, Belarus', \n",
    "    pages= '15--18',\n",
    "    day='23--24'\n",
    ")"
   ]
  },
  {
   "cell_type": "code",
   "execution_count": 5,
   "metadata": {},
   "outputs": [
    {
     "data": {
      "text/plain": [
       "DataModelDict([('citation',\n",
       "                DataModelDict([('document-type', 'unspecified'),\n",
       "                               ('title', 'to be published'),\n",
       "                               ('author',\n",
       "                                [DataModelDict([('given-name', 'M.I.'),\n",
       "                                                ('surname', 'Mendelev')])]),\n",
       "                               ('publication-date',\n",
       "                                DataModelDict([('year', '2022')])),\n",
       "                               ('bibtex',\n",
       "                                '@unpublished{2022--Mendelev-M-I--Ni-Al,\\n author = {M. I. Mendelev},\\n note = {2022--Mendelev-M-I--Ni-Al},\\n title = {to be published},\\n year = {2022}\\n}\\n\\n')]))])"
      ]
     },
     "execution_count": 5,
     "metadata": {},
     "output_type": "execute_result"
    }
   ],
   "source": [
    "author = 'M. I. Mendelev'\n",
    "year = 2022\n",
    "ID = note = f'{year}--Mendelev-M-I--Ni-Al'\n",
    "#title = 'Efficient \"universal\" shifted Lennard-Jones model for all KIM API supported species'\n",
    "title = 'to be published'\n",
    "\n",
    "citation = potentials.load_record('Citation',\n",
    "    ENTRYTYPE = 'unpublished',\n",
    "    title = title,\n",
    "    author = author,\n",
    "    ID = ID,\n",
    "    note = note,\n",
    "    year = year,\n",
    ")\n",
    "citation.build_model()"
   ]
  },
  {
   "cell_type": "markdown",
   "metadata": {},
   "source": [
    "#### Option #3: From local directory"
   ]
  },
  {
   "cell_type": "code",
   "execution_count": null,
   "metadata": {},
   "outputs": [],
   "source": [
    "libdir = Path('E:/website/LAMMPS potentials/2nn/biblib')\n",
    "\n",
    "citations = []\n",
    "for bibfile in libdir.glob('*.bib'):\n",
    "    with open(bibfile) as f:\n",
    "        citations.append(potentials.load_record('Citation', model=f.read()))"
   ]
  },
  {
   "cell_type": "code",
   "execution_count": 67,
   "metadata": {},
   "outputs": [],
   "source": [
    "bibfile = Path('C:/Users/lmh1/Desktop/S0022459622002201-alt.bib')\n",
    "with open(bibfile, encoding='UTF-8') as f:\n",
    "    citation = potentials.load_record('Citation', model=f.read())"
   ]
  },
  {
   "cell_type": "code",
   "execution_count": null,
   "metadata": {},
   "outputs": [],
   "source": [
    "citation = citations[19]\n",
    "print(citation.year_authors)"
   ]
  },
  {
   "cell_type": "markdown",
   "metadata": {},
   "source": [
    "#### Option #4: From currently loaded potentials"
   ]
  },
  {
   "cell_type": "code",
   "execution_count": 6,
   "metadata": {},
   "outputs": [
    {
     "ename": "IndexError",
     "evalue": "list index out of range",
     "output_type": "error",
     "traceback": [
      "\u001b[1;31m---------------------------------------------------------------------------\u001b[0m",
      "\u001b[1;31mIndexError\u001b[0m                                Traceback (most recent call last)",
      "\u001b[1;32m~\\AppData\\Local\\Temp\\ipykernel_18088\\2424038902.py\u001b[0m in \u001b[0;36m<module>\u001b[1;34m\u001b[0m\n\u001b[1;32m----> 1\u001b[1;33m \u001b[0mcitation\u001b[0m \u001b[1;33m=\u001b[0m \u001b[0mcomplete_potentials\u001b[0m\u001b[1;33m[\u001b[0m\u001b[1;36m0\u001b[0m\u001b[1;33m]\u001b[0m\u001b[1;33m.\u001b[0m\u001b[0mcitations\u001b[0m\u001b[1;33m[\u001b[0m\u001b[1;36m0\u001b[0m\u001b[1;33m]\u001b[0m\u001b[1;33m\u001b[0m\u001b[1;33m\u001b[0m\u001b[0m\n\u001b[0m\u001b[0;32m      2\u001b[0m \u001b[0mprint\u001b[0m\u001b[1;33m(\u001b[0m\u001b[0mcitation\u001b[0m\u001b[1;33m.\u001b[0m\u001b[0myear_authors\u001b[0m\u001b[1;33m)\u001b[0m\u001b[1;33m\u001b[0m\u001b[1;33m\u001b[0m\u001b[0m\n",
      "\u001b[1;31mIndexError\u001b[0m: list index out of range"
     ]
    }
   ],
   "source": [
    "citation = complete_potentials[0].citations[0]\n",
    "print(citation.year_authors)"
   ]
  },
  {
   "cell_type": "markdown",
   "metadata": {},
   "source": [
    "### 1.2 Investigate and modify\n",
    "\n",
    "- Add abstract\n",
    "\n",
    "- Check and replace garbled latex or other symbols in authors, title and abstract\n",
    "\n",
    "- Verify correct year and page number(s)"
   ]
  },
  {
   "cell_type": "markdown",
   "metadata": {},
   "source": [
    "#### 1.2.1 Generate html and list content fields"
   ]
  },
  {
   "cell_type": "code",
   "execution_count": 6,
   "metadata": {},
   "outputs": [
    {
     "name": "stdout",
     "output_type": "stream",
     "text": [
      "2023--Nitol-M-S-Dang-K-Fensin-S-J-et-al\n",
      "\n"
     ]
    },
    {
     "data": {
      "text/html": [
       "<div><div class=\"citation\"><b>Citation: </b>M.S. Nitol, K. Dang, S.J. Fensin, M.I. Baskes, D.E. Dickel, and C.D. Barrett (2023), \"Hybrid interatomic potential for Sn\", <i>Physical Review Materials</i>, <b>7(4)</b>, . DOI: <a href=\"https://doi.org/10.1103/physrevmaterials.7.043601\" class=\"external\">10.1103/physrevmaterials.7.043601</a>.<br/></div></div>"
      ],
      "text/plain": [
       "<IPython.core.display.HTML object>"
      ]
     },
     "metadata": {},
     "output_type": "display_data"
    },
    {
     "name": "stdout",
     "output_type": "stream",
     "text": [
      "\n",
      "journal: Physical Review Materials\n",
      "title: Hybrid interatomic potential for Sn\n",
      "author: Mashroor S. Nitol and Khanh Dang and Saryu J. Fensin and Michael I. Baskes and Doyl E. Dickel and Christopher D. Barrett\n",
      "number: 4\n",
      "volume: 7\n",
      "publisher: American Physical Society (APS)\n",
      "month: apr\n",
      "year: 2023\n",
      "url: https://doi.org/10.1103%2Fphysrevmaterials.7.043601\n",
      "doi: 10.1103/physrevmaterials.7.043601\n",
      "ENTRYTYPE: article\n",
      "ID: Nitol_2023\n"
     ]
    }
   ],
   "source": [
    "print(citation.year_authors)\n",
    "print()\n",
    "citation.html(render=True)\n",
    "print()\n",
    "for key, value in citation.bib.items():\n",
    "    print(key+':', value)"
   ]
  },
  {
   "cell_type": "markdown",
   "metadata": {},
   "source": [
    "#### 1.2.2 Modify and update fields\n",
    "\n",
    "Any valid bibtex fields can be added, but citation rendering relies only on the primary fields. "
   ]
  },
  {
   "cell_type": "code",
   "execution_count": 19,
   "metadata": {},
   "outputs": [],
   "source": [
    "citation.bib['author'] = 'G. Plummer and H. Rathod and A. Srivastava and M. Radovic and T. Ouisse and M. Yildizhan and P.O.Å. Persson and K. Lambrinou and M.W. Barsoum and G.J. Tucker'"
   ]
  },
  {
   "cell_type": "code",
   "execution_count": 86,
   "metadata": {},
   "outputs": [],
   "source": [
    "citation.bib['title'] = 'Effect of hydrogen on plasticity of α-Fe: A multi-scale assessment'\n",
    "#citation.bib['issue'] = '1'\n",
    "#citation.bib['year'] = '2021' "
   ]
  },
  {
   "cell_type": "code",
   "execution_count": 7,
   "metadata": {},
   "outputs": [],
   "source": [
    "citation.bib['abstract'] = 'Interatomic potentials for the Al-Ti, Al-Ta, Al-Zr, Al-Nb and Al-Hf binary systems have been developed based on the second nearest-neighbor modified embedded-atom method (2NN MEAM) formalism. The fundamental materials properties (structural, thermodynamic and elastic behaviors of different intermetallics) could be readily described with the potentials using molecular dynamic simulation (MD), in rational agreements with experimental or first principles data. The potentials are further utilized to develop an interatomic potential for the (TiZrNbHfTa)Al<sub>3</sub> high entropy intermetallic compound (HEIC), which open the door to understand atomic scale behavior of HEICs.'"
   ]
  },
  {
   "cell_type": "code",
   "execution_count": 8,
   "metadata": {},
   "outputs": [],
   "source": [
    "citation.bib['abstract'] = ' '.join([\n",
    "    \"To design materials for extreme applications, it is important to understand and predict phase transitions and their\",\n",
    "    \"influence on material properties under high pressures and temperatures. Atomistic modeling can be a useful tool to\",\n",
    "    \"assess these behaviors. However, this can be difficult due to the lack of fidelity of the interatomic potentials in\",\n",
    "    \"reproducing this high pressure and temperature extreme behavior. Here, a hybrid EAM-R—which is the combination of\",\n",
    "    \"embedded atom method (EAM) and rapid artificial neural network potential—for Tin (Sn) is described which is capable\",\n",
    "    \"of accurately modeling the complex sequence of phase transitions between different metallic polymorphs as a function\",\n",
    "    \"of pressure. This hybrid approach ensures that a basic empirical potential like EAM is used as a lower energy\",\n",
    "    \"bound. By using the final activation function, the neural network contribution to energy must be positive, assuring\",\n",
    "    \"stability over the whole configuration space. This implementation has the capacity to reproduce density functional\",\n",
    "    \"theory results at 6 orders of magnitude slower than a pair potential for molecular dynamics simulation, including\",\n",
    "    \"elastic and plastic characteristics and relative energies of each phase. Using calculations of the Gibbs free energy, it\",\n",
    "    \"is demonstrated that the potential precisely predicts the experimentally observed phase changes at temperatures and\",\n",
    "    \"pressures across the whole phase diagram. At 10.2 GPa, the present potential predicts a first-order phase transition\",\n",
    "    \"between body-centered tetragonal (BCT) β-Sn and another polymorph of BCT-Sn. This structure transforms into\",\n",
    "    \"body-centered cubic near the experimentally reported value at 33 GPa. Thus, the Sn potential developed in this paper\",\n",
    "    \"can be used to study complex deformation mechanisms under extreme conditions of high pressure and strain rates unlike\",\n",
    "    \"existing potentials. Moreover, the framework developed in this paper can be extended for different material systems\",\n",
    "    \"with complex phase diagrams.\"])\n",
    "#citation.bib['author'] = 'Ryan S. Elliott and Andrew Akerson'\n",
    "#citation.bib['volume']\n",
    "#citation.bib['number']\n",
    "#citation.bib['title'] = 'Evaluating the performance of ReaxFF potentials for sp<sup>2</sup> carbon systems (graphene, carbon nanotubes, fullerenes) and a new ReaxFF potential'\n",
    "#citation.bib['journal'] = 'Journal of Physics: Condensed Matter'\n",
    "#citation.bib['year']\n",
    "#citation.bib['pages'] = '951261'\n"
   ]
  },
  {
   "cell_type": "code",
   "execution_count": 22,
   "metadata": {},
   "outputs": [],
   "source": [
    "citation.bib['doi'] = '10.1016/j.jssc.2022.123096'"
   ]
  },
  {
   "cell_type": "code",
   "execution_count": 19,
   "metadata": {},
   "outputs": [],
   "source": [
    "citation.bib['pages'] = '043601'"
   ]
  },
  {
   "cell_type": "markdown",
   "metadata": {},
   "source": [
    "#### 1.2.3 Review and Save Citation"
   ]
  },
  {
   "cell_type": "code",
   "execution_count": 9,
   "metadata": {},
   "outputs": [
    {
     "data": {
      "text/plain": [
       "'10.1103_physrevmaterials.6.013608'"
      ]
     },
     "execution_count": 9,
     "metadata": {},
     "output_type": "execute_result"
    }
   ],
   "source": [
    "citation.name"
   ]
  },
  {
   "cell_type": "code",
   "execution_count": 20,
   "metadata": {},
   "outputs": [
    {
     "data": {
      "text/html": [
       "<div><div class=\"citation\"><b>Citation: </b>M.S. Nitol, K. Dang, S.J. Fensin, M.I. Baskes, D.E. Dickel, and C.D. Barrett (2023), \"Hybrid interatomic potential for Sn\", <i>Physical Review Materials</i>, <b>7(4)</b>, 043601. DOI: <a href=\"https://doi.org/10.1103/physrevmaterials.7.043601\" class=\"external\">10.1103/physrevmaterials.7.043601</a>.<br/></div><div class=\"abstract\"><b>Abstract: </b>To design materials for extreme applications, it is important to understand and predict phase transitions and their influence on material properties under high pressures and temperatures. Atomistic modeling can be a useful tool to assess these behaviors. However, this can be difficult due to the lack of fidelity of the interatomic potentials in reproducing this high pressure and temperature extreme behavior. Here, a hybrid EAM-R&#8212;which is the combination of embedded atom method (EAM) and rapid artificial neural network potential&#8212;for Tin (Sn) is described which is capable of accurately modeling the complex sequence of phase transitions between different metallic polymorphs as a function of pressure. This hybrid approach ensures that a basic empirical potential like EAM is used as a lower energy bound. By using the final activation function, the neural network contribution to energy must be positive, assuring stability over the whole configuration space. This implementation has the capacity to reproduce density functional theory results at 6 orders of magnitude slower than a pair potential for molecular dynamics simulation, including elastic and plastic characteristics and relative energies of each phase. Using calculations of the Gibbs free energy, it is demonstrated that the potential precisely predicts the experimentally observed phase changes at temperatures and pressures across the whole phase diagram. At 10.2 GPa, the present potential predicts a first-order phase transition between body-centered tetragonal (BCT) &#946;-Sn and another polymorph of BCT-Sn. This structure transforms into body-centered cubic near the experimentally reported value at 33 GPa. Thus, the Sn potential developed in this paper can be used to study complex deformation mechanisms under extreme conditions of high pressure and strain rates unlike existing potentials. Moreover, the framework developed in this paper can be extended for different material systems with complex phase diagrams.</div></div>"
      ],
      "text/plain": [
       "<IPython.core.display.HTML object>"
      ]
     },
     "metadata": {},
     "output_type": "display_data"
    }
   ],
   "source": [
    "citation.build_model()\n",
    "citation.html(render=True)"
   ]
  },
  {
   "cell_type": "code",
   "execution_count": 18,
   "metadata": {},
   "outputs": [
    {
     "data": {
      "text/plain": [
       "'{\"citation\": {\"document-type\": \"journal\", \"title\": \"Machine learned interatomic potential for dispersion strengthened plasma facing components\", \"author\": [{\"given-name\": \"E.L.\", \"surname\": \"Sikorski\"}, {\"given-name\": \"M.A.\", \"surname\": \"Cusentino\"}, {\"given-name\": \"M.J.\", \"surname\": \"McCarthy\"}, {\"given-name\": \"J.\", \"surname\": \"Tranchida\"}, {\"given-name\": \"M.A.\", \"surname\": \"Wood\"}, {\"given-name\": \"A.P.\", \"surname\": \"Thompson\"}], \"publication-name\": \"The Journal of Chemical Physics\", \"publication-date\": {\"year\": 2023}, \"volume\": 158, \"issue\": 11, \"abstract\": \"Tungsten (W) is a material of choice for the divertor material due to its high melting temperature, thermal conductivity, and sputtering threshold. However, W has a very high brittle-to-ductile transition temperature, and at fusion reactor temperatures (\\\\u22651000 K), it may undergo recrystallization and grain growth. Dispersion-strengthening W with zirconium carbide (ZrC) can improve ductility and limit grain growth, but much of the effects of the dispersoids on microstructural evolution and thermomechanical properties at high temperatures are still unknown. We present a machine learned Spectral Neighbor Analysis Potential for W-ZrC that can now be used to study these materials. In order to construct a potential suitable for large-scale atomistic simulations at fusion reactor temperatures, it is necessary to train on <i>ab initio</i> data generated for a diverse set of structures, chemical environments, and temperatures. Further accuracy and stability tests of the potential were achieved using objective functions for both material properties and high temperature stability. Validation of lattice parameters, surface energies, bulk moduli, and thermal expansion is confirmed on the optimized potential. Tensile tests of W/ZrC bicrystals show that although the W(110)-ZrC(111) C-terminated bicrystal has the highest ultimate tensile strength (UTS) at room temperature, observed strength decreases with increasing temperature. At 2500 K, the terminating C layer diffuses into the W, resulting in a weaker W-Zr interface. Meanwhile, the W(110)-ZrC(111) Zr-terminated bicrystal has the highest UTS at 2500 K.\", \"pages\": \"114101\", \"DOI\": \"10.1063/5.0135269\", \"bibtex\": \"@article{Sikorski_2023,\\\\n abstract = {Tungsten (W) is a material of choice for the divertor material due to its high melting temperature, thermal conductivity, and sputtering threshold. However, W has a very high brittle-to-ductile transition temperature, and at fusion reactor temperatures (\\\\u22651000 K), it may undergo recrystallization and grain growth. Dispersion-strengthening W with zirconium carbide (ZrC) can improve ductility and limit grain growth, but much of the effects of the dispersoids on microstructural evolution and thermomechanical properties at high temperatures are still unknown. We present a machine learned Spectral Neighbor Analysis Potential for W-ZrC that can now be used to study these materials. In order to construct a potential suitable for large-scale atomistic simulations at fusion reactor temperatures, it is necessary to train on <i>ab initio</i> data generated for a diverse set of structures, chemical environments, and temperatures. Further accuracy and stability tests of the potential were achieved using objective functions for both material properties and high temperature stability. Validation of lattice parameters, surface energies, bulk moduli, and thermal expansion is confirmed on the optimized potential. Tensile tests of W/ZrC bicrystals show that although the W(110)-ZrC(111) C-terminated bicrystal has the highest ultimate tensile strength (UTS) at room temperature, observed strength decreases with increasing temperature. At 2500 K, the terminating C layer diffuses into the W, resulting in a weaker W-Zr interface. Meanwhile, the W(110)-ZrC(111) Zr-terminated bicrystal has the highest UTS at 2500 K.},\\\\n author = {E. L. Sikorski and M. A. Cusentino and M. J. McCarthy and J. Tranchida and M. A. Wood and A. P. Thompson},\\\\n doi = {10.1063/5.0135269},\\\\n journal = {The Journal of Chemical Physics},\\\\n month = {mar},\\\\n number = {11},\\\\n pages = {114101},\\\\n publisher = {AIP Publishing},\\\\n title = {Machine learned interatomic potential for dispersion strengthened plasma facing components},\\\\n url = {https://doi.org/10.1063%2F5.0135269},\\\\n volume = {158},\\\\n year = {2023}\\\\n}\\\\n\\\\n\"}}'"
      ]
     },
     "execution_count": 18,
     "metadata": {},
     "output_type": "execute_result"
    }
   ],
   "source": [
    "citation.model.json()"
   ]
  },
  {
   "cell_type": "code",
   "execution_count": 21,
   "metadata": {},
   "outputs": [
    {
     "name": "stdout",
     "output_type": "stream",
     "text": [
      "Citation record named 10.1103_physrevmaterials.7.043601 updated in C:\\Users\\lmh1\\Documents\\library\n",
      "Citation record named 10.1103_physrevmaterials.7.043601 added to https://potentials.nist.gov/\n",
      "Citation record named 10.1103_physrevmaterials.7.043601 assigned to workspace Global Public Workspace\n"
     ]
    }
   ],
   "source": [
    "db.save_citation(citation, overwrite=True, verbose=True)\n",
    "db.upload_citation(citation, workspace=workspace, overwrite=True, verbose=True)"
   ]
  },
  {
   "cell_type": "code",
   "execution_count": 72,
   "metadata": {},
   "outputs": [
    {
     "name": "stdout",
     "output_type": "stream",
     "text": [
      "Citation record named 10.1007_s10853-022-07118-7 deleted from C:\\Users\\lmh1\\Documents\\library\n",
      "Citation record named 10.1007_s10853-022-07118-7 deleted from https://potentials.nist.gov/\n"
     ]
    }
   ],
   "source": [
    "#db.delete_citation(citation, local=True, remote=True, verbose=True)"
   ]
  },
  {
   "cell_type": "code",
   "execution_count": null,
   "metadata": {},
   "outputs": [],
   "source": [
    "#db.download_citations(overwrite=True, verbose=True)"
   ]
  },
  {
   "cell_type": "code",
   "execution_count": 22,
   "metadata": {},
   "outputs": [],
   "source": [
    "citations = []"
   ]
  },
  {
   "cell_type": "code",
   "execution_count": 23,
   "metadata": {},
   "outputs": [],
   "source": [
    "citations.append(citation)"
   ]
  },
  {
   "cell_type": "code",
   "execution_count": 20,
   "metadata": {},
   "outputs": [
    {
     "data": {
      "text/plain": [
       "[<potentials.record.Citation.Citation at 0x2642329dd88>]"
      ]
     },
     "execution_count": 20,
     "metadata": {},
     "output_type": "execute_result"
    }
   ],
   "source": [
    "citations"
   ]
  },
  {
   "cell_type": "markdown",
   "metadata": {},
   "source": [
    "- - -\n",
    "\n",
    "## 2. Potentials"
   ]
  },
  {
   "cell_type": "markdown",
   "metadata": {},
   "source": [
    "### 2.1 Build or load potential"
   ]
  },
  {
   "cell_type": "markdown",
   "metadata": {},
   "source": [
    "#### Option #1: Build new potential using citation(s)\n",
    "\n",
    "- __elements__ (*list*) The element models used by the potential.\n",
    "- __citations__ (*list*) The citation(s) to associate with the potential.\n",
    "- __notes__ (*str, optional*) Notes providing more information on the potential, such as usage notes and how the potential relates to other potentials.\n",
    "- __key__ (*str, optional*) UUID4 key to assign to the potential.  If None, a new key will be generated.\n",
    "- __othername__ (*str, optional*) Specifies an alternate description of the interactions besides the list of elements.  Examples include if the model is \"universal\", designed for a specific compound, or is a coarse-grain representation.\n",
    "- __fictional__ (*bool, optional*) Flag indicating if the model is \"fictional\", i.e. purposefully fit to unrealistic properties. \n",
    "- __modelname__ (*str, optional*) Used if citation + element info is not enough to create a unique ID, e.g. a publication lists multiple parameterizations of the same element. The value should make it clear which version it is associated with, and correspond to how the authors refer to it when possible.\n",
    "- __recorddate__ (*datetime.date, optional*) Date to assign to the record.  If not given, will use today's date."
   ]
  },
  {
   "cell_type": "code",
   "execution_count": 24,
   "metadata": {},
   "outputs": [],
   "source": [
    "potential = potentials.load_record('Potential',\n",
    "    elements=['Sn'],\n",
    "    citations=citations,\n",
    "    #notes=' '.join([\n",
    "    #    'Richard Jana notes that \"This potential is suitable for a wide range of applications and structures, so we consider it general purpose. However, it is particularly intended for Fe nano particles.\"'\n",
    "    #]),\n",
    "    #key=None,\n",
    "    #othername='Ge60Se40',\n",
    "    #fictional=True,\n",
    "    #modelname='1',\n",
    "    #recorddate=datetime.date(2019, 12, 24)\n",
    "    )\n",
    "potential.build_model()\n",
    "None"
   ]
  },
  {
   "cell_type": "markdown",
   "metadata": {},
   "source": [
    "#### Option #2: Select existing potential"
   ]
  },
  {
   "cell_type": "code",
   "execution_count": 8,
   "metadata": {},
   "outputs": [
    {
     "name": "stdout",
     "output_type": "stream",
     "text": [
      "Matching record retrieved from local\n"
     ]
    },
    {
     "name": "stderr",
     "output_type": "stream",
     "text": [
      "F:\\Python-packages\\yabadaba\\yabadaba\\database\\LocalDatabase.py:138: FutureWarning: The frame.append method is deprecated and will be removed from pandas in a future version. Use pandas.concat instead.\n",
      "  cache = cache.append(newrecords, sort=False).sort_values('name')\n"
     ]
    }
   ],
   "source": [
    "potential = db.get_potential(id='2023--Nitol-M-S-Dang-K-Fensin-S-J-et-al--Sn', verbose=True)"
   ]
  },
  {
   "cell_type": "markdown",
   "metadata": {},
   "source": [
    "#### Option #3: Get currently loaded potential"
   ]
  },
  {
   "cell_type": "code",
   "execution_count": 104,
   "metadata": {},
   "outputs": [
    {
     "name": "stdout",
     "output_type": "stream",
     "text": [
      "potential.2021--Sivaraman-G-Guo-J-Ward-L-et-al--Li-Cl\n"
     ]
    }
   ],
   "source": [
    "potential = complete_potentials[1]\n",
    "print(potential.name)"
   ]
  },
  {
   "cell_type": "markdown",
   "metadata": {},
   "source": [
    "### 2.2 Investigate and modify"
   ]
  },
  {
   "cell_type": "markdown",
   "metadata": {},
   "source": [
    "#### 2.2.1 Generate html and list content fields"
   ]
  },
  {
   "cell_type": "code",
   "execution_count": 10,
   "metadata": {},
   "outputs": [
    {
     "data": {
      "text/html": [
       "<div xmlns=\"http://www.w3.org/TR/xhtml1/strict\"><script src=\"https://www.ctcms.nist.gov/potentials/site/showFiles.js\">//</script><div class=\"panel panel-default\"><div class=\"panel-heading\"><h3 class=\"panel-title\">2023--Nitol-M-S-Dang-K-Fensin-S-J-et-al--Sn</h3></div><div class=\"panel-body\"><div class=\"citation\"><b>Citation: </b>M.S. Nitol, K. Dang, S.J. Fensin, M.I. Baskes, D.E. Dickel, and C.D. Barrett (2023), \"Hybrid interatomic potential for Sn\", <i>Physical Review Materials</i>, <b>7(4)</b>, 043601. DOI: <a href=\"https://doi.org/10.1103/physrevmaterials.7.043601\" class=\"external\">10.1103/physrevmaterials.7.043601</a>.<br/></div><div class=\"abstract\"><b>Abstract: </b>To design materials for extreme applications, it is important to understand and predict phase transitions and their influence on material properties under high pressures and temperatures. Atomistic modeling can be a useful tool to assess these behaviors. However, this can be difficult due to the lack of fidelity of the interatomic potentials in reproducing this high pressure and temperature extreme behavior. Here, a hybrid EAM-R&#8212;which is the combination of embedded atom method (EAM) and rapid artificial neural network potential&#8212;for Tin (Sn) is described which is capable of accurately modeling the complex sequence of phase transitions between different metallic polymorphs as a function of pressure. This hybrid approach ensures that a basic empirical potential like EAM is used as a lower energy bound. By using the final activation function, the neural network contribution to energy must be positive, assuring stability over the whole configuration space. This implementation has the capacity to reproduce density functional theory results at 6 orders of magnitude slower than a pair potential for molecular dynamics simulation, including elastic and plastic characteristics and relative energies of each phase. Using calculations of the Gibbs free energy, it is demonstrated that the potential precisely predicts the experimentally observed phase changes at temperatures and pressures across the whole phase diagram. At 10.2 GPa, the present potential predicts a first-order phase transition between body-centered tetragonal (BCT) &#946;-Sn and another polymorph of BCT-Sn. This structure transforms into body-centered cubic near the experimentally reported value at 33 GPa. Thus, the Sn potential developed in this paper can be used to study complex deformation mechanisms under extreme conditions of high pressure and strain rates unlike existing potentials. Moreover, the framework developed in this paper can be extended for different material systems with complex phase diagrams.</div><br/><div class=\"format\"><b>LAMMPS pair_style rann (modified)</b><a href=\"https://www.ctcms.nist.gov/potentials/entry/2023--Nitol-M-S-Dang-K-Fensin-S-J-et-al--Sn/2023--Nitol-M-S--Sn--LAMMPS--ipr1.html\"> (2023--Nitol-M-S--Sn--LAMMPS--ipr1)</a></div><div class=\"implementation-notes\"><a href=\"https://www.ctcms.nist.gov/potentials/entry/2023--Nitol-M-S-Dang-K-Fensin-S-J-et-al--Sn/2023--Nitol-M-S--Sn--LAMMPS--ipr1.html\"><b>See Computed Properties</b></a><br/><b>Notes: </b>Information for this potential was provided by Mashroor Nitol on July 13, 2023. This RANN-EAM hybrid potential requires building LAMMPS with the modified rann pair_style code found at the github link below.  The link also provides instructions on LAMMPS version dependencies, build instructions, and a usage example.<br/><b>File(s): </b><div id=\"3d83c0ce-1509-4a6d-b748-e73148789919\" style=\"display:block\"><a href=\"https://www.ctcms.nist.gov/potentials/Download/2023--Nitol-M-S-Dang-K-Fensin-S-J-et-al--Sn/1/Sn.eam-r\">Sn.eam-r</a><br/></div><b>Link(s): </b><div id=\"3d83c0ce-1509-4a6d-b748-e73148789919\" style=\"display:block\">RANN-EAM hybrid source code and instructions <a href=\"https://github.com/MashoorNitol/Hybrid-RANN-EAM\">https://github.com/MashoorNitol/Hybrid-RANN-EAM</a><br/></div><br/></div></div></div></div>"
      ],
      "text/plain": [
       "<IPython.core.display.HTML object>"
      ]
     },
     "metadata": {},
     "output_type": "display_data"
    }
   ],
   "source": [
    "potential.url = f'https://potentials.nist.gov/pid/rest/local/potentials/{potential.name}'\n",
    "potential.html(render=True)"
   ]
  },
  {
   "cell_type": "code",
   "execution_count": 7,
   "metadata": {},
   "outputs": [
    {
     "data": {
      "text/plain": [
       "{'name': 'potential.2014--Lee-B-M-Lee-B-J--Zr-H',\n",
       " 'key': 'ebea64e3-886d-4005-9966-0d7e2bad13cc',\n",
       " 'id': '2014--Lee-B-M-Lee-B-J--Zr-H',\n",
       " 'url': 'https://potentials.nist.gov/pid/rest/local/potentials/potential.2014--Lee-B-M-Lee-B-J--Zr-H',\n",
       " 'recorddate': datetime.date(2019, 5, 6),\n",
       " 'notes': None,\n",
       " 'fictional': False,\n",
       " 'elements': ['Zr', 'H'],\n",
       " 'othername': None,\n",
       " 'modelname': None,\n",
       " 'citations': [{'name': '10.1007_s11661-014-2230-4',\n",
       "   'year_authors': '2014--Lee-B-M-Lee-B-J',\n",
       "   'year': '2014',\n",
       "   'volume': '45',\n",
       "   'url': 'https://doi.org/10.1007%2Fs11661-014-2230-4',\n",
       "   'title': 'A Comparative Study on Hydrogen Diffusion in Amorphous and Crystalline Metals Using a Molecular Dynamics Simulation',\n",
       "   'publisher': 'Springer Nature',\n",
       "   'pages': '2906--2915',\n",
       "   'number': '6',\n",
       "   'month': 'feb',\n",
       "   'journal': 'Metallurgical and Materials Transactions A',\n",
       "   'doi': '10.1007/s11661-014-2230-4',\n",
       "   'author': 'Byeong-Moon Lee and Byeong-Joo Lee',\n",
       "   'abstract': 'A comparative study on hydrogen diffusion in amorphous and simple crystalline structures  has been carried out using molecular dynamics simulations. The Cu-Zr bulk metallic glass (BMG) system is selected as the model material and a modified embedded-atom method (MEAM) interatomic potential for the Cu-Zr-H ternary system is developed for the atomistic  simulation. It is found that the diffusivity of hydrogen in amorphous alloys is lower  than that in open structured crystals but higher than that in close-packed crystals.  The hydrogen diffusion in amorphous alloys is strongly hydrogen concentration dependent compared to crystals, increasing as the hydrogen content increases, and the Arrhenius  plot of hydrogen diffusion in  amorphous alloys shows an upward curvature. The reasons to rationalize all the findings are discussed based on the variety of energy state and  migration energy barrier for interstitial sites in amorphous alloys.',\n",
       "   'ENTRYTYPE': 'article',\n",
       "   'ID': 'Lee_2014'}],\n",
       " 'implementations': [{'key': '9a52f45c-61b3-4f94-afe7-b2a4824734f3',\n",
       "   'id': '2014--Lee-B-M--Zr-H--LAMMPS--ipr1',\n",
       "   'date': '2019-05-06',\n",
       "   'status': 'active',\n",
       "   'notes': 'These potential files were obtained from http://cmse.postech.ac.kr/home_2nnmeam, accessed Nov 9, 2020.',\n",
       "   'type': 'LAMMPS pair_style meam',\n",
       "   'artifacts': [{'filename': 'ZrH.meam',\n",
       "     'label': None,\n",
       "     'url': 'https://www.ctcms.nist.gov/potentials/Download/2014--Lee-B-M-Lee-B-J--Zr-H/1/ZrH.meam'},\n",
       "    {'filename': 'library.meam',\n",
       "     'label': None,\n",
       "     'url': 'https://www.ctcms.nist.gov/potentials/Download/2014--Lee-B-M-Lee-B-J--Zr-H/1/library.meam'}],\n",
       "   'parameters': [],\n",
       "   'links': []}]}"
      ]
     },
     "execution_count": 7,
     "metadata": {},
     "output_type": "execute_result"
    }
   ],
   "source": [
    "potential.metadata()"
   ]
  },
  {
   "cell_type": "markdown",
   "metadata": {},
   "source": [
    "#### 2.2.2 Modify and update fields\n",
    "\n",
    "Same fields as above"
   ]
  },
  {
   "cell_type": "code",
   "execution_count": null,
   "metadata": {},
   "outputs": [],
   "source": [
    "#potential.key = \n",
    "#potential.recorddate = datetime.date()\n",
    "#potential.elements = []\n",
    "#potential.othername = 'water'\n",
    "#potential.fictional = \n",
    "#potential.modelname = "
   ]
  },
  {
   "cell_type": "code",
   "execution_count": 26,
   "metadata": {},
   "outputs": [],
   "source": [
    "potential.notes = \"This is part of a family of potentials designed to investigate liquid and amorphous solid structures of specific compositions. This particular potential was designed for Ge<sub>0.4</sub>Se<sub>0.6</sub>.\""
   ]
  },
  {
   "cell_type": "code",
   "execution_count": 9,
   "metadata": {},
   "outputs": [],
   "source": [
    "potential.notes = \"Due to the short-range nature of interactions, this potential should not be used for the vibrational properties of the InP description. The proposed potential also fails in modeling indium phosphide's melting temperature because this property was not included in reference data for the fitting procedure.\" "
   ]
  },
  {
   "cell_type": "code",
   "execution_count": 23,
   "metadata": {},
   "outputs": [],
   "source": [
    "potential.notes = ' '.join([''])"
   ]
  },
  {
   "cell_type": "code",
   "execution_count": 34,
   "metadata": {},
   "outputs": [],
   "source": [
    "potential.notes = 'Update Jan 14 2022: Citation information added and id updated from 2021--Mendelev-M--Al-Sm.'"
   ]
  },
  {
   "cell_type": "code",
   "execution_count": 11,
   "metadata": {},
   "outputs": [
    {
     "data": {
      "text/plain": [
       "'This is a modified version of <a href=\"https://www.ctcms.nist.gov/potentials/entry/2009--Bonny-G-Pasianot-R-C-Castin-N-Malerba-L--Fe-Cu-Ni/\">2009--Bonny-G-Pasianot-R-C-Castin-N-Malerba-L--Fe-Cu-Ni</a> that adds the ZBL correction at short distances making it suitable for collision cascade simulations. The change does not impact any of the previously published results.'"
      ]
     },
     "execution_count": 11,
     "metadata": {},
     "output_type": "execute_result"
    }
   ],
   "source": [
    "potential.notes"
   ]
  },
  {
   "cell_type": "code",
   "execution_count": 12,
   "metadata": {},
   "outputs": [],
   "source": [
    "potential.notes = 'The current interatomic potentials are a modified version of <a href=\"https://www.ctcms.nist.gov/potentials/entry/2009--Bonny-G-Pasianot-R-C-Castin-N-Malerba-L--Fe-Cu-Ni/\">2009--Bonny-G-Pasianot-R-C-Castin-N-Malerba-L--Fe-Cu-Ni</a>, that include the ZBL correction at short distances, making them suitable for collision cascade simulations. Also, the Ni embedding function is currently modified for densities beyond 1.5 times the equilibrium value, in order to obtain a smooth equation of state behavior. The changes do not impact any of the previously published results.'"
   ]
  },
  {
   "cell_type": "code",
   "execution_count": 36,
   "metadata": {},
   "outputs": [
    {
     "data": {
      "text/plain": [
       "DataModelDict([('interatomic-potential',\n",
       "                DataModelDict([('key', 'f33fbb2c-82d8-45c1-8199-eac338de6861'),\n",
       "                               ('id', '2021--Song-H-Mendelev-M-I--Al-Sm'),\n",
       "                               ('record-version', '2021-03-15'),\n",
       "                               ('description',\n",
       "                                DataModelDict([('citation',\n",
       "                                                DataModelDict([('document-type',\n",
       "                                                                'journal'),\n",
       "                                                               ('title',\n",
       "                                                                'Molecular Dynamics Study of Mechanism of Solid-Liquid Interface Migration and Defect Formation in Al<sub>3</sub>Sm Alloy'),\n",
       "                                                               ('author',\n",
       "                                                                [DataModelDict([('given-name',\n",
       "                                                                                 'H.'),\n",
       "                                                                                ('surname',\n",
       "                                                                                 'Song')]),\n",
       "                                                                 DataModelDict([('given-name',\n",
       "                                                                                 'M.I.'),\n",
       "                                                                                ('surname',\n",
       "                                                                                 'Mendelev')])]),\n",
       "                                                               ('publication-name',\n",
       "                                                                'JOM'),\n",
       "                                                               ('publication-date',\n",
       "                                                                DataModelDict([('year',\n",
       "                                                                                2021)])),\n",
       "                                                               ('volume', 73),\n",
       "                                                               ('issue', 8),\n",
       "                                                               ('abstract',\n",
       "                                                                'We developed a Finnis-Sinclair potential suitable for molecular dynamics (MD) simulation of solidification of Al<sub>3</sub>Sm alloy. The MD simulation showed a layer-by-layer solid-liquid interface (SLI) motion mechanism in the [001] direction. The SLI migration seems to be satisfactorily described by Wilson-Frenkel theory in the temperature interval from 0.7T<sub>m</sub> to T<sub>m</sub>. It was found that the SLI passes an atomic plane as soon as the Sm sublattice is formed while the Al sublattice keeps forming for a while after that, and high Al diffusivity is observed in the solid phase. Those unsettled Al atoms trapped in solid phase will leave vacancies and form defects.'),\n",
       "                                                               ('pages',\n",
       "                                                                '2312-2319'),\n",
       "                                                               ('DOI',\n",
       "                                                                '10.1007/s11837-021-04733-8'),\n",
       "                                                               ('bibtex',\n",
       "                                                                '@article{Song_2021,\\n abstract = {We developed a Finnis-Sinclair potential suitable for molecular dynamics (MD) simulation of solidification of Al<sub>3</sub>Sm alloy. The MD simulation showed a layer-by-layer solid-liquid interface (SLI) motion mechanism in the [001] direction. The SLI migration seems to be satisfactorily described by Wilson-Frenkel theory in the temperature interval from 0.7T<sub>m</sub> to T<sub>m</sub>. It was found that the SLI passes an atomic plane as soon as the Sm sublattice is formed while the Al sublattice keeps forming for a while after that, and high Al diffusivity is observed in the solid phase. Those unsettled Al atoms trapped in solid phase will leave vacancies and form defects.},\\n author = {H. Song and M. I. Mendelev},\\n doi = {10.1007/s11837-021-04733-8},\\n journal = {JOM},\\n month = {jun},\\n number = {8},\\n pages = {2312--2319},\\n publisher = {Springer Science and Business Media LLC},\\n title = {Molecular Dynamics Study of Mechanism of Solid-Liquid Interface Migration and Defect Formation in Al<sub>3</sub>Sm Alloy},\\n url = {https://doi.org/10.1007%2Fs11837-021-04733-8},\\n volume = {73},\\n year = {2021}\\n}\\n\\n')])),\n",
       "                                               ('notes',\n",
       "                                                DataModelDict([('text',\n",
       "                                                                'Update Jan 14 2022: Citation information added and id updated from 2021--Mendelev-M--Al-Sm.')]))])),\n",
       "                               ('implementation',\n",
       "                                DataModelDict([('key',\n",
       "                                                'ca128b82-3892-48fd-a8fd-9aa360470042'),\n",
       "                                               ('id',\n",
       "                                                '2021--Mendelev-M--Al-Sm--LAMMPS--ipr1'),\n",
       "                                               ('status', 'active'),\n",
       "                                               ('date', '2021-03-15'),\n",
       "                                               ('type',\n",
       "                                                'LAMMPS pair_style eam/fs'),\n",
       "                                               ('notes',\n",
       "                                                DataModelDict([('text',\n",
       "                                                                \"This file was provided by Mikhail Mendelev on March 12, 2021 and posted with his permission. Update 19 July 2021: The contact email in the file's header has been changed.\")])),\n",
       "                                               ('artifact',\n",
       "                                                DataModelDict([('web-link',\n",
       "                                                                DataModelDict([('URL',\n",
       "                                                                                'https://www.ctcms.nist.gov/potentials/Download/2021--Mendelev-M--Al-Sm/1/v2_18_Al3Sm_2016.eam.fs'),\n",
       "                                                                               ('link-text',\n",
       "                                                                                'v2_18_Al3Sm_2016.eam.fs')]))]))])),\n",
       "                               ('element', ['Al', 'Sm'])]))])"
      ]
     },
     "execution_count": 36,
     "metadata": {},
     "output_type": "execute_result"
    }
   ],
   "source": [
    "potential.citations[0] = citation\n",
    "potential.name = f'potential.{potential.id}'\n",
    "potential.build_model()"
   ]
  },
  {
   "cell_type": "markdown",
   "metadata": {},
   "source": [
    "## 3. Implementations"
   ]
  },
  {
   "cell_type": "markdown",
   "metadata": {},
   "source": [
    "### 3.1 List all current implementation types\n",
    "\n",
    "List is given to help keep type values (relatively) uniform. Only needs to be called after new types have been added."
   ]
  },
  {
   "cell_type": "code",
   "execution_count": 16,
   "metadata": {},
   "outputs": [
    {
     "name": "stderr",
     "output_type": "stream",
     "text": [
      "F:\\Python-packages\\yabadaba\\yabadaba\\database\\LocalDatabase.py:138: FutureWarning: The frame.append method is deprecated and will be removed from pandas in a future version. Use pandas.concat instead.\n",
      "  cache = cache.append(newrecords, sort=False).sort_values('name')\n"
     ]
    },
    {
     "name": "stdout",
     "output_type": "stream",
     "text": [
      "All existing implementation types:\n",
      "    ADP tabulated functions\n",
      "    Dynamo MEAM\n",
      "    EAM setfl\n",
      "    EAM tabulated functions\n",
      "    Equations\n",
      "    FORTRAN\n",
      "    Finnis-Sinclair tables\n",
      "    GAP\n",
      "    GULP\n",
      "    IMD option EAM\n",
      "    LAMMPS pair_style adp\n",
      "    LAMMPS pair_style aenet (custom)\n",
      "    LAMMPS pair_style agni\n",
      "    LAMMPS pair_style bop\n",
      "    LAMMPS pair_style comb3\n",
      "    LAMMPS pair_style eam\n",
      "    LAMMPS pair_style eam/alloy\n",
      "    LAMMPS pair_style eam/cd\n",
      "    LAMMPS pair_style eam/fs\n",
      "    LAMMPS pair_style eam/he\n",
      "    LAMMPS pair_style edip\n",
      "    LAMMPS pair_style edip/multi\n",
      "    LAMMPS pair_style eim\n",
      "    LAMMPS pair_style extep\n",
      "    LAMMPS pair_style hybrid table linear 1000 eam/alloy\n",
      "    LAMMPS pair_style hybrid/overlay eam/alloy eam/fs\n",
      "    LAMMPS pair_style hybrid/overlay zbl eam/alloy\n",
      "    LAMMPS pair_style hybrid/overlay zbl snap\n",
      "    LAMMPS pair_style lcbop\n",
      "    LAMMPS pair_style meam\n",
      "    LAMMPS pair_style meam (modified)\n",
      "    LAMMPS pair_style meam/spline\n",
      "    LAMMPS pair_style pinn\n",
      "    LAMMPS pair_style polymorphic\n",
      "    LAMMPS pair_style ream (custom)\n",
      "    LAMMPS pair_style reax/c\n",
      "    LAMMPS pair_style reaxff\n",
      "    LAMMPS pair_style sw\n",
      "    LAMMPS pair_style table\n",
      "    LAMMPS pair_style tersoff\n",
      "    LAMMPS pair_style tersoff/mod\n",
      "    LAMMPS pair_style tersoff/mod/c\n",
      "    LAMMPS pair_style tersoff/zbl\n",
      "    LAMMPS pair_style vashishta\n",
      "    MEAM parameters\n",
      "    MEAM splines\n",
      "    Moldy FS\n",
      "    MoldyPSI\n",
      "    OpenKIM\n",
      "    ReaxFF\n",
      "    SPaSM\n",
      "    deepmd-kit\n",
      "    hybrid/overlay coul/streitz meam\n"
     ]
    }
   ],
   "source": [
    "pots = db.get_potentials(remote=False)\n",
    "imptypes = []\n",
    "for pot in pots:\n",
    "    for imp in pot.implementations:\n",
    "        imptypes.append(imp.type)\n",
    "imptypes = np.unique(imptypes)\n",
    "\n",
    "print('All existing implementation types:')\n",
    "for imptypes in imptypes:\n",
    "    print('   ', imptypes)"
   ]
  },
  {
   "cell_type": "markdown",
   "metadata": {},
   "source": [
    "### 3.2 Build or load implementation"
   ]
  },
  {
   "cell_type": "markdown",
   "metadata": {},
   "source": [
    "#### 3.2.1 List ids for current potential and implementations"
   ]
  },
  {
   "cell_type": "code",
   "execution_count": 19,
   "metadata": {},
   "outputs": [
    {
     "name": "stdout",
     "output_type": "stream",
     "text": [
      "suggested imp prefix: 2023--Jana-R--Fe\n",
      "implementation ids:\n"
     ]
    }
   ],
   "source": [
    "print('suggested imp prefix:', potential.impid_prefix)\n",
    "print('implementation ids:')\n",
    "for i, implementation in enumerate(potential.implementations):\n",
    "    print(f'{i}: {implementation.id} {implementation.type}')"
   ]
  },
  {
   "cell_type": "code",
   "execution_count": 19,
   "metadata": {},
   "outputs": [],
   "source": [
    "#del potential.implementations[0]"
   ]
  },
  {
   "cell_type": "markdown",
   "metadata": {},
   "source": [
    "#### 3.2.2 Build new implementation\n",
    "\n",
    "- __type__ (*str*) Describes the type of the implementation. Use one of the listed values above if possible.\n",
    "- __id__ (*str*) Unique human-readable id for the implementation. For new content, should be derived from the associated potential id:\n",
    "    - Remove all authors except for the first\n",
    "    - Add a simple format descriptor: LAMMPS, GULP, table, parameters, FORTRAN, etc.\n",
    "    - Add a version descriptor: ipr1, ipr2, etc\n",
    "- __notes__ (*str, optional*) Notes on the implementation.  This includes where the file(s) came from, who created them, testing info, how it differs from other versions, etc.\n",
    "- __key__ (*str, optional*) UUID4 key to assign to the implementation.  If None, a new key will be generated.\n",
    "- __status__ (*str, optional*) Indicates the status of the implementation. Available values are \n",
    "    - \"active\" (default) indicates a current implementation.\n",
    "    - \"superseded\" indicates an implementation that is still consistent with the potential model, but has minor issues that were fixed by a newer implementation.\n",
    "    - \"retracted\" indicates an implementation that was identified as being an invalid representation of the potential model.\n",
    "- __date__ (*datetime.date, optional*) The date that the implementation was submitted or added.  If not given, will use today's date."
   ]
  },
  {
   "cell_type": "code",
   "execution_count": 25,
   "metadata": {},
   "outputs": [],
   "source": [
    "potential.add_implementation(\n",
    "    type = 'LAMMPS pair_style rann (modified)',\n",
    "    id = f'{potential.impid_prefix}--LAMMPS--ipr1',\n",
    "    notes = ' '.join([\n",
    "        'Information for this potential was provided by Mashroor Nitol on July 13, 2023.',\n",
    "        'This RANN-EAM hybrid potential requires building LAMMPS with the modified rann pair_style',\n",
    "        'code found at the github link below.  The link also provides instructions on LAMMPS version',\n",
    "        'dependencies, build instructions, and a usage example.'\n",
    "    ]),\n",
    "    #key='0cdc699f-e78a-49db-8606-7a33c98c2184',\n",
    "    #status=None,\n",
    "    #date=datetime.date(2020, 6, 18), \n",
    ")\n",
    "index = len(potential.implementations) - 1"
   ]
  },
  {
   "cell_type": "code",
   "execution_count": 28,
   "metadata": {},
   "outputs": [],
   "source": [
    "kimid = 'MO_959249795837'\n",
    "implementation = potentials.Implementation(\n",
    "    type='OpenKIM',\n",
    "    id=kimid,\n",
    "    notes=' '.join(['Listing found at https://openkim.org.']),\n",
    "    #notes=' '.join(['Listing found at https://openkim.org.  This KIM potential is based on a parameter file with identical parameter values as 1989--Tersoff-J--Si-Ge--LAMMPS--ipr1.']),\n",
    "    #notes=' '.join(['Listing found at https://openkim.org. This KIM potential is implemented from the analytical expressions rather than a tabulated parameter file.'])#  The parameter file that this KIM potential is based on has slightly different values due to precision rounding than 2017--Purja-Pun-G-P--Si--LAMMPS--ipr1.']),\n",
    "    key='da76eb36-7ca1-421a-bd64-8f6bdd905b15',\n",
    "    #status=None,\n",
    "    #date=datetime.date(2020, 6, 18), \n",
    ")\n",
    "implementation.add_link(url=f\"https://openkim.org/id/{kimid}\", linktext = kimid)\n",
    "\n",
    "index = len(potential.implementations)\n",
    "potential.implementations.append(implementation)\n",
    "\n"
   ]
  },
  {
   "cell_type": "code",
   "execution_count": 26,
   "metadata": {},
   "outputs": [
    {
     "data": {
      "text/html": [
       "<div xmlns=\"http://www.w3.org/TR/xhtml1/strict\"><script src=\"https://www.ctcms.nist.gov/potentials/site/showFiles.js\">//</script><div class=\"panel panel-default\"><div class=\"panel-heading\"><h3 class=\"panel-title\">2023--Nitol-M-S-Dang-K-Fensin-S-J-et-al--Sn</h3></div><div class=\"panel-body\"><div class=\"citation\"><b>Citation: </b>M.S. Nitol, K. Dang, S.J. Fensin, M.I. Baskes, D.E. Dickel, and C.D. Barrett (2023), \"Hybrid interatomic potential for Sn\", <i>Physical Review Materials</i>, <b>7(4)</b>, 043601. DOI: <a href=\"https://doi.org/10.1103/physrevmaterials.7.043601\" class=\"external\">10.1103/physrevmaterials.7.043601</a>.<br/></div><div class=\"abstract\"><b>Abstract: </b>To design materials for extreme applications, it is important to understand and predict phase transitions and their influence on material properties under high pressures and temperatures. Atomistic modeling can be a useful tool to assess these behaviors. However, this can be difficult due to the lack of fidelity of the interatomic potentials in reproducing this high pressure and temperature extreme behavior. Here, a hybrid EAM-R&#8212;which is the combination of embedded atom method (EAM) and rapid artificial neural network potential&#8212;for Tin (Sn) is described which is capable of accurately modeling the complex sequence of phase transitions between different metallic polymorphs as a function of pressure. This hybrid approach ensures that a basic empirical potential like EAM is used as a lower energy bound. By using the final activation function, the neural network contribution to energy must be positive, assuring stability over the whole configuration space. This implementation has the capacity to reproduce density functional theory results at 6 orders of magnitude slower than a pair potential for molecular dynamics simulation, including elastic and plastic characteristics and relative energies of each phase. Using calculations of the Gibbs free energy, it is demonstrated that the potential precisely predicts the experimentally observed phase changes at temperatures and pressures across the whole phase diagram. At 10.2 GPa, the present potential predicts a first-order phase transition between body-centered tetragonal (BCT) &#946;-Sn and another polymorph of BCT-Sn. This structure transforms into body-centered cubic near the experimentally reported value at 33 GPa. Thus, the Sn potential developed in this paper can be used to study complex deformation mechanisms under extreme conditions of high pressure and strain rates unlike existing potentials. Moreover, the framework developed in this paper can be extended for different material systems with complex phase diagrams.</div><br/><div class=\"format\"><b>LAMMPS pair_style rann (modified)</b><a href=\"https://www.ctcms.nist.gov/potentials/entry/2023--Nitol-M-S-Dang-K-Fensin-S-J-et-al--Sn/2023--Nitol-M-S--Sn--LAMMPS--ipr1.html\"> (2023--Nitol-M-S--Sn--LAMMPS--ipr1)</a></div><div class=\"implementation-notes\"><a href=\"https://www.ctcms.nist.gov/potentials/entry/2023--Nitol-M-S-Dang-K-Fensin-S-J-et-al--Sn/2023--Nitol-M-S--Sn--LAMMPS--ipr1.html\"><b>See Computed Properties</b></a><br/><b>Notes: </b>Information for this potential was provided by Mashroor Nitol on July 13, 2023. This RANN-EAM hybrid potential requires building LAMMPS with the modified rann pair_style code found at the github link below.  The link also provides instructions on LAMMPS version dependencies, build instructions, and a usage example.<br/><br/></div></div></div></div>"
      ],
      "text/plain": [
       "<IPython.core.display.HTML object>"
      ]
     },
     "metadata": {},
     "output_type": "display_data"
    }
   ],
   "source": [
    "potential.build_model()\n",
    "potential.html(render=True)"
   ]
  },
  {
   "cell_type": "markdown",
   "metadata": {},
   "source": [
    "#### 3.2.3 Select implementation\n",
    "\n",
    "Must be done"
   ]
  },
  {
   "cell_type": "code",
   "execution_count": 27,
   "metadata": {},
   "outputs": [],
   "source": [
    "index = 0\n",
    "implementation = potential.implementations[index]"
   ]
  },
  {
   "cell_type": "markdown",
   "metadata": {},
   "source": [
    "### 3.3 Modify implementation"
   ]
  },
  {
   "cell_type": "markdown",
   "metadata": {},
   "source": [
    "#### 3.3.1 Modify implementation metadata "
   ]
  },
  {
   "cell_type": "code",
   "execution_count": 10,
   "metadata": {},
   "outputs": [
    {
     "data": {
      "text/plain": [
       "'This file was provided by Roberto Pasianot on 8 June 2023.'"
      ]
     },
     "execution_count": 10,
     "metadata": {},
     "output_type": "execute_result"
    }
   ],
   "source": [
    "implementation.notes"
   ]
  },
  {
   "cell_type": "code",
   "execution_count": 19,
   "metadata": {},
   "outputs": [],
   "source": [
    "implementation.notes = ' '.join(['These files were provided by Jyri Kimari on 8 May 2023.  The code_and_tests.zip folder contains',\n",
    "                      'the fortran program and input file used to generate the eam.fs file, plots of the potential functions,'\n",
    "                      'and plots of the binary alloying energies.  For the alloying energies, two sizes were investigated (256 atoms and 32000 atoms)',\n",
    "                      'which respectively agree with the local and hydrostatic configurational sampling models (LCSM and HCSM)',\n",
    "                      'reported in the paper.'])"
   ]
  },
  {
   "cell_type": "code",
   "execution_count": 33,
   "metadata": {},
   "outputs": [],
   "source": [
    "implementation.notes = 'The current interatomic potentials are a modified version of 2009--Bonny-G-Pasianot-R-C-Castin-N-Malerba-L--Fe-Cu-Ni (available in this repository), that include the ZBL correction at short distances, making them suitable for collision cascade simulations. Also, the Ni embedding function is currently modified for densities beyond 1.5 times the equilibrium value, in order to obtain a smooth equation of state behavior. The changes do not impact any of the previously published results.'"
   ]
  },
  {
   "cell_type": "code",
   "execution_count": 9,
   "metadata": {},
   "outputs": [],
   "source": [
    "implementation.notes = 'These files were provided by Zacharias Fthenakis on Nov 3, 2022. \"in.graphene\" and \"data.graphene_H_C_O_N\" provide an example LAMMPS script and corresponding atomic configuration.'"
   ]
  },
  {
   "cell_type": "code",
   "execution_count": 73,
   "metadata": {},
   "outputs": [],
   "source": [
    "implementation.notes = 'These files were provided by Ganesh Sivaraman on August 6, 2022. The files are alternatively hosted at <a href=\"https://figshare.com/articles/dataset/Multiphase_GAP_Model_and_Training_Dataset_for_Hafnium_dioxide/14601579\">https://figshare.com/articles/dataset/Multiphase_GAP_Model_and_Training_Dataset_for_Hafnium_dioxide/14601579</a>'"
   ]
  },
  {
   "cell_type": "code",
   "execution_count": 30,
   "metadata": {},
   "outputs": [],
   "source": [
    "implementation.type = 'LAMMPS pair_style meam'"
   ]
  },
  {
   "cell_type": "code",
   "execution_count": 45,
   "metadata": {},
   "outputs": [
    {
     "data": {
      "text/plain": [
       "'2021--Song-H--Al-Sm--LAMMPS--ipr1'"
      ]
     },
     "execution_count": 45,
     "metadata": {},
     "output_type": "execute_result"
    }
   ],
   "source": [
    "implementation.id = f'{potential.impid_prefix}--LAMMPS--ipr1'\n",
    "implementation.id"
   ]
  },
  {
   "cell_type": "code",
   "execution_count": null,
   "metadata": {},
   "outputs": [],
   "source": [
    "#display(HTML(implementation.html()))"
   ]
  },
  {
   "cell_type": "code",
   "execution_count": 12,
   "metadata": {},
   "outputs": [],
   "source": [
    "implementation.notes += \" Update July 19 2023: This version has been superseded as it had the incorrect atomic mass for H.\""
   ]
  },
  {
   "cell_type": "code",
   "execution_count": 11,
   "metadata": {},
   "outputs": [],
   "source": [
    "implementation.status='superseded'"
   ]
  },
  {
   "cell_type": "code",
   "execution_count": null,
   "metadata": {},
   "outputs": [],
   "source": [
    "#implementation.type='LAMMPS pair_style sw',\n",
    "#implementation.key=None,\n",
    "#implementation.id='2009--Molinero-V--water--ipr-1',\n",
    "#implementation.status=None,\n",
    "#implementation.date=datetime.date(2020, 1, 10), \n",
    "implementation.notes= ' '.join(['The table files were sent by Xianbao Duan (Huazhong Univ. of Sci. and Tech) on 18 June 2020 and posted with his permission. The example.lammps.in file gives an example of the LAMMPS pair_style and pair_coeff lines that can be used. A copy of Ta_Zhou04.eam.alloy from 2004--Zhou-X-W--Ta--LAMMPS--ipr2 is included here for completeness.',\n",
    "                                ])"
   ]
  },
  {
   "cell_type": "code",
   "execution_count": 36,
   "metadata": {},
   "outputs": [
    {
     "data": {
      "text/plain": [
       "'LAMMPS pair_style reaxff'"
      ]
     },
     "execution_count": 36,
     "metadata": {},
     "output_type": "execute_result"
    }
   ],
   "source": [
    "implementation.type "
   ]
  },
  {
   "cell_type": "code",
   "execution_count": null,
   "metadata": {},
   "outputs": [],
   "source": [
    "implementation.date=datetime.date(2014, 11, 24)"
   ]
  },
  {
   "cell_type": "code",
   "execution_count": 27,
   "metadata": {},
   "outputs": [
    {
     "data": {
      "text/plain": [
       "'These files were provided by Linus Erhard on Nov 1, 2022, and are alternatively available from <a href=\"https://doi.org/10.5281/zenodo.6353684\">https://doi.org/10.5281/zenodo.6353684</a> (under potential) or from <a href=\"https://hessenbox.tu-darmstadt.de/getlink/fiCU6MLvWiE4vGEouHvLi311/\">https://hessenbox.tu-darmstadt.de/getlink/fiCU6MLvWiE4vGEouHvLi311/</a>. For running the potential the <a href=\"https://libatoms.github.io/QUIP/\">QUIP package</a> within LAMMPS is necessary. The file pot.in gives an example of the LAMMPS inputs to use to run this potential. Alternatively, the potential can be used in a python-ase interface called quippy.'"
      ]
     },
     "execution_count": 27,
     "metadata": {},
     "output_type": "execute_result"
    }
   ],
   "source": [
    "implementation.notes"
   ]
  },
  {
   "cell_type": "code",
   "execution_count": 34,
   "metadata": {},
   "outputs": [],
   "source": [
    "implementation.notes = ' '.join([\"These files were provided by Linus Erhard on Nov 1, 2022, and are alternatively available\",\n",
    "                      'at the links listed below.',\n",
    "                      'For running the potential the <a href=\"https://libatoms.github.io/QUIP/\">QUIP package</a> within LAMMPS is necessary.',\n",
    "                      'The file pot.in gives an example of the LAMMPS inputs to use to run this potential.',\n",
    "                      'Alternatively, the potential can be used in a python-ase interface called quippy.'])"
   ]
  },
  {
   "cell_type": "code",
   "execution_count": null,
   "metadata": {},
   "outputs": [],
   "source": [
    "implementation.notes += ' Update Jan 15, 2020: It was noticed that the original file hosted here was truncated and incomplete.'\n",
    "implementation.notes += ' The incomplete file will not work with LAMMPS versions after 7 Aug 2019.'\n",
    "implementation.notes += ' For earlier LAMMPS versions, both versions of the parameter file appear to behave identically.'"
   ]
  },
  {
   "cell_type": "code",
   "execution_count": null,
   "metadata": {},
   "outputs": [],
   "source": [
    "implementation.status = 'retracted'\n",
    "implementation.notes = 'This file was sent by J. Kullgren (Uppsala University) on 19 December 2016 and posted with his permission. Update March 15, 2020: This version was identified to not be compatible with LAMMPS.'"
   ]
  },
  {
   "cell_type": "code",
   "execution_count": null,
   "metadata": {},
   "outputs": [],
   "source": [
    "implementation.notes='These files were posted on March 15, 2020 by Lucas Hale. They modify the above version by separating the comments into a separate file, making the parameter file compatible with LAMMPS.'"
   ]
  },
  {
   "cell_type": "code",
   "execution_count": null,
   "metadata": {},
   "outputs": [],
   "source": [
    "implementation.type = 'LAMMPS pair_style reax/c'"
   ]
  },
  {
   "cell_type": "code",
   "execution_count": null,
   "metadata": {},
   "outputs": [],
   "source": [
    "implementation.id = '2013--Bonny-G--Fe-Cr-W--LAMMPS--ipr1'"
   ]
  },
  {
   "cell_type": "code",
   "execution_count": 36,
   "metadata": {},
   "outputs": [
    {
     "data": {
      "text/plain": [
       "[]"
      ]
     },
     "execution_count": 36,
     "metadata": {},
     "output_type": "execute_result"
    }
   ],
   "source": [
    "implementation.artifacts"
   ]
  },
  {
   "cell_type": "code",
   "execution_count": 10,
   "metadata": {},
   "outputs": [
    {
     "data": {
      "text/plain": [
       "<potentials.record.Link.Link at 0x2424f372fc8>"
      ]
     },
     "execution_count": 10,
     "metadata": {},
     "output_type": "execute_result"
    }
   ],
   "source": [
    "implementation.links.pop(1)"
   ]
  },
  {
   "cell_type": "markdown",
   "metadata": {},
   "source": [
    "#### 3.3.2 Add implementation content\n",
    "\n",
    "The content for the implementation can exist in one of the following formats\n",
    "\n",
    "1. Artifacts: files that are hosted on the potentials repository.\n",
    "2. Parameters: list of the potential's parameters to show as html text on the repository.\n",
    "3. WebLinks: hyperlinks to content hosted externally."
   ]
  },
  {
   "cell_type": "markdown",
   "metadata": {},
   "source": [
    "#### Option #1: Add artifacts\n",
    "\n",
    "File path parameters\n",
    "\n",
    "- __newpotpath__ is the path to the directory where the new potential files are located.\n",
    "- __localpath__ is the path to the local copy of the NIST potentials repository.\n",
    "- __webpath__ is the url path for the NIST potentials repository that coincides with the localpath on the machine.\n",
    "- __relpath__ is the relative path from localpath where the files are copied to, and the relative path from webpath where they will be found once uploaded to the website."
   ]
  },
  {
   "cell_type": "code",
   "execution_count": 28,
   "metadata": {},
   "outputs": [],
   "source": [
    "# Paths to files on desktop\n",
    "machine = socket.gethostname()\n",
    "if machine == 'PG903193':\n",
    "    newpotpath = Path('F:/website/new potentials')\n",
    "    localpath = Path('F:/website/IPR-website/potentials/')\n",
    "\n",
    "# Paths to files on laptop\n",
    "elif machine == 'PG902164':\n",
    "    newpotpath = Path('C:/Users/lmh1/Documents/website/new potentials')\n",
    "    localpath = Path('C:/Users/lmh1/Documents/website/IPR-website/potentials/')\n",
    "\n",
    "# Web and relative paths\n",
    "webpath = 'https://www.ctcms.nist.gov/potentials/'\n",
    "relpath = f'Download/{potential.id}/{index+1}/'"
   ]
  },
  {
   "cell_type": "markdown",
   "metadata": {},
   "source": [
    "Each artifact has:\n",
    "\n",
    "- __filename__ (*str*) The name of the file (no path information).\n",
    "- __url__ (*str*) The absolute url where the file can be downloaded from.\n",
    "- __label__ (*str, optional*) An optional descriptive label for the file."
   ]
  },
  {
   "cell_type": "code",
   "execution_count": 29,
   "metadata": {},
   "outputs": [],
   "source": [
    "# Specify files from newpotpath to add\n",
    "filenames = [\n",
    "    Path(newpotpath, 'Sn.eam-r'),\n",
    "    #Path(newpotpath, 'library.meam'),\n",
    "    ]\n",
    "\n",
    "labels = [None for i in range(len(filenames))]"
   ]
  },
  {
   "cell_type": "code",
   "execution_count": 24,
   "metadata": {},
   "outputs": [],
   "source": [
    "# Specify files from newpotpath to add\n",
    "filenames = [\n",
    "    Path(newpotpath, 'iron.xml'),\n",
    "    Path(newpotpath, 'iron.xml.sparseX.GAP_2022_12_5_120_12_28_45_6441'),\n",
    "    Path(newpotpath, 'iron.xml.sparseX.GAP_2022_12_5_120_12_28_45_6442'),\n",
    "    Path(newpotpath, 'iron.xml.sparseX.GAP_2022_12_5_120_12_28_45_6443'),\n",
    "    Path(newpotpath, 'compress.dat'),\n",
    "    ]\n",
    "\n",
    "labels = [None for i in range(len(filenames))]"
   ]
  },
  {
   "cell_type": "code",
   "execution_count": 18,
   "metadata": {},
   "outputs": [],
   "source": [
    "# Specify files from newpotpath to add\n",
    "filenames = [\n",
    "    Path(newpotpath, 'mie.mod'),\n",
    "    Path(newpotpath, 'mie_Co-Co.table'),\n",
    "    Path(newpotpath, 'mie_Cr-Cr.table'),\n",
    "    Path(newpotpath, 'mie_Fe-Fe.table'),\n",
    "    Path(newpotpath, 'mie_Mn-Mn.table'),\n",
    "    Path(newpotpath, 'mie_Ni-Ni.table'),\n",
    "    Path(newpotpath, 'mie_Co-Cr.table'),\n",
    "    Path(newpotpath, 'mie_Co-Fe.table'),\n",
    "    Path(newpotpath, 'mie_Co-Mn.table'),\n",
    "    Path(newpotpath, 'mie_Co-Ni.table'),\n",
    "    Path(newpotpath, 'mie_Cr-Fe.table'),\n",
    "    Path(newpotpath, 'mie_Cr-Mn.table'),\n",
    "    Path(newpotpath, 'mie_Cr-Ni.table'),\n",
    "    Path(newpotpath, 'mie_Fe-Mn.table'),\n",
    "    Path(newpotpath, 'mie_Fe-Ni.table'),\n",
    "    Path(newpotpath, 'mie_Mn-Ni.table'),\n",
    "    ]\n",
    "\n",
    "labels = [\n",
    "    'lammps commands',\n",
    "    'Co-Co',\n",
    "    'Cr-Cr',\n",
    "    'Fe-Fe',\n",
    "    'Mn-Mn',\n",
    "    'Ni-Ni',\n",
    "    'Co-Cr',\n",
    "    'Co-Fe',\n",
    "    'Co-Mn',\n",
    "    'Co-Ni',\n",
    "    'Cr-Fe',\n",
    "    'Cr-Mn',\n",
    "    'Cr-Ni',\n",
    "    'Fe-Mn',\n",
    "    'Fe-Ni',\n",
    "    'Mn-Ni',\n",
    "]"
   ]
  },
  {
   "cell_type": "code",
   "execution_count": 30,
   "metadata": {},
   "outputs": [
    {
     "name": "stdout",
     "output_type": "stream",
     "text": [
      "F:\\website\\IPR-website\\potentials\\Download\\2023--Nitol-M-S-Dang-K-Fensin-S-J-et-al--Sn\\1\\Sn.eam-r\n"
     ]
    }
   ],
   "source": [
    "# Make download directory in local copy of website\n",
    "downloadpath = Path(localpath, relpath)\n",
    "if not downloadpath.is_dir():\n",
    "    downloadpath.mkdir(parents=True)\n",
    "\n",
    "# Copy files and add artifact listings\n",
    "for filename, label in zip(filenames, labels):\n",
    "    # Build url\n",
    "    url = webpath + relpath + filename.name\n",
    "    # Copy files\n",
    "    shutil.copy(filename, downloadpath)\n",
    "    print(Path(downloadpath, filename.name))\n",
    "    \n",
    "    # Add artifact listing to implementation\n",
    "    implementation.add_artifact(filename=filename.name, url=url, label=label)"
   ]
  },
  {
   "cell_type": "markdown",
   "metadata": {},
   "source": [
    "#### Option #1b: Update file paths"
   ]
  },
  {
   "cell_type": "code",
   "execution_count": 43,
   "metadata": {},
   "outputs": [],
   "source": [
    "newdir= Path(localpath, relpath)\n",
    "if not newdir.is_dir():\n",
    "    newdir.mkdir(parents=True)\n",
    "\n",
    "for artifact in implementation.artifacts:\n",
    "    # Copy artifact file to new location\n",
    "    oldpath = Path(localpath, artifact.url.replace(webpath, ''))\n",
    "    \n",
    "    newpath = Path(newdir, artifact.filename)\n",
    "    #shutil.copy(oldpath, newpath)\n",
    "    \n",
    "    # Update the url\n",
    "    artifact.url = webpath + relpath + artifact.filename"
   ]
  },
  {
   "cell_type": "markdown",
   "metadata": {},
   "source": [
    "#### Option #2: Add parameters\n",
    "\n",
    "Each parameter has:\n",
    "\n",
    "- __name__ (*str, optional*) The name of the parameter or string parameter line.\n",
    "- __value__ (*float, optional*) The value of the parameter.\n",
    "- __unit__ (*str, optional*) Units associated with value.\n",
    "\n",
    "Note: if the parameters are purely text-based, you can use only the name field."
   ]
  },
  {
   "cell_type": "code",
   "execution_count": null,
   "metadata": {},
   "outputs": [],
   "source": []
  },
  {
   "cell_type": "markdown",
   "metadata": {},
   "source": [
    "#### Option #3: Add weblinks\n",
    "\n",
    "Each weblink has:\n",
    "\n",
    "- __url__ (*str*) URL for the link.\n",
    "- __label__ (*str, optional*) A short description label to proceed the link.\n",
    "- __linktext__ (*str, optional*) The text for the link, i.e. what gets clicked on."
   ]
  },
  {
   "cell_type": "code",
   "execution_count": 26,
   "metadata": {},
   "outputs": [],
   "source": [
    "url = 'https://doi.org/10.5281/zenodo.7630369'\n",
    "label = 'zenodo, includes training data'\n",
    "linktext = 'https://doi.org/10.5281/zenodo.7630369'\n",
    "\n",
    "implementation.add_link(url=url, label=label, linktext=linktext)"
   ]
  },
  {
   "cell_type": "code",
   "execution_count": 31,
   "metadata": {},
   "outputs": [],
   "source": [
    "url = 'https://github.com/MashoorNitol/Hybrid-RANN-EAM'\n",
    "label = 'RANN-EAM hybrid source code and instructions'\n",
    "linktext = 'https://github.com/MashoorNitol/Hybrid-RANN-EAM'\n",
    "\n",
    "implementation.add_link(url=url, label=label, linktext=linktext)"
   ]
  },
  {
   "cell_type": "code",
   "execution_count": 82,
   "metadata": {},
   "outputs": [],
   "source": [
    "implementation.links[0].linktext=linktext"
   ]
  },
  {
   "cell_type": "markdown",
   "metadata": {},
   "source": [
    "## 4. Review and save potentials"
   ]
  },
  {
   "cell_type": "code",
   "execution_count": 32,
   "metadata": {},
   "outputs": [
    {
     "data": {
      "text/html": [
       "<div xmlns=\"http://www.w3.org/TR/xhtml1/strict\"><script src=\"https://www.ctcms.nist.gov/potentials/site/showFiles.js\">//</script><div class=\"panel panel-default\"><div class=\"panel-heading\"><h3 class=\"panel-title\">2023--Nitol-M-S-Dang-K-Fensin-S-J-et-al--Sn</h3></div><div class=\"panel-body\"><div class=\"citation\"><b>Citation: </b>M.S. Nitol, K. Dang, S.J. Fensin, M.I. Baskes, D.E. Dickel, and C.D. Barrett (2023), \"Hybrid interatomic potential for Sn\", <i>Physical Review Materials</i>, <b>7(4)</b>, 043601. DOI: <a href=\"https://doi.org/10.1103/physrevmaterials.7.043601\" class=\"external\">10.1103/physrevmaterials.7.043601</a>.<br/></div><div class=\"abstract\"><b>Abstract: </b>To design materials for extreme applications, it is important to understand and predict phase transitions and their influence on material properties under high pressures and temperatures. Atomistic modeling can be a useful tool to assess these behaviors. However, this can be difficult due to the lack of fidelity of the interatomic potentials in reproducing this high pressure and temperature extreme behavior. Here, a hybrid EAM-R&#8212;which is the combination of embedded atom method (EAM) and rapid artificial neural network potential&#8212;for Tin (Sn) is described which is capable of accurately modeling the complex sequence of phase transitions between different metallic polymorphs as a function of pressure. This hybrid approach ensures that a basic empirical potential like EAM is used as a lower energy bound. By using the final activation function, the neural network contribution to energy must be positive, assuring stability over the whole configuration space. This implementation has the capacity to reproduce density functional theory results at 6 orders of magnitude slower than a pair potential for molecular dynamics simulation, including elastic and plastic characteristics and relative energies of each phase. Using calculations of the Gibbs free energy, it is demonstrated that the potential precisely predicts the experimentally observed phase changes at temperatures and pressures across the whole phase diagram. At 10.2 GPa, the present potential predicts a first-order phase transition between body-centered tetragonal (BCT) &#946;-Sn and another polymorph of BCT-Sn. This structure transforms into body-centered cubic near the experimentally reported value at 33 GPa. Thus, the Sn potential developed in this paper can be used to study complex deformation mechanisms under extreme conditions of high pressure and strain rates unlike existing potentials. Moreover, the framework developed in this paper can be extended for different material systems with complex phase diagrams.</div><br/><div class=\"format\"><b>LAMMPS pair_style rann (modified)</b><a href=\"https://www.ctcms.nist.gov/potentials/entry/2023--Nitol-M-S-Dang-K-Fensin-S-J-et-al--Sn/2023--Nitol-M-S--Sn--LAMMPS--ipr1.html\"> (2023--Nitol-M-S--Sn--LAMMPS--ipr1)</a></div><div class=\"implementation-notes\"><a href=\"https://www.ctcms.nist.gov/potentials/entry/2023--Nitol-M-S-Dang-K-Fensin-S-J-et-al--Sn/2023--Nitol-M-S--Sn--LAMMPS--ipr1.html\"><b>See Computed Properties</b></a><br/><b>Notes: </b>Information for this potential was provided by Mashroor Nitol on July 13, 2023. This RANN-EAM hybrid potential requires building LAMMPS with the modified rann pair_style code found at the github link below.  The link also provides instructions on LAMMPS version dependencies, build instructions, and a usage example.<br/><b>File(s): </b><div id=\"3d83c0ce-1509-4a6d-b748-e73148789919\" style=\"display:block\"><a href=\"https://www.ctcms.nist.gov/potentials/Download/2023--Nitol-M-S-Dang-K-Fensin-S-J-et-al--Sn/1/Sn.eam-r\">Sn.eam-r</a><br/></div><b>Link(s): </b><div id=\"3d83c0ce-1509-4a6d-b748-e73148789919\" style=\"display:block\">RANN-EAM hybrid source code and instructions <a href=\"https://github.com/MashoorNitol/Hybrid-RANN-EAM\">https://github.com/MashoorNitol/Hybrid-RANN-EAM</a><br/></div><br/></div></div></div></div>"
      ],
      "text/plain": [
       "<IPython.core.display.HTML object>"
      ]
     },
     "metadata": {},
     "output_type": "display_data"
    }
   ],
   "source": [
    "potential.build_model()\n",
    "potential.html(render=True)"
   ]
  },
  {
   "cell_type": "code",
   "execution_count": 75,
   "metadata": {},
   "outputs": [],
   "source": [
    "potential.notes = 'Kun Wang notes that \"This potential well reproduces the properties of Pb under finite temperatures, such as the temperature-dependence of elastic constants, linear expansion, and the high-pressure FCC-HCP phase transition at finite temperatures. The computational efficient of such potential is just slightly slower than the EAM potential.\"'"
   ]
  },
  {
   "cell_type": "code",
   "execution_count": 78,
   "metadata": {},
   "outputs": [],
   "source": [
    "implementation.notes = 'These files were provided by Kun Wang on 8 June 2023. This potential can be used by building LAMMPS (only support LAMMPS version 16Feb16 at present) with the REAM source files (pair_ream.cpp and pair_ream.h). And two commands, i.e., \"pair_style ream\" and \"pair_coeff * * Pb_wang.ream Pb\", should be used in the LAMMPS script.'"
   ]
  },
  {
   "cell_type": "code",
   "execution_count": 33,
   "metadata": {},
   "outputs": [
    {
     "name": "stdout",
     "output_type": "stream",
     "text": [
      "Potential record named potential.2023--Nitol-M-S-Dang-K-Fensin-S-J-et-al--Sn added to C:\\Users\\lmh1\\Documents\\library\n",
      "Potential record named potential.2023--Nitol-M-S-Dang-K-Fensin-S-J-et-al--Sn added to https://potentials.nist.gov/\n",
      "Potential record named potential.2023--Nitol-M-S-Dang-K-Fensin-S-J-et-al--Sn assigned to workspace Global Public Workspace\n"
     ]
    }
   ],
   "source": [
    "db.save_potential(potential, overwrite=True, verbose=True)\n",
    "db.upload_potential(potential, workspace=workspace, overwrite=True, verbose=True)\n",
    "complete_potentials.append(potential)"
   ]
  },
  {
   "cell_type": "code",
   "execution_count": 28,
   "metadata": {},
   "outputs": [
    {
     "data": {
      "text/plain": [
       "[<potentials.record.Potential.Potential at 0x23d893ac048>]"
      ]
     },
     "execution_count": 28,
     "metadata": {},
     "output_type": "execute_result"
    }
   ],
   "source": [
    "complete_potentials"
   ]
  },
  {
   "cell_type": "code",
   "execution_count": null,
   "metadata": {},
   "outputs": [],
   "source": []
  },
  {
   "cell_type": "code",
   "execution_count": null,
   "metadata": {},
   "outputs": [],
   "source": [
    "#db.delete_potential(potential, local=True, remote=True, verbose=True)"
   ]
  },
  {
   "cell_type": "code",
   "execution_count": null,
   "metadata": {},
   "outputs": [],
   "source": [
    "db.download_potentials(overwrite=True, format='json', indent=4, verbose=True)"
   ]
  },
  {
   "cell_type": "code",
   "execution_count": 23,
   "metadata": {},
   "outputs": [],
   "source": [
    "complete_potentials.append(potential)"
   ]
  },
  {
   "cell_type": "markdown",
   "metadata": {},
   "source": [
    "## 5. potential_LAMMPS\n",
    "\n",
    "This section generates the potential_LAMMPS metadata records for generating the LAMMPS input command lines for supported potentials."
   ]
  },
  {
   "cell_type": "markdown",
   "metadata": {
    "tags": []
   },
   "source": [
    "### 5.1 Build potential_LAMMPS\n",
    "\n",
    "#### Specify parameters\n",
    "\n",
    "Common settings\n",
    "\n",
    "- __id__ (*str, optional*) implementation id. Should match with the implementation id from above.\n",
    "- __key__ (*str, optional*) implementation key. Should match with the implementation key from above.\n",
    "- __potid__ (*str, optional*) potential id. Should match with the potential id from above.\n",
    "- __potkey__ (*str, optional*) potential key. Should match with the potential key from above.\n",
    "- __elements__ (*list, optional*) The elements that the implementation simulates.  Should match with the elements from above if the implementation explicitly models each element.\n",
    "- __symbols__ (*list, optional*) The particle model symbols defined by the implementation.  Not needed if identical to elements.\n",
    "- __masses__ (*list, optional*) The masses to assign to each symbol/element.  Should be given if the implementation specifies the mass.  Required if elements is not given.\n",
    "- __units__ (*str, optional*) The LAMMPS units to use with the implementation.  Default value is 'metal'.\n",
    "- __atom_style__ (*str, optional*) The LAMMPS atom_style to use with the implementation.  Default value is 'atomic'.\n",
    "- __pair_style__ (*str*) The LAMMPS pair_style associated with the implementation.\n",
    "- __pair_style_terms__ (*list, optional*) Any additional terms that should appear on the pair_style command line.\n",
    "- __comments__ (*str, optional*) Info about where the potential is hosted, to be printed when LAMMPS commands are generated.\n",
    "- __dois__ (*list, optional*) A list of publication DOIs associated with the potential. \n",
    "- __artifacts__ (*list, optional*) A list of Artifact objects for the associated potential files."
   ]
  },
  {
   "cell_type": "code",
   "execution_count": 38,
   "metadata": {},
   "outputs": [
    {
     "data": {
      "text/plain": [
       "['Ge', 'Se']"
      ]
     },
     "execution_count": 38,
     "metadata": {},
     "output_type": "execute_result"
    }
   ],
   "source": [
    "potential.elements"
   ]
  },
  {
   "cell_type": "code",
   "execution_count": 32,
   "metadata": {},
   "outputs": [],
   "source": [
    "kwargs = {}\n",
    "kwargs['id'] = implementation.id\n",
    "kwargs['key'] = implementation.key\n",
    "kwargs['potid'] = potential.id\n",
    "kwargs['potkey'] = potential.key\n",
    "\n",
    "kwargs['elements'] = kwargs['symbols'] = potential.elements\n",
    "#kwargs['elements'] = ['Fe', 'Fe']\n",
    "#kwargs['symbols'] = ['Fe', 'nmFe']\n",
    "kwargs['masses'] = [91.22, 1.008]\n",
    "\n",
    "#kwargs['units'] =\n",
    "#kwargs['atom_style'] = \n",
    "\n",
    "kwargs['pair_style'] = implementation.type.replace('LAMMPS pair_style ', '')\n",
    "#kwargs['pair_style_terms'] = ['spline', 10000]\n",
    "\n",
    "kwargs['comments'] = '\\n'.join([f'Potential {implementation.id} listed in the NIST Interatomic Potentials Repository:',\n",
    "                                f'https://www.ctcms.nist.gov/potentials/entry/{potential.id}/{implementation.id}.html',\n",
    "                                f''])\n",
    "\n",
    "#kwargs['dois'] = []\n",
    "#for cit in potential.citations:\n",
    "#    kwargs['dois'].append(cit.bib['doi'])\n",
    "\n",
    "kwargs['artifacts'] = implementation.artifacts"
   ]
  },
  {
   "cell_type": "markdown",
   "metadata": {},
   "source": [
    "Option #1 For pair potentials without parameter files, e.g lj/cut\n",
    "\n",
    "- __interactions__ (*list*) Lists parameters associated with each unique interaction.  Each value is a dict with\n",
    "    - __symbols__ (*list*) The two elemental model symbols to associate with the interaction.\n",
    "    - __terms__ (*list*) The terms that appear on the pair_coeff command line for that interaction."
   ]
  },
  {
   "cell_type": "code",
   "execution_count": 34,
   "metadata": {},
   "outputs": [],
   "source": [
    "kwargs['interactions'] = [\n",
    "    {'symbols': ['Co', 'Co'], 'terms': ['mie_Co-Co.table', 'ENTRY']},\n",
    "    {'symbols': ['Cr', 'Cr'], 'terms': ['mie_Cr-Cr.table', 'ENTRY']},\n",
    "    {'symbols': ['Fe', 'Fe'], 'terms': ['mie_Fe-Fe.table', 'ENTRY']},\n",
    "    {'symbols': ['Mn', 'Mn'], 'terms': ['mie_Mn-Mn.table', 'ENTRY']},\n",
    "    {'symbols': ['Ni', 'Ni'], 'terms': ['mie_Ni-Ni.table', 'ENTRY']},\n",
    "    {'symbols': ['Co', 'Cr'], 'terms': ['mie_Co-Cr.table', 'ENTRY']},\n",
    "    {'symbols': ['Co', 'Fe'], 'terms': ['mie_Co-Fe.table', 'ENTRY']},\n",
    "    {'symbols': ['Co', 'Mn'], 'terms': ['mie_Co-Mn.table', 'ENTRY']},\n",
    "    {'symbols': ['Co', 'Ni'], 'terms': ['mie_Co-Ni.table', 'ENTRY']},\n",
    "    {'symbols': ['Cr', 'Fe'], 'terms': ['mie_Cr-Fe.table', 'ENTRY']},\n",
    "    {'symbols': ['Cr', 'Mn'], 'terms': ['mie_Cr-Mn.table', 'ENTRY']},\n",
    "    {'symbols': ['Cr', 'Ni'], 'terms': ['mie_Cr-Ni.table', 'ENTRY']},\n",
    "    {'symbols': ['Fe', 'Mn'], 'terms': ['mie_Fe-Mn.table', 'ENTRY']},\n",
    "    {'symbols': ['Fe', 'Ni'], 'terms': ['mie_Fe-Ni.table', 'ENTRY']},\n",
    "    {'symbols': ['Mn', 'Ni'], 'terms': ['mie_Mn-Ni.table', 'ENTRY']},\n",
    "]"
   ]
  },
  {
   "cell_type": "markdown",
   "metadata": {},
   "source": [
    "Option #2 For potentials with single parameter files, e.g. eam/alloy\n",
    "\n",
    "- __paramfile__ (*str*) The name (no path) of the potential's parameter file."
   ]
  },
  {
   "cell_type": "code",
   "execution_count": 60,
   "metadata": {},
   "outputs": [
    {
     "name": "stdout",
     "output_type": "stream",
     "text": [
      "Pb_wang.ream\n",
      "pair_ream.cpp\n",
      "pair_ream.h\n"
     ]
    }
   ],
   "source": [
    "for file in filenames:\n",
    "    print(file.name)"
   ]
  },
  {
   "cell_type": "code",
   "execution_count": 65,
   "metadata": {},
   "outputs": [],
   "source": [
    "kwargs['paramfile'] = 'Pb_wang.ream'"
   ]
  },
  {
   "cell_type": "markdown",
   "metadata": {},
   "source": [
    "Option #3 For potentials with a parameter file and a library file, e.g. meam\n",
    "\n",
    "- __libfile__ (*str*) The name (no path) of the potential's library parameter file.\n",
    "- __paramfile__ (*str, optional*) The name (no path) of the potential's parameter file, if one is used."
   ]
  },
  {
   "cell_type": "code",
   "execution_count": 33,
   "metadata": {},
   "outputs": [],
   "source": [
    "kwargs['libfile'] = 'library.meam'\n",
    "kwargs['paramfile'] = 'ZrH.meam'"
   ]
  },
  {
   "cell_type": "markdown",
   "metadata": {},
   "source": [
    "Option #4 For classic EAM potentials, i.e. eam\n",
    "\n",
    "- __paramfiles__ (*list*) The names (no paths) of the parameter files for each unique element. Order should match order of elements."
   ]
  },
  {
   "cell_type": "code",
   "execution_count": null,
   "metadata": {},
   "outputs": [],
   "source": [
    "kwargs['paramfiles'] = []"
   ]
  },
  {
   "cell_type": "markdown",
   "metadata": {},
   "source": [
    "Option #5 For OpenKIM potentials\n",
    "\n",
    "- __kimid__ (*str*) The KIM model ID."
   ]
  },
  {
   "cell_type": "code",
   "execution_count": null,
   "metadata": {},
   "outputs": [],
   "source": [
    "kwargs['kimid'] = "
   ]
  },
  {
   "cell_type": "markdown",
   "metadata": {},
   "source": [
    "#### Build potential_LAMMPS"
   ]
  },
  {
   "cell_type": "code",
   "execution_count": 34,
   "metadata": {},
   "outputs": [],
   "source": [
    "lammps_potential = potentials.build_lammps_potential(**kwargs).potential()"
   ]
  },
  {
   "cell_type": "code",
   "execution_count": 66,
   "metadata": {},
   "outputs": [],
   "source": [
    "lammps_potential = potentials.buildrecord.potential_LAMMPS.ParamFileBuilder(**kwargs).potential()"
   ]
  },
  {
   "cell_type": "markdown",
   "metadata": {},
   "source": [
    "### 5.2 Load potential_LAMMPS from database "
   ]
  },
  {
   "cell_type": "code",
   "execution_count": 29,
   "metadata": {},
   "outputs": [
    {
     "name": "stdout",
     "output_type": "stream",
     "text": [
      "Found 1 matching potential_LAMMPS records in local library\n",
      "Found 0 matching potential_LAMMPS_KIM records in local library\n",
      "Built 0 lammps potentials for KIM models\n",
      "Matching record retrieved from local\n"
     ]
    },
    {
     "name": "stderr",
     "output_type": "stream",
     "text": [
      "F:\\Python-packages\\yabadaba\\yabadaba\\database\\LocalDatabase.py:138: FutureWarning: The frame.append method is deprecated and will be removed from pandas in a future version. Use pandas.concat instead.\n",
      "  cache = cache.append(newrecords, sort=False).sort_values('name')\n"
     ]
    }
   ],
   "source": [
    "lammps_potential = db.get_lammps_potential(id='2023--Jana-R--Fe--LAMMPS--ipr1', verbose=True)"
   ]
  },
  {
   "cell_type": "markdown",
   "metadata": {},
   "source": [
    "### 5.3 Load potential_LAMMPS from local file not in database "
   ]
  },
  {
   "cell_type": "code",
   "execution_count": 44,
   "metadata": {},
   "outputs": [],
   "source": [
    "fname = Path('2020--Groger-R--Co-Cr-Fe-Mn-Ni--LAMMPS--ipr1.json')\n",
    "\n",
    "lammps_potential = potentials.record.PotentialLAMMPS(fname)"
   ]
  },
  {
   "cell_type": "markdown",
   "metadata": {},
   "source": [
    "### 5.4 Review and save"
   ]
  },
  {
   "cell_type": "code",
   "execution_count": 34,
   "metadata": {},
   "outputs": [
    {
     "ename": "AttributeError",
     "evalue": "can't set attribute",
     "output_type": "error",
     "traceback": [
      "\u001b[1;31m---------------------------------------------------------------------------\u001b[0m",
      "\u001b[1;31mAttributeError\u001b[0m                            Traceback (most recent call last)",
      "\u001b[1;32m~\\AppData\\Local\\Temp\\ipykernel_14028\\1106516864.py\u001b[0m in \u001b[0;36m<module>\u001b[1;34m\u001b[0m\n\u001b[1;32m----> 1\u001b[1;33m \u001b[0mlammps_potential\u001b[0m\u001b[1;33m.\u001b[0m\u001b[0murl\u001b[0m \u001b[1;33m=\u001b[0m \u001b[1;34mf'https://potentials.nist.gov/pid/rest/local/potentials/{lammps_potential.name}'\u001b[0m\u001b[1;33m\u001b[0m\u001b[1;33m\u001b[0m\u001b[0m\n\u001b[0m",
      "\u001b[1;31mAttributeError\u001b[0m: can't set attribute"
     ]
    }
   ],
   "source": [
    "lammps_potential.url = f'https://potentials.nist.gov/pid/rest/local/potentials/{lammps_potential.name}'"
   ]
  },
  {
   "cell_type": "markdown",
   "metadata": {},
   "source": [
    "#### Review model"
   ]
  },
  {
   "cell_type": "code",
   "execution_count": 35,
   "metadata": {},
   "outputs": [
    {
     "name": "stdout",
     "output_type": "stream",
     "text": [
      "{\n",
      "  \"potential-LAMMPS\": {\n",
      "    \"key\": \"7a2e3aa3-39dc-4bb9-ac9a-33a34d77396d\",\n",
      "    \"id\": \"2014--Lee-B-M--Zr-H--LAMMPS--ipr2\",\n",
      "    \"potential\": {\n",
      "      \"key\": \"ebea64e3-886d-4005-9966-0d7e2bad13cc\",\n",
      "      \"id\": \"2014--Lee-B-M-Lee-B-J--Zr-H\"\n",
      "    },\n",
      "    \"comments\": \"Potential 2014--Lee-B-M--Zr-H--LAMMPS--ipr2 listed in the NIST Interatomic Potentials Repository:\\nhttps://www.ctcms.nist.gov/potentials/entry/2014--Lee-B-M-Lee-B-J--Zr-H/2014--Lee-B-M--Zr-H--LAMMPS--ipr2.html\\n\",\n",
      "    \"units\": \"metal\",\n",
      "    \"atom_style\": \"atomic\",\n",
      "    \"atom\": [\n",
      "      {\n",
      "        \"symbol\": \"Zr\",\n",
      "        \"element\": \"Zr\",\n",
      "        \"mass\": 91.22\n",
      "      },\n",
      "      {\n",
      "        \"symbol\": \"H\",\n",
      "        \"element\": \"H\",\n",
      "        \"mass\": 1.008\n",
      "      }\n",
      "    ],\n",
      "    \"pair_style\": {\n",
      "      \"type\": \"meam\"\n",
      "    },\n",
      "    \"pair_coeff\": {\n",
      "      \"term\": [\n",
      "        {\n",
      "          \"file\": \"library.meam\"\n",
      "        },\n",
      "        {\n",
      "          \"option\": \"Zr H\"\n",
      "        },\n",
      "        {\n",
      "          \"file\": \"ZrH.meam\"\n",
      "        },\n",
      "        {\n",
      "          \"symbols\": true\n",
      "        }\n",
      "      ]\n",
      "    },\n",
      "    \"artifact\": [\n",
      "      {\n",
      "        \"web-link\": {\n",
      "          \"URL\": \"https://www.ctcms.nist.gov/potentials/Download/2014--Lee-B-M-Lee-B-J--Zr-H/2/ZrH.meam\",\n",
      "          \"link-text\": \"ZrH.meam\"\n",
      "        }\n",
      "      },\n",
      "      {\n",
      "        \"web-link\": {\n",
      "          \"URL\": \"https://www.ctcms.nist.gov/potentials/Download/2014--Lee-B-M-Lee-B-J--Zr-H/2/library.meam\",\n",
      "          \"link-text\": \"library.meam\"\n",
      "        }\n",
      "      }\n",
      "    ]\n",
      "  }\n",
      "}\n"
     ]
    }
   ],
   "source": [
    "print(lammps_potential.model.json(indent=2))"
   ]
  },
  {
   "cell_type": "markdown",
   "metadata": {},
   "source": [
    "#### Save"
   ]
  },
  {
   "cell_type": "code",
   "execution_count": 31,
   "metadata": {},
   "outputs": [
    {
     "name": "stdout",
     "output_type": "stream",
     "text": [
      "potential_LAMMPS record named 2023--Jana-R--Fe--LAMMPS--ipr1 added to https://potentials.nist.gov/\n",
      "potential_LAMMPS record named 2023--Jana-R--Fe--LAMMPS--ipr1 assigned to workspace Global Public Workspace\n"
     ]
    }
   ],
   "source": [
    "db.save_lammps_potential(lammps_potential, filenames=filenames,  verbose=True)\n",
    "db.upload_lammps_potential(lammps_potential, workspace=workspace, overwrite=True, verbose=True)"
   ]
  },
  {
   "cell_type": "code",
   "execution_count": null,
   "metadata": {},
   "outputs": [],
   "source": [
    "#db.delete_lammps_potential(lammps_potential, local=True, remote=True, verbose=True)"
   ]
  },
  {
   "cell_type": "code",
   "execution_count": null,
   "metadata": {},
   "outputs": [],
   "source": [
    "db.download_lammps_potentials(getfiles=True, overwrite=True, verbose=True)"
   ]
  },
  {
   "cell_type": "markdown",
   "metadata": {},
   "source": [
    "- - -\n",
    "\n",
    "## 5. Actions\n",
    "\n",
    "Actions are used by the website to note changes in content and representation. "
   ]
  },
  {
   "cell_type": "markdown",
   "metadata": {},
   "source": [
    "### 5.1 Build action"
   ]
  },
  {
   "cell_type": "markdown",
   "metadata": {},
   "source": [
    "#### Option #1: new posting(s)"
   ]
  },
  {
   "cell_type": "code",
   "execution_count": 11,
   "metadata": {},
   "outputs": [],
   "source": [
    "complete_potentials = [potential]"
   ]
  },
  {
   "cell_type": "code",
   "execution_count": 12,
   "metadata": {},
   "outputs": [
    {
     "name": "stdout",
     "output_type": "stream",
     "text": [
      "2023--Nitol-M-S-Dang-K-Fensin-S-J-et-al--Sn\n"
     ]
    }
   ],
   "source": [
    "for complete_potential in complete_potentials:\n",
    "    print(complete_potential.id)"
   ]
  },
  {
   "cell_type": "code",
   "execution_count": 13,
   "metadata": {},
   "outputs": [],
   "source": [
    "action = potentials.load_record('Action',\n",
    "    type = 'new posting',\n",
    "    potentials = complete_potentials,\n",
    "    #date = datetime.date(2021, 10, 26),\n",
    "    comment = \"New posting for Sn\",\n",
    ")"
   ]
  },
  {
   "cell_type": "markdown",
   "metadata": {},
   "source": [
    "#### Option #2: updated posting(s)"
   ]
  },
  {
   "cell_type": "code",
   "execution_count": 39,
   "metadata": {},
   "outputs": [],
   "source": [
    "action = potentials.load_record('Action',\n",
    "    type = 'updated posting',\n",
    "    potentials = complete_potentials,\n",
    "    date = None,\n",
    "    comment = 'New version added that fixes the atomic mass of H',\n",
    ")"
   ]
  },
  {
   "cell_type": "markdown",
   "metadata": {},
   "source": [
    "#### Option #3: retraction"
   ]
  },
  {
   "cell_type": "code",
   "execution_count": null,
   "metadata": {},
   "outputs": [],
   "source": [
    "action = potentials.load_record('Action',\n",
    "    type = 'retraction',\n",
    "    potentials = complete_potentials,\n",
    "    date = None,        \n",
    "    comment =,\n",
    ")"
   ]
  },
  {
   "cell_type": "markdown",
   "metadata": {},
   "source": [
    "#### Option #4: site change"
   ]
  },
  {
   "cell_type": "code",
   "execution_count": null,
   "metadata": {},
   "outputs": [],
   "source": [
    "action = potentials.load_record('Action',\n",
    "    type = 'site change',\n",
    "    date = None,\n",
    "    comment = 'IDs added for all non-LAMMPS implementations. The handling of fictional potentials made consistent with \"real\" potentials.',\n",
    "    potentials = []\n",
    ")"
   ]
  },
  {
   "cell_type": "markdown",
   "metadata": {},
   "source": [
    "### 5.2 Look and save"
   ]
  },
  {
   "cell_type": "code",
   "execution_count": 14,
   "metadata": {},
   "outputs": [
    {
     "data": {
      "text/html": [
       "<div xmlns=\"http://www.w3.org/TR/xhtml1/strict\"><b>new posting (2023-07-19): </b>New posting for Sn <ul><li><a href=\"https://www.ctcms.nist.gov/potentials/entry/2023--Nitol-M-S-Dang-K-Fensin-S-J-et-al--Sn\">2023--Nitol-M-S-Dang-K-Fensin-S-J-et-al--Sn</a></li></ul></div>"
      ],
      "text/plain": [
       "<IPython.core.display.HTML object>"
      ]
     },
     "metadata": {},
     "output_type": "display_data"
    }
   ],
   "source": [
    "action.build_model()\n",
    "action.html(render=True)"
   ]
  },
  {
   "cell_type": "code",
   "execution_count": 15,
   "metadata": {},
   "outputs": [
    {
     "name": "stdout",
     "output_type": "stream",
     "text": [
      "Action record named 2023-07-19 New posting for Sn added to https://potentials.nist.gov/\n",
      "Action record named 2023-07-19 New posting for Sn assigned to workspace Global Public Workspace\n"
     ]
    }
   ],
   "source": [
    "db.upload_action(action, workspace=workspace, overwrite=True, verbose=True)"
   ]
  },
  {
   "cell_type": "markdown",
   "metadata": {},
   "source": [
    "- - -\n",
    "\n",
    "## 6. Requests\n",
    "\n",
    "Requests are used by the website to list when people are looking for specific models that we don't have."
   ]
  },
  {
   "cell_type": "markdown",
   "metadata": {},
   "source": [
    "### 6.1 Build request"
   ]
  },
  {
   "cell_type": "code",
   "execution_count": 42,
   "metadata": {},
   "outputs": [],
   "source": [
    "request = potentials.load_record(\n",
    "    'Request',\n",
    "    #comment = 'for modeling large scale metal-metal diffusion and ballistic radiation damage',\n",
    "    #date = datetime.date(2022, 11, 1),\n",
    "    systems = [\n",
    "        {\n",
    "            #'formula': 'Y2Zr2O7',\n",
    "            'elements': ['Cu', 'Ni', 'Zr'],\n",
    "        },\n",
    "        #{\n",
    "        #    'formula': 'KNbO3',\n",
    "        #    'elements': ['Cu', 'Zr', 'Ti', 'Be', 'Ni'],\n",
    "        #},\n",
    "    ]\n",
    ")\n"
   ]
  },
  {
   "cell_type": "markdown",
   "metadata": {},
   "source": [
    "### 6.2 Look and save"
   ]
  },
  {
   "cell_type": "code",
   "execution_count": 43,
   "metadata": {},
   "outputs": [
    {
     "data": {
      "text/html": [
       "<div xmlns=\"http://www.w3.org/TR/xhtml1/strict\"><b>Cu-Ni-Zr  </b> (2023-05-10)</div>"
      ],
      "text/plain": [
       "<IPython.core.display.HTML object>"
      ]
     },
     "metadata": {},
     "output_type": "display_data"
    }
   ],
   "source": [
    "request.build_model()\n",
    "display(HTML(request.html()))"
   ]
  },
  {
   "cell_type": "code",
   "execution_count": 44,
   "metadata": {},
   "outputs": [
    {
     "name": "stdout",
     "output_type": "stream",
     "text": [
      "Request record named 2023-05-10 Cu Ni Zr added to https://potentials.nist.gov/\n",
      "Request record named 2023-05-10 Cu Ni Zr assigned to workspace Global Public Workspace\n"
     ]
    }
   ],
   "source": [
    "db.upload_request(request, workspace=workspace, overwrite=True, verbose=True)"
   ]
  },
  {
   "cell_type": "markdown",
   "metadata": {},
   "source": [
    "## 7. Related models"
   ]
  },
  {
   "cell_type": "code",
   "execution_count": 34,
   "metadata": {},
   "outputs": [],
   "source": [
    "import json\n",
    "\n",
    "def add_related_models(localpath, interaction, model1, model2):\n",
    "    \n",
    "    with open(Path(localpath, 'site/related-interactions.json')) as f:\n",
    "        related_models = json.load(f)\n",
    "    \n",
    "    # If no shared models for that interaction yet\n",
    "    if interaction not in related_models:\n",
    "        print('new interaction')\n",
    "        related_models[interaction] = [[model1, model2]]\n",
    "            \n",
    "    else:\n",
    "        int_models = related_models[interaction]\n",
    "        \n",
    "        # Search for set with one of the elements\n",
    "        match = False\n",
    "        for i in range(len(int_models)):\n",
    "            modelset = int_models[i]\n",
    "            if model1 in modelset:\n",
    "                if match is False:\n",
    "                    match = i\n",
    "                else:\n",
    "                    raise ValueError('given models found in multiple sets!')\n",
    "            if model2 in modelset:\n",
    "                if match is False or match == i:\n",
    "                    match = i\n",
    "                else:\n",
    "                    raise ValueError('given models found in multiple sets!')\n",
    "                    \n",
    "        if match is False:\n",
    "            print('new set')\n",
    "            int_models.append(sorted([model1, model2]))\n",
    "        else:\n",
    "            if model1 not in int_models[match]:\n",
    "                int_models[match] = sorted(int_models[match] + [model1])\n",
    "                print('model1 added to existing set')\n",
    "            elif model2 not in int_models[match]:\n",
    "                int_models[match] = sorted(int_models[match] + [model2])\n",
    "                print('model2 added to existing set')\n",
    "            else:\n",
    "                print('both models already in existing set')\n",
    "    \n",
    "    with open(Path(localpath, 'site/related-interactions.json'), 'w') as f:\n",
    "        json.dump(related_models, fp=f)"
   ]
  },
  {
   "cell_type": "code",
   "execution_count": 40,
   "metadata": {},
   "outputs": [
    {
     "name": "stdout",
     "output_type": "stream",
     "text": [
      "model1 added to existing set\n"
     ]
    }
   ],
   "source": [
    "interaction = 'Fe-Ni'\n",
    "model1 = '2023--Tramontina-D-R-Deluigi-O-R-Pinzon-R-et-al--Fe-Cu-Ni'\n",
    "model2 = '2009--Bonny-G-Pasianot-R-C-Castin-N-Malerba-L--Fe-Cu-Ni'\n",
    "machine = 'desktop'\n",
    "\n",
    "if machine == 'desktop':\n",
    "    localpath = Path('F:/website/IPR-website/potentials/')\n",
    "elif machine == 'laptop':\n",
    "    localpath = Path('C:/Users/lmh1/Documents/website/IPR-website/potentials/')\n",
    "\n",
    "add_related_models(localpath, interaction, model1, model2)"
   ]
  },
  {
   "cell_type": "code",
   "execution_count": null,
   "metadata": {},
   "outputs": [],
   "source": []
  }
 ],
 "metadata": {
  "kernelspec": {
   "display_name": "Python 3 (ipykernel)",
   "language": "python",
   "name": "python3"
  },
  "language_info": {
   "codemirror_mode": {
    "name": "ipython",
    "version": 3
   },
   "file_extension": ".py",
   "mimetype": "text/x-python",
   "name": "python",
   "nbconvert_exporter": "python",
   "pygments_lexer": "ipython3",
   "version": "3.11.3"
  }
 },
 "nbformat": 4,
 "nbformat_minor": 4
}
