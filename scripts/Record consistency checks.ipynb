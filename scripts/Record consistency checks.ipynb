{
 "cells": [
  {
   "cell_type": "markdown",
   "metadata": {},
   "source": [
    "# Record consistency checks\n",
    "\n",
    "This notebook provides consistency checks between\n",
    "\n",
    "- Records stored at potentials.nist.gov and in the potentials-library github repository\n",
    "- Records of different styles that share content"
   ]
  },
  {
   "cell_type": "markdown",
   "metadata": {},
   "source": [
    "Import potentials and load the database records"
   ]
  },
  {
   "cell_type": "code",
   "execution_count": 1,
   "metadata": {},
   "outputs": [],
   "source": [
    "import uuid\n",
    "import datetime\n",
    "import shutil\n",
    "from pathlib import Path\n",
    "\n",
    "import potentials\n",
    "\n",
    "import numpy as np\n",
    "import pandas as pd\n",
    "\n",
    "import iprPy\n",
    "\n",
    "from IPython.core.display import display, HTML"
   ]
  },
  {
   "cell_type": "code",
   "execution_count": 2,
   "metadata": {},
   "outputs": [],
   "source": [
    "machine = 'desktop'\n",
    "#machine = 'laptop'"
   ]
  },
  {
   "cell_type": "code",
   "execution_count": 3,
   "metadata": {},
   "outputs": [],
   "source": [
    "# Load default database and fetch global workspace    \n",
    "db = potentials.Database(remote_name='potentials')#username=username, password=password)\n",
    "workspace = 'Global Public Workspace'"
   ]
  },
  {
   "cell_type": "markdown",
   "metadata": {},
   "source": [
    "## 1. Check Citations"
   ]
  },
  {
   "cell_type": "markdown",
   "metadata": {},
   "source": [
    "Create databases that separately load local and remote Citations"
   ]
  },
  {
   "cell_type": "code",
   "execution_count": 4,
   "metadata": {},
   "outputs": [
    {
     "name": "stdout",
     "output_type": "stream",
     "text": [
      "Found 360 matching Citation records in local library\n",
      "Found 360 matching Citation records in remote library\n"
     ]
    }
   ],
   "source": [
    "local_citations, local_citations_df = db.get_citations(local=True, remote=False, return_df=True, refresh_cache=True, verbose=True)\n",
    "remote_citations, remote_citations_df = db.get_citations(local=False, remote=True, return_df=True, verbose=True)"
   ]
  },
  {
   "cell_type": "markdown",
   "metadata": {},
   "source": [
    "### 1.1 Content corrections"
   ]
  },
  {
   "cell_type": "markdown",
   "metadata": {},
   "source": [
    "#### 1.1.1. Correct names of Citation records\n",
    "\n",
    "Occasionally, major updates of the CDCS database require that records be backed up and copied over.  I think there's a bug in the record transfer scripts (not mine) that replace underscores with spaces.  This changes them back."
   ]
  },
  {
   "cell_type": "code",
   "execution_count": 8,
   "metadata": {},
   "outputs": [],
   "source": [
    "# Fetch raw record content using CDCS query\n",
    "rawcites = db.remote_database.cdcs.query(template='Citation')\n",
    "for i in rawcites.index:\n",
    "    rawcite = rawcites.loc[i]\n",
    "    title = rawcite.title\n",
    "    \n",
    "    # Check if title contains spaces\n",
    "    if ' ' in title:\n",
    "        print(title)\n",
    "        continue\n",
    "        #title = title.replace(' ', '_')\n",
    "        #content = rawcite.xml_content\n",
    "        \n",
    "        #db_remote.cdcs.delete_record(rawcite, verbose=True)\n",
    "        #db_remote.cdcs.upload_record('Citation', content=content, title=title, workspace=global_workspace, verbose=True)"
   ]
  },
  {
   "cell_type": "code",
   "execution_count": 239,
   "metadata": {},
   "outputs": [
    {
     "name": "stdout",
     "output_type": "stream",
     "text": [
      "record L2 1--AlCu2Mn--heusler (5fb561b626ed1e0037171170) has been deleted.\n",
      "record L2_1--AlCu2Mn--heusler (607db6a1e5dbce003645a181) successfully uploaded.\n",
      "record 607db6a1e5dbce003645a181 assigned to workspace 5fb55e4826ed1e0015e846a9\n",
      "record L1 0--AuCu (5fb561b626ed1e002a17117d) has been deleted.\n",
      "record L1_0--AuCu (607db6a4e5dbce003845a17b) successfully uploaded.\n",
      "record 607db6a4e5dbce003845a17b assigned to workspace 5fb55e4826ed1e0015e846a9\n",
      "record L1 2--AuCu3 (5fb561b726ed1e0038171175) has been deleted.\n",
      "record L1_2--AuCu3 (607db6a7e5dbce003745a17d) successfully uploaded.\n",
      "record 607db6a7e5dbce003745a17d assigned to workspace 5fb55e4826ed1e0015e846a9\n",
      "record D0 3--BiF3 (5fb561b826ed1e003917116f) has been deleted.\n",
      "record D0_3--BiF3 (607db6aae5dbce003a45a268) successfully uploaded.\n",
      "record 607db6aae5dbce003a45a268 assigned to workspace 5fb55e4826ed1e0015e846a9\n"
     ]
    }
   ],
   "source": [
    "# Fetch raw record content using CDCS query\n",
    "rawcites = db_remote.cdcs.query(template='crystal_prototype')\n",
    "for i in rawcites.index:\n",
    "    rawcite = rawcites.loc[i]\n",
    "    title = rawcite.title\n",
    "    \n",
    "    # Check if title contains spaces\n",
    "    if ' ' in title:\n",
    "        title = title.replace(' ', '_')\n",
    "        content = rawcite.xml_content\n",
    "        \n",
    "        db_remote.cdcs.delete_record(rawcite, verbose=True)\n",
    "        db_remote.cdcs.upload_record('crystal_prototype', content=content, title=title, workspace=workspace, verbose=True)"
   ]
  },
  {
   "cell_type": "markdown",
   "metadata": {},
   "source": [
    "#### 1.1.2. Add missing page (paper) numbers"
   ]
  },
  {
   "cell_type": "code",
   "execution_count": 5,
   "metadata": {},
   "outputs": [
    {
     "data": {
      "text/html": [
       "<div>\n",
       "<style scoped>\n",
       "    .dataframe tbody tr th:only-of-type {\n",
       "        vertical-align: middle;\n",
       "    }\n",
       "\n",
       "    .dataframe tbody tr th {\n",
       "        vertical-align: top;\n",
       "    }\n",
       "\n",
       "    .dataframe thead th {\n",
       "        text-align: right;\n",
       "    }\n",
       "</style>\n",
       "<table border=\"1\" class=\"dataframe\">\n",
       "  <thead>\n",
       "    <tr style=\"text-align: right;\">\n",
       "      <th></th>\n",
       "      <th>name</th>\n",
       "      <th>year_authors</th>\n",
       "      <th>year</th>\n",
       "      <th>volume</th>\n",
       "      <th>url</th>\n",
       "      <th>title</th>\n",
       "      <th>publisher</th>\n",
       "      <th>pages</th>\n",
       "      <th>number</th>\n",
       "      <th>month</th>\n",
       "      <th>...</th>\n",
       "      <th>doi</th>\n",
       "      <th>author</th>\n",
       "      <th>abstract</th>\n",
       "      <th>ENTRYTYPE</th>\n",
       "      <th>ID</th>\n",
       "      <th>numpages</th>\n",
       "      <th>note</th>\n",
       "      <th>day</th>\n",
       "      <th>booktitle</th>\n",
       "      <th>address</th>\n",
       "    </tr>\n",
       "  </thead>\n",
       "  <tbody>\n",
       "    <tr>\n",
       "      <th>107</th>\n",
       "      <td>10.1017_cbo9781139003582</td>\n",
       "      <td>2009--Tadmor-E-B-Miller-R-E</td>\n",
       "      <td>2009</td>\n",
       "      <td>NaN</td>\n",
       "      <td>https://doi.org/10.1017%2Fcbo9781139003582</td>\n",
       "      <td>Modeling Materials</td>\n",
       "      <td>Cambridge University Press</td>\n",
       "      <td>NaN</td>\n",
       "      <td>NaN</td>\n",
       "      <td>NaN</td>\n",
       "      <td>...</td>\n",
       "      <td>10.1017/cbo9781139003582</td>\n",
       "      <td>Ellad B. Tadmor and Ronald E. Miller</td>\n",
       "      <td>NaN</td>\n",
       "      <td>book</td>\n",
       "      <td>Tadmor_2009</td>\n",
       "      <td>NaN</td>\n",
       "      <td>NaN</td>\n",
       "      <td>NaN</td>\n",
       "      <td>NaN</td>\n",
       "      <td>NaN</td>\n",
       "    </tr>\n",
       "    <tr>\n",
       "      <th>344</th>\n",
       "      <td>1990--ackland-g-j--pt</td>\n",
       "      <td>1990--Ackland-G-J</td>\n",
       "      <td>1990</td>\n",
       "      <td>NaN</td>\n",
       "      <td>NaN</td>\n",
       "      <td>unpublished</td>\n",
       "      <td>NaN</td>\n",
       "      <td>NaN</td>\n",
       "      <td>NaN</td>\n",
       "      <td>NaN</td>\n",
       "      <td>...</td>\n",
       "      <td>NaN</td>\n",
       "      <td>G.J. Ackland</td>\n",
       "      <td>NaN</td>\n",
       "      <td>unpublished</td>\n",
       "      <td>1990--Ackland-G-J--Pt</td>\n",
       "      <td>NaN</td>\n",
       "      <td>1990--Ackland-G-J--Pt</td>\n",
       "      <td>NaN</td>\n",
       "      <td>NaN</td>\n",
       "      <td>NaN</td>\n",
       "    </tr>\n",
       "    <tr>\n",
       "      <th>346</th>\n",
       "      <td>2015--elliott-r-s-akerson-a</td>\n",
       "      <td>2015--Elliott-R-S-Akerson-A</td>\n",
       "      <td>2015</td>\n",
       "      <td>NaN</td>\n",
       "      <td>NaN</td>\n",
       "      <td>Efficient \"universal\" shifted Lennard-Jones mo...</td>\n",
       "      <td>NaN</td>\n",
       "      <td>NaN</td>\n",
       "      <td>NaN</td>\n",
       "      <td>NaN</td>\n",
       "      <td>...</td>\n",
       "      <td>NaN</td>\n",
       "      <td>Ryan S. Elliott and Andrew Akerson</td>\n",
       "      <td>NaN</td>\n",
       "      <td>unpublished</td>\n",
       "      <td>2015--Elliott-R-S-Akerson-A</td>\n",
       "      <td>NaN</td>\n",
       "      <td>2015--Elliott-R-S-Akerson-A</td>\n",
       "      <td>NaN</td>\n",
       "      <td>NaN</td>\n",
       "      <td>NaN</td>\n",
       "    </tr>\n",
       "    <tr>\n",
       "      <th>347</th>\n",
       "      <td>2015--mendelev-m-i--cu</td>\n",
       "      <td>2015--Mendelev-M-I</td>\n",
       "      <td>2015</td>\n",
       "      <td>NaN</td>\n",
       "      <td>NaN</td>\n",
       "      <td>to be published</td>\n",
       "      <td>NaN</td>\n",
       "      <td>NaN</td>\n",
       "      <td>NaN</td>\n",
       "      <td>NaN</td>\n",
       "      <td>...</td>\n",
       "      <td>NaN</td>\n",
       "      <td>M.I. Mendelev</td>\n",
       "      <td>NaN</td>\n",
       "      <td>unpublished</td>\n",
       "      <td>2015--Mendelev-M-I--Cu</td>\n",
       "      <td>NaN</td>\n",
       "      <td>2015--Mendelev-M-I--Cu</td>\n",
       "      <td>NaN</td>\n",
       "      <td>NaN</td>\n",
       "      <td>NaN</td>\n",
       "    </tr>\n",
       "    <tr>\n",
       "      <th>348</th>\n",
       "      <td>2015--mendelev-m-i--fictional-w</td>\n",
       "      <td>2015--Mendelev-M-I</td>\n",
       "      <td>2015</td>\n",
       "      <td>NaN</td>\n",
       "      <td>NaN</td>\n",
       "      <td>to be published</td>\n",
       "      <td>NaN</td>\n",
       "      <td>NaN</td>\n",
       "      <td>NaN</td>\n",
       "      <td>NaN</td>\n",
       "      <td>...</td>\n",
       "      <td>NaN</td>\n",
       "      <td>M.I. Mendelev</td>\n",
       "      <td>NaN</td>\n",
       "      <td>unpublished</td>\n",
       "      <td>2015--Mendelev-M-I--fictional-W</td>\n",
       "      <td>NaN</td>\n",
       "      <td>2015--Mendelev-M-I--fictional-W</td>\n",
       "      <td>NaN</td>\n",
       "      <td>NaN</td>\n",
       "      <td>NaN</td>\n",
       "    </tr>\n",
       "    <tr>\n",
       "      <th>349</th>\n",
       "      <td>2015--mendelev-m-i--mg</td>\n",
       "      <td>2015--Mendelev-M-I</td>\n",
       "      <td>2015</td>\n",
       "      <td>NaN</td>\n",
       "      <td>NaN</td>\n",
       "      <td>to be published</td>\n",
       "      <td>NaN</td>\n",
       "      <td>NaN</td>\n",
       "      <td>NaN</td>\n",
       "      <td>NaN</td>\n",
       "      <td>...</td>\n",
       "      <td>NaN</td>\n",
       "      <td>M.I. Mendelev</td>\n",
       "      <td>NaN</td>\n",
       "      <td>unpublished</td>\n",
       "      <td>2015--Mendelev-M-I--Mg</td>\n",
       "      <td>NaN</td>\n",
       "      <td>2015--Mendelev-M-I--Mg</td>\n",
       "      <td>NaN</td>\n",
       "      <td>NaN</td>\n",
       "      <td>NaN</td>\n",
       "    </tr>\n",
       "    <tr>\n",
       "      <th>350</th>\n",
       "      <td>2015--mendelev-m-i--w</td>\n",
       "      <td>2015--Mendelev-M-I</td>\n",
       "      <td>2015</td>\n",
       "      <td>NaN</td>\n",
       "      <td>NaN</td>\n",
       "      <td>to be published</td>\n",
       "      <td>NaN</td>\n",
       "      <td>NaN</td>\n",
       "      <td>NaN</td>\n",
       "      <td>NaN</td>\n",
       "      <td>...</td>\n",
       "      <td>NaN</td>\n",
       "      <td>M.I. Mendelev</td>\n",
       "      <td>NaN</td>\n",
       "      <td>unpublished</td>\n",
       "      <td>2015--Mendelev-M-I--W</td>\n",
       "      <td>NaN</td>\n",
       "      <td>2015--Mendelev-M-I--W</td>\n",
       "      <td>NaN</td>\n",
       "      <td>NaN</td>\n",
       "      <td>NaN</td>\n",
       "    </tr>\n",
       "    <tr>\n",
       "      <th>351</th>\n",
       "      <td>2016--gibson-j--ti</td>\n",
       "      <td>2016--Gibson-J</td>\n",
       "      <td>2016</td>\n",
       "      <td>NaN</td>\n",
       "      <td>NaN</td>\n",
       "      <td>to be published</td>\n",
       "      <td>NaN</td>\n",
       "      <td>NaN</td>\n",
       "      <td>NaN</td>\n",
       "      <td>NaN</td>\n",
       "      <td>...</td>\n",
       "      <td>NaN</td>\n",
       "      <td>Joshua Gibson</td>\n",
       "      <td>Titanium model for multi-state modfied embedde...</td>\n",
       "      <td>unpublished</td>\n",
       "      <td>2016--Gibson-J--Ti</td>\n",
       "      <td>NaN</td>\n",
       "      <td>2016--Gibson-J--Ti</td>\n",
       "      <td>NaN</td>\n",
       "      <td>NaN</td>\n",
       "      <td>NaN</td>\n",
       "    </tr>\n",
       "    <tr>\n",
       "      <th>352</th>\n",
       "      <td>2017--purja-pun-g-p--au</td>\n",
       "      <td>2017--Purja-Pun-G-P</td>\n",
       "      <td>2017</td>\n",
       "      <td>NaN</td>\n",
       "      <td>NaN</td>\n",
       "      <td>to be published</td>\n",
       "      <td>NaN</td>\n",
       "      <td>NaN</td>\n",
       "      <td>NaN</td>\n",
       "      <td>NaN</td>\n",
       "      <td>...</td>\n",
       "      <td>NaN</td>\n",
       "      <td>G.P. Purja Pun</td>\n",
       "      <td>NaN</td>\n",
       "      <td>unpublished</td>\n",
       "      <td>2017--Purja-Pun-G-P--Au</td>\n",
       "      <td>NaN</td>\n",
       "      <td>2017--Purja-Pun-G-P--Au</td>\n",
       "      <td>NaN</td>\n",
       "      <td>NaN</td>\n",
       "      <td>NaN</td>\n",
       "    </tr>\n",
       "    <tr>\n",
       "      <th>353</th>\n",
       "      <td>2018--mendelev-m-i--ag-ni</td>\n",
       "      <td>2018--Mendelev-M-I</td>\n",
       "      <td>2018</td>\n",
       "      <td>NaN</td>\n",
       "      <td>NaN</td>\n",
       "      <td>to be published</td>\n",
       "      <td>NaN</td>\n",
       "      <td>NaN</td>\n",
       "      <td>NaN</td>\n",
       "      <td>NaN</td>\n",
       "      <td>...</td>\n",
       "      <td>NaN</td>\n",
       "      <td>M.I. Mendelev</td>\n",
       "      <td>NaN</td>\n",
       "      <td>unpublished</td>\n",
       "      <td>2018--Mendelev-M-I--Ag-Ni</td>\n",
       "      <td>NaN</td>\n",
       "      <td>2018--Mendelev-M-I--Ag-Ni</td>\n",
       "      <td>NaN</td>\n",
       "      <td>NaN</td>\n",
       "      <td>NaN</td>\n",
       "    </tr>\n",
       "    <tr>\n",
       "      <th>354</th>\n",
       "      <td>2018--mendelev-m-i--tb</td>\n",
       "      <td>2018--Mendelev-M-I</td>\n",
       "      <td>2018</td>\n",
       "      <td>NaN</td>\n",
       "      <td>NaN</td>\n",
       "      <td>to be published</td>\n",
       "      <td>NaN</td>\n",
       "      <td>NaN</td>\n",
       "      <td>NaN</td>\n",
       "      <td>NaN</td>\n",
       "      <td>...</td>\n",
       "      <td>NaN</td>\n",
       "      <td>M.I. Mendelev</td>\n",
       "      <td>NaN</td>\n",
       "      <td>unpublished</td>\n",
       "      <td>2018--Mendelev-M-I--Tb</td>\n",
       "      <td>NaN</td>\n",
       "      <td>2018--Mendelev-M-I--Tb</td>\n",
       "      <td>NaN</td>\n",
       "      <td>NaN</td>\n",
       "      <td>NaN</td>\n",
       "    </tr>\n",
       "    <tr>\n",
       "      <th>355</th>\n",
       "      <td>2018--mendelev-m-i--w</td>\n",
       "      <td>2018--Mendelev-M-I</td>\n",
       "      <td>2018</td>\n",
       "      <td>NaN</td>\n",
       "      <td>NaN</td>\n",
       "      <td>to be published</td>\n",
       "      <td>NaN</td>\n",
       "      <td>NaN</td>\n",
       "      <td>NaN</td>\n",
       "      <td>NaN</td>\n",
       "      <td>...</td>\n",
       "      <td>NaN</td>\n",
       "      <td>M.I. Mendelev</td>\n",
       "      <td>NaN</td>\n",
       "      <td>unpublished</td>\n",
       "      <td>2018--Mendelev-M-I--W</td>\n",
       "      <td>NaN</td>\n",
       "      <td>2018--Mendelev-M-I--W</td>\n",
       "      <td>NaN</td>\n",
       "      <td>NaN</td>\n",
       "      <td>NaN</td>\n",
       "    </tr>\n",
       "    <tr>\n",
       "      <th>356</th>\n",
       "      <td>2018--s-a-etesami-m-i-baskes-m-laradji-et-al--...</td>\n",
       "      <td>2018--Etesami-S-A-Baskes-M-I-Laradji-M-Asadi-E</td>\n",
       "      <td>2018</td>\n",
       "      <td>NaN</td>\n",
       "      <td>NaN</td>\n",
       "      <td>to be published</td>\n",
       "      <td>NaN</td>\n",
       "      <td>NaN</td>\n",
       "      <td>NaN</td>\n",
       "      <td>NaN</td>\n",
       "      <td>...</td>\n",
       "      <td>NaN</td>\n",
       "      <td>Seyed Alireza Etesami and Michael I. Baskes an...</td>\n",
       "      <td>NaN</td>\n",
       "      <td>unpublished</td>\n",
       "      <td>2018--S-A-Etesami-M-I-Baskes-M-Laradji-et-al--...</td>\n",
       "      <td>NaN</td>\n",
       "      <td>2018--S-A-Etesami-M-I-Baskes-M-Laradji-et-al--...</td>\n",
       "      <td>NaN</td>\n",
       "      <td>NaN</td>\n",
       "      <td>NaN</td>\n",
       "    </tr>\n",
       "    <tr>\n",
       "      <th>357</th>\n",
       "      <td>2019--m-i-mendelev--cu-zr</td>\n",
       "      <td>2019--Mendelev-M-I</td>\n",
       "      <td>2019</td>\n",
       "      <td>NaN</td>\n",
       "      <td>NaN</td>\n",
       "      <td>to be published</td>\n",
       "      <td>NaN</td>\n",
       "      <td>NaN</td>\n",
       "      <td>NaN</td>\n",
       "      <td>NaN</td>\n",
       "      <td>...</td>\n",
       "      <td>NaN</td>\n",
       "      <td>M.I. Mendelev</td>\n",
       "      <td>NaN</td>\n",
       "      <td>unpublished</td>\n",
       "      <td>2019--M-I-Mendelev--Cu-Zr</td>\n",
       "      <td>NaN</td>\n",
       "      <td>2019--M-I-Mendelev--Cu-Zr</td>\n",
       "      <td>NaN</td>\n",
       "      <td>NaN</td>\n",
       "      <td>NaN</td>\n",
       "    </tr>\n",
       "    <tr>\n",
       "      <th>358</th>\n",
       "      <td>2019--m-i-mendelev--fe-ni-cr</td>\n",
       "      <td>2019--Mendelev-M-I</td>\n",
       "      <td>2019</td>\n",
       "      <td>NaN</td>\n",
       "      <td>NaN</td>\n",
       "      <td>to be published</td>\n",
       "      <td>NaN</td>\n",
       "      <td>NaN</td>\n",
       "      <td>NaN</td>\n",
       "      <td>NaN</td>\n",
       "      <td>...</td>\n",
       "      <td>NaN</td>\n",
       "      <td>M.I. Mendelev</td>\n",
       "      <td>NaN</td>\n",
       "      <td>unpublished</td>\n",
       "      <td>2019--M-I-Mendelev--Fe-Ni-Cr</td>\n",
       "      <td>NaN</td>\n",
       "      <td>2019--M-I-Mendelev--Fe-Ni-Cr</td>\n",
       "      <td>NaN</td>\n",
       "      <td>NaN</td>\n",
       "      <td>NaN</td>\n",
       "    </tr>\n",
       "    <tr>\n",
       "      <th>359</th>\n",
       "      <td>2021--mendelev-m--al-sm</td>\n",
       "      <td>2021--Mendelev-M</td>\n",
       "      <td>2021</td>\n",
       "      <td>NaN</td>\n",
       "      <td>NaN</td>\n",
       "      <td>to be published</td>\n",
       "      <td>NaN</td>\n",
       "      <td>NaN</td>\n",
       "      <td>NaN</td>\n",
       "      <td>NaN</td>\n",
       "      <td>...</td>\n",
       "      <td>NaN</td>\n",
       "      <td>Mikhail Mendelev</td>\n",
       "      <td>NaN</td>\n",
       "      <td>unpublished</td>\n",
       "      <td>2021--Mendelev-M--Al-Sm</td>\n",
       "      <td>NaN</td>\n",
       "      <td>2021--Mendelev-M--Al-Sm</td>\n",
       "      <td>NaN</td>\n",
       "      <td>NaN</td>\n",
       "      <td>NaN</td>\n",
       "    </tr>\n",
       "  </tbody>\n",
       "</table>\n",
       "<p>16 rows × 21 columns</p>\n",
       "</div>"
      ],
      "text/plain": [
       "                                                  name  \\\n",
       "107                           10.1017_cbo9781139003582   \n",
       "344                              1990--ackland-g-j--pt   \n",
       "346                        2015--elliott-r-s-akerson-a   \n",
       "347                             2015--mendelev-m-i--cu   \n",
       "348                    2015--mendelev-m-i--fictional-w   \n",
       "349                             2015--mendelev-m-i--mg   \n",
       "350                              2015--mendelev-m-i--w   \n",
       "351                                 2016--gibson-j--ti   \n",
       "352                            2017--purja-pun-g-p--au   \n",
       "353                          2018--mendelev-m-i--ag-ni   \n",
       "354                             2018--mendelev-m-i--tb   \n",
       "355                              2018--mendelev-m-i--w   \n",
       "356  2018--s-a-etesami-m-i-baskes-m-laradji-et-al--...   \n",
       "357                          2019--m-i-mendelev--cu-zr   \n",
       "358                       2019--m-i-mendelev--fe-ni-cr   \n",
       "359                            2021--mendelev-m--al-sm   \n",
       "\n",
       "                                       year_authors  year volume  \\\n",
       "107                     2009--Tadmor-E-B-Miller-R-E  2009    NaN   \n",
       "344                               1990--Ackland-G-J  1990    NaN   \n",
       "346                     2015--Elliott-R-S-Akerson-A  2015    NaN   \n",
       "347                              2015--Mendelev-M-I  2015    NaN   \n",
       "348                              2015--Mendelev-M-I  2015    NaN   \n",
       "349                              2015--Mendelev-M-I  2015    NaN   \n",
       "350                              2015--Mendelev-M-I  2015    NaN   \n",
       "351                                  2016--Gibson-J  2016    NaN   \n",
       "352                             2017--Purja-Pun-G-P  2017    NaN   \n",
       "353                              2018--Mendelev-M-I  2018    NaN   \n",
       "354                              2018--Mendelev-M-I  2018    NaN   \n",
       "355                              2018--Mendelev-M-I  2018    NaN   \n",
       "356  2018--Etesami-S-A-Baskes-M-I-Laradji-M-Asadi-E  2018    NaN   \n",
       "357                              2019--Mendelev-M-I  2019    NaN   \n",
       "358                              2019--Mendelev-M-I  2019    NaN   \n",
       "359                                2021--Mendelev-M  2021    NaN   \n",
       "\n",
       "                                            url  \\\n",
       "107  https://doi.org/10.1017%2Fcbo9781139003582   \n",
       "344                                         NaN   \n",
       "346                                         NaN   \n",
       "347                                         NaN   \n",
       "348                                         NaN   \n",
       "349                                         NaN   \n",
       "350                                         NaN   \n",
       "351                                         NaN   \n",
       "352                                         NaN   \n",
       "353                                         NaN   \n",
       "354                                         NaN   \n",
       "355                                         NaN   \n",
       "356                                         NaN   \n",
       "357                                         NaN   \n",
       "358                                         NaN   \n",
       "359                                         NaN   \n",
       "\n",
       "                                                 title  \\\n",
       "107                                 Modeling Materials   \n",
       "344                                        unpublished   \n",
       "346  Efficient \"universal\" shifted Lennard-Jones mo...   \n",
       "347                                    to be published   \n",
       "348                                    to be published   \n",
       "349                                    to be published   \n",
       "350                                    to be published   \n",
       "351                                    to be published   \n",
       "352                                    to be published   \n",
       "353                                    to be published   \n",
       "354                                    to be published   \n",
       "355                                    to be published   \n",
       "356                                    to be published   \n",
       "357                                    to be published   \n",
       "358                                    to be published   \n",
       "359                                    to be published   \n",
       "\n",
       "                      publisher pages number month  ...  \\\n",
       "107  Cambridge University Press   NaN    NaN   NaN  ...   \n",
       "344                         NaN   NaN    NaN   NaN  ...   \n",
       "346                         NaN   NaN    NaN   NaN  ...   \n",
       "347                         NaN   NaN    NaN   NaN  ...   \n",
       "348                         NaN   NaN    NaN   NaN  ...   \n",
       "349                         NaN   NaN    NaN   NaN  ...   \n",
       "350                         NaN   NaN    NaN   NaN  ...   \n",
       "351                         NaN   NaN    NaN   NaN  ...   \n",
       "352                         NaN   NaN    NaN   NaN  ...   \n",
       "353                         NaN   NaN    NaN   NaN  ...   \n",
       "354                         NaN   NaN    NaN   NaN  ...   \n",
       "355                         NaN   NaN    NaN   NaN  ...   \n",
       "356                         NaN   NaN    NaN   NaN  ...   \n",
       "357                         NaN   NaN    NaN   NaN  ...   \n",
       "358                         NaN   NaN    NaN   NaN  ...   \n",
       "359                         NaN   NaN    NaN   NaN  ...   \n",
       "\n",
       "                          doi  \\\n",
       "107  10.1017/cbo9781139003582   \n",
       "344                       NaN   \n",
       "346                       NaN   \n",
       "347                       NaN   \n",
       "348                       NaN   \n",
       "349                       NaN   \n",
       "350                       NaN   \n",
       "351                       NaN   \n",
       "352                       NaN   \n",
       "353                       NaN   \n",
       "354                       NaN   \n",
       "355                       NaN   \n",
       "356                       NaN   \n",
       "357                       NaN   \n",
       "358                       NaN   \n",
       "359                       NaN   \n",
       "\n",
       "                                                author  \\\n",
       "107               Ellad B. Tadmor and Ronald E. Miller   \n",
       "344                                       G.J. Ackland   \n",
       "346                 Ryan S. Elliott and Andrew Akerson   \n",
       "347                                      M.I. Mendelev   \n",
       "348                                      M.I. Mendelev   \n",
       "349                                      M.I. Mendelev   \n",
       "350                                      M.I. Mendelev   \n",
       "351                                      Joshua Gibson   \n",
       "352                                     G.P. Purja Pun   \n",
       "353                                      M.I. Mendelev   \n",
       "354                                      M.I. Mendelev   \n",
       "355                                      M.I. Mendelev   \n",
       "356  Seyed Alireza Etesami and Michael I. Baskes an...   \n",
       "357                                      M.I. Mendelev   \n",
       "358                                      M.I. Mendelev   \n",
       "359                                   Mikhail Mendelev   \n",
       "\n",
       "                                              abstract    ENTRYTYPE  \\\n",
       "107                                                NaN         book   \n",
       "344                                                NaN  unpublished   \n",
       "346                                                NaN  unpublished   \n",
       "347                                                NaN  unpublished   \n",
       "348                                                NaN  unpublished   \n",
       "349                                                NaN  unpublished   \n",
       "350                                                NaN  unpublished   \n",
       "351  Titanium model for multi-state modfied embedde...  unpublished   \n",
       "352                                                NaN  unpublished   \n",
       "353                                                NaN  unpublished   \n",
       "354                                                NaN  unpublished   \n",
       "355                                                NaN  unpublished   \n",
       "356                                                NaN  unpublished   \n",
       "357                                                NaN  unpublished   \n",
       "358                                                NaN  unpublished   \n",
       "359                                                NaN  unpublished   \n",
       "\n",
       "                                                    ID numpages  \\\n",
       "107                                        Tadmor_2009      NaN   \n",
       "344                              1990--Ackland-G-J--Pt      NaN   \n",
       "346                        2015--Elliott-R-S-Akerson-A      NaN   \n",
       "347                             2015--Mendelev-M-I--Cu      NaN   \n",
       "348                    2015--Mendelev-M-I--fictional-W      NaN   \n",
       "349                             2015--Mendelev-M-I--Mg      NaN   \n",
       "350                              2015--Mendelev-M-I--W      NaN   \n",
       "351                                 2016--Gibson-J--Ti      NaN   \n",
       "352                            2017--Purja-Pun-G-P--Au      NaN   \n",
       "353                          2018--Mendelev-M-I--Ag-Ni      NaN   \n",
       "354                             2018--Mendelev-M-I--Tb      NaN   \n",
       "355                              2018--Mendelev-M-I--W      NaN   \n",
       "356  2018--S-A-Etesami-M-I-Baskes-M-Laradji-et-al--...      NaN   \n",
       "357                          2019--M-I-Mendelev--Cu-Zr      NaN   \n",
       "358                       2019--M-I-Mendelev--Fe-Ni-Cr      NaN   \n",
       "359                            2021--Mendelev-M--Al-Sm      NaN   \n",
       "\n",
       "                                                  note  day booktitle address  \n",
       "107                                                NaN  NaN       NaN     NaN  \n",
       "344                              1990--Ackland-G-J--Pt  NaN       NaN     NaN  \n",
       "346                        2015--Elliott-R-S-Akerson-A  NaN       NaN     NaN  \n",
       "347                             2015--Mendelev-M-I--Cu  NaN       NaN     NaN  \n",
       "348                    2015--Mendelev-M-I--fictional-W  NaN       NaN     NaN  \n",
       "349                             2015--Mendelev-M-I--Mg  NaN       NaN     NaN  \n",
       "350                              2015--Mendelev-M-I--W  NaN       NaN     NaN  \n",
       "351                                 2016--Gibson-J--Ti  NaN       NaN     NaN  \n",
       "352                            2017--Purja-Pun-G-P--Au  NaN       NaN     NaN  \n",
       "353                          2018--Mendelev-M-I--Ag-Ni  NaN       NaN     NaN  \n",
       "354                             2018--Mendelev-M-I--Tb  NaN       NaN     NaN  \n",
       "355                              2018--Mendelev-M-I--W  NaN       NaN     NaN  \n",
       "356  2018--S-A-Etesami-M-I-Baskes-M-Laradji-et-al--...  NaN       NaN     NaN  \n",
       "357                          2019--M-I-Mendelev--Cu-Zr  NaN       NaN     NaN  \n",
       "358                       2019--M-I-Mendelev--Fe-Ni-Cr  NaN       NaN     NaN  \n",
       "359                            2021--Mendelev-M--Al-Sm  NaN       NaN     NaN  \n",
       "\n",
       "[16 rows x 21 columns]"
      ]
     },
     "execution_count": 5,
     "metadata": {},
     "output_type": "execute_result"
    }
   ],
   "source": [
    "local_citations_df[local_citations_df.pages.isna()]"
   ]
  },
  {
   "cell_type": "code",
   "execution_count": 19,
   "metadata": {},
   "outputs": [],
   "source": [
    "ii = local_citations_df[local_citations_df.pages.isna()].index"
   ]
  },
  {
   "cell_type": "code",
   "execution_count": 54,
   "metadata": {},
   "outputs": [
    {
     "name": "stdout",
     "output_type": "stream",
     "text": [
      "{'year': '2018', 'title': 'to be published', 'note': '2018--Mendelev-M-I--W', 'author': 'M.I. Mendelev', 'ENTRYTYPE': 'unpublished', 'ID': '2018--Mendelev-M-I--W'}\n"
     ]
    }
   ],
   "source": [
    "i = ii[]\n",
    "cit = local_citations[i]\n",
    "print(cit.bib)"
   ]
  },
  {
   "cell_type": "code",
   "execution_count": 43,
   "metadata": {},
   "outputs": [
    {
     "name": "stdout",
     "output_type": "stream",
     "text": [
      "Citation record named 10.1524_zkri.2009.1085 updated in C:\\Users\\lmh1\\Documents\\library\n",
      "Citation record named 10.1524_zkri.2009.1085 updated in https://potentials.nist.gov/\n",
      "Citation record named 10.1524_zkri.2009.1085 assigned to workspace Global Public Workspace\n"
     ]
    }
   ],
   "source": [
    "cit.bib['pages'] = \"97--100\"\n",
    "#cit.bib['pages'] = cit.bib['doi'].split('.')[-1]\n",
    "db.save_citation(cit, overwrite=True, verbose=True)\n",
    "db.upload_citation(cit, workspace=workspace, overwrite=True, verbose=True)"
   ]
  },
  {
   "cell_type": "markdown",
   "metadata": {},
   "source": [
    "### 1.2. Check for missing records"
   ]
  },
  {
   "cell_type": "code",
   "execution_count": 6,
   "metadata": {},
   "outputs": [
    {
     "name": "stdout",
     "output_type": "stream",
     "text": [
      "missing from local:\n"
     ]
    },
    {
     "data": {
      "text/html": [
       "<div>\n",
       "<style scoped>\n",
       "    .dataframe tbody tr th:only-of-type {\n",
       "        vertical-align: middle;\n",
       "    }\n",
       "\n",
       "    .dataframe tbody tr th {\n",
       "        vertical-align: top;\n",
       "    }\n",
       "\n",
       "    .dataframe thead th {\n",
       "        text-align: right;\n",
       "    }\n",
       "</style>\n",
       "<table border=\"1\" class=\"dataframe\">\n",
       "  <thead>\n",
       "    <tr style=\"text-align: right;\">\n",
       "      <th></th>\n",
       "      <th>name</th>\n",
       "      <th>year_authors</th>\n",
       "      <th>year</th>\n",
       "      <th>title</th>\n",
       "      <th>note</th>\n",
       "      <th>author</th>\n",
       "      <th>ENTRYTYPE</th>\n",
       "      <th>ID</th>\n",
       "      <th>abstract</th>\n",
       "      <th>pages</th>\n",
       "      <th>...</th>\n",
       "      <th>day</th>\n",
       "      <th>booktitle</th>\n",
       "      <th>address</th>\n",
       "      <th>volume</th>\n",
       "      <th>url</th>\n",
       "      <th>publisher</th>\n",
       "      <th>number</th>\n",
       "      <th>journal</th>\n",
       "      <th>doi</th>\n",
       "      <th>numpages</th>\n",
       "    </tr>\n",
       "  </thead>\n",
       "  <tbody>\n",
       "  </tbody>\n",
       "</table>\n",
       "<p>0 rows × 21 columns</p>\n",
       "</div>"
      ],
      "text/plain": [
       "Empty DataFrame\n",
       "Columns: [name, year_authors, year, title, note, author, ENTRYTYPE, ID, abstract, pages, month, day, booktitle, address, volume, url, publisher, number, journal, doi, numpages]\n",
       "Index: []\n",
       "\n",
       "[0 rows x 21 columns]"
      ]
     },
     "execution_count": 6,
     "metadata": {},
     "output_type": "execute_result"
    }
   ],
   "source": [
    "print('missing from local:')\n",
    "remote_citations_df[(~remote_citations_df.doi.isin(local_citations_df.doi.tolist()))\n",
    "                   |(~remote_citations_df.note.isin(local_citations_df.note.tolist()))]"
   ]
  },
  {
   "cell_type": "code",
   "execution_count": 7,
   "metadata": {},
   "outputs": [
    {
     "name": "stdout",
     "output_type": "stream",
     "text": [
      "missing from remote:\n"
     ]
    },
    {
     "data": {
      "text/html": [
       "<div>\n",
       "<style scoped>\n",
       "    .dataframe tbody tr th:only-of-type {\n",
       "        vertical-align: middle;\n",
       "    }\n",
       "\n",
       "    .dataframe tbody tr th {\n",
       "        vertical-align: top;\n",
       "    }\n",
       "\n",
       "    .dataframe thead th {\n",
       "        text-align: right;\n",
       "    }\n",
       "</style>\n",
       "<table border=\"1\" class=\"dataframe\">\n",
       "  <thead>\n",
       "    <tr style=\"text-align: right;\">\n",
       "      <th></th>\n",
       "      <th>name</th>\n",
       "      <th>year_authors</th>\n",
       "      <th>year</th>\n",
       "      <th>volume</th>\n",
       "      <th>url</th>\n",
       "      <th>title</th>\n",
       "      <th>publisher</th>\n",
       "      <th>pages</th>\n",
       "      <th>number</th>\n",
       "      <th>month</th>\n",
       "      <th>...</th>\n",
       "      <th>doi</th>\n",
       "      <th>author</th>\n",
       "      <th>abstract</th>\n",
       "      <th>ENTRYTYPE</th>\n",
       "      <th>ID</th>\n",
       "      <th>numpages</th>\n",
       "      <th>note</th>\n",
       "      <th>day</th>\n",
       "      <th>booktitle</th>\n",
       "      <th>address</th>\n",
       "    </tr>\n",
       "  </thead>\n",
       "  <tbody>\n",
       "  </tbody>\n",
       "</table>\n",
       "<p>0 rows × 21 columns</p>\n",
       "</div>"
      ],
      "text/plain": [
       "Empty DataFrame\n",
       "Columns: [name, year_authors, year, volume, url, title, publisher, pages, number, month, journal, doi, author, abstract, ENTRYTYPE, ID, numpages, note, day, booktitle, address]\n",
       "Index: []\n",
       "\n",
       "[0 rows x 21 columns]"
      ]
     },
     "execution_count": 7,
     "metadata": {},
     "output_type": "execute_result"
    }
   ],
   "source": [
    "print('missing from remote:')\n",
    "local_citations_df[(~local_citations_df.doi.isin(remote_citations_df.doi.tolist()))\n",
    "                  |(~local_citations_df.note.isin(remote_citations_df.note.tolist()))]"
   ]
  },
  {
   "cell_type": "markdown",
   "metadata": {},
   "source": [
    "### 1.3. Compare record contents"
   ]
  },
  {
   "cell_type": "code",
   "execution_count": 10,
   "metadata": {},
   "outputs": [
    {
     "name": "stdout",
     "output_type": "stream",
     "text": [
      "All records match\n"
     ]
    }
   ],
   "source": [
    "allgood = True\n",
    "for local_cite in local_citations:\n",
    "    try:\n",
    "        match = remote_citations_df.doi == local_cite.bib['doi']\n",
    "    except:\n",
    "        match = remote_citations_df.note == local_cite.bib['note']\n",
    "    if sum(match) > 1:\n",
    "        print('multiple matches for', local_cite.doifname)\n",
    "    elif sum(match) == 0:\n",
    "        print('no matches for', local_cite.doifname)\n",
    "    else:\n",
    "        remote_cite = remote_citations[match][0]\n",
    "        remote_bib = remote_cite.build_bibtex()\n",
    "        local_bib = local_cite.build_bibtex()\n",
    "        if local_bib != remote_bib:\n",
    "            allgood = False\n",
    "            print('different data for', local_cite.doifname)\n",
    "            print()\n",
    "            print('local:')\n",
    "            print(local_bib)\n",
    "            print('remote:')\n",
    "            print(remote_bib)\n",
    "            print()\n",
    "            same = ''\n",
    "            for i in range(len(local_bib)):\n",
    "                if local_bib[i] != remote_bib[i]:\n",
    "                    print(local_bib[:i+1])\n",
    "                    break\n",
    "            break\n",
    "\n",
    "if allgood:\n",
    "    print('All records match')"
   ]
  },
  {
   "cell_type": "markdown",
   "metadata": {},
   "source": [
    "### 1.4. Update a citation"
   ]
  },
  {
   "cell_type": "code",
   "execution_count": 13,
   "metadata": {},
   "outputs": [
    {
     "name": "stdout",
     "output_type": "stream",
     "text": [
      "Matching record retrieved from local\n"
     ]
    }
   ],
   "source": [
    "# Update a local citation to remote\n",
    "#cit = db.get_citation(name=local_cite.name, remote=False, local=True, verbose=True)\n",
    "#db.upload_citation(cit, workspace=workspace, overwrite=True, verbose=True)"
   ]
  },
  {
   "cell_type": "code",
   "execution_count": 14,
   "metadata": {},
   "outputs": [
    {
     "name": "stdout",
     "output_type": "stream",
     "text": [
      "Matching record retrieved from remote\n"
     ]
    }
   ],
   "source": [
    "# Update a remote citation to local\n",
    "#cit = db.get_citation(name=remote_cite.name, remote=True, local=False, verbose=True)\n",
    "#db.save_citation(cit, overwrite=True, verbose=True)"
   ]
  },
  {
   "cell_type": "markdown",
   "metadata": {},
   "source": [
    "## 2. Check Potentials"
   ]
  },
  {
   "cell_type": "code",
   "execution_count": 5,
   "metadata": {},
   "outputs": [
    {
     "name": "stdout",
     "output_type": "stream",
     "text": [
      "Found 647 matching Potential records in local library\n",
      "Found 647 matching Potential records in remote library\n"
     ]
    }
   ],
   "source": [
    "local_potentials, local_potentials_df = db.get_potentials(local=True, remote=False, return_df=True, refresh_cache=True, verbose=True)\n",
    "remote_potentials, remote_potentials_df = db.get_potentials(local=False, remote=True, return_df=True, verbose=True)"
   ]
  },
  {
   "cell_type": "markdown",
   "metadata": {},
   "source": [
    "### 2.1. Check for missing records"
   ]
  },
  {
   "cell_type": "code",
   "execution_count": 6,
   "metadata": {},
   "outputs": [
    {
     "name": "stdout",
     "output_type": "stream",
     "text": [
      "missing from local:\n"
     ]
    },
    {
     "data": {
      "text/html": [
       "<div>\n",
       "<style scoped>\n",
       "    .dataframe tbody tr th:only-of-type {\n",
       "        vertical-align: middle;\n",
       "    }\n",
       "\n",
       "    .dataframe tbody tr th {\n",
       "        vertical-align: top;\n",
       "    }\n",
       "\n",
       "    .dataframe thead th {\n",
       "        text-align: right;\n",
       "    }\n",
       "</style>\n",
       "<table border=\"1\" class=\"dataframe\">\n",
       "  <thead>\n",
       "    <tr style=\"text-align: right;\">\n",
       "      <th></th>\n",
       "      <th>name</th>\n",
       "      <th>key</th>\n",
       "      <th>id</th>\n",
       "      <th>recorddate</th>\n",
       "      <th>notes</th>\n",
       "      <th>fictional</th>\n",
       "      <th>elements</th>\n",
       "      <th>othername</th>\n",
       "      <th>modelname</th>\n",
       "      <th>citations</th>\n",
       "      <th>implementations</th>\n",
       "    </tr>\n",
       "  </thead>\n",
       "  <tbody>\n",
       "  </tbody>\n",
       "</table>\n",
       "</div>"
      ],
      "text/plain": [
       "Empty DataFrame\n",
       "Columns: [name, key, id, recorddate, notes, fictional, elements, othername, modelname, citations, implementations]\n",
       "Index: []"
      ]
     },
     "execution_count": 6,
     "metadata": {},
     "output_type": "execute_result"
    }
   ],
   "source": [
    "print('missing from local:')\n",
    "remote_potentials_df[~remote_potentials_df.id.isin(local_potentials_df.id.tolist())]"
   ]
  },
  {
   "cell_type": "code",
   "execution_count": 7,
   "metadata": {},
   "outputs": [
    {
     "name": "stdout",
     "output_type": "stream",
     "text": [
      "missing from remote:\n"
     ]
    },
    {
     "data": {
      "text/html": [
       "<div>\n",
       "<style scoped>\n",
       "    .dataframe tbody tr th:only-of-type {\n",
       "        vertical-align: middle;\n",
       "    }\n",
       "\n",
       "    .dataframe tbody tr th {\n",
       "        vertical-align: top;\n",
       "    }\n",
       "\n",
       "    .dataframe thead th {\n",
       "        text-align: right;\n",
       "    }\n",
       "</style>\n",
       "<table border=\"1\" class=\"dataframe\">\n",
       "  <thead>\n",
       "    <tr style=\"text-align: right;\">\n",
       "      <th></th>\n",
       "      <th>name</th>\n",
       "      <th>key</th>\n",
       "      <th>id</th>\n",
       "      <th>recorddate</th>\n",
       "      <th>notes</th>\n",
       "      <th>fictional</th>\n",
       "      <th>elements</th>\n",
       "      <th>othername</th>\n",
       "      <th>modelname</th>\n",
       "      <th>citations</th>\n",
       "      <th>implementations</th>\n",
       "    </tr>\n",
       "  </thead>\n",
       "  <tbody>\n",
       "  </tbody>\n",
       "</table>\n",
       "</div>"
      ],
      "text/plain": [
       "Empty DataFrame\n",
       "Columns: [name, key, id, recorddate, notes, fictional, elements, othername, modelname, citations, implementations]\n",
       "Index: []"
      ]
     },
     "execution_count": 7,
     "metadata": {},
     "output_type": "execute_result"
    }
   ],
   "source": [
    "print('missing from remote:')\n",
    "local_potentials_df[~(local_potentials_df.id.isin(remote_potentials_df.id.tolist()))]"
   ]
  },
  {
   "cell_type": "markdown",
   "metadata": {},
   "source": [
    "### 2.2. Compare record contents"
   ]
  },
  {
   "cell_type": "code",
   "execution_count": 9,
   "metadata": {},
   "outputs": [
    {
     "name": "stdout",
     "output_type": "stream",
     "text": [
      "All records match\n"
     ]
    }
   ],
   "source": [
    "allgood = True\n",
    "for local_pot in local_potentials:\n",
    "    match = remote_potentials_df.id == local_pot.id\n",
    "    if sum(match) > 1:\n",
    "        print('multiple matches for', local_pot.id)\n",
    "    elif sum(match) == 0:\n",
    "        print('no matches for', local_pot.id)\n",
    "    else:\n",
    "        remote_pot = remote_potentials[match][0]\n",
    "        remote_json = remote_pot.build_model().json()\n",
    "        local_json = local_pot.build_model().json()\n",
    "        if local_json != remote_json:\n",
    "            allgood = False\n",
    "            print('different data for', local_pot.id)\n",
    "            print()\n",
    "            print('local:')\n",
    "            display(HTML(local_pot.html()))\n",
    "            print('remote:')\n",
    "            display(HTML(remote_pot.html()))\n",
    "            print()\n",
    "            same = ''\n",
    "            for i in range(len(local_json)):\n",
    "                if local_json[i] != remote_json[i]:\n",
    "                    print(local_json[:i+1])\n",
    "                    break\n",
    "            break\n",
    "\n",
    "if allgood:\n",
    "    print('All records match')"
   ]
  },
  {
   "cell_type": "markdown",
   "metadata": {},
   "source": [
    "### 2.3. Update records"
   ]
  },
  {
   "cell_type": "code",
   "execution_count": 37,
   "metadata": {},
   "outputs": [
    {
     "name": "stdout",
     "output_type": "stream",
     "text": [
      "record potential.2019--Mendelev-M-I-Sun-Y-Zhang-F-et-al--Cu-Zr (5fb71fd826ed1e003c17888a) has been updated.\n",
      "record 5fb71fd826ed1e003c17888a assigned to workspace 5fb55e4826ed1e0015e846a9\n",
      "Loaded 642 remote potentials\n"
     ]
    }
   ],
   "source": [
    "# Update a local potential to remote\n",
    "#db_remote.upload_potential(local_pot, workspace=global_workspace, verbose=True)\n",
    "#db_remote = potentials.Database(load='potentials', username=username, password=password, verbose=True, remote=True, local=False)"
   ]
  },
  {
   "cell_type": "code",
   "execution_count": null,
   "metadata": {},
   "outputs": [],
   "source": [
    "# Update a remote citation to local\n",
    "#potential = db_remote.get_potential(remote_cite.doi, verbose=True)\n",
    "#db_local.save_potentials(potential, overwrite=True, verbose=True)\n",
    "#db_local = potentials.Database(load='potentials', username=username, password=password, verbose=True, remote=False, local=True)"
   ]
  },
  {
   "cell_type": "markdown",
   "metadata": {},
   "source": [
    "## 3. Check citations in potentials "
   ]
  },
  {
   "cell_type": "code",
   "execution_count": 182,
   "metadata": {},
   "outputs": [
    {
     "name": "stdout",
     "output_type": "stream",
     "text": [
      "Loaded 355 local citations\n",
      "Loaded 642 local potentials\n"
     ]
    }
   ],
   "source": [
    "# Only load local because local and remote records should match now\n",
    "db_local = potentials.Database(load=['citations','potentials'], username=username, password=password,\n",
    "                               verbose=True, remote=False, local=True)"
   ]
  },
  {
   "cell_type": "markdown",
   "metadata": {},
   "source": [
    "### 3.1. Compare Citation records to citations embedded in Potential records"
   ]
  },
  {
   "cell_type": "code",
   "execution_count": 15,
   "metadata": {},
   "outputs": [
    {
     "name": "stdout",
     "output_type": "stream",
     "text": [
      "All records match\n"
     ]
    }
   ],
   "source": [
    "allgood = True\n",
    "for k, potential in enumerate(local_potentials):\n",
    "    for j, pot_cite in enumerate(potential.citations):\n",
    "        try:\n",
    "            match = local_citations_df.doi == pot_cite.bib['doi']\n",
    "        except:\n",
    "            match = local_citations_df.note == pot_cite.bib['note']\n",
    "        if sum(match) > 1:\n",
    "            print('multiple matches for', pot_cite.doifname)\n",
    "        elif sum(match) == 0:\n",
    "            print('no matches for', pot_cite.doifname)\n",
    "        else:\n",
    "            cite = local_citations[match][0]\n",
    "            bib = cite.build_bibtex()\n",
    "            pot_bib = pot_cite.build_bibtex()\n",
    "            if pot_bib != bib:\n",
    "                #if 'pages' in cite.bib and 'pages' not in pot_cite.bib:\n",
    "                #    potential.citations[j] = cite\n",
    "                #    db.save_potential(potential, overwrite=True, verbose=True)\n",
    "                #    db.upload_potential(potential, workspace=workspace, overwrite=True, verbose=True)\n",
    "                #else:\n",
    "                allgood = False\n",
    "                print(f'{k+1}/{len(local_potentials)}')\n",
    "                print('different data for', pot_cite.doifname, potential.id)\n",
    "                print()\n",
    "                print('Citation:')\n",
    "                print(bib)\n",
    "                print('Potential:')\n",
    "                print(pot_bib)\n",
    "                print('Citation:')\n",
    "                display(HTML(cite.html()))\n",
    "                print('Potential:')\n",
    "                display(HTML(pot_cite.html()))\n",
    "                print()\n",
    "                same = ''\n",
    "                for i in range(len(pot_bib)):\n",
    "                    if pot_bib[i] != bib[i]:\n",
    "                        print(pot_bib[:i])\n",
    "                        break\n",
    "                break\n",
    "    \n",
    "    if not allgood:\n",
    "        break\n",
    "\n",
    "if allgood:\n",
    "    print('All records match')"
   ]
  },
  {
   "cell_type": "markdown",
   "metadata": {},
   "source": [
    "### 3.2. Update records"
   ]
  },
  {
   "cell_type": "code",
   "execution_count": 11,
   "metadata": {},
   "outputs": [
    {
     "name": "stdout",
     "output_type": "stream",
     "text": [
      "Potential record named potential.2001--Lee-B-J-Baskes-M-I-Kim-H-Cho-Y-K--Cr updated in C:\\Users\\lmh1\\Documents\\library\n",
      "Potential record named potential.2001--Lee-B-J-Baskes-M-I-Kim-H-Cho-Y-K--Cr updated in https://potentials.nist.gov/\n",
      "Potential record named potential.2001--Lee-B-J-Baskes-M-I-Kim-H-Cho-Y-K--Cr assigned to workspace Global Public Workspace\n"
     ]
    }
   ],
   "source": [
    "# Update citation embedded in the potential record to match the citation record\n",
    "potential.citations[j] = cite\n",
    "db.save_potential(potential, overwrite=True, verbose=True)\n",
    "db.upload_potential(potential, workspace=workspace, overwrite=True, verbose=True)"
   ]
  },
  {
   "cell_type": "code",
   "execution_count": 12,
   "metadata": {},
   "outputs": [
    {
     "name": "stdout",
     "output_type": "stream",
     "text": [
      "Found 647 matching Potential records in local library\n"
     ]
    }
   ],
   "source": [
    "local_potentials, local_potentials_df = db.get_potentials(local=True, remote=False, return_df=True, refresh_cache=True, verbose=True)"
   ]
  },
  {
   "cell_type": "markdown",
   "metadata": {},
   "source": [
    "## 4. Check potential_LAMMPS records"
   ]
  },
  {
   "cell_type": "code",
   "execution_count": 35,
   "metadata": {},
   "outputs": [
    {
     "name": "stdout",
     "output_type": "stream",
     "text": [
      "Found 409 matching potential_LAMMPS records in local library\n",
      "No KIM potentials added: list of models is empty\n",
      "Found 409 matching potential_LAMMPS records in remote library\n",
      "No KIM potentials added: list of models is empty\n"
     ]
    }
   ],
   "source": [
    "local_lmppots, local_lmppots_df = db.get_lammps_potentials(local=True, remote=False, return_df=True, refresh_cache=True,\n",
    "                                                           kim_models=[], verbose=True)\n",
    "remote_lmppots, remote_lmppots_df = db.get_lammps_potentials(local=False, remote=True, return_df=True,\n",
    "                                                             kim_models=[], verbose=True)\n"
   ]
  },
  {
   "cell_type": "markdown",
   "metadata": {},
   "source": [
    "### 4.1. Check for missing records"
   ]
  },
  {
   "cell_type": "code",
   "execution_count": 17,
   "metadata": {},
   "outputs": [
    {
     "name": "stdout",
     "output_type": "stream",
     "text": [
      "missing from local:\n"
     ]
    },
    {
     "data": {
      "text/html": [
       "<div>\n",
       "<style scoped>\n",
       "    .dataframe tbody tr th:only-of-type {\n",
       "        vertical-align: middle;\n",
       "    }\n",
       "\n",
       "    .dataframe tbody tr th {\n",
       "        vertical-align: top;\n",
       "    }\n",
       "\n",
       "    .dataframe thead th {\n",
       "        text-align: right;\n",
       "    }\n",
       "</style>\n",
       "<table border=\"1\" class=\"dataframe\">\n",
       "  <thead>\n",
       "    <tr style=\"text-align: right;\">\n",
       "      <th></th>\n",
       "      <th>name</th>\n",
       "      <th>id</th>\n",
       "      <th>key</th>\n",
       "      <th>potid</th>\n",
       "      <th>potkey</th>\n",
       "      <th>units</th>\n",
       "      <th>atom_style</th>\n",
       "      <th>allsymbols</th>\n",
       "      <th>pair_style</th>\n",
       "      <th>status</th>\n",
       "      <th>symbols</th>\n",
       "      <th>elements</th>\n",
       "      <th>artifacts</th>\n",
       "      <th>comments</th>\n",
       "      <th>dois</th>\n",
       "    </tr>\n",
       "  </thead>\n",
       "  <tbody>\n",
       "  </tbody>\n",
       "</table>\n",
       "</div>"
      ],
      "text/plain": [
       "Empty DataFrame\n",
       "Columns: [name, id, key, potid, potkey, units, atom_style, allsymbols, pair_style, status, symbols, elements, artifacts, comments, dois]\n",
       "Index: []"
      ]
     },
     "execution_count": 17,
     "metadata": {},
     "output_type": "execute_result"
    }
   ],
   "source": [
    "print('missing from local:')\n",
    "remote_lmppots_df[~remote_lmppots_df.id.isin(local_lmppots_df.id.tolist())]"
   ]
  },
  {
   "cell_type": "code",
   "execution_count": 18,
   "metadata": {},
   "outputs": [
    {
     "name": "stdout",
     "output_type": "stream",
     "text": [
      "missing from local:\n"
     ]
    },
    {
     "data": {
      "text/html": [
       "<div>\n",
       "<style scoped>\n",
       "    .dataframe tbody tr th:only-of-type {\n",
       "        vertical-align: middle;\n",
       "    }\n",
       "\n",
       "    .dataframe tbody tr th {\n",
       "        vertical-align: top;\n",
       "    }\n",
       "\n",
       "    .dataframe thead th {\n",
       "        text-align: right;\n",
       "    }\n",
       "</style>\n",
       "<table border=\"1\" class=\"dataframe\">\n",
       "  <thead>\n",
       "    <tr style=\"text-align: right;\">\n",
       "      <th></th>\n",
       "      <th>name</th>\n",
       "      <th>id</th>\n",
       "      <th>key</th>\n",
       "      <th>potid</th>\n",
       "      <th>potkey</th>\n",
       "      <th>units</th>\n",
       "      <th>atom_style</th>\n",
       "      <th>allsymbols</th>\n",
       "      <th>pair_style</th>\n",
       "      <th>status</th>\n",
       "      <th>symbols</th>\n",
       "      <th>elements</th>\n",
       "      <th>artifacts</th>\n",
       "      <th>comments</th>\n",
       "      <th>dois</th>\n",
       "    </tr>\n",
       "  </thead>\n",
       "  <tbody>\n",
       "  </tbody>\n",
       "</table>\n",
       "</div>"
      ],
      "text/plain": [
       "Empty DataFrame\n",
       "Columns: [name, id, key, potid, potkey, units, atom_style, allsymbols, pair_style, status, symbols, elements, artifacts, comments, dois]\n",
       "Index: []"
      ]
     },
     "execution_count": 18,
     "metadata": {},
     "output_type": "execute_result"
    }
   ],
   "source": [
    "print('missing from local:')\n",
    "local_lmppots_df[~local_lmppots_df.id.isin(remote_lmppots_df.id.tolist())]"
   ]
  },
  {
   "cell_type": "markdown",
   "metadata": {},
   "source": [
    "### 4.2. Compare record contents"
   ]
  },
  {
   "cell_type": "code",
   "execution_count": 36,
   "metadata": {},
   "outputs": [
    {
     "name": "stdout",
     "output_type": "stream",
     "text": [
      "All records match\n"
     ]
    }
   ],
   "source": [
    "allgood = True\n",
    "for k, local_pot in enumerate(local_lmppots):\n",
    "    match = remote_lmppots_df.id == local_pot.id\n",
    "    if sum(match) > 1:\n",
    "        print('multiple matches for', local_pot.id)\n",
    "    elif sum(match) == 0:\n",
    "        print('no matches for', local_pot.id)\n",
    "    else:\n",
    "        remote_pot = remote_lmppots[match][0]\n",
    "        remote_json = remote_pot.build_model().json()\n",
    "        local_json = local_pot.build_model().json()\n",
    "        if local_json != remote_json:\n",
    "            allgood = False\n",
    "            print(f'{k+1}/{len(local_lmppots)}')\n",
    "            print('different data for', local_pot.id)\n",
    "            print()\n",
    "            print('local:')\n",
    "            print(local_json)\n",
    "            print('remote:')\n",
    "            print(remote_json)\n",
    "            print()\n",
    "            same = ''\n",
    "            for i in range(len(local_json)):\n",
    "                if local_json[i] != remote_json[i]:\n",
    "                    print(local_json[:i+1])\n",
    "                    break\n",
    "            break\n",
    "\n",
    "if allgood:\n",
    "    print('All records match')"
   ]
  },
  {
   "cell_type": "code",
   "execution_count": 32,
   "metadata": {},
   "outputs": [],
   "source": [
    "for fname in Path('C:/Users/lmh1/Documents/library/potential_LAMMPS').glob('*.json'):\n",
    "    with open(fname, encoding='UTF-8') as f:\n",
    "        content = f.read()\n",
    "    if '\"1e-06\"' in content:\n",
    "        content = content.replace('\"1e-06\"', '1e-06')\n",
    "        with open(fname, 'w', encoding='UTF-8') as f:\n",
    "            f.write(content)"
   ]
  },
  {
   "cell_type": "markdown",
   "metadata": {},
   "source": [
    "### 4.3. Update records"
   ]
  },
  {
   "cell_type": "code",
   "execution_count": 28,
   "metadata": {},
   "outputs": [
    {
     "name": "stdout",
     "output_type": "stream",
     "text": [
      "potential_LAMMPS record named 2008--Chenoweth-K--C-H-O--LAMMPS--ipr1 updated in C:\\Users\\lmh1\\Documents\\library\n"
     ]
    }
   ],
   "source": [
    "db.save_lammps_potential(remote_pot, verbose=True, overwrite=True)"
   ]
  },
  {
   "cell_type": "markdown",
   "metadata": {},
   "source": [
    "## 5. Compare Potential and potential_LAMMPS records"
   ]
  },
  {
   "cell_type": "code",
   "execution_count": 225,
   "metadata": {},
   "outputs": [
    {
     "name": "stdout",
     "output_type": "stream",
     "text": [
      "Loaded 642 local potentials\n",
      "Loaded 454 local LAMMPS potentials\n",
      "Building lammps potentials for kim models\n",
      "No kim models identified\n"
     ]
    }
   ],
   "source": [
    "# Only load local because local and remote records should match now\n",
    "db_local = potentials.Database(load=['potentials','lammps_potentials'], username=username, password=password,\n",
    "                               verbose=True, remote=False, local=True, status=None, kim_models=[])"
   ]
  },
  {
   "cell_type": "markdown",
   "metadata": {},
   "source": [
    "### 5.1. Check common fields\n",
    "\n",
    "- Do keys and ids match for both the potential and implementation?\n",
    "- Are all but known missing entries present in both records?\n",
    "- Do the artifacts match?"
   ]
  },
  {
   "cell_type": "code",
   "execution_count": 235,
   "metadata": {},
   "outputs": [],
   "source": [
    "bad_imps = [\n",
    "    '2009--Kim-H-K--Fe-Ti-C--LAMMPS--ipr1',\n",
    "    '2012--Jelinek-B--Al-Si-Mg-Cu-Fe--LAMMPS--ipr1',\n",
    "    '2013--Gao-H--AgTaO3--LAMMPS--ipr1',\n",
    "    '2014--Liyanage-L-S-I--Fe-C--LAMMPS--ipr1',\n",
    "    '2015--Ko-W-S--Ni-Ti--LAMMPS--ipr1',\n",
    "    '2015--Pascuet-M-I--Al-U--LAMMPS--ipr1'\n",
    "]"
   ]
  },
  {
   "cell_type": "code",
   "execution_count": 236,
   "metadata": {},
   "outputs": [],
   "source": [
    "for lammps_potential in db_local.lammps_potentials:\n",
    "    \n",
    "    # Find potential record corresponding to the lammps potential\n",
    "    potential = db_local.potentials_df[(db_local.potentials_df.id == lammps_potential.potid)\n",
    "                                      |(db_local.potentials_df.key == lammps_potential.potkey)]\n",
    "    if len(potential) != 1:\n",
    "        print(len(potential), 'matches found', lammps_potential.id)\n",
    "    else:\n",
    "        potential = potential.iloc[0]\n",
    "    \n",
    "    # Check that potential key and id are the same in both records\n",
    "    if potential.id != lammps_potential.potid:\n",
    "        print('potential id mismatch', lammps_potential.id)\n",
    "        print(potential.id, lammps_potential.potid)\n",
    "    if potential.key != lammps_potential.potkey:\n",
    "        print('potential key mismatch', lammps_potential.id)\n",
    "        print(potential.key, lammps_potential.potkey)\n",
    "    \n",
    "    # Find potential's implementation matching the lammps potential\n",
    "    for implementation in potential.implementations:\n",
    "        match = False\n",
    "        if implementation.id == lammps_potential.id or implementation.key == lammps_potential.key:\n",
    "            match = True\n",
    "            break\n",
    "    \n",
    "    # Issue message if no matching implementation listing found\n",
    "    if match is False:\n",
    "        if lammps_potential.id not in bad_imps:\n",
    "            print('No listing found for', lammps_potential.id)\n",
    "        continue\n",
    "    \n",
    "    # Check that implementation key and id match\n",
    "    if implementation.id != lammps_potential.id:\n",
    "        print('implementation id mismatch')\n",
    "        print(implementation.id, lammps_potential.id)\n",
    "    if implementation.key != lammps_potential.key:\n",
    "        print('implementation key mismatch', lammps_potential.id)\n",
    "        print(implementation.key, lammps_potential.key)\n",
    "    \n",
    "    # Check that the artifacts match between lammps potential and implementation\n",
    "    if len(implementation.artifacts) != len(lammps_potential.artifacts):\n",
    "        print('different numbers of artifacts', lammps_potential.id)\n",
    "    else:\n",
    "        for n in range(len(implementation.artifacts)):\n",
    "            if implementation.artifacts[n].asmodel().json() != lammps_potential.artifacts[n].asmodel().json():\n",
    "                print('artifact mismatch', lammps_potential.id, lammps_potential.artifacts[n].filename)"
   ]
  },
  {
   "cell_type": "code",
   "execution_count": 237,
   "metadata": {},
   "outputs": [
    {
     "name": "stdout",
     "output_type": "stream",
     "text": [
      "No match for 2016--Lee-E--Si-O--LAMMPS--ipr1\n",
      "No match for 2016--Lee-E--Ti-O--LAMMPS--ipr1\n",
      "No match for 2017--Beeler-B--U-Si--LAMMPS--ipr1\n",
      "No match for 2017--Lee-E--Li-Mn-O--LAMMPS--ipr1\n",
      "No match for 2018--Lee-E--Li-Co-O--LAMMPS--ipr1\n"
     ]
    }
   ],
   "source": [
    "# Reverse search for implementation listings with no lammps potential records\n",
    "for potential in db_local.potentials:\n",
    "    for implementation in potential.implementations:\n",
    "        if 'LAMMPS' in implementation.id:\n",
    "            \n",
    "            lammps_potential = db_local.lammps_potentials_df[db_local.lammps_potentials_df.id == implementation.id]\n",
    "            if len(lammps_potential) == 0:\n",
    "                print('No lammps potential found for', implementation.id)"
   ]
  },
  {
   "cell_type": "markdown",
   "metadata": {},
   "source": [
    "## 6. Compare LAMMPS parameter files between library and website"
   ]
  },
  {
   "cell_type": "code",
   "execution_count": 63,
   "metadata": {},
   "outputs": [],
   "source": [
    "webroot = 'e:/website/IPR-website'\n",
    "\n",
    "for lmppot in local_lmppots:\n",
    "    for artifact in lmppot.artifacts:\n",
    "        libpath = Path(db.local_database.host, 'potential_LAMMPS', lmppot.id, artifact.filename)\n",
    "        webpath = Path(artifact.url.replace('https://www.ctcms.nist.gov', webroot))\n",
    "        if not libpath.is_file():\n",
    "            print(f'Library file {lmppot.id} {artifact.filename} not found')\n",
    "        elif not webpath.is_file():\n",
    "            print(f'Website file {lmppot.id} {artifact.filename} not found')\n",
    "        else:\n",
    "            if libpath.suffix in ['.pdf', '.docx', '.gz', '.zip']:\n",
    "                continue\n",
    "            try:\n",
    "                with open(libpath) as f:\n",
    "                    libcontent = f.read()\n",
    "                with open(webpath) as f:\n",
    "                    webcontent = f.read()\n",
    "                if libcontent != webcontent:\n",
    "                    print(f'Content differs for file {lmppot.id} {artifact.filename}')\n",
    "            except:\n",
    "                print(f'Failed to read file {lmppot.id} {artifact.filename}')"
   ]
  },
  {
   "cell_type": "code",
   "execution_count": 57,
   "metadata": {},
   "outputs": [
    {
     "data": {
      "text/plain": [
       "'.t'"
      ]
     },
     "execution_count": 57,
     "metadata": {},
     "output_type": "execute_result"
    }
   ],
   "source": [
    "libpath.suffix"
   ]
  },
  {
   "cell_type": "code",
   "execution_count": 59,
   "metadata": {},
   "outputs": [
    {
     "name": "stdout",
     "output_type": "stream",
     "text": [
      "# DATE: 2015-02-12 CONTRIBUTOR: Kim, Y.-M. and B.-J. Lee, Modified embedded-atom method interatomic potentials for the Ti–C and Ti–N binary systems. Acta Materialia, 2008. 56(14): p. 3481-3489. \n",
      "# meam data from vax files fcc,bcc,dia    11/4/92\n",
      "# elt        lat     z       ielement     atwt\n",
      "# alpha      b0      b1      b2           b3      alat    esub    asub\n",
      "# t0         t1              t2           t3              rozero  ibar\n",
      "\n",
      "\n",
      "'Ti'\t'hcp'\t12\t1\t47.880 \n",
      "4.7194566335 \t2.70 \t1.00 \t3.00 \t1.00 \t2.9200000000 \t4.87 \t0.66 \n",
      "1\t6.80 \t-2.00 \t-12.00 \t1.00 \t3\n",
      "\n",
      "'N'\t'dim'\t1\t1\t14.007 \n",
      "5.9600000000 \t2.75 \t4.00 \t4.00 \t4.00 \t1.1000000000 \t4.88 \t1.80 \n",
      "1\t0.05 \t1.00 \t0.00 \t18.00 \t3\n",
      "\n",
      "'C'\t'dia'\t4\t1\t12.011 \n",
      "4.3651999166 \t4.25 \t2.80 \t2.00 \t5.00 \t3.5564776582 \t7.37 \t1.18 \n",
      "1\t3.20 \t1.44 \t-4.48 \t6.00 \t3\n",
      "\n"
     ]
    }
   ],
   "source": [
    "fn = Path(db.local_database.host, 'potential_LAMMPS', '2008--Kim-Y-M--Ti-C--LAMMPS--ipr1', 'library.meam')\n",
    "with open(fn) as f:\n",
    "    print(f.read())"
   ]
  },
  {
   "cell_type": "code",
   "execution_count": null,
   "metadata": {},
   "outputs": [],
   "source": []
  }
 ],
 "metadata": {
  "kernelspec": {
   "display_name": "Python 3",
   "language": "python",
   "name": "python3"
  },
  "language_info": {
   "codemirror_mode": {
    "name": "ipython",
    "version": 3
   },
   "file_extension": ".py",
   "mimetype": "text/x-python",
   "name": "python",
   "nbconvert_exporter": "python",
   "pygments_lexer": "ipython3",
   "version": "3.7.3"
  }
 },
 "nbformat": 4,
 "nbformat_minor": 4
}
