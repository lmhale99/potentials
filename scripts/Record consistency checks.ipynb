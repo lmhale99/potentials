{
 "cells": [
  {
   "cell_type": "markdown",
   "metadata": {},
   "source": [
    "# Record consistency checks\n",
    "\n",
    "This notebook provides consistency checks between\n",
    "\n",
    "- Records stored at potentials.nist.gov and in the potentials-library github repository\n",
    "- Records of different styles that share content"
   ]
  },
  {
   "cell_type": "markdown",
   "metadata": {},
   "source": [
    "Import potentials and load the database records"
   ]
  },
  {
   "cell_type": "code",
   "execution_count": 238,
   "metadata": {},
   "outputs": [],
   "source": [
    "import uuid\n",
    "import datetime\n",
    "import shutil\n",
    "from pathlib import Path\n",
    "\n",
    "import potentials\n",
    "\n",
    "import numpy as np\n",
    "import pandas as pd\n",
    "\n",
    "import iprPy\n",
    "\n",
    "from IPython.core.display import display, HTML"
   ]
  },
  {
   "cell_type": "code",
   "execution_count": 2,
   "metadata": {},
   "outputs": [],
   "source": [
    "#machine = 'desktop'\n",
    "machine = 'laptop'"
   ]
  },
  {
   "cell_type": "code",
   "execution_count": 3,
   "metadata": {},
   "outputs": [],
   "source": [
    "# Set passwordfile based on machine\n",
    "if machine == 'laptop':\n",
    "    passwordfile = Path('C:/Users/lmh1/Documents/potentials_nist_gov/password.txt')\n",
    "elif machine == 'desktop':\n",
    "    passwordfile = Path('E:/potentials_nist_gov/password.txt')\n",
    "else:\n",
    "    raise ValueError(f'passwordfile not set for machine {machine}')\n",
    "\n",
    "# Load database username + password\n",
    "with open(Path(passwordfile)) as f:\n",
    "    username, password = f.read().strip().split()\n",
    "\n",
    "# Load default database and fetch global workspace    \n",
    "db = potentials.Database(username=username, password=password)\n",
    "global_workspace = db.cdcs.global_workspace"
   ]
  },
  {
   "cell_type": "markdown",
   "metadata": {},
   "source": [
    "## 1. Check Citations"
   ]
  },
  {
   "cell_type": "markdown",
   "metadata": {},
   "source": [
    "Create databases that separately load local and remote Citations"
   ]
  },
  {
   "cell_type": "code",
   "execution_count": 153,
   "metadata": {},
   "outputs": [
    {
     "name": "stdout",
     "output_type": "stream",
     "text": [
      "Loaded 355 local citations\n",
      "Loaded 355 remote citations\n"
     ]
    }
   ],
   "source": [
    "db_local = potentials.Database(load='citations', username=username, password=password, verbose=True, remote=False, local=True)\n",
    "db_remote = potentials.Database(load='citations', username=username, password=password, verbose=True, remote=True, local=False)"
   ]
  },
  {
   "cell_type": "markdown",
   "metadata": {},
   "source": [
    "### 1.1. Correct names of Citation records\n",
    "\n",
    "Occasionally, major updates of the CDCS database require that records be backed up and copied over.  I think there's a bug in the record transfer scripts (not mine) that replace underscores with spaces.  This changes them back."
   ]
  },
  {
   "cell_type": "code",
   "execution_count": null,
   "metadata": {},
   "outputs": [],
   "source": [
    "# Fetch raw record content using CDCS query\n",
    "rawcites = db_remote.cdcs.query(template='Citation')\n",
    "for i in rawcites.index:\n",
    "    rawcite = rawcites.loc[i]\n",
    "    title = rawcite.title\n",
    "    \n",
    "    # Check if title contains spaces\n",
    "    if ' ' in title:\n",
    "        title = title.replace(' ', '_')\n",
    "        content = rawcite.xml_content\n",
    "        \n",
    "        db_remote.cdcs.delete_record(rawcite, verbose=True)\n",
    "        db_remote.cdcs.upload_record('Citation', content=content, title=title, workspace=global_workspace, verbose=True)"
   ]
  },
  {
   "cell_type": "code",
   "execution_count": 239,
   "metadata": {},
   "outputs": [
    {
     "name": "stdout",
     "output_type": "stream",
     "text": [
      "record L2 1--AlCu2Mn--heusler (5fb561b626ed1e0037171170) has been deleted.\n",
      "record L2_1--AlCu2Mn--heusler (607db6a1e5dbce003645a181) successfully uploaded.\n",
      "record 607db6a1e5dbce003645a181 assigned to workspace 5fb55e4826ed1e0015e846a9\n",
      "record L1 0--AuCu (5fb561b626ed1e002a17117d) has been deleted.\n",
      "record L1_0--AuCu (607db6a4e5dbce003845a17b) successfully uploaded.\n",
      "record 607db6a4e5dbce003845a17b assigned to workspace 5fb55e4826ed1e0015e846a9\n",
      "record L1 2--AuCu3 (5fb561b726ed1e0038171175) has been deleted.\n",
      "record L1_2--AuCu3 (607db6a7e5dbce003745a17d) successfully uploaded.\n",
      "record 607db6a7e5dbce003745a17d assigned to workspace 5fb55e4826ed1e0015e846a9\n",
      "record D0 3--BiF3 (5fb561b826ed1e003917116f) has been deleted.\n",
      "record D0_3--BiF3 (607db6aae5dbce003a45a268) successfully uploaded.\n",
      "record 607db6aae5dbce003a45a268 assigned to workspace 5fb55e4826ed1e0015e846a9\n"
     ]
    }
   ],
   "source": [
    "# Fetch raw record content using CDCS query\n",
    "rawcites = db_remote.cdcs.query(template='crystal_prototype')\n",
    "for i in rawcites.index:\n",
    "    rawcite = rawcites.loc[i]\n",
    "    title = rawcite.title\n",
    "    \n",
    "    # Check if title contains spaces\n",
    "    if ' ' in title:\n",
    "        title = title.replace(' ', '_')\n",
    "        content = rawcite.xml_content\n",
    "        \n",
    "        db_remote.cdcs.delete_record(rawcite, verbose=True)\n",
    "        db_remote.cdcs.upload_record('crystal_prototype', content=content, title=title, workspace=global_workspace, verbose=True)"
   ]
  },
  {
   "cell_type": "markdown",
   "metadata": {},
   "source": [
    "### 1.2. Check for missing records"
   ]
  },
  {
   "cell_type": "code",
   "execution_count": 6,
   "metadata": {},
   "outputs": [
    {
     "name": "stdout",
     "output_type": "stream",
     "text": [
      "missing from local:\n"
     ]
    },
    {
     "data": {
      "text/html": [
       "<div>\n",
       "<style scoped>\n",
       "    .dataframe tbody tr th:only-of-type {\n",
       "        vertical-align: middle;\n",
       "    }\n",
       "\n",
       "    .dataframe tbody tr th {\n",
       "        vertical-align: top;\n",
       "    }\n",
       "\n",
       "    .dataframe thead th {\n",
       "        text-align: right;\n",
       "    }\n",
       "</style>\n",
       "<table border=\"1\" class=\"dataframe\">\n",
       "  <thead>\n",
       "    <tr style=\"text-align: right;\">\n",
       "      <th></th>\n",
       "      <th>ENTRYTYPE</th>\n",
       "      <th>ID</th>\n",
       "      <th>author</th>\n",
       "      <th>note</th>\n",
       "      <th>title</th>\n",
       "      <th>year</th>\n",
       "      <th>abstract</th>\n",
       "      <th>address</th>\n",
       "      <th>booktitle</th>\n",
       "      <th>day</th>\n",
       "      <th>month</th>\n",
       "      <th>pages</th>\n",
       "      <th>doi</th>\n",
       "      <th>journal</th>\n",
       "      <th>number</th>\n",
       "      <th>publisher</th>\n",
       "      <th>url</th>\n",
       "      <th>volume</th>\n",
       "      <th>numpages</th>\n",
       "    </tr>\n",
       "  </thead>\n",
       "  <tbody>\n",
       "  </tbody>\n",
       "</table>\n",
       "</div>"
      ],
      "text/plain": [
       "Empty DataFrame\n",
       "Columns: [ENTRYTYPE, ID, author, note, title, year, abstract, address, booktitle, day, month, pages, doi, journal, number, publisher, url, volume, numpages]\n",
       "Index: []"
      ]
     },
     "execution_count": 6,
     "metadata": {},
     "output_type": "execute_result"
    }
   ],
   "source": [
    "print('missing from local:')\n",
    "db_remote.citations_df[(~db_remote.citations_df.doi.isin(db_local.citations_df.doi.tolist()))\n",
    "                      |(~db_remote.citations_df.note.isin(db_local.citations_df.note.tolist()))]"
   ]
  },
  {
   "cell_type": "code",
   "execution_count": 7,
   "metadata": {},
   "outputs": [
    {
     "name": "stdout",
     "output_type": "stream",
     "text": [
      "missing from remote:\n"
     ]
    },
    {
     "data": {
      "text/html": [
       "<div>\n",
       "<style scoped>\n",
       "    .dataframe tbody tr th:only-of-type {\n",
       "        vertical-align: middle;\n",
       "    }\n",
       "\n",
       "    .dataframe tbody tr th {\n",
       "        vertical-align: top;\n",
       "    }\n",
       "\n",
       "    .dataframe thead th {\n",
       "        text-align: right;\n",
       "    }\n",
       "</style>\n",
       "<table border=\"1\" class=\"dataframe\">\n",
       "  <thead>\n",
       "    <tr style=\"text-align: right;\">\n",
       "      <th></th>\n",
       "      <th>ENTRYTYPE</th>\n",
       "      <th>ID</th>\n",
       "      <th>abstract</th>\n",
       "      <th>author</th>\n",
       "      <th>doi</th>\n",
       "      <th>journal</th>\n",
       "      <th>month</th>\n",
       "      <th>number</th>\n",
       "      <th>pages</th>\n",
       "      <th>publisher</th>\n",
       "      <th>title</th>\n",
       "      <th>url</th>\n",
       "      <th>volume</th>\n",
       "      <th>year</th>\n",
       "      <th>numpages</th>\n",
       "      <th>note</th>\n",
       "      <th>address</th>\n",
       "      <th>booktitle</th>\n",
       "      <th>day</th>\n",
       "    </tr>\n",
       "  </thead>\n",
       "  <tbody>\n",
       "  </tbody>\n",
       "</table>\n",
       "</div>"
      ],
      "text/plain": [
       "Empty DataFrame\n",
       "Columns: [ENTRYTYPE, ID, abstract, author, doi, journal, month, number, pages, publisher, title, url, volume, year, numpages, note, address, booktitle, day]\n",
       "Index: []"
      ]
     },
     "execution_count": 7,
     "metadata": {},
     "output_type": "execute_result"
    }
   ],
   "source": [
    "print('missing from remote:')\n",
    "db_local.citations_df[(~db_local.citations_df.doi.isin(db_remote.citations_df.doi.tolist()))\n",
    "                     |(~db_local.citations_df.note.isin(db_remote.citations_df.note.tolist()))]"
   ]
  },
  {
   "cell_type": "markdown",
   "metadata": {},
   "source": [
    "### 1.3. Compare record contents"
   ]
  },
  {
   "cell_type": "code",
   "execution_count": 154,
   "metadata": {},
   "outputs": [
    {
     "name": "stdout",
     "output_type": "stream",
     "text": [
      "All records match\n"
     ]
    }
   ],
   "source": [
    "allgood = True\n",
    "for local_cite in db_local.citations:\n",
    "    try:\n",
    "        match = db_remote.citations_df.doi == local_cite.doi\n",
    "    except:\n",
    "        match = db_remote.citations_df.note == local_cite.note\n",
    "    if sum(match) > 1:\n",
    "        print('multiple matches for', local_cite.doifname)\n",
    "    elif sum(match) == 0:\n",
    "        print('no matches for', local_cite.doifname)\n",
    "    else:\n",
    "        remote_cite = db_remote.citations[match][0]\n",
    "        remote_bib = remote_cite.bibtex\n",
    "        local_bib = local_cite.bibtex\n",
    "        if local_bib != remote_bib:\n",
    "            allgood = False\n",
    "            print('different data for', local_cite.doifname)\n",
    "            print()\n",
    "            print('local:')\n",
    "            print(local_bib)\n",
    "            print('remote:')\n",
    "            print(remote_bib)\n",
    "            print()\n",
    "            same = ''\n",
    "            for i in range(len(local_bib)):\n",
    "                if local_bib[i] != remote_bib[i]:\n",
    "                    print(local_bib[:i+1])\n",
    "                    break\n",
    "            break\n",
    "\n",
    "if allgood:\n",
    "    print('All records match')"
   ]
  },
  {
   "cell_type": "markdown",
   "metadata": {},
   "source": [
    "### 1.4. Update a citation"
   ]
  },
  {
   "cell_type": "code",
   "execution_count": 151,
   "metadata": {},
   "outputs": [
    {
     "name": "stdout",
     "output_type": "stream",
     "text": [
      "Citation retrieved from loaded citations\n",
      "record 10.1016_j.commatsci.2017.01.002 (6065f10926ed1e003628ef9a) has been updated.\n",
      "record 6065f10926ed1e003628ef9a assigned to workspace 5fb55e4826ed1e0015e846a9\n"
     ]
    }
   ],
   "source": [
    "# Update a local citation to remote\n",
    "#citation = db_local.get_citation(local_cite.doi, verbose=True)\n",
    "#db_remote.upload_citation(citation, workspace=global_workspace, verbose=True)"
   ]
  },
  {
   "cell_type": "code",
   "execution_count": null,
   "metadata": {},
   "outputs": [],
   "source": [
    "# Update a remote citation to local\n",
    "#citation = db_remote.get_citation(remote_cite.doi, verbose=True)\n",
    "#db_local.save_citations(citation, overwrite=True, verbose=True)"
   ]
  },
  {
   "cell_type": "markdown",
   "metadata": {},
   "source": [
    "## 2. Check Potentials"
   ]
  },
  {
   "cell_type": "code",
   "execution_count": 80,
   "metadata": {},
   "outputs": [
    {
     "name": "stdout",
     "output_type": "stream",
     "text": [
      "Loaded 642 local potentials\n",
      "Loaded 642 remote potentials\n"
     ]
    }
   ],
   "source": [
    "db_local = potentials.Database(load='potentials', username=username, password=password, verbose=True, remote=False, local=True)\n",
    "db_remote = potentials.Database(load='potentials', username=username, password=password, verbose=True, remote=True, local=False)"
   ]
  },
  {
   "cell_type": "markdown",
   "metadata": {},
   "source": [
    "### 2.1. Check for missing records"
   ]
  },
  {
   "cell_type": "code",
   "execution_count": 26,
   "metadata": {},
   "outputs": [
    {
     "name": "stdout",
     "output_type": "stream",
     "text": [
      "missing from local:\n"
     ]
    },
    {
     "data": {
      "text/html": [
       "<div>\n",
       "<style scoped>\n",
       "    .dataframe tbody tr th:only-of-type {\n",
       "        vertical-align: middle;\n",
       "    }\n",
       "\n",
       "    .dataframe tbody tr th {\n",
       "        vertical-align: top;\n",
       "    }\n",
       "\n",
       "    .dataframe thead th {\n",
       "        text-align: right;\n",
       "    }\n",
       "</style>\n",
       "<table border=\"1\" class=\"dataframe\">\n",
       "  <thead>\n",
       "    <tr style=\"text-align: right;\">\n",
       "      <th></th>\n",
       "      <th>key</th>\n",
       "      <th>id</th>\n",
       "      <th>recorddate</th>\n",
       "      <th>notes</th>\n",
       "      <th>fictional</th>\n",
       "      <th>elements</th>\n",
       "      <th>othername</th>\n",
       "      <th>modelname</th>\n",
       "      <th>citations</th>\n",
       "      <th>implementations</th>\n",
       "    </tr>\n",
       "  </thead>\n",
       "  <tbody>\n",
       "  </tbody>\n",
       "</table>\n",
       "</div>"
      ],
      "text/plain": [
       "Empty DataFrame\n",
       "Columns: [key, id, recorddate, notes, fictional, elements, othername, modelname, citations, implementations]\n",
       "Index: []"
      ]
     },
     "execution_count": 26,
     "metadata": {},
     "output_type": "execute_result"
    }
   ],
   "source": [
    "print('missing from local:')\n",
    "db_remote.potentials_df[~db_remote.potentials_df.id.isin(db_local.potentials_df.id.tolist())]"
   ]
  },
  {
   "cell_type": "code",
   "execution_count": 27,
   "metadata": {},
   "outputs": [
    {
     "name": "stdout",
     "output_type": "stream",
     "text": [
      "missing from remote:\n"
     ]
    },
    {
     "data": {
      "text/html": [
       "<div>\n",
       "<style scoped>\n",
       "    .dataframe tbody tr th:only-of-type {\n",
       "        vertical-align: middle;\n",
       "    }\n",
       "\n",
       "    .dataframe tbody tr th {\n",
       "        vertical-align: top;\n",
       "    }\n",
       "\n",
       "    .dataframe thead th {\n",
       "        text-align: right;\n",
       "    }\n",
       "</style>\n",
       "<table border=\"1\" class=\"dataframe\">\n",
       "  <thead>\n",
       "    <tr style=\"text-align: right;\">\n",
       "      <th></th>\n",
       "      <th>key</th>\n",
       "      <th>id</th>\n",
       "      <th>recorddate</th>\n",
       "      <th>notes</th>\n",
       "      <th>fictional</th>\n",
       "      <th>elements</th>\n",
       "      <th>othername</th>\n",
       "      <th>modelname</th>\n",
       "      <th>citations</th>\n",
       "      <th>implementations</th>\n",
       "    </tr>\n",
       "  </thead>\n",
       "  <tbody>\n",
       "  </tbody>\n",
       "</table>\n",
       "</div>"
      ],
      "text/plain": [
       "Empty DataFrame\n",
       "Columns: [key, id, recorddate, notes, fictional, elements, othername, modelname, citations, implementations]\n",
       "Index: []"
      ]
     },
     "execution_count": 27,
     "metadata": {},
     "output_type": "execute_result"
    }
   ],
   "source": [
    "print('missing from remote:')\n",
    "db_local.potentials_df[~(db_local.potentials_df.id.isin(db_remote.potentials_df.id.tolist()))]"
   ]
  },
  {
   "cell_type": "markdown",
   "metadata": {},
   "source": [
    "### 2.2. Compare record contents"
   ]
  },
  {
   "cell_type": "code",
   "execution_count": 81,
   "metadata": {},
   "outputs": [
    {
     "name": "stdout",
     "output_type": "stream",
     "text": [
      "All records match\n"
     ]
    }
   ],
   "source": [
    "allgood = True\n",
    "for local_pot in db_local.potentials:\n",
    "    match = db_remote.potentials_df.id == local_pot.id\n",
    "    if sum(match) > 1:\n",
    "        print('multiple matches for', local_pot.id)\n",
    "    elif sum(match) == 0:\n",
    "        print('no matches for', local_pot.id)\n",
    "    else:\n",
    "        remote_pot = db_remote.potentials[match][0]\n",
    "        remote_json = remote_pot.asmodel().json()\n",
    "        local_json = local_pot.asmodel().json()\n",
    "        if local_json != remote_json:\n",
    "            allgood = False\n",
    "            print('different data for', local_pot.id)\n",
    "            print()\n",
    "            print('local:')\n",
    "            display(HTML(local_pot.html()))\n",
    "            print('remote:')\n",
    "            display(HTML(remote_pot.html()))\n",
    "            print()\n",
    "            same = ''\n",
    "            for i in range(len(local_json)):\n",
    "                if local_json[i] != remote_json[i]:\n",
    "                    print(local_json[:i+1])\n",
    "                    break\n",
    "            break\n",
    "\n",
    "if allgood:\n",
    "    print('All records match')"
   ]
  },
  {
   "cell_type": "markdown",
   "metadata": {},
   "source": [
    "### 2.3. Update records"
   ]
  },
  {
   "cell_type": "code",
   "execution_count": 37,
   "metadata": {},
   "outputs": [
    {
     "name": "stdout",
     "output_type": "stream",
     "text": [
      "record potential.2019--Mendelev-M-I-Sun-Y-Zhang-F-et-al--Cu-Zr (5fb71fd826ed1e003c17888a) has been updated.\n",
      "record 5fb71fd826ed1e003c17888a assigned to workspace 5fb55e4826ed1e0015e846a9\n",
      "Loaded 642 remote potentials\n"
     ]
    }
   ],
   "source": [
    "# Update a local potential to remote\n",
    "#db_remote.upload_potential(local_pot, workspace=global_workspace, verbose=True)\n",
    "#db_remote = potentials.Database(load='potentials', username=username, password=password, verbose=True, remote=True, local=False)"
   ]
  },
  {
   "cell_type": "code",
   "execution_count": null,
   "metadata": {},
   "outputs": [],
   "source": [
    "# Update a remote citation to local\n",
    "#potential = db_remote.get_potential(remote_cite.doi, verbose=True)\n",
    "#db_local.save_potentials(potential, overwrite=True, verbose=True)\n",
    "#db_local = potentials.Database(load='potentials', username=username, password=password, verbose=True, remote=False, local=True)"
   ]
  },
  {
   "cell_type": "markdown",
   "metadata": {},
   "source": [
    "## 3. Check citations in potentials "
   ]
  },
  {
   "cell_type": "code",
   "execution_count": 182,
   "metadata": {},
   "outputs": [
    {
     "name": "stdout",
     "output_type": "stream",
     "text": [
      "Loaded 355 local citations\n",
      "Loaded 642 local potentials\n"
     ]
    }
   ],
   "source": [
    "# Only load local because local and remote records should match now\n",
    "db_local = potentials.Database(load=['citations','potentials'], username=username, password=password,\n",
    "                               verbose=True, remote=False, local=True)"
   ]
  },
  {
   "cell_type": "markdown",
   "metadata": {},
   "source": [
    "### 3.1. Compare Citation records to citations embedded in Potential records"
   ]
  },
  {
   "cell_type": "code",
   "execution_count": 183,
   "metadata": {},
   "outputs": [
    {
     "name": "stdout",
     "output_type": "stream",
     "text": [
      "All records match\n"
     ]
    }
   ],
   "source": [
    "allgood = True\n",
    "for k, potential in enumerate(db_local.potentials):\n",
    "    for j, pot_cite in enumerate(potential.citations):\n",
    "        try:\n",
    "            match = db_local.citations_df.doi == pot_cite.doi\n",
    "        except:\n",
    "            match = db_local.citations_df.note == pot_cite.note\n",
    "        if sum(match) > 1:\n",
    "            print('multiple matches for', pot_cite.doifname)\n",
    "        elif sum(match) == 0:\n",
    "            print('no matches for', pot_cite.doifname)\n",
    "        else:\n",
    "            cite = db_local.citations[match][0]\n",
    "            bib = cite.bibtex\n",
    "            pot_bib = pot_cite.bibtex\n",
    "            if pot_bib != bib:\n",
    "                allgood = False\n",
    "                print(f'{k+1}/{len(db_local.potentials)}')\n",
    "                print('different data for', pot_cite.doifname, potential.id)\n",
    "                print()\n",
    "                print('Citation:')\n",
    "                print(bib)\n",
    "                print('Potential:')\n",
    "                print(pot_bib)\n",
    "                print('Citation:')\n",
    "                display(HTML(cite.html()))\n",
    "                print('Potential:')\n",
    "                display(HTML(pot_cite.html()))\n",
    "                print()\n",
    "                same = ''\n",
    "                for i in range(len(pot_bib)):\n",
    "                    if pot_bib[i] != bib[i]:\n",
    "                        print(pot_bib[:i])\n",
    "                        break\n",
    "                break\n",
    "    \n",
    "    if not allgood:\n",
    "        break\n",
    "\n",
    "if allgood:\n",
    "    print('All records match')"
   ]
  },
  {
   "cell_type": "markdown",
   "metadata": {},
   "source": [
    "### 3.2. Update records"
   ]
  },
  {
   "cell_type": "code",
   "execution_count": 181,
   "metadata": {},
   "outputs": [
    {
     "name": "stdout",
     "output_type": "stream",
     "text": [
      "record potential.2018--Jang-H-S-Kim-K-M-Lee-B-J--Zn-Mg (5fb71e2026ed1e003c17887e) has been updated.\n",
      "1 potentials saved to localpath\n",
      " - 1 existing potentials updated\n"
     ]
    }
   ],
   "source": [
    "# Update citation embedded in the potential record to match the citation record\n",
    "#potential.citations[j] = cite\n",
    "#db.upload_potential(potential, verbose=True)\n",
    "#db.save_potentials(potential, verbose=True, format='json', indent=4, overwrite=True)"
   ]
  },
  {
   "cell_type": "markdown",
   "metadata": {},
   "source": [
    "## 4. Check potential_LAMMPS records"
   ]
  },
  {
   "cell_type": "code",
   "execution_count": 202,
   "metadata": {},
   "outputs": [
    {
     "name": "stdout",
     "output_type": "stream",
     "text": [
      "Loaded 401 local LAMMPS potentials\n",
      "Building lammps potentials for kim models\n",
      "No kim models identified\n",
      "Loaded 401 remote LAMMPS potentials\n",
      "Building lammps potentials for kim models\n",
      "No kim models identified\n"
     ]
    }
   ],
   "source": [
    "db_local = potentials.Database(load='lammps_potentials', username=username, password=password,\n",
    "                               verbose=True, remote=False, local=True, kim_models=[])\n",
    "db_remote = potentials.Database(load='lammps_potentials', username=username, password=password,\n",
    "                                verbose=True, remote=True, local=False, kim_models=[])"
   ]
  },
  {
   "cell_type": "markdown",
   "metadata": {},
   "source": [
    "### 4.1. Check for missing records"
   ]
  },
  {
   "cell_type": "code",
   "execution_count": 185,
   "metadata": {},
   "outputs": [
    {
     "name": "stdout",
     "output_type": "stream",
     "text": [
      "missing from local:\n"
     ]
    },
    {
     "data": {
      "text/html": [
       "<div>\n",
       "<style scoped>\n",
       "    .dataframe tbody tr th:only-of-type {\n",
       "        vertical-align: middle;\n",
       "    }\n",
       "\n",
       "    .dataframe tbody tr th {\n",
       "        vertical-align: top;\n",
       "    }\n",
       "\n",
       "    .dataframe thead th {\n",
       "        text-align: right;\n",
       "    }\n",
       "</style>\n",
       "<table border=\"1\" class=\"dataframe\">\n",
       "  <thead>\n",
       "    <tr style=\"text-align: right;\">\n",
       "      <th></th>\n",
       "      <th>id</th>\n",
       "      <th>key</th>\n",
       "      <th>potid</th>\n",
       "      <th>potkey</th>\n",
       "      <th>units</th>\n",
       "      <th>atom_style</th>\n",
       "      <th>allsymbols</th>\n",
       "      <th>pair_style</th>\n",
       "      <th>status</th>\n",
       "      <th>symbols</th>\n",
       "      <th>elements</th>\n",
       "      <th>artifacts</th>\n",
       "    </tr>\n",
       "  </thead>\n",
       "  <tbody>\n",
       "  </tbody>\n",
       "</table>\n",
       "</div>"
      ],
      "text/plain": [
       "Empty DataFrame\n",
       "Columns: [id, key, potid, potkey, units, atom_style, allsymbols, pair_style, status, symbols, elements, artifacts]\n",
       "Index: []"
      ]
     },
     "execution_count": 185,
     "metadata": {},
     "output_type": "execute_result"
    }
   ],
   "source": [
    "print('missing from local:')\n",
    "db_remote.lammps_potentials_df[~db_remote.lammps_potentials_df.id.isin(db_local.lammps_potentials_df.id.tolist())]"
   ]
  },
  {
   "cell_type": "code",
   "execution_count": 186,
   "metadata": {},
   "outputs": [
    {
     "name": "stdout",
     "output_type": "stream",
     "text": [
      "missing from local:\n"
     ]
    },
    {
     "data": {
      "text/html": [
       "<div>\n",
       "<style scoped>\n",
       "    .dataframe tbody tr th:only-of-type {\n",
       "        vertical-align: middle;\n",
       "    }\n",
       "\n",
       "    .dataframe tbody tr th {\n",
       "        vertical-align: top;\n",
       "    }\n",
       "\n",
       "    .dataframe thead th {\n",
       "        text-align: right;\n",
       "    }\n",
       "</style>\n",
       "<table border=\"1\" class=\"dataframe\">\n",
       "  <thead>\n",
       "    <tr style=\"text-align: right;\">\n",
       "      <th></th>\n",
       "      <th>id</th>\n",
       "      <th>key</th>\n",
       "      <th>potid</th>\n",
       "      <th>potkey</th>\n",
       "      <th>units</th>\n",
       "      <th>atom_style</th>\n",
       "      <th>allsymbols</th>\n",
       "      <th>pair_style</th>\n",
       "      <th>status</th>\n",
       "      <th>symbols</th>\n",
       "      <th>elements</th>\n",
       "      <th>artifacts</th>\n",
       "    </tr>\n",
       "  </thead>\n",
       "  <tbody>\n",
       "  </tbody>\n",
       "</table>\n",
       "</div>"
      ],
      "text/plain": [
       "Empty DataFrame\n",
       "Columns: [id, key, potid, potkey, units, atom_style, allsymbols, pair_style, status, symbols, elements, artifacts]\n",
       "Index: []"
      ]
     },
     "execution_count": 186,
     "metadata": {},
     "output_type": "execute_result"
    }
   ],
   "source": [
    "print('missing from local:')\n",
    "db_local.lammps_potentials_df[~db_local.lammps_potentials_df.id.isin(db_remote.lammps_potentials_df.id.tolist())]"
   ]
  },
  {
   "cell_type": "markdown",
   "metadata": {},
   "source": [
    "### 4.2. Compare record contents"
   ]
  },
  {
   "cell_type": "code",
   "execution_count": 208,
   "metadata": {},
   "outputs": [
    {
     "name": "stdout",
     "output_type": "stream",
     "text": [
      "All records match\n"
     ]
    }
   ],
   "source": [
    "allgood = True\n",
    "for k, local_pot in enumerate(db_local.lammps_potentials):\n",
    "    match = db_remote.lammps_potentials_df.id == local_pot.id\n",
    "    if sum(match) > 1:\n",
    "        print('multiple matches for', local_pot.id)\n",
    "    elif sum(match) == 0:\n",
    "        print('no matches for', local_pot.id)\n",
    "    else:\n",
    "        remote_pot = db_remote.lammps_potentials[match][0]\n",
    "        remote_json = remote_pot.asmodel().json()\n",
    "        local_json = local_pot.asmodel().json()\n",
    "        if local_json != remote_json:\n",
    "            allgood = False\n",
    "            print(f'{k+1}/{len(db_local.lammps_potentials)}')\n",
    "            print('different data for', local_pot.id)\n",
    "            print()\n",
    "            print('local:')\n",
    "            print(local_json)\n",
    "            print('remote:')\n",
    "            print(remote_json)\n",
    "            print()\n",
    "            same = ''\n",
    "            for i in range(len(local_json)):\n",
    "                if local_json[i] != remote_json[i]:\n",
    "                    print(local_json[:i+1])\n",
    "                    break\n",
    "            break\n",
    "\n",
    "if allgood:\n",
    "    print('All records match')"
   ]
  },
  {
   "cell_type": "markdown",
   "metadata": {},
   "source": [
    "### 4.3. Update records"
   ]
  },
  {
   "cell_type": "code",
   "execution_count": 198,
   "metadata": {},
   "outputs": [
    {
     "name": "stdout",
     "output_type": "stream",
     "text": [
      "1 LAMMPS potentials saved to localpath\n",
      " - 1 existing potentials updated\n"
     ]
    }
   ],
   "source": [
    "#db_local.save_lammps_potentials(remote_pot, verbose=True, format='json', indent=4, overwrite=True)"
   ]
  },
  {
   "cell_type": "markdown",
   "metadata": {},
   "source": [
    "## 5. Compare Potential and potential_LAMMPS records"
   ]
  },
  {
   "cell_type": "code",
   "execution_count": 225,
   "metadata": {},
   "outputs": [
    {
     "name": "stdout",
     "output_type": "stream",
     "text": [
      "Loaded 642 local potentials\n",
      "Loaded 454 local LAMMPS potentials\n",
      "Building lammps potentials for kim models\n",
      "No kim models identified\n"
     ]
    }
   ],
   "source": [
    "# Only load local because local and remote records should match now\n",
    "db_local = potentials.Database(load=['potentials','lammps_potentials'], username=username, password=password,\n",
    "                               verbose=True, remote=False, local=True, status=None, kim_models=[])"
   ]
  },
  {
   "cell_type": "markdown",
   "metadata": {},
   "source": [
    "### 5.1. Check common fields\n",
    "\n",
    "- Do keys and ids match for both the potential and implementation?\n",
    "- Are all but known missing entries present in both records?\n",
    "- Do the artifacts match?"
   ]
  },
  {
   "cell_type": "code",
   "execution_count": 235,
   "metadata": {},
   "outputs": [],
   "source": [
    "bad_imps = [\n",
    "    '2009--Kim-H-K--Fe-Ti-C--LAMMPS--ipr1',\n",
    "    '2012--Jelinek-B--Al-Si-Mg-Cu-Fe--LAMMPS--ipr1',\n",
    "    '2013--Gao-H--AgTaO3--LAMMPS--ipr1',\n",
    "    '2014--Liyanage-L-S-I--Fe-C--LAMMPS--ipr1',\n",
    "    '2015--Ko-W-S--Ni-Ti--LAMMPS--ipr1',\n",
    "    '2015--Pascuet-M-I--Al-U--LAMMPS--ipr1'\n",
    "]"
   ]
  },
  {
   "cell_type": "code",
   "execution_count": 236,
   "metadata": {},
   "outputs": [],
   "source": [
    "for lammps_potential in db_local.lammps_potentials:\n",
    "    \n",
    "    # Find potential record corresponding to the lammps potential\n",
    "    potential = db_local.potentials_df[(db_local.potentials_df.id == lammps_potential.potid)\n",
    "                                      |(db_local.potentials_df.key == lammps_potential.potkey)]\n",
    "    if len(potential) != 1:\n",
    "        print(len(potential), 'matches found', lammps_potential.id)\n",
    "    else:\n",
    "        potential = potential.iloc[0]\n",
    "    \n",
    "    # Check that potential key and id are the same in both records\n",
    "    if potential.id != lammps_potential.potid:\n",
    "        print('potential id mismatch', lammps_potential.id)\n",
    "        print(potential.id, lammps_potential.potid)\n",
    "    if potential.key != lammps_potential.potkey:\n",
    "        print('potential key mismatch', lammps_potential.id)\n",
    "        print(potential.key, lammps_potential.potkey)\n",
    "    \n",
    "    # Find potential's implementation matching the lammps potential\n",
    "    for implementation in potential.implementations:\n",
    "        match = False\n",
    "        if implementation.id == lammps_potential.id or implementation.key == lammps_potential.key:\n",
    "            match = True\n",
    "            break\n",
    "    \n",
    "    # Issue message if no matching implementation listing found\n",
    "    if match is False:\n",
    "        if lammps_potential.id not in bad_imps:\n",
    "            print('No listing found for', lammps_potential.id)\n",
    "        continue\n",
    "    \n",
    "    # Check that implementation key and id match\n",
    "    if implementation.id != lammps_potential.id:\n",
    "        print('implementation id mismatch')\n",
    "        print(implementation.id, lammps_potential.id)\n",
    "    if implementation.key != lammps_potential.key:\n",
    "        print('implementation key mismatch', lammps_potential.id)\n",
    "        print(implementation.key, lammps_potential.key)\n",
    "    \n",
    "    # Check that the artifacts match between lammps potential and implementation\n",
    "    if len(implementation.artifacts) != len(lammps_potential.artifacts):\n",
    "        print('different numbers of artifacts', lammps_potential.id)\n",
    "    else:\n",
    "        for n in range(len(implementation.artifacts)):\n",
    "            if implementation.artifacts[n].asmodel().json() != lammps_potential.artifacts[n].asmodel().json():\n",
    "                print('artifact mismatch', lammps_potential.id, lammps_potential.artifacts[n].filename)"
   ]
  },
  {
   "cell_type": "code",
   "execution_count": 237,
   "metadata": {},
   "outputs": [
    {
     "name": "stdout",
     "output_type": "stream",
     "text": [
      "No match for 2016--Lee-E--Si-O--LAMMPS--ipr1\n",
      "No match for 2016--Lee-E--Ti-O--LAMMPS--ipr1\n",
      "No match for 2017--Beeler-B--U-Si--LAMMPS--ipr1\n",
      "No match for 2017--Lee-E--Li-Mn-O--LAMMPS--ipr1\n",
      "No match for 2018--Lee-E--Li-Co-O--LAMMPS--ipr1\n"
     ]
    }
   ],
   "source": [
    "# Reverse search for implementation listings with no lammps potential records\n",
    "for potential in db_local.potentials:\n",
    "    for implementation in potential.implementations:\n",
    "        if 'LAMMPS' in implementation.id:\n",
    "            \n",
    "            lammps_potential = db_local.lammps_potentials_df[db_local.lammps_potentials_df.id == implementation.id]\n",
    "            if len(lammps_potential) == 0:\n",
    "                print('No lammps potential found for', implementation.id)"
   ]
  },
  {
   "cell_type": "code",
   "execution_count": null,
   "metadata": {},
   "outputs": [],
   "source": []
  }
 ],
 "metadata": {
  "kernelspec": {
   "display_name": "Python 3",
   "language": "python",
   "name": "python3"
  },
  "language_info": {
   "codemirror_mode": {
    "name": "ipython",
    "version": 3
   },
   "file_extension": ".py",
   "mimetype": "text/x-python",
   "name": "python",
   "nbconvert_exporter": "python",
   "pygments_lexer": "ipython3",
   "version": "3.7.3"
  }
 },
 "nbformat": 4,
 "nbformat_minor": 4
}
