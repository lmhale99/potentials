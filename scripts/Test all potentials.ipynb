{
 "cells": [
  {
   "cell_type": "markdown",
   "metadata": {},
   "source": [
    "# Test all potentials\n",
    "\n",
    "A quick test to see if any potentials don't work with a given version of LAMMPS. \n",
    "\n",
    "__NOTE__ This only checks if each potential will run with a version of LAMMPS and not if any predictions have changed."
   ]
  },
  {
   "cell_type": "markdown",
   "metadata": {},
   "source": [
    "## Potentials with known issues\n",
    "\n",
    "These are the potentials with issues that require specific LAMMPS versions or build options to work properly.\n",
    "\n",
    "- __2015--Thompson-A-P--Ta--LAMMPS--ipr*__: which potential version, if any, works depends on the LAMMPS version.\n",
    "- __2020--Mori-H--Fe--LAMMPS--ipr1__: pair_style aenet requires LAMMPS to be built with custom code.\n",
    "\n",
    "These are the potentials with issues that likely can be fixed by correcting the parameter files.\n",
    "\n",
    "- Files need updating to replace INF and NAN values\n",
    "    - __2011--Bonny-G--Fe-Cr--LAMMPS--ipr2__: contains values that are not numbers, i.e. INF and NAN\n",
    "    - __2011--Bonny-G--Fe-Ni-Cr--LAMMPS--ipr1__: contains values that are not numbers, i.e. INF and NAN\n",
    "    - __2013--Bonny-G--Fe-Cr-W--LAMMPS--ipr2__: contains values that are not numbers, i.e. INF and NAN\n",
    "\n",
    "- New versions in LAMMPS to add\n",
    "    - __2012--Ward-D-K--Cd-Te-Zn--LAMMPS--ipr1__: changed bop format or new format check\n",
    "    - __2013--Ward-D-K--Cd-Te-Zn--LAMMPS--ipr1__: changed bop format or new format check\n",
    "    - __2014--Zhou-X-W--Cd-Te-Se--LAMMPS--ipr1__: changed bop format or new format check\n",
    "\n",
    "- allsymbols option needs turning on\n",
    "    - __2016--Zhang-P--Ti-O--LAMMPS--ipr1__: changed meam/spline format or new format check"
   ]
  },
  {
   "cell_type": "code",
   "execution_count": 1,
   "metadata": {},
   "outputs": [],
   "source": [
    "import potentials\n",
    "import atomman as am\n",
    "import iprPy"
   ]
  },
  {
   "cell_type": "markdown",
   "metadata": {},
   "source": [
    "Specify LAMMPS command to check"
   ]
  },
  {
   "cell_type": "code",
   "execution_count": 38,
   "metadata": {},
   "outputs": [],
   "source": [
    "#lammps_command = 'C:/Program Files/LAMMPS/2020-10-29/bin/lmp_mpi.exe'\n",
    "#lammps_command = 'C:/Program Files/LAMMPS/2020-03-03/bin/lmp_mpi.exe'\n",
    "lammps_command = 'C:/Program Files/LAMMPS/2018-11-27/bin/lmp_mpi.exe'"
   ]
  },
  {
   "cell_type": "markdown",
   "metadata": {},
   "source": [
    "Load local non-KIM potentials"
   ]
  },
  {
   "cell_type": "code",
   "execution_count": 39,
   "metadata": {},
   "outputs": [],
   "source": [
    "potdb = potentials.Database()\n",
    "potdb.set_installed_kim_models([])\n",
    "potdb.load_lammps_potentials(pot_dir_style='local', remote=False)"
   ]
  },
  {
   "cell_type": "markdown",
   "metadata": {},
   "source": [
    "Load isolated_atom calculation"
   ]
  },
  {
   "cell_type": "code",
   "execution_count": 40,
   "metadata": {},
   "outputs": [],
   "source": [
    "calc = iprPy.load_calculation('isolated_atom')"
   ]
  },
  {
   "cell_type": "markdown",
   "metadata": {},
   "source": [
    "Loop over all potentials"
   ]
  },
  {
   "cell_type": "code",
   "execution_count": 41,
   "metadata": {},
   "outputs": [
    {
     "name": "stdout",
     "output_type": "stream",
     "text": [
      "275 2015--Thompson-A-P--Ta--LAMMPS--ipr1\n",
      "Last command: pair_coeff * * snap C:\\Users\\lmh1\\Documents\\library\\potential_LAMMPS\\2015--Thompson-A-P--Ta--LAMMPS--ipr1\\Ta06A.snapcoeff Ta C:\\Users\\lmh1\\Documents\\library\\potential_LAMMPS\\2015--Thompson-A-P--Ta--LAMMPS--ipr1\\Ta06A.snapparam Ta\n",
      "\n",
      "276 2015--Thompson-A-P--Ta--LAMMPS--ipr2\n",
      "Last command: pair_coeff * * snap C:\\Users\\lmh1\\Documents\\library\\potential_LAMMPS\\2015--Thompson-A-P--Ta--LAMMPS--ipr2\\Ta06A.snapcoeff C:\\Users\\lmh1\\Documents\\library\\potential_LAMMPS\\2015--Thompson-A-P--Ta--LAMMPS--ipr2\\Ta06A.snapparam Ta\n",
      "\n",
      "277 2015--Thompson-A-P--Ta--LAMMPS--ipr3\n",
      "Last command: pair_coeff * * snap C:\\Users\\lmh1\\Documents\\library\\potential_LAMMPS\\2015--Thompson-A-P--Ta--LAMMPS--ipr3\\Ta06A.snapcoeff C:\\Users\\lmh1\\Documents\\library\\potential_LAMMPS\\2015--Thompson-A-P--Ta--LAMMPS--ipr3\\Ta06A.snapparam Ta\n",
      "\n",
      "388 2020--Mori-H--Fe--LAMMPS--ipr1\n",
      "Last command: pair_style aenet\n",
      "\n"
     ]
    }
   ],
   "source": [
    "for i, pot in enumerate(potdb.lammps_potentials):\n",
    "\n",
    "    try:\n",
    "        calc.calc(lammps_command, pot)\n",
    "    except Exception as e:\n",
    "        msg = str(e)\n",
    "        lines = msg.split('\\n')\n",
    "        for line in lines:\n",
    "            if line.strip() != '':\n",
    "                lastline = line\n",
    "        print(i, pot.id)\n",
    "        print(lastline)\n",
    "        print()\n",
    "    "
   ]
  },
  {
   "cell_type": "code",
   "execution_count": 24,
   "metadata": {},
   "outputs": [
    {
     "name": "stdout",
     "output_type": "stream",
     "text": [
      "print \"Potential 2010--Kim-H-K--Nb-C--LAMMPS--ipr1 listed in the NIST Interatomic Potentials Repository:\"\n",
      "print \"https://www.ctcms.nist.gov/potentials/entry/2010--Kim-H-K-Jung-W-S-Lee-B-J--Nb-C/2010--Kim-H-K--Nb-C--LAMMPS--ipr1.html\"\n",
      "print \"Publication(s) related to the potential:\"\n",
      "print \"https://doi.org/10.1557/jmr.2010.0182\"\n",
      "print \"Parameter file(s) can be downloaded at:\"\n",
      "print \"https://www.ctcms.nist.gov/potentials/Download/2010--Kim-H-K-Jung-W-S-Lee-B-J--Nb-C/1/library.meam\"\n",
      "print \"https://www.ctcms.nist.gov/potentials/Download/2010--Kim-H-K-Jung-W-S-Lee-B-J--Nb-C/1/NbC.meam\"\n",
      "pair_style meam\n",
      "pair_coeff * * C:\\Users\\lmh1\\Documents\\library\\potential_LAMMPS\\2010--Kim-H-K--Nb-C--LAMMPS--ipr1\\library.meam Nb C C:\\Users\\lmh1\\Documents\\library\\potential_LAMMPS\\2010--Kim-H-K--Nb-C--LAMMPS--ipr1\\NbC.meam Nb C\n",
      "mass 1 92.906\n",
      "mass 2 12.011\n",
      "\n",
      "\n"
     ]
    }
   ],
   "source": [
    "print(pot.pair_info())"
   ]
  },
  {
   "cell_type": "code",
   "execution_count": null,
   "metadata": {},
   "outputs": [],
   "source": []
  }
 ],
 "metadata": {
  "kernelspec": {
   "display_name": "Python 3",
   "language": "python",
   "name": "python3"
  },
  "language_info": {
   "codemirror_mode": {
    "name": "ipython",
    "version": 3
   },
   "file_extension": ".py",
   "mimetype": "text/x-python",
   "name": "python",
   "nbconvert_exporter": "python",
   "pygments_lexer": "ipython3",
   "version": "3.7.4"
  }
 },
 "nbformat": 4,
 "nbformat_minor": 2
}
