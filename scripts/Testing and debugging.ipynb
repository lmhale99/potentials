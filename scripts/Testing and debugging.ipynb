{
 "cells": [
  {
   "cell_type": "markdown",
   "metadata": {},
   "source": [
    "# Testing and debugging\n",
    "\n",
    "This is a Notebook providing debug/error tests for the potentials package"
   ]
  },
  {
   "cell_type": "markdown",
   "metadata": {},
   "source": [
    "## import"
   ]
  },
  {
   "cell_type": "code",
   "execution_count": 1,
   "metadata": {},
   "outputs": [
    {
     "name": "stdout",
     "output_type": "stream",
     "text": [
      "0.3.0\n"
     ]
    }
   ],
   "source": [
    "import unittest\n",
    "import tempfile\n",
    "from pathlib import Path\n",
    "\n",
    "import potentials\n",
    "print(potentials.__version__)"
   ]
  },
  {
   "cell_type": "code",
   "execution_count": 2,
   "metadata": {},
   "outputs": [
    {
     "name": "stdout",
     "output_type": "stream",
     "text": [
      "Record styles that passed import:\n",
      "- Citation\n",
      "- Potential\n",
      "- potential_LAMMPS\n",
      "- potential_LAMMPS_KIM\n",
      "- Action\n",
      "- Request\n",
      "- FAQ\n",
      "Record styles that failed import:\n",
      "\n"
     ]
    }
   ],
   "source": [
    "potentials.recordmanager.check_styles()"
   ]
  },
  {
   "cell_type": "markdown",
   "metadata": {},
   "source": [
    "## tools"
   ]
  },
  {
   "cell_type": "code",
   "execution_count": 3,
   "metadata": {},
   "outputs": [
    {
     "name": "stderr",
     "output_type": "stream",
     "text": [
      "test_aslist (__main__.TestTools) ... ok\n",
      "test_atomic_mass (__main__.TestTools) ... ok\n",
      "test_atomic_number (__main__.TestTools) ... ok\n",
      "test_atomic_symbol (__main__.TestTools) ... ok\n",
      "test_numderivative (__main__.TestTools) ... ok\n",
      "test_parse_authors (__main__.TestTools) ... ok\n",
      "test_uber_open_rmode (__main__.TestTools) ... ok\n",
      "\n",
      "----------------------------------------------------------------------\n",
      "Ran 7 tests in 0.042s\n",
      "\n",
      "OK\n"
     ]
    },
    {
     "data": {
      "text/plain": [
       "<unittest.main.TestProgram at 0x1cb0ca726d8>"
      ]
     },
     "execution_count": 3,
     "metadata": {},
     "output_type": "execute_result"
    }
   ],
   "source": [
    "class TestTools(unittest.TestCase):\n",
    "    \n",
    "    def test_aslist(self):\n",
    "        from potentials.tools import aslist\n",
    "        \n",
    "        invalue = 'string'\n",
    "        outvalue = ['string']\n",
    "        self.assertEqual(aslist(invalue), outvalue)\n",
    "        \n",
    "        invalue = ['string']\n",
    "        outvalue = ['string']\n",
    "        self.assertEqual(aslist(invalue), outvalue)\n",
    "        \n",
    "        invalue = ('string','string')\n",
    "        outvalue = ['string','string']\n",
    "        self.assertEqual(aslist(invalue), outvalue)\n",
    "        \n",
    "    def test_atomic_symbol(self):\n",
    "        from potentials.tools import atomic_symbol\n",
    "        \n",
    "        self.assertEqual(atomic_symbol(74), 'W')\n",
    "        \n",
    "        with self.assertRaises(IndexError):\n",
    "            atomic_symbol(0)\n",
    "        \n",
    "        with self.assertRaises(IndexError):\n",
    "            atomic_symbol(119)\n",
    "\n",
    "    def test_atomic_number(self):\n",
    "        from potentials.tools import atomic_number\n",
    "        \n",
    "        self.assertEqual(atomic_number('Fe'), 26)\n",
    "        \n",
    "        self.assertEqual(atomic_number('Unh'), atomic_number('Sg'))\n",
    "        \n",
    "        with self.assertRaises(ValueError):\n",
    "            atomic_number('Nt')\n",
    "        \n",
    "    def test_atomic_mass(self):\n",
    "        from potentials.tools import atomic_mass\n",
    "        \n",
    "        self.assertEqual(atomic_mass(77), 192.217)\n",
    "\n",
    "        self.assertEqual(atomic_mass('He-9'), 9.043946)\n",
    "\n",
    "        with self.assertRaises(ValueError):\n",
    "            atomic_mass(118, prompt=False)\n",
    "\n",
    "        with self.assertRaises(IndexError):\n",
    "            atomic_mass(119)\n",
    "\n",
    "    def test_uber_open_rmode(self):\n",
    "        from potentials.tools import uber_open_rmode\n",
    "        \n",
    "        contents = \"This is the contents of my file.\"\n",
    "\n",
    "        # Test string\n",
    "        with uber_open_rmode(contents) as f:\n",
    "            self.assertEqual(contents, f.read().decode('UTF-8'))\n",
    "        \n",
    "        # Create temporary directory\n",
    "        with tempfile.TemporaryDirectory() as tmpdir:\n",
    "            \n",
    "            # Save content to a file\n",
    "            contentfile = Path(tmpdir, 'content.txt')\n",
    "            with open(contentfile, 'w') as f:\n",
    "                f.write(contents)\n",
    "        \n",
    "            # Test filename\n",
    "            with uber_open_rmode(contentfile) as f:\n",
    "                self.assertEqual(contents, f.read().decode('UTF-8'))\n",
    "\n",
    "            # Test file object\n",
    "\n",
    "            with open(contentfile, 'rb') as openf:\n",
    "                with uber_open_rmode(openf) as f:\n",
    "                    self.assertEqual(contents, f.read().decode('UTF-8'))\n",
    "    \n",
    "    def test_parse_authors(self):\n",
    "        from potentials.tools import parse_authors\n",
    "        \n",
    "        authors = 'Xiang-Guo Li and Chi Chen and Hui Zheng and Yunxing Zuo and Shyue Ping Ong'\n",
    "        \n",
    "        out = [{'givenname': 'X.-G.', 'surname': 'Li'},\n",
    "               {'givenname': 'C.', 'surname': 'Chen'},\n",
    "               {'givenname': 'H.', 'surname': 'Zheng'},\n",
    "               {'givenname': 'Y.', 'surname': 'Zuo'},\n",
    "               {'givenname': 'S.P.', 'surname': 'Ong'}]\n",
    "        for iny, outy in zip(parse_authors(authors), out):\n",
    "            self.assertDictEqual(iny, outy)\n",
    "        \n",
    "    def test_numderivative(self):\n",
    "        from potentials.tools import numderivative\n",
    "        #...\n",
    "        \n",
    "            \n",
    "unittest.main(argv=[''], verbosity=2, exit=False)"
   ]
  },
  {
   "cell_type": "code",
   "execution_count": null,
   "metadata": {},
   "outputs": [],
   "source": []
  },
  {
   "cell_type": "markdown",
   "metadata": {},
   "source": [
    "## Load database"
   ]
  },
  {
   "cell_type": "code",
   "execution_count": 4,
   "metadata": {},
   "outputs": [],
   "source": [
    "potdb = potentials.Database()"
   ]
  },
  {
   "cell_type": "markdown",
   "metadata": {},
   "source": [
    "## Action"
   ]
  },
  {
   "cell_type": "code",
   "execution_count": 5,
   "metadata": {},
   "outputs": [
    {
     "data": {
      "text/html": [
       "<div>\n",
       "<style scoped>\n",
       "    .dataframe tbody tr th:only-of-type {\n",
       "        vertical-align: middle;\n",
       "    }\n",
       "\n",
       "    .dataframe tbody tr th {\n",
       "        vertical-align: top;\n",
       "    }\n",
       "\n",
       "    .dataframe thead th {\n",
       "        text-align: right;\n",
       "    }\n",
       "</style>\n",
       "<table border=\"1\" class=\"dataframe\">\n",
       "  <thead>\n",
       "    <tr style=\"text-align: right;\">\n",
       "      <th></th>\n",
       "      <th>name</th>\n",
       "      <th>date</th>\n",
       "      <th>type</th>\n",
       "      <th>comment</th>\n",
       "      <th>potentials</th>\n",
       "    </tr>\n",
       "  </thead>\n",
       "  <tbody>\n",
       "    <tr>\n",
       "      <th>0</th>\n",
       "      <td>2009-08-12-New-posting-for-C-H-O</td>\n",
       "      <td>2009-08-12</td>\n",
       "      <td>new posting</td>\n",
       "      <td>New posting for C-H-O</td>\n",
       "      <td>[{'id': '2008--Chenoweth-K-van-Duin-A-C-T-Godd...</td>\n",
       "    </tr>\n",
       "    <tr>\n",
       "      <th>1</th>\n",
       "      <td>2009-08-18-New-posting-for-Cu-Ag</td>\n",
       "      <td>2009-08-18</td>\n",
       "      <td>new posting</td>\n",
       "      <td>New posting for Cu-Ag</td>\n",
       "      <td>[{'id': '2009--Wu-H-H-Trinkle-D-R--Cu-Ag', 'ke...</td>\n",
       "    </tr>\n",
       "    <tr>\n",
       "      <th>2</th>\n",
       "      <td>2009-09-30-New-posting-for-Ni-Al</td>\n",
       "      <td>2009-09-30</td>\n",
       "      <td>new posting</td>\n",
       "      <td>New posting for Ni-Al</td>\n",
       "      <td>[{'id': '2009--Purja-Pun-G-P-Mishin-Y--Ni-Al',...</td>\n",
       "    </tr>\n",
       "    <tr>\n",
       "      <th>3</th>\n",
       "      <td>2009-12-01-New-posting-for-Ti</td>\n",
       "      <td>2009-12-01</td>\n",
       "      <td>new posting</td>\n",
       "      <td>New posting for Ti</td>\n",
       "      <td>[{'id': '1992--Ackland-G-J--Ti', 'key': '8a634...</td>\n",
       "    </tr>\n",
       "    <tr>\n",
       "      <th>4</th>\n",
       "      <td>2009-12-01-New-posting-for-Ti-Al</td>\n",
       "      <td>2009-12-01</td>\n",
       "      <td>new posting</td>\n",
       "      <td>New posting for Ti-Al</td>\n",
       "      <td>[{'id': '2003--Zope-R-R-Mishin-Y--Ti-Al', 'key...</td>\n",
       "    </tr>\n",
       "    <tr>\n",
       "      <th>...</th>\n",
       "      <td>...</td>\n",
       "      <td>...</td>\n",
       "      <td>...</td>\n",
       "      <td>...</td>\n",
       "      <td>...</td>\n",
       "    </tr>\n",
       "    <tr>\n",
       "      <th>203</th>\n",
       "      <td>2021-05-26 New posting for Zr-Nb</td>\n",
       "      <td>2021-05-26</td>\n",
       "      <td>new posting</td>\n",
       "      <td>New posting for Zr-Nb</td>\n",
       "      <td>[{'id': '2021--Starikov-S-Smirnova-D--Zr-Nb', ...</td>\n",
       "    </tr>\n",
       "    <tr>\n",
       "      <th>204</th>\n",
       "      <td>2021-07-06 New posting for Fe</td>\n",
       "      <td>2021-07-06</td>\n",
       "      <td>new posting</td>\n",
       "      <td>New posting for Fe</td>\n",
       "      <td>[{'id': '2021--Starikov-S-Smirnova-D-Pradhan-T...</td>\n",
       "    </tr>\n",
       "    <tr>\n",
       "      <th>205</th>\n",
       "      <td>2021-07-06 New posting for Fe-H</td>\n",
       "      <td>2021-07-06</td>\n",
       "      <td>new posting</td>\n",
       "      <td>New posting for Fe-H</td>\n",
       "      <td>[{'id': '2021--Wen-M--Fe-H', 'key': 'a32373ef-...</td>\n",
       "    </tr>\n",
       "    <tr>\n",
       "      <th>206</th>\n",
       "      <td>2021-07-16 New posting for Bi</td>\n",
       "      <td>2021-07-16</td>\n",
       "      <td>new posting</td>\n",
       "      <td>New posting for Bi</td>\n",
       "      <td>[{'id': '2021--Zhou-H-Dickel-D-E-Baskes-M-I-et...</td>\n",
       "    </tr>\n",
       "    <tr>\n",
       "      <th>207</th>\n",
       "      <td>2021-07-16 New posting for Fe in the Earth's core</td>\n",
       "      <td>2021-07-16</td>\n",
       "      <td>new posting</td>\n",
       "      <td>New posting for Fe in the Earth's core</td>\n",
       "      <td>[{'id': '2021--Mendelev-M-I--Fe', 'key': '186a...</td>\n",
       "    </tr>\n",
       "  </tbody>\n",
       "</table>\n",
       "<p>208 rows × 5 columns</p>\n",
       "</div>"
      ],
      "text/plain": [
       "                                                  name        date  \\\n",
       "0                     2009-08-12-New-posting-for-C-H-O  2009-08-12   \n",
       "1                     2009-08-18-New-posting-for-Cu-Ag  2009-08-18   \n",
       "2                     2009-09-30-New-posting-for-Ni-Al  2009-09-30   \n",
       "3                        2009-12-01-New-posting-for-Ti  2009-12-01   \n",
       "4                     2009-12-01-New-posting-for-Ti-Al  2009-12-01   \n",
       "..                                                 ...         ...   \n",
       "203                   2021-05-26 New posting for Zr-Nb  2021-05-26   \n",
       "204                      2021-07-06 New posting for Fe  2021-07-06   \n",
       "205                    2021-07-06 New posting for Fe-H  2021-07-06   \n",
       "206                      2021-07-16 New posting for Bi  2021-07-16   \n",
       "207  2021-07-16 New posting for Fe in the Earth's core  2021-07-16   \n",
       "\n",
       "            type                                 comment  \\\n",
       "0    new posting                   New posting for C-H-O   \n",
       "1    new posting                   New posting for Cu-Ag   \n",
       "2    new posting                   New posting for Ni-Al   \n",
       "3    new posting                      New posting for Ti   \n",
       "4    new posting                   New posting for Ti-Al   \n",
       "..           ...                                     ...   \n",
       "203  new posting                   New posting for Zr-Nb   \n",
       "204  new posting                      New posting for Fe   \n",
       "205  new posting                    New posting for Fe-H   \n",
       "206  new posting                      New posting for Bi   \n",
       "207  new posting  New posting for Fe in the Earth's core   \n",
       "\n",
       "                                            potentials  \n",
       "0    [{'id': '2008--Chenoweth-K-van-Duin-A-C-T-Godd...  \n",
       "1    [{'id': '2009--Wu-H-H-Trinkle-D-R--Cu-Ag', 'ke...  \n",
       "2    [{'id': '2009--Purja-Pun-G-P-Mishin-Y--Ni-Al',...  \n",
       "3    [{'id': '1992--Ackland-G-J--Ti', 'key': '8a634...  \n",
       "4    [{'id': '2003--Zope-R-R-Mishin-Y--Ti-Al', 'key...  \n",
       "..                                                 ...  \n",
       "203  [{'id': '2021--Starikov-S-Smirnova-D--Zr-Nb', ...  \n",
       "204  [{'id': '2021--Starikov-S-Smirnova-D-Pradhan-T...  \n",
       "205  [{'id': '2021--Wen-M--Fe-H', 'key': 'a32373ef-...  \n",
       "206  [{'id': '2021--Zhou-H-Dickel-D-E-Baskes-M-I-et...  \n",
       "207  [{'id': '2021--Mendelev-M-I--Fe', 'key': '186a...  \n",
       "\n",
       "[208 rows x 5 columns]"
      ]
     },
     "execution_count": 5,
     "metadata": {},
     "output_type": "execute_result"
    }
   ],
   "source": [
    "actions, actions_df = potdb.get_actions(return_df=True)\n",
    "actions_df"
   ]
  },
  {
   "cell_type": "code",
   "execution_count": 6,
   "metadata": {},
   "outputs": [
    {
     "data": {
      "text/html": [
       "<div xmlns=\"http://www.w3.org/TR/xhtml1/strict\"><b>new posting (2021-07-16): </b>New posting for Fe in the Earth's core <ul><li><a href=\"https://www.ctcms.nist.gov/potentials/entry/2021--Mendelev-M-I--Fe\">2021--Mendelev-M-I--Fe</a></li></ul></div>"
      ],
      "text/plain": [
       "<IPython.core.display.HTML object>"
      ]
     },
     "metadata": {},
     "output_type": "display_data"
    },
    {
     "data": {
      "text/html": [
       "<div xmlns=\"http://www.w3.org/TR/xhtml1/strict\"><b>new posting (2021-07-16): </b>New posting for Bi <ul><li><a href=\"https://www.ctcms.nist.gov/potentials/entry/2021--Zhou-H-Dickel-D-E-Baskes-M-I-et-al--Bi\">2021--Zhou-H-Dickel-D-E-Baskes-M-I-et-al--Bi</a></li></ul></div>"
      ],
      "text/plain": [
       "<IPython.core.display.HTML object>"
      ]
     },
     "metadata": {},
     "output_type": "display_data"
    },
    {
     "data": {
      "text/html": [
       "<div xmlns=\"http://www.w3.org/TR/xhtml1/strict\"><b>new posting (2021-07-06): </b>New posting for Fe-H <ul><li><a href=\"https://www.ctcms.nist.gov/potentials/entry/2021--Wen-M--Fe-H\">2021--Wen-M--Fe-H</a></li></ul></div>"
      ],
      "text/plain": [
       "<IPython.core.display.HTML object>"
      ]
     },
     "metadata": {},
     "output_type": "display_data"
    },
    {
     "data": {
      "text/html": [
       "<div xmlns=\"http://www.w3.org/TR/xhtml1/strict\"><b>new posting (2021-07-06): </b>New posting for Fe <ul><li><a href=\"https://www.ctcms.nist.gov/potentials/entry/2021--Starikov-S-Smirnova-D-Pradhan-T-et-al--Fe\">2021--Starikov-S-Smirnova-D-Pradhan-T-et-al--Fe</a></li></ul></div>"
      ],
      "text/plain": [
       "<IPython.core.display.HTML object>"
      ]
     },
     "metadata": {},
     "output_type": "display_data"
    },
    {
     "data": {
      "text/html": [
       "<div xmlns=\"http://www.w3.org/TR/xhtml1/strict\"><b>new posting (2021-05-26): </b>New posting for Zr-Nb <ul><li><a href=\"https://www.ctcms.nist.gov/potentials/entry/2021--Starikov-S-Smirnova-D--Zr-Nb\">2021--Starikov-S-Smirnova-D--Zr-Nb</a></li></ul></div>"
      ],
      "text/plain": [
       "<IPython.core.display.HTML object>"
      ]
     },
     "metadata": {},
     "output_type": "display_data"
    },
    {
     "data": {
      "text/html": [
       "<div xmlns=\"http://www.w3.org/TR/xhtml1/strict\"><b>updated posting (2021-05-26): </b>LAMMPS versions updated to replace INF and NaN values with real numbers <ul><li><a href=\"https://www.ctcms.nist.gov/potentials/entry/2011--Bonny-G-Pasianot-R-C-Terentyev-D-Malerba-L--Fe-Cr\">2011--Bonny-G-Pasianot-R-C-Terentyev-D-Malerba-L--Fe-Cr</a></li><li><a href=\"https://www.ctcms.nist.gov/potentials/entry/2013--Bonny-G-Castin-N-Bullens-J-et-al--Fe-Cr-W\">2013--Bonny-G-Castin-N-Bullens-J-et-al--Fe-Cr-W</a></li><li><a href=\"https://www.ctcms.nist.gov/potentials/entry/2011--Bonny-G-Terentyev-D-Pasianot-R-C-et-al--Fe-Ni-Cr\">2011--Bonny-G-Terentyev-D-Pasianot-R-C-et-al--Fe-Ni-Cr</a></li></ul></div>"
      ],
      "text/plain": [
       "<IPython.core.display.HTML object>"
      ]
     },
     "metadata": {},
     "output_type": "display_data"
    },
    {
     "data": {
      "text/html": [
       "<div xmlns=\"http://www.w3.org/TR/xhtml1/strict\"><b>new posting (2021-05-19): </b>New posting for HEA Hf-Nb-Ta-Ti-Zr <ul><li><a href=\"https://www.ctcms.nist.gov/potentials/entry/2021--Huang-X-Liu-L-Duan-X-et-al--Hf-Nb-Ta-Ti-Zr\">2021--Huang-X-Liu-L-Duan-X-et-al--Hf-Nb-Ta-Ti-Zr</a></li></ul></div>"
      ],
      "text/plain": [
       "<IPython.core.display.HTML object>"
      ]
     },
     "metadata": {},
     "output_type": "display_data"
    },
    {
     "data": {
      "text/html": [
       "<div xmlns=\"http://www.w3.org/TR/xhtml1/strict\"><b>new posting (2021-05-19): </b>New posting for HEA Fe-Ni-Cr-Co-Cu with ZBL for radiation studies <ul><li><a href=\"https://www.ctcms.nist.gov/potentials/entry/2021--Deluigi-O-R-Pasianot-R-C-Valencia-F-J-et-al--Fe-Ni-Cr-Co-Cu\">2021--Deluigi-O-R-Pasianot-R-C-Valencia-F-J-et-al--Fe-Ni-Cr-Co-Cu</a></li></ul></div>"
      ],
      "text/plain": [
       "<IPython.core.display.HTML object>"
      ]
     },
     "metadata": {},
     "output_type": "display_data"
    },
    {
     "data": {
      "text/html": [
       "<div xmlns=\"http://www.w3.org/TR/xhtml1/strict\"><b>new posting (2021-04-01): </b>New posting for Pd-H-He designed for simulating He bubbles in PdH <ul><li><a href=\"https://www.ctcms.nist.gov/potentials/entry/2021--Zhou-X-W-Bartelt-N-C-Sills-R-B--Pd-H-He\">2021--Zhou-X-W-Bartelt-N-C-Sills-R-B--Pd-H-He</a></li></ul></div>"
      ],
      "text/plain": [
       "<IPython.core.display.HTML object>"
      ]
     },
     "metadata": {},
     "output_type": "display_data"
    },
    {
     "data": {
      "text/html": [
       "<div xmlns=\"http://www.w3.org/TR/xhtml1/strict\"><b>updated posting (2021-03-15): </b>Updated tables and LAMMPS version added <ul><li><a href=\"https://www.ctcms.nist.gov/potentials/entry/2015--Eich-S-M-Beinke-D-Schmitz-G--Fe-Cr\">2015--Eich-S-M-Beinke-D-Schmitz-G--Fe-Cr</a></li></ul></div>"
      ],
      "text/plain": [
       "<IPython.core.display.HTML object>"
      ]
     },
     "metadata": {},
     "output_type": "display_data"
    }
   ],
   "source": [
    "# Print the 10 newest actions\n",
    "for i in actions_df.sort_values('date', ascending=False).index[:10]:\n",
    "    actions[i].html(render=True)"
   ]
  },
  {
   "cell_type": "code",
   "execution_count": 7,
   "metadata": {},
   "outputs": [
    {
     "data": {
      "text/plain": [
       "True"
      ]
     },
     "execution_count": 7,
     "metadata": {},
     "output_type": "execute_result"
    }
   ],
   "source": [
    "json1 = actions[0].model.json()\n",
    "json2 = actions[0].build_model().json()\n",
    "json1==json2"
   ]
  },
  {
   "cell_type": "markdown",
   "metadata": {},
   "source": [
    "## Request"
   ]
  },
  {
   "cell_type": "code",
   "execution_count": 8,
   "metadata": {},
   "outputs": [
    {
     "data": {
      "text/html": [
       "<div>\n",
       "<style scoped>\n",
       "    .dataframe tbody tr th:only-of-type {\n",
       "        vertical-align: middle;\n",
       "    }\n",
       "\n",
       "    .dataframe tbody tr th {\n",
       "        vertical-align: top;\n",
       "    }\n",
       "\n",
       "    .dataframe thead th {\n",
       "        text-align: right;\n",
       "    }\n",
       "</style>\n",
       "<table border=\"1\" class=\"dataframe\">\n",
       "  <thead>\n",
       "    <tr style=\"text-align: right;\">\n",
       "      <th></th>\n",
       "      <th>name</th>\n",
       "      <th>date</th>\n",
       "      <th>comment</th>\n",
       "      <th>systems</th>\n",
       "    </tr>\n",
       "  </thead>\n",
       "  <tbody>\n",
       "    <tr>\n",
       "      <th>0</th>\n",
       "      <td>2010-01-01-Co-Ni</td>\n",
       "      <td>2010-01-01</td>\n",
       "      <td>alloys for structural applications</td>\n",
       "      <td>[{'formula': None, 'elements': ['Co', 'Ni']}]</td>\n",
       "    </tr>\n",
       "    <tr>\n",
       "      <th>1</th>\n",
       "      <td>2010-02-01-Mn-Si</td>\n",
       "      <td>2010-02-01</td>\n",
       "      <td>alloys for structural and transportation appli...</td>\n",
       "      <td>[{'formula': None, 'elements': ['Mn', 'Si']}]</td>\n",
       "    </tr>\n",
       "    <tr>\n",
       "      <th>2</th>\n",
       "      <td>2010-03-01-Zn-O</td>\n",
       "      <td>2010-03-01</td>\n",
       "      <td>None</td>\n",
       "      <td>[{'formula': 'ZnO', 'elements': ['Zn', 'O']}]</td>\n",
       "    </tr>\n",
       "    <tr>\n",
       "      <th>3</th>\n",
       "      <td>2010-04-01-Hg</td>\n",
       "      <td>2010-04-01</td>\n",
       "      <td>liquid</td>\n",
       "      <td>[{'formula': None, 'elements': ['Hg']}]</td>\n",
       "    </tr>\n",
       "    <tr>\n",
       "      <th>4</th>\n",
       "      <td>2010-05-01-Mo-S</td>\n",
       "      <td>2010-05-01</td>\n",
       "      <td>None</td>\n",
       "      <td>[{'formula': 'MoS&lt;sub&gt;2&lt;/sub&gt;', 'elements': ['...</td>\n",
       "    </tr>\n",
       "    <tr>\n",
       "      <th>...</th>\n",
       "      <td>...</td>\n",
       "      <td>...</td>\n",
       "      <td>...</td>\n",
       "      <td>...</td>\n",
       "    </tr>\n",
       "    <tr>\n",
       "      <th>105</th>\n",
       "      <td>2020-12-28 Al N</td>\n",
       "      <td>2020-12-28</td>\n",
       "      <td>for aluminum nitride</td>\n",
       "      <td>[{'formula': None, 'elements': ['Al', 'N']}]</td>\n",
       "    </tr>\n",
       "    <tr>\n",
       "      <th>106</th>\n",
       "      <td>2020-12-30 Bi</td>\n",
       "      <td>2020-12-30</td>\n",
       "      <td>None</td>\n",
       "      <td>[{'formula': None, 'elements': ['Bi']}]</td>\n",
       "    </tr>\n",
       "    <tr>\n",
       "      <th>107</th>\n",
       "      <td>2021-01-25 U Mo Kr</td>\n",
       "      <td>2021-01-25</td>\n",
       "      <td>None</td>\n",
       "      <td>[{'formula': None, 'elements': ['U', 'Mo', 'Kr...</td>\n",
       "    </tr>\n",
       "    <tr>\n",
       "      <th>108</th>\n",
       "      <td>2021-03-04 Mg Si</td>\n",
       "      <td>2021-03-04</td>\n",
       "      <td>Buckingham potential</td>\n",
       "      <td>[{'formula': None, 'elements': ['Mg', 'Si']}]</td>\n",
       "    </tr>\n",
       "    <tr>\n",
       "      <th>109</th>\n",
       "      <td>2021-03-10 V C</td>\n",
       "      <td>2021-03-10</td>\n",
       "      <td>for vanadium carbide</td>\n",
       "      <td>[{'formula': None, 'elements': ['V', 'C']}]</td>\n",
       "    </tr>\n",
       "  </tbody>\n",
       "</table>\n",
       "<p>110 rows × 4 columns</p>\n",
       "</div>"
      ],
      "text/plain": [
       "                   name        date  \\\n",
       "0      2010-01-01-Co-Ni  2010-01-01   \n",
       "1      2010-02-01-Mn-Si  2010-02-01   \n",
       "2       2010-03-01-Zn-O  2010-03-01   \n",
       "3         2010-04-01-Hg  2010-04-01   \n",
       "4       2010-05-01-Mo-S  2010-05-01   \n",
       "..                  ...         ...   \n",
       "105     2020-12-28 Al N  2020-12-28   \n",
       "106       2020-12-30 Bi  2020-12-30   \n",
       "107  2021-01-25 U Mo Kr  2021-01-25   \n",
       "108    2021-03-04 Mg Si  2021-03-04   \n",
       "109      2021-03-10 V C  2021-03-10   \n",
       "\n",
       "                                               comment  \\\n",
       "0                   alloys for structural applications   \n",
       "1    alloys for structural and transportation appli...   \n",
       "2                                                 None   \n",
       "3                                               liquid   \n",
       "4                                                 None   \n",
       "..                                                 ...   \n",
       "105                               for aluminum nitride   \n",
       "106                                               None   \n",
       "107                                               None   \n",
       "108                               Buckingham potential   \n",
       "109                               for vanadium carbide   \n",
       "\n",
       "                                               systems  \n",
       "0        [{'formula': None, 'elements': ['Co', 'Ni']}]  \n",
       "1        [{'formula': None, 'elements': ['Mn', 'Si']}]  \n",
       "2        [{'formula': 'ZnO', 'elements': ['Zn', 'O']}]  \n",
       "3              [{'formula': None, 'elements': ['Hg']}]  \n",
       "4    [{'formula': 'MoS<sub>2</sub>', 'elements': ['...  \n",
       "..                                                 ...  \n",
       "105       [{'formula': None, 'elements': ['Al', 'N']}]  \n",
       "106            [{'formula': None, 'elements': ['Bi']}]  \n",
       "107  [{'formula': None, 'elements': ['U', 'Mo', 'Kr...  \n",
       "108      [{'formula': None, 'elements': ['Mg', 'Si']}]  \n",
       "109        [{'formula': None, 'elements': ['V', 'C']}]  \n",
       "\n",
       "[110 rows x 4 columns]"
      ]
     },
     "execution_count": 8,
     "metadata": {},
     "output_type": "execute_result"
    }
   ],
   "source": [
    "requests, requests_df = potdb.get_requests(return_df=True)\n",
    "requests_df"
   ]
  },
  {
   "cell_type": "code",
   "execution_count": 9,
   "metadata": {},
   "outputs": [
    {
     "data": {
      "text/html": [
       "<div xmlns=\"http://www.w3.org/TR/xhtml1/strict\"><b>Co-Ni  </b>alloys for structural applications (2010-01-01)</div>"
      ],
      "text/plain": [
       "<IPython.core.display.HTML object>"
      ]
     },
     "metadata": {},
     "output_type": "display_data"
    },
    {
     "data": {
      "text/html": [
       "<div xmlns=\"http://www.w3.org/TR/xhtml1/strict\"><b>Mn-Si  </b>alloys for structural and transportation applications (2010-02-01)</div>"
      ],
      "text/plain": [
       "<IPython.core.display.HTML object>"
      ]
     },
     "metadata": {},
     "output_type": "display_data"
    },
    {
     "data": {
      "text/html": [
       "<div xmlns=\"http://www.w3.org/TR/xhtml1/strict\"><b>ZnO  </b> (2010-03-01)</div>"
      ],
      "text/plain": [
       "<IPython.core.display.HTML object>"
      ]
     },
     "metadata": {},
     "output_type": "display_data"
    },
    {
     "data": {
      "text/html": [
       "<div xmlns=\"http://www.w3.org/TR/xhtml1/strict\"><b>Hg  </b>liquid (2010-04-01)</div>"
      ],
      "text/plain": [
       "<IPython.core.display.HTML object>"
      ]
     },
     "metadata": {},
     "output_type": "display_data"
    },
    {
     "data": {
      "text/html": [
       "<div xmlns=\"http://www.w3.org/TR/xhtml1/strict\"><b>MoS<sub>2</sub>  </b> (2010-05-01)</div>"
      ],
      "text/plain": [
       "<IPython.core.display.HTML object>"
      ]
     },
     "metadata": {},
     "output_type": "display_data"
    },
    {
     "data": {
      "text/html": [
       "<div xmlns=\"http://www.w3.org/TR/xhtml1/strict\"><b> </b>Metal-water (liquid and ice) (2010-06-01)</div>"
      ],
      "text/plain": [
       "<IPython.core.display.HTML object>"
      ]
     },
     "metadata": {},
     "output_type": "display_data"
    },
    {
     "data": {
      "text/html": [
       "<div xmlns=\"http://www.w3.org/TR/xhtml1/strict\"><b> </b>Models appropriate for multiple material types (e.g. metal-ceramic or metal-polymer) (2010-07-01)</div>"
      ],
      "text/plain": [
       "<IPython.core.display.HTML object>"
      ]
     },
     "metadata": {},
     "output_type": "display_data"
    },
    {
     "data": {
      "text/html": [
       "<div xmlns=\"http://www.w3.org/TR/xhtml1/strict\"><b> </b>Metal-polymer for interfaces between coatings and substrates (2010-08-01)</div>"
      ],
      "text/plain": [
       "<IPython.core.display.HTML object>"
      ]
     },
     "metadata": {},
     "output_type": "display_data"
    },
    {
     "data": {
      "text/html": [
       "<div xmlns=\"http://www.w3.org/TR/xhtml1/strict\"><b> </b>Metals and oxides (e.g. for surfaces) (2010-09-01)</div>"
      ],
      "text/plain": [
       "<IPython.core.display.HTML object>"
      ]
     },
     "metadata": {},
     "output_type": "display_data"
    },
    {
     "data": {
      "text/html": [
       "<div xmlns=\"http://www.w3.org/TR/xhtml1/strict\"><b>Al-Cu-Mg  </b> (2013-11-23)</div>"
      ],
      "text/plain": [
       "<IPython.core.display.HTML object>"
      ]
     },
     "metadata": {},
     "output_type": "display_data"
    }
   ],
   "source": [
    "for i in range(10):\n",
    "    requests[i].html(render=True)"
   ]
  },
  {
   "cell_type": "markdown",
   "metadata": {},
   "source": [
    "## FAQ"
   ]
  },
  {
   "cell_type": "code",
   "execution_count": 10,
   "metadata": {},
   "outputs": [
    {
     "data": {
      "text/html": [
       "<div>\n",
       "<style scoped>\n",
       "    .dataframe tbody tr th:only-of-type {\n",
       "        vertical-align: middle;\n",
       "    }\n",
       "\n",
       "    .dataframe tbody tr th {\n",
       "        vertical-align: top;\n",
       "    }\n",
       "\n",
       "    .dataframe thead th {\n",
       "        text-align: right;\n",
       "    }\n",
       "</style>\n",
       "<table border=\"1\" class=\"dataframe\">\n",
       "  <thead>\n",
       "    <tr style=\"text-align: right;\">\n",
       "      <th></th>\n",
       "      <th>name</th>\n",
       "      <th>question</th>\n",
       "      <th>answer</th>\n",
       "    </tr>\n",
       "  </thead>\n",
       "  <tbody>\n",
       "    <tr>\n",
       "      <th>0</th>\n",
       "      <td>faq</td>\n",
       "      <td>What is the purpose of this project?</td>\n",
       "      <td>The purpose of this project is to provide a re...</td>\n",
       "    </tr>\n",
       "    <tr>\n",
       "      <th>1</th>\n",
       "      <td>formats</td>\n",
       "      <td>What are the potential formats?</td>\n",
       "      <td>&lt;b&gt;Due to the range of formats, we are not abl...</td>\n",
       "    </tr>\n",
       "    <tr>\n",
       "      <th>2</th>\n",
       "      <td>graphs</td>\n",
       "      <td>I've downloaded a file and plotted it, but the...</td>\n",
       "      <td>There can be several reasons for this.  One is...</td>\n",
       "    </tr>\n",
       "    <tr>\n",
       "      <th>3</th>\n",
       "      <td>lammps</td>\n",
       "      <td>Where can I download the LAMMPS molecular dyna...</td>\n",
       "      <td>&lt;a href=\"http://lammps.sandia.gov\" class=\"exte...</td>\n",
       "    </tr>\n",
       "    <tr>\n",
       "      <th>4</th>\n",
       "      <td>manuscript</td>\n",
       "      <td>I have included the NIST repository website ad...</td>\n",
       "      <td>Please send an email to potentials@nist.gov wh...</td>\n",
       "    </tr>\n",
       "    <tr>\n",
       "      <th>5</th>\n",
       "      <td>ref</td>\n",
       "      <td>I have downloaded an interatomic potential and...</td>\n",
       "      <td>In addition to the citation information for th...</td>\n",
       "    </tr>\n",
       "    <tr>\n",
       "      <th>6</th>\n",
       "      <td>submit</td>\n",
       "      <td>I have developed a new interatomic potential, ...</td>\n",
       "      <td>Send the potential to potentials@nist.gov with...</td>\n",
       "    </tr>\n",
       "  </tbody>\n",
       "</table>\n",
       "</div>"
      ],
      "text/plain": [
       "         name                                           question  \\\n",
       "0         faq               What is the purpose of this project?   \n",
       "1     formats                    What are the potential formats?   \n",
       "2      graphs  I've downloaded a file and plotted it, but the...   \n",
       "3      lammps  Where can I download the LAMMPS molecular dyna...   \n",
       "4  manuscript  I have included the NIST repository website ad...   \n",
       "5         ref  I have downloaded an interatomic potential and...   \n",
       "6      submit  I have developed a new interatomic potential, ...   \n",
       "\n",
       "                                              answer  \n",
       "0  The purpose of this project is to provide a re...  \n",
       "1  <b>Due to the range of formats, we are not abl...  \n",
       "2  There can be several reasons for this.  One is...  \n",
       "3  <a href=\"http://lammps.sandia.gov\" class=\"exte...  \n",
       "4  Please send an email to potentials@nist.gov wh...  \n",
       "5  In addition to the citation information for th...  \n",
       "6  Send the potential to potentials@nist.gov with...  "
      ]
     },
     "execution_count": 10,
     "metadata": {},
     "output_type": "execute_result"
    }
   ],
   "source": [
    "faqs, faqs_df = potdb.get_faqs(return_df=True)\n",
    "faqs_df"
   ]
  },
  {
   "cell_type": "code",
   "execution_count": 11,
   "metadata": {},
   "outputs": [
    {
     "data": {
      "text/html": [
       "<div xmlns=\"http://www.w3.org/TR/xhtml1/strict\"><b>Question: What is the purpose of this project?</b><br/>Answer: The purpose of this project is to provide a repository of interatomic potentials for atomistic simulations (e.g. molecular dynamics) with comparison tools and reference experimental and ab-initio data in order to facilitate the evaluation of these potentials for particular applications. Our goal is not to judge that any particular potential is \"the best\" because the best interatomic potential may depend on the problem being considered. For example, some interatomic potentials which have been fit only to the properties of solid phases may model solid surface properties better than one fit with solid and liquid properties. However, the second potential will probably better represent properties which have a strong liquid contribution (e.g. crystal-melt interfacial properties). Additionally, we are not limiting the repository to a single class of material (e.g. metals), interatomic potential format (e.g. Embedded-Atom Method), or software package. As we obtain interatomic potentials for other materials or in other formats, we will include them with proper website modifications.</div>"
      ],
      "text/plain": [
       "<IPython.core.display.HTML object>"
      ]
     },
     "metadata": {},
     "output_type": "display_data"
    },
    {
     "data": {
      "text/html": [
       "<div xmlns=\"http://www.w3.org/TR/xhtml1/strict\"><b>Question: What are the potential formats?</b><br/>Answer: <b>Due to the range of formats, we are not able to guarantee that the interatomic potentials will work with particular software packages. Rather, we provide the interatomic potentials with appropriate citation information, and it is up to the user to determine whether a potential will work with given software and produce the expected results.</b></p>  <p>Steve Plimpton has a very nice description of various potential and file  formats on the <a href=\"http://lammps.sandia.gov/doc/pair_style.html\" class=\"external\">LAMMPS website</a>. These include the <b>Embedded-atom method (EAM) funcfl</b> and <b>setfl</b> formats, <b>Finnis-Sinclair</b> potentials, and <b>Modified embedded-atom method (MEAM)</b> potentials. More detailed information can be found there.   In addition to LAMMPS, the EAM funcfl and setfl formats are compatible with DYNAMO, the molecular dynamics program developed by Daw, et al. <a href=\"faq.html#Daw\">(1)</a>, though recent versions of LAMMPS have made some modifications to the header information.   The EAM/FS format was designed for use of Finnis-Sinclair <a href=\"faq.html#FS\">(2)</a> interatomic potentials within LAMMPS.</p>  <p>The <a name=\"IMD\" href=\"http://www.itap.physik.uni-stuttgart.de/~imd/\" class=\"external\">IMD molecular dynamics program</a> also supports a range of interatomic potential types and formats.  The file formats are described in the user guide found at <a href=\"http://www.itap.physik.uni-stuttgart.de/~imd/userguide/potformat.html\" class=\"external\">http://www.itap.physik.uni-stuttgart.de/~imd/userguide/potformat.html</a>.   <p><b><u><a name=\"SPaSM\">SPaSM:</a></u></b></p> <p>SPaSM TABLE files have the following format:<br>  * LINE  1 : Number of particle types,  Number of tables per particle (this number should be set to 6 for 1 particle type)<br>  *  -- Begin Table 0 -- <br>  *  LINE 2 : I   J   0     (Table 0 for pair(I,J)) <br>  *  LINE 3 : Number of grid points N <br>  *  LINE 4 : R_start   R_Cutoff <br>  *   R.start   n.nnnn <br>  *      ... <br>  *   R_Cutoff  n.nnnn <br> * <br>  **  -- Begin Table 1-- <br>  *  LINE 1 : I   J   1     (Table 1 for electron density function rho(I,J)) <br>  *  LINE 2 : Number of grid points N <br>  *  LINE 3 : R_start   R_Cutoff <br>  *   R.start   n.nnnn <br>  *    ... <br>  *   R_Cutoff  n.nnnn <br> * <br> *  -- Begin Table 2 -- <br>  *  1 : I   J   2     (Table 2 for embedding function F(I,J)) <br>  *  2 : Number of grid points N <br>  *  3 : rho_start   rho_Cutoff <br>  *    rho.start   n.nnnn <br>  *                ... <br>  *    rho_Cutoff  n.nnnn <br> ------------------------------------------------------------------------------------------------ <br> <br> The number of tables per particle should be set to 6 per type: since the input data is converted into the following internal tables <br>  *    Table   function <br> ---------------------------------------------------------------------------------------------- <br>  *         0  = Phi(r)         - Tabulated in terms of r <br>  *         1  = rho(r)           - Tabulated in terms of r <br>  *         2  = F(p)           - Tabulated in terms of p <br>  *         3  = Phi'(r)/r      - Tabulated in r <br>  *         4  = rho'(r)/r        - Tabulated in r <br>  *         5  = F'(p)          - Tabulated in p <br> <br> <p>SPaSM formatting information courtesy of Ramon Ravelo (U. Texas El Paso).  <p><b><u>Modified Embedded-Atom Method (MEAM):</u></b></p> <p> The <b><a name=\"MEAM\">\"Modified Embedded-Atom Method\"</a></b> or <b>\"MEAM\"</b> format extends the embedded-atom method to include angularly-dependent forces.  The original MEAM references (including  functional forms) are:<br> M.I. Baskes, \"Application of the embedded-atom method to covalent materials: A semiempirical potential for silicon,\" Phys. Rev. Lett. <b>59</b>, 2666-2669 (1987).<br> M.I. Baskes, \"Modified embedded-atom potentials for cubic materials and impurities,\" Phys. Rev. B <b>46</b>, 2727 - 2742 (1992).<br> Additional information can be found on the <a href=\"http://lammps.sandia.gov/doc/pair_meam.html\" class=\"external\">LAMMPS website</a>.  </p>  <p><b><u>Angular-Dependent Potential (ADP):</u></b></p> <p>The <b><a name=\"ADP\">\"Angular-Dependent Potential\"</a></b> or <b>\"ADP\"</b> format also extends the embedded-atom method to include angularly-dependent forces.  More information (including equations) c an be found in the following reference: Y. Mishin, M.J. Mehl, and D.A. Papaconstantopoulos, \"Phase stability in the Fe-Ni system: Investigation by first-principles calculations and atomistic simulations,\" Acta Mat. <b>53</b>, 4029 (2005).  DOI :10.1016/j.actamat.2005.05.001.<br> Prof. Mishin requested the following note be included:          \"The equation appearing in the Appendix on page 4040 contains a typing error: the sign before 1/3 in the last line must be negative.\"         He provided the corrected equation for the angular-dependent force contributions in <a href=\"./Download/Fe-Ni-YM/ADP_Forces.jpg\">ADP_Forces.jpg</a> or          <a href=\"./Download/Fe-Ni-YM/ADP_Forces.pdf\">ADP_Forces.pdf</a>.<br> <b>\"ADP tabulated functions\"</b> are pairs of (x,f(x)) values as described in the headers of those files. </p>  <p><b><u><a name=\"GULP\">GULP:</a></u></b></p> <p>More information about the <b>\"GULP\"</b> format is available at <a href=\"http://nanochemistry.curtin.edu.au/gulp/\" class=\"external\">http://nanochemistry.curtin.edu.au/gulp/</a>. </p>  <p><b><u>MoldyPSI:</u></b></p> <p>The <b><a name=\"MoldyPSI\">\"MoldyPSI\"</a></b> format combines a parameter file with the Fortran90 routines to calculate the EAM functions and their derivatives. </p>  <p><b><u>Table:</u></b></p> <p>The <b>\"table\"</b> formats are described in the headers of the files.  They are pairs of (x,f(x)) values such as (&rho;,F(&rho;)) as described in the references associated with each interatomic potential.</p></div>"
      ],
      "text/plain": [
       "<IPython.core.display.HTML object>"
      ]
     },
     "metadata": {},
     "output_type": "display_data"
    },
    {
     "data": {
      "text/html": [
       "<div xmlns=\"http://www.w3.org/TR/xhtml1/strict\"><b>Question: I've downloaded a file and plotted it, but the graphs don't look like the figures in the paper.  Why?</b><br/>Answer: There can be several reasons for this.  One is file formatting.   Different developers and software packages use different data and file formats to present their interatomic potentials.</p>  <p>Even with the same file/data format, invariant transformations in the EAM format mean that different parameterizations of the interatomic potentials can look completely different but yield the same physical properties.  This is especially true for alloys.  The issue of invariant transformations is discussed in several places.  Among them are: </p> <UL> <LI>Y. Mishin, \"Interatomic potentials for metals,\" in <em>Handbook of Materials Modeling</em>, edited by S. Yip (Springer, Dordrect, The Netherlands, 2005), Chap. 2.2, pp. 459-478. <LI>A.E. Carlsson, \"Beyond pair potentials in elemental transition metals and semiconductors,\" in <em>Solid State Physics</em>, Volume 43, Ehrenreich and Turnbull (eds.) (1990). </UL> To compare different EAM interatomic potentials, the <em>effective pair format</em> should be used.</div>"
      ],
      "text/plain": [
       "<IPython.core.display.HTML object>"
      ]
     },
     "metadata": {},
     "output_type": "display_data"
    },
    {
     "data": {
      "text/html": [
       "<div xmlns=\"http://www.w3.org/TR/xhtml1/strict\"><b>Question: Where can I download the LAMMPS molecular dynamics software package?</b><br/>Answer: <a href=\"http://lammps.sandia.gov\" class=\"external\">LAMMPS</a> (Large-scale Atomic/Molecular Massively Parallel Simulator) is developed and maintained at  <a href=\"http://www.sandia.gov\" class=\"external\">Sandia National Laboratories</a>.</div>"
      ],
      "text/plain": [
       "<IPython.core.display.HTML object>"
      ]
     },
     "metadata": {},
     "output_type": "display_data"
    },
    {
     "data": {
      "text/html": [
       "<div xmlns=\"http://www.w3.org/TR/xhtml1/strict\"><b>Question: I have included the NIST repository website address (http://www.ctcms.nist.gov/potentials) in my manuscript.  What do I do now?</b><br/>Answer: Please send an email to potentials@nist.gov which includes the publication information.  This will be used to create a list of papers citing the website in order to help us better understand  how the website is being used</div>"
      ],
      "text/plain": [
       "<IPython.core.display.HTML object>"
      ]
     },
     "metadata": {},
     "output_type": "display_data"
    },
    {
     "data": {
      "text/html": [
       "<div xmlns=\"http://www.w3.org/TR/xhtml1/strict\"><b>Question: I have downloaded an interatomic potential and wish to acknowledge the website in the references.  How do I do that?</b><br/>Answer: In addition to the citation information for the interatomic potential, please include \"NIST Interatomic Potentials Repository: http://www.ctcms.nist.gov/potentials\" in the references.</div>"
      ],
      "text/plain": [
       "<IPython.core.display.HTML object>"
      ]
     },
     "metadata": {},
     "output_type": "display_data"
    },
    {
     "data": {
      "text/html": [
       "<div xmlns=\"http://www.w3.org/TR/xhtml1/strict\"><b>Question: I have developed a new interatomic potential, and I would like to have it posted.  How do I do that?</b><br/>Answer: Send the potential to potentials@nist.gov with format and citation information.  A prototype page will be created that will be posted publicly upon the approval of the submitter.</div>"
      ],
      "text/plain": [
       "<IPython.core.display.HTML object>"
      ]
     },
     "metadata": {},
     "output_type": "display_data"
    }
   ],
   "source": [
    "for i in range(len(faqs)):\n",
    "    faqs[i].html(render=True)"
   ]
  },
  {
   "cell_type": "markdown",
   "metadata": {},
   "source": [
    "## Citation"
   ]
  },
  {
   "cell_type": "code",
   "execution_count": 7,
   "metadata": {},
   "outputs": [
    {
     "name": "stdout",
     "output_type": "stream",
     "text": [
      "Found 362 matching Citation records in local library\n",
      "Found 362 matching Citation records in remote library\n",
      " - 0 remote records are new\n"
     ]
    },
    {
     "data": {
      "text/html": [
       "<div>\n",
       "<style scoped>\n",
       "    .dataframe tbody tr th:only-of-type {\n",
       "        vertical-align: middle;\n",
       "    }\n",
       "\n",
       "    .dataframe tbody tr th {\n",
       "        vertical-align: top;\n",
       "    }\n",
       "\n",
       "    .dataframe thead th {\n",
       "        text-align: right;\n",
       "    }\n",
       "</style>\n",
       "<table border=\"1\" class=\"dataframe\">\n",
       "  <thead>\n",
       "    <tr style=\"text-align: right;\">\n",
       "      <th></th>\n",
       "      <th>name</th>\n",
       "      <th>year_authors</th>\n",
       "      <th>year</th>\n",
       "      <th>volume</th>\n",
       "      <th>url</th>\n",
       "      <th>title</th>\n",
       "      <th>publisher</th>\n",
       "      <th>pages</th>\n",
       "      <th>number</th>\n",
       "      <th>month</th>\n",
       "      <th>...</th>\n",
       "      <th>doi</th>\n",
       "      <th>author</th>\n",
       "      <th>abstract</th>\n",
       "      <th>ENTRYTYPE</th>\n",
       "      <th>ID</th>\n",
       "      <th>numpages</th>\n",
       "      <th>note</th>\n",
       "      <th>day</th>\n",
       "      <th>booktitle</th>\n",
       "      <th>address</th>\n",
       "    </tr>\n",
       "  </thead>\n",
       "  <tbody>\n",
       "    <tr>\n",
       "      <th>0</th>\n",
       "      <td>10.1002_adem.200700047</td>\n",
       "      <td>2007--Paduraru-A-Kenoufi-A-Bailey-N-P-Schiotz-J</td>\n",
       "      <td>2007</td>\n",
       "      <td>9</td>\n",
       "      <td>https://doi.org/10.1002%2Fadem.200700047</td>\n",
       "      <td>An Interatomic Potential for Studying CuZr Bul...</td>\n",
       "      <td>Wiley</td>\n",
       "      <td>505--508</td>\n",
       "      <td>6</td>\n",
       "      <td>jun</td>\n",
       "      <td>...</td>\n",
       "      <td>10.1002/adem.200700047</td>\n",
       "      <td>Anca Pǎduraru and Abder Kenoufi and Nicholas P...</td>\n",
       "      <td>Glass forming ability has been found in only a...</td>\n",
       "      <td>article</td>\n",
       "      <td>P_duraru_2007</td>\n",
       "      <td>NaN</td>\n",
       "      <td>NaN</td>\n",
       "      <td>NaN</td>\n",
       "      <td>NaN</td>\n",
       "      <td>NaN</td>\n",
       "    </tr>\n",
       "    <tr>\n",
       "      <th>1</th>\n",
       "      <td>10.1002_jcc.23949</td>\n",
       "      <td>2015--Zhou-X-W-Ward-D-K-Foster-M-E</td>\n",
       "      <td>2015</td>\n",
       "      <td>36</td>\n",
       "      <td>https://doi.org/10.1002%2Fjcc.23949</td>\n",
       "      <td>An analytical bond-order potential for carbon</td>\n",
       "      <td>Wiley</td>\n",
       "      <td>1719--1735</td>\n",
       "      <td>23</td>\n",
       "      <td>may</td>\n",
       "      <td>...</td>\n",
       "      <td>10.1002/jcc.23949</td>\n",
       "      <td>X. W. Zhou and D. K. Ward and M. E. Foster</td>\n",
       "      <td>Carbon is the most widely studied material tod...</td>\n",
       "      <td>article</td>\n",
       "      <td>Zhou_2015</td>\n",
       "      <td>NaN</td>\n",
       "      <td>NaN</td>\n",
       "      <td>NaN</td>\n",
       "      <td>NaN</td>\n",
       "      <td>NaN</td>\n",
       "    </tr>\n",
       "    <tr>\n",
       "      <th>2</th>\n",
       "      <td>10.1002_jcc.25573</td>\n",
       "      <td>2018--Zhou-X-W-Foster-M-E-Sills-R-B</td>\n",
       "      <td>2018</td>\n",
       "      <td>39</td>\n",
       "      <td>https://doi.org/10.1002%2Fjcc.25573</td>\n",
       "      <td>An Fe-Ni-Cr embedded atom method potential for...</td>\n",
       "      <td>Wiley</td>\n",
       "      <td>2420--2431</td>\n",
       "      <td>29</td>\n",
       "      <td>oct</td>\n",
       "      <td>...</td>\n",
       "      <td>10.1002/jcc.25573</td>\n",
       "      <td>Xiaowang W. Zhou and Michael E. Foster and Rya...</td>\n",
       "      <td>Fe‐Ni‐Cr stainless‐steels are important struct...</td>\n",
       "      <td>article</td>\n",
       "      <td>Zhou_2018</td>\n",
       "      <td>NaN</td>\n",
       "      <td>NaN</td>\n",
       "      <td>NaN</td>\n",
       "      <td>NaN</td>\n",
       "      <td>NaN</td>\n",
       "    </tr>\n",
       "    <tr>\n",
       "      <th>3</th>\n",
       "      <td>10.1002_pssb.201147137</td>\n",
       "      <td>2011--Du-Y-A-Lenosky-T-J-Hennig-R-G-et-al</td>\n",
       "      <td>2011</td>\n",
       "      <td>248</td>\n",
       "      <td>https://doi.org/10.1002%2Fpssb.201147137</td>\n",
       "      <td>Energy landscape of silicon tetra-interstitial...</td>\n",
       "      <td>Wiley</td>\n",
       "      <td>2050-2055</td>\n",
       "      <td>9</td>\n",
       "      <td>jun</td>\n",
       "      <td>...</td>\n",
       "      <td>10.1002/pssb.201147137</td>\n",
       "      <td>Yaojun A. Du and Thomas J. Lenosky and Richard...</td>\n",
       "      <td>Mobile single interstitials can grow into exte...</td>\n",
       "      <td>article</td>\n",
       "      <td>Du_2011</td>\n",
       "      <td>NaN</td>\n",
       "      <td>NaN</td>\n",
       "      <td>NaN</td>\n",
       "      <td>NaN</td>\n",
       "      <td>NaN</td>\n",
       "    </tr>\n",
       "    <tr>\n",
       "      <th>4</th>\n",
       "      <td>10.1007_s00161-009-0109-1</td>\n",
       "      <td>2009--Guthikonda-V-S-Elliott-R-S</td>\n",
       "      <td>2009</td>\n",
       "      <td>21</td>\n",
       "      <td>https://doi.org/10.1007%2Fs00161-009-0109-1</td>\n",
       "      <td>An effective interaction potential model for t...</td>\n",
       "      <td>Springer Science and Business Media LLC</td>\n",
       "      <td>269--295</td>\n",
       "      <td>4</td>\n",
       "      <td>jul</td>\n",
       "      <td>...</td>\n",
       "      <td>10.1007/s00161-009-0109-1</td>\n",
       "      <td>Venkata Suresh Guthikonda and Ryan S. Elliott</td>\n",
       "      <td>The unusual properties of shape memory alloys ...</td>\n",
       "      <td>article</td>\n",
       "      <td>Guthikonda_2009</td>\n",
       "      <td>NaN</td>\n",
       "      <td>NaN</td>\n",
       "      <td>NaN</td>\n",
       "      <td>NaN</td>\n",
       "      <td>NaN</td>\n",
       "    </tr>\n",
       "    <tr>\n",
       "      <th>...</th>\n",
       "      <td>...</td>\n",
       "      <td>...</td>\n",
       "      <td>...</td>\n",
       "      <td>...</td>\n",
       "      <td>...</td>\n",
       "      <td>...</td>\n",
       "      <td>...</td>\n",
       "      <td>...</td>\n",
       "      <td>...</td>\n",
       "      <td>...</td>\n",
       "      <td>...</td>\n",
       "      <td>...</td>\n",
       "      <td>...</td>\n",
       "      <td>...</td>\n",
       "      <td>...</td>\n",
       "      <td>...</td>\n",
       "      <td>...</td>\n",
       "      <td>...</td>\n",
       "      <td>...</td>\n",
       "      <td>...</td>\n",
       "      <td>...</td>\n",
       "    </tr>\n",
       "    <tr>\n",
       "      <th>357</th>\n",
       "      <td>2018--s-a-etesami-m-i-baskes-m-laradji-et-al--...</td>\n",
       "      <td>2018--Etesami-S-A-Baskes-M-I-Laradji-M-Asadi-E</td>\n",
       "      <td>2018</td>\n",
       "      <td>NaN</td>\n",
       "      <td>NaN</td>\n",
       "      <td>to be published</td>\n",
       "      <td>NaN</td>\n",
       "      <td>NaN</td>\n",
       "      <td>NaN</td>\n",
       "      <td>NaN</td>\n",
       "      <td>...</td>\n",
       "      <td>NaN</td>\n",
       "      <td>Seyed Alireza Etesami and Michael I. Baskes an...</td>\n",
       "      <td>NaN</td>\n",
       "      <td>unpublished</td>\n",
       "      <td>2018--S-A-Etesami-M-I-Baskes-M-Laradji-et-al--...</td>\n",
       "      <td>NaN</td>\n",
       "      <td>2018--S-A-Etesami-M-I-Baskes-M-Laradji-et-al--...</td>\n",
       "      <td>NaN</td>\n",
       "      <td>NaN</td>\n",
       "      <td>NaN</td>\n",
       "    </tr>\n",
       "    <tr>\n",
       "      <th>358</th>\n",
       "      <td>2019--m-i-mendelev--cu-zr</td>\n",
       "      <td>2019--Mendelev-M-I</td>\n",
       "      <td>2019</td>\n",
       "      <td>NaN</td>\n",
       "      <td>NaN</td>\n",
       "      <td>to be published</td>\n",
       "      <td>NaN</td>\n",
       "      <td>NaN</td>\n",
       "      <td>NaN</td>\n",
       "      <td>NaN</td>\n",
       "      <td>...</td>\n",
       "      <td>NaN</td>\n",
       "      <td>M.I. Mendelev</td>\n",
       "      <td>NaN</td>\n",
       "      <td>unpublished</td>\n",
       "      <td>2019--M-I-Mendelev--Cu-Zr</td>\n",
       "      <td>NaN</td>\n",
       "      <td>2019--M-I-Mendelev--Cu-Zr</td>\n",
       "      <td>NaN</td>\n",
       "      <td>NaN</td>\n",
       "      <td>NaN</td>\n",
       "    </tr>\n",
       "    <tr>\n",
       "      <th>359</th>\n",
       "      <td>2019--m-i-mendelev--fe-ni-cr</td>\n",
       "      <td>2019--Mendelev-M-I</td>\n",
       "      <td>2019</td>\n",
       "      <td>NaN</td>\n",
       "      <td>NaN</td>\n",
       "      <td>to be published</td>\n",
       "      <td>NaN</td>\n",
       "      <td>NaN</td>\n",
       "      <td>NaN</td>\n",
       "      <td>NaN</td>\n",
       "      <td>...</td>\n",
       "      <td>NaN</td>\n",
       "      <td>M.I. Mendelev</td>\n",
       "      <td>NaN</td>\n",
       "      <td>unpublished</td>\n",
       "      <td>2019--M-I-Mendelev--Fe-Ni-Cr</td>\n",
       "      <td>NaN</td>\n",
       "      <td>2019--M-I-Mendelev--Fe-Ni-Cr</td>\n",
       "      <td>NaN</td>\n",
       "      <td>NaN</td>\n",
       "      <td>NaN</td>\n",
       "    </tr>\n",
       "    <tr>\n",
       "      <th>360</th>\n",
       "      <td>2021--mendelev-m--al-sm</td>\n",
       "      <td>2021--Mendelev-M</td>\n",
       "      <td>2021</td>\n",
       "      <td>NaN</td>\n",
       "      <td>NaN</td>\n",
       "      <td>to be published</td>\n",
       "      <td>NaN</td>\n",
       "      <td>NaN</td>\n",
       "      <td>NaN</td>\n",
       "      <td>NaN</td>\n",
       "      <td>...</td>\n",
       "      <td>NaN</td>\n",
       "      <td>Mikhail Mendelev</td>\n",
       "      <td>NaN</td>\n",
       "      <td>unpublished</td>\n",
       "      <td>2021--Mendelev-M--Al-Sm</td>\n",
       "      <td>NaN</td>\n",
       "      <td>2021--Mendelev-M--Al-Sm</td>\n",
       "      <td>NaN</td>\n",
       "      <td>NaN</td>\n",
       "      <td>NaN</td>\n",
       "    </tr>\n",
       "    <tr>\n",
       "      <th>361</th>\n",
       "      <td>2021--mendelev-m-i--fe</td>\n",
       "      <td>2021--Mendelev-M-I</td>\n",
       "      <td>2021</td>\n",
       "      <td>NaN</td>\n",
       "      <td>NaN</td>\n",
       "      <td>to be published</td>\n",
       "      <td>NaN</td>\n",
       "      <td>NaN</td>\n",
       "      <td>NaN</td>\n",
       "      <td>NaN</td>\n",
       "      <td>...</td>\n",
       "      <td>NaN</td>\n",
       "      <td>M. I. Mendelev</td>\n",
       "      <td>NaN</td>\n",
       "      <td>unpublished</td>\n",
       "      <td>2021--Mendelev-M-I--Fe</td>\n",
       "      <td>NaN</td>\n",
       "      <td>2021--Mendelev-M-I--Fe</td>\n",
       "      <td>NaN</td>\n",
       "      <td>NaN</td>\n",
       "      <td>NaN</td>\n",
       "    </tr>\n",
       "  </tbody>\n",
       "</table>\n",
       "<p>362 rows × 21 columns</p>\n",
       "</div>"
      ],
      "text/plain": [
       "                                                  name  \\\n",
       "0                               10.1002_adem.200700047   \n",
       "1                                    10.1002_jcc.23949   \n",
       "2                                    10.1002_jcc.25573   \n",
       "3                               10.1002_pssb.201147137   \n",
       "4                            10.1007_s00161-009-0109-1   \n",
       "..                                                 ...   \n",
       "357  2018--s-a-etesami-m-i-baskes-m-laradji-et-al--...   \n",
       "358                          2019--m-i-mendelev--cu-zr   \n",
       "359                       2019--m-i-mendelev--fe-ni-cr   \n",
       "360                            2021--mendelev-m--al-sm   \n",
       "361                             2021--mendelev-m-i--fe   \n",
       "\n",
       "                                        year_authors  year volume  \\\n",
       "0    2007--Paduraru-A-Kenoufi-A-Bailey-N-P-Schiotz-J  2007      9   \n",
       "1                 2015--Zhou-X-W-Ward-D-K-Foster-M-E  2015     36   \n",
       "2                2018--Zhou-X-W-Foster-M-E-Sills-R-B  2018     39   \n",
       "3          2011--Du-Y-A-Lenosky-T-J-Hennig-R-G-et-al  2011    248   \n",
       "4                   2009--Guthikonda-V-S-Elliott-R-S  2009     21   \n",
       "..                                               ...   ...    ...   \n",
       "357   2018--Etesami-S-A-Baskes-M-I-Laradji-M-Asadi-E  2018    NaN   \n",
       "358                               2019--Mendelev-M-I  2019    NaN   \n",
       "359                               2019--Mendelev-M-I  2019    NaN   \n",
       "360                                 2021--Mendelev-M  2021    NaN   \n",
       "361                               2021--Mendelev-M-I  2021    NaN   \n",
       "\n",
       "                                             url  \\\n",
       "0       https://doi.org/10.1002%2Fadem.200700047   \n",
       "1            https://doi.org/10.1002%2Fjcc.23949   \n",
       "2            https://doi.org/10.1002%2Fjcc.25573   \n",
       "3       https://doi.org/10.1002%2Fpssb.201147137   \n",
       "4    https://doi.org/10.1007%2Fs00161-009-0109-1   \n",
       "..                                           ...   \n",
       "357                                          NaN   \n",
       "358                                          NaN   \n",
       "359                                          NaN   \n",
       "360                                          NaN   \n",
       "361                                          NaN   \n",
       "\n",
       "                                                 title  \\\n",
       "0    An Interatomic Potential for Studying CuZr Bul...   \n",
       "1        An analytical bond-order potential for carbon   \n",
       "2    An Fe-Ni-Cr embedded atom method potential for...   \n",
       "3    Energy landscape of silicon tetra-interstitial...   \n",
       "4    An effective interaction potential model for t...   \n",
       "..                                                 ...   \n",
       "357                                    to be published   \n",
       "358                                    to be published   \n",
       "359                                    to be published   \n",
       "360                                    to be published   \n",
       "361                                    to be published   \n",
       "\n",
       "                                   publisher       pages number month  ...  \\\n",
       "0                                      Wiley    505--508      6   jun  ...   \n",
       "1                                      Wiley  1719--1735     23   may  ...   \n",
       "2                                      Wiley  2420--2431     29   oct  ...   \n",
       "3                                      Wiley   2050-2055      9   jun  ...   \n",
       "4    Springer Science and Business Media LLC    269--295      4   jul  ...   \n",
       "..                                       ...         ...    ...   ...  ...   \n",
       "357                                      NaN         NaN    NaN   NaN  ...   \n",
       "358                                      NaN         NaN    NaN   NaN  ...   \n",
       "359                                      NaN         NaN    NaN   NaN  ...   \n",
       "360                                      NaN         NaN    NaN   NaN  ...   \n",
       "361                                      NaN         NaN    NaN   NaN  ...   \n",
       "\n",
       "                           doi  \\\n",
       "0       10.1002/adem.200700047   \n",
       "1            10.1002/jcc.23949   \n",
       "2            10.1002/jcc.25573   \n",
       "3       10.1002/pssb.201147137   \n",
       "4    10.1007/s00161-009-0109-1   \n",
       "..                         ...   \n",
       "357                        NaN   \n",
       "358                        NaN   \n",
       "359                        NaN   \n",
       "360                        NaN   \n",
       "361                        NaN   \n",
       "\n",
       "                                                author  \\\n",
       "0    Anca Pǎduraru and Abder Kenoufi and Nicholas P...   \n",
       "1           X. W. Zhou and D. K. Ward and M. E. Foster   \n",
       "2    Xiaowang W. Zhou and Michael E. Foster and Rya...   \n",
       "3    Yaojun A. Du and Thomas J. Lenosky and Richard...   \n",
       "4        Venkata Suresh Guthikonda and Ryan S. Elliott   \n",
       "..                                                 ...   \n",
       "357  Seyed Alireza Etesami and Michael I. Baskes an...   \n",
       "358                                      M.I. Mendelev   \n",
       "359                                      M.I. Mendelev   \n",
       "360                                   Mikhail Mendelev   \n",
       "361                                     M. I. Mendelev   \n",
       "\n",
       "                                              abstract    ENTRYTYPE  \\\n",
       "0    Glass forming ability has been found in only a...      article   \n",
       "1    Carbon is the most widely studied material tod...      article   \n",
       "2    Fe‐Ni‐Cr stainless‐steels are important struct...      article   \n",
       "3    Mobile single interstitials can grow into exte...      article   \n",
       "4    The unusual properties of shape memory alloys ...      article   \n",
       "..                                                 ...          ...   \n",
       "357                                                NaN  unpublished   \n",
       "358                                                NaN  unpublished   \n",
       "359                                                NaN  unpublished   \n",
       "360                                                NaN  unpublished   \n",
       "361                                                NaN  unpublished   \n",
       "\n",
       "                                                    ID numpages  \\\n",
       "0                                        P_duraru_2007      NaN   \n",
       "1                                            Zhou_2015      NaN   \n",
       "2                                            Zhou_2018      NaN   \n",
       "3                                              Du_2011      NaN   \n",
       "4                                      Guthikonda_2009      NaN   \n",
       "..                                                 ...      ...   \n",
       "357  2018--S-A-Etesami-M-I-Baskes-M-Laradji-et-al--...      NaN   \n",
       "358                          2019--M-I-Mendelev--Cu-Zr      NaN   \n",
       "359                       2019--M-I-Mendelev--Fe-Ni-Cr      NaN   \n",
       "360                            2021--Mendelev-M--Al-Sm      NaN   \n",
       "361                             2021--Mendelev-M-I--Fe      NaN   \n",
       "\n",
       "                                                  note  day booktitle address  \n",
       "0                                                  NaN  NaN       NaN     NaN  \n",
       "1                                                  NaN  NaN       NaN     NaN  \n",
       "2                                                  NaN  NaN       NaN     NaN  \n",
       "3                                                  NaN  NaN       NaN     NaN  \n",
       "4                                                  NaN  NaN       NaN     NaN  \n",
       "..                                                 ...  ...       ...     ...  \n",
       "357  2018--S-A-Etesami-M-I-Baskes-M-Laradji-et-al--...  NaN       NaN     NaN  \n",
       "358                          2019--M-I-Mendelev--Cu-Zr  NaN       NaN     NaN  \n",
       "359                       2019--M-I-Mendelev--Fe-Ni-Cr  NaN       NaN     NaN  \n",
       "360                            2021--Mendelev-M--Al-Sm  NaN       NaN     NaN  \n",
       "361                             2021--Mendelev-M-I--Fe  NaN       NaN     NaN  \n",
       "\n",
       "[362 rows x 21 columns]"
      ]
     },
     "execution_count": 7,
     "metadata": {},
     "output_type": "execute_result"
    }
   ],
   "source": [
    "citations, citations_df = potdb.get_citations(return_df=True, verbose=True)\n",
    "citations_df"
   ]
  },
  {
   "cell_type": "code",
   "execution_count": 8,
   "metadata": {},
   "outputs": [
    {
     "data": {
      "text/html": [
       "<div><div class=\"citation\"><b>Citation: </b>A. P&#462;duraru, A. Kenoufi, N.P. Bailey, and J. Schi&#248;tz (2007), \"An Interatomic Potential for Studying CuZr Bulk Metallic Glasses\", <i>Advanced Engineering Materials</i>, <b>9(6)</b>, 505-508. DOI: <a href=\"https://doi.org/10.1002/adem.200700047\" class=\"external\">10.1002/adem.200700047</a>.<br/></div><div class=\"abstract\"><b>Abstract: </b>Glass forming ability has been found in only a small number of binary alloys, one being CuZr. In order to simulate this glass, we fitted an interatomic potential within Effective Medium Theory (EMT). For this purpose we use basic properties of the B2 crystal structure as calculated from Density Functional Theory (DFT) or obtained from experiments. We then performed Molecular Dynamics (MD) simulations of the cooling process and studied the thermodynamics and structure of CuZr glass. We find that the potential gives a good description of the CuZr glass, with a glass transition temperature and elastic constants close to the experimental values. The local atomic order, as witnessed by the radial distribution function, is also consistent with similar experimental data.</div></div>"
      ],
      "text/plain": [
       "<IPython.core.display.HTML object>"
      ]
     },
     "metadata": {},
     "output_type": "display_data"
    }
   ],
   "source": [
    "citations[0].html(render=True)"
   ]
  },
  {
   "cell_type": "markdown",
   "metadata": {},
   "source": [
    "## Potential"
   ]
  },
  {
   "cell_type": "code",
   "execution_count": 9,
   "metadata": {},
   "outputs": [
    {
     "name": "stdout",
     "output_type": "stream",
     "text": [
      "Found 649 matching Potential records in local library\n",
      "Found 649 matching Potential records in remote library\n",
      " - 0 remote records are new\n"
     ]
    },
    {
     "data": {
      "text/html": [
       "<div>\n",
       "<style scoped>\n",
       "    .dataframe tbody tr th:only-of-type {\n",
       "        vertical-align: middle;\n",
       "    }\n",
       "\n",
       "    .dataframe tbody tr th {\n",
       "        vertical-align: top;\n",
       "    }\n",
       "\n",
       "    .dataframe thead th {\n",
       "        text-align: right;\n",
       "    }\n",
       "</style>\n",
       "<table border=\"1\" class=\"dataframe\">\n",
       "  <thead>\n",
       "    <tr style=\"text-align: right;\">\n",
       "      <th></th>\n",
       "      <th>name</th>\n",
       "      <th>key</th>\n",
       "      <th>id</th>\n",
       "      <th>recorddate</th>\n",
       "      <th>notes</th>\n",
       "      <th>fictional</th>\n",
       "      <th>elements</th>\n",
       "      <th>othername</th>\n",
       "      <th>modelname</th>\n",
       "      <th>citations</th>\n",
       "      <th>implementations</th>\n",
       "    </tr>\n",
       "  </thead>\n",
       "  <tbody>\n",
       "    <tr>\n",
       "      <th>0</th>\n",
       "      <td>potential.1958--Bernardes-N--Ar</td>\n",
       "      <td>24c37060-bdcd-47a9-ba96-33efe0691930</td>\n",
       "      <td>1958--Bernardes-N--Ar</td>\n",
       "      <td>2019-08-08</td>\n",
       "      <td>NaN</td>\n",
       "      <td>0</td>\n",
       "      <td>[Ar]</td>\n",
       "      <td>NaN</td>\n",
       "      <td>NaN</td>\n",
       "      <td>[{'name': '10.1103_physrev.112.1534', 'year_au...</td>\n",
       "      <td>[{'key': '70bc5886-6004-4ef3-bf14-2a1b8e4cd564...</td>\n",
       "    </tr>\n",
       "    <tr>\n",
       "      <th>1</th>\n",
       "      <td>potential.1958--Bernardes-N--Kr</td>\n",
       "      <td>e62cbc12-99ba-469b-8d4e-e26ad40cb15a</td>\n",
       "      <td>1958--Bernardes-N--Kr</td>\n",
       "      <td>2019-08-08</td>\n",
       "      <td>NaN</td>\n",
       "      <td>0</td>\n",
       "      <td>[Kr]</td>\n",
       "      <td>NaN</td>\n",
       "      <td>NaN</td>\n",
       "      <td>[{'name': '10.1103_physrev.112.1534', 'year_au...</td>\n",
       "      <td>[{'key': 'be07eb49-d6fd-4677-8a6a-6ee6a764fbac...</td>\n",
       "    </tr>\n",
       "    <tr>\n",
       "      <th>2</th>\n",
       "      <td>potential.1958--Bernardes-N--Ne</td>\n",
       "      <td>90c2411b-6b91-41a9-a562-7544e1bea780</td>\n",
       "      <td>1958--Bernardes-N--Ne</td>\n",
       "      <td>2019-08-08</td>\n",
       "      <td>NaN</td>\n",
       "      <td>0</td>\n",
       "      <td>[Ne]</td>\n",
       "      <td>NaN</td>\n",
       "      <td>NaN</td>\n",
       "      <td>[{'name': '10.1103_physrev.112.1534', 'year_au...</td>\n",
       "      <td>[{'key': '72fe01b3-dd55-414f-9183-585eb9c35df3...</td>\n",
       "    </tr>\n",
       "    <tr>\n",
       "      <th>3</th>\n",
       "      <td>potential.1958--Bernardes-N--Xe</td>\n",
       "      <td>d6b56970-f7f5-428a-8830-499e8d0e2715</td>\n",
       "      <td>1958--Bernardes-N--Xe</td>\n",
       "      <td>2019-08-08</td>\n",
       "      <td>NaN</td>\n",
       "      <td>0</td>\n",
       "      <td>[Xe]</td>\n",
       "      <td>NaN</td>\n",
       "      <td>NaN</td>\n",
       "      <td>[{'name': '10.1103_physrev.112.1534', 'year_au...</td>\n",
       "      <td>[{'key': '211bf97c-e643-4a51-9c3e-1252c9cd13c5...</td>\n",
       "    </tr>\n",
       "    <tr>\n",
       "      <th>4</th>\n",
       "      <td>potential.1959--Girifalco-L-A-Weizer-V-G--Ag</td>\n",
       "      <td>ab71e60e-3f45-4eb4-9c92-7feb98f7e168</td>\n",
       "      <td>1959--Girifalco-L-A-Weizer-V-G--Ag</td>\n",
       "      <td>2020-10-08</td>\n",
       "      <td>NaN</td>\n",
       "      <td>0</td>\n",
       "      <td>[Ag]</td>\n",
       "      <td>NaN</td>\n",
       "      <td>NaN</td>\n",
       "      <td>[{'name': '10.1103_physrev.114.687', 'year_aut...</td>\n",
       "      <td>[{'key': '3778a2c6-ee92-4415-baf6-d4427f2d12f6...</td>\n",
       "    </tr>\n",
       "    <tr>\n",
       "      <th>...</th>\n",
       "      <td>...</td>\n",
       "      <td>...</td>\n",
       "      <td>...</td>\n",
       "      <td>...</td>\n",
       "      <td>...</td>\n",
       "      <td>...</td>\n",
       "      <td>...</td>\n",
       "      <td>...</td>\n",
       "      <td>...</td>\n",
       "      <td>...</td>\n",
       "      <td>...</td>\n",
       "    </tr>\n",
       "    <tr>\n",
       "      <th>644</th>\n",
       "      <td>potential.2021--Starikov-S-Smirnova-D-Pradhan-...</td>\n",
       "      <td>48617ddd-9e54-40ad-b65b-3ce6ea580075</td>\n",
       "      <td>2021--Starikov-S-Smirnova-D-Pradhan-T-et-al--Fe</td>\n",
       "      <td>2021-07-06</td>\n",
       "      <td>NaN</td>\n",
       "      <td>0</td>\n",
       "      <td>[Fe]</td>\n",
       "      <td>NaN</td>\n",
       "      <td>NaN</td>\n",
       "      <td>[{'name': '10.1103_physrevmaterials.5.063607',...</td>\n",
       "      <td>[{'key': '0b2e2029-5fde-4e2f-bd96-4e8ea04f3c3c...</td>\n",
       "    </tr>\n",
       "    <tr>\n",
       "      <th>645</th>\n",
       "      <td>potential.2021--Wang-G-Xu-Y-Qian-P-Su-Y--Au-Rh</td>\n",
       "      <td>ccd7fceb-a257-40df-812b-b1326955bff1</td>\n",
       "      <td>2021--Wang-G-Xu-Y-Qian-P-Su-Y--Au-Rh</td>\n",
       "      <td>2020-08-25</td>\n",
       "      <td>NaN</td>\n",
       "      <td>0</td>\n",
       "      <td>[Au, Rh]</td>\n",
       "      <td>NaN</td>\n",
       "      <td>NaN</td>\n",
       "      <td>[{'name': '10.1016_j.commatsci.2020.110002', '...</td>\n",
       "      <td>[{'key': 'f8f52d2e-597d-435a-926a-09f38094b1da...</td>\n",
       "    </tr>\n",
       "    <tr>\n",
       "      <th>646</th>\n",
       "      <td>potential.2021--Wen-M--Fe-H</td>\n",
       "      <td>a32373ef-05b0-419e-b346-6ba5c6b36f61</td>\n",
       "      <td>2021--Wen-M--Fe-H</td>\n",
       "      <td>2021-07-06</td>\n",
       "      <td>NaN</td>\n",
       "      <td>0</td>\n",
       "      <td>[Fe, H]</td>\n",
       "      <td>NaN</td>\n",
       "      <td>NaN</td>\n",
       "      <td>[{'name': '10.1016_j.commatsci.2021.110640', '...</td>\n",
       "      <td>[{'key': 'd45b6e62-e69e-4c4a-b0f4-8a6f147f19f0...</td>\n",
       "    </tr>\n",
       "    <tr>\n",
       "      <th>647</th>\n",
       "      <td>potential.2021--Zhou-H-Dickel-D-E-Baskes-M-I-e...</td>\n",
       "      <td>0aa1b65e-0641-4845-bab6-ca6b0ed589ce</td>\n",
       "      <td>2021--Zhou-H-Dickel-D-E-Baskes-M-I-et-al--Bi</td>\n",
       "      <td>2021-07-16</td>\n",
       "      <td>NaN</td>\n",
       "      <td>0</td>\n",
       "      <td>[Bi]</td>\n",
       "      <td>NaN</td>\n",
       "      <td>NaN</td>\n",
       "      <td>[{'name': '10.1088_1361-651x_ac095c', 'year_au...</td>\n",
       "      <td>[{'key': 'f9f5cd2b-116b-46da-ab68-323810437f0c...</td>\n",
       "    </tr>\n",
       "    <tr>\n",
       "      <th>648</th>\n",
       "      <td>potential.2021--Zhou-X-W-Bartelt-N-C-Sills-R-B...</td>\n",
       "      <td>2541a13a-b398-485a-bf90-e4c48674c601</td>\n",
       "      <td>2021--Zhou-X-W-Bartelt-N-C-Sills-R-B--Pd-H-He</td>\n",
       "      <td>2021-04-01</td>\n",
       "      <td>NaN</td>\n",
       "      <td>0</td>\n",
       "      <td>[Pd, H, He]</td>\n",
       "      <td>NaN</td>\n",
       "      <td>NaN</td>\n",
       "      <td>[{'name': '10.1103_physrevb.103.014108', 'year...</td>\n",
       "      <td>[{'key': 'd220fd7a-1545-4170-9d8e-5a0da105a781...</td>\n",
       "    </tr>\n",
       "  </tbody>\n",
       "</table>\n",
       "<p>649 rows × 11 columns</p>\n",
       "</div>"
      ],
      "text/plain": [
       "                                                  name  \\\n",
       "0                      potential.1958--Bernardes-N--Ar   \n",
       "1                      potential.1958--Bernardes-N--Kr   \n",
       "2                      potential.1958--Bernardes-N--Ne   \n",
       "3                      potential.1958--Bernardes-N--Xe   \n",
       "4         potential.1959--Girifalco-L-A-Weizer-V-G--Ag   \n",
       "..                                                 ...   \n",
       "644  potential.2021--Starikov-S-Smirnova-D-Pradhan-...   \n",
       "645     potential.2021--Wang-G-Xu-Y-Qian-P-Su-Y--Au-Rh   \n",
       "646                        potential.2021--Wen-M--Fe-H   \n",
       "647  potential.2021--Zhou-H-Dickel-D-E-Baskes-M-I-e...   \n",
       "648  potential.2021--Zhou-X-W-Bartelt-N-C-Sills-R-B...   \n",
       "\n",
       "                                      key  \\\n",
       "0    24c37060-bdcd-47a9-ba96-33efe0691930   \n",
       "1    e62cbc12-99ba-469b-8d4e-e26ad40cb15a   \n",
       "2    90c2411b-6b91-41a9-a562-7544e1bea780   \n",
       "3    d6b56970-f7f5-428a-8830-499e8d0e2715   \n",
       "4    ab71e60e-3f45-4eb4-9c92-7feb98f7e168   \n",
       "..                                    ...   \n",
       "644  48617ddd-9e54-40ad-b65b-3ce6ea580075   \n",
       "645  ccd7fceb-a257-40df-812b-b1326955bff1   \n",
       "646  a32373ef-05b0-419e-b346-6ba5c6b36f61   \n",
       "647  0aa1b65e-0641-4845-bab6-ca6b0ed589ce   \n",
       "648  2541a13a-b398-485a-bf90-e4c48674c601   \n",
       "\n",
       "                                                  id  recorddate notes  \\\n",
       "0                              1958--Bernardes-N--Ar  2019-08-08   NaN   \n",
       "1                              1958--Bernardes-N--Kr  2019-08-08   NaN   \n",
       "2                              1958--Bernardes-N--Ne  2019-08-08   NaN   \n",
       "3                              1958--Bernardes-N--Xe  2019-08-08   NaN   \n",
       "4                 1959--Girifalco-L-A-Weizer-V-G--Ag  2020-10-08   NaN   \n",
       "..                                               ...         ...   ...   \n",
       "644  2021--Starikov-S-Smirnova-D-Pradhan-T-et-al--Fe  2021-07-06   NaN   \n",
       "645             2021--Wang-G-Xu-Y-Qian-P-Su-Y--Au-Rh  2020-08-25   NaN   \n",
       "646                                2021--Wen-M--Fe-H  2021-07-06   NaN   \n",
       "647     2021--Zhou-H-Dickel-D-E-Baskes-M-I-et-al--Bi  2021-07-16   NaN   \n",
       "648    2021--Zhou-X-W-Bartelt-N-C-Sills-R-B--Pd-H-He  2021-04-01   NaN   \n",
       "\n",
       "     fictional     elements othername modelname  \\\n",
       "0            0         [Ar]       NaN       NaN   \n",
       "1            0         [Kr]       NaN       NaN   \n",
       "2            0         [Ne]       NaN       NaN   \n",
       "3            0         [Xe]       NaN       NaN   \n",
       "4            0         [Ag]       NaN       NaN   \n",
       "..         ...          ...       ...       ...   \n",
       "644          0         [Fe]       NaN       NaN   \n",
       "645          0     [Au, Rh]       NaN       NaN   \n",
       "646          0      [Fe, H]       NaN       NaN   \n",
       "647          0         [Bi]       NaN       NaN   \n",
       "648          0  [Pd, H, He]       NaN       NaN   \n",
       "\n",
       "                                             citations  \\\n",
       "0    [{'name': '10.1103_physrev.112.1534', 'year_au...   \n",
       "1    [{'name': '10.1103_physrev.112.1534', 'year_au...   \n",
       "2    [{'name': '10.1103_physrev.112.1534', 'year_au...   \n",
       "3    [{'name': '10.1103_physrev.112.1534', 'year_au...   \n",
       "4    [{'name': '10.1103_physrev.114.687', 'year_aut...   \n",
       "..                                                 ...   \n",
       "644  [{'name': '10.1103_physrevmaterials.5.063607',...   \n",
       "645  [{'name': '10.1016_j.commatsci.2020.110002', '...   \n",
       "646  [{'name': '10.1016_j.commatsci.2021.110640', '...   \n",
       "647  [{'name': '10.1088_1361-651x_ac095c', 'year_au...   \n",
       "648  [{'name': '10.1103_physrevb.103.014108', 'year...   \n",
       "\n",
       "                                       implementations  \n",
       "0    [{'key': '70bc5886-6004-4ef3-bf14-2a1b8e4cd564...  \n",
       "1    [{'key': 'be07eb49-d6fd-4677-8a6a-6ee6a764fbac...  \n",
       "2    [{'key': '72fe01b3-dd55-414f-9183-585eb9c35df3...  \n",
       "3    [{'key': '211bf97c-e643-4a51-9c3e-1252c9cd13c5...  \n",
       "4    [{'key': '3778a2c6-ee92-4415-baf6-d4427f2d12f6...  \n",
       "..                                                 ...  \n",
       "644  [{'key': '0b2e2029-5fde-4e2f-bd96-4e8ea04f3c3c...  \n",
       "645  [{'key': 'f8f52d2e-597d-435a-926a-09f38094b1da...  \n",
       "646  [{'key': 'd45b6e62-e69e-4c4a-b0f4-8a6f147f19f0...  \n",
       "647  [{'key': 'f9f5cd2b-116b-46da-ab68-323810437f0c...  \n",
       "648  [{'key': 'd220fd7a-1545-4170-9d8e-5a0da105a781...  \n",
       "\n",
       "[649 rows x 11 columns]"
      ]
     },
     "execution_count": 9,
     "metadata": {},
     "output_type": "execute_result"
    }
   ],
   "source": [
    "potentials, potentials_df = potdb.get_potentials(return_df=True, verbose=True)\n",
    "potentials_df"
   ]
  },
  {
   "cell_type": "code",
   "execution_count": 10,
   "metadata": {},
   "outputs": [
    {
     "name": "stdout",
     "output_type": "stream",
     "text": [
      "<div xmlns=\"http://www.w3.org/TR/xhtml1/strict\"><script src=\"https://www.ctcms.nist.gov/potentials/site/showFiles.js\">//</script><link href=\"https://www.ctcms.nist.gov/potentials/site/bootstrap/css/bootstrap.min.css\" rel=\"stylesheet\"/><link href=\"https://www.ctcms.nist.gov/potentials/site/bootstrap/css/ie10-viewport-bug-workaround.css\" rel=\"stylesheet\"/><div class=\"panel panel-default\"><div class=\"panel-heading\"><h3 class=\"panel-title\">1988--Tersoff-J--C</h3></div><div class=\"panel-body\"><div class=\"citation\"><b>Citation: </b>J. Tersoff (1988), \"Empirical Interatomic Potential for Carbon, with Applications to Amorphous Carbon\", <i>Physical Review Letters</i>, <b>61(25)</b>, 2879-2882. DOI: <a href=\"https://doi.org/10.1103/physrevlett.61.2879\" class=\"external\">10.1103/physrevlett.61.2879</a>.<br/></div><div class=\"abstract\"><b>Abstract: </b>An empirical interatomic potential is introduced, which gives a convenient and relatively accurate description of the structural properties and energetics of carbon, including elastic properties, phonons, polytypes, and defects and migration barriers in diamond and graphite. The potential is applied to study amorphous carbon formed in three different ways. Two resulting structures are similar to experimental <i>a</i>&#8722;C, but another more diamondlike form has essentially identical energy. The liquid is also found to have unexpected properties.</div><br/><div class=\"format\"><b>OpenKIM</b><a href=\"https://www.ctcms.nist.gov/potentials/entry/1988--Tersoff-J--C/MO_579868029681.html\"> (MO_579868029681)</a></div><div class=\"implementation-notes\"><a href=\"https://www.ctcms.nist.gov/potentials/entry/1988--Tersoff-J--C/MO_579868029681.html\"><b>See Computed Properties</b></a><br/><b>Notes: </b>Listing found at https://openkim.org.<br/><b>Link(s): </b><div id=\"9f98642c-3c63-46a2-9656-747913c41c3a\" style=\"display:block\">KIM page <a href=\"https://openkim.org/id/Tersoff_LAMMPS_Tersoff_1988_C__MO_579868029681_002\">Tersoff_LAMMPS_Tersoff_1988_C__MO_579868029681_002</a><br/>DOI <a href=\"https://doi.org/10.25950/be267393\">10.25950/be267393</a><br/></div><br/></div></div></div></div>\n"
     ]
    }
   ],
   "source": [
    "print(potentials[50].html())"
   ]
  },
  {
   "cell_type": "code",
   "execution_count": 15,
   "metadata": {},
   "outputs": [
    {
     "data": {
      "text/html": [
       "<div xmlns=\"http://www.w3.org/TR/xhtml1/strict\"><script src=\"https://www.ctcms.nist.gov/potentials/site/showFiles.js\">//</script><div class=\"panel panel-default\"><div class=\"panel-heading\"><h3 class=\"panel-title\">1987--Ackland-G-J-Thetford-R--Mo</h3></div><div class=\"panel-body\"><div class=\"citation\"><b>Citation: </b>G.J. Ackland, and R. Thetford (1987), \"An improved N-body semi-empirical model for body-centred cubic transition metals\", <i>Philosophical Magazine A</i>, <b>56(1)</b>, 15-30. DOI: <a href=\"https://doi.org/10.1080/01418618708204464\" class=\"external\">10.1080/01418618708204464</a>.<br/></div><div class=\"abstract\"><b>Abstract: </b>The recently published semi-empirical potentials of Finnis and Sinclair for the metals V, Nb, Ta, Mo and W appear to give unphysical results for properties involving small interatomic separation. This is remedied by adding to the potentials cores fitted to electron gas calculations on dimers. The adjusted potentials are shown to predict a more realistic pressure-volume relationship. Interstitial formation energies are calculated for various configurations, using quenched molecular dynamics and static relaxation. Some preliminary results on interstitial migration are presented.</div><br/><div class=\"format\"><b>Equations</b><a href=\"https://www.ctcms.nist.gov/potentials/entry/1987--Ackland-G-J-Thetford-R--Mo/1987--Ackland-G-J--Mo--parameters--ipr1.html\"> (1987--Ackland-G-J--Mo--parameters--ipr1)</a></div><div class=\"implementation-notes\"><a href=\"https://www.ctcms.nist.gov/potentials/entry/1987--Ackland-G-J-Thetford-R--Mo/1987--Ackland-G-J--Mo--parameters--ipr1.html\"><b>See Computed Properties</b></a><br/><b>Notes: </b>The file AckThet.pdf was obtained from <a href=\"http://homepages.ed.ac.uk/graeme/moldy/moldy.html\" class=\"external\">http://homepages.ed.ac.uk/graeme/moldy/moldy.html </a> and posted with the permission of G.J. Ackland.<br/><b>File(s): </b><div id=\"1095d89a-1d0b-4517-a0f8-c883a779d263\" style=\"display:block\"><a href=\"https://www.ctcms.nist.gov/potentials/Download/1987--Ackland-G-J-Thetford-R--Mo/1/AckThet.pdf\">AckThet.pdf</a><br/></div><br/></div><div class=\"format\"><b>LAMMPS pair_style eam/fs</b><a href=\"https://www.ctcms.nist.gov/potentials/entry/1987--Ackland-G-J-Thetford-R--Mo/1987--Ackland-G-J--Mo--LAMMPS--ipr1.html\"> (1987--Ackland-G-J--Mo--LAMMPS--ipr1)</a></div><div class=\"implementation-notes\"><a href=\"https://www.ctcms.nist.gov/potentials/entry/1987--Ackland-G-J-Thetford-R--Mo/1987--Ackland-G-J--Mo--LAMMPS--ipr1.html\"><b>See Computed Properties</b></a><br/><b>Notes: </b>This implementation has been retracted as it was identified as having an incorrect functional form. It is made available solely for archival purposes.<br/><b>File(s): retracted</b><div id=\"2b039bc2-b625-41c5-aa5e-6bb4e58c9828\" style=\"display:none\"><a href=\"https://www.ctcms.nist.gov/potentials/Download/1987--Ackland-G-J-Thetford-R--Mo/2/Mo.AT1.fs\">Mo.AT1.fs</a><br/></div><br/><div id=\"button-2b039bc2-b625-41c5-aa5e-6bb4e58c9828\" style=\"display:block\"><input type=\"button\" value=\"Click to show\" onclick=\"showFiles('2b039bc2-b625-41c5-aa5e-6bb4e58c9828','button-2b039bc2-b625-41c5-aa5e-6bb4e58c9828')\"/><br/><br/></div></div><div class=\"format\"><b>LAMMPS pair_style eam/alloy</b><a href=\"https://www.ctcms.nist.gov/potentials/entry/1987--Ackland-G-J-Thetford-R--Mo/1987--Ackland-G-J--Mo--LAMMPS--ipr2.html\"> (1987--Ackland-G-J--Mo--LAMMPS--ipr2)</a></div><div class=\"implementation-notes\"><a href=\"https://www.ctcms.nist.gov/potentials/entry/1987--Ackland-G-J-Thetford-R--Mo/1987--Ackland-G-J--Mo--LAMMPS--ipr2.html\"><b>See Computed Properties</b></a><br/><b>Notes: </b>This file was provided by Sergei Starikov (Ruhr-Universit&#228;t Bochum, Germany) on 5 May 2019. It has been carefully tested and gives the expected property predictions. Update March 15, 2020: This version was identified to not be compatible with LAMMPS versions after 7 Aug 2019 due to more rigorous format checks.<br/><b>File(s): superseded</b><div id=\"0dd57c7f-ead7-46ae-b2d1-071199a06ccd\" style=\"display:none\"><a href=\"https://www.ctcms.nist.gov/potentials/Download/1987--Ackland-G-J-Thetford-R--Mo/3/mo.fs.eam.alloy\">mo.fs.eam.alloy</a><br/></div><br/><div id=\"button-0dd57c7f-ead7-46ae-b2d1-071199a06ccd\" style=\"display:block\"><input type=\"button\" value=\"Click to show\" onclick=\"showFiles('0dd57c7f-ead7-46ae-b2d1-071199a06ccd','button-0dd57c7f-ead7-46ae-b2d1-071199a06ccd')\"/><br/><br/></div></div><div class=\"format\"><b>LAMMPS pair_style eam/alloy</b><a href=\"https://www.ctcms.nist.gov/potentials/entry/1987--Ackland-G-J-Thetford-R--Mo/1987--Ackland-G-J--Mo--LAMMPS--ipr3.html\"> (1987--Ackland-G-J--Mo--LAMMPS--ipr3)</a></div><div class=\"implementation-notes\"><a href=\"https://www.ctcms.nist.gov/potentials/entry/1987--Ackland-G-J-Thetford-R--Mo/1987--Ackland-G-J--Mo--LAMMPS--ipr3.html\"><b>See Computed Properties</b></a><br/><b>Notes: </b>This file was created by Lucas Hale and posted on 15 March 2020. It is a modification of the parameter file in the above version to be compatible with LAMMPS versions after 7 Aug 2019. It contains the same parameter tables and should behave identically to the last version, and work with any version of LAMMPS.<br/><b>File(s): </b><div id=\"0014647b-dd8e-4a96-a8b1-fab20b39c4de\" style=\"display:block\"><a href=\"https://www.ctcms.nist.gov/potentials/Download/1987--Ackland-G-J-Thetford-R--Mo/4/mo.fs.eam.alloy\">mo.fs.eam.alloy</a><br/></div><br/></div></div></div></div>"
      ],
      "text/plain": [
       "<IPython.core.display.HTML object>"
      ]
     },
     "metadata": {},
     "output_type": "display_data"
    }
   ],
   "source": [
    "potentials[34].html(render=True)"
   ]
  },
  {
   "cell_type": "code",
   "execution_count": 16,
   "metadata": {},
   "outputs": [
    {
     "name": "stdout",
     "output_type": "stream",
     "text": [
      "Found 411 matching potential_LAMMPS records in local library\n",
      "Found 411 matching potential_LAMMPS records in remote library\n",
      " - 0 remote records are new\n",
      "No KIM potentials added: list of models is empty\n"
     ]
    },
    {
     "data": {
      "text/html": [
       "<div>\n",
       "<style scoped>\n",
       "    .dataframe tbody tr th:only-of-type {\n",
       "        vertical-align: middle;\n",
       "    }\n",
       "\n",
       "    .dataframe tbody tr th {\n",
       "        vertical-align: top;\n",
       "    }\n",
       "\n",
       "    .dataframe thead th {\n",
       "        text-align: right;\n",
       "    }\n",
       "</style>\n",
       "<table border=\"1\" class=\"dataframe\">\n",
       "  <thead>\n",
       "    <tr style=\"text-align: right;\">\n",
       "      <th></th>\n",
       "      <th>name</th>\n",
       "      <th>id</th>\n",
       "      <th>key</th>\n",
       "      <th>potid</th>\n",
       "      <th>potkey</th>\n",
       "      <th>units</th>\n",
       "      <th>atom_style</th>\n",
       "      <th>allsymbols</th>\n",
       "      <th>pair_style</th>\n",
       "      <th>status</th>\n",
       "      <th>symbols</th>\n",
       "      <th>elements</th>\n",
       "      <th>artifacts</th>\n",
       "      <th>comments</th>\n",
       "      <th>dois</th>\n",
       "    </tr>\n",
       "  </thead>\n",
       "  <tbody>\n",
       "    <tr>\n",
       "      <th>0</th>\n",
       "      <td>1985--Foiles-S-M--Ni-Cu--LAMMPS--ipr1</td>\n",
       "      <td>1985--Foiles-S-M--Ni-Cu--LAMMPS--ipr1</td>\n",
       "      <td>062d2ba7-3903-40ae-a772-daa471d107c6</td>\n",
       "      <td>1985--Foiles-S-M--Ni-Cu</td>\n",
       "      <td>301f04ce-9082-4542-8590-489300cd19e8</td>\n",
       "      <td>metal</td>\n",
       "      <td>atomic</td>\n",
       "      <td>0.0</td>\n",
       "      <td>eam</td>\n",
       "      <td>active</td>\n",
       "      <td>[Cu, Ni]</td>\n",
       "      <td>[Cu, Ni]</td>\n",
       "      <td>[{'filename': 'Cu_smf7.eam', 'label': None, 'u...</td>\n",
       "      <td>Potential 1985--Foiles-S-M--Ni-Cu--LAMMPS--ipr...</td>\n",
       "      <td>[10.1103/physrevb.32.7685]</td>\n",
       "    </tr>\n",
       "    <tr>\n",
       "      <th>1</th>\n",
       "      <td>1985--Stillinger-F-H--Si--LAMMPS--ipr1</td>\n",
       "      <td>1985--Stillinger-F-H--Si--LAMMPS--ipr1</td>\n",
       "      <td>d085648c-b3ef-4be8-824b-7093fd22770a</td>\n",
       "      <td>1985--Stillinger-F-H-Weber-T-A--Si</td>\n",
       "      <td>edc31ad6-2b9a-455c-9b5f-e888a672ecbd</td>\n",
       "      <td>metal</td>\n",
       "      <td>atomic</td>\n",
       "      <td>0.0</td>\n",
       "      <td>sw</td>\n",
       "      <td>active</td>\n",
       "      <td>[Si]</td>\n",
       "      <td>[Si]</td>\n",
       "      <td>[{'filename': 'Si.sw', 'label': None, 'url': '...</td>\n",
       "      <td>Potential 1985--Stillinger-F-H--Si--LAMMPS--ip...</td>\n",
       "      <td>[10.1103/physrevb.31.5262, 10.1103/physrevb.33...</td>\n",
       "    </tr>\n",
       "    <tr>\n",
       "      <th>2</th>\n",
       "      <td>1986--Foiles-S-M--Ag--LAMMPS--ipr1</td>\n",
       "      <td>1986--Foiles-S-M--Ag--LAMMPS--ipr1</td>\n",
       "      <td>76a265fc-45ff-49d7-8c64-2044f12402f2</td>\n",
       "      <td>1986--Foiles-S-M-Baskes-M-I-Daw-M-S--Ag</td>\n",
       "      <td>672d54f8-9f48-4200-af56-8a7378ebbc4a</td>\n",
       "      <td>metal</td>\n",
       "      <td>atomic</td>\n",
       "      <td>0.0</td>\n",
       "      <td>eam</td>\n",
       "      <td>active</td>\n",
       "      <td>[Ag]</td>\n",
       "      <td>[Ag]</td>\n",
       "      <td>[{'filename': 'Ag_u3.eam', 'label': None, 'url...</td>\n",
       "      <td>Potential 1986--Foiles-S-M--Ag--LAMMPS--ipr1 l...</td>\n",
       "      <td>[10.1103/physrevb.33.7983]</td>\n",
       "    </tr>\n",
       "    <tr>\n",
       "      <th>3</th>\n",
       "      <td>1986--Foiles-S-M--Ag-Au-Cu-Ni-Pd-Pt--LAMMPS--ipr1</td>\n",
       "      <td>1986--Foiles-S-M--Ag-Au-Cu-Ni-Pd-Pt--LAMMPS--ipr1</td>\n",
       "      <td>c5afa7e8-6b3b-49cd-ad1c-ae3e4329363a</td>\n",
       "      <td>1986--Foiles-S-M-Baskes-M-I-Daw-M-S--Ag-Au-Cu-...</td>\n",
       "      <td>7a1302de-59cf-4efb-900e-cad845b68ee5</td>\n",
       "      <td>metal</td>\n",
       "      <td>atomic</td>\n",
       "      <td>0.0</td>\n",
       "      <td>eam</td>\n",
       "      <td>active</td>\n",
       "      <td>[Ag, Au, Cu, Ni, Pd, Pt]</td>\n",
       "      <td>[Ag, Au, Cu, Ni, Pd, Pt]</td>\n",
       "      <td>[{'filename': 'Ag_u3.eam', 'label': None, 'url...</td>\n",
       "      <td>Potential 1986--Foiles-S-M--Ag-Au-Cu-Ni-Pd-Pt-...</td>\n",
       "      <td>[10.1103/physrevb.33.7983]</td>\n",
       "    </tr>\n",
       "    <tr>\n",
       "      <th>4</th>\n",
       "      <td>1986--Foiles-S-M--Au--LAMMPS--ipr1</td>\n",
       "      <td>1986--Foiles-S-M--Au--LAMMPS--ipr1</td>\n",
       "      <td>c588810a-b96d-4871-bfe2-cff8a5a7c709</td>\n",
       "      <td>1986--Foiles-S-M-Baskes-M-I-Daw-M-S--Au</td>\n",
       "      <td>ffb66faa-319d-4556-8363-dad3959cd553</td>\n",
       "      <td>metal</td>\n",
       "      <td>atomic</td>\n",
       "      <td>0.0</td>\n",
       "      <td>eam</td>\n",
       "      <td>active</td>\n",
       "      <td>[Au]</td>\n",
       "      <td>[Au]</td>\n",
       "      <td>[{'filename': 'Au_u3.eam', 'label': None, 'url...</td>\n",
       "      <td>Potential 1986--Foiles-S-M--Au--LAMMPS--ipr1 l...</td>\n",
       "      <td>[10.1103/physrevb.33.7983]</td>\n",
       "    </tr>\n",
       "    <tr>\n",
       "      <th>...</th>\n",
       "      <td>...</td>\n",
       "      <td>...</td>\n",
       "      <td>...</td>\n",
       "      <td>...</td>\n",
       "      <td>...</td>\n",
       "      <td>...</td>\n",
       "      <td>...</td>\n",
       "      <td>...</td>\n",
       "      <td>...</td>\n",
       "      <td>...</td>\n",
       "      <td>...</td>\n",
       "      <td>...</td>\n",
       "      <td>...</td>\n",
       "      <td>...</td>\n",
       "      <td>...</td>\n",
       "    </tr>\n",
       "    <tr>\n",
       "      <th>406</th>\n",
       "      <td>2021--Starikov-S--Zr-Nb--LAMMPS--ipr1</td>\n",
       "      <td>2021--Starikov-S--Zr-Nb--LAMMPS--ipr1</td>\n",
       "      <td>51eb2d42-0053-44fc-a139-64c4c19571a7</td>\n",
       "      <td>2021--Starikov-S-Smirnova-D--Zr-Nb</td>\n",
       "      <td>fa000d07-cf5d-474f-8407-5fa5b41a79f1</td>\n",
       "      <td>metal</td>\n",
       "      <td>atomic</td>\n",
       "      <td>0.0</td>\n",
       "      <td>adp</td>\n",
       "      <td>active</td>\n",
       "      <td>[Zr, Nb]</td>\n",
       "      <td>[Zr, Nb]</td>\n",
       "      <td>[{'filename': 'Zr_Nb.2021.adp.txt', 'label': N...</td>\n",
       "      <td>Potential 2021--Starikov-S--Zr-Nb--LAMMPS--ipr...</td>\n",
       "      <td>[10.1016/j.commatsci.2021.110581]</td>\n",
       "    </tr>\n",
       "    <tr>\n",
       "      <th>407</th>\n",
       "      <td>2021--Wang-G--Au-Rh--LAMMPS--ipr1</td>\n",
       "      <td>2021--Wang-G--Au-Rh--LAMMPS--ipr1</td>\n",
       "      <td>f8f52d2e-597d-435a-926a-09f38094b1da</td>\n",
       "      <td>2021--Wang-G-Xu-Y-Qian-P-Su-Y--Au-Rh</td>\n",
       "      <td>ccd7fceb-a257-40df-812b-b1326955bff1</td>\n",
       "      <td>metal</td>\n",
       "      <td>atomic</td>\n",
       "      <td>0.0</td>\n",
       "      <td>adp</td>\n",
       "      <td>active</td>\n",
       "      <td>[Au, Rh]</td>\n",
       "      <td>[Au, Rh]</td>\n",
       "      <td>[{'filename': 'AuRh.adp.txt', 'label': None, '...</td>\n",
       "      <td>Potential 2021--Wang-G--Au-Rh--LAMMPS--ipr1 li...</td>\n",
       "      <td>[10.1016/j.commatsci.2020.110002]</td>\n",
       "    </tr>\n",
       "    <tr>\n",
       "      <th>408</th>\n",
       "      <td>2021--Wen-M--Fe-H--LAMMPS--ipr1</td>\n",
       "      <td>2021--Wen-M--Fe-H--LAMMPS--ipr1</td>\n",
       "      <td>d45b6e62-e69e-4c4a-b0f4-8a6f147f19f0</td>\n",
       "      <td>2021--Wen-M--Fe-H</td>\n",
       "      <td>a32373ef-05b0-419e-b346-6ba5c6b36f61</td>\n",
       "      <td>metal</td>\n",
       "      <td>atomic</td>\n",
       "      <td>0.0</td>\n",
       "      <td>eam/fs</td>\n",
       "      <td>active</td>\n",
       "      <td>[Fe, H]</td>\n",
       "      <td>[Fe, H]</td>\n",
       "      <td>[{'filename': 'FeH_Wen.eam.fs', 'label': None,...</td>\n",
       "      <td>Potential 2021--Wen-M--Fe-H--LAMMPS--ipr1 list...</td>\n",
       "      <td>[10.1016/j.commatsci.2021.110640]</td>\n",
       "    </tr>\n",
       "    <tr>\n",
       "      <th>409</th>\n",
       "      <td>2021--Zhou-H--Bi--LAMMPS--ipr1</td>\n",
       "      <td>2021--Zhou-H--Bi--LAMMPS--ipr1</td>\n",
       "      <td>f9f5cd2b-116b-46da-ab68-323810437f0c</td>\n",
       "      <td>2021--Zhou-H-Dickel-D-E-Baskes-M-I-et-al--Bi</td>\n",
       "      <td>0aa1b65e-0641-4845-bab6-ca6b0ed589ce</td>\n",
       "      <td>metal</td>\n",
       "      <td>atomic</td>\n",
       "      <td>0.0</td>\n",
       "      <td>meam</td>\n",
       "      <td>active</td>\n",
       "      <td>[Bi]</td>\n",
       "      <td>[Bi]</td>\n",
       "      <td>[{'filename': 'Bi.parameter.meam', 'label': No...</td>\n",
       "      <td>Potential 2021--Zhou-H--Bi--LAMMPS--ipr1 liste...</td>\n",
       "      <td>[10.1088/1361-651x/ac095c]</td>\n",
       "    </tr>\n",
       "    <tr>\n",
       "      <th>410</th>\n",
       "      <td>2021--Zhou-X-W--Pd-H-He--LAMMPS--ipr1</td>\n",
       "      <td>2021--Zhou-X-W--Pd-H-He--LAMMPS--ipr1</td>\n",
       "      <td>d220fd7a-1545-4170-9d8e-5a0da105a781</td>\n",
       "      <td>2021--Zhou-X-W-Bartelt-N-C-Sills-R-B--Pd-H-He</td>\n",
       "      <td>2541a13a-b398-485a-bf90-e4c48674c601</td>\n",
       "      <td>metal</td>\n",
       "      <td>atomic</td>\n",
       "      <td>0.0</td>\n",
       "      <td>eam/he</td>\n",
       "      <td>active</td>\n",
       "      <td>[Pd, H, He]</td>\n",
       "      <td>[Pd, H, He]</td>\n",
       "      <td>[{'filename': 'PdHHe.eam.fs.he.t', 'label': No...</td>\n",
       "      <td>Potential 2021--Zhou-X-W--Pd-H-He--LAMMPS--ipr...</td>\n",
       "      <td>[10.1103/physrevb.103.014108]</td>\n",
       "    </tr>\n",
       "  </tbody>\n",
       "</table>\n",
       "<p>411 rows × 15 columns</p>\n",
       "</div>"
      ],
      "text/plain": [
       "                                                  name  \\\n",
       "0                1985--Foiles-S-M--Ni-Cu--LAMMPS--ipr1   \n",
       "1               1985--Stillinger-F-H--Si--LAMMPS--ipr1   \n",
       "2                   1986--Foiles-S-M--Ag--LAMMPS--ipr1   \n",
       "3    1986--Foiles-S-M--Ag-Au-Cu-Ni-Pd-Pt--LAMMPS--ipr1   \n",
       "4                   1986--Foiles-S-M--Au--LAMMPS--ipr1   \n",
       "..                                                 ...   \n",
       "406              2021--Starikov-S--Zr-Nb--LAMMPS--ipr1   \n",
       "407                  2021--Wang-G--Au-Rh--LAMMPS--ipr1   \n",
       "408                    2021--Wen-M--Fe-H--LAMMPS--ipr1   \n",
       "409                     2021--Zhou-H--Bi--LAMMPS--ipr1   \n",
       "410              2021--Zhou-X-W--Pd-H-He--LAMMPS--ipr1   \n",
       "\n",
       "                                                    id  \\\n",
       "0                1985--Foiles-S-M--Ni-Cu--LAMMPS--ipr1   \n",
       "1               1985--Stillinger-F-H--Si--LAMMPS--ipr1   \n",
       "2                   1986--Foiles-S-M--Ag--LAMMPS--ipr1   \n",
       "3    1986--Foiles-S-M--Ag-Au-Cu-Ni-Pd-Pt--LAMMPS--ipr1   \n",
       "4                   1986--Foiles-S-M--Au--LAMMPS--ipr1   \n",
       "..                                                 ...   \n",
       "406              2021--Starikov-S--Zr-Nb--LAMMPS--ipr1   \n",
       "407                  2021--Wang-G--Au-Rh--LAMMPS--ipr1   \n",
       "408                    2021--Wen-M--Fe-H--LAMMPS--ipr1   \n",
       "409                     2021--Zhou-H--Bi--LAMMPS--ipr1   \n",
       "410              2021--Zhou-X-W--Pd-H-He--LAMMPS--ipr1   \n",
       "\n",
       "                                      key  \\\n",
       "0    062d2ba7-3903-40ae-a772-daa471d107c6   \n",
       "1    d085648c-b3ef-4be8-824b-7093fd22770a   \n",
       "2    76a265fc-45ff-49d7-8c64-2044f12402f2   \n",
       "3    c5afa7e8-6b3b-49cd-ad1c-ae3e4329363a   \n",
       "4    c588810a-b96d-4871-bfe2-cff8a5a7c709   \n",
       "..                                    ...   \n",
       "406  51eb2d42-0053-44fc-a139-64c4c19571a7   \n",
       "407  f8f52d2e-597d-435a-926a-09f38094b1da   \n",
       "408  d45b6e62-e69e-4c4a-b0f4-8a6f147f19f0   \n",
       "409  f9f5cd2b-116b-46da-ab68-323810437f0c   \n",
       "410  d220fd7a-1545-4170-9d8e-5a0da105a781   \n",
       "\n",
       "                                                 potid  \\\n",
       "0                              1985--Foiles-S-M--Ni-Cu   \n",
       "1                   1985--Stillinger-F-H-Weber-T-A--Si   \n",
       "2              1986--Foiles-S-M-Baskes-M-I-Daw-M-S--Ag   \n",
       "3    1986--Foiles-S-M-Baskes-M-I-Daw-M-S--Ag-Au-Cu-...   \n",
       "4              1986--Foiles-S-M-Baskes-M-I-Daw-M-S--Au   \n",
       "..                                                 ...   \n",
       "406                 2021--Starikov-S-Smirnova-D--Zr-Nb   \n",
       "407               2021--Wang-G-Xu-Y-Qian-P-Su-Y--Au-Rh   \n",
       "408                                  2021--Wen-M--Fe-H   \n",
       "409       2021--Zhou-H-Dickel-D-E-Baskes-M-I-et-al--Bi   \n",
       "410      2021--Zhou-X-W-Bartelt-N-C-Sills-R-B--Pd-H-He   \n",
       "\n",
       "                                   potkey  units atom_style  allsymbols  \\\n",
       "0    301f04ce-9082-4542-8590-489300cd19e8  metal     atomic         0.0   \n",
       "1    edc31ad6-2b9a-455c-9b5f-e888a672ecbd  metal     atomic         0.0   \n",
       "2    672d54f8-9f48-4200-af56-8a7378ebbc4a  metal     atomic         0.0   \n",
       "3    7a1302de-59cf-4efb-900e-cad845b68ee5  metal     atomic         0.0   \n",
       "4    ffb66faa-319d-4556-8363-dad3959cd553  metal     atomic         0.0   \n",
       "..                                    ...    ...        ...         ...   \n",
       "406  fa000d07-cf5d-474f-8407-5fa5b41a79f1  metal     atomic         0.0   \n",
       "407  ccd7fceb-a257-40df-812b-b1326955bff1  metal     atomic         0.0   \n",
       "408  a32373ef-05b0-419e-b346-6ba5c6b36f61  metal     atomic         0.0   \n",
       "409  0aa1b65e-0641-4845-bab6-ca6b0ed589ce  metal     atomic         0.0   \n",
       "410  2541a13a-b398-485a-bf90-e4c48674c601  metal     atomic         0.0   \n",
       "\n",
       "    pair_style  status                   symbols                  elements  \\\n",
       "0          eam  active                  [Cu, Ni]                  [Cu, Ni]   \n",
       "1           sw  active                      [Si]                      [Si]   \n",
       "2          eam  active                      [Ag]                      [Ag]   \n",
       "3          eam  active  [Ag, Au, Cu, Ni, Pd, Pt]  [Ag, Au, Cu, Ni, Pd, Pt]   \n",
       "4          eam  active                      [Au]                      [Au]   \n",
       "..         ...     ...                       ...                       ...   \n",
       "406        adp  active                  [Zr, Nb]                  [Zr, Nb]   \n",
       "407        adp  active                  [Au, Rh]                  [Au, Rh]   \n",
       "408     eam/fs  active                   [Fe, H]                   [Fe, H]   \n",
       "409       meam  active                      [Bi]                      [Bi]   \n",
       "410     eam/he  active               [Pd, H, He]               [Pd, H, He]   \n",
       "\n",
       "                                             artifacts  \\\n",
       "0    [{'filename': 'Cu_smf7.eam', 'label': None, 'u...   \n",
       "1    [{'filename': 'Si.sw', 'label': None, 'url': '...   \n",
       "2    [{'filename': 'Ag_u3.eam', 'label': None, 'url...   \n",
       "3    [{'filename': 'Ag_u3.eam', 'label': None, 'url...   \n",
       "4    [{'filename': 'Au_u3.eam', 'label': None, 'url...   \n",
       "..                                                 ...   \n",
       "406  [{'filename': 'Zr_Nb.2021.adp.txt', 'label': N...   \n",
       "407  [{'filename': 'AuRh.adp.txt', 'label': None, '...   \n",
       "408  [{'filename': 'FeH_Wen.eam.fs', 'label': None,...   \n",
       "409  [{'filename': 'Bi.parameter.meam', 'label': No...   \n",
       "410  [{'filename': 'PdHHe.eam.fs.he.t', 'label': No...   \n",
       "\n",
       "                                              comments  \\\n",
       "0    Potential 1985--Foiles-S-M--Ni-Cu--LAMMPS--ipr...   \n",
       "1    Potential 1985--Stillinger-F-H--Si--LAMMPS--ip...   \n",
       "2    Potential 1986--Foiles-S-M--Ag--LAMMPS--ipr1 l...   \n",
       "3    Potential 1986--Foiles-S-M--Ag-Au-Cu-Ni-Pd-Pt-...   \n",
       "4    Potential 1986--Foiles-S-M--Au--LAMMPS--ipr1 l...   \n",
       "..                                                 ...   \n",
       "406  Potential 2021--Starikov-S--Zr-Nb--LAMMPS--ipr...   \n",
       "407  Potential 2021--Wang-G--Au-Rh--LAMMPS--ipr1 li...   \n",
       "408  Potential 2021--Wen-M--Fe-H--LAMMPS--ipr1 list...   \n",
       "409  Potential 2021--Zhou-H--Bi--LAMMPS--ipr1 liste...   \n",
       "410  Potential 2021--Zhou-X-W--Pd-H-He--LAMMPS--ipr...   \n",
       "\n",
       "                                                  dois  \n",
       "0                           [10.1103/physrevb.32.7685]  \n",
       "1    [10.1103/physrevb.31.5262, 10.1103/physrevb.33...  \n",
       "2                           [10.1103/physrevb.33.7983]  \n",
       "3                           [10.1103/physrevb.33.7983]  \n",
       "4                           [10.1103/physrevb.33.7983]  \n",
       "..                                                 ...  \n",
       "406                  [10.1016/j.commatsci.2021.110581]  \n",
       "407                  [10.1016/j.commatsci.2020.110002]  \n",
       "408                  [10.1016/j.commatsci.2021.110640]  \n",
       "409                         [10.1088/1361-651x/ac095c]  \n",
       "410                      [10.1103/physrevb.103.014108]  \n",
       "\n",
       "[411 rows x 15 columns]"
      ]
     },
     "execution_count": 16,
     "metadata": {},
     "output_type": "execute_result"
    }
   ],
   "source": [
    "lmppots, lmppots_df = potdb.get_lammps_potentials(return_df=True, verbose=True)\n",
    "lmppots_df"
   ]
  },
  {
   "cell_type": "code",
   "execution_count": 19,
   "metadata": {},
   "outputs": [
    {
     "name": "stdout",
     "output_type": "stream",
     "text": [
      "print \"Potential 1985--Foiles-S-M--Ni-Cu--LAMMPS--ipr1 listed in the NIST Interatomic Potentials Repository:\"\n",
      "print \"https://www.ctcms.nist.gov/potentials/entry/1985--Foiles-S-M--Ni-Cu/1985--Foiles-S-M--Ni-Cu--LAMMPS--ipr1.html\"\n",
      "print \"Publication(s) related to the potential:\"\n",
      "print \"https://doi.org/10.1103/physrevb.32.7685\"\n",
      "print \"Parameter file(s) can be downloaded at:\"\n",
      "print \"https://www.ctcms.nist.gov/potentials/Download/1985--Foiles-S-M--Ni-Cu/1/Cu_smf7.eam\"\n",
      "print \"https://www.ctcms.nist.gov/potentials/Download/1985--Foiles-S-M--Ni-Cu/1/Ni_smf7.eam\"\n",
      "pair_style eam\n",
      "pair_coeff 1 1 1985--Foiles-S-M--Ni-Cu--LAMMPS--ipr1\\Cu_smf7.eam\n",
      "pair_coeff 2 2 1985--Foiles-S-M--Ni-Cu--LAMMPS--ipr1\\Ni_smf7.eam\n",
      "mass 1 63.55\n",
      "mass 2 58.71\n",
      "\n",
      "\n"
     ]
    }
   ],
   "source": [
    "print(lmppots[0].pair_info())"
   ]
  },
  {
   "cell_type": "code",
   "execution_count": null,
   "metadata": {},
   "outputs": [],
   "source": []
  }
 ],
 "metadata": {
  "kernelspec": {
   "display_name": "Python 3",
   "language": "python",
   "name": "python3"
  },
  "language_info": {
   "codemirror_mode": {
    "name": "ipython",
    "version": 3
   },
   "file_extension": ".py",
   "mimetype": "text/x-python",
   "name": "python",
   "nbconvert_exporter": "python",
   "pygments_lexer": "ipython3",
   "version": "3.7.3"
  }
 },
 "nbformat": 4,
 "nbformat_minor": 4
}
