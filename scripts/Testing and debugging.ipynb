{
 "cells": [
  {
   "cell_type": "code",
   "execution_count": 2,
   "metadata": {},
   "outputs": [],
   "source": [
    "from pathlib import Path\n",
    "import potentials\n",
    "import atomman as am"
   ]
  },
  {
   "cell_type": "markdown",
   "metadata": {},
   "source": [
    "__\\_\\_schema\\_\\___ contains the XSD schemas associated with the XML \n",
    "representations of the different record types.  These schemas can be used to\n",
    "check and verify if records are comliant with the format."
   ]
  },
  {
   "cell_type": "code",
   "execution_count": 3,
   "metadata": {},
   "outputs": [],
   "source": [
    "machine = 'laptop'\n",
    "\n",
    "# Set passwordfile based on machine\n",
    "if machine == 'laptop':\n",
    "    passwordfile = Path('C:/Users/lmh1/Documents/potentials_nist_gov/password.txt')\n",
    "elif machine == 'desktop':\n",
    "    passwordfile = Path('E:/potentials_nist_gov/password.txt')\n",
    "else:\n",
    "    raise ValueError(f'passwordfile not set for machine {machine}')\n",
    "\n",
    "# Load database using username + password\n",
    "with open(Path(passwordfile)) as f:\n",
    "    username, password = f.read().strip().split()\n",
    "potdb = potentials.Database(username=username, password=password, status=None, installed_kim_models=[])"
   ]
  },
  {
   "cell_type": "code",
   "execution_count": 3,
   "metadata": {},
   "outputs": [],
   "source": [
    "potdb.lammps_potentials"
   ]
  },
  {
   "cell_type": "code",
   "execution_count": 4,
   "metadata": {},
   "outputs": [
    {
     "name": "stdout",
     "output_type": "stream",
     "text": [
      "Loaded 401 remote LAMMPS potentials\n",
      "Building lammps potentials for kim models\n",
      "No installed kim models identified\n"
     ]
    }
   ],
   "source": [
    "potdb.load_lammps_potentials(remote=True, local=False, verbose=True)"
   ]
  },
  {
   "cell_type": "code",
   "execution_count": 6,
   "metadata": {},
   "outputs": [],
   "source": [
    "workspace = potdb.cdcs.global_workspace"
   ]
  },
  {
   "cell_type": "code",
   "execution_count": 8,
   "metadata": {
    "scrolled": true
   },
   "outputs": [
    {
     "name": "stdout",
     "output_type": "stream",
     "text": [
      "record 605b6bf326ed1e002a28f053 assigned to workspace 5fb55e4826ed1e0015e846a9\n",
      "record 605b6bef26ed1e003528f019 assigned to workspace 5fb55e4826ed1e0015e846a9\n",
      "record 605b6bec26ed1e003d28f018 assigned to workspace 5fb55e4826ed1e0015e846a9\n",
      "record 605b6be826ed1e003928f033 assigned to workspace 5fb55e4826ed1e0015e846a9\n",
      "record 605b6be426ed1e003c28f015 assigned to workspace 5fb55e4826ed1e0015e846a9\n",
      "record 605b6be226ed1e002a28f04f assigned to workspace 5fb55e4826ed1e0015e846a9\n",
      "record 605b6bde26ed1e003528f015 assigned to workspace 5fb55e4826ed1e0015e846a9\n",
      "record 605b6bdc26ed1e003d28f014 assigned to workspace 5fb55e4826ed1e0015e846a9\n",
      "record 605b6bd926ed1e003928f02f assigned to workspace 5fb55e4826ed1e0015e846a9\n",
      "record 605b6bd426ed1e003c28f011 assigned to workspace 5fb55e4826ed1e0015e846a9\n",
      "record 605b6bd126ed1e002a28f04b assigned to workspace 5fb55e4826ed1e0015e846a9\n",
      "record 605b6bcc26ed1e003528f011 assigned to workspace 5fb55e4826ed1e0015e846a9\n",
      "record 605b6bc826ed1e003d28f010 assigned to workspace 5fb55e4826ed1e0015e846a9\n",
      "record 605b6bc426ed1e003928f02b assigned to workspace 5fb55e4826ed1e0015e846a9\n",
      "record 605b6bbf26ed1e003c28f00d assigned to workspace 5fb55e4826ed1e0015e846a9\n",
      "record 605b6bbc26ed1e002a28f047 assigned to workspace 5fb55e4826ed1e0015e846a9\n",
      "record 605b6bb826ed1e003528f00d assigned to workspace 5fb55e4826ed1e0015e846a9\n",
      "record 605b6bb526ed1e003d28f00c assigned to workspace 5fb55e4826ed1e0015e846a9\n",
      "record 605b6bb126ed1e003928f027 assigned to workspace 5fb55e4826ed1e0015e846a9\n",
      "record 605b6bad26ed1e003c28f009 assigned to workspace 5fb55e4826ed1e0015e846a9\n",
      "record 605b6ba926ed1e002a28f043 assigned to workspace 5fb55e4826ed1e0015e846a9\n",
      "record 605b6ba426ed1e003528f009 assigned to workspace 5fb55e4826ed1e0015e846a9\n",
      "record 605b6ba026ed1e003d28f008 assigned to workspace 5fb55e4826ed1e0015e846a9\n",
      "record 605b6b9d26ed1e003928f023 assigned to workspace 5fb55e4826ed1e0015e846a9\n",
      "record 605b6b9a26ed1e003c28f005 assigned to workspace 5fb55e4826ed1e0015e846a9\n",
      "record 605b6b9626ed1e002a28f03f assigned to workspace 5fb55e4826ed1e0015e846a9\n",
      "record 605b6b9326ed1e003528f005 assigned to workspace 5fb55e4826ed1e0015e846a9\n",
      "record 605b6b9026ed1e003d28f004 assigned to workspace 5fb55e4826ed1e0015e846a9\n",
      "record 605b6b8d26ed1e003928f01f assigned to workspace 5fb55e4826ed1e0015e846a9\n",
      "record 605b6b8926ed1e003c28f001 assigned to workspace 5fb55e4826ed1e0015e846a9\n",
      "record 605b6b8626ed1e002a28f03b assigned to workspace 5fb55e4826ed1e0015e846a9\n",
      "record 605b6b8226ed1e003528f001 assigned to workspace 5fb55e4826ed1e0015e846a9\n",
      "record 605b6b7e26ed1e003d28f000 assigned to workspace 5fb55e4826ed1e0015e846a9\n",
      "record 605b6b7b26ed1e003928f01b assigned to workspace 5fb55e4826ed1e0015e846a9\n",
      "record 605b6b7726ed1e003c28effd assigned to workspace 5fb55e4826ed1e0015e846a9\n",
      "record 605b6b7426ed1e002a28f037 assigned to workspace 5fb55e4826ed1e0015e846a9\n",
      "record 605b6b6f26ed1e003528effd assigned to workspace 5fb55e4826ed1e0015e846a9\n",
      "record 605b6b6b26ed1e003d28effc assigned to workspace 5fb55e4826ed1e0015e846a9\n",
      "record 605b6b6826ed1e003928f017 assigned to workspace 5fb55e4826ed1e0015e846a9\n",
      "record 605b6b6426ed1e003c28eff9 assigned to workspace 5fb55e4826ed1e0015e846a9\n",
      "record 605b6b5f26ed1e002a28f033 assigned to workspace 5fb55e4826ed1e0015e846a9\n",
      "record 605b6b5b26ed1e003528eff9 assigned to workspace 5fb55e4826ed1e0015e846a9\n",
      "record 605b6b5726ed1e003d28eff8 assigned to workspace 5fb55e4826ed1e0015e846a9\n",
      "record 605b6b5226ed1e003928f013 assigned to workspace 5fb55e4826ed1e0015e846a9\n",
      "record 605b6b4e26ed1e003c28eff5 assigned to workspace 5fb55e4826ed1e0015e846a9\n",
      "record 605b6b4b26ed1e002a28f02f assigned to workspace 5fb55e4826ed1e0015e846a9\n",
      "record 605b6b4826ed1e003528eff5 assigned to workspace 5fb55e4826ed1e0015e846a9\n",
      "record 605b6b4426ed1e003d28eff4 assigned to workspace 5fb55e4826ed1e0015e846a9\n",
      "record 605b6b3f26ed1e003928f00f assigned to workspace 5fb55e4826ed1e0015e846a9\n",
      "record 605b6b3c26ed1e003c28eff1 assigned to workspace 5fb55e4826ed1e0015e846a9\n",
      "record 605b6b3826ed1e002a28f02b assigned to workspace 5fb55e4826ed1e0015e846a9\n",
      "record 605b6b3526ed1e003528eff1 assigned to workspace 5fb55e4826ed1e0015e846a9\n",
      "record 605b6b3226ed1e003d28eff0 assigned to workspace 5fb55e4826ed1e0015e846a9\n",
      "record 605b6b2f26ed1e003928f00b assigned to workspace 5fb55e4826ed1e0015e846a9\n",
      "record 605b6b2d26ed1e003c28efed assigned to workspace 5fb55e4826ed1e0015e846a9\n",
      "record 605b6b2a26ed1e002a28f027 assigned to workspace 5fb55e4826ed1e0015e846a9\n",
      "record 605b6b2626ed1e003528efed assigned to workspace 5fb55e4826ed1e0015e846a9\n",
      "record 605b6b2326ed1e003d28efec assigned to workspace 5fb55e4826ed1e0015e846a9\n",
      "record 605b6b1f26ed1e003928f007 assigned to workspace 5fb55e4826ed1e0015e846a9\n",
      "record 605b6b1c26ed1e003c28efe9 assigned to workspace 5fb55e4826ed1e0015e846a9\n",
      "record 605b6b1926ed1e002a28f023 assigned to workspace 5fb55e4826ed1e0015e846a9\n",
      "record 605b6b1626ed1e003528efe9 assigned to workspace 5fb55e4826ed1e0015e846a9\n",
      "record 605b6b1326ed1e003d28efe8 assigned to workspace 5fb55e4826ed1e0015e846a9\n",
      "record 605b6b1026ed1e003928f003 assigned to workspace 5fb55e4826ed1e0015e846a9\n",
      "record 605b6b0c26ed1e003c28efe5 assigned to workspace 5fb55e4826ed1e0015e846a9\n",
      "record 605b6b0a26ed1e002a28f01f assigned to workspace 5fb55e4826ed1e0015e846a9\n",
      "record 605b6b0726ed1e003528efe5 assigned to workspace 5fb55e4826ed1e0015e846a9\n",
      "record 605b6b0326ed1e003d28efe4 assigned to workspace 5fb55e4826ed1e0015e846a9\n",
      "record 605b6b0126ed1e003928efff assigned to workspace 5fb55e4826ed1e0015e846a9\n",
      "record 605b6afd26ed1e003c28efe1 assigned to workspace 5fb55e4826ed1e0015e846a9\n",
      "record 605b6afa26ed1e002a28f01b assigned to workspace 5fb55e4826ed1e0015e846a9\n",
      "record 605b6af726ed1e003528efe1 assigned to workspace 5fb55e4826ed1e0015e846a9\n",
      "record 605b6af326ed1e003d28efe0 assigned to workspace 5fb55e4826ed1e0015e846a9\n",
      "record 605b6aef26ed1e003928effb assigned to workspace 5fb55e4826ed1e0015e846a9\n",
      "record 605b6aec26ed1e003c28efdd assigned to workspace 5fb55e4826ed1e0015e846a9\n",
      "record 605b6ae926ed1e002a28f017 assigned to workspace 5fb55e4826ed1e0015e846a9\n",
      "record 605b6ae626ed1e003528efdd assigned to workspace 5fb55e4826ed1e0015e846a9\n",
      "record 605b6ae226ed1e003d28efdc assigned to workspace 5fb55e4826ed1e0015e846a9\n",
      "record 605b6adf26ed1e003928eff7 assigned to workspace 5fb55e4826ed1e0015e846a9\n",
      "record 605b6adb26ed1e003c28efd9 assigned to workspace 5fb55e4826ed1e0015e846a9\n",
      "record 605b6ad726ed1e002a28f013 assigned to workspace 5fb55e4826ed1e0015e846a9\n",
      "record 605b6ad326ed1e003528efd9 assigned to workspace 5fb55e4826ed1e0015e846a9\n",
      "record 605b6ad126ed1e003d28efd8 assigned to workspace 5fb55e4826ed1e0015e846a9\n",
      "record 605b6ace26ed1e003928eff3 assigned to workspace 5fb55e4826ed1e0015e846a9\n",
      "record 605b6abe26ed1e003c28efd5 assigned to workspace 5fb55e4826ed1e0015e846a9\n",
      "record 605b6ab926ed1e002a28f00f assigned to workspace 5fb55e4826ed1e0015e846a9\n",
      "record 605b6ab526ed1e003528efd5 assigned to workspace 5fb55e4826ed1e0015e846a9\n",
      "record 605b6ab226ed1e003d28efd4 assigned to workspace 5fb55e4826ed1e0015e846a9\n",
      "record 605b6aaf26ed1e003928efef assigned to workspace 5fb55e4826ed1e0015e846a9\n",
      "record 605b6aab26ed1e003c28efd1 assigned to workspace 5fb55e4826ed1e0015e846a9\n",
      "record 605b6aa726ed1e002a28f00b assigned to workspace 5fb55e4826ed1e0015e846a9\n",
      "record 605b6aa426ed1e003528efd1 assigned to workspace 5fb55e4826ed1e0015e846a9\n",
      "record 605b6aa126ed1e003d28efd0 assigned to workspace 5fb55e4826ed1e0015e846a9\n",
      "record 605b6a9e26ed1e003928efeb assigned to workspace 5fb55e4826ed1e0015e846a9\n",
      "record 605b6a9926ed1e003c28efcd assigned to workspace 5fb55e4826ed1e0015e846a9\n",
      "record 605b6a9626ed1e002a28f007 assigned to workspace 5fb55e4826ed1e0015e846a9\n",
      "record 605b6a9226ed1e003528efcd assigned to workspace 5fb55e4826ed1e0015e846a9\n",
      "record 605b6a8f26ed1e003d28efcc assigned to workspace 5fb55e4826ed1e0015e846a9\n",
      "record 605b6a8c26ed1e003928efe7 assigned to workspace 5fb55e4826ed1e0015e846a9\n",
      "record 605b6a8926ed1e003c28efc9 assigned to workspace 5fb55e4826ed1e0015e846a9\n",
      "record 605b6a8526ed1e002a28f003 assigned to workspace 5fb55e4826ed1e0015e846a9\n",
      "record 605b6a8326ed1e003528efc9 assigned to workspace 5fb55e4826ed1e0015e846a9\n",
      "record 605b6a8026ed1e003d28efc8 assigned to workspace 5fb55e4826ed1e0015e846a9\n",
      "record 605b6a7c26ed1e003928efe3 assigned to workspace 5fb55e4826ed1e0015e846a9\n",
      "record 605b6a7926ed1e003c28efc5 assigned to workspace 5fb55e4826ed1e0015e846a9\n",
      "record 605b6a7626ed1e002a28efff assigned to workspace 5fb55e4826ed1e0015e846a9\n",
      "record 605b6a7226ed1e003528efc5 assigned to workspace 5fb55e4826ed1e0015e846a9\n",
      "record 605b6a6f26ed1e003d28efc4 assigned to workspace 5fb55e4826ed1e0015e846a9\n",
      "record 605b6a6c26ed1e003928efdf assigned to workspace 5fb55e4826ed1e0015e846a9\n",
      "record 605b6a6926ed1e003c28efc1 assigned to workspace 5fb55e4826ed1e0015e846a9\n",
      "record 605b6a6726ed1e002a28effb assigned to workspace 5fb55e4826ed1e0015e846a9\n",
      "record 605b6a6426ed1e003528efc1 assigned to workspace 5fb55e4826ed1e0015e846a9\n",
      "record 605b6a6126ed1e003d28efc0 assigned to workspace 5fb55e4826ed1e0015e846a9\n",
      "record 605b6a5e26ed1e003928efdb assigned to workspace 5fb55e4826ed1e0015e846a9\n",
      "record 605b6a5b26ed1e003c28efbd assigned to workspace 5fb55e4826ed1e0015e846a9\n",
      "record 605b6a5726ed1e002a28eff7 assigned to workspace 5fb55e4826ed1e0015e846a9\n",
      "record 605b6a5426ed1e003528efbd assigned to workspace 5fb55e4826ed1e0015e846a9\n",
      "record 605b6a5126ed1e003d28efbc assigned to workspace 5fb55e4826ed1e0015e846a9\n",
      "record 605b6a4e26ed1e003928efd7 assigned to workspace 5fb55e4826ed1e0015e846a9\n",
      "record 605b6a4b26ed1e003c28efb9 assigned to workspace 5fb55e4826ed1e0015e846a9\n",
      "record 605b6a4826ed1e002a28eff3 assigned to workspace 5fb55e4826ed1e0015e846a9\n",
      "record 605b6a3926ed1e003528efb9 assigned to workspace 5fb55e4826ed1e0015e846a9\n",
      "record 605b6a3626ed1e003d28efb8 assigned to workspace 5fb55e4826ed1e0015e846a9\n",
      "record 605b6a3326ed1e003928efd3 assigned to workspace 5fb55e4826ed1e0015e846a9\n",
      "record 605b6a2f26ed1e003c28efb5 assigned to workspace 5fb55e4826ed1e0015e846a9\n",
      "record 605b6a2d26ed1e002a28efef assigned to workspace 5fb55e4826ed1e0015e846a9\n",
      "record 605b6a2a26ed1e003528efb5 assigned to workspace 5fb55e4826ed1e0015e846a9\n",
      "record 605b6a2726ed1e003d28efb4 assigned to workspace 5fb55e4826ed1e0015e846a9\n",
      "record 605b6a2426ed1e003928efcf assigned to workspace 5fb55e4826ed1e0015e846a9\n",
      "record 605b6a2126ed1e003c28efb1 assigned to workspace 5fb55e4826ed1e0015e846a9\n",
      "record 605b6a1e26ed1e002a28efeb assigned to workspace 5fb55e4826ed1e0015e846a9\n",
      "record 605b6a1b26ed1e003528efb1 assigned to workspace 5fb55e4826ed1e0015e846a9\n",
      "record 605b6a1926ed1e003d28efb0 assigned to workspace 5fb55e4826ed1e0015e846a9\n",
      "record 605b6a1626ed1e003928efcb assigned to workspace 5fb55e4826ed1e0015e846a9\n",
      "record 605b6a1326ed1e003c28efad assigned to workspace 5fb55e4826ed1e0015e846a9\n",
      "record 605b6a1026ed1e002a28efe7 assigned to workspace 5fb55e4826ed1e0015e846a9\n",
      "record 605b6a0d26ed1e003528efad assigned to workspace 5fb55e4826ed1e0015e846a9\n",
      "record 605b6a0a26ed1e003d28efac assigned to workspace 5fb55e4826ed1e0015e846a9\n",
      "record 605b6a0826ed1e003928efc7 assigned to workspace 5fb55e4826ed1e0015e846a9\n",
      "record 605b6a0426ed1e003c28efa9 assigned to workspace 5fb55e4826ed1e0015e846a9\n",
      "record 605b6a0126ed1e002a28efe3 assigned to workspace 5fb55e4826ed1e0015e846a9\n",
      "record 605b69fe26ed1e003528efa9 assigned to workspace 5fb55e4826ed1e0015e846a9\n",
      "record 605b69fb26ed1e003d28efa8 assigned to workspace 5fb55e4826ed1e0015e846a9\n",
      "record 605b69f826ed1e003928efc3 assigned to workspace 5fb55e4826ed1e0015e846a9\n",
      "record 605b69f526ed1e003c28efa5 assigned to workspace 5fb55e4826ed1e0015e846a9\n",
      "record 605b69f126ed1e002a28efdf assigned to workspace 5fb55e4826ed1e0015e846a9\n",
      "record 605b69ee26ed1e003528efa5 assigned to workspace 5fb55e4826ed1e0015e846a9\n",
      "record 605b69eb26ed1e003d28efa4 assigned to workspace 5fb55e4826ed1e0015e846a9\n",
      "record 605b69e626ed1e003928efbf assigned to workspace 5fb55e4826ed1e0015e846a9\n",
      "record 605b69e226ed1e003c28efa1 assigned to workspace 5fb55e4826ed1e0015e846a9\n",
      "record 605b69de26ed1e002a28efdb assigned to workspace 5fb55e4826ed1e0015e846a9\n",
      "record 605b69db26ed1e003528efa1 assigned to workspace 5fb55e4826ed1e0015e846a9\n",
      "record 605b69d726ed1e003d28efa0 assigned to workspace 5fb55e4826ed1e0015e846a9\n",
      "record 605b69d326ed1e003928efbb assigned to workspace 5fb55e4826ed1e0015e846a9\n",
      "record 605b69d026ed1e003c28ef9d assigned to workspace 5fb55e4826ed1e0015e846a9\n",
      "record 605b69cc26ed1e002a28efd7 assigned to workspace 5fb55e4826ed1e0015e846a9\n",
      "record 605b69c826ed1e003528ef9d assigned to workspace 5fb55e4826ed1e0015e846a9\n",
      "record 605b69c526ed1e003d28ef9c assigned to workspace 5fb55e4826ed1e0015e846a9\n",
      "record 605b69c226ed1e003928efb7 assigned to workspace 5fb55e4826ed1e0015e846a9\n",
      "record 605b69bf26ed1e003c28ef99 assigned to workspace 5fb55e4826ed1e0015e846a9\n",
      "record 605b69b926ed1e002a28efd3 assigned to workspace 5fb55e4826ed1e0015e846a9\n",
      "record 605b69b626ed1e003528ef99 assigned to workspace 5fb55e4826ed1e0015e846a9\n",
      "record 605b69b126ed1e003d28ef98 assigned to workspace 5fb55e4826ed1e0015e846a9\n",
      "record 605b69ae26ed1e003928efb3 assigned to workspace 5fb55e4826ed1e0015e846a9\n",
      "record 605b69ab26ed1e003c28ef95 assigned to workspace 5fb55e4826ed1e0015e846a9\n",
      "record 605b69a626ed1e002a28efcf assigned to workspace 5fb55e4826ed1e0015e846a9\n",
      "record 605b69a226ed1e003528ef95 assigned to workspace 5fb55e4826ed1e0015e846a9\n",
      "record 605b699f26ed1e003d28ef94 assigned to workspace 5fb55e4826ed1e0015e846a9\n",
      "record 605b699c26ed1e003928efaf assigned to workspace 5fb55e4826ed1e0015e846a9\n",
      "record 605b699926ed1e003c28ef91 assigned to workspace 5fb55e4826ed1e0015e846a9\n",
      "record 605b699626ed1e002a28efcb assigned to workspace 5fb55e4826ed1e0015e846a9\n",
      "record 605b699326ed1e003528ef91 assigned to workspace 5fb55e4826ed1e0015e846a9\n",
      "record 605b698f26ed1e003d28ef90 assigned to workspace 5fb55e4826ed1e0015e846a9\n",
      "record 605b698c26ed1e003928efab assigned to workspace 5fb55e4826ed1e0015e846a9\n",
      "record 605b698826ed1e003c28ef8d assigned to workspace 5fb55e4826ed1e0015e846a9\n",
      "record 605b698426ed1e002a28efc7 assigned to workspace 5fb55e4826ed1e0015e846a9\n",
      "record 605b698126ed1e003528ef8d assigned to workspace 5fb55e4826ed1e0015e846a9\n",
      "record 605b697d26ed1e003d28ef8c assigned to workspace 5fb55e4826ed1e0015e846a9\n",
      "record 605b697a26ed1e003928efa7 assigned to workspace 5fb55e4826ed1e0015e846a9\n",
      "record 605b697726ed1e003c28ef89 assigned to workspace 5fb55e4826ed1e0015e846a9\n",
      "record 605b697026ed1e002a28efc3 assigned to workspace 5fb55e4826ed1e0015e846a9\n",
      "record 605b696b26ed1e003528ef89 assigned to workspace 5fb55e4826ed1e0015e846a9\n",
      "record 605b696826ed1e003d28ef88 assigned to workspace 5fb55e4826ed1e0015e846a9\n",
      "record 605b696526ed1e003928efa3 assigned to workspace 5fb55e4826ed1e0015e846a9\n",
      "record 605b696126ed1e003c28ef85 assigned to workspace 5fb55e4826ed1e0015e846a9\n",
      "record 605b695d26ed1e002a28efbf assigned to workspace 5fb55e4826ed1e0015e846a9\n",
      "record 605b695926ed1e003528ef85 assigned to workspace 5fb55e4826ed1e0015e846a9\n",
      "record 605b695626ed1e003d28ef84 assigned to workspace 5fb55e4826ed1e0015e846a9\n",
      "record 605b695226ed1e003928ef9f assigned to workspace 5fb55e4826ed1e0015e846a9\n",
      "record 605b694f26ed1e003c28ef81 assigned to workspace 5fb55e4826ed1e0015e846a9\n",
      "record 605b694b26ed1e002a28efbb assigned to workspace 5fb55e4826ed1e0015e846a9\n",
      "record 605b694826ed1e003528ef81 assigned to workspace 5fb55e4826ed1e0015e846a9\n",
      "record 605b694426ed1e003d28ef80 assigned to workspace 5fb55e4826ed1e0015e846a9\n",
      "record 605b694026ed1e003928ef9b assigned to workspace 5fb55e4826ed1e0015e846a9\n",
      "record 605b693c26ed1e003c28ef7d assigned to workspace 5fb55e4826ed1e0015e846a9\n",
      "record 605b693826ed1e002a28efb7 assigned to workspace 5fb55e4826ed1e0015e846a9\n",
      "record 605b693226ed1e003528ef7d assigned to workspace 5fb55e4826ed1e0015e846a9\n",
      "record 605b692e26ed1e003d28ef7c assigned to workspace 5fb55e4826ed1e0015e846a9\n",
      "record 605b692b26ed1e003928ef97 assigned to workspace 5fb55e4826ed1e0015e846a9\n",
      "record 605b692926ed1e003c28ef79 assigned to workspace 5fb55e4826ed1e0015e846a9\n",
      "record 605b692626ed1e002a28efb3 assigned to workspace 5fb55e4826ed1e0015e846a9\n",
      "record 605b692226ed1e003528ef79 assigned to workspace 5fb55e4826ed1e0015e846a9\n",
      "record 605b691e26ed1e003d28ef78 assigned to workspace 5fb55e4826ed1e0015e846a9\n",
      "record 605b691926ed1e003928ef93 assigned to workspace 5fb55e4826ed1e0015e846a9\n",
      "record 605b691626ed1e003c28ef75 assigned to workspace 5fb55e4826ed1e0015e846a9\n",
      "record 605b691226ed1e002a28efaf assigned to workspace 5fb55e4826ed1e0015e846a9\n"
     ]
    },
    {
     "name": "stdout",
     "output_type": "stream",
     "text": [
      "record 605b690f26ed1e003528ef75 assigned to workspace 5fb55e4826ed1e0015e846a9\n",
      "record 605b690b26ed1e003d28ef74 assigned to workspace 5fb55e4826ed1e0015e846a9\n",
      "record 605b690926ed1e003928ef8f assigned to workspace 5fb55e4826ed1e0015e846a9\n",
      "record 605b690626ed1e003c28ef71 assigned to workspace 5fb55e4826ed1e0015e846a9\n",
      "record 605b690326ed1e002a28efab assigned to workspace 5fb55e4826ed1e0015e846a9\n",
      "record 605b68ff26ed1e003528ef71 assigned to workspace 5fb55e4826ed1e0015e846a9\n",
      "record 605b68fc26ed1e003d28ef70 assigned to workspace 5fb55e4826ed1e0015e846a9\n",
      "record 605b68f926ed1e003928ef8b assigned to workspace 5fb55e4826ed1e0015e846a9\n",
      "record 605b68f526ed1e003c28ef6d assigned to workspace 5fb55e4826ed1e0015e846a9\n",
      "record 605b68f126ed1e002a28efa7 assigned to workspace 5fb55e4826ed1e0015e846a9\n",
      "record 605b68ed26ed1e003528ef6d assigned to workspace 5fb55e4826ed1e0015e846a9\n",
      "record 605b68ea26ed1e003d28ef6c assigned to workspace 5fb55e4826ed1e0015e846a9\n",
      "record 605b68e626ed1e003928ef87 assigned to workspace 5fb55e4826ed1e0015e846a9\n",
      "record 605b68e426ed1e003c28ef69 assigned to workspace 5fb55e4826ed1e0015e846a9\n",
      "record 605b68e026ed1e002a28efa3 assigned to workspace 5fb55e4826ed1e0015e846a9\n",
      "record 605b68db26ed1e003528ef69 assigned to workspace 5fb55e4826ed1e0015e846a9\n",
      "record 605b68d826ed1e003d28ef68 assigned to workspace 5fb55e4826ed1e0015e846a9\n",
      "record 605b68d526ed1e003928ef83 assigned to workspace 5fb55e4826ed1e0015e846a9\n",
      "record 605b68cf26ed1e003c28ef65 assigned to workspace 5fb55e4826ed1e0015e846a9\n",
      "record 605b68cc26ed1e002a28ef9f assigned to workspace 5fb55e4826ed1e0015e846a9\n",
      "record 605b68c926ed1e003528ef65 assigned to workspace 5fb55e4826ed1e0015e846a9\n",
      "record 605b68c626ed1e003d28ef64 assigned to workspace 5fb55e4826ed1e0015e846a9\n",
      "record 605b68c226ed1e003928ef7f assigned to workspace 5fb55e4826ed1e0015e846a9\n",
      "record 605b68bf26ed1e003c28ef61 assigned to workspace 5fb55e4826ed1e0015e846a9\n",
      "record 605b68bc26ed1e002a28ef9b assigned to workspace 5fb55e4826ed1e0015e846a9\n",
      "record 605b68b726ed1e003528ef61 assigned to workspace 5fb55e4826ed1e0015e846a9\n",
      "record 605b68b326ed1e003d28ef60 assigned to workspace 5fb55e4826ed1e0015e846a9\n",
      "record 605b68af26ed1e003928ef7b assigned to workspace 5fb55e4826ed1e0015e846a9\n",
      "record 605b68ab26ed1e003c28ef5d assigned to workspace 5fb55e4826ed1e0015e846a9\n",
      "record 605b68a726ed1e002a28ef97 assigned to workspace 5fb55e4826ed1e0015e846a9\n",
      "record 605b68a426ed1e003528ef5d assigned to workspace 5fb55e4826ed1e0015e846a9\n",
      "record 605b68a126ed1e003d28ef5c assigned to workspace 5fb55e4826ed1e0015e846a9\n",
      "record 605b689d26ed1e003928ef77 assigned to workspace 5fb55e4826ed1e0015e846a9\n",
      "record 605b689a26ed1e003c28ef59 assigned to workspace 5fb55e4826ed1e0015e846a9\n",
      "record 605b689626ed1e002a28ef93 assigned to workspace 5fb55e4826ed1e0015e846a9\n",
      "record 605b689326ed1e003528ef59 assigned to workspace 5fb55e4826ed1e0015e846a9\n",
      "record 605b689026ed1e003d28ef58 assigned to workspace 5fb55e4826ed1e0015e846a9\n",
      "record 605b688d26ed1e003928ef73 assigned to workspace 5fb55e4826ed1e0015e846a9\n",
      "record 605b688a26ed1e003c28ef55 assigned to workspace 5fb55e4826ed1e0015e846a9\n",
      "record 605b687b26ed1e002a28ef8f assigned to workspace 5fb55e4826ed1e0015e846a9\n",
      "record 605b687726ed1e003528ef55 assigned to workspace 5fb55e4826ed1e0015e846a9\n",
      "record 605b687326ed1e003d28ef54 assigned to workspace 5fb55e4826ed1e0015e846a9\n",
      "record 605b687026ed1e003928ef6f assigned to workspace 5fb55e4826ed1e0015e846a9\n",
      "record 605b686d26ed1e003c28ef51 assigned to workspace 5fb55e4826ed1e0015e846a9\n",
      "record 605b686a26ed1e002a28ef8b assigned to workspace 5fb55e4826ed1e0015e846a9\n",
      "record 605b686726ed1e003528ef51 assigned to workspace 5fb55e4826ed1e0015e846a9\n",
      "record 605b686326ed1e003d28ef50 assigned to workspace 5fb55e4826ed1e0015e846a9\n",
      "record 605b685f26ed1e003928ef6b assigned to workspace 5fb55e4826ed1e0015e846a9\n",
      "record 605b685c26ed1e003c28ef4d assigned to workspace 5fb55e4826ed1e0015e846a9\n",
      "record 605b685926ed1e002a28ef87 assigned to workspace 5fb55e4826ed1e0015e846a9\n",
      "record 605b685526ed1e003528ef4d assigned to workspace 5fb55e4826ed1e0015e846a9\n",
      "record 605b685326ed1e003d28ef4c assigned to workspace 5fb55e4826ed1e0015e846a9\n",
      "record 605b684f26ed1e003928ef67 assigned to workspace 5fb55e4826ed1e0015e846a9\n",
      "record 605b684b26ed1e003c28ef49 assigned to workspace 5fb55e4826ed1e0015e846a9\n",
      "record 605b684826ed1e002a28ef83 assigned to workspace 5fb55e4826ed1e0015e846a9\n",
      "record 605b684426ed1e003528ef49 assigned to workspace 5fb55e4826ed1e0015e846a9\n",
      "record 605b684126ed1e003d28ef48 assigned to workspace 5fb55e4826ed1e0015e846a9\n",
      "record 605b683b26ed1e003928ef63 assigned to workspace 5fb55e4826ed1e0015e846a9\n",
      "record 605b683626ed1e003c28ef45 assigned to workspace 5fb55e4826ed1e0015e846a9\n",
      "record 605b683226ed1e002a28ef7f assigned to workspace 5fb55e4826ed1e0015e846a9\n",
      "record 605b682e26ed1e003528ef45 assigned to workspace 5fb55e4826ed1e0015e846a9\n",
      "record 605b682c26ed1e003d28ef44 assigned to workspace 5fb55e4826ed1e0015e846a9\n",
      "record 605b682926ed1e003928ef5f assigned to workspace 5fb55e4826ed1e0015e846a9\n",
      "record 605b682426ed1e003c28ef41 assigned to workspace 5fb55e4826ed1e0015e846a9\n",
      "record 605b682126ed1e002a28ef7b assigned to workspace 5fb55e4826ed1e0015e846a9\n",
      "record 605b681e26ed1e003528ef41 assigned to workspace 5fb55e4826ed1e0015e846a9\n",
      "record 605b681a26ed1e003d28ef40 assigned to workspace 5fb55e4826ed1e0015e846a9\n",
      "record 605b681726ed1e003928ef5b assigned to workspace 5fb55e4826ed1e0015e846a9\n",
      "record 605b681426ed1e003c28ef3d assigned to workspace 5fb55e4826ed1e0015e846a9\n",
      "record 605b681126ed1e002a28ef77 assigned to workspace 5fb55e4826ed1e0015e846a9\n",
      "record 605b680d26ed1e003528ef3d assigned to workspace 5fb55e4826ed1e0015e846a9\n",
      "record 605b680826ed1e003d28ef3c assigned to workspace 5fb55e4826ed1e0015e846a9\n",
      "record 605b680526ed1e003928ef57 assigned to workspace 5fb55e4826ed1e0015e846a9\n",
      "record 605b680126ed1e003c28ef39 assigned to workspace 5fb55e4826ed1e0015e846a9\n",
      "record 605b67fe26ed1e002a28ef73 assigned to workspace 5fb55e4826ed1e0015e846a9\n",
      "record 605b67fa26ed1e003528ef39 assigned to workspace 5fb55e4826ed1e0015e846a9\n",
      "record 605b67f626ed1e003d28ef38 assigned to workspace 5fb55e4826ed1e0015e846a9\n",
      "record 605b67f326ed1e003928ef53 assigned to workspace 5fb55e4826ed1e0015e846a9\n",
      "record 605b67ee26ed1e003c28ef35 assigned to workspace 5fb55e4826ed1e0015e846a9\n",
      "record 605b67e926ed1e002a28ef6f assigned to workspace 5fb55e4826ed1e0015e846a9\n",
      "record 605b67e326ed1e003528ef35 assigned to workspace 5fb55e4826ed1e0015e846a9\n",
      "record 605b67e026ed1e003d28ef34 assigned to workspace 5fb55e4826ed1e0015e846a9\n",
      "record 605b67dc26ed1e003928ef4f assigned to workspace 5fb55e4826ed1e0015e846a9\n",
      "record 605b67d926ed1e003c28ef31 assigned to workspace 5fb55e4826ed1e0015e846a9\n",
      "record 605b67d426ed1e002a28ef6b assigned to workspace 5fb55e4826ed1e0015e846a9\n",
      "record 605b67d126ed1e003528ef31 assigned to workspace 5fb55e4826ed1e0015e846a9\n",
      "record 605b67ce26ed1e003d28ef30 assigned to workspace 5fb55e4826ed1e0015e846a9\n",
      "record 605b67ca26ed1e003928ef4b assigned to workspace 5fb55e4826ed1e0015e846a9\n",
      "record 605b67c726ed1e003c28ef2d assigned to workspace 5fb55e4826ed1e0015e846a9\n",
      "record 605b67c426ed1e002a28ef67 assigned to workspace 5fb55e4826ed1e0015e846a9\n",
      "record 605b67c226ed1e003528ef2d assigned to workspace 5fb55e4826ed1e0015e846a9\n",
      "record 605b67be26ed1e003d28ef2c assigned to workspace 5fb55e4826ed1e0015e846a9\n",
      "record 605b67ba26ed1e003928ef47 assigned to workspace 5fb55e4826ed1e0015e846a9\n",
      "record 605b67b726ed1e003c28ef29 assigned to workspace 5fb55e4826ed1e0015e846a9\n",
      "record 605b67b526ed1e002a28ef63 assigned to workspace 5fb55e4826ed1e0015e846a9\n",
      "record 605b67b226ed1e003528ef29 assigned to workspace 5fb55e4826ed1e0015e846a9\n",
      "record 605b67ae26ed1e003d28ef28 assigned to workspace 5fb55e4826ed1e0015e846a9\n",
      "record 605b67ac26ed1e003928ef43 assigned to workspace 5fb55e4826ed1e0015e846a9\n",
      "record 605b67a926ed1e003c28ef25 assigned to workspace 5fb55e4826ed1e0015e846a9\n",
      "record 605b67a626ed1e002a28ef5f assigned to workspace 5fb55e4826ed1e0015e846a9\n",
      "record 605b67a326ed1e003528ef25 assigned to workspace 5fb55e4826ed1e0015e846a9\n",
      "record 605b67a026ed1e003d28ef24 assigned to workspace 5fb55e4826ed1e0015e846a9\n",
      "record 605b679d26ed1e003928ef3f assigned to workspace 5fb55e4826ed1e0015e846a9\n",
      "record 605b679926ed1e003c28ef21 assigned to workspace 5fb55e4826ed1e0015e846a9\n",
      "record 605b679526ed1e002a28ef5b assigned to workspace 5fb55e4826ed1e0015e846a9\n",
      "record 605b679226ed1e003528ef21 assigned to workspace 5fb55e4826ed1e0015e846a9\n",
      "record 605b678f26ed1e003d28ef20 assigned to workspace 5fb55e4826ed1e0015e846a9\n",
      "record 605b678b26ed1e003928ef3b assigned to workspace 5fb55e4826ed1e0015e846a9\n",
      "record 605b677926ed1e003c28ef1d assigned to workspace 5fb55e4826ed1e0015e846a9\n",
      "record 605b677526ed1e002a28ef57 assigned to workspace 5fb55e4826ed1e0015e846a9\n",
      "record 605b677226ed1e003528ef1d assigned to workspace 5fb55e4826ed1e0015e846a9\n",
      "record 605b676d26ed1e003d28ef1c assigned to workspace 5fb55e4826ed1e0015e846a9\n",
      "record 605b676926ed1e003928ef37 assigned to workspace 5fb55e4826ed1e0015e846a9\n",
      "record 605b676426ed1e003c28ef19 assigned to workspace 5fb55e4826ed1e0015e846a9\n",
      "record 605b676226ed1e002a28ef53 assigned to workspace 5fb55e4826ed1e0015e846a9\n",
      "record 605b675d26ed1e003528ef19 assigned to workspace 5fb55e4826ed1e0015e846a9\n",
      "record 605b675926ed1e003d28ef18 assigned to workspace 5fb55e4826ed1e0015e846a9\n",
      "record 605b675626ed1e003928ef33 assigned to workspace 5fb55e4826ed1e0015e846a9\n",
      "record 605b675126ed1e003c28ef15 assigned to workspace 5fb55e4826ed1e0015e846a9\n",
      "record 605b674e26ed1e002a28ef4f assigned to workspace 5fb55e4826ed1e0015e846a9\n",
      "record 605b674a26ed1e003528ef15 assigned to workspace 5fb55e4826ed1e0015e846a9\n",
      "record 605b674626ed1e003d28ef14 assigned to workspace 5fb55e4826ed1e0015e846a9\n",
      "record 605b674326ed1e003928ef2f assigned to workspace 5fb55e4826ed1e0015e846a9\n",
      "record 605b673f26ed1e003c28ef11 assigned to workspace 5fb55e4826ed1e0015e846a9\n",
      "record 605b673b26ed1e002a28ef4b assigned to workspace 5fb55e4826ed1e0015e846a9\n",
      "record 605b673726ed1e003528ef11 assigned to workspace 5fb55e4826ed1e0015e846a9\n",
      "record 605b673426ed1e003d28ef10 assigned to workspace 5fb55e4826ed1e0015e846a9\n",
      "record 605b673126ed1e003928ef2b assigned to workspace 5fb55e4826ed1e0015e846a9\n",
      "record 605b672e26ed1e003c28ef0d assigned to workspace 5fb55e4826ed1e0015e846a9\n",
      "record 605b672b26ed1e002a28ef47 assigned to workspace 5fb55e4826ed1e0015e846a9\n",
      "record 605b672826ed1e003528ef0d assigned to workspace 5fb55e4826ed1e0015e846a9\n",
      "record 605b672526ed1e003d28ef0c assigned to workspace 5fb55e4826ed1e0015e846a9\n",
      "record 605b672026ed1e003928ef27 assigned to workspace 5fb55e4826ed1e0015e846a9\n",
      "record 605b671e26ed1e003c28ef09 assigned to workspace 5fb55e4826ed1e0015e846a9\n",
      "record 605b671b26ed1e002a28ef43 assigned to workspace 5fb55e4826ed1e0015e846a9\n",
      "record 605b671826ed1e003528ef09 assigned to workspace 5fb55e4826ed1e0015e846a9\n",
      "record 605b671526ed1e003d28ef08 assigned to workspace 5fb55e4826ed1e0015e846a9\n",
      "record 605b671226ed1e003628ef21 assigned to workspace 5fb55e4826ed1e0015e846a9\n",
      "record 605b670f26ed1e002a28ef3f assigned to workspace 5fb55e4826ed1e0015e846a9\n",
      "record 605b670c26ed1e003b28ef2c assigned to workspace 5fb55e4826ed1e0015e846a9\n",
      "record 605b670826ed1e003828ef31 assigned to workspace 5fb55e4826ed1e0015e846a9\n",
      "record 605b670526ed1e002a28ef3b assigned to workspace 5fb55e4826ed1e0015e846a9\n",
      "record 605b670126ed1e003a28ef26 assigned to workspace 5fb55e4826ed1e0015e846a9\n",
      "record 605b66fd26ed1e003b28ef28 assigned to workspace 5fb55e4826ed1e0015e846a9\n",
      "record 605b66fa26ed1e003928ef23 assigned to workspace 5fb55e4826ed1e0015e846a9\n",
      "record 605b66f726ed1e003828ef2d assigned to workspace 5fb55e4826ed1e0015e846a9\n",
      "record 605b66f526ed1e002a28ef37 assigned to workspace 5fb55e4826ed1e0015e846a9\n",
      "record 605b66f226ed1e003a28ef22 assigned to workspace 5fb55e4826ed1e0015e846a9\n",
      "record 605b66ef26ed1e003b28ef24 assigned to workspace 5fb55e4826ed1e0015e846a9\n",
      "record 605b66ec26ed1e003928ef1f assigned to workspace 5fb55e4826ed1e0015e846a9\n",
      "record 605b66e926ed1e003828ef29 assigned to workspace 5fb55e4826ed1e0015e846a9\n",
      "record 605b66e626ed1e002a28ef33 assigned to workspace 5fb55e4826ed1e0015e846a9\n",
      "record 605b66e326ed1e003a28ef1e assigned to workspace 5fb55e4826ed1e0015e846a9\n",
      "record 605b66e026ed1e003b28ef20 assigned to workspace 5fb55e4826ed1e0015e846a9\n",
      "record 605b66dd26ed1e003a28ef1a assigned to workspace 5fb55e4826ed1e0015e846a9\n",
      "record 605b66da26ed1e003928ef1b assigned to workspace 5fb55e4826ed1e0015e846a9\n",
      "record 605b66d726ed1e003628ef1d assigned to workspace 5fb55e4826ed1e0015e846a9\n",
      "record 605b66d326ed1e003c28ef05 assigned to workspace 5fb55e4826ed1e0015e846a9\n",
      "record 605b66cf26ed1e003728ef17 assigned to workspace 5fb55e4826ed1e0015e846a9\n",
      "record 605b66cc26ed1e003528ef05 assigned to workspace 5fb55e4826ed1e0015e846a9\n",
      "record 605b66c726ed1e003d28ef04 assigned to workspace 5fb55e4826ed1e0015e846a9\n",
      "record 605b66c526ed1e003628ef19 assigned to workspace 5fb55e4826ed1e0015e846a9\n",
      "record 605b66c226ed1e003c28ef01 assigned to workspace 5fb55e4826ed1e0015e846a9\n",
      "record 605b66be26ed1e003728ef13 assigned to workspace 5fb55e4826ed1e0015e846a9\n",
      "record 605b66bc26ed1e003528ef01 assigned to workspace 5fb55e4826ed1e0015e846a9\n",
      "record 605b66b826ed1e003d28ef00 assigned to workspace 5fb55e4826ed1e0015e846a9\n",
      "record 605b66b526ed1e003628ef15 assigned to workspace 5fb55e4826ed1e0015e846a9\n",
      "record 605b66b226ed1e003728ef0f assigned to workspace 5fb55e4826ed1e0015e846a9\n",
      "record 605b66ae26ed1e003d28eefc assigned to workspace 5fb55e4826ed1e0015e846a9\n",
      "record 605b66ab26ed1e003528eefd assigned to workspace 5fb55e4826ed1e0015e846a9\n",
      "record 605b66a726ed1e003d28eef8 assigned to workspace 5fb55e4826ed1e0015e846a9\n",
      "record 605b66a226ed1e003628ef11 assigned to workspace 5fb55e4826ed1e0015e846a9\n",
      "record 605b669f26ed1e003c28eefd assigned to workspace 5fb55e4826ed1e0015e846a9\n",
      "record 605b669b26ed1e003728ef0b assigned to workspace 5fb55e4826ed1e0015e846a9\n",
      "record 605b669726ed1e003528eef9 assigned to workspace 5fb55e4826ed1e0015e846a9\n",
      "record 605b669426ed1e003d28eef4 assigned to workspace 5fb55e4826ed1e0015e846a9\n",
      "record 605b669026ed1e003628ef0d assigned to workspace 5fb55e4826ed1e0015e846a9\n",
      "record 605b668c26ed1e003c28eef9 assigned to workspace 5fb55e4826ed1e0015e846a9\n",
      "record 605b668926ed1e003728ef07 assigned to workspace 5fb55e4826ed1e0015e846a9\n",
      "record 605b668626ed1e003528eef5 assigned to workspace 5fb55e4826ed1e0015e846a9\n",
      "record 605b668226ed1e003d28eef0 assigned to workspace 5fb55e4826ed1e0015e846a9\n",
      "record 605b667f26ed1e003628ef09 assigned to workspace 5fb55e4826ed1e0015e846a9\n",
      "record 605b667a26ed1e003c28eef5 assigned to workspace 5fb55e4826ed1e0015e846a9\n",
      "record 605b667726ed1e003728ef03 assigned to workspace 5fb55e4826ed1e0015e846a9\n",
      "record 605b667426ed1e003528eef1 assigned to workspace 5fb55e4826ed1e0015e846a9\n",
      "record 605b667026ed1e003d28eeec assigned to workspace 5fb55e4826ed1e0015e846a9\n",
      "record 605b666d26ed1e003628ef05 assigned to workspace 5fb55e4826ed1e0015e846a9\n",
      "record 605b666926ed1e003828ef25 assigned to workspace 5fb55e4826ed1e0015e846a9\n",
      "record 605b666426ed1e002a28ef2f assigned to workspace 5fb55e4826ed1e0015e846a9\n",
      "record 605b666126ed1e003a28ef16 assigned to workspace 5fb55e4826ed1e0015e846a9\n",
      "record 605b665e26ed1e003b28ef1c assigned to workspace 5fb55e4826ed1e0015e846a9\n",
      "record 605b665a26ed1e003928ef17 assigned to workspace 5fb55e4826ed1e0015e846a9\n",
      "record 605b665526ed1e003828ef21 assigned to workspace 5fb55e4826ed1e0015e846a9\n",
      "record 605b665126ed1e002a28ef2b assigned to workspace 5fb55e4826ed1e0015e846a9\n",
      "record 605b664d26ed1e003a28ef12 assigned to workspace 5fb55e4826ed1e0015e846a9\n",
      "record 605b664a26ed1e003b28ef18 assigned to workspace 5fb55e4826ed1e0015e846a9\n",
      "record 605b664626ed1e003928ef13 assigned to workspace 5fb55e4826ed1e0015e846a9\n",
      "record 605b664326ed1e003828ef1d assigned to workspace 5fb55e4826ed1e0015e846a9\n",
      "record 605b664026ed1e002a28ef27 assigned to workspace 5fb55e4826ed1e0015e846a9\n",
      "record 605b663b26ed1e003a28ef0e assigned to workspace 5fb55e4826ed1e0015e846a9\n",
      "record 605b663626ed1e003b28ef14 assigned to workspace 5fb55e4826ed1e0015e846a9\n",
      "record 605b663326ed1e003928ef0f assigned to workspace 5fb55e4826ed1e0015e846a9\n",
      "record 605b663026ed1e003828ef19 assigned to workspace 5fb55e4826ed1e0015e846a9\n",
      "record 605b662d26ed1e002a28ef23 assigned to workspace 5fb55e4826ed1e0015e846a9\n",
      "record 605b662a26ed1e003a28ef0a assigned to workspace 5fb55e4826ed1e0015e846a9\n",
      "record 605b662626ed1e003b28ef10 assigned to workspace 5fb55e4826ed1e0015e846a9\n"
     ]
    },
    {
     "name": "stdout",
     "output_type": "stream",
     "text": [
      "record 605b662326ed1e003928ef0b assigned to workspace 5fb55e4826ed1e0015e846a9\n",
      "record 605b662026ed1e003828ef15 assigned to workspace 5fb55e4826ed1e0015e846a9\n",
      "record 605b661d26ed1e002a28ef1f assigned to workspace 5fb55e4826ed1e0015e846a9\n",
      "record 605b661a26ed1e003a28ef06 assigned to workspace 5fb55e4826ed1e0015e846a9\n",
      "record 605b661726ed1e003b28ef0c assigned to workspace 5fb55e4826ed1e0015e846a9\n",
      "record 605b661326ed1e003928ef07 assigned to workspace 5fb55e4826ed1e0015e846a9\n",
      "record 605b661026ed1e003828ef11 assigned to workspace 5fb55e4826ed1e0015e846a9\n",
      "record 605b660d26ed1e002a28ef1b assigned to workspace 5fb55e4826ed1e0015e846a9\n",
      "record 605b660a26ed1e003a28ef02 assigned to workspace 5fb55e4826ed1e0015e846a9\n",
      "record 605b660726ed1e003b28ef08 assigned to workspace 5fb55e4826ed1e0015e846a9\n",
      "record 605b660326ed1e003928ef03 assigned to workspace 5fb55e4826ed1e0015e846a9\n",
      "record 605b660026ed1e003828ef0d assigned to workspace 5fb55e4826ed1e0015e846a9\n",
      "record 605b65fd26ed1e002a28ef17 assigned to workspace 5fb55e4826ed1e0015e846a9\n",
      "record 605b65fa26ed1e003a28eefe assigned to workspace 5fb55e4826ed1e0015e846a9\n",
      "record 605b65f726ed1e003b28ef04 assigned to workspace 5fb55e4826ed1e0015e846a9\n",
      "record 605b65f326ed1e003928eeff assigned to workspace 5fb55e4826ed1e0015e846a9\n",
      "record 605b65f026ed1e003828ef09 assigned to workspace 5fb55e4826ed1e0015e846a9\n",
      "record 605b65ec26ed1e002a28ef13 assigned to workspace 5fb55e4826ed1e0015e846a9\n",
      "record 605b65e926ed1e003a28eefa assigned to workspace 5fb55e4826ed1e0015e846a9\n",
      "record 605b65e526ed1e003b28ef00 assigned to workspace 5fb55e4826ed1e0015e846a9\n",
      "record 605b65e226ed1e003928eefb assigned to workspace 5fb55e4826ed1e0015e846a9\n",
      "record 605b65de26ed1e003828ef05 assigned to workspace 5fb55e4826ed1e0015e846a9\n",
      "record 605b65d926ed1e002a28ef0f assigned to workspace 5fb55e4826ed1e0015e846a9\n",
      "record 605b65d626ed1e003a28eef6 assigned to workspace 5fb55e4826ed1e0015e846a9\n",
      "record 605b65d226ed1e003b28eefc assigned to workspace 5fb55e4826ed1e0015e846a9\n",
      "record 605b65ce26ed1e003928eef7 assigned to workspace 5fb55e4826ed1e0015e846a9\n",
      "record 605b65cb26ed1e003828ef01 assigned to workspace 5fb55e4826ed1e0015e846a9\n",
      "record 605b65c826ed1e002a28ef0b assigned to workspace 5fb55e4826ed1e0015e846a9\n",
      "record 605b65c226ed1e003a28eef2 assigned to workspace 5fb55e4826ed1e0015e846a9\n",
      "record 605b65be26ed1e003b28eef8 assigned to workspace 5fb55e4826ed1e0015e846a9\n",
      "record 605b65bc26ed1e003928eef3 assigned to workspace 5fb55e4826ed1e0015e846a9\n",
      "record 605b65b926ed1e003828eefd assigned to workspace 5fb55e4826ed1e0015e846a9\n",
      "record 605b65b526ed1e002a28ef07 assigned to workspace 5fb55e4826ed1e0015e846a9\n",
      "record 605b65b226ed1e003a28eeee assigned to workspace 5fb55e4826ed1e0015e846a9\n",
      "record 605b65ad26ed1e003b28eef4 assigned to workspace 5fb55e4826ed1e0015e846a9\n",
      "record 605b65aa26ed1e003928eeef assigned to workspace 5fb55e4826ed1e0015e846a9\n",
      "record 605b65a726ed1e003828eef9 assigned to workspace 5fb55e4826ed1e0015e846a9\n",
      "record 605b65a326ed1e002a28ef03 assigned to workspace 5fb55e4826ed1e0015e846a9\n"
     ]
    }
   ],
   "source": [
    "potdb.cdcs.assign_records(template='potential_LAMMPS_KIM', workspace=workspace, verbose=True)"
   ]
  },
  {
   "cell_type": "code",
   "execution_count": 5,
   "metadata": {},
   "outputs": [
    {
     "name": "stdout",
     "output_type": "stream",
     "text": [
      "print \"Potential 1985--Foiles-S-M--Ni-Cu--LAMMPS--ipr1 listed in the NIST Interatomic Potentials Repository:\"\n",
      "print \"https://www.ctcms.nist.gov/potentials/entry/1985--Foiles-S-M--Ni-Cu/1985--Foiles-S-M--Ni-Cu--LAMMPS--ipr1.html\"\n",
      "print \"Publication(s) related to the potential:\"\n",
      "print \"https://doi.org/10.1103/physrevb.32.7685\"\n",
      "print \"Parameter file(s) can be downloaded at:\"\n",
      "print \"https://www.ctcms.nist.gov/potentials/Download/1985--Foiles-S-M--Ni-Cu/1/Cu_smf7.eam\"\n",
      "print \"https://www.ctcms.nist.gov/potentials/Download/1985--Foiles-S-M--Ni-Cu/1/Ni_smf7.eam\"\n",
      "pair_style eam\n",
      "pair_coeff 1 1 C:\\Users\\lmh1\\Documents\\library\\potential_LAMMPS\\1985--Foiles-S-M--Ni-Cu--LAMMPS--ipr1\\Cu_smf7.eam\n",
      "pair_coeff 2 2 C:\\Users\\lmh1\\Documents\\library\\potential_LAMMPS\\1985--Foiles-S-M--Ni-Cu--LAMMPS--ipr1\\Ni_smf7.eam\n",
      "mass 1 63.55\n",
      "mass 2 58.71\n",
      "\n",
      "\n"
     ]
    }
   ],
   "source": [
    "print(potdb.lammps_potentials[0].pair_info())"
   ]
  },
  {
   "cell_type": "code",
   "execution_count": 7,
   "metadata": {},
   "outputs": [
    {
     "data": {
      "application/vnd.jupyter.widget-view+json": {
       "model_id": "4d9c8262d8a5409b918b5fe4bfaace62",
       "version_major": 2,
       "version_minor": 0
      },
      "text/plain": [
       "Output()"
      ]
     },
     "metadata": {},
     "output_type": "display_data"
    },
    {
     "data": {
      "application/vnd.jupyter.widget-view+json": {
       "model_id": "6f98f35b5a82449caa9682d18d159508",
       "version_major": 2,
       "version_minor": 0
      },
      "text/plain": [
       "Dropdown(description='Element1:', options=('', 'Ac', 'Ag', 'Al', 'Am', 'Ar', 'As', 'At', 'Au', 'B', 'Ba', 'Be'…"
      ]
     },
     "metadata": {},
     "output_type": "display_data"
    },
    {
     "data": {
      "application/vnd.jupyter.widget-view+json": {
       "model_id": "b34f3aadea0c4ea78147b0c2e290b185",
       "version_major": 2,
       "version_minor": 0
      },
      "text/plain": [
       "Dropdown(description='Element2:', options=('', 'Ac', 'Ag', 'Al', 'Am', 'Ar', 'As', 'At', 'Au', 'B', 'Ba', 'Be'…"
      ]
     },
     "metadata": {},
     "output_type": "display_data"
    },
    {
     "data": {
      "application/vnd.jupyter.widget-view+json": {
       "model_id": "3a16308b8d674a7c9efcc6c37fbbab67",
       "version_major": 2,
       "version_minor": 0
      },
      "text/plain": [
       "Dropdown(description='Element3:', options=('', 'Ac', 'Ag', 'Al', 'Am', 'Ar', 'As', 'At', 'Au', 'B', 'Ba', 'Be'…"
      ]
     },
     "metadata": {},
     "output_type": "display_data"
    },
    {
     "data": {
      "application/vnd.jupyter.widget-view+json": {
       "model_id": "1bbcd283c2d74960a5084ffa4ed32f56",
       "version_major": 2,
       "version_minor": 0
      },
      "text/plain": [
       "Dropdown(description='Pair Style:', options=('', 'adp', 'aenet', 'agni', 'bop', 'comb3', 'eam', 'eam/alloy', '…"
      ]
     },
     "metadata": {},
     "output_type": "display_data"
    },
    {
     "data": {
      "application/vnd.jupyter.widget-view+json": {
       "model_id": "372d3093155d46a9b2a7e36f96115b7f",
       "version_major": 2,
       "version_minor": 0
      },
      "text/plain": [
       "Dropdown(description='Potential:', options=('1985--Foiles-S-M--Ni-Cu--LAMMPS--ipr1', '1985--Stillinger-F-H--Si…"
      ]
     },
     "metadata": {},
     "output_type": "display_data"
    },
    {
     "data": {
      "application/vnd.jupyter.widget-view+json": {
       "model_id": "8f5e33e0f61e4c4091d86f4f3c1441e0",
       "version_major": 2,
       "version_minor": 0
      },
      "text/plain": [
       "Button(description='Copy Files', style=ButtonStyle())"
      ]
     },
     "metadata": {},
     "output_type": "display_data"
    },
    {
     "data": {
      "application/vnd.jupyter.widget-view+json": {
       "model_id": "360db38ce89f4c1fbabe020a8d11200d",
       "version_major": 2,
       "version_minor": 0
      },
      "text/plain": [
       "Output()"
      ]
     },
     "metadata": {},
     "output_type": "display_data"
    }
   ],
   "source": [
    "d = {}\n",
    "potdb.widget_lammps_potential(d)"
   ]
  },
  {
   "cell_type": "code",
   "execution_count": 10,
   "metadata": {},
   "outputs": [
    {
     "name": "stdout",
     "output_type": "stream",
     "text": [
      "print \"Potential 2010--Olsson-P-A-T--Au--LAMMPS--ipr1 listed in the NIST Interatomic Potentials Repository:\"\n",
      "print \"https://www.ctcms.nist.gov/potentials/entry/2010--Olsson-P-A-T--Au/2010--Olsson-P-A-T--Au--LAMMPS--ipr1.html\"\n",
      "print \"Publication(s) related to the potential:\"\n",
      "print \"https://doi.org/10.1063/1.3460127\"\n",
      "print \"Parameter file(s) can be downloaded at:\"\n",
      "print \"https://www.ctcms.nist.gov/potentials/Download/2010--Olsson-P-A-T--Au/2/Au_Olsson_JAP2010.eam.alloy\"\n",
      "pair_style eam/alloy\n",
      "pair_coeff * * C:\\Users\\lmh1\\Documents\\library\\potential_LAMMPS\\2010--Olsson-P-A-T--Au--LAMMPS--ipr1\\Au_Olsson_JAP2010.eam.alloy Au\n",
      "mass 1 196.96655\n",
      "\n",
      "\n"
     ]
    }
   ],
   "source": [
    "print(d['lammps_potential'].pair_info())"
   ]
  },
  {
   "cell_type": "code",
   "execution_count": 17,
   "metadata": {},
   "outputs": [],
   "source": [
    "pot = potentials.build_lammps_potential('eam/alloy', elements='Al', #comments='Test build potential', #dois='pasf/asfd3',\n",
    "                                        paramfile='Al.eam.alloy')"
   ]
  },
  {
   "cell_type": "code",
   "execution_count": 18,
   "metadata": {},
   "outputs": [],
   "source": [
    "pot = pot.potential()"
   ]
  },
  {
   "cell_type": "code",
   "execution_count": 19,
   "metadata": {},
   "outputs": [
    {
     "name": "stdout",
     "output_type": "stream",
     "text": [
      "pair_style eam/alloy\n",
      "pair_coeff * * Al.eam.alloy Al\n",
      "mass 1 26.9815385\n",
      "\n",
      "\n"
     ]
    }
   ],
   "source": [
    "print(pot.pair_info())"
   ]
  },
  {
   "cell_type": "code",
   "execution_count": null,
   "metadata": {},
   "outputs": [],
   "source": [
    "print(potdb.lammps_potentials[400].pair_data_info('test.dat', [True,False, True]))"
   ]
  },
  {
   "cell_type": "code",
   "execution_count": null,
   "metadata": {},
   "outputs": [],
   "source": [
    "print(potdb.lammps_potentials[4].pair_data_info('test.dat', [True,False, True]))"
   ]
  },
  {
   "cell_type": "code",
   "execution_count": null,
   "metadata": {},
   "outputs": [],
   "source": [
    "print(potdb.lammps_potentials[587].pair_data_info('f.dat', [True, True, True], 'Sg'))"
   ]
  },
  {
   "cell_type": "code",
   "execution_count": null,
   "metadata": {},
   "outputs": [],
   "source": [
    "potdb.load_potentials(remote=False)"
   ]
  },
  {
   "cell_type": "code",
   "execution_count": null,
   "metadata": {},
   "outputs": [],
   "source": [
    "lmppot = potdb.lammps_potentials[0]"
   ]
  },
  {
   "cell_type": "code",
   "execution_count": null,
   "metadata": {},
   "outputs": [],
   "source": [
    "pot = potdb.potentials[potdb.potentials_df.id == lmppot.potid][0]"
   ]
  },
  {
   "cell_type": "code",
   "execution_count": null,
   "metadata": {},
   "outputs": [],
   "source": [
    "f'https://doi.org/{pot.citations[0].doi}'"
   ]
  },
  {
   "cell_type": "code",
   "execution_count": 1,
   "metadata": {},
   "outputs": [],
   "source": [
    "from DataModelDict import DataModelDict as DM\n",
    "from pathlib import Path"
   ]
  },
  {
   "cell_type": "code",
   "execution_count": 2,
   "metadata": {},
   "outputs": [],
   "source": [
    "for fname in Path('C:/Users/lmh1/Documents/library/potential_LAMMPS').glob('*.json'):\n",
    "    with open(fname) as f:\n",
    "        content = f.read()\n",
    "    content = content.replace('\"comment\":', '\"comments\":')\n",
    "    \n",
    "    with open(fname, 'w') as f:\n",
    "        f.write(content)"
   ]
  },
  {
   "cell_type": "code",
   "execution_count": null,
   "metadata": {},
   "outputs": [],
   "source": []
  },
  {
   "cell_type": "code",
   "execution_count": null,
   "metadata": {},
   "outputs": [],
   "source": [
    "for lmppot in potdb.lammps_potentials:\n",
    "    new = update_record(lmppot, potdb)\n",
    "    \n",
    "    fname = Path(potdb.localpath, 'potential_LAMMPS', f'{new[\"id\"]}.json')\n",
    "                 \n",
    "    with open(fname, 'w') as f:\n",
    "        model = DM([('potential-LAMMPS', new)])\n",
    "        model.json(fp=f, indent=4)"
   ]
  },
  {
   "cell_type": "code",
   "execution_count": null,
   "metadata": {},
   "outputs": [],
   "source": [
    "potdb.lammps_potentials[0].id\n",
    "\n",
    "def update_record(lmppot, potdb):\n",
    "    new = DM()\n",
    "    \n",
    "    # Insert comment after potential\n",
    "    for key in lmppot.model:\n",
    "        new[key] = lmppot.model[key]\n",
    "        \n",
    "        if key == 'potential':\n",
    "            comment = f'Potential {lmppot.id} listed in the NIST Interatomic Potentials Repository:\\n'\n",
    "            comment += f'https://www.ctcms.nist.gov/potentials/entry/{lmppot.potid}/{lmppot.id}.html\\n'\n",
    "            new['comment'] = comment\n",
    "    \n",
    "    # Add doi values to potential\n",
    "    try:\n",
    "        pot = potdb.potentials[potdb.potentials_df.id == lmppot.potid][0]\n",
    "    except:\n",
    "        pass\n",
    "    else:\n",
    "        if 'doi' in new['potential']:\n",
    "            del new['potential']['doi']\n",
    "        for citation in pot.citations:\n",
    "            try:\n",
    "                new['potential'].append('doi', citation.doi)\n",
    "            except:\n",
    "                pass\n",
    "        \n",
    "    return new\n",
    "\n",
    "new = update_record(potdb.lammps_potentials[0], potdb)"
   ]
  },
  {
   "cell_type": "code",
   "execution_count": null,
   "metadata": {},
   "outputs": [],
   "source": [
    "new"
   ]
  },
  {
   "cell_type": "code",
   "execution_count": null,
   "metadata": {},
   "outputs": [],
   "source": [
    "for i in potdb.lammps_potentials_df[potdb.lammps_potentials_df.pair_style == 'kim'].index[180:200]:\n",
    "    print(i, potdb.lammps_potentials_df.loc[i, 'symbols'])"
   ]
  },
  {
   "cell_type": "code",
   "execution_count": null,
   "metadata": {},
   "outputs": [],
   "source": [
    "potdb.lammps_potentials_df[potdb.lammps_potentials_df.id == 'EAM_Dynamo_MendelevAckland_2007v3_Zr__MO_004835508849_000'].index"
   ]
  },
  {
   "cell_type": "code",
   "execution_count": null,
   "metadata": {},
   "outputs": [],
   "source": [
    "from pathlib import Path\n",
    "from DataModelDict import DataModelDict as DM\n",
    "import potentials"
   ]
  },
  {
   "cell_type": "code",
   "execution_count": null,
   "metadata": {},
   "outputs": [],
   "source": [
    "potdb = potentials.Database(load=['potentials', 'lammps_potentials'], remote=False)"
   ]
  },
  {
   "cell_type": "code",
   "execution_count": null,
   "metadata": {},
   "outputs": [],
   "source": [
    "fnames = [i for i in Path('C:/Users/lmh1/Documents/library/potential_LAMMPS_KIM').glob('*.json')]"
   ]
  },
  {
   "cell_type": "code",
   "execution_count": null,
   "metadata": {},
   "outputs": [],
   "source": [
    "for fname in Path('C:/Users/lmh1/Documents/library/potential_LAMMPS_KIM').glob('*.json'):\n",
    "    \n",
    "    model = DM(fname)\n",
    "    \n",
    "    stop = False\n",
    "    for kimpot in model['potential-LAMMPS-KIM'].aslist('potential'):\n",
    "        if 'atom' in kimpot:\n",
    "            continue\n",
    "        if 'elements' not in kimpot:\n",
    "            print('No elements listed')\n",
    "            stop = True\n",
    "            break\n",
    "            \n",
    "        else:\n",
    "            print(fname.stem)\n",
    "            # Find the corresponding potentials listing\n",
    "            try:\n",
    "                pot = potdb.potentials[potdb.potentials_df.key == kimpot['key']][0]\n",
    "            except:\n",
    "                print('No matching potential listing')\n",
    "                stop = True\n",
    "                break\n",
    "            \n",
    "            \n",
    "            impids = []\n",
    "            for imp in pot.implementations:\n",
    "                impids.append(imp.id)\n",
    "            try:\n",
    "                lmppot = potdb.lammps_potentials[potdb.lammps_potentials_df.id.isin(impids)][0]\n",
    "            except:\n",
    "                for element in kimpot.aslist('elements'):\n",
    "                    kimpot.append('atom', DM([('element', element)]))\n",
    "                del kimpot['elements']\n",
    "            else:\n",
    "                del kimpot['elements']\n",
    "                kimpot['atom'] = lmppot.model['atom']\n",
    "    if stop:\n",
    "        break\n",
    "    with open(fname, 'w') as f:\n",
    "        model.json(fp=f, indent=4)"
   ]
  },
  {
   "cell_type": "code",
   "execution_count": null,
   "metadata": {},
   "outputs": [],
   "source": []
  },
  {
   "cell_type": "code",
   "execution_count": null,
   "metadata": {},
   "outputs": [],
   "source": [
    "for element in kimpot.aslist('elements'):\n",
    "    kimpot.append('atom', DM([('element', element)]))\n",
    "del kimpot['elements']"
   ]
  },
  {
   "cell_type": "code",
   "execution_count": null,
   "metadata": {},
   "outputs": [],
   "source": [
    "with open(fname, 'w') as f:\n",
    "    model.json(fp=f, indent=4)"
   ]
  },
  {
   "cell_type": "code",
   "execution_count": null,
   "metadata": {},
   "outputs": [],
   "source": [
    "for potential in model['potential-LAMMPS-KIM'].aslist('potential'):\n",
    "    pot = potdb.potentials[potdb.potentials_df.key == potential['key']][0]\n",
    "    impids = []\n",
    "    for imp in pot.implementations:\n",
    "        impids.append(imp.id)\n",
    "    lmppots = potdb.lammps_potentials[potdb.lammps_potentials_df.id.isin(impids)][0]\n",
    "lmppots.model['atom']"
   ]
  },
  {
   "cell_type": "code",
   "execution_count": null,
   "metadata": {},
   "outputs": [],
   "source": []
  },
  {
   "cell_type": "code",
   "execution_count": null,
   "metadata": {},
   "outputs": [],
   "source": [
    "lammps_potential = potdb.get_lammps_potential(id='1985--Foiles-S-M--Ni-Cu--LAMMPS--ipr1', pot_dir_style='working')"
   ]
  },
  {
   "cell_type": "code",
   "execution_count": null,
   "metadata": {},
   "outputs": [],
   "source": [
    "potdb.get_lammps_potential_files(lammps_potential, verbose=True, local=False)"
   ]
  },
  {
   "cell_type": "code",
   "execution_count": null,
   "metadata": {},
   "outputs": [],
   "source": [
    "isinstance(0, bool)"
   ]
  },
  {
   "cell_type": "code",
   "execution_count": null,
   "metadata": {},
   "outputs": [],
   "source": [
    "s = time.time()\n",
    "potdb.get_lammps_potentials(forceremote=True)\n",
    "e = time.time()\n",
    "print(e-s, 'seconds to download records for all LAMMPS potentials')"
   ]
  },
  {
   "cell_type": "code",
   "execution_count": null,
   "metadata": {},
   "outputs": [],
   "source": [
    "potdb.lammps_potentials"
   ]
  },
  {
   "cell_type": "code",
   "execution_count": null,
   "metadata": {},
   "outputs": [],
   "source": [
    "s = time.time()\n",
    "potdb.save_lammps_potentials(potdb.lammps_potentials, downloadfiles=True, localpath='test', format='json', indent=4)\n",
    "e = time.time()\n",
    "print(e-s, 'seconds to download parameter files for all LAMMPS potentials')"
   ]
  },
  {
   "cell_type": "code",
   "execution_count": null,
   "metadata": {},
   "outputs": [],
   "source": [
    "s = time.time()\n",
    "potdb.save_lammps_potentials(potdb.lammps_potentials, downloadfiles=True, localpath='test', format='json', indent=4)\n",
    "e = time.time()\n",
    "print(e-s, 'seconds to download parameter files for all LAMMPS potentials')"
   ]
  },
  {
   "cell_type": "code",
   "execution_count": null,
   "metadata": {},
   "outputs": [],
   "source": [
    "7720/60/60"
   ]
  },
  {
   "cell_type": "code",
   "execution_count": null,
   "metadata": {},
   "outputs": [],
   "source": [
    "Path('')"
   ]
  },
  {
   "cell_type": "code",
   "execution_count": null,
   "metadata": {},
   "outputs": [],
   "source": [
    "lammps_potential.pot_dir = lammps_potential.id"
   ]
  },
  {
   "cell_type": "code",
   "execution_count": null,
   "metadata": {},
   "outputs": [],
   "source": [
    "lammps_potential.download_files()"
   ]
  },
  {
   "cell_type": "code",
   "execution_count": null,
   "metadata": {},
   "outputs": [],
   "source": [
    "potdb.get_lammps_potential_files(lammps_potential, local=False, verbose=True)"
   ]
  },
  {
   "cell_type": "code",
   "execution_count": null,
   "metadata": {},
   "outputs": [],
   "source": [
    "print(lammps_potential.pair_info())"
   ]
  },
  {
   "cell_type": "code",
   "execution_count": null,
   "metadata": {},
   "outputs": [],
   "source": [
    "import potentials"
   ]
  },
  {
   "cell_type": "code",
   "execution_count": null,
   "metadata": {},
   "outputs": [],
   "source": [
    "import pandas as pd\n",
    "from pathlib import Path"
   ]
  },
  {
   "cell_type": "code",
   "execution_count": null,
   "metadata": {},
   "outputs": [],
   "source": [
    "def load_kim_lammps_potentials(self, localpath=None, local=None, remote=None, verbose=False):\n",
    "\n",
    "    installed_kim_models = self.installed_kim_models\n",
    "    \n",
    "    # Return empty fields if no installed kim models found\n",
    "    if len(installed_kim_models) == 0:\n",
    "        return [], pd.DataFrame()\n",
    "\n",
    "    # Get potential_LAMMPS_KIM records\n",
    "    records = db.get_records(template='potential_LAMMPS_KIM', localpath=localpath, local=local, \n",
    "                             remote=remote)\n",
    "    \n",
    "    # Convert to dict\n",
    "    recorddict = {}\n",
    "    for record in remote_records:\n",
    "        recorddict[record['potential-LAMMPS-KIM']['id']] = record\n",
    "        \n",
    "    lammps_potentials = []\n",
    "    lammps_potentials_df = []\n",
    "\n",
    "    for fullid in installed_kim_models:\n",
    "        if '__MO_' in fullid:\n",
    "            shortcode = '_'.join(fullid.split('_')[-3:-1])\n",
    "\n",
    "            if shortcode in recorddict:\n",
    "                try:\n",
    "                    lammps_potential = potentials.PotentialLAMMPSKIM(recorddict[shortcode], fullid)\n",
    "                    lammps_potentials.append(lammps_potential)\n",
    "                    lammps_potentials_df.append(lammps_potential.asdict())\n",
    "                except:\n",
    "                    if verbose:\n",
    "                        print(fullid, 'failed to build')\n",
    "            else:\n",
    "                if verbose:\n",
    "                    print(fullid, 'unknown')\n",
    "    \n",
    "    if verbose:\n",
    "        print(f'Loaded {len(lammps_potentials)} installed KIM LAMMPS potentials')\n",
    "        \n",
    "    return lammps_potentials, lammps_potentials_df"
   ]
  },
  {
   "cell_type": "code",
   "execution_count": null,
   "metadata": {},
   "outputs": [],
   "source": [
    "load_kim_lammps_potentials(verbose=True)"
   ]
  },
  {
   "cell_type": "code",
   "execution_count": null,
   "metadata": {},
   "outputs": [],
   "source": [
    "machine = 'laptop'"
   ]
  },
  {
   "cell_type": "code",
   "execution_count": null,
   "metadata": {},
   "outputs": [],
   "source": []
  },
  {
   "cell_type": "code",
   "execution_count": null,
   "metadata": {},
   "outputs": [],
   "source": [
    "# Set passwordfile based on machine\n",
    "if machine == 'laptop':\n",
    "    passwordfile = Path('C:/Users/lmh1/Documents/potentials_nist_gov/password.txt')\n",
    "elif machine == 'desktop':\n",
    "    passwordfile = Path('E:/potentials_nist_gov/password.txt')\n",
    "else:\n",
    "    raise ValueError(f'passwordfile not set for machine {machine}')\n",
    "\n",
    "# Load database using username + password\n",
    "with open(Path(passwordfile)) as f:\n",
    "    username, password = f.read().strip().split()\n",
    "db = potentials.Database(username=username, password=password)"
   ]
  },
  {
   "cell_type": "code",
   "execution_count": null,
   "metadata": {},
   "outputs": [],
   "source": [
    "remote_records = db.get_records(template='potential_LAMMPS_KIM', verbose=True)"
   ]
  },
  {
   "cell_type": "code",
   "execution_count": null,
   "metadata": {},
   "outputs": [],
   "source": [
    "# Convert to dict\n",
    "recorddict = {}\n",
    "for record in remote_records:\n",
    "    recorddict[record['potential-LAMMPS-KIM']['id']] = record"
   ]
  },
  {
   "cell_type": "code",
   "execution_count": null,
   "metadata": {},
   "outputs": [],
   "source": [
    "lammps_potentials = []\n",
    "lammps_potentials_df = []\n",
    "\n",
    "for fullid in installed_kim_models:\n",
    "    if '__MO_' in fullid:\n",
    "        shortcode = '_'.join(fullid.split('_')[-3:-1])\n",
    "        \n",
    "        if shortcode in recorddict:\n",
    "            try:\n",
    "                lammps_potential = potentials.PotentialLAMMPSKIM(recorddict[shortcode], fullid)\n",
    "                lammps_potentials.append(lammps_potential)\n",
    "                lammps_potentials_df.append(lammps_potential.asdict())\n",
    "            except:\n",
    "                print(fullid, 'failed to build')\n",
    "        else:\n",
    "            print(fullid, 'unknown')"
   ]
  },
  {
   "cell_type": "code",
   "execution_count": null,
   "metadata": {},
   "outputs": [],
   "source": [
    "lammps_potentials_df = pd.DataFrame(lammps_potentials_df)\n",
    "lammps_potentials_df"
   ]
  },
  {
   "cell_type": "code",
   "execution_count": null,
   "metadata": {},
   "outputs": [],
   "source": [
    "import atomman as am"
   ]
  },
  {
   "cell_type": "code",
   "execution_count": null,
   "metadata": {},
   "outputs": [],
   "source": [
    "am.tools.atomic_mass('Am')"
   ]
  },
  {
   "cell_type": "code",
   "execution_count": null,
   "metadata": {},
   "outputs": [],
   "source": []
  }
 ],
 "metadata": {
  "kernelspec": {
   "display_name": "Python 3",
   "language": "python",
   "name": "python3"
  },
  "language_info": {
   "codemirror_mode": {
    "name": "ipython",
    "version": 3
   },
   "file_extension": ".py",
   "mimetype": "text/x-python",
   "name": "python",
   "nbconvert_exporter": "python",
   "pygments_lexer": "ipython3",
   "version": "3.7.4"
  }
 },
 "nbformat": 4,
 "nbformat_minor": 2
}
