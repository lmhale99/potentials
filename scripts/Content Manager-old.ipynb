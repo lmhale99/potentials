{
 "cells": [
  {
   "cell_type": "markdown",
   "metadata": {},
   "source": [
    "# Interatomic Potential Repository Content Manager\n",
    "\n",
    "This is a working Notebook providing a single location for adding and modifying content in the potentials.nist.gov database.\n",
    "\n",
    "Notebook outline:\n",
    "\n",
    "0. Setup: Python library imports and defining global parameters.\n",
    "\n",
    "1. Citations: Load, add and modify citation information associated with potential models. Each potential should have at least one citation, with the first being the \"primary\" one for generating IDs. For unpublished potentials, use the unpublished citation option.\n",
    "\n",
    "2. Potentials: Load, add and modify potential information.  A \"potential\" should be a unique parameterization with an associated citation. Note that saving to the database is done in step #4.\n",
    "\n",
    "3. Implementations: Load, add and modify the implementations of a potential. An \"implementation\" is a specific version/representation of a potential in a specific format. Each potential can have zero, one or multiple implementations.\n",
    "\n",
    "4. Save potentials: Review the new/modified potentials and save the content to the database.\n",
    "\n",
    "5. Actions: Actions are used to list changes to the repository. If a potential is added/modified, a corresponding action should also be added.\n",
    "\n",
    "6. Requests: A request is listed on the repository whenever someone asks for a model that we do not have."
   ]
  },
  {
   "cell_type": "markdown",
   "metadata": {},
   "source": [
    "## 0. Setup"
   ]
  },
  {
   "cell_type": "markdown",
   "metadata": {},
   "source": [
    "### Library imports"
   ]
  },
  {
   "cell_type": "code",
   "execution_count": 1,
   "metadata": {
    "tags": []
   },
   "outputs": [],
   "source": [
    "import uuid\n",
    "import datetime\n",
    "import shutil\n",
    "from pathlib import Path\n",
    "import socket\n",
    "\n",
    "import potentials\n",
    "\n",
    "import numpy as np\n",
    "import pandas as pd\n",
    "\n",
    "# Jupyter display libraries\n",
    "from IPython.display import display, HTML"
   ]
  },
  {
   "cell_type": "markdown",
   "metadata": {},
   "source": [
    "### Global parameters\n",
    "\n",
    "- __complete_potentials__ is a compiled list of the potentials whose addition/changes were uploaded to the database.  This is used by step #5 for reporting website changes.  This should be reset after creating an Action for meaningful sets of potentials.\n",
    "\n",
    "- __db__ is the Database object for accessing and uploading records to the database.  remote_name accesses the saved \"potentials\" settings, which has sign-in info for https://potentials.nist.gov.\n",
    "\n",
    "- __workspace__ is the workspace to assign to the uploaded records.  If None, then they are only accessible to the submitter until the workspace is changed.  If 'Global Public Workspace', anyone can see the records after uploading."
   ]
  },
  {
   "cell_type": "code",
   "execution_count": 2,
   "metadata": {
    "tags": []
   },
   "outputs": [],
   "source": [
    "complete_potentials = []"
   ]
  },
  {
   "cell_type": "code",
   "execution_count": 3,
   "metadata": {
    "tags": []
   },
   "outputs": [],
   "source": [
    "db = potentials.Database(local=True, remote=True, remote_name='potentials')"
   ]
  },
  {
   "cell_type": "code",
   "execution_count": 4,
   "metadata": {
    "tags": []
   },
   "outputs": [],
   "source": [
    "workspace = 'Global Public Workspace'"
   ]
  },
  {
   "cell_type": "markdown",
   "metadata": {},
   "source": [
    "- - -\n",
    "\n",
    "## 1. Citations"
   ]
  },
  {
   "cell_type": "markdown",
   "metadata": {},
   "source": [
    "### 1.1 Build or load citation"
   ]
  },
  {
   "cell_type": "markdown",
   "metadata": {},
   "source": [
    "#### Option #1: For existing citations and/or new dois"
   ]
  },
  {
   "cell_type": "code",
   "execution_count": 5,
   "metadata": {
    "tags": []
   },
   "outputs": [
    {
     "name": "stdout",
     "output_type": "stream",
     "text": [
      "Matching record retrieved from local\n"
     ]
    }
   ],
   "source": [
    "doi = '10.1016/j.commatsci.2024.113595'\n",
    "\n",
    "citation = db.fetch_citation(doi, verbose=True)"
   ]
  },
  {
   "cell_type": "markdown",
   "metadata": {},
   "source": [
    "#### Option #2: For new doi-less citations"
   ]
  },
  {
   "cell_type": "code",
   "execution_count": 33,
   "metadata": {
    "tags": []
   },
   "outputs": [
    {
     "name": "stdout",
     "output_type": "stream",
     "text": [
      "{\n",
      "    \"citation\": {\n",
      "        \"document-type\": \"journal\",\n",
      "        \"title\": \"Angular-dependent interatomic potential for large-scale atomistic simulation of W-Mo-Nb ternary alloys\",\n",
      "        \"author\": [\n",
      "            {\n",
      "                \"given-name\": \"S.\",\n",
      "                \"surname\": \"Starikov\"\n",
      "            },\n",
      "            {\n",
      "                \"given-name\": \"P.\",\n",
      "                \"surname\": \"Grigorev\"\n",
      "            },\n",
      "            {\n",
      "                \"given-name\": \"P.\",\n",
      "                \"surname\": \"Olsson\"\n",
      "            }\n",
      "        ],\n",
      "        \"publication-name\": \"Computational Materials Science\",\n",
      "        \"publication-date\": {\n",
      "            \"year\": 2024\n",
      "        },\n",
      "        \"abstract\": \"We present a new classical interatomic potential designed for simulation of the W-Mo-Nb system. The angular-dependent format of the potential allows for reproduction of many important properties of pure metals and complex concentrated alloys with good accuracy. Special attention during the development and validation of the potential was paid to the description of vacancies, screw dislocations and planar defects, as well as thermo-mechanical properties. Here, the applicability of the developed model is demonstrated by studying the temperature dependence of the elastic moduli and average atomic displacement in pure metals and concentrated alloys up to the melting point.\",\n",
      "        \"pages\": \"accepted\",\n",
      "        \"DOI\": \"tbd\",\n",
      "        \"bibtex\": \"@article{2024--Starikov-S-Grigorev-P-Olsson-P,\\n abstract = {We present a new classical interatomic potential designed for simulation of the W-Mo-Nb system. The angular-dependent format of the potential allows for reproduction of many important properties of pure metals and complex concentrated alloys with good accuracy. Special attention during the development and validation of the potential was paid to the description of vacancies, screw dislocations and planar defects, as well as thermo-mechanical properties. Here, the applicability of the developed model is demonstrated by studying the temperature dependence of the elastic moduli and average atomic displacement in pure metals and concentrated alloys up to the melting point.},\\n author = {S. Starikov and P. Grigorev and P. Olsson},\\n doi = {tbd},\\n journal = {Computational Materials Science},\\n note = {2024--Starikov-S-Grigorev-P-Olsson-P},\\n pages = {accepted},\\n title = {Angular-dependent interatomic potential for large-scale atomistic simulation of W-Mo-Nb ternary alloys},\\n year = {2024}\\n}\\n\"\n",
      "    }\n",
      "}\n"
     ]
    }
   ],
   "source": [
    "ID = note = f'2024--Starikov-S-Grigorev-P-Olsson-P'\n",
    "\n",
    "citation = potentials.load_record('Citation',\n",
    "    ENTRYTYPE = 'article',\n",
    "    title = 'Angular-dependent interatomic potential for large-scale atomistic simulation of W-Mo-Nb ternary alloys',\n",
    "    author = 'S. Starikov and P. Grigorev and P. Olsson',\n",
    "    ID = ID,\n",
    "    note = note,\n",
    "    year = 2024,\n",
    "    journal = 'Computational Materials Science',\n",
    "    #volume = 0,\n",
    "    pages = 'accepted',\n",
    "    doi = 'tbd',\n",
    "    abstract=' '.join(['We present a new classical interatomic potential designed for simulation of',\n",
    "                       'the W-Mo-Nb system. The angular-dependent format of the potential allows',\n",
    "                       'for reproduction of many important properties of pure metals and complex',\n",
    "                       'concentrated alloys with good accuracy. Special attention during the development',\n",
    "                       'and validation of the potential was paid to the description of vacancies,',\n",
    "                       'screw dislocations and planar defects, as well as thermo-mechanical',\n",
    "                       'properties. Here, the applicability of the developed model is demonstrated',\n",
    "                       'by studying the temperature dependence of the elastic moduli and average',\n",
    "                       'atomic displacement in pure metals and concentrated alloys up to the melting point.'])\n",
    ")\n",
    "citation.build_model()\n",
    "print(citation.model.json(indent=4))"
   ]
  },
  {
   "cell_type": "code",
   "execution_count": 32,
   "metadata": {
    "tags": []
   },
   "outputs": [
    {
     "data": {
      "text/plain": [
       "DataModelDict([('citation',\n",
       "                DataModelDict([('document-type', 'unspecified'),\n",
       "                               ('title', 'to be published'),\n",
       "                               ('author',\n",
       "                                [DataModelDict([('given-name', 'G.'),\n",
       "                                                ('surname', 'Plummer')]),\n",
       "                                 DataModelDict([('given-name', 'J.P.'),\n",
       "                                                ('surname', 'Tavenner')]),\n",
       "                                 DataModelDict([('given-name', 'M.I.'),\n",
       "                                                ('surname', 'Mendelev')]),\n",
       "                                 DataModelDict([('given-name', 'Z.'),\n",
       "                                                ('surname', 'Wu')]),\n",
       "                                 DataModelDict([('given-name', 'J.W.'),\n",
       "                                                ('surname', 'Lawson')])]),\n",
       "                               ('publication-date',\n",
       "                                DataModelDict([('year', '2024')])),\n",
       "                               ('bibtex',\n",
       "                                '@unpublished{2024--Mendelev-M-I-Plummer-G--Ni-O,\\n author = {Gabriel Plummer and Jacob P. Tavenner and Mikhail I. Mendelev and Zhigang Wu and John W. Lawson},\\n note = {2024--Mendelev-M-I-Plummer-G--Ni-O},\\n title = {to be published},\\n year = {2024}\\n}\\n')]))])"
      ]
     },
     "execution_count": 32,
     "metadata": {},
     "output_type": "execute_result"
    }
   ],
   "source": [
    "author = 'Gabriel Plummer and Jacob P. Tavenner and Mikhail I. Mendelev and Zhigang Wu and John W. Lawson'\n",
    "year = 2024\n",
    "ID = note = f'{year}--Mendelev-M-I-Plummer-G--Ni-O'\n",
    "title = 'to be published'\n",
    "\n",
    "citation = potentials.load_record('Citation',\n",
    "    ENTRYTYPE = 'unpublished',\n",
    "    title = title,\n",
    "    author = author,\n",
    "    ID = ID,\n",
    "    note = note,\n",
    "    year = year,\n",
    ")\n",
    "citation.build_model()"
   ]
  },
  {
   "cell_type": "markdown",
   "metadata": {},
   "source": [
    "#### Option #3: From local directory"
   ]
  },
  {
   "cell_type": "code",
   "execution_count": null,
   "metadata": {},
   "outputs": [],
   "source": [
    "libdir = Path('E:/website/LAMMPS potentials/2nn/biblib')\n",
    "\n",
    "citations = []\n",
    "for bibfile in libdir.glob('*.bib'):\n",
    "    with open(bibfile, encoding='UTF-8') as f:\n",
    "        citations.append(potentials.load_record('Citation', model=f.read()))"
   ]
  },
  {
   "cell_type": "markdown",
   "metadata": {},
   "source": [
    "#### Option #4: From currently loaded potentials"
   ]
  },
  {
   "cell_type": "code",
   "execution_count": null,
   "metadata": {},
   "outputs": [],
   "source": [
    "#citation = complete_potentials[0].citations[0]\n",
    "#print(citation.year_authors)"
   ]
  },
  {
   "cell_type": "markdown",
   "metadata": {},
   "source": [
    "### 1.2 Investigate and modify\n",
    "\n",
    "- Add abstract\n",
    "\n",
    "- Check and replace garbled latex or other symbols in authors, title and abstract\n",
    "\n",
    "- Verify correct year and page number(s)"
   ]
  },
  {
   "cell_type": "markdown",
   "metadata": {},
   "source": [
    "#### 1.2.1 Generate html and list content fields"
   ]
  },
  {
   "cell_type": "code",
   "execution_count": 6,
   "metadata": {
    "tags": []
   },
   "outputs": [
    {
     "name": "stdout",
     "output_type": "stream",
     "text": [
      "2025--Sharifi-H-Wick-C-D\n",
      "\n"
     ]
    },
    {
     "data": {
      "text/html": [
       "<div><div class=\"citation\"><b>Citation: </b>H. Sharifi, and C.D. Wick (2025), \"Developing interatomic potentials for complex concentrated alloys of Cu, Ti, Ni, Cr, Co, Al, Fe, and Mn\", <i>Computational Materials Science</i>, <b>248</b>, 113595. DOI: <a href=\"https://doi.org/10.1016/j.commatsci.2024.113595\" class=\"external\">10.1016/j.commatsci.2024.113595</a>.<br/></div><div class=\"abstract\"><b>Abstract: </b>Complex concentrated alloys (CCAs) are a new generation of metallic alloys composed of three or more principal elements with physical and mechanical properties that can be tuned by adjusting their compositions. The extensive compositional workspace of CCAs makes it impractical to perform a comprehensive search for a specific material property using experimental measurements. The use of computational methods can rapidly narrow down the search span, improving the efficiency of the design process. We carried out a high-throughput parameterization of modified embedded atom method (MEAM) interatomic potentials for combinations of Cu, Ti, Ni, Cr, Co, Al, Fe, and Mn using a genetic algorithm. Unary systems were parameterized based on DFT calculations and experimental results. MEAM potentials for 28 binary and 56 ternary combinations of the elements were parameterized to DFT results that were carried out with semi-automated frameworks. Specific attention was made to reproduce properties that impact compositional segregation, material strength, and mechanics.</div></div>"
      ],
      "text/plain": [
       "<IPython.core.display.HTML object>"
      ]
     },
     "metadata": {},
     "output_type": "display_data"
    },
    {
     "name": "stdout",
     "output_type": "stream",
     "text": [
      "\n",
      "year: 2025\n",
      "volume: 248\n",
      "url: http://dx.doi.org/10.1016/j.commatsci.2024.113595\n",
      "title: Developing interatomic potentials for complex concentrated alloys of Cu, Ti, Ni, Cr, Co, Al, Fe, and Mn\n",
      "publisher: Elsevier BV\n",
      "pages: 113595\n",
      "month: February\n",
      "journal: Computational Materials Science\n",
      "issn: 0927-0256\n",
      "doi: 10.1016/j.commatsci.2024.113595\n",
      "author: Sharifi, Hamid and Wick, Collin D.\n",
      "abstract: Complex concentrated alloys (CCAs) are a new generation of metallic alloys composed of three or more principal elements with physical and mechanical properties that can be tuned by adjusting their compositions. The extensive compositional workspace of CCAs makes it impractical to perform a comprehensive search for a specific material property using experimental measurements. The use of computational methods can rapidly narrow down the search span, improving the efficiency of the design process. We carried out a high-throughput parameterization of modified embedded atom method (MEAM) interatomic potentials for combinations of Cu, Ti, Ni, Cr, Co, Al, Fe, and Mn using a genetic algorithm. Unary systems were parameterized based on DFT calculations and experimental results. MEAM potentials for 28 binary and 56 ternary combinations of the elements were parameterized to DFT results that were carried out with semi-automated frameworks. Specific attention was made to reproduce properties that impact compositional segregation, material strength, and mechanics.\n",
      "ENTRYTYPE: article\n",
      "ID: Sharifi_2025\n"
     ]
    }
   ],
   "source": [
    "print(citation.year_authors)\n",
    "print()\n",
    "citation.html(render=True)\n",
    "print()\n",
    "for key, value in citation.bib.items():\n",
    "    print(key+':', value)"
   ]
  },
  {
   "cell_type": "markdown",
   "metadata": {},
   "source": [
    "#### 1.2.2 Modify and update fields\n",
    "\n",
    "Any valid bibtex fields can be added, but citation rendering relies only on the primary fields. "
   ]
  },
  {
   "cell_type": "code",
   "execution_count": 7,
   "metadata": {
    "tags": []
   },
   "outputs": [],
   "source": [
    "#citation.bib['author'] = \"Fan, Zhengxuan and Émile Maras and Cottura, Maeva and Marinica, Mihai-Cosmin and Clouet, Emmanuel\"\n",
    "#citation.bib['title'] = 'Grain Size Effects on the Deformation of α-Fe Nanopolycrystals: Massively Large-Scale Molecular Dynamics Simulations Using Machine Learning Interatomic Potential'\n",
    "citation.bib['abstract'] = ' '.join([\n",
    "    \"Complex concentrated alloys (CCAs) are a new generation of metallic alloys composed of three or more principal\",\n",
    "    \"elements with physical and mechanical properties that can be tuned by adjusting their compositions. The\",\n",
    "    \"extensive compositional workspace of CCAs makes it impractical to perform a comprehensive search for a\",\n",
    "    \"specific material property using experimental measurements. The use of computational methods can rapidly\",\n",
    "    \"narrow down the search span, improving the efficiency of the design process. We carried out a high-throughput\",\n",
    "    \"parameterization of modified embedded atom method (MEAM) interatomic potentials for combinations of Cu, Ti,\",\n",
    "    \"Ni, Cr, Co, Al, Fe, and Mn using a genetic algorithm. Unary systems were parameterized based on DFT calculations\",\n",
    "    \"and experimental results. MEAM potentials for 28 binary and 56 ternary combinations of the elements\",\n",
    "    \"were parameterized to DFT results that were carried out with semi-automated frameworks. Specific attention was\",\n",
    "    \"made to reproduce properties that impact compositional segregation, material strength, and mechanics.\"])\n",
    "#citation.bib['pages'] = '255'\n",
    "#citation.bib['issue'] = '1'\n",
    "#citation.bib['year'] = '2021'\n",
    "#citation.bib['volume']\n",
    "#citation.bib['number']\n",
    "#citation.bib['doi'] = '10.1016/j.jssc.2022.123096'\n",
    "#citation.bib['ENTRYTYPE'] = 'article'\n",
    "#citation.bib['journal'] = 'arXiv'"
   ]
  },
  {
   "cell_type": "markdown",
   "metadata": {},
   "source": [
    "#### 1.2.3 Review and Save Citation"
   ]
  },
  {
   "cell_type": "code",
   "execution_count": 8,
   "metadata": {
    "tags": []
   },
   "outputs": [
    {
     "name": "stdout",
     "output_type": "stream",
     "text": [
      "2025--Sharifi-H-Wick-C-D\n"
     ]
    },
    {
     "data": {
      "text/html": [
       "<div><div class=\"citation\"><b>Citation: </b>H. Sharifi, and C.D. Wick (2025), \"Developing interatomic potentials for complex concentrated alloys of Cu, Ti, Ni, Cr, Co, Al, Fe, and Mn\", <i>Computational Materials Science</i>, <b>248</b>, 113595. DOI: <a href=\"https://doi.org/10.1016/j.commatsci.2024.113595\" class=\"external\">10.1016/j.commatsci.2024.113595</a>.<br/></div><div class=\"abstract\"><b>Abstract: </b>Complex concentrated alloys (CCAs) are a new generation of metallic alloys composed of three or more principal elements with physical and mechanical properties that can be tuned by adjusting their compositions. The extensive compositional workspace of CCAs makes it impractical to perform a comprehensive search for a specific material property using experimental measurements. The use of computational methods can rapidly narrow down the search span, improving the efficiency of the design process. We carried out a high-throughput parameterization of modified embedded atom method (MEAM) interatomic potentials for combinations of Cu, Ti, Ni, Cr, Co, Al, Fe, and Mn using a genetic algorithm. Unary systems were parameterized based on DFT calculations and experimental results. MEAM potentials for 28 binary and 56 ternary combinations of the elements were parameterized to DFT results that were carried out with semi-automated frameworks. Specific attention was made to reproduce properties that impact compositional segregation, material strength, and mechanics.</div></div>"
      ],
      "text/plain": [
       "<IPython.core.display.HTML object>"
      ]
     },
     "metadata": {},
     "output_type": "display_data"
    }
   ],
   "source": [
    "citation.build_model()\n",
    "print(citation.year_authors)\n",
    "citation.html(render=True)"
   ]
  },
  {
   "cell_type": "code",
   "execution_count": 9,
   "metadata": {
    "tags": []
   },
   "outputs": [
    {
     "name": "stdout",
     "output_type": "stream",
     "text": [
      "Citation record named 10.1016_j.commatsci.2024.113595 added to C:\\Users\\lmh1\\Documents\\library\n",
      "Citation record named 10.1016_j.commatsci.2024.113595 added to https://potentials.nist.gov/\n",
      "Citation record named 10.1016_j.commatsci.2024.113595 assigned to workspace Global Public Workspace\n"
     ]
    }
   ],
   "source": [
    "db.save_citation(citation, overwrite=True, verbose=True)\n",
    "db.upload_citation(citation, workspace=workspace, overwrite=True, verbose=True)"
   ]
  },
  {
   "cell_type": "code",
   "execution_count": 30,
   "metadata": {
    "tags": []
   },
   "outputs": [
    {
     "name": "stdout",
     "output_type": "stream",
     "text": [
      "Citation record named 2024--mendelev-m-i-plummer-g--ni-o deleted from C:\\Users\\lmh1\\Documents\\library\n",
      "Citation record named 2024--mendelev-m-i-plummer-g--ni-o deleted from https://potentials.nist.gov/\n"
     ]
    }
   ],
   "source": [
    "#db.delete_citation(citation, local=True, remote=True, verbose=True)"
   ]
  },
  {
   "cell_type": "code",
   "execution_count": null,
   "metadata": {},
   "outputs": [],
   "source": [
    "#db.download_citations(overwrite=True, verbose=True)"
   ]
  },
  {
   "cell_type": "code",
   "execution_count": 7,
   "metadata": {
    "tags": []
   },
   "outputs": [],
   "source": [
    "citations = []"
   ]
  },
  {
   "cell_type": "code",
   "execution_count": 8,
   "metadata": {
    "tags": []
   },
   "outputs": [],
   "source": [
    "citations.append(citation)"
   ]
  },
  {
   "cell_type": "markdown",
   "metadata": {},
   "source": [
    "- - -\n",
    "\n",
    "## 2. Potentials"
   ]
  },
  {
   "cell_type": "markdown",
   "metadata": {},
   "source": [
    "### 2.1 Build or load potential"
   ]
  },
  {
   "cell_type": "markdown",
   "metadata": {},
   "source": [
    "#### Option #1: Build new potential using citation(s)\n",
    "\n",
    "- __elements__ (*list*) The element models used by the potential.\n",
    "- __citations__ (*list*) The citation(s) to associate with the potential.\n",
    "- __notes__ (*str, optional*) Notes providing more information on the potential, such as usage notes and how the potential relates to other potentials.\n",
    "- __key__ (*str, optional*) UUID4 key to assign to the potential.  If None, a new key will be generated.\n",
    "- __othername__ (*str, optional*) Specifies an alternate description of the interactions besides the list of elements.  Examples include if the model is \"universal\", designed for a specific compound, or is a coarse-grain representation.\n",
    "- __fictional__ (*bool, optional*) Flag indicating if the model is \"fictional\", i.e. purposefully fit to unrealistic properties. \n",
    "- __modelname__ (*str, optional*) Used if citation + element info is not enough to create a unique ID, e.g. a publication lists multiple parameterizations of the same element. The value should make it clear which version it is associated with, and correspond to how the authors refer to it when possible.\n",
    "- __recorddate__ (*datetime.date, optional*) Date to assign to the record.  If not given, will use today's date."
   ]
  },
  {
   "cell_type": "code",
   "execution_count": 10,
   "metadata": {
    "tags": []
   },
   "outputs": [],
   "source": [
    "potential = potentials.load_record('Potential',\n",
    "    elements=['Fe',],# 'Mn', 'Ni', 'Ti', 'Cu', 'Cr', 'Co', 'Al'],\n",
    "    citations=citations,\n",
    "    notes=' '.join([\n",
    "        \"This is the elemental listing for the 2025--Sharifi-H-Wick-C-D--Fe-Mn-Ni-Ti-Cu-Cr-Co-Al potential.  This potential focuses on mechanical properties.\",\n",
    "        \"However, the potential was not optimized for temperature-dependent properties and was not fit to density, thermal expansion coefficients, or thermal conductivity data.\"\n",
    "    ]),\n",
    "    #key=None,\n",
    "    #othername='Ge60Se40',\n",
    "    #fictional=True,\n",
    "    #modelname='22',\n",
    "    #recorddate=datetime.date(2019, 12, 24)\n",
    "    )\n",
    "potential.url = f'https://potentials.nist.gov/pid/rest/local/potentials/{potential.name}'\n",
    "potential.build_model()\n",
    "None"
   ]
  },
  {
   "cell_type": "markdown",
   "metadata": {},
   "source": [
    "#### Option #2: Select existing potential"
   ]
  },
  {
   "cell_type": "code",
   "execution_count": 13,
   "metadata": {
    "tags": []
   },
   "outputs": [
    {
     "name": "stdout",
     "output_type": "stream",
     "text": [
      "Matching record retrieved from local\n"
     ]
    }
   ],
   "source": [
    "potential = db.get_potential(id='2024--Plummer-G-Tavenner-J-P-Mendelev-M-I-et-al--Ni-O', verbose=True)"
   ]
  },
  {
   "cell_type": "code",
   "execution_count": 31,
   "metadata": {
    "tags": []
   },
   "outputs": [
    {
     "name": "stdout",
     "output_type": "stream",
     "text": [
      "Potential record named potential.2024--Mendelev-M-I-Plummer-G--Ni-O deleted from C:\\Users\\lmh1\\Documents\\library\n",
      "Potential record named potential.2024--Mendelev-M-I-Plummer-G--Ni-O deleted from https://potentials.nist.gov/\n"
     ]
    }
   ],
   "source": [
    "#db.delete_potential(potential, local=True, remote=True, verbose=True)"
   ]
  },
  {
   "cell_type": "markdown",
   "metadata": {},
   "source": [
    "#### Option #3: Get currently loaded potential"
   ]
  },
  {
   "cell_type": "code",
   "execution_count": null,
   "metadata": {},
   "outputs": [],
   "source": [
    "#potential = complete_potentials[1]\n",
    "#print(potential.name)"
   ]
  },
  {
   "cell_type": "markdown",
   "metadata": {},
   "source": [
    "### 2.2 Investigate and modify"
   ]
  },
  {
   "cell_type": "markdown",
   "metadata": {},
   "source": [
    "#### 2.2.1 Generate html and list content fields"
   ]
  },
  {
   "cell_type": "code",
   "execution_count": 11,
   "metadata": {
    "tags": []
   },
   "outputs": [
    {
     "data": {
      "text/html": [
       "<div xmlns=\"http://www.w3.org/TR/xhtml1/strict\"><script src=\"https://www.ctcms.nist.gov/potentials/site/showFiles.js\">//</script><div class=\"panel panel-default\"><div class=\"panel-heading\"><h3 class=\"panel-title\">2025--Sharifi-H-Wick-C-D--Fe</h3></div><div class=\"panel-body\"><div class=\"citation\"><b>Citation: </b>H. Sharifi, and C.D. Wick (2025), \"Developing interatomic potentials for complex concentrated alloys of Cu, Ti, Ni, Cr, Co, Al, Fe, and Mn\", <i>Computational Materials Science</i>, <b>248</b>, 113595. DOI: <a href=\"https://doi.org/10.1016/j.commatsci.2024.113595\" class=\"external\">10.1016/j.commatsci.2024.113595</a>.<br/></div><div class=\"abstract\"><b>Abstract: </b>Complex concentrated alloys (CCAs) are a new generation of metallic alloys composed of three or more principal elements with physical and mechanical properties that can be tuned by adjusting their compositions. The extensive compositional workspace of CCAs makes it impractical to perform a comprehensive search for a specific material property using experimental measurements. The use of computational methods can rapidly narrow down the search span, improving the efficiency of the design process. We carried out a high-throughput parameterization of modified embedded atom method (MEAM) interatomic potentials for combinations of Cu, Ti, Ni, Cr, Co, Al, Fe, and Mn using a genetic algorithm. Unary systems were parameterized based on DFT calculations and experimental results. MEAM potentials for 28 binary and 56 ternary combinations of the elements were parameterized to DFT results that were carried out with semi-automated frameworks. Specific attention was made to reproduce properties that impact compositional segregation, material strength, and mechanics.</div><br/><div class=\"description-notes\"><b>Notes: </b>This is the elemental listing for the 2025--Sharifi-H-Wick-C-D--Fe-Mn-Ni-Ti-Cu-Cr-Co-Al potential.  This potential focuses on mechanical properties. However, the potential was not optimized for temperature-dependent properties and was not fit to density, thermal expansion coefficients, or thermal conductivity data.</div><br/></div></div></div>"
      ],
      "text/plain": [
       "<IPython.core.display.HTML object>"
      ]
     },
     "metadata": {},
     "output_type": "display_data"
    }
   ],
   "source": [
    "potential.html(render=True)"
   ]
  },
  {
   "cell_type": "code",
   "execution_count": 13,
   "metadata": {
    "tags": []
   },
   "outputs": [
    {
     "data": {
      "text/plain": [
       "DataModelDict([('interatomic-potential',\n",
       "                DataModelDict([('key', '0c44bfc0-1e71-4199-98fc-568ca5f51957'),\n",
       "                               ('id',\n",
       "                                '2024--Ito-K-Yokoi-T-Hyodo-K-Mori-H--Fe-22'),\n",
       "                               ('URL',\n",
       "                                'https://potentials.nist.gov/pid/rest/local/potentials/potential.2024--Ito-K-Yokoi-T-Hyodo-K-Mori-H--Fe-22'),\n",
       "                               ('record-version', '2024-11-15'),\n",
       "                               ('description',\n",
       "                                DataModelDict([('citation',\n",
       "                                                [DataModelDict([('document-type',\n",
       "                                                                 'journal'),\n",
       "                                                                ('title',\n",
       "                                                                 'Machine learning interatomic potential with DFT accuracy for general grain boundaries in α-Fe'),\n",
       "                                                                ('author',\n",
       "                                                                 [DataModelDict([('given-name',\n",
       "                                                                                  'K.'),\n",
       "                                                                                 ('surname',\n",
       "                                                                                  'Ito')]),\n",
       "                                                                  DataModelDict([('given-name',\n",
       "                                                                                  'T.'),\n",
       "                                                                                 ('surname',\n",
       "                                                                                  'Yokoi')]),\n",
       "                                                                  DataModelDict([('given-name',\n",
       "                                                                                  'K.'),\n",
       "                                                                                 ('surname',\n",
       "                                                                                  'Hyodo')]),\n",
       "                                                                  DataModelDict([('given-name',\n",
       "                                                                                  'H.'),\n",
       "                                                                                 ('surname',\n",
       "                                                                                  'Mori')])]),\n",
       "                                                                ('publication-name',\n",
       "                                                                 'npj Computational Materials'),\n",
       "                                                                ('publication-date',\n",
       "                                                                 DataModelDict([('year',\n",
       "                                                                                 2024)])),\n",
       "                                                                ('volume', 10),\n",
       "                                                                ('issue', 1),\n",
       "                                                                ('abstract',\n",
       "                                                                 'To advance the development of high-strength polycrystalline metallic materials towards achieving carbon neutrality, it is essential to design materials in which the atomic level control of general grain boundaries (GGBs), which govern the material properties, is achieved. However, owing to the complex and diverse structures of GGBs, there have been no reports on interatomic potentials capable of reproducing them. This accuracy is essential for conducting molecular dynamics analyses to derive material design guidelines. In this study, we constructed a machine learning interatomic potential (MLIP) with density functional theory (DFT) accuracy to model the energy, atomic structure, and dynamics of arbitrary grain boundaries (GBs), including GGBs, in α-Fe. Specifically, we employed a training dataset comprising diverse atomic structures generated based on crystal space groups. The GGB accuracy was evaluated by directly comparing with DFT calculations performed on cells cut near GBs from nano-polycrystals, and extrapolation grades of the local atomic environment based on active learning methods for the entire nano-polycrystal. Furthermore, we analyzed the GB energy and atomic structure in α-Fe polycrystals through large-scale molecular dynamics analysis using the constructed MLIP. The average GB energy of α-Fe polycrystals calculated by the constructed MLIP is 1.57\\u2009J/m<sup>2</sup>, exhibiting good agreement with experimental predictions. Our findings demonstrate the methodology for constructing an MLIP capable of representing GGBs with high accuracy, thereby paving the way for materials design based on computational materials science for polycrystalline materials.'),\n",
       "                                                                ('pages',\n",
       "                                                                 '255'),\n",
       "                                                                ('DOI',\n",
       "                                                                 '10.1038/s41524-024-01451-y'),\n",
       "                                                                ('bibtex',\n",
       "                                                                 '@article{Ito_2024,\\n abstract = {To advance the development of high-strength polycrystalline metallic materials towards achieving carbon neutrality, it is essential to design materials in which the atomic level control of general grain boundaries (GGBs), which govern the material properties, is achieved. However, owing to the complex and diverse structures of GGBs, there have been no reports on interatomic potentials capable of reproducing them. This accuracy is essential for conducting molecular dynamics analyses to derive material design guidelines. In this study, we constructed a machine learning interatomic potential (MLIP) with density functional theory (DFT) accuracy to model the energy, atomic structure, and dynamics of arbitrary grain boundaries (GBs), including GGBs, in α-Fe. Specifically, we employed a training dataset comprising diverse atomic structures generated based on crystal space groups. The GGB accuracy was evaluated by directly comparing with DFT calculations performed on cells cut near GBs from nano-polycrystals, and extrapolation grades of the local atomic environment based on active learning methods for the entire nano-polycrystal. Furthermore, we analyzed the GB energy and atomic structure in α-Fe polycrystals through large-scale molecular dynamics analysis using the constructed MLIP. The average GB energy of α-Fe polycrystals calculated by the constructed MLIP is 1.57\\u2009J/m<sup>2</sup>, exhibiting good agreement with experimental predictions. Our findings demonstrate the methodology for constructing an MLIP capable of representing GGBs with high accuracy, thereby paving the way for materials design based on computational materials science for polycrystalline materials.},\\n author = {Ito, Kazuma and Yokoi, Tatsuya and Hyodo, Katsutoshi and Mori, Hideki},\\n doi = {10.1038/s41524-024-01451-y},\\n issn = {2057-3960},\\n journal = {npj Computational Materials},\\n month = {November},\\n number = {1},\\n pages = {255},\\n publisher = {Springer Science and Business Media LLC},\\n title = {Machine learning interatomic potential with DFT accuracy for general grain boundaries in α-Fe},\\n url = {http://dx.doi.org/10.1038/s41524-024-01451-y},\\n volume = {10},\\n year = {2024}\\n}\\n')]),\n",
       "                                                 DataModelDict([('document-type',\n",
       "                                                                 'journal'),\n",
       "                                                                ('title',\n",
       "                                                                 'Grain Size Effects on the Deformation of α-Fe Nanopolycrystals: Massively Large-Scale Molecular Dynamics Simulations Using Machine Learning Interatomic Potential'),\n",
       "                                                                ('author',\n",
       "                                                                 [DataModelDict([('given-name',\n",
       "                                                                                  'K.'),\n",
       "                                                                                 ('surname',\n",
       "                                                                                  'Ito')]),\n",
       "                                                                  DataModelDict([('given-name',\n",
       "                                                                                  'T.'),\n",
       "                                                                                 ('surname',\n",
       "                                                                                  'Yokoi')]),\n",
       "                                                                  DataModelDict([('given-name',\n",
       "                                                                                  'K.'),\n",
       "                                                                                 ('surname',\n",
       "                                                                                  'Hyodo')]),\n",
       "                                                                  DataModelDict([('given-name',\n",
       "                                                                                  'H.'),\n",
       "                                                                                 ('surname',\n",
       "                                                                                  'Mori')])]),\n",
       "                                                                ('publication-date',\n",
       "                                                                 DataModelDict([('year',\n",
       "                                                                                 2024)])),\n",
       "                                                                ('abstract',\n",
       "                                                                 'To improve the mechanical properties of polycrystalline metallic materials, understanding the elementary processes involved in their deformation at the atomic level is crucial. In this study, firstly, we evaluate the transferability of the recently proposed α-Fe machine-learning interatomic potential (MLIP), constructed from mechanically generated training data based on crystal space groups, to the tensile deformation process of nanopolycrystals. The transferability was evaluated by comparing the physical properties and lattice defect formation energies, which are important in the deformation behavior of nanopolycrystals, with those obtained from density functional theory (DFT) and by comprehensively calculating extrapolation grades based on active learning methods for the local atomic environment in the nanopolycrystal during tensile deformation. These evaluations demonstrate the superior transferability of the MLIP to the tensile deformation of the nanopolycrystals. Furthermore, large-scale molecular dynamics calculations were performed using the MLIP and the most commonly used embedded atom method (EAM) potential to investigate the effect of grain size on the deformation behavior of α-Fe polycrystals and the effect of interatomic potentials on them. The uniaxial tensile deformation behavior of the nanopolycrystals obtained from EAM was qualitatively consistent with that obtained from MLIP. This result supports the results of many studies conducted using EAM and is an important conclusion considering the high computational cost of the MLIP. Furthermore, the construction method for the MLIP used in this study is applicable to other metals. Therefore, this study considerably contributes to the understanding and material design of various metallic materials through the construction of highly accurate MLIPs.'),\n",
       "                                                                ('DOI',\n",
       "                                                                 '10.2139/ssrn.5029355'),\n",
       "                                                                ('bibtex',\n",
       "                                                                 '@article{Ito_2024,\\n abstract = {To improve the mechanical properties of polycrystalline metallic materials, understanding the elementary processes involved in their deformation at the atomic level is crucial. In this study, firstly, we evaluate the transferability of the recently proposed α-Fe machine-learning interatomic potential (MLIP), constructed from mechanically generated training data based on crystal space groups, to the tensile deformation process of nanopolycrystals. The transferability was evaluated by comparing the physical properties and lattice defect formation energies, which are important in the deformation behavior of nanopolycrystals, with those obtained from density functional theory (DFT) and by comprehensively calculating extrapolation grades based on active learning methods for the local atomic environment in the nanopolycrystal during tensile deformation. These evaluations demonstrate the superior transferability of the MLIP to the tensile deformation of the nanopolycrystals. Furthermore, large-scale molecular dynamics calculations were performed using the MLIP and the most commonly used embedded atom method (EAM) potential to investigate the effect of grain size on the deformation behavior of α-Fe polycrystals and the effect of interatomic potentials on them. The uniaxial tensile deformation behavior of the nanopolycrystals obtained from EAM was qualitatively consistent with that obtained from MLIP. This result supports the results of many studies conducted using EAM and is an important conclusion considering the high computational cost of the MLIP. Furthermore, the construction method for the MLIP used in this study is applicable to other metals. Therefore, this study considerably contributes to the understanding and material design of various metallic materials through the construction of highly accurate MLIPs.},\\n author = {Ito, Kazuma and Yokoi, Tatsuya and Hyodo, Katsutoshi and Mori, Hideki},\\n doi = {10.2139/ssrn.5029355},\\n publisher = {Elsevier BV},\\n title = {Grain Size Effects on the Deformation of α-Fe Nanopolycrystals: Massively Large-Scale Molecular Dynamics Simulations Using Machine Learning Interatomic Potential},\\n url = {http://dx.doi.org/10.2139/ssrn.5029355},\\n year = {2024}\\n}\\n')])]),\n",
       "                                               ('notes',\n",
       "                                                DataModelDict([('text',\n",
       "                                                                'This listing is for the level 22 MTP potential, which is the version of the potential described in the journal article.')]))])),\n",
       "                               ('implementation',\n",
       "                                DataModelDict([('key',\n",
       "                                                '32594370-71ad-429e-b630-6ca6c0e92a26'),\n",
       "                                               ('id',\n",
       "                                                '2024--Ito-K--Fe-22--LAMMPS--ipr1'),\n",
       "                                               ('status', 'active'),\n",
       "                                               ('date', '2024-11-15'),\n",
       "                                               ('type',\n",
       "                                                'LAMMPS pair_style user-mlip (custom)'),\n",
       "                                               ('notes',\n",
       "                                                DataModelDict([('text',\n",
       "                                                                'This file was provided by Kazuma Ito on November 14, 2024.')])),\n",
       "                                               ('artifact',\n",
       "                                                DataModelDict([('web-link',\n",
       "                                                                DataModelDict([('URL',\n",
       "                                                                                'https://www.ctcms.nist.gov/potentials/Download/2024--Ito-K-Yokoi-T-Hyodo-K-Mori-H--Fe-22/1/pot_22.mtp'),\n",
       "                                                                               ('link-text',\n",
       "                                                                                'pot_22.mtp')]))])),\n",
       "                                               ('link',\n",
       "                                                DataModelDict([('web-link',\n",
       "                                                                DataModelDict([('URL',\n",
       "                                                                                'https://gitlab.com/ashapeev/interface-lammps-mlip-2'),\n",
       "                                                                               ('label',\n",
       "                                                                                'LAMMPS-MLIP interface gitlab'),\n",
       "                                                                               ('link-text',\n",
       "                                                                                'https://gitlab.com/ashapeev/interface-lammps-mlip-2')]))]))])),\n",
       "                               ('element', 'Fe')]))])"
      ]
     },
     "execution_count": 13,
     "metadata": {},
     "output_type": "execute_result"
    }
   ],
   "source": [
    "#potential.citations.append(citation)\n",
    "potential.build_model()\n",
    "None"
   ]
  },
  {
   "cell_type": "markdown",
   "metadata": {},
   "source": [
    "#### 2.2.2 Modify and update fields\n",
    "\n",
    "Same fields as above"
   ]
  },
  {
   "cell_type": "code",
   "execution_count": 17,
   "metadata": {
    "tags": []
   },
   "outputs": [],
   "source": [
    "#potential.key = \n",
    "#potential.recorddate = datetime.date()\n",
    "#potential.elements = []\n",
    "#potential.othername = 'water'\n",
    "#potential.fictional = \n",
    "#potential.modelname = \n",
    "potential.notes = ' '.join([\n",
    "    \"This potential is designed for mechanical analysis, including shear strength and elastic constants, dislocation dynamics and their impact on alloy strength, and the analysis of defect effects, such as voids, on material properties.\",\n",
    "    \"However, the potential was not optimized for temperature-dependent properties and was not fit to density, thermal expansion coefficients, or thermal conductivity data.\"])\n",
    "#potential.notes += ' The associated publication has a supplementary information document which includes thorough testing of library appropriateness of liquid properties, and comments and analyses on numerical stability and convergence'\n",
    "#potential.notes += '\"'\n",
    "#potential.citations[0] = citation\n",
    "#potential.name = f'potential.{potential.id}'\n",
    "potential.build_model()\n",
    "None"
   ]
  },
  {
   "cell_type": "markdown",
   "metadata": {},
   "source": [
    "## 3. Implementations"
   ]
  },
  {
   "cell_type": "markdown",
   "metadata": {},
   "source": [
    "### 3.1 List all current implementation types\n",
    "\n",
    "List is given to help keep type values (relatively) uniform. Only needs to be called after new types have been added."
   ]
  },
  {
   "cell_type": "code",
   "execution_count": 30,
   "metadata": {},
   "outputs": [
    {
     "name": "stdout",
     "output_type": "stream",
     "text": [
      "All existing implementation types:\n",
      "    ADP tabulated functions\n",
      "    ASE calculator\n",
      "    Dynamo MEAM\n",
      "    EAM setfl\n",
      "    EAM tabulated functions\n",
      "    Equations\n",
      "    FORTRAN\n",
      "    Finnis-Sinclair tables\n",
      "    GAP\n",
      "    GULP\n",
      "    IMD option EAM\n",
      "    LAMMPS pair_style adp\n",
      "    LAMMPS pair_style aenet (custom)\n",
      "    LAMMPS pair_style agni\n",
      "    LAMMPS pair_style bop\n",
      "    LAMMPS pair_style comb3\n",
      "    LAMMPS pair_style eam\n",
      "    LAMMPS pair_style eam/alloy\n",
      "    LAMMPS pair_style eam/cd\n",
      "    LAMMPS pair_style eam/fs\n",
      "    LAMMPS pair_style eam/he\n",
      "    LAMMPS pair_style edip\n",
      "    LAMMPS pair_style edip/multi\n",
      "    LAMMPS pair_style eim\n",
      "    LAMMPS pair_style extep\n",
      "    LAMMPS pair_style hdnnp\n",
      "    LAMMPS pair_style hybrid table linear 1000 eam/alloy\n",
      "    LAMMPS pair_style hybrid/overlay eam/alloy eam/fs\n",
      "    LAMMPS pair_style hybrid/overlay zbl eam/alloy\n",
      "    LAMMPS pair_style hybrid/overlay zbl snap\n",
      "    LAMMPS pair_style lcbop\n",
      "    LAMMPS pair_style meam\n",
      "    LAMMPS pair_style meam (modified)\n",
      "    LAMMPS pair_style meam/spline\n",
      "    LAMMPS pair_style pace\n",
      "    LAMMPS pair_style pinn\n",
      "    LAMMPS pair_style polymorphic\n",
      "    LAMMPS pair_style rann\n",
      "    LAMMPS pair_style rann (modified)\n",
      "    LAMMPS pair_style ream (custom)\n",
      "    LAMMPS pair_style reax/c\n",
      "    LAMMPS pair_style reaxff\n",
      "    LAMMPS pair_style sw\n",
      "    LAMMPS pair_style table\n",
      "    LAMMPS pair_style tersoff\n",
      "    LAMMPS pair_style tersoff/mod\n",
      "    LAMMPS pair_style tersoff/mod/c\n",
      "    LAMMPS pair_style tersoff/zbl\n",
      "    LAMMPS pair_style vashishta\n",
      "    MEAM parameters\n",
      "    MEAM splines\n",
      "    Moldy FS\n",
      "    MoldyPSI\n",
      "    OpenKIM\n",
      "    ReaxFF\n",
      "    SPaSM\n",
      "    deepmd-kit\n",
      "    hybrid/overlay coul/streitz meam\n"
     ]
    }
   ],
   "source": [
    "pots = db.get_potentials(remote=False)\n",
    "imptypes = []\n",
    "for pot in pots:\n",
    "    for imp in pot.implementations:\n",
    "        imptypes.append(imp.type)\n",
    "imptypes = np.unique(imptypes)\n",
    "\n",
    "print('All existing implementation types:')\n",
    "for imptypes in imptypes:\n",
    "    print('   ', imptypes)"
   ]
  },
  {
   "cell_type": "markdown",
   "metadata": {},
   "source": [
    "### 3.2 Build or load implementation"
   ]
  },
  {
   "cell_type": "markdown",
   "metadata": {},
   "source": [
    "#### 3.2.1 List ids for current potential and implementations"
   ]
  },
  {
   "cell_type": "code",
   "execution_count": 12,
   "metadata": {
    "tags": []
   },
   "outputs": [
    {
     "name": "stdout",
     "output_type": "stream",
     "text": [
      "suggested imp prefix: 2025--Sharifi-H--Fe\n",
      "implementation ids:\n"
     ]
    }
   ],
   "source": [
    "print('suggested imp prefix:', potential.impid_prefix)\n",
    "print('implementation ids:')\n",
    "for i, implementation in enumerate(potential.implementations):\n",
    "    print(f'{i}: {implementation.id} {implementation.type}')"
   ]
  },
  {
   "cell_type": "code",
   "execution_count": 86,
   "metadata": {
    "tags": []
   },
   "outputs": [],
   "source": [
    "#del potential.implementations[0]"
   ]
  },
  {
   "cell_type": "markdown",
   "metadata": {},
   "source": [
    "#### 3.2.2 Build new implementation\n",
    "\n",
    "- __type__ (*str*) Describes the type of the implementation. Use one of the listed values above if possible.\n",
    "- __id__ (*str*) Unique human-readable id for the implementation. For new content, should be derived from the associated potential id:\n",
    "    - Remove all authors except for the first\n",
    "    - Add a simple format descriptor: LAMMPS, GULP, table, parameters, FORTRAN, etc.\n",
    "    - Add a version descriptor: ipr1, ipr2, etc\n",
    "- __notes__ (*str, optional*) Notes on the implementation.  This includes where the file(s) came from, who created them, testing info, how it differs from other versions, etc.\n",
    "- __key__ (*str, optional*) UUID4 key to assign to the implementation.  If None, a new key will be generated.\n",
    "- __status__ (*str, optional*) Indicates the status of the implementation. Available values are \n",
    "    - \"active\" (default) indicates a current implementation.\n",
    "    - \"superseded\" indicates an implementation that is still consistent with the potential model, but has minor issues that were fixed by a newer implementation.\n",
    "    - \"retracted\" indicates an implementation that was identified as being an invalid representation of the potential model.\n",
    "- __date__ (*datetime.date, optional*) The date that the implementation was submitted or added.  If not given, will use today's date."
   ]
  },
  {
   "cell_type": "code",
   "execution_count": 13,
   "metadata": {
    "tags": []
   },
   "outputs": [],
   "source": [
    "potential.add_implementation(\n",
    "    type = 'LAMMPS pair_style meam',\n",
    "    id = f'{potential.impid_prefix}--LAMMPS--ipr1',\n",
    "    notes = ' '.join([\n",
    "        \"These files were provided by Hamid Sharifi on February 11, 2025.\"\n",
    "    ]),\n",
    "    #key='0cdc699f-e78a-49db-8606-7a33c98c2184',\n",
    "    #status=None,\n",
    "    #date=datetime.date(2020, 6, 18), \n",
    ")\n",
    "index = len(potential.implementations) - 1"
   ]
  },
  {
   "cell_type": "code",
   "execution_count": 27,
   "metadata": {
    "tags": []
   },
   "outputs": [],
   "source": [
    "potential.add_implementation(\n",
    "    type = 'ASE calculator',\n",
    "    id = f'{potential.impid_prefix}--equations--ipr1',\n",
    "    notes = ' '.join([\n",
    "        'This file and equations were provided by Alexey Verkhovtsev on March 19, 2024.  The .pdf collects the equation and parameter values as described in the paper.  The .pot file are the parameters as used by the MBN Explorer software package.'\n",
    "    ]),\n",
    "    #key='0cdc699f-e78a-49db-8606-7a33c98c2184',\n",
    "    #status=None,\n",
    "    #date=datetime.date(2020, 6, 18), \n",
    ")\n",
    "index = len(potential.implementations) - 1"
   ]
  },
  {
   "cell_type": "code",
   "execution_count": 28,
   "metadata": {},
   "outputs": [],
   "source": [
    "kimid = 'MO_959249795837'\n",
    "implementation = potentials.Implementation(\n",
    "    type='OpenKIM',\n",
    "    id=kimid,\n",
    "    notes=' '.join(['Listing found at https://openkim.org.']),\n",
    "    #notes=' '.join(['Listing found at https://openkim.org.  This KIM potential is based on a parameter file with identical parameter values as 1989--Tersoff-J--Si-Ge--LAMMPS--ipr1.']),\n",
    "    #notes=' '.join(['Listing found at https://openkim.org. This KIM potential is implemented from the analytical expressions rather than a tabulated parameter file.'])#  The parameter file that this KIM potential is based on has slightly different values due to precision rounding than 2017--Purja-Pun-G-P--Si--LAMMPS--ipr1.']),\n",
    "    key='da76eb36-7ca1-421a-bd64-8f6bdd905b15',\n",
    "    #status=None,\n",
    "    #date=datetime.date(2020, 6, 18), \n",
    ")\n",
    "implementation.add_link(url=f\"https://openkim.org/id/{kimid}\", linktext = kimid)\n",
    "\n",
    "index = len(potential.implementations)\n",
    "potential.implementations.append(implementation)\n",
    "\n"
   ]
  },
  {
   "cell_type": "code",
   "execution_count": 14,
   "metadata": {
    "tags": []
   },
   "outputs": [
    {
     "data": {
      "text/html": [
       "<div xmlns=\"http://www.w3.org/TR/xhtml1/strict\"><script src=\"https://www.ctcms.nist.gov/potentials/site/showFiles.js\">//</script><div class=\"panel panel-default\"><div class=\"panel-heading\"><h3 class=\"panel-title\">2025--Sharifi-H-Wick-C-D--Fe</h3></div><div class=\"panel-body\"><div class=\"citation\"><b>Citation: </b>H. Sharifi, and C.D. Wick (2025), \"Developing interatomic potentials for complex concentrated alloys of Cu, Ti, Ni, Cr, Co, Al, Fe, and Mn\", <i>Computational Materials Science</i>, <b>248</b>, 113595. DOI: <a href=\"https://doi.org/10.1016/j.commatsci.2024.113595\" class=\"external\">10.1016/j.commatsci.2024.113595</a>.<br/></div><div class=\"abstract\"><b>Abstract: </b>Complex concentrated alloys (CCAs) are a new generation of metallic alloys composed of three or more principal elements with physical and mechanical properties that can be tuned by adjusting their compositions. The extensive compositional workspace of CCAs makes it impractical to perform a comprehensive search for a specific material property using experimental measurements. The use of computational methods can rapidly narrow down the search span, improving the efficiency of the design process. We carried out a high-throughput parameterization of modified embedded atom method (MEAM) interatomic potentials for combinations of Cu, Ti, Ni, Cr, Co, Al, Fe, and Mn using a genetic algorithm. Unary systems were parameterized based on DFT calculations and experimental results. MEAM potentials for 28 binary and 56 ternary combinations of the elements were parameterized to DFT results that were carried out with semi-automated frameworks. Specific attention was made to reproduce properties that impact compositional segregation, material strength, and mechanics.</div><br/><div class=\"description-notes\"><b>Notes: </b>This is the elemental listing for the 2025--Sharifi-H-Wick-C-D--Fe-Mn-Ni-Ti-Cu-Cr-Co-Al potential.  This potential focuses on mechanical properties. However, the potential was not optimized for temperature-dependent properties and was not fit to density, thermal expansion coefficients, or thermal conductivity data.</div><br/><div class=\"format\"><b>LAMMPS pair_style meam</b><a href=\"https://www.ctcms.nist.gov/potentials/entry/2025--Sharifi-H-Wick-C-D--Fe/2025--Sharifi-H--Fe--LAMMPS--ipr1.html\"> (2025--Sharifi-H--Fe--LAMMPS--ipr1)</a></div><div class=\"implementation-notes\"><a href=\"https://www.ctcms.nist.gov/potentials/entry/2025--Sharifi-H-Wick-C-D--Fe/2025--Sharifi-H--Fe--LAMMPS--ipr1.html\"><b>See Computed Properties</b></a><br/><b>Notes: </b>These files were provided by Hamid Sharifi on February 11, 2025.<br/><br/></div></div></div></div>"
      ],
      "text/plain": [
       "<IPython.core.display.HTML object>"
      ]
     },
     "metadata": {},
     "output_type": "display_data"
    }
   ],
   "source": [
    "potential.build_model()\n",
    "potential.html(render=True)"
   ]
  },
  {
   "cell_type": "markdown",
   "metadata": {},
   "source": [
    "#### 3.2.3 Select implementation\n",
    "\n",
    "Must be done"
   ]
  },
  {
   "cell_type": "code",
   "execution_count": 15,
   "metadata": {
    "tags": []
   },
   "outputs": [],
   "source": [
    "index = 0\n",
    "implementation = potential.implementations[index]"
   ]
  },
  {
   "cell_type": "markdown",
   "metadata": {},
   "source": [
    "### 3.3 Modify implementation"
   ]
  },
  {
   "cell_type": "markdown",
   "metadata": {},
   "source": [
    "#### 3.3.1 Modify implementation metadata "
   ]
  },
  {
   "cell_type": "code",
   "execution_count": 16,
   "metadata": {
    "tags": []
   },
   "outputs": [
    {
     "data": {
      "text/plain": [
       "'These files were provided by Mikhail Mendelev on October 22, 2024. Note that as of this post, coul/ctip is in the process of being added to LAMMPS and therefore is not yet available in the most recent stable release. If you would like to use this potential, contact Gabriel Plummer (gabriel.w.plummer@nasa.gov) for details on how to use it with LAMMPS.'"
      ]
     },
     "execution_count": 16,
     "metadata": {},
     "output_type": "execute_result"
    }
   ],
   "source": [
    "implementation.notes"
   ]
  },
  {
   "cell_type": "code",
   "execution_count": 17,
   "metadata": {
    "tags": []
   },
   "outputs": [],
   "source": [
    "implementation.notes = 'These files were provided by Mikhail Mendelev on October 22, 2024. Update: coul/ctip is available in LAMMPS starting with the 19Nov2024 release.'"
   ]
  },
  {
   "cell_type": "code",
   "execution_count": 22,
   "metadata": {
    "tags": []
   },
   "outputs": [],
   "source": [
    "implementation.type = 'deepmd-kit'\n",
    "#implementation.key=None\n",
    "#implementation.date=datetime.date(2020, 1, 10)\n",
    "#implementation.id = f'{potential.impid_prefix}--LAMMPS--ipr1'\n",
    "#implementation.notes = ' '.join(['This file was provided by Giovanni Bonny on April 3, 2024 with the agreement of all the authors.'])\n",
    "#implementation.notes += \" Update July 19 2023: This version has been superseded as it had the incorrect atomic mass for H.\"\n",
    "\n",
    "#implementation.status='superseded'"
   ]
  },
  {
   "cell_type": "markdown",
   "metadata": {},
   "source": [
    "#### 3.3.2 Add implementation content\n",
    "\n",
    "The content for the implementation can exist in one of the following formats\n",
    "\n",
    "1. Artifacts: files that are hosted on the potentials repository.\n",
    "2. Parameters: list of the potential's parameters to show as html text on the repository.\n",
    "3. WebLinks: hyperlinks to content hosted externally."
   ]
  },
  {
   "cell_type": "markdown",
   "metadata": {},
   "source": [
    "#### Option #1: Add artifacts\n",
    "\n",
    "File path parameters\n",
    "\n",
    "- __newpotpath__ is the path to the directory where the new potential files are located.\n",
    "- __localpath__ is the path to the local copy of the NIST potentials repository.\n",
    "- __webpath__ is the url path for the NIST potentials repository that coincides with the localpath on the machine.\n",
    "- __relpath__ is the relative path from localpath where the files are copied to, and the relative path from webpath where they will be found once uploaded to the website."
   ]
  },
  {
   "cell_type": "code",
   "execution_count": 16,
   "metadata": {
    "tags": []
   },
   "outputs": [],
   "source": [
    "# Paths to files on desktop\n",
    "machine = socket.gethostname()\n",
    "if machine == 'PG903193':\n",
    "    newpotpath = Path('F:/website/new potentials')\n",
    "    localpath = Path('F:/website/IPR-website/potentials/')\n",
    "\n",
    "# Paths to files on laptop\n",
    "elif machine == 'PG902164':\n",
    "    newpotpath = Path('C:/Users/lmh1/Documents/website/new potentials')\n",
    "    localpath = Path('C:/Users/lmh1/Documents/website/IPR-website/potentials/')\n",
    "\n",
    "# Web and relative paths\n",
    "webpath = 'https://www.ctcms.nist.gov/potentials/'\n",
    "relpath = f'Download/{potential.id}/{index+1}/'"
   ]
  },
  {
   "cell_type": "markdown",
   "metadata": {},
   "source": [
    "Each artifact has:\n",
    "\n",
    "- __filename__ (*str*) The name of the file (no path information).\n",
    "- __url__ (*str*) The absolute url where the file can be downloaded from.\n",
    "- __label__ (*str, optional*) An optional descriptive label for the file."
   ]
  },
  {
   "cell_type": "code",
   "execution_count": 17,
   "metadata": {
    "tags": []
   },
   "outputs": [
    {
     "name": "stdout",
     "output_type": "stream",
     "text": [
      "1-s2.0-S0927025624008164-mmc1.docx\n",
      "Al.meam\n",
      "Co.meam\n",
      "Cr.meam\n",
      "Cu.meam\n",
      "Fe.meam\n",
      "library.meam\n",
      "Mn.meam\n",
      "Ni.meam\n",
      "Ti.meam\n"
     ]
    }
   ],
   "source": [
    "for potfile in newpotpath.glob('*'):\n",
    "    if potfile.is_file():\n",
    "        print(potfile.name)"
   ]
  },
  {
   "cell_type": "code",
   "execution_count": 18,
   "metadata": {
    "tags": []
   },
   "outputs": [],
   "source": [
    "# Specify files from newpotpath to add\n",
    "filenames = [\n",
    "    Path(newpotpath, 'library.meam'),\n",
    "    Path(newpotpath, 'Fe.meam'),\n",
    "    #Path(newpotpath, 'Al_pot.snapparam'),\n",
    "    ]\n",
    "\n",
    "labels = [None for i in range(len(filenames))]"
   ]
  },
  {
   "cell_type": "code",
   "execution_count": 146,
   "metadata": {
    "tags": []
   },
   "outputs": [],
   "source": [
    "# Specify files from newpotpath to add\n",
    "filenames = [\n",
    "    Path(newpotpath, 'READ_ME.txt'),\n",
    "    Path(newpotpath, 'FeCCr_d.eam.alloy'),\n",
    "    Path(newpotpath, 'FeCCr_s.eam.fs'),\n",
    "]\n",
    "\n",
    "labels = [\n",
    "    'Documentation',\n",
    "    'd_band',\n",
    "    's_band'\n",
    "]"
   ]
  },
  {
   "cell_type": "code",
   "execution_count": 98,
   "metadata": {
    "tags": []
   },
   "outputs": [],
   "source": [
    "# Specify files from newpotpath to add\n",
    "filenames = [\n",
    "    Path(newpotpath, 'F_Fe.spt'),\n",
    "    Path(newpotpath, 'F_Cu.spt'),\n",
    "    Path(newpotpath, 'F_Ni.spt'),\n",
    "    Path(newpotpath, 'F_Mn.spt'),\n",
    "    Path(newpotpath, 'rhoFe.spt'),\n",
    "    Path(newpotpath, 'rhoCu.spt'),\n",
    "    Path(newpotpath, 'rhoNi.spt'),\n",
    "    Path(newpotpath, 'rhoMn.spt'),\n",
    "    Path(newpotpath, 'pFeFe.spt'),\n",
    "    Path(newpotpath, 'pCuCu.spt'),\n",
    "    Path(newpotpath, 'pNiNi.spt'),\n",
    "    Path(newpotpath, 'pMnMn.spt'),\n",
    "    Path(newpotpath, 'pFeCu.spt'),\n",
    "    Path(newpotpath, 'pFeNi.spt'),\n",
    "    Path(newpotpath, 'pFeMn.spt'),\n",
    "    Path(newpotpath, 'pCuNi.spt'),\n",
    "    Path(newpotpath, 'pCuMn.spt'),\n",
    "    Path(newpotpath, 'pNiMn.spt'),\n",
    "    ]\n",
    "\n",
    "labels = [\n",
    "    'Fe F(ρ)',\n",
    "    'Cu F(ρ)',\n",
    "    'Ni F(ρ)',\n",
    "    'Mn F(ρ)',\n",
    "    'Fe ρ(r)',\n",
    "    'Cu ρ(r)',\n",
    "    'Ni ρ(r)',\n",
    "    'Mn ρ(r)',\n",
    "    'Fe φ(r)',\n",
    "    'Cu φ(r)',\n",
    "    'Ni φ(r)',\n",
    "    'Mn φ(r)',\n",
    "    'Fe-Cu φ(r)',\n",
    "    'Fe-Ni φ(r)',\n",
    "    'Fe-Mn φ(r)',\n",
    "    'Cu-Ni φ(r)',\n",
    "    'Cu-Mn φ(r)',\n",
    "    'Ni-Mn φ(r)'\n",
    "]"
   ]
  },
  {
   "cell_type": "code",
   "execution_count": 19,
   "metadata": {
    "tags": []
   },
   "outputs": [
    {
     "name": "stdout",
     "output_type": "stream",
     "text": [
      "F:\\website\\IPR-website\\potentials\\Download\\2025--Sharifi-H-Wick-C-D--Fe\\1\\library.meam\n",
      "F:\\website\\IPR-website\\potentials\\Download\\2025--Sharifi-H-Wick-C-D--Fe\\1\\Fe.meam\n"
     ]
    }
   ],
   "source": [
    "# Make download directory in local copy of website\n",
    "downloadpath = Path(localpath, relpath)\n",
    "if not downloadpath.is_dir():\n",
    "    downloadpath.mkdir(parents=True)\n",
    "\n",
    "# Copy files and add artifact listings\n",
    "for filename, label in zip(filenames, labels):\n",
    "    # Build url\n",
    "    url = webpath + relpath + filename.name\n",
    "    # Copy files\n",
    "    shutil.copy(filename, downloadpath)\n",
    "    print(Path(downloadpath, filename.name))\n",
    "    \n",
    "    # Add artifact listing to implementation\n",
    "    implementation.add_artifact(filename=filename.name, url=url, label=label)"
   ]
  },
  {
   "cell_type": "markdown",
   "metadata": {},
   "source": [
    "#### Option #1b: Update file paths"
   ]
  },
  {
   "cell_type": "code",
   "execution_count": 43,
   "metadata": {},
   "outputs": [],
   "source": [
    "#newdir= Path(localpath, relpath)\n",
    "#if not newdir.is_dir():\n",
    "#    newdir.mkdir(parents=True)\n",
    "\n",
    "#for artifact in implementation.artifacts:\n",
    "    # Copy artifact file to new location\n",
    "#    oldpath = Path(localpath, artifact.url.replace(webpath, ''))\n",
    "    \n",
    "#    newpath = Path(newdir, artifact.filename)\n",
    "    #shutil.copy(oldpath, newpath)\n",
    "    \n",
    "    # Update the url\n",
    "#    artifact.url = webpath + relpath + artifact.filename"
   ]
  },
  {
   "cell_type": "markdown",
   "metadata": {},
   "source": [
    "#### Option #2: Add parameters\n",
    "\n",
    "Each parameter has:\n",
    "\n",
    "- __name__ (*str, optional*) The name of the parameter or string parameter line.\n",
    "- __value__ (*float, optional*) The value of the parameter.\n",
    "- __unit__ (*str, optional*) Units associated with value.\n",
    "\n",
    "Note: if the parameters are purely text-based, you can use only the name field."
   ]
  },
  {
   "cell_type": "code",
   "execution_count": null,
   "metadata": {},
   "outputs": [],
   "source": []
  },
  {
   "cell_type": "markdown",
   "metadata": {},
   "source": [
    "#### Option #3: Add weblinks\n",
    "\n",
    "Each weblink has:\n",
    "\n",
    "- __url__ (*str*) URL for the link.\n",
    "- __label__ (*str, optional*) A short description label to proceed the link.\n",
    "- __linktext__ (*str, optional*) The text for the link, i.e. what gets clicked on."
   ]
  },
  {
   "cell_type": "code",
   "execution_count": 61,
   "metadata": {
    "tags": []
   },
   "outputs": [],
   "source": [
    "#url = 'https://github.com/mengfsou/MLPs-FeC'\n",
    "#label = 'github repository'\n",
    "#linktext = 'https://github.com/mengfsou/MLPs-FeC'\n",
    "\n",
    "#implementation.add_link(url=url, label=label, linktext=linktext)\n",
    "\n",
    "#url = 'https://docs.deepmodeling.com/projects/deepmd/en/master/index.html'\n",
    "#label = 'DeePMD-kit documentation'\n",
    "#linktext = 'https://docs.deepmodeling.com/projects/deepmd/en/master/index.html'\n",
    "\n",
    "#implementation.add_link(url=url, label=label, linktext=linktext)\n",
    "\n",
    "\n",
    "#url = 'https://doi.org/10.5281/zenodo.10131449'\n",
    "#label = 'Zenodo training data'\n",
    "#linktext = 'https://doi.org/10.5281/zenodo.10131449'\n",
    "\n",
    "#implementation.add_link(url=url, label=label, linktext=linktext)\n",
    "\n",
    "\n",
    "url = 'https://gitlab.com/ashapeev/interface-lammps-mlip-2'\n",
    "label = 'LAMMPS-MLIP interface gitlab'\n",
    "linktext = 'https://gitlab.com/ashapeev/interface-lammps-mlip-2'\n",
    "\n",
    "implementation.add_link(url=url, label=label, linktext=linktext)"
   ]
  },
  {
   "cell_type": "code",
   "execution_count": null,
   "metadata": {
    "tags": []
   },
   "outputs": [],
   "source": [
    "#implementation.links.pop()"
   ]
  },
  {
   "cell_type": "code",
   "execution_count": 82,
   "metadata": {},
   "outputs": [],
   "source": [
    "#implementation.links[0].linktext=linktext"
   ]
  },
  {
   "cell_type": "markdown",
   "metadata": {},
   "source": [
    "## 4. Review and save potentials"
   ]
  },
  {
   "cell_type": "code",
   "execution_count": 20,
   "metadata": {
    "tags": []
   },
   "outputs": [
    {
     "data": {
      "text/html": [
       "<div xmlns=\"http://www.w3.org/TR/xhtml1/strict\"><script src=\"https://www.ctcms.nist.gov/potentials/site/showFiles.js\">//</script><div class=\"panel panel-default\"><div class=\"panel-heading\"><h3 class=\"panel-title\">2025--Sharifi-H-Wick-C-D--Fe</h3></div><div class=\"panel-body\"><div class=\"citation\"><b>Citation: </b>H. Sharifi, and C.D. Wick (2025), \"Developing interatomic potentials for complex concentrated alloys of Cu, Ti, Ni, Cr, Co, Al, Fe, and Mn\", <i>Computational Materials Science</i>, <b>248</b>, 113595. DOI: <a href=\"https://doi.org/10.1016/j.commatsci.2024.113595\" class=\"external\">10.1016/j.commatsci.2024.113595</a>.<br/></div><div class=\"abstract\"><b>Abstract: </b>Complex concentrated alloys (CCAs) are a new generation of metallic alloys composed of three or more principal elements with physical and mechanical properties that can be tuned by adjusting their compositions. The extensive compositional workspace of CCAs makes it impractical to perform a comprehensive search for a specific material property using experimental measurements. The use of computational methods can rapidly narrow down the search span, improving the efficiency of the design process. We carried out a high-throughput parameterization of modified embedded atom method (MEAM) interatomic potentials for combinations of Cu, Ti, Ni, Cr, Co, Al, Fe, and Mn using a genetic algorithm. Unary systems were parameterized based on DFT calculations and experimental results. MEAM potentials for 28 binary and 56 ternary combinations of the elements were parameterized to DFT results that were carried out with semi-automated frameworks. Specific attention was made to reproduce properties that impact compositional segregation, material strength, and mechanics.</div><br/><div class=\"description-notes\"><b>Notes: </b>This is the elemental listing for the 2025--Sharifi-H-Wick-C-D--Fe-Mn-Ni-Ti-Cu-Cr-Co-Al potential.  This potential focuses on mechanical properties. However, the potential was not optimized for temperature-dependent properties and was not fit to density, thermal expansion coefficients, or thermal conductivity data.</div><br/><div class=\"format\"><b>LAMMPS pair_style meam</b><a href=\"https://www.ctcms.nist.gov/potentials/entry/2025--Sharifi-H-Wick-C-D--Fe/2025--Sharifi-H--Fe--LAMMPS--ipr1.html\"> (2025--Sharifi-H--Fe--LAMMPS--ipr1)</a></div><div class=\"implementation-notes\"><a href=\"https://www.ctcms.nist.gov/potentials/entry/2025--Sharifi-H-Wick-C-D--Fe/2025--Sharifi-H--Fe--LAMMPS--ipr1.html\"><b>See Computed Properties</b></a><br/><b>Notes: </b>These files were provided by Hamid Sharifi on February 11, 2025.<br/><b>File(s): </b><div id=\"901d4565-8f74-4b8d-bbc0-e6fe1ac4f76b\" style=\"display:block\"><a href=\"https://www.ctcms.nist.gov/potentials/Download/2025--Sharifi-H-Wick-C-D--Fe/1/library.meam\">library.meam</a><br/><a href=\"https://www.ctcms.nist.gov/potentials/Download/2025--Sharifi-H-Wick-C-D--Fe/1/Fe.meam\">Fe.meam</a><br/></div><br/></div></div></div></div>"
      ],
      "text/plain": [
       "<IPython.core.display.HTML object>"
      ]
     },
     "metadata": {},
     "output_type": "display_data"
    }
   ],
   "source": [
    "potential.build_model()\n",
    "potential.html(render=True)"
   ]
  },
  {
   "cell_type": "code",
   "execution_count": 21,
   "metadata": {
    "tags": []
   },
   "outputs": [
    {
     "name": "stdout",
     "output_type": "stream",
     "text": [
      "Potential record named potential.2025--Sharifi-H-Wick-C-D--Fe added to C:\\Users\\lmh1\\Documents\\library\n",
      "Potential record named potential.2025--Sharifi-H-Wick-C-D--Fe added to https://potentials.nist.gov/\n",
      "Potential record named potential.2025--Sharifi-H-Wick-C-D--Fe assigned to workspace Global Public Workspace\n"
     ]
    }
   ],
   "source": [
    "db.save_potential(potential, overwrite=True, verbose=True)\n",
    "with db.remote_database.cdcs.auto_set_pid_off():\n",
    "    db.upload_potential(potential, workspace=workspace, overwrite=True, verbose=True)\n",
    "complete_potentials.append(potential)"
   ]
  },
  {
   "cell_type": "code",
   "execution_count": 64,
   "metadata": {
    "tags": []
   },
   "outputs": [
    {
     "data": {
      "text/plain": [
       "['2024--Ito-K-Yokoi-T-Hyodo-K-Mori-H--Fe-16',\n",
       " '2024--Ito-K-Yokoi-T-Hyodo-K-Mori-H--Fe-18',\n",
       " '2024--Ito-K-Yokoi-T-Hyodo-K-Mori-H--Fe-20',\n",
       " '2024--Ito-K-Yokoi-T-Hyodo-K-Mori-H--Fe-22']"
      ]
     },
     "execution_count": 64,
     "metadata": {},
     "output_type": "execute_result"
    }
   ],
   "source": [
    "[pot.id for pot in complete_potentials]"
   ]
  },
  {
   "cell_type": "code",
   "execution_count": null,
   "metadata": {
    "tags": []
   },
   "outputs": [],
   "source": [
    "#db.delete_potential(potential, local=True, remote=True, verbose=True)\n",
    "#complete_potentials.pop(-1)"
   ]
  },
  {
   "cell_type": "code",
   "execution_count": null,
   "metadata": {},
   "outputs": [],
   "source": [
    "#db.download_potentials(overwrite=True, format='json', indent=4, verbose=True)"
   ]
  },
  {
   "cell_type": "code",
   "execution_count": 23,
   "metadata": {},
   "outputs": [],
   "source": [
    "#complete_potentials.append(potential)"
   ]
  },
  {
   "cell_type": "markdown",
   "metadata": {},
   "source": [
    "## 5. potential_LAMMPS\n",
    "\n",
    "This section generates the potential_LAMMPS metadata records for generating the LAMMPS input command lines for supported potentials."
   ]
  },
  {
   "cell_type": "markdown",
   "metadata": {
    "tags": []
   },
   "source": [
    "### 5.1 Build potential_LAMMPS\n",
    "\n",
    "#### Specify parameters\n",
    "\n",
    "Common settings\n",
    "\n",
    "- __id__ (*str, optional*) implementation id. Should match with the implementation id from above.\n",
    "- __key__ (*str, optional*) implementation key. Should match with the implementation key from above.\n",
    "- __potid__ (*str, optional*) potential id. Should match with the potential id from above.\n",
    "- __potkey__ (*str, optional*) potential key. Should match with the potential key from above.\n",
    "- __elements__ (*list, optional*) The elements that the implementation simulates.  Should match with the elements from above if the implementation explicitly models each element.\n",
    "- __symbols__ (*list, optional*) The particle model symbols defined by the implementation.  Not needed if identical to elements.\n",
    "- __masses__ (*list, optional*) The masses to assign to each symbol/element.  Should be given if the implementation specifies the mass.  Required if elements is not given.\n",
    "- __units__ (*str, optional*) The LAMMPS units to use with the implementation.  Default value is 'metal'.\n",
    "- __atom_style__ (*str, optional*) The LAMMPS atom_style to use with the implementation.  Default value is 'atomic'.\n",
    "- __pair_style__ (*str*) The LAMMPS pair_style associated with the implementation.\n",
    "- __pair_style_terms__ (*list, optional*) Any additional terms that should appear on the pair_style command line.\n",
    "- __comments__ (*str, optional*) Info about where the potential is hosted, to be printed when LAMMPS commands are generated.\n",
    "- __dois__ (*list, optional*) A list of publication DOIs associated with the potential. \n",
    "- __artifacts__ (*list, optional*) A list of Artifact objects for the associated potential files."
   ]
  },
  {
   "cell_type": "code",
   "execution_count": 22,
   "metadata": {
    "tags": []
   },
   "outputs": [],
   "source": [
    "kwargs = {}\n",
    "kwargs['id'] = implementation.id\n",
    "kwargs['key'] = implementation.key\n",
    "kwargs['potid'] = potential.id\n",
    "kwargs['potkey'] = potential.key\n",
    "\n",
    "kwargs['elements'] = kwargs['symbols'] = potential.elements\n",
    "#kwargs['elements'] = ['Si', 'Fe']\n",
    "#kwargs['symbols'] = ['Fe', 'nmFe']\n",
    "kwargs['masses'] = [55.845]#, 54.94, 58.6934, 47.880, 63.546, 51.960, 58.9330, 26.9815]\n",
    "\n",
    "#kwargs['units'] =\n",
    "#kwargs['atom_style'] = \n",
    "\n",
    "kwargs['pair_style'] = implementation.type.replace('LAMMPS pair_style ', '')\n",
    "#kwargs['pair_style_terms'] = ['spline', 10000]\n",
    "\n",
    "kwargs['comments'] = '\\n'.join([f'Potential {implementation.id} listed in the NIST Interatomic Potentials Repository:',\n",
    "                                f'https://www.ctcms.nist.gov/potentials/entry/{potential.id}/{implementation.id}.html',\n",
    "                                f''])\n",
    "\n",
    "#kwargs['dois'] = []\n",
    "#for cit in potential.citations:\n",
    "#    kwargs['dois'].append(cit.bib['doi'])\n",
    "\n",
    "kwargs['artifacts'] = implementation.artifacts"
   ]
  },
  {
   "cell_type": "markdown",
   "metadata": {},
   "source": [
    "Option #1 For pair potentials without parameter files, e.g lj/cut\n",
    "\n",
    "- __interactions__ (*list*) Lists parameters associated with each unique interaction.  Each value is a dict with\n",
    "    - __symbols__ (*list*) The two elemental model symbols to associate with the interaction.\n",
    "    - __terms__ (*list*) The terms that appear on the pair_coeff command line for that interaction."
   ]
  },
  {
   "cell_type": "code",
   "execution_count": 34,
   "metadata": {},
   "outputs": [],
   "source": [
    "kwargs['interactions'] = [\n",
    "    {'symbols': ['Co', 'Co'], 'terms': ['mie_Co-Co.table', 'ENTRY']},\n",
    "    {'symbols': ['Cr', 'Cr'], 'terms': ['mie_Cr-Cr.table', 'ENTRY']},\n",
    "    {'symbols': ['Fe', 'Fe'], 'terms': ['mie_Fe-Fe.table', 'ENTRY']},\n",
    "    {'symbols': ['Mn', 'Mn'], 'terms': ['mie_Mn-Mn.table', 'ENTRY']},\n",
    "    {'symbols': ['Ni', 'Ni'], 'terms': ['mie_Ni-Ni.table', 'ENTRY']},\n",
    "    {'symbols': ['Co', 'Cr'], 'terms': ['mie_Co-Cr.table', 'ENTRY']},\n",
    "    {'symbols': ['Co', 'Fe'], 'terms': ['mie_Co-Fe.table', 'ENTRY']},\n",
    "    {'symbols': ['Co', 'Mn'], 'terms': ['mie_Co-Mn.table', 'ENTRY']},\n",
    "    {'symbols': ['Co', 'Ni'], 'terms': ['mie_Co-Ni.table', 'ENTRY']},\n",
    "    {'symbols': ['Cr', 'Fe'], 'terms': ['mie_Cr-Fe.table', 'ENTRY']},\n",
    "    {'symbols': ['Cr', 'Mn'], 'terms': ['mie_Cr-Mn.table', 'ENTRY']},\n",
    "    {'symbols': ['Cr', 'Ni'], 'terms': ['mie_Cr-Ni.table', 'ENTRY']},\n",
    "    {'symbols': ['Fe', 'Mn'], 'terms': ['mie_Fe-Mn.table', 'ENTRY']},\n",
    "    {'symbols': ['Fe', 'Ni'], 'terms': ['mie_Fe-Ni.table', 'ENTRY']},\n",
    "    {'symbols': ['Mn', 'Ni'], 'terms': ['mie_Mn-Ni.table', 'ENTRY']},\n",
    "]"
   ]
  },
  {
   "cell_type": "markdown",
   "metadata": {},
   "source": [
    "List files assigned to the potential for options #2-4"
   ]
  },
  {
   "cell_type": "code",
   "execution_count": 23,
   "metadata": {
    "tags": []
   },
   "outputs": [
    {
     "name": "stdout",
     "output_type": "stream",
     "text": [
      "library.meam\n",
      "Fe.meam\n"
     ]
    }
   ],
   "source": [
    "for file in filenames:\n",
    "    print(file.name)"
   ]
  },
  {
   "cell_type": "markdown",
   "metadata": {},
   "source": [
    "Option #2 For potentials with single parameter files, e.g. eam/alloy\n",
    "\n",
    "- __paramfile__ (*str*) The name (no path) of the potential's parameter file."
   ]
  },
  {
   "cell_type": "code",
   "execution_count": 29,
   "metadata": {
    "tags": []
   },
   "outputs": [],
   "source": [
    "kwargs['paramfile'] = 'GaAsAu.lammps'"
   ]
  },
  {
   "cell_type": "markdown",
   "metadata": {},
   "source": [
    "Option #3 For potentials with a parameter file and a library file, e.g. meam\n",
    "\n",
    "- __libfile__ (*str*) The name (no path) of the potential's library parameter file.\n",
    "- __paramfile__ (*str, optional*) The name (no path) of the potential's parameter file, if one is used."
   ]
  },
  {
   "cell_type": "code",
   "execution_count": 24,
   "metadata": {
    "tags": []
   },
   "outputs": [],
   "source": [
    "kwargs['libfile'] = 'library.meam'\n",
    "kwargs['paramfile'] = 'Fe.meam'"
   ]
  },
  {
   "cell_type": "markdown",
   "metadata": {},
   "source": [
    "Option #4 For classic EAM potentials, i.e. eam\n",
    "\n",
    "- __paramfiles__ (*list*) The names (no paths) of the parameter files for each unique element. Order should match order of elements."
   ]
  },
  {
   "cell_type": "code",
   "execution_count": null,
   "metadata": {},
   "outputs": [],
   "source": [
    "kwargs['paramfiles'] = []"
   ]
  },
  {
   "cell_type": "markdown",
   "metadata": {},
   "source": [
    "Option #5 For OpenKIM potentials\n",
    "\n",
    "- __kimid__ (*str*) The KIM model ID."
   ]
  },
  {
   "cell_type": "code",
   "execution_count": null,
   "metadata": {},
   "outputs": [],
   "source": [
    "kwargs['kimid'] = "
   ]
  },
  {
   "cell_type": "markdown",
   "metadata": {},
   "source": [
    "#### Build potential_LAMMPS"
   ]
  },
  {
   "cell_type": "code",
   "execution_count": 25,
   "metadata": {
    "tags": []
   },
   "outputs": [],
   "source": [
    "lammps_potential = potentials.build_lammps_potential(**kwargs).potential()"
   ]
  },
  {
   "cell_type": "code",
   "execution_count": 28,
   "metadata": {
    "tags": []
   },
   "outputs": [],
   "source": [
    "# Custom select the \"style\" if needed\n",
    "lammps_potential = potentials.buildrecord.potential_LAMMPS.ParamFileBuilder(**kwargs).potential()"
   ]
  },
  {
   "cell_type": "markdown",
   "metadata": {},
   "source": [
    "### 5.2 Load potential_LAMMPS from database "
   ]
  },
  {
   "cell_type": "code",
   "execution_count": null,
   "metadata": {},
   "outputs": [],
   "source": [
    "#lammps_potential = db.get_lammps_potential(id='2023--Jana-R--Fe--LAMMPS--ipr1', verbose=True)"
   ]
  },
  {
   "cell_type": "markdown",
   "metadata": {},
   "source": [
    "### 5.3 Load potential_LAMMPS from local file not in database "
   ]
  },
  {
   "cell_type": "code",
   "execution_count": 44,
   "metadata": {},
   "outputs": [],
   "source": [
    "#fname = Path('2020--Groger-R--Co-Cr-Fe-Mn-Ni--LAMMPS--ipr1.json')\n",
    "#lammps_potential = potentials.record.PotentialLAMMPS(fname)"
   ]
  },
  {
   "cell_type": "markdown",
   "metadata": {},
   "source": [
    "### 5.4 Review and save"
   ]
  },
  {
   "cell_type": "markdown",
   "metadata": {},
   "source": [
    "#### Review model"
   ]
  },
  {
   "cell_type": "code",
   "execution_count": 26,
   "metadata": {
    "tags": []
   },
   "outputs": [
    {
     "name": "stdout",
     "output_type": "stream",
     "text": [
      "{\n",
      "  \"potential-LAMMPS\": {\n",
      "    \"key\": \"901d4565-8f74-4b8d-bbc0-e6fe1ac4f76b\",\n",
      "    \"id\": \"2025--Sharifi-H--Fe--LAMMPS--ipr1\",\n",
      "    \"potential\": {\n",
      "      \"key\": \"db96e622-2fd1-4a7a-a8e7-c0995caf5891\",\n",
      "      \"id\": \"2025--Sharifi-H-Wick-C-D--Fe\"\n",
      "    },\n",
      "    \"comments\": \"Potential 2025--Sharifi-H--Fe--LAMMPS--ipr1 listed in the NIST Interatomic Potentials Repository:\\nhttps://www.ctcms.nist.gov/potentials/entry/2025--Sharifi-H-Wick-C-D--Fe/2025--Sharifi-H--Fe--LAMMPS--ipr1.html\\n\",\n",
      "    \"units\": \"metal\",\n",
      "    \"atom_style\": \"atomic\",\n",
      "    \"atom\": {\n",
      "      \"symbol\": \"Fe\",\n",
      "      \"element\": \"Fe\",\n",
      "      \"mass\": 55.845\n",
      "    },\n",
      "    \"pair_style\": {\n",
      "      \"type\": \"meam\"\n",
      "    },\n",
      "    \"pair_coeff\": {\n",
      "      \"term\": [\n",
      "        {\n",
      "          \"file\": \"library.meam\"\n",
      "        },\n",
      "        {\n",
      "          \"option\": \"Fe\"\n",
      "        },\n",
      "        {\n",
      "          \"file\": \"Fe.meam\"\n",
      "        },\n",
      "        {\n",
      "          \"symbols\": true\n",
      "        }\n",
      "      ]\n",
      "    },\n",
      "    \"artifact\": [\n",
      "      {\n",
      "        \"web-link\": {\n",
      "          \"URL\": \"https://www.ctcms.nist.gov/potentials/Download/2025--Sharifi-H-Wick-C-D--Fe/1/library.meam\",\n",
      "          \"link-text\": \"library.meam\"\n",
      "        }\n",
      "      },\n",
      "      {\n",
      "        \"web-link\": {\n",
      "          \"URL\": \"https://www.ctcms.nist.gov/potentials/Download/2025--Sharifi-H-Wick-C-D--Fe/1/Fe.meam\",\n",
      "          \"link-text\": \"Fe.meam\"\n",
      "        }\n",
      "      }\n",
      "    ]\n",
      "  }\n",
      "}\n"
     ]
    }
   ],
   "source": [
    "print(lammps_potential.model.json(indent=2))"
   ]
  },
  {
   "cell_type": "markdown",
   "metadata": {},
   "source": [
    "#### Save"
   ]
  },
  {
   "cell_type": "code",
   "execution_count": 27,
   "metadata": {
    "tags": []
   },
   "outputs": [
    {
     "name": "stdout",
     "output_type": "stream",
     "text": [
      "potential_LAMMPS record named 2025--Sharifi-H--Fe--LAMMPS--ipr1 added to C:\\Users\\lmh1\\Documents\\library\n",
      "files saved to local folder\n",
      "potential_LAMMPS record named 2025--Sharifi-H--Fe--LAMMPS--ipr1 added to https://potentials.nist.gov/\n",
      "potential_LAMMPS record named 2025--Sharifi-H--Fe--LAMMPS--ipr1 assigned to workspace Global Public Workspace\n"
     ]
    }
   ],
   "source": [
    "db.save_lammps_potential(lammps_potential, filenames=filenames,  verbose=True)\n",
    "with db.remote_database.cdcs.auto_set_pid_off():\n",
    "    db.upload_lammps_potential(lammps_potential, workspace=workspace, overwrite=True, verbose=True)"
   ]
  },
  {
   "cell_type": "code",
   "execution_count": null,
   "metadata": {},
   "outputs": [],
   "source": [
    "#db.delete_lammps_potential(lammps_potential, local=True, remote=True, verbose=True)"
   ]
  },
  {
   "cell_type": "code",
   "execution_count": null,
   "metadata": {},
   "outputs": [],
   "source": [
    "#db.download_lammps_potentials(getfiles=True, overwrite=True, verbose=True)"
   ]
  },
  {
   "cell_type": "markdown",
   "metadata": {},
   "source": [
    "- - -\n",
    "\n",
    "## 5. Actions\n",
    "\n",
    "Actions are used by the website to note changes in content and representation. "
   ]
  },
  {
   "cell_type": "markdown",
   "metadata": {},
   "source": [
    "### 5.1 Build action"
   ]
  },
  {
   "cell_type": "markdown",
   "metadata": {},
   "source": [
    "#### Option #1: new posting(s)"
   ]
  },
  {
   "cell_type": "code",
   "execution_count": 35,
   "metadata": {
    "tags": []
   },
   "outputs": [
    {
     "name": "stdout",
     "output_type": "stream",
     "text": [
      "2025--Sharifi-H-Wick-C-D--Fe-Mn-Ni-Ti-Cu-Cr-Co-Al\n"
     ]
    }
   ],
   "source": [
    "for complete_potential in complete_potentials:\n",
    "    print(complete_potential.id)"
   ]
  },
  {
   "cell_type": "code",
   "execution_count": 36,
   "metadata": {
    "tags": []
   },
   "outputs": [],
   "source": [
    "action = potentials.load_record('Action',\n",
    "    type = 'new posting',\n",
    "    potentials = complete_potentials,\n",
    "    #date = datetime.date(2021, 10, 26),\n",
    "    comment = \"New MEAM potential for Fe-Mn-Ni-Ti-Cu-Cr-Co-Al\",\n",
    ")"
   ]
  },
  {
   "cell_type": "markdown",
   "metadata": {},
   "source": [
    "#### Option #2: updated posting(s)"
   ]
  },
  {
   "cell_type": "code",
   "execution_count": 39,
   "metadata": {},
   "outputs": [],
   "source": [
    "action = potentials.load_record('Action',\n",
    "    type = 'updated posting',\n",
    "    potentials = complete_potentials,\n",
    "    date = None,\n",
    "    comment = 'New version added that fixes the atomic mass of H',\n",
    ")"
   ]
  },
  {
   "cell_type": "markdown",
   "metadata": {},
   "source": [
    "#### Option #3: retraction"
   ]
  },
  {
   "cell_type": "code",
   "execution_count": null,
   "metadata": {},
   "outputs": [],
   "source": [
    "action = potentials.load_record('Action',\n",
    "    type = 'retraction',\n",
    "    potentials = complete_potentials,\n",
    "    date = None,        \n",
    "    comment =,\n",
    ")"
   ]
  },
  {
   "cell_type": "code",
   "execution_count": null,
   "metadata": {},
   "outputs": [],
   "source": []
  },
  {
   "cell_type": "markdown",
   "metadata": {},
   "source": [
    "#### Option #4: site change"
   ]
  },
  {
   "cell_type": "code",
   "execution_count": null,
   "metadata": {},
   "outputs": [],
   "source": [
    "action = potentials.load_record('Action',\n",
    "    type = 'site change',\n",
    "    date = None,\n",
    "    comment = 'IDs added for all non-LAMMPS implementations. The handling of fictional potentials made consistent with \"real\" potentials.',\n",
    "    potentials = []\n",
    ")"
   ]
  },
  {
   "cell_type": "markdown",
   "metadata": {},
   "source": [
    "### 5.2 Look and save"
   ]
  },
  {
   "cell_type": "code",
   "execution_count": 37,
   "metadata": {
    "tags": []
   },
   "outputs": [
    {
     "data": {
      "text/html": [
       "<div xmlns=\"http://www.w3.org/TR/xhtml1/strict\"><b>new posting (2025-02-14): </b>New MEAM potential for Fe-Mn-Ni-Ti-Cu-Cr-Co-Al <ul><li><a href=\"https://www.ctcms.nist.gov/potentials/entry/2025--Sharifi-H-Wick-C-D--Fe-Mn-Ni-Ti-Cu-Cr-Co-Al\">2025--Sharifi-H-Wick-C-D--Fe-Mn-Ni-Ti-Cu-Cr-Co-Al</a></li></ul></div>"
      ],
      "text/plain": [
       "<IPython.core.display.HTML object>"
      ]
     },
     "metadata": {},
     "output_type": "display_data"
    }
   ],
   "source": [
    "action.build_model()\n",
    "action.html(render=True)"
   ]
  },
  {
   "cell_type": "code",
   "execution_count": 38,
   "metadata": {
    "tags": []
   },
   "outputs": [
    {
     "name": "stdout",
     "output_type": "stream",
     "text": [
      "Action record named 2025-02-14 New MEAM potential for Fe-Mn-Ni-Ti-Cu-Cr-Co-Al added to https://potentials.nist.gov/\n",
      "Action record named 2025-02-14 New MEAM potential for Fe-Mn-Ni-Ti-Cu-Cr-Co-Al assigned to workspace Global Public Workspace\n"
     ]
    }
   ],
   "source": [
    "db.upload_action(action, workspace=workspace, overwrite=True, verbose=True)"
   ]
  },
  {
   "cell_type": "code",
   "execution_count": 29,
   "metadata": {
    "tags": []
   },
   "outputs": [],
   "source": [
    "action = db.get_action(name='2025-02-14 New MEAM potential for Fe-Mn-Ni-Ti-Cu-Cr-Co-Al')"
   ]
  },
  {
   "cell_type": "code",
   "execution_count": 33,
   "metadata": {
    "tags": []
   },
   "outputs": [
    {
     "data": {
      "text/plain": [
       "{'id': '2025--Sharifi-H-Wick-C-D--Fe-Mn-Ni-Ti-Cu-Cr-Co-Al',\n",
       " 'key': '3f1437f6-f3ad-4326-a186-505cbfef79d9',\n",
       " 'dois': [],\n",
       " 'elements': ['Fe', 'Mn', 'Ni', 'Ti', 'Cu', 'Cr', 'Co', 'Al'],\n",
       " 'othername': None,\n",
       " 'fictional': False}"
      ]
     },
     "execution_count": 33,
     "metadata": {},
     "output_type": "execute_result"
    }
   ],
   "source": [
    "action.potentials[0].metadata()"
   ]
  },
  {
   "cell_type": "markdown",
   "metadata": {},
   "source": [
    "- - -\n",
    "\n",
    "## 6. Requests\n",
    "\n",
    "Requests are used by the website to list when people are looking for specific models that we don't have."
   ]
  },
  {
   "cell_type": "markdown",
   "metadata": {},
   "source": [
    "### 6.1 Build request"
   ]
  },
  {
   "cell_type": "code",
   "execution_count": 42,
   "metadata": {
    "tags": []
   },
   "outputs": [],
   "source": [
    "request = potentials.load_record(\n",
    "    'Request',\n",
    "    #comment = 'for WS2 films',\n",
    "    #date = datetime.date(2022, 11, 1),\n",
    "    systems = [\n",
    "        {\n",
    "        #    'formula': 'KNbO3',\n",
    "            'elements': ['W','Co', 'C'],\n",
    "        },\n",
    "        #{\n",
    "        #    'formula': 'RbNbO3',\n",
    "        #    'elements': ['Rb', 'Nb', 'O'],\n",
    "        #},\n",
    "    ]\n",
    ")\n"
   ]
  },
  {
   "cell_type": "markdown",
   "metadata": {},
   "source": [
    "### 6.2 Look and save"
   ]
  },
  {
   "cell_type": "code",
   "execution_count": 43,
   "metadata": {
    "tags": []
   },
   "outputs": [
    {
     "data": {
      "text/html": [
       "<div xmlns=\"http://www.w3.org/TR/xhtml1/strict\"><b>W-Co-C  </b> (2024-03-21)</div>"
      ],
      "text/plain": [
       "<IPython.core.display.HTML object>"
      ]
     },
     "metadata": {},
     "output_type": "display_data"
    }
   ],
   "source": [
    "request.build_model()\n",
    "display(HTML(request.html()))"
   ]
  },
  {
   "cell_type": "code",
   "execution_count": 44,
   "metadata": {
    "tags": []
   },
   "outputs": [
    {
     "name": "stdout",
     "output_type": "stream",
     "text": [
      "Request record named 2024-03-21 W Co C added to https://potentials.nist.gov/\n",
      "Request record named 2024-03-21 W Co C assigned to workspace Global Public Workspace\n"
     ]
    }
   ],
   "source": [
    "db.upload_request(request, workspace=workspace, overwrite=True, verbose=True)"
   ]
  },
  {
   "cell_type": "code",
   "execution_count": null,
   "metadata": {},
   "outputs": [],
   "source": []
  },
  {
   "cell_type": "markdown",
   "metadata": {},
   "source": [
    "## 7. Related models"
   ]
  },
  {
   "cell_type": "code",
   "execution_count": 34,
   "metadata": {
    "tags": []
   },
   "outputs": [],
   "source": [
    "import json\n",
    "\n",
    "def add_related_models(localpath, interaction, model1, model2):\n",
    "    \n",
    "    with open(Path(localpath, 'site/related-interactions.json')) as f:\n",
    "        related_models = json.load(f)\n",
    "    \n",
    "    # If no shared models for that interaction yet\n",
    "    if interaction not in related_models:\n",
    "        print('new interaction')\n",
    "        related_models[interaction] = [[model1, model2]]\n",
    "            \n",
    "    else:\n",
    "        int_models = related_models[interaction]\n",
    "        \n",
    "        # Search for set with one of the elements\n",
    "        match = False\n",
    "        for i in range(len(int_models)):\n",
    "            modelset = int_models[i]\n",
    "            if model1 in modelset:\n",
    "                if match is False:\n",
    "                    match = i\n",
    "                else:\n",
    "                    raise ValueError('given models found in multiple sets!')\n",
    "            if model2 in modelset:\n",
    "                if match is False or match == i:\n",
    "                    match = i\n",
    "                else:\n",
    "                    raise ValueError('given models found in multiple sets!')\n",
    "                    \n",
    "        if match is False:\n",
    "            print('new set')\n",
    "            int_models.append(sorted([model1, model2]))\n",
    "        else:\n",
    "            if model1 not in int_models[match]:\n",
    "                int_models[match] = sorted(int_models[match] + [model1])\n",
    "                print('model1 added to existing set')\n",
    "            elif model2 not in int_models[match]:\n",
    "                int_models[match] = sorted(int_models[match] + [model2])\n",
    "                print('model2 added to existing set')\n",
    "            else:\n",
    "                print('both models already in existing set')\n",
    "    \n",
    "    with open(Path(localpath, 'site/related-interactions.json'), 'w') as f:\n",
    "        json.dump(related_models, fp=f)"
   ]
  },
  {
   "cell_type": "code",
   "execution_count": 44,
   "metadata": {
    "tags": []
   },
   "outputs": [
    {
     "name": "stdout",
     "output_type": "stream",
     "text": [
      "new interaction\n"
     ]
    }
   ],
   "source": [
    "interaction = 'Al-Ni-Ti'\n",
    "model1 = '2024--Huang-S-Xiong-Y-Ma-S-et-al--Ni-Al-Co-Ti'\n",
    "model2 = '2017--Kim-Y-K-Kim-H-K-Jung-W-S-Lee-B-J--Ni-Al-Ti'\n",
    "machine = 'desktop'\n",
    "\n",
    "if machine == 'desktop':\n",
    "    localpath = Path('F:/website/IPR-website/potentials/')\n",
    "elif machine == 'laptop':\n",
    "    localpath = Path('C:/Users/lmh1/Documents/website/IPR-website/potentials/')\n",
    "\n",
    "add_related_models(localpath, interaction, model1, model2)"
   ]
  },
  {
   "cell_type": "code",
   "execution_count": 41,
   "metadata": {},
   "outputs": [],
   "source": [
    "localpath = Path('F:/website/IPR-website/potentials/')\n",
    "\n",
    "elements = sorted(['Fe', 'Mn', 'Ni', 'Ti', 'Cu', 'Cr', 'Co', 'Al'])\n",
    "\n",
    "\n",
    "\n"
   ]
  },
  {
   "cell_type": "code",
   "execution_count": 42,
   "metadata": {
    "tags": []
   },
   "outputs": [
    {
     "data": {
      "text/plain": [
       "['Al', 'Co', 'Cr', 'Cu', 'Fe', 'Mn', 'Ni', 'Ti']"
      ]
     },
     "execution_count": 42,
     "metadata": {},
     "output_type": "execute_result"
    }
   ],
   "source": [
    "elements"
   ]
  },
  {
   "cell_type": "code",
   "execution_count": 36,
   "metadata": {
    "tags": []
   },
   "outputs": [],
   "source": [
    "r, df = db.get_potentials(author='Sharifi', return_df=True)"
   ]
  },
  {
   "cell_type": "code",
   "execution_count": 40,
   "metadata": {
    "tags": []
   },
   "outputs": [],
   "source": [
    "potids = df.id.tolist()"
   ]
  },
  {
   "cell_type": "code",
   "execution_count": 48,
   "metadata": {
    "tags": []
   },
   "outputs": [
    {
     "name": "stdout",
     "output_type": "stream",
     "text": [
      "new set\n",
      "model2 added to existing set\n",
      "model2 added to existing set\n",
      "model2 added to existing set\n",
      "model2 added to existing set\n",
      "model2 added to existing set\n",
      "model2 added to existing set\n",
      "model2 added to existing set\n",
      "model2 added to existing set\n",
      "model2 added to existing set\n",
      "model2 added to existing set\n",
      "model2 added to existing set\n",
      "model2 added to existing set\n",
      "model2 added to existing set\n",
      "model2 added to existing set\n",
      "model2 added to existing set\n",
      "model2 added to existing set\n",
      "model2 added to existing set\n",
      "model2 added to existing set\n",
      "model2 added to existing set\n",
      "model2 added to existing set\n",
      "model2 added to existing set\n",
      "model2 added to existing set\n",
      "model2 added to existing set\n",
      "model2 added to existing set\n",
      "model2 added to existing set\n",
      "model2 added to existing set\n",
      "model2 added to existing set\n",
      "model2 added to existing set\n",
      "30\n",
      "new set\n",
      "model2 added to existing set\n",
      "model2 added to existing set\n",
      "model2 added to existing set\n",
      "model2 added to existing set\n",
      "model2 added to existing set\n",
      "model2 added to existing set\n",
      "model2 added to existing set\n",
      "model2 added to existing set\n",
      "model2 added to existing set\n",
      "model2 added to existing set\n",
      "model2 added to existing set\n",
      "model2 added to existing set\n",
      "model2 added to existing set\n",
      "model2 added to existing set\n",
      "model2 added to existing set\n",
      "model2 added to existing set\n",
      "model2 added to existing set\n",
      "model2 added to existing set\n",
      "model2 added to existing set\n",
      "model2 added to existing set\n",
      "model2 added to existing set\n",
      "model2 added to existing set\n",
      "model2 added to existing set\n",
      "model2 added to existing set\n",
      "model2 added to existing set\n",
      "model2 added to existing set\n",
      "model2 added to existing set\n",
      "model2 added to existing set\n",
      "30\n",
      "new set\n",
      "model2 added to existing set\n",
      "model2 added to existing set\n",
      "model2 added to existing set\n",
      "model2 added to existing set\n",
      "model2 added to existing set\n",
      "model2 added to existing set\n",
      "model2 added to existing set\n",
      "model2 added to existing set\n",
      "model2 added to existing set\n",
      "model2 added to existing set\n",
      "model2 added to existing set\n",
      "model2 added to existing set\n",
      "model2 added to existing set\n",
      "model2 added to existing set\n",
      "model2 added to existing set\n",
      "model2 added to existing set\n",
      "model2 added to existing set\n",
      "model2 added to existing set\n",
      "model2 added to existing set\n",
      "model2 added to existing set\n",
      "model2 added to existing set\n",
      "model2 added to existing set\n",
      "model2 added to existing set\n",
      "model2 added to existing set\n",
      "model2 added to existing set\n",
      "model2 added to existing set\n",
      "model2 added to existing set\n",
      "model2 added to existing set\n",
      "30\n",
      "new set\n",
      "model2 added to existing set\n",
      "model2 added to existing set\n",
      "model2 added to existing set\n",
      "model2 added to existing set\n",
      "model2 added to existing set\n",
      "model2 added to existing set\n",
      "model2 added to existing set\n",
      "model2 added to existing set\n",
      "model2 added to existing set\n",
      "model2 added to existing set\n",
      "model2 added to existing set\n",
      "model2 added to existing set\n",
      "model2 added to existing set\n",
      "model2 added to existing set\n",
      "model2 added to existing set\n",
      "model2 added to existing set\n",
      "model2 added to existing set\n",
      "model2 added to existing set\n",
      "model2 added to existing set\n",
      "model2 added to existing set\n",
      "model2 added to existing set\n",
      "model2 added to existing set\n",
      "model2 added to existing set\n",
      "model2 added to existing set\n",
      "model2 added to existing set\n",
      "model2 added to existing set\n",
      "model2 added to existing set\n",
      "model2 added to existing set\n",
      "30\n",
      "new set\n",
      "model2 added to existing set\n",
      "model2 added to existing set\n",
      "model2 added to existing set\n",
      "model2 added to existing set\n",
      "model2 added to existing set\n",
      "model2 added to existing set\n",
      "model2 added to existing set\n",
      "model2 added to existing set\n",
      "model2 added to existing set\n",
      "model2 added to existing set\n",
      "model2 added to existing set\n",
      "model2 added to existing set\n",
      "model2 added to existing set\n",
      "model2 added to existing set\n",
      "model2 added to existing set\n",
      "model2 added to existing set\n",
      "model2 added to existing set\n",
      "model2 added to existing set\n",
      "model2 added to existing set\n",
      "model2 added to existing set\n",
      "model2 added to existing set\n",
      "model2 added to existing set\n",
      "model2 added to existing set\n",
      "model2 added to existing set\n",
      "model2 added to existing set\n",
      "model2 added to existing set\n",
      "model2 added to existing set\n",
      "model2 added to existing set\n",
      "30\n",
      "new set\n",
      "model2 added to existing set\n",
      "model2 added to existing set\n",
      "model2 added to existing set\n",
      "model2 added to existing set\n",
      "model2 added to existing set\n",
      "model2 added to existing set\n",
      "model2 added to existing set\n",
      "model2 added to existing set\n",
      "model2 added to existing set\n",
      "model2 added to existing set\n",
      "model2 added to existing set\n",
      "model2 added to existing set\n",
      "model2 added to existing set\n",
      "model2 added to existing set\n",
      "model2 added to existing set\n",
      "model2 added to existing set\n",
      "model2 added to existing set\n",
      "model2 added to existing set\n",
      "model2 added to existing set\n",
      "model2 added to existing set\n",
      "model2 added to existing set\n",
      "model2 added to existing set\n",
      "model2 added to existing set\n",
      "model2 added to existing set\n",
      "model2 added to existing set\n",
      "model2 added to existing set\n",
      "model2 added to existing set\n",
      "model2 added to existing set\n",
      "30\n",
      "new set\n",
      "model2 added to existing set\n",
      "model2 added to existing set\n",
      "model2 added to existing set\n",
      "model2 added to existing set\n",
      "model2 added to existing set\n",
      "model2 added to existing set\n",
      "model2 added to existing set\n",
      "model2 added to existing set\n",
      "model2 added to existing set\n",
      "model2 added to existing set\n",
      "model2 added to existing set\n",
      "model2 added to existing set\n",
      "model2 added to existing set\n",
      "model2 added to existing set\n",
      "model2 added to existing set\n",
      "model2 added to existing set\n",
      "model2 added to existing set\n",
      "model2 added to existing set\n",
      "model2 added to existing set\n",
      "model2 added to existing set\n",
      "model2 added to existing set\n",
      "model2 added to existing set\n",
      "model2 added to existing set\n",
      "model2 added to existing set\n",
      "model2 added to existing set\n",
      "model2 added to existing set\n",
      "model2 added to existing set\n",
      "model2 added to existing set\n",
      "30\n",
      "new set\n",
      "model2 added to existing set\n",
      "model2 added to existing set\n",
      "model2 added to existing set\n",
      "model2 added to existing set\n",
      "model2 added to existing set\n",
      "model2 added to existing set\n",
      "model2 added to existing set\n",
      "model2 added to existing set\n",
      "model2 added to existing set\n",
      "model2 added to existing set\n",
      "model2 added to existing set\n",
      "model2 added to existing set\n",
      "model2 added to existing set\n",
      "model2 added to existing set\n",
      "model2 added to existing set\n",
      "model2 added to existing set\n",
      "model2 added to existing set\n",
      "model2 added to existing set\n",
      "model2 added to existing set\n",
      "model2 added to existing set\n",
      "model2 added to existing set\n",
      "model2 added to existing set\n",
      "model2 added to existing set\n",
      "model2 added to existing set\n",
      "model2 added to existing set\n",
      "model2 added to existing set\n",
      "model2 added to existing set\n",
      "model2 added to existing set\n",
      "30\n"
     ]
    }
   ],
   "source": [
    "for element in elements:\n",
    "    search = f'-{element}'\n",
    "    first = None\n",
    "    count = 0\n",
    "    for potid in potids:\n",
    "        if search in potid:\n",
    "            count += 1\n",
    "            if first is None:\n",
    "                first = potid\n",
    "            else:\n",
    "                #print(element, first, potid)\n",
    "                add_related_models(localpath, element, first, potid)\n",
    "    print(count)"
   ]
  },
  {
   "cell_type": "code",
   "execution_count": 54,
   "metadata": {
    "tags": []
   },
   "outputs": [
    {
     "name": "stdout",
     "output_type": "stream",
     "text": [
      "new interaction\n",
      "2\n",
      "new interaction\n",
      "2\n",
      "new interaction\n",
      "2\n",
      "new interaction\n",
      "2\n",
      "new set\n",
      "2\n",
      "new interaction\n",
      "2\n",
      "new interaction\n",
      "2\n",
      "new interaction\n",
      "2\n",
      "new interaction\n",
      "2\n",
      "new interaction\n",
      "2\n",
      "new interaction\n",
      "2\n",
      "new interaction\n",
      "2\n",
      "new interaction\n",
      "2\n",
      "new interaction\n",
      "2\n",
      "new interaction\n",
      "2\n",
      "new interaction\n",
      "2\n",
      "new interaction\n",
      "2\n",
      "new interaction\n",
      "2\n",
      "new interaction\n",
      "2\n",
      "new interaction\n",
      "2\n",
      "new set\n",
      "2\n",
      "new interaction\n",
      "2\n",
      "new interaction\n",
      "2\n",
      "new interaction\n",
      "2\n",
      "new interaction\n",
      "2\n",
      "new interaction\n",
      "2\n",
      "new interaction\n",
      "2\n",
      "new interaction\n",
      "2\n",
      "new interaction\n",
      "2\n",
      "new interaction\n",
      "2\n",
      "new interaction\n",
      "2\n",
      "new interaction\n",
      "2\n",
      "new interaction\n",
      "2\n",
      "new interaction\n",
      "2\n",
      "new interaction\n",
      "2\n",
      "new interaction\n",
      "2\n",
      "new interaction\n",
      "2\n",
      "new interaction\n",
      "2\n",
      "new interaction\n",
      "2\n",
      "new interaction\n",
      "2\n",
      "new interaction\n",
      "2\n",
      "new interaction\n",
      "2\n",
      "new interaction\n",
      "2\n",
      "new interaction\n",
      "2\n",
      "new interaction\n",
      "2\n",
      "new interaction\n",
      "2\n",
      "new interaction\n",
      "2\n",
      "new interaction\n",
      "2\n",
      "new interaction\n",
      "2\n",
      "new interaction\n",
      "2\n",
      "new interaction\n",
      "2\n",
      "new interaction\n",
      "2\n",
      "new interaction\n",
      "2\n",
      "new interaction\n",
      "2\n",
      "new interaction\n",
      "2\n",
      "new interaction\n",
      "2\n"
     ]
    }
   ],
   "source": [
    "for i in range(len(elements)):\n",
    "    for j in range(i+1, len(elements)):\n",
    "        for k in range(j+1, len(elements)):\n",
    "            element1 = elements[i]\n",
    "            element2 = elements[j]\n",
    "            element3 = elements[k]\n",
    "            interaction = f'{element1}-{element2}-{element3}'\n",
    "            search1 = f'-{element1}'\n",
    "            search2 = f'-{element2}'\n",
    "            search3 = f'-{element3}'\n",
    "            first = None\n",
    "            count = 0\n",
    "            for potid in potids:\n",
    "                if search1 in potid and search2 in potid and search3 in potid:\n",
    "                    count += 1\n",
    "                    if first is None:\n",
    "                        first = potid\n",
    "                    else:\n",
    "                        #print(interaction, first, potid)\n",
    "                        add_related_models(localpath, interaction, first, potid)\n",
    "            print(count)"
   ]
  },
  {
   "cell_type": "code",
   "execution_count": null,
   "metadata": {},
   "outputs": [],
   "source": []
  }
 ],
 "metadata": {
  "kernelspec": {
   "display_name": "Python 3 (ipykernel)",
   "language": "python",
   "name": "python3"
  },
  "language_info": {
   "codemirror_mode": {
    "name": "ipython",
    "version": 3
   },
   "file_extension": ".py",
   "mimetype": "text/x-python",
   "name": "python",
   "nbconvert_exporter": "python",
   "pygments_lexer": "ipython3",
   "version": "3.11.3"
  }
 },
 "nbformat": 4,
 "nbformat_minor": 4
}
