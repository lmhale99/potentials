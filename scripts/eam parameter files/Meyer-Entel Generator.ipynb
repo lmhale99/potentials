{
 "cells": [
  {
   "cell_type": "markdown",
   "metadata": {},
   "source": [
    "# Meyer-Entel Generator\n",
    "\n",
    "This Notebook generates LAMMPS style potential files for the 1998 Meyer-Entel Fe and Ni potentials"
   ]
  },
  {
   "cell_type": "code",
   "execution_count": 23,
   "metadata": {},
   "outputs": [],
   "source": [
    "from copy import deepcopy\n",
    "\n",
    "import numpy as np\n",
    "\n",
    "import matplotlib.pyplot as plt\n",
    "\n",
    "from scipy.interpolate import CubicSpline\n",
    "from scipy.special import factorial\n",
    "\n",
    "from potentials.paramfile import EAM, eam_to_eam_alloy"
   ]
  },
  {
   "cell_type": "markdown",
   "metadata": {},
   "source": [
    "## 1. Define function forms\n",
    "\n",
    "This section defines the functional forms used by the potential.  Each of the three function categories takes the form \n",
    "\n",
    "    function(input, **kwargs)\n",
    "    \n",
    "where input is either rho or r, and kwargs are any function parameters not explicitly set by the function definition.  Functions for different interactions can be defined either\n",
    "\n",
    "- as completely separate functions, or\n",
    "- by defining a functional form and specifying the interaction-dependent parameters using kwargs."
   ]
  },
  {
   "cell_type": "markdown",
   "metadata": {},
   "source": [
    "### $F(\\bar{\\rho})$ function(s)\n",
    "\n",
    "The embedding energy functions are cubic spline functions with specified nodes and derivatives\n",
    "\n"
   ]
  },
  {
   "cell_type": "code",
   "execution_count": 2,
   "metadata": {},
   "outputs": [],
   "source": [
    "def F(ρ, **kwargs):\n",
    "    \n",
    "    # Extract the nodes\n",
    "    ρ_nodes = kwargs['F(ρ)_ρ_nodes']\n",
    "    F_nodes = kwargs['F(ρ)_F_nodes']\n",
    "    \n",
    "    # Fit a spline with second derivative=0 end points\n",
    "    Fspline = CubicSpline(ρ_nodes, F_nodes, bc_type='natural')\n",
    "    \n",
    "    # Apply cutoff\n",
    "    ρmax = ρ_nodes[-1]\n",
    "    return np.piecewise(ρ, [ρ < ρmax, ρ >= ρmax], [Fspline, 0])"
   ]
  },
  {
   "cell_type": "markdown",
   "metadata": {},
   "source": [
    "### $\\rho(r)$ function(s)\n",
    "\n",
    "The embedding density function is\n",
    "\n",
    "$$ \\rho(r) = N_{s} \\rho_s(r) + (N - N_s)\\rho_d(r) - \\rho_c$$,\n",
    "\n",
    "where\n",
    "\n",
    "- $N$ is the total valence electrons\n",
    "- $N_s$ is an empirical parameter to capture the s-like content of the atomic density\n",
    "- $\\rho_s$ is the electonic density from the 4s orbital\n",
    "- $\\rho_d$ is the electronic density from the 3d orbital\n",
    "- $\\rho_c$ is a constant that is applied such that $\\rho(r_c)=0$ \n",
    "\n",
    "The $\\rho_s$ and $\\rho_d$ expressions are computed using the double-zeta Roothaan-Hartree-Fock functions of Clementi and Roetti. The equations for $\\rho_s$ and $\\rho_d$ are taken from Daw and Baskes 1984 and the parameters are taken from Clementi and Roetti.\n",
    "\n",
    "$$ \\rho_s(r) = \\left| \\sum_i C_i R_i(r) \\right|^2 / 4 \\pi $$\n",
    "\n",
    "$$ R_i(r) = \\frac{(2\\zeta_i)^{(n_i+1/2)}}{[(2n_i)!]^{1/2}} r^{n_i-1} e^{-\\zeta_i r} $$"
   ]
  },
  {
   "cell_type": "code",
   "execution_count": 3,
   "metadata": {},
   "outputs": [],
   "source": [
    "def ρ_s(r, **kwargs):\n",
    "    \"\"\"\n",
    "    Computes the density for the s orbital\n",
    "    \"\"\"\n",
    "    cz = np.zeros_like(r)\n",
    "    for c, ζ, n in zip(kwargs['c_s'], kwargs['ζ_s'], kwargs['n_s']):\n",
    "        d = (2 * ζ)**(n + 0.5) / (factorial(2 * n))**0.5\n",
    "        rr = r**(n-1) * np.exp(-ζ*r)\n",
    "        cz += c * d * rr\n",
    "    \n",
    "    return cz**2 / (4 * np.pi)\n",
    "    \n",
    "def ρ_d(r, **kwargs):\n",
    "    \"\"\"\n",
    "    Computes the density for the d orbital\n",
    "    \"\"\"\n",
    "    cz = np.zeros_like(r)\n",
    "    for c, ζ, n in zip(kwargs['c_d'], kwargs['ζ_d'], kwargs['n_d']):\n",
    "        d = (2 * ζ)**(n + 0.5) / (factorial(2 * n))**0.5\n",
    "        rr = r**(n-1) * np.exp(-ζ*r)\n",
    "        cz += c * d * rr\n",
    "    \n",
    "    return cz**2 / (4 * np.pi)    \n",
    "    \n",
    "def ρ_raw(r, **kwargs):\n",
    "    \"\"\"\n",
    "    Computes the total density as a scaled sum of rho_s and rho_d\n",
    "    \"\"\"\n",
    "    N = kwargs['N']\n",
    "    Ns = kwargs['Ns']\n",
    "    \n",
    "    return Ns * ρ_s(r, **kwargs) + (N - Ns) * ρ_d(r, **kwargs)\n",
    "\n",
    "def ρ_norm(r, **kwargs):\n",
    "    # Convert r from Angstroms to aBohr\n",
    "    #r = r / aBohr\n",
    "    \n",
    "    # Extract scaling factor\n",
    "    ρ0 = kwargs['ρ0']\n",
    "    \n",
    "    # Calculate rho_c\n",
    "    rc = kwargs['rc']\n",
    "    ρc = ρ_raw(rc, **kwargs)\n",
    "    \n",
    "    return (ρ_raw(r, **kwargs) - ρc) / ρ0\n",
    "    \n",
    "def rho(r, **kwargs):\n",
    "    \"\"\"\n",
    "    Computes rho using the given parameters\n",
    "    \"\"\"\n",
    "    \n",
    "    rc = kwargs['rc']\n",
    "    \n",
    "    # Construct the normalized function\n",
    "    return np.piecewise(r, [r <= rc, r > rc], [ρ_norm, 0.0], **kwargs)\n",
    "    "
   ]
  },
  {
   "cell_type": "markdown",
   "metadata": {},
   "source": [
    "Full tables from Clementi and Roetti for the double zeta functions\n",
    "\n",
    "#### Fe \n",
    "\n",
    "|basis/orb|zeta (1/aBohr)|1S|2S|3S|4S|2P|3P|3D|\n",
    "|--|--|--|--|--|--|--|--|--|\n",
    "|1S| 27.03350 |0.79062 |-0.03115 |0.01291 |-0.00392|\n",
    "|1S| 19.01040| 0.22775| -0.42273| 0.15437| -0.03027|\n",
    "|2S| 13.51700| -0.02991| 0.09856| 0.08859| -0.02829|\n",
    "|2S| 10.13050| 0.01485| 1.05733| -0.64916| 0.15090|\n",
    "|3S| 5.21660 |-0.00246| 0.01978| 0.79159| -0.21377|\n",
    "|3S| 3.47616 |0.00141 |-0.00608| 0.37233| -0.05096|\n",
    "|4S| 1.92517 |-0.00036| 0.00132| -0.00372| 0.50156|\n",
    "|4S| 1.07742| 0.00014 |-0.00049| 0.00117| 0.60709|\n",
    "|2P|16.90320||||| 0.15201| -0.04331| \n",
    "|2P| 9.98637 |||||0.86001| -0.35185 |\n",
    "|3P| 5.13914 |||||0.02116| 0.66557|\n",
    "|3P| 3.15454 |||||-0.00492| 0.45730|\n",
    "|3D| 6.06828||||||| 0.40379|\n",
    "|3D| 2.61836||||||| 0.71984|\n",
    "\n",
    "#### Ni\n",
    "\n",
    "|basis/orb|zeta (1/aBohr)|1S|2S|3S|4S|2P|3P|3D|\n",
    "|--|--|--|--|--|--|--|--|--|\n",
    "|1S| 29.03620| 0.80410 |-0.03033 |0.01217 |-0.00389|\n",
    "|1S| 20.35820| 0.21401| -0.43324 |0.16094 |-0.02991|\n",
    "|2S| 14.50890| -0.03086| 0.10437| 0.10101 |-0.03189|\n",
    "|2S| 11.04660| 0.01581 |1.05849 |-0.67582 |0.15289|\n",
    "|3S| 5.79629| -0.00244 |0.02028 |0.76084 |-0.20048|\n",
    "|3S| 3.87206| 0.00133 |-0.00576 |0.40933 |-0.05423|\n",
    "|4S| 2.07712| -0.00031| 0.00115 |-0.00148| 0.49292|\n",
    "|4S| 1.13888| 0.00012| -0.00043 |0.00057 |0.61875|\n",
    "|2P| 18.27370 |||||0.14815 |-0.04176 |\n",
    "|2P| 10.94080||||| 0.86219 |-0.36079 |\n",
    "|3P| 5.67113||||| 0.02149 |0.67532|\n",
    "|3P| 3.45098||||| -0.00468 |0.45202|\n",
    "|3D| 6.70551 |||||||0.42120|\n",
    "|3D| 2.87381 |||||||0.70658|"
   ]
  },
  {
   "cell_type": "markdown",
   "metadata": {},
   "source": [
    "### z(r) function(s)\n",
    "\n",
    "The effective charge functions are cubic spline functions with specific limits."
   ]
  },
  {
   "cell_type": "code",
   "execution_count": 4,
   "metadata": {},
   "outputs": [],
   "source": [
    "def z(r, **kwargs):\n",
    "    \n",
    "    # Extract the nodes\n",
    "    alat = kwargs['alat']\n",
    "    r_nodes = alat * kwargs['z(r)_r_nodes']\n",
    "    z_nodes = kwargs['z(r)_z_nodes']\n",
    "    \n",
    "    # Fit a spline with first derivative=0 end points\n",
    "    zspline = CubicSpline(r_nodes, z_nodes, bc_type='clamped')\n",
    "    \n",
    "    # Apply cutoff\n",
    "    rmax = r_nodes[-1]\n",
    "    return np.piecewise(r, [r < rmax, r >= rmax], [zspline, 0])"
   ]
  },
  {
   "cell_type": "markdown",
   "metadata": {},
   "source": [
    "## 2. Specify parameters"
   ]
  },
  {
   "cell_type": "code",
   "execution_count": 5,
   "metadata": {},
   "outputs": [],
   "source": [
    "# Specify the unit scaling factors to use\n",
    "convert = 'lammps'\n",
    "\n",
    "if convert == 'lammps':\n",
    "    # LAMMPS values (short)\n",
    "    aBohr = 0.529\n",
    "    Hartree = 27.2\n",
    "elif convert == 'precise':\n",
    "    # Actual values (full)\n",
    "    aBohr = 0.529177210903\n",
    "    Hartree = 27.21138624598741\n",
    "else:\n",
    "    raise ValueError('convert can only be \"lammps\" or \"precise')\n",
    "\n",
    "Ry = Hartree / 2\n",
    "\n",
    "# Initialize the parameter dictionary\n",
    "params = {}"
   ]
  },
  {
   "cell_type": "markdown",
   "metadata": {},
   "source": [
    "### 2.1 Fe parameters"
   ]
  },
  {
   "cell_type": "code",
   "execution_count": 12,
   "metadata": {},
   "outputs": [],
   "source": [
    "params['Fe'] = {}\n",
    "\n",
    "# Atomic data\n",
    "params['Fe']['number'] = 26\n",
    "params['Fe']['mass'] = 55.847\n",
    "params['Fe']['alat'] = 2.867\n",
    "params['Fe']['lattice'] = 'bcc'\n",
    "\n",
    "# F(ρ) spline nodes\n",
    "params['Fe']['F(ρ)_ρ_nodes'] = np.array([0.0, 0.5, 1.0, 2.0, 2.3])\n",
    "params['Fe']['F(ρ)_F_nodes'] = np.array([0.0, -0.2823, -0.4276, -0.3030, 0.0]) * Ry\n",
    "\n",
    "# Z(r) spline nodes\n",
    "params['Fe']['alat'] = 5.42 * aBohr\n",
    "params['Fe']['z(r)_r_nodes'] = np.array([0.0, 0.7, 0.87, 0.94, 1.0, 1.2])\n",
    "params['Fe']['z(r)_z_nodes'] = np.array([26.0, 1.4403, 0.2452, 0.1491, 0.0734, 0.0])\n",
    "\n",
    "# ρ(r) parameters\n",
    "params['Fe']['N'] = 8\n",
    "params['Fe']['Ns'] = 0.57\n",
    "params['Fe']['rc'] = 8.332 * aBohr\n",
    "params['Fe']['ρ0'] = 2.776e-3 * aBohr**-3\n",
    "\n",
    "# 4s orbital function parameters\n",
    "params['Fe']['n_s'] = np.array([1,1,\n",
    "                                2,2,\n",
    "                                3,3,\n",
    "                                4,4])\n",
    "params['Fe']['c_s'] = np.array([-0.00392, -0.03027,\n",
    "                                -0.02829,  0.15090,\n",
    "                                -0.21377, -0.05096,\n",
    "                                 0.50156,  0.60709])\n",
    "params['Fe']['ζ_s'] = np.array([27.03350, 19.01040, \n",
    "                                13.51700, 10.13050,\n",
    "                                 5.21660,  3.47616,\n",
    "                                 1.92517,  1.07742]) / aBohr \n",
    "\n",
    "# 3d orbital function parameters\n",
    "params['Fe']['n_d'] = np.array([3,3])\n",
    "params['Fe']['c_d'] = np.array([0.40379, 0.71984])\n",
    "params['Fe']['ζ_d'] = np.array([6.06828, 2.61836]) / aBohr "
   ]
  },
  {
   "cell_type": "markdown",
   "metadata": {},
   "source": [
    "### 2.2 Ni parameters"
   ]
  },
  {
   "cell_type": "code",
   "execution_count": 13,
   "metadata": {},
   "outputs": [],
   "source": [
    "params['Ni'] = {}\n",
    "\n",
    "# Atomic data\n",
    "params['Ni']['number'] = 28\n",
    "params['Ni']['mass'] = 58.6934\n",
    "params['Ni']['alat'] = 3.519\n",
    "params['Ni']['lattice'] = 'fcc'\n",
    "\n",
    "# F(ρ) spline nodes\n",
    "params['Ni']['F(ρ)_ρ_nodes'] = np.array([0.0, 0.5, 1.0, 2.0, 2.3])\n",
    "params['Ni']['F(ρ)_F_nodes'] = np.array([0.0, -0.2695, -0.3961, -0.2654, 0.0]) * Ry\n",
    "\n",
    "# Z(r) spline nodes\n",
    "params['Ni']['alat'] = 6.65 * aBohr\n",
    "params['Ni']['z(r)_r_nodes'] = np.array([0.0, 0.60, 0.71, 0.85])\n",
    "params['Ni']['z(r)_z_nodes'] = np.array([28.0, 0.9874, 0.1596, 0.0])\n",
    "\n",
    "# ρ(r) parameters\n",
    "params['Ni']['N'] = 10\n",
    "params['Ni']['Ns'] = 0.85\n",
    "params['Ni']['rc'] = 8.777 * aBohr\n",
    "params['Ni']['ρ0'] = 4.187e-3 * aBohr**-3\n",
    "\n",
    "# 4s orbital function parameters\n",
    "params['Ni']['n_s'] = np.array([1,1,\n",
    "                                2,2,\n",
    "                                3,3,\n",
    "                                4,4])\n",
    "params['Ni']['c_s'] = np.array([-0.00389, -0.02991,\n",
    "                                -0.03189,  0.15289,\n",
    "                                -0.20048, -0.05423,\n",
    "                                 0.49292,  0.61875])\n",
    "params['Ni']['ζ_s'] = np.array([29.03620, 20.35820,\n",
    "                                14.50890, 11.04660,\n",
    "                                 5.79629,   3.87206,\n",
    "                                 2.07712,   1.13888]) / aBohr  \n",
    "\n",
    "# 3d orbital function parameters\n",
    "params['Ni']['n_d'] = np.array([3,3])\n",
    "params['Ni']['c_d'] = np.array([0.42120, 0.70658])\n",
    "params['Ni']['ζ_d'] = np.array([6.70551, 2.87381]) / aBohr"
   ]
  },
  {
   "cell_type": "markdown",
   "metadata": {},
   "source": [
    "## 3. Build potential parameters"
   ]
  },
  {
   "cell_type": "markdown",
   "metadata": {},
   "source": [
    "Parameters to specify"
   ]
  },
  {
   "cell_type": "code",
   "execution_count": 16,
   "metadata": {},
   "outputs": [],
   "source": [
    "symbol = 'Fe'\n",
    "numr = numρ = 20001\n",
    "\n",
    "# Write a header\n",
    "header = f'Meyer-Entel potential test potential for {symbol}'"
   ]
  },
  {
   "cell_type": "markdown",
   "metadata": {},
   "source": [
    "Initialize parameter file builder"
   ]
  },
  {
   "cell_type": "code",
   "execution_count": 17,
   "metadata": {},
   "outputs": [],
   "source": [
    "p = params[symbol]\n",
    "\n",
    "builder = EAM(header=header, numr=numr, numrho=numρ,\n",
    "              cutoffr=p['rc'], cutoffrho=p['F(ρ)_ρ_nodes'][-1],\n",
    "              number=p['number'], mass=p['mass'], alat=p['alat'], lattice=p['lattice'])"
   ]
  },
  {
   "cell_type": "markdown",
   "metadata": {},
   "source": [
    "Set functions using symbol-specific parameters"
   ]
  },
  {
   "cell_type": "code",
   "execution_count": 18,
   "metadata": {},
   "outputs": [],
   "source": [
    "builder.set_F_rho(fxn=F, **p)\n",
    "builder.set_rho_r(fxn=rho, **p)\n",
    "builder.set_z_r(fxn=z, **p)"
   ]
  },
  {
   "cell_type": "code",
   "execution_count": 19,
   "metadata": {},
   "outputs": [
    {
     "data": {
      "text/plain": [
       "Text(0, 0.5, 'F(ρ)')"
      ]
     },
     "execution_count": 19,
     "metadata": {},
     "output_type": "execute_result"
    },
    {
     "data": {
      "image/png": "[encoded data removed]",
      "text/plain": [
       "<Figure size 720x432 with 1 Axes>"
      ]
     },
     "metadata": {
      "needs_background": "light"
     },
     "output_type": "display_data"
    }
   ],
   "source": [
    "fig = plt.figure(figsize=(10, 6))\n",
    "plt.plot(builder.rho, builder.F_rho())\n",
    "plt.xlabel('ρ', size='x-large')\n",
    "plt.ylabel('F(ρ)', size='x-large')"
   ]
  },
  {
   "cell_type": "code",
   "execution_count": 20,
   "metadata": {},
   "outputs": [
    {
     "data": {
      "text/plain": [
       "Text(0, 0.5, 'ρ(r)')"
      ]
     },
     "execution_count": 20,
     "metadata": {},
     "output_type": "execute_result"
    },
    {
     "data": {
      "image/png": "[encoded data removed]",
      "text/plain": [
       "<Figure size 720x432 with 1 Axes>"
      ]
     },
     "metadata": {
      "needs_background": "light"
     },
     "output_type": "display_data"
    }
   ],
   "source": [
    "fig = plt.figure(figsize=(10, 6))\n",
    "plt.plot(builder.r, builder.rho_r())\n",
    "plt.xlabel('r', size='x-large')\n",
    "plt.ylabel('ρ(r)', size='x-large')"
   ]
  },
  {
   "cell_type": "code",
   "execution_count": 21,
   "metadata": {},
   "outputs": [
    {
     "data": {
      "text/plain": [
       "Text(0, 0.5, 'z(r)')"
      ]
     },
     "execution_count": 21,
     "metadata": {},
     "output_type": "execute_result"
    },
    {
     "data": {
      "image/png": "[encoded data removed]",
      "text/plain": [
       "<Figure size 720x432 with 1 Axes>"
      ]
     },
     "metadata": {
      "needs_background": "light"
     },
     "output_type": "display_data"
    }
   ],
   "source": [
    "fig = plt.figure(figsize=(10, 6))\n",
    "plt.plot(builder.r, builder.z_r())\n",
    "plt.xlabel('r', size='x-large')\n",
    "plt.ylabel('z(r)', size='x-large')"
   ]
  },
  {
   "cell_type": "markdown",
   "metadata": {},
   "source": [
    "## 4. Build parameter file"
   ]
  },
  {
   "cell_type": "markdown",
   "metadata": {},
   "source": [
    "### 4.1 Create eam style file"
   ]
  },
  {
   "cell_type": "code",
   "execution_count": null,
   "metadata": {
    "scrolled": false
   },
   "outputs": [],
   "source": [
    "print(builder.build(ncolumns=4))"
   ]
  },
  {
   "cell_type": "markdown",
   "metadata": {},
   "source": [
    "### 4.2 Create eam/alloy style file"
   ]
  },
  {
   "cell_type": "code",
   "execution_count": null,
   "metadata": {
    "scrolled": false
   },
   "outputs": [],
   "source": [
    "builder2 = eam_to_eam_alloy(builder, symbol)\n",
    "print(builder2.build(ncolumns=4))"
   ]
  },
  {
   "cell_type": "code",
   "execution_count": null,
   "metadata": {},
   "outputs": [],
   "source": []
  }
 ],
 "metadata": {
  "kernelspec": {
   "display_name": "Python 3",
   "language": "python",
   "name": "python3"
  },
  "language_info": {
   "codemirror_mode": {
    "name": "ipython",
    "version": 3
   },
   "file_extension": ".py",
   "mimetype": "text/x-python",
   "name": "python",
   "nbconvert_exporter": "python",
   "pygments_lexer": "ipython3",
   "version": "3.7.4"
  }
 },
 "nbformat": 4,
 "nbformat_minor": 2
}
