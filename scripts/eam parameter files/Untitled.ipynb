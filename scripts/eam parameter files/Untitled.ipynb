{
 "cells": [
  {
   "cell_type": "code",
   "execution_count": 1,
   "id": "cefc8a09-b8a6-42d6-9c57-55ca3b88bc66",
   "metadata": {},
   "outputs": [],
   "source": [
    "from pathlib import Path\n",
    "import potentials\n",
    "\n",
    "import matplotlib.pyplot as plt"
   ]
  },
  {
   "cell_type": "code",
   "execution_count": 1,
   "id": "49181911",
   "metadata": {},
   "outputs": [],
   "source": [
    "import atomman as am"
   ]
  },
  {
   "cell_type": "code",
   "execution_count": 6,
   "id": "d67ebad6",
   "metadata": {},
   "outputs": [],
   "source": [
    "import numpy as np"
   ]
  },
  {
   "cell_type": "code",
   "execution_count": 2,
   "id": "44a8cdda",
   "metadata": {},
   "outputs": [],
   "source": [
    "ucell = am.load('prototype', 'A1--Cu--fcc')"
   ]
  },
  {
   "cell_type": "code",
   "execution_count": 18,
   "id": "d7943f7f",
   "metadata": {},
   "outputs": [],
   "source": [
    "system = ucell.supersize((-15, 15), (-15, 15), (-15, 15))"
   ]
  },
  {
   "cell_type": "code",
   "execution_count": 19,
   "id": "607020c8",
   "metadata": {},
   "outputs": [],
   "source": [
    "v, counts = np.unique(system.dmag([[0.0,0.0,0.0]], range(system.natoms)), return_counts=True)\n",
    "v2 = []\n",
    "counts2 = []\n",
    "\n",
    "for val, count in zip(v, counts):\n",
    "    if len(v2) == 0:\n",
    "        v2.append(val)\n",
    "        counts2.append(count)\n",
    "    else:\n",
    "        if np.isclose(v2[-1], val):\n",
    "            counts2[-1] += count\n",
    "        else:\n",
    "            v2.append(val)\n",
    "            counts2.append(count)"
   ]
  },
  {
   "cell_type": "code",
   "execution_count": 20,
   "id": "e96a1802",
   "metadata": {},
   "outputs": [
    {
     "name": "stdout",
     "output_type": "stream",
     "text": [
      " 12 0.7071067811865476\n",
      "  6 1.0\n",
      " 24 1.224744871391589\n",
      " 12 1.4142135623730951\n",
      " 24 1.5811388300841898\n",
      "  8 1.7320508075688772\n",
      " 48 1.8708286933869707\n",
      "  6 2.0\n",
      " 36 2.1213203435596424\n",
      " 24 2.23606797749979\n",
      " 24 2.345207879911715\n",
      " 24 2.449489742783178\n",
      " 72 2.5495097567963922\n",
      " 48 2.7386127875258306\n",
      " 12 2.8284271247461903\n",
      " 48 2.9154759474226504\n",
      " 30 3.0\n",
      " 72 3.082207001484488\n",
      " 24 3.1622776601683795\n",
      " 48 3.24037034920393\n",
      " 24 3.3166247903554\n",
      " 48 3.391164991562634\n",
      "  8 3.4641016151377544\n",
      " 84 3.5355339059327378\n",
      " 24 3.605551275463989\n",
      " 96 3.6742346141747673\n",
      " 48 3.7416573867739413\n",
      " 24 3.8078865529319543\n",
      " 96 3.9370039370059056\n",
      "  6 4.0\n",
      " 96 4.06201920231798\n",
      " 48 4.123105625617661\n",
      " 48 4.183300132670378\n",
      " 36 4.242640687119285\n",
      "120 4.301162633521313\n",
      " 24 4.358898943540674\n",
      " 48 4.415880433163924\n",
      " 24 4.47213595499958\n",
      " 48 4.527692569068709\n",
      " 48 4.58257569495584\n",
      "120 4.636809247747852\n",
      " 24 4.69041575982343\n",
      "120 4.743416490252569\n",
      " 96 4.847679857416329\n",
      " 24 4.898979485566356\n",
      "108 4.949747468305833\n",
      " 30 5.0\n",
      " 48 5.049752469181039\n",
      " 72 5.0990195135927845\n",
      " 72 5.1478150704935\n",
      " 32 5.196152422706632\n",
      "144 5.244044240850758\n",
      " 96 5.338539126015656\n",
      " 72 5.385164807134504\n",
      " 72 5.431390245600108\n",
      " 48 5.477225575051661\n",
      "120 5.522680508593631\n",
      "144 5.612486080160912\n",
      " 12 5.656854249492381\n",
      " 48 5.70087712549569\n",
      " 48 5.744562646538029\n",
      "168 5.787918451395113\n",
      " 48 5.830951894845301\n",
      " 96 5.873670062235365\n",
      " 48 5.916079783099616\n",
      " 48 5.958187643906492\n",
      " 30 6.0\n"
     ]
    }
   ],
   "source": [
    "for val, count in zip(v2[1:], counts2[1:]):\n",
    "    if val > 6.0001:\n",
    "        break\n",
    "    print(f'{count:3} {val}')"
   ]
  },
  {
   "cell_type": "code",
   "execution_count": 2,
   "id": "28544976-0ce8-42f3-b478-df52110557fb",
   "metadata": {},
   "outputs": [
    {
     "name": "stdout",
     "output_type": "stream",
     "text": [
      "60012\n"
     ]
    }
   ],
   "source": [
    "alloy = potentials.eam.EAMAlloy(filename='C:/Users/lmh1/Documents/library/potential_LAMMPS/2013--Bonny-G--Fe-Cr-W--LAMMPS--ipr3/FeCrW_d.eam.alloy')"
   ]
  },
  {
   "cell_type": "code",
   "execution_count": 3,
   "id": "22bc92bb",
   "metadata": {},
   "outputs": [
    {
     "name": "stdout",
     "output_type": "stream",
     "text": [
      "450012\n"
     ]
    }
   ],
   "source": [
    "fs = potentials.eam.EAMFS(filename='C:/Users/lmh1/Documents/library/potential_LAMMPS/2013--Bonny-G--Fe-Cr-W--LAMMPS--ipr3/FeCrW_s.eam.fs')"
   ]
  },
  {
   "cell_type": "code",
   "execution_count": 5,
   "id": "47b2676c",
   "metadata": {},
   "outputs": [
    {
     "data": {
      "text/plain": [
       "12"
      ]
     },
     "execution_count": 5,
     "metadata": {},
     "output_type": "execute_result"
    }
   ],
   "source": [
    "len(alloy.symbols) * 4"
   ]
  },
  {
   "cell_type": "code",
   "execution_count": 11,
   "id": "f8ccfd34",
   "metadata": {},
   "outputs": [],
   "source": [
    "numsymbols = len(fs.symbols)\n",
    "numsets = sum(range(1, numsymbols+1))"
   ]
  },
  {
   "cell_type": "code",
   "execution_count": 12,
   "id": "3c7c6c38",
   "metadata": {},
   "outputs": [
    {
     "data": {
      "text/plain": [
       "450012"
      ]
     },
     "execution_count": 12,
     "metadata": {},
     "output_type": "execute_result"
    }
   ],
   "source": [
    "numsymbols * (4 + fs.numrho) + numsymbols**2 * fs.numr + numsets * fs.numr"
   ]
  },
  {
   "cell_type": "code",
   "execution_count": 11,
   "id": "b459f3ff",
   "metadata": {},
   "outputs": [
    {
     "name": "stdout",
     "output_type": "stream",
     "text": [
      "sym at#  mass      alat       lat\n",
      "Fe   1  55.845    2.85532463 bcc\n",
      "Cr  24  51.996    2.86600724 bcc\n",
      "W   74  183.85    3.16520001 bcc\n",
      "\n",
      "rho: [0.00000e+00 4.00000e-05 8.00000e-05 ... 4.99988e+00 4.99992e+00\n",
      " 4.99996e+00]\n",
      "r: [0.00000e+00 1.06000e-03 2.12000e-03 ... 5.29682e+00 5.29788e+00\n",
      " 5.29894e+00]\n",
      "\n",
      "F(rho):\n",
      "Fe [ 0.00000000e+00 -1.37248976e-03 -1.94099203e-03 ...  9.21435607e+00\n",
      "  9.21450933e+00  9.21466259e+00]\n",
      "Cr [ 0.00000000e+00 -6.18255739e-05 -8.74330154e-05 ...  9.34194453e+00\n",
      "  9.34209427e+00  9.34224401e+00]\n",
      "W [0. 0. 0. ... 0. 0. 0.]\n",
      "\n",
      "rho(r):\n",
      "Fe Fe [0. 0. 0. ... 0. 0. 0.]\n",
      "Fe Cr [0.00000000e+00 1.43506109e-16 9.13584038e-15 ... 4.40532774e-09\n",
      " 1.95013838e-09 4.85573512e-10]\n",
      "Fe W [0. 0. 0. ... 0. 0. 0.]\n",
      "Cr Fe [0.00000000e+00 1.43506109e-16 9.13584038e-15 ... 4.40532774e-09\n",
      " 1.95013838e-09 4.85573512e-10]\n",
      "Cr Cr [0. 0. 0. ... 0. 0. 0.]\n",
      "Cr W [0. 0. 0. ... 0. 0. 0.]\n",
      "W Fe [0. 0. 0. ... 0. 0. 0.]\n",
      "W Cr [0. 0. 0. ... 0. 0. 0.]\n",
      "W W [0. 0. 0. ... 0. 0. 0.]\n",
      "\n",
      "r*phi(r):\n",
      "Fe Fe [0. 0. 0. ... 0. 0. 0.]\n",
      "Cr Fe [0. 0. 0. ... 0. 0. 0.]\n",
      "Cr Cr [0. 0. 0. ... 0. 0. 0.]\n",
      "W Fe [0. 0. 0. ... 0. 0. 0.]\n",
      "W Cr [0. 0. 0. ... 0. 0. 0.]\n",
      "W W [0. 0. 0. ... 0. 0. 0.]\n"
     ]
    }
   ],
   "source": [
    "fs.print_overview()"
   ]
  },
  {
   "cell_type": "code",
   "execution_count": 13,
   "id": "63c61ce7",
   "metadata": {},
   "outputs": [
    {
     "data": {
      "text/plain": [
       "<matplotlib.legend.Legend at 0x29706e1f828>"
      ]
     },
     "execution_count": 13,
     "metadata": {},
     "output_type": "execute_result"
    },
    {
     "data": {
      "image/png": "[encoded data removed]",
      "text/plain": [
       "<Figure size 432x288 with 1 Axes>"
      ]
     },
     "metadata": {
      "needs_background": "light"
     },
     "output_type": "display_data"
    }
   ],
   "source": [
    "for symbol in fs.symbols:\n",
    "    plt.plot(fs.rho, fs.F_rho(symbol), label=symbol)\n",
    "plt.legend()"
   ]
  },
  {
   "cell_type": "code",
   "execution_count": 14,
   "id": "71ce11b7",
   "metadata": {},
   "outputs": [],
   "source": [
    "fs.set_r(num=10000, cutoff=fs.cutoffr)"
   ]
  },
  {
   "cell_type": "code",
   "execution_count": 15,
   "id": "c1cca95a",
   "metadata": {},
   "outputs": [
    {
     "data": {
      "text/plain": [
       "4.999960000000001"
      ]
     },
     "execution_count": 15,
     "metadata": {},
     "output_type": "execute_result"
    }
   ],
   "source": [
    "fs.cutoffrho"
   ]
  },
  {
   "cell_type": "code",
   "execution_count": 17,
   "id": "95b4b67c",
   "metadata": {},
   "outputs": [],
   "source": [
    "fs.set_rho(num=10000, cutoff=fs.cutoffrho)"
   ]
  },
  {
   "cell_type": "code",
   "execution_count": 18,
   "id": "0ae29579",
   "metadata": {},
   "outputs": [
    {
     "name": "stdout",
     "output_type": "stream",
     "text": [
      "sym at#  mass      alat       lat\n",
      "Fe   1  55.845    2.85532463 bcc\n",
      "Cr  24  51.996    2.86600724 bcc\n",
      "W   74  183.85    3.16520001 bcc\n",
      "\n",
      "rho: [0.00000000e+00 5.00046005e-04 1.00009201e-03 ... 4.99895991e+00\n",
      " 4.99945995e+00 4.99996000e+00]\n",
      "r: [0.00000000e+00 5.30053005e-04 1.06010601e-03 ... 5.29893989e+00\n",
      " 5.29946995e+00 5.30000000e+00]\n",
      "\n",
      "F(rho):\n",
      "Fe [ 0.00000000e+00 -4.85261296e-03 -6.86237954e-03 ...  9.21083116e+00\n",
      "  9.21274677e+00  9.21466259e+00]\n",
      "Cr [ 0.00000000e+00 -2.18504949e-04 -3.08770448e-04 ...  9.33850055e+00\n",
      "  9.34037219e+00  9.34224401e+00]\n",
      "W [0. 0. 0. ... 0. 0. 0.]\n",
      "\n",
      "rho(r):\n",
      "Fe Fe [0. 0. 0. ... 0. 0. 0.]\n",
      "Fe Cr [0.00000000e+00 1.49481502e-15 1.43288459e-16 ... 4.85670835e-10\n",
      " 1.21208682e-10 1.42470393e-13]\n",
      "Fe W [0. 0. 0. ... 0. 0. 0.]\n",
      "Cr Fe [0.00000000e+00 1.49481502e-15 1.43288459e-16 ... 4.85670835e-10\n",
      " 1.21208682e-10 1.42470393e-13]\n",
      "Cr Cr [0. 0. 0. ... 0. 0. 0.]\n",
      "Cr W [0. 0. 0. ... 0. 0. 0.]\n",
      "W Fe [0. 0. 0. ... 0. 0. 0.]\n",
      "W Cr [0. 0. 0. ... 0. 0. 0.]\n",
      "W W [0. 0. 0. ... 0. 0. 0.]\n",
      "\n",
      "r*phi(r):\n",
      "Fe Fe [0. 0. 0. ... 0. 0. 0.]\n",
      "Cr Fe [0. 0. 0. ... 0. 0. 0.]\n",
      "Cr Cr [0. 0. 0. ... 0. 0. 0.]\n",
      "W Fe [0. 0. 0. ... 0. 0. 0.]\n",
      "W Cr [0. 0. 0. ... 0. 0. 0.]\n",
      "W W [0. 0. 0. ... 0. 0. 0.]\n"
     ]
    }
   ],
   "source": [
    "fs.print_overview()"
   ]
  },
  {
   "cell_type": "code",
   "execution_count": 19,
   "id": "29af3ce4",
   "metadata": {},
   "outputs": [
    {
     "data": {
      "text/plain": [
       "<matplotlib.legend.Legend at 0x29707adf2e8>"
      ]
     },
     "execution_count": 19,
     "metadata": {},
     "output_type": "execute_result"
    },
    {
     "data": {
      "image/png": "[encoded data removed]",
      "text/plain": [
       "<Figure size 432x288 with 1 Axes>"
      ]
     },
     "metadata": {
      "needs_background": "light"
     },
     "output_type": "display_data"
    }
   ],
   "source": [
    "for symbol in fs.symbols:\n",
    "    plt.plot(fs.rho, fs.F_rho(symbol), label=symbol)\n",
    "plt.legend()"
   ]
  },
  {
   "cell_type": "code",
   "execution_count": 7,
   "id": "3e58fcc6",
   "metadata": {},
   "outputs": [
    {
     "data": {
      "text/plain": [
       "array([ 0.        , -0.03518989, -0.07025168, ...,  0.        ,\n",
       "        0.        ,  0.        ])"
      ]
     },
     "execution_count": 7,
     "metadata": {},
     "output_type": "execute_result"
    }
   ],
   "source": [
    "rphi_r = alloy.rphi_r(['W', 'Cr'])\n",
    "rphi_r[abs(rphi_r) < 1e-100] = 0.0\n"
   ]
  },
  {
   "cell_type": "code",
   "execution_count": 5,
   "id": "f5a799ae",
   "metadata": {},
   "outputs": [
    {
     "data": {
      "text/plain": [
       "5.3"
      ]
     },
     "execution_count": 5,
     "metadata": {},
     "output_type": "execute_result"
    }
   ],
   "source": [
    "alloy.cutoffr"
   ]
  },
  {
   "cell_type": "code",
   "execution_count": 4,
   "id": "02252d9a",
   "metadata": {},
   "outputs": [
    {
     "ename": "NameError",
     "evalue": "name 'fs' is not defined",
     "output_type": "error",
     "traceback": [
      "\u001b[1;31m---------------------------------------------------------------------------\u001b[0m",
      "\u001b[1;31mNameError\u001b[0m                                 Traceback (most recent call last)",
      "\u001b[1;32m<ipython-input-4-ed0741e932b8>\u001b[0m in \u001b[0;36m<module>\u001b[1;34m\u001b[0m\n\u001b[1;32m----> 1\u001b[1;33m \u001b[0mfs\u001b[0m\u001b[1;33m.\u001b[0m\u001b[0mprint_overview\u001b[0m\u001b[1;33m(\u001b[0m\u001b[1;33m)\u001b[0m\u001b[1;33m\u001b[0m\u001b[1;33m\u001b[0m\u001b[0m\n\u001b[0m",
      "\u001b[1;31mNameError\u001b[0m: name 'fs' is not defined"
     ]
    }
   ],
   "source": [
    "fs.print_overview()"
   ]
  },
  {
   "cell_type": "code",
   "execution_count": 24,
   "id": "a01169cf",
   "metadata": {},
   "outputs": [
    {
     "name": "stdout",
     "output_type": "stream",
     "text": [
      "sym at#  mass      alat       lat\n",
      "Fe    1  55.845    2.85532463 bcc\n",
      "Cr   24  51.996    2.86600724 bcc\n",
      "W    74  183.85    3.16520001 bcc\n"
     ]
    }
   ],
   "source": [
    "\n",
    "print('sym at#  mass      alat       lat')\n",
    "for symbol in alloy.symbols:\n",
    "    \n",
    "    print('{:3} {:3} {:7} {:13} {:3}'.format(*alloy.symbol_info(symbol).values()))"
   ]
  },
  {
   "cell_type": "code",
   "execution_count": 16,
   "id": "8f38543a-7304-489f-88b5-ba222dc48700",
   "metadata": {},
   "outputs": [
    {
     "name": "stdout",
     "output_type": "stream",
     "text": [
      "Fe Fe\n",
      "[0. 0. 0. ... 0. 0. 0.]\n",
      "Fe Cr\n",
      "[0.00000000e+00 1.43506109e-16 9.13584038e-15 ... 4.40532774e-09\n",
      " 1.95013838e-09 4.85573512e-10]\n",
      "Fe W\n",
      "[0. 0. 0. ... 0. 0. 0.]\n",
      "Cr Fe\n",
      "[0.00000000e+00 1.43506109e-16 9.13584038e-15 ... 4.40532774e-09\n",
      " 1.95013838e-09 4.85573512e-10]\n",
      "Cr Cr\n",
      "[0. 0. 0. ... 0. 0. 0.]\n",
      "Cr W\n",
      "[0. 0. 0. ... 0. 0. 0.]\n",
      "W Fe\n",
      "[0. 0. 0. ... 0. 0. 0.]\n",
      "W Cr\n",
      "[0. 0. 0. ... 0. 0. 0.]\n",
      "W W\n",
      "[0. 0. 0. ... 0. 0. 0.]\n"
     ]
    }
   ],
   "source": [
    "for symbol1 in eam.symbols:\n",
    "    for symbol2 in eam.symbols:\n",
    "        print(symbol1, symbol2)\n",
    "        print(eam.rho_r([symbol1, symbol2]))"
   ]
  },
  {
   "cell_type": "code",
   "execution_count": 16,
   "id": "8fe292fc",
   "metadata": {},
   "outputs": [
    {
     "name": "stdout",
     "output_type": "stream",
     "text": [
      "Fe Fe\n",
      "[0. 0. 0. ... 0. 0. 0.]\n",
      "Fe Cr\n",
      "[0.00000000e+00 1.43506109e-16 9.13584038e-15 ... 4.40532774e-09\n",
      " 1.95013838e-09 4.85573512e-10]\n",
      "Fe W\n",
      "[0. 0. 0. ... 0. 0. 0.]\n",
      "Cr Fe\n",
      "[0.00000000e+00 1.43506109e-16 9.13584038e-15 ... 4.40532774e-09\n",
      " 1.95013838e-09 4.85573512e-10]\n",
      "Cr Cr\n",
      "[0. 0. 0. ... 0. 0. 0.]\n",
      "Cr W\n",
      "[0. 0. 0. ... 0. 0. 0.]\n",
      "W Fe\n",
      "[0. 0. 0. ... 0. 0. 0.]\n",
      "W Cr\n",
      "[0. 0. 0. ... 0. 0. 0.]\n",
      "W W\n",
      "[0. 0. 0. ... 0. 0. 0.]\n"
     ]
    }
   ],
   "source": [
    "for symbol1 in eam.symbols:\n",
    "    for symbol2 in eam.symbols:\n",
    "        print(symbol1, symbol2)\n",
    "        print(eam.rho_r([symbol1, symbol2]))"
   ]
  },
  {
   "cell_type": "code",
   "execution_count": 14,
   "id": "f7736fdb-5c22-4272-ae25-37c4f9d33c39",
   "metadata": {},
   "outputs": [
    {
     "data": {
      "text/plain": [
       "array([0.00000000e+00, 1.43506109e-16, 9.13584038e-15, ...,\n",
       "       4.40532774e-09, 1.95013838e-09, 4.85573512e-10])"
      ]
     },
     "execution_count": 14,
     "metadata": {},
     "output_type": "execute_result"
    }
   ],
   "source": [
    "eam.rho_r(['Cr', 'Fe'])"
   ]
  },
  {
   "cell_type": "code",
   "execution_count": 15,
   "id": "51e102bb",
   "metadata": {},
   "outputs": [
    {
     "data": {
      "text/plain": [
       "array([0.00000000e+00, 1.43506109e-16, 9.13584038e-15, ...,\n",
       "       4.40532774e-09, 1.95013838e-09, 4.85573512e-10])"
      ]
     },
     "execution_count": 15,
     "metadata": {},
     "output_type": "execute_result"
    }
   ],
   "source": [
    "eam.rho_r(['Fe', 'Cr'])"
   ]
  },
  {
   "cell_type": "code",
   "execution_count": 14,
   "id": "2c0c3938",
   "metadata": {},
   "outputs": [
    {
     "data": {
      "text/plain": [
       "array([1.00000000e+08, 2.19421999e+04, 1.09477945e+04, ...,\n",
       "       0.00000000e+00, 0.00000000e+00, 0.00000000e+00])"
      ]
     },
     "execution_count": 14,
     "metadata": {},
     "output_type": "execute_result"
    }
   ],
   "source": [
    "eam.rho_r('Cr')"
   ]
  },
  {
   "cell_type": "code",
   "execution_count": 15,
   "id": "32057d79",
   "metadata": {},
   "outputs": [
    {
     "data": {
      "text/plain": [
       "array([0.46584875, 0.46562433, 0.46539997, ..., 0.        , 0.        ,\n",
       "       0.        ])"
      ]
     },
     "execution_count": 15,
     "metadata": {},
     "output_type": "execute_result"
    }
   ],
   "source": [
    "eam.rho_r('W')"
   ]
  },
  {
   "cell_type": "code",
   "execution_count": 69,
   "id": "c47523e1-0f45-453c-8c5c-9318388c94c2",
   "metadata": {},
   "outputs": [
    {
     "data": {
      "text/plain": [
       "1.0"
      ]
     },
     "execution_count": 69,
     "metadata": {},
     "output_type": "execute_result"
    }
   ],
   "source": [
    "np.exp(0)"
   ]
  },
  {
   "cell_type": "code",
   "execution_count": 13,
   "id": "b09ba9ab-a2bb-46a6-bcac-e513ce95027c",
   "metadata": {},
   "outputs": [
    {
     "data": {
      "text/plain": [
       "array([7.4497628 , 7.44064414, 7.43153317, ..., 0.        , 0.        ,\n",
       "       0.        ])"
      ]
     },
     "execution_count": 13,
     "metadata": {},
     "output_type": "execute_result"
    }
   ],
   "source": [
    "eam.densityvalues(['Fe'])"
   ]
  },
  {
   "cell_type": "code",
   "execution_count": 32,
   "id": "90cea281-9944-4e6f-a921-e96d6b56438e",
   "metadata": {},
   "outputs": [
    {
     "data": {
      "text/plain": [
       "array([1.00000000e+08, 2.19421999e+04, 1.09477945e+04, ...,\n",
       "       0.00000000e+00, 0.00000000e+00, 0.00000000e+00])"
      ]
     },
     "execution_count": 32,
     "metadata": {},
     "output_type": "execute_result"
    }
   ],
   "source": [
    "eam.densityvalues('Cr')"
   ]
  },
  {
   "cell_type": "code",
   "execution_count": 15,
   "id": "d986a6ea-38b8-46f9-a79d-56822c5f8cb1",
   "metadata": {},
   "outputs": [
    {
     "data": {
      "text/plain": [
       "array([0.46584875, 0.46562433, 0.46539997, ..., 0.        , 0.        ,\n",
       "       0.        ])"
      ]
     },
     "execution_count": 15,
     "metadata": {},
     "output_type": "execute_result"
    }
   ],
   "source": [
    "eam.densityvalues('W')"
   ]
  },
  {
   "cell_type": "code",
   "execution_count": 31,
   "id": "e56571b0-7a27-4af3-829f-516033686cec",
   "metadata": {},
   "outputs": [
    {
     "data": {
      "text/plain": [
       "[<matplotlib.lines.Line2D at 0x2732ea858d0>]"
      ]
     },
     "execution_count": 31,
     "metadata": {},
     "output_type": "execute_result"
    },
    {
     "data": {
      "image/png": "[encoded data removed]",
      "text/plain": [
       "<Figure size 432x288 with 1 Axes>"
      ]
     },
     "metadata": {
      "needs_background": "light"
     },
     "output_type": "display_data"
    }
   ],
   "source": [
    "plt.plot(eam.rvalues(), eam.densityvalues('Cr'))"
   ]
  },
  {
   "cell_type": "code",
   "execution_count": 17,
   "id": "58854379-71df-42fc-9fae-ddbb589a6102",
   "metadata": {},
   "outputs": [
    {
     "data": {
      "text/plain": [
       "array([ 0.        , -0.15916477, -0.22330402, ..., -2.32022144,\n",
       "       -2.32076307, -2.32130507])"
      ]
     },
     "execution_count": 17,
     "metadata": {},
     "output_type": "execute_result"
    }
   ],
   "source": [
    "eam.embedvalues('Fe')"
   ]
  },
  {
   "cell_type": "code",
   "execution_count": 18,
   "id": "c1b98956-40a3-4b22-87de-1fc06847e4eb",
   "metadata": {},
   "outputs": [
    {
     "data": {
      "text/plain": [
       "array([-4.35346100e-04, -5.54265031e-02, -1.07179083e-01, ...,\n",
       "        1.66104572e+01,  1.66169194e+01,  1.66233816e+01])"
      ]
     },
     "execution_count": 18,
     "metadata": {},
     "output_type": "execute_result"
    }
   ],
   "source": [
    "eam.embedvalues('Cr')"
   ]
  },
  {
   "cell_type": "code",
   "execution_count": 19,
   "id": "2517451c-2fdc-40db-b14b-a9e7230e36d5",
   "metadata": {},
   "outputs": [
    {
     "data": {
      "text/plain": [
       "array([ 0.        , -0.37955412, -0.53263578, ...,  7.94212946,\n",
       "        7.94645356,  7.95077793])"
      ]
     },
     "execution_count": 19,
     "metadata": {},
     "output_type": "execute_result"
    }
   ],
   "source": [
    "eam.embedvalues('W')"
   ]
  },
  {
   "cell_type": "markdown",
   "id": "921e9495-7187-4654-827f-13d3d47d75a3",
   "metadata": {},
   "source": [
    "- - -"
   ]
  },
  {
   "cell_type": "code",
   "execution_count": 100,
   "id": "a4041d25-5bb6-4008-8de9-9427f9d44d7f",
   "metadata": {},
   "outputs": [
    {
     "data": {
      "text/plain": [
       "'-5.22279881971E+02'"
      ]
     },
     "execution_count": 100,
     "metadata": {},
     "output_type": "execute_result"
    }
   ],
   "source": [
    "number = eam.pairvalues(['Fe', 'Fe'])[1]\n",
    "\n",
    "numstr = f'{number:18.11E}'\n",
    "numstr"
   ]
  },
  {
   "cell_type": "code",
   "execution_count": 132,
   "id": "3637ddd6-3087-4c3f-954c-afd8415a6f18",
   "metadata": {},
   "outputs": [
    {
     "data": {
      "text/plain": [
       "'-0.522279881971E+00'"
      ]
     },
     "execution_count": 132,
     "metadata": {},
     "output_type": "execute_result"
    }
   ],
   "source": [
    "fortranFormat(number / 1000)"
   ]
  },
  {
   "cell_type": "code",
   "execution_count": 126,
   "id": "4cb2f7ac-e39b-4ad1-b32d-560e15cfb61b",
   "metadata": {},
   "outputs": [
    {
     "name": "stdout",
     "output_type": "stream",
     "text": [
      "-0.522279881971E+03\n"
     ]
    }
   ],
   "source": [
    "eindex = numstr.find('E')\n",
    "\n",
    "sign = numstr[0]\n",
    "coeff = f'{sign}0.{numstr[1]}{numstr[3:eindex]}'\n",
    "\n",
    "expstr = numstr[eindex+1:]\n",
    "exp = abs(int(expstr)*1+1)\n",
    "#print(coeff)\n",
    "\n",
    "print(f'{coeff}E{exp:+03d}')\n",
    "\n"
   ]
  },
  {
   "cell_type": "code",
   "execution_count": 113,
   "id": "7805049a-55aa-4473-934b-55e72f21f75e",
   "metadata": {},
   "outputs": [
    {
     "data": {
      "text/plain": [
       "'-0.522279881971E+03'"
      ]
     },
     "execution_count": 113,
     "metadata": {},
     "output_type": "execute_result"
    }
   ],
   "source": [
    "'-0.522279881971E+03'"
   ]
  },
  {
   "cell_type": "code",
   "execution_count": 92,
   "id": "eb5e8e66-597b-4364-9127-9186ce9f3790",
   "metadata": {},
   "outputs": [
    {
     "data": {
      "text/plain": [
       "-1"
      ]
     },
     "execution_count": 92,
     "metadata": {},
     "output_type": "execute_result"
    }
   ],
   "source": [
    "numstr.find('a')"
   ]
  },
  {
   "cell_type": "code",
   "execution_count": 7,
   "id": "95c62693-3ad3-4bd0-8e66-22959888bb0b",
   "metadata": {},
   "outputs": [],
   "source": [
    "def fortranFormat(number):\n",
    "    numstr = f'{number:18.11E}'\n",
    "    \n",
    "    # Extract sign and locate E\n",
    "    sign = numstr[0]\n",
    "    eindex = numstr.find('E')\n",
    "    \n",
    "    # Build coefficient starting with 0\n",
    "    coeff = f'0.{numstr[1]}{numstr[3:eindex]}'\n",
    "\n",
    "    # Extract exp and increase by 1\n",
    "    expstr = numstr[eindex+1:]\n",
    "    exp = int(expstr)*1+1\n",
    "\n",
    "    return f'{sign}{coeff}E{exp:+03d}'"
   ]
  },
  {
   "cell_type": "code",
   "execution_count": 8,
   "id": "1b51c7b6-dee9-459e-bb73-ae07c3af074f",
   "metadata": {},
   "outputs": [
    {
     "name": "stdout",
     "output_type": "stream",
     "text": [
      "-0.522279881971E+03\n",
      "-0.524688552679E+03\n"
     ]
    }
   ],
   "source": [
    "print(fortranFormat(eam.pairvalues(['Fe', 'Fe'])[1]))\n",
    "print(fortranFormat(2 * eam.pairvalues(['Fe', 'Fe'])[1] - eam.pairvalues(['Fe', 'Fe'])[2]))"
   ]
  },
  {
   "cell_type": "code",
   "execution_count": 135,
   "id": "a5ce8bd3-7c10-44ed-bfd3-b8aeb6be79ff",
   "metadata": {},
   "outputs": [
    {
     "name": "stdout",
     "output_type": "stream",
     "text": [
      "-0.524695084946E+03\n"
     ]
    }
   ],
   "source": [
    "s = 27.8689586\n",
    "h = 0.25\n",
    "rcut = 4.0\n",
    "K = 18.8275098\n",
    "\n",
    "x = (0 - rcut) / h\n",
    "\n",
    "ϕ = s * x**4 / (1 + x**4)\n",
    "v = -ϕ * K\n",
    "print(fortranFormat(v))"
   ]
  },
  {
   "cell_type": "code",
   "execution_count": null,
   "id": "791e1cfd-ed39-4a4a-a8e4-6d18d642df4e",
   "metadata": {},
   "outputs": [],
   "source": [
    " 0.000000000000E+00\n",
    "-5.246950849457E+02"
   ]
  },
  {
   "cell_type": "markdown",
   "id": "b4f06c5e-2d58-470b-9516-90772e49c354",
   "metadata": {},
   "source": [
    "- - -"
   ]
  },
  {
   "cell_type": "code",
   "execution_count": 136,
   "id": "abbd2810-5290-405d-853d-cdbff7b657da",
   "metadata": {},
   "outputs": [
    {
     "name": "stdout",
     "output_type": "stream",
     "text": [
      " 0.679350139289E+00\n",
      " 0.220299124800E-02\n"
     ]
    }
   ],
   "source": [
    "print(fortranFormat(eam.pairvalues(['Fe', 'Ni'])[1]))\n",
    "print(fortranFormat(2 * eam.pairvalues(['Fe', 'Ni'])[1] - eam.pairvalues(['Fe', 'Ni'])[2]))"
   ]
  },
  {
   "cell_type": "code",
   "execution_count": 137,
   "id": "e971e0bb-042c-4994-9525-67913ad77b0f",
   "metadata": {},
   "outputs": [
    {
     "name": "stdout",
     "output_type": "stream",
     "text": [
      "-0.000000000000E+01\n"
     ]
    }
   ],
   "source": [
    "s = 27.8689586\n",
    "h = 0.25\n",
    "rcut = 4.0\n",
    "K = 0\n",
    "\n",
    "x = (0 - rcut) / h\n",
    "\n",
    "ϕ = s * x**4 / (1 + x**4)\n",
    "v = -ϕ * K\n",
    "print(fortranFormat(v))"
   ]
  },
  {
   "cell_type": "markdown",
   "id": "3f756224-ba81-48ef-9659-bd7b592e889b",
   "metadata": {},
   "source": [
    "- - -"
   ]
  },
  {
   "cell_type": "code",
   "execution_count": 138,
   "id": "787a400c-b1f3-4191-aed8-cd7f80fc0610",
   "metadata": {},
   "outputs": [
    {
     "name": "stdout",
     "output_type": "stream",
     "text": [
      "-0.329986028250E+03\n",
      "-0.331766597362E+03\n"
     ]
    }
   ],
   "source": [
    "print(fortranFormat(eam.pairvalues(['Fe', 'Cr'])[1]))\n",
    "print(fortranFormat(2 * eam.pairvalues(['Fe', 'Cr'])[1] - eam.pairvalues(['Fe', 'Cr'])[2]))"
   ]
  },
  {
   "cell_type": "code",
   "execution_count": 73,
   "id": "005da948-1b68-4fe8-9a0e-997fb5f8b049",
   "metadata": {},
   "outputs": [
    {
     "data": {
      "text/plain": [
       "524.695084945671"
      ]
     },
     "execution_count": 73,
     "metadata": {},
     "output_type": "execute_result"
    }
   ],
   "source": [
    "s = 27.8689586\n",
    "h = 0.25\n",
    "rcut = 4.0\n",
    "K = 18.8275098\n",
    "\n",
    "x = (0 - rcut) / h\n",
    "\n",
    "ϕ = s * x**4 / (1 + x**4)\n",
    "-ϕ * K"
   ]
  },
  {
   "cell_type": "markdown",
   "id": "cdbbf64c-e5e1-43ff-a762-1a0ffae8e74c",
   "metadata": {},
   "source": [
    "- - -"
   ]
  },
  {
   "cell_type": "code",
   "execution_count": 139,
   "id": "53fd7412-5aa8-4286-81c1-add72155debd",
   "metadata": {},
   "outputs": [
    {
     "name": "stdout",
     "output_type": "stream",
     "text": [
      "-0.329986028250E+03\n",
      "-0.331766597362E+03\n"
     ]
    }
   ],
   "source": [
    "print(fortranFormat(eam.pairvalues(['Ni', 'Ni'])[1]))\n",
    "print(fortranFormat(2 * eam.pairvalues(['Ni', 'Ni'])[1] - eam.pairvalues(['Ni', 'Ni'])[2]))"
   ]
  },
  {
   "cell_type": "code",
   "execution_count": 140,
   "id": "425cd5ee-8143-4624-871d-cad2d19d9895",
   "metadata": {},
   "outputs": [
    {
     "name": "stdout",
     "output_type": "stream",
     "text": [
      "-0.331771630976E+03\n"
     ]
    }
   ],
   "source": [
    "s = 27.8750306\n",
    "h = 0.25\n",
    "rcut = 5.6\n",
    "K = 11.9021555\n",
    "\n",
    "x = (0 - rcut) / h\n",
    "\n",
    "ϕ = s * x**4 / (1 + x**4)\n",
    "v = -ϕ * K\n",
    "print(fortranFormat(v))"
   ]
  },
  {
   "cell_type": "markdown",
   "id": "f78defba-2bf3-4662-8129-f29caa16a5d8",
   "metadata": {},
   "source": [
    "- - -"
   ]
  },
  {
   "cell_type": "code",
   "execution_count": 79,
   "id": "14f8e8ee-56d6-479e-83f6-9994376ddc40",
   "metadata": {},
   "outputs": [
    {
     "data": {
      "text/plain": [
       "0.0022221176760000017"
      ]
     },
     "execution_count": 79,
     "metadata": {},
     "output_type": "execute_result"
    }
   ],
   "source": [
    "2 * eam.pairvalues(['Ni', 'Cr'])[1] - eam.pairvalues(['Ni', 'Cr'])[2]"
   ]
  },
  {
   "cell_type": "code",
   "execution_count": 73,
   "id": "10d9736c-1a35-4aa8-8cd9-dac9098690b9",
   "metadata": {},
   "outputs": [
    {
     "data": {
      "text/plain": [
       "524.695084945671"
      ]
     },
     "execution_count": 73,
     "metadata": {},
     "output_type": "execute_result"
    }
   ],
   "source": [
    "s = 27.8689586\n",
    "h = 0.25\n",
    "rcut = 4.0\n",
    "K = 18.8275098\n",
    "\n",
    "x = (0 - rcut) / h\n",
    "\n",
    "ϕ = s * x**4 / (1 + x**4)\n",
    "-ϕ * K"
   ]
  },
  {
   "cell_type": "markdown",
   "id": "e74137a9-5026-4b8f-bc4b-9c0ca29113ed",
   "metadata": {},
   "source": [
    "- - -"
   ]
  },
  {
   "cell_type": "code",
   "execution_count": 141,
   "id": "aaba238c-5a5e-424a-b7d4-b597619d9385",
   "metadata": {},
   "outputs": [
    {
     "name": "stdout",
     "output_type": "stream",
     "text": [
      "-0.140391717701E+03\n",
      "-0.141694675267E+03\n"
     ]
    }
   ],
   "source": [
    "print(fortranFormat(eam.pairvalues(['Cr', 'Cr'])[1]))\n",
    "print(fortranFormat(2 * eam.pairvalues(['Cr', 'Cr'])[1] - eam.pairvalues(['Cr', 'Cr'])[2]))"
   ]
  },
  {
   "cell_type": "code",
   "execution_count": 142,
   "id": "61f039f9-4133-44d1-9def-158a0d3d35ed",
   "metadata": {},
   "outputs": [
    {
     "name": "stdout",
     "output_type": "stream",
     "text": [
      "-0.141698620080E+03\n"
     ]
    }
   ],
   "source": [
    "s = 31.2613817\n",
    "h = 0.25\n",
    "rcut = 5.6\n",
    "K = 4.53272297\n",
    "\n",
    "x = (0 - rcut) / h\n",
    "\n",
    "ϕ = s * x**4 / (1 + x**4)\n",
    "v = -ϕ * K\n",
    "print(fortranFormat(v))"
   ]
  },
  {
   "cell_type": "markdown",
   "id": "92efd5e6-9e15-4fe6-9683-abdf5fc7c386",
   "metadata": {},
   "source": [
    "- - -"
   ]
  },
  {
   "cell_type": "code",
   "execution_count": 20,
   "id": "d0e2163e-3d1b-4341-90f7-28a830f80204",
   "metadata": {},
   "outputs": [
    {
     "data": {
      "text/plain": [
       "array([-0.00000000e+00,  9.62656473e+03,  9.52060181e+03, ...,\n",
       "       -1.19734907e-09, -3.54841092e-10, -4.43640110e-11])"
      ]
     },
     "execution_count": 20,
     "metadata": {},
     "output_type": "execute_result"
    }
   ],
   "source": [
    "eam.pairvalues(['Fe', 'Fe'])"
   ]
  },
  {
   "cell_type": "code",
   "execution_count": 3,
   "id": "c4447a0e",
   "metadata": {},
   "outputs": [
    {
     "data": {
      "text/plain": [
       "array([ 0.00000000e+00,  9.62656473e+03,  9.52060181e+03, ...,\n",
       "       -1.19734907e-09, -3.54841092e-10, -4.43640110e-11])"
      ]
     },
     "execution_count": 3,
     "metadata": {},
     "output_type": "execute_result"
    }
   ],
   "source": [
    "eam.rphi_r(['Fe', 'Fe'])"
   ]
  },
  {
   "cell_type": "code",
   "execution_count": 21,
   "id": "cbe69da2-5e8d-4283-adec-4f8119579e08",
   "metadata": {},
   "outputs": [
    {
     "data": {
      "text/plain": [
       "array([ 0.        ,  0.83069212,  1.65890519, ..., -0.        ,\n",
       "       -0.        , -0.        ])"
      ]
     },
     "execution_count": 21,
     "metadata": {},
     "output_type": "execute_result"
    }
   ],
   "source": [
    "eam.pairvalues(['Cr', 'Fe'])"
   ]
  },
  {
   "cell_type": "code",
   "execution_count": 4,
   "id": "72006a66",
   "metadata": {},
   "outputs": [
    {
     "data": {
      "text/plain": [
       "array([0.        , 0.83069212, 1.65890519, ..., 0.        , 0.        ,\n",
       "       0.        ])"
      ]
     },
     "execution_count": 4,
     "metadata": {},
     "output_type": "execute_result"
    }
   ],
   "source": [
    "eam.rphi_r(['Cr', 'Fe'])"
   ]
  },
  {
   "cell_type": "code",
   "execution_count": 5,
   "id": "2a62eb6a",
   "metadata": {},
   "outputs": [
    {
     "data": {
      "text/plain": [
       "array([0.        , 0.83069212, 1.65890519, ..., 0.        , 0.        ,\n",
       "       0.        ])"
      ]
     },
     "execution_count": 5,
     "metadata": {},
     "output_type": "execute_result"
    }
   ],
   "source": [
    "eam.rphi_r(['Fe', 'Cr'])"
   ]
  },
  {
   "cell_type": "code",
   "execution_count": 22,
   "id": "b19f1312-1388-4163-8e10-993e42639fe8",
   "metadata": {},
   "outputs": [
    {
     "data": {
      "text/plain": [
       "array([ 0.        ,  0.83069212,  1.65890519, ..., -0.        ,\n",
       "       -0.        , -0.        ])"
      ]
     },
     "execution_count": 22,
     "metadata": {},
     "output_type": "execute_result"
    }
   ],
   "source": [
    "eam.pairvalues(['Fe', 'Cr'])"
   ]
  },
  {
   "cell_type": "code",
   "execution_count": 23,
   "id": "7a19ce0d-195c-4eb9-a990-d47566f97119",
   "metadata": {},
   "outputs": [
    {
     "data": {
      "text/plain": [
       "array([       nan, 1.70886415, 1.73201107, ..., 0.        , 0.        ,\n",
       "       0.        ])"
      ]
     },
     "execution_count": 23,
     "metadata": {},
     "output_type": "execute_result"
    }
   ],
   "source": [
    "eam.pairvalues(['Cr', 'Cr'])"
   ]
  },
  {
   "cell_type": "code",
   "execution_count": 6,
   "id": "503d5ebc",
   "metadata": {},
   "outputs": [
    {
     "data": {
      "text/plain": [
       "array([0.        , 1.70886415, 1.73201107, ..., 0.        , 0.        ,\n",
       "       0.        ])"
      ]
     },
     "execution_count": 6,
     "metadata": {},
     "output_type": "execute_result"
    }
   ],
   "source": [
    "eam.rphi_r(['Cr', 'Cr'])"
   ]
  },
  {
   "cell_type": "code",
   "execution_count": 25,
   "id": "87ee3de1-1566-4849-9290-a8cf043ae155",
   "metadata": {},
   "outputs": [
    {
     "data": {
      "text/plain": [
       "array([0.        , 2.41875569, 4.83006574, ..., 0.        , 0.        ,\n",
       "       0.        ])"
      ]
     },
     "execution_count": 25,
     "metadata": {},
     "output_type": "execute_result"
    }
   ],
   "source": [
    "eam.pairvalues(['W', 'Fe'])"
   ]
  },
  {
   "cell_type": "code",
   "execution_count": 7,
   "id": "9b0bb262",
   "metadata": {},
   "outputs": [
    {
     "data": {
      "text/plain": [
       "array([0.00000000e+000, 2.41875569e+000, 4.83006574e+000, ...,\n",
       "       0.00000000e+000, 0.00000000e+000, 6.68887130e-198])"
      ]
     },
     "execution_count": 7,
     "metadata": {},
     "output_type": "execute_result"
    }
   ],
   "source": [
    "eam.rphi_r(['W', 'Fe'])"
   ]
  },
  {
   "cell_type": "code",
   "execution_count": 8,
   "id": "3468a442",
   "metadata": {},
   "outputs": [
    {
     "data": {
      "text/plain": [
       "array([0.00000000e+000, 2.41875569e+000, 4.83006574e+000, ...,\n",
       "       0.00000000e+000, 0.00000000e+000, 6.68887130e-198])"
      ]
     },
     "execution_count": 8,
     "metadata": {},
     "output_type": "execute_result"
    }
   ],
   "source": [
    "eam.rphi_r(['Fe', 'W'])"
   ]
  },
  {
   "cell_type": "code",
   "execution_count": 26,
   "id": "89888c7d-3559-47cc-99f5-d726bfb6b5f8",
   "metadata": {},
   "outputs": [
    {
     "data": {
      "text/plain": [
       "array([-0.        , -0.07024468, -0.13997763, ...,  0.        ,\n",
       "        0.        ,  0.        ])"
      ]
     },
     "execution_count": 26,
     "metadata": {},
     "output_type": "execute_result"
    }
   ],
   "source": [
    "eam.pairvalues(['W', 'Cr'])"
   ]
  },
  {
   "cell_type": "code",
   "execution_count": 9,
   "id": "3690bc99",
   "metadata": {},
   "outputs": [
    {
     "data": {
      "text/plain": [
       "array([ 0.        , -0.07024468, -0.13997763, ...,  0.        ,\n",
       "        0.        ,  0.        ])"
      ]
     },
     "execution_count": 9,
     "metadata": {},
     "output_type": "execute_result"
    }
   ],
   "source": [
    "eam.rphi_r(['W', 'Cr'])"
   ]
  },
  {
   "cell_type": "code",
   "execution_count": 10,
   "id": "f49adfac",
   "metadata": {},
   "outputs": [
    {
     "data": {
      "text/plain": [
       "array([ 0.        , -0.07024468, -0.13997763, ...,  0.        ,\n",
       "        0.        ,  0.        ])"
      ]
     },
     "execution_count": 10,
     "metadata": {},
     "output_type": "execute_result"
    }
   ],
   "source": [
    "eam.rphi_r(['Cr', 'W'])"
   ]
  },
  {
   "cell_type": "code",
   "execution_count": 27,
   "id": "9ade9c4e-321f-4536-9f94-0e6ecb7972b0",
   "metadata": {},
   "outputs": [
    {
     "data": {
      "text/plain": [
       "array([0.        , 3.38814413, 6.76275747, ..., 0.        , 0.        ,\n",
       "       0.        ])"
      ]
     },
     "execution_count": 27,
     "metadata": {},
     "output_type": "execute_result"
    }
   ],
   "source": [
    "eam.pairvalues(['W', 'W'])"
   ]
  },
  {
   "cell_type": "code",
   "execution_count": 11,
   "id": "af68d63b",
   "metadata": {},
   "outputs": [
    {
     "data": {
      "text/plain": [
       "array([0.        , 3.38814413, 6.76275747, ..., 0.        , 0.        ,\n",
       "       0.        ])"
      ]
     },
     "execution_count": 11,
     "metadata": {},
     "output_type": "execute_result"
    }
   ],
   "source": [
    "eam.rphi_r(['W', 'W'])"
   ]
  },
  {
   "cell_type": "code",
   "execution_count": 10,
   "id": "981487d3-8afa-4ca1-8cc6-d9b5366d0630",
   "metadata": {},
   "outputs": [
    {
     "data": {
      "text/plain": [
       "array([0.        , 0.69244991, 1.38261978, ..., 0.        , 0.        ,\n",
       "       0.        ])"
      ]
     },
     "execution_count": 10,
     "metadata": {},
     "output_type": "execute_result"
    }
   ],
   "source": [
    "eam.pairvalues(['Ni', 'Cr'])"
   ]
  },
  {
   "cell_type": "code",
   "execution_count": 11,
   "id": "1cbe1f08-8382-41fe-be1c-71983dbc6537",
   "metadata": {},
   "outputs": [
    {
     "data": {
      "text/plain": [
       "array([-1.41698620e+02, -1.40391718e+02, -1.39088760e+02, ...,\n",
       "        2.40052812e-08,  7.12041744e-09,  8.91016349e-10])"
      ]
     },
     "execution_count": 11,
     "metadata": {},
     "output_type": "execute_result"
    }
   ],
   "source": [
    "eam.pairvalues(['Cr', 'Cr'])"
   ]
  },
  {
   "cell_type": "code",
   "execution_count": 20,
   "id": "f41dc609-a01b-4c0d-98a5-38a4d7699fc1",
   "metadata": {},
   "outputs": [
    {
     "data": {
      "text/plain": [
       "array([-1.41698620e+02, -1.40391718e+02, -1.39088760e+02, ...,\n",
       "        2.40052812e-08,  7.12041744e-09,  8.91016349e-10])"
      ]
     },
     "execution_count": 20,
     "metadata": {},
     "output_type": "execute_result"
    }
   ],
   "source": [
    "eam.pairvalues(['Cr', 'Cr'])"
   ]
  },
  {
   "cell_type": "code",
   "execution_count": 32,
   "id": "d340c28f-5c85-4f5f-8ae1-7231f3c5e966",
   "metadata": {},
   "outputs": [
    {
     "name": "stdout",
     "output_type": "stream",
     "text": [
      "1 1\n"
     ]
    }
   ],
   "source": [
    "allsymbols = ['Fe', 'Ni', 'Cr']\n",
    "symbols = ['Cr', 'Ni']\n",
    "\n",
    "j = allsymbols.index(symbols[0])\n",
    "k = allsymbols.index(symbols[1])\n",
    "\n",
    "\n",
    "i = sum(range(j+1)) + k\n",
    "i"
   ]
  },
  {
   "cell_type": "code",
   "execution_count": 41,
   "id": "81531fa5-fde6-4ba1-8436-89055d476899",
   "metadata": {},
   "outputs": [
    {
     "name": "stdout",
     "output_type": "stream",
     "text": [
      "1 1 = 0\n",
      "1 2 = 1\n",
      "1 3 = 3\n",
      "2 1 = 1\n",
      "2 2 = 2\n",
      "2 3 = 4\n",
      "3 1 = 3\n",
      "3 2 = 4\n",
      "3 3 = 5\n"
     ]
    }
   ],
   "source": [
    "for j in range(3):\n",
    "    for k in range(3):\n",
    "        if j >= k:\n",
    "            i = sum(range(j+1)) + k\n",
    "        else:\n",
    "            i = sum(range(k+1)) + j\n",
    "        print(j+1, k+1, '=', i)"
   ]
  },
  {
   "cell_type": "code",
   "execution_count": 29,
   "id": "ad24fc98-9c03-4b49-8c04-aa19c97f877f",
   "metadata": {},
   "outputs": [
    {
     "data": {
      "text/plain": [
       "[<matplotlib.lines.Line2D at 0x2732ea18908>]"
      ]
     },
     "execution_count": 29,
     "metadata": {},
     "output_type": "execute_result"
    },
    {
     "data": {
      "image/png": "[encoded data removed]",
      "text/plain": [
       "<Figure size 432x288 with 1 Axes>"
      ]
     },
     "metadata": {
      "needs_background": "light"
     },
     "output_type": "display_data"
    }
   ],
   "source": [
    "phi = eam.pairvalues(['Cr', 'Cr'])\n",
    "phi[0] = 0\n",
    "plt.plot(eam.pairvalues(['Cr', 'Cr']))"
   ]
  },
  {
   "cell_type": "code",
   "execution_count": null,
   "id": "27f5d550-de15-4ff7-8ada-eb2f97627b6c",
   "metadata": {},
   "outputs": [],
   "source": []
  }
 ],
 "metadata": {
  "kernelspec": {
   "display_name": "Python 3",
   "language": "python",
   "name": "python3"
  },
  "language_info": {
   "codemirror_mode": {
    "name": "ipython",
    "version": 3
   },
   "file_extension": ".py",
   "mimetype": "text/x-python",
   "name": "python",
   "nbconvert_exporter": "python",
   "pygments_lexer": "ipython3",
   "version": "3.7.3"
  }
 },
 "nbformat": 4,
 "nbformat_minor": 5
}
