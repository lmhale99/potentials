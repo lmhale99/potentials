{
 "cells": [
  {
   "cell_type": "code",
   "execution_count": 6,
   "id": "1c10e19c-9789-4dcd-9c69-f436c1eabccd",
   "metadata": {},
   "outputs": [],
   "source": [
    "from pathlib import Path\n",
    "import potentials\n",
    "from datetime import date\n",
    "\n",
    "import pytest\n",
    "import yabadaba\n",
    "from common_values import testdb_host, test_with_remote\n"
   ]
  },
  {
   "cell_type": "code",
   "execution_count": 7,
   "id": "41911c10-27e3-4e55-bf0d-3285f924991b",
   "metadata": {},
   "outputs": [],
   "source": [
    "potdb = potentials.Database(localpath=testdb_host, remote=test_with_remote)"
   ]
  },
  {
   "cell_type": "code",
   "execution_count": 2,
   "id": "1e2b1384-6053-40dd-a2e9-a60b1fdd56af",
   "metadata": {},
   "outputs": [],
   "source": [
    "#yabadaba.check_modules()"
   ]
  },
  {
   "cell_type": "code",
   "execution_count": 8,
   "id": "47bfb545-b7d0-48e5-872c-e69bfb2c7872",
   "metadata": {},
   "outputs": [
    {
     "data": {
      "text/plain": [
       "(array([<potentials.record.Action.Action object at 0x7f9ad4bd6590>,\n",
       "        <potentials.record.Action.Action object at 0x7f9ad44bdb50>,\n",
       "        <potentials.record.Action.Action object at 0x7f9ad45d0dd0>],\n",
       "       dtype=object),\n",
       "                                  name        date             type  \\\n",
       " 0      2099-04-26 Site change example  2099-04-26      site change   \n",
       " 1      2099-10-23 New posting example  2099-10-23      new posting   \n",
       " 2  2099-12-15 Updated posting example  2099-12-15  updated posting   \n",
       " \n",
       "                                           potentials                  comment  \n",
       " 0                                                 []      Site change example  \n",
       " 1  [{'key': '3837b6da-05c4-4148-97cd-90b26a2092df...      New posting example  \n",
       " 2  [{'key': 'd71da5f1-db8a-46ad-a78d-c026768200af...  Updated posting example  )"
      ]
     },
     "execution_count": 8,
     "metadata": {},
     "output_type": "execute_result"
    }
   ],
   "source": [
    "potdb.get_actions(return_df=True, refresh_cache=True)"
   ]
  },
  {
   "cell_type": "code",
   "execution_count": 9,
   "id": "9e6e1c3e-8c24-4836-9e35-ccf3a27540bc",
   "metadata": {},
   "outputs": [],
   "source": [
    "record = potentials.load_record('Action', date='2019-09-12',\n",
    "                                type='retraction', comment='boo boo')\n",
    "\n",
    "assert record.date == date(2019, 9, 12)\n",
    "assert record.type == 'retraction'\n",
    "assert len(record.potentials) == 0\n",
    "assert record.comment == 'boo boo'"
   ]
  },
  {
   "cell_type": "code",
   "execution_count": 11,
   "id": "ba4f52c4-ac22-442e-b328-8ead78705ac5",
   "metadata": {},
   "outputs": [
    {
     "data": {
      "text/plain": [
       "{'name': None,\n",
       " 'date': datetime.date(2019, 9, 12),\n",
       " 'type': 'retraction',\n",
       " 'potentials': [],\n",
       " 'comment': 'boo boo'}"
      ]
     },
     "execution_count": 11,
     "metadata": {},
     "output_type": "execute_result"
    }
   ],
   "source": [
    "record.metadata()"
   ]
  },
  {
   "cell_type": "code",
   "execution_count": 4,
   "id": "15b34d96-b301-4bd3-93ee-80ebb15de987",
   "metadata": {},
   "outputs": [
    {
     "name": "stderr",
     "output_type": "stream",
     "text": [
      "100%|█████████████████████████████████████████████████████████████████████████████████| 450/450 [00:24<00:00, 17.79it/s]\n"
     ]
    },
    {
     "data": {
      "text/html": [
       "<div>\n",
       "<style scoped>\n",
       "    .dataframe tbody tr th:only-of-type {\n",
       "        vertical-align: middle;\n",
       "    }\n",
       "\n",
       "    .dataframe tbody tr th {\n",
       "        vertical-align: top;\n",
       "    }\n",
       "\n",
       "    .dataframe thead th {\n",
       "        text-align: right;\n",
       "    }\n",
       "</style>\n",
       "<table border=\"1\" class=\"dataframe\">\n",
       "  <thead>\n",
       "    <tr style=\"text-align: right;\">\n",
       "      <th></th>\n",
       "      <th>name</th>\n",
       "      <th>key</th>\n",
       "      <th>shortcode</th>\n",
       "      <th>url</th>\n",
       "      <th>status</th>\n",
       "      <th>fullkimids</th>\n",
       "      <th>id</th>\n",
       "      <th>potid</th>\n",
       "      <th>potkey</th>\n",
       "      <th>poturl</th>\n",
       "      <th>units</th>\n",
       "      <th>pair_style</th>\n",
       "      <th>symbols</th>\n",
       "      <th>elements</th>\n",
       "    </tr>\n",
       "  </thead>\n",
       "  <tbody>\n",
       "    <tr>\n",
       "      <th>0</th>\n",
       "      <td>MO_584345505904</td>\n",
       "      <td>eeec071b-5054-4014-82ea-e9e4f8422f21</td>\n",
       "      <td>MO_584345505904</td>\n",
       "      <td>https://potentials.nist.gov/pid/rest/local/pot...</td>\n",
       "      <td>None</td>\n",
       "      <td>[DUNN_WenTadmor_2019v1_C__MO_584345505904_000]</td>\n",
       "      <td>DUNN_WenTadmor_2019v1_C__MO_584345505904_000</td>\n",
       "      <td>2020--Wen-M-Tadmor-E-B--C-v1</td>\n",
       "      <td>a868f19e-7fe9-457c-a662-cdbc4c0aadfa</td>\n",
       "      <td>https://potentials.nist.gov/pid/rest/local/pot...</td>\n",
       "      <td>metal</td>\n",
       "      <td>kim</td>\n",
       "      <td>[C]</td>\n",
       "      <td>[C]</td>\n",
       "    </tr>\n",
       "    <tr>\n",
       "      <th>1</th>\n",
       "      <td>MO_956135237832</td>\n",
       "      <td>37224818-d26f-4992-a542-e396b7952ea2</td>\n",
       "      <td>MO_956135237832</td>\n",
       "      <td>https://potentials.nist.gov/pid/rest/local/pot...</td>\n",
       "      <td>None</td>\n",
       "      <td>[DUNN_WenTadmor_2019v2_C__MO_956135237832_000]</td>\n",
       "      <td>DUNN_WenTadmor_2019v2_C__MO_956135237832_000</td>\n",
       "      <td>2020--Wen-M-Tadmor-E-B--C-v2</td>\n",
       "      <td>191f9f50-bf2b-40e5-879a-559c90dcbefd</td>\n",
       "      <td>https://potentials.nist.gov/pid/rest/local/pot...</td>\n",
       "      <td>metal</td>\n",
       "      <td>kim</td>\n",
       "      <td>[C]</td>\n",
       "      <td>[C]</td>\n",
       "    </tr>\n",
       "    <tr>\n",
       "      <th>2</th>\n",
       "      <td>MO_714772088128</td>\n",
       "      <td>a5f73217-478a-4740-8fa7-2631429b3c55</td>\n",
       "      <td>MO_714772088128</td>\n",
       "      <td>https://potentials.nist.gov/pid/rest/local/pot...</td>\n",
       "      <td>None</td>\n",
       "      <td>[DUNN_WenTadmor_2019v3_C__MO_714772088128_000]</td>\n",
       "      <td>DUNN_WenTadmor_2019v3_C__MO_714772088128_000</td>\n",
       "      <td>2020--Wen-M-Tadmor-E-B--C-v3</td>\n",
       "      <td>4caef4b3-935f-47a3-854d-72167213d2f7</td>\n",
       "      <td>https://potentials.nist.gov/pid/rest/local/pot...</td>\n",
       "      <td>metal</td>\n",
       "      <td>kim</td>\n",
       "      <td>[C]</td>\n",
       "      <td>[C]</td>\n",
       "    </tr>\n",
       "    <tr>\n",
       "      <th>3</th>\n",
       "      <td>MO_800536961967</td>\n",
       "      <td>7e762c90-5ab0-4d49-a435-29b48218fbe3</td>\n",
       "      <td>MO_800536961967</td>\n",
       "      <td>https://potentials.nist.gov/pid/rest/local/pot...</td>\n",
       "      <td>None</td>\n",
       "      <td>[EAM_CubicNaturalSpline_Angelo_Moody_Ni__MO_80...</td>\n",
       "      <td>EAM_CubicNaturalSpline_AngeloMoodyBaskes_1995_...</td>\n",
       "      <td>1995--Angelo-J-E-Moody-N-R-Baskes-M-I--Ni</td>\n",
       "      <td>0c463dfe-3bf7-47be-9d13-041cc425ec10</td>\n",
       "      <td>https://potentials.nist.gov/pid/rest/local/pot...</td>\n",
       "      <td>metal</td>\n",
       "      <td>kim</td>\n",
       "      <td>[Ni]</td>\n",
       "      <td>[Ni]</td>\n",
       "    </tr>\n",
       "    <tr>\n",
       "      <th>4</th>\n",
       "      <td>MO_800509458712</td>\n",
       "      <td>9b7dcbed-b722-4165-9a5a-47c9818d6e96</td>\n",
       "      <td>MO_800509458712</td>\n",
       "      <td>https://potentials.nist.gov/pid/rest/local/pot...</td>\n",
       "      <td>None</td>\n",
       "      <td>[EAM_CubicNaturalSpline_Ercolessi_Adams_Al__MO...</td>\n",
       "      <td>EAM_CubicNaturalSpline_ErcolessiAdams_1994_Al_...</td>\n",
       "      <td>1994--Ercolessi-F-B-Adams-J--Al</td>\n",
       "      <td>2ce1cf6d-9c87-4b29-89d2-9885a928fbe7</td>\n",
       "      <td>https://potentials.nist.gov/pid/rest/local/pot...</td>\n",
       "      <td>metal</td>\n",
       "      <td>kim</td>\n",
       "      <td>[Al]</td>\n",
       "      <td>[Al]</td>\n",
       "    </tr>\n",
       "    <tr>\n",
       "      <th>...</th>\n",
       "      <td>...</td>\n",
       "      <td>...</td>\n",
       "      <td>...</td>\n",
       "      <td>...</td>\n",
       "      <td>...</td>\n",
       "      <td>...</td>\n",
       "      <td>...</td>\n",
       "      <td>...</td>\n",
       "      <td>...</td>\n",
       "      <td>...</td>\n",
       "      <td>...</td>\n",
       "      <td>...</td>\n",
       "      <td>...</td>\n",
       "      <td>...</td>\n",
       "    </tr>\n",
       "    <tr>\n",
       "      <th>556</th>\n",
       "      <td>MO_959249795837</td>\n",
       "      <td>da76eb36-7ca1-421a-bd64-8f6bdd905b15</td>\n",
       "      <td>MO_959249795837</td>\n",
       "      <td>https://potentials.nist.gov/pid/rest/local/pot...</td>\n",
       "      <td>None</td>\n",
       "      <td>[LennardJones612_UniversalShifted__MO_95924979...</td>\n",
       "      <td>LennardJones612_UniversalShifted__MO_959249795...</td>\n",
       "      <td>2015--Elliott-R-S-Akerson-A--Y</td>\n",
       "      <td>f20cf667-a88e-4182-a166-d2ef87e68442</td>\n",
       "      <td>https://potentials.nist.gov/pid/rest/local/pot...</td>\n",
       "      <td>metal</td>\n",
       "      <td>kim</td>\n",
       "      <td>[Y]</td>\n",
       "      <td>[Y]</td>\n",
       "    </tr>\n",
       "    <tr>\n",
       "      <th>557</th>\n",
       "      <td>MO_959249795837</td>\n",
       "      <td>da76eb36-7ca1-421a-bd64-8f6bdd905b15</td>\n",
       "      <td>MO_959249795837</td>\n",
       "      <td>https://potentials.nist.gov/pid/rest/local/pot...</td>\n",
       "      <td>None</td>\n",
       "      <td>[LennardJones612_UniversalShifted__MO_95924979...</td>\n",
       "      <td>LennardJones612_UniversalShifted__MO_959249795...</td>\n",
       "      <td>2015--Elliott-R-S-Akerson-A--Yb</td>\n",
       "      <td>89af4abf-c79b-4fa7-a2c0-37990f1a575a</td>\n",
       "      <td>https://potentials.nist.gov/pid/rest/local/pot...</td>\n",
       "      <td>metal</td>\n",
       "      <td>kim</td>\n",
       "      <td>[Yb]</td>\n",
       "      <td>[Yb]</td>\n",
       "    </tr>\n",
       "    <tr>\n",
       "      <th>558</th>\n",
       "      <td>MO_959249795837</td>\n",
       "      <td>da76eb36-7ca1-421a-bd64-8f6bdd905b15</td>\n",
       "      <td>MO_959249795837</td>\n",
       "      <td>https://potentials.nist.gov/pid/rest/local/pot...</td>\n",
       "      <td>None</td>\n",
       "      <td>[LennardJones612_UniversalShifted__MO_95924979...</td>\n",
       "      <td>LennardJones612_UniversalShifted__MO_959249795...</td>\n",
       "      <td>2015--Elliott-R-S-Akerson-A--Zn</td>\n",
       "      <td>3b5bb102-ca9c-4dcc-b5c8-51e5ccfe603f</td>\n",
       "      <td>https://potentials.nist.gov/pid/rest/local/pot...</td>\n",
       "      <td>metal</td>\n",
       "      <td>kim</td>\n",
       "      <td>[Zn]</td>\n",
       "      <td>[Zn]</td>\n",
       "    </tr>\n",
       "    <tr>\n",
       "      <th>559</th>\n",
       "      <td>MO_959249795837</td>\n",
       "      <td>da76eb36-7ca1-421a-bd64-8f6bdd905b15</td>\n",
       "      <td>MO_959249795837</td>\n",
       "      <td>https://potentials.nist.gov/pid/rest/local/pot...</td>\n",
       "      <td>None</td>\n",
       "      <td>[LennardJones612_UniversalShifted__MO_95924979...</td>\n",
       "      <td>LennardJones612_UniversalShifted__MO_959249795...</td>\n",
       "      <td>2015--Elliott-R-S-Akerson-A--Zr</td>\n",
       "      <td>7e0a6520-e2a9-4ba4-b6ff-38931cd6bcc3</td>\n",
       "      <td>https://potentials.nist.gov/pid/rest/local/pot...</td>\n",
       "      <td>metal</td>\n",
       "      <td>kim</td>\n",
       "      <td>[Zr]</td>\n",
       "      <td>[Zr]</td>\n",
       "    </tr>\n",
       "    <tr>\n",
       "      <th>560</th>\n",
       "      <td>MO_959249795837</td>\n",
       "      <td>da76eb36-7ca1-421a-bd64-8f6bdd905b15</td>\n",
       "      <td>MO_959249795837</td>\n",
       "      <td>https://potentials.nist.gov/pid/rest/local/pot...</td>\n",
       "      <td>None</td>\n",
       "      <td>[LennardJones612_UniversalShifted__MO_95924979...</td>\n",
       "      <td>LennardJones612_UniversalShifted__MO_959249795...</td>\n",
       "      <td>2015--Elliott-R-S-Akerson-A--toy</td>\n",
       "      <td>9c5c87ce-fe7a-4171-a481-9227c0055116</td>\n",
       "      <td>https://potentials.nist.gov/pid/rest/local/pot...</td>\n",
       "      <td>metal</td>\n",
       "      <td>kim</td>\n",
       "      <td>[user01]</td>\n",
       "      <td>[toy]</td>\n",
       "    </tr>\n",
       "  </tbody>\n",
       "</table>\n",
       "<p>561 rows × 14 columns</p>\n",
       "</div>"
      ],
      "text/plain": [
       "                name                                   key        shortcode  \\\n",
       "0    MO_584345505904  eeec071b-5054-4014-82ea-e9e4f8422f21  MO_584345505904   \n",
       "1    MO_956135237832  37224818-d26f-4992-a542-e396b7952ea2  MO_956135237832   \n",
       "2    MO_714772088128  a5f73217-478a-4740-8fa7-2631429b3c55  MO_714772088128   \n",
       "3    MO_800536961967  7e762c90-5ab0-4d49-a435-29b48218fbe3  MO_800536961967   \n",
       "4    MO_800509458712  9b7dcbed-b722-4165-9a5a-47c9818d6e96  MO_800509458712   \n",
       "..               ...                                   ...              ...   \n",
       "556  MO_959249795837  da76eb36-7ca1-421a-bd64-8f6bdd905b15  MO_959249795837   \n",
       "557  MO_959249795837  da76eb36-7ca1-421a-bd64-8f6bdd905b15  MO_959249795837   \n",
       "558  MO_959249795837  da76eb36-7ca1-421a-bd64-8f6bdd905b15  MO_959249795837   \n",
       "559  MO_959249795837  da76eb36-7ca1-421a-bd64-8f6bdd905b15  MO_959249795837   \n",
       "560  MO_959249795837  da76eb36-7ca1-421a-bd64-8f6bdd905b15  MO_959249795837   \n",
       "\n",
       "                                                   url status  \\\n",
       "0    https://potentials.nist.gov/pid/rest/local/pot...   None   \n",
       "1    https://potentials.nist.gov/pid/rest/local/pot...   None   \n",
       "2    https://potentials.nist.gov/pid/rest/local/pot...   None   \n",
       "3    https://potentials.nist.gov/pid/rest/local/pot...   None   \n",
       "4    https://potentials.nist.gov/pid/rest/local/pot...   None   \n",
       "..                                                 ...    ...   \n",
       "556  https://potentials.nist.gov/pid/rest/local/pot...   None   \n",
       "557  https://potentials.nist.gov/pid/rest/local/pot...   None   \n",
       "558  https://potentials.nist.gov/pid/rest/local/pot...   None   \n",
       "559  https://potentials.nist.gov/pid/rest/local/pot...   None   \n",
       "560  https://potentials.nist.gov/pid/rest/local/pot...   None   \n",
       "\n",
       "                                            fullkimids  \\\n",
       "0       [DUNN_WenTadmor_2019v1_C__MO_584345505904_000]   \n",
       "1       [DUNN_WenTadmor_2019v2_C__MO_956135237832_000]   \n",
       "2       [DUNN_WenTadmor_2019v3_C__MO_714772088128_000]   \n",
       "3    [EAM_CubicNaturalSpline_Angelo_Moody_Ni__MO_80...   \n",
       "4    [EAM_CubicNaturalSpline_Ercolessi_Adams_Al__MO...   \n",
       "..                                                 ...   \n",
       "556  [LennardJones612_UniversalShifted__MO_95924979...   \n",
       "557  [LennardJones612_UniversalShifted__MO_95924979...   \n",
       "558  [LennardJones612_UniversalShifted__MO_95924979...   \n",
       "559  [LennardJones612_UniversalShifted__MO_95924979...   \n",
       "560  [LennardJones612_UniversalShifted__MO_95924979...   \n",
       "\n",
       "                                                    id  \\\n",
       "0         DUNN_WenTadmor_2019v1_C__MO_584345505904_000   \n",
       "1         DUNN_WenTadmor_2019v2_C__MO_956135237832_000   \n",
       "2         DUNN_WenTadmor_2019v3_C__MO_714772088128_000   \n",
       "3    EAM_CubicNaturalSpline_AngeloMoodyBaskes_1995_...   \n",
       "4    EAM_CubicNaturalSpline_ErcolessiAdams_1994_Al_...   \n",
       "..                                                 ...   \n",
       "556  LennardJones612_UniversalShifted__MO_959249795...   \n",
       "557  LennardJones612_UniversalShifted__MO_959249795...   \n",
       "558  LennardJones612_UniversalShifted__MO_959249795...   \n",
       "559  LennardJones612_UniversalShifted__MO_959249795...   \n",
       "560  LennardJones612_UniversalShifted__MO_959249795...   \n",
       "\n",
       "                                         potid  \\\n",
       "0                 2020--Wen-M-Tadmor-E-B--C-v1   \n",
       "1                 2020--Wen-M-Tadmor-E-B--C-v2   \n",
       "2                 2020--Wen-M-Tadmor-E-B--C-v3   \n",
       "3    1995--Angelo-J-E-Moody-N-R-Baskes-M-I--Ni   \n",
       "4              1994--Ercolessi-F-B-Adams-J--Al   \n",
       "..                                         ...   \n",
       "556             2015--Elliott-R-S-Akerson-A--Y   \n",
       "557            2015--Elliott-R-S-Akerson-A--Yb   \n",
       "558            2015--Elliott-R-S-Akerson-A--Zn   \n",
       "559            2015--Elliott-R-S-Akerson-A--Zr   \n",
       "560           2015--Elliott-R-S-Akerson-A--toy   \n",
       "\n",
       "                                   potkey  \\\n",
       "0    a868f19e-7fe9-457c-a662-cdbc4c0aadfa   \n",
       "1    191f9f50-bf2b-40e5-879a-559c90dcbefd   \n",
       "2    4caef4b3-935f-47a3-854d-72167213d2f7   \n",
       "3    0c463dfe-3bf7-47be-9d13-041cc425ec10   \n",
       "4    2ce1cf6d-9c87-4b29-89d2-9885a928fbe7   \n",
       "..                                    ...   \n",
       "556  f20cf667-a88e-4182-a166-d2ef87e68442   \n",
       "557  89af4abf-c79b-4fa7-a2c0-37990f1a575a   \n",
       "558  3b5bb102-ca9c-4dcc-b5c8-51e5ccfe603f   \n",
       "559  7e0a6520-e2a9-4ba4-b6ff-38931cd6bcc3   \n",
       "560  9c5c87ce-fe7a-4171-a481-9227c0055116   \n",
       "\n",
       "                                                poturl  units pair_style  \\\n",
       "0    https://potentials.nist.gov/pid/rest/local/pot...  metal        kim   \n",
       "1    https://potentials.nist.gov/pid/rest/local/pot...  metal        kim   \n",
       "2    https://potentials.nist.gov/pid/rest/local/pot...  metal        kim   \n",
       "3    https://potentials.nist.gov/pid/rest/local/pot...  metal        kim   \n",
       "4    https://potentials.nist.gov/pid/rest/local/pot...  metal        kim   \n",
       "..                                                 ...    ...        ...   \n",
       "556  https://potentials.nist.gov/pid/rest/local/pot...  metal        kim   \n",
       "557  https://potentials.nist.gov/pid/rest/local/pot...  metal        kim   \n",
       "558  https://potentials.nist.gov/pid/rest/local/pot...  metal        kim   \n",
       "559  https://potentials.nist.gov/pid/rest/local/pot...  metal        kim   \n",
       "560  https://potentials.nist.gov/pid/rest/local/pot...  metal        kim   \n",
       "\n",
       "      symbols elements  \n",
       "0         [C]      [C]  \n",
       "1         [C]      [C]  \n",
       "2         [C]      [C]  \n",
       "3        [Ni]     [Ni]  \n",
       "4        [Al]     [Al]  \n",
       "..        ...      ...  \n",
       "556       [Y]      [Y]  \n",
       "557      [Yb]     [Yb]  \n",
       "558      [Zn]     [Zn]  \n",
       "559      [Zr]     [Zr]  \n",
       "560  [user01]    [toy]  \n",
       "\n",
       "[561 rows x 14 columns]"
      ]
     },
     "execution_count": 4,
     "metadata": {},
     "output_type": "execute_result"
    }
   ],
   "source": [
    "r, df = potdb.get_kim_lammps_potentials(return_df=True)\n",
    "df"
   ]
  },
  {
   "cell_type": "code",
   "execution_count": 5,
   "id": "a5324b37-27e8-48cd-b478-0fc59d047dd5",
   "metadata": {},
   "outputs": [
    {
     "data": {
      "text/plain": [
       "PosixPath('/home/lmh1/LAMMPS/2022-06-23/lib/kim/installed-2.2.1/bin')"
      ]
     },
     "execution_count": 5,
     "metadata": {},
     "output_type": "execute_result"
    }
   ],
   "source": [
    "potentials.settings.kim_api_directory"
   ]
  },
  {
   "cell_type": "code",
   "execution_count": 38,
   "id": "7400a341-cf71-49c7-a551-f573e548fd51",
   "metadata": {},
   "outputs": [
    {
     "name": "stdout",
     "output_type": "stream",
     "text": [
      "/home/lmh1/.NISTpotentials/kim_models.txt\n"
     ]
    }
   ],
   "source": [
    "print(potentials.settings.kim_models_file)"
   ]
  },
  {
   "cell_type": "code",
   "execution_count": 23,
   "id": "ab9ce87f-e563-43e6-9eff-06d2bd90d3c2",
   "metadata": {},
   "outputs": [
    {
     "data": {
      "text/plain": [
       "dict_keys(['key', 'id', 'url', 'status', 'potkey', 'potid', 'poturl', 'dois', 'comments', 'units', 'atom_style', 'pair_style', 'filename', 'symbols', 'elements'])"
      ]
     },
     "execution_count": 23,
     "metadata": {},
     "output_type": "execute_result"
    }
   ],
   "source": [
    "r[0].queries.keys()"
   ]
  },
  {
   "cell_type": "code",
   "execution_count": 25,
   "id": "2748858b-124e-4021-8ec8-430a1cdd89e8",
   "metadata": {},
   "outputs": [
    {
     "data": {
      "text/plain": [
       "dict_keys(['key', 'shortcode', 'url', 'status', 'fullkimids', 'id', 'potkey', 'potid', 'units', 'atom_style', 'pair_style', 'symbols', 'elements'])"
      ]
     },
     "execution_count": 25,
     "metadata": {},
     "output_type": "execute_result"
    }
   ],
   "source": [
    "r[-1].queries.keys()"
   ]
  },
  {
   "cell_type": "code",
   "execution_count": 6,
   "id": "080f3e7e-c3ff-4984-a2bb-5690dd0542db",
   "metadata": {},
   "outputs": [
    {
     "data": {
      "text/plain": [
       "array([<potentials.record.PotentialLAMMPSKIM.PotentialLAMMPSKIM object at 0x7fd540e0b550>],\n",
       "      dtype=object)"
      ]
     },
     "execution_count": 6,
     "metadata": {},
     "output_type": "execute_result"
    }
   ],
   "source": [
    "potdb.get_lammps_potentials(pair_style='kim')"
   ]
  },
  {
   "cell_type": "code",
   "execution_count": 5,
   "id": "11178f5f-67dc-4e35-b863-005c1d47d015",
   "metadata": {},
   "outputs": [
    {
     "data": {
      "text/plain": [
       "Index(['name', 'id', 'key', 'url', 'potid', 'potkey', 'poturl', 'units',\n",
       "       'atom_style', 'allsymbols', 'pair_style', 'status', 'symbols',\n",
       "       'elements', 'artifacts', 'comments', 'dois', 'shortcode', 'fullkimids'],\n",
       "      dtype='object')"
      ]
     },
     "execution_count": 5,
     "metadata": {},
     "output_type": "execute_result"
    }
   ],
   "source": [
    "df.keys()"
   ]
  },
  {
   "cell_type": "code",
   "execution_count": 4,
   "id": "49a5b02b-5476-41fa-8629-8ce4e9082038",
   "metadata": {},
   "outputs": [
    {
     "name": "stdout",
     "output_type": "stream",
     "text": [
      "{\"interatomic-potential\": {\"key\": \"8asdn3\", \"id\": \"new-potential-demo\", \"URL\": \"web/url\", \"record-version\": \"2019-09-12\", \"description\": {\"notes\": {\"text\": \"Test potential init\"}}, \"element\": \"Ag\", \"other-element\": \"test\"}}\n"
     ]
    }
   ],
   "source": [
    "record.build_model()\n",
    "print(record.model.json())"
   ]
  },
  {
   "cell_type": "code",
   "execution_count": 5,
   "id": "08fea594-f8b3-45ea-8b3b-fba74a369ddb",
   "metadata": {},
   "outputs": [
    {
     "data": {
      "text/plain": [
       "{'key': <yabadaba.query.StrMatchQuery.StrMatchQuery at 0x7f01ac07d2d0>,\n",
       " 'id': <yabadaba.query.StrMatchQuery.StrMatchQuery at 0x7f01ab9c2b10>,\n",
       " 'url': <yabadaba.query.StrMatchQuery.StrMatchQuery at 0x7f01ab707e50>,\n",
       " 'recorddate': <yabadaba.query.DateMatchQuery.DateMatchQuery at 0x7f027c36c9d0>,\n",
       " 'year': <yabadaba.query.IntMatchQuery.IntMatchQuery at 0x7f01ab706810>,\n",
       " 'abstract': <yabadaba.query.StrContainsQuery.StrContainsQuery at 0x7f01ab726690>,\n",
       " 'notes': <yabadaba.query.StrMatchQuery.StrMatchQuery at 0x7f01ab726b90>,\n",
       " 'imp_key': <yabadaba.query.StrMatchQuery.StrMatchQuery at 0x7f01abe4d890>,\n",
       " 'imp_id': <yabadaba.query.StrMatchQuery.StrMatchQuery at 0x7f01ab72cb50>,\n",
       " 'imp_type': <yabadaba.query.StrMatchQuery.StrMatchQuery at 0x7f01ab72cd90>,\n",
       " 'fictionalelements': <yabadaba.query.ListContainsQuery.ListContainsQuery at 0x7f01abfacdd0>,\n",
       " 'elements': <yabadaba.query.ListContainsQuery.ListContainsQuery at 0x7f01abea9090>,\n",
       " 'othername': <yabadaba.query.StrMatchQuery.StrMatchQuery at 0x7f01ac302790>,\n",
       " 'surnames': <yabadaba.query.ListContainsQuery.ListContainsQuery at 0x7f01ab72ddd0>,\n",
       " 'author': <yabadaba.query.ListContainsQuery.ListContainsQuery at 0x7f01ab72de50>}"
      ]
     },
     "execution_count": 5,
     "metadata": {},
     "output_type": "execute_result"
    }
   ],
   "source": [
    "record.queries"
   ]
  },
  {
   "cell_type": "code",
   "execution_count": 6,
   "id": "f2d978cd-6348-40a1-b1cd-d85543649a2f",
   "metadata": {},
   "outputs": [
    {
     "data": {
      "text/plain": [
       "{'name': 'potential.new-potential-demo',\n",
       " 'key': '8asdn3',\n",
       " 'id': 'new-potential-demo',\n",
       " 'url': 'web/url',\n",
       " 'recorddate': datetime.date(2019, 9, 12),\n",
       " 'citations': [],\n",
       " 'notes': 'Test potential init',\n",
       " 'implementations': [],\n",
       " 'fictionalelements': None,\n",
       " 'elements': ['Ag'],\n",
       " 'othername': 'test',\n",
       " 'surnames': []}"
      ]
     },
     "execution_count": 6,
     "metadata": {},
     "output_type": "execute_result"
    }
   ],
   "source": [
    "record.metadata()"
   ]
  },
  {
   "cell_type": "code",
   "execution_count": 39,
   "id": "9a46c7d7-358a-40a7-a71d-5940a0f5e41b",
   "metadata": {},
   "outputs": [],
   "source": [
    "record = potentials.load_record('Citation',\n",
    "                                        doctype = 'journal',\n",
    "                                        title = 'Something something something turn into a pumpkin',\n",
    "                                        publication = 'Who Wants to Know',\n",
    "                                        year = '1650',\n",
    "                                        month = '11',\n",
    "                                        volume = '4',\n",
    "                                        issue = '1',\n",
    "                                        abstract = 'Pumpkin spice lattes, cookies, muffins, pancakes, ice cream, breads and martinis. Pumpkin spice everywhere. Is is all a lie?',\n",
    "                                        pages = '1-999',\n",
    "                                        doi = '12.3456/wwtk.0asf8.08asfgj9')"
   ]
  },
  {
   "cell_type": "code",
   "execution_count": 33,
   "id": "3cac7257-ce08-429a-80d0-2d65627f7e86",
   "metadata": {},
   "outputs": [],
   "source": [
    "record.add_author(givenname='A.P.', surname='McCormick', suffix='Jr.')"
   ]
  },
  {
   "cell_type": "code",
   "execution_count": 40,
   "id": "04a63629-53d4-4d5b-b1db-5533e4c49dd7",
   "metadata": {},
   "outputs": [
    {
     "data": {
      "text/plain": [
       "'@article{1650-,\\n doi = {12.3456/wwtk.0asf8.08asfgj9},\\n journal = {Who Wants to Know},\\n month = {November},\\n number = {1},\\n pages = {1-999},\\n title = {Something something something turn into a pumpkin},\\n volume = {4},\\n year = {1650}\\n}\\n'"
      ]
     },
     "execution_count": 40,
     "metadata": {},
     "output_type": "execute_result"
    }
   ],
   "source": [
    "record.build_bibtex()\n",
    "record.bibtex"
   ]
  },
  {
   "cell_type": "code",
   "execution_count": 41,
   "id": "3ae9f2cd-53ca-44c8-8a8b-65b58517e16c",
   "metadata": {},
   "outputs": [
    {
     "data": {
      "text/plain": [
       "'{\"citation\": {\"document-type\": \"journal\", \"title\": \"Something something something turn into a pumpkin\", \"publication-name\": \"Who Wants to Know\", \"publication-date\": {\"year\": 1650, \"month\": \"--11\"}, \"volume\": \"4\", \"issue\": \"1\", \"abstract\": \"Pumpkin spice lattes, cookies, muffins, pancakes, ice cream, breads and martinis. Pumpkin spice everywhere. Is is all a lie?\", \"pages\": \"1-999\", \"DOI\": \"12.3456/wwtk.0asf8.08asfgj9\", \"bibtex\": \"@article{1650-,\\\\n doi = {12.3456/wwtk.0asf8.08asfgj9},\\\\n journal = {Who Wants to Know},\\\\n month = {November},\\\\n number = {1},\\\\n pages = {1-999},\\\\n title = {Something something something turn into a pumpkin},\\\\n volume = {4},\\\\n year = {1650}\\\\n}\\\\n\"}}'"
      ]
     },
     "execution_count": 41,
     "metadata": {},
     "output_type": "execute_result"
    }
   ],
   "source": [
    "record.build_model().json()"
   ]
  },
  {
   "cell_type": "code",
   "execution_count": 42,
   "id": "b0e296d1-0db0-4f24-a8fb-e4f5bc529d92",
   "metadata": {},
   "outputs": [
    {
     "data": {
      "text/plain": [
       "{'name': '12.3456_wwtk.0asf8.08asfgj9',\n",
       " 'doctype': 'journal',\n",
       " 'title': 'Something something something turn into a pumpkin',\n",
       " 'author': [],\n",
       " 'publication': 'Who Wants to Know',\n",
       " 'year': 1650,\n",
       " 'month': 11,\n",
       " 'volume': '4',\n",
       " 'issue': '1',\n",
       " 'abstract': 'Pumpkin spice lattes, cookies, muffins, pancakes, ice cream, breads and martinis. Pumpkin spice everywhere. Is is all a lie?',\n",
       " 'pages': '1-999',\n",
       " 'doi': '12.3456/wwtk.0asf8.08asfgj9',\n",
       " 'url': None,\n",
       " 'bibtex': '@article{1650-,\\n doi = {12.3456/wwtk.0asf8.08asfgj9},\\n journal = {Who Wants to Know},\\n month = {November},\\n number = {1},\\n pages = {1-999},\\n title = {Something something something turn into a pumpkin},\\n volume = {4},\\n year = {1650}\\n}\\n',\n",
       " 'year_authors': '1650-'}"
      ]
     },
     "execution_count": 42,
     "metadata": {},
     "output_type": "execute_result"
    }
   ],
   "source": [
    "record.metadata()"
   ]
  },
  {
   "cell_type": "code",
   "execution_count": 6,
   "id": "dd8a2563-5626-4942-86a4-7e0e761d76ab",
   "metadata": {},
   "outputs": [],
   "source": [
    "potdb = potentials.Database(localpath=testdb_host, remote=False)"
   ]
  },
  {
   "cell_type": "code",
   "execution_count": 7,
   "id": "e431d27f-2f7f-410c-bad1-c7bbaf35e8a3",
   "metadata": {},
   "outputs": [
    {
     "ename": "KeyError",
     "evalue": "'year'",
     "output_type": "error",
     "traceback": [
      "\u001b[0;31m---------------------------------------------------------------------------\u001b[0m",
      "\u001b[0;31mKeyError\u001b[0m                                  Traceback (most recent call last)",
      "Cell \u001b[0;32mIn[7], line 1\u001b[0m\n\u001b[0;32m----> 1\u001b[0m \u001b[43mpotdb\u001b[49m\u001b[38;5;241;43m.\u001b[39;49m\u001b[43mget_potentials\u001b[49m\u001b[43m(\u001b[49m\u001b[43mreturn_df\u001b[49m\u001b[38;5;241;43m=\u001b[39;49m\u001b[38;5;28;43;01mTrue\u001b[39;49;00m\u001b[43m)\u001b[49m\n",
      "File \u001b[0;32m~/Python-packages/potentials/potentials/Database/_potential.py:86\u001b[0m, in \u001b[0;36mget_potentials\u001b[0;34m(self, name, key, id, notes, fictionalelements, elements, othername, year, author, abstract, local, remote, refresh_cache, return_df, verbose)\u001b[0m\n\u001b[1;32m     15\u001b[0m \u001b[38;5;28;01mdef\u001b[39;00m \u001b[38;5;21mget_potentials\u001b[39m(\u001b[38;5;28mself\u001b[39m, \n\u001b[1;32m     16\u001b[0m                    name: Union[\u001b[38;5;28mstr\u001b[39m, \u001b[38;5;28mlist\u001b[39m, \u001b[38;5;28;01mNone\u001b[39;00m] \u001b[38;5;241m=\u001b[39m \u001b[38;5;28;01mNone\u001b[39;00m,\n\u001b[1;32m     17\u001b[0m                    key: Union[\u001b[38;5;28mstr\u001b[39m, \u001b[38;5;28mlist\u001b[39m, \u001b[38;5;28;01mNone\u001b[39;00m] \u001b[38;5;241m=\u001b[39m \u001b[38;5;28;01mNone\u001b[39;00m,\n\u001b[0;32m   (...)\u001b[0m\n\u001b[1;32m     30\u001b[0m                    verbose: \u001b[38;5;28mbool\u001b[39m \u001b[38;5;241m=\u001b[39m \u001b[38;5;28;01mFalse\u001b[39;00m\n\u001b[1;32m     31\u001b[0m                    ) \u001b[38;5;241m-\u001b[39m\u001b[38;5;241m>\u001b[39m Union[np\u001b[38;5;241m.\u001b[39mndarray, Tuple[np\u001b[38;5;241m.\u001b[39mndarray, pd\u001b[38;5;241m.\u001b[39mDataFrame]]:\n\u001b[1;32m     32\u001b[0m \u001b[38;5;250m    \u001b[39m\u001b[38;5;124;03m\"\"\"\u001b[39;00m\n\u001b[1;32m     33\u001b[0m \u001b[38;5;124;03m    Gets all matching potentials from the database.\u001b[39;00m\n\u001b[1;32m     34\u001b[0m \n\u001b[0;32m   (...)\u001b[0m\n\u001b[1;32m     83\u001b[0m \u001b[38;5;124;03m        A table of the records' metadata.  Returned if return_df = True.\u001b[39;00m\n\u001b[1;32m     84\u001b[0m \u001b[38;5;124;03m    \"\"\"\u001b[39;00m\n\u001b[0;32m---> 86\u001b[0m     \u001b[38;5;28;01mreturn\u001b[39;00m \u001b[38;5;28;43mself\u001b[39;49m\u001b[38;5;241;43m.\u001b[39;49m\u001b[43mget_records\u001b[49m\u001b[43m(\u001b[49m\n\u001b[1;32m     87\u001b[0m \u001b[43m            \u001b[49m\u001b[43mstyle\u001b[49m\u001b[38;5;241;43m=\u001b[39;49m\u001b[38;5;124;43m'\u001b[39;49m\u001b[38;5;124;43mPotential\u001b[39;49m\u001b[38;5;124;43m'\u001b[39;49m\u001b[43m,\u001b[49m\u001b[43m \u001b[49m\u001b[43mname\u001b[49m\u001b[38;5;241;43m=\u001b[39;49m\u001b[43mname\u001b[49m\u001b[43m,\u001b[49m\u001b[43m \u001b[49m\u001b[43mlocal\u001b[49m\u001b[38;5;241;43m=\u001b[39;49m\u001b[43mlocal\u001b[49m\u001b[43m,\u001b[49m\u001b[43m \u001b[49m\u001b[43mremote\u001b[49m\u001b[38;5;241;43m=\u001b[39;49m\u001b[43mremote\u001b[49m\u001b[43m,\u001b[49m\n\u001b[1;32m     88\u001b[0m \u001b[43m            \u001b[49m\u001b[43mrefresh_cache\u001b[49m\u001b[38;5;241;43m=\u001b[39;49m\u001b[43mrefresh_cache\u001b[49m\u001b[43m,\u001b[49m\u001b[43m \u001b[49m\u001b[43mreturn_df\u001b[49m\u001b[38;5;241;43m=\u001b[39;49m\u001b[43mreturn_df\u001b[49m\u001b[43m,\u001b[49m\u001b[43m \u001b[49m\u001b[43mverbose\u001b[49m\u001b[38;5;241;43m=\u001b[39;49m\u001b[43mverbose\u001b[49m\u001b[43m,\u001b[49m\n\u001b[1;32m     89\u001b[0m \u001b[43m            \u001b[49m\u001b[43mkey\u001b[49m\u001b[38;5;241;43m=\u001b[39;49m\u001b[43mkey\u001b[49m\u001b[43m,\u001b[49m\u001b[43m \u001b[49m\u001b[38;5;28;43mid\u001b[39;49m\u001b[38;5;241;43m=\u001b[39;49m\u001b[38;5;28;43mid\u001b[39;49m\u001b[43m,\u001b[49m\u001b[43m \u001b[49m\u001b[43mnotes\u001b[49m\u001b[38;5;241;43m=\u001b[39;49m\u001b[43mnotes\u001b[49m\u001b[43m,\u001b[49m\u001b[43m \u001b[49m\u001b[43mfictionalelements\u001b[49m\u001b[38;5;241;43m=\u001b[39;49m\u001b[43mfictionalelements\u001b[49m\u001b[43m,\u001b[49m\u001b[43m \u001b[49m\u001b[43melements\u001b[49m\u001b[38;5;241;43m=\u001b[39;49m\u001b[43melements\u001b[49m\u001b[43m,\u001b[49m\n\u001b[1;32m     90\u001b[0m \u001b[43m            \u001b[49m\u001b[43mothername\u001b[49m\u001b[38;5;241;43m=\u001b[39;49m\u001b[43mothername\u001b[49m\u001b[43m,\u001b[49m\u001b[43m \u001b[49m\u001b[43myear\u001b[49m\u001b[38;5;241;43m=\u001b[39;49m\u001b[43myear\u001b[49m\u001b[43m,\u001b[49m\u001b[43m \u001b[49m\u001b[43mauthor\u001b[49m\u001b[38;5;241;43m=\u001b[39;49m\u001b[43mauthor\u001b[49m\u001b[43m,\u001b[49m\n\u001b[1;32m     91\u001b[0m \u001b[43m            \u001b[49m\u001b[43mabstract\u001b[49m\u001b[38;5;241;43m=\u001b[39;49m\u001b[43mabstract\u001b[49m\u001b[43m)\u001b[49m\n",
      "File \u001b[0;32m~/Python-packages/potentials/potentials/Database/_record.py:95\u001b[0m, in \u001b[0;36mget_records\u001b[0;34m(self, style, name, local, remote, refresh_cache, return_df, verbose, **kwargs)\u001b[0m\n\u001b[1;32m     93\u001b[0m     \u001b[38;5;28;01melse\u001b[39;00m:\n\u001b[1;32m     94\u001b[0m         kwargs[\u001b[38;5;124m'\u001b[39m\u001b[38;5;124mrefresh_cache\u001b[39m\u001b[38;5;124m'\u001b[39m] \u001b[38;5;241m=\u001b[39m refresh_cache\n\u001b[0;32m---> 95\u001b[0m l_recs, l_df \u001b[38;5;241m=\u001b[39m \u001b[38;5;28;43mself\u001b[39;49m\u001b[38;5;241;43m.\u001b[39;49m\u001b[43mlocal_database\u001b[49m\u001b[38;5;241;43m.\u001b[39;49m\u001b[43mget_records\u001b[49m\u001b[43m(\u001b[49m\u001b[43mstyle\u001b[49m\u001b[43m,\u001b[49m\u001b[43m \u001b[49m\u001b[43mname\u001b[49m\u001b[38;5;241;43m=\u001b[39;49m\u001b[43mname\u001b[49m\u001b[43m,\u001b[49m\u001b[43m \u001b[49m\u001b[43mreturn_df\u001b[49m\u001b[38;5;241;43m=\u001b[39;49m\u001b[38;5;28;43;01mTrue\u001b[39;49;00m\u001b[43m,\u001b[49m\u001b[43m \u001b[49m\u001b[38;5;241;43m*\u001b[39;49m\u001b[38;5;241;43m*\u001b[39;49m\u001b[43mkwargs\u001b[49m\u001b[43m)\u001b[49m\n\u001b[1;32m     96\u001b[0m \u001b[38;5;28;01mif\u001b[39;00m \u001b[38;5;28mlen\u001b[39m(l_recs) \u001b[38;5;241m==\u001b[39m \u001b[38;5;241m0\u001b[39m:\n\u001b[1;32m     97\u001b[0m     l_df \u001b[38;5;241m=\u001b[39m pd\u001b[38;5;241m.\u001b[39mDataFrame({\u001b[38;5;124m'\u001b[39m\u001b[38;5;124mname\u001b[39m\u001b[38;5;124m'\u001b[39m:[]})\n",
      "File \u001b[0;32m~/Python-packages/yabadaba/yabadaba/database/LocalDatabase.py:213\u001b[0m, in \u001b[0;36mLocalDatabase.get_records\u001b[0;34m(self, style, return_df, refresh_cache, **kwargs)\u001b[0m\n\u001b[1;32m    210\u001b[0m     style \u001b[38;5;241m=\u001b[39m \u001b[38;5;28mself\u001b[39m\u001b[38;5;241m.\u001b[39mselect_record_style()\n\u001b[1;32m    212\u001b[0m \u001b[38;5;66;03m# Get df\u001b[39;00m\n\u001b[0;32m--> 213\u001b[0m df \u001b[38;5;241m=\u001b[39m \u001b[38;5;28;43mself\u001b[39;49m\u001b[38;5;241;43m.\u001b[39;49m\u001b[43mget_records_df\u001b[49m\u001b[43m(\u001b[49m\u001b[43mstyle\u001b[49m\u001b[43m,\u001b[49m\u001b[43m \u001b[49m\u001b[43mrefresh_cache\u001b[49m\u001b[38;5;241;43m=\u001b[39;49m\u001b[43mrefresh_cache\u001b[49m\u001b[43m,\u001b[49m\u001b[43m \u001b[49m\u001b[38;5;241;43m*\u001b[39;49m\u001b[38;5;241;43m*\u001b[39;49m\u001b[43mkwargs\u001b[49m\u001b[43m)\u001b[49m\n\u001b[1;32m    215\u001b[0m \u001b[38;5;66;03m# Load only the matching records\u001b[39;00m\n\u001b[1;32m    216\u001b[0m records \u001b[38;5;241m=\u001b[39m []\n",
      "File \u001b[0;32m~/Python-packages/yabadaba/yabadaba/database/LocalDatabase.py:282\u001b[0m, in \u001b[0;36mLocalDatabase.get_records_df\u001b[0;34m(self, style, refresh_cache, **kwargs)\u001b[0m\n\u001b[1;32m    279\u001b[0m     cache \u001b[38;5;241m=\u001b[39m \u001b[38;5;28mself\u001b[39m\u001b[38;5;241m.\u001b[39mcache(style, refresh\u001b[38;5;241m=\u001b[39mrefresh_cache)\n\u001b[1;32m    281\u001b[0m \u001b[38;5;66;03m# Filter based on the record's pandasfilter method\u001b[39;00m\n\u001b[0;32m--> 282\u001b[0m mask \u001b[38;5;241m=\u001b[39m \u001b[43mload_record\u001b[49m\u001b[43m(\u001b[49m\u001b[43mstyle\u001b[49m\u001b[43m)\u001b[49m\u001b[38;5;241;43m.\u001b[39;49m\u001b[43mpandasfilter\u001b[49m\u001b[43m(\u001b[49m\u001b[43mcache\u001b[49m\u001b[43m,\u001b[49m\u001b[43m \u001b[49m\u001b[38;5;241;43m*\u001b[39;49m\u001b[38;5;241;43m*\u001b[39;49m\u001b[43mkwargs\u001b[49m\u001b[43m)\u001b[49m\n\u001b[1;32m    283\u001b[0m df \u001b[38;5;241m=\u001b[39m cache[mask]\u001b[38;5;241m.\u001b[39mreset_index(drop\u001b[38;5;241m=\u001b[39m\u001b[38;5;28;01mTrue\u001b[39;00m)\n\u001b[1;32m    285\u001b[0m \u001b[38;5;28;01mreturn\u001b[39;00m df\n",
      "File \u001b[0;32m~/Python-packages/yabadaba/yabadaba/record/Record.py:353\u001b[0m, in \u001b[0;36mRecord.pandasfilter\u001b[0;34m(self, dataframe, name, **kwargs)\u001b[0m\n\u001b[1;32m    351\u001b[0m \u001b[38;5;66;03m# Apply queries based on given kwargs\u001b[39;00m\n\u001b[1;32m    352\u001b[0m \u001b[38;5;28;01mfor\u001b[39;00m key \u001b[38;5;129;01min\u001b[39;00m kwargs:\n\u001b[0;32m--> 353\u001b[0m     matches \u001b[38;5;241m=\u001b[39m (matches \u001b[38;5;241m&\u001b[39m \u001b[43mqueries\u001b[49m\u001b[43m[\u001b[49m\u001b[43mkey\u001b[49m\u001b[43m]\u001b[49m\u001b[38;5;241m.\u001b[39mpandas(dataframe, kwargs[key]))\n\u001b[1;32m    355\u001b[0m \u001b[38;5;28;01mreturn\u001b[39;00m matches\n",
      "\u001b[0;31mKeyError\u001b[0m: 'year'"
     ]
    }
   ],
   "source": [
    "potdb.get_potentials(return_df=True)"
   ]
  },
  {
   "cell_type": "code",
   "execution_count": null,
   "id": "a1f5c175-78a4-47d0-93ac-3b3d973eda00",
   "metadata": {},
   "outputs": [],
   "source": []
  },
  {
   "cell_type": "code",
   "execution_count": 3,
   "id": "4ce392e8-56a8-4a88-a847-a603c05593e2",
   "metadata": {},
   "outputs": [],
   "source": [
    "actions, df = potdb.get_actions(return_df=True, refresh_cache=True)\n",
    "assert len(actions) == 3\n",
    "\n"
   ]
  },
  {
   "cell_type": "code",
   "execution_count": 4,
   "id": "ed4dac1d-e0de-4207-afc6-65db4f374976",
   "metadata": {},
   "outputs": [
    {
     "data": {
      "text/plain": [
       "[{'key': 'd71da5f1-db8a-46ad-a78d-c026768200af',\n",
       "  'id': '2009--Purja-Pun-G-P-Mishin-Y--Ni-Al',\n",
       "  'dois': ['10.1080/14786430903258184', '10.1080/14786430903252356'],\n",
       "  'fictionalelements': ['Ni', 'Al'],\n",
       "  'elements': None,\n",
       "  'othername': 'NiAl3'}]"
      ]
     },
     "execution_count": 4,
     "metadata": {},
     "output_type": "execute_result"
    }
   ],
   "source": [
    "df.potentials[2]"
   ]
  },
  {
   "cell_type": "code",
   "execution_count": 5,
   "id": "af76246b-4764-434c-a58b-379238e6997c",
   "metadata": {},
   "outputs": [
    {
     "data": {
      "text/plain": [
       "[{'key': 'd71da5f1-db8a-46ad-a78d-c026768200af',\n",
       "  'id': '2009--Purja-Pun-G-P-Mishin-Y--Ni-Al',\n",
       "  'dois': ['10.1080/14786430903258184', '10.1080/14786430903252356'],\n",
       "  'fictionalelements': ['Ni', 'Al'],\n",
       "  'elements': None,\n",
       "  'othername': 'NiAl3'}]"
      ]
     },
     "execution_count": 5,
     "metadata": {},
     "output_type": "execute_result"
    }
   ],
   "source": [
    "df.potentials[2]"
   ]
  },
  {
   "cell_type": "code",
   "execution_count": 11,
   "id": "afe14260-bbca-477c-9150-06f85749bd25",
   "metadata": {},
   "outputs": [],
   "source": [
    "actions = potdb.get_records('Action', date='2099-10-23')\n",
    "assert len(actions) == 1\n",
    "\n",
    "actions = potdb.get_records('Action', type=['site change', 'new posting'])\n",
    "assert len(actions) == 2\n",
    "\n",
    "actions = potdb.get_records('Action', potential_key='3837b6da-05c4-4148-97cd-90b26a2092df')\n",
    "assert len(actions) == 1\n",
    "\n",
    "actions = potdb.get_records('Action', potential_id='2009--Purja-Pun-G-P-Mishin-Y--Ni-Al')\n",
    "assert len(actions) == 1\n",
    "\n",
    "actions = potdb.get_records('Action', dois='10.1080/14786430903258184')\n",
    "assert len(actions) == 1\n",
    "\n",
    "actions = potdb.get_records('Action', elements='Cu')\n",
    "assert len(actions) == 1\n",
    "\n",
    "actions = potdb.get_records('Action', fictionalelements='Ni')\n",
    "assert len(actions) == 1\n",
    "\n",
    "actions = potdb.get_records('Action', othername='NiAl3')\n",
    "assert len(actions) == 1\n",
    "\n",
    "actions = potdb.get_records('Action', comment='example')\n",
    "assert len(actions) == 3\n",
    "\n",
    "\n",
    "\n"
   ]
  },
  {
   "cell_type": "code",
   "execution_count": 8,
   "id": "e7221075-3a0c-4f67-b62f-0cd0a8fb858d",
   "metadata": {},
   "outputs": [
    {
     "data": {
      "text/plain": [
       "array([], dtype=float64)"
      ]
     },
     "execution_count": 8,
     "metadata": {},
     "output_type": "execute_result"
    }
   ],
   "source": [
    "actions = potdb.get_records('Action', fictionalelements='Po')\n",
    "actions"
   ]
  },
  {
   "cell_type": "code",
   "execution_count": 8,
   "id": "94cf85a2-da2c-49c7-8af9-067bdb506ce0",
   "metadata": {},
   "outputs": [],
   "source": [
    "action = potentials.load_record('Action')"
   ]
  },
  {
   "cell_type": "code",
   "execution_count": 9,
   "id": "f9a627d7-8a47-49ba-a7c2-205bfe7ad2ff",
   "metadata": {},
   "outputs": [
    {
     "data": {
      "text/plain": [
       "{'date': <yabadaba.query.DateMatchQuery.DateMatchQuery at 0x7f57909d4210>,\n",
       " 'type': <yabadaba.query.StrMatchQuery.StrMatchQuery at 0x7f579136b950>,\n",
       " 'potential_key': <yabadaba.query.StrMatchQuery.StrMatchQuery at 0x7f57909d4a50>,\n",
       " 'potential_id': <yabadaba.query.StrMatchQuery.StrMatchQuery at 0x7f57909d3390>,\n",
       " 'dois': <yabadaba.query.ListContainsQuery.ListContainsQuery at 0x7f57909d3150>,\n",
       " 'fictionalelements': <yabadaba.query.ListContainsQuery.ListContainsQuery at 0x7f57909d3c10>,\n",
       " 'elements': <yabadaba.query.ListContainsQuery.ListContainsQuery at 0x7f57909d2a90>,\n",
       " 'othername': <yabadaba.query.StrMatchQuery.StrMatchQuery at 0x7f57909d2b10>,\n",
       " 'comment': <yabadaba.query.StrContainsQuery.StrContainsQuery at 0x7f57909d06d0>}"
      ]
     },
     "execution_count": 9,
     "metadata": {},
     "output_type": "execute_result"
    }
   ],
   "source": [
    "action.queries"
   ]
  },
  {
   "cell_type": "code",
   "execution_count": 9,
   "id": "599603ad-a7c9-4bc0-88a0-3889cd594de5",
   "metadata": {},
   "outputs": [
    {
     "ename": "IndexError",
     "evalue": "index 2 is out of bounds for axis 0 with size 0",
     "output_type": "error",
     "traceback": [
      "\u001b[0;31m---------------------------------------------------------------------------\u001b[0m",
      "\u001b[0;31mIndexError\u001b[0m                                Traceback (most recent call last)",
      "Cell \u001b[0;32mIn[9], line 1\u001b[0m\n\u001b[0;32m----> 1\u001b[0m \u001b[43mactions\u001b[49m\u001b[43m[\u001b[49m\u001b[38;5;241;43m2\u001b[39;49m\u001b[43m]\u001b[49m\u001b[38;5;241m.\u001b[39mmetadata()\n",
      "\u001b[0;31mIndexError\u001b[0m: index 2 is out of bounds for axis 0 with size 0"
     ]
    }
   ],
   "source": [
    "actions[0].metadata()"
   ]
  },
  {
   "cell_type": "code",
   "execution_count": 20,
   "id": "c388a3ba-858c-4f10-9f6e-877cf45ab7f3",
   "metadata": {},
   "outputs": [],
   "source": [
    "action = potentials.load_record('Action')\n",
    "action.add_potential(potential_key='asdf', potential_id='ppppp', dois=['asdf', '525'], elements='B', fictionalelements='Po', othername='Rob')"
   ]
  },
  {
   "cell_type": "code",
   "execution_count": 23,
   "id": "33dfa4cc-14fa-4e51-a823-8feb187eae37",
   "metadata": {},
   "outputs": [
    {
     "data": {
      "text/plain": [
       "'{\"potential-info\": {\"key\": \"asdf\", \"id\": \"ppppp\", \"doi\": [\"asdf\", \"525\"], \"fictional-element\": \"Po\", \"element\": \"B\", \"other-element\": \"Rob\"}}'"
      ]
     },
     "execution_count": 23,
     "metadata": {},
     "output_type": "execute_result"
    }
   ],
   "source": [
    "action.potentials[0].build_model().json()"
   ]
  },
  {
   "cell_type": "code",
   "execution_count": 3,
   "id": "9c3be906-d9cf-42c4-93b1-b85c46da2ede",
   "metadata": {},
   "outputs": [],
   "source": [
    "action.add_potential(key='asdf', id='25', element='Al')"
   ]
  },
  {
   "cell_type": "code",
   "execution_count": 4,
   "id": "ef301f28-da4d-4542-9f79-67f2e0b67dc0",
   "metadata": {},
   "outputs": [
    {
     "data": {
      "text/plain": [
       "{'name': 'bob',\n",
       " 'key': 'asdf',\n",
       " 'id': 'ppppp',\n",
       " 'dois': ['asdf', '525'],\n",
       " 'fictionalelements': ['Po'],\n",
       " 'elements': None,\n",
       " 'othername': 'Rob'}"
      ]
     },
     "execution_count": 4,
     "metadata": {},
     "output_type": "execute_result"
    }
   ],
   "source": [
    "pot = potentials.record.Action.PotInfo(name='bob', key='asdf', id='ppppp', dois=['asdf', '525'], fictionalelements='Po', othername='Rob')\n",
    "pot.metadata()"
   ]
  },
  {
   "cell_type": "code",
   "execution_count": 12,
   "id": "be5512b8-b267-4a58-9262-6a93184f04db",
   "metadata": {},
   "outputs": [
    {
     "data": {
      "text/plain": [
       "{'name': 'bob',\n",
       " 'key': 'a',\n",
       " 'id': 'ppppp',\n",
       " 'dois': ['asdf', '525'],\n",
       " 'fictionalelements': ['Po'],\n",
       " 'elements': ['asdf'],\n",
       " 'othername': 'Rob'}"
      ]
     },
     "execution_count": 12,
     "metadata": {},
     "output_type": "execute_result"
    }
   ],
   "source": [
    "pot.set_values(name='bob', elements='asdf', key='a', potential_key='b')\n",
    "pot.metadata()"
   ]
  },
  {
   "cell_type": "code",
   "execution_count": 5,
   "id": "f5961b2b-5b47-45b6-b505-5305877d7331",
   "metadata": {},
   "outputs": [],
   "source": [
    "action.potentials[0].key = 'asef'"
   ]
  },
  {
   "cell_type": "code",
   "execution_count": 11,
   "id": "9c743e4d-f373-422a-8b47-1eb3fb735a70",
   "metadata": {},
   "outputs": [
    {
     "data": {
      "text/plain": [
       "'potential_key'"
      ]
     },
     "execution_count": 11,
     "metadata": {},
     "output_type": "execute_result"
    }
   ],
   "source": [
    "pot.value_objects[0].name"
   ]
  },
  {
   "cell_type": "code",
   "execution_count": 8,
   "id": "33af9c7f-2fd2-4aea-8633-69c8a38dd97a",
   "metadata": {},
   "outputs": [
    {
     "data": {
      "text/plain": [
       "datetime.date(2024, 10, 23)"
      ]
     },
     "execution_count": 8,
     "metadata": {},
     "output_type": "execute_result"
    }
   ],
   "source": [
    "date.today()"
   ]
  },
  {
   "cell_type": "code",
   "execution_count": 16,
   "id": "0e7c67bd-13b7-4cc4-8d62-043330b35b2f",
   "metadata": {},
   "outputs": [],
   "source": [
    "action = assign_init_test()"
   ]
  },
  {
   "cell_type": "code",
   "execution_count": 17,
   "id": "7c95e0ca-a004-412f-92d1-ab716b46017c",
   "metadata": {},
   "outputs": [
    {
     "data": {
      "text/plain": [
       "'{\"action\": {\"date\": \"2019-09-12\", \"given-name\": \"retraction\", \"comment\": \"boo boo\"}}'"
      ]
     },
     "execution_count": 17,
     "metadata": {},
     "output_type": "execute_result"
    }
   ],
   "source": [
    "action.build_model().json()"
   ]
  },
  {
   "cell_type": "code",
   "execution_count": 19,
   "id": "351471d7-0646-4a63-b48b-8b4bc521624c",
   "metadata": {},
   "outputs": [
    {
     "data": {
      "text/plain": [
       "{'name': '2019-09-12 boo boo',\n",
       " 'date': datetime.date(2019, 9, 12),\n",
       " 'type': 'retraction',\n",
       " 'potentials': [],\n",
       " 'comment': 'boo boo'}"
      ]
     },
     "execution_count": 19,
     "metadata": {},
     "output_type": "execute_result"
    }
   ],
   "source": [
    "action.metadata()"
   ]
  },
  {
   "cell_type": "code",
   "execution_count": 20,
   "id": "7a3cc9cd-9257-4cca-a30c-bbba74996299",
   "metadata": {},
   "outputs": [],
   "source": [
    "action.date = '2011-09-01'"
   ]
  },
  {
   "cell_type": "code",
   "execution_count": 21,
   "id": "44c3acbc-c934-4fc4-959b-f34f32759293",
   "metadata": {},
   "outputs": [
    {
     "data": {
      "text/plain": [
       "datetime.date(2011, 9, 1)"
      ]
     },
     "execution_count": 21,
     "metadata": {},
     "output_type": "execute_result"
    }
   ],
   "source": [
    "action.date"
   ]
  },
  {
   "cell_type": "code",
   "execution_count": null,
   "id": "3dd8d36a-1ac3-4e04-9735-e3c884193a4b",
   "metadata": {},
   "outputs": [],
   "source": []
  }
 ],
 "metadata": {
  "kernelspec": {
   "display_name": "ipr",
   "language": "python",
   "name": "ipr"
  },
  "language_info": {
   "codemirror_mode": {
    "name": "ipython",
    "version": 3
   },
   "file_extension": ".py",
   "mimetype": "text/x-python",
   "name": "python",
   "nbconvert_exporter": "python",
   "pygments_lexer": "ipython3",
   "version": "3.11.11"
  }
 },
 "nbformat": 4,
 "nbformat_minor": 5
}
